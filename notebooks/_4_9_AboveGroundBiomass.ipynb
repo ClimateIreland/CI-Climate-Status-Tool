{
 "cells": [
  {
   "cell_type": "code",
   "execution_count": 4,
   "source": [
    "# to access root modules\n",
    "if __name__ == \"__main__\" and __package__ is None:\n",
    "    from sys import path\n",
    "    from os.path import dirname as dir\n",
    "    path.append(dir(path[0])+'/dash_app')\n",
    "    __package__ = \"dash_app\""
   ],
   "outputs": [],
   "metadata": {}
  },
  {
   "cell_type": "code",
   "execution_count": 5,
   "source": [
    "import pandas as pd\n",
    "import numpy as np\n",
    "import datetime\n",
    "import dateutil\n",
    "import plotly.graph_objects as go\n",
    "from plotly.subplots import make_subplots\n",
    "from charts import stations_map, map_columns, stations_map_hovertemplate\n",
    "from settings import *\n"
   ],
   "outputs": [
    {
     "output_type": "stream",
     "name": "stdout",
     "text": [
      "DATA_PATH: /Users/dan/ClimateIreland/CI-Status-Report/CI-Status-Report-Dash/data/\n"
     ]
    }
   ],
   "metadata": {}
  },
  {
   "cell_type": "code",
   "execution_count": 6,
   "source": [
    "data_path = DATA_PATH+'Terrestrial_Domain/4.9AboveGroundBiomass/Figure4.17/'\n",
    "data_csv = data_path + 'Figure4.17_data.csv'"
   ],
   "outputs": [],
   "metadata": {}
  },
  {
   "cell_type": "code",
   "execution_count": 8,
   "source": [
    "\"\"\"\n",
    "Tidy data for charts\n",
    "\"\"\"\n",
    "columns_dict = {\n",
    "               'ownership':'Unnamed: 0',\n",
    "               '2006_m3':\"1000's m3\",\n",
    "                '2012_m3':\"1000's m3.1\",\n",
    "                '2017_m3':\"1000's m3.2\",\n",
    "                '2006_%':\"%\",\n",
    "                '2012_%':\"%.1\",\n",
    "                '2017_%':\"%.2\",\n",
    "                  }\n",
    "xls = pd.ExcelFile(\n",
    "    data_path+'TotalGrowinStockVolume_byCounty.xlsx')\n",
    "original_df = pd.read_excel(xls, 'GrowingStockVolumeByOwnership', skiprows=[0,1,7])\n",
    "df = map_columns(columns_dict, original_df)\n",
    "df_06 = pd.DataFrame()\n",
    "df_06['ownership']=df['ownership']\n",
    "df_06['sum__annual__growing_stock_volume']=df['2006_m3']\n",
    "df_06['percentage__annual__growing_stock_volume']=df['2006_%']\n",
    "df_06['datetime']='2006'\n",
    "df_12 = pd.DataFrame()\n",
    "df_12['ownership']=df['ownership']\n",
    "df_12['sum__annual__growing_stock_volume']=df['2012_m3']\n",
    "df_12['percentage__annual__growing_stock_volume']=df['2012_%']\n",
    "df_12['datetime']='2012'\n",
    "df_17 = pd.DataFrame()\n",
    "df_17['ownership']=df['ownership']\n",
    "df_17['sum__annual__growing_stock_volume']=df['2017_m3']\n",
    "df_17['percentage__annual__growing_stock_volume']=df['2017_%']\n",
    "df_17['datetime']='2017'\n",
    "df = pd.concat([df_06,df_12,df_17])\n",
    "df['datetime'] = pd.to_datetime(df['datetime'],format='%Y')\n",
    "df['sum__annual__growing_stock_volume']=df['sum__annual__growing_stock_volume']\n",
    "df['location'] = 'Ireland'\n",
    "df=df[[\n",
    "    'datetime',\n",
    "    'ownership',\n",
    "    'sum__annual__growing_stock_volume',\n",
    "    'percentage__annual__growing_stock_volume',\n",
    "    'location']]\n",
    "df.reset_index()\n",
    "# df.to_csv(data_csv) #commented out as the file should be kept as is"
   ],
   "outputs": [
    {
     "output_type": "execute_result",
     "data": {
      "text/plain": [
       "              Unnamed: 0  1000's m3         %  1000's m3.1       %.1  \\\n",
       "0                 Public     51.713  0.719625       60.405  0.619691   \n",
       "1  Private (grant aided)      7.490  0.104229       21.824  0.223891   \n",
       "2        Private (Other)     12.658  0.176146       15.247  0.156418   \n",
       "3                  Total     71.861  1.000000       97.476  1.000000   \n",
       "\n",
       "   1000's m3.2       %.2  \n",
       "0       64.783  0.555963  \n",
       "1       34.090  0.292558  \n",
       "2       17.651  0.151480  \n",
       "3      116.524  1.000000  "
      ],
      "text/html": [
       "<div>\n",
       "<style scoped>\n",
       "    .dataframe tbody tr th:only-of-type {\n",
       "        vertical-align: middle;\n",
       "    }\n",
       "\n",
       "    .dataframe tbody tr th {\n",
       "        vertical-align: top;\n",
       "    }\n",
       "\n",
       "    .dataframe thead th {\n",
       "        text-align: right;\n",
       "    }\n",
       "</style>\n",
       "<table border=\"1\" class=\"dataframe\">\n",
       "  <thead>\n",
       "    <tr style=\"text-align: right;\">\n",
       "      <th></th>\n",
       "      <th>Unnamed: 0</th>\n",
       "      <th>1000's m3</th>\n",
       "      <th>%</th>\n",
       "      <th>1000's m3.1</th>\n",
       "      <th>%.1</th>\n",
       "      <th>1000's m3.2</th>\n",
       "      <th>%.2</th>\n",
       "    </tr>\n",
       "  </thead>\n",
       "  <tbody>\n",
       "    <tr>\n",
       "      <th>0</th>\n",
       "      <td>Public</td>\n",
       "      <td>51.713</td>\n",
       "      <td>0.719625</td>\n",
       "      <td>60.405</td>\n",
       "      <td>0.619691</td>\n",
       "      <td>64.783</td>\n",
       "      <td>0.555963</td>\n",
       "    </tr>\n",
       "    <tr>\n",
       "      <th>1</th>\n",
       "      <td>Private (grant aided)</td>\n",
       "      <td>7.490</td>\n",
       "      <td>0.104229</td>\n",
       "      <td>21.824</td>\n",
       "      <td>0.223891</td>\n",
       "      <td>34.090</td>\n",
       "      <td>0.292558</td>\n",
       "    </tr>\n",
       "    <tr>\n",
       "      <th>2</th>\n",
       "      <td>Private (Other)</td>\n",
       "      <td>12.658</td>\n",
       "      <td>0.176146</td>\n",
       "      <td>15.247</td>\n",
       "      <td>0.156418</td>\n",
       "      <td>17.651</td>\n",
       "      <td>0.151480</td>\n",
       "    </tr>\n",
       "    <tr>\n",
       "      <th>3</th>\n",
       "      <td>Total</td>\n",
       "      <td>71.861</td>\n",
       "      <td>1.000000</td>\n",
       "      <td>97.476</td>\n",
       "      <td>1.000000</td>\n",
       "      <td>116.524</td>\n",
       "      <td>1.000000</td>\n",
       "    </tr>\n",
       "  </tbody>\n",
       "</table>\n",
       "</div>"
      ]
     },
     "metadata": {},
     "execution_count": 8
    }
   ],
   "metadata": {}
  },
  {
   "cell_type": "code",
   "execution_count": 11,
   "source": [],
   "outputs": [],
   "metadata": {}
  },
  {
   "cell_type": "code",
   "execution_count": 12,
   "source": [
    "\n",
    "df"
   ],
   "outputs": [
    {
     "output_type": "execute_result",
     "data": {
      "text/plain": [
       "    datetime              ownership  sum__annual__growing_stock_volume  \\\n",
       "0 2006-01-01                 Public                             51.713   \n",
       "1 2006-01-01  Private (grant aided)                              7.490   \n",
       "2 2006-01-01        Private (Other)                             12.658   \n",
       "3 2006-01-01                  Total                             71.861   \n",
       "0 2012-01-01                 Public                             60.405   \n",
       "1 2012-01-01  Private (grant aided)                             21.824   \n",
       "2 2012-01-01        Private (Other)                             15.247   \n",
       "3 2012-01-01                  Total                             97.476   \n",
       "0 2017-01-01                 Public                             64.783   \n",
       "1 2017-01-01  Private (grant aided)                             34.090   \n",
       "2 2017-01-01        Private (Other)                             17.651   \n",
       "3 2017-01-01                  Total                            116.524   \n",
       "\n",
       "   percentage__annual__growing_stock_volume location  \n",
       "0                                  0.719625  Ireland  \n",
       "1                                  0.104229  Ireland  \n",
       "2                                  0.176146  Ireland  \n",
       "3                                  1.000000  Ireland  \n",
       "0                                  0.619691  Ireland  \n",
       "1                                  0.223891  Ireland  \n",
       "2                                  0.156418  Ireland  \n",
       "3                                  1.000000  Ireland  \n",
       "0                                  0.555963  Ireland  \n",
       "1                                  0.292558  Ireland  \n",
       "2                                  0.151480  Ireland  \n",
       "3                                  1.000000  Ireland  "
      ],
      "text/html": [
       "<div>\n",
       "<style scoped>\n",
       "    .dataframe tbody tr th:only-of-type {\n",
       "        vertical-align: middle;\n",
       "    }\n",
       "\n",
       "    .dataframe tbody tr th {\n",
       "        vertical-align: top;\n",
       "    }\n",
       "\n",
       "    .dataframe thead th {\n",
       "        text-align: right;\n",
       "    }\n",
       "</style>\n",
       "<table border=\"1\" class=\"dataframe\">\n",
       "  <thead>\n",
       "    <tr style=\"text-align: right;\">\n",
       "      <th></th>\n",
       "      <th>datetime</th>\n",
       "      <th>ownership</th>\n",
       "      <th>sum__annual__growing_stock_volume</th>\n",
       "      <th>percentage__annual__growing_stock_volume</th>\n",
       "      <th>location</th>\n",
       "    </tr>\n",
       "  </thead>\n",
       "  <tbody>\n",
       "    <tr>\n",
       "      <th>0</th>\n",
       "      <td>2006-01-01</td>\n",
       "      <td>Public</td>\n",
       "      <td>51.713</td>\n",
       "      <td>0.719625</td>\n",
       "      <td>Ireland</td>\n",
       "    </tr>\n",
       "    <tr>\n",
       "      <th>1</th>\n",
       "      <td>2006-01-01</td>\n",
       "      <td>Private (grant aided)</td>\n",
       "      <td>7.490</td>\n",
       "      <td>0.104229</td>\n",
       "      <td>Ireland</td>\n",
       "    </tr>\n",
       "    <tr>\n",
       "      <th>2</th>\n",
       "      <td>2006-01-01</td>\n",
       "      <td>Private (Other)</td>\n",
       "      <td>12.658</td>\n",
       "      <td>0.176146</td>\n",
       "      <td>Ireland</td>\n",
       "    </tr>\n",
       "    <tr>\n",
       "      <th>3</th>\n",
       "      <td>2006-01-01</td>\n",
       "      <td>Total</td>\n",
       "      <td>71.861</td>\n",
       "      <td>1.000000</td>\n",
       "      <td>Ireland</td>\n",
       "    </tr>\n",
       "    <tr>\n",
       "      <th>0</th>\n",
       "      <td>2012-01-01</td>\n",
       "      <td>Public</td>\n",
       "      <td>60.405</td>\n",
       "      <td>0.619691</td>\n",
       "      <td>Ireland</td>\n",
       "    </tr>\n",
       "    <tr>\n",
       "      <th>1</th>\n",
       "      <td>2012-01-01</td>\n",
       "      <td>Private (grant aided)</td>\n",
       "      <td>21.824</td>\n",
       "      <td>0.223891</td>\n",
       "      <td>Ireland</td>\n",
       "    </tr>\n",
       "    <tr>\n",
       "      <th>2</th>\n",
       "      <td>2012-01-01</td>\n",
       "      <td>Private (Other)</td>\n",
       "      <td>15.247</td>\n",
       "      <td>0.156418</td>\n",
       "      <td>Ireland</td>\n",
       "    </tr>\n",
       "    <tr>\n",
       "      <th>3</th>\n",
       "      <td>2012-01-01</td>\n",
       "      <td>Total</td>\n",
       "      <td>97.476</td>\n",
       "      <td>1.000000</td>\n",
       "      <td>Ireland</td>\n",
       "    </tr>\n",
       "    <tr>\n",
       "      <th>0</th>\n",
       "      <td>2017-01-01</td>\n",
       "      <td>Public</td>\n",
       "      <td>64.783</td>\n",
       "      <td>0.555963</td>\n",
       "      <td>Ireland</td>\n",
       "    </tr>\n",
       "    <tr>\n",
       "      <th>1</th>\n",
       "      <td>2017-01-01</td>\n",
       "      <td>Private (grant aided)</td>\n",
       "      <td>34.090</td>\n",
       "      <td>0.292558</td>\n",
       "      <td>Ireland</td>\n",
       "    </tr>\n",
       "    <tr>\n",
       "      <th>2</th>\n",
       "      <td>2017-01-01</td>\n",
       "      <td>Private (Other)</td>\n",
       "      <td>17.651</td>\n",
       "      <td>0.151480</td>\n",
       "      <td>Ireland</td>\n",
       "    </tr>\n",
       "    <tr>\n",
       "      <th>3</th>\n",
       "      <td>2017-01-01</td>\n",
       "      <td>Total</td>\n",
       "      <td>116.524</td>\n",
       "      <td>1.000000</td>\n",
       "      <td>Ireland</td>\n",
       "    </tr>\n",
       "  </tbody>\n",
       "</table>\n",
       "</div>"
      ]
     },
     "metadata": {},
     "execution_count": 12
    }
   ],
   "metadata": {}
  },
  {
   "cell_type": "code",
   "execution_count": 25,
   "source": [
    "data_path = DATA_PATH+'Terrestrial_Domain/4.9AboveGroundBiomass/Figure4.17/'\n",
    "data_csv = data_path + 'Figure4.17_data.csv'\n",
    "df = pd.read_csv(data_csv, index_col=0)\n",
    "df['datetime'] = pd.to_datetime(df['datetime'])\n",
    "public_df = df.loc[(df['ownership'] == 'Public')]\n",
    "private_grants_df = df.loc[(df['ownership'] == 'Private (grant aided)')]\n",
    "private_other_df = df.loc[(df['ownership'] == 'Private (Other)')]\n",
    "total_df = df.loc[(df['ownership'] == 'Total')]\n",
    "total_trace = go.Scatter(x=total_df['datetime'].dt.year,\n",
    "                         y=total_df['sum__annual__growing_stock_volume'],\n",
    "                         name='Total',\n",
    "                         text=total_df['sum__annual__growing_stock_volume'],\n",
    "                                 mode='lines',  # 'line' is default\n",
    "                         line_shape='spline',\n",
    "                         line=dict(\n",
    "                                # color=\"#fc0d1b\", color used in report\n",
    "                                color=TIMESERIES_COLOR_1,\n",
    "                                width=2),\n",
    "                         hovertemplate='<b>Total</b><br>' +\n",
    "                         'Stock Volume: %{y:.2f} Mm<sup>3</sup><br>' +\n",
    "                         '------------------------------<br>' +\n",
    "                         '<extra></extra>'\n",
    "                         )\n",
    "public_trace = go.Scatter(x=public_df['datetime'].dt.year,\n",
    "                         y=public_df['sum__annual__growing_stock_volume'],\n",
    "                         name='Public',\n",
    "                         text=public_df['percentage__annual__growing_stock_volume'],\n",
    "                         marker=dict(color='#5b9bd5'), # blue,\n",
    "                         stackgroup=\"one\",\n",
    "                         hovertemplate='<b>Public</b><br>' +\n",
    "                         'Stock Volume: %{y:.2f} Mm<sup>3</sup><br>' +\n",
    "                         'Percent of Total: %{text:.2%}<br>' +\n",
    "                         '<extra></extra>'\n",
    "                         )\n",
    "private_grant_trace = go.Scatter(x=private_grants_df['datetime'].dt.year,\n",
    "                         y=private_grants_df['sum__annual__growing_stock_volume'],\n",
    "                         name='Private (Grant Aided)',\n",
    "                         text=private_grants_df['percentage__annual__growing_stock_volume'],\n",
    "                         marker=dict(color='#ed7d31'), # brown,\n",
    "                         stackgroup=\"one\",\n",
    "                         hovertemplate='<b>Private (Grant Aided)</b><br>' +\n",
    "                         'Stock Volume: %{y:.2f} Mm<sup>3</sup><br>' +\n",
    "                         'Percent of Total: %{text:.2%}<br>' +\n",
    "                         '<extra></extra>'\n",
    "                         )\n",
    "private_other_trace = go.Scatter(x=private_other_df['datetime'].dt.year,\n",
    "                         y=private_other_df['sum__annual__growing_stock_volume'],\n",
    "                         name='Private (Other)',\n",
    "                         text=private_other_df['percentage__annual__growing_stock_volume'],\n",
    "                         marker=dict(color='#ffff00'), # yellow,\n",
    "                         stackgroup=\"one\",\n",
    "                         hovertemplate='<b>Private (Other)</b><br>' +\n",
    "                         'Stock Volume: %{y:.2f} Mm<sup>3</sup><br>' +\n",
    "                         'Percent of Total: %{text:.2%}<br>' +\n",
    "                         '<extra></extra>'\n",
    "                         )\n",
    "figure_4_17 = go.Figure(data=[public_trace,private_other_trace,private_grant_trace,total_trace],\n",
    "                        layout=TIMESERIES_LAYOUT)\n",
    "figure_4_17.update_layout(\n",
    "        yaxis=dict(title='Total Growing Stock Volume (million m<sup>3</sup>)'),\n",
    "    xaxis=dict(title=\"Year\",tickvals=[2006, 2012, 2017],range=[2005, 2018]),\n",
    "    hovermode=\"x unified\",)\n",
    "figure_4_17"
   ],
   "outputs": [
    {
     "output_type": "display_data",
     "data": {
      "text/html": [
       "<div>                            <div id=\"251f836c-4c4e-44f6-a5de-9050072f9529\" class=\"plotly-graph-div\" style=\"height:450px; width:100%;\"></div>            <script type=\"text/javascript\">                require([\"plotly\"], function(Plotly) {                    window.PLOTLYENV=window.PLOTLYENV || {};                                    if (document.getElementById(\"251f836c-4c4e-44f6-a5de-9050072f9529\")) {                    Plotly.newPlot(                        \"251f836c-4c4e-44f6-a5de-9050072f9529\",                        [{\"hovertemplate\": \"<b>Public</b><br>Stock Volume: %{y:.2f} Mm<sup>3</sup><br>Percent of Total: %{text:.2%}<br><extra></extra>\", \"marker\": {\"color\": \"#5b9bd5\"}, \"name\": \"Public\", \"stackgroup\": \"one\", \"text\": [0.7196253879016434, 0.6196910008617506, 0.5559627201263259], \"type\": \"scatter\", \"x\": [2006, 2012, 2017], \"y\": [51.713, 60.405, 64.783]}, {\"hovertemplate\": \"<b>Private (Other)</b><br>Stock Volume: %{y:.2f} Mm<sup>3</sup><br>Percent of Total: %{text:.2%}<br><extra></extra>\", \"marker\": {\"color\": \"#ffff00\"}, \"name\": \"Private (Other)\", \"stackgroup\": \"one\", \"text\": [0.1761456144501189, 0.1564179900693504, 0.1514795235316329], \"type\": \"scatter\", \"x\": [2006, 2012, 2017], \"y\": [12.658, 15.247, 17.651]}, {\"hovertemplate\": \"<b>Private (Grant Aided)</b><br>Stock Volume: %{y:.2f} Mm<sup>3</sup><br>Percent of Total: %{text:.2%}<br><extra></extra>\", \"marker\": {\"color\": \"#ed7d31\"}, \"name\": \"Private (Grant Aided)\", \"stackgroup\": \"one\", \"text\": [0.1042289976482375, 0.223891009068899, 0.2925577563420412], \"type\": \"scatter\", \"x\": [2006, 2012, 2017], \"y\": [7.49, 21.824, 34.09]}, {\"hovertemplate\": \"<b>Total</b><br>Stock Volume: %{y:.2f} Mm<sup>3</sup><br>------------------------------<br><extra></extra>\", \"line\": {\"color\": \"#00a4ae\", \"shape\": \"spline\", \"width\": 2}, \"mode\": \"lines\", \"name\": \"Total\", \"text\": [71.861, 97.476, 116.524], \"type\": \"scatter\", \"x\": [2006, 2012, 2017], \"y\": [71.861, 97.476, 116.524]}],                        {\"font\": {\"color\": \"#7f7f7f\"}, \"height\": 450, \"hovermode\": \"x unified\", \"legend\": {\"bgcolor\": \"rgba(0,0,0,0)\", \"itemclick\": false, \"itemdoubleclick\": false, \"orientation\": \"h\"}, \"margin\": {\"b\": 0, \"l\": 0, \"r\": 0, \"t\": 0}, \"paper_bgcolor\": \"rgba(0,0,0,0)\", \"plot_bgcolor\": \"#f7fbfd\", \"template\": {\"data\": {\"bar\": [{\"error_x\": {\"color\": \"#2a3f5f\"}, \"error_y\": {\"color\": \"#2a3f5f\"}, \"marker\": {\"line\": {\"color\": \"#E5ECF6\", \"width\": 0.5}}, \"type\": \"bar\"}], \"barpolar\": [{\"marker\": {\"line\": {\"color\": \"#E5ECF6\", \"width\": 0.5}}, \"type\": \"barpolar\"}], \"carpet\": [{\"aaxis\": {\"endlinecolor\": \"#2a3f5f\", \"gridcolor\": \"white\", \"linecolor\": \"white\", \"minorgridcolor\": \"white\", \"startlinecolor\": \"#2a3f5f\"}, \"baxis\": {\"endlinecolor\": \"#2a3f5f\", \"gridcolor\": \"white\", \"linecolor\": \"white\", \"minorgridcolor\": \"white\", \"startlinecolor\": \"#2a3f5f\"}, \"type\": \"carpet\"}], \"choropleth\": [{\"colorbar\": {\"outlinewidth\": 0, \"ticks\": \"\"}, \"type\": \"choropleth\"}], \"contour\": [{\"colorbar\": {\"outlinewidth\": 0, \"ticks\": \"\"}, \"colorscale\": [[0.0, \"#0d0887\"], [0.1111111111111111, \"#46039f\"], [0.2222222222222222, \"#7201a8\"], [0.3333333333333333, \"#9c179e\"], [0.4444444444444444, \"#bd3786\"], [0.5555555555555556, \"#d8576b\"], [0.6666666666666666, \"#ed7953\"], [0.7777777777777778, \"#fb9f3a\"], [0.8888888888888888, \"#fdca26\"], [1.0, \"#f0f921\"]], \"type\": \"contour\"}], \"contourcarpet\": [{\"colorbar\": {\"outlinewidth\": 0, \"ticks\": \"\"}, \"type\": \"contourcarpet\"}], \"heatmap\": [{\"colorbar\": {\"outlinewidth\": 0, \"ticks\": \"\"}, \"colorscale\": [[0.0, \"#0d0887\"], [0.1111111111111111, \"#46039f\"], [0.2222222222222222, \"#7201a8\"], [0.3333333333333333, \"#9c179e\"], [0.4444444444444444, \"#bd3786\"], [0.5555555555555556, \"#d8576b\"], [0.6666666666666666, \"#ed7953\"], [0.7777777777777778, \"#fb9f3a\"], [0.8888888888888888, \"#fdca26\"], [1.0, \"#f0f921\"]], \"type\": \"heatmap\"}], \"heatmapgl\": [{\"colorbar\": {\"outlinewidth\": 0, \"ticks\": \"\"}, \"colorscale\": [[0.0, \"#0d0887\"], [0.1111111111111111, \"#46039f\"], [0.2222222222222222, \"#7201a8\"], [0.3333333333333333, \"#9c179e\"], [0.4444444444444444, \"#bd3786\"], [0.5555555555555556, \"#d8576b\"], [0.6666666666666666, \"#ed7953\"], [0.7777777777777778, \"#fb9f3a\"], [0.8888888888888888, \"#fdca26\"], [1.0, \"#f0f921\"]], \"type\": \"heatmapgl\"}], \"histogram\": [{\"marker\": {\"colorbar\": {\"outlinewidth\": 0, \"ticks\": \"\"}}, \"type\": \"histogram\"}], \"histogram2d\": [{\"colorbar\": {\"outlinewidth\": 0, \"ticks\": \"\"}, \"colorscale\": [[0.0, \"#0d0887\"], [0.1111111111111111, \"#46039f\"], [0.2222222222222222, \"#7201a8\"], [0.3333333333333333, \"#9c179e\"], [0.4444444444444444, \"#bd3786\"], [0.5555555555555556, \"#d8576b\"], [0.6666666666666666, \"#ed7953\"], [0.7777777777777778, \"#fb9f3a\"], [0.8888888888888888, \"#fdca26\"], [1.0, \"#f0f921\"]], \"type\": \"histogram2d\"}], \"histogram2dcontour\": [{\"colorbar\": {\"outlinewidth\": 0, \"ticks\": \"\"}, \"colorscale\": [[0.0, \"#0d0887\"], [0.1111111111111111, \"#46039f\"], [0.2222222222222222, \"#7201a8\"], [0.3333333333333333, \"#9c179e\"], [0.4444444444444444, \"#bd3786\"], [0.5555555555555556, \"#d8576b\"], [0.6666666666666666, \"#ed7953\"], [0.7777777777777778, \"#fb9f3a\"], [0.8888888888888888, \"#fdca26\"], [1.0, \"#f0f921\"]], \"type\": \"histogram2dcontour\"}], \"mesh3d\": [{\"colorbar\": {\"outlinewidth\": 0, \"ticks\": \"\"}, \"type\": \"mesh3d\"}], \"parcoords\": [{\"line\": {\"colorbar\": {\"outlinewidth\": 0, \"ticks\": \"\"}}, \"type\": \"parcoords\"}], \"pie\": [{\"automargin\": true, \"type\": \"pie\"}], \"scatter\": [{\"marker\": {\"colorbar\": {\"outlinewidth\": 0, \"ticks\": \"\"}}, \"type\": \"scatter\"}], \"scatter3d\": [{\"line\": {\"colorbar\": {\"outlinewidth\": 0, \"ticks\": \"\"}}, \"marker\": {\"colorbar\": {\"outlinewidth\": 0, \"ticks\": \"\"}}, \"type\": \"scatter3d\"}], \"scattercarpet\": [{\"marker\": {\"colorbar\": {\"outlinewidth\": 0, \"ticks\": \"\"}}, \"type\": \"scattercarpet\"}], \"scattergeo\": [{\"marker\": {\"colorbar\": {\"outlinewidth\": 0, \"ticks\": \"\"}}, \"type\": \"scattergeo\"}], \"scattergl\": [{\"marker\": {\"colorbar\": {\"outlinewidth\": 0, \"ticks\": \"\"}}, \"type\": \"scattergl\"}], \"scattermapbox\": [{\"marker\": {\"colorbar\": {\"outlinewidth\": 0, \"ticks\": \"\"}}, \"type\": \"scattermapbox\"}], \"scatterpolar\": [{\"marker\": {\"colorbar\": {\"outlinewidth\": 0, \"ticks\": \"\"}}, \"type\": \"scatterpolar\"}], \"scatterpolargl\": [{\"marker\": {\"colorbar\": {\"outlinewidth\": 0, \"ticks\": \"\"}}, \"type\": \"scatterpolargl\"}], \"scatterternary\": [{\"marker\": {\"colorbar\": {\"outlinewidth\": 0, \"ticks\": \"\"}}, \"type\": \"scatterternary\"}], \"surface\": [{\"colorbar\": {\"outlinewidth\": 0, \"ticks\": \"\"}, \"colorscale\": [[0.0, \"#0d0887\"], [0.1111111111111111, \"#46039f\"], [0.2222222222222222, \"#7201a8\"], [0.3333333333333333, \"#9c179e\"], [0.4444444444444444, \"#bd3786\"], [0.5555555555555556, \"#d8576b\"], [0.6666666666666666, \"#ed7953\"], [0.7777777777777778, \"#fb9f3a\"], [0.8888888888888888, \"#fdca26\"], [1.0, \"#f0f921\"]], \"type\": \"surface\"}], \"table\": [{\"cells\": {\"fill\": {\"color\": \"#EBF0F8\"}, \"line\": {\"color\": \"white\"}}, \"header\": {\"fill\": {\"color\": \"#C8D4E3\"}, \"line\": {\"color\": \"white\"}}, \"type\": \"table\"}]}, \"layout\": {\"annotationdefaults\": {\"arrowcolor\": \"#2a3f5f\", \"arrowhead\": 0, \"arrowwidth\": 1}, \"autotypenumbers\": \"strict\", \"coloraxis\": {\"colorbar\": {\"outlinewidth\": 0, \"ticks\": \"\"}}, \"colorscale\": {\"diverging\": [[0, \"#8e0152\"], [0.1, \"#c51b7d\"], [0.2, \"#de77ae\"], [0.3, \"#f1b6da\"], [0.4, \"#fde0ef\"], [0.5, \"#f7f7f7\"], [0.6, \"#e6f5d0\"], [0.7, \"#b8e186\"], [0.8, \"#7fbc41\"], [0.9, \"#4d9221\"], [1, \"#276419\"]], \"sequential\": [[0.0, \"#0d0887\"], [0.1111111111111111, \"#46039f\"], [0.2222222222222222, \"#7201a8\"], [0.3333333333333333, \"#9c179e\"], [0.4444444444444444, \"#bd3786\"], [0.5555555555555556, \"#d8576b\"], [0.6666666666666666, \"#ed7953\"], [0.7777777777777778, \"#fb9f3a\"], [0.8888888888888888, \"#fdca26\"], [1.0, \"#f0f921\"]], \"sequentialminus\": [[0.0, \"#0d0887\"], [0.1111111111111111, \"#46039f\"], [0.2222222222222222, \"#7201a8\"], [0.3333333333333333, \"#9c179e\"], [0.4444444444444444, \"#bd3786\"], [0.5555555555555556, \"#d8576b\"], [0.6666666666666666, \"#ed7953\"], [0.7777777777777778, \"#fb9f3a\"], [0.8888888888888888, \"#fdca26\"], [1.0, \"#f0f921\"]]}, \"colorway\": [\"#636efa\", \"#EF553B\", \"#00cc96\", \"#ab63fa\", \"#FFA15A\", \"#19d3f3\", \"#FF6692\", \"#B6E880\", \"#FF97FF\", \"#FECB52\"], \"font\": {\"color\": \"#2a3f5f\"}, \"geo\": {\"bgcolor\": \"white\", \"lakecolor\": \"white\", \"landcolor\": \"#E5ECF6\", \"showlakes\": true, \"showland\": true, \"subunitcolor\": \"white\"}, \"hoverlabel\": {\"align\": \"left\"}, \"hovermode\": \"closest\", \"mapbox\": {\"style\": \"light\"}, \"paper_bgcolor\": \"white\", \"plot_bgcolor\": \"#E5ECF6\", \"polar\": {\"angularaxis\": {\"gridcolor\": \"white\", \"linecolor\": \"white\", \"ticks\": \"\"}, \"bgcolor\": \"#E5ECF6\", \"radialaxis\": {\"gridcolor\": \"white\", \"linecolor\": \"white\", \"ticks\": \"\"}}, \"scene\": {\"xaxis\": {\"backgroundcolor\": \"#E5ECF6\", \"gridcolor\": \"white\", \"gridwidth\": 2, \"linecolor\": \"white\", \"showbackground\": true, \"ticks\": \"\", \"zerolinecolor\": \"white\"}, \"yaxis\": {\"backgroundcolor\": \"#E5ECF6\", \"gridcolor\": \"white\", \"gridwidth\": 2, \"linecolor\": \"white\", \"showbackground\": true, \"ticks\": \"\", \"zerolinecolor\": \"white\"}, \"zaxis\": {\"backgroundcolor\": \"#E5ECF6\", \"gridcolor\": \"white\", \"gridwidth\": 2, \"linecolor\": \"white\", \"showbackground\": true, \"ticks\": \"\", \"zerolinecolor\": \"white\"}}, \"shapedefaults\": {\"line\": {\"color\": \"#2a3f5f\"}}, \"ternary\": {\"aaxis\": {\"gridcolor\": \"white\", \"linecolor\": \"white\", \"ticks\": \"\"}, \"baxis\": {\"gridcolor\": \"white\", \"linecolor\": \"white\", \"ticks\": \"\"}, \"bgcolor\": \"#E5ECF6\", \"caxis\": {\"gridcolor\": \"white\", \"linecolor\": \"white\", \"ticks\": \"\"}}, \"title\": {\"x\": 0.05}, \"xaxis\": {\"automargin\": true, \"gridcolor\": \"white\", \"linecolor\": \"white\", \"ticks\": \"\", \"title\": {\"standoff\": 15}, \"zerolinecolor\": \"white\", \"zerolinewidth\": 2}, \"yaxis\": {\"automargin\": true, \"gridcolor\": \"white\", \"linecolor\": \"white\", \"ticks\": \"\", \"title\": {\"standoff\": 15}, \"zerolinecolor\": \"white\", \"zerolinewidth\": 2}}}, \"xaxis\": {\"fixedrange\": true, \"range\": [2005, 2018], \"showgrid\": false, \"tickvals\": [2006, 2012, 2017], \"title\": {\"text\": \"Year\"}}, \"yaxis\": {\"fixedrange\": true, \"title\": {\"text\": \"Total Growing Stock Volume (million m<sup>3</sup>)\"}}},                        {\"responsive\": true}                    ).then(function(){\n",
       "                            \n",
       "var gd = document.getElementById('251f836c-4c4e-44f6-a5de-9050072f9529');\n",
       "var x = new MutationObserver(function (mutations, observer) {{\n",
       "        var display = window.getComputedStyle(gd).display;\n",
       "        if (!display || display === 'none') {{\n",
       "            console.log([gd, 'removed!']);\n",
       "            Plotly.purge(gd);\n",
       "            observer.disconnect();\n",
       "        }}\n",
       "}});\n",
       "\n",
       "// Listen for the removal of the full notebook cells\n",
       "var notebookContainer = gd.closest('#notebook-container');\n",
       "if (notebookContainer) {{\n",
       "    x.observe(notebookContainer, {childList: true});\n",
       "}}\n",
       "\n",
       "// Listen for the clearing of the current output cell\n",
       "var outputEl = gd.closest('.output');\n",
       "if (outputEl) {{\n",
       "    x.observe(outputEl, {childList: true});\n",
       "}}\n",
       "\n",
       "                        })                };                });            </script>        </div>"
      ],
      "application/vnd.plotly.v1+json": {
       "config": {
        "plotlyServerURL": "https://plot.ly"
       },
       "data": [
        {
         "hovertemplate": "<b>Public</b><br>Stock Volume: %{y:.2f} Mm<sup>3</sup><br>Percent of Total: %{text:.2%}<br><extra></extra>",
         "marker": {
          "color": "#5b9bd5"
         },
         "name": "Public",
         "stackgroup": "one",
         "text": [
          0.7196253879016434,
          0.6196910008617506,
          0.5559627201263259
         ],
         "type": "scatter",
         "x": [
          2006,
          2012,
          2017
         ],
         "y": [
          51.713,
          60.405,
          64.783
         ]
        },
        {
         "hovertemplate": "<b>Private (Other)</b><br>Stock Volume: %{y:.2f} Mm<sup>3</sup><br>Percent of Total: %{text:.2%}<br><extra></extra>",
         "marker": {
          "color": "#ffff00"
         },
         "name": "Private (Other)",
         "stackgroup": "one",
         "text": [
          0.1761456144501189,
          0.1564179900693504,
          0.1514795235316329
         ],
         "type": "scatter",
         "x": [
          2006,
          2012,
          2017
         ],
         "y": [
          12.658,
          15.247,
          17.651
         ]
        },
        {
         "hovertemplate": "<b>Private (Grant Aided)</b><br>Stock Volume: %{y:.2f} Mm<sup>3</sup><br>Percent of Total: %{text:.2%}<br><extra></extra>",
         "marker": {
          "color": "#ed7d31"
         },
         "name": "Private (Grant Aided)",
         "stackgroup": "one",
         "text": [
          0.1042289976482375,
          0.223891009068899,
          0.2925577563420412
         ],
         "type": "scatter",
         "x": [
          2006,
          2012,
          2017
         ],
         "y": [
          7.49,
          21.824,
          34.09
         ]
        },
        {
         "hovertemplate": "<b>Total</b><br>Stock Volume: %{y:.2f} Mm<sup>3</sup><br>------------------------------<br><extra></extra>",
         "line": {
          "color": "#00a4ae",
          "shape": "spline",
          "width": 2
         },
         "mode": "lines",
         "name": "Total",
         "text": [
          71.861,
          97.476,
          116.524
         ],
         "type": "scatter",
         "x": [
          2006,
          2012,
          2017
         ],
         "y": [
          71.861,
          97.476,
          116.524
         ]
        }
       ],
       "layout": {
        "font": {
         "color": "#7f7f7f"
        },
        "height": 450,
        "hovermode": "x unified",
        "legend": {
         "bgcolor": "rgba(0,0,0,0)",
         "itemclick": false,
         "itemdoubleclick": false,
         "orientation": "h"
        },
        "margin": {
         "b": 0,
         "l": 0,
         "r": 0,
         "t": 0
        },
        "paper_bgcolor": "rgba(0,0,0,0)",
        "plot_bgcolor": "#f7fbfd",
        "template": {
         "data": {
          "bar": [
           {
            "error_x": {
             "color": "#2a3f5f"
            },
            "error_y": {
             "color": "#2a3f5f"
            },
            "marker": {
             "line": {
              "color": "#E5ECF6",
              "width": 0.5
             }
            },
            "type": "bar"
           }
          ],
          "barpolar": [
           {
            "marker": {
             "line": {
              "color": "#E5ECF6",
              "width": 0.5
             }
            },
            "type": "barpolar"
           }
          ],
          "carpet": [
           {
            "aaxis": {
             "endlinecolor": "#2a3f5f",
             "gridcolor": "white",
             "linecolor": "white",
             "minorgridcolor": "white",
             "startlinecolor": "#2a3f5f"
            },
            "baxis": {
             "endlinecolor": "#2a3f5f",
             "gridcolor": "white",
             "linecolor": "white",
             "minorgridcolor": "white",
             "startlinecolor": "#2a3f5f"
            },
            "type": "carpet"
           }
          ],
          "choropleth": [
           {
            "colorbar": {
             "outlinewidth": 0,
             "ticks": ""
            },
            "type": "choropleth"
           }
          ],
          "contour": [
           {
            "colorbar": {
             "outlinewidth": 0,
             "ticks": ""
            },
            "colorscale": [
             [
              0,
              "#0d0887"
             ],
             [
              0.1111111111111111,
              "#46039f"
             ],
             [
              0.2222222222222222,
              "#7201a8"
             ],
             [
              0.3333333333333333,
              "#9c179e"
             ],
             [
              0.4444444444444444,
              "#bd3786"
             ],
             [
              0.5555555555555556,
              "#d8576b"
             ],
             [
              0.6666666666666666,
              "#ed7953"
             ],
             [
              0.7777777777777778,
              "#fb9f3a"
             ],
             [
              0.8888888888888888,
              "#fdca26"
             ],
             [
              1,
              "#f0f921"
             ]
            ],
            "type": "contour"
           }
          ],
          "contourcarpet": [
           {
            "colorbar": {
             "outlinewidth": 0,
             "ticks": ""
            },
            "type": "contourcarpet"
           }
          ],
          "heatmap": [
           {
            "colorbar": {
             "outlinewidth": 0,
             "ticks": ""
            },
            "colorscale": [
             [
              0,
              "#0d0887"
             ],
             [
              0.1111111111111111,
              "#46039f"
             ],
             [
              0.2222222222222222,
              "#7201a8"
             ],
             [
              0.3333333333333333,
              "#9c179e"
             ],
             [
              0.4444444444444444,
              "#bd3786"
             ],
             [
              0.5555555555555556,
              "#d8576b"
             ],
             [
              0.6666666666666666,
              "#ed7953"
             ],
             [
              0.7777777777777778,
              "#fb9f3a"
             ],
             [
              0.8888888888888888,
              "#fdca26"
             ],
             [
              1,
              "#f0f921"
             ]
            ],
            "type": "heatmap"
           }
          ],
          "heatmapgl": [
           {
            "colorbar": {
             "outlinewidth": 0,
             "ticks": ""
            },
            "colorscale": [
             [
              0,
              "#0d0887"
             ],
             [
              0.1111111111111111,
              "#46039f"
             ],
             [
              0.2222222222222222,
              "#7201a8"
             ],
             [
              0.3333333333333333,
              "#9c179e"
             ],
             [
              0.4444444444444444,
              "#bd3786"
             ],
             [
              0.5555555555555556,
              "#d8576b"
             ],
             [
              0.6666666666666666,
              "#ed7953"
             ],
             [
              0.7777777777777778,
              "#fb9f3a"
             ],
             [
              0.8888888888888888,
              "#fdca26"
             ],
             [
              1,
              "#f0f921"
             ]
            ],
            "type": "heatmapgl"
           }
          ],
          "histogram": [
           {
            "marker": {
             "colorbar": {
              "outlinewidth": 0,
              "ticks": ""
             }
            },
            "type": "histogram"
           }
          ],
          "histogram2d": [
           {
            "colorbar": {
             "outlinewidth": 0,
             "ticks": ""
            },
            "colorscale": [
             [
              0,
              "#0d0887"
             ],
             [
              0.1111111111111111,
              "#46039f"
             ],
             [
              0.2222222222222222,
              "#7201a8"
             ],
             [
              0.3333333333333333,
              "#9c179e"
             ],
             [
              0.4444444444444444,
              "#bd3786"
             ],
             [
              0.5555555555555556,
              "#d8576b"
             ],
             [
              0.6666666666666666,
              "#ed7953"
             ],
             [
              0.7777777777777778,
              "#fb9f3a"
             ],
             [
              0.8888888888888888,
              "#fdca26"
             ],
             [
              1,
              "#f0f921"
             ]
            ],
            "type": "histogram2d"
           }
          ],
          "histogram2dcontour": [
           {
            "colorbar": {
             "outlinewidth": 0,
             "ticks": ""
            },
            "colorscale": [
             [
              0,
              "#0d0887"
             ],
             [
              0.1111111111111111,
              "#46039f"
             ],
             [
              0.2222222222222222,
              "#7201a8"
             ],
             [
              0.3333333333333333,
              "#9c179e"
             ],
             [
              0.4444444444444444,
              "#bd3786"
             ],
             [
              0.5555555555555556,
              "#d8576b"
             ],
             [
              0.6666666666666666,
              "#ed7953"
             ],
             [
              0.7777777777777778,
              "#fb9f3a"
             ],
             [
              0.8888888888888888,
              "#fdca26"
             ],
             [
              1,
              "#f0f921"
             ]
            ],
            "type": "histogram2dcontour"
           }
          ],
          "mesh3d": [
           {
            "colorbar": {
             "outlinewidth": 0,
             "ticks": ""
            },
            "type": "mesh3d"
           }
          ],
          "parcoords": [
           {
            "line": {
             "colorbar": {
              "outlinewidth": 0,
              "ticks": ""
             }
            },
            "type": "parcoords"
           }
          ],
          "pie": [
           {
            "automargin": true,
            "type": "pie"
           }
          ],
          "scatter": [
           {
            "marker": {
             "colorbar": {
              "outlinewidth": 0,
              "ticks": ""
             }
            },
            "type": "scatter"
           }
          ],
          "scatter3d": [
           {
            "line": {
             "colorbar": {
              "outlinewidth": 0,
              "ticks": ""
             }
            },
            "marker": {
             "colorbar": {
              "outlinewidth": 0,
              "ticks": ""
             }
            },
            "type": "scatter3d"
           }
          ],
          "scattercarpet": [
           {
            "marker": {
             "colorbar": {
              "outlinewidth": 0,
              "ticks": ""
             }
            },
            "type": "scattercarpet"
           }
          ],
          "scattergeo": [
           {
            "marker": {
             "colorbar": {
              "outlinewidth": 0,
              "ticks": ""
             }
            },
            "type": "scattergeo"
           }
          ],
          "scattergl": [
           {
            "marker": {
             "colorbar": {
              "outlinewidth": 0,
              "ticks": ""
             }
            },
            "type": "scattergl"
           }
          ],
          "scattermapbox": [
           {
            "marker": {
             "colorbar": {
              "outlinewidth": 0,
              "ticks": ""
             }
            },
            "type": "scattermapbox"
           }
          ],
          "scatterpolar": [
           {
            "marker": {
             "colorbar": {
              "outlinewidth": 0,
              "ticks": ""
             }
            },
            "type": "scatterpolar"
           }
          ],
          "scatterpolargl": [
           {
            "marker": {
             "colorbar": {
              "outlinewidth": 0,
              "ticks": ""
             }
            },
            "type": "scatterpolargl"
           }
          ],
          "scatterternary": [
           {
            "marker": {
             "colorbar": {
              "outlinewidth": 0,
              "ticks": ""
             }
            },
            "type": "scatterternary"
           }
          ],
          "surface": [
           {
            "colorbar": {
             "outlinewidth": 0,
             "ticks": ""
            },
            "colorscale": [
             [
              0,
              "#0d0887"
             ],
             [
              0.1111111111111111,
              "#46039f"
             ],
             [
              0.2222222222222222,
              "#7201a8"
             ],
             [
              0.3333333333333333,
              "#9c179e"
             ],
             [
              0.4444444444444444,
              "#bd3786"
             ],
             [
              0.5555555555555556,
              "#d8576b"
             ],
             [
              0.6666666666666666,
              "#ed7953"
             ],
             [
              0.7777777777777778,
              "#fb9f3a"
             ],
             [
              0.8888888888888888,
              "#fdca26"
             ],
             [
              1,
              "#f0f921"
             ]
            ],
            "type": "surface"
           }
          ],
          "table": [
           {
            "cells": {
             "fill": {
              "color": "#EBF0F8"
             },
             "line": {
              "color": "white"
             }
            },
            "header": {
             "fill": {
              "color": "#C8D4E3"
             },
             "line": {
              "color": "white"
             }
            },
            "type": "table"
           }
          ]
         },
         "layout": {
          "annotationdefaults": {
           "arrowcolor": "#2a3f5f",
           "arrowhead": 0,
           "arrowwidth": 1
          },
          "autotypenumbers": "strict",
          "coloraxis": {
           "colorbar": {
            "outlinewidth": 0,
            "ticks": ""
           }
          },
          "colorscale": {
           "diverging": [
            [
             0,
             "#8e0152"
            ],
            [
             0.1,
             "#c51b7d"
            ],
            [
             0.2,
             "#de77ae"
            ],
            [
             0.3,
             "#f1b6da"
            ],
            [
             0.4,
             "#fde0ef"
            ],
            [
             0.5,
             "#f7f7f7"
            ],
            [
             0.6,
             "#e6f5d0"
            ],
            [
             0.7,
             "#b8e186"
            ],
            [
             0.8,
             "#7fbc41"
            ],
            [
             0.9,
             "#4d9221"
            ],
            [
             1,
             "#276419"
            ]
           ],
           "sequential": [
            [
             0,
             "#0d0887"
            ],
            [
             0.1111111111111111,
             "#46039f"
            ],
            [
             0.2222222222222222,
             "#7201a8"
            ],
            [
             0.3333333333333333,
             "#9c179e"
            ],
            [
             0.4444444444444444,
             "#bd3786"
            ],
            [
             0.5555555555555556,
             "#d8576b"
            ],
            [
             0.6666666666666666,
             "#ed7953"
            ],
            [
             0.7777777777777778,
             "#fb9f3a"
            ],
            [
             0.8888888888888888,
             "#fdca26"
            ],
            [
             1,
             "#f0f921"
            ]
           ],
           "sequentialminus": [
            [
             0,
             "#0d0887"
            ],
            [
             0.1111111111111111,
             "#46039f"
            ],
            [
             0.2222222222222222,
             "#7201a8"
            ],
            [
             0.3333333333333333,
             "#9c179e"
            ],
            [
             0.4444444444444444,
             "#bd3786"
            ],
            [
             0.5555555555555556,
             "#d8576b"
            ],
            [
             0.6666666666666666,
             "#ed7953"
            ],
            [
             0.7777777777777778,
             "#fb9f3a"
            ],
            [
             0.8888888888888888,
             "#fdca26"
            ],
            [
             1,
             "#f0f921"
            ]
           ]
          },
          "colorway": [
           "#636efa",
           "#EF553B",
           "#00cc96",
           "#ab63fa",
           "#FFA15A",
           "#19d3f3",
           "#FF6692",
           "#B6E880",
           "#FF97FF",
           "#FECB52"
          ],
          "font": {
           "color": "#2a3f5f"
          },
          "geo": {
           "bgcolor": "white",
           "lakecolor": "white",
           "landcolor": "#E5ECF6",
           "showlakes": true,
           "showland": true,
           "subunitcolor": "white"
          },
          "hoverlabel": {
           "align": "left"
          },
          "hovermode": "closest",
          "mapbox": {
           "style": "light"
          },
          "paper_bgcolor": "white",
          "plot_bgcolor": "#E5ECF6",
          "polar": {
           "angularaxis": {
            "gridcolor": "white",
            "linecolor": "white",
            "ticks": ""
           },
           "bgcolor": "#E5ECF6",
           "radialaxis": {
            "gridcolor": "white",
            "linecolor": "white",
            "ticks": ""
           }
          },
          "scene": {
           "xaxis": {
            "backgroundcolor": "#E5ECF6",
            "gridcolor": "white",
            "gridwidth": 2,
            "linecolor": "white",
            "showbackground": true,
            "ticks": "",
            "zerolinecolor": "white"
           },
           "yaxis": {
            "backgroundcolor": "#E5ECF6",
            "gridcolor": "white",
            "gridwidth": 2,
            "linecolor": "white",
            "showbackground": true,
            "ticks": "",
            "zerolinecolor": "white"
           },
           "zaxis": {
            "backgroundcolor": "#E5ECF6",
            "gridcolor": "white",
            "gridwidth": 2,
            "linecolor": "white",
            "showbackground": true,
            "ticks": "",
            "zerolinecolor": "white"
           }
          },
          "shapedefaults": {
           "line": {
            "color": "#2a3f5f"
           }
          },
          "ternary": {
           "aaxis": {
            "gridcolor": "white",
            "linecolor": "white",
            "ticks": ""
           },
           "baxis": {
            "gridcolor": "white",
            "linecolor": "white",
            "ticks": ""
           },
           "bgcolor": "#E5ECF6",
           "caxis": {
            "gridcolor": "white",
            "linecolor": "white",
            "ticks": ""
           }
          },
          "title": {
           "x": 0.05
          },
          "xaxis": {
           "automargin": true,
           "gridcolor": "white",
           "linecolor": "white",
           "ticks": "",
           "title": {
            "standoff": 15
           },
           "zerolinecolor": "white",
           "zerolinewidth": 2
          },
          "yaxis": {
           "automargin": true,
           "gridcolor": "white",
           "linecolor": "white",
           "ticks": "",
           "title": {
            "standoff": 15
           },
           "zerolinecolor": "white",
           "zerolinewidth": 2
          }
         }
        },
        "xaxis": {
         "fixedrange": true,
         "range": [
          2005,
          2018
         ],
         "showgrid": false,
         "tickvals": [
          2006,
          2012,
          2017
         ],
         "title": {
          "text": "Year"
         }
        },
        "yaxis": {
         "fixedrange": true,
         "title": {
          "text": "Total Growing Stock Volume (million m<sup>3</sup>)"
         }
        }
       }
      }
     },
     "metadata": {}
    }
   ],
   "metadata": {}
  },
  {
   "cell_type": "code",
   "execution_count": null,
   "source": [],
   "outputs": [],
   "metadata": {}
  }
 ],
 "metadata": {
  "kernelspec": {
   "display_name": "Python 3",
   "language": "python",
   "name": "python3"
  },
  "language_info": {
   "codemirror_mode": {
    "name": "ipython",
    "version": 3
   },
   "file_extension": ".py",
   "mimetype": "text/x-python",
   "name": "python",
   "nbconvert_exporter": "python",
   "pygments_lexer": "ipython3",
   "version": "3.8.2"
  }
 },
 "nbformat": 4,
 "nbformat_minor": 5
}