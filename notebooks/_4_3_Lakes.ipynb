{
 "cells": [
  {
   "cell_type": "code",
   "execution_count": 2,
   "id": "raised-democrat",
   "metadata": {},
   "outputs": [],
   "source": [
    "# to access root modules\n",
    "if __name__ == \"__main__\" and __package__ is None:\n",
    "    from sys import path\n",
    "    from os.path import dirname as dir\n",
    "\n",
    "    path.append(dir(path[0]))\n",
    "    __package__ = \"dash_app\""
   ]
  },
  {
   "cell_type": "code",
   "execution_count": 3,
   "id": "humanitarian-capability",
   "metadata": {},
   "outputs": [],
   "source": [
    "import pandas as pd\n",
    "import numpy as np\n",
    "import datetime\n",
    "import dateutil\n",
    "import plotly.graph_objects as go\n",
    "from plotly.subplots import make_subplots\n",
    "from charts import stations_map, map_columns\n",
    "from settings import *\n"
   ]
  },
  {
   "cell_type": "code",
   "execution_count": 6,
   "id": "trying-script",
   "metadata": {},
   "outputs": [],
   "source": [
    "data_path = DATA_PATH+'Terrestrial_Domain/4.3Lakes/Figure4.3/'\n",
    "data_csv = data_path + 'Figure4.3_data.csv'"
   ]
  },
  {
   "cell_type": "code",
   "execution_count": 10,
   "id": "known-explorer",
   "metadata": {},
   "outputs": [
    {
     "data": {
      "text/html": [
       "<div>\n",
       "<style scoped>\n",
       "    .dataframe tbody tr th:only-of-type {\n",
       "        vertical-align: middle;\n",
       "    }\n",
       "\n",
       "    .dataframe tbody tr th {\n",
       "        vertical-align: top;\n",
       "    }\n",
       "\n",
       "    .dataframe thead th {\n",
       "        text-align: right;\n",
       "    }\n",
       "</style>\n",
       "<table border=\"1\" class=\"dataframe\">\n",
       "  <thead>\n",
       "    <tr style=\"text-align: right;\">\n",
       "      <th></th>\n",
       "      <th>datetime</th>\n",
       "      <th>mean__monthly__lake_level</th>\n",
       "      <th>location</th>\n",
       "    </tr>\n",
       "  </thead>\n",
       "  <tbody>\n",
       "    <tr>\n",
       "      <th>0</th>\n",
       "      <td>1977-10-01</td>\n",
       "      <td>45.384778</td>\n",
       "      <td>Lough Oughter, Co. Cavan</td>\n",
       "    </tr>\n",
       "    <tr>\n",
       "      <th>1</th>\n",
       "      <td>1977-11-01</td>\n",
       "      <td>46.483867</td>\n",
       "      <td>Lough Oughter, Co. Cavan</td>\n",
       "    </tr>\n",
       "    <tr>\n",
       "      <th>2</th>\n",
       "      <td>1977-12-01</td>\n",
       "      <td>46.452387</td>\n",
       "      <td>Lough Oughter, Co. Cavan</td>\n",
       "    </tr>\n",
       "    <tr>\n",
       "      <th>3</th>\n",
       "      <td>1978-01-01</td>\n",
       "      <td>46.471742</td>\n",
       "      <td>Lough Oughter, Co. Cavan</td>\n",
       "    </tr>\n",
       "    <tr>\n",
       "      <th>4</th>\n",
       "      <td>1978-02-01</td>\n",
       "      <td>46.669607</td>\n",
       "      <td>Lough Oughter, Co. Cavan</td>\n",
       "    </tr>\n",
       "    <tr>\n",
       "      <th>...</th>\n",
       "      <td>...</td>\n",
       "      <td>...</td>\n",
       "      <td>...</td>\n",
       "    </tr>\n",
       "    <tr>\n",
       "      <th>490</th>\n",
       "      <td>2018-08-01</td>\n",
       "      <td>45.113935</td>\n",
       "      <td>Lough Oughter, Co. Cavan</td>\n",
       "    </tr>\n",
       "    <tr>\n",
       "      <th>491</th>\n",
       "      <td>2018-09-01</td>\n",
       "      <td>45.190167</td>\n",
       "      <td>Lough Oughter, Co. Cavan</td>\n",
       "    </tr>\n",
       "    <tr>\n",
       "      <th>492</th>\n",
       "      <td>2018-10-01</td>\n",
       "      <td>45.143581</td>\n",
       "      <td>Lough Oughter, Co. Cavan</td>\n",
       "    </tr>\n",
       "    <tr>\n",
       "      <th>493</th>\n",
       "      <td>2018-11-01</td>\n",
       "      <td>45.965800</td>\n",
       "      <td>Lough Oughter, Co. Cavan</td>\n",
       "    </tr>\n",
       "    <tr>\n",
       "      <th>494</th>\n",
       "      <td>2018-12-01</td>\n",
       "      <td>46.938774</td>\n",
       "      <td>Lough Oughter, Co. Cavan</td>\n",
       "    </tr>\n",
       "  </tbody>\n",
       "</table>\n",
       "<p>493 rows × 3 columns</p>\n",
       "</div>"
      ],
      "text/plain": [
       "      datetime  mean__monthly__lake_level                  location\n",
       "0   1977-10-01                  45.384778  Lough Oughter, Co. Cavan\n",
       "1   1977-11-01                  46.483867  Lough Oughter, Co. Cavan\n",
       "2   1977-12-01                  46.452387  Lough Oughter, Co. Cavan\n",
       "3   1978-01-01                  46.471742  Lough Oughter, Co. Cavan\n",
       "4   1978-02-01                  46.669607  Lough Oughter, Co. Cavan\n",
       "..         ...                        ...                       ...\n",
       "490 2018-08-01                  45.113935  Lough Oughter, Co. Cavan\n",
       "491 2018-09-01                  45.190167  Lough Oughter, Co. Cavan\n",
       "492 2018-10-01                  45.143581  Lough Oughter, Co. Cavan\n",
       "493 2018-11-01                  45.965800  Lough Oughter, Co. Cavan\n",
       "494 2018-12-01                  46.938774  Lough Oughter, Co. Cavan\n",
       "\n",
       "[493 rows x 3 columns]"
      ]
     },
     "execution_count": 10,
     "metadata": {},
     "output_type": "execute_result"
    }
   ],
   "source": [
    "\"\"\"\n",
    "Tidy data for charts\n",
    "\"\"\"\n",
    "columns_dict = {'datetime':'Year',\n",
    "               'mean__monthly__lake_level':'W mOD Avg',\n",
    "                  }\n",
    "xls = pd.ExcelFile(\n",
    "    data_path+'LakesFigure.xlsx')\n",
    "original_df = pd.read_excel(xls, 'LoughOughter',skiprows=1)\n",
    "df = map_columns(columns_dict, original_df)\n",
    "df=df.dropna()\n",
    "df['location']='Lough Oughter, Co. Cavan'\n",
    "\n",
    "df['datetime'] = pd.to_datetime(df['datetime'],format='%b-%y')\n",
    "# df.to_csv(data_csv) #commented out as the file should be kept as is\n",
    "df"
   ]
  },
  {
   "cell_type": "code",
   "execution_count": 20,
   "id": "liked-health",
   "metadata": {},
   "outputs": [
    {
     "data": {
      "text/html": [
       "<div>\n",
       "<style scoped>\n",
       "    .dataframe tbody tr th:only-of-type {\n",
       "        vertical-align: middle;\n",
       "    }\n",
       "\n",
       "    .dataframe tbody tr th {\n",
       "        vertical-align: top;\n",
       "    }\n",
       "\n",
       "    .dataframe thead th {\n",
       "        text-align: right;\n",
       "    }\n",
       "</style>\n",
       "<table border=\"1\" class=\"dataframe\">\n",
       "  <thead>\n",
       "    <tr style=\"text-align: right;\">\n",
       "      <th></th>\n",
       "      <th>datetime</th>\n",
       "      <th>mean__monthly__lake_level</th>\n",
       "      <th>location</th>\n",
       "    </tr>\n",
       "  </thead>\n",
       "  <tbody>\n",
       "    <tr>\n",
       "      <th>0</th>\n",
       "      <td>1977-10-01</td>\n",
       "      <td>45.384778</td>\n",
       "      <td>Lough Oughter, Co. Cavan</td>\n",
       "    </tr>\n",
       "    <tr>\n",
       "      <th>1</th>\n",
       "      <td>1977-11-01</td>\n",
       "      <td>46.483867</td>\n",
       "      <td>Lough Oughter, Co. Cavan</td>\n",
       "    </tr>\n",
       "    <tr>\n",
       "      <th>2</th>\n",
       "      <td>1977-12-01</td>\n",
       "      <td>46.452387</td>\n",
       "      <td>Lough Oughter, Co. Cavan</td>\n",
       "    </tr>\n",
       "    <tr>\n",
       "      <th>3</th>\n",
       "      <td>1978-01-01</td>\n",
       "      <td>46.471742</td>\n",
       "      <td>Lough Oughter, Co. Cavan</td>\n",
       "    </tr>\n",
       "    <tr>\n",
       "      <th>4</th>\n",
       "      <td>1978-02-01</td>\n",
       "      <td>46.669607</td>\n",
       "      <td>Lough Oughter, Co. Cavan</td>\n",
       "    </tr>\n",
       "    <tr>\n",
       "      <th>...</th>\n",
       "      <td>...</td>\n",
       "      <td>...</td>\n",
       "      <td>...</td>\n",
       "    </tr>\n",
       "    <tr>\n",
       "      <th>490</th>\n",
       "      <td>2018-08-01</td>\n",
       "      <td>45.113935</td>\n",
       "      <td>Lough Oughter, Co. Cavan</td>\n",
       "    </tr>\n",
       "    <tr>\n",
       "      <th>491</th>\n",
       "      <td>2018-09-01</td>\n",
       "      <td>45.190167</td>\n",
       "      <td>Lough Oughter, Co. Cavan</td>\n",
       "    </tr>\n",
       "    <tr>\n",
       "      <th>492</th>\n",
       "      <td>2018-10-01</td>\n",
       "      <td>45.143581</td>\n",
       "      <td>Lough Oughter, Co. Cavan</td>\n",
       "    </tr>\n",
       "    <tr>\n",
       "      <th>493</th>\n",
       "      <td>2018-11-01</td>\n",
       "      <td>45.965800</td>\n",
       "      <td>Lough Oughter, Co. Cavan</td>\n",
       "    </tr>\n",
       "    <tr>\n",
       "      <th>494</th>\n",
       "      <td>2018-12-01</td>\n",
       "      <td>46.938774</td>\n",
       "      <td>Lough Oughter, Co. Cavan</td>\n",
       "    </tr>\n",
       "  </tbody>\n",
       "</table>\n",
       "<p>493 rows × 3 columns</p>\n",
       "</div>"
      ],
      "text/plain": [
       "      datetime  mean__monthly__lake_level                  location\n",
       "0   1977-10-01                  45.384778  Lough Oughter, Co. Cavan\n",
       "1   1977-11-01                  46.483867  Lough Oughter, Co. Cavan\n",
       "2   1977-12-01                  46.452387  Lough Oughter, Co. Cavan\n",
       "3   1978-01-01                  46.471742  Lough Oughter, Co. Cavan\n",
       "4   1978-02-01                  46.669607  Lough Oughter, Co. Cavan\n",
       "..         ...                        ...                       ...\n",
       "490 2018-08-01                  45.113935  Lough Oughter, Co. Cavan\n",
       "491 2018-09-01                  45.190167  Lough Oughter, Co. Cavan\n",
       "492 2018-10-01                  45.143581  Lough Oughter, Co. Cavan\n",
       "493 2018-11-01                  45.965800  Lough Oughter, Co. Cavan\n",
       "494 2018-12-01                  46.938774  Lough Oughter, Co. Cavan\n",
       "\n",
       "[493 rows x 3 columns]"
      ]
     },
     "execution_count": 20,
     "metadata": {},
     "output_type": "execute_result"
    }
   ],
   "source": [
    "df = pd.read_csv(data_csv, index_col=0)\n",
    "df['datetime']=pd.to_datetime(df['datetime'])\n",
    "df"
   ]
  },
  {
   "cell_type": "code",
   "execution_count": 34,
   "id": "dressed-railway",
   "metadata": {},
   "outputs": [],
   "source": [
    "def season_color(month):\n",
    "#     month = date.dt.month\n",
    "    print(month)\n",
    "    if month in [3,4,5]:\n",
    "        return 'yellow'\n",
    "    elif month in [6,7,8]:\n",
    "        return 'green'\n",
    "    elif month in [9,10,11]:\n",
    "        return 'brown'\n",
    "    elif month in [12, 1,2]:\n",
    "        return 'blue'\n",
    "    return 'white'\n",
    "\n",
    "season_color = {\n",
    "    12:'blue',\n",
    "    1:'blue',\n",
    "    2:'blue',\n",
    "    3:'orange',\n",
    "    4:'orange',\n",
    "    5:'orange',\n",
    "    6:'green',\n",
    "    7:'green',\n",
    "    8:'green',\n",
    "    9:'brown',\n",
    "        10:'brown',\n",
    "        11:'brown',\n",
    "    \n",
    "}\n",
    "    \n",
    "\n",
    "trace = go.Scatter(x=df['datetime'],\n",
    "                            y=df['mean__monthly__lake_level'],\n",
    "                         name='Monthly Mean',\n",
    "                         mode='markers+lines',\n",
    "                         marker=dict(color=[season_color[k] for k in df['datetime'].dt.month.values],\n",
    "                                     size=5,\n",
    "                                     opacity=0.5),\n",
    "                         line=dict(color=TIMESERIES_COLOR_1,\n",
    "                                      width=1),\n",
    "                         hovertemplate='%{x|%b %Y}<br>' +\n",
    "                         '<b>Lake Level</b><br>' +\n",
    "                         'Monthly Mean: %{y:.2f} m<br>' +\n",
    "                         '<extra></extra>'\n",
    "                         )\n"
   ]
  },
  {
   "cell_type": "code",
   "execution_count": 35,
   "id": "continued-classic",
   "metadata": {},
   "outputs": [
    {
     "data": {
      "application/vnd.plotly.v1+json": {
       "config": {
        "plotlyServerURL": "https://plot.ly"
       },
       "data": [
        {
         "hovertemplate": "%{x|%b %Y}<br><b>Lake Level</b><br>Monthly Mean: %{y:.2f} m<br><extra></extra>",
         "line": {
          "color": "#00a4ae",
          "width": 1
         },
         "marker": {
          "color": [
           "brown",
           "brown",
           "blue",
           "blue",
           "blue",
           "orange",
           "orange",
           "orange",
           "green",
           "green",
           "green",
           "brown",
           "brown",
           "brown",
           "blue",
           "blue",
           "blue",
           "orange",
           "orange",
           "orange",
           "green",
           "green",
           "green",
           "brown",
           "brown",
           "brown",
           "blue",
           "blue",
           "blue",
           "orange",
           "orange",
           "orange",
           "green",
           "green",
           "green",
           "brown",
           "brown",
           "brown",
           "blue",
           "blue",
           "blue",
           "orange",
           "orange",
           "orange",
           "green",
           "green",
           "green",
           "brown",
           "brown",
           "brown",
           "blue",
           "blue",
           "blue",
           "orange",
           "orange",
           "orange",
           "green",
           "green",
           "green",
           "brown",
           "brown",
           "brown",
           "blue",
           "blue",
           "blue",
           "orange",
           "orange",
           "orange",
           "green",
           "green",
           "green",
           "brown",
           "brown",
           "brown",
           "blue",
           "blue",
           "blue",
           "orange",
           "orange",
           "orange",
           "green",
           "green",
           "green",
           "brown",
           "brown",
           "brown",
           "blue",
           "blue",
           "blue",
           "orange",
           "orange",
           "orange",
           "green",
           "green",
           "green",
           "brown",
           "brown",
           "brown",
           "blue",
           "blue",
           "blue",
           "orange",
           "orange",
           "orange",
           "green",
           "green",
           "green",
           "brown",
           "brown",
           "brown",
           "blue",
           "blue",
           "blue",
           "orange",
           "orange",
           "orange",
           "green",
           "green",
           "green",
           "brown",
           "brown",
           "brown",
           "blue",
           "blue",
           "blue",
           "orange",
           "orange",
           "orange",
           "green",
           "green",
           "green",
           "brown",
           "brown",
           "brown",
           "blue",
           "blue",
           "blue",
           "orange",
           "orange",
           "orange",
           "green",
           "green",
           "green",
           "brown",
           "brown",
           "brown",
           "blue",
           "blue",
           "blue",
           "orange",
           "orange",
           "orange",
           "green",
           "green",
           "green",
           "brown",
           "brown",
           "brown",
           "blue",
           "blue",
           "blue",
           "orange",
           "orange",
           "orange",
           "green",
           "green",
           "green",
           "brown",
           "brown",
           "brown",
           "blue",
           "blue",
           "blue",
           "orange",
           "orange",
           "orange",
           "green",
           "green",
           "green",
           "brown",
           "brown",
           "brown",
           "blue",
           "blue",
           "blue",
           "orange",
           "orange",
           "orange",
           "green",
           "green",
           "green",
           "brown",
           "brown",
           "brown",
           "blue",
           "blue",
           "blue",
           "orange",
           "orange",
           "orange",
           "green",
           "green",
           "green",
           "brown",
           "brown",
           "brown",
           "blue",
           "blue",
           "blue",
           "orange",
           "orange",
           "orange",
           "green",
           "green",
           "green",
           "brown",
           "brown",
           "brown",
           "blue",
           "blue",
           "blue",
           "orange",
           "orange",
           "orange",
           "green",
           "green",
           "green",
           "brown",
           "brown",
           "brown",
           "blue",
           "blue",
           "blue",
           "orange",
           "orange",
           "orange",
           "green",
           "green",
           "green",
           "brown",
           "brown",
           "brown",
           "blue",
           "blue",
           "blue",
           "orange",
           "orange",
           "orange",
           "green",
           "green",
           "green",
           "brown",
           "brown",
           "brown",
           "blue",
           "blue",
           "blue",
           "orange",
           "orange",
           "orange",
           "green",
           "green",
           "green",
           "brown",
           "brown",
           "brown",
           "blue",
           "blue",
           "blue",
           "orange",
           "orange",
           "orange",
           "green",
           "green",
           "green",
           "brown",
           "brown",
           "brown",
           "blue",
           "blue",
           "blue",
           "orange",
           "orange",
           "orange",
           "green",
           "green",
           "green",
           "brown",
           "brown",
           "brown",
           "blue",
           "blue",
           "blue",
           "orange",
           "orange",
           "orange",
           "green",
           "green",
           "green",
           "brown",
           "brown",
           "brown",
           "blue",
           "blue",
           "blue",
           "orange",
           "orange",
           "orange",
           "green",
           "green",
           "green",
           "brown",
           "brown",
           "brown",
           "blue",
           "blue",
           "blue",
           "orange",
           "orange",
           "orange",
           "green",
           "green",
           "green",
           "brown",
           "brown",
           "brown",
           "blue",
           "blue",
           "blue",
           "orange",
           "orange",
           "orange",
           "green",
           "green",
           "green",
           "brown",
           "brown",
           "brown",
           "blue",
           "blue",
           "blue",
           "orange",
           "orange",
           "orange",
           "green",
           "green",
           "green",
           "brown",
           "brown",
           "brown",
           "blue",
           "blue",
           "blue",
           "orange",
           "orange",
           "orange",
           "green",
           "green",
           "green",
           "brown",
           "brown",
           "brown",
           "blue",
           "blue",
           "blue",
           "orange",
           "orange",
           "orange",
           "green",
           "green",
           "green",
           "brown",
           "brown",
           "brown",
           "blue",
           "blue",
           "blue",
           "orange",
           "orange",
           "orange",
           "green",
           "green",
           "green",
           "brown",
           "brown",
           "brown",
           "blue",
           "blue",
           "blue",
           "orange",
           "orange",
           "orange",
           "green",
           "green",
           "brown",
           "brown",
           "brown",
           "blue",
           "blue",
           "blue",
           "orange",
           "orange",
           "orange",
           "green",
           "green",
           "green",
           "brown",
           "brown",
           "brown",
           "blue",
           "blue",
           "blue",
           "orange",
           "orange",
           "orange",
           "green",
           "green",
           "green",
           "brown",
           "brown",
           "brown",
           "blue",
           "blue",
           "blue",
           "orange",
           "orange",
           "orange",
           "green",
           "green",
           "green",
           "brown",
           "brown",
           "brown",
           "blue",
           "blue",
           "blue",
           "orange",
           "orange",
           "orange",
           "green",
           "green",
           "green",
           "brown",
           "brown",
           "brown",
           "blue",
           "blue",
           "blue",
           "orange",
           "orange",
           "orange",
           "green",
           "green",
           "green",
           "brown",
           "brown",
           "brown",
           "blue",
           "blue",
           "orange",
           "orange",
           "orange",
           "green",
           "green",
           "green",
           "brown",
           "brown",
           "brown",
           "blue",
           "blue",
           "blue",
           "orange",
           "orange",
           "orange",
           "green",
           "green",
           "green",
           "brown",
           "brown",
           "brown",
           "blue",
           "blue",
           "blue",
           "orange",
           "orange",
           "orange",
           "green",
           "green",
           "green",
           "brown",
           "brown",
           "brown",
           "blue"
          ],
          "opacity": 0.5,
          "size": 5
         },
         "mode": "markers+lines",
         "name": "Monthly Mean",
         "type": "scatter",
         "x": [
          "1977-10-01T00:00:00",
          "1977-11-01T00:00:00",
          "1977-12-01T00:00:00",
          "1978-01-01T00:00:00",
          "1978-02-01T00:00:00",
          "1978-03-01T00:00:00",
          "1978-04-01T00:00:00",
          "1978-05-01T00:00:00",
          "1978-06-01T00:00:00",
          "1978-07-01T00:00:00",
          "1978-08-01T00:00:00",
          "1978-09-01T00:00:00",
          "1978-10-01T00:00:00",
          "1978-11-01T00:00:00",
          "1978-12-01T00:00:00",
          "1979-01-01T00:00:00",
          "1979-02-01T00:00:00",
          "1979-03-01T00:00:00",
          "1979-04-01T00:00:00",
          "1979-05-01T00:00:00",
          "1979-06-01T00:00:00",
          "1979-07-01T00:00:00",
          "1979-08-01T00:00:00",
          "1979-09-01T00:00:00",
          "1979-10-01T00:00:00",
          "1979-11-01T00:00:00",
          "1979-12-01T00:00:00",
          "1980-01-01T00:00:00",
          "1980-02-01T00:00:00",
          "1980-03-01T00:00:00",
          "1980-04-01T00:00:00",
          "1980-05-01T00:00:00",
          "1980-06-01T00:00:00",
          "1980-07-01T00:00:00",
          "1980-08-01T00:00:00",
          "1980-09-01T00:00:00",
          "1980-10-01T00:00:00",
          "1980-11-01T00:00:00",
          "1980-12-01T00:00:00",
          "1981-01-01T00:00:00",
          "1981-02-01T00:00:00",
          "1981-03-01T00:00:00",
          "1981-04-01T00:00:00",
          "1981-05-01T00:00:00",
          "1981-06-01T00:00:00",
          "1981-07-01T00:00:00",
          "1981-08-01T00:00:00",
          "1981-09-01T00:00:00",
          "1981-10-01T00:00:00",
          "1981-11-01T00:00:00",
          "1981-12-01T00:00:00",
          "1982-01-01T00:00:00",
          "1982-02-01T00:00:00",
          "1982-03-01T00:00:00",
          "1982-04-01T00:00:00",
          "1982-05-01T00:00:00",
          "1982-06-01T00:00:00",
          "1982-07-01T00:00:00",
          "1982-08-01T00:00:00",
          "1982-09-01T00:00:00",
          "1982-10-01T00:00:00",
          "1982-11-01T00:00:00",
          "1982-12-01T00:00:00",
          "1983-01-01T00:00:00",
          "1983-02-01T00:00:00",
          "1983-03-01T00:00:00",
          "1983-04-01T00:00:00",
          "1983-05-01T00:00:00",
          "1983-06-01T00:00:00",
          "1983-07-01T00:00:00",
          "1983-08-01T00:00:00",
          "1983-09-01T00:00:00",
          "1983-10-01T00:00:00",
          "1983-11-01T00:00:00",
          "1983-12-01T00:00:00",
          "1984-01-01T00:00:00",
          "1984-02-01T00:00:00",
          "1984-03-01T00:00:00",
          "1984-04-01T00:00:00",
          "1984-05-01T00:00:00",
          "1984-06-01T00:00:00",
          "1984-07-01T00:00:00",
          "1984-08-01T00:00:00",
          "1984-09-01T00:00:00",
          "1984-10-01T00:00:00",
          "1984-11-01T00:00:00",
          "1984-12-01T00:00:00",
          "1985-01-01T00:00:00",
          "1985-02-01T00:00:00",
          "1985-03-01T00:00:00",
          "1985-04-01T00:00:00",
          "1985-05-01T00:00:00",
          "1985-06-01T00:00:00",
          "1985-07-01T00:00:00",
          "1985-08-01T00:00:00",
          "1985-09-01T00:00:00",
          "1985-10-01T00:00:00",
          "1985-11-01T00:00:00",
          "1985-12-01T00:00:00",
          "1986-01-01T00:00:00",
          "1986-02-01T00:00:00",
          "1986-03-01T00:00:00",
          "1986-04-01T00:00:00",
          "1986-05-01T00:00:00",
          "1986-06-01T00:00:00",
          "1986-07-01T00:00:00",
          "1986-08-01T00:00:00",
          "1986-09-01T00:00:00",
          "1986-10-01T00:00:00",
          "1986-11-01T00:00:00",
          "1986-12-01T00:00:00",
          "1987-01-01T00:00:00",
          "1987-02-01T00:00:00",
          "1987-03-01T00:00:00",
          "1987-04-01T00:00:00",
          "1987-05-01T00:00:00",
          "1987-06-01T00:00:00",
          "1987-07-01T00:00:00",
          "1987-08-01T00:00:00",
          "1987-09-01T00:00:00",
          "1987-10-01T00:00:00",
          "1987-11-01T00:00:00",
          "1987-12-01T00:00:00",
          "1988-01-01T00:00:00",
          "1988-02-01T00:00:00",
          "1988-03-01T00:00:00",
          "1988-04-01T00:00:00",
          "1988-05-01T00:00:00",
          "1988-06-01T00:00:00",
          "1988-07-01T00:00:00",
          "1988-08-01T00:00:00",
          "1988-09-01T00:00:00",
          "1988-10-01T00:00:00",
          "1988-11-01T00:00:00",
          "1988-12-01T00:00:00",
          "1989-01-01T00:00:00",
          "1989-02-01T00:00:00",
          "1989-03-01T00:00:00",
          "1989-04-01T00:00:00",
          "1989-05-01T00:00:00",
          "1989-06-01T00:00:00",
          "1989-07-01T00:00:00",
          "1989-08-01T00:00:00",
          "1989-09-01T00:00:00",
          "1989-10-01T00:00:00",
          "1989-11-01T00:00:00",
          "1989-12-01T00:00:00",
          "1990-01-01T00:00:00",
          "1990-02-01T00:00:00",
          "1990-03-01T00:00:00",
          "1990-04-01T00:00:00",
          "1990-05-01T00:00:00",
          "1990-06-01T00:00:00",
          "1990-07-01T00:00:00",
          "1990-08-01T00:00:00",
          "1990-09-01T00:00:00",
          "1990-10-01T00:00:00",
          "1990-11-01T00:00:00",
          "1990-12-01T00:00:00",
          "1991-01-01T00:00:00",
          "1991-02-01T00:00:00",
          "1991-03-01T00:00:00",
          "1991-04-01T00:00:00",
          "1991-05-01T00:00:00",
          "1991-06-01T00:00:00",
          "1991-07-01T00:00:00",
          "1991-08-01T00:00:00",
          "1991-09-01T00:00:00",
          "1991-10-01T00:00:00",
          "1991-11-01T00:00:00",
          "1991-12-01T00:00:00",
          "1992-01-01T00:00:00",
          "1992-02-01T00:00:00",
          "1992-03-01T00:00:00",
          "1992-04-01T00:00:00",
          "1992-05-01T00:00:00",
          "1992-06-01T00:00:00",
          "1992-07-01T00:00:00",
          "1992-08-01T00:00:00",
          "1992-09-01T00:00:00",
          "1992-10-01T00:00:00",
          "1992-11-01T00:00:00",
          "1992-12-01T00:00:00",
          "1993-01-01T00:00:00",
          "1993-02-01T00:00:00",
          "1993-03-01T00:00:00",
          "1993-04-01T00:00:00",
          "1993-05-01T00:00:00",
          "1993-06-01T00:00:00",
          "1993-07-01T00:00:00",
          "1993-08-01T00:00:00",
          "1993-09-01T00:00:00",
          "1993-10-01T00:00:00",
          "1993-11-01T00:00:00",
          "1993-12-01T00:00:00",
          "1994-01-01T00:00:00",
          "1994-02-01T00:00:00",
          "1994-03-01T00:00:00",
          "1994-04-01T00:00:00",
          "1994-05-01T00:00:00",
          "1994-06-01T00:00:00",
          "1994-07-01T00:00:00",
          "1994-08-01T00:00:00",
          "1994-09-01T00:00:00",
          "1994-10-01T00:00:00",
          "1994-11-01T00:00:00",
          "1994-12-01T00:00:00",
          "1995-01-01T00:00:00",
          "1995-02-01T00:00:00",
          "1995-03-01T00:00:00",
          "1995-04-01T00:00:00",
          "1995-05-01T00:00:00",
          "1995-06-01T00:00:00",
          "1995-07-01T00:00:00",
          "1995-08-01T00:00:00",
          "1995-09-01T00:00:00",
          "1995-10-01T00:00:00",
          "1995-11-01T00:00:00",
          "1995-12-01T00:00:00",
          "1996-01-01T00:00:00",
          "1996-02-01T00:00:00",
          "1996-03-01T00:00:00",
          "1996-04-01T00:00:00",
          "1996-05-01T00:00:00",
          "1996-06-01T00:00:00",
          "1996-07-01T00:00:00",
          "1996-08-01T00:00:00",
          "1996-09-01T00:00:00",
          "1996-10-01T00:00:00",
          "1996-11-01T00:00:00",
          "1996-12-01T00:00:00",
          "1997-01-01T00:00:00",
          "1997-02-01T00:00:00",
          "1997-03-01T00:00:00",
          "1997-04-01T00:00:00",
          "1997-05-01T00:00:00",
          "1997-06-01T00:00:00",
          "1997-07-01T00:00:00",
          "1997-08-01T00:00:00",
          "1997-09-01T00:00:00",
          "1997-10-01T00:00:00",
          "1997-11-01T00:00:00",
          "1997-12-01T00:00:00",
          "1998-01-01T00:00:00",
          "1998-02-01T00:00:00",
          "1998-03-01T00:00:00",
          "1998-04-01T00:00:00",
          "1998-05-01T00:00:00",
          "1998-06-01T00:00:00",
          "1998-07-01T00:00:00",
          "1998-08-01T00:00:00",
          "1998-09-01T00:00:00",
          "1998-10-01T00:00:00",
          "1998-11-01T00:00:00",
          "1998-12-01T00:00:00",
          "1999-01-01T00:00:00",
          "1999-02-01T00:00:00",
          "1999-03-01T00:00:00",
          "1999-04-01T00:00:00",
          "1999-05-01T00:00:00",
          "1999-06-01T00:00:00",
          "1999-07-01T00:00:00",
          "1999-08-01T00:00:00",
          "1999-09-01T00:00:00",
          "1999-10-01T00:00:00",
          "1999-11-01T00:00:00",
          "1999-12-01T00:00:00",
          "2000-01-01T00:00:00",
          "2000-02-01T00:00:00",
          "2000-03-01T00:00:00",
          "2000-04-01T00:00:00",
          "2000-05-01T00:00:00",
          "2000-06-01T00:00:00",
          "2000-07-01T00:00:00",
          "2000-08-01T00:00:00",
          "2000-09-01T00:00:00",
          "2000-10-01T00:00:00",
          "2000-11-01T00:00:00",
          "2000-12-01T00:00:00",
          "2001-01-01T00:00:00",
          "2001-02-01T00:00:00",
          "2001-03-01T00:00:00",
          "2001-04-01T00:00:00",
          "2001-05-01T00:00:00",
          "2001-06-01T00:00:00",
          "2001-07-01T00:00:00",
          "2001-08-01T00:00:00",
          "2001-09-01T00:00:00",
          "2001-10-01T00:00:00",
          "2001-11-01T00:00:00",
          "2001-12-01T00:00:00",
          "2002-01-01T00:00:00",
          "2002-02-01T00:00:00",
          "2002-03-01T00:00:00",
          "2002-04-01T00:00:00",
          "2002-05-01T00:00:00",
          "2002-06-01T00:00:00",
          "2002-07-01T00:00:00",
          "2002-08-01T00:00:00",
          "2002-09-01T00:00:00",
          "2002-10-01T00:00:00",
          "2002-11-01T00:00:00",
          "2002-12-01T00:00:00",
          "2003-01-01T00:00:00",
          "2003-02-01T00:00:00",
          "2003-03-01T00:00:00",
          "2003-04-01T00:00:00",
          "2003-05-01T00:00:00",
          "2003-06-01T00:00:00",
          "2003-07-01T00:00:00",
          "2003-08-01T00:00:00",
          "2003-09-01T00:00:00",
          "2003-10-01T00:00:00",
          "2003-11-01T00:00:00",
          "2003-12-01T00:00:00",
          "2004-01-01T00:00:00",
          "2004-02-01T00:00:00",
          "2004-03-01T00:00:00",
          "2004-04-01T00:00:00",
          "2004-05-01T00:00:00",
          "2004-06-01T00:00:00",
          "2004-07-01T00:00:00",
          "2004-08-01T00:00:00",
          "2004-09-01T00:00:00",
          "2004-10-01T00:00:00",
          "2004-11-01T00:00:00",
          "2004-12-01T00:00:00",
          "2005-01-01T00:00:00",
          "2005-02-01T00:00:00",
          "2005-03-01T00:00:00",
          "2005-04-01T00:00:00",
          "2005-05-01T00:00:00",
          "2005-06-01T00:00:00",
          "2005-07-01T00:00:00",
          "2005-08-01T00:00:00",
          "2005-09-01T00:00:00",
          "2005-10-01T00:00:00",
          "2005-11-01T00:00:00",
          "2005-12-01T00:00:00",
          "2006-01-01T00:00:00",
          "2006-02-01T00:00:00",
          "2006-03-01T00:00:00",
          "2006-04-01T00:00:00",
          "2006-05-01T00:00:00",
          "2006-06-01T00:00:00",
          "2006-07-01T00:00:00",
          "2006-08-01T00:00:00",
          "2006-09-01T00:00:00",
          "2006-10-01T00:00:00",
          "2006-11-01T00:00:00",
          "2006-12-01T00:00:00",
          "2007-01-01T00:00:00",
          "2007-02-01T00:00:00",
          "2007-03-01T00:00:00",
          "2007-04-01T00:00:00",
          "2007-05-01T00:00:00",
          "2007-06-01T00:00:00",
          "2007-07-01T00:00:00",
          "2007-08-01T00:00:00",
          "2007-09-01T00:00:00",
          "2007-10-01T00:00:00",
          "2007-11-01T00:00:00",
          "2007-12-01T00:00:00",
          "2008-01-01T00:00:00",
          "2008-02-01T00:00:00",
          "2008-03-01T00:00:00",
          "2008-04-01T00:00:00",
          "2008-05-01T00:00:00",
          "2008-06-01T00:00:00",
          "2008-07-01T00:00:00",
          "2008-08-01T00:00:00",
          "2008-09-01T00:00:00",
          "2008-10-01T00:00:00",
          "2008-11-01T00:00:00",
          "2008-12-01T00:00:00",
          "2009-01-01T00:00:00",
          "2009-02-01T00:00:00",
          "2009-03-01T00:00:00",
          "2009-04-01T00:00:00",
          "2009-05-01T00:00:00",
          "2009-06-01T00:00:00",
          "2009-07-01T00:00:00",
          "2009-08-01T00:00:00",
          "2009-09-01T00:00:00",
          "2009-10-01T00:00:00",
          "2009-11-01T00:00:00",
          "2009-12-01T00:00:00",
          "2010-01-01T00:00:00",
          "2010-02-01T00:00:00",
          "2010-03-01T00:00:00",
          "2010-04-01T00:00:00",
          "2010-05-01T00:00:00",
          "2010-06-01T00:00:00",
          "2010-07-01T00:00:00",
          "2010-09-01T00:00:00",
          "2010-10-01T00:00:00",
          "2010-11-01T00:00:00",
          "2010-12-01T00:00:00",
          "2011-01-01T00:00:00",
          "2011-02-01T00:00:00",
          "2011-03-01T00:00:00",
          "2011-04-01T00:00:00",
          "2011-05-01T00:00:00",
          "2011-06-01T00:00:00",
          "2011-07-01T00:00:00",
          "2011-08-01T00:00:00",
          "2011-09-01T00:00:00",
          "2011-10-01T00:00:00",
          "2011-11-01T00:00:00",
          "2011-12-01T00:00:00",
          "2012-01-01T00:00:00",
          "2012-02-01T00:00:00",
          "2012-03-01T00:00:00",
          "2012-04-01T00:00:00",
          "2012-05-01T00:00:00",
          "2012-06-01T00:00:00",
          "2012-07-01T00:00:00",
          "2012-08-01T00:00:00",
          "2012-09-01T00:00:00",
          "2012-10-01T00:00:00",
          "2012-11-01T00:00:00",
          "2012-12-01T00:00:00",
          "2013-01-01T00:00:00",
          "2013-02-01T00:00:00",
          "2013-03-01T00:00:00",
          "2013-04-01T00:00:00",
          "2013-05-01T00:00:00",
          "2013-06-01T00:00:00",
          "2013-07-01T00:00:00",
          "2013-08-01T00:00:00",
          "2013-09-01T00:00:00",
          "2013-10-01T00:00:00",
          "2013-11-01T00:00:00",
          "2013-12-01T00:00:00",
          "2014-01-01T00:00:00",
          "2014-02-01T00:00:00",
          "2014-03-01T00:00:00",
          "2014-04-01T00:00:00",
          "2014-05-01T00:00:00",
          "2014-06-01T00:00:00",
          "2014-07-01T00:00:00",
          "2014-08-01T00:00:00",
          "2014-09-01T00:00:00",
          "2014-10-01T00:00:00",
          "2014-11-01T00:00:00",
          "2014-12-01T00:00:00",
          "2015-01-01T00:00:00",
          "2015-02-01T00:00:00",
          "2015-03-01T00:00:00",
          "2015-04-01T00:00:00",
          "2015-05-01T00:00:00",
          "2015-06-01T00:00:00",
          "2015-07-01T00:00:00",
          "2015-08-01T00:00:00",
          "2015-09-01T00:00:00",
          "2015-10-01T00:00:00",
          "2015-11-01T00:00:00",
          "2015-12-01T00:00:00",
          "2016-02-01T00:00:00",
          "2016-03-01T00:00:00",
          "2016-04-01T00:00:00",
          "2016-05-01T00:00:00",
          "2016-06-01T00:00:00",
          "2016-07-01T00:00:00",
          "2016-08-01T00:00:00",
          "2016-09-01T00:00:00",
          "2016-10-01T00:00:00",
          "2016-11-01T00:00:00",
          "2016-12-01T00:00:00",
          "2017-01-01T00:00:00",
          "2017-02-01T00:00:00",
          "2017-03-01T00:00:00",
          "2017-04-01T00:00:00",
          "2017-05-01T00:00:00",
          "2017-06-01T00:00:00",
          "2017-07-01T00:00:00",
          "2017-08-01T00:00:00",
          "2017-09-01T00:00:00",
          "2017-10-01T00:00:00",
          "2017-11-01T00:00:00",
          "2017-12-01T00:00:00",
          "2018-01-01T00:00:00",
          "2018-02-01T00:00:00",
          "2018-03-01T00:00:00",
          "2018-04-01T00:00:00",
          "2018-05-01T00:00:00",
          "2018-06-01T00:00:00",
          "2018-07-01T00:00:00",
          "2018-08-01T00:00:00",
          "2018-09-01T00:00:00",
          "2018-10-01T00:00:00",
          "2018-11-01T00:00:00",
          "2018-12-01T00:00:00"
         ],
         "y": [
          45.38477777777777,
          46.48386666666667,
          46.45238709677418,
          46.47174193548386,
          46.669607142857146,
          46.63629032258064,
          46.00656666666668,
          45.1708064516129,
          44.810133333333326,
          44.74693548387096,
          44.90154838709677,
          44.97913333333334,
          45.49635483870968,
          45.77703333333333,
          46.96577419354838,
          46.73448148148149,
          46.04410714285715,
          46.18941935483871,
          46.220333333333336,
          45.899483870967735,
          45.49386666666666,
          44.93270967741935,
          45.284451612903226,
          45.69113333333334,
          45.778,
          46.83130000000001,
          47.17267741935484,
          46.71177419354839,
          46.92968965517242,
          46.409548387096784,
          45.77620000000001,
          44.99987096774194,
          44.85372727272728,
          44.9904193548387,
          45.36584615384616,
          45.61886666666668,
          46.439290322580646,
          46.4842,
          46.73883870967743,
          46.749354838709685,
          46.20707407407407,
          46.5138695652174,
          45.9615,
          45.8213870967742,
          46.48963333333333,
          45.30229032258064,
          44.91151612903227,
          45.056666666666665,
          46.488903225806446,
          46.22186666666666,
          46.62400000000001,
          46.89861538461538,
          46.41625000000001,
          46.88909677419356,
          45.599700000000006,
          45.02754838709678,
          44.9387,
          45.11032258064515,
          44.73744827586208,
          44.8134,
          45.711612903225806,
          46.83090000000001,
          46.68490322580645,
          46.6802258064516,
          46.61375,
          46.02832258064517,
          46.19003333333334,
          46.19003225806452,
          45.4981,
          44.901,
          44.68483870967742,
          44.867500000000014,
          45.74270967741936,
          45.554433333333336,
          46.60477419354839,
          47.24451612903225,
          47.08068965517242,
          46.15358064516129,
          45.95644827586207,
          44.97920833333333,
          44.83165517241379,
          44.69009677419355,
          44.79935483870968,
          44.911620689655166,
          45.48225806451613,
          46.54713333333333,
          46.958451612903225,
          46.32070967741935,
          46.59985714285714,
          45.95832258064516,
          46.27626666666667,
          45.589870967741945,
          45.47880000000001,
          45.32203225806453,
          46.510580645161305,
          46.62369999999999,
          46.57803703703704,
          45.61638461538462,
          46.38809677419356,
          46.93661290322581,
          46.01425,
          45.7167741935484,
          46.24656666666669,
          46.040055555555554,
          45.46729166666666,
          45.44458064516128,
          46.15861290322581,
          45.59476666666667,
          45.05893548387096,
          46.5408,
          47.14325806451614,
          45.09016129032258,
          45.83682142857142,
          46.25351612903226,
          46.17539999999999,
          45.20370967741936,
          45.50336666666667,
          45.09016129032258,
          45.00916129032258,
          45.36656666666666,
          45.98217391304348,
          46.53573333333333,
          45.857,
          47.00017857142857,
          47.33003448275863,
          46.4645806451613,
          45.90359999999999,
          45.04558064516129,
          45.17463333333333,
          44.95267741935484,
          45.33345161290322,
          46.1587,
          46.476935483870975,
          46.18326666666666,
          47.00017857142857,
          46.50308695652176,
          46.34371428571428,
          46.65170967741936,
          46.5683,
          45.35467741935484,
          44.85083333333332,
          44.62490322580646,
          44.58566666666667,
          44.77035999999999,
          45.04091304347826,
          46.41343333333332,
          45.87455555555556,
          46.29339130434783,
          47.50507692307691,
          46.72474193548388,
          45.58329999999999,
          45.16693548387096,
          44.89426666666666,
          45.33590322580645,
          44.94967741935484,
          44.91793333333332,
          45.91116129032258,
          46.24526666666667,
          46.315612903225805,
          47.21158064516129,
          46.16132142857143,
          46.86986206896552,
          46.57379999999999,
          45.545838709677405,
          44.97974074074073,
          44.82845161290323,
          44.72490322580645,
          44.64503333333333,
          44.75831034482759,
          46.05403999999999,
          45.9705909090909,
          46.65069999999999,
          45.83158620689656,
          46.43074193548387,
          46.34933333333333,
          46.05435483870967,
          45.16553333333333,
          44.824612903225805,
          44.91716129032258,
          46.189666666666646,
          45.56367741935484,
          46.460566666666665,
          47.07603448275861,
          46.755354838709685,
          46.2362857142857,
          45.56978571428571,
          46.74300000000001,
          45.76096774193549,
          46.23182758620689,
          45.64635483870968,
          45.55416129032258,
          45.11213333333333,
          45.68967741935485,
          45.404266666666665,
          46.89983870967741,
          47.22964516129032,
          47.1434642857143,
          46.99606451612904,
          46.67113333333332,
          45.75741935483871,
          45.11473333333333,
          45.28954838709678,
          45.13374193548388,
          45.5656,
          45.32758064516129,
          46.02386666666666,
          46.82729032258064,
          47.21944444444445,
          47.3258,
          46.85167741935484,
          45.6861,
          45.04083870967742,
          44.85103333333334,
          44.79635483870969,
          44.6957741935484,
          44.549,
          45.18961290322581,
          46.55556666666666,
          47.12504545454545,
          46.66548387096774,
          46.41066666666667,
          46.1018,
          45.99736666666667,
          45.71655172413793,
          45.41290000000001,
          44.845516129032255,
          45.56251612903226,
          45.36616666666667,
          45.72722580645161,
          46.634,
          46.49741666666667,
          45.61970967741935,
          46.414678571428574,
          46.52861290322581,
          45.39133333333333,
          45.62474193548386,
          45.26446666666668,
          45.34667741935485,
          45.38029032258065,
          45.56306666666666,
          45.874387096774186,
          46.20006666666667,
          46.65212903225806,
          47.286870967741926,
          46.10782142857143,
          46.09793548387098,
          46.27509999999999,
          45.686,
          45.56940909090909,
          45.57470967741935,
          45.88119354838709,
          45.71293333333334,
          45.9596129032258,
          46.75033333333332,
          46.619,
          47.213193548387096,
          46.49517857142856,
          46.3561612903226,
          45.9371,
          45.824275862068966,
          45.17593333333332,
          44.91725925925926,
          45.18841935483871,
          46.06863333333333,
          46.13432258064517,
          45.93683333333332,
          47.39890322580644,
          47.04913333333334,
          46.46075862068966,
          46.41670967741936,
          45.659000000000006,
          45.77083870967741,
          45.2437,
          44.901741935483855,
          44.86056666666666,
          45.195033333333335,
          46.43377419354838,
          47.14750000000001,
          47.354806451612895,
          46.48364516129032,
          46.33014285714287,
          45.93406451612903,
          46.31210000000001,
          45.56258064516129,
          45.0917,
          44.83967741935484,
          45.11006451612903,
          44.96296666666668,
          45.46122580645161,
          45.776700000000005,
          46.1426129032258,
          46.11016129032258,
          47.63457142857143,
          47.08690322580646,
          45.79880000000001,
          46.16041935483872,
          46.450333333333326,
          45.75329032258063,
          45.47854838709678,
          45.0587,
          45.78751612903225,
          47.61056666666666,
          46.68703225806451,
          46.63625806451613,
          46.346178571428574,
          46.34170967741936,
          45.2882,
          45.8296129032258,
          46.0584,
          45.39461290322581,
          45.21087096774193,
          44.83803333333334,
          44.86129032258064,
          45.500966666666656,
          46.32377419354838,
          46.58974193548387,
          46.51862068965517,
          45.89261290322582,
          45.89426666666665,
          45.45319354838711,
          44.88586666666667,
          44.9536129032258,
          45.24103225806451,
          45.63153333333333,
          46.29822580645161,
          46.34706666666668,
          46.27083870967742,
          47.36722580645161,
          46.39910714285714,
          45.76100000000001,
          46.15336666666667,
          45.60267741935483,
          45.422166666666655,
          45.029935483870965,
          44.81967741935484,
          44.940066666666674,
          45.75903225806451,
          46.5688,
          46.37061290322581,
          46.4118064516129,
          45.9232857142857,
          46.37090322580645,
          46.40413333333334,
          46.26267741935485,
          45.62003333333333,
          44.96312903225808,
          44.90564516129033,
          45.81216666666667,
          46.62741935483872,
          46.846866666666656,
          47.66096774193549,
          47.30719354838708,
          46.44171428571429,
          46.75767741935484,
          45.55539999999999,
          45.13075,
          45.154500000000006,
          46.10248387096775,
          46.14806451612904,
          45.44083333333333,
          45.055290322580646,
          45.363433333333326,
          46.90454838709677,
          47.25625806451613,
          46.644137931034486,
          46.39451612903226,
          45.94263333333335,
          45.27648387096774,
          44.88923333333334,
          45.34670967741936,
          46.56154838709677,
          46.65653333333333,
          46.57890322580646,
          46.68143333333334,
          46.48493548387096,
          46.35783870967744,
          46.74882142857143,
          45.84674193548387,
          45.782,
          46.48677419354839,
          45.57706666666666,
          45.52893548387097,
          46.015580645161286,
          46.32359999999999,
          45.57322580645162,
          47.74956666666667,
          47.04319354838709,
          46.43022580645161,
          46.218678571428576,
          45.47845161290323,
          46.49236666666668,
          45.22161290322581,
          44.84526666666667,
          44.77692857142858,
          46.54735714285715,
          46.138193548387086,
          47.07736666666666,
          46.025161290322586,
          46.66351612903228,
          46.99389285714288,
          46.13329032258065,
          45.47446666666667,
          45.061,
          45.19126666666667,
          45.19929032258066,
          45.10106451612902,
          45.68966666666667,
          46.97403225806452,
          47.1277,
          47.417,
          46.98535483870968,
          46.826344827586205,
          45.85741935483869,
          45.2554,
          45.338193548387096,
          46.3464,
          46.48561290322581,
          46.07345161290323,
          45.91076666666667,
          46.5942258064516,
          46.82806666666668,
          47.00325806451613,
          47.57125806451612,
          47.6762857142857,
          46.18887096774193,
          45.93813333333334,
          45.78216129032258,
          45.256066666666655,
          44.94951612903226,
          45.16745161290323,
          44.94443333333334,
          45.942580645161286,
          46.6067,
          46.30616129032257,
          47.475677419354845,
          47.82571428571429,
          46.793838709677416,
          46.16023333333335,
          45.66274193548387,
          45.51743333333333,
          45.14332258064516,
          45.57722580645161,
          45.30563333333334,
          45.3187741935484,
          47.22409999999999,
          46.75206451612902,
          47.10974193548387,
          46.55500000000001,
          46.4368064516129,
          46.33824137931036,
          46.24983870967745,
          45.50736666666667,
          45.14125806451613,
          45.6483,
          45.75476666666668,
          45.33253333333332,
          46.701600000000006,
          48.07954838709678,
          47.04373913043479,
          46.4296129032258,
          46.22886666666668,
          45.34177419354838,
          45.17006666666667,
          45.59509677419355,
          45.621354838709685,
          45.87723333333333,
          45.5256129032258,
          45.74609999999999,
          45.92390322580645,
          46.04016129032258,
          45.89228571428572,
          46.74622580645161,
          45.61746666666668,
          45.037806451612894,
          45.05023333333333,
          45.0939677419355,
          45.44593548387097,
          45.86306896551724,
          46.53296774193548,
          46.56423333333334,
          46.70954838709678,
          47.42790322580645,
          47.36785714285714,
          46.25209677419353,
          46.092266666666674,
          45.448,
          45.23043333333332,
          44.96612903225807,
          45.113935483870975,
          45.19016666666667,
          45.14358064516129,
          45.965800000000016,
          46.93877419354839
         ]
        }
       ],
       "layout": {
        "font": {
         "color": "#7f7f7f"
        },
        "height": 450,
        "hovermode": "closest",
        "legend": {
         "bgcolor": "rgba(0,0,0,0)",
         "itemclick": false,
         "itemdoubleclick": false,
         "orientation": "h"
        },
        "margin": {
         "b": 0,
         "l": 0,
         "r": 0,
         "t": 0
        },
        "paper_bgcolor": "rgba(0,0,0,0)",
        "plot_bgcolor": "#f7fbfd",
        "template": {
         "data": {
          "bar": [
           {
            "error_x": {
             "color": "#2a3f5f"
            },
            "error_y": {
             "color": "#2a3f5f"
            },
            "marker": {
             "line": {
              "color": "#E5ECF6",
              "width": 0.5
             }
            },
            "type": "bar"
           }
          ],
          "barpolar": [
           {
            "marker": {
             "line": {
              "color": "#E5ECF6",
              "width": 0.5
             }
            },
            "type": "barpolar"
           }
          ],
          "carpet": [
           {
            "aaxis": {
             "endlinecolor": "#2a3f5f",
             "gridcolor": "white",
             "linecolor": "white",
             "minorgridcolor": "white",
             "startlinecolor": "#2a3f5f"
            },
            "baxis": {
             "endlinecolor": "#2a3f5f",
             "gridcolor": "white",
             "linecolor": "white",
             "minorgridcolor": "white",
             "startlinecolor": "#2a3f5f"
            },
            "type": "carpet"
           }
          ],
          "choropleth": [
           {
            "colorbar": {
             "outlinewidth": 0,
             "ticks": ""
            },
            "type": "choropleth"
           }
          ],
          "contour": [
           {
            "colorbar": {
             "outlinewidth": 0,
             "ticks": ""
            },
            "colorscale": [
             [
              0,
              "#0d0887"
             ],
             [
              0.1111111111111111,
              "#46039f"
             ],
             [
              0.2222222222222222,
              "#7201a8"
             ],
             [
              0.3333333333333333,
              "#9c179e"
             ],
             [
              0.4444444444444444,
              "#bd3786"
             ],
             [
              0.5555555555555556,
              "#d8576b"
             ],
             [
              0.6666666666666666,
              "#ed7953"
             ],
             [
              0.7777777777777778,
              "#fb9f3a"
             ],
             [
              0.8888888888888888,
              "#fdca26"
             ],
             [
              1,
              "#f0f921"
             ]
            ],
            "type": "contour"
           }
          ],
          "contourcarpet": [
           {
            "colorbar": {
             "outlinewidth": 0,
             "ticks": ""
            },
            "type": "contourcarpet"
           }
          ],
          "heatmap": [
           {
            "colorbar": {
             "outlinewidth": 0,
             "ticks": ""
            },
            "colorscale": [
             [
              0,
              "#0d0887"
             ],
             [
              0.1111111111111111,
              "#46039f"
             ],
             [
              0.2222222222222222,
              "#7201a8"
             ],
             [
              0.3333333333333333,
              "#9c179e"
             ],
             [
              0.4444444444444444,
              "#bd3786"
             ],
             [
              0.5555555555555556,
              "#d8576b"
             ],
             [
              0.6666666666666666,
              "#ed7953"
             ],
             [
              0.7777777777777778,
              "#fb9f3a"
             ],
             [
              0.8888888888888888,
              "#fdca26"
             ],
             [
              1,
              "#f0f921"
             ]
            ],
            "type": "heatmap"
           }
          ],
          "heatmapgl": [
           {
            "colorbar": {
             "outlinewidth": 0,
             "ticks": ""
            },
            "colorscale": [
             [
              0,
              "#0d0887"
             ],
             [
              0.1111111111111111,
              "#46039f"
             ],
             [
              0.2222222222222222,
              "#7201a8"
             ],
             [
              0.3333333333333333,
              "#9c179e"
             ],
             [
              0.4444444444444444,
              "#bd3786"
             ],
             [
              0.5555555555555556,
              "#d8576b"
             ],
             [
              0.6666666666666666,
              "#ed7953"
             ],
             [
              0.7777777777777778,
              "#fb9f3a"
             ],
             [
              0.8888888888888888,
              "#fdca26"
             ],
             [
              1,
              "#f0f921"
             ]
            ],
            "type": "heatmapgl"
           }
          ],
          "histogram": [
           {
            "marker": {
             "colorbar": {
              "outlinewidth": 0,
              "ticks": ""
             }
            },
            "type": "histogram"
           }
          ],
          "histogram2d": [
           {
            "colorbar": {
             "outlinewidth": 0,
             "ticks": ""
            },
            "colorscale": [
             [
              0,
              "#0d0887"
             ],
             [
              0.1111111111111111,
              "#46039f"
             ],
             [
              0.2222222222222222,
              "#7201a8"
             ],
             [
              0.3333333333333333,
              "#9c179e"
             ],
             [
              0.4444444444444444,
              "#bd3786"
             ],
             [
              0.5555555555555556,
              "#d8576b"
             ],
             [
              0.6666666666666666,
              "#ed7953"
             ],
             [
              0.7777777777777778,
              "#fb9f3a"
             ],
             [
              0.8888888888888888,
              "#fdca26"
             ],
             [
              1,
              "#f0f921"
             ]
            ],
            "type": "histogram2d"
           }
          ],
          "histogram2dcontour": [
           {
            "colorbar": {
             "outlinewidth": 0,
             "ticks": ""
            },
            "colorscale": [
             [
              0,
              "#0d0887"
             ],
             [
              0.1111111111111111,
              "#46039f"
             ],
             [
              0.2222222222222222,
              "#7201a8"
             ],
             [
              0.3333333333333333,
              "#9c179e"
             ],
             [
              0.4444444444444444,
              "#bd3786"
             ],
             [
              0.5555555555555556,
              "#d8576b"
             ],
             [
              0.6666666666666666,
              "#ed7953"
             ],
             [
              0.7777777777777778,
              "#fb9f3a"
             ],
             [
              0.8888888888888888,
              "#fdca26"
             ],
             [
              1,
              "#f0f921"
             ]
            ],
            "type": "histogram2dcontour"
           }
          ],
          "mesh3d": [
           {
            "colorbar": {
             "outlinewidth": 0,
             "ticks": ""
            },
            "type": "mesh3d"
           }
          ],
          "parcoords": [
           {
            "line": {
             "colorbar": {
              "outlinewidth": 0,
              "ticks": ""
             }
            },
            "type": "parcoords"
           }
          ],
          "pie": [
           {
            "automargin": true,
            "type": "pie"
           }
          ],
          "scatter": [
           {
            "marker": {
             "colorbar": {
              "outlinewidth": 0,
              "ticks": ""
             }
            },
            "type": "scatter"
           }
          ],
          "scatter3d": [
           {
            "line": {
             "colorbar": {
              "outlinewidth": 0,
              "ticks": ""
             }
            },
            "marker": {
             "colorbar": {
              "outlinewidth": 0,
              "ticks": ""
             }
            },
            "type": "scatter3d"
           }
          ],
          "scattercarpet": [
           {
            "marker": {
             "colorbar": {
              "outlinewidth": 0,
              "ticks": ""
             }
            },
            "type": "scattercarpet"
           }
          ],
          "scattergeo": [
           {
            "marker": {
             "colorbar": {
              "outlinewidth": 0,
              "ticks": ""
             }
            },
            "type": "scattergeo"
           }
          ],
          "scattergl": [
           {
            "marker": {
             "colorbar": {
              "outlinewidth": 0,
              "ticks": ""
             }
            },
            "type": "scattergl"
           }
          ],
          "scattermapbox": [
           {
            "marker": {
             "colorbar": {
              "outlinewidth": 0,
              "ticks": ""
             }
            },
            "type": "scattermapbox"
           }
          ],
          "scatterpolar": [
           {
            "marker": {
             "colorbar": {
              "outlinewidth": 0,
              "ticks": ""
             }
            },
            "type": "scatterpolar"
           }
          ],
          "scatterpolargl": [
           {
            "marker": {
             "colorbar": {
              "outlinewidth": 0,
              "ticks": ""
             }
            },
            "type": "scatterpolargl"
           }
          ],
          "scatterternary": [
           {
            "marker": {
             "colorbar": {
              "outlinewidth": 0,
              "ticks": ""
             }
            },
            "type": "scatterternary"
           }
          ],
          "surface": [
           {
            "colorbar": {
             "outlinewidth": 0,
             "ticks": ""
            },
            "colorscale": [
             [
              0,
              "#0d0887"
             ],
             [
              0.1111111111111111,
              "#46039f"
             ],
             [
              0.2222222222222222,
              "#7201a8"
             ],
             [
              0.3333333333333333,
              "#9c179e"
             ],
             [
              0.4444444444444444,
              "#bd3786"
             ],
             [
              0.5555555555555556,
              "#d8576b"
             ],
             [
              0.6666666666666666,
              "#ed7953"
             ],
             [
              0.7777777777777778,
              "#fb9f3a"
             ],
             [
              0.8888888888888888,
              "#fdca26"
             ],
             [
              1,
              "#f0f921"
             ]
            ],
            "type": "surface"
           }
          ],
          "table": [
           {
            "cells": {
             "fill": {
              "color": "#EBF0F8"
             },
             "line": {
              "color": "white"
             }
            },
            "header": {
             "fill": {
              "color": "#C8D4E3"
             },
             "line": {
              "color": "white"
             }
            },
            "type": "table"
           }
          ]
         },
         "layout": {
          "annotationdefaults": {
           "arrowcolor": "#2a3f5f",
           "arrowhead": 0,
           "arrowwidth": 1
          },
          "autotypenumbers": "strict",
          "coloraxis": {
           "colorbar": {
            "outlinewidth": 0,
            "ticks": ""
           }
          },
          "colorscale": {
           "diverging": [
            [
             0,
             "#8e0152"
            ],
            [
             0.1,
             "#c51b7d"
            ],
            [
             0.2,
             "#de77ae"
            ],
            [
             0.3,
             "#f1b6da"
            ],
            [
             0.4,
             "#fde0ef"
            ],
            [
             0.5,
             "#f7f7f7"
            ],
            [
             0.6,
             "#e6f5d0"
            ],
            [
             0.7,
             "#b8e186"
            ],
            [
             0.8,
             "#7fbc41"
            ],
            [
             0.9,
             "#4d9221"
            ],
            [
             1,
             "#276419"
            ]
           ],
           "sequential": [
            [
             0,
             "#0d0887"
            ],
            [
             0.1111111111111111,
             "#46039f"
            ],
            [
             0.2222222222222222,
             "#7201a8"
            ],
            [
             0.3333333333333333,
             "#9c179e"
            ],
            [
             0.4444444444444444,
             "#bd3786"
            ],
            [
             0.5555555555555556,
             "#d8576b"
            ],
            [
             0.6666666666666666,
             "#ed7953"
            ],
            [
             0.7777777777777778,
             "#fb9f3a"
            ],
            [
             0.8888888888888888,
             "#fdca26"
            ],
            [
             1,
             "#f0f921"
            ]
           ],
           "sequentialminus": [
            [
             0,
             "#0d0887"
            ],
            [
             0.1111111111111111,
             "#46039f"
            ],
            [
             0.2222222222222222,
             "#7201a8"
            ],
            [
             0.3333333333333333,
             "#9c179e"
            ],
            [
             0.4444444444444444,
             "#bd3786"
            ],
            [
             0.5555555555555556,
             "#d8576b"
            ],
            [
             0.6666666666666666,
             "#ed7953"
            ],
            [
             0.7777777777777778,
             "#fb9f3a"
            ],
            [
             0.8888888888888888,
             "#fdca26"
            ],
            [
             1,
             "#f0f921"
            ]
           ]
          },
          "colorway": [
           "#636efa",
           "#EF553B",
           "#00cc96",
           "#ab63fa",
           "#FFA15A",
           "#19d3f3",
           "#FF6692",
           "#B6E880",
           "#FF97FF",
           "#FECB52"
          ],
          "font": {
           "color": "#2a3f5f"
          },
          "geo": {
           "bgcolor": "white",
           "lakecolor": "white",
           "landcolor": "#E5ECF6",
           "showlakes": true,
           "showland": true,
           "subunitcolor": "white"
          },
          "hoverlabel": {
           "align": "left"
          },
          "hovermode": "closest",
          "mapbox": {
           "style": "light"
          },
          "paper_bgcolor": "white",
          "plot_bgcolor": "#E5ECF6",
          "polar": {
           "angularaxis": {
            "gridcolor": "white",
            "linecolor": "white",
            "ticks": ""
           },
           "bgcolor": "#E5ECF6",
           "radialaxis": {
            "gridcolor": "white",
            "linecolor": "white",
            "ticks": ""
           }
          },
          "scene": {
           "xaxis": {
            "backgroundcolor": "#E5ECF6",
            "gridcolor": "white",
            "gridwidth": 2,
            "linecolor": "white",
            "showbackground": true,
            "ticks": "",
            "zerolinecolor": "white"
           },
           "yaxis": {
            "backgroundcolor": "#E5ECF6",
            "gridcolor": "white",
            "gridwidth": 2,
            "linecolor": "white",
            "showbackground": true,
            "ticks": "",
            "zerolinecolor": "white"
           },
           "zaxis": {
            "backgroundcolor": "#E5ECF6",
            "gridcolor": "white",
            "gridwidth": 2,
            "linecolor": "white",
            "showbackground": true,
            "ticks": "",
            "zerolinecolor": "white"
           }
          },
          "shapedefaults": {
           "line": {
            "color": "#2a3f5f"
           }
          },
          "ternary": {
           "aaxis": {
            "gridcolor": "white",
            "linecolor": "white",
            "ticks": ""
           },
           "baxis": {
            "gridcolor": "white",
            "linecolor": "white",
            "ticks": ""
           },
           "bgcolor": "#E5ECF6",
           "caxis": {
            "gridcolor": "white",
            "linecolor": "white",
            "ticks": ""
           }
          },
          "title": {
           "x": 0.05
          },
          "xaxis": {
           "automargin": true,
           "gridcolor": "white",
           "linecolor": "white",
           "ticks": "",
           "title": {
            "standoff": 15
           },
           "zerolinecolor": "white",
           "zerolinewidth": 2
          },
          "yaxis": {
           "automargin": true,
           "gridcolor": "white",
           "linecolor": "white",
           "ticks": "",
           "title": {
            "standoff": 15
           },
           "zerolinecolor": "white",
           "zerolinewidth": 2
          }
         }
        },
        "xaxis": {
         "fixedrange": true,
         "showgrid": false,
         "title": {
          "text": "Date"
         }
        },
        "yaxis": {
         "fixedrange": true,
         "title": {
          "text": "Level Above OD Malin (m)"
         }
        }
       }
      },
      "text/html": [
       "<div>                            <div id=\"eb9e4f5f-10d9-446f-9bfb-f392c01ad8b4\" class=\"plotly-graph-div\" style=\"height:450px; width:100%;\"></div>            <script type=\"text/javascript\">                require([\"plotly\"], function(Plotly) {                    window.PLOTLYENV=window.PLOTLYENV || {};                                    if (document.getElementById(\"eb9e4f5f-10d9-446f-9bfb-f392c01ad8b4\")) {                    Plotly.newPlot(                        \"eb9e4f5f-10d9-446f-9bfb-f392c01ad8b4\",                        [{\"hovertemplate\": \"%{x|%b %Y}<br><b>Lake Level</b><br>Monthly Mean: %{y:.2f} m<br><extra></extra>\", \"line\": {\"color\": \"#00a4ae\", \"width\": 1}, \"marker\": {\"color\": [\"brown\", \"brown\", \"blue\", \"blue\", \"blue\", \"orange\", \"orange\", \"orange\", \"green\", \"green\", \"green\", \"brown\", \"brown\", \"brown\", \"blue\", \"blue\", \"blue\", \"orange\", \"orange\", \"orange\", \"green\", \"green\", \"green\", \"brown\", \"brown\", \"brown\", \"blue\", \"blue\", \"blue\", \"orange\", \"orange\", \"orange\", \"green\", \"green\", \"green\", \"brown\", \"brown\", \"brown\", \"blue\", \"blue\", \"blue\", \"orange\", \"orange\", \"orange\", \"green\", \"green\", \"green\", \"brown\", \"brown\", \"brown\", \"blue\", \"blue\", \"blue\", \"orange\", \"orange\", \"orange\", \"green\", \"green\", \"green\", \"brown\", \"brown\", \"brown\", \"blue\", \"blue\", \"blue\", \"orange\", \"orange\", \"orange\", \"green\", \"green\", \"green\", \"brown\", \"brown\", \"brown\", \"blue\", \"blue\", \"blue\", \"orange\", \"orange\", \"orange\", \"green\", \"green\", \"green\", \"brown\", \"brown\", \"brown\", \"blue\", \"blue\", \"blue\", \"orange\", \"orange\", \"orange\", \"green\", \"green\", \"green\", \"brown\", \"brown\", \"brown\", \"blue\", \"blue\", \"blue\", \"orange\", \"orange\", \"orange\", \"green\", \"green\", \"green\", \"brown\", \"brown\", \"brown\", \"blue\", \"blue\", \"blue\", \"orange\", \"orange\", \"orange\", \"green\", \"green\", \"green\", \"brown\", \"brown\", \"brown\", \"blue\", \"blue\", \"blue\", \"orange\", \"orange\", \"orange\", \"green\", \"green\", \"green\", \"brown\", \"brown\", \"brown\", \"blue\", \"blue\", \"blue\", \"orange\", \"orange\", \"orange\", \"green\", \"green\", \"green\", \"brown\", \"brown\", \"brown\", \"blue\", \"blue\", \"blue\", \"orange\", \"orange\", \"orange\", \"green\", \"green\", \"green\", \"brown\", \"brown\", \"brown\", \"blue\", \"blue\", \"blue\", \"orange\", \"orange\", \"orange\", \"green\", \"green\", \"green\", \"brown\", \"brown\", \"brown\", \"blue\", \"blue\", \"blue\", \"orange\", \"orange\", \"orange\", \"green\", \"green\", \"green\", \"brown\", \"brown\", \"brown\", \"blue\", \"blue\", \"blue\", \"orange\", \"orange\", \"orange\", \"green\", \"green\", \"green\", \"brown\", \"brown\", \"brown\", \"blue\", \"blue\", \"blue\", \"orange\", \"orange\", \"orange\", \"green\", \"green\", \"green\", \"brown\", \"brown\", \"brown\", \"blue\", \"blue\", \"blue\", \"orange\", \"orange\", \"orange\", \"green\", \"green\", \"green\", \"brown\", \"brown\", \"brown\", \"blue\", \"blue\", \"blue\", \"orange\", \"orange\", \"orange\", \"green\", \"green\", \"green\", \"brown\", \"brown\", \"brown\", \"blue\", \"blue\", \"blue\", \"orange\", \"orange\", \"orange\", \"green\", \"green\", \"green\", \"brown\", \"brown\", \"brown\", \"blue\", \"blue\", \"blue\", \"orange\", \"orange\", \"orange\", \"green\", \"green\", \"green\", \"brown\", \"brown\", \"brown\", \"blue\", \"blue\", \"blue\", \"orange\", \"orange\", \"orange\", \"green\", \"green\", \"green\", \"brown\", \"brown\", \"brown\", \"blue\", \"blue\", \"blue\", \"orange\", \"orange\", \"orange\", \"green\", \"green\", \"green\", \"brown\", \"brown\", \"brown\", \"blue\", \"blue\", \"blue\", \"orange\", \"orange\", \"orange\", \"green\", \"green\", \"green\", \"brown\", \"brown\", \"brown\", \"blue\", \"blue\", \"blue\", \"orange\", \"orange\", \"orange\", \"green\", \"green\", \"green\", \"brown\", \"brown\", \"brown\", \"blue\", \"blue\", \"blue\", \"orange\", \"orange\", \"orange\", \"green\", \"green\", \"green\", \"brown\", \"brown\", \"brown\", \"blue\", \"blue\", \"blue\", \"orange\", \"orange\", \"orange\", \"green\", \"green\", \"green\", \"brown\", \"brown\", \"brown\", \"blue\", \"blue\", \"blue\", \"orange\", \"orange\", \"orange\", \"green\", \"green\", \"green\", \"brown\", \"brown\", \"brown\", \"blue\", \"blue\", \"blue\", \"orange\", \"orange\", \"orange\", \"green\", \"green\", \"green\", \"brown\", \"brown\", \"brown\", \"blue\", \"blue\", \"blue\", \"orange\", \"orange\", \"orange\", \"green\", \"green\", \"green\", \"brown\", \"brown\", \"brown\", \"blue\", \"blue\", \"blue\", \"orange\", \"orange\", \"orange\", \"green\", \"green\", \"green\", \"brown\", \"brown\", \"brown\", \"blue\", \"blue\", \"blue\", \"orange\", \"orange\", \"orange\", \"green\", \"green\", \"green\", \"brown\", \"brown\", \"brown\", \"blue\", \"blue\", \"blue\", \"orange\", \"orange\", \"orange\", \"green\", \"green\", \"brown\", \"brown\", \"brown\", \"blue\", \"blue\", \"blue\", \"orange\", \"orange\", \"orange\", \"green\", \"green\", \"green\", \"brown\", \"brown\", \"brown\", \"blue\", \"blue\", \"blue\", \"orange\", \"orange\", \"orange\", \"green\", \"green\", \"green\", \"brown\", \"brown\", \"brown\", \"blue\", \"blue\", \"blue\", \"orange\", \"orange\", \"orange\", \"green\", \"green\", \"green\", \"brown\", \"brown\", \"brown\", \"blue\", \"blue\", \"blue\", \"orange\", \"orange\", \"orange\", \"green\", \"green\", \"green\", \"brown\", \"brown\", \"brown\", \"blue\", \"blue\", \"blue\", \"orange\", \"orange\", \"orange\", \"green\", \"green\", \"green\", \"brown\", \"brown\", \"brown\", \"blue\", \"blue\", \"orange\", \"orange\", \"orange\", \"green\", \"green\", \"green\", \"brown\", \"brown\", \"brown\", \"blue\", \"blue\", \"blue\", \"orange\", \"orange\", \"orange\", \"green\", \"green\", \"green\", \"brown\", \"brown\", \"brown\", \"blue\", \"blue\", \"blue\", \"orange\", \"orange\", \"orange\", \"green\", \"green\", \"green\", \"brown\", \"brown\", \"brown\", \"blue\"], \"opacity\": 0.5, \"size\": 5}, \"mode\": \"markers+lines\", \"name\": \"Monthly Mean\", \"type\": \"scatter\", \"x\": [\"1977-10-01T00:00:00\", \"1977-11-01T00:00:00\", \"1977-12-01T00:00:00\", \"1978-01-01T00:00:00\", \"1978-02-01T00:00:00\", \"1978-03-01T00:00:00\", \"1978-04-01T00:00:00\", \"1978-05-01T00:00:00\", \"1978-06-01T00:00:00\", \"1978-07-01T00:00:00\", \"1978-08-01T00:00:00\", \"1978-09-01T00:00:00\", \"1978-10-01T00:00:00\", \"1978-11-01T00:00:00\", \"1978-12-01T00:00:00\", \"1979-01-01T00:00:00\", \"1979-02-01T00:00:00\", \"1979-03-01T00:00:00\", \"1979-04-01T00:00:00\", \"1979-05-01T00:00:00\", \"1979-06-01T00:00:00\", \"1979-07-01T00:00:00\", \"1979-08-01T00:00:00\", \"1979-09-01T00:00:00\", \"1979-10-01T00:00:00\", \"1979-11-01T00:00:00\", \"1979-12-01T00:00:00\", \"1980-01-01T00:00:00\", \"1980-02-01T00:00:00\", \"1980-03-01T00:00:00\", \"1980-04-01T00:00:00\", \"1980-05-01T00:00:00\", \"1980-06-01T00:00:00\", \"1980-07-01T00:00:00\", \"1980-08-01T00:00:00\", \"1980-09-01T00:00:00\", \"1980-10-01T00:00:00\", \"1980-11-01T00:00:00\", \"1980-12-01T00:00:00\", \"1981-01-01T00:00:00\", \"1981-02-01T00:00:00\", \"1981-03-01T00:00:00\", \"1981-04-01T00:00:00\", \"1981-05-01T00:00:00\", \"1981-06-01T00:00:00\", \"1981-07-01T00:00:00\", \"1981-08-01T00:00:00\", \"1981-09-01T00:00:00\", \"1981-10-01T00:00:00\", \"1981-11-01T00:00:00\", \"1981-12-01T00:00:00\", \"1982-01-01T00:00:00\", \"1982-02-01T00:00:00\", \"1982-03-01T00:00:00\", \"1982-04-01T00:00:00\", \"1982-05-01T00:00:00\", \"1982-06-01T00:00:00\", \"1982-07-01T00:00:00\", \"1982-08-01T00:00:00\", \"1982-09-01T00:00:00\", \"1982-10-01T00:00:00\", \"1982-11-01T00:00:00\", \"1982-12-01T00:00:00\", \"1983-01-01T00:00:00\", \"1983-02-01T00:00:00\", \"1983-03-01T00:00:00\", \"1983-04-01T00:00:00\", \"1983-05-01T00:00:00\", \"1983-06-01T00:00:00\", \"1983-07-01T00:00:00\", \"1983-08-01T00:00:00\", \"1983-09-01T00:00:00\", \"1983-10-01T00:00:00\", \"1983-11-01T00:00:00\", \"1983-12-01T00:00:00\", \"1984-01-01T00:00:00\", \"1984-02-01T00:00:00\", \"1984-03-01T00:00:00\", \"1984-04-01T00:00:00\", \"1984-05-01T00:00:00\", \"1984-06-01T00:00:00\", \"1984-07-01T00:00:00\", \"1984-08-01T00:00:00\", \"1984-09-01T00:00:00\", \"1984-10-01T00:00:00\", \"1984-11-01T00:00:00\", \"1984-12-01T00:00:00\", \"1985-01-01T00:00:00\", \"1985-02-01T00:00:00\", \"1985-03-01T00:00:00\", \"1985-04-01T00:00:00\", \"1985-05-01T00:00:00\", \"1985-06-01T00:00:00\", \"1985-07-01T00:00:00\", \"1985-08-01T00:00:00\", \"1985-09-01T00:00:00\", \"1985-10-01T00:00:00\", \"1985-11-01T00:00:00\", \"1985-12-01T00:00:00\", \"1986-01-01T00:00:00\", \"1986-02-01T00:00:00\", \"1986-03-01T00:00:00\", \"1986-04-01T00:00:00\", \"1986-05-01T00:00:00\", \"1986-06-01T00:00:00\", \"1986-07-01T00:00:00\", \"1986-08-01T00:00:00\", \"1986-09-01T00:00:00\", \"1986-10-01T00:00:00\", \"1986-11-01T00:00:00\", \"1986-12-01T00:00:00\", \"1987-01-01T00:00:00\", \"1987-02-01T00:00:00\", \"1987-03-01T00:00:00\", \"1987-04-01T00:00:00\", \"1987-05-01T00:00:00\", \"1987-06-01T00:00:00\", \"1987-07-01T00:00:00\", \"1987-08-01T00:00:00\", \"1987-09-01T00:00:00\", \"1987-10-01T00:00:00\", \"1987-11-01T00:00:00\", \"1987-12-01T00:00:00\", \"1988-01-01T00:00:00\", \"1988-02-01T00:00:00\", \"1988-03-01T00:00:00\", \"1988-04-01T00:00:00\", \"1988-05-01T00:00:00\", \"1988-06-01T00:00:00\", \"1988-07-01T00:00:00\", \"1988-08-01T00:00:00\", \"1988-09-01T00:00:00\", \"1988-10-01T00:00:00\", \"1988-11-01T00:00:00\", \"1988-12-01T00:00:00\", \"1989-01-01T00:00:00\", \"1989-02-01T00:00:00\", \"1989-03-01T00:00:00\", \"1989-04-01T00:00:00\", \"1989-05-01T00:00:00\", \"1989-06-01T00:00:00\", \"1989-07-01T00:00:00\", \"1989-08-01T00:00:00\", \"1989-09-01T00:00:00\", \"1989-10-01T00:00:00\", \"1989-11-01T00:00:00\", \"1989-12-01T00:00:00\", \"1990-01-01T00:00:00\", \"1990-02-01T00:00:00\", \"1990-03-01T00:00:00\", \"1990-04-01T00:00:00\", \"1990-05-01T00:00:00\", \"1990-06-01T00:00:00\", \"1990-07-01T00:00:00\", \"1990-08-01T00:00:00\", \"1990-09-01T00:00:00\", \"1990-10-01T00:00:00\", \"1990-11-01T00:00:00\", \"1990-12-01T00:00:00\", \"1991-01-01T00:00:00\", \"1991-02-01T00:00:00\", \"1991-03-01T00:00:00\", \"1991-04-01T00:00:00\", \"1991-05-01T00:00:00\", \"1991-06-01T00:00:00\", \"1991-07-01T00:00:00\", \"1991-08-01T00:00:00\", \"1991-09-01T00:00:00\", \"1991-10-01T00:00:00\", \"1991-11-01T00:00:00\", \"1991-12-01T00:00:00\", \"1992-01-01T00:00:00\", \"1992-02-01T00:00:00\", \"1992-03-01T00:00:00\", \"1992-04-01T00:00:00\", \"1992-05-01T00:00:00\", \"1992-06-01T00:00:00\", \"1992-07-01T00:00:00\", \"1992-08-01T00:00:00\", \"1992-09-01T00:00:00\", \"1992-10-01T00:00:00\", \"1992-11-01T00:00:00\", \"1992-12-01T00:00:00\", \"1993-01-01T00:00:00\", \"1993-02-01T00:00:00\", \"1993-03-01T00:00:00\", \"1993-04-01T00:00:00\", \"1993-05-01T00:00:00\", \"1993-06-01T00:00:00\", \"1993-07-01T00:00:00\", \"1993-08-01T00:00:00\", \"1993-09-01T00:00:00\", \"1993-10-01T00:00:00\", \"1993-11-01T00:00:00\", \"1993-12-01T00:00:00\", \"1994-01-01T00:00:00\", \"1994-02-01T00:00:00\", \"1994-03-01T00:00:00\", \"1994-04-01T00:00:00\", \"1994-05-01T00:00:00\", \"1994-06-01T00:00:00\", \"1994-07-01T00:00:00\", \"1994-08-01T00:00:00\", \"1994-09-01T00:00:00\", \"1994-10-01T00:00:00\", \"1994-11-01T00:00:00\", \"1994-12-01T00:00:00\", \"1995-01-01T00:00:00\", \"1995-02-01T00:00:00\", \"1995-03-01T00:00:00\", \"1995-04-01T00:00:00\", \"1995-05-01T00:00:00\", \"1995-06-01T00:00:00\", \"1995-07-01T00:00:00\", \"1995-08-01T00:00:00\", \"1995-09-01T00:00:00\", \"1995-10-01T00:00:00\", \"1995-11-01T00:00:00\", \"1995-12-01T00:00:00\", \"1996-01-01T00:00:00\", \"1996-02-01T00:00:00\", \"1996-03-01T00:00:00\", \"1996-04-01T00:00:00\", \"1996-05-01T00:00:00\", \"1996-06-01T00:00:00\", \"1996-07-01T00:00:00\", \"1996-08-01T00:00:00\", \"1996-09-01T00:00:00\", \"1996-10-01T00:00:00\", \"1996-11-01T00:00:00\", \"1996-12-01T00:00:00\", \"1997-01-01T00:00:00\", \"1997-02-01T00:00:00\", \"1997-03-01T00:00:00\", \"1997-04-01T00:00:00\", \"1997-05-01T00:00:00\", \"1997-06-01T00:00:00\", \"1997-07-01T00:00:00\", \"1997-08-01T00:00:00\", \"1997-09-01T00:00:00\", \"1997-10-01T00:00:00\", \"1997-11-01T00:00:00\", \"1997-12-01T00:00:00\", \"1998-01-01T00:00:00\", \"1998-02-01T00:00:00\", \"1998-03-01T00:00:00\", \"1998-04-01T00:00:00\", \"1998-05-01T00:00:00\", \"1998-06-01T00:00:00\", \"1998-07-01T00:00:00\", \"1998-08-01T00:00:00\", \"1998-09-01T00:00:00\", \"1998-10-01T00:00:00\", \"1998-11-01T00:00:00\", \"1998-12-01T00:00:00\", \"1999-01-01T00:00:00\", \"1999-02-01T00:00:00\", \"1999-03-01T00:00:00\", \"1999-04-01T00:00:00\", \"1999-05-01T00:00:00\", \"1999-06-01T00:00:00\", \"1999-07-01T00:00:00\", \"1999-08-01T00:00:00\", \"1999-09-01T00:00:00\", \"1999-10-01T00:00:00\", \"1999-11-01T00:00:00\", \"1999-12-01T00:00:00\", \"2000-01-01T00:00:00\", \"2000-02-01T00:00:00\", \"2000-03-01T00:00:00\", \"2000-04-01T00:00:00\", \"2000-05-01T00:00:00\", \"2000-06-01T00:00:00\", \"2000-07-01T00:00:00\", \"2000-08-01T00:00:00\", \"2000-09-01T00:00:00\", \"2000-10-01T00:00:00\", \"2000-11-01T00:00:00\", \"2000-12-01T00:00:00\", \"2001-01-01T00:00:00\", \"2001-02-01T00:00:00\", \"2001-03-01T00:00:00\", \"2001-04-01T00:00:00\", \"2001-05-01T00:00:00\", \"2001-06-01T00:00:00\", \"2001-07-01T00:00:00\", \"2001-08-01T00:00:00\", \"2001-09-01T00:00:00\", \"2001-10-01T00:00:00\", \"2001-11-01T00:00:00\", \"2001-12-01T00:00:00\", \"2002-01-01T00:00:00\", \"2002-02-01T00:00:00\", \"2002-03-01T00:00:00\", \"2002-04-01T00:00:00\", \"2002-05-01T00:00:00\", \"2002-06-01T00:00:00\", \"2002-07-01T00:00:00\", \"2002-08-01T00:00:00\", \"2002-09-01T00:00:00\", \"2002-10-01T00:00:00\", \"2002-11-01T00:00:00\", \"2002-12-01T00:00:00\", \"2003-01-01T00:00:00\", \"2003-02-01T00:00:00\", \"2003-03-01T00:00:00\", \"2003-04-01T00:00:00\", \"2003-05-01T00:00:00\", \"2003-06-01T00:00:00\", \"2003-07-01T00:00:00\", \"2003-08-01T00:00:00\", \"2003-09-01T00:00:00\", \"2003-10-01T00:00:00\", \"2003-11-01T00:00:00\", \"2003-12-01T00:00:00\", \"2004-01-01T00:00:00\", \"2004-02-01T00:00:00\", \"2004-03-01T00:00:00\", \"2004-04-01T00:00:00\", \"2004-05-01T00:00:00\", \"2004-06-01T00:00:00\", \"2004-07-01T00:00:00\", \"2004-08-01T00:00:00\", \"2004-09-01T00:00:00\", \"2004-10-01T00:00:00\", \"2004-11-01T00:00:00\", \"2004-12-01T00:00:00\", \"2005-01-01T00:00:00\", \"2005-02-01T00:00:00\", \"2005-03-01T00:00:00\", \"2005-04-01T00:00:00\", \"2005-05-01T00:00:00\", \"2005-06-01T00:00:00\", \"2005-07-01T00:00:00\", \"2005-08-01T00:00:00\", \"2005-09-01T00:00:00\", \"2005-10-01T00:00:00\", \"2005-11-01T00:00:00\", \"2005-12-01T00:00:00\", \"2006-01-01T00:00:00\", \"2006-02-01T00:00:00\", \"2006-03-01T00:00:00\", \"2006-04-01T00:00:00\", \"2006-05-01T00:00:00\", \"2006-06-01T00:00:00\", \"2006-07-01T00:00:00\", \"2006-08-01T00:00:00\", \"2006-09-01T00:00:00\", \"2006-10-01T00:00:00\", \"2006-11-01T00:00:00\", \"2006-12-01T00:00:00\", \"2007-01-01T00:00:00\", \"2007-02-01T00:00:00\", \"2007-03-01T00:00:00\", \"2007-04-01T00:00:00\", \"2007-05-01T00:00:00\", \"2007-06-01T00:00:00\", \"2007-07-01T00:00:00\", \"2007-08-01T00:00:00\", \"2007-09-01T00:00:00\", \"2007-10-01T00:00:00\", \"2007-11-01T00:00:00\", \"2007-12-01T00:00:00\", \"2008-01-01T00:00:00\", \"2008-02-01T00:00:00\", \"2008-03-01T00:00:00\", \"2008-04-01T00:00:00\", \"2008-05-01T00:00:00\", \"2008-06-01T00:00:00\", \"2008-07-01T00:00:00\", \"2008-08-01T00:00:00\", \"2008-09-01T00:00:00\", \"2008-10-01T00:00:00\", \"2008-11-01T00:00:00\", \"2008-12-01T00:00:00\", \"2009-01-01T00:00:00\", \"2009-02-01T00:00:00\", \"2009-03-01T00:00:00\", \"2009-04-01T00:00:00\", \"2009-05-01T00:00:00\", \"2009-06-01T00:00:00\", \"2009-07-01T00:00:00\", \"2009-08-01T00:00:00\", \"2009-09-01T00:00:00\", \"2009-10-01T00:00:00\", \"2009-11-01T00:00:00\", \"2009-12-01T00:00:00\", \"2010-01-01T00:00:00\", \"2010-02-01T00:00:00\", \"2010-03-01T00:00:00\", \"2010-04-01T00:00:00\", \"2010-05-01T00:00:00\", \"2010-06-01T00:00:00\", \"2010-07-01T00:00:00\", \"2010-09-01T00:00:00\", \"2010-10-01T00:00:00\", \"2010-11-01T00:00:00\", \"2010-12-01T00:00:00\", \"2011-01-01T00:00:00\", \"2011-02-01T00:00:00\", \"2011-03-01T00:00:00\", \"2011-04-01T00:00:00\", \"2011-05-01T00:00:00\", \"2011-06-01T00:00:00\", \"2011-07-01T00:00:00\", \"2011-08-01T00:00:00\", \"2011-09-01T00:00:00\", \"2011-10-01T00:00:00\", \"2011-11-01T00:00:00\", \"2011-12-01T00:00:00\", \"2012-01-01T00:00:00\", \"2012-02-01T00:00:00\", \"2012-03-01T00:00:00\", \"2012-04-01T00:00:00\", \"2012-05-01T00:00:00\", \"2012-06-01T00:00:00\", \"2012-07-01T00:00:00\", \"2012-08-01T00:00:00\", \"2012-09-01T00:00:00\", \"2012-10-01T00:00:00\", \"2012-11-01T00:00:00\", \"2012-12-01T00:00:00\", \"2013-01-01T00:00:00\", \"2013-02-01T00:00:00\", \"2013-03-01T00:00:00\", \"2013-04-01T00:00:00\", \"2013-05-01T00:00:00\", \"2013-06-01T00:00:00\", \"2013-07-01T00:00:00\", \"2013-08-01T00:00:00\", \"2013-09-01T00:00:00\", \"2013-10-01T00:00:00\", \"2013-11-01T00:00:00\", \"2013-12-01T00:00:00\", \"2014-01-01T00:00:00\", \"2014-02-01T00:00:00\", \"2014-03-01T00:00:00\", \"2014-04-01T00:00:00\", \"2014-05-01T00:00:00\", \"2014-06-01T00:00:00\", \"2014-07-01T00:00:00\", \"2014-08-01T00:00:00\", \"2014-09-01T00:00:00\", \"2014-10-01T00:00:00\", \"2014-11-01T00:00:00\", \"2014-12-01T00:00:00\", \"2015-01-01T00:00:00\", \"2015-02-01T00:00:00\", \"2015-03-01T00:00:00\", \"2015-04-01T00:00:00\", \"2015-05-01T00:00:00\", \"2015-06-01T00:00:00\", \"2015-07-01T00:00:00\", \"2015-08-01T00:00:00\", \"2015-09-01T00:00:00\", \"2015-10-01T00:00:00\", \"2015-11-01T00:00:00\", \"2015-12-01T00:00:00\", \"2016-02-01T00:00:00\", \"2016-03-01T00:00:00\", \"2016-04-01T00:00:00\", \"2016-05-01T00:00:00\", \"2016-06-01T00:00:00\", \"2016-07-01T00:00:00\", \"2016-08-01T00:00:00\", \"2016-09-01T00:00:00\", \"2016-10-01T00:00:00\", \"2016-11-01T00:00:00\", \"2016-12-01T00:00:00\", \"2017-01-01T00:00:00\", \"2017-02-01T00:00:00\", \"2017-03-01T00:00:00\", \"2017-04-01T00:00:00\", \"2017-05-01T00:00:00\", \"2017-06-01T00:00:00\", \"2017-07-01T00:00:00\", \"2017-08-01T00:00:00\", \"2017-09-01T00:00:00\", \"2017-10-01T00:00:00\", \"2017-11-01T00:00:00\", \"2017-12-01T00:00:00\", \"2018-01-01T00:00:00\", \"2018-02-01T00:00:00\", \"2018-03-01T00:00:00\", \"2018-04-01T00:00:00\", \"2018-05-01T00:00:00\", \"2018-06-01T00:00:00\", \"2018-07-01T00:00:00\", \"2018-08-01T00:00:00\", \"2018-09-01T00:00:00\", \"2018-10-01T00:00:00\", \"2018-11-01T00:00:00\", \"2018-12-01T00:00:00\"], \"y\": [45.38477777777777, 46.48386666666667, 46.45238709677418, 46.47174193548386, 46.669607142857146, 46.63629032258064, 46.00656666666668, 45.1708064516129, 44.810133333333326, 44.74693548387096, 44.90154838709677, 44.97913333333334, 45.49635483870968, 45.77703333333333, 46.96577419354838, 46.73448148148149, 46.04410714285715, 46.18941935483871, 46.220333333333336, 45.899483870967735, 45.49386666666666, 44.93270967741935, 45.284451612903226, 45.69113333333334, 45.778, 46.83130000000001, 47.17267741935484, 46.71177419354839, 46.92968965517242, 46.409548387096784, 45.77620000000001, 44.99987096774194, 44.85372727272728, 44.9904193548387, 45.36584615384616, 45.61886666666668, 46.439290322580646, 46.4842, 46.73883870967743, 46.749354838709685, 46.20707407407407, 46.5138695652174, 45.9615, 45.8213870967742, 46.48963333333333, 45.30229032258064, 44.91151612903227, 45.056666666666665, 46.488903225806446, 46.22186666666666, 46.62400000000001, 46.89861538461538, 46.41625000000001, 46.88909677419356, 45.599700000000006, 45.02754838709678, 44.9387, 45.11032258064515, 44.73744827586208, 44.8134, 45.711612903225806, 46.83090000000001, 46.68490322580645, 46.6802258064516, 46.61375, 46.02832258064517, 46.19003333333334, 46.19003225806452, 45.4981, 44.901, 44.68483870967742, 44.867500000000014, 45.74270967741936, 45.554433333333336, 46.60477419354839, 47.24451612903225, 47.08068965517242, 46.15358064516129, 45.95644827586207, 44.97920833333333, 44.83165517241379, 44.69009677419355, 44.79935483870968, 44.911620689655166, 45.48225806451613, 46.54713333333333, 46.958451612903225, 46.32070967741935, 46.59985714285714, 45.95832258064516, 46.27626666666667, 45.589870967741945, 45.47880000000001, 45.32203225806453, 46.510580645161305, 46.62369999999999, 46.57803703703704, 45.61638461538462, 46.38809677419356, 46.93661290322581, 46.01425, 45.7167741935484, 46.24656666666669, 46.040055555555554, 45.46729166666666, 45.44458064516128, 46.15861290322581, 45.59476666666667, 45.05893548387096, 46.5408, 47.14325806451614, 45.09016129032258, 45.83682142857142, 46.25351612903226, 46.17539999999999, 45.20370967741936, 45.50336666666667, 45.09016129032258, 45.00916129032258, 45.36656666666666, 45.98217391304348, 46.53573333333333, 45.857, 47.00017857142857, 47.33003448275863, 46.4645806451613, 45.90359999999999, 45.04558064516129, 45.17463333333333, 44.95267741935484, 45.33345161290322, 46.1587, 46.476935483870975, 46.18326666666666, 47.00017857142857, 46.50308695652176, 46.34371428571428, 46.65170967741936, 46.5683, 45.35467741935484, 44.85083333333332, 44.62490322580646, 44.58566666666667, 44.77035999999999, 45.04091304347826, 46.41343333333332, 45.87455555555556, 46.29339130434783, 47.50507692307691, 46.72474193548388, 45.58329999999999, 45.16693548387096, 44.89426666666666, 45.33590322580645, 44.94967741935484, 44.91793333333332, 45.91116129032258, 46.24526666666667, 46.315612903225805, 47.21158064516129, 46.16132142857143, 46.86986206896552, 46.57379999999999, 45.545838709677405, 44.97974074074073, 44.82845161290323, 44.72490322580645, 44.64503333333333, 44.75831034482759, 46.05403999999999, 45.9705909090909, 46.65069999999999, 45.83158620689656, 46.43074193548387, 46.34933333333333, 46.05435483870967, 45.16553333333333, 44.824612903225805, 44.91716129032258, 46.189666666666646, 45.56367741935484, 46.460566666666665, 47.07603448275861, 46.755354838709685, 46.2362857142857, 45.56978571428571, 46.74300000000001, 45.76096774193549, 46.23182758620689, 45.64635483870968, 45.55416129032258, 45.11213333333333, 45.68967741935485, 45.404266666666665, 46.89983870967741, 47.22964516129032, 47.1434642857143, 46.99606451612904, 46.67113333333332, 45.75741935483871, 45.11473333333333, 45.28954838709678, 45.13374193548388, 45.5656, 45.32758064516129, 46.02386666666666, 46.82729032258064, 47.21944444444445, 47.3258, 46.85167741935484, 45.6861, 45.04083870967742, 44.85103333333334, 44.79635483870969, 44.6957741935484, 44.549, 45.18961290322581, 46.55556666666666, 47.12504545454545, 46.66548387096774, 46.41066666666667, 46.1018, 45.99736666666667, 45.71655172413793, 45.41290000000001, 44.845516129032255, 45.56251612903226, 45.36616666666667, 45.72722580645161, 46.634, 46.49741666666667, 45.61970967741935, 46.414678571428574, 46.52861290322581, 45.39133333333333, 45.62474193548386, 45.26446666666668, 45.34667741935485, 45.38029032258065, 45.56306666666666, 45.874387096774186, 46.20006666666667, 46.65212903225806, 47.286870967741926, 46.10782142857143, 46.09793548387098, 46.27509999999999, 45.686, 45.56940909090909, 45.57470967741935, 45.88119354838709, 45.71293333333334, 45.9596129032258, 46.75033333333332, 46.619, 47.213193548387096, 46.49517857142856, 46.3561612903226, 45.9371, 45.824275862068966, 45.17593333333332, 44.91725925925926, 45.18841935483871, 46.06863333333333, 46.13432258064517, 45.93683333333332, 47.39890322580644, 47.04913333333334, 46.46075862068966, 46.41670967741936, 45.659000000000006, 45.77083870967741, 45.2437, 44.901741935483855, 44.86056666666666, 45.195033333333335, 46.43377419354838, 47.14750000000001, 47.354806451612895, 46.48364516129032, 46.33014285714287, 45.93406451612903, 46.31210000000001, 45.56258064516129, 45.0917, 44.83967741935484, 45.11006451612903, 44.96296666666668, 45.46122580645161, 45.776700000000005, 46.1426129032258, 46.11016129032258, 47.63457142857143, 47.08690322580646, 45.79880000000001, 46.16041935483872, 46.450333333333326, 45.75329032258063, 45.47854838709678, 45.0587, 45.78751612903225, 47.61056666666666, 46.68703225806451, 46.63625806451613, 46.346178571428574, 46.34170967741936, 45.2882, 45.8296129032258, 46.0584, 45.39461290322581, 45.21087096774193, 44.83803333333334, 44.86129032258064, 45.500966666666656, 46.32377419354838, 46.58974193548387, 46.51862068965517, 45.89261290322582, 45.89426666666665, 45.45319354838711, 44.88586666666667, 44.9536129032258, 45.24103225806451, 45.63153333333333, 46.29822580645161, 46.34706666666668, 46.27083870967742, 47.36722580645161, 46.39910714285714, 45.76100000000001, 46.15336666666667, 45.60267741935483, 45.422166666666655, 45.029935483870965, 44.81967741935484, 44.940066666666674, 45.75903225806451, 46.5688, 46.37061290322581, 46.4118064516129, 45.9232857142857, 46.37090322580645, 46.40413333333334, 46.26267741935485, 45.62003333333333, 44.96312903225808, 44.90564516129033, 45.81216666666667, 46.62741935483872, 46.846866666666656, 47.66096774193549, 47.30719354838708, 46.44171428571429, 46.75767741935484, 45.55539999999999, 45.13075, 45.154500000000006, 46.10248387096775, 46.14806451612904, 45.44083333333333, 45.055290322580646, 45.363433333333326, 46.90454838709677, 47.25625806451613, 46.644137931034486, 46.39451612903226, 45.94263333333335, 45.27648387096774, 44.88923333333334, 45.34670967741936, 46.56154838709677, 46.65653333333333, 46.57890322580646, 46.68143333333334, 46.48493548387096, 46.35783870967744, 46.74882142857143, 45.84674193548387, 45.782, 46.48677419354839, 45.57706666666666, 45.52893548387097, 46.015580645161286, 46.32359999999999, 45.57322580645162, 47.74956666666667, 47.04319354838709, 46.43022580645161, 46.218678571428576, 45.47845161290323, 46.49236666666668, 45.22161290322581, 44.84526666666667, 44.77692857142858, 46.54735714285715, 46.138193548387086, 47.07736666666666, 46.025161290322586, 46.66351612903228, 46.99389285714288, 46.13329032258065, 45.47446666666667, 45.061, 45.19126666666667, 45.19929032258066, 45.10106451612902, 45.68966666666667, 46.97403225806452, 47.1277, 47.417, 46.98535483870968, 46.826344827586205, 45.85741935483869, 45.2554, 45.338193548387096, 46.3464, 46.48561290322581, 46.07345161290323, 45.91076666666667, 46.5942258064516, 46.82806666666668, 47.00325806451613, 47.57125806451612, 47.6762857142857, 46.18887096774193, 45.93813333333334, 45.78216129032258, 45.256066666666655, 44.94951612903226, 45.16745161290323, 44.94443333333334, 45.942580645161286, 46.6067, 46.30616129032257, 47.475677419354845, 47.82571428571429, 46.793838709677416, 46.16023333333335, 45.66274193548387, 45.51743333333333, 45.14332258064516, 45.57722580645161, 45.30563333333334, 45.3187741935484, 47.22409999999999, 46.75206451612902, 47.10974193548387, 46.55500000000001, 46.4368064516129, 46.33824137931036, 46.24983870967745, 45.50736666666667, 45.14125806451613, 45.6483, 45.75476666666668, 45.33253333333332, 46.701600000000006, 48.07954838709678, 47.04373913043479, 46.4296129032258, 46.22886666666668, 45.34177419354838, 45.17006666666667, 45.59509677419355, 45.621354838709685, 45.87723333333333, 45.5256129032258, 45.74609999999999, 45.92390322580645, 46.04016129032258, 45.89228571428572, 46.74622580645161, 45.61746666666668, 45.037806451612894, 45.05023333333333, 45.0939677419355, 45.44593548387097, 45.86306896551724, 46.53296774193548, 46.56423333333334, 46.70954838709678, 47.42790322580645, 47.36785714285714, 46.25209677419353, 46.092266666666674, 45.448, 45.23043333333332, 44.96612903225807, 45.113935483870975, 45.19016666666667, 45.14358064516129, 45.965800000000016, 46.93877419354839]}],                        {\"font\": {\"color\": \"#7f7f7f\"}, \"height\": 450, \"hovermode\": \"closest\", \"legend\": {\"bgcolor\": \"rgba(0,0,0,0)\", \"itemclick\": false, \"itemdoubleclick\": false, \"orientation\": \"h\"}, \"margin\": {\"b\": 0, \"l\": 0, \"r\": 0, \"t\": 0}, \"paper_bgcolor\": \"rgba(0,0,0,0)\", \"plot_bgcolor\": \"#f7fbfd\", \"template\": {\"data\": {\"bar\": [{\"error_x\": {\"color\": \"#2a3f5f\"}, \"error_y\": {\"color\": \"#2a3f5f\"}, \"marker\": {\"line\": {\"color\": \"#E5ECF6\", \"width\": 0.5}}, \"type\": \"bar\"}], \"barpolar\": [{\"marker\": {\"line\": {\"color\": \"#E5ECF6\", \"width\": 0.5}}, \"type\": \"barpolar\"}], \"carpet\": [{\"aaxis\": {\"endlinecolor\": \"#2a3f5f\", \"gridcolor\": \"white\", \"linecolor\": \"white\", \"minorgridcolor\": \"white\", \"startlinecolor\": \"#2a3f5f\"}, \"baxis\": {\"endlinecolor\": \"#2a3f5f\", \"gridcolor\": \"white\", \"linecolor\": \"white\", \"minorgridcolor\": \"white\", \"startlinecolor\": \"#2a3f5f\"}, \"type\": \"carpet\"}], \"choropleth\": [{\"colorbar\": {\"outlinewidth\": 0, \"ticks\": \"\"}, \"type\": \"choropleth\"}], \"contour\": [{\"colorbar\": {\"outlinewidth\": 0, \"ticks\": \"\"}, \"colorscale\": [[0.0, \"#0d0887\"], [0.1111111111111111, \"#46039f\"], [0.2222222222222222, \"#7201a8\"], [0.3333333333333333, \"#9c179e\"], [0.4444444444444444, \"#bd3786\"], [0.5555555555555556, \"#d8576b\"], [0.6666666666666666, \"#ed7953\"], [0.7777777777777778, \"#fb9f3a\"], [0.8888888888888888, \"#fdca26\"], [1.0, \"#f0f921\"]], \"type\": \"contour\"}], \"contourcarpet\": [{\"colorbar\": {\"outlinewidth\": 0, \"ticks\": \"\"}, \"type\": \"contourcarpet\"}], \"heatmap\": [{\"colorbar\": {\"outlinewidth\": 0, \"ticks\": \"\"}, \"colorscale\": [[0.0, \"#0d0887\"], [0.1111111111111111, \"#46039f\"], [0.2222222222222222, \"#7201a8\"], [0.3333333333333333, \"#9c179e\"], [0.4444444444444444, \"#bd3786\"], [0.5555555555555556, \"#d8576b\"], [0.6666666666666666, \"#ed7953\"], [0.7777777777777778, \"#fb9f3a\"], [0.8888888888888888, \"#fdca26\"], [1.0, \"#f0f921\"]], \"type\": \"heatmap\"}], \"heatmapgl\": [{\"colorbar\": {\"outlinewidth\": 0, \"ticks\": \"\"}, \"colorscale\": [[0.0, \"#0d0887\"], [0.1111111111111111, \"#46039f\"], [0.2222222222222222, \"#7201a8\"], [0.3333333333333333, \"#9c179e\"], [0.4444444444444444, \"#bd3786\"], [0.5555555555555556, \"#d8576b\"], [0.6666666666666666, \"#ed7953\"], [0.7777777777777778, \"#fb9f3a\"], [0.8888888888888888, \"#fdca26\"], [1.0, \"#f0f921\"]], \"type\": \"heatmapgl\"}], \"histogram\": [{\"marker\": {\"colorbar\": {\"outlinewidth\": 0, \"ticks\": \"\"}}, \"type\": \"histogram\"}], \"histogram2d\": [{\"colorbar\": {\"outlinewidth\": 0, \"ticks\": \"\"}, \"colorscale\": [[0.0, \"#0d0887\"], [0.1111111111111111, \"#46039f\"], [0.2222222222222222, \"#7201a8\"], [0.3333333333333333, \"#9c179e\"], [0.4444444444444444, \"#bd3786\"], [0.5555555555555556, \"#d8576b\"], [0.6666666666666666, \"#ed7953\"], [0.7777777777777778, \"#fb9f3a\"], [0.8888888888888888, \"#fdca26\"], [1.0, \"#f0f921\"]], \"type\": \"histogram2d\"}], \"histogram2dcontour\": [{\"colorbar\": {\"outlinewidth\": 0, \"ticks\": \"\"}, \"colorscale\": [[0.0, \"#0d0887\"], [0.1111111111111111, \"#46039f\"], [0.2222222222222222, \"#7201a8\"], [0.3333333333333333, \"#9c179e\"], [0.4444444444444444, \"#bd3786\"], [0.5555555555555556, \"#d8576b\"], [0.6666666666666666, \"#ed7953\"], [0.7777777777777778, \"#fb9f3a\"], [0.8888888888888888, \"#fdca26\"], [1.0, \"#f0f921\"]], \"type\": \"histogram2dcontour\"}], \"mesh3d\": [{\"colorbar\": {\"outlinewidth\": 0, \"ticks\": \"\"}, \"type\": \"mesh3d\"}], \"parcoords\": [{\"line\": {\"colorbar\": {\"outlinewidth\": 0, \"ticks\": \"\"}}, \"type\": \"parcoords\"}], \"pie\": [{\"automargin\": true, \"type\": \"pie\"}], \"scatter\": [{\"marker\": {\"colorbar\": {\"outlinewidth\": 0, \"ticks\": \"\"}}, \"type\": \"scatter\"}], \"scatter3d\": [{\"line\": {\"colorbar\": {\"outlinewidth\": 0, \"ticks\": \"\"}}, \"marker\": {\"colorbar\": {\"outlinewidth\": 0, \"ticks\": \"\"}}, \"type\": \"scatter3d\"}], \"scattercarpet\": [{\"marker\": {\"colorbar\": {\"outlinewidth\": 0, \"ticks\": \"\"}}, \"type\": \"scattercarpet\"}], \"scattergeo\": [{\"marker\": {\"colorbar\": {\"outlinewidth\": 0, \"ticks\": \"\"}}, \"type\": \"scattergeo\"}], \"scattergl\": [{\"marker\": {\"colorbar\": {\"outlinewidth\": 0, \"ticks\": \"\"}}, \"type\": \"scattergl\"}], \"scattermapbox\": [{\"marker\": {\"colorbar\": {\"outlinewidth\": 0, \"ticks\": \"\"}}, \"type\": \"scattermapbox\"}], \"scatterpolar\": [{\"marker\": {\"colorbar\": {\"outlinewidth\": 0, \"ticks\": \"\"}}, \"type\": \"scatterpolar\"}], \"scatterpolargl\": [{\"marker\": {\"colorbar\": {\"outlinewidth\": 0, \"ticks\": \"\"}}, \"type\": \"scatterpolargl\"}], \"scatterternary\": [{\"marker\": {\"colorbar\": {\"outlinewidth\": 0, \"ticks\": \"\"}}, \"type\": \"scatterternary\"}], \"surface\": [{\"colorbar\": {\"outlinewidth\": 0, \"ticks\": \"\"}, \"colorscale\": [[0.0, \"#0d0887\"], [0.1111111111111111, \"#46039f\"], [0.2222222222222222, \"#7201a8\"], [0.3333333333333333, \"#9c179e\"], [0.4444444444444444, \"#bd3786\"], [0.5555555555555556, \"#d8576b\"], [0.6666666666666666, \"#ed7953\"], [0.7777777777777778, \"#fb9f3a\"], [0.8888888888888888, \"#fdca26\"], [1.0, \"#f0f921\"]], \"type\": \"surface\"}], \"table\": [{\"cells\": {\"fill\": {\"color\": \"#EBF0F8\"}, \"line\": {\"color\": \"white\"}}, \"header\": {\"fill\": {\"color\": \"#C8D4E3\"}, \"line\": {\"color\": \"white\"}}, \"type\": \"table\"}]}, \"layout\": {\"annotationdefaults\": {\"arrowcolor\": \"#2a3f5f\", \"arrowhead\": 0, \"arrowwidth\": 1}, \"autotypenumbers\": \"strict\", \"coloraxis\": {\"colorbar\": {\"outlinewidth\": 0, \"ticks\": \"\"}}, \"colorscale\": {\"diverging\": [[0, \"#8e0152\"], [0.1, \"#c51b7d\"], [0.2, \"#de77ae\"], [0.3, \"#f1b6da\"], [0.4, \"#fde0ef\"], [0.5, \"#f7f7f7\"], [0.6, \"#e6f5d0\"], [0.7, \"#b8e186\"], [0.8, \"#7fbc41\"], [0.9, \"#4d9221\"], [1, \"#276419\"]], \"sequential\": [[0.0, \"#0d0887\"], [0.1111111111111111, \"#46039f\"], [0.2222222222222222, \"#7201a8\"], [0.3333333333333333, \"#9c179e\"], [0.4444444444444444, \"#bd3786\"], [0.5555555555555556, \"#d8576b\"], [0.6666666666666666, \"#ed7953\"], [0.7777777777777778, \"#fb9f3a\"], [0.8888888888888888, \"#fdca26\"], [1.0, \"#f0f921\"]], \"sequentialminus\": [[0.0, \"#0d0887\"], [0.1111111111111111, \"#46039f\"], [0.2222222222222222, \"#7201a8\"], [0.3333333333333333, \"#9c179e\"], [0.4444444444444444, \"#bd3786\"], [0.5555555555555556, \"#d8576b\"], [0.6666666666666666, \"#ed7953\"], [0.7777777777777778, \"#fb9f3a\"], [0.8888888888888888, \"#fdca26\"], [1.0, \"#f0f921\"]]}, \"colorway\": [\"#636efa\", \"#EF553B\", \"#00cc96\", \"#ab63fa\", \"#FFA15A\", \"#19d3f3\", \"#FF6692\", \"#B6E880\", \"#FF97FF\", \"#FECB52\"], \"font\": {\"color\": \"#2a3f5f\"}, \"geo\": {\"bgcolor\": \"white\", \"lakecolor\": \"white\", \"landcolor\": \"#E5ECF6\", \"showlakes\": true, \"showland\": true, \"subunitcolor\": \"white\"}, \"hoverlabel\": {\"align\": \"left\"}, \"hovermode\": \"closest\", \"mapbox\": {\"style\": \"light\"}, \"paper_bgcolor\": \"white\", \"plot_bgcolor\": \"#E5ECF6\", \"polar\": {\"angularaxis\": {\"gridcolor\": \"white\", \"linecolor\": \"white\", \"ticks\": \"\"}, \"bgcolor\": \"#E5ECF6\", \"radialaxis\": {\"gridcolor\": \"white\", \"linecolor\": \"white\", \"ticks\": \"\"}}, \"scene\": {\"xaxis\": {\"backgroundcolor\": \"#E5ECF6\", \"gridcolor\": \"white\", \"gridwidth\": 2, \"linecolor\": \"white\", \"showbackground\": true, \"ticks\": \"\", \"zerolinecolor\": \"white\"}, \"yaxis\": {\"backgroundcolor\": \"#E5ECF6\", \"gridcolor\": \"white\", \"gridwidth\": 2, \"linecolor\": \"white\", \"showbackground\": true, \"ticks\": \"\", \"zerolinecolor\": \"white\"}, \"zaxis\": {\"backgroundcolor\": \"#E5ECF6\", \"gridcolor\": \"white\", \"gridwidth\": 2, \"linecolor\": \"white\", \"showbackground\": true, \"ticks\": \"\", \"zerolinecolor\": \"white\"}}, \"shapedefaults\": {\"line\": {\"color\": \"#2a3f5f\"}}, \"ternary\": {\"aaxis\": {\"gridcolor\": \"white\", \"linecolor\": \"white\", \"ticks\": \"\"}, \"baxis\": {\"gridcolor\": \"white\", \"linecolor\": \"white\", \"ticks\": \"\"}, \"bgcolor\": \"#E5ECF6\", \"caxis\": {\"gridcolor\": \"white\", \"linecolor\": \"white\", \"ticks\": \"\"}}, \"title\": {\"x\": 0.05}, \"xaxis\": {\"automargin\": true, \"gridcolor\": \"white\", \"linecolor\": \"white\", \"ticks\": \"\", \"title\": {\"standoff\": 15}, \"zerolinecolor\": \"white\", \"zerolinewidth\": 2}, \"yaxis\": {\"automargin\": true, \"gridcolor\": \"white\", \"linecolor\": \"white\", \"ticks\": \"\", \"title\": {\"standoff\": 15}, \"zerolinecolor\": \"white\", \"zerolinewidth\": 2}}}, \"xaxis\": {\"fixedrange\": true, \"showgrid\": false, \"title\": {\"text\": \"Date\"}}, \"yaxis\": {\"fixedrange\": true, \"title\": {\"text\": \"Level Above OD Malin (m)\"}}},                        {\"responsive\": true}                    ).then(function(){\n",
       "                            \n",
       "var gd = document.getElementById('eb9e4f5f-10d9-446f-9bfb-f392c01ad8b4');\n",
       "var x = new MutationObserver(function (mutations, observer) {{\n",
       "        var display = window.getComputedStyle(gd).display;\n",
       "        if (!display || display === 'none') {{\n",
       "            console.log([gd, 'removed!']);\n",
       "            Plotly.purge(gd);\n",
       "            observer.disconnect();\n",
       "        }}\n",
       "}});\n",
       "\n",
       "// Listen for the removal of the full notebook cells\n",
       "var notebookContainer = gd.closest('#notebook-container');\n",
       "if (notebookContainer) {{\n",
       "    x.observe(notebookContainer, {childList: true});\n",
       "}}\n",
       "\n",
       "// Listen for the clearing of the current output cell\n",
       "var outputEl = gd.closest('.output');\n",
       "if (outputEl) {{\n",
       "    x.observe(outputEl, {childList: true});\n",
       "}}\n",
       "\n",
       "                        })                };                });            </script>        </div>"
      ]
     },
     "metadata": {},
     "output_type": "display_data"
    }
   ],
   "source": [
    "figure_4_3 = go.Figure(data=[trace], layout=TIMESERIES_LAYOUT)\n",
    "figure_4_3.update_layout(\n",
    "    yaxis=dict(title='Level Above OD Malin (m)'),\n",
    "    xaxis=dict(title=\"Date\"))\n",
    "figure_4_3"
   ]
  },
  {
   "cell_type": "code",
   "execution_count": 36,
   "id": "international-senate",
   "metadata": {},
   "outputs": [
    {
     "data": {
      "text/html": [
       "<div>\n",
       "<style scoped>\n",
       "    .dataframe tbody tr th:only-of-type {\n",
       "        vertical-align: middle;\n",
       "    }\n",
       "\n",
       "    .dataframe tbody tr th {\n",
       "        vertical-align: top;\n",
       "    }\n",
       "\n",
       "    .dataframe thead th {\n",
       "        text-align: right;\n",
       "    }\n",
       "</style>\n",
       "<table border=\"1\" class=\"dataframe\">\n",
       "  <thead>\n",
       "    <tr style=\"text-align: right;\">\n",
       "      <th></th>\n",
       "      <th>FID</th>\n",
       "      <th>OBJECTID</th>\n",
       "      <th>STN_NUMBER</th>\n",
       "      <th>STN_NAME</th>\n",
       "      <th>WATERBODY</th>\n",
       "      <th>STN_STATUS</th>\n",
       "      <th>STN_TYPE</th>\n",
       "      <th>Classifica</th>\n",
       "      <th>CATCH_km2</th>\n",
       "      <th>Pmm_a61_90</th>\n",
       "      <th>...</th>\n",
       "      <th>IGR</th>\n",
       "      <th>LATITUDE</th>\n",
       "      <th>LONGITUDE</th>\n",
       "      <th>TYPE</th>\n",
       "      <th>REC_START</th>\n",
       "      <th>REC_END</th>\n",
       "      <th>AVAILABLE</th>\n",
       "      <th>HYDRO_AREA</th>\n",
       "      <th>Hydrometri</th>\n",
       "      <th>LA</th>\n",
       "    </tr>\n",
       "  </thead>\n",
       "  <tbody>\n",
       "    <tr>\n",
       "      <th>0</th>\n",
       "      <td>0</td>\n",
       "      <td>6</td>\n",
       "      <td>1071</td>\n",
       "      <td>LOUGH MOURNE</td>\n",
       "      <td>MOURNE</td>\n",
       "      <td>Active</td>\n",
       "      <td>Recorder</td>\n",
       "      <td></td>\n",
       "      <td>8.5</td>\n",
       "      <td>1993</td>\n",
       "      <td>...</td>\n",
       "      <td>H069896</td>\n",
       "      <td>54.754169</td>\n",
       "      <td>-7.902221</td>\n",
       "      <td>Lake</td>\n",
       "      <td>20/05/1999 00:00:00</td>\n",
       "      <td>30/12/1899 00:00:00</td>\n",
       "      <td>Water Level Only</td>\n",
       "      <td>1</td>\n",
       "      <td>#http://hydronet.epa.ie/introduction.htm#</td>\n",
       "      <td>Local Authority</td>\n",
       "    </tr>\n",
       "    <tr>\n",
       "      <th>1</th>\n",
       "      <td>1</td>\n",
       "      <td>63</td>\n",
       "      <td>7076</td>\n",
       "      <td>LOUGH BANE LOWER</td>\n",
       "      <td>L.BANE</td>\n",
       "      <td>Active</td>\n",
       "      <td>Recorder</td>\n",
       "      <td></td>\n",
       "      <td></td>\n",
       "      <td></td>\n",
       "      <td>...</td>\n",
       "      <td>N554706</td>\n",
       "      <td>53.441549</td>\n",
       "      <td>-8.096135</td>\n",
       "      <td>Lake</td>\n",
       "      <td>24/05/2007 00:00:00</td>\n",
       "      <td>30/12/1899 00:00:00</td>\n",
       "      <td>Water Level Only</td>\n",
       "      <td>7</td>\n",
       "      <td>#http://hydronet.epa.ie/introduction.htm#</td>\n",
       "      <td>Local Authority</td>\n",
       "    </tr>\n",
       "    <tr>\n",
       "      <th>2</th>\n",
       "      <td>2</td>\n",
       "      <td>64</td>\n",
       "      <td>7081</td>\n",
       "      <td>VIRGINIA</td>\n",
       "      <td>RAMOR L.</td>\n",
       "      <td>Active</td>\n",
       "      <td>Recorder</td>\n",
       "      <td>Core</td>\n",
       "      <td>245.7</td>\n",
       "      <td>1008</td>\n",
       "      <td>...</td>\n",
       "      <td>N599872</td>\n",
       "      <td>53.831009</td>\n",
       "      <td>-7.091330</td>\n",
       "      <td>Lake</td>\n",
       "      <td>01/11/1976 00:00:00</td>\n",
       "      <td>30/12/1899 00:00:00</td>\n",
       "      <td>Water Level Only</td>\n",
       "      <td>7</td>\n",
       "      <td>#http://www.opw.ie/hydro/index.asp?mpg=main.asp#</td>\n",
       "      <td>OPW</td>\n",
       "    </tr>\n",
       "    <tr>\n",
       "      <th>3</th>\n",
       "      <td>3</td>\n",
       "      <td>85</td>\n",
       "      <td>6070</td>\n",
       "      <td>MUCKNO</td>\n",
       "      <td>MUCKNO L.</td>\n",
       "      <td>Active</td>\n",
       "      <td>Recorder</td>\n",
       "      <td></td>\n",
       "      <td>162.0</td>\n",
       "      <td>1045</td>\n",
       "      <td>...</td>\n",
       "      <td>H863175</td>\n",
       "      <td>54.099937</td>\n",
       "      <td>-6.682337</td>\n",
       "      <td>Lake</td>\n",
       "      <td>24/03/1975 00:00:00</td>\n",
       "      <td>30/12/1899 00:00:00</td>\n",
       "      <td>Water Level and Flow</td>\n",
       "      <td>6</td>\n",
       "      <td>#http://hydronet.epa.ie/introduction.htm#</td>\n",
       "      <td>Local Authority</td>\n",
       "    </tr>\n",
       "    <tr>\n",
       "      <th>4</th>\n",
       "      <td>4</td>\n",
       "      <td>164</td>\n",
       "      <td>25070</td>\n",
       "      <td>WHITEBRIDGE.</td>\n",
       "      <td>L.ENNELL</td>\n",
       "      <td>Active</td>\n",
       "      <td>Recorder</td>\n",
       "      <td></td>\n",
       "      <td>147.8</td>\n",
       "      <td>954</td>\n",
       "      <td>...</td>\n",
       "      <td>N412466</td>\n",
       "      <td>53.468167</td>\n",
       "      <td>-7.377706</td>\n",
       "      <td>Lake</td>\n",
       "      <td>26/03/1975 00:00:00</td>\n",
       "      <td>30/12/1899 00:00:00</td>\n",
       "      <td>Water Level Only</td>\n",
       "      <td>25</td>\n",
       "      <td>#http://hydronet.epa.ie/introduction.htm#</td>\n",
       "      <td>Local Authority</td>\n",
       "    </tr>\n",
       "    <tr>\n",
       "      <th>...</th>\n",
       "      <td>...</td>\n",
       "      <td>...</td>\n",
       "      <td>...</td>\n",
       "      <td>...</td>\n",
       "      <td>...</td>\n",
       "      <td>...</td>\n",
       "      <td>...</td>\n",
       "      <td>...</td>\n",
       "      <td>...</td>\n",
       "      <td>...</td>\n",
       "      <td>...</td>\n",
       "      <td>...</td>\n",
       "      <td>...</td>\n",
       "      <td>...</td>\n",
       "      <td>...</td>\n",
       "      <td>...</td>\n",
       "      <td>...</td>\n",
       "      <td>...</td>\n",
       "      <td>...</td>\n",
       "      <td>...</td>\n",
       "      <td>...</td>\n",
       "    </tr>\n",
       "    <tr>\n",
       "      <th>69</th>\n",
       "      <td>69</td>\n",
       "      <td>2141</td>\n",
       "      <td>35071</td>\n",
       "      <td>LAREEN</td>\n",
       "      <td>L.    MELVIN</td>\n",
       "      <td>Active</td>\n",
       "      <td>Recorder</td>\n",
       "      <td></td>\n",
       "      <td>247.2</td>\n",
       "      <td>1364</td>\n",
       "      <td>...</td>\n",
       "      <td>G843559</td>\n",
       "      <td>54.452022</td>\n",
       "      <td>-8.239641</td>\n",
       "      <td>Lake</td>\n",
       "      <td>01/12/1974 00:00:00</td>\n",
       "      <td>30/12/1899 00:00:00</td>\n",
       "      <td>Water Level and Flow</td>\n",
       "      <td>35</td>\n",
       "      <td>#http://www.opw.ie/hydro/index.asp?mpg=main.asp#</td>\n",
       "      <td>OPW</td>\n",
       "    </tr>\n",
       "    <tr>\n",
       "      <th>70</th>\n",
       "      <td>70</td>\n",
       "      <td>2142</td>\n",
       "      <td>35072</td>\n",
       "      <td>TRASGARVE</td>\n",
       "      <td>L.    EASKY</td>\n",
       "      <td>Active</td>\n",
       "      <td>Recorder</td>\n",
       "      <td></td>\n",
       "      <td>10.7</td>\n",
       "      <td>1640</td>\n",
       "      <td>...</td>\n",
       "      <td>G447239</td>\n",
       "      <td>54.160104</td>\n",
       "      <td>-8.845652</td>\n",
       "      <td>Lake</td>\n",
       "      <td>15/12/1975 00:00:00</td>\n",
       "      <td>30/12/1899 00:00:00</td>\n",
       "      <td>Water Level and Flow</td>\n",
       "      <td>35</td>\n",
       "      <td>#http://hydronet.epa.ie/introduction.htm#</td>\n",
       "      <td>Local Authority</td>\n",
       "    </tr>\n",
       "    <tr>\n",
       "      <th>71</th>\n",
       "      <td>71</td>\n",
       "      <td>2143</td>\n",
       "      <td>35073</td>\n",
       "      <td>L.    GILL</td>\n",
       "      <td>L.    GILL</td>\n",
       "      <td>Active</td>\n",
       "      <td>Recorder</td>\n",
       "      <td></td>\n",
       "      <td>362.6</td>\n",
       "      <td>1503</td>\n",
       "      <td>...</td>\n",
       "      <td>G715328</td>\n",
       "      <td>54.249091</td>\n",
       "      <td>-8.438893</td>\n",
       "      <td>Lake</td>\n",
       "      <td>20/03/1975 00:00:00</td>\n",
       "      <td>30/12/1899 00:00:00</td>\n",
       "      <td>Water Level Only</td>\n",
       "      <td>35</td>\n",
       "      <td>#http://hydronet.epa.ie/introduction.htm#</td>\n",
       "      <td>Local Authority</td>\n",
       "    </tr>\n",
       "    <tr>\n",
       "      <th>72</th>\n",
       "      <td>72</td>\n",
       "      <td>2148</td>\n",
       "      <td>35078</td>\n",
       "      <td>TEMPLEHOUSE DEMESNE</td>\n",
       "      <td>L.    TEMPLEHOUSE</td>\n",
       "      <td>Active</td>\n",
       "      <td>Recorder</td>\n",
       "      <td></td>\n",
       "      <td>274.1</td>\n",
       "      <td>1170</td>\n",
       "      <td>...</td>\n",
       "      <td>G619182</td>\n",
       "      <td>54.111389</td>\n",
       "      <td>-8.582495</td>\n",
       "      <td>Lake</td>\n",
       "      <td>01/06/1987 00:00:00</td>\n",
       "      <td>30/12/1899 00:00:00</td>\n",
       "      <td>Water Level Only</td>\n",
       "      <td>35</td>\n",
       "      <td>#http://www.opw.ie/hydro/index.asp?mpg=main.asp#</td>\n",
       "      <td>OPW</td>\n",
       "    </tr>\n",
       "    <tr>\n",
       "      <th>73</th>\n",
       "      <td>73</td>\n",
       "      <td>2152</td>\n",
       "      <td>35087</td>\n",
       "      <td>BALLYNARY</td>\n",
       "      <td>L.    ARROW</td>\n",
       "      <td>Active</td>\n",
       "      <td>Recorder</td>\n",
       "      <td></td>\n",
       "      <td>66.2</td>\n",
       "      <td>1128</td>\n",
       "      <td>...</td>\n",
       "      <td>G797124</td>\n",
       "      <td>54.060921</td>\n",
       "      <td>-8.310018</td>\n",
       "      <td>Lake</td>\n",
       "      <td>01/06/1987 00:00:00</td>\n",
       "      <td>05/09/2006 00:00:00</td>\n",
       "      <td>Water Level and Flow</td>\n",
       "      <td>35</td>\n",
       "      <td>#http://www.opw.ie/hydro/index.asp?mpg=main.asp#</td>\n",
       "      <td>OPW</td>\n",
       "    </tr>\n",
       "  </tbody>\n",
       "</table>\n",
       "<p>74 rows × 31 columns</p>\n",
       "</div>"
      ],
      "text/plain": [
       "    FID  OBJECTID  STN_NUMBER             STN_NAME          WATERBODY  \\\n",
       "0     0         6        1071         LOUGH MOURNE             MOURNE   \n",
       "1     1        63        7076     LOUGH BANE LOWER             L.BANE   \n",
       "2     2        64        7081             VIRGINIA           RAMOR L.   \n",
       "3     3        85        6070               MUCKNO          MUCKNO L.   \n",
       "4     4       164       25070         WHITEBRIDGE.           L.ENNELL   \n",
       "..  ...       ...         ...                  ...                ...   \n",
       "69   69      2141       35071               LAREEN       L.    MELVIN   \n",
       "70   70      2142       35072            TRASGARVE        L.    EASKY   \n",
       "71   71      2143       35073           L.    GILL         L.    GILL   \n",
       "72   72      2148       35078  TEMPLEHOUSE DEMESNE  L.    TEMPLEHOUSE   \n",
       "73   73      2152       35087            BALLYNARY        L.    ARROW   \n",
       "\n",
       "   STN_STATUS  STN_TYPE Classifica CATCH_km2 Pmm_a61_90  ...      IGR  \\\n",
       "0      Active  Recorder                  8.5       1993  ...  H069896   \n",
       "1      Active  Recorder                                  ...  N554706   \n",
       "2      Active  Recorder       Core     245.7       1008  ...  N599872   \n",
       "3      Active  Recorder                162.0       1045  ...  H863175   \n",
       "4      Active  Recorder                147.8        954  ...  N412466   \n",
       "..        ...       ...        ...       ...        ...  ...      ...   \n",
       "69     Active  Recorder                247.2       1364  ...  G843559   \n",
       "70     Active  Recorder                 10.7       1640  ...  G447239   \n",
       "71     Active  Recorder                362.6       1503  ...  G715328   \n",
       "72     Active  Recorder                274.1       1170  ...  G619182   \n",
       "73     Active  Recorder                 66.2       1128  ...  G797124   \n",
       "\n",
       "     LATITUDE  LONGITUDE  TYPE            REC_START              REC_END  \\\n",
       "0   54.754169  -7.902221  Lake  20/05/1999 00:00:00  30/12/1899 00:00:00   \n",
       "1   53.441549  -8.096135  Lake  24/05/2007 00:00:00  30/12/1899 00:00:00   \n",
       "2   53.831009  -7.091330  Lake  01/11/1976 00:00:00  30/12/1899 00:00:00   \n",
       "3   54.099937  -6.682337  Lake  24/03/1975 00:00:00  30/12/1899 00:00:00   \n",
       "4   53.468167  -7.377706  Lake  26/03/1975 00:00:00  30/12/1899 00:00:00   \n",
       "..        ...        ...   ...                  ...                  ...   \n",
       "69  54.452022  -8.239641  Lake  01/12/1974 00:00:00  30/12/1899 00:00:00   \n",
       "70  54.160104  -8.845652  Lake  15/12/1975 00:00:00  30/12/1899 00:00:00   \n",
       "71  54.249091  -8.438893  Lake  20/03/1975 00:00:00  30/12/1899 00:00:00   \n",
       "72  54.111389  -8.582495  Lake  01/06/1987 00:00:00  30/12/1899 00:00:00   \n",
       "73  54.060921  -8.310018  Lake  01/06/1987 00:00:00  05/09/2006 00:00:00   \n",
       "\n",
       "               AVAILABLE HYDRO_AREA  \\\n",
       "0       Water Level Only          1   \n",
       "1       Water Level Only          7   \n",
       "2       Water Level Only          7   \n",
       "3   Water Level and Flow          6   \n",
       "4       Water Level Only         25   \n",
       "..                   ...        ...   \n",
       "69  Water Level and Flow         35   \n",
       "70  Water Level and Flow         35   \n",
       "71      Water Level Only         35   \n",
       "72      Water Level Only         35   \n",
       "73  Water Level and Flow         35   \n",
       "\n",
       "                                          Hydrometri               LA  \n",
       "0          #http://hydronet.epa.ie/introduction.htm#  Local Authority  \n",
       "1          #http://hydronet.epa.ie/introduction.htm#  Local Authority  \n",
       "2   #http://www.opw.ie/hydro/index.asp?mpg=main.asp#              OPW  \n",
       "3          #http://hydronet.epa.ie/introduction.htm#  Local Authority  \n",
       "4          #http://hydronet.epa.ie/introduction.htm#  Local Authority  \n",
       "..                                               ...              ...  \n",
       "69  #http://www.opw.ie/hydro/index.asp?mpg=main.asp#              OPW  \n",
       "70         #http://hydronet.epa.ie/introduction.htm#  Local Authority  \n",
       "71         #http://hydronet.epa.ie/introduction.htm#  Local Authority  \n",
       "72  #http://www.opw.ie/hydro/index.asp?mpg=main.asp#              OPW  \n",
       "73  #http://www.opw.ie/hydro/index.asp?mpg=main.asp#              OPW  \n",
       "\n",
       "[74 rows x 31 columns]"
      ]
     },
     "execution_count": 36,
     "metadata": {},
     "output_type": "execute_result"
    }
   ],
   "source": [
    "data_path = DATA_PATH+'Terrestrial_Domain/4.3Lakes/Map4.3/'\n",
    "df = pd.read_csv(data_path + 'Map4.3_StationTable_Lakes.txt')\n",
    "df"
   ]
  },
  {
   "cell_type": "code",
   "execution_count": 43,
   "id": "headed-pharmaceutical",
   "metadata": {},
   "outputs": [],
   "source": [
    "esb_df = df.loc[(df['LA'] == 'ESB')]\n",
    "la_df = df.loc[(df['LA'] == 'Local Authority')]\n",
    "opw_df = df.loc[(df['LA'] == 'OPW')]\n",
    "\n",
    "\n",
    "esb_stations_trace = go.Scattermapbox(\n",
    "        name=\"ESB\",\n",
    "        lon=esb_df.LONGITUDE,\n",
    "        lat=esb_df.LATITUDE,\n",
    "        marker=dict(color='green',\n",
    "                    size=7),\n",
    "            hovertemplate= \n",
    "            \"<b>\"+esb_df['STN_NAME']+\"</b><br>\"+\n",
    "         \"Agency: \" + esb_df['BDS']+\"<br>\" +\n",
    "            \"Waterbody: \" + esb_df['WATERBODY']+\"<br>\" +\n",
    "                \"Catchment: \" + esb_df['CATCHMENT']+\"<br>\" +\n",
    "                \"County: \" + esb_df['COUNTY']+\"<br>\" +\n",
    "              \"Measurements: \" + esb_df['AVAILABLE']+\"<br>\" +\n",
    "            \"Lat: %{lon}\\u00b0<br>\" +\n",
    "            \"Lon: %{lat}\\u00b0<br>\" +\n",
    "            \"<extra></extra>\",\n",
    ")\n",
    "\n",
    "la_stations_trace = go.Scattermapbox(\n",
    "        name=\"Local Authority\",\n",
    "        lon=la_df.LONGITUDE,\n",
    "        lat=la_df.LATITUDE,\n",
    "        marker=dict(color='blue',\n",
    "                    size=7),\n",
    "            hovertemplate= \n",
    "            \"<b>\"+la_df['STN_NAME']+\"</b><br>\"+\n",
    "         \"Agency: \" + la_df['BDS']+\"<br>\" +\n",
    "            \"Waterbody: \" + la_df['WATERBODY']+\"<br>\" +\n",
    "                \"Catchment: \" + la_df['CATCHMENT']+\"<br>\" +\n",
    "                \"County: \" + la_df['COUNTY']+\"<br>\" +\n",
    "              \"Measurements: \" + la_df['AVAILABLE']+\"<br>\" +\n",
    "            \"Lat: %{lon}\\u00b0<br>\" +\n",
    "            \"Lon: %{lat}\\u00b0<br>\" +\n",
    "            \"<extra></extra>\",\n",
    ")\n",
    "\n",
    "opw_stations_trace = go.Scattermapbox(\n",
    "        name=\"OPW\",\n",
    "        lon=opw_df.LONGITUDE,\n",
    "        lat=opw_df.LATITUDE,\n",
    "        marker=dict(color='red',\n",
    "                    size=7),\n",
    "            hovertemplate= \n",
    "            \"<b>\"+opw_df['STN_NAME']+\"</b><br>\"+\n",
    "         \"Agency: \" + opw_df['BDS']+\"<br>\" +\n",
    "            \"Waterbody: \" + opw_df['WATERBODY']+\"<br>\" +\n",
    "                \"Catchment: \" + opw_df['CATCHMENT']+\"<br>\" +\n",
    "                \"County: \" + opw_df['COUNTY']+\"<br>\" +\n",
    "              \"Measurements: \" + opw_df['AVAILABLE']+\"<br>\" +\n",
    "            \"Lat: %{lon}\\u00b0<br>\" +\n",
    "            \"Lon: %{lat}\\u00b0<br>\" +\n",
    "            \"<extra></extra>\",\n",
    ")\n",
    "\n"
   ]
  },
  {
   "cell_type": "code",
   "execution_count": 45,
   "id": "sorted-final",
   "metadata": {},
   "outputs": [
    {
     "data": {
      "application/vnd.plotly.v1+json": {
       "config": {
        "plotlyServerURL": "https://plot.ly"
       },
       "data": [
        {
         "hovertemplate": [
          "<b>VIRGINIA</b><br>Agency: Office of Public Works<br>Waterbody: RAMOR L.<br>Catchment: Boyne<br>County: Cavan<br>Measurements: Water Level Only<br>Lat: %{lon}°<br>Lon: %{lat}°<br><extra></extra>",
          "<b>CLONSINGLE</b><br>Agency: Office of Public Works<br>Waterbody: ENNELL L.<br>Catchment: Shannon<br>County: Westmeath<br>Measurements: Water Level Only<br>Lat: %{lon}°<br>Lon: %{lat}°<br><extra></extra>",
          "<b>LADY'S ISLAND</b><br>Agency: Office of Public Works<br>Waterbody: LADY'S ISLAND LAKE<br>Catchment: Bridgetown-Duncormick-Coastal<br>County: Wexford<br>Measurements: Water Level Only<br>Lat: %{lon}°<br>Lon: %{lat}°<br><extra></extra>",
          "<b>TACUMSHIN LAKE</b><br>Agency: Office of Public Works<br>Waterbody: L. TACUMSHIN<br>Catchment:  <br>County: Wexford<br>Measurements: Water Level Only<br>Lat: %{lon}°<br>Lon: %{lat}°<br><extra></extra>",
          "<b>BARRUSHEEN</b><br>Agency: Office of Public Works<br>Waterbody: L.    CORRIB<br>Catchment: Corrib<br>County: Galway<br>Measurements: Water Level Only<br>Lat: %{lon}°<br>Lon: %{lat}°<br><extra></extra>",
          "<b>ANGLIHAM</b><br>Agency: Office of Public Works<br>Waterbody: L     CORRIB<br>Catchment: Corrib<br>County: Galway<br>Measurements: Water Level Only<br>Lat: %{lon}°<br>Lon: %{lat}°<br><extra></extra>",
          "<b>GOWLY</b><br>Agency: Office of Public Works<br>Waterbody: L.    SCUR<br>Catchment: Erne<br>County: Leitrim<br>Measurements: Water Level and Flow<br>Lat: %{lon}°<br>Lon: %{lat}°<br><extra></extra>",
          "<b>WOOD ISLAND</b><br>Agency: Office of Public Works<br>Waterbody: ST. JOHN'S LAKE<br>Catchment: Erne<br>County: Leitrim<br>Measurements: Water Level Only<br>Lat: %{lon}°<br>Lon: %{lat}°<br><extra></extra>",
          "<b>KILLYKEEN</b><br>Agency: Office of Public Works<br>Waterbody: L.   OUGHTER<br>Catchment: Erne<br>County: Cavan<br>Measurements: Water Level and Flow<br>Lat: %{lon}°<br>Lon: %{lat}°<br><extra></extra>",
          "<b>INNISCONNELL PIER</b><br>Agency: Office of Public Works<br>Waterbody: L.    OUGHTER<br>Catchment: Erne<br>County: Cavan<br>Measurements: Water Level and Flow<br>Lat: %{lon}°<br>Lon: %{lat}°<br><extra></extra>",
          "<b>BALLINACUR</b><br>Agency: Office of Public Works<br>Waterbody: GARADICE LAKE<br>Catchment: Erne<br>County: Leitrim<br>Measurements: Water Level Only<br>Lat: %{lon}°<br>Lon: %{lat}°<br><extra></extra>",
          "<b>BLACKROCK LOCK</b><br>Agency: Office of Public Works<br>Waterbody: L.    ALLEN<br>Catchment: Shannon<br>County: Leitrim<br>Measurements: Water Level Only<br>Lat: %{lon}°<br>Lon: %{lat}°<br><extra></extra>",
          "<b>CUPPANAGH</b><br>Agency: Office of Public Works<br>Waterbody: L.    GARA<br>Catchment: Shannon<br>County: Sligo<br>Measurements: Water Level and Flow<br>Lat: %{lon}°<br>Lon: %{lat}°<br><extra></extra>",
          "<b>LOUGH RINN</b><br>Agency: Office of Public Works<br>Waterbody: LOUGH RINN<br>Catchment: Shannon<br>County: Leitrim<br>Measurements: Water Level and Flow<br>Lat: %{lon}°<br>Lon: %{lat}°<br><extra></extra>",
          "<b>LOUGH  DERRAVARAGH</b><br>Agency: Office of Public Works<br>Waterbody: L.    DERRAVARAGH<br>Catchment: Shannon<br>County: Westmeath<br>Measurements: Water Level Only<br>Lat: %{lon}°<br>Lon: %{lat}°<br><extra></extra>",
          "<b>MOUNT NUGENT</b><br>Agency: Office of Public Works<br>Waterbody: L.    SHEELIN<br>Catchment: Shannon<br>County: Cavan<br>Measurements: Water Level Only<br>Lat: %{lon}°<br>Lon: %{lat}°<br><extra></extra>",
          "<b>CUIL BR.</b><br>Agency: Office of Public Works<br>Waterbody: L.    GARA<br>Catchment: Shannon<br>County: Sligo<br>Measurements: Water Level Only<br>Lat: %{lon}°<br>Lon: %{lat}°<br><extra></extra>",
          "<b>LOMCLOON</b><br>Agency: Office of Public Works<br>Waterbody: L.    GARA<br>Catchment: Shannon<br>County: Sligo<br>Measurements: Water Level Only<br>Lat: %{lon}°<br>Lon: %{lat}°<br><extra></extra>",
          "<b>HODSON'S BAY</b><br>Agency: Office of Public Works<br>Waterbody: L.    REE<br>Catchment: Shannon<br>County: Roscommon<br>Measurements: Water Level Only<br>Lat: %{lon}°<br>Lon: %{lat}°<br><extra></extra>",
          "<b>DERRY BAY</b><br>Agency: Office of Public Works<br>Waterbody: L.    REE<br>Catchment: Shannon<br>County: Longford<br>Measurements: Water Level Only<br>Lat: %{lon}°<br>Lon: %{lat}°<br><extra></extra>",
          "<b>FOALIES BR</b><br>Agency: Office of Public Works<br>Waterbody: L. ERNE UPPER<br>Catchment: Erne<br>County: Cavan<br>Measurements: Water Level and Flow<br>Lat: %{lon}°<br>Lon: %{lat}°<br><extra></extra>",
          "<b>PONTOON</b><br>Agency: Office of Public Works<br>Waterbody: L.    CULLIN<br>Catchment: Moy<br>County: Mayo<br>Measurements: Water Level and Flow<br>Lat: %{lon}°<br>Lon: %{lat}°<br><extra></extra>",
          "<b>GORTNARABY</b><br>Agency: Office of Public Works<br>Waterbody: L.    CONN<br>Catchment: Moy<br>County: Mayo<br>Measurements: Water Level Only<br>Lat: %{lon}°<br>Lon: %{lat}°<br><extra></extra>",
          "<b>CORRYOSLA</b><br>Agency: Office of Public Works<br>Waterbody: L.    CONN<br>Catchment: Moy<br>County: Mayo<br>Measurements: Water Level Only<br>Lat: %{lon}°<br>Lon: %{lat}°<br><extra></extra>",
          "<b>TOMIES PIER</b><br>Agency: Office of Public Works<br>Waterbody: L.    LEANE<br>Catchment: Laune<br>County: Kerry<br>Measurements: Water Level and Flow<br>Lat: %{lon}°<br>Lon: %{lat}°<br><extra></extra>",
          "<b>B.V.M. PARK</b><br>Agency: Office of Public Works<br>Waterbody: L.    LEANE<br>Catchment: Laune<br>County: Kerry<br>Measurements: Water Level Only<br>Lat: %{lon}°<br>Lon: %{lat}°<br><extra></extra>",
          "<b>CAHER PIER</b><br>Agency: Office of Public Works<br>Waterbody: L.    MASK<br>Catchment: Corrib<br>County: Mayo<br>Measurements: Water Level and Flow<br>Lat: %{lon}°<br>Lon: %{lat}°<br><extra></extra>",
          "<b>BURRISCARRA</b><br>Agency: Office of Public Works<br>Waterbody: L.    CARRA<br>Catchment: Corrib<br>County: Mayo<br>Measurements: Water Level and Flow<br>Lat: %{lon}°<br>Lon: %{lat}°<br><extra></extra>",
          "<b>ANNAGHDOWN PIER</b><br>Agency: Office of Public Works<br>Waterbody: L.    CORRIB<br>Catchment: Corrib<br>County: Galway<br>Measurements: Water Level Only<br>Lat: %{lon}°<br>Lon: %{lat}°<br><extra></extra>",
          "<b>CONG PIER</b><br>Agency: Office of Public Works<br>Waterbody: L.    CORRIB<br>Catchment: Corrib<br>County: Mayo<br>Measurements: Water Level Only<br>Lat: %{lon}°<br>Lon: %{lat}°<br><extra></extra>",
          "<b>LAREEN</b><br>Agency: Office of Public Works<br>Waterbody: L.    MELVIN<br>Catchment: Drowes<br>County: Leitrim<br>Measurements: Water Level and Flow<br>Lat: %{lon}°<br>Lon: %{lat}°<br><extra></extra>",
          "<b>TEMPLEHOUSE DEMESNE</b><br>Agency: Office of Public Works<br>Waterbody: L.    TEMPLEHOUSE<br>Catchment: Ballysadare<br>County: Sligo<br>Measurements: Water Level Only<br>Lat: %{lon}°<br>Lon: %{lat}°<br><extra></extra>",
          "<b>BALLYNARY</b><br>Agency: Office of Public Works<br>Waterbody: L.    ARROW<br>Catchment: Ballysadare<br>County: Sligo<br>Measurements: Water Level and Flow<br>Lat: %{lon}°<br>Lon: %{lat}°<br><extra></extra>"
         ],
         "lat": [
          53.83100927,
          53.43795539,
          0,
          0,
          53.44552331,
          53.31753766,
          54.02242912,
          54.04971912,
          54.0075041,
          54.01722592,
          54.05648146,
          54.04803955,
          53.95770141,
          53.89474468,
          53.61087512,
          53.82100061,
          53.92911565,
          53.92416828,
          53.46667079,
          53.55672249,
          54.13874274,
          53.97833456,
          54.09333314,
          53.98354032,
          52.05798876,
          52.02318448,
          53.6108534,
          53.733282,
          53.38662891,
          53.53023947,
          54.45202244,
          54.11138912,
          54.06092069
         ],
         "lon": [
          -7.09132983,
          -7.42717223,
          0,
          0,
          -9.32291968,
          -9.06758564,
          -7.95765679,
          -7.86721645,
          -7.47222223,
          -7.45832338,
          -7.69379202,
          -8.05040551,
          -8.40705295,
          -7.8522708,
          -7.30154578,
          -7.2835987,
          -8.43475538,
          -8.4674911,
          -7.98804513,
          -7.85135649,
          -7.43660285,
          -9.20583655,
          -9.29777174,
          -9.22414252,
          -9.60482133,
          -9.50707029,
          -9.30009807,
          -9.2497441,
          -9.07833071,
          -9.27651501,
          -8.2396411,
          -8.58249486,
          -8.31001826
         ],
         "marker": {
          "color": "red",
          "size": 7
         },
         "name": "OPW",
         "type": "scattermapbox"
        },
        {
         "hovertemplate": [
          "<b>LOUGH MOURNE</b><br>Agency: Donegal County Council<br>Waterbody: MOURNE<br>Catchment: River Mourne<br>County: Donegal<br>Measurements: Water Level Only<br>Lat: %{lon}°<br>Lon: %{lat}°<br><extra></extra>",
          "<b>LOUGH BANE LOWER</b><br>Agency: Meath County Council<br>Waterbody: L.BANE<br>Catchment: Boyne<br>County: Westmeath<br>Measurements: Water Level Only<br>Lat: %{lon}°<br>Lon: %{lat}°<br><extra></extra>",
          "<b>MUCKNO</b><br>Agency: Monaghan County Council<br>Waterbody: MUCKNO L.<br>Catchment: Fane River<br>County: Monaghan<br>Measurements: Water Level and Flow<br>Lat: %{lon}°<br>Lon: %{lat}°<br><extra></extra>",
          "<b>WHITEBRIDGE.</b><br>Agency: Westmeath County Council<br>Waterbody: L.ENNELL<br>Catchment: Shannon<br>County: Westmeath<br>Measurements: Water Level Only<br>Lat: %{lon}°<br>Lon: %{lat}°<br><extra></extra>",
          "<b>CAPTAIN'S HILL</b><br>Agency: Westmeath County Council<br>Waterbody: OWEL L.<br>Catchment: Shannon<br>County: Westmeath<br>Measurements: Water Level Only<br>Lat: %{lon}°<br>Lon: %{lat}°<br><extra></extra>",
          "<b>POULAWEE</b><br>Agency: North Tipperary County Council<br>Waterbody: POULAWEE LAKE<br>Catchment: Shannon<br>County: Tipperary<br>Measurements: Flow Measurements<br>Lat: %{lon}°<br>Lon: %{lat}°<br><extra></extra>",
          "<b>EMY LOUGH</b><br>Agency: Monaghan County Council<br>Waterbody: EMY LOUGH<br>Catchment: River Blackwater<br>County: Monaghan<br>Measurements: Water Level Only<br>Lat: %{lon}°<br>Lon: %{lat}°<br><extra></extra>",
          "<b>SKEAGH</b><br>Agency: Cavan County Council<br>Waterbody: SKEAGH L.<br>Catchment: Boyne<br>County: Cavan<br>Measurements: Water Level Only<br>Lat: %{lon}°<br>Lon: %{lat}°<br><extra></extra>",
          "<b>BANE</b><br>Agency: Meath County Council<br>Waterbody: BANE L.<br>Catchment: Boyne<br>County: Westmeath<br>Measurements: Water Level Only<br>Lat: %{lon}°<br>Lon: %{lat}°<br><extra></extra>",
          "<b>BALLANY</b><br>Agency: Westmeath County Council<br>Waterbody: LENE L.<br>Catchment: Boyne<br>County: Westmeath<br>Measurements: Water Level Only<br>Lat: %{lon}°<br>Lon: %{lat}°<br><extra></extra>",
          "<b>L.    FEEAGH</b><br>Agency: Mayo County Council<br>Waterbody: L.    FEEAGH<br>Catchment: Srahmore<br>County: Mayo<br>Measurements: Water Level and Flow<br>Lat: %{lon}°<br>Lon: %{lat}°<br><extra></extra>",
          "<b>NEW BR.</b><br>Agency: Monaghan County Council<br>Waterbody: DROMORE L.<br>Catchment: Erne<br>County: Cavan<br>Measurements: Water Level Only<br>Lat: %{lon}°<br>Lon: %{lat}°<br><extra></extra>",
          "<b>COOTEHILL</b><br>Agency: Cavan County Council<br>Waterbody: CORAGH LAKE<br>Catchment: Erne<br>County: Cavan<br>Measurements: Water Level Only<br>Lat: %{lon}°<br>Lon: %{lat}°<br><extra></extra>",
          "<b>CORLEA</b><br>Agency: Monaghan County Council<br>Waterbody: L.    BAWN<br>Catchment: Erne<br>County: Monaghan<br>Measurements: Water Level and Flow<br>Lat: %{lon}°<br>Lon: %{lat}°<br><extra></extra>",
          "<b>CLOONE</b><br>Agency: Cavan County Council<br>Waterbody: L.    GOWNA<br>Catchment: Erne<br>County: Cavan<br>Measurements: Water Level and Flow<br>Lat: %{lon}°<br>Lon: %{lat}°<br><extra></extra>",
          "<b>OUGHTER</b><br>Agency: Cavan County Council<br>Waterbody: L.    OUGHTER<br>Catchment: Erne<br>County: Cavan<br>Measurements: Water Level Only<br>Lat: %{lon}°<br>Lon: %{lat}°<br><extra></extra>",
          "<b>BAUNKYLE</b><br>Agency: Clare County Council<br>Waterbody: L.    INCHIQUIN<br>Catchment: Shannon<br>County: Clare<br>Measurements: Water Level Only<br>Lat: %{lon}°<br>Lon: %{lat}°<br><extra></extra>",
          "<b>CUTRA</b><br>Agency: Galway County Council<br>Waterbody: L.    CUTRA<br>Catchment: Kinvarra-Coastal<br>County: Galway<br>Measurements: Water Level and Flow<br>Lat: %{lon}°<br>Lon: %{lat}°<br><extra></extra>",
          "<b>CARROWMORE</b><br>Agency: Mayo County Council<br>Waterbody: CARROWMORE L.<br>Catchment: Owenmore<br>County: Mayo<br>Measurements: Water Level Only<br>Lat: %{lon}°<br>Lon: %{lat}°<br><extra></extra>",
          "<b>ACCORYMORE</b><br>Agency: Mayo County Council<br>Waterbody: L. ACCORYMORE<br>Catchment:  <br>County: Mayo<br>Measurements: Water Level and Flow<br>Lat: %{lon}°<br>Lon: %{lat}°<br><extra></extra>",
          "<b>L.    ESKE</b><br>Agency: Donegal County Council<br>Waterbody: L.    ESKE<br>Catchment: Eask<br>County: Donegal<br>Measurements: Water Level and Flow<br>Lat: %{lon}°<br>Lon: %{lat}°<br><extra></extra>",
          "<b>L.    ANURE</b><br>Agency: Donegal County Council<br>Waterbody: L.    ANURE<br>Catchment: Gweebarra-Delvin-Owennamarve-Coastal<br>County: Donegal<br>Measurements: Water Level and Flow<br>Lat: %{lon}°<br>Lon: %{lat}°<br><extra></extra>",
          "<b>L.    ALTAN</b><br>Agency: Donegal County Council<br>Waterbody: L.    ALTAN<br>Catchment: Gweebarra-Delvin-Owennamarve-Coastal<br>County: Donegal<br>Measurements: Water Level and Flow<br>Lat: %{lon}°<br>Lon: %{lat}°<br><extra></extra>",
          "<b>TALT</b><br>Agency: Sligo County Council<br>Waterbody: L. TALT RIVER<br>Catchment: Moy<br>County: Sligo<br>Measurements: Flow Measurements<br>Lat: %{lon}°<br>Lon: %{lat}°<br><extra></extra>",
          "<b>MEENDORAN</b><br>Agency: Donegal County Council<br>Waterbody: L.    FAD(W)<br>Catchment: Culdaff-Clonmany-Donagh-Coastal<br>County: Donegal<br>Measurements: Water Level and Flow<br>Lat: %{lon}°<br>Lon: %{lat}°<br><extra></extra>",
          "<b>INCHICRONAN LOUGH</b><br>Agency: Clare County Council<br>Waterbody: INCHICRONAN LOUGH<br>Catchment: Fergus<br>County: Clare<br>Measurements: Water Level Only<br>Lat: %{lon}°<br>Lon: %{lat}°<br><extra></extra>",
          "<b>NAHASLEAM</b><br>Agency: Galway County Council<br>Waterbody: NAHASLEAM LOUGH<br>Catchment:  <br>County: Galway<br>Measurements: Water Level Only<br>Lat: %{lon}°<br>Lon: %{lat}°<br><extra></extra>",
          "<b>SHINDILLA</b><br>Agency: Galway County Council<br>Waterbody: LOUGH SHINDILLA<br>Catchment:  <br>County: Galway<br>Measurements: Water Level Only<br>Lat: %{lon}°<br>Lon: %{lat}°<br><extra></extra>",
          "<b>DOO LOUGH</b><br>Agency: Mayo County Council<br>Waterbody: DOO LOUGH<br>Catchment:  <br>County: Mayo<br>Measurements: Water Level Only<br>Lat: %{lon}°<br>Lon: %{lat}°<br><extra></extra>",
          "<b>WHITE LOUGH</b><br>Agency: Westmeath County Council<br>Waterbody: ANNAGH OR WHITE LOUGH<br>Catchment:  <br>County: Westmeath<br>Measurements: Water Level Only<br>Lat: %{lon}°<br>Lon: %{lat}°<br><extra></extra>",
          "<b>DERRYCLARE</b><br>Agency: Galway County Council<br>Waterbody: DERRYCLARE    L.<br>Catchment: Ballynahinch<br>County: Galway<br>Measurements: Water Level and Flow<br>Lat: %{lon}°<br>Lon: %{lat}°<br><extra></extra>",
          "<b>TRASGARVE</b><br>Agency: Sligo County Council<br>Waterbody: L.    EASKY<br>Catchment: Easky-Dunneil-Coastal<br>County: Sligo<br>Measurements: Water Level and Flow<br>Lat: %{lon}°<br>Lon: %{lat}°<br><extra></extra>",
          "<b>L.    GILL</b><br>Agency: Sligo County Council<br>Waterbody: L.    GILL<br>Catchment: Garvogue<br>County: Sligo<br>Measurements: Water Level Only<br>Lat: %{lon}°<br>Lon: %{lat}°<br><extra></extra>"
         ],
         "lat": [
          54.75416851,
          53.44154881,
          54.09993705,
          53.46816688,
          53.57218407,
          52.94422386,
          54.3465511,
          53.95148636,
          53.68539498,
          53.66408841,
          53.92563726,
          54.08189583,
          54.08260319,
          54.04701896,
          53.86632422,
          54.0380982,
          52.95055088,
          53.0295795,
          54.16717152,
          53.98217062,
          54.68663663,
          55.00678493,
          55.07257794,
          54.07626492,
          55.23444917,
          0,
          0,
          0,
          0,
          0,
          53.46411939,
          54.16010368,
          54.24909099
         ],
         "lon": [
          -7.90222062,
          -8.09613532,
          -6.68233736,
          -7.37770643,
          -7.40943339,
          -8.25063722,
          -6.9374074,
          -7.006718,
          -7.16164098,
          -7.25192385,
          -9.57474493,
          -7.08733779,
          -7.05332452,
          -6.91041078,
          -7.54404614,
          -7.4334782,
          -9.08346545,
          -8.77279566,
          -9.77990267,
          -10.16745265,
          -8.05205605,
          -8.27629884,
          -8.09635263,
          -8.91312439,
          -7.37559571,
          0,
          0,
          0,
          0,
          0,
          -9.80337883,
          -8.84565218,
          -8.43889282
         ],
         "marker": {
          "color": "blue",
          "size": 7
         },
         "name": "Local Authority",
         "type": "scattermapbox"
        },
        {
         "hovertemplate": [
          "<b>BALLYVALLEY</b><br>Agency: ESB<br>Waterbody: DERG L.<br>Catchment: Shannon<br>County: Clare<br>Measurements: Water Level Only<br>Lat: %{lon}°<br>Lon: %{lat}°<br><extra></extra>",
          "<b>KILLALOE</b><br>Agency: ESB<br>Waterbody: DERG L.<br>Catchment: Shannon<br>County: Clare<br>Measurements: Water Level Only<br>Lat: %{lon}°<br>Lon: %{lat}°<br><extra></extra>",
          "<b>PARTEEN WEIR</b><br>Agency: ESB<br>Waterbody: SHANNON<br>Catchment: Shannon<br>County: Tipperary<br>Measurements: Water Level and Flow<br>Lat: %{lon}°<br>Lon: %{lat}°<br><extra></extra>",
          "<b>POLLAPHOUCA</b><br>Agency: ESB<br>Waterbody: LIFFEY HEADRACE CH.<br>Catchment: Liffey<br>County: Kildare<br>Measurements: Water Level Only<br>Lat: %{lon}°<br>Lon: %{lat}°<br><extra></extra>",
          "<b>CARRIGADROHID</b><br>Agency: ESB<br>Waterbody: LEE<br>Catchment: Lee<br>County: Cork<br>Measurements: Water Level Only<br>Lat: %{lon}°<br>Lon: %{lat}°<br><extra></extra>",
          "<b>L.    NAHANAGAN</b><br>Agency: ESB<br>Waterbody: L.    NAHANAGAN<br>Catchment: Avoca<br>County: Wicklow<br>Measurements: Water Level Only<br>Lat: %{lon}°<br>Lon: %{lat}°<br><extra></extra>",
          "<b>L.    ALLEN U/S</b><br>Agency: ESB<br>Waterbody: L.    ALLEN<br>Catchment: Shannon<br>County: Leitrim<br>Measurements: Water Level Only<br>Lat: %{lon}°<br>Lon: %{lat}°<br><extra></extra>",
          "<b>THATCH</b><br>Agency: ESB<br>Waterbody: L.    REE<br>Catchment: Shannon<br>County: Westmeath<br>Measurements: Water Level Only<br>Lat: %{lon}°<br>Lon: %{lat}°<br><extra></extra>"
         ],
         "lat": [
          52.82196755,
          52.80748685,
          52.76173802,
          53.11988619,
          51.90667601,
          53.03069157,
          54.06109805,
          53.44805793
         ],
         "lon": [
          -8.45524441,
          -8.43973085,
          -8.47511789,
          -6.59076163,
          -8.84347271,
          -6.38726407,
          -8.05949239,
          -7.96275044
         ],
         "marker": {
          "color": "green",
          "size": 7
         },
         "name": "ESB",
         "type": "scattermapbox"
        }
       ],
       "layout": {
        "height": 400,
        "legend": {
         "title": {
          "text": "<b>Station Agency</b>"
         },
         "x": 0.01
        },
        "mapbox": {
         "bearing": 0,
         "center": {
          "lat": 53.4,
          "lon": 352
         },
         "pitch": 0,
         "style": "open-street-map",
         "zoom": 5
        },
        "margin": {
         "b": 0,
         "l": 0,
         "r": 0,
         "t": 0
        },
        "paper_bgcolor": "rgba(0,0,0,0)",
        "plot_bgcolor": "rgba(0,0,0,0)",
        "template": {
         "data": {
          "bar": [
           {
            "error_x": {
             "color": "#2a3f5f"
            },
            "error_y": {
             "color": "#2a3f5f"
            },
            "marker": {
             "line": {
              "color": "#E5ECF6",
              "width": 0.5
             }
            },
            "type": "bar"
           }
          ],
          "barpolar": [
           {
            "marker": {
             "line": {
              "color": "#E5ECF6",
              "width": 0.5
             }
            },
            "type": "barpolar"
           }
          ],
          "carpet": [
           {
            "aaxis": {
             "endlinecolor": "#2a3f5f",
             "gridcolor": "white",
             "linecolor": "white",
             "minorgridcolor": "white",
             "startlinecolor": "#2a3f5f"
            },
            "baxis": {
             "endlinecolor": "#2a3f5f",
             "gridcolor": "white",
             "linecolor": "white",
             "minorgridcolor": "white",
             "startlinecolor": "#2a3f5f"
            },
            "type": "carpet"
           }
          ],
          "choropleth": [
           {
            "colorbar": {
             "outlinewidth": 0,
             "ticks": ""
            },
            "type": "choropleth"
           }
          ],
          "contour": [
           {
            "colorbar": {
             "outlinewidth": 0,
             "ticks": ""
            },
            "colorscale": [
             [
              0,
              "#0d0887"
             ],
             [
              0.1111111111111111,
              "#46039f"
             ],
             [
              0.2222222222222222,
              "#7201a8"
             ],
             [
              0.3333333333333333,
              "#9c179e"
             ],
             [
              0.4444444444444444,
              "#bd3786"
             ],
             [
              0.5555555555555556,
              "#d8576b"
             ],
             [
              0.6666666666666666,
              "#ed7953"
             ],
             [
              0.7777777777777778,
              "#fb9f3a"
             ],
             [
              0.8888888888888888,
              "#fdca26"
             ],
             [
              1,
              "#f0f921"
             ]
            ],
            "type": "contour"
           }
          ],
          "contourcarpet": [
           {
            "colorbar": {
             "outlinewidth": 0,
             "ticks": ""
            },
            "type": "contourcarpet"
           }
          ],
          "heatmap": [
           {
            "colorbar": {
             "outlinewidth": 0,
             "ticks": ""
            },
            "colorscale": [
             [
              0,
              "#0d0887"
             ],
             [
              0.1111111111111111,
              "#46039f"
             ],
             [
              0.2222222222222222,
              "#7201a8"
             ],
             [
              0.3333333333333333,
              "#9c179e"
             ],
             [
              0.4444444444444444,
              "#bd3786"
             ],
             [
              0.5555555555555556,
              "#d8576b"
             ],
             [
              0.6666666666666666,
              "#ed7953"
             ],
             [
              0.7777777777777778,
              "#fb9f3a"
             ],
             [
              0.8888888888888888,
              "#fdca26"
             ],
             [
              1,
              "#f0f921"
             ]
            ],
            "type": "heatmap"
           }
          ],
          "heatmapgl": [
           {
            "colorbar": {
             "outlinewidth": 0,
             "ticks": ""
            },
            "colorscale": [
             [
              0,
              "#0d0887"
             ],
             [
              0.1111111111111111,
              "#46039f"
             ],
             [
              0.2222222222222222,
              "#7201a8"
             ],
             [
              0.3333333333333333,
              "#9c179e"
             ],
             [
              0.4444444444444444,
              "#bd3786"
             ],
             [
              0.5555555555555556,
              "#d8576b"
             ],
             [
              0.6666666666666666,
              "#ed7953"
             ],
             [
              0.7777777777777778,
              "#fb9f3a"
             ],
             [
              0.8888888888888888,
              "#fdca26"
             ],
             [
              1,
              "#f0f921"
             ]
            ],
            "type": "heatmapgl"
           }
          ],
          "histogram": [
           {
            "marker": {
             "colorbar": {
              "outlinewidth": 0,
              "ticks": ""
             }
            },
            "type": "histogram"
           }
          ],
          "histogram2d": [
           {
            "colorbar": {
             "outlinewidth": 0,
             "ticks": ""
            },
            "colorscale": [
             [
              0,
              "#0d0887"
             ],
             [
              0.1111111111111111,
              "#46039f"
             ],
             [
              0.2222222222222222,
              "#7201a8"
             ],
             [
              0.3333333333333333,
              "#9c179e"
             ],
             [
              0.4444444444444444,
              "#bd3786"
             ],
             [
              0.5555555555555556,
              "#d8576b"
             ],
             [
              0.6666666666666666,
              "#ed7953"
             ],
             [
              0.7777777777777778,
              "#fb9f3a"
             ],
             [
              0.8888888888888888,
              "#fdca26"
             ],
             [
              1,
              "#f0f921"
             ]
            ],
            "type": "histogram2d"
           }
          ],
          "histogram2dcontour": [
           {
            "colorbar": {
             "outlinewidth": 0,
             "ticks": ""
            },
            "colorscale": [
             [
              0,
              "#0d0887"
             ],
             [
              0.1111111111111111,
              "#46039f"
             ],
             [
              0.2222222222222222,
              "#7201a8"
             ],
             [
              0.3333333333333333,
              "#9c179e"
             ],
             [
              0.4444444444444444,
              "#bd3786"
             ],
             [
              0.5555555555555556,
              "#d8576b"
             ],
             [
              0.6666666666666666,
              "#ed7953"
             ],
             [
              0.7777777777777778,
              "#fb9f3a"
             ],
             [
              0.8888888888888888,
              "#fdca26"
             ],
             [
              1,
              "#f0f921"
             ]
            ],
            "type": "histogram2dcontour"
           }
          ],
          "mesh3d": [
           {
            "colorbar": {
             "outlinewidth": 0,
             "ticks": ""
            },
            "type": "mesh3d"
           }
          ],
          "parcoords": [
           {
            "line": {
             "colorbar": {
              "outlinewidth": 0,
              "ticks": ""
             }
            },
            "type": "parcoords"
           }
          ],
          "pie": [
           {
            "automargin": true,
            "type": "pie"
           }
          ],
          "scatter": [
           {
            "marker": {
             "colorbar": {
              "outlinewidth": 0,
              "ticks": ""
             }
            },
            "type": "scatter"
           }
          ],
          "scatter3d": [
           {
            "line": {
             "colorbar": {
              "outlinewidth": 0,
              "ticks": ""
             }
            },
            "marker": {
             "colorbar": {
              "outlinewidth": 0,
              "ticks": ""
             }
            },
            "type": "scatter3d"
           }
          ],
          "scattercarpet": [
           {
            "marker": {
             "colorbar": {
              "outlinewidth": 0,
              "ticks": ""
             }
            },
            "type": "scattercarpet"
           }
          ],
          "scattergeo": [
           {
            "marker": {
             "colorbar": {
              "outlinewidth": 0,
              "ticks": ""
             }
            },
            "type": "scattergeo"
           }
          ],
          "scattergl": [
           {
            "marker": {
             "colorbar": {
              "outlinewidth": 0,
              "ticks": ""
             }
            },
            "type": "scattergl"
           }
          ],
          "scattermapbox": [
           {
            "marker": {
             "colorbar": {
              "outlinewidth": 0,
              "ticks": ""
             }
            },
            "type": "scattermapbox"
           }
          ],
          "scatterpolar": [
           {
            "marker": {
             "colorbar": {
              "outlinewidth": 0,
              "ticks": ""
             }
            },
            "type": "scatterpolar"
           }
          ],
          "scatterpolargl": [
           {
            "marker": {
             "colorbar": {
              "outlinewidth": 0,
              "ticks": ""
             }
            },
            "type": "scatterpolargl"
           }
          ],
          "scatterternary": [
           {
            "marker": {
             "colorbar": {
              "outlinewidth": 0,
              "ticks": ""
             }
            },
            "type": "scatterternary"
           }
          ],
          "surface": [
           {
            "colorbar": {
             "outlinewidth": 0,
             "ticks": ""
            },
            "colorscale": [
             [
              0,
              "#0d0887"
             ],
             [
              0.1111111111111111,
              "#46039f"
             ],
             [
              0.2222222222222222,
              "#7201a8"
             ],
             [
              0.3333333333333333,
              "#9c179e"
             ],
             [
              0.4444444444444444,
              "#bd3786"
             ],
             [
              0.5555555555555556,
              "#d8576b"
             ],
             [
              0.6666666666666666,
              "#ed7953"
             ],
             [
              0.7777777777777778,
              "#fb9f3a"
             ],
             [
              0.8888888888888888,
              "#fdca26"
             ],
             [
              1,
              "#f0f921"
             ]
            ],
            "type": "surface"
           }
          ],
          "table": [
           {
            "cells": {
             "fill": {
              "color": "#EBF0F8"
             },
             "line": {
              "color": "white"
             }
            },
            "header": {
             "fill": {
              "color": "#C8D4E3"
             },
             "line": {
              "color": "white"
             }
            },
            "type": "table"
           }
          ]
         },
         "layout": {
          "annotationdefaults": {
           "arrowcolor": "#2a3f5f",
           "arrowhead": 0,
           "arrowwidth": 1
          },
          "autotypenumbers": "strict",
          "coloraxis": {
           "colorbar": {
            "outlinewidth": 0,
            "ticks": ""
           }
          },
          "colorscale": {
           "diverging": [
            [
             0,
             "#8e0152"
            ],
            [
             0.1,
             "#c51b7d"
            ],
            [
             0.2,
             "#de77ae"
            ],
            [
             0.3,
             "#f1b6da"
            ],
            [
             0.4,
             "#fde0ef"
            ],
            [
             0.5,
             "#f7f7f7"
            ],
            [
             0.6,
             "#e6f5d0"
            ],
            [
             0.7,
             "#b8e186"
            ],
            [
             0.8,
             "#7fbc41"
            ],
            [
             0.9,
             "#4d9221"
            ],
            [
             1,
             "#276419"
            ]
           ],
           "sequential": [
            [
             0,
             "#0d0887"
            ],
            [
             0.1111111111111111,
             "#46039f"
            ],
            [
             0.2222222222222222,
             "#7201a8"
            ],
            [
             0.3333333333333333,
             "#9c179e"
            ],
            [
             0.4444444444444444,
             "#bd3786"
            ],
            [
             0.5555555555555556,
             "#d8576b"
            ],
            [
             0.6666666666666666,
             "#ed7953"
            ],
            [
             0.7777777777777778,
             "#fb9f3a"
            ],
            [
             0.8888888888888888,
             "#fdca26"
            ],
            [
             1,
             "#f0f921"
            ]
           ],
           "sequentialminus": [
            [
             0,
             "#0d0887"
            ],
            [
             0.1111111111111111,
             "#46039f"
            ],
            [
             0.2222222222222222,
             "#7201a8"
            ],
            [
             0.3333333333333333,
             "#9c179e"
            ],
            [
             0.4444444444444444,
             "#bd3786"
            ],
            [
             0.5555555555555556,
             "#d8576b"
            ],
            [
             0.6666666666666666,
             "#ed7953"
            ],
            [
             0.7777777777777778,
             "#fb9f3a"
            ],
            [
             0.8888888888888888,
             "#fdca26"
            ],
            [
             1,
             "#f0f921"
            ]
           ]
          },
          "colorway": [
           "#636efa",
           "#EF553B",
           "#00cc96",
           "#ab63fa",
           "#FFA15A",
           "#19d3f3",
           "#FF6692",
           "#B6E880",
           "#FF97FF",
           "#FECB52"
          ],
          "font": {
           "color": "#2a3f5f"
          },
          "geo": {
           "bgcolor": "white",
           "lakecolor": "white",
           "landcolor": "#E5ECF6",
           "showlakes": true,
           "showland": true,
           "subunitcolor": "white"
          },
          "hoverlabel": {
           "align": "left"
          },
          "hovermode": "closest",
          "mapbox": {
           "style": "light"
          },
          "paper_bgcolor": "white",
          "plot_bgcolor": "#E5ECF6",
          "polar": {
           "angularaxis": {
            "gridcolor": "white",
            "linecolor": "white",
            "ticks": ""
           },
           "bgcolor": "#E5ECF6",
           "radialaxis": {
            "gridcolor": "white",
            "linecolor": "white",
            "ticks": ""
           }
          },
          "scene": {
           "xaxis": {
            "backgroundcolor": "#E5ECF6",
            "gridcolor": "white",
            "gridwidth": 2,
            "linecolor": "white",
            "showbackground": true,
            "ticks": "",
            "zerolinecolor": "white"
           },
           "yaxis": {
            "backgroundcolor": "#E5ECF6",
            "gridcolor": "white",
            "gridwidth": 2,
            "linecolor": "white",
            "showbackground": true,
            "ticks": "",
            "zerolinecolor": "white"
           },
           "zaxis": {
            "backgroundcolor": "#E5ECF6",
            "gridcolor": "white",
            "gridwidth": 2,
            "linecolor": "white",
            "showbackground": true,
            "ticks": "",
            "zerolinecolor": "white"
           }
          },
          "shapedefaults": {
           "line": {
            "color": "#2a3f5f"
           }
          },
          "ternary": {
           "aaxis": {
            "gridcolor": "white",
            "linecolor": "white",
            "ticks": ""
           },
           "baxis": {
            "gridcolor": "white",
            "linecolor": "white",
            "ticks": ""
           },
           "bgcolor": "#E5ECF6",
           "caxis": {
            "gridcolor": "white",
            "linecolor": "white",
            "ticks": ""
           }
          },
          "title": {
           "x": 0.05
          },
          "xaxis": {
           "automargin": true,
           "gridcolor": "white",
           "linecolor": "white",
           "ticks": "",
           "title": {
            "standoff": 15
           },
           "zerolinecolor": "white",
           "zerolinewidth": 2
          },
          "yaxis": {
           "automargin": true,
           "gridcolor": "white",
           "linecolor": "white",
           "ticks": "",
           "title": {
            "standoff": 15
           },
           "zerolinecolor": "white",
           "zerolinewidth": 2
          }
         }
        }
       }
      },
      "text/html": [
       "<div>                            <div id=\"0c4d3e8a-a67b-49fb-bd34-67ec6a18b9fa\" class=\"plotly-graph-div\" style=\"height:400px; width:100%;\"></div>            <script type=\"text/javascript\">                require([\"plotly\"], function(Plotly) {                    window.PLOTLYENV=window.PLOTLYENV || {};                                    if (document.getElementById(\"0c4d3e8a-a67b-49fb-bd34-67ec6a18b9fa\")) {                    Plotly.newPlot(                        \"0c4d3e8a-a67b-49fb-bd34-67ec6a18b9fa\",                        [{\"hovertemplate\": [\"<b>VIRGINIA</b><br>Agency: Office of Public Works<br>Waterbody: RAMOR L.<br>Catchment: Boyne<br>County: Cavan<br>Measurements: Water Level Only<br>Lat: %{lon}\\u00b0<br>Lon: %{lat}\\u00b0<br><extra></extra>\", \"<b>CLONSINGLE</b><br>Agency: Office of Public Works<br>Waterbody: ENNELL L.<br>Catchment: Shannon<br>County: Westmeath<br>Measurements: Water Level Only<br>Lat: %{lon}\\u00b0<br>Lon: %{lat}\\u00b0<br><extra></extra>\", \"<b>LADY'S ISLAND</b><br>Agency: Office of Public Works<br>Waterbody: LADY'S ISLAND LAKE<br>Catchment: Bridgetown-Duncormick-Coastal<br>County: Wexford<br>Measurements: Water Level Only<br>Lat: %{lon}\\u00b0<br>Lon: %{lat}\\u00b0<br><extra></extra>\", \"<b>TACUMSHIN LAKE</b><br>Agency: Office of Public Works<br>Waterbody: L. TACUMSHIN<br>Catchment:  <br>County: Wexford<br>Measurements: Water Level Only<br>Lat: %{lon}\\u00b0<br>Lon: %{lat}\\u00b0<br><extra></extra>\", \"<b>BARRUSHEEN</b><br>Agency: Office of Public Works<br>Waterbody: L.    CORRIB<br>Catchment: Corrib<br>County: Galway<br>Measurements: Water Level Only<br>Lat: %{lon}\\u00b0<br>Lon: %{lat}\\u00b0<br><extra></extra>\", \"<b>ANGLIHAM</b><br>Agency: Office of Public Works<br>Waterbody: L     CORRIB<br>Catchment: Corrib<br>County: Galway<br>Measurements: Water Level Only<br>Lat: %{lon}\\u00b0<br>Lon: %{lat}\\u00b0<br><extra></extra>\", \"<b>GOWLY</b><br>Agency: Office of Public Works<br>Waterbody: L.    SCUR<br>Catchment: Erne<br>County: Leitrim<br>Measurements: Water Level and Flow<br>Lat: %{lon}\\u00b0<br>Lon: %{lat}\\u00b0<br><extra></extra>\", \"<b>WOOD ISLAND</b><br>Agency: Office of Public Works<br>Waterbody: ST. JOHN'S LAKE<br>Catchment: Erne<br>County: Leitrim<br>Measurements: Water Level Only<br>Lat: %{lon}\\u00b0<br>Lon: %{lat}\\u00b0<br><extra></extra>\", \"<b>KILLYKEEN</b><br>Agency: Office of Public Works<br>Waterbody: L.   OUGHTER<br>Catchment: Erne<br>County: Cavan<br>Measurements: Water Level and Flow<br>Lat: %{lon}\\u00b0<br>Lon: %{lat}\\u00b0<br><extra></extra>\", \"<b>INNISCONNELL PIER</b><br>Agency: Office of Public Works<br>Waterbody: L.    OUGHTER<br>Catchment: Erne<br>County: Cavan<br>Measurements: Water Level and Flow<br>Lat: %{lon}\\u00b0<br>Lon: %{lat}\\u00b0<br><extra></extra>\", \"<b>BALLINACUR</b><br>Agency: Office of Public Works<br>Waterbody: GARADICE LAKE<br>Catchment: Erne<br>County: Leitrim<br>Measurements: Water Level Only<br>Lat: %{lon}\\u00b0<br>Lon: %{lat}\\u00b0<br><extra></extra>\", \"<b>BLACKROCK LOCK</b><br>Agency: Office of Public Works<br>Waterbody: L.    ALLEN<br>Catchment: Shannon<br>County: Leitrim<br>Measurements: Water Level Only<br>Lat: %{lon}\\u00b0<br>Lon: %{lat}\\u00b0<br><extra></extra>\", \"<b>CUPPANAGH</b><br>Agency: Office of Public Works<br>Waterbody: L.    GARA<br>Catchment: Shannon<br>County: Sligo<br>Measurements: Water Level and Flow<br>Lat: %{lon}\\u00b0<br>Lon: %{lat}\\u00b0<br><extra></extra>\", \"<b>LOUGH RINN</b><br>Agency: Office of Public Works<br>Waterbody: LOUGH RINN<br>Catchment: Shannon<br>County: Leitrim<br>Measurements: Water Level and Flow<br>Lat: %{lon}\\u00b0<br>Lon: %{lat}\\u00b0<br><extra></extra>\", \"<b>LOUGH  DERRAVARAGH</b><br>Agency: Office of Public Works<br>Waterbody: L.    DERRAVARAGH<br>Catchment: Shannon<br>County: Westmeath<br>Measurements: Water Level Only<br>Lat: %{lon}\\u00b0<br>Lon: %{lat}\\u00b0<br><extra></extra>\", \"<b>MOUNT NUGENT</b><br>Agency: Office of Public Works<br>Waterbody: L.    SHEELIN<br>Catchment: Shannon<br>County: Cavan<br>Measurements: Water Level Only<br>Lat: %{lon}\\u00b0<br>Lon: %{lat}\\u00b0<br><extra></extra>\", \"<b>CUIL BR.</b><br>Agency: Office of Public Works<br>Waterbody: L.    GARA<br>Catchment: Shannon<br>County: Sligo<br>Measurements: Water Level Only<br>Lat: %{lon}\\u00b0<br>Lon: %{lat}\\u00b0<br><extra></extra>\", \"<b>LOMCLOON</b><br>Agency: Office of Public Works<br>Waterbody: L.    GARA<br>Catchment: Shannon<br>County: Sligo<br>Measurements: Water Level Only<br>Lat: %{lon}\\u00b0<br>Lon: %{lat}\\u00b0<br><extra></extra>\", \"<b>HODSON'S BAY</b><br>Agency: Office of Public Works<br>Waterbody: L.    REE<br>Catchment: Shannon<br>County: Roscommon<br>Measurements: Water Level Only<br>Lat: %{lon}\\u00b0<br>Lon: %{lat}\\u00b0<br><extra></extra>\", \"<b>DERRY BAY</b><br>Agency: Office of Public Works<br>Waterbody: L.    REE<br>Catchment: Shannon<br>County: Longford<br>Measurements: Water Level Only<br>Lat: %{lon}\\u00b0<br>Lon: %{lat}\\u00b0<br><extra></extra>\", \"<b>FOALIES BR</b><br>Agency: Office of Public Works<br>Waterbody: L. ERNE UPPER<br>Catchment: Erne<br>County: Cavan<br>Measurements: Water Level and Flow<br>Lat: %{lon}\\u00b0<br>Lon: %{lat}\\u00b0<br><extra></extra>\", \"<b>PONTOON</b><br>Agency: Office of Public Works<br>Waterbody: L.    CULLIN<br>Catchment: Moy<br>County: Mayo<br>Measurements: Water Level and Flow<br>Lat: %{lon}\\u00b0<br>Lon: %{lat}\\u00b0<br><extra></extra>\", \"<b>GORTNARABY</b><br>Agency: Office of Public Works<br>Waterbody: L.    CONN<br>Catchment: Moy<br>County: Mayo<br>Measurements: Water Level Only<br>Lat: %{lon}\\u00b0<br>Lon: %{lat}\\u00b0<br><extra></extra>\", \"<b>CORRYOSLA</b><br>Agency: Office of Public Works<br>Waterbody: L.    CONN<br>Catchment: Moy<br>County: Mayo<br>Measurements: Water Level Only<br>Lat: %{lon}\\u00b0<br>Lon: %{lat}\\u00b0<br><extra></extra>\", \"<b>TOMIES PIER</b><br>Agency: Office of Public Works<br>Waterbody: L.    LEANE<br>Catchment: Laune<br>County: Kerry<br>Measurements: Water Level and Flow<br>Lat: %{lon}\\u00b0<br>Lon: %{lat}\\u00b0<br><extra></extra>\", \"<b>B.V.M. PARK</b><br>Agency: Office of Public Works<br>Waterbody: L.    LEANE<br>Catchment: Laune<br>County: Kerry<br>Measurements: Water Level Only<br>Lat: %{lon}\\u00b0<br>Lon: %{lat}\\u00b0<br><extra></extra>\", \"<b>CAHER PIER</b><br>Agency: Office of Public Works<br>Waterbody: L.    MASK<br>Catchment: Corrib<br>County: Mayo<br>Measurements: Water Level and Flow<br>Lat: %{lon}\\u00b0<br>Lon: %{lat}\\u00b0<br><extra></extra>\", \"<b>BURRISCARRA</b><br>Agency: Office of Public Works<br>Waterbody: L.    CARRA<br>Catchment: Corrib<br>County: Mayo<br>Measurements: Water Level and Flow<br>Lat: %{lon}\\u00b0<br>Lon: %{lat}\\u00b0<br><extra></extra>\", \"<b>ANNAGHDOWN PIER</b><br>Agency: Office of Public Works<br>Waterbody: L.    CORRIB<br>Catchment: Corrib<br>County: Galway<br>Measurements: Water Level Only<br>Lat: %{lon}\\u00b0<br>Lon: %{lat}\\u00b0<br><extra></extra>\", \"<b>CONG PIER</b><br>Agency: Office of Public Works<br>Waterbody: L.    CORRIB<br>Catchment: Corrib<br>County: Mayo<br>Measurements: Water Level Only<br>Lat: %{lon}\\u00b0<br>Lon: %{lat}\\u00b0<br><extra></extra>\", \"<b>LAREEN</b><br>Agency: Office of Public Works<br>Waterbody: L.    MELVIN<br>Catchment: Drowes<br>County: Leitrim<br>Measurements: Water Level and Flow<br>Lat: %{lon}\\u00b0<br>Lon: %{lat}\\u00b0<br><extra></extra>\", \"<b>TEMPLEHOUSE DEMESNE</b><br>Agency: Office of Public Works<br>Waterbody: L.    TEMPLEHOUSE<br>Catchment: Ballysadare<br>County: Sligo<br>Measurements: Water Level Only<br>Lat: %{lon}\\u00b0<br>Lon: %{lat}\\u00b0<br><extra></extra>\", \"<b>BALLYNARY</b><br>Agency: Office of Public Works<br>Waterbody: L.    ARROW<br>Catchment: Ballysadare<br>County: Sligo<br>Measurements: Water Level and Flow<br>Lat: %{lon}\\u00b0<br>Lon: %{lat}\\u00b0<br><extra></extra>\"], \"lat\": [53.83100927, 53.43795539, 0.0, 0.0, 53.44552331, 53.31753766, 54.02242912, 54.04971912, 54.0075041, 54.01722592, 54.05648146, 54.04803955, 53.95770141, 53.89474468, 53.61087512, 53.82100061, 53.92911565, 53.92416828, 53.46667079, 53.55672249, 54.13874274, 53.97833456, 54.09333314, 53.98354032, 52.05798876, 52.02318448, 53.6108534, 53.733282, 53.38662891, 53.53023947, 54.45202244, 54.11138912, 54.06092069], \"lon\": [-7.09132983, -7.42717223, 0.0, 0.0, -9.32291968, -9.06758564, -7.95765679, -7.86721645, -7.47222223, -7.45832338, -7.69379202, -8.05040551, -8.40705295, -7.8522708, -7.30154578, -7.2835987, -8.43475538, -8.4674911, -7.98804513, -7.85135649, -7.43660285, -9.20583655, -9.29777174, -9.22414252, -9.60482133, -9.50707029, -9.30009807, -9.2497441, -9.07833071, -9.27651501, -8.2396411, -8.58249486, -8.31001826], \"marker\": {\"color\": \"red\", \"size\": 7}, \"name\": \"OPW\", \"type\": \"scattermapbox\"}, {\"hovertemplate\": [\"<b>LOUGH MOURNE</b><br>Agency: Donegal County Council<br>Waterbody: MOURNE<br>Catchment: River Mourne<br>County: Donegal<br>Measurements: Water Level Only<br>Lat: %{lon}\\u00b0<br>Lon: %{lat}\\u00b0<br><extra></extra>\", \"<b>LOUGH BANE LOWER</b><br>Agency: Meath County Council<br>Waterbody: L.BANE<br>Catchment: Boyne<br>County: Westmeath<br>Measurements: Water Level Only<br>Lat: %{lon}\\u00b0<br>Lon: %{lat}\\u00b0<br><extra></extra>\", \"<b>MUCKNO</b><br>Agency: Monaghan County Council<br>Waterbody: MUCKNO L.<br>Catchment: Fane River<br>County: Monaghan<br>Measurements: Water Level and Flow<br>Lat: %{lon}\\u00b0<br>Lon: %{lat}\\u00b0<br><extra></extra>\", \"<b>WHITEBRIDGE.</b><br>Agency: Westmeath County Council<br>Waterbody: L.ENNELL<br>Catchment: Shannon<br>County: Westmeath<br>Measurements: Water Level Only<br>Lat: %{lon}\\u00b0<br>Lon: %{lat}\\u00b0<br><extra></extra>\", \"<b>CAPTAIN'S HILL</b><br>Agency: Westmeath County Council<br>Waterbody: OWEL L.<br>Catchment: Shannon<br>County: Westmeath<br>Measurements: Water Level Only<br>Lat: %{lon}\\u00b0<br>Lon: %{lat}\\u00b0<br><extra></extra>\", \"<b>POULAWEE</b><br>Agency: North Tipperary County Council<br>Waterbody: POULAWEE LAKE<br>Catchment: Shannon<br>County: Tipperary<br>Measurements: Flow Measurements<br>Lat: %{lon}\\u00b0<br>Lon: %{lat}\\u00b0<br><extra></extra>\", \"<b>EMY LOUGH</b><br>Agency: Monaghan County Council<br>Waterbody: EMY LOUGH<br>Catchment: River Blackwater<br>County: Monaghan<br>Measurements: Water Level Only<br>Lat: %{lon}\\u00b0<br>Lon: %{lat}\\u00b0<br><extra></extra>\", \"<b>SKEAGH</b><br>Agency: Cavan County Council<br>Waterbody: SKEAGH L.<br>Catchment: Boyne<br>County: Cavan<br>Measurements: Water Level Only<br>Lat: %{lon}\\u00b0<br>Lon: %{lat}\\u00b0<br><extra></extra>\", \"<b>BANE</b><br>Agency: Meath County Council<br>Waterbody: BANE L.<br>Catchment: Boyne<br>County: Westmeath<br>Measurements: Water Level Only<br>Lat: %{lon}\\u00b0<br>Lon: %{lat}\\u00b0<br><extra></extra>\", \"<b>BALLANY</b><br>Agency: Westmeath County Council<br>Waterbody: LENE L.<br>Catchment: Boyne<br>County: Westmeath<br>Measurements: Water Level Only<br>Lat: %{lon}\\u00b0<br>Lon: %{lat}\\u00b0<br><extra></extra>\", \"<b>L.    FEEAGH</b><br>Agency: Mayo County Council<br>Waterbody: L.    FEEAGH<br>Catchment: Srahmore<br>County: Mayo<br>Measurements: Water Level and Flow<br>Lat: %{lon}\\u00b0<br>Lon: %{lat}\\u00b0<br><extra></extra>\", \"<b>NEW BR.</b><br>Agency: Monaghan County Council<br>Waterbody: DROMORE L.<br>Catchment: Erne<br>County: Cavan<br>Measurements: Water Level Only<br>Lat: %{lon}\\u00b0<br>Lon: %{lat}\\u00b0<br><extra></extra>\", \"<b>COOTEHILL</b><br>Agency: Cavan County Council<br>Waterbody: CORAGH LAKE<br>Catchment: Erne<br>County: Cavan<br>Measurements: Water Level Only<br>Lat: %{lon}\\u00b0<br>Lon: %{lat}\\u00b0<br><extra></extra>\", \"<b>CORLEA</b><br>Agency: Monaghan County Council<br>Waterbody: L.    BAWN<br>Catchment: Erne<br>County: Monaghan<br>Measurements: Water Level and Flow<br>Lat: %{lon}\\u00b0<br>Lon: %{lat}\\u00b0<br><extra></extra>\", \"<b>CLOONE</b><br>Agency: Cavan County Council<br>Waterbody: L.    GOWNA<br>Catchment: Erne<br>County: Cavan<br>Measurements: Water Level and Flow<br>Lat: %{lon}\\u00b0<br>Lon: %{lat}\\u00b0<br><extra></extra>\", \"<b>OUGHTER</b><br>Agency: Cavan County Council<br>Waterbody: L.    OUGHTER<br>Catchment: Erne<br>County: Cavan<br>Measurements: Water Level Only<br>Lat: %{lon}\\u00b0<br>Lon: %{lat}\\u00b0<br><extra></extra>\", \"<b>BAUNKYLE</b><br>Agency: Clare County Council<br>Waterbody: L.    INCHIQUIN<br>Catchment: Shannon<br>County: Clare<br>Measurements: Water Level Only<br>Lat: %{lon}\\u00b0<br>Lon: %{lat}\\u00b0<br><extra></extra>\", \"<b>CUTRA</b><br>Agency: Galway County Council<br>Waterbody: L.    CUTRA<br>Catchment: Kinvarra-Coastal<br>County: Galway<br>Measurements: Water Level and Flow<br>Lat: %{lon}\\u00b0<br>Lon: %{lat}\\u00b0<br><extra></extra>\", \"<b>CARROWMORE</b><br>Agency: Mayo County Council<br>Waterbody: CARROWMORE L.<br>Catchment: Owenmore<br>County: Mayo<br>Measurements: Water Level Only<br>Lat: %{lon}\\u00b0<br>Lon: %{lat}\\u00b0<br><extra></extra>\", \"<b>ACCORYMORE</b><br>Agency: Mayo County Council<br>Waterbody: L. ACCORYMORE<br>Catchment:  <br>County: Mayo<br>Measurements: Water Level and Flow<br>Lat: %{lon}\\u00b0<br>Lon: %{lat}\\u00b0<br><extra></extra>\", \"<b>L.    ESKE</b><br>Agency: Donegal County Council<br>Waterbody: L.    ESKE<br>Catchment: Eask<br>County: Donegal<br>Measurements: Water Level and Flow<br>Lat: %{lon}\\u00b0<br>Lon: %{lat}\\u00b0<br><extra></extra>\", \"<b>L.    ANURE</b><br>Agency: Donegal County Council<br>Waterbody: L.    ANURE<br>Catchment: Gweebarra-Delvin-Owennamarve-Coastal<br>County: Donegal<br>Measurements: Water Level and Flow<br>Lat: %{lon}\\u00b0<br>Lon: %{lat}\\u00b0<br><extra></extra>\", \"<b>L.    ALTAN</b><br>Agency: Donegal County Council<br>Waterbody: L.    ALTAN<br>Catchment: Gweebarra-Delvin-Owennamarve-Coastal<br>County: Donegal<br>Measurements: Water Level and Flow<br>Lat: %{lon}\\u00b0<br>Lon: %{lat}\\u00b0<br><extra></extra>\", \"<b>TALT</b><br>Agency: Sligo County Council<br>Waterbody: L. TALT RIVER<br>Catchment: Moy<br>County: Sligo<br>Measurements: Flow Measurements<br>Lat: %{lon}\\u00b0<br>Lon: %{lat}\\u00b0<br><extra></extra>\", \"<b>MEENDORAN</b><br>Agency: Donegal County Council<br>Waterbody: L.    FAD(W)<br>Catchment: Culdaff-Clonmany-Donagh-Coastal<br>County: Donegal<br>Measurements: Water Level and Flow<br>Lat: %{lon}\\u00b0<br>Lon: %{lat}\\u00b0<br><extra></extra>\", \"<b>INCHICRONAN LOUGH</b><br>Agency: Clare County Council<br>Waterbody: INCHICRONAN LOUGH<br>Catchment: Fergus<br>County: Clare<br>Measurements: Water Level Only<br>Lat: %{lon}\\u00b0<br>Lon: %{lat}\\u00b0<br><extra></extra>\", \"<b>NAHASLEAM</b><br>Agency: Galway County Council<br>Waterbody: NAHASLEAM LOUGH<br>Catchment:  <br>County: Galway<br>Measurements: Water Level Only<br>Lat: %{lon}\\u00b0<br>Lon: %{lat}\\u00b0<br><extra></extra>\", \"<b>SHINDILLA</b><br>Agency: Galway County Council<br>Waterbody: LOUGH SHINDILLA<br>Catchment:  <br>County: Galway<br>Measurements: Water Level Only<br>Lat: %{lon}\\u00b0<br>Lon: %{lat}\\u00b0<br><extra></extra>\", \"<b>DOO LOUGH</b><br>Agency: Mayo County Council<br>Waterbody: DOO LOUGH<br>Catchment:  <br>County: Mayo<br>Measurements: Water Level Only<br>Lat: %{lon}\\u00b0<br>Lon: %{lat}\\u00b0<br><extra></extra>\", \"<b>WHITE LOUGH</b><br>Agency: Westmeath County Council<br>Waterbody: ANNAGH OR WHITE LOUGH<br>Catchment:  <br>County: Westmeath<br>Measurements: Water Level Only<br>Lat: %{lon}\\u00b0<br>Lon: %{lat}\\u00b0<br><extra></extra>\", \"<b>DERRYCLARE</b><br>Agency: Galway County Council<br>Waterbody: DERRYCLARE    L.<br>Catchment: Ballynahinch<br>County: Galway<br>Measurements: Water Level and Flow<br>Lat: %{lon}\\u00b0<br>Lon: %{lat}\\u00b0<br><extra></extra>\", \"<b>TRASGARVE</b><br>Agency: Sligo County Council<br>Waterbody: L.    EASKY<br>Catchment: Easky-Dunneil-Coastal<br>County: Sligo<br>Measurements: Water Level and Flow<br>Lat: %{lon}\\u00b0<br>Lon: %{lat}\\u00b0<br><extra></extra>\", \"<b>L.    GILL</b><br>Agency: Sligo County Council<br>Waterbody: L.    GILL<br>Catchment: Garvogue<br>County: Sligo<br>Measurements: Water Level Only<br>Lat: %{lon}\\u00b0<br>Lon: %{lat}\\u00b0<br><extra></extra>\"], \"lat\": [54.75416851, 53.44154881, 54.09993705, 53.46816688, 53.57218407, 52.94422386, 54.3465511, 53.95148636, 53.68539498, 53.66408841, 53.92563726, 54.08189583, 54.08260319, 54.04701896, 53.86632422, 54.0380982, 52.95055088, 53.0295795, 54.16717152, 53.98217062, 54.68663663, 55.00678493, 55.07257794, 54.07626492, 55.23444917, 0.0, 0.0, 0.0, 0.0, 0.0, 53.46411939, 54.16010368, 54.24909099], \"lon\": [-7.90222062, -8.09613532, -6.68233736, -7.37770643, -7.40943339, -8.25063722, -6.9374074, -7.006718, -7.16164098, -7.25192385, -9.57474493, -7.08733779, -7.05332452, -6.91041078, -7.54404614, -7.4334782, -9.08346545, -8.77279566, -9.77990267, -10.16745265, -8.05205605, -8.27629884, -8.09635263, -8.91312439, -7.37559571, 0.0, 0.0, 0.0, 0.0, 0.0, -9.80337883, -8.84565218, -8.43889282], \"marker\": {\"color\": \"blue\", \"size\": 7}, \"name\": \"Local Authority\", \"type\": \"scattermapbox\"}, {\"hovertemplate\": [\"<b>BALLYVALLEY</b><br>Agency: ESB<br>Waterbody: DERG L.<br>Catchment: Shannon<br>County: Clare<br>Measurements: Water Level Only<br>Lat: %{lon}\\u00b0<br>Lon: %{lat}\\u00b0<br><extra></extra>\", \"<b>KILLALOE</b><br>Agency: ESB<br>Waterbody: DERG L.<br>Catchment: Shannon<br>County: Clare<br>Measurements: Water Level Only<br>Lat: %{lon}\\u00b0<br>Lon: %{lat}\\u00b0<br><extra></extra>\", \"<b>PARTEEN WEIR</b><br>Agency: ESB<br>Waterbody: SHANNON<br>Catchment: Shannon<br>County: Tipperary<br>Measurements: Water Level and Flow<br>Lat: %{lon}\\u00b0<br>Lon: %{lat}\\u00b0<br><extra></extra>\", \"<b>POLLAPHOUCA</b><br>Agency: ESB<br>Waterbody: LIFFEY HEADRACE CH.<br>Catchment: Liffey<br>County: Kildare<br>Measurements: Water Level Only<br>Lat: %{lon}\\u00b0<br>Lon: %{lat}\\u00b0<br><extra></extra>\", \"<b>CARRIGADROHID</b><br>Agency: ESB<br>Waterbody: LEE<br>Catchment: Lee<br>County: Cork<br>Measurements: Water Level Only<br>Lat: %{lon}\\u00b0<br>Lon: %{lat}\\u00b0<br><extra></extra>\", \"<b>L.    NAHANAGAN</b><br>Agency: ESB<br>Waterbody: L.    NAHANAGAN<br>Catchment: Avoca<br>County: Wicklow<br>Measurements: Water Level Only<br>Lat: %{lon}\\u00b0<br>Lon: %{lat}\\u00b0<br><extra></extra>\", \"<b>L.    ALLEN U/S</b><br>Agency: ESB<br>Waterbody: L.    ALLEN<br>Catchment: Shannon<br>County: Leitrim<br>Measurements: Water Level Only<br>Lat: %{lon}\\u00b0<br>Lon: %{lat}\\u00b0<br><extra></extra>\", \"<b>THATCH</b><br>Agency: ESB<br>Waterbody: L.    REE<br>Catchment: Shannon<br>County: Westmeath<br>Measurements: Water Level Only<br>Lat: %{lon}\\u00b0<br>Lon: %{lat}\\u00b0<br><extra></extra>\"], \"lat\": [52.82196755, 52.80748685, 52.76173802, 53.11988619, 51.90667601, 53.03069157, 54.06109805, 53.44805793], \"lon\": [-8.45524441, -8.43973085, -8.47511789, -6.59076163, -8.84347271, -6.38726407, -8.05949239, -7.96275044], \"marker\": {\"color\": \"green\", \"size\": 7}, \"name\": \"ESB\", \"type\": \"scattermapbox\"}],                        {\"height\": 400, \"legend\": {\"title\": {\"text\": \"<b>Station Agency</b>\"}, \"x\": 0.01}, \"mapbox\": {\"bearing\": 0, \"center\": {\"lat\": 53.4, \"lon\": 352}, \"pitch\": 0, \"style\": \"open-street-map\", \"zoom\": 5}, \"margin\": {\"b\": 0, \"l\": 0, \"r\": 0, \"t\": 0}, \"paper_bgcolor\": \"rgba(0,0,0,0)\", \"plot_bgcolor\": \"rgba(0,0,0,0)\", \"template\": {\"data\": {\"bar\": [{\"error_x\": {\"color\": \"#2a3f5f\"}, \"error_y\": {\"color\": \"#2a3f5f\"}, \"marker\": {\"line\": {\"color\": \"#E5ECF6\", \"width\": 0.5}}, \"type\": \"bar\"}], \"barpolar\": [{\"marker\": {\"line\": {\"color\": \"#E5ECF6\", \"width\": 0.5}}, \"type\": \"barpolar\"}], \"carpet\": [{\"aaxis\": {\"endlinecolor\": \"#2a3f5f\", \"gridcolor\": \"white\", \"linecolor\": \"white\", \"minorgridcolor\": \"white\", \"startlinecolor\": \"#2a3f5f\"}, \"baxis\": {\"endlinecolor\": \"#2a3f5f\", \"gridcolor\": \"white\", \"linecolor\": \"white\", \"minorgridcolor\": \"white\", \"startlinecolor\": \"#2a3f5f\"}, \"type\": \"carpet\"}], \"choropleth\": [{\"colorbar\": {\"outlinewidth\": 0, \"ticks\": \"\"}, \"type\": \"choropleth\"}], \"contour\": [{\"colorbar\": {\"outlinewidth\": 0, \"ticks\": \"\"}, \"colorscale\": [[0.0, \"#0d0887\"], [0.1111111111111111, \"#46039f\"], [0.2222222222222222, \"#7201a8\"], [0.3333333333333333, \"#9c179e\"], [0.4444444444444444, \"#bd3786\"], [0.5555555555555556, \"#d8576b\"], [0.6666666666666666, \"#ed7953\"], [0.7777777777777778, \"#fb9f3a\"], [0.8888888888888888, \"#fdca26\"], [1.0, \"#f0f921\"]], \"type\": \"contour\"}], \"contourcarpet\": [{\"colorbar\": {\"outlinewidth\": 0, \"ticks\": \"\"}, \"type\": \"contourcarpet\"}], \"heatmap\": [{\"colorbar\": {\"outlinewidth\": 0, \"ticks\": \"\"}, \"colorscale\": [[0.0, \"#0d0887\"], [0.1111111111111111, \"#46039f\"], [0.2222222222222222, \"#7201a8\"], [0.3333333333333333, \"#9c179e\"], [0.4444444444444444, \"#bd3786\"], [0.5555555555555556, \"#d8576b\"], [0.6666666666666666, \"#ed7953\"], [0.7777777777777778, \"#fb9f3a\"], [0.8888888888888888, \"#fdca26\"], [1.0, \"#f0f921\"]], \"type\": \"heatmap\"}], \"heatmapgl\": [{\"colorbar\": {\"outlinewidth\": 0, \"ticks\": \"\"}, \"colorscale\": [[0.0, \"#0d0887\"], [0.1111111111111111, \"#46039f\"], [0.2222222222222222, \"#7201a8\"], [0.3333333333333333, \"#9c179e\"], [0.4444444444444444, \"#bd3786\"], [0.5555555555555556, \"#d8576b\"], [0.6666666666666666, \"#ed7953\"], [0.7777777777777778, \"#fb9f3a\"], [0.8888888888888888, \"#fdca26\"], [1.0, \"#f0f921\"]], \"type\": \"heatmapgl\"}], \"histogram\": [{\"marker\": {\"colorbar\": {\"outlinewidth\": 0, \"ticks\": \"\"}}, \"type\": \"histogram\"}], \"histogram2d\": [{\"colorbar\": {\"outlinewidth\": 0, \"ticks\": \"\"}, \"colorscale\": [[0.0, \"#0d0887\"], [0.1111111111111111, \"#46039f\"], [0.2222222222222222, \"#7201a8\"], [0.3333333333333333, \"#9c179e\"], [0.4444444444444444, \"#bd3786\"], [0.5555555555555556, \"#d8576b\"], [0.6666666666666666, \"#ed7953\"], [0.7777777777777778, \"#fb9f3a\"], [0.8888888888888888, \"#fdca26\"], [1.0, \"#f0f921\"]], \"type\": \"histogram2d\"}], \"histogram2dcontour\": [{\"colorbar\": {\"outlinewidth\": 0, \"ticks\": \"\"}, \"colorscale\": [[0.0, \"#0d0887\"], [0.1111111111111111, \"#46039f\"], [0.2222222222222222, \"#7201a8\"], [0.3333333333333333, \"#9c179e\"], [0.4444444444444444, \"#bd3786\"], [0.5555555555555556, \"#d8576b\"], [0.6666666666666666, \"#ed7953\"], [0.7777777777777778, \"#fb9f3a\"], [0.8888888888888888, \"#fdca26\"], [1.0, \"#f0f921\"]], \"type\": \"histogram2dcontour\"}], \"mesh3d\": [{\"colorbar\": {\"outlinewidth\": 0, \"ticks\": \"\"}, \"type\": \"mesh3d\"}], \"parcoords\": [{\"line\": {\"colorbar\": {\"outlinewidth\": 0, \"ticks\": \"\"}}, \"type\": \"parcoords\"}], \"pie\": [{\"automargin\": true, \"type\": \"pie\"}], \"scatter\": [{\"marker\": {\"colorbar\": {\"outlinewidth\": 0, \"ticks\": \"\"}}, \"type\": \"scatter\"}], \"scatter3d\": [{\"line\": {\"colorbar\": {\"outlinewidth\": 0, \"ticks\": \"\"}}, \"marker\": {\"colorbar\": {\"outlinewidth\": 0, \"ticks\": \"\"}}, \"type\": \"scatter3d\"}], \"scattercarpet\": [{\"marker\": {\"colorbar\": {\"outlinewidth\": 0, \"ticks\": \"\"}}, \"type\": \"scattercarpet\"}], \"scattergeo\": [{\"marker\": {\"colorbar\": {\"outlinewidth\": 0, \"ticks\": \"\"}}, \"type\": \"scattergeo\"}], \"scattergl\": [{\"marker\": {\"colorbar\": {\"outlinewidth\": 0, \"ticks\": \"\"}}, \"type\": \"scattergl\"}], \"scattermapbox\": [{\"marker\": {\"colorbar\": {\"outlinewidth\": 0, \"ticks\": \"\"}}, \"type\": \"scattermapbox\"}], \"scatterpolar\": [{\"marker\": {\"colorbar\": {\"outlinewidth\": 0, \"ticks\": \"\"}}, \"type\": \"scatterpolar\"}], \"scatterpolargl\": [{\"marker\": {\"colorbar\": {\"outlinewidth\": 0, \"ticks\": \"\"}}, \"type\": \"scatterpolargl\"}], \"scatterternary\": [{\"marker\": {\"colorbar\": {\"outlinewidth\": 0, \"ticks\": \"\"}}, \"type\": \"scatterternary\"}], \"surface\": [{\"colorbar\": {\"outlinewidth\": 0, \"ticks\": \"\"}, \"colorscale\": [[0.0, \"#0d0887\"], [0.1111111111111111, \"#46039f\"], [0.2222222222222222, \"#7201a8\"], [0.3333333333333333, \"#9c179e\"], [0.4444444444444444, \"#bd3786\"], [0.5555555555555556, \"#d8576b\"], [0.6666666666666666, \"#ed7953\"], [0.7777777777777778, \"#fb9f3a\"], [0.8888888888888888, \"#fdca26\"], [1.0, \"#f0f921\"]], \"type\": \"surface\"}], \"table\": [{\"cells\": {\"fill\": {\"color\": \"#EBF0F8\"}, \"line\": {\"color\": \"white\"}}, \"header\": {\"fill\": {\"color\": \"#C8D4E3\"}, \"line\": {\"color\": \"white\"}}, \"type\": \"table\"}]}, \"layout\": {\"annotationdefaults\": {\"arrowcolor\": \"#2a3f5f\", \"arrowhead\": 0, \"arrowwidth\": 1}, \"autotypenumbers\": \"strict\", \"coloraxis\": {\"colorbar\": {\"outlinewidth\": 0, \"ticks\": \"\"}}, \"colorscale\": {\"diverging\": [[0, \"#8e0152\"], [0.1, \"#c51b7d\"], [0.2, \"#de77ae\"], [0.3, \"#f1b6da\"], [0.4, \"#fde0ef\"], [0.5, \"#f7f7f7\"], [0.6, \"#e6f5d0\"], [0.7, \"#b8e186\"], [0.8, \"#7fbc41\"], [0.9, \"#4d9221\"], [1, \"#276419\"]], \"sequential\": [[0.0, \"#0d0887\"], [0.1111111111111111, \"#46039f\"], [0.2222222222222222, \"#7201a8\"], [0.3333333333333333, \"#9c179e\"], [0.4444444444444444, \"#bd3786\"], [0.5555555555555556, \"#d8576b\"], [0.6666666666666666, \"#ed7953\"], [0.7777777777777778, \"#fb9f3a\"], [0.8888888888888888, \"#fdca26\"], [1.0, \"#f0f921\"]], \"sequentialminus\": [[0.0, \"#0d0887\"], [0.1111111111111111, \"#46039f\"], [0.2222222222222222, \"#7201a8\"], [0.3333333333333333, \"#9c179e\"], [0.4444444444444444, \"#bd3786\"], [0.5555555555555556, \"#d8576b\"], [0.6666666666666666, \"#ed7953\"], [0.7777777777777778, \"#fb9f3a\"], [0.8888888888888888, \"#fdca26\"], [1.0, \"#f0f921\"]]}, \"colorway\": [\"#636efa\", \"#EF553B\", \"#00cc96\", \"#ab63fa\", \"#FFA15A\", \"#19d3f3\", \"#FF6692\", \"#B6E880\", \"#FF97FF\", \"#FECB52\"], \"font\": {\"color\": \"#2a3f5f\"}, \"geo\": {\"bgcolor\": \"white\", \"lakecolor\": \"white\", \"landcolor\": \"#E5ECF6\", \"showlakes\": true, \"showland\": true, \"subunitcolor\": \"white\"}, \"hoverlabel\": {\"align\": \"left\"}, \"hovermode\": \"closest\", \"mapbox\": {\"style\": \"light\"}, \"paper_bgcolor\": \"white\", \"plot_bgcolor\": \"#E5ECF6\", \"polar\": {\"angularaxis\": {\"gridcolor\": \"white\", \"linecolor\": \"white\", \"ticks\": \"\"}, \"bgcolor\": \"#E5ECF6\", \"radialaxis\": {\"gridcolor\": \"white\", \"linecolor\": \"white\", \"ticks\": \"\"}}, \"scene\": {\"xaxis\": {\"backgroundcolor\": \"#E5ECF6\", \"gridcolor\": \"white\", \"gridwidth\": 2, \"linecolor\": \"white\", \"showbackground\": true, \"ticks\": \"\", \"zerolinecolor\": \"white\"}, \"yaxis\": {\"backgroundcolor\": \"#E5ECF6\", \"gridcolor\": \"white\", \"gridwidth\": 2, \"linecolor\": \"white\", \"showbackground\": true, \"ticks\": \"\", \"zerolinecolor\": \"white\"}, \"zaxis\": {\"backgroundcolor\": \"#E5ECF6\", \"gridcolor\": \"white\", \"gridwidth\": 2, \"linecolor\": \"white\", \"showbackground\": true, \"ticks\": \"\", \"zerolinecolor\": \"white\"}}, \"shapedefaults\": {\"line\": {\"color\": \"#2a3f5f\"}}, \"ternary\": {\"aaxis\": {\"gridcolor\": \"white\", \"linecolor\": \"white\", \"ticks\": \"\"}, \"baxis\": {\"gridcolor\": \"white\", \"linecolor\": \"white\", \"ticks\": \"\"}, \"bgcolor\": \"#E5ECF6\", \"caxis\": {\"gridcolor\": \"white\", \"linecolor\": \"white\", \"ticks\": \"\"}}, \"title\": {\"x\": 0.05}, \"xaxis\": {\"automargin\": true, \"gridcolor\": \"white\", \"linecolor\": \"white\", \"ticks\": \"\", \"title\": {\"standoff\": 15}, \"zerolinecolor\": \"white\", \"zerolinewidth\": 2}, \"yaxis\": {\"automargin\": true, \"gridcolor\": \"white\", \"linecolor\": \"white\", \"ticks\": \"\", \"title\": {\"standoff\": 15}, \"zerolinecolor\": \"white\", \"zerolinewidth\": 2}}}},                        {\"responsive\": true}                    ).then(function(){\n",
       "                            \n",
       "var gd = document.getElementById('0c4d3e8a-a67b-49fb-bd34-67ec6a18b9fa');\n",
       "var x = new MutationObserver(function (mutations, observer) {{\n",
       "        var display = window.getComputedStyle(gd).display;\n",
       "        if (!display || display === 'none') {{\n",
       "            console.log([gd, 'removed!']);\n",
       "            Plotly.purge(gd);\n",
       "            observer.disconnect();\n",
       "        }}\n",
       "}});\n",
       "\n",
       "// Listen for the removal of the full notebook cells\n",
       "var notebookContainer = gd.closest('#notebook-container');\n",
       "if (notebookContainer) {{\n",
       "    x.observe(notebookContainer, {childList: true});\n",
       "}}\n",
       "\n",
       "// Listen for the clearing of the current output cell\n",
       "var outputEl = gd.closest('.output');\n",
       "if (outputEl) {{\n",
       "    x.observe(outputEl, {childList: true});\n",
       "}}\n",
       "\n",
       "                        })                };                });            </script>        </div>"
      ]
     },
     "metadata": {},
     "output_type": "display_data"
    }
   ],
   "source": [
    "map_4_3 = go.Figure(data=[opw_stations_trace,la_stations_trace,esb_stations_trace],\n",
    "                    layout=MAP_LAYOUT)\n",
    "map_4_3.update_layout(legend_title='<b>Station Agency</b>')\n",
    "map_4_3"
   ]
  },
  {
   "cell_type": "code",
   "execution_count": null,
   "id": "looking-audit",
   "metadata": {},
   "outputs": [],
   "source": []
  }
 ],
 "metadata": {
  "kernelspec": {
   "display_name": "Python 3",
   "language": "python",
   "name": "python3"
  },
  "language_info": {
   "codemirror_mode": {
    "name": "ipython",
    "version": 3
   },
   "file_extension": ".py",
   "mimetype": "text/x-python",
   "name": "python",
   "nbconvert_exporter": "python",
   "pygments_lexer": "ipython3",
   "version": "3.8.2"
  }
 },
 "nbformat": 4,
 "nbformat_minor": 5
}
