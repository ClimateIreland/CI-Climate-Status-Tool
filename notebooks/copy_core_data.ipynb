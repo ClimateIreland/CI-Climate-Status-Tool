{
 "metadata": {
  "language_info": {
   "codemirror_mode": {
    "name": "ipython",
    "version": 3
   },
   "file_extension": ".py",
   "mimetype": "text/x-python",
   "name": "python",
   "nbconvert_exporter": "python",
   "pygments_lexer": "ipython3",
   "version": "3.7.3-final"
  },
  "orig_nbformat": 2,
  "kernelspec": {
   "name": "python3",
   "display_name": "Python 3.7.3 64-bit",
   "metadata": {
    "interpreter": {
     "hash": "5edc29c2ed010d6458d71a83433b383a96a8cbd3efe8531bc90c4b8a5b8bcec9"
    }
   }
  }
 },
 "nbformat": 4,
 "nbformat_minor": 2,
 "cells": [
  {
   "cell_type": "code",
   "execution_count": 6,
   "metadata": {},
   "outputs": [],
   "source": [
    "import shutil"
   ]
  },
  {
   "cell_type": "code",
   "execution_count": 11,
   "metadata": {},
   "outputs": [
    {
     "output_type": "stream",
     "name": "stdout",
     "text": [
      "Running...\n",
      "Complete\n"
     ]
    }
   ],
   "source": [
    "src = '/Users/dan/OneDrive - University College Cork/Status_Tool'\n",
    "dest = '/Users/dan/ClimateIreland/CI-Status-Report/Status_Tool_Data'\n",
    "print('Running...')\n",
    "shutil.copytree(src, dest, ignore = shutil.ignore_patterns(\n",
    "    '*Ancilarry_Datasets*',\n",
    "    '*.cpg',\n",
    "    '*.dbf',\n",
    "    '*.prj',\n",
    "    '*.sbn',\n",
    "    '*.sbx',\n",
    "    '*.shp',\n",
    "    '*.shx',\n",
    "    '*.mxd',\n",
    "    '*.tfw',\n",
    "    '*.tif',\n",
    "    '*.tif.aux.xml',\n",
    "    '*.tif.ovr',\n",
    "    )) \n",
    "print('Complete')"
   ]
  },
  {
   "cell_type": "code",
   "execution_count": null,
   "metadata": {},
   "outputs": [],
   "source": []
  },
  {
   "cell_type": "code",
   "execution_count": null,
   "metadata": {},
   "outputs": [],
   "source": []
  }
 ]
}