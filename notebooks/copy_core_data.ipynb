{
 "cells": [
  {
   "cell_type": "code",
   "execution_count": 6,
   "metadata": {},
   "outputs": [],
   "source": [
    "import shutil"
   ]
  },
  {
   "cell_type": "code",
   "execution_count": 11,
   "metadata": {},
   "outputs": [
    {
     "name": "stdout",
     "output_type": "stream",
     "text": [
      "Running...\n",
      "Complete\n"
     ]
    }
   ],
   "source": [
    "src = '/Users/dan/OneDrive - University College Cork/Status_Tool'\n",
    "dest = '/Users/dan/ClimateIreland/CI-Status-Report/Status_Tool_Data'\n",
    "print('Running...')\n",
    "shutil.copytree(src, dest, ignore = shutil.ignore_patterns(\n",
    "    '*Ancilarry_Datasets*',\n",
    "    '*.cpg',\n",
    "    '*.dbf',\n",
    "    '*.prj',\n",
    "    '*.sbn',\n",
    "    '*.sbx',\n",
    "    '*.shp',\n",
    "    '*.shx',\n",
    "    '*.mxd',\n",
    "    '*.tfw',\n",
    "    '*.tif',\n",
    "    '*.tif.aux.xml',\n",
    "    '*.tif.ovr',\n",
    "    )) \n",
    "print('Complete')"
   ]
  },
  {
   "cell_type": "code",
   "execution_count": null,
   "metadata": {},
   "outputs": [],
   "source": []
  },
  {
   "cell_type": "code",
   "execution_count": null,
   "metadata": {},
   "outputs": [],
   "source": []
  }
 ],
 "metadata": {
  "kernelspec": {
   "display_name": "Python 3",
   "language": "python",
   "name": "python3"
  },
  "language_info": {
   "codemirror_mode": {
    "name": "ipython",
    "version": 3
   },
   "file_extension": ".py",
   "mimetype": "text/x-python",
   "name": "python",
   "nbconvert_exporter": "python",
   "pygments_lexer": "ipython3",
   "version": "3.8.10"
  }
 },
 "nbformat": 4,
 "nbformat_minor": 2
}
