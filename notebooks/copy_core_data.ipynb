{
 "cells": [
  {
   "cell_type": "code",
   "execution_count": 7,
   "metadata": {},
   "outputs": [],
   "source": [
    "import shutil\n",
    "import os"
   ]
  },
  {
   "cell_type": "code",
   "execution_count": 11,
   "metadata": {},
   "outputs": [
    {
     "name": "stdout",
     "output_type": "stream",
     "text": [
      "Running...\n",
      "Complete\n"
     ]
    }
   ],
   "source": [
    "\"\"\"\n",
    "Remove unnessary files from orignal folder to working directory.\n",
    "Keeping Excel files and pngs \n",
    "\"\"\"\n",
    "src = '/Users/dan/OneDrive - University College Cork/Status_Tool'\n",
    "dest = '/Users/dan/ClimateIreland/CI-Status-Report/Status_Tool_Data'\n",
    "print('Running...')\n",
    "shutil.copytree(src, dest, ignore = shutil.ignore_patterns(\n",
    "    '*Ancilarry_Datasets*',\n",
    "    '*.cpg',\n",
    "    '*.dbf',\n",
    "    '*.prj',\n",
    "    '*.sbn',\n",
    "    '*.sbx',\n",
    "    '*.shp',\n",
    "    '*.shx',\n",
    "    '*.mxd',\n",
    "    '*.tfw',\n",
    "    '*.tif',\n",
    "    '*.tif.aux.xml',\n",
    "    '*.tif.ovr',\n",
    "    )) \n",
    "print('Complete')"
   ]
  },
  {
   "cell_type": "code",
   "execution_count": 15,
   "metadata": {},
   "outputs": [
    {
     "name": "stdout",
     "output_type": "stream",
     "text": [
      "Running...\n",
      "Complete\n"
     ]
    }
   ],
   "source": [
    "\"\"\"\n",
    "Remove unnessary files from orignal folder to working directory.\n",
    "Removing Excel files and pngs \n",
    "\"\"\"\n",
    "src = os.environ['STATUS_TOOL_DATA']\n",
    "dest = '../../s3_status_tool_data'\n",
    "print('Running...')\n",
    "shutil.copytree(src, dest, ignore = shutil.ignore_patterns(\n",
    "    '*.png',\n",
    "    '*.jpg',\n",
    "    '*.xlsx',\n",
    "    '*.xlsm',\n",
    "    '*.xml',\n",
    "    '*.docx',\n",
    "    '*.nc',\n",
    "    '*.pdf',\n",
    "    '*.tar',\n",
    "    '*.DS_Store'\n",
    "    )) \n",
    "print('Complete')"
   ]
  },
  {
   "cell_type": "code",
   "execution_count": 18,
   "metadata": {},
   "outputs": [],
   "source": [
    "def remove_empty_folders(path_abs):\n",
    "    walk = list(os.walk(path_abs))\n",
    "    for path, _, _ in walk[::-1]:\n",
    "        if len(os.listdir(path)) == 0:\n",
    "            os.rmdir(path)\n",
    "\n",
    "remove_empty_folders(dest)\n",
    "\n"
   ]
  },
  {
   "cell_type": "code",
   "execution_count": null,
   "metadata": {},
   "outputs": [],
   "source": []
  }
 ],
 "metadata": {
  "kernelspec": {
   "display_name": "Python 3",
   "language": "python",
   "name": "python3"
  },
  "language_info": {
   "codemirror_mode": {
    "name": "ipython",
    "version": 3
   },
   "file_extension": ".py",
   "mimetype": "text/x-python",
   "name": "python",
   "nbconvert_exporter": "python",
   "pygments_lexer": "ipython3",
   "version": "3.8.10"
  }
 },
 "nbformat": 4,
 "nbformat_minor": 2
}
