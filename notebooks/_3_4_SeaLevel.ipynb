{
 "cells": [
  {
   "cell_type": "code",
   "execution_count": 3,
   "metadata": {},
   "outputs": [],
   "source": [
    "# to access root modules\n",
    "if __name__ == \"__main__\" and __package__ is None:\n",
    "    from sys import path\n",
    "    from os.path import dirname as dir\n",
    "    path.append(dir(path[0])+'/dash_app')\n",
    "    __package__ = \"dash_app\""
   ]
  },
  {
   "cell_type": "code",
   "execution_count": 4,
   "metadata": {},
   "outputs": [
    {
     "name": "stdout",
     "output_type": "stream",
     "text": [
      "DATA_PATH set to /home/dan/ClimateIreland/CI-Climate-Status-Tool_root/CI-Climate-Status-Tool/data/\n"
     ]
    }
   ],
   "source": [
    "import pandas as pd\n",
    "import numpy as np\n",
    "import datetime\n",
    "import dateutil\n",
    "import plotly.graph_objects as go\n",
    "from plotly.subplots import make_subplots\n",
    "from charts import stations_map, map_columns\n",
    "from settings import *"
   ]
  },
  {
   "cell_type": "code",
   "execution_count": 10,
   "metadata": {},
   "outputs": [],
   "source": [
    "\"\"\"\n",
    "Figure 3.7 - Ballyglass, Malin Head, Castletownbere, Howth Harbour\n",
    "\"\"\"\n",
    "data_path = DATA_PATH+'Oceanic_Domain/3.4SeaLevel/Figure3.7/'\n",
    "data_csv = data_path + 'Figure3.7_data.csv'\n",
    "\"\"\"\n",
    "Tidy data for charts\n",
    "\"\"\"\n",
    "xls = pd.ExcelFile(\n",
    "    data_path+'Sea_level_IrishStationsTimeseries.xlsx')"
   ]
  },
  {
   "cell_type": "code",
   "execution_count": 19,
   "metadata": {},
   "outputs": [
    {
     "data": {
      "text/html": [
       "<div>\n",
       "<style scoped>\n",
       "    .dataframe tbody tr th:only-of-type {\n",
       "        vertical-align: middle;\n",
       "    }\n",
       "\n",
       "    .dataframe tbody tr th {\n",
       "        vertical-align: top;\n",
       "    }\n",
       "\n",
       "    .dataframe thead th {\n",
       "        text-align: right;\n",
       "    }\n",
       "</style>\n",
       "<table border=\"1\" class=\"dataframe\">\n",
       "  <thead>\n",
       "    <tr style=\"text-align: right;\">\n",
       "      <th></th>\n",
       "      <th>datetime</th>\n",
       "      <th>mean__monthly__sea_surface_height</th>\n",
       "      <th>location</th>\n",
       "    </tr>\n",
       "  </thead>\n",
       "  <tbody>\n",
       "    <tr>\n",
       "      <th>1</th>\n",
       "      <td>2008-04-01</td>\n",
       "      <td>0.092179</td>\n",
       "      <td>Ballyglass</td>\n",
       "    </tr>\n",
       "    <tr>\n",
       "      <th>2</th>\n",
       "      <td>2008-05-01</td>\n",
       "      <td>0.077970</td>\n",
       "      <td>Ballyglass</td>\n",
       "    </tr>\n",
       "    <tr>\n",
       "      <th>3</th>\n",
       "      <td>2008-06-01</td>\n",
       "      <td>0.048849</td>\n",
       "      <td>Ballyglass</td>\n",
       "    </tr>\n",
       "    <tr>\n",
       "      <th>4</th>\n",
       "      <td>2008-07-01</td>\n",
       "      <td>0.060503</td>\n",
       "      <td>Ballyglass</td>\n",
       "    </tr>\n",
       "    <tr>\n",
       "      <th>5</th>\n",
       "      <td>2008-08-01</td>\n",
       "      <td>0.100647</td>\n",
       "      <td>Ballyglass</td>\n",
       "    </tr>\n",
       "    <tr>\n",
       "      <th>...</th>\n",
       "      <td>...</td>\n",
       "      <td>...</td>\n",
       "      <td>...</td>\n",
       "    </tr>\n",
       "    <tr>\n",
       "      <th>149</th>\n",
       "      <td>2020-08-01</td>\n",
       "      <td>NaN</td>\n",
       "      <td>Ballyglass</td>\n",
       "    </tr>\n",
       "    <tr>\n",
       "      <th>150</th>\n",
       "      <td>2020-09-01</td>\n",
       "      <td>NaN</td>\n",
       "      <td>Ballyglass</td>\n",
       "    </tr>\n",
       "    <tr>\n",
       "      <th>151</th>\n",
       "      <td>2020-10-01</td>\n",
       "      <td>NaN</td>\n",
       "      <td>Ballyglass</td>\n",
       "    </tr>\n",
       "    <tr>\n",
       "      <th>152</th>\n",
       "      <td>2020-11-01</td>\n",
       "      <td>NaN</td>\n",
       "      <td>Ballyglass</td>\n",
       "    </tr>\n",
       "    <tr>\n",
       "      <th>153</th>\n",
       "      <td>2020-12-01</td>\n",
       "      <td>NaN</td>\n",
       "      <td>Ballyglass</td>\n",
       "    </tr>\n",
       "  </tbody>\n",
       "</table>\n",
       "<p>153 rows × 3 columns</p>\n",
       "</div>"
      ],
      "text/plain": [
       "      datetime  mean__monthly__sea_surface_height    location\n",
       "1   2008-04-01                           0.092179  Ballyglass\n",
       "2   2008-05-01                           0.077970  Ballyglass\n",
       "3   2008-06-01                           0.048849  Ballyglass\n",
       "4   2008-07-01                           0.060503  Ballyglass\n",
       "5   2008-08-01                           0.100647  Ballyglass\n",
       "..         ...                                ...         ...\n",
       "149 2020-08-01                                NaN  Ballyglass\n",
       "150 2020-09-01                                NaN  Ballyglass\n",
       "151 2020-10-01                                NaN  Ballyglass\n",
       "152 2020-11-01                                NaN  Ballyglass\n",
       "153 2020-12-01                                NaN  Ballyglass\n",
       "\n",
       "[153 rows x 3 columns]"
      ]
     },
     "execution_count": 19,
     "metadata": {},
     "output_type": "execute_result"
    }
   ],
   "source": [
    "# Ballyglass\n",
    "original_df = pd.read_excel(xls, 'Ballyglass')\n",
    "columns_dict = {'datetime':'Unnamed: 9',\n",
    "               'mean__monthly__sea_surface_height':'Unnamed: 10',\n",
    "                  }\n",
    "ballyglass_df = map_columns(columns_dict, original_df)\n",
    "# Keep NaNs for level so can see gaps in data in chart\n",
    "# Otherwise line chart links datapoints\n",
    "ballyglass_df = ballyglass_df[ballyglass_df['datetime'].notna()]\n",
    "ballyglass_df['location']='Ballyglass'\n",
    "ballyglass_df"
   ]
  },
  {
   "cell_type": "code",
   "execution_count": 22,
   "metadata": {},
   "outputs": [
    {
     "data": {
      "text/html": [
       "<div>\n",
       "<style scoped>\n",
       "    .dataframe tbody tr th:only-of-type {\n",
       "        vertical-align: middle;\n",
       "    }\n",
       "\n",
       "    .dataframe tbody tr th {\n",
       "        vertical-align: top;\n",
       "    }\n",
       "\n",
       "    .dataframe thead th {\n",
       "        text-align: right;\n",
       "    }\n",
       "</style>\n",
       "<table border=\"1\" class=\"dataframe\">\n",
       "  <thead>\n",
       "    <tr style=\"text-align: right;\">\n",
       "      <th></th>\n",
       "      <th>datetime</th>\n",
       "      <th>mean__monthly__sea_surface_height</th>\n",
       "      <th>location</th>\n",
       "    </tr>\n",
       "  </thead>\n",
       "  <tbody>\n",
       "    <tr>\n",
       "      <th>1</th>\n",
       "      <td>2007-01-01</td>\n",
       "      <td>-0.243068</td>\n",
       "      <td>Castletownbere</td>\n",
       "    </tr>\n",
       "    <tr>\n",
       "      <th>2</th>\n",
       "      <td>2007-02-01</td>\n",
       "      <td>-0.125970</td>\n",
       "      <td>Castletownbere</td>\n",
       "    </tr>\n",
       "    <tr>\n",
       "      <th>3</th>\n",
       "      <td>2007-03-01</td>\n",
       "      <td>-0.306651</td>\n",
       "      <td>Castletownbere</td>\n",
       "    </tr>\n",
       "    <tr>\n",
       "      <th>4</th>\n",
       "      <td>2007-04-01</td>\n",
       "      <td>-0.316151</td>\n",
       "      <td>Castletownbere</td>\n",
       "    </tr>\n",
       "    <tr>\n",
       "      <th>5</th>\n",
       "      <td>2007-05-01</td>\n",
       "      <td>-0.250507</td>\n",
       "      <td>Castletownbere</td>\n",
       "    </tr>\n",
       "    <tr>\n",
       "      <th>...</th>\n",
       "      <td>...</td>\n",
       "      <td>...</td>\n",
       "      <td>...</td>\n",
       "    </tr>\n",
       "    <tr>\n",
       "      <th>164</th>\n",
       "      <td>2020-08-01</td>\n",
       "      <td>NaN</td>\n",
       "      <td>Castletownbere</td>\n",
       "    </tr>\n",
       "    <tr>\n",
       "      <th>165</th>\n",
       "      <td>2020-09-01</td>\n",
       "      <td>NaN</td>\n",
       "      <td>Castletownbere</td>\n",
       "    </tr>\n",
       "    <tr>\n",
       "      <th>166</th>\n",
       "      <td>2020-10-01</td>\n",
       "      <td>NaN</td>\n",
       "      <td>Castletownbere</td>\n",
       "    </tr>\n",
       "    <tr>\n",
       "      <th>167</th>\n",
       "      <td>2020-11-01</td>\n",
       "      <td>NaN</td>\n",
       "      <td>Castletownbere</td>\n",
       "    </tr>\n",
       "    <tr>\n",
       "      <th>168</th>\n",
       "      <td>2020-12-01</td>\n",
       "      <td>NaN</td>\n",
       "      <td>Castletownbere</td>\n",
       "    </tr>\n",
       "  </tbody>\n",
       "</table>\n",
       "<p>168 rows × 3 columns</p>\n",
       "</div>"
      ],
      "text/plain": [
       "      datetime  mean__monthly__sea_surface_height        location\n",
       "1   2007-01-01                          -0.243068  Castletownbere\n",
       "2   2007-02-01                          -0.125970  Castletownbere\n",
       "3   2007-03-01                          -0.306651  Castletownbere\n",
       "4   2007-04-01                          -0.316151  Castletownbere\n",
       "5   2007-05-01                          -0.250507  Castletownbere\n",
       "..         ...                                ...             ...\n",
       "164 2020-08-01                                NaN  Castletownbere\n",
       "165 2020-09-01                                NaN  Castletownbere\n",
       "166 2020-10-01                                NaN  Castletownbere\n",
       "167 2020-11-01                                NaN  Castletownbere\n",
       "168 2020-12-01                                NaN  Castletownbere\n",
       "\n",
       "[168 rows x 3 columns]"
      ]
     },
     "execution_count": 22,
     "metadata": {},
     "output_type": "execute_result"
    }
   ],
   "source": [
    "# Castletownbare\n",
    "original_df = pd.read_excel(xls, 'Castletownbere')\n",
    "columns_dict = {'datetime':'Unnamed: 9',\n",
    "               'mean__monthly__sea_surface_height':'Unnamed: 10',\n",
    "                  }\n",
    "castletownbere_df = map_columns(columns_dict, original_df)\n",
    "castletownbere_df = castletownbere_df[castletownbere_df['datetime'].notna()]\n",
    "castletownbere_df['location']='Castletownbere'\n",
    "castletownbere_df"
   ]
  },
  {
   "cell_type": "code",
   "execution_count": 34,
   "metadata": {},
   "outputs": [
    {
     "data": {
      "text/html": [
       "<div>\n",
       "<style scoped>\n",
       "    .dataframe tbody tr th:only-of-type {\n",
       "        vertical-align: middle;\n",
       "    }\n",
       "\n",
       "    .dataframe tbody tr th {\n",
       "        vertical-align: top;\n",
       "    }\n",
       "\n",
       "    .dataframe thead th {\n",
       "        text-align: right;\n",
       "    }\n",
       "</style>\n",
       "<table border=\"1\" class=\"dataframe\">\n",
       "  <thead>\n",
       "    <tr style=\"text-align: right;\">\n",
       "      <th></th>\n",
       "      <th>datetime</th>\n",
       "      <th>mean__monthly__sea_surface_height</th>\n",
       "      <th>location</th>\n",
       "    </tr>\n",
       "  </thead>\n",
       "  <tbody>\n",
       "    <tr>\n",
       "      <th>1</th>\n",
       "      <td>2006-11-01</td>\n",
       "      <td>0.176606</td>\n",
       "      <td>Howth Harbour</td>\n",
       "    </tr>\n",
       "    <tr>\n",
       "      <th>2</th>\n",
       "      <td>2006-12-01</td>\n",
       "      <td>0.008146</td>\n",
       "      <td>Howth Harbour</td>\n",
       "    </tr>\n",
       "    <tr>\n",
       "      <th>3</th>\n",
       "      <td>2007-01-01</td>\n",
       "      <td>-0.025814</td>\n",
       "      <td>Howth Harbour</td>\n",
       "    </tr>\n",
       "    <tr>\n",
       "      <th>4</th>\n",
       "      <td>2007-02-01</td>\n",
       "      <td>-0.001516</td>\n",
       "      <td>Howth Harbour</td>\n",
       "    </tr>\n",
       "    <tr>\n",
       "      <th>5</th>\n",
       "      <td>2007-03-01</td>\n",
       "      <td>-0.154973</td>\n",
       "      <td>Howth Harbour</td>\n",
       "    </tr>\n",
       "    <tr>\n",
       "      <th>...</th>\n",
       "      <td>...</td>\n",
       "      <td>...</td>\n",
       "      <td>...</td>\n",
       "    </tr>\n",
       "    <tr>\n",
       "      <th>166</th>\n",
       "      <td>2020-08-01</td>\n",
       "      <td>NaN</td>\n",
       "      <td>Howth Harbour</td>\n",
       "    </tr>\n",
       "    <tr>\n",
       "      <th>167</th>\n",
       "      <td>2020-09-01</td>\n",
       "      <td>NaN</td>\n",
       "      <td>Howth Harbour</td>\n",
       "    </tr>\n",
       "    <tr>\n",
       "      <th>168</th>\n",
       "      <td>2020-10-01</td>\n",
       "      <td>NaN</td>\n",
       "      <td>Howth Harbour</td>\n",
       "    </tr>\n",
       "    <tr>\n",
       "      <th>169</th>\n",
       "      <td>2020-11-01</td>\n",
       "      <td>NaN</td>\n",
       "      <td>Howth Harbour</td>\n",
       "    </tr>\n",
       "    <tr>\n",
       "      <th>170</th>\n",
       "      <td>2020-12-01</td>\n",
       "      <td>NaN</td>\n",
       "      <td>Howth Harbour</td>\n",
       "    </tr>\n",
       "  </tbody>\n",
       "</table>\n",
       "<p>170 rows × 3 columns</p>\n",
       "</div>"
      ],
      "text/plain": [
       "      datetime  mean__monthly__sea_surface_height       location\n",
       "1   2006-11-01                           0.176606  Howth Harbour\n",
       "2   2006-12-01                           0.008146  Howth Harbour\n",
       "3   2007-01-01                          -0.025814  Howth Harbour\n",
       "4   2007-02-01                          -0.001516  Howth Harbour\n",
       "5   2007-03-01                          -0.154973  Howth Harbour\n",
       "..         ...                                ...            ...\n",
       "166 2020-08-01                                NaN  Howth Harbour\n",
       "167 2020-09-01                                NaN  Howth Harbour\n",
       "168 2020-10-01                                NaN  Howth Harbour\n",
       "169 2020-11-01                                NaN  Howth Harbour\n",
       "170 2020-12-01                                NaN  Howth Harbour\n",
       "\n",
       "[170 rows x 3 columns]"
      ]
     },
     "execution_count": 34,
     "metadata": {},
     "output_type": "execute_result"
    }
   ],
   "source": [
    "# HowthHarbour\n",
    "original_df = pd.read_excel(xls, 'HowthHarbour')\n",
    "columns_dict = {'datetime':'Unnamed: 8',\n",
    "               'mean__monthly__sea_surface_height':'Unnamed: 9',\n",
    "                  }\n",
    "howth_df = map_columns(columns_dict, original_df)\n",
    "howth_df = howth_df[howth_df['datetime'].notna()]\n",
    "howth_df['location']='Howth Harbour'\n",
    "howth_df"
   ]
  },
  {
   "cell_type": "code",
   "execution_count": 36,
   "metadata": {},
   "outputs": [
    {
     "data": {
      "text/html": [
       "<div>\n",
       "<style scoped>\n",
       "    .dataframe tbody tr th:only-of-type {\n",
       "        vertical-align: middle;\n",
       "    }\n",
       "\n",
       "    .dataframe tbody tr th {\n",
       "        vertical-align: top;\n",
       "    }\n",
       "\n",
       "    .dataframe thead th {\n",
       "        text-align: right;\n",
       "    }\n",
       "</style>\n",
       "<table border=\"1\" class=\"dataframe\">\n",
       "  <thead>\n",
       "    <tr style=\"text-align: right;\">\n",
       "      <th></th>\n",
       "      <th>datetime</th>\n",
       "      <th>mean__monthly__sea_surface_height</th>\n",
       "      <th>location</th>\n",
       "    </tr>\n",
       "  </thead>\n",
       "  <tbody>\n",
       "    <tr>\n",
       "      <th>0</th>\n",
       "      <td>2004-01-01</td>\n",
       "      <td>0.117522</td>\n",
       "      <td>Malin Head</td>\n",
       "    </tr>\n",
       "    <tr>\n",
       "      <th>1</th>\n",
       "      <td>2004-02-01</td>\n",
       "      <td>-0.031000</td>\n",
       "      <td>Malin Head</td>\n",
       "    </tr>\n",
       "    <tr>\n",
       "      <th>2</th>\n",
       "      <td>2004-03-01</td>\n",
       "      <td>-0.000452</td>\n",
       "      <td>Malin Head</td>\n",
       "    </tr>\n",
       "    <tr>\n",
       "      <th>3</th>\n",
       "      <td>2004-04-01</td>\n",
       "      <td>-0.028833</td>\n",
       "      <td>Malin Head</td>\n",
       "    </tr>\n",
       "    <tr>\n",
       "      <th>4</th>\n",
       "      <td>2004-05-01</td>\n",
       "      <td>-0.074645</td>\n",
       "      <td>Malin Head</td>\n",
       "    </tr>\n",
       "    <tr>\n",
       "      <th>...</th>\n",
       "      <td>...</td>\n",
       "      <td>...</td>\n",
       "      <td>...</td>\n",
       "    </tr>\n",
       "    <tr>\n",
       "      <th>199</th>\n",
       "      <td>2020-08-01</td>\n",
       "      <td>NaN</td>\n",
       "      <td>Malin Head</td>\n",
       "    </tr>\n",
       "    <tr>\n",
       "      <th>200</th>\n",
       "      <td>2020-09-01</td>\n",
       "      <td>NaN</td>\n",
       "      <td>Malin Head</td>\n",
       "    </tr>\n",
       "    <tr>\n",
       "      <th>201</th>\n",
       "      <td>2020-10-01</td>\n",
       "      <td>NaN</td>\n",
       "      <td>Malin Head</td>\n",
       "    </tr>\n",
       "    <tr>\n",
       "      <th>202</th>\n",
       "      <td>2020-11-01</td>\n",
       "      <td>NaN</td>\n",
       "      <td>Malin Head</td>\n",
       "    </tr>\n",
       "    <tr>\n",
       "      <th>203</th>\n",
       "      <td>2020-12-01</td>\n",
       "      <td>NaN</td>\n",
       "      <td>Malin Head</td>\n",
       "    </tr>\n",
       "  </tbody>\n",
       "</table>\n",
       "<p>204 rows × 3 columns</p>\n",
       "</div>"
      ],
      "text/plain": [
       "      datetime  mean__monthly__sea_surface_height    location\n",
       "0   2004-01-01                           0.117522  Malin Head\n",
       "1   2004-02-01                          -0.031000  Malin Head\n",
       "2   2004-03-01                          -0.000452  Malin Head\n",
       "3   2004-04-01                          -0.028833  Malin Head\n",
       "4   2004-05-01                          -0.074645  Malin Head\n",
       "..         ...                                ...         ...\n",
       "199 2020-08-01                                NaN  Malin Head\n",
       "200 2020-09-01                                NaN  Malin Head\n",
       "201 2020-10-01                                NaN  Malin Head\n",
       "202 2020-11-01                                NaN  Malin Head\n",
       "203 2020-12-01                                NaN  Malin Head\n",
       "\n",
       "[204 rows x 3 columns]"
      ]
     },
     "execution_count": 36,
     "metadata": {},
     "output_type": "execute_result"
    }
   ],
   "source": [
    "# MalinHead\n",
    "original_df = pd.read_excel(xls, 'MalinHead')\n",
    "columns_dict = {'datetime':'Unnamed: 5',\n",
    "               'mean__monthly__sea_surface_height':'Unnamed: 6',\n",
    "                  }\n",
    "malin_df = map_columns(columns_dict, original_df)\n",
    "malin_df = malin_df[malin_df['datetime'].notna()]\n",
    "malin_df['location']='Malin Head'\n",
    "malin_df"
   ]
  },
  {
   "cell_type": "code",
   "execution_count": 39,
   "metadata": {},
   "outputs": [],
   "source": [
    "df = pd.concat([\n",
    "    ballyglass_df,\n",
    "    castletownbere_df,\n",
    "    howth_df,\n",
    "    malin_df\n",
    "    ])\n",
    "df['datetime'] = pd.to_datetime(df['datetime'])\n",
    "df.to_csv(data_csv)"
   ]
  },
  {
   "cell_type": "code",
   "execution_count": 38,
   "metadata": {},
   "outputs": [
    {
     "data": {
      "application/vnd.plotly.v1+json": {
       "config": {
        "plotlyServerURL": "https://plot.ly"
       },
       "data": [
        {
         "connectgaps": false,
         "hovertemplate": "%{x}<br><b>Monthly Average</b><br>Mean Sea Level: %{y:.2f} m<extra></extra>",
         "line": {
          "color": "#ffbf65",
          "shape": "spline",
          "width": 2
         },
         "mode": "lines",
         "name": "Howth Harbour",
         "type": "scatter",
         "x": [
          "2006-11-01",
          "2006-12-01",
          "2007-01-01",
          "2007-02-01",
          "2007-03-01",
          "2007-04-01",
          "2007-05-01",
          "2007-06-01",
          "2007-07-01",
          "2007-08-01",
          "2007-09-01",
          "2007-10-01",
          "2007-11-01",
          "2007-12-01",
          "2008-01-01",
          "2008-02-01",
          "2008-03-01",
          "2008-04-01",
          "2008-05-01",
          "2008-06-01",
          "2008-07-01",
          "2008-08-01",
          "2008-09-01",
          "2008-10-01",
          "2008-11-01",
          "2008-12-01",
          "2009-01-01",
          "2009-02-01",
          "2009-03-01",
          "2009-04-01",
          "2009-05-01",
          "2009-06-01",
          "2009-07-01",
          "2009-08-01",
          "2009-09-01",
          "2009-10-01",
          "2009-11-01",
          "2009-12-01",
          "2010-01-01",
          "2010-02-01",
          "2010-03-01",
          "2010-04-01",
          "2010-05-01",
          "2010-06-01",
          "2010-07-01",
          "2010-08-01",
          "2010-09-01",
          "2010-10-01",
          "2010-11-01",
          "2010-12-01",
          "2011-01-01",
          "2011-02-01",
          "2011-03-01",
          "2011-04-01",
          "2011-05-01",
          "2011-06-01",
          "2011-07-01",
          "2011-08-01",
          "2011-09-01",
          "2011-10-01",
          "2011-11-01",
          "2011-12-01",
          "2012-01-01",
          "2012-02-01",
          "2012-03-01",
          "2012-04-01",
          "2012-05-01",
          "2012-06-01",
          "2012-07-01",
          "2012-08-01",
          "2012-09-01",
          "2012-10-01",
          "2012-11-01",
          "2012-12-01",
          "2013-01-01",
          "2013-02-01",
          "2013-03-01",
          "2013-04-01",
          "2013-05-01",
          "2013-06-01",
          "2013-07-01",
          "2013-08-01",
          "2013-09-01",
          "2013-10-01",
          "2013-11-01",
          "2013-12-01",
          "2014-01-01",
          "2014-02-01",
          "2014-03-01",
          "2014-04-01",
          "2014-05-01",
          "2014-06-01",
          "2014-07-01",
          "2014-08-01",
          "2014-09-01",
          "2014-10-01",
          "2014-11-01",
          "2014-12-01",
          "2015-01-01",
          "2015-02-01",
          "2015-03-01",
          "2015-04-01",
          "2015-05-01",
          "2015-06-01",
          "2015-07-01",
          "2015-08-01",
          "2015-09-01",
          "2015-10-01",
          "2015-11-01",
          "2015-12-01",
          "2016-01-01",
          "2016-02-01",
          "2016-03-01",
          "2016-04-01",
          "2016-05-01",
          "2016-06-01",
          "2016-07-01",
          "2016-08-01",
          "2016-09-01",
          "2016-10-01",
          "2016-11-01",
          "2016-12-01",
          "2017-01-01",
          "2017-02-01",
          "2017-03-01",
          "2017-04-01",
          "2017-05-01",
          "2017-06-01",
          "2017-07-01",
          "2017-08-01",
          "2017-09-01",
          "2017-10-01",
          "2017-11-01",
          "2017-12-01",
          "2018-01-01",
          "2018-02-01",
          "2018-03-01",
          "2018-04-01",
          "2018-05-01",
          "2018-06-01",
          "2018-07-01",
          "2018-08-01",
          "2018-09-01",
          "2018-10-01",
          "2018-11-01",
          "2018-12-01",
          "2019-01-01",
          "2019-02-01",
          "2019-03-01",
          "2019-04-01",
          "2019-05-01",
          "2019-06-01",
          "2019-07-01",
          "2019-08-01",
          "2019-09-01",
          "2019-10-01",
          "2019-11-01",
          "2019-12-01",
          "2020-01-01",
          "2020-02-01",
          "2020-03-01",
          "2020-04-01",
          "2020-05-01",
          "2020-06-01",
          "2020-07-01",
          "2020-08-01",
          "2020-09-01",
          "2020-10-01",
          "2020-11-01",
          "2020-12-01"
         ],
         "y": [
          0.1766062052505967,
          0.0081459948320411,
          -0.0258138592462515,
          -0.0015156040017918,
          -0.1549730021598273,
          -0.2364628450106151,
          -0.1083795107446952,
          -0.056709197980931,
          -0.0558893547950765,
          -0.1229991771804715,
          -0.1393207282913167,
          -0.0544246112237998,
          -0.1074885081487669,
          -0.0342097469036079,
          0.0614929006085194,
          -0.0546827794561932,
          -0.0909581482976719,
          -0.070620458677108,
          -0.1015964855366317,
          -0.0920321209587512,
          -0.0379563644164758,
          -0.0195229214391591,
          -0.0594756437021572,
          0.0102008078632019,
          -0.052898817638058,
          -0.0851885314308791,
          0.0556935999999997,
          -0.1999689591761677,
          -0.1268934008097166,
          -0.0941748603351955,
          -0.1085992855217042,
          -0.0886019228089727,
          -0.0157225093849263,
          -0.0173227315753887,
          -0.1009271488178024,
          0.0183294268374915,
          0.1565104105775925,
          0.0839074264110182,
          -0.0683448285284874,
          0.0069233432835819,
          -0.0775251110811897,
          -0.1460856045797254,
          -0.1692646122724211,
          -0.1263181286549708,
          -0.0664377858488026,
          -0.0741440614058711,
          -0.0137722353595771,
          0.0658923004442047,
          0.0629288600891859,
          -0.035206196955409,
          -0.0667794450431034,
          0.0077404726293747,
          -0.177806354786371,
          -0.1213554394762496,
          -0.0664041498248452,
          -0.0770942535132883,
          -0.0965969141625117,
          -0.0485041475895499,
          0.0257018528838119,
          0.0301578611111111,
          0.0852777375817446,
          0.0273418998923576,
          -0.0816466783452365,
          -0.2468758094689885,
          -0.2115569023569025,
          -0.0711607515657619,
          -0.1019477370689656,
          -0.0291913709116214,
          -0.068792778226893,
          0.0089855853428532,
          -0.0217844228094575,
          0.0620845677349853,
          0.101383052734104,
          0.0882920258620688,
          0.0306185289767378,
          -0.0985897244973939,
          0.0194729057415624,
          -0.0384533073929961,
          -0.12319801048528,
          -0.1417921246695425,
          -0.1016785570063262,
          -0.0584575974113525,
          -0.0657067334446298,
          0.094541784416633,
          -0.0702363737486096,
          0.125306698950767,
          0.1308968489092375,
          0.1260909768829231,
          -0.1308394995291267,
          -0.0823324993049764,
          -0.1267488215488215,
          -0.1375083565459606,
          -0.0969073275862073,
          -0.0537094385350749,
          -0.0696560367636819,
          0.1044564047362756,
          0.1290576789437111,
          -0.0622265625,
          -0.0362745890595526,
          -0.1792761394101873,
          -0.1762171982236572,
          -0.174383085269162,
          -0.0887602748955667,
          -0.1414234083958856,
          -0.0602305514358905,
          -0.0235645965243163,
          -0.0717256267409469,
          0.0078564683663833,
          0.0710325180655919,
          0.1831006187785848,
          0.099307423345885,
          -0.0088010425716766,
          -0.1605572755417957,
          -0.0883743704532735,
          -0.0799865192774332,
          -0.0944370308590494,
          -0.0792979382832504,
          -0.067436759956943,
          -0.0010885583205894,
          -0.0574949494949497,
          -0.0543865756858376,
          -0.0150181573638197,
          -0.1069920560118485,
          -0.0089956787364029,
          -0.0882436793975256,
          -0.1795576868021755,
          -0.0524206511374472,
          -0.030570474467789,
          -0.0463484583277233,
          -0.0389888094917081,
          -0.0031010985954665,
          0.0319109736417429,
          -0.0399276270006959,
          -0.0506763479897811,
          0.0104263618022864,
          -0.1569286992840104,
          -0.0125258945386065,
          -0.0977645131086144,
          -0.1964810865416993,
          -0.1924151118321937,
          -0.1633153638814019,
          -0.1240737420150171,
          -0.1096542878084535,
          -0.0791917040358744,
          0.0727379158456012,
          -0.0125326519023283,
          null,
          null,
          null,
          null,
          null,
          null,
          null,
          null,
          null,
          null,
          null,
          null,
          null,
          null,
          null,
          null,
          null,
          null,
          null,
          null,
          null,
          null,
          null,
          null
         ]
        }
       ],
       "layout": {
        "font": {
         "color": "#7f7f7f",
         "family": "Arial"
        },
        "height": 450,
        "hovermode": "closest",
        "legend": {
         "bgcolor": "rgba(0,0,0,0)",
         "itemclick": false,
         "itemdoubleclick": false,
         "orientation": "h"
        },
        "margin": {
         "b": 0,
         "l": 0,
         "r": 0,
         "t": 0
        },
        "paper_bgcolor": "rgba(0,0,0,0)",
        "plot_bgcolor": "#f7fbfd",
        "template": {
         "data": {
          "bar": [
           {
            "error_x": {
             "color": "#2a3f5f"
            },
            "error_y": {
             "color": "#2a3f5f"
            },
            "marker": {
             "line": {
              "color": "#E5ECF6",
              "width": 0.5
             }
            },
            "type": "bar"
           }
          ],
          "barpolar": [
           {
            "marker": {
             "line": {
              "color": "#E5ECF6",
              "width": 0.5
             }
            },
            "type": "barpolar"
           }
          ],
          "carpet": [
           {
            "aaxis": {
             "endlinecolor": "#2a3f5f",
             "gridcolor": "white",
             "linecolor": "white",
             "minorgridcolor": "white",
             "startlinecolor": "#2a3f5f"
            },
            "baxis": {
             "endlinecolor": "#2a3f5f",
             "gridcolor": "white",
             "linecolor": "white",
             "minorgridcolor": "white",
             "startlinecolor": "#2a3f5f"
            },
            "type": "carpet"
           }
          ],
          "choropleth": [
           {
            "colorbar": {
             "outlinewidth": 0,
             "ticks": ""
            },
            "type": "choropleth"
           }
          ],
          "contour": [
           {
            "colorbar": {
             "outlinewidth": 0,
             "ticks": ""
            },
            "colorscale": [
             [
              0,
              "#0d0887"
             ],
             [
              0.1111111111111111,
              "#46039f"
             ],
             [
              0.2222222222222222,
              "#7201a8"
             ],
             [
              0.3333333333333333,
              "#9c179e"
             ],
             [
              0.4444444444444444,
              "#bd3786"
             ],
             [
              0.5555555555555556,
              "#d8576b"
             ],
             [
              0.6666666666666666,
              "#ed7953"
             ],
             [
              0.7777777777777778,
              "#fb9f3a"
             ],
             [
              0.8888888888888888,
              "#fdca26"
             ],
             [
              1,
              "#f0f921"
             ]
            ],
            "type": "contour"
           }
          ],
          "contourcarpet": [
           {
            "colorbar": {
             "outlinewidth": 0,
             "ticks": ""
            },
            "type": "contourcarpet"
           }
          ],
          "heatmap": [
           {
            "colorbar": {
             "outlinewidth": 0,
             "ticks": ""
            },
            "colorscale": [
             [
              0,
              "#0d0887"
             ],
             [
              0.1111111111111111,
              "#46039f"
             ],
             [
              0.2222222222222222,
              "#7201a8"
             ],
             [
              0.3333333333333333,
              "#9c179e"
             ],
             [
              0.4444444444444444,
              "#bd3786"
             ],
             [
              0.5555555555555556,
              "#d8576b"
             ],
             [
              0.6666666666666666,
              "#ed7953"
             ],
             [
              0.7777777777777778,
              "#fb9f3a"
             ],
             [
              0.8888888888888888,
              "#fdca26"
             ],
             [
              1,
              "#f0f921"
             ]
            ],
            "type": "heatmap"
           }
          ],
          "heatmapgl": [
           {
            "colorbar": {
             "outlinewidth": 0,
             "ticks": ""
            },
            "colorscale": [
             [
              0,
              "#0d0887"
             ],
             [
              0.1111111111111111,
              "#46039f"
             ],
             [
              0.2222222222222222,
              "#7201a8"
             ],
             [
              0.3333333333333333,
              "#9c179e"
             ],
             [
              0.4444444444444444,
              "#bd3786"
             ],
             [
              0.5555555555555556,
              "#d8576b"
             ],
             [
              0.6666666666666666,
              "#ed7953"
             ],
             [
              0.7777777777777778,
              "#fb9f3a"
             ],
             [
              0.8888888888888888,
              "#fdca26"
             ],
             [
              1,
              "#f0f921"
             ]
            ],
            "type": "heatmapgl"
           }
          ],
          "histogram": [
           {
            "marker": {
             "colorbar": {
              "outlinewidth": 0,
              "ticks": ""
             }
            },
            "type": "histogram"
           }
          ],
          "histogram2d": [
           {
            "colorbar": {
             "outlinewidth": 0,
             "ticks": ""
            },
            "colorscale": [
             [
              0,
              "#0d0887"
             ],
             [
              0.1111111111111111,
              "#46039f"
             ],
             [
              0.2222222222222222,
              "#7201a8"
             ],
             [
              0.3333333333333333,
              "#9c179e"
             ],
             [
              0.4444444444444444,
              "#bd3786"
             ],
             [
              0.5555555555555556,
              "#d8576b"
             ],
             [
              0.6666666666666666,
              "#ed7953"
             ],
             [
              0.7777777777777778,
              "#fb9f3a"
             ],
             [
              0.8888888888888888,
              "#fdca26"
             ],
             [
              1,
              "#f0f921"
             ]
            ],
            "type": "histogram2d"
           }
          ],
          "histogram2dcontour": [
           {
            "colorbar": {
             "outlinewidth": 0,
             "ticks": ""
            },
            "colorscale": [
             [
              0,
              "#0d0887"
             ],
             [
              0.1111111111111111,
              "#46039f"
             ],
             [
              0.2222222222222222,
              "#7201a8"
             ],
             [
              0.3333333333333333,
              "#9c179e"
             ],
             [
              0.4444444444444444,
              "#bd3786"
             ],
             [
              0.5555555555555556,
              "#d8576b"
             ],
             [
              0.6666666666666666,
              "#ed7953"
             ],
             [
              0.7777777777777778,
              "#fb9f3a"
             ],
             [
              0.8888888888888888,
              "#fdca26"
             ],
             [
              1,
              "#f0f921"
             ]
            ],
            "type": "histogram2dcontour"
           }
          ],
          "mesh3d": [
           {
            "colorbar": {
             "outlinewidth": 0,
             "ticks": ""
            },
            "type": "mesh3d"
           }
          ],
          "parcoords": [
           {
            "line": {
             "colorbar": {
              "outlinewidth": 0,
              "ticks": ""
             }
            },
            "type": "parcoords"
           }
          ],
          "pie": [
           {
            "automargin": true,
            "type": "pie"
           }
          ],
          "scatter": [
           {
            "marker": {
             "colorbar": {
              "outlinewidth": 0,
              "ticks": ""
             }
            },
            "type": "scatter"
           }
          ],
          "scatter3d": [
           {
            "line": {
             "colorbar": {
              "outlinewidth": 0,
              "ticks": ""
             }
            },
            "marker": {
             "colorbar": {
              "outlinewidth": 0,
              "ticks": ""
             }
            },
            "type": "scatter3d"
           }
          ],
          "scattercarpet": [
           {
            "marker": {
             "colorbar": {
              "outlinewidth": 0,
              "ticks": ""
             }
            },
            "type": "scattercarpet"
           }
          ],
          "scattergeo": [
           {
            "marker": {
             "colorbar": {
              "outlinewidth": 0,
              "ticks": ""
             }
            },
            "type": "scattergeo"
           }
          ],
          "scattergl": [
           {
            "marker": {
             "colorbar": {
              "outlinewidth": 0,
              "ticks": ""
             }
            },
            "type": "scattergl"
           }
          ],
          "scattermapbox": [
           {
            "marker": {
             "colorbar": {
              "outlinewidth": 0,
              "ticks": ""
             }
            },
            "type": "scattermapbox"
           }
          ],
          "scatterpolar": [
           {
            "marker": {
             "colorbar": {
              "outlinewidth": 0,
              "ticks": ""
             }
            },
            "type": "scatterpolar"
           }
          ],
          "scatterpolargl": [
           {
            "marker": {
             "colorbar": {
              "outlinewidth": 0,
              "ticks": ""
             }
            },
            "type": "scatterpolargl"
           }
          ],
          "scatterternary": [
           {
            "marker": {
             "colorbar": {
              "outlinewidth": 0,
              "ticks": ""
             }
            },
            "type": "scatterternary"
           }
          ],
          "surface": [
           {
            "colorbar": {
             "outlinewidth": 0,
             "ticks": ""
            },
            "colorscale": [
             [
              0,
              "#0d0887"
             ],
             [
              0.1111111111111111,
              "#46039f"
             ],
             [
              0.2222222222222222,
              "#7201a8"
             ],
             [
              0.3333333333333333,
              "#9c179e"
             ],
             [
              0.4444444444444444,
              "#bd3786"
             ],
             [
              0.5555555555555556,
              "#d8576b"
             ],
             [
              0.6666666666666666,
              "#ed7953"
             ],
             [
              0.7777777777777778,
              "#fb9f3a"
             ],
             [
              0.8888888888888888,
              "#fdca26"
             ],
             [
              1,
              "#f0f921"
             ]
            ],
            "type": "surface"
           }
          ],
          "table": [
           {
            "cells": {
             "fill": {
              "color": "#EBF0F8"
             },
             "line": {
              "color": "white"
             }
            },
            "header": {
             "fill": {
              "color": "#C8D4E3"
             },
             "line": {
              "color": "white"
             }
            },
            "type": "table"
           }
          ]
         },
         "layout": {
          "annotationdefaults": {
           "arrowcolor": "#2a3f5f",
           "arrowhead": 0,
           "arrowwidth": 1
          },
          "autotypenumbers": "strict",
          "coloraxis": {
           "colorbar": {
            "outlinewidth": 0,
            "ticks": ""
           }
          },
          "colorscale": {
           "diverging": [
            [
             0,
             "#8e0152"
            ],
            [
             0.1,
             "#c51b7d"
            ],
            [
             0.2,
             "#de77ae"
            ],
            [
             0.3,
             "#f1b6da"
            ],
            [
             0.4,
             "#fde0ef"
            ],
            [
             0.5,
             "#f7f7f7"
            ],
            [
             0.6,
             "#e6f5d0"
            ],
            [
             0.7,
             "#b8e186"
            ],
            [
             0.8,
             "#7fbc41"
            ],
            [
             0.9,
             "#4d9221"
            ],
            [
             1,
             "#276419"
            ]
           ],
           "sequential": [
            [
             0,
             "#0d0887"
            ],
            [
             0.1111111111111111,
             "#46039f"
            ],
            [
             0.2222222222222222,
             "#7201a8"
            ],
            [
             0.3333333333333333,
             "#9c179e"
            ],
            [
             0.4444444444444444,
             "#bd3786"
            ],
            [
             0.5555555555555556,
             "#d8576b"
            ],
            [
             0.6666666666666666,
             "#ed7953"
            ],
            [
             0.7777777777777778,
             "#fb9f3a"
            ],
            [
             0.8888888888888888,
             "#fdca26"
            ],
            [
             1,
             "#f0f921"
            ]
           ],
           "sequentialminus": [
            [
             0,
             "#0d0887"
            ],
            [
             0.1111111111111111,
             "#46039f"
            ],
            [
             0.2222222222222222,
             "#7201a8"
            ],
            [
             0.3333333333333333,
             "#9c179e"
            ],
            [
             0.4444444444444444,
             "#bd3786"
            ],
            [
             0.5555555555555556,
             "#d8576b"
            ],
            [
             0.6666666666666666,
             "#ed7953"
            ],
            [
             0.7777777777777778,
             "#fb9f3a"
            ],
            [
             0.8888888888888888,
             "#fdca26"
            ],
            [
             1,
             "#f0f921"
            ]
           ]
          },
          "colorway": [
           "#636efa",
           "#EF553B",
           "#00cc96",
           "#ab63fa",
           "#FFA15A",
           "#19d3f3",
           "#FF6692",
           "#B6E880",
           "#FF97FF",
           "#FECB52"
          ],
          "font": {
           "color": "#2a3f5f"
          },
          "geo": {
           "bgcolor": "white",
           "lakecolor": "white",
           "landcolor": "#E5ECF6",
           "showlakes": true,
           "showland": true,
           "subunitcolor": "white"
          },
          "hoverlabel": {
           "align": "left"
          },
          "hovermode": "closest",
          "mapbox": {
           "style": "light"
          },
          "paper_bgcolor": "white",
          "plot_bgcolor": "#E5ECF6",
          "polar": {
           "angularaxis": {
            "gridcolor": "white",
            "linecolor": "white",
            "ticks": ""
           },
           "bgcolor": "#E5ECF6",
           "radialaxis": {
            "gridcolor": "white",
            "linecolor": "white",
            "ticks": ""
           }
          },
          "scene": {
           "xaxis": {
            "backgroundcolor": "#E5ECF6",
            "gridcolor": "white",
            "gridwidth": 2,
            "linecolor": "white",
            "showbackground": true,
            "ticks": "",
            "zerolinecolor": "white"
           },
           "yaxis": {
            "backgroundcolor": "#E5ECF6",
            "gridcolor": "white",
            "gridwidth": 2,
            "linecolor": "white",
            "showbackground": true,
            "ticks": "",
            "zerolinecolor": "white"
           },
           "zaxis": {
            "backgroundcolor": "#E5ECF6",
            "gridcolor": "white",
            "gridwidth": 2,
            "linecolor": "white",
            "showbackground": true,
            "ticks": "",
            "zerolinecolor": "white"
           }
          },
          "shapedefaults": {
           "line": {
            "color": "#2a3f5f"
           }
          },
          "ternary": {
           "aaxis": {
            "gridcolor": "white",
            "linecolor": "white",
            "ticks": ""
           },
           "baxis": {
            "gridcolor": "white",
            "linecolor": "white",
            "ticks": ""
           },
           "bgcolor": "#E5ECF6",
           "caxis": {
            "gridcolor": "white",
            "linecolor": "white",
            "ticks": ""
           }
          },
          "title": {
           "x": 0.05
          },
          "xaxis": {
           "automargin": true,
           "gridcolor": "white",
           "linecolor": "white",
           "ticks": "",
           "title": {
            "standoff": 15
           },
           "zerolinecolor": "white",
           "zerolinewidth": 2
          },
          "yaxis": {
           "automargin": true,
           "gridcolor": "white",
           "linecolor": "white",
           "ticks": "",
           "title": {
            "standoff": 15
           },
           "zerolinecolor": "white",
           "zerolinewidth": 2
          }
         }
        },
        "xaxis": {
         "fixedrange": true,
         "range": [
          "2004-01-01",
          "2020-06-30"
         ],
         "showgrid": false,
         "title": {
          "text": "Year"
         }
        },
        "yaxis": {
         "fixedrange": true,
         "title": {
          "text": "Sea Level (m) Relative to OD Malin"
         }
        }
       }
      },
      "text/html": [
       "<div>                            <div id=\"8b08dfa8-0db5-447e-ae94-fa4cd16c69c9\" class=\"plotly-graph-div\" style=\"height:450px; width:100%;\"></div>            <script type=\"text/javascript\">                require([\"plotly\"], function(Plotly) {                    window.PLOTLYENV=window.PLOTLYENV || {};                                    if (document.getElementById(\"8b08dfa8-0db5-447e-ae94-fa4cd16c69c9\")) {                    Plotly.newPlot(                        \"8b08dfa8-0db5-447e-ae94-fa4cd16c69c9\",                        [{\"connectgaps\": false, \"hovertemplate\": \"%{x}<br><b>Monthly Average</b><br>Mean Sea Level: %{y:.2f} m<extra></extra>\", \"line\": {\"color\": \"#ffbf65\", \"shape\": \"spline\", \"width\": 2}, \"mode\": \"lines\", \"name\": \"Howth Harbour\", \"type\": \"scatter\", \"x\": [\"2006-11-01\", \"2006-12-01\", \"2007-01-01\", \"2007-02-01\", \"2007-03-01\", \"2007-04-01\", \"2007-05-01\", \"2007-06-01\", \"2007-07-01\", \"2007-08-01\", \"2007-09-01\", \"2007-10-01\", \"2007-11-01\", \"2007-12-01\", \"2008-01-01\", \"2008-02-01\", \"2008-03-01\", \"2008-04-01\", \"2008-05-01\", \"2008-06-01\", \"2008-07-01\", \"2008-08-01\", \"2008-09-01\", \"2008-10-01\", \"2008-11-01\", \"2008-12-01\", \"2009-01-01\", \"2009-02-01\", \"2009-03-01\", \"2009-04-01\", \"2009-05-01\", \"2009-06-01\", \"2009-07-01\", \"2009-08-01\", \"2009-09-01\", \"2009-10-01\", \"2009-11-01\", \"2009-12-01\", \"2010-01-01\", \"2010-02-01\", \"2010-03-01\", \"2010-04-01\", \"2010-05-01\", \"2010-06-01\", \"2010-07-01\", \"2010-08-01\", \"2010-09-01\", \"2010-10-01\", \"2010-11-01\", \"2010-12-01\", \"2011-01-01\", \"2011-02-01\", \"2011-03-01\", \"2011-04-01\", \"2011-05-01\", \"2011-06-01\", \"2011-07-01\", \"2011-08-01\", \"2011-09-01\", \"2011-10-01\", \"2011-11-01\", \"2011-12-01\", \"2012-01-01\", \"2012-02-01\", \"2012-03-01\", \"2012-04-01\", \"2012-05-01\", \"2012-06-01\", \"2012-07-01\", \"2012-08-01\", \"2012-09-01\", \"2012-10-01\", \"2012-11-01\", \"2012-12-01\", \"2013-01-01\", \"2013-02-01\", \"2013-03-01\", \"2013-04-01\", \"2013-05-01\", \"2013-06-01\", \"2013-07-01\", \"2013-08-01\", \"2013-09-01\", \"2013-10-01\", \"2013-11-01\", \"2013-12-01\", \"2014-01-01\", \"2014-02-01\", \"2014-03-01\", \"2014-04-01\", \"2014-05-01\", \"2014-06-01\", \"2014-07-01\", \"2014-08-01\", \"2014-09-01\", \"2014-10-01\", \"2014-11-01\", \"2014-12-01\", \"2015-01-01\", \"2015-02-01\", \"2015-03-01\", \"2015-04-01\", \"2015-05-01\", \"2015-06-01\", \"2015-07-01\", \"2015-08-01\", \"2015-09-01\", \"2015-10-01\", \"2015-11-01\", \"2015-12-01\", \"2016-01-01\", \"2016-02-01\", \"2016-03-01\", \"2016-04-01\", \"2016-05-01\", \"2016-06-01\", \"2016-07-01\", \"2016-08-01\", \"2016-09-01\", \"2016-10-01\", \"2016-11-01\", \"2016-12-01\", \"2017-01-01\", \"2017-02-01\", \"2017-03-01\", \"2017-04-01\", \"2017-05-01\", \"2017-06-01\", \"2017-07-01\", \"2017-08-01\", \"2017-09-01\", \"2017-10-01\", \"2017-11-01\", \"2017-12-01\", \"2018-01-01\", \"2018-02-01\", \"2018-03-01\", \"2018-04-01\", \"2018-05-01\", \"2018-06-01\", \"2018-07-01\", \"2018-08-01\", \"2018-09-01\", \"2018-10-01\", \"2018-11-01\", \"2018-12-01\", \"2019-01-01\", \"2019-02-01\", \"2019-03-01\", \"2019-04-01\", \"2019-05-01\", \"2019-06-01\", \"2019-07-01\", \"2019-08-01\", \"2019-09-01\", \"2019-10-01\", \"2019-11-01\", \"2019-12-01\", \"2020-01-01\", \"2020-02-01\", \"2020-03-01\", \"2020-04-01\", \"2020-05-01\", \"2020-06-01\", \"2020-07-01\", \"2020-08-01\", \"2020-09-01\", \"2020-10-01\", \"2020-11-01\", \"2020-12-01\"], \"y\": [0.1766062052505967, 0.0081459948320411, -0.0258138592462515, -0.0015156040017918, -0.1549730021598273, -0.2364628450106151, -0.1083795107446952, -0.056709197980931, -0.0558893547950765, -0.1229991771804715, -0.1393207282913167, -0.0544246112237998, -0.1074885081487669, -0.0342097469036079, 0.0614929006085194, -0.0546827794561932, -0.0909581482976719, -0.070620458677108, -0.1015964855366317, -0.0920321209587512, -0.0379563644164758, -0.0195229214391591, -0.0594756437021572, 0.0102008078632019, -0.052898817638058, -0.0851885314308791, 0.0556935999999997, -0.1999689591761677, -0.1268934008097166, -0.0941748603351955, -0.1085992855217042, -0.0886019228089727, -0.0157225093849263, -0.0173227315753887, -0.1009271488178024, 0.0183294268374915, 0.1565104105775925, 0.0839074264110182, -0.0683448285284874, 0.0069233432835819, -0.0775251110811897, -0.1460856045797254, -0.1692646122724211, -0.1263181286549708, -0.0664377858488026, -0.0741440614058711, -0.0137722353595771, 0.0658923004442047, 0.0629288600891859, -0.035206196955409, -0.0667794450431034, 0.0077404726293747, -0.177806354786371, -0.1213554394762496, -0.0664041498248452, -0.0770942535132883, -0.0965969141625117, -0.0485041475895499, 0.0257018528838119, 0.0301578611111111, 0.0852777375817446, 0.0273418998923576, -0.0816466783452365, -0.2468758094689885, -0.2115569023569025, -0.0711607515657619, -0.1019477370689656, -0.0291913709116214, -0.068792778226893, 0.0089855853428532, -0.0217844228094575, 0.0620845677349853, 0.101383052734104, 0.0882920258620688, 0.0306185289767378, -0.0985897244973939, 0.0194729057415624, -0.0384533073929961, -0.12319801048528, -0.1417921246695425, -0.1016785570063262, -0.0584575974113525, -0.0657067334446298, 0.094541784416633, -0.0702363737486096, 0.125306698950767, 0.1308968489092375, 0.1260909768829231, -0.1308394995291267, -0.0823324993049764, -0.1267488215488215, -0.1375083565459606, -0.0969073275862073, -0.0537094385350749, -0.0696560367636819, 0.1044564047362756, 0.1290576789437111, -0.0622265625, -0.0362745890595526, -0.1792761394101873, -0.1762171982236572, -0.174383085269162, -0.0887602748955667, -0.1414234083958856, -0.0602305514358905, -0.0235645965243163, -0.0717256267409469, 0.0078564683663833, 0.0710325180655919, 0.1831006187785848, 0.099307423345885, -0.0088010425716766, -0.1605572755417957, -0.0883743704532735, -0.0799865192774332, -0.0944370308590494, -0.0792979382832504, -0.067436759956943, -0.0010885583205894, -0.0574949494949497, -0.0543865756858376, -0.0150181573638197, -0.1069920560118485, -0.0089956787364029, -0.0882436793975256, -0.1795576868021755, -0.0524206511374472, -0.030570474467789, -0.0463484583277233, -0.0389888094917081, -0.0031010985954665, 0.0319109736417429, -0.0399276270006959, -0.0506763479897811, 0.0104263618022864, -0.1569286992840104, -0.0125258945386065, -0.0977645131086144, -0.1964810865416993, -0.1924151118321937, -0.1633153638814019, -0.1240737420150171, -0.1096542878084535, -0.0791917040358744, 0.0727379158456012, -0.0125326519023283, null, null, null, null, null, null, null, null, null, null, null, null, null, null, null, null, null, null, null, null, null, null, null, null]}],                        {\"font\": {\"color\": \"#7f7f7f\", \"family\": \"Arial\"}, \"height\": 450, \"hovermode\": \"closest\", \"legend\": {\"bgcolor\": \"rgba(0,0,0,0)\", \"itemclick\": false, \"itemdoubleclick\": false, \"orientation\": \"h\"}, \"margin\": {\"b\": 0, \"l\": 0, \"r\": 0, \"t\": 0}, \"paper_bgcolor\": \"rgba(0,0,0,0)\", \"plot_bgcolor\": \"#f7fbfd\", \"template\": {\"data\": {\"bar\": [{\"error_x\": {\"color\": \"#2a3f5f\"}, \"error_y\": {\"color\": \"#2a3f5f\"}, \"marker\": {\"line\": {\"color\": \"#E5ECF6\", \"width\": 0.5}}, \"type\": \"bar\"}], \"barpolar\": [{\"marker\": {\"line\": {\"color\": \"#E5ECF6\", \"width\": 0.5}}, \"type\": \"barpolar\"}], \"carpet\": [{\"aaxis\": {\"endlinecolor\": \"#2a3f5f\", \"gridcolor\": \"white\", \"linecolor\": \"white\", \"minorgridcolor\": \"white\", \"startlinecolor\": \"#2a3f5f\"}, \"baxis\": {\"endlinecolor\": \"#2a3f5f\", \"gridcolor\": \"white\", \"linecolor\": \"white\", \"minorgridcolor\": \"white\", \"startlinecolor\": \"#2a3f5f\"}, \"type\": \"carpet\"}], \"choropleth\": [{\"colorbar\": {\"outlinewidth\": 0, \"ticks\": \"\"}, \"type\": \"choropleth\"}], \"contour\": [{\"colorbar\": {\"outlinewidth\": 0, \"ticks\": \"\"}, \"colorscale\": [[0.0, \"#0d0887\"], [0.1111111111111111, \"#46039f\"], [0.2222222222222222, \"#7201a8\"], [0.3333333333333333, \"#9c179e\"], [0.4444444444444444, \"#bd3786\"], [0.5555555555555556, \"#d8576b\"], [0.6666666666666666, \"#ed7953\"], [0.7777777777777778, \"#fb9f3a\"], [0.8888888888888888, \"#fdca26\"], [1.0, \"#f0f921\"]], \"type\": \"contour\"}], \"contourcarpet\": [{\"colorbar\": {\"outlinewidth\": 0, \"ticks\": \"\"}, \"type\": \"contourcarpet\"}], \"heatmap\": [{\"colorbar\": {\"outlinewidth\": 0, \"ticks\": \"\"}, \"colorscale\": [[0.0, \"#0d0887\"], [0.1111111111111111, \"#46039f\"], [0.2222222222222222, \"#7201a8\"], [0.3333333333333333, \"#9c179e\"], [0.4444444444444444, \"#bd3786\"], [0.5555555555555556, \"#d8576b\"], [0.6666666666666666, \"#ed7953\"], [0.7777777777777778, \"#fb9f3a\"], [0.8888888888888888, \"#fdca26\"], [1.0, \"#f0f921\"]], \"type\": \"heatmap\"}], \"heatmapgl\": [{\"colorbar\": {\"outlinewidth\": 0, \"ticks\": \"\"}, \"colorscale\": [[0.0, \"#0d0887\"], [0.1111111111111111, \"#46039f\"], [0.2222222222222222, \"#7201a8\"], [0.3333333333333333, \"#9c179e\"], [0.4444444444444444, \"#bd3786\"], [0.5555555555555556, \"#d8576b\"], [0.6666666666666666, \"#ed7953\"], [0.7777777777777778, \"#fb9f3a\"], [0.8888888888888888, \"#fdca26\"], [1.0, \"#f0f921\"]], \"type\": \"heatmapgl\"}], \"histogram\": [{\"marker\": {\"colorbar\": {\"outlinewidth\": 0, \"ticks\": \"\"}}, \"type\": \"histogram\"}], \"histogram2d\": [{\"colorbar\": {\"outlinewidth\": 0, \"ticks\": \"\"}, \"colorscale\": [[0.0, \"#0d0887\"], [0.1111111111111111, \"#46039f\"], [0.2222222222222222, \"#7201a8\"], [0.3333333333333333, \"#9c179e\"], [0.4444444444444444, \"#bd3786\"], [0.5555555555555556, \"#d8576b\"], [0.6666666666666666, \"#ed7953\"], [0.7777777777777778, \"#fb9f3a\"], [0.8888888888888888, \"#fdca26\"], [1.0, \"#f0f921\"]], \"type\": \"histogram2d\"}], \"histogram2dcontour\": [{\"colorbar\": {\"outlinewidth\": 0, \"ticks\": \"\"}, \"colorscale\": [[0.0, \"#0d0887\"], [0.1111111111111111, \"#46039f\"], [0.2222222222222222, \"#7201a8\"], [0.3333333333333333, \"#9c179e\"], [0.4444444444444444, \"#bd3786\"], [0.5555555555555556, \"#d8576b\"], [0.6666666666666666, \"#ed7953\"], [0.7777777777777778, \"#fb9f3a\"], [0.8888888888888888, \"#fdca26\"], [1.0, \"#f0f921\"]], \"type\": \"histogram2dcontour\"}], \"mesh3d\": [{\"colorbar\": {\"outlinewidth\": 0, \"ticks\": \"\"}, \"type\": \"mesh3d\"}], \"parcoords\": [{\"line\": {\"colorbar\": {\"outlinewidth\": 0, \"ticks\": \"\"}}, \"type\": \"parcoords\"}], \"pie\": [{\"automargin\": true, \"type\": \"pie\"}], \"scatter\": [{\"marker\": {\"colorbar\": {\"outlinewidth\": 0, \"ticks\": \"\"}}, \"type\": \"scatter\"}], \"scatter3d\": [{\"line\": {\"colorbar\": {\"outlinewidth\": 0, \"ticks\": \"\"}}, \"marker\": {\"colorbar\": {\"outlinewidth\": 0, \"ticks\": \"\"}}, \"type\": \"scatter3d\"}], \"scattercarpet\": [{\"marker\": {\"colorbar\": {\"outlinewidth\": 0, \"ticks\": \"\"}}, \"type\": \"scattercarpet\"}], \"scattergeo\": [{\"marker\": {\"colorbar\": {\"outlinewidth\": 0, \"ticks\": \"\"}}, \"type\": \"scattergeo\"}], \"scattergl\": [{\"marker\": {\"colorbar\": {\"outlinewidth\": 0, \"ticks\": \"\"}}, \"type\": \"scattergl\"}], \"scattermapbox\": [{\"marker\": {\"colorbar\": {\"outlinewidth\": 0, \"ticks\": \"\"}}, \"type\": \"scattermapbox\"}], \"scatterpolar\": [{\"marker\": {\"colorbar\": {\"outlinewidth\": 0, \"ticks\": \"\"}}, \"type\": \"scatterpolar\"}], \"scatterpolargl\": [{\"marker\": {\"colorbar\": {\"outlinewidth\": 0, \"ticks\": \"\"}}, \"type\": \"scatterpolargl\"}], \"scatterternary\": [{\"marker\": {\"colorbar\": {\"outlinewidth\": 0, \"ticks\": \"\"}}, \"type\": \"scatterternary\"}], \"surface\": [{\"colorbar\": {\"outlinewidth\": 0, \"ticks\": \"\"}, \"colorscale\": [[0.0, \"#0d0887\"], [0.1111111111111111, \"#46039f\"], [0.2222222222222222, \"#7201a8\"], [0.3333333333333333, \"#9c179e\"], [0.4444444444444444, \"#bd3786\"], [0.5555555555555556, \"#d8576b\"], [0.6666666666666666, \"#ed7953\"], [0.7777777777777778, \"#fb9f3a\"], [0.8888888888888888, \"#fdca26\"], [1.0, \"#f0f921\"]], \"type\": \"surface\"}], \"table\": [{\"cells\": {\"fill\": {\"color\": \"#EBF0F8\"}, \"line\": {\"color\": \"white\"}}, \"header\": {\"fill\": {\"color\": \"#C8D4E3\"}, \"line\": {\"color\": \"white\"}}, \"type\": \"table\"}]}, \"layout\": {\"annotationdefaults\": {\"arrowcolor\": \"#2a3f5f\", \"arrowhead\": 0, \"arrowwidth\": 1}, \"autotypenumbers\": \"strict\", \"coloraxis\": {\"colorbar\": {\"outlinewidth\": 0, \"ticks\": \"\"}}, \"colorscale\": {\"diverging\": [[0, \"#8e0152\"], [0.1, \"#c51b7d\"], [0.2, \"#de77ae\"], [0.3, \"#f1b6da\"], [0.4, \"#fde0ef\"], [0.5, \"#f7f7f7\"], [0.6, \"#e6f5d0\"], [0.7, \"#b8e186\"], [0.8, \"#7fbc41\"], [0.9, \"#4d9221\"], [1, \"#276419\"]], \"sequential\": [[0.0, \"#0d0887\"], [0.1111111111111111, \"#46039f\"], [0.2222222222222222, \"#7201a8\"], [0.3333333333333333, \"#9c179e\"], [0.4444444444444444, \"#bd3786\"], [0.5555555555555556, \"#d8576b\"], [0.6666666666666666, \"#ed7953\"], [0.7777777777777778, \"#fb9f3a\"], [0.8888888888888888, \"#fdca26\"], [1.0, \"#f0f921\"]], \"sequentialminus\": [[0.0, \"#0d0887\"], [0.1111111111111111, \"#46039f\"], [0.2222222222222222, \"#7201a8\"], [0.3333333333333333, \"#9c179e\"], [0.4444444444444444, \"#bd3786\"], [0.5555555555555556, \"#d8576b\"], [0.6666666666666666, \"#ed7953\"], [0.7777777777777778, \"#fb9f3a\"], [0.8888888888888888, \"#fdca26\"], [1.0, \"#f0f921\"]]}, \"colorway\": [\"#636efa\", \"#EF553B\", \"#00cc96\", \"#ab63fa\", \"#FFA15A\", \"#19d3f3\", \"#FF6692\", \"#B6E880\", \"#FF97FF\", \"#FECB52\"], \"font\": {\"color\": \"#2a3f5f\"}, \"geo\": {\"bgcolor\": \"white\", \"lakecolor\": \"white\", \"landcolor\": \"#E5ECF6\", \"showlakes\": true, \"showland\": true, \"subunitcolor\": \"white\"}, \"hoverlabel\": {\"align\": \"left\"}, \"hovermode\": \"closest\", \"mapbox\": {\"style\": \"light\"}, \"paper_bgcolor\": \"white\", \"plot_bgcolor\": \"#E5ECF6\", \"polar\": {\"angularaxis\": {\"gridcolor\": \"white\", \"linecolor\": \"white\", \"ticks\": \"\"}, \"bgcolor\": \"#E5ECF6\", \"radialaxis\": {\"gridcolor\": \"white\", \"linecolor\": \"white\", \"ticks\": \"\"}}, \"scene\": {\"xaxis\": {\"backgroundcolor\": \"#E5ECF6\", \"gridcolor\": \"white\", \"gridwidth\": 2, \"linecolor\": \"white\", \"showbackground\": true, \"ticks\": \"\", \"zerolinecolor\": \"white\"}, \"yaxis\": {\"backgroundcolor\": \"#E5ECF6\", \"gridcolor\": \"white\", \"gridwidth\": 2, \"linecolor\": \"white\", \"showbackground\": true, \"ticks\": \"\", \"zerolinecolor\": \"white\"}, \"zaxis\": {\"backgroundcolor\": \"#E5ECF6\", \"gridcolor\": \"white\", \"gridwidth\": 2, \"linecolor\": \"white\", \"showbackground\": true, \"ticks\": \"\", \"zerolinecolor\": \"white\"}}, \"shapedefaults\": {\"line\": {\"color\": \"#2a3f5f\"}}, \"ternary\": {\"aaxis\": {\"gridcolor\": \"white\", \"linecolor\": \"white\", \"ticks\": \"\"}, \"baxis\": {\"gridcolor\": \"white\", \"linecolor\": \"white\", \"ticks\": \"\"}, \"bgcolor\": \"#E5ECF6\", \"caxis\": {\"gridcolor\": \"white\", \"linecolor\": \"white\", \"ticks\": \"\"}}, \"title\": {\"x\": 0.05}, \"xaxis\": {\"automargin\": true, \"gridcolor\": \"white\", \"linecolor\": \"white\", \"ticks\": \"\", \"title\": {\"standoff\": 15}, \"zerolinecolor\": \"white\", \"zerolinewidth\": 2}, \"yaxis\": {\"automargin\": true, \"gridcolor\": \"white\", \"linecolor\": \"white\", \"ticks\": \"\", \"title\": {\"standoff\": 15}, \"zerolinecolor\": \"white\", \"zerolinewidth\": 2}}}, \"xaxis\": {\"fixedrange\": true, \"range\": [\"2004-01-01\", \"2020-06-30\"], \"showgrid\": false, \"title\": {\"text\": \"Year\"}}, \"yaxis\": {\"fixedrange\": true, \"title\": {\"text\": \"Sea Level (m) Relative to OD Malin\"}}},                        {\"responsive\": true}                    ).then(function(){\n",
       "                            \n",
       "var gd = document.getElementById('8b08dfa8-0db5-447e-ae94-fa4cd16c69c9');\n",
       "var x = new MutationObserver(function (mutations, observer) {{\n",
       "        var display = window.getComputedStyle(gd).display;\n",
       "        if (!display || display === 'none') {{\n",
       "            console.log([gd, 'removed!']);\n",
       "            Plotly.purge(gd);\n",
       "            observer.disconnect();\n",
       "        }}\n",
       "}});\n",
       "\n",
       "// Listen for the removal of the full notebook cells\n",
       "var notebookContainer = gd.closest('#notebook-container');\n",
       "if (notebookContainer) {{\n",
       "    x.observe(notebookContainer, {childList: true});\n",
       "}}\n",
       "\n",
       "// Listen for the clearing of the current output cell\n",
       "var outputEl = gd.closest('.output');\n",
       "if (outputEl) {{\n",
       "    x.observe(outputEl, {childList: true});\n",
       "}}\n",
       "\n",
       "                        })                };                });            </script>        </div>"
      ]
     },
     "metadata": {},
     "output_type": "display_data"
    }
   ],
   "source": [
    "\"\"\"\n",
    "Figure 3.7 chart\n",
    "\"\"\"\n",
    "\n",
    "data_path = DATA_PATH+'Oceanic_Domain/3.4SeaLevel/Figure3.7/'\n",
    "data_csv = data_path + 'Figure3.7_data.csv'\n",
    "df = pd.read_csv(data_csv, index_col=0)\n",
    "\n",
    "malin_df = df.loc[(df['location'] == 'Malin Head')]\n",
    "ballyglass_df = df.loc[(df['location'] == 'Ballyglass')]\n",
    "castletownbere_df = df.loc[(df['location'] == 'Castletownbere')]\n",
    "howth_df = df.loc[(df['location'] == 'Howth Harbour')]\n",
    "\n",
    "\n",
    "malin_trace = go.Scatter(x=malin_df[\"datetime\"],\n",
    "                 y=malin_df[\"mean__monthly__sea_surface_height\"],\n",
    "                 name='Malin Head',\n",
    "                 connectgaps=False,\n",
    "                 mode='lines',  # 'line' is default\n",
    "                 line_shape='spline',\n",
    "                 line=dict(\n",
    "                        color=\"#00a5e3\",\n",
    "                        width=2),\n",
    "                  hovertemplate='%{x}<br>' +\n",
    "                        '<b>Monthly Average</b><br>' +\n",
    "                        'Mean Sea Level: %{y:.2f} m<extra></extra>'\n",
    "                        )\n",
    "\n",
    "figure_3_7_1 =go.Figure(data=[malin_trace], layout=TIMESERIES_LAYOUT)\n",
    "figure_3_7_1.update_layout(\n",
    "    yaxis=dict(title='Sea Level (m) Relative to OD Malin'),\n",
    "    xaxis=dict(\n",
    "        title='Year',\n",
    "        range=['2004-01-01', '2020-06-30']\n",
    "    ))\n",
    "\n",
    "ballyglass_trace = go.Scatter(x=ballyglass_df[\"datetime\"],\n",
    "                 y=ballyglass_df[\"mean__monthly__sea_surface_height\"],\n",
    "                 name='Ballyglass',\n",
    "                 connectgaps=False,\n",
    "                 mode='lines',  # 'line' is default\n",
    "                 line_shape='spline',\n",
    "                 line=dict(\n",
    "                        color=\"#ff5768\",\n",
    "                        width=2),\n",
    "                  hovertemplate='%{x}<br>' +\n",
    "                        '<b>Monthly Average</b><br>' +\n",
    "                        'Mean Sea Level: %{y:.2f} m<extra></extra>'\n",
    "                        )\n",
    "\n",
    "figure_3_7_2 =go.Figure(data=[ballyglass_trace], layout=TIMESERIES_LAYOUT)\n",
    "figure_3_7_2.update_layout(\n",
    "    yaxis=dict(title='Sea Level (m) Relative to OD Malin'),\n",
    "    xaxis=dict(\n",
    "        title='Year',\n",
    "        range=['2004-01-01', '2020-06-30']\n",
    "    ))\n",
    "\n",
    "castletownbere_trace = go.Scatter(x=castletownbere_df[\"datetime\"],\n",
    "                 y=castletownbere_df[\"mean__monthly__sea_surface_height\"],\n",
    "                 name='Castletownbere',\n",
    "                 connectgaps=False,\n",
    "                 mode='lines',  # 'line' is default\n",
    "                 line_shape='spline',\n",
    "                 line=dict(\n",
    "                        color=\"#ff96c5\",\n",
    "                        width=2),\n",
    "                  hovertemplate='%{x}<br>' +\n",
    "                        '<b>Monthly Average</b><br>' +\n",
    "                        'Mean Sea Level: %{y:.2f} m<extra></extra>'\n",
    "                        )\n",
    "\n",
    "figure_3_7_3 =go.Figure(data=[castletownbere_trace], layout=TIMESERIES_LAYOUT)\n",
    "figure_3_7_3.update_layout(\n",
    "    yaxis=dict(title='Sea Level (m) Relative to OD Malin'),\n",
    "    xaxis=dict(\n",
    "        title='Year',\n",
    "        range=['2004-01-01', '2020-06-30']\n",
    "    ))\n",
    "\n",
    "howth_trace = go.Scatter(x=howth_df[\"datetime\"],\n",
    "                 y=howth_df[\"mean__monthly__sea_surface_height\"],\n",
    "                 name='Howth Harbour',\n",
    "                 connectgaps=False,\n",
    "                 mode='lines',  # 'line' is default\n",
    "                 line_shape='spline',\n",
    "                 line=dict(\n",
    "                        color=\"#ffbf65\",\n",
    "                        width=2),\n",
    "                  hovertemplate='%{x}<br>' +\n",
    "                        '<b>Monthly Average</b><br>' +\n",
    "                        'Mean Sea Level: %{y:.2f} m<extra></extra>'\n",
    "                        )\n",
    "\n",
    "figure_3_7_4 =go.Figure(data=[howth_trace], layout=TIMESERIES_LAYOUT)\n",
    "figure_3_7_4.update_layout(\n",
    "    yaxis=dict(title='Sea Level (m) Relative to OD Malin'),\n",
    "    xaxis=dict(\n",
    "        title='Year',\n",
    "        range=['2004-01-01', '2020-06-30']\n",
    "    ))\n"
   ]
  },
  {
   "cell_type": "code",
   "execution_count": null,
   "metadata": {},
   "outputs": [],
   "source": [
    "\"\"\"\n",
    "Figure 3.8 - Dublin port\n",
    "\"\"\"\n",
    "\n",
    "data_path = DATA_PATH+'Oceanic_Domain/3.4SeaLevel/Figure3.8/'\n",
    "data_csv = data_path + 'Figure3.8_data.csv'\n",
    "\"\"\"\n",
    "Tidy data for charts\n",
    "\"\"\"\n",
    "xls = pd.ExcelFile(\n",
    "    data_path+'dub_all_1938_to_2016_v2.xlsx')\n",
    "original_df = pd.read_excel(xls, 'dub_all_1938_to_2016')\n",
    "original_df\n",
    "columns_dict = {'datetime':'Unnamed: 3',\n",
    "               'mean__monthly__sea_surface_height':'Msl_OD_Malin',\n",
    "                  }\n",
    "monthly_df = map_columns(columns_dict, original_df)\n",
    "monthly_df.dropna(inplace=True)\n",
    "monthly_df = monthly_df.set_index('datetime')\n",
    "columns_dict = {'datetime':'Unnamed: 10',\n",
    "               'mean__annual__sea_surface_height':'Unnamed: 11',\n",
    "                  }\n",
    "annual_df = map_columns(columns_dict, original_df)\n",
    "annual_df.dropna(inplace=True)\n",
    "annual_df = annual_df.set_index('datetime')\n",
    "df = pd.concat([monthly_df,annual_df], axis=1)\n",
    "df['location']='Dublin Port'\n",
    "# df['datetime'] = pd.to_datetime(df['datetime'])\n",
    "df.to_csv(data_csv)"
   ]
  },
  {
   "cell_type": "code",
   "execution_count": 40,
   "metadata": {},
   "outputs": [
    {
     "data": {
      "application/vnd.plotly.v1+json": {
       "config": {
        "plotlyServerURL": "https://plot.ly"
       },
       "data": [
        {
         "hovertemplate": "%{x}<br><b>Monthly Average</b><br>Mean Sea Level: %{y:.2f} m<extra></extra>",
         "marker": {
          "color": "#E1AF00",
          "opacity": 0.5,
          "size": 5
         },
         "mode": "markers",
         "name": "Monthly Average",
         "type": "scatter",
         "x": [
          "1938-01-01",
          "1938-02-01",
          "1938-03-01",
          "1938-04-01",
          "1938-05-01",
          "1938-06-01",
          "1938-07-01",
          "1938-08-01",
          "1938-09-01",
          "1938-10-01",
          "1938-11-01",
          "1938-12-01",
          "1939-01-01",
          "1939-02-01",
          "1939-03-01",
          "1939-04-01",
          "1939-05-01",
          "1939-06-01",
          "1939-07-01",
          "1939-08-01",
          "1939-09-01",
          "1939-10-01",
          "1939-11-01",
          "1939-12-01",
          "1940-01-01",
          "1940-02-01",
          "1940-03-01",
          "1940-04-01",
          "1940-05-01",
          "1940-06-01",
          "1940-07-01",
          "1940-08-01",
          "1940-09-01",
          "1940-10-01",
          "1940-11-01",
          "1940-12-01",
          "1941-01-01",
          "1941-02-01",
          "1941-03-01",
          "1941-04-01",
          "1941-05-01",
          "1941-06-01",
          "1941-07-01",
          "1941-08-01",
          "1941-09-01",
          "1941-10-01",
          "1941-11-01",
          "1941-12-01",
          "1942-01-01",
          "1942-02-01",
          "1942-03-01",
          "1942-04-01",
          "1942-05-01",
          "1942-06-01",
          "1942-07-01",
          "1942-08-01",
          "1942-09-01",
          "1942-10-01",
          "1942-11-01",
          "1942-12-01",
          "1943-01-01",
          "1943-02-01",
          "1943-03-01",
          "1943-04-01",
          "1943-05-01",
          "1943-06-01",
          "1943-07-01",
          "1943-08-01",
          "1943-09-01",
          "1943-10-01",
          "1943-11-01",
          "1943-12-01",
          "1944-01-01",
          "1944-02-01",
          "1944-03-01",
          "1944-04-01",
          "1944-05-01",
          "1944-06-01",
          "1944-07-01",
          "1944-08-01",
          "1944-09-01",
          "1944-10-01",
          "1944-11-01",
          "1944-12-01",
          "1945-01-01",
          "1945-02-01",
          "1945-03-01",
          "1945-04-01",
          "1945-05-01",
          "1945-06-01",
          "1945-07-01",
          "1945-08-01",
          "1945-09-01",
          "1945-10-01",
          "1945-11-01",
          "1945-12-01",
          "1946-01-01",
          "1946-02-01",
          "1946-03-01",
          "1946-04-01",
          "1946-05-01",
          "1946-06-01",
          "1946-07-01",
          "1946-08-01",
          "1946-09-01",
          "1946-10-01",
          "1946-11-01",
          "1946-12-01",
          "1947-01-01",
          "1947-02-01",
          "1947-03-01",
          "1947-04-01",
          "1947-05-01",
          "1947-06-01",
          "1947-07-01",
          "1947-08-01",
          "1947-09-01",
          "1947-10-01",
          "1947-11-01",
          "1947-12-01",
          "1948-01-01",
          "1948-02-01",
          "1948-03-01",
          "1948-04-01",
          "1948-05-01",
          "1948-06-01",
          "1948-07-01",
          "1948-08-01",
          "1948-09-01",
          "1948-10-01",
          "1948-11-01",
          "1948-12-01",
          "1949-01-01",
          "1949-02-01",
          "1949-03-01",
          "1949-04-01",
          "1949-05-01",
          "1949-06-01",
          "1949-07-01",
          "1949-08-01",
          "1949-09-01",
          "1949-10-01",
          "1949-11-01",
          "1949-12-01",
          "1950-01-01",
          "1950-02-01",
          "1950-03-01",
          "1950-04-01",
          "1950-05-01",
          "1950-06-01",
          "1950-07-01",
          "1950-08-01",
          "1950-09-01",
          "1950-10-01",
          "1950-11-01",
          "1950-12-01",
          "1951-01-01",
          "1951-02-01",
          "1951-03-01",
          "1951-04-01",
          "1951-05-01",
          "1951-06-01",
          "1951-07-01",
          "1951-08-01",
          "1951-09-01",
          "1951-10-01",
          "1951-11-01",
          "1951-12-01",
          "1952-01-01",
          "1952-02-01",
          "1952-03-01",
          "1952-04-01",
          "1952-05-01",
          "1952-06-01",
          "1952-07-01",
          "1952-08-01",
          "1952-09-01",
          "1952-10-01",
          "1952-11-01",
          "1952-12-01",
          "1953-01-01",
          "1953-02-01",
          "1953-03-01",
          "1953-04-01",
          "1953-05-01",
          "1953-06-01",
          "1953-07-01",
          "1953-08-01",
          "1953-09-01",
          "1953-10-01",
          "1953-11-01",
          "1953-12-01",
          "1954-01-01",
          "1954-02-01",
          "1954-03-01",
          "1954-04-01",
          "1954-05-01",
          "1954-06-01",
          "1954-07-01",
          "1954-08-01",
          "1954-09-01",
          "1954-10-01",
          "1954-11-01",
          "1954-12-01",
          "1955-01-01",
          "1955-02-01",
          "1955-03-01",
          "1955-04-01",
          "1955-05-01",
          "1955-06-01",
          "1955-07-01",
          "1955-08-01",
          "1955-09-01",
          "1955-10-01",
          "1955-11-01",
          "1955-12-01",
          "1956-01-01",
          "1956-02-01",
          "1956-03-01",
          "1956-04-01",
          "1956-05-01",
          "1956-06-01",
          "1956-07-01",
          "1956-08-01",
          "1956-09-01",
          "1956-10-01",
          "1956-11-01",
          "1956-12-01",
          "1957-01-01",
          "1957-02-01",
          "1957-03-01",
          "1957-04-01",
          "1957-05-01",
          "1957-06-01",
          "1957-07-01",
          "1957-08-01",
          "1957-09-01",
          "1957-10-01",
          "1957-11-01",
          "1957-12-01",
          "1958-01-01",
          "1958-02-01",
          "1958-03-01",
          "1958-04-01",
          "1958-05-01",
          "1958-06-01",
          "1958-07-01",
          "1958-08-01",
          "1958-09-01",
          "1958-10-01",
          "1958-11-01",
          "1958-12-01",
          "1959-01-01",
          "1959-02-01",
          "1959-03-01",
          "1959-04-01",
          "1959-05-01",
          "1959-06-01",
          "1959-07-01",
          "1959-08-01",
          "1959-09-01",
          "1959-10-01",
          "1959-11-01",
          "1959-12-01",
          "1960-01-01",
          "1960-02-01",
          "1960-03-01",
          "1960-04-01",
          "1960-05-01",
          "1960-06-01",
          "1960-07-01",
          "1960-08-01",
          "1960-09-01",
          "1960-10-01",
          "1960-11-01",
          "1960-12-01",
          "1961-01-01",
          "1961-02-01",
          "1961-03-01",
          "1961-04-01",
          "1961-05-01",
          "1961-06-01",
          "1961-07-01",
          "1961-08-01",
          "1961-09-01",
          "1961-10-01",
          "1961-11-01",
          "1961-12-01",
          "1962-01-01",
          "1962-02-01",
          "1962-03-01",
          "1962-04-01",
          "1962-05-01",
          "1962-06-01",
          "1962-07-01",
          "1962-08-01",
          "1962-09-01",
          "1962-10-01",
          "1962-11-01",
          "1962-12-01",
          "1963-01-01",
          "1963-02-01",
          "1963-03-01",
          "1963-04-01",
          "1963-05-01",
          "1963-06-01",
          "1963-07-01",
          "1963-08-01",
          "1963-09-01",
          "1963-10-01",
          "1963-11-01",
          "1963-12-01",
          "1964-01-01",
          "1964-02-01",
          "1964-03-01",
          "1964-04-01",
          "1964-05-01",
          "1964-06-01",
          "1964-07-01",
          "1964-08-01",
          "1964-09-01",
          "1964-10-01",
          "1964-11-01",
          "1964-12-01",
          "1965-01-01",
          "1965-02-01",
          "1965-03-01",
          "1965-04-01",
          "1965-05-01",
          "1965-06-01",
          "1965-07-01",
          "1965-08-01",
          "1965-09-01",
          "1965-10-01",
          "1965-11-01",
          "1965-12-01",
          "1966-01-01",
          "1966-02-01",
          "1966-03-01",
          "1966-04-01",
          "1966-05-01",
          "1966-06-01",
          "1966-07-01",
          "1966-08-01",
          "1966-09-01",
          "1966-10-01",
          "1966-11-01",
          "1966-12-01",
          "1967-01-01",
          "1967-02-01",
          "1967-03-01",
          "1967-04-01",
          "1967-05-01",
          "1967-06-01",
          "1967-07-01",
          "1967-08-01",
          "1967-09-01",
          "1967-10-01",
          "1967-11-01",
          "1967-12-01",
          "1968-01-01",
          "1968-02-01",
          "1968-03-01",
          "1968-04-01",
          "1968-05-01",
          "1968-06-01",
          "1968-07-01",
          "1968-08-01",
          "1968-09-01",
          "1968-10-01",
          "1968-11-01",
          "1968-12-01",
          "1969-01-01",
          "1969-02-01",
          "1969-03-01",
          "1969-04-01",
          "1969-05-01",
          "1969-06-01",
          "1969-07-01",
          "1969-08-01",
          "1969-09-01",
          "1969-10-01",
          "1969-11-01",
          "1969-12-01",
          "1970-01-01",
          "1970-02-01",
          "1970-03-01",
          "1970-04-01",
          "1970-05-01",
          "1970-06-01",
          "1970-07-01",
          "1970-08-01",
          "1970-09-01",
          "1970-10-01",
          "1970-11-01",
          "1970-12-01",
          "1971-01-01",
          "1971-02-01",
          "1971-03-01",
          "1971-04-01",
          "1971-05-01",
          "1971-06-01",
          "1971-07-01",
          "1971-08-01",
          "1971-09-01",
          "1971-10-01",
          "1971-11-01",
          "1971-12-01",
          "1972-01-01",
          "1972-02-01",
          "1972-03-01",
          "1972-04-01",
          "1972-05-01",
          "1972-06-01",
          "1972-07-01",
          "1972-08-01",
          "1972-09-01",
          "1972-10-01",
          "1972-11-01",
          "1972-12-01",
          "1973-01-01",
          "1973-02-01",
          "1973-03-01",
          "1973-04-01",
          "1973-05-01",
          "1973-06-01",
          "1973-07-01",
          "1973-08-01",
          "1973-09-01",
          "1973-10-01",
          "1973-11-01",
          "1973-12-01",
          "1974-01-01",
          "1974-02-01",
          "1974-03-01",
          "1974-04-01",
          "1974-05-01",
          "1974-06-01",
          "1974-07-01",
          "1974-08-01",
          "1974-09-01",
          "1974-10-01",
          "1974-11-01",
          "1974-12-01",
          "1975-01-01",
          "1975-02-01",
          "1975-03-01",
          "1975-04-01",
          "1975-05-01",
          "1975-06-01",
          "1975-07-01",
          "1975-08-01",
          "1975-09-01",
          "1975-10-01",
          "1975-11-01",
          "1975-12-01",
          "1976-01-01",
          "1976-02-01",
          "1976-03-01",
          "1976-04-01",
          "1976-05-01",
          "1976-06-01",
          "1976-07-01",
          "1976-08-01",
          "1976-09-01",
          "1976-10-01",
          "1976-11-01",
          "1976-12-01",
          "1977-01-01",
          "1977-02-01",
          "1977-03-01",
          "1977-04-01",
          "1977-05-01",
          "1977-06-01",
          "1977-07-01",
          "1977-08-01",
          "1977-09-01",
          "1977-10-01",
          "1977-11-01",
          "1977-12-01",
          "1978-01-01",
          "1978-02-01",
          "1978-03-01",
          "1978-04-01",
          "1978-05-01",
          "1978-06-01",
          "1978-07-01",
          "1978-08-01",
          "1978-09-01",
          "1978-10-01",
          "1978-11-01",
          "1978-12-01",
          "1979-01-01",
          "1979-02-01",
          "1979-03-01",
          "1979-04-01",
          "1979-05-01",
          "1979-06-01",
          "1979-07-01",
          "1979-08-01",
          "1979-09-01",
          "1979-10-01",
          "1979-11-01",
          "1979-12-01",
          "1980-01-01",
          "1980-02-01",
          "1980-03-01",
          "1980-04-01",
          "1980-05-01",
          "1980-06-01",
          "1980-07-01",
          "1980-08-01",
          "1980-09-01",
          "1980-10-01",
          "1980-11-01",
          "1980-12-01",
          "1981-01-01",
          "1981-02-01",
          "1981-03-01",
          "1981-04-01",
          "1981-05-01",
          "1981-06-01",
          "1981-07-01",
          "1981-08-01",
          "1981-09-01",
          "1981-10-01",
          "1981-11-01",
          "1981-12-01",
          "1982-01-01",
          "1982-02-01",
          "1982-03-01",
          "1982-04-01",
          "1982-05-01",
          "1982-06-01",
          "1982-07-01",
          "1982-08-01",
          "1982-09-01",
          "1982-10-01",
          "1982-11-01",
          "1982-12-01",
          "1983-01-01",
          "1983-02-01",
          "1983-03-01",
          "1983-04-01",
          "1983-05-01",
          "1983-06-01",
          "1983-07-01",
          "1983-08-01",
          "1983-09-01",
          "1983-10-01",
          "1983-11-01",
          "1983-12-01",
          "1984-01-01",
          "1984-02-01",
          "1984-03-01",
          "1984-04-01",
          "1984-05-01",
          "1984-06-01",
          "1984-07-01",
          "1984-08-01",
          "1984-09-01",
          "1984-10-01",
          "1984-11-01",
          "1984-12-01",
          "1985-01-01",
          "1985-02-01",
          "1985-03-01",
          "1985-04-01",
          "1985-05-01",
          "1985-06-01",
          "1985-07-01",
          "1985-08-01",
          "1985-09-01",
          "1985-10-01",
          "1985-11-01",
          "1985-12-01",
          "1986-01-01",
          "1986-02-01",
          "1986-03-01",
          "1986-04-01",
          "1986-05-01",
          "1986-06-01",
          "1986-07-01",
          "1986-08-01",
          "1986-09-01",
          "1986-10-01",
          "1986-11-01",
          "1986-12-01",
          "1987-01-01",
          "1987-02-01",
          "1987-03-01",
          "1987-04-01",
          "1987-05-01",
          "1987-06-01",
          "1987-07-01",
          "1987-08-01",
          "1987-09-01",
          "1987-10-01",
          "1987-11-01",
          "1987-12-01",
          "1988-01-01",
          "1988-02-01",
          "1988-03-01",
          "1988-04-01",
          "1988-05-01",
          "1988-06-01",
          "1988-07-01",
          "1988-08-01",
          "1988-09-01",
          "1988-10-01",
          "1988-11-01",
          "1988-12-01",
          "1989-01-01",
          "1989-02-01",
          "1989-03-01",
          "1989-04-01",
          "1989-05-01",
          "1989-06-01",
          "1989-08-01",
          "1989-09-01",
          "1989-10-01",
          "1989-11-01",
          "1989-12-01",
          "1990-01-01",
          "1990-02-01",
          "1990-03-01",
          "1990-04-01",
          "1990-05-01",
          "1990-06-01",
          "1990-07-01",
          "1990-08-01",
          "1990-09-01",
          "1990-10-01",
          "1990-12-01",
          "1991-01-01",
          "1991-02-01",
          "1991-03-01",
          "1991-04-01",
          "1991-05-01",
          "1991-06-01",
          "1991-07-01",
          "1991-08-01",
          "1991-09-01",
          "1991-10-01",
          "1991-11-01",
          "1991-12-01",
          "1992-01-01",
          "1992-02-01",
          "1992-03-01",
          "1992-04-01",
          "1992-05-01",
          "1992-06-01",
          "1992-07-01",
          "1992-08-01",
          "1992-09-01",
          "1992-10-01",
          "1992-11-01",
          "1992-12-01",
          "1993-01-01",
          "1993-02-01",
          "1993-03-01",
          "1993-04-01",
          "1993-05-01",
          "1993-06-01",
          "1993-07-01",
          "1993-08-01",
          "1993-09-01",
          "1993-10-01",
          "1993-11-01",
          "1993-12-01",
          "1994-01-01",
          "1994-02-01",
          "1994-03-01",
          "1994-04-01",
          "1994-05-01",
          "1994-06-01",
          "1994-07-01",
          "1994-08-01",
          "1994-09-01",
          "1994-10-01",
          "1994-11-01",
          "1994-12-01",
          "1995-01-01",
          "1995-02-01",
          "1995-04-01",
          "1995-05-01",
          "1995-06-01",
          "1995-07-01",
          "1995-08-01",
          "1995-09-01",
          "1995-10-01",
          "1995-11-01",
          "1995-12-01",
          "1996-01-01",
          "1996-02-01",
          "1996-03-01",
          "1996-04-01",
          "1996-05-01",
          "1996-06-01",
          "1996-07-01",
          "1996-08-01",
          "1996-09-01",
          "1996-10-01",
          "1996-11-01",
          "1996-12-01",
          "1997-01-01",
          "1997-02-01",
          "1997-03-01",
          "1997-04-01",
          "1997-05-01",
          "1997-06-01",
          "1997-07-01",
          "1997-08-01",
          "1997-09-01",
          "1997-11-01",
          "1998-01-01",
          "1998-03-01",
          "1998-04-01",
          "1998-05-01",
          "1998-06-01",
          "1998-08-01",
          "1998-09-01",
          "1998-10-01",
          "1998-11-01",
          "1998-12-01",
          "1999-01-01",
          "1999-02-01",
          "1999-04-01",
          "1999-05-01",
          "1999-06-01",
          "1999-07-01",
          "1999-08-01",
          "1999-09-01",
          "1999-10-01",
          "1999-11-01",
          "1999-12-01",
          "2000-01-01",
          "2000-02-01",
          "2000-03-01",
          "2000-04-01",
          "2000-05-01",
          "2000-06-01",
          "2000-07-01",
          "2000-08-01",
          "2000-09-01",
          "2000-10-01",
          "2000-11-01",
          "2000-12-01",
          "2001-01-01",
          "2001-02-01",
          "2001-03-01",
          "2001-04-01",
          "2001-05-01",
          "2001-06-01",
          "2001-07-01",
          "2001-08-01",
          "2001-09-01",
          "2001-10-01",
          "2001-11-01",
          "2001-12-01",
          "2002-01-01",
          "2002-02-01",
          "2002-03-01",
          "2002-04-01",
          "2002-07-01",
          "2002-09-01",
          "2002-10-01",
          "2002-11-01",
          "2002-12-01",
          "2003-01-01",
          "2003-02-01",
          "2003-03-01",
          "2003-04-01",
          "2003-05-01",
          "2003-06-01",
          "2003-07-01",
          "2003-08-01",
          "2003-09-01",
          "2003-10-01",
          "2003-11-01",
          "2003-12-01",
          "2004-01-01",
          "2004-02-01",
          "2004-03-01",
          "2004-04-01",
          "2004-05-01",
          "2004-06-01",
          "2004-07-01",
          "2004-08-01",
          "2004-09-01",
          "2004-10-01",
          "2004-11-01",
          "2004-12-01",
          "2005-01-01",
          "2005-02-01",
          "2005-03-01",
          "2005-04-01",
          "2005-05-01",
          "2005-06-01",
          "2005-07-01",
          "2005-08-01",
          "2005-09-01",
          "2005-10-01",
          "2005-11-01",
          "2005-12-01",
          "2006-09-01",
          "2006-10-01",
          "2006-11-01",
          "2006-12-01",
          "2007-01-01",
          "2007-02-01",
          "2007-04-01",
          "2007-05-01",
          "2007-06-01",
          "2007-08-01",
          "2007-09-01",
          "2007-10-01",
          "2007-11-01",
          "2007-12-01",
          "2008-01-01",
          "2008-02-01",
          "2008-03-01",
          "2008-04-01",
          "2008-05-01",
          "2008-06-01",
          "2008-07-01",
          "2008-08-01",
          "2008-09-01",
          "2008-10-01",
          "2008-11-01",
          "2008-12-01",
          "2009-01-01",
          "2009-02-01",
          "2009-03-01",
          "2009-04-01",
          "2009-05-01",
          "2009-06-01",
          "2009-07-01",
          "2009-08-01",
          "2009-09-01",
          "2009-10-01",
          "2009-11-01",
          "2009-12-01",
          "2010-01-01",
          "2010-02-01",
          "2010-03-01",
          "2010-04-01",
          "2010-05-01",
          "2010-06-01",
          "2010-07-01",
          "2010-08-01",
          "2010-09-01",
          "2010-10-01",
          "2010-11-01",
          "2010-12-01",
          "2011-01-01",
          "2011-02-01",
          "2011-03-01",
          "2011-04-01",
          "2011-05-01",
          "2011-06-01",
          "2011-07-01",
          "2011-08-01",
          "2011-09-01",
          "2011-10-01",
          "2011-11-01",
          "2011-12-01",
          "2012-01-01",
          "2012-02-01",
          "2012-03-01",
          "2012-04-01",
          "2012-05-01",
          "2012-06-01",
          "2012-07-01",
          "2012-08-01",
          "2012-09-01",
          "2012-10-01",
          "2012-11-01",
          "2012-12-01",
          "2013-01-01",
          "2013-02-01",
          "2013-03-01",
          "2013-04-01",
          "2013-05-01",
          "2013-06-01",
          "2013-07-01",
          "2013-08-01",
          "2013-09-01",
          "2013-10-01",
          "2013-11-01",
          "2013-12-01",
          "2014-01-01",
          "2014-02-01",
          "2014-03-01",
          "2014-04-01",
          "2014-05-01",
          "2014-06-01",
          "2014-07-01",
          "2014-08-01",
          "2014-09-01",
          "2014-10-01",
          "2015-01-01",
          "2015-02-01",
          "2015-03-01",
          "2015-04-01",
          "2015-05-01",
          "2015-06-01",
          "2015-07-01",
          "2015-08-01",
          "2015-10-01",
          "2015-11-01",
          "2015-12-01",
          "2016-01-01",
          "2016-02-01",
          "2016-03-01",
          "2016-04-01",
          "2016-05-01",
          "2016-06-01",
          "2016-07-01",
          "2016-08-01",
          "2016-09-01",
          "2016-10-01",
          "2016-11-01",
          "2016-12-01"
         ],
         "y": [
          -0.153,
          -0.2930000000000001,
          -0.165,
          -0.318,
          -0.33,
          -0.266,
          -0.266,
          -0.266,
          -0.2290000000000001,
          -0.153,
          -0.0250000000000003,
          -0.1260000000000003,
          0.0269999999999996,
          -0.165,
          -0.2630000000000003,
          -0.177,
          -0.217,
          -0.3050000000000001,
          -0.193,
          -0.29,
          -0.2410000000000001,
          -0.129,
          -0.0250000000000003,
          -0.1129999999999999,
          -0.141,
          -0.129,
          -0.177,
          -0.217,
          -0.1900000000000004,
          -0.2630000000000003,
          -0.217,
          -0.3050000000000001,
          -0.2290000000000001,
          -0.0650000000000003,
          -0.1129999999999999,
          -0.318,
          -0.129,
          -0.0250000000000003,
          -0.2410000000000001,
          -0.2410000000000001,
          -0.254,
          -0.2020000000000004,
          -0.1380000000000003,
          -0.1900000000000004,
          -0.266,
          -0.1900000000000004,
          -0.0770000000000004,
          -0.278,
          -0.351,
          -0.4060000000000001,
          -0.2350000000000003,
          -0.2600000000000002,
          -0.153,
          -0.266,
          -0.217,
          -0.1590000000000002,
          -0.1350000000000002,
          -0.0770000000000004,
          -0.2290000000000001,
          -0.0010000000000003,
          -0.04,
          -0.3540000000000001,
          -0.2750000000000003,
          -0.254,
          -0.266,
          -0.2290000000000001,
          -0.177,
          -0.1009999999999999,
          -0.1470000000000002,
          -0.0130000000000003,
          -0.217,
          -0.2350000000000003,
          -0.1990000000000003,
          -0.351,
          -0.33,
          -0.2290000000000001,
          -0.2720000000000002,
          -0.177,
          -0.1590000000000002,
          -0.1710000000000002,
          -0.2110000000000003,
          -0.1990000000000003,
          -0.1009999999999999,
          -0.2230000000000003,
          -0.3450000000000002,
          -0.2290000000000001,
          -0.318,
          -0.2020000000000004,
          -0.129,
          -0.177,
          -0.177,
          -0.2020000000000004,
          -0.177,
          -0.0890000000000004,
          -0.1009999999999999,
          0.012,
          -0.129,
          -0.3050000000000001,
          -0.2110000000000003,
          -0.318,
          -0.1960000000000001,
          -0.153,
          -0.217,
          -0.165,
          -0.1009999999999999,
          -0.1230000000000002,
          -0.0130000000000003,
          -0.217,
          -0.177,
          -0.2020000000000004,
          -0.0620000000000002,
          -0.0890000000000004,
          -0.165,
          -0.1009999999999999,
          -0.1260000000000003,
          -0.254,
          -0.177,
          -0.2290000000000001,
          -0.1070000000000002,
          -0.217,
          0.0209999999999999,
          -0.1990000000000003,
          -0.2200000000000002,
          -0.2020000000000004,
          -0.193,
          -0.205,
          -0.217,
          -0.129,
          -0.1260000000000003,
          -0.3080000000000003,
          -0.0860000000000003,
          0.0049999999999998,
          -0.2840000000000002,
          -0.177,
          -0.2990000000000004,
          -0.2080000000000001,
          -0.2259999999999999,
          -0.2690000000000001,
          -0.2690000000000001,
          -0.1380000000000003,
          -0.0710000000000001,
          -0.0250000000000003,
          -0.0550000000000001,
          -0.1470000000000002,
          -0.2259999999999999,
          -0.0860000000000003,
          -0.2020000000000004,
          -0.254,
          -0.2480000000000002,
          -0.2230000000000003,
          -0.3080000000000003,
          -0.1260000000000003,
          -0.1160000000000001,
          -0.1260000000000003,
          -0.1160000000000001,
          -0.2080000000000001,
          -0.0460000000000002,
          -0.0710000000000001,
          -0.1560000000000001,
          -0.2440000000000002,
          -0.217,
          -0.1830000000000002,
          -0.2140000000000004,
          -0.1380000000000003,
          -0.0770000000000004,
          -0.1590000000000002,
          0.0419999999999998,
          -0.0590000000000001,
          -0.2110000000000003,
          -0.2600000000000002,
          -0.0980000000000003,
          -0.1830000000000002,
          -0.165,
          -0.1680000000000001,
          -0.2630000000000003,
          -0.153,
          -0.2200000000000002,
          -0.092,
          -0.2080000000000001,
          -0.1620000000000003,
          -0.2810000000000001,
          -0.2930000000000001,
          -0.3450000000000002,
          -0.1710000000000002,
          -0.2480000000000002,
          -0.2510000000000003,
          -0.1710000000000002,
          -0.0490000000000003,
          -0.0950000000000002,
          -0.1320000000000001,
          -0.1009999999999999,
          -0.0950000000000002,
          -0.3240000000000003,
          -0.2570000000000001,
          -0.1350000000000002,
          -0.3150000000000004,
          -0.2320000000000002,
          -0.1740000000000003,
          -0.1990000000000003,
          -0.1590000000000002,
          -0.0980000000000003,
          -0.04,
          -0.04,
          -0.1620000000000003,
          -0.104,
          -0.1160000000000001,
          -0.2510000000000003,
          -0.238,
          -0.1470000000000002,
          -0.0980000000000003,
          -0.153,
          -0.1230000000000002,
          -0.068,
          -0.0860000000000003,
          -0.1009999999999999,
          -0.0220000000000002,
          -0.165,
          -0.3760000000000003,
          -0.2020000000000004,
          -0.29,
          -0.29,
          -0.3080000000000003,
          -0.2020000000000004,
          -0.1680000000000001,
          -0.1230000000000002,
          -0.2259999999999999,
          -0.2810000000000001,
          -0.1350000000000002,
          -0.2410000000000001,
          -0.0780000000000002,
          -0.1240000000000001,
          -0.3760000000000003,
          -0.2630000000000003,
          -0.2730000000000001,
          -0.2250000000000001,
          -0.1760000000000001,
          -0.1580000000000003,
          -0.1420000000000003,
          -0.1390000000000002,
          -0.0980000000000003,
          -0.121,
          -0.0970000000000004,
          -0.1390000000000002,
          -0.27,
          -0.165,
          -0.145,
          -0.1440000000000001,
          -0.121,
          -0.0970000000000004,
          -0.1550000000000002,
          -0.2250000000000001,
          -0.004,
          -0.133,
          -0.294,
          -0.104,
          -0.1580000000000003,
          -0.2560000000000002,
          -0.1910000000000002,
          -0.1860000000000004,
          -0.2190000000000003,
          -0.2259999999999999,
          -0.0860000000000003,
          0.016,
          0.0399999999999995,
          -0.137,
          -0.048,
          -0.1220000000000003,
          -0.242,
          -0.1950000000000002,
          -0.2110000000000003,
          -0.0940000000000003,
          -0.0950000000000002,
          -0.1360000000000001,
          0.024,
          0.1149999999999997,
          -0.0950000000000002,
          -0.1200000000000001,
          -0.084,
          -0.2160000000000002,
          -0.0810000000000004,
          -0.141,
          -0.1660000000000003,
          -0.1910000000000002,
          -0.133,
          -0.0420000000000002,
          -0.0050000000000003,
          -0.0850000000000004,
          0.0009999999999998,
          -0.032,
          -0.2970000000000001,
          -0.2160000000000002,
          -0.3440000000000003,
          -0.3150000000000004,
          -0.2450000000000001,
          -0.2150000000000003,
          -0.177,
          -0.1380000000000003,
          -0.1,
          -0.1350000000000002,
          -0.173,
          -0.2070000000000003,
          -0.1190000000000002,
          -0.1160000000000001,
          -0.1380000000000003,
          -0.242,
          -0.1400000000000001,
          -0.1660000000000003,
          -0.1860000000000004,
          -0.2750000000000003,
          -0.1480000000000001,
          0.0969999999999999,
          -0.064,
          -0.2280000000000002,
          -0.1680000000000001,
          -0.173,
          -0.1880000000000001,
          -0.1270000000000002,
          -0.1480000000000001,
          -0.1910000000000002,
          -0.1830000000000002,
          -0.1380000000000003,
          -0.173,
          -0.1710000000000002,
          -0.165,
          -0.1390000000000002,
          -0.3430000000000004,
          -0.1900000000000004,
          -0.2680000000000002,
          -0.189,
          -0.1120000000000001,
          -0.2120000000000002,
          -0.1910000000000002,
          -0.1260000000000003,
          -0.0890000000000004,
          -0.056,
          -0.064,
          -0.0770000000000004,
          0.0849999999999999,
          -0.2960000000000002,
          -0.1340000000000003,
          -0.1710000000000002,
          -0.1030000000000002,
          -0.1710000000000002,
          -0.125,
          -0.1089999999999999,
          -0.052,
          -0.213,
          -0.1710000000000002,
          -0.1830000000000002,
          -0.1150000000000002,
          -0.2100000000000004,
          -0.3360000000000003,
          -0.125,
          -0.2520000000000002,
          -0.2150000000000003,
          -0.173,
          -0.125,
          -0.036,
          -0.173,
          -0.2830000000000003,
          -0.2350000000000003,
          -0.1740000000000003,
          -0.2440000000000002,
          -0.1710000000000002,
          -0.2080000000000001,
          -0.165,
          -0.2510000000000003,
          -0.2080000000000001,
          -0.0770000000000004,
          -0.0220000000000002,
          0.0209999999999999,
          -0.0430000000000001,
          -0.0140000000000002,
          -0.1700000000000003,
          -0.1800000000000001,
          -0.246,
          -0.1129999999999999,
          -0.1240000000000001,
          -0.205,
          -0.1540000000000003,
          -0.125,
          -0.0410000000000003,
          -0.1060000000000003,
          -0.2480000000000002,
          -0.056,
          -0.2930000000000001,
          -0.3840000000000003,
          -0.3130000000000001,
          -0.2840000000000002,
          -0.1720000000000001,
          -0.181,
          -0.1840000000000001,
          -0.1190000000000002,
          -0.1860000000000004,
          -0.0380000000000002,
          -0.2280000000000002,
          -0.0270000000000001,
          -0.2320000000000002,
          -0.2710000000000003,
          -0.2040000000000001,
          -0.1470000000000002,
          -0.1620000000000003,
          -0.189,
          -0.1230000000000002,
          -0.1740000000000003,
          -0.1100000000000003,
          -0.209,
          -0.1710000000000002,
          -0.1660000000000003,
          -0.0670000000000001,
          -0.1700000000000003,
          -0.2150000000000003,
          -0.1790000000000002,
          -0.1390000000000002,
          -0.2100000000000004,
          -0.2250000000000001,
          -0.2020000000000004,
          -0.1120000000000001,
          -0.129,
          -0.004,
          -0.1710000000000002,
          -0.2710000000000003,
          -0.246,
          -0.3090000000000001,
          -0.1550000000000002,
          -0.2280000000000002,
          -0.185,
          -0.2060000000000004,
          -0.1380000000000003,
          -0.1740000000000003,
          -0.1350000000000002,
          -0.141,
          0.0579999999999998,
          -0.1180000000000003,
          -0.2400000000000002,
          -0.1780000000000003,
          -0.1950000000000002,
          -0.1830000000000002,
          -0.1800000000000001,
          -0.1670000000000002,
          -0.1100000000000003,
          -0.2870000000000003,
          -0.0790000000000001,
          -0.1800000000000001,
          -0.044,
          -0.177,
          -0.254,
          -0.2840000000000002,
          -0.306,
          -0.2710000000000003,
          -0.2000000000000001,
          -0.2430000000000003,
          -0.165,
          -0.1440000000000001,
          -0.1780000000000003,
          -0.3010000000000001,
          -0.2310000000000003,
          -0.2360000000000002,
          -0.2550000000000003,
          -0.3610000000000002,
          -0.2590000000000003,
          -0.2760000000000002,
          -0.25,
          -0.2790000000000003,
          -0.2150000000000003,
          0.0049999999999998,
          -0.2339999999999999,
          -0.1110000000000002,
          -0.1470000000000002,
          -0.0330000000000003,
          -0.1080000000000001,
          -0.2920000000000002,
          -0.278,
          -0.2490000000000001,
          -0.2480000000000002,
          -0.2800000000000002,
          -0.1880000000000001,
          -0.0550000000000001,
          -0.1380000000000003,
          -0.0620000000000002,
          -0.262,
          -0.1280000000000001,
          -0.1800000000000001,
          -0.2590000000000003,
          -0.3040000000000002,
          -0.2560000000000002,
          -0.27,
          -0.2550000000000003,
          -0.1600000000000001,
          -0.2710000000000003,
          -0.2590000000000003,
          0.0579999999999998,
          -0.1270000000000002,
          -0.1540000000000003,
          -0.2310000000000003,
          -0.2910000000000003,
          -0.254,
          -0.2650000000000001,
          -0.262,
          -0.2070000000000003,
          -0.209,
          -0.088,
          -0.2080000000000001,
          -0.1460000000000003,
          -0.1900000000000004,
          -0.2020000000000004,
          -0.2190000000000003,
          -0.3150000000000004,
          -0.2339999999999999,
          -0.2060000000000004,
          -0.2430000000000003,
          -0.2360000000000002,
          -0.2110000000000003,
          -0.201,
          -0.1840000000000001,
          -0.2630000000000003,
          -0.4100000000000001,
          -0.3230000000000004,
          -0.213,
          -0.4020000000000001,
          -0.1900000000000004,
          -0.2830000000000003,
          -0.3090000000000001,
          -0.3120000000000003,
          -0.1440000000000001,
          -0.205,
          -0.2320000000000002,
          -0.1280000000000001,
          -0.1820000000000003,
          -0.153,
          -0.2850000000000001,
          -0.3320000000000003,
          -0.286,
          -0.2160000000000002,
          -0.27,
          -0.2180000000000004,
          -0.0820000000000003,
          -0.0300000000000002,
          -0.0300000000000002,
          -0.1020000000000003,
          -0.1390000000000002,
          -0.2960000000000002,
          -0.2560000000000002,
          -0.2920000000000002,
          -0.1020000000000003,
          -0.2670000000000003,
          -0.4130000000000002,
          -0.278,
          -0.173,
          -0.0460000000000002,
          -0.1080000000000001,
          -0.0310000000000001,
          -0.1840000000000001,
          -0.3050000000000001,
          -0.2960000000000002,
          -0.3000000000000002,
          -0.2750000000000003,
          -0.278,
          -0.246,
          -0.2290000000000001,
          -0.1950000000000002,
          -0.1980000000000004,
          0.0459999999999998,
          -0.1320000000000001,
          -0.1590000000000002,
          -0.1320000000000001,
          -0.2020000000000004,
          -0.2020000000000004,
          -0.2430000000000003,
          -0.217,
          -0.1740000000000003,
          -0.0620000000000002,
          -0.1390000000000002,
          -0.1440000000000001,
          -0.133,
          0.0139999999999997,
          -0.129,
          -0.169,
          -0.1590000000000002,
          -0.2990000000000004,
          -0.1390000000000002,
          -0.189,
          -0.129,
          -0.1390000000000002,
          -0.209,
          -0.0690000000000004,
          -0.0390000000000001,
          -0.0690000000000004,
          -0.189,
          -0.0990000000000002,
          -0.189,
          -0.1340000000000003,
          -0.2840000000000002,
          -0.1190000000000002,
          -0.1840000000000001,
          -0.1390000000000002,
          -0.0340000000000002,
          0.0459999999999998,
          -0.0890000000000004,
          0.0409999999999999,
          0.0559999999999996,
          -0.1089999999999999,
          -0.169,
          0.0009999999999998,
          -0.129,
          -0.1540000000000003,
          -0.0390000000000001,
          -0.0940000000000003,
          -0.1089999999999999,
          -0.0190000000000001,
          -0.0140000000000002,
          -0.1240000000000001,
          -0.1240000000000001,
          -0.0540000000000002,
          -0.1140000000000003,
          -0.1740000000000003,
          -0.1840000000000001,
          -0.2590000000000003,
          -0.084,
          -0.169,
          -0.0490000000000003,
          -0.1240000000000001,
          0.1509999999999998,
          0.0359999999999995,
          0.1459999999999999,
          -0.189,
          -0.2640000000000002,
          -0.1940000000000004,
          -0.1340000000000003,
          -0.1590000000000002,
          -0.129,
          -0.1590000000000002,
          0.0359999999999995,
          -0.149,
          -0.1089999999999999,
          -0.1640000000000001,
          -0.1390000000000002,
          -0.189,
          -0.3240000000000003,
          -0.0790000000000001,
          -0.149,
          -0.2490000000000001,
          -0.1790000000000002,
          -0.169,
          -0.129,
          -0.2490000000000001,
          -0.2790000000000003,
          -0.2590000000000003,
          -0.314,
          -0.3040000000000002,
          -0.294,
          -0.3440000000000003,
          -0.1440000000000001,
          -0.0940000000000003,
          -0.294,
          -0.2440000000000002,
          -0.2040000000000001,
          -0.1190000000000002,
          -0.0380000000000002,
          -0.3520000000000003,
          -0.2550000000000003,
          -0.1580000000000003,
          -0.1560000000000001,
          -0.1800000000000001,
          -0.1900000000000004,
          -0.242,
          -0.0650000000000003,
          -0.0990000000000002,
          -0.1230000000000002,
          -0.0870000000000001,
          -0.125,
          -0.0700000000000002,
          -0.1800000000000001,
          -0.2870000000000003,
          -0.1320000000000001,
          -0.2200000000000002,
          -0.189,
          -0.221,
          -0.2490000000000001,
          -0.1440000000000001,
          -0.0910000000000001,
          -0.0780000000000002,
          -0.129,
          -0.1270000000000002,
          -0.3460000000000001,
          -0.2750000000000003,
          -0.3320000000000003,
          -0.2840000000000002,
          -0.3520000000000003,
          -0.2110000000000003,
          -0.1030000000000002,
          -0.1100000000000003,
          -0.096,
          0.0739999999999998,
          -0.2350000000000003,
          -0.201,
          -0.1720000000000001,
          -0.1280000000000001,
          -0.2950000000000004,
          -0.3490000000000002,
          -0.278,
          -0.1950000000000002,
          -0.0710000000000001,
          -0.145,
          -0.145,
          -0.0990000000000002,
          -0.1190000000000002,
          -0.1640000000000001,
          -0.294,
          -0.294,
          -0.2190000000000003,
          -0.314,
          -0.169,
          -0.1790000000000002,
          -0.084,
          null,
          -0.3810000000000002,
          -0.2360000000000002,
          -0.3760000000000003,
          -0.2440000000000002,
          -0.2960000000000002,
          -0.2190000000000003,
          -0.1480000000000001,
          -0.2360000000000002,
          -0.1910000000000002,
          -0.1340000000000003,
          -0.3570000000000002,
          -0.3010000000000001,
          -0.3050000000000001,
          -0.3480000000000003,
          -0.209,
          -0.1460000000000003,
          -0.0300000000000002,
          -0.0570000000000003,
          -0.1870000000000002,
          -0.0790000000000001,
          -0.2490000000000001,
          -0.137,
          -0.3000000000000002,
          -0.1270000000000002,
          -0.1870000000000002,
          -0.1910000000000002,
          -0.246,
          -0.193,
          -0.0910000000000001,
          -0.0470000000000001,
          0.0259999999999998,
          0.1149999999999997,
          -0.0110000000000001,
          -0.2440000000000002,
          -0.0670000000000001,
          -0.1580000000000003,
          -0.2600000000000002,
          -0.1820000000000003,
          -0.189,
          -0.1830000000000002,
          -0.1160000000000001,
          0.0529999999999999,
          -0.217,
          -0.1910000000000002,
          0.0569999999999999,
          -0.0350000000000001,
          -0.153,
          -0.1590000000000002,
          -0.1760000000000001,
          -0.1270000000000002,
          -0.0170000000000003,
          0.1139999999999998,
          -0.0030000000000001,
          -0.06,
          -0.1430000000000002,
          -0.1129999999999999,
          -0.1080000000000001,
          -0.0830000000000001,
          -0.02,
          -0.0330000000000003,
          -0.1070000000000002,
          -0.0950000000000002,
          -0.068,
          0.0649999999999999,
          -0.0700000000000002,
          -0.0170000000000003,
          -0.153,
          -0.1390000000000002,
          -0.133,
          -0.1520000000000001,
          -0.1180000000000003,
          -0.1230000000000002,
          -0.0190000000000001,
          -0.0590000000000001,
          0.1079999999999996,
          -0.1220000000000003,
          -0.076,
          -0.121,
          -0.2730000000000001,
          -0.1460000000000003,
          -0.1030000000000002,
          -0.1190000000000002,
          -0.1060000000000003,
          -0.096,
          -0.0860000000000003,
          -0.0350000000000001,
          0.0359999999999995,
          -0.0060000000000002,
          -0.0770000000000004,
          0.0579999999999998,
          0.149,
          0.1589999999999998,
          0.0509999999999997,
          -0.0140000000000002,
          0.0189999999999996,
          -0.201,
          -0.084,
          -0.0190000000000001,
          -0.0990000000000002,
          -0.1110000000000002,
          -0.0210000000000003,
          -0.0790000000000001,
          -0.004,
          0.0949999999999997,
          -0.0170000000000003,
          -0.0810000000000004,
          -0.0570000000000003,
          -0.068,
          -0.0740000000000002,
          -0.0090000000000003,
          0.0069999999999996,
          -0.0370000000000003,
          0.024,
          -0.036,
          -0.0650000000000003,
          0.0729999999999999,
          -0.1169999999999999,
          -0.125,
          -0.0660000000000002,
          -0.0810000000000004,
          -0.0500000000000002,
          0.0179999999999997,
          0.0169999999999999,
          -0.0770000000000004,
          0.0569999999999999,
          0.1869999999999998,
          0.1259999999999999,
          -0.0420000000000002,
          0.0349999999999997,
          -0.0630000000000001,
          -0.1169999999999999,
          -0.1380000000000003,
          -0.0910000000000001,
          -0.02,
          -0.0450000000000003,
          0.0169999999999999,
          0.0979999999999998,
          0.0909999999999997,
          -0.0190000000000001,
          -0.0470000000000001,
          0.0259999999999998,
          -0.1630000000000002,
          -0.1049999999999999,
          -0.0510000000000001,
          -0.052,
          -0.0620000000000002,
          -0.0230000000000001,
          0.0609999999999999,
          0.0589999999999997,
          0.1319999999999996,
          0.0339999999999998,
          -0.0740000000000002,
          -0.2350000000000003,
          -0.2000000000000001,
          -0.0630000000000001,
          -0.0710000000000001,
          0.0049999999999998,
          -0.0340000000000002,
          0.0529999999999999,
          0.0059999999999997,
          0.1119999999999996,
          0.1319999999999996,
          0.1169999999999999,
          0.0579999999999998,
          -0.0810000000000004,
          0.0389999999999997,
          -0.008,
          -0.0930000000000004,
          -0.1030000000000002,
          -0.0630000000000001,
          -0.012,
          -0.0300000000000002,
          0.1469999999999998,
          -0.044,
          0.1679999999999997,
          0.1739999999999999,
          0.1779999999999999,
          -0.1,
          -0.04,
          -0.0860000000000003,
          -0.0830000000000001,
          -0.0470000000000001,
          -0.0090000000000003,
          -0.0340000000000002,
          0.1509999999999998,
          null,
          -0.2030000000000003,
          -0.1169999999999999,
          -0.1320000000000001,
          -0.0350000000000001,
          -0.06,
          0.0329999999999999,
          0.0099999999999997,
          0.0709999999999997,
          0.125,
          0.2569999999999997,
          0.1569999999999995,
          0.0229999999999996,
          -0.1089999999999999,
          -0.0350000000000001,
          -0.0150000000000001,
          -0.028,
          -0.0090000000000003,
          0.0209999999999999,
          0.0829999999999997,
          0.0279999999999995,
          0.012,
          0.0569999999999999
         ]
        },
        {
         "hovertemplate": "%{x|%Y}<br><b>Annual Average</b><br>Mean Sea Level: %{y:.2f} m<extra></extra>",
         "line": {
          "color": "#00a4ae",
          "shape": "spline",
          "width": 2
         },
         "mode": "lines",
         "name": "Annual Average",
         "type": "scatter",
         "x": [
          "1938-01-01",
          "1939-01-01",
          "1940-01-01",
          "1941-01-01",
          "1942-01-01",
          "1943-01-01",
          "1944-01-01",
          "1945-01-01",
          "1946-01-01",
          "1947-01-01",
          "1948-01-01",
          "1949-01-01",
          "1950-01-01",
          "1951-01-01",
          "1952-01-01",
          "1953-01-01",
          "1954-01-01",
          "1955-01-01",
          "1956-01-01",
          "1957-01-01",
          "1958-01-01",
          "1959-01-01",
          "1960-01-01",
          "1961-01-01",
          "1962-01-01",
          "1963-01-01",
          "1964-01-01",
          "1965-01-01",
          "1966-01-01",
          "1967-01-01",
          "1968-01-01",
          "1969-01-01",
          "1970-01-01",
          "1971-01-01",
          "1972-01-01",
          "1973-01-01",
          "1974-01-01",
          "1975-01-01",
          "1976-01-01",
          "1977-01-01",
          "1978-01-01",
          "1979-01-01",
          "1980-01-01",
          "1981-01-01",
          "1982-01-01",
          "1983-01-01",
          "1984-01-01",
          "1985-01-01",
          "1986-01-01",
          "1987-01-01",
          "1988-01-01",
          "1989-01-01",
          "1990-01-01",
          "1991-01-01",
          "1992-01-01",
          "1993-01-01",
          "1994-01-01",
          "1995-01-01",
          "1996-01-01",
          "1997-01-01",
          "1998-01-01",
          "1999-01-01",
          "2000-01-01",
          "2001-01-01",
          "2002-01-01",
          "2003-01-01",
          "2004-01-01",
          "2005-01-01",
          "2007-01-01",
          "2008-01-01",
          "2009-01-01",
          "2010-01-01",
          "2011-01-01",
          "2012-01-01",
          "2013-01-01",
          "2014-01-01",
          "2015-01-01",
          "2016-01-01"
         ],
         "y": [
          -0.2158333333333334,
          -0.1742500000000001,
          -0.1970000000000001,
          -0.1859166666666668,
          -0.2074166666666668,
          -0.1923333333333334,
          -0.2185000000000001,
          -0.1778333333333334,
          -0.1790000000000001,
          -0.1588333333333335,
          -0.1549166666666668,
          -0.1806666666666668,
          -0.1865833333333335,
          -0.1268333333333335,
          -0.1819166666666668,
          -0.1860000000000002,
          -0.1779166666666669,
          -0.1255833333333335,
          -0.2305000000000001,
          -0.1910833333333335,
          -0.1402500000000001,
          -0.1497500000000002,
          -0.1030000000000001,
          -0.1052500000000002,
          -0.1989166666666668,
          -0.1420000000000002,
          -0.1710833333333335,
          -0.1649166666666669,
          -0.1280833333333335,
          -0.1855000000000002,
          -0.1480833333333335,
          -0.1438333333333335,
          -0.2031666666666668,
          -0.1682500000000002,
          -0.1515000000000002,
          -0.1965833333333335,
          -0.1549166666666669,
          -0.2139166666666668,
          -0.2251666666666668,
          -0.1731666666666668,
          -0.2121666666666668,
          -0.2035000000000002,
          -0.2253333333333336,
          -0.2625833333333335,
          -0.1821666666666669,
          -0.2000833333333335,
          -0.2160000000000002,
          -0.1494166666666669,
          -0.1448333333333335,
          -0.1144166666666668,
          -0.0752500000000001,
          -0.1076363636363638,
          -0.1053636363636365,
          -0.1773333333333334,
          -0.2410833333333335,
          -0.1620833333333335,
          -0.1655000000000001,
          -0.2150000000000002,
          -0.1783333333333334,
          -0.1935000000000001,
          -0.2585555555555558,
          -0.1957272727272729,
          -0.1355833333333335,
          -0.1470833333333335,
          -0.0554444444444446,
          -0.0695833333333334,
          -0.0835833333333335,
          -0.0943333333333335,
          -0.0613000000000001,
          -0.0265000000000002,
          -0.0031666666666668,
          -0.0245000000000001,
          -0.0159166666666668,
          -0.0210000000000002,
          -0.0018333333333335,
          0.0103999999999998,
          -0.0051000000000001,
          0.0154166666666664
         ]
        }
       ],
       "layout": {
        "font": {
         "color": "#7f7f7f",
         "family": "Arial"
        },
        "height": 450,
        "hovermode": "closest",
        "legend": {
         "bgcolor": "rgba(0,0,0,0)",
         "itemclick": false,
         "itemdoubleclick": false,
         "orientation": "h"
        },
        "margin": {
         "b": 0,
         "l": 0,
         "r": 0,
         "t": 0
        },
        "paper_bgcolor": "rgba(0,0,0,0)",
        "plot_bgcolor": "#f7fbfd",
        "template": {
         "data": {
          "bar": [
           {
            "error_x": {
             "color": "#2a3f5f"
            },
            "error_y": {
             "color": "#2a3f5f"
            },
            "marker": {
             "line": {
              "color": "#E5ECF6",
              "width": 0.5
             }
            },
            "type": "bar"
           }
          ],
          "barpolar": [
           {
            "marker": {
             "line": {
              "color": "#E5ECF6",
              "width": 0.5
             }
            },
            "type": "barpolar"
           }
          ],
          "carpet": [
           {
            "aaxis": {
             "endlinecolor": "#2a3f5f",
             "gridcolor": "white",
             "linecolor": "white",
             "minorgridcolor": "white",
             "startlinecolor": "#2a3f5f"
            },
            "baxis": {
             "endlinecolor": "#2a3f5f",
             "gridcolor": "white",
             "linecolor": "white",
             "minorgridcolor": "white",
             "startlinecolor": "#2a3f5f"
            },
            "type": "carpet"
           }
          ],
          "choropleth": [
           {
            "colorbar": {
             "outlinewidth": 0,
             "ticks": ""
            },
            "type": "choropleth"
           }
          ],
          "contour": [
           {
            "colorbar": {
             "outlinewidth": 0,
             "ticks": ""
            },
            "colorscale": [
             [
              0,
              "#0d0887"
             ],
             [
              0.1111111111111111,
              "#46039f"
             ],
             [
              0.2222222222222222,
              "#7201a8"
             ],
             [
              0.3333333333333333,
              "#9c179e"
             ],
             [
              0.4444444444444444,
              "#bd3786"
             ],
             [
              0.5555555555555556,
              "#d8576b"
             ],
             [
              0.6666666666666666,
              "#ed7953"
             ],
             [
              0.7777777777777778,
              "#fb9f3a"
             ],
             [
              0.8888888888888888,
              "#fdca26"
             ],
             [
              1,
              "#f0f921"
             ]
            ],
            "type": "contour"
           }
          ],
          "contourcarpet": [
           {
            "colorbar": {
             "outlinewidth": 0,
             "ticks": ""
            },
            "type": "contourcarpet"
           }
          ],
          "heatmap": [
           {
            "colorbar": {
             "outlinewidth": 0,
             "ticks": ""
            },
            "colorscale": [
             [
              0,
              "#0d0887"
             ],
             [
              0.1111111111111111,
              "#46039f"
             ],
             [
              0.2222222222222222,
              "#7201a8"
             ],
             [
              0.3333333333333333,
              "#9c179e"
             ],
             [
              0.4444444444444444,
              "#bd3786"
             ],
             [
              0.5555555555555556,
              "#d8576b"
             ],
             [
              0.6666666666666666,
              "#ed7953"
             ],
             [
              0.7777777777777778,
              "#fb9f3a"
             ],
             [
              0.8888888888888888,
              "#fdca26"
             ],
             [
              1,
              "#f0f921"
             ]
            ],
            "type": "heatmap"
           }
          ],
          "heatmapgl": [
           {
            "colorbar": {
             "outlinewidth": 0,
             "ticks": ""
            },
            "colorscale": [
             [
              0,
              "#0d0887"
             ],
             [
              0.1111111111111111,
              "#46039f"
             ],
             [
              0.2222222222222222,
              "#7201a8"
             ],
             [
              0.3333333333333333,
              "#9c179e"
             ],
             [
              0.4444444444444444,
              "#bd3786"
             ],
             [
              0.5555555555555556,
              "#d8576b"
             ],
             [
              0.6666666666666666,
              "#ed7953"
             ],
             [
              0.7777777777777778,
              "#fb9f3a"
             ],
             [
              0.8888888888888888,
              "#fdca26"
             ],
             [
              1,
              "#f0f921"
             ]
            ],
            "type": "heatmapgl"
           }
          ],
          "histogram": [
           {
            "marker": {
             "colorbar": {
              "outlinewidth": 0,
              "ticks": ""
             }
            },
            "type": "histogram"
           }
          ],
          "histogram2d": [
           {
            "colorbar": {
             "outlinewidth": 0,
             "ticks": ""
            },
            "colorscale": [
             [
              0,
              "#0d0887"
             ],
             [
              0.1111111111111111,
              "#46039f"
             ],
             [
              0.2222222222222222,
              "#7201a8"
             ],
             [
              0.3333333333333333,
              "#9c179e"
             ],
             [
              0.4444444444444444,
              "#bd3786"
             ],
             [
              0.5555555555555556,
              "#d8576b"
             ],
             [
              0.6666666666666666,
              "#ed7953"
             ],
             [
              0.7777777777777778,
              "#fb9f3a"
             ],
             [
              0.8888888888888888,
              "#fdca26"
             ],
             [
              1,
              "#f0f921"
             ]
            ],
            "type": "histogram2d"
           }
          ],
          "histogram2dcontour": [
           {
            "colorbar": {
             "outlinewidth": 0,
             "ticks": ""
            },
            "colorscale": [
             [
              0,
              "#0d0887"
             ],
             [
              0.1111111111111111,
              "#46039f"
             ],
             [
              0.2222222222222222,
              "#7201a8"
             ],
             [
              0.3333333333333333,
              "#9c179e"
             ],
             [
              0.4444444444444444,
              "#bd3786"
             ],
             [
              0.5555555555555556,
              "#d8576b"
             ],
             [
              0.6666666666666666,
              "#ed7953"
             ],
             [
              0.7777777777777778,
              "#fb9f3a"
             ],
             [
              0.8888888888888888,
              "#fdca26"
             ],
             [
              1,
              "#f0f921"
             ]
            ],
            "type": "histogram2dcontour"
           }
          ],
          "mesh3d": [
           {
            "colorbar": {
             "outlinewidth": 0,
             "ticks": ""
            },
            "type": "mesh3d"
           }
          ],
          "parcoords": [
           {
            "line": {
             "colorbar": {
              "outlinewidth": 0,
              "ticks": ""
             }
            },
            "type": "parcoords"
           }
          ],
          "pie": [
           {
            "automargin": true,
            "type": "pie"
           }
          ],
          "scatter": [
           {
            "marker": {
             "colorbar": {
              "outlinewidth": 0,
              "ticks": ""
             }
            },
            "type": "scatter"
           }
          ],
          "scatter3d": [
           {
            "line": {
             "colorbar": {
              "outlinewidth": 0,
              "ticks": ""
             }
            },
            "marker": {
             "colorbar": {
              "outlinewidth": 0,
              "ticks": ""
             }
            },
            "type": "scatter3d"
           }
          ],
          "scattercarpet": [
           {
            "marker": {
             "colorbar": {
              "outlinewidth": 0,
              "ticks": ""
             }
            },
            "type": "scattercarpet"
           }
          ],
          "scattergeo": [
           {
            "marker": {
             "colorbar": {
              "outlinewidth": 0,
              "ticks": ""
             }
            },
            "type": "scattergeo"
           }
          ],
          "scattergl": [
           {
            "marker": {
             "colorbar": {
              "outlinewidth": 0,
              "ticks": ""
             }
            },
            "type": "scattergl"
           }
          ],
          "scattermapbox": [
           {
            "marker": {
             "colorbar": {
              "outlinewidth": 0,
              "ticks": ""
             }
            },
            "type": "scattermapbox"
           }
          ],
          "scatterpolar": [
           {
            "marker": {
             "colorbar": {
              "outlinewidth": 0,
              "ticks": ""
             }
            },
            "type": "scatterpolar"
           }
          ],
          "scatterpolargl": [
           {
            "marker": {
             "colorbar": {
              "outlinewidth": 0,
              "ticks": ""
             }
            },
            "type": "scatterpolargl"
           }
          ],
          "scatterternary": [
           {
            "marker": {
             "colorbar": {
              "outlinewidth": 0,
              "ticks": ""
             }
            },
            "type": "scatterternary"
           }
          ],
          "surface": [
           {
            "colorbar": {
             "outlinewidth": 0,
             "ticks": ""
            },
            "colorscale": [
             [
              0,
              "#0d0887"
             ],
             [
              0.1111111111111111,
              "#46039f"
             ],
             [
              0.2222222222222222,
              "#7201a8"
             ],
             [
              0.3333333333333333,
              "#9c179e"
             ],
             [
              0.4444444444444444,
              "#bd3786"
             ],
             [
              0.5555555555555556,
              "#d8576b"
             ],
             [
              0.6666666666666666,
              "#ed7953"
             ],
             [
              0.7777777777777778,
              "#fb9f3a"
             ],
             [
              0.8888888888888888,
              "#fdca26"
             ],
             [
              1,
              "#f0f921"
             ]
            ],
            "type": "surface"
           }
          ],
          "table": [
           {
            "cells": {
             "fill": {
              "color": "#EBF0F8"
             },
             "line": {
              "color": "white"
             }
            },
            "header": {
             "fill": {
              "color": "#C8D4E3"
             },
             "line": {
              "color": "white"
             }
            },
            "type": "table"
           }
          ]
         },
         "layout": {
          "annotationdefaults": {
           "arrowcolor": "#2a3f5f",
           "arrowhead": 0,
           "arrowwidth": 1
          },
          "autotypenumbers": "strict",
          "coloraxis": {
           "colorbar": {
            "outlinewidth": 0,
            "ticks": ""
           }
          },
          "colorscale": {
           "diverging": [
            [
             0,
             "#8e0152"
            ],
            [
             0.1,
             "#c51b7d"
            ],
            [
             0.2,
             "#de77ae"
            ],
            [
             0.3,
             "#f1b6da"
            ],
            [
             0.4,
             "#fde0ef"
            ],
            [
             0.5,
             "#f7f7f7"
            ],
            [
             0.6,
             "#e6f5d0"
            ],
            [
             0.7,
             "#b8e186"
            ],
            [
             0.8,
             "#7fbc41"
            ],
            [
             0.9,
             "#4d9221"
            ],
            [
             1,
             "#276419"
            ]
           ],
           "sequential": [
            [
             0,
             "#0d0887"
            ],
            [
             0.1111111111111111,
             "#46039f"
            ],
            [
             0.2222222222222222,
             "#7201a8"
            ],
            [
             0.3333333333333333,
             "#9c179e"
            ],
            [
             0.4444444444444444,
             "#bd3786"
            ],
            [
             0.5555555555555556,
             "#d8576b"
            ],
            [
             0.6666666666666666,
             "#ed7953"
            ],
            [
             0.7777777777777778,
             "#fb9f3a"
            ],
            [
             0.8888888888888888,
             "#fdca26"
            ],
            [
             1,
             "#f0f921"
            ]
           ],
           "sequentialminus": [
            [
             0,
             "#0d0887"
            ],
            [
             0.1111111111111111,
             "#46039f"
            ],
            [
             0.2222222222222222,
             "#7201a8"
            ],
            [
             0.3333333333333333,
             "#9c179e"
            ],
            [
             0.4444444444444444,
             "#bd3786"
            ],
            [
             0.5555555555555556,
             "#d8576b"
            ],
            [
             0.6666666666666666,
             "#ed7953"
            ],
            [
             0.7777777777777778,
             "#fb9f3a"
            ],
            [
             0.8888888888888888,
             "#fdca26"
            ],
            [
             1,
             "#f0f921"
            ]
           ]
          },
          "colorway": [
           "#636efa",
           "#EF553B",
           "#00cc96",
           "#ab63fa",
           "#FFA15A",
           "#19d3f3",
           "#FF6692",
           "#B6E880",
           "#FF97FF",
           "#FECB52"
          ],
          "font": {
           "color": "#2a3f5f"
          },
          "geo": {
           "bgcolor": "white",
           "lakecolor": "white",
           "landcolor": "#E5ECF6",
           "showlakes": true,
           "showland": true,
           "subunitcolor": "white"
          },
          "hoverlabel": {
           "align": "left"
          },
          "hovermode": "closest",
          "mapbox": {
           "style": "light"
          },
          "paper_bgcolor": "white",
          "plot_bgcolor": "#E5ECF6",
          "polar": {
           "angularaxis": {
            "gridcolor": "white",
            "linecolor": "white",
            "ticks": ""
           },
           "bgcolor": "#E5ECF6",
           "radialaxis": {
            "gridcolor": "white",
            "linecolor": "white",
            "ticks": ""
           }
          },
          "scene": {
           "xaxis": {
            "backgroundcolor": "#E5ECF6",
            "gridcolor": "white",
            "gridwidth": 2,
            "linecolor": "white",
            "showbackground": true,
            "ticks": "",
            "zerolinecolor": "white"
           },
           "yaxis": {
            "backgroundcolor": "#E5ECF6",
            "gridcolor": "white",
            "gridwidth": 2,
            "linecolor": "white",
            "showbackground": true,
            "ticks": "",
            "zerolinecolor": "white"
           },
           "zaxis": {
            "backgroundcolor": "#E5ECF6",
            "gridcolor": "white",
            "gridwidth": 2,
            "linecolor": "white",
            "showbackground": true,
            "ticks": "",
            "zerolinecolor": "white"
           }
          },
          "shapedefaults": {
           "line": {
            "color": "#2a3f5f"
           }
          },
          "ternary": {
           "aaxis": {
            "gridcolor": "white",
            "linecolor": "white",
            "ticks": ""
           },
           "baxis": {
            "gridcolor": "white",
            "linecolor": "white",
            "ticks": ""
           },
           "bgcolor": "#E5ECF6",
           "caxis": {
            "gridcolor": "white",
            "linecolor": "white",
            "ticks": ""
           }
          },
          "title": {
           "x": 0.05
          },
          "xaxis": {
           "automargin": true,
           "gridcolor": "white",
           "linecolor": "white",
           "ticks": "",
           "title": {
            "standoff": 15
           },
           "zerolinecolor": "white",
           "zerolinewidth": 2
          },
          "yaxis": {
           "automargin": true,
           "gridcolor": "white",
           "linecolor": "white",
           "ticks": "",
           "title": {
            "standoff": 15
           },
           "zerolinecolor": "white",
           "zerolinewidth": 2
          }
         }
        },
        "xaxis": {
         "fixedrange": true,
         "showgrid": false,
         "title": {
          "text": "Year"
         }
        },
        "yaxis": {
         "fixedrange": true,
         "title": {
          "text": "Sea Level (m) Relative to OD Malin"
         }
        }
       }
      },
      "text/html": [
       "<div>                            <div id=\"1c8fbd3d-f4d5-4fe9-94b5-16285b4ae754\" class=\"plotly-graph-div\" style=\"height:450px; width:100%;\"></div>            <script type=\"text/javascript\">                require([\"plotly\"], function(Plotly) {                    window.PLOTLYENV=window.PLOTLYENV || {};                                    if (document.getElementById(\"1c8fbd3d-f4d5-4fe9-94b5-16285b4ae754\")) {                    Plotly.newPlot(                        \"1c8fbd3d-f4d5-4fe9-94b5-16285b4ae754\",                        [{\"hovertemplate\": \"%{x}<br><b>Monthly Average</b><br>Mean Sea Level: %{y:.2f} m<extra></extra>\", \"marker\": {\"color\": \"#E1AF00\", \"opacity\": 0.5, \"size\": 5}, \"mode\": \"markers\", \"name\": \"Monthly Average\", \"type\": \"scatter\", \"x\": [\"1938-01-01\", \"1938-02-01\", \"1938-03-01\", \"1938-04-01\", \"1938-05-01\", \"1938-06-01\", \"1938-07-01\", \"1938-08-01\", \"1938-09-01\", \"1938-10-01\", \"1938-11-01\", \"1938-12-01\", \"1939-01-01\", \"1939-02-01\", \"1939-03-01\", \"1939-04-01\", \"1939-05-01\", \"1939-06-01\", \"1939-07-01\", \"1939-08-01\", \"1939-09-01\", \"1939-10-01\", \"1939-11-01\", \"1939-12-01\", \"1940-01-01\", \"1940-02-01\", \"1940-03-01\", \"1940-04-01\", \"1940-05-01\", \"1940-06-01\", \"1940-07-01\", \"1940-08-01\", \"1940-09-01\", \"1940-10-01\", \"1940-11-01\", \"1940-12-01\", \"1941-01-01\", \"1941-02-01\", \"1941-03-01\", \"1941-04-01\", \"1941-05-01\", \"1941-06-01\", \"1941-07-01\", \"1941-08-01\", \"1941-09-01\", \"1941-10-01\", \"1941-11-01\", \"1941-12-01\", \"1942-01-01\", \"1942-02-01\", \"1942-03-01\", \"1942-04-01\", \"1942-05-01\", \"1942-06-01\", \"1942-07-01\", \"1942-08-01\", \"1942-09-01\", \"1942-10-01\", \"1942-11-01\", \"1942-12-01\", \"1943-01-01\", \"1943-02-01\", \"1943-03-01\", \"1943-04-01\", \"1943-05-01\", \"1943-06-01\", \"1943-07-01\", \"1943-08-01\", \"1943-09-01\", \"1943-10-01\", \"1943-11-01\", \"1943-12-01\", \"1944-01-01\", \"1944-02-01\", \"1944-03-01\", \"1944-04-01\", \"1944-05-01\", \"1944-06-01\", \"1944-07-01\", \"1944-08-01\", \"1944-09-01\", \"1944-10-01\", \"1944-11-01\", \"1944-12-01\", \"1945-01-01\", \"1945-02-01\", \"1945-03-01\", \"1945-04-01\", \"1945-05-01\", \"1945-06-01\", \"1945-07-01\", \"1945-08-01\", \"1945-09-01\", \"1945-10-01\", \"1945-11-01\", \"1945-12-01\", \"1946-01-01\", \"1946-02-01\", \"1946-03-01\", \"1946-04-01\", \"1946-05-01\", \"1946-06-01\", \"1946-07-01\", \"1946-08-01\", \"1946-09-01\", \"1946-10-01\", \"1946-11-01\", \"1946-12-01\", \"1947-01-01\", \"1947-02-01\", \"1947-03-01\", \"1947-04-01\", \"1947-05-01\", \"1947-06-01\", \"1947-07-01\", \"1947-08-01\", \"1947-09-01\", \"1947-10-01\", \"1947-11-01\", \"1947-12-01\", \"1948-01-01\", \"1948-02-01\", \"1948-03-01\", \"1948-04-01\", \"1948-05-01\", \"1948-06-01\", \"1948-07-01\", \"1948-08-01\", \"1948-09-01\", \"1948-10-01\", \"1948-11-01\", \"1948-12-01\", \"1949-01-01\", \"1949-02-01\", \"1949-03-01\", \"1949-04-01\", \"1949-05-01\", \"1949-06-01\", \"1949-07-01\", \"1949-08-01\", \"1949-09-01\", \"1949-10-01\", \"1949-11-01\", \"1949-12-01\", \"1950-01-01\", \"1950-02-01\", \"1950-03-01\", \"1950-04-01\", \"1950-05-01\", \"1950-06-01\", \"1950-07-01\", \"1950-08-01\", \"1950-09-01\", \"1950-10-01\", \"1950-11-01\", \"1950-12-01\", \"1951-01-01\", \"1951-02-01\", \"1951-03-01\", \"1951-04-01\", \"1951-05-01\", \"1951-06-01\", \"1951-07-01\", \"1951-08-01\", \"1951-09-01\", \"1951-10-01\", \"1951-11-01\", \"1951-12-01\", \"1952-01-01\", \"1952-02-01\", \"1952-03-01\", \"1952-04-01\", \"1952-05-01\", \"1952-06-01\", \"1952-07-01\", \"1952-08-01\", \"1952-09-01\", \"1952-10-01\", \"1952-11-01\", \"1952-12-01\", \"1953-01-01\", \"1953-02-01\", \"1953-03-01\", \"1953-04-01\", \"1953-05-01\", \"1953-06-01\", \"1953-07-01\", \"1953-08-01\", \"1953-09-01\", \"1953-10-01\", \"1953-11-01\", \"1953-12-01\", \"1954-01-01\", \"1954-02-01\", \"1954-03-01\", \"1954-04-01\", \"1954-05-01\", \"1954-06-01\", \"1954-07-01\", \"1954-08-01\", \"1954-09-01\", \"1954-10-01\", \"1954-11-01\", \"1954-12-01\", \"1955-01-01\", \"1955-02-01\", \"1955-03-01\", \"1955-04-01\", \"1955-05-01\", \"1955-06-01\", \"1955-07-01\", \"1955-08-01\", \"1955-09-01\", \"1955-10-01\", \"1955-11-01\", \"1955-12-01\", \"1956-01-01\", \"1956-02-01\", \"1956-03-01\", \"1956-04-01\", \"1956-05-01\", \"1956-06-01\", \"1956-07-01\", \"1956-08-01\", \"1956-09-01\", \"1956-10-01\", \"1956-11-01\", \"1956-12-01\", \"1957-01-01\", \"1957-02-01\", \"1957-03-01\", \"1957-04-01\", \"1957-05-01\", \"1957-06-01\", \"1957-07-01\", \"1957-08-01\", \"1957-09-01\", \"1957-10-01\", \"1957-11-01\", \"1957-12-01\", \"1958-01-01\", \"1958-02-01\", \"1958-03-01\", \"1958-04-01\", \"1958-05-01\", \"1958-06-01\", \"1958-07-01\", \"1958-08-01\", \"1958-09-01\", \"1958-10-01\", \"1958-11-01\", \"1958-12-01\", \"1959-01-01\", \"1959-02-01\", \"1959-03-01\", \"1959-04-01\", \"1959-05-01\", \"1959-06-01\", \"1959-07-01\", \"1959-08-01\", \"1959-09-01\", \"1959-10-01\", \"1959-11-01\", \"1959-12-01\", \"1960-01-01\", \"1960-02-01\", \"1960-03-01\", \"1960-04-01\", \"1960-05-01\", \"1960-06-01\", \"1960-07-01\", \"1960-08-01\", \"1960-09-01\", \"1960-10-01\", \"1960-11-01\", \"1960-12-01\", \"1961-01-01\", \"1961-02-01\", \"1961-03-01\", \"1961-04-01\", \"1961-05-01\", \"1961-06-01\", \"1961-07-01\", \"1961-08-01\", \"1961-09-01\", \"1961-10-01\", \"1961-11-01\", \"1961-12-01\", \"1962-01-01\", \"1962-02-01\", \"1962-03-01\", \"1962-04-01\", \"1962-05-01\", \"1962-06-01\", \"1962-07-01\", \"1962-08-01\", \"1962-09-01\", \"1962-10-01\", \"1962-11-01\", \"1962-12-01\", \"1963-01-01\", \"1963-02-01\", \"1963-03-01\", \"1963-04-01\", \"1963-05-01\", \"1963-06-01\", \"1963-07-01\", \"1963-08-01\", \"1963-09-01\", \"1963-10-01\", \"1963-11-01\", \"1963-12-01\", \"1964-01-01\", \"1964-02-01\", \"1964-03-01\", \"1964-04-01\", \"1964-05-01\", \"1964-06-01\", \"1964-07-01\", \"1964-08-01\", \"1964-09-01\", \"1964-10-01\", \"1964-11-01\", \"1964-12-01\", \"1965-01-01\", \"1965-02-01\", \"1965-03-01\", \"1965-04-01\", \"1965-05-01\", \"1965-06-01\", \"1965-07-01\", \"1965-08-01\", \"1965-09-01\", \"1965-10-01\", \"1965-11-01\", \"1965-12-01\", \"1966-01-01\", \"1966-02-01\", \"1966-03-01\", \"1966-04-01\", \"1966-05-01\", \"1966-06-01\", \"1966-07-01\", \"1966-08-01\", \"1966-09-01\", \"1966-10-01\", \"1966-11-01\", \"1966-12-01\", \"1967-01-01\", \"1967-02-01\", \"1967-03-01\", \"1967-04-01\", \"1967-05-01\", \"1967-06-01\", \"1967-07-01\", \"1967-08-01\", \"1967-09-01\", \"1967-10-01\", \"1967-11-01\", \"1967-12-01\", \"1968-01-01\", \"1968-02-01\", \"1968-03-01\", \"1968-04-01\", \"1968-05-01\", \"1968-06-01\", \"1968-07-01\", \"1968-08-01\", \"1968-09-01\", \"1968-10-01\", \"1968-11-01\", \"1968-12-01\", \"1969-01-01\", \"1969-02-01\", \"1969-03-01\", \"1969-04-01\", \"1969-05-01\", \"1969-06-01\", \"1969-07-01\", \"1969-08-01\", \"1969-09-01\", \"1969-10-01\", \"1969-11-01\", \"1969-12-01\", \"1970-01-01\", \"1970-02-01\", \"1970-03-01\", \"1970-04-01\", \"1970-05-01\", \"1970-06-01\", \"1970-07-01\", \"1970-08-01\", \"1970-09-01\", \"1970-10-01\", \"1970-11-01\", \"1970-12-01\", \"1971-01-01\", \"1971-02-01\", \"1971-03-01\", \"1971-04-01\", \"1971-05-01\", \"1971-06-01\", \"1971-07-01\", \"1971-08-01\", \"1971-09-01\", \"1971-10-01\", \"1971-11-01\", \"1971-12-01\", \"1972-01-01\", \"1972-02-01\", \"1972-03-01\", \"1972-04-01\", \"1972-05-01\", \"1972-06-01\", \"1972-07-01\", \"1972-08-01\", \"1972-09-01\", \"1972-10-01\", \"1972-11-01\", \"1972-12-01\", \"1973-01-01\", \"1973-02-01\", \"1973-03-01\", \"1973-04-01\", \"1973-05-01\", \"1973-06-01\", \"1973-07-01\", \"1973-08-01\", \"1973-09-01\", \"1973-10-01\", \"1973-11-01\", \"1973-12-01\", \"1974-01-01\", \"1974-02-01\", \"1974-03-01\", \"1974-04-01\", \"1974-05-01\", \"1974-06-01\", \"1974-07-01\", \"1974-08-01\", \"1974-09-01\", \"1974-10-01\", \"1974-11-01\", \"1974-12-01\", \"1975-01-01\", \"1975-02-01\", \"1975-03-01\", \"1975-04-01\", \"1975-05-01\", \"1975-06-01\", \"1975-07-01\", \"1975-08-01\", \"1975-09-01\", \"1975-10-01\", \"1975-11-01\", \"1975-12-01\", \"1976-01-01\", \"1976-02-01\", \"1976-03-01\", \"1976-04-01\", \"1976-05-01\", \"1976-06-01\", \"1976-07-01\", \"1976-08-01\", \"1976-09-01\", \"1976-10-01\", \"1976-11-01\", \"1976-12-01\", \"1977-01-01\", \"1977-02-01\", \"1977-03-01\", \"1977-04-01\", \"1977-05-01\", \"1977-06-01\", \"1977-07-01\", \"1977-08-01\", \"1977-09-01\", \"1977-10-01\", \"1977-11-01\", \"1977-12-01\", \"1978-01-01\", \"1978-02-01\", \"1978-03-01\", \"1978-04-01\", \"1978-05-01\", \"1978-06-01\", \"1978-07-01\", \"1978-08-01\", \"1978-09-01\", \"1978-10-01\", \"1978-11-01\", \"1978-12-01\", \"1979-01-01\", \"1979-02-01\", \"1979-03-01\", \"1979-04-01\", \"1979-05-01\", \"1979-06-01\", \"1979-07-01\", \"1979-08-01\", \"1979-09-01\", \"1979-10-01\", \"1979-11-01\", \"1979-12-01\", \"1980-01-01\", \"1980-02-01\", \"1980-03-01\", \"1980-04-01\", \"1980-05-01\", \"1980-06-01\", \"1980-07-01\", \"1980-08-01\", \"1980-09-01\", \"1980-10-01\", \"1980-11-01\", \"1980-12-01\", \"1981-01-01\", \"1981-02-01\", \"1981-03-01\", \"1981-04-01\", \"1981-05-01\", \"1981-06-01\", \"1981-07-01\", \"1981-08-01\", \"1981-09-01\", \"1981-10-01\", \"1981-11-01\", \"1981-12-01\", \"1982-01-01\", \"1982-02-01\", \"1982-03-01\", \"1982-04-01\", \"1982-05-01\", \"1982-06-01\", \"1982-07-01\", \"1982-08-01\", \"1982-09-01\", \"1982-10-01\", \"1982-11-01\", \"1982-12-01\", \"1983-01-01\", \"1983-02-01\", \"1983-03-01\", \"1983-04-01\", \"1983-05-01\", \"1983-06-01\", \"1983-07-01\", \"1983-08-01\", \"1983-09-01\", \"1983-10-01\", \"1983-11-01\", \"1983-12-01\", \"1984-01-01\", \"1984-02-01\", \"1984-03-01\", \"1984-04-01\", \"1984-05-01\", \"1984-06-01\", \"1984-07-01\", \"1984-08-01\", \"1984-09-01\", \"1984-10-01\", \"1984-11-01\", \"1984-12-01\", \"1985-01-01\", \"1985-02-01\", \"1985-03-01\", \"1985-04-01\", \"1985-05-01\", \"1985-06-01\", \"1985-07-01\", \"1985-08-01\", \"1985-09-01\", \"1985-10-01\", \"1985-11-01\", \"1985-12-01\", \"1986-01-01\", \"1986-02-01\", \"1986-03-01\", \"1986-04-01\", \"1986-05-01\", \"1986-06-01\", \"1986-07-01\", \"1986-08-01\", \"1986-09-01\", \"1986-10-01\", \"1986-11-01\", \"1986-12-01\", \"1987-01-01\", \"1987-02-01\", \"1987-03-01\", \"1987-04-01\", \"1987-05-01\", \"1987-06-01\", \"1987-07-01\", \"1987-08-01\", \"1987-09-01\", \"1987-10-01\", \"1987-11-01\", \"1987-12-01\", \"1988-01-01\", \"1988-02-01\", \"1988-03-01\", \"1988-04-01\", \"1988-05-01\", \"1988-06-01\", \"1988-07-01\", \"1988-08-01\", \"1988-09-01\", \"1988-10-01\", \"1988-11-01\", \"1988-12-01\", \"1989-01-01\", \"1989-02-01\", \"1989-03-01\", \"1989-04-01\", \"1989-05-01\", \"1989-06-01\", \"1989-08-01\", \"1989-09-01\", \"1989-10-01\", \"1989-11-01\", \"1989-12-01\", \"1990-01-01\", \"1990-02-01\", \"1990-03-01\", \"1990-04-01\", \"1990-05-01\", \"1990-06-01\", \"1990-07-01\", \"1990-08-01\", \"1990-09-01\", \"1990-10-01\", \"1990-12-01\", \"1991-01-01\", \"1991-02-01\", \"1991-03-01\", \"1991-04-01\", \"1991-05-01\", \"1991-06-01\", \"1991-07-01\", \"1991-08-01\", \"1991-09-01\", \"1991-10-01\", \"1991-11-01\", \"1991-12-01\", \"1992-01-01\", \"1992-02-01\", \"1992-03-01\", \"1992-04-01\", \"1992-05-01\", \"1992-06-01\", \"1992-07-01\", \"1992-08-01\", \"1992-09-01\", \"1992-10-01\", \"1992-11-01\", \"1992-12-01\", \"1993-01-01\", \"1993-02-01\", \"1993-03-01\", \"1993-04-01\", \"1993-05-01\", \"1993-06-01\", \"1993-07-01\", \"1993-08-01\", \"1993-09-01\", \"1993-10-01\", \"1993-11-01\", \"1993-12-01\", \"1994-01-01\", \"1994-02-01\", \"1994-03-01\", \"1994-04-01\", \"1994-05-01\", \"1994-06-01\", \"1994-07-01\", \"1994-08-01\", \"1994-09-01\", \"1994-10-01\", \"1994-11-01\", \"1994-12-01\", \"1995-01-01\", \"1995-02-01\", \"1995-04-01\", \"1995-05-01\", \"1995-06-01\", \"1995-07-01\", \"1995-08-01\", \"1995-09-01\", \"1995-10-01\", \"1995-11-01\", \"1995-12-01\", \"1996-01-01\", \"1996-02-01\", \"1996-03-01\", \"1996-04-01\", \"1996-05-01\", \"1996-06-01\", \"1996-07-01\", \"1996-08-01\", \"1996-09-01\", \"1996-10-01\", \"1996-11-01\", \"1996-12-01\", \"1997-01-01\", \"1997-02-01\", \"1997-03-01\", \"1997-04-01\", \"1997-05-01\", \"1997-06-01\", \"1997-07-01\", \"1997-08-01\", \"1997-09-01\", \"1997-11-01\", \"1998-01-01\", \"1998-03-01\", \"1998-04-01\", \"1998-05-01\", \"1998-06-01\", \"1998-08-01\", \"1998-09-01\", \"1998-10-01\", \"1998-11-01\", \"1998-12-01\", \"1999-01-01\", \"1999-02-01\", \"1999-04-01\", \"1999-05-01\", \"1999-06-01\", \"1999-07-01\", \"1999-08-01\", \"1999-09-01\", \"1999-10-01\", \"1999-11-01\", \"1999-12-01\", \"2000-01-01\", \"2000-02-01\", \"2000-03-01\", \"2000-04-01\", \"2000-05-01\", \"2000-06-01\", \"2000-07-01\", \"2000-08-01\", \"2000-09-01\", \"2000-10-01\", \"2000-11-01\", \"2000-12-01\", \"2001-01-01\", \"2001-02-01\", \"2001-03-01\", \"2001-04-01\", \"2001-05-01\", \"2001-06-01\", \"2001-07-01\", \"2001-08-01\", \"2001-09-01\", \"2001-10-01\", \"2001-11-01\", \"2001-12-01\", \"2002-01-01\", \"2002-02-01\", \"2002-03-01\", \"2002-04-01\", \"2002-07-01\", \"2002-09-01\", \"2002-10-01\", \"2002-11-01\", \"2002-12-01\", \"2003-01-01\", \"2003-02-01\", \"2003-03-01\", \"2003-04-01\", \"2003-05-01\", \"2003-06-01\", \"2003-07-01\", \"2003-08-01\", \"2003-09-01\", \"2003-10-01\", \"2003-11-01\", \"2003-12-01\", \"2004-01-01\", \"2004-02-01\", \"2004-03-01\", \"2004-04-01\", \"2004-05-01\", \"2004-06-01\", \"2004-07-01\", \"2004-08-01\", \"2004-09-01\", \"2004-10-01\", \"2004-11-01\", \"2004-12-01\", \"2005-01-01\", \"2005-02-01\", \"2005-03-01\", \"2005-04-01\", \"2005-05-01\", \"2005-06-01\", \"2005-07-01\", \"2005-08-01\", \"2005-09-01\", \"2005-10-01\", \"2005-11-01\", \"2005-12-01\", \"2006-09-01\", \"2006-10-01\", \"2006-11-01\", \"2006-12-01\", \"2007-01-01\", \"2007-02-01\", \"2007-04-01\", \"2007-05-01\", \"2007-06-01\", \"2007-08-01\", \"2007-09-01\", \"2007-10-01\", \"2007-11-01\", \"2007-12-01\", \"2008-01-01\", \"2008-02-01\", \"2008-03-01\", \"2008-04-01\", \"2008-05-01\", \"2008-06-01\", \"2008-07-01\", \"2008-08-01\", \"2008-09-01\", \"2008-10-01\", \"2008-11-01\", \"2008-12-01\", \"2009-01-01\", \"2009-02-01\", \"2009-03-01\", \"2009-04-01\", \"2009-05-01\", \"2009-06-01\", \"2009-07-01\", \"2009-08-01\", \"2009-09-01\", \"2009-10-01\", \"2009-11-01\", \"2009-12-01\", \"2010-01-01\", \"2010-02-01\", \"2010-03-01\", \"2010-04-01\", \"2010-05-01\", \"2010-06-01\", \"2010-07-01\", \"2010-08-01\", \"2010-09-01\", \"2010-10-01\", \"2010-11-01\", \"2010-12-01\", \"2011-01-01\", \"2011-02-01\", \"2011-03-01\", \"2011-04-01\", \"2011-05-01\", \"2011-06-01\", \"2011-07-01\", \"2011-08-01\", \"2011-09-01\", \"2011-10-01\", \"2011-11-01\", \"2011-12-01\", \"2012-01-01\", \"2012-02-01\", \"2012-03-01\", \"2012-04-01\", \"2012-05-01\", \"2012-06-01\", \"2012-07-01\", \"2012-08-01\", \"2012-09-01\", \"2012-10-01\", \"2012-11-01\", \"2012-12-01\", \"2013-01-01\", \"2013-02-01\", \"2013-03-01\", \"2013-04-01\", \"2013-05-01\", \"2013-06-01\", \"2013-07-01\", \"2013-08-01\", \"2013-09-01\", \"2013-10-01\", \"2013-11-01\", \"2013-12-01\", \"2014-01-01\", \"2014-02-01\", \"2014-03-01\", \"2014-04-01\", \"2014-05-01\", \"2014-06-01\", \"2014-07-01\", \"2014-08-01\", \"2014-09-01\", \"2014-10-01\", \"2015-01-01\", \"2015-02-01\", \"2015-03-01\", \"2015-04-01\", \"2015-05-01\", \"2015-06-01\", \"2015-07-01\", \"2015-08-01\", \"2015-10-01\", \"2015-11-01\", \"2015-12-01\", \"2016-01-01\", \"2016-02-01\", \"2016-03-01\", \"2016-04-01\", \"2016-05-01\", \"2016-06-01\", \"2016-07-01\", \"2016-08-01\", \"2016-09-01\", \"2016-10-01\", \"2016-11-01\", \"2016-12-01\"], \"y\": [-0.153, -0.2930000000000001, -0.165, -0.318, -0.33, -0.266, -0.266, -0.266, -0.2290000000000001, -0.153, -0.0250000000000003, -0.1260000000000003, 0.0269999999999996, -0.165, -0.2630000000000003, -0.177, -0.217, -0.3050000000000001, -0.193, -0.29, -0.2410000000000001, -0.129, -0.0250000000000003, -0.1129999999999999, -0.141, -0.129, -0.177, -0.217, -0.1900000000000004, -0.2630000000000003, -0.217, -0.3050000000000001, -0.2290000000000001, -0.0650000000000003, -0.1129999999999999, -0.318, -0.129, -0.0250000000000003, -0.2410000000000001, -0.2410000000000001, -0.254, -0.2020000000000004, -0.1380000000000003, -0.1900000000000004, -0.266, -0.1900000000000004, -0.0770000000000004, -0.278, -0.351, -0.4060000000000001, -0.2350000000000003, -0.2600000000000002, -0.153, -0.266, -0.217, -0.1590000000000002, -0.1350000000000002, -0.0770000000000004, -0.2290000000000001, -0.0010000000000003, -0.04, -0.3540000000000001, -0.2750000000000003, -0.254, -0.266, -0.2290000000000001, -0.177, -0.1009999999999999, -0.1470000000000002, -0.0130000000000003, -0.217, -0.2350000000000003, -0.1990000000000003, -0.351, -0.33, -0.2290000000000001, -0.2720000000000002, -0.177, -0.1590000000000002, -0.1710000000000002, -0.2110000000000003, -0.1990000000000003, -0.1009999999999999, -0.2230000000000003, -0.3450000000000002, -0.2290000000000001, -0.318, -0.2020000000000004, -0.129, -0.177, -0.177, -0.2020000000000004, -0.177, -0.0890000000000004, -0.1009999999999999, 0.012, -0.129, -0.3050000000000001, -0.2110000000000003, -0.318, -0.1960000000000001, -0.153, -0.217, -0.165, -0.1009999999999999, -0.1230000000000002, -0.0130000000000003, -0.217, -0.177, -0.2020000000000004, -0.0620000000000002, -0.0890000000000004, -0.165, -0.1009999999999999, -0.1260000000000003, -0.254, -0.177, -0.2290000000000001, -0.1070000000000002, -0.217, 0.0209999999999999, -0.1990000000000003, -0.2200000000000002, -0.2020000000000004, -0.193, -0.205, -0.217, -0.129, -0.1260000000000003, -0.3080000000000003, -0.0860000000000003, 0.0049999999999998, -0.2840000000000002, -0.177, -0.2990000000000004, -0.2080000000000001, -0.2259999999999999, -0.2690000000000001, -0.2690000000000001, -0.1380000000000003, -0.0710000000000001, -0.0250000000000003, -0.0550000000000001, -0.1470000000000002, -0.2259999999999999, -0.0860000000000003, -0.2020000000000004, -0.254, -0.2480000000000002, -0.2230000000000003, -0.3080000000000003, -0.1260000000000003, -0.1160000000000001, -0.1260000000000003, -0.1160000000000001, -0.2080000000000001, -0.0460000000000002, -0.0710000000000001, -0.1560000000000001, -0.2440000000000002, -0.217, -0.1830000000000002, -0.2140000000000004, -0.1380000000000003, -0.0770000000000004, -0.1590000000000002, 0.0419999999999998, -0.0590000000000001, -0.2110000000000003, -0.2600000000000002, -0.0980000000000003, -0.1830000000000002, -0.165, -0.1680000000000001, -0.2630000000000003, -0.153, -0.2200000000000002, -0.092, -0.2080000000000001, -0.1620000000000003, -0.2810000000000001, -0.2930000000000001, -0.3450000000000002, -0.1710000000000002, -0.2480000000000002, -0.2510000000000003, -0.1710000000000002, -0.0490000000000003, -0.0950000000000002, -0.1320000000000001, -0.1009999999999999, -0.0950000000000002, -0.3240000000000003, -0.2570000000000001, -0.1350000000000002, -0.3150000000000004, -0.2320000000000002, -0.1740000000000003, -0.1990000000000003, -0.1590000000000002, -0.0980000000000003, -0.04, -0.04, -0.1620000000000003, -0.104, -0.1160000000000001, -0.2510000000000003, -0.238, -0.1470000000000002, -0.0980000000000003, -0.153, -0.1230000000000002, -0.068, -0.0860000000000003, -0.1009999999999999, -0.0220000000000002, -0.165, -0.3760000000000003, -0.2020000000000004, -0.29, -0.29, -0.3080000000000003, -0.2020000000000004, -0.1680000000000001, -0.1230000000000002, -0.2259999999999999, -0.2810000000000001, -0.1350000000000002, -0.2410000000000001, -0.0780000000000002, -0.1240000000000001, -0.3760000000000003, -0.2630000000000003, -0.2730000000000001, -0.2250000000000001, -0.1760000000000001, -0.1580000000000003, -0.1420000000000003, -0.1390000000000002, -0.0980000000000003, -0.121, -0.0970000000000004, -0.1390000000000002, -0.27, -0.165, -0.145, -0.1440000000000001, -0.121, -0.0970000000000004, -0.1550000000000002, -0.2250000000000001, -0.004, -0.133, -0.294, -0.104, -0.1580000000000003, -0.2560000000000002, -0.1910000000000002, -0.1860000000000004, -0.2190000000000003, -0.2259999999999999, -0.0860000000000003, 0.016, 0.0399999999999995, -0.137, -0.048, -0.1220000000000003, -0.242, -0.1950000000000002, -0.2110000000000003, -0.0940000000000003, -0.0950000000000002, -0.1360000000000001, 0.024, 0.1149999999999997, -0.0950000000000002, -0.1200000000000001, -0.084, -0.2160000000000002, -0.0810000000000004, -0.141, -0.1660000000000003, -0.1910000000000002, -0.133, -0.0420000000000002, -0.0050000000000003, -0.0850000000000004, 0.0009999999999998, -0.032, -0.2970000000000001, -0.2160000000000002, -0.3440000000000003, -0.3150000000000004, -0.2450000000000001, -0.2150000000000003, -0.177, -0.1380000000000003, -0.1, -0.1350000000000002, -0.173, -0.2070000000000003, -0.1190000000000002, -0.1160000000000001, -0.1380000000000003, -0.242, -0.1400000000000001, -0.1660000000000003, -0.1860000000000004, -0.2750000000000003, -0.1480000000000001, 0.0969999999999999, -0.064, -0.2280000000000002, -0.1680000000000001, -0.173, -0.1880000000000001, -0.1270000000000002, -0.1480000000000001, -0.1910000000000002, -0.1830000000000002, -0.1380000000000003, -0.173, -0.1710000000000002, -0.165, -0.1390000000000002, -0.3430000000000004, -0.1900000000000004, -0.2680000000000002, -0.189, -0.1120000000000001, -0.2120000000000002, -0.1910000000000002, -0.1260000000000003, -0.0890000000000004, -0.056, -0.064, -0.0770000000000004, 0.0849999999999999, -0.2960000000000002, -0.1340000000000003, -0.1710000000000002, -0.1030000000000002, -0.1710000000000002, -0.125, -0.1089999999999999, -0.052, -0.213, -0.1710000000000002, -0.1830000000000002, -0.1150000000000002, -0.2100000000000004, -0.3360000000000003, -0.125, -0.2520000000000002, -0.2150000000000003, -0.173, -0.125, -0.036, -0.173, -0.2830000000000003, -0.2350000000000003, -0.1740000000000003, -0.2440000000000002, -0.1710000000000002, -0.2080000000000001, -0.165, -0.2510000000000003, -0.2080000000000001, -0.0770000000000004, -0.0220000000000002, 0.0209999999999999, -0.0430000000000001, -0.0140000000000002, -0.1700000000000003, -0.1800000000000001, -0.246, -0.1129999999999999, -0.1240000000000001, -0.205, -0.1540000000000003, -0.125, -0.0410000000000003, -0.1060000000000003, -0.2480000000000002, -0.056, -0.2930000000000001, -0.3840000000000003, -0.3130000000000001, -0.2840000000000002, -0.1720000000000001, -0.181, -0.1840000000000001, -0.1190000000000002, -0.1860000000000004, -0.0380000000000002, -0.2280000000000002, -0.0270000000000001, -0.2320000000000002, -0.2710000000000003, -0.2040000000000001, -0.1470000000000002, -0.1620000000000003, -0.189, -0.1230000000000002, -0.1740000000000003, -0.1100000000000003, -0.209, -0.1710000000000002, -0.1660000000000003, -0.0670000000000001, -0.1700000000000003, -0.2150000000000003, -0.1790000000000002, -0.1390000000000002, -0.2100000000000004, -0.2250000000000001, -0.2020000000000004, -0.1120000000000001, -0.129, -0.004, -0.1710000000000002, -0.2710000000000003, -0.246, -0.3090000000000001, -0.1550000000000002, -0.2280000000000002, -0.185, -0.2060000000000004, -0.1380000000000003, -0.1740000000000003, -0.1350000000000002, -0.141, 0.0579999999999998, -0.1180000000000003, -0.2400000000000002, -0.1780000000000003, -0.1950000000000002, -0.1830000000000002, -0.1800000000000001, -0.1670000000000002, -0.1100000000000003, -0.2870000000000003, -0.0790000000000001, -0.1800000000000001, -0.044, -0.177, -0.254, -0.2840000000000002, -0.306, -0.2710000000000003, -0.2000000000000001, -0.2430000000000003, -0.165, -0.1440000000000001, -0.1780000000000003, -0.3010000000000001, -0.2310000000000003, -0.2360000000000002, -0.2550000000000003, -0.3610000000000002, -0.2590000000000003, -0.2760000000000002, -0.25, -0.2790000000000003, -0.2150000000000003, 0.0049999999999998, -0.2339999999999999, -0.1110000000000002, -0.1470000000000002, -0.0330000000000003, -0.1080000000000001, -0.2920000000000002, -0.278, -0.2490000000000001, -0.2480000000000002, -0.2800000000000002, -0.1880000000000001, -0.0550000000000001, -0.1380000000000003, -0.0620000000000002, -0.262, -0.1280000000000001, -0.1800000000000001, -0.2590000000000003, -0.3040000000000002, -0.2560000000000002, -0.27, -0.2550000000000003, -0.1600000000000001, -0.2710000000000003, -0.2590000000000003, 0.0579999999999998, -0.1270000000000002, -0.1540000000000003, -0.2310000000000003, -0.2910000000000003, -0.254, -0.2650000000000001, -0.262, -0.2070000000000003, -0.209, -0.088, -0.2080000000000001, -0.1460000000000003, -0.1900000000000004, -0.2020000000000004, -0.2190000000000003, -0.3150000000000004, -0.2339999999999999, -0.2060000000000004, -0.2430000000000003, -0.2360000000000002, -0.2110000000000003, -0.201, -0.1840000000000001, -0.2630000000000003, -0.4100000000000001, -0.3230000000000004, -0.213, -0.4020000000000001, -0.1900000000000004, -0.2830000000000003, -0.3090000000000001, -0.3120000000000003, -0.1440000000000001, -0.205, -0.2320000000000002, -0.1280000000000001, -0.1820000000000003, -0.153, -0.2850000000000001, -0.3320000000000003, -0.286, -0.2160000000000002, -0.27, -0.2180000000000004, -0.0820000000000003, -0.0300000000000002, -0.0300000000000002, -0.1020000000000003, -0.1390000000000002, -0.2960000000000002, -0.2560000000000002, -0.2920000000000002, -0.1020000000000003, -0.2670000000000003, -0.4130000000000002, -0.278, -0.173, -0.0460000000000002, -0.1080000000000001, -0.0310000000000001, -0.1840000000000001, -0.3050000000000001, -0.2960000000000002, -0.3000000000000002, -0.2750000000000003, -0.278, -0.246, -0.2290000000000001, -0.1950000000000002, -0.1980000000000004, 0.0459999999999998, -0.1320000000000001, -0.1590000000000002, -0.1320000000000001, -0.2020000000000004, -0.2020000000000004, -0.2430000000000003, -0.217, -0.1740000000000003, -0.0620000000000002, -0.1390000000000002, -0.1440000000000001, -0.133, 0.0139999999999997, -0.129, -0.169, -0.1590000000000002, -0.2990000000000004, -0.1390000000000002, -0.189, -0.129, -0.1390000000000002, -0.209, -0.0690000000000004, -0.0390000000000001, -0.0690000000000004, -0.189, -0.0990000000000002, -0.189, -0.1340000000000003, -0.2840000000000002, -0.1190000000000002, -0.1840000000000001, -0.1390000000000002, -0.0340000000000002, 0.0459999999999998, -0.0890000000000004, 0.0409999999999999, 0.0559999999999996, -0.1089999999999999, -0.169, 0.0009999999999998, -0.129, -0.1540000000000003, -0.0390000000000001, -0.0940000000000003, -0.1089999999999999, -0.0190000000000001, -0.0140000000000002, -0.1240000000000001, -0.1240000000000001, -0.0540000000000002, -0.1140000000000003, -0.1740000000000003, -0.1840000000000001, -0.2590000000000003, -0.084, -0.169, -0.0490000000000003, -0.1240000000000001, 0.1509999999999998, 0.0359999999999995, 0.1459999999999999, -0.189, -0.2640000000000002, -0.1940000000000004, -0.1340000000000003, -0.1590000000000002, -0.129, -0.1590000000000002, 0.0359999999999995, -0.149, -0.1089999999999999, -0.1640000000000001, -0.1390000000000002, -0.189, -0.3240000000000003, -0.0790000000000001, -0.149, -0.2490000000000001, -0.1790000000000002, -0.169, -0.129, -0.2490000000000001, -0.2790000000000003, -0.2590000000000003, -0.314, -0.3040000000000002, -0.294, -0.3440000000000003, -0.1440000000000001, -0.0940000000000003, -0.294, -0.2440000000000002, -0.2040000000000001, -0.1190000000000002, -0.0380000000000002, -0.3520000000000003, -0.2550000000000003, -0.1580000000000003, -0.1560000000000001, -0.1800000000000001, -0.1900000000000004, -0.242, -0.0650000000000003, -0.0990000000000002, -0.1230000000000002, -0.0870000000000001, -0.125, -0.0700000000000002, -0.1800000000000001, -0.2870000000000003, -0.1320000000000001, -0.2200000000000002, -0.189, -0.221, -0.2490000000000001, -0.1440000000000001, -0.0910000000000001, -0.0780000000000002, -0.129, -0.1270000000000002, -0.3460000000000001, -0.2750000000000003, -0.3320000000000003, -0.2840000000000002, -0.3520000000000003, -0.2110000000000003, -0.1030000000000002, -0.1100000000000003, -0.096, 0.0739999999999998, -0.2350000000000003, -0.201, -0.1720000000000001, -0.1280000000000001, -0.2950000000000004, -0.3490000000000002, -0.278, -0.1950000000000002, -0.0710000000000001, -0.145, -0.145, -0.0990000000000002, -0.1190000000000002, -0.1640000000000001, -0.294, -0.294, -0.2190000000000003, -0.314, -0.169, -0.1790000000000002, -0.084, null, -0.3810000000000002, -0.2360000000000002, -0.3760000000000003, -0.2440000000000002, -0.2960000000000002, -0.2190000000000003, -0.1480000000000001, -0.2360000000000002, -0.1910000000000002, -0.1340000000000003, -0.3570000000000002, -0.3010000000000001, -0.3050000000000001, -0.3480000000000003, -0.209, -0.1460000000000003, -0.0300000000000002, -0.0570000000000003, -0.1870000000000002, -0.0790000000000001, -0.2490000000000001, -0.137, -0.3000000000000002, -0.1270000000000002, -0.1870000000000002, -0.1910000000000002, -0.246, -0.193, -0.0910000000000001, -0.0470000000000001, 0.0259999999999998, 0.1149999999999997, -0.0110000000000001, -0.2440000000000002, -0.0670000000000001, -0.1580000000000003, -0.2600000000000002, -0.1820000000000003, -0.189, -0.1830000000000002, -0.1160000000000001, 0.0529999999999999, -0.217, -0.1910000000000002, 0.0569999999999999, -0.0350000000000001, -0.153, -0.1590000000000002, -0.1760000000000001, -0.1270000000000002, -0.0170000000000003, 0.1139999999999998, -0.0030000000000001, -0.06, -0.1430000000000002, -0.1129999999999999, -0.1080000000000001, -0.0830000000000001, -0.02, -0.0330000000000003, -0.1070000000000002, -0.0950000000000002, -0.068, 0.0649999999999999, -0.0700000000000002, -0.0170000000000003, -0.153, -0.1390000000000002, -0.133, -0.1520000000000001, -0.1180000000000003, -0.1230000000000002, -0.0190000000000001, -0.0590000000000001, 0.1079999999999996, -0.1220000000000003, -0.076, -0.121, -0.2730000000000001, -0.1460000000000003, -0.1030000000000002, -0.1190000000000002, -0.1060000000000003, -0.096, -0.0860000000000003, -0.0350000000000001, 0.0359999999999995, -0.0060000000000002, -0.0770000000000004, 0.0579999999999998, 0.149, 0.1589999999999998, 0.0509999999999997, -0.0140000000000002, 0.0189999999999996, -0.201, -0.084, -0.0190000000000001, -0.0990000000000002, -0.1110000000000002, -0.0210000000000003, -0.0790000000000001, -0.004, 0.0949999999999997, -0.0170000000000003, -0.0810000000000004, -0.0570000000000003, -0.068, -0.0740000000000002, -0.0090000000000003, 0.0069999999999996, -0.0370000000000003, 0.024, -0.036, -0.0650000000000003, 0.0729999999999999, -0.1169999999999999, -0.125, -0.0660000000000002, -0.0810000000000004, -0.0500000000000002, 0.0179999999999997, 0.0169999999999999, -0.0770000000000004, 0.0569999999999999, 0.1869999999999998, 0.1259999999999999, -0.0420000000000002, 0.0349999999999997, -0.0630000000000001, -0.1169999999999999, -0.1380000000000003, -0.0910000000000001, -0.02, -0.0450000000000003, 0.0169999999999999, 0.0979999999999998, 0.0909999999999997, -0.0190000000000001, -0.0470000000000001, 0.0259999999999998, -0.1630000000000002, -0.1049999999999999, -0.0510000000000001, -0.052, -0.0620000000000002, -0.0230000000000001, 0.0609999999999999, 0.0589999999999997, 0.1319999999999996, 0.0339999999999998, -0.0740000000000002, -0.2350000000000003, -0.2000000000000001, -0.0630000000000001, -0.0710000000000001, 0.0049999999999998, -0.0340000000000002, 0.0529999999999999, 0.0059999999999997, 0.1119999999999996, 0.1319999999999996, 0.1169999999999999, 0.0579999999999998, -0.0810000000000004, 0.0389999999999997, -0.008, -0.0930000000000004, -0.1030000000000002, -0.0630000000000001, -0.012, -0.0300000000000002, 0.1469999999999998, -0.044, 0.1679999999999997, 0.1739999999999999, 0.1779999999999999, -0.1, -0.04, -0.0860000000000003, -0.0830000000000001, -0.0470000000000001, -0.0090000000000003, -0.0340000000000002, 0.1509999999999998, null, -0.2030000000000003, -0.1169999999999999, -0.1320000000000001, -0.0350000000000001, -0.06, 0.0329999999999999, 0.0099999999999997, 0.0709999999999997, 0.125, 0.2569999999999997, 0.1569999999999995, 0.0229999999999996, -0.1089999999999999, -0.0350000000000001, -0.0150000000000001, -0.028, -0.0090000000000003, 0.0209999999999999, 0.0829999999999997, 0.0279999999999995, 0.012, 0.0569999999999999]}, {\"hovertemplate\": \"%{x|%Y}<br><b>Annual Average</b><br>Mean Sea Level: %{y:.2f} m<extra></extra>\", \"line\": {\"color\": \"#00a4ae\", \"shape\": \"spline\", \"width\": 2}, \"mode\": \"lines\", \"name\": \"Annual Average\", \"type\": \"scatter\", \"x\": [\"1938-01-01\", \"1939-01-01\", \"1940-01-01\", \"1941-01-01\", \"1942-01-01\", \"1943-01-01\", \"1944-01-01\", \"1945-01-01\", \"1946-01-01\", \"1947-01-01\", \"1948-01-01\", \"1949-01-01\", \"1950-01-01\", \"1951-01-01\", \"1952-01-01\", \"1953-01-01\", \"1954-01-01\", \"1955-01-01\", \"1956-01-01\", \"1957-01-01\", \"1958-01-01\", \"1959-01-01\", \"1960-01-01\", \"1961-01-01\", \"1962-01-01\", \"1963-01-01\", \"1964-01-01\", \"1965-01-01\", \"1966-01-01\", \"1967-01-01\", \"1968-01-01\", \"1969-01-01\", \"1970-01-01\", \"1971-01-01\", \"1972-01-01\", \"1973-01-01\", \"1974-01-01\", \"1975-01-01\", \"1976-01-01\", \"1977-01-01\", \"1978-01-01\", \"1979-01-01\", \"1980-01-01\", \"1981-01-01\", \"1982-01-01\", \"1983-01-01\", \"1984-01-01\", \"1985-01-01\", \"1986-01-01\", \"1987-01-01\", \"1988-01-01\", \"1989-01-01\", \"1990-01-01\", \"1991-01-01\", \"1992-01-01\", \"1993-01-01\", \"1994-01-01\", \"1995-01-01\", \"1996-01-01\", \"1997-01-01\", \"1998-01-01\", \"1999-01-01\", \"2000-01-01\", \"2001-01-01\", \"2002-01-01\", \"2003-01-01\", \"2004-01-01\", \"2005-01-01\", \"2007-01-01\", \"2008-01-01\", \"2009-01-01\", \"2010-01-01\", \"2011-01-01\", \"2012-01-01\", \"2013-01-01\", \"2014-01-01\", \"2015-01-01\", \"2016-01-01\"], \"y\": [-0.2158333333333334, -0.1742500000000001, -0.1970000000000001, -0.1859166666666668, -0.2074166666666668, -0.1923333333333334, -0.2185000000000001, -0.1778333333333334, -0.1790000000000001, -0.1588333333333335, -0.1549166666666668, -0.1806666666666668, -0.1865833333333335, -0.1268333333333335, -0.1819166666666668, -0.1860000000000002, -0.1779166666666669, -0.1255833333333335, -0.2305000000000001, -0.1910833333333335, -0.1402500000000001, -0.1497500000000002, -0.1030000000000001, -0.1052500000000002, -0.1989166666666668, -0.1420000000000002, -0.1710833333333335, -0.1649166666666669, -0.1280833333333335, -0.1855000000000002, -0.1480833333333335, -0.1438333333333335, -0.2031666666666668, -0.1682500000000002, -0.1515000000000002, -0.1965833333333335, -0.1549166666666669, -0.2139166666666668, -0.2251666666666668, -0.1731666666666668, -0.2121666666666668, -0.2035000000000002, -0.2253333333333336, -0.2625833333333335, -0.1821666666666669, -0.2000833333333335, -0.2160000000000002, -0.1494166666666669, -0.1448333333333335, -0.1144166666666668, -0.0752500000000001, -0.1076363636363638, -0.1053636363636365, -0.1773333333333334, -0.2410833333333335, -0.1620833333333335, -0.1655000000000001, -0.2150000000000002, -0.1783333333333334, -0.1935000000000001, -0.2585555555555558, -0.1957272727272729, -0.1355833333333335, -0.1470833333333335, -0.0554444444444446, -0.0695833333333334, -0.0835833333333335, -0.0943333333333335, -0.0613000000000001, -0.0265000000000002, -0.0031666666666668, -0.0245000000000001, -0.0159166666666668, -0.0210000000000002, -0.0018333333333335, 0.0103999999999998, -0.0051000000000001, 0.0154166666666664]}],                        {\"font\": {\"color\": \"#7f7f7f\", \"family\": \"Arial\"}, \"height\": 450, \"hovermode\": \"closest\", \"legend\": {\"bgcolor\": \"rgba(0,0,0,0)\", \"itemclick\": false, \"itemdoubleclick\": false, \"orientation\": \"h\"}, \"margin\": {\"b\": 0, \"l\": 0, \"r\": 0, \"t\": 0}, \"paper_bgcolor\": \"rgba(0,0,0,0)\", \"plot_bgcolor\": \"#f7fbfd\", \"template\": {\"data\": {\"bar\": [{\"error_x\": {\"color\": \"#2a3f5f\"}, \"error_y\": {\"color\": \"#2a3f5f\"}, \"marker\": {\"line\": {\"color\": \"#E5ECF6\", \"width\": 0.5}}, \"type\": \"bar\"}], \"barpolar\": [{\"marker\": {\"line\": {\"color\": \"#E5ECF6\", \"width\": 0.5}}, \"type\": \"barpolar\"}], \"carpet\": [{\"aaxis\": {\"endlinecolor\": \"#2a3f5f\", \"gridcolor\": \"white\", \"linecolor\": \"white\", \"minorgridcolor\": \"white\", \"startlinecolor\": \"#2a3f5f\"}, \"baxis\": {\"endlinecolor\": \"#2a3f5f\", \"gridcolor\": \"white\", \"linecolor\": \"white\", \"minorgridcolor\": \"white\", \"startlinecolor\": \"#2a3f5f\"}, \"type\": \"carpet\"}], \"choropleth\": [{\"colorbar\": {\"outlinewidth\": 0, \"ticks\": \"\"}, \"type\": \"choropleth\"}], \"contour\": [{\"colorbar\": {\"outlinewidth\": 0, \"ticks\": \"\"}, \"colorscale\": [[0.0, \"#0d0887\"], [0.1111111111111111, \"#46039f\"], [0.2222222222222222, \"#7201a8\"], [0.3333333333333333, \"#9c179e\"], [0.4444444444444444, \"#bd3786\"], [0.5555555555555556, \"#d8576b\"], [0.6666666666666666, \"#ed7953\"], [0.7777777777777778, \"#fb9f3a\"], [0.8888888888888888, \"#fdca26\"], [1.0, \"#f0f921\"]], \"type\": \"contour\"}], \"contourcarpet\": [{\"colorbar\": {\"outlinewidth\": 0, \"ticks\": \"\"}, \"type\": \"contourcarpet\"}], \"heatmap\": [{\"colorbar\": {\"outlinewidth\": 0, \"ticks\": \"\"}, \"colorscale\": [[0.0, \"#0d0887\"], [0.1111111111111111, \"#46039f\"], [0.2222222222222222, \"#7201a8\"], [0.3333333333333333, \"#9c179e\"], [0.4444444444444444, \"#bd3786\"], [0.5555555555555556, \"#d8576b\"], [0.6666666666666666, \"#ed7953\"], [0.7777777777777778, \"#fb9f3a\"], [0.8888888888888888, \"#fdca26\"], [1.0, \"#f0f921\"]], \"type\": \"heatmap\"}], \"heatmapgl\": [{\"colorbar\": {\"outlinewidth\": 0, \"ticks\": \"\"}, \"colorscale\": [[0.0, \"#0d0887\"], [0.1111111111111111, \"#46039f\"], [0.2222222222222222, \"#7201a8\"], [0.3333333333333333, \"#9c179e\"], [0.4444444444444444, \"#bd3786\"], [0.5555555555555556, \"#d8576b\"], [0.6666666666666666, \"#ed7953\"], [0.7777777777777778, \"#fb9f3a\"], [0.8888888888888888, \"#fdca26\"], [1.0, \"#f0f921\"]], \"type\": \"heatmapgl\"}], \"histogram\": [{\"marker\": {\"colorbar\": {\"outlinewidth\": 0, \"ticks\": \"\"}}, \"type\": \"histogram\"}], \"histogram2d\": [{\"colorbar\": {\"outlinewidth\": 0, \"ticks\": \"\"}, \"colorscale\": [[0.0, \"#0d0887\"], [0.1111111111111111, \"#46039f\"], [0.2222222222222222, \"#7201a8\"], [0.3333333333333333, \"#9c179e\"], [0.4444444444444444, \"#bd3786\"], [0.5555555555555556, \"#d8576b\"], [0.6666666666666666, \"#ed7953\"], [0.7777777777777778, \"#fb9f3a\"], [0.8888888888888888, \"#fdca26\"], [1.0, \"#f0f921\"]], \"type\": \"histogram2d\"}], \"histogram2dcontour\": [{\"colorbar\": {\"outlinewidth\": 0, \"ticks\": \"\"}, \"colorscale\": [[0.0, \"#0d0887\"], [0.1111111111111111, \"#46039f\"], [0.2222222222222222, \"#7201a8\"], [0.3333333333333333, \"#9c179e\"], [0.4444444444444444, \"#bd3786\"], [0.5555555555555556, \"#d8576b\"], [0.6666666666666666, \"#ed7953\"], [0.7777777777777778, \"#fb9f3a\"], [0.8888888888888888, \"#fdca26\"], [1.0, \"#f0f921\"]], \"type\": \"histogram2dcontour\"}], \"mesh3d\": [{\"colorbar\": {\"outlinewidth\": 0, \"ticks\": \"\"}, \"type\": \"mesh3d\"}], \"parcoords\": [{\"line\": {\"colorbar\": {\"outlinewidth\": 0, \"ticks\": \"\"}}, \"type\": \"parcoords\"}], \"pie\": [{\"automargin\": true, \"type\": \"pie\"}], \"scatter\": [{\"marker\": {\"colorbar\": {\"outlinewidth\": 0, \"ticks\": \"\"}}, \"type\": \"scatter\"}], \"scatter3d\": [{\"line\": {\"colorbar\": {\"outlinewidth\": 0, \"ticks\": \"\"}}, \"marker\": {\"colorbar\": {\"outlinewidth\": 0, \"ticks\": \"\"}}, \"type\": \"scatter3d\"}], \"scattercarpet\": [{\"marker\": {\"colorbar\": {\"outlinewidth\": 0, \"ticks\": \"\"}}, \"type\": \"scattercarpet\"}], \"scattergeo\": [{\"marker\": {\"colorbar\": {\"outlinewidth\": 0, \"ticks\": \"\"}}, \"type\": \"scattergeo\"}], \"scattergl\": [{\"marker\": {\"colorbar\": {\"outlinewidth\": 0, \"ticks\": \"\"}}, \"type\": \"scattergl\"}], \"scattermapbox\": [{\"marker\": {\"colorbar\": {\"outlinewidth\": 0, \"ticks\": \"\"}}, \"type\": \"scattermapbox\"}], \"scatterpolar\": [{\"marker\": {\"colorbar\": {\"outlinewidth\": 0, \"ticks\": \"\"}}, \"type\": \"scatterpolar\"}], \"scatterpolargl\": [{\"marker\": {\"colorbar\": {\"outlinewidth\": 0, \"ticks\": \"\"}}, \"type\": \"scatterpolargl\"}], \"scatterternary\": [{\"marker\": {\"colorbar\": {\"outlinewidth\": 0, \"ticks\": \"\"}}, \"type\": \"scatterternary\"}], \"surface\": [{\"colorbar\": {\"outlinewidth\": 0, \"ticks\": \"\"}, \"colorscale\": [[0.0, \"#0d0887\"], [0.1111111111111111, \"#46039f\"], [0.2222222222222222, \"#7201a8\"], [0.3333333333333333, \"#9c179e\"], [0.4444444444444444, \"#bd3786\"], [0.5555555555555556, \"#d8576b\"], [0.6666666666666666, \"#ed7953\"], [0.7777777777777778, \"#fb9f3a\"], [0.8888888888888888, \"#fdca26\"], [1.0, \"#f0f921\"]], \"type\": \"surface\"}], \"table\": [{\"cells\": {\"fill\": {\"color\": \"#EBF0F8\"}, \"line\": {\"color\": \"white\"}}, \"header\": {\"fill\": {\"color\": \"#C8D4E3\"}, \"line\": {\"color\": \"white\"}}, \"type\": \"table\"}]}, \"layout\": {\"annotationdefaults\": {\"arrowcolor\": \"#2a3f5f\", \"arrowhead\": 0, \"arrowwidth\": 1}, \"autotypenumbers\": \"strict\", \"coloraxis\": {\"colorbar\": {\"outlinewidth\": 0, \"ticks\": \"\"}}, \"colorscale\": {\"diverging\": [[0, \"#8e0152\"], [0.1, \"#c51b7d\"], [0.2, \"#de77ae\"], [0.3, \"#f1b6da\"], [0.4, \"#fde0ef\"], [0.5, \"#f7f7f7\"], [0.6, \"#e6f5d0\"], [0.7, \"#b8e186\"], [0.8, \"#7fbc41\"], [0.9, \"#4d9221\"], [1, \"#276419\"]], \"sequential\": [[0.0, \"#0d0887\"], [0.1111111111111111, \"#46039f\"], [0.2222222222222222, \"#7201a8\"], [0.3333333333333333, \"#9c179e\"], [0.4444444444444444, \"#bd3786\"], [0.5555555555555556, \"#d8576b\"], [0.6666666666666666, \"#ed7953\"], [0.7777777777777778, \"#fb9f3a\"], [0.8888888888888888, \"#fdca26\"], [1.0, \"#f0f921\"]], \"sequentialminus\": [[0.0, \"#0d0887\"], [0.1111111111111111, \"#46039f\"], [0.2222222222222222, \"#7201a8\"], [0.3333333333333333, \"#9c179e\"], [0.4444444444444444, \"#bd3786\"], [0.5555555555555556, \"#d8576b\"], [0.6666666666666666, \"#ed7953\"], [0.7777777777777778, \"#fb9f3a\"], [0.8888888888888888, \"#fdca26\"], [1.0, \"#f0f921\"]]}, \"colorway\": [\"#636efa\", \"#EF553B\", \"#00cc96\", \"#ab63fa\", \"#FFA15A\", \"#19d3f3\", \"#FF6692\", \"#B6E880\", \"#FF97FF\", \"#FECB52\"], \"font\": {\"color\": \"#2a3f5f\"}, \"geo\": {\"bgcolor\": \"white\", \"lakecolor\": \"white\", \"landcolor\": \"#E5ECF6\", \"showlakes\": true, \"showland\": true, \"subunitcolor\": \"white\"}, \"hoverlabel\": {\"align\": \"left\"}, \"hovermode\": \"closest\", \"mapbox\": {\"style\": \"light\"}, \"paper_bgcolor\": \"white\", \"plot_bgcolor\": \"#E5ECF6\", \"polar\": {\"angularaxis\": {\"gridcolor\": \"white\", \"linecolor\": \"white\", \"ticks\": \"\"}, \"bgcolor\": \"#E5ECF6\", \"radialaxis\": {\"gridcolor\": \"white\", \"linecolor\": \"white\", \"ticks\": \"\"}}, \"scene\": {\"xaxis\": {\"backgroundcolor\": \"#E5ECF6\", \"gridcolor\": \"white\", \"gridwidth\": 2, \"linecolor\": \"white\", \"showbackground\": true, \"ticks\": \"\", \"zerolinecolor\": \"white\"}, \"yaxis\": {\"backgroundcolor\": \"#E5ECF6\", \"gridcolor\": \"white\", \"gridwidth\": 2, \"linecolor\": \"white\", \"showbackground\": true, \"ticks\": \"\", \"zerolinecolor\": \"white\"}, \"zaxis\": {\"backgroundcolor\": \"#E5ECF6\", \"gridcolor\": \"white\", \"gridwidth\": 2, \"linecolor\": \"white\", \"showbackground\": true, \"ticks\": \"\", \"zerolinecolor\": \"white\"}}, \"shapedefaults\": {\"line\": {\"color\": \"#2a3f5f\"}}, \"ternary\": {\"aaxis\": {\"gridcolor\": \"white\", \"linecolor\": \"white\", \"ticks\": \"\"}, \"baxis\": {\"gridcolor\": \"white\", \"linecolor\": \"white\", \"ticks\": \"\"}, \"bgcolor\": \"#E5ECF6\", \"caxis\": {\"gridcolor\": \"white\", \"linecolor\": \"white\", \"ticks\": \"\"}}, \"title\": {\"x\": 0.05}, \"xaxis\": {\"automargin\": true, \"gridcolor\": \"white\", \"linecolor\": \"white\", \"ticks\": \"\", \"title\": {\"standoff\": 15}, \"zerolinecolor\": \"white\", \"zerolinewidth\": 2}, \"yaxis\": {\"automargin\": true, \"gridcolor\": \"white\", \"linecolor\": \"white\", \"ticks\": \"\", \"title\": {\"standoff\": 15}, \"zerolinecolor\": \"white\", \"zerolinewidth\": 2}}}, \"xaxis\": {\"fixedrange\": true, \"showgrid\": false, \"title\": {\"text\": \"Year\"}}, \"yaxis\": {\"fixedrange\": true, \"title\": {\"text\": \"Sea Level (m) Relative to OD Malin\"}}},                        {\"responsive\": true}                    ).then(function(){\n",
       "                            \n",
       "var gd = document.getElementById('1c8fbd3d-f4d5-4fe9-94b5-16285b4ae754');\n",
       "var x = new MutationObserver(function (mutations, observer) {{\n",
       "        var display = window.getComputedStyle(gd).display;\n",
       "        if (!display || display === 'none') {{\n",
       "            console.log([gd, 'removed!']);\n",
       "            Plotly.purge(gd);\n",
       "            observer.disconnect();\n",
       "        }}\n",
       "}});\n",
       "\n",
       "// Listen for the removal of the full notebook cells\n",
       "var notebookContainer = gd.closest('#notebook-container');\n",
       "if (notebookContainer) {{\n",
       "    x.observe(notebookContainer, {childList: true});\n",
       "}}\n",
       "\n",
       "// Listen for the clearing of the current output cell\n",
       "var outputEl = gd.closest('.output');\n",
       "if (outputEl) {{\n",
       "    x.observe(outputEl, {childList: true});\n",
       "}}\n",
       "\n",
       "                        })                };                });            </script>        </div>"
      ]
     },
     "metadata": {},
     "output_type": "display_data"
    }
   ],
   "source": [
    "data_path = DATA_PATH+'Oceanic_Domain/3.4SeaLevel/Figure3.8/'\n",
    "data_csv = data_path + 'Figure3.8_data.csv'\n",
    "df = pd.read_csv(data_csv)\n",
    "\n",
    "annual_df = df[df['mean__annual__sea_surface_height'].notna()]\n",
    "\n",
    "monthlyTrace = go.Scatter(x=df[\"datetime\"],\n",
    "                 y=df[\"mean__monthly__sea_surface_height\"],\n",
    "                 name='Monthly Average',\n",
    "                mode='markers',\n",
    "                marker=dict(color=TIMESERIES_COLOR_2,\n",
    "                            size=5,\n",
    "                            opacity=0.5),\n",
    "                hovertemplate='%{x}<br>' +\n",
    "                        '<b>Monthly Average</b><br>' +\n",
    "                        'Mean Sea Level: %{y:.2f} m<extra></extra>'\n",
    "                        )\n",
    "annualTrace = go.Scatter(x=annual_df[\"datetime\"],\n",
    "                    y=annual_df[\"mean__annual__sea_surface_height\"],\n",
    "                    name='Annual Average',\n",
    "                    mode='lines',\n",
    "                    line_shape='spline',\n",
    "                    line=dict(\n",
    "                            color=TIMESERIES_COLOR_1,\n",
    "                            width=2),\n",
    "                    hovertemplate='%{x|%Y}<br>' +\n",
    "                            '<b>Annual Average</b><br>' +\n",
    "                            'Mean Sea Level: %{y:.2f} m<extra></extra>'\n",
    "                            )\n",
    "figure_3_8=go.Figure(data=[monthlyTrace,annualTrace], layout=TIMESERIES_LAYOUT)\n",
    "figure_3_8.update_layout(\n",
    "    yaxis=dict(title='Sea Level (m) Relative to OD Malin'),\n",
    "    xaxis=dict(title='Year'),\n",
    "    hovermode='closest')\n",
    "figure_3_8"
   ]
  },
  {
   "cell_type": "code",
   "execution_count": 42,
   "metadata": {},
   "outputs": [
    {
     "data": {
      "application/vnd.plotly.v1+json": {
       "config": {
        "plotlyServerURL": "https://plot.ly"
       },
       "data": [
        {
         "hoverinfo": "skip",
         "lat": [
          55.3716368708
         ],
         "lon": [
          -7.33380720063
         ],
         "marker": {
          "color": "#00a5e3",
          "size": 12
         },
         "name": "Malin Head",
         "type": "scattermapbox"
        },
        {
         "hoverinfo": "skip",
         "lat": [
          54.2528873817
         ],
         "lon": [
          -9.88949819632
         ],
         "marker": {
          "color": "#ff5768",
          "size": 12
         },
         "name": "Ballyglass Harbour",
         "type": "scattermapbox"
        },
        {
         "hoverinfo": "skip",
         "lat": [
          51.6491661381
         ],
         "lon": [
          -9.9029117699
         ],
         "marker": {
          "color": "#ff96c5",
          "size": 12
         },
         "name": "Casteltownbere",
         "type": "scattermapbox"
        },
        {
         "hoverinfo": "skip",
         "lat": [
          53.3912445441
         ],
         "lon": [
          -6.0673081047
         ],
         "marker": {
          "color": "#ffbf65",
          "size": 12
         },
         "name": "Howth Harbour",
         "type": "scattermapbox"
        },
        {
         "hoverinfo": "skip",
         "lat": [
          53.3455024253
         ],
         "lon": [
          -6.22069171308
         ],
         "marker": {
          "color": "#00a4ae",
          "size": 12
         },
         "name": "Dublin Port",
         "type": "scattermapbox"
        },
        {
         "hoverinfo": "skip",
         "hovertemplate": [
          "Name: Aranmore Island<br>Station No.: 38060<br>Agency: MI<br>OPW Class.: Secondary<br>MI Class.: Primary<br>Final Class.: S/P<br>Type: T<br>Status: A<br>Lat: %{lat:.2f} °<br>Lon: %{lon:.2f} °<extra></extra>",
          "Name: Ballycotton<br>Station No.: Not entered<br>Agency: MI<br>OPW Class.: Primary<br>MI Class.: Primary<br>Final Class.: P<br>Type: T<br>Status: A<br>Lat: %{lat:.2f} °<br>Lon: %{lon:.2f} °<extra></extra>",
          "Name: Ballyglass<br>Station No.: 33060<br>Agency: MI<br>OPW Class.: Primary<br>MI Class.: Primary<br>Final Class.: P<br>Type: T<br>Status: A<br>Lat: %{lat:.2f} °<br>Lon: %{lon:.2f} °<extra></extra>",
          "Name: Castletownbere<br>Station No.: ?<br>Agency: MI<br>OPW Class.: Primary<br>MI Class.: Primary<br>Final Class.: P<br>Type: T<br>Status: A<br>Lat: %{lat:.2f} °<br>Lon: %{lon:.2f} °<extra></extra>",
          "Name: Dingle<br>Station No.: Not registered<br>Agency: MI<br>OPW Class.: Primary<br>MI Class.: Primary<br>Final Class.: P<br>Type: T<br>Status: A<br>Lat: %{lat:.2f} °<br>Lon: %{lon:.2f} °<extra></extra>",
          "Name: Dunmore East<br>Station No.:  <br>Agency: MI<br>OPW Class.: Primary<br>MI Class.: Primary<br>Final Class.: P<br>Type: T<br>Status: A<br>Lat: %{lat:.2f} °<br>Lon: %{lon:.2f} °<extra></extra>",
          "Name: Galway Port<br>Station No.: 29062<br>Agency: MI<br>OPW Class.: Primary<br>MI Class.: Primary<br>Final Class.: P<br>Type: T<br>Status: A<br>Lat: %{lat:.2f} °<br>Lon: %{lon:.2f} °<extra></extra>",
          "Name: Howth Harbour<br>Station No.: 9067<br>Agency: MI<br>OPW Class.: Primary<br>MI Class.: Primary<br>Final Class.: P<br>Type: T<br>Status: A<br>Lat: %{lat:.2f} °<br>Lon: %{lon:.2f} °<extra></extra>",
          "Name: Howth Harbour 2<br>Station No.:  <br>Agency: MI<br>OPW Class.:  <br>MI Class.:  <br>Final Class.:  <br>Type: T<br>Status: A<br>Lat: %{lat:.2f} °<br>Lon: %{lon:.2f} °<extra></extra>",
          "Name: Inismore<br>Station No.: 31062<br>Agency: MI<br>OPW Class.: Secondary<br>MI Class.: Primary<br>Final Class.: S/P<br>Type: T<br>Status: A<br>Lat: %{lat:.2f} °<br>Lon: %{lon:.2f} °<extra></extra>",
          "Name: Killybegs<br>Station No.: 37060<br>Agency: MI<br>OPW Class.: Primary<br>MI Class.: Primary<br>Final Class.: P<br>Type: T<br>Status: A<br>Lat: %{lat:.2f} °<br>Lon: %{lon:.2f} °<extra></extra>",
          "Name: Kilrush Harbour<br>Station No.:  <br>Agency: MI<br>OPW Class.: Primary<br>MI Class.: Primary<br>Final Class.: P<br>Type: T<br>Status: A<br>Lat: %{lat:.2f} °<br>Lon: %{lon:.2f} °<extra></extra>",
          "Name: Kinvarra<br>Station No.: Not registered<br>Agency: MI<br>OPW Class.: Secondary<br>MI Class.: Secondary<br>Final Class.: S<br>Type: ST<br>Status: A<br>Lat: %{lat:.2f} °<br>Lon: %{lon:.2f} °<extra></extra>",
          "Name: Malin Head - Portmore Pier<br>Station No.: 40061<br>Agency: MI<br>OPW Class.: Primary<br>MI Class.: Primary<br>Final Class.: P<br>Type: T<br>Status: A<br>Lat: %{lat:.2f} °<br>Lon: %{lon:.2f} °<extra></extra>",
          "Name: Sligo<br>Station No.: 35060<br>Agency: MI<br>OPW Class.: Primary<br>MI Class.: Primary<br>Final Class.: P<br>Type: ST<br>Status: A<br>Lat: %{lat:.2f} °<br>Lon: %{lon:.2f} °<extra></extra>",
          "Name: Wexford Harbour<br>Station No.: 12066<br>Agency: MI<br>OPW Class.: Primary<br>MI Class.: Primary<br>Final Class.: P<br>Type: ST<br>Status: A<br>Lat: %{lat:.2f} °<br>Lon: %{lon:.2f} °<extra></extra>"
         ],
         "lat": [
          54.9895737398,
          51.8273395548,
          54.2528873817,
          51.6491661381,
          52.1366946323,
          52.1473085611,
          53.2687094602,
          53.3912445441,
          53.3910705005,
          53.1175446473,
          54.6348320561,
          52.6355410568,
          53.140246801,
          55.3716368708,
          54.3044879324,
          52.3381545268
         ],
         "lon": [
          -8.49493635196,
          -7.99998549363,
          -9.88949819632,
          -9.9029117699,
          -10.2747383123,
          -6.99105590957,
          -9.04735135068,
          -6.0673081047,
          -6.06710550182,
          -9.66637598708,
          -8.39420751244,
          -9.48964593314,
          -8.9369903561,
          -7.33380720063,
          -8.56821681972,
          -6.45797282131
         ],
         "marker": {
          "color": "blue",
          "size": 7
         },
         "name": "Marine Institute",
         "type": "scattermapbox"
        },
        {
         "hoverinfo": "skip",
         "hovertemplate": [],
         "lat": [],
         "lon": [],
         "marker": {
          "color": "green",
          "size": 7
         },
         "name": "EPA",
         "type": "scattermapbox"
        },
        {
         "hoverinfo": "skip",
         "hovertemplate": [
          "Name: Aashleagh Br<br>Station No.: 32060<br>Agency: OPW<br>OPW Class.: Primary<br>MI Class.: Unable to comment - more info required<br>Final Class.: P/U<br>Type: ST<br>Status: A<br>Lat: %{lat:.2f} °<br>Lon: %{lon:.2f} °<extra></extra>",
          "Name: Adelphi Quay<br>Station No.: 16160<br>Agency: OPW<br>OPW Class.: Primary<br>MI Class.: Unable to comment - more info required<br>Final Class.: P/U<br>Type: ST<br>Status: A<br>Lat: %{lat:.2f} °<br>Lon: %{lon:.2f} °<extra></extra>",
          "Name: Arklow Harbour<br>Station No.: 10060<br>Agency: OPW<br>OPW Class.: Primary<br>MI Class.: Primary<br>Final Class.: P<br>Type: T<br>Status: A<br>Lat: %{lat:.2f} °<br>Lon: %{lon:.2f} °<extra></extra>",
          "Name: Ballina<br>Station No.: 34061<br>Agency: OPW<br>OPW Class.: Primary<br>MI Class.: Unable to comment - more info required<br>Final Class.: P/U<br>Type: ST<br>Status: A<br>Lat: %{lat:.2f} °<br>Lon: %{lon:.2f} °<extra></extra>",
          "Name: Ballycotton<br>Station No.: 19068<br>Agency: OPW<br>OPW Class.: Primary<br>MI Class.: Primary<br>Final Class.: P<br>Type: T<br>Status: A<br>Lat: %{lat:.2f} °<br>Lon: %{lon:.2f} °<extra></extra>",
          "Name: Blennerville<br>Station No.: 23062<br>Agency: OPW<br>OPW Class.: Primary<br>MI Class.: Unable to comment - more info required<br>Final Class.: P/U<br>Type: ST<br>Status: A<br>Lat: %{lat:.2f} °<br>Lon: %{lon:.2f} °<extra></extra>",
          "Name: Carrigaholt Pier<br>Station No.: 27063<br>Agency: OPW<br>OPW Class.:  <br>MI Class.:  <br>Final Class.:  <br>Type: T<br>Status: A<br>Lat: %{lat:.2f} °<br>Lon: %{lon:.2f} °<extra></extra>",
          "Name: Clarecastle Br<br>Station No.: 27068<br>Agency: OPW<br>OPW Class.: Primary<br>MI Class.: Unable to comment - more info required<br>Final Class.: P/U<br>Type: ST<br>Status: A<br>Lat: %{lat:.2f} °<br>Lon: %{lon:.2f} °<extra></extra>",
          "Name: Currach Club<br>Station No.: 19160<br>Agency: OPW<br>OPW Class.: Primary<br>MI Class.:  <br>Final Class.:  <br>Type: T<br>Status: A<br>Lat: %{lat:.2f} °<br>Lon: %{lon:.2f} °<extra></extra>",
          "Name: Dundalk Port<br>Station No.: 6061<br>Agency: OPW<br>OPW Class.: Primary<br>MI Class.: nan<br>Final Class.: P/U<br>Type: ST<br>Status: A<br>Lat: %{lat:.2f} °<br>Lon: %{lon:.2f} °<extra></extra>",
          "Name: Dunmore East<br>Station No.: 17061<br>Agency: OPW<br>OPW Class.: Primary<br>MI Class.: Primary<br>Final Class.: P<br>Type: T<br>Status: A<br>Lat: %{lat:.2f} °<br>Lon: %{lon:.2f} °<extra></extra>",
          "Name: Enniscrone<br>Station No.: 34060<br>Agency: OPW<br>OPW Class.: Primary<br>MI Class.:  <br>Final Class.:  <br>Type: T<br>Status: A<br>Lat: %{lat:.2f} °<br>Lon: %{lon:.2f} °<extra></extra>",
          "Name: Fenit<br>Station No.: 23066<br>Agency: OPW<br>OPW Class.: Primary<br>MI Class.: Primary<br>Final Class.: P<br>Type: T<br>Status: A<br>Lat: %{lat:.2f} °<br>Lon: %{lon:.2f} °<extra></extra>",
          "Name: Ferry Br (Maigue)<br>Station No.: 24061<br>Agency: OPW<br>OPW Class.: Primary<br>MI Class.: Unable to comment - more info required<br>Final Class.: P/U<br>Type: ST<br>Status: A<br>Lat: %{lat:.2f} °<br>Lon: %{lon:.2f} °<extra></extra>",
          "Name: Ferrycarrig Bridge<br>Station No.: 12604<br>Agency: OPW<br>OPW Class.:  <br>MI Class.:  <br>Final Class.:  <br>Type: T<br>Status:  <br>Lat: %{lat:.2f} °<br>Lon: %{lon:.2f} °<extra></extra>",
          "Name: Foynes<br>Station No.: 24064<br>Agency: OPW<br>OPW Class.: Primary<br>MI Class.:  <br>Final Class.:  <br>Type: T<br>Status: A<br>Lat: %{lat:.2f} °<br>Lon: %{lon:.2f} °<extra></extra>",
          "Name: Giles Quay<br>Station No.: 6062<br>Agency: OPW<br>OPW Class.: Primary<br>MI Class.: Unable to comment - more info required<br>Final Class.: P/U<br>Type: T<br>Status: A<br>Lat: %{lat:.2f} °<br>Lon: %{lon:.2f} °<extra></extra>",
          "Name: Kilcolgan<br>Station No.: 29011<br>Agency: OPW<br>OPW Class.: Primary<br>MI Class.: Unable to comment - more info required<br>Final Class.: P/U<br>Type: ST<br>Status: A<br>Lat: %{lat:.2f} °<br>Lon: %{lon:.2f} °<extra></extra>",
          "Name: Limerick Dock<br>Station No.: Not registered<br>Agency: OPW<br>OPW Class.: Primary<br>MI Class.: Primary<br>Final Class.: P/U<br>Type: ST<br>Status: A<br>Lat: %{lat:.2f} °<br>Lon: %{lon:.2f} °<extra></extra>",
          "Name: Limerick Dock<br>Station No.: 24063<br>Agency: OPW<br>OPW Class.:  <br>MI Class.:  <br>Final Class.:  <br>Type: T<br>Status: A<br>Lat: %{lat:.2f} °<br>Lon: %{lon:.2f} °<extra></extra>",
          "Name: Malin Head<br>Station No.: 40060<br>Agency: OPW<br>OPW Class.: GLOSS<br>MI Class.: Primary<br>Final Class.: G<br>Type: T<br>Status: A<br>Lat: %{lat:.2f} °<br>Lon: %{lon:.2f} °<extra></extra>",
          "Name: Moneycashen<br>Station No.: 23068<br>Agency: OPW<br>OPW Class.: Primary<br>MI Class.: Unable to comment - more info required<br>Final Class.: P/U<br>Type: ST<br>Status: A<br>Lat: %{lat:.2f} °<br>Lon: %{lon:.2f} °<extra></extra>",
          "Name: Oranmore Br<br>Station No.: 29015<br>Agency: OPW<br>OPW Class.: Primary<br>MI Class.: Unable to comment - more info required<br>Final Class.: P/U<br>Type: ST<br>Status: A<br>Lat: %{lat:.2f} °<br>Lon: %{lon:.2f} °<extra></extra>",
          "Name: Port Br<br>Station No.: 39061<br>Agency: OPW<br>OPW Class.: Primary<br>MI Class.: Unable to comment - more info required<br>Final Class.: P/U<br>Type: ST<br>Status: A<br>Lat: %{lat:.2f} °<br>Lon: %{lon:.2f} °<extra></extra>",
          "Name: Port Oriel<br>Station No.: 6060<br>Agency: OPW<br>OPW Class.: Primary<br>MI Class.: Primary<br>Final Class.: P<br>Type: T<br>Status: A<br>Lat: %{lat:.2f} °<br>Lon: %{lon:.2f} °<extra></extra>",
          "Name: Ringaskiddy NMCI<br>Station No.: 19069<br>Agency: OPW<br>OPW Class.: Primary<br>MI Class.: Unable to comment - more info required<br>Final Class.: P/U<br>Type: T<br>Status: A<br>Lat: %{lat:.2f} °<br>Lon: %{lon:.2f} °<extra></extra>",
          "Name: Rossaveel Pier<br>Station No.: 31061<br>Agency: OPW<br>OPW Class.: Primary<br>MI Class.: Primary<br>Final Class.: P<br>Type: T<br>Status: A<br>Lat: %{lat:.2f} °<br>Lon: %{lon:.2f} °<extra></extra>",
          "Name: Shannon<br>Station No.: 27069<br>Agency: OPW<br>OPW Class.: Primary<br>MI Class.:  <br>Final Class.:  <br>Type: T<br>Status: A<br>Lat: %{lat:.2f} °<br>Lon: %{lon:.2f} °<extra></extra>",
          "Name: Wolfe Tone Br<br>Station No.: 30061<br>Agency: OPW<br>OPW Class.: Primary<br>MI Class.: Primary<br>Final Class.: P<br>Type: ST<br>Status: A<br>Lat: %{lat:.2f} °<br>Lon: %{lon:.2f} °<extra></extra>",
          "Name: Youghal<br>Station No.: 18061<br>Agency: OPW<br>OPW Class.: Primary<br>MI Class.:  <br>Final Class.:  <br>Type: T<br>Status: A<br>Lat: %{lat:.2f} °<br>Lon: %{lon:.2f} °<extra></extra>"
         ],
         "lat": [
          53.6175559182,
          52.2592954906,
          52.7917388089,
          54.1170519756,
          51.8277620081,
          52.2575375646,
          52.6004661212,
          52.8463842829,
          51.9015037756,
          54.0078439288,
          52.1471375512,
          54.2200709024,
          52.2693113033,
          52.620907438,
          52.3504831846,
          52.6130098013,
          53.9842826798,
          53.2138653665,
          52.6590096163,
          52.6582013107,
          55.3716368708,
          52.4824164791,
          53.2715247873,
          54.9484148333,
          53.798809638,
          51.8344345643,
          53.2666878491,
          52.6784189565,
          53.2698987417,
          51.9568066584
         ],
         "lon": [
          -9.67062851014,
          -7.10159419102,
          -6.1442575812,
          -9.14618400241,
          -8.00075433851,
          -9.73527393455,
          -9.69826674231,
          -8.98118075064,
          -8.43603925983,
          -6.38404324234,
          -6.98997858882,
          -9.09783885059,
          -9.86163840678,
          -8.76418420869,
          -6.51054858443,
          -9.10553540055,
          -6.23893200408,
          -8.87070283555,
          -8.64223007863,
          -8.64378492361,
          -7.33380720063,
          -9.68040679879,
          -8.92884002659,
          -7.71335966058,
          -6.22074117425,
          -8.30381154574,
          -9.56151750556,
          -8.91731731323,
          -9.0551605818,
          -7.84689553862
         ],
         "marker": {
          "color": "yellow",
          "size": 7
         },
         "name": "OPW",
         "type": "scattermapbox"
        },
        {
         "hoverinfo": "skip",
         "hovertemplate": [
          "Name: Bantry<br>Station No.: Not registered<br>Agency: BHC<br>OPW Class.: Primary<br>MI Class.: Unable to comment - more info required<br>Final Class.: P/U<br>Type: T<br>Status: I<br>Lat: %{lat:.2f} °<br>Lon: %{lon:.2f} °<extra></extra>",
          "Name: Carrigaholt<br>Station No.: 27062<br>Agency: LHC<br>OPW Class.: Primary<br>MI Class.: Unable to comment - more info required<br>Final Class.: P/U<br>Type: T<br>Status: A<br>Lat: %{lat:.2f} °<br>Lon: %{lon:.2f} °<extra></extra>",
          "Name: Cobh<br>Station No.: Not registered<br>Agency: POC<br>OPW Class.: Secondary<br>MI Class.: Unable to comment - more info required<br>Final Class.: S/U<br>Type: T<br>Status: A<br>Lat: %{lat:.2f} °<br>Lon: %{lon:.2f} °<extra></extra>",
          "Name: Dun Laoghaire<br>Station No.: 9061<br>Agency: DLPC<br>OPW Class.:  <br>MI Class.:  <br>Final Class.:  <br>Type: T<br>Status: A<br>Lat: %{lat:.2f} °<br>Lon: %{lon:.2f} °<extra></extra>",
          "Name: Foynes<br>Station No.: Not registered<br>Agency: LHC<br>OPW Class.: Primary<br>MI Class.: Unable to comment - more info required<br>Final Class.: P/U<br>Type: T<br>Status: A<br>Lat: %{lat:.2f} °<br>Lon: %{lon:.2f} °<extra></extra>",
          "Name: The Whelps<br>Station No.:  <br>Agency: SFPC<br>OPW Class.:  <br>MI Class.:  <br>Final Class.:  <br>Type: T<br>Status: A<br>Lat: %{lat:.2f} °<br>Lon: %{lon:.2f} °<extra></extra>",
          "Name: Tivoli<br>Station No.: 19067<br>Agency: POC<br>OPW Class.: Primary<br>MI Class.: Unable to comment - more info required<br>Final Class.: P/U<br>Type: T<br>Status: A<br>Lat: %{lat:.2f} °<br>Lon: %{lon:.2f} °<extra></extra>"
         ],
         "lat": [
          51.6799502487,
          52.6006549818,
          51.8507641059,
          53.293931917,
          52.6143826663,
          52.6768533351,
          51.9004836977
         ],
         "lon": [
          -9.46150318596,
          -9.69825928609,
          -8.27940742772,
          -6.12960773344,
          -9.11249515819,
          -8.75019623111,
          -8.40974458765
         ],
         "marker": {
          "color": "brown",
          "size": 7
         },
         "name": "Port Company",
         "type": "scattermapbox"
        },
        {
         "hovertemplate": [
          "Name: Dublin port<br>Station No.: 9064<br>Agency: Dublin City Council<br>OPW Class.: Primary<br>MI Class.: Primary<br>Final Class.: P<br>Type: ST<br>Status: A<br>Lat: %{lat:.2f} °<br>Lon: %{lon:.2f} °<extra></extra>",
          "Name: Lapps Quay<br>Station No.:  <br>Agency: Cork City Council<br>OPW Class.:  <br>MI Class.:  <br>Final Class.:  <br>Type: ST<br>Status: A<br>Lat: %{lat:.2f} °<br>Lon: %{lon:.2f} °<extra></extra>"
         ],
         "lat": [
          53.3455024253,
          51.8973441296
         ],
         "lon": [
          -6.22069171308,
          -8.46601593635
         ],
         "marker": {
          "color": "orange",
          "size": 7
         },
         "name": "Local Authority",
         "type": "scattermapbox"
        }
       ],
       "layout": {
        "font": {
         "color": "#2a3f5f",
         "family": "Arial"
        },
        "height": 400,
        "legend": {
         "title": {
          "text": "<b>Station Type</b>"
         },
         "x": 0.01
        },
        "mapbox": {
         "bearing": 0,
         "center": {
          "lat": 53.4,
          "lon": 352
         },
         "pitch": 0,
         "style": "open-street-map",
         "zoom": 5
        },
        "margin": {
         "b": 0,
         "l": 0,
         "r": 0,
         "t": 0
        },
        "paper_bgcolor": "rgba(0,0,0,0)",
        "plot_bgcolor": "rgba(0,0,0,0)",
        "template": {
         "data": {
          "bar": [
           {
            "error_x": {
             "color": "#2a3f5f"
            },
            "error_y": {
             "color": "#2a3f5f"
            },
            "marker": {
             "line": {
              "color": "#E5ECF6",
              "width": 0.5
             }
            },
            "type": "bar"
           }
          ],
          "barpolar": [
           {
            "marker": {
             "line": {
              "color": "#E5ECF6",
              "width": 0.5
             }
            },
            "type": "barpolar"
           }
          ],
          "carpet": [
           {
            "aaxis": {
             "endlinecolor": "#2a3f5f",
             "gridcolor": "white",
             "linecolor": "white",
             "minorgridcolor": "white",
             "startlinecolor": "#2a3f5f"
            },
            "baxis": {
             "endlinecolor": "#2a3f5f",
             "gridcolor": "white",
             "linecolor": "white",
             "minorgridcolor": "white",
             "startlinecolor": "#2a3f5f"
            },
            "type": "carpet"
           }
          ],
          "choropleth": [
           {
            "colorbar": {
             "outlinewidth": 0,
             "ticks": ""
            },
            "type": "choropleth"
           }
          ],
          "contour": [
           {
            "colorbar": {
             "outlinewidth": 0,
             "ticks": ""
            },
            "colorscale": [
             [
              0,
              "#0d0887"
             ],
             [
              0.1111111111111111,
              "#46039f"
             ],
             [
              0.2222222222222222,
              "#7201a8"
             ],
             [
              0.3333333333333333,
              "#9c179e"
             ],
             [
              0.4444444444444444,
              "#bd3786"
             ],
             [
              0.5555555555555556,
              "#d8576b"
             ],
             [
              0.6666666666666666,
              "#ed7953"
             ],
             [
              0.7777777777777778,
              "#fb9f3a"
             ],
             [
              0.8888888888888888,
              "#fdca26"
             ],
             [
              1,
              "#f0f921"
             ]
            ],
            "type": "contour"
           }
          ],
          "contourcarpet": [
           {
            "colorbar": {
             "outlinewidth": 0,
             "ticks": ""
            },
            "type": "contourcarpet"
           }
          ],
          "heatmap": [
           {
            "colorbar": {
             "outlinewidth": 0,
             "ticks": ""
            },
            "colorscale": [
             [
              0,
              "#0d0887"
             ],
             [
              0.1111111111111111,
              "#46039f"
             ],
             [
              0.2222222222222222,
              "#7201a8"
             ],
             [
              0.3333333333333333,
              "#9c179e"
             ],
             [
              0.4444444444444444,
              "#bd3786"
             ],
             [
              0.5555555555555556,
              "#d8576b"
             ],
             [
              0.6666666666666666,
              "#ed7953"
             ],
             [
              0.7777777777777778,
              "#fb9f3a"
             ],
             [
              0.8888888888888888,
              "#fdca26"
             ],
             [
              1,
              "#f0f921"
             ]
            ],
            "type": "heatmap"
           }
          ],
          "heatmapgl": [
           {
            "colorbar": {
             "outlinewidth": 0,
             "ticks": ""
            },
            "colorscale": [
             [
              0,
              "#0d0887"
             ],
             [
              0.1111111111111111,
              "#46039f"
             ],
             [
              0.2222222222222222,
              "#7201a8"
             ],
             [
              0.3333333333333333,
              "#9c179e"
             ],
             [
              0.4444444444444444,
              "#bd3786"
             ],
             [
              0.5555555555555556,
              "#d8576b"
             ],
             [
              0.6666666666666666,
              "#ed7953"
             ],
             [
              0.7777777777777778,
              "#fb9f3a"
             ],
             [
              0.8888888888888888,
              "#fdca26"
             ],
             [
              1,
              "#f0f921"
             ]
            ],
            "type": "heatmapgl"
           }
          ],
          "histogram": [
           {
            "marker": {
             "colorbar": {
              "outlinewidth": 0,
              "ticks": ""
             }
            },
            "type": "histogram"
           }
          ],
          "histogram2d": [
           {
            "colorbar": {
             "outlinewidth": 0,
             "ticks": ""
            },
            "colorscale": [
             [
              0,
              "#0d0887"
             ],
             [
              0.1111111111111111,
              "#46039f"
             ],
             [
              0.2222222222222222,
              "#7201a8"
             ],
             [
              0.3333333333333333,
              "#9c179e"
             ],
             [
              0.4444444444444444,
              "#bd3786"
             ],
             [
              0.5555555555555556,
              "#d8576b"
             ],
             [
              0.6666666666666666,
              "#ed7953"
             ],
             [
              0.7777777777777778,
              "#fb9f3a"
             ],
             [
              0.8888888888888888,
              "#fdca26"
             ],
             [
              1,
              "#f0f921"
             ]
            ],
            "type": "histogram2d"
           }
          ],
          "histogram2dcontour": [
           {
            "colorbar": {
             "outlinewidth": 0,
             "ticks": ""
            },
            "colorscale": [
             [
              0,
              "#0d0887"
             ],
             [
              0.1111111111111111,
              "#46039f"
             ],
             [
              0.2222222222222222,
              "#7201a8"
             ],
             [
              0.3333333333333333,
              "#9c179e"
             ],
             [
              0.4444444444444444,
              "#bd3786"
             ],
             [
              0.5555555555555556,
              "#d8576b"
             ],
             [
              0.6666666666666666,
              "#ed7953"
             ],
             [
              0.7777777777777778,
              "#fb9f3a"
             ],
             [
              0.8888888888888888,
              "#fdca26"
             ],
             [
              1,
              "#f0f921"
             ]
            ],
            "type": "histogram2dcontour"
           }
          ],
          "mesh3d": [
           {
            "colorbar": {
             "outlinewidth": 0,
             "ticks": ""
            },
            "type": "mesh3d"
           }
          ],
          "parcoords": [
           {
            "line": {
             "colorbar": {
              "outlinewidth": 0,
              "ticks": ""
             }
            },
            "type": "parcoords"
           }
          ],
          "pie": [
           {
            "automargin": true,
            "type": "pie"
           }
          ],
          "scatter": [
           {
            "marker": {
             "colorbar": {
              "outlinewidth": 0,
              "ticks": ""
             }
            },
            "type": "scatter"
           }
          ],
          "scatter3d": [
           {
            "line": {
             "colorbar": {
              "outlinewidth": 0,
              "ticks": ""
             }
            },
            "marker": {
             "colorbar": {
              "outlinewidth": 0,
              "ticks": ""
             }
            },
            "type": "scatter3d"
           }
          ],
          "scattercarpet": [
           {
            "marker": {
             "colorbar": {
              "outlinewidth": 0,
              "ticks": ""
             }
            },
            "type": "scattercarpet"
           }
          ],
          "scattergeo": [
           {
            "marker": {
             "colorbar": {
              "outlinewidth": 0,
              "ticks": ""
             }
            },
            "type": "scattergeo"
           }
          ],
          "scattergl": [
           {
            "marker": {
             "colorbar": {
              "outlinewidth": 0,
              "ticks": ""
             }
            },
            "type": "scattergl"
           }
          ],
          "scattermapbox": [
           {
            "marker": {
             "colorbar": {
              "outlinewidth": 0,
              "ticks": ""
             }
            },
            "type": "scattermapbox"
           }
          ],
          "scatterpolar": [
           {
            "marker": {
             "colorbar": {
              "outlinewidth": 0,
              "ticks": ""
             }
            },
            "type": "scatterpolar"
           }
          ],
          "scatterpolargl": [
           {
            "marker": {
             "colorbar": {
              "outlinewidth": 0,
              "ticks": ""
             }
            },
            "type": "scatterpolargl"
           }
          ],
          "scatterternary": [
           {
            "marker": {
             "colorbar": {
              "outlinewidth": 0,
              "ticks": ""
             }
            },
            "type": "scatterternary"
           }
          ],
          "surface": [
           {
            "colorbar": {
             "outlinewidth": 0,
             "ticks": ""
            },
            "colorscale": [
             [
              0,
              "#0d0887"
             ],
             [
              0.1111111111111111,
              "#46039f"
             ],
             [
              0.2222222222222222,
              "#7201a8"
             ],
             [
              0.3333333333333333,
              "#9c179e"
             ],
             [
              0.4444444444444444,
              "#bd3786"
             ],
             [
              0.5555555555555556,
              "#d8576b"
             ],
             [
              0.6666666666666666,
              "#ed7953"
             ],
             [
              0.7777777777777778,
              "#fb9f3a"
             ],
             [
              0.8888888888888888,
              "#fdca26"
             ],
             [
              1,
              "#f0f921"
             ]
            ],
            "type": "surface"
           }
          ],
          "table": [
           {
            "cells": {
             "fill": {
              "color": "#EBF0F8"
             },
             "line": {
              "color": "white"
             }
            },
            "header": {
             "fill": {
              "color": "#C8D4E3"
             },
             "line": {
              "color": "white"
             }
            },
            "type": "table"
           }
          ]
         },
         "layout": {
          "annotationdefaults": {
           "arrowcolor": "#2a3f5f",
           "arrowhead": 0,
           "arrowwidth": 1
          },
          "autotypenumbers": "strict",
          "coloraxis": {
           "colorbar": {
            "outlinewidth": 0,
            "ticks": ""
           }
          },
          "colorscale": {
           "diverging": [
            [
             0,
             "#8e0152"
            ],
            [
             0.1,
             "#c51b7d"
            ],
            [
             0.2,
             "#de77ae"
            ],
            [
             0.3,
             "#f1b6da"
            ],
            [
             0.4,
             "#fde0ef"
            ],
            [
             0.5,
             "#f7f7f7"
            ],
            [
             0.6,
             "#e6f5d0"
            ],
            [
             0.7,
             "#b8e186"
            ],
            [
             0.8,
             "#7fbc41"
            ],
            [
             0.9,
             "#4d9221"
            ],
            [
             1,
             "#276419"
            ]
           ],
           "sequential": [
            [
             0,
             "#0d0887"
            ],
            [
             0.1111111111111111,
             "#46039f"
            ],
            [
             0.2222222222222222,
             "#7201a8"
            ],
            [
             0.3333333333333333,
             "#9c179e"
            ],
            [
             0.4444444444444444,
             "#bd3786"
            ],
            [
             0.5555555555555556,
             "#d8576b"
            ],
            [
             0.6666666666666666,
             "#ed7953"
            ],
            [
             0.7777777777777778,
             "#fb9f3a"
            ],
            [
             0.8888888888888888,
             "#fdca26"
            ],
            [
             1,
             "#f0f921"
            ]
           ],
           "sequentialminus": [
            [
             0,
             "#0d0887"
            ],
            [
             0.1111111111111111,
             "#46039f"
            ],
            [
             0.2222222222222222,
             "#7201a8"
            ],
            [
             0.3333333333333333,
             "#9c179e"
            ],
            [
             0.4444444444444444,
             "#bd3786"
            ],
            [
             0.5555555555555556,
             "#d8576b"
            ],
            [
             0.6666666666666666,
             "#ed7953"
            ],
            [
             0.7777777777777778,
             "#fb9f3a"
            ],
            [
             0.8888888888888888,
             "#fdca26"
            ],
            [
             1,
             "#f0f921"
            ]
           ]
          },
          "colorway": [
           "#636efa",
           "#EF553B",
           "#00cc96",
           "#ab63fa",
           "#FFA15A",
           "#19d3f3",
           "#FF6692",
           "#B6E880",
           "#FF97FF",
           "#FECB52"
          ],
          "font": {
           "color": "#2a3f5f"
          },
          "geo": {
           "bgcolor": "white",
           "lakecolor": "white",
           "landcolor": "#E5ECF6",
           "showlakes": true,
           "showland": true,
           "subunitcolor": "white"
          },
          "hoverlabel": {
           "align": "left"
          },
          "hovermode": "closest",
          "mapbox": {
           "style": "light"
          },
          "paper_bgcolor": "white",
          "plot_bgcolor": "#E5ECF6",
          "polar": {
           "angularaxis": {
            "gridcolor": "white",
            "linecolor": "white",
            "ticks": ""
           },
           "bgcolor": "#E5ECF6",
           "radialaxis": {
            "gridcolor": "white",
            "linecolor": "white",
            "ticks": ""
           }
          },
          "scene": {
           "xaxis": {
            "backgroundcolor": "#E5ECF6",
            "gridcolor": "white",
            "gridwidth": 2,
            "linecolor": "white",
            "showbackground": true,
            "ticks": "",
            "zerolinecolor": "white"
           },
           "yaxis": {
            "backgroundcolor": "#E5ECF6",
            "gridcolor": "white",
            "gridwidth": 2,
            "linecolor": "white",
            "showbackground": true,
            "ticks": "",
            "zerolinecolor": "white"
           },
           "zaxis": {
            "backgroundcolor": "#E5ECF6",
            "gridcolor": "white",
            "gridwidth": 2,
            "linecolor": "white",
            "showbackground": true,
            "ticks": "",
            "zerolinecolor": "white"
           }
          },
          "shapedefaults": {
           "line": {
            "color": "#2a3f5f"
           }
          },
          "ternary": {
           "aaxis": {
            "gridcolor": "white",
            "linecolor": "white",
            "ticks": ""
           },
           "baxis": {
            "gridcolor": "white",
            "linecolor": "white",
            "ticks": ""
           },
           "bgcolor": "#E5ECF6",
           "caxis": {
            "gridcolor": "white",
            "linecolor": "white",
            "ticks": ""
           }
          },
          "title": {
           "x": 0.05
          },
          "xaxis": {
           "automargin": true,
           "gridcolor": "white",
           "linecolor": "white",
           "ticks": "",
           "title": {
            "standoff": 15
           },
           "zerolinecolor": "white",
           "zerolinewidth": 2
          },
          "yaxis": {
           "automargin": true,
           "gridcolor": "white",
           "linecolor": "white",
           "ticks": "",
           "title": {
            "standoff": 15
           },
           "zerolinecolor": "white",
           "zerolinewidth": 2
          }
         }
        }
       }
      },
      "text/html": [
       "<div>                            <div id=\"0f9c433a-196d-4340-9838-86df02ada9bb\" class=\"plotly-graph-div\" style=\"height:400px; width:100%;\"></div>            <script type=\"text/javascript\">                require([\"plotly\"], function(Plotly) {                    window.PLOTLYENV=window.PLOTLYENV || {};                                    if (document.getElementById(\"0f9c433a-196d-4340-9838-86df02ada9bb\")) {                    Plotly.newPlot(                        \"0f9c433a-196d-4340-9838-86df02ada9bb\",                        [{\"hoverinfo\": \"skip\", \"lat\": [55.3716368708], \"lon\": [-7.33380720063], \"marker\": {\"color\": \"#00a5e3\", \"size\": 12}, \"name\": \"Malin Head\", \"type\": \"scattermapbox\"}, {\"hoverinfo\": \"skip\", \"lat\": [54.2528873817], \"lon\": [-9.88949819632], \"marker\": {\"color\": \"#ff5768\", \"size\": 12}, \"name\": \"Ballyglass Harbour\", \"type\": \"scattermapbox\"}, {\"hoverinfo\": \"skip\", \"lat\": [51.6491661381], \"lon\": [-9.9029117699], \"marker\": {\"color\": \"#ff96c5\", \"size\": 12}, \"name\": \"Casteltownbere\", \"type\": \"scattermapbox\"}, {\"hoverinfo\": \"skip\", \"lat\": [53.3912445441], \"lon\": [-6.0673081047], \"marker\": {\"color\": \"#ffbf65\", \"size\": 12}, \"name\": \"Howth Harbour\", \"type\": \"scattermapbox\"}, {\"hoverinfo\": \"skip\", \"lat\": [53.3455024253], \"lon\": [-6.22069171308], \"marker\": {\"color\": \"#00a4ae\", \"size\": 12}, \"name\": \"Dublin Port\", \"type\": \"scattermapbox\"}, {\"hoverinfo\": \"skip\", \"hovertemplate\": [\"Name: Aranmore Island<br>Station No.: 38060<br>Agency: MI<br>OPW Class.: Secondary<br>MI Class.: Primary<br>Final Class.: S/P<br>Type: T<br>Status: A<br>Lat: %{lat:.2f} \\u00b0<br>Lon: %{lon:.2f} \\u00b0<extra></extra>\", \"Name: Ballycotton<br>Station No.: Not entered<br>Agency: MI<br>OPW Class.: Primary<br>MI Class.: Primary<br>Final Class.: P<br>Type: T<br>Status: A<br>Lat: %{lat:.2f} \\u00b0<br>Lon: %{lon:.2f} \\u00b0<extra></extra>\", \"Name: Ballyglass<br>Station No.: 33060<br>Agency: MI<br>OPW Class.: Primary<br>MI Class.: Primary<br>Final Class.: P<br>Type: T<br>Status: A<br>Lat: %{lat:.2f} \\u00b0<br>Lon: %{lon:.2f} \\u00b0<extra></extra>\", \"Name: Castletownbere<br>Station No.: ?<br>Agency: MI<br>OPW Class.: Primary<br>MI Class.: Primary<br>Final Class.: P<br>Type: T<br>Status: A<br>Lat: %{lat:.2f} \\u00b0<br>Lon: %{lon:.2f} \\u00b0<extra></extra>\", \"Name: Dingle<br>Station No.: Not registered<br>Agency: MI<br>OPW Class.: Primary<br>MI Class.: Primary<br>Final Class.: P<br>Type: T<br>Status: A<br>Lat: %{lat:.2f} \\u00b0<br>Lon: %{lon:.2f} \\u00b0<extra></extra>\", \"Name: Dunmore East<br>Station No.:  <br>Agency: MI<br>OPW Class.: Primary<br>MI Class.: Primary<br>Final Class.: P<br>Type: T<br>Status: A<br>Lat: %{lat:.2f} \\u00b0<br>Lon: %{lon:.2f} \\u00b0<extra></extra>\", \"Name: Galway Port<br>Station No.: 29062<br>Agency: MI<br>OPW Class.: Primary<br>MI Class.: Primary<br>Final Class.: P<br>Type: T<br>Status: A<br>Lat: %{lat:.2f} \\u00b0<br>Lon: %{lon:.2f} \\u00b0<extra></extra>\", \"Name: Howth Harbour<br>Station No.: 9067<br>Agency: MI<br>OPW Class.: Primary<br>MI Class.: Primary<br>Final Class.: P<br>Type: T<br>Status: A<br>Lat: %{lat:.2f} \\u00b0<br>Lon: %{lon:.2f} \\u00b0<extra></extra>\", \"Name: Howth Harbour 2<br>Station No.:  <br>Agency: MI<br>OPW Class.:  <br>MI Class.:  <br>Final Class.:  <br>Type: T<br>Status: A<br>Lat: %{lat:.2f} \\u00b0<br>Lon: %{lon:.2f} \\u00b0<extra></extra>\", \"Name: Inismore<br>Station No.: 31062<br>Agency: MI<br>OPW Class.: Secondary<br>MI Class.: Primary<br>Final Class.: S/P<br>Type: T<br>Status: A<br>Lat: %{lat:.2f} \\u00b0<br>Lon: %{lon:.2f} \\u00b0<extra></extra>\", \"Name: Killybegs<br>Station No.: 37060<br>Agency: MI<br>OPW Class.: Primary<br>MI Class.: Primary<br>Final Class.: P<br>Type: T<br>Status: A<br>Lat: %{lat:.2f} \\u00b0<br>Lon: %{lon:.2f} \\u00b0<extra></extra>\", \"Name: Kilrush Harbour<br>Station No.:  <br>Agency: MI<br>OPW Class.: Primary<br>MI Class.: Primary<br>Final Class.: P<br>Type: T<br>Status: A<br>Lat: %{lat:.2f} \\u00b0<br>Lon: %{lon:.2f} \\u00b0<extra></extra>\", \"Name: Kinvarra<br>Station No.: Not registered<br>Agency: MI<br>OPW Class.: Secondary<br>MI Class.: Secondary<br>Final Class.: S<br>Type: ST<br>Status: A<br>Lat: %{lat:.2f} \\u00b0<br>Lon: %{lon:.2f} \\u00b0<extra></extra>\", \"Name: Malin Head - Portmore Pier<br>Station No.: 40061<br>Agency: MI<br>OPW Class.: Primary<br>MI Class.: Primary<br>Final Class.: P<br>Type: T<br>Status: A<br>Lat: %{lat:.2f} \\u00b0<br>Lon: %{lon:.2f} \\u00b0<extra></extra>\", \"Name: Sligo<br>Station No.: 35060<br>Agency: MI<br>OPW Class.: Primary<br>MI Class.: Primary<br>Final Class.: P<br>Type: ST<br>Status: A<br>Lat: %{lat:.2f} \\u00b0<br>Lon: %{lon:.2f} \\u00b0<extra></extra>\", \"Name: Wexford Harbour<br>Station No.: 12066<br>Agency: MI<br>OPW Class.: Primary<br>MI Class.: Primary<br>Final Class.: P<br>Type: ST<br>Status: A<br>Lat: %{lat:.2f} \\u00b0<br>Lon: %{lon:.2f} \\u00b0<extra></extra>\"], \"lat\": [54.9895737398, 51.8273395548, 54.2528873817, 51.6491661381, 52.1366946323, 52.1473085611, 53.2687094602, 53.3912445441, 53.3910705005, 53.1175446473, 54.6348320561, 52.6355410568, 53.140246801, 55.3716368708, 54.3044879324, 52.3381545268], \"lon\": [-8.49493635196, -7.99998549363, -9.88949819632, -9.9029117699, -10.2747383123, -6.99105590957, -9.04735135068, -6.0673081047, -6.06710550182, -9.66637598708, -8.39420751244, -9.48964593314, -8.9369903561, -7.33380720063, -8.56821681972, -6.45797282131], \"marker\": {\"color\": \"blue\", \"size\": 7}, \"name\": \"Marine Institute\", \"type\": \"scattermapbox\"}, {\"hoverinfo\": \"skip\", \"hovertemplate\": [], \"lat\": [], \"lon\": [], \"marker\": {\"color\": \"green\", \"size\": 7}, \"name\": \"EPA\", \"type\": \"scattermapbox\"}, {\"hoverinfo\": \"skip\", \"hovertemplate\": [\"Name: Aashleagh Br<br>Station No.: 32060<br>Agency: OPW<br>OPW Class.: Primary<br>MI Class.: Unable to comment - more info required<br>Final Class.: P/U<br>Type: ST<br>Status: A<br>Lat: %{lat:.2f} \\u00b0<br>Lon: %{lon:.2f} \\u00b0<extra></extra>\", \"Name: Adelphi Quay<br>Station No.: 16160<br>Agency: OPW<br>OPW Class.: Primary<br>MI Class.: Unable to comment - more info required<br>Final Class.: P/U<br>Type: ST<br>Status: A<br>Lat: %{lat:.2f} \\u00b0<br>Lon: %{lon:.2f} \\u00b0<extra></extra>\", \"Name: Arklow Harbour<br>Station No.: 10060<br>Agency: OPW<br>OPW Class.: Primary<br>MI Class.: Primary<br>Final Class.: P<br>Type: T<br>Status: A<br>Lat: %{lat:.2f} \\u00b0<br>Lon: %{lon:.2f} \\u00b0<extra></extra>\", \"Name: Ballina<br>Station No.: 34061<br>Agency: OPW<br>OPW Class.: Primary<br>MI Class.: Unable to comment - more info required<br>Final Class.: P/U<br>Type: ST<br>Status: A<br>Lat: %{lat:.2f} \\u00b0<br>Lon: %{lon:.2f} \\u00b0<extra></extra>\", \"Name: Ballycotton<br>Station No.: 19068<br>Agency: OPW<br>OPW Class.: Primary<br>MI Class.: Primary<br>Final Class.: P<br>Type: T<br>Status: A<br>Lat: %{lat:.2f} \\u00b0<br>Lon: %{lon:.2f} \\u00b0<extra></extra>\", \"Name: Blennerville<br>Station No.: 23062<br>Agency: OPW<br>OPW Class.: Primary<br>MI Class.: Unable to comment - more info required<br>Final Class.: P/U<br>Type: ST<br>Status: A<br>Lat: %{lat:.2f} \\u00b0<br>Lon: %{lon:.2f} \\u00b0<extra></extra>\", \"Name: Carrigaholt Pier<br>Station No.: 27063<br>Agency: OPW<br>OPW Class.:  <br>MI Class.:  <br>Final Class.:  <br>Type: T<br>Status: A<br>Lat: %{lat:.2f} \\u00b0<br>Lon: %{lon:.2f} \\u00b0<extra></extra>\", \"Name: Clarecastle Br<br>Station No.: 27068<br>Agency: OPW<br>OPW Class.: Primary<br>MI Class.: Unable to comment - more info required<br>Final Class.: P/U<br>Type: ST<br>Status: A<br>Lat: %{lat:.2f} \\u00b0<br>Lon: %{lon:.2f} \\u00b0<extra></extra>\", \"Name: Currach Club<br>Station No.: 19160<br>Agency: OPW<br>OPW Class.: Primary<br>MI Class.:  <br>Final Class.:  <br>Type: T<br>Status: A<br>Lat: %{lat:.2f} \\u00b0<br>Lon: %{lon:.2f} \\u00b0<extra></extra>\", \"Name: Dundalk Port<br>Station No.: 6061<br>Agency: OPW<br>OPW Class.: Primary<br>MI Class.: nan<br>Final Class.: P/U<br>Type: ST<br>Status: A<br>Lat: %{lat:.2f} \\u00b0<br>Lon: %{lon:.2f} \\u00b0<extra></extra>\", \"Name: Dunmore East<br>Station No.: 17061<br>Agency: OPW<br>OPW Class.: Primary<br>MI Class.: Primary<br>Final Class.: P<br>Type: T<br>Status: A<br>Lat: %{lat:.2f} \\u00b0<br>Lon: %{lon:.2f} \\u00b0<extra></extra>\", \"Name: Enniscrone<br>Station No.: 34060<br>Agency: OPW<br>OPW Class.: Primary<br>MI Class.:  <br>Final Class.:  <br>Type: T<br>Status: A<br>Lat: %{lat:.2f} \\u00b0<br>Lon: %{lon:.2f} \\u00b0<extra></extra>\", \"Name: Fenit<br>Station No.: 23066<br>Agency: OPW<br>OPW Class.: Primary<br>MI Class.: Primary<br>Final Class.: P<br>Type: T<br>Status: A<br>Lat: %{lat:.2f} \\u00b0<br>Lon: %{lon:.2f} \\u00b0<extra></extra>\", \"Name: Ferry Br (Maigue)<br>Station No.: 24061<br>Agency: OPW<br>OPW Class.: Primary<br>MI Class.: Unable to comment - more info required<br>Final Class.: P/U<br>Type: ST<br>Status: A<br>Lat: %{lat:.2f} \\u00b0<br>Lon: %{lon:.2f} \\u00b0<extra></extra>\", \"Name: Ferrycarrig Bridge<br>Station No.: 12604<br>Agency: OPW<br>OPW Class.:  <br>MI Class.:  <br>Final Class.:  <br>Type: T<br>Status:  <br>Lat: %{lat:.2f} \\u00b0<br>Lon: %{lon:.2f} \\u00b0<extra></extra>\", \"Name: Foynes<br>Station No.: 24064<br>Agency: OPW<br>OPW Class.: Primary<br>MI Class.:  <br>Final Class.:  <br>Type: T<br>Status: A<br>Lat: %{lat:.2f} \\u00b0<br>Lon: %{lon:.2f} \\u00b0<extra></extra>\", \"Name: Giles Quay<br>Station No.: 6062<br>Agency: OPW<br>OPW Class.: Primary<br>MI Class.: Unable to comment - more info required<br>Final Class.: P/U<br>Type: T<br>Status: A<br>Lat: %{lat:.2f} \\u00b0<br>Lon: %{lon:.2f} \\u00b0<extra></extra>\", \"Name: Kilcolgan<br>Station No.: 29011<br>Agency: OPW<br>OPW Class.: Primary<br>MI Class.: Unable to comment - more info required<br>Final Class.: P/U<br>Type: ST<br>Status: A<br>Lat: %{lat:.2f} \\u00b0<br>Lon: %{lon:.2f} \\u00b0<extra></extra>\", \"Name: Limerick Dock<br>Station No.: Not registered<br>Agency: OPW<br>OPW Class.: Primary<br>MI Class.: Primary<br>Final Class.: P/U<br>Type: ST<br>Status: A<br>Lat: %{lat:.2f} \\u00b0<br>Lon: %{lon:.2f} \\u00b0<extra></extra>\", \"Name: Limerick Dock<br>Station No.: 24063<br>Agency: OPW<br>OPW Class.:  <br>MI Class.:  <br>Final Class.:  <br>Type: T<br>Status: A<br>Lat: %{lat:.2f} \\u00b0<br>Lon: %{lon:.2f} \\u00b0<extra></extra>\", \"Name: Malin Head<br>Station No.: 40060<br>Agency: OPW<br>OPW Class.: GLOSS<br>MI Class.: Primary<br>Final Class.: G<br>Type: T<br>Status: A<br>Lat: %{lat:.2f} \\u00b0<br>Lon: %{lon:.2f} \\u00b0<extra></extra>\", \"Name: Moneycashen<br>Station No.: 23068<br>Agency: OPW<br>OPW Class.: Primary<br>MI Class.: Unable to comment - more info required<br>Final Class.: P/U<br>Type: ST<br>Status: A<br>Lat: %{lat:.2f} \\u00b0<br>Lon: %{lon:.2f} \\u00b0<extra></extra>\", \"Name: Oranmore Br<br>Station No.: 29015<br>Agency: OPW<br>OPW Class.: Primary<br>MI Class.: Unable to comment - more info required<br>Final Class.: P/U<br>Type: ST<br>Status: A<br>Lat: %{lat:.2f} \\u00b0<br>Lon: %{lon:.2f} \\u00b0<extra></extra>\", \"Name: Port Br<br>Station No.: 39061<br>Agency: OPW<br>OPW Class.: Primary<br>MI Class.: Unable to comment - more info required<br>Final Class.: P/U<br>Type: ST<br>Status: A<br>Lat: %{lat:.2f} \\u00b0<br>Lon: %{lon:.2f} \\u00b0<extra></extra>\", \"Name: Port Oriel<br>Station No.: 6060<br>Agency: OPW<br>OPW Class.: Primary<br>MI Class.: Primary<br>Final Class.: P<br>Type: T<br>Status: A<br>Lat: %{lat:.2f} \\u00b0<br>Lon: %{lon:.2f} \\u00b0<extra></extra>\", \"Name: Ringaskiddy NMCI<br>Station No.: 19069<br>Agency: OPW<br>OPW Class.: Primary<br>MI Class.: Unable to comment - more info required<br>Final Class.: P/U<br>Type: T<br>Status: A<br>Lat: %{lat:.2f} \\u00b0<br>Lon: %{lon:.2f} \\u00b0<extra></extra>\", \"Name: Rossaveel Pier<br>Station No.: 31061<br>Agency: OPW<br>OPW Class.: Primary<br>MI Class.: Primary<br>Final Class.: P<br>Type: T<br>Status: A<br>Lat: %{lat:.2f} \\u00b0<br>Lon: %{lon:.2f} \\u00b0<extra></extra>\", \"Name: Shannon<br>Station No.: 27069<br>Agency: OPW<br>OPW Class.: Primary<br>MI Class.:  <br>Final Class.:  <br>Type: T<br>Status: A<br>Lat: %{lat:.2f} \\u00b0<br>Lon: %{lon:.2f} \\u00b0<extra></extra>\", \"Name: Wolfe Tone Br<br>Station No.: 30061<br>Agency: OPW<br>OPW Class.: Primary<br>MI Class.: Primary<br>Final Class.: P<br>Type: ST<br>Status: A<br>Lat: %{lat:.2f} \\u00b0<br>Lon: %{lon:.2f} \\u00b0<extra></extra>\", \"Name: Youghal<br>Station No.: 18061<br>Agency: OPW<br>OPW Class.: Primary<br>MI Class.:  <br>Final Class.:  <br>Type: T<br>Status: A<br>Lat: %{lat:.2f} \\u00b0<br>Lon: %{lon:.2f} \\u00b0<extra></extra>\"], \"lat\": [53.6175559182, 52.2592954906, 52.7917388089, 54.1170519756, 51.8277620081, 52.2575375646, 52.6004661212, 52.8463842829, 51.9015037756, 54.0078439288, 52.1471375512, 54.2200709024, 52.2693113033, 52.620907438, 52.3504831846, 52.6130098013, 53.9842826798, 53.2138653665, 52.6590096163, 52.6582013107, 55.3716368708, 52.4824164791, 53.2715247873, 54.9484148333, 53.798809638, 51.8344345643, 53.2666878491, 52.6784189565, 53.2698987417, 51.9568066584], \"lon\": [-9.67062851014, -7.10159419102, -6.1442575812, -9.14618400241, -8.00075433851, -9.73527393455, -9.69826674231, -8.98118075064, -8.43603925983, -6.38404324234, -6.98997858882, -9.09783885059, -9.86163840678, -8.76418420869, -6.51054858443, -9.10553540055, -6.23893200408, -8.87070283555, -8.64223007863, -8.64378492361, -7.33380720063, -9.68040679879, -8.92884002659, -7.71335966058, -6.22074117425, -8.30381154574, -9.56151750556, -8.91731731323, -9.0551605818, -7.84689553862], \"marker\": {\"color\": \"yellow\", \"size\": 7}, \"name\": \"OPW\", \"type\": \"scattermapbox\"}, {\"hoverinfo\": \"skip\", \"hovertemplate\": [\"Name: Bantry<br>Station No.: Not registered<br>Agency: BHC<br>OPW Class.: Primary<br>MI Class.: Unable to comment - more info required<br>Final Class.: P/U<br>Type: T<br>Status: I<br>Lat: %{lat:.2f} \\u00b0<br>Lon: %{lon:.2f} \\u00b0<extra></extra>\", \"Name: Carrigaholt<br>Station No.: 27062<br>Agency: LHC<br>OPW Class.: Primary<br>MI Class.: Unable to comment - more info required<br>Final Class.: P/U<br>Type: T<br>Status: A<br>Lat: %{lat:.2f} \\u00b0<br>Lon: %{lon:.2f} \\u00b0<extra></extra>\", \"Name: Cobh<br>Station No.: Not registered<br>Agency: POC<br>OPW Class.: Secondary<br>MI Class.: Unable to comment - more info required<br>Final Class.: S/U<br>Type: T<br>Status: A<br>Lat: %{lat:.2f} \\u00b0<br>Lon: %{lon:.2f} \\u00b0<extra></extra>\", \"Name: Dun Laoghaire<br>Station No.: 9061<br>Agency: DLPC<br>OPW Class.:  <br>MI Class.:  <br>Final Class.:  <br>Type: T<br>Status: A<br>Lat: %{lat:.2f} \\u00b0<br>Lon: %{lon:.2f} \\u00b0<extra></extra>\", \"Name: Foynes<br>Station No.: Not registered<br>Agency: LHC<br>OPW Class.: Primary<br>MI Class.: Unable to comment - more info required<br>Final Class.: P/U<br>Type: T<br>Status: A<br>Lat: %{lat:.2f} \\u00b0<br>Lon: %{lon:.2f} \\u00b0<extra></extra>\", \"Name: The Whelps<br>Station No.:  <br>Agency: SFPC<br>OPW Class.:  <br>MI Class.:  <br>Final Class.:  <br>Type: T<br>Status: A<br>Lat: %{lat:.2f} \\u00b0<br>Lon: %{lon:.2f} \\u00b0<extra></extra>\", \"Name: Tivoli<br>Station No.: 19067<br>Agency: POC<br>OPW Class.: Primary<br>MI Class.: Unable to comment - more info required<br>Final Class.: P/U<br>Type: T<br>Status: A<br>Lat: %{lat:.2f} \\u00b0<br>Lon: %{lon:.2f} \\u00b0<extra></extra>\"], \"lat\": [51.6799502487, 52.6006549818, 51.8507641059, 53.293931917, 52.6143826663, 52.6768533351, 51.9004836977], \"lon\": [-9.46150318596, -9.69825928609, -8.27940742772, -6.12960773344, -9.11249515819, -8.75019623111, -8.40974458765], \"marker\": {\"color\": \"brown\", \"size\": 7}, \"name\": \"Port Company\", \"type\": \"scattermapbox\"}, {\"hovertemplate\": [\"Name: Dublin port<br>Station No.: 9064<br>Agency: Dublin City Council<br>OPW Class.: Primary<br>MI Class.: Primary<br>Final Class.: P<br>Type: ST<br>Status: A<br>Lat: %{lat:.2f} \\u00b0<br>Lon: %{lon:.2f} \\u00b0<extra></extra>\", \"Name: Lapps Quay<br>Station No.:  <br>Agency: Cork City Council<br>OPW Class.:  <br>MI Class.:  <br>Final Class.:  <br>Type: ST<br>Status: A<br>Lat: %{lat:.2f} \\u00b0<br>Lon: %{lon:.2f} \\u00b0<extra></extra>\"], \"lat\": [53.3455024253, 51.8973441296], \"lon\": [-6.22069171308, -8.46601593635], \"marker\": {\"color\": \"orange\", \"size\": 7}, \"name\": \"Local Authority\", \"type\": \"scattermapbox\"}],                        {\"font\": {\"color\": \"#2a3f5f\", \"family\": \"Arial\"}, \"height\": 400, \"legend\": {\"title\": {\"text\": \"<b>Station Type</b>\"}, \"x\": 0.01}, \"mapbox\": {\"bearing\": 0, \"center\": {\"lat\": 53.4, \"lon\": 352}, \"pitch\": 0, \"style\": \"open-street-map\", \"zoom\": 5}, \"margin\": {\"b\": 0, \"l\": 0, \"r\": 0, \"t\": 0}, \"paper_bgcolor\": \"rgba(0,0,0,0)\", \"plot_bgcolor\": \"rgba(0,0,0,0)\", \"template\": {\"data\": {\"bar\": [{\"error_x\": {\"color\": \"#2a3f5f\"}, \"error_y\": {\"color\": \"#2a3f5f\"}, \"marker\": {\"line\": {\"color\": \"#E5ECF6\", \"width\": 0.5}}, \"type\": \"bar\"}], \"barpolar\": [{\"marker\": {\"line\": {\"color\": \"#E5ECF6\", \"width\": 0.5}}, \"type\": \"barpolar\"}], \"carpet\": [{\"aaxis\": {\"endlinecolor\": \"#2a3f5f\", \"gridcolor\": \"white\", \"linecolor\": \"white\", \"minorgridcolor\": \"white\", \"startlinecolor\": \"#2a3f5f\"}, \"baxis\": {\"endlinecolor\": \"#2a3f5f\", \"gridcolor\": \"white\", \"linecolor\": \"white\", \"minorgridcolor\": \"white\", \"startlinecolor\": \"#2a3f5f\"}, \"type\": \"carpet\"}], \"choropleth\": [{\"colorbar\": {\"outlinewidth\": 0, \"ticks\": \"\"}, \"type\": \"choropleth\"}], \"contour\": [{\"colorbar\": {\"outlinewidth\": 0, \"ticks\": \"\"}, \"colorscale\": [[0.0, \"#0d0887\"], [0.1111111111111111, \"#46039f\"], [0.2222222222222222, \"#7201a8\"], [0.3333333333333333, \"#9c179e\"], [0.4444444444444444, \"#bd3786\"], [0.5555555555555556, \"#d8576b\"], [0.6666666666666666, \"#ed7953\"], [0.7777777777777778, \"#fb9f3a\"], [0.8888888888888888, \"#fdca26\"], [1.0, \"#f0f921\"]], \"type\": \"contour\"}], \"contourcarpet\": [{\"colorbar\": {\"outlinewidth\": 0, \"ticks\": \"\"}, \"type\": \"contourcarpet\"}], \"heatmap\": [{\"colorbar\": {\"outlinewidth\": 0, \"ticks\": \"\"}, \"colorscale\": [[0.0, \"#0d0887\"], [0.1111111111111111, \"#46039f\"], [0.2222222222222222, \"#7201a8\"], [0.3333333333333333, \"#9c179e\"], [0.4444444444444444, \"#bd3786\"], [0.5555555555555556, \"#d8576b\"], [0.6666666666666666, \"#ed7953\"], [0.7777777777777778, \"#fb9f3a\"], [0.8888888888888888, \"#fdca26\"], [1.0, \"#f0f921\"]], \"type\": \"heatmap\"}], \"heatmapgl\": [{\"colorbar\": {\"outlinewidth\": 0, \"ticks\": \"\"}, \"colorscale\": [[0.0, \"#0d0887\"], [0.1111111111111111, \"#46039f\"], [0.2222222222222222, \"#7201a8\"], [0.3333333333333333, \"#9c179e\"], [0.4444444444444444, \"#bd3786\"], [0.5555555555555556, \"#d8576b\"], [0.6666666666666666, \"#ed7953\"], [0.7777777777777778, \"#fb9f3a\"], [0.8888888888888888, \"#fdca26\"], [1.0, \"#f0f921\"]], \"type\": \"heatmapgl\"}], \"histogram\": [{\"marker\": {\"colorbar\": {\"outlinewidth\": 0, \"ticks\": \"\"}}, \"type\": \"histogram\"}], \"histogram2d\": [{\"colorbar\": {\"outlinewidth\": 0, \"ticks\": \"\"}, \"colorscale\": [[0.0, \"#0d0887\"], [0.1111111111111111, \"#46039f\"], [0.2222222222222222, \"#7201a8\"], [0.3333333333333333, \"#9c179e\"], [0.4444444444444444, \"#bd3786\"], [0.5555555555555556, \"#d8576b\"], [0.6666666666666666, \"#ed7953\"], [0.7777777777777778, \"#fb9f3a\"], [0.8888888888888888, \"#fdca26\"], [1.0, \"#f0f921\"]], \"type\": \"histogram2d\"}], \"histogram2dcontour\": [{\"colorbar\": {\"outlinewidth\": 0, \"ticks\": \"\"}, \"colorscale\": [[0.0, \"#0d0887\"], [0.1111111111111111, \"#46039f\"], [0.2222222222222222, \"#7201a8\"], [0.3333333333333333, \"#9c179e\"], [0.4444444444444444, \"#bd3786\"], [0.5555555555555556, \"#d8576b\"], [0.6666666666666666, \"#ed7953\"], [0.7777777777777778, \"#fb9f3a\"], [0.8888888888888888, \"#fdca26\"], [1.0, \"#f0f921\"]], \"type\": \"histogram2dcontour\"}], \"mesh3d\": [{\"colorbar\": {\"outlinewidth\": 0, \"ticks\": \"\"}, \"type\": \"mesh3d\"}], \"parcoords\": [{\"line\": {\"colorbar\": {\"outlinewidth\": 0, \"ticks\": \"\"}}, \"type\": \"parcoords\"}], \"pie\": [{\"automargin\": true, \"type\": \"pie\"}], \"scatter\": [{\"marker\": {\"colorbar\": {\"outlinewidth\": 0, \"ticks\": \"\"}}, \"type\": \"scatter\"}], \"scatter3d\": [{\"line\": {\"colorbar\": {\"outlinewidth\": 0, \"ticks\": \"\"}}, \"marker\": {\"colorbar\": {\"outlinewidth\": 0, \"ticks\": \"\"}}, \"type\": \"scatter3d\"}], \"scattercarpet\": [{\"marker\": {\"colorbar\": {\"outlinewidth\": 0, \"ticks\": \"\"}}, \"type\": \"scattercarpet\"}], \"scattergeo\": [{\"marker\": {\"colorbar\": {\"outlinewidth\": 0, \"ticks\": \"\"}}, \"type\": \"scattergeo\"}], \"scattergl\": [{\"marker\": {\"colorbar\": {\"outlinewidth\": 0, \"ticks\": \"\"}}, \"type\": \"scattergl\"}], \"scattermapbox\": [{\"marker\": {\"colorbar\": {\"outlinewidth\": 0, \"ticks\": \"\"}}, \"type\": \"scattermapbox\"}], \"scatterpolar\": [{\"marker\": {\"colorbar\": {\"outlinewidth\": 0, \"ticks\": \"\"}}, \"type\": \"scatterpolar\"}], \"scatterpolargl\": [{\"marker\": {\"colorbar\": {\"outlinewidth\": 0, \"ticks\": \"\"}}, \"type\": \"scatterpolargl\"}], \"scatterternary\": [{\"marker\": {\"colorbar\": {\"outlinewidth\": 0, \"ticks\": \"\"}}, \"type\": \"scatterternary\"}], \"surface\": [{\"colorbar\": {\"outlinewidth\": 0, \"ticks\": \"\"}, \"colorscale\": [[0.0, \"#0d0887\"], [0.1111111111111111, \"#46039f\"], [0.2222222222222222, \"#7201a8\"], [0.3333333333333333, \"#9c179e\"], [0.4444444444444444, \"#bd3786\"], [0.5555555555555556, \"#d8576b\"], [0.6666666666666666, \"#ed7953\"], [0.7777777777777778, \"#fb9f3a\"], [0.8888888888888888, \"#fdca26\"], [1.0, \"#f0f921\"]], \"type\": \"surface\"}], \"table\": [{\"cells\": {\"fill\": {\"color\": \"#EBF0F8\"}, \"line\": {\"color\": \"white\"}}, \"header\": {\"fill\": {\"color\": \"#C8D4E3\"}, \"line\": {\"color\": \"white\"}}, \"type\": \"table\"}]}, \"layout\": {\"annotationdefaults\": {\"arrowcolor\": \"#2a3f5f\", \"arrowhead\": 0, \"arrowwidth\": 1}, \"autotypenumbers\": \"strict\", \"coloraxis\": {\"colorbar\": {\"outlinewidth\": 0, \"ticks\": \"\"}}, \"colorscale\": {\"diverging\": [[0, \"#8e0152\"], [0.1, \"#c51b7d\"], [0.2, \"#de77ae\"], [0.3, \"#f1b6da\"], [0.4, \"#fde0ef\"], [0.5, \"#f7f7f7\"], [0.6, \"#e6f5d0\"], [0.7, \"#b8e186\"], [0.8, \"#7fbc41\"], [0.9, \"#4d9221\"], [1, \"#276419\"]], \"sequential\": [[0.0, \"#0d0887\"], [0.1111111111111111, \"#46039f\"], [0.2222222222222222, \"#7201a8\"], [0.3333333333333333, \"#9c179e\"], [0.4444444444444444, \"#bd3786\"], [0.5555555555555556, \"#d8576b\"], [0.6666666666666666, \"#ed7953\"], [0.7777777777777778, \"#fb9f3a\"], [0.8888888888888888, \"#fdca26\"], [1.0, \"#f0f921\"]], \"sequentialminus\": [[0.0, \"#0d0887\"], [0.1111111111111111, \"#46039f\"], [0.2222222222222222, \"#7201a8\"], [0.3333333333333333, \"#9c179e\"], [0.4444444444444444, \"#bd3786\"], [0.5555555555555556, \"#d8576b\"], [0.6666666666666666, \"#ed7953\"], [0.7777777777777778, \"#fb9f3a\"], [0.8888888888888888, \"#fdca26\"], [1.0, \"#f0f921\"]]}, \"colorway\": [\"#636efa\", \"#EF553B\", \"#00cc96\", \"#ab63fa\", \"#FFA15A\", \"#19d3f3\", \"#FF6692\", \"#B6E880\", \"#FF97FF\", \"#FECB52\"], \"font\": {\"color\": \"#2a3f5f\"}, \"geo\": {\"bgcolor\": \"white\", \"lakecolor\": \"white\", \"landcolor\": \"#E5ECF6\", \"showlakes\": true, \"showland\": true, \"subunitcolor\": \"white\"}, \"hoverlabel\": {\"align\": \"left\"}, \"hovermode\": \"closest\", \"mapbox\": {\"style\": \"light\"}, \"paper_bgcolor\": \"white\", \"plot_bgcolor\": \"#E5ECF6\", \"polar\": {\"angularaxis\": {\"gridcolor\": \"white\", \"linecolor\": \"white\", \"ticks\": \"\"}, \"bgcolor\": \"#E5ECF6\", \"radialaxis\": {\"gridcolor\": \"white\", \"linecolor\": \"white\", \"ticks\": \"\"}}, \"scene\": {\"xaxis\": {\"backgroundcolor\": \"#E5ECF6\", \"gridcolor\": \"white\", \"gridwidth\": 2, \"linecolor\": \"white\", \"showbackground\": true, \"ticks\": \"\", \"zerolinecolor\": \"white\"}, \"yaxis\": {\"backgroundcolor\": \"#E5ECF6\", \"gridcolor\": \"white\", \"gridwidth\": 2, \"linecolor\": \"white\", \"showbackground\": true, \"ticks\": \"\", \"zerolinecolor\": \"white\"}, \"zaxis\": {\"backgroundcolor\": \"#E5ECF6\", \"gridcolor\": \"white\", \"gridwidth\": 2, \"linecolor\": \"white\", \"showbackground\": true, \"ticks\": \"\", \"zerolinecolor\": \"white\"}}, \"shapedefaults\": {\"line\": {\"color\": \"#2a3f5f\"}}, \"ternary\": {\"aaxis\": {\"gridcolor\": \"white\", \"linecolor\": \"white\", \"ticks\": \"\"}, \"baxis\": {\"gridcolor\": \"white\", \"linecolor\": \"white\", \"ticks\": \"\"}, \"bgcolor\": \"#E5ECF6\", \"caxis\": {\"gridcolor\": \"white\", \"linecolor\": \"white\", \"ticks\": \"\"}}, \"title\": {\"x\": 0.05}, \"xaxis\": {\"automargin\": true, \"gridcolor\": \"white\", \"linecolor\": \"white\", \"ticks\": \"\", \"title\": {\"standoff\": 15}, \"zerolinecolor\": \"white\", \"zerolinewidth\": 2}, \"yaxis\": {\"automargin\": true, \"gridcolor\": \"white\", \"linecolor\": \"white\", \"ticks\": \"\", \"title\": {\"standoff\": 15}, \"zerolinecolor\": \"white\", \"zerolinewidth\": 2}}}},                        {\"responsive\": true}                    ).then(function(){\n",
       "                            \n",
       "var gd = document.getElementById('0f9c433a-196d-4340-9838-86df02ada9bb');\n",
       "var x = new MutationObserver(function (mutations, observer) {{\n",
       "        var display = window.getComputedStyle(gd).display;\n",
       "        if (!display || display === 'none') {{\n",
       "            console.log([gd, 'removed!']);\n",
       "            Plotly.purge(gd);\n",
       "            observer.disconnect();\n",
       "        }}\n",
       "}});\n",
       "\n",
       "// Listen for the removal of the full notebook cells\n",
       "var notebookContainer = gd.closest('#notebook-container');\n",
       "if (notebookContainer) {{\n",
       "    x.observe(notebookContainer, {childList: true});\n",
       "}}\n",
       "\n",
       "// Listen for the clearing of the current output cell\n",
       "var outputEl = gd.closest('.output');\n",
       "if (outputEl) {{\n",
       "    x.observe(outputEl, {childList: true});\n",
       "}}\n",
       "\n",
       "                        })                };                });            </script>        </div>"
      ]
     },
     "metadata": {},
     "output_type": "display_data"
    }
   ],
   "source": [
    "\"\"\"\n",
    "Sea level infrastructure map\n",
    "\"\"\"\n",
    "\n",
    "data_path = DATA_PATH+'Oceanic_Domain/3.4SeaLevel/Map3.4/'\n",
    "df = pd.read_csv(data_path+'Map3.4_StationTable_IrishNationalTideGaugeNetwork.txt')\n",
    "\n",
    "malinDF = df.loc[(df['Station_Na'] == 'Malin Head')]\n",
    "malinTrace = go.Scattermapbox(\n",
    "        name='Malin Head',\n",
    "        lon=malinDF.Longitude,\n",
    "        lat=malinDF.Latitude,\n",
    "        marker=dict(color='#00a5e3',\n",
    "                    size=12),\n",
    "        hoverinfo='skip',\n",
    "    )\n",
    "ballyglassDF = df.loc[(df['Station_Na'] == 'Ballyglass')]\n",
    "ballyglassTrace = go.Scattermapbox(\n",
    "        name='Ballyglass Harbour',\n",
    "        lon=ballyglassDF.Longitude,\n",
    "        lat=ballyglassDF.Latitude,\n",
    "        marker=dict(color='#ff5768',\n",
    "                    size=12),\n",
    "        hoverinfo='skip',\n",
    "    )\n",
    "\n",
    "casteltownDF = df.loc[(df['Station_Na'] == 'Castletownbere')]\n",
    "casteltownTrace = go.Scattermapbox(\n",
    "        name='Casteltownbere',\n",
    "        lon=casteltownDF.Longitude,\n",
    "        lat=casteltownDF.Latitude,\n",
    "        marker=dict(color='#ff96c5',\n",
    "                    size=12),\n",
    "        hoverinfo='skip',\n",
    "    )\n",
    "howthDF = df.loc[(df['Station_Na'] == 'Howth Harbour')]\n",
    "howthTrace = go.Scattermapbox(\n",
    "        name='Howth Harbour',\n",
    "        lon=howthDF.Longitude,\n",
    "        lat=howthDF.Latitude,\n",
    "        marker=dict(color='#ffbf65',\n",
    "                    size=12),\n",
    "        hoverinfo='skip',\n",
    "    )\n",
    "dublinDF = df.loc[(df['Station_Na'] == 'Dublin port')]\n",
    "dublinTrace = go.Scattermapbox(\n",
    "        name='Dublin Port',\n",
    "        lon=dublinDF.Longitude,\n",
    "        lat=dublinDF.Latitude,\n",
    "        hoverinfo='skip',\n",
    "        marker=dict(color=\"#00a4ae\",\n",
    "                    size=12),\n",
    "    )\n",
    "laDF = df.loc[df['Body_Respo'].isin(['Cork City Council', 'Dublin City Council'])]\n",
    "dfStr=laDF.astype(str)\n",
    "laTrace = go.Scattermapbox(\n",
    "        name='Local Authority',\n",
    "        lon=laDF.Longitude,\n",
    "        lat=laDF.Latitude,\n",
    "        marker=dict(color='orange',\n",
    "                    size=7),\n",
    "            hovertemplate='Name: '+ dfStr['Station_Na'] +\n",
    "        '<br>Station No.: ' + dfStr['Station_No'] +\n",
    "        '<br>Agency: '+ dfStr['Body_Respo'] +\n",
    "        '<br>OPW Class.: '+ dfStr['OPW_Classi'] +\n",
    "        '<br>MI Class.: '+ dfStr['MI_Classif'] +\n",
    "         '<br>Final Class.: '+ dfStr['Final_Clas'] +\n",
    "         '<br>Type: '+ dfStr['Type__Tida'] +\n",
    "        '<br>Status: '+ dfStr['Status__Ac'] +\n",
    "        '<br>Lat: %{lat:.2f} \\u00b0'+\n",
    "        '<br>Lon: %{lon:.2f} \\u00b0<extra></extra>',\n",
    "    )\n",
    "miDF = df.loc[(df['Body_Respo'] == 'MI')]\n",
    "dfStr=miDF.astype(str)\n",
    "miTrace = go.Scattermapbox(\n",
    "        name='Marine Institute',\n",
    "        lon=miDF.Longitude,\n",
    "        lat=miDF.Latitude,\n",
    "        hoverinfo='skip',\n",
    "        marker=dict(color='blue',\n",
    "                    size=7),\n",
    "        hovertemplate='Name: '+ dfStr['Station_Na'] +\n",
    "        '<br>Station No.: ' + dfStr['Station_No'] +\n",
    "        '<br>Agency: '+ dfStr['Body_Respo'] +\n",
    "        '<br>OPW Class.: '+ dfStr['OPW_Classi'] +\n",
    "        '<br>MI Class.: '+ dfStr['MI_Classif'] +\n",
    "         '<br>Final Class.: '+ dfStr['Final_Clas'] +\n",
    "         '<br>Type: '+ dfStr['Type__Tida'] +\n",
    "        '<br>Status: '+ dfStr['Status__Ac'] +\n",
    "        '<br>Lat: %{lat:.2f} \\u00b0'+\n",
    "        '<br>Lon: %{lon:.2f} \\u00b0<extra></extra>',\n",
    "    )\n",
    "epaDF = df.loc[(df['Body_Respo'] == 'EPA')]\n",
    "dfStr=epaDF.astype(str)\n",
    "epaTrace = go.Scattermapbox(\n",
    "        name='EPA',\n",
    "        lon=epaDF.Longitude,\n",
    "        lat=epaDF.Latitude,\n",
    "        hoverinfo='skip',\n",
    "        marker=dict(color='green',\n",
    "                    size=7),\n",
    "        hovertemplate='Name: '+ dfStr['Station_Na'] +\n",
    "        '<br>Station No.: ' + dfStr['Station_No'] +\n",
    "        '<br>Agency: '+ dfStr['Body_Respo'] +\n",
    "        '<br>OPW Class.: '+ dfStr['OPW_Classi'] +\n",
    "        '<br>MI Class.: '+ dfStr['MI_Classif'] +\n",
    "         '<br>Final Class.: '+ dfStr['Final_Clas'] +\n",
    "         '<br>Type: '+ dfStr['Type__Tida'] +\n",
    "        '<br>Status: '+ dfStr['Status__Ac'] +\n",
    "        '<br>Lat: %{lat:.2f} \\u00b0'+\n",
    "        '<br>Lon: %{lon:.2f} \\u00b0<extra></extra>',\n",
    "    )\n",
    "opwDF = df.loc[(df['Body_Respo'] == 'OPW')]\n",
    "dfStr=opwDF.astype(str)\n",
    "opwTrace = go.Scattermapbox(\n",
    "        name='OPW',\n",
    "        lon=opwDF.Longitude,\n",
    "        lat=opwDF.Latitude,\n",
    "        hoverinfo='skip',\n",
    "        marker=dict(color='yellow',\n",
    "                    size=7),\n",
    "        hovertemplate='Name: '+ dfStr['Station_Na'] +\n",
    "        '<br>Station No.: ' + dfStr['Station_No'] +\n",
    "        '<br>Agency: '+ dfStr['Body_Respo'] +\n",
    "        '<br>OPW Class.: '+ dfStr['OPW_Classi'] +\n",
    "        '<br>MI Class.: '+ dfStr['MI_Classif'] +\n",
    "         '<br>Final Class.: '+ dfStr['Final_Clas'] +\n",
    "         '<br>Type: '+ dfStr['Type__Tida'] +\n",
    "        '<br>Status: '+ dfStr['Status__Ac'] +\n",
    "        '<br>Lat: %{lat:.2f} \\u00b0'+\n",
    "        '<br>Lon: %{lon:.2f} \\u00b0<extra></extra>',\n",
    "    )\n",
    "\n",
    "pcDF = df.loc[df['Body_Respo'].isin(['POC', 'SFPC','LHC','BHC','DLPC'])]\n",
    "dfStr=pcDF.astype(str)\n",
    "pcTrace = go.Scattermapbox(\n",
    "        name='Port Company',\n",
    "        lon=pcDF.Longitude,\n",
    "        lat=pcDF.Latitude,\n",
    "        hoverinfo='skip',\n",
    "        marker=dict(color='brown',\n",
    "                    size=7),\n",
    "        hovertemplate='Name: '+ dfStr['Station_Na'] +\n",
    "        '<br>Station No.: ' + dfStr['Station_No'] +\n",
    "        '<br>Agency: '+ dfStr['Body_Respo'] +\n",
    "        '<br>OPW Class.: '+ dfStr['OPW_Classi'] +\n",
    "        '<br>MI Class.: '+ dfStr['MI_Classif'] +\n",
    "         '<br>Final Class.: '+ dfStr['Final_Clas'] +\n",
    "         '<br>Type: '+ dfStr['Type__Tida'] +\n",
    "        '<br>Status: '+ dfStr['Status__Ac'] +\n",
    "        '<br>Lat: %{lat:.2f} \\u00b0'+\n",
    "        '<br>Lon: %{lon:.2f} \\u00b0<extra></extra>',\n",
    "    )\n",
    "map_3_4 = go.Figure(\n",
    "    data=[malinTrace,ballyglassTrace,casteltownTrace,howthTrace,dublinTrace,miTrace,epaTrace,opwTrace,pcTrace,laTrace],\n",
    "    layout=MAP_LAYOUT)\n",
    "\n",
    "map_3_4"
   ]
  },
  {
   "cell_type": "code",
   "execution_count": null,
   "metadata": {},
   "outputs": [],
   "source": [
    "\"\"\"\n",
    "read from excel no longer used, Dublin Port time series\n",
    "\"\"\"\n",
    "\n",
    "data_path = DATA_PATH+'Oceanic_Domain/3.4SeaLevel/Figure3.8/'\n",
    "xls = pd.ExcelFile(\n",
    "    data_path+'dub_all_1938_to_2016_v2.xlsx')\n",
    "df = pd.read_excel(xls, 'dub_all_1938_to_2016')\n",
    "df.rename(columns = {\n",
    "    \"Unnamed: 3\":\"Date\",\n",
    "    \"Unnamed: 10\":\"AnnualDate\",\n",
    "    \"Unnamed: 11\":\"AnnualAverage\"\n",
    "    }, inplace = True)\n",
    "df['Month'] = df['Date'].dt.month\n",
    "monthlyTrace = go.Scatter(x=df[\"Date\"],\n",
    "                     y=df[\"Msl_OD_Malin\"],\n",
    "                    #  text=dataDF[\"11 Year Moving Average Totals\"],\n",
    "                     name='Monthly',\n",
    "                    mode='markers',\n",
    "                    marker=dict(color=TIMESERIES_COLOR_2,\n",
    "                                size=5,\n",
    "                                opacity=0.5),\n",
    "                     hovertemplate='%{x}<br>' +\n",
    "                            '<b>Monthly Average</b><br>' +\n",
    "                            'Mean Sea Level: %{y:.2f} mm<extra></extra>'\n",
    "                            )\n",
    "annualTrace = go.Scatter(x=df[\"AnnualDate\"],\n",
    "                     y=df[\"AnnualAverage\"],\n",
    "                    #  text=dataDF[\"11 Year Moving Average Totals\"],\n",
    "                     name='Annual',\n",
    "                     mode='lines',  # 'line' is default\n",
    "                     line_shape='spline',\n",
    "                     line=dict(\n",
    "                            color=TIMESERIES_COLOR_1,\n",
    "                            width=2),\n",
    "                      hovertemplate='%{x}<br>' +\n",
    "                            '<b>Annual Average</b><br>' +\n",
    "                            'Mean Sea Level: %{y:.2f} mm<extra></extra>'\n",
    "                            )\n",
    "figure_3_8=go.Figure(data=[monthlyTrace, annualTrace])\n",
    "figure_3_8"
   ]
  },
  {
   "cell_type": "code",
   "execution_count": null,
   "metadata": {},
   "outputs": [],
   "source": []
  }
 ],
 "metadata": {
  "kernelspec": {
   "display_name": "Python 3",
   "language": "python",
   "name": "python3"
  },
  "language_info": {
   "codemirror_mode": {
    "name": "ipython",
    "version": 3
   },
   "file_extension": ".py",
   "mimetype": "text/x-python",
   "name": "python",
   "nbconvert_exporter": "python",
   "pygments_lexer": "ipython3",
   "version": "3.8.10"
  }
 },
 "nbformat": 4,
 "nbformat_minor": 2
}
