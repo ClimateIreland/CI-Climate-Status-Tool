{
 "cells": [
  {
   "cell_type": "code",
   "execution_count": 1,
   "metadata": {},
   "outputs": [],
   "source": [
    "# to access root modules\n",
    "if __name__ == \"__main__\" and __package__ is None:\n",
    "    from sys import path\n",
    "    from os.path import dirname as dir\n",
    "\n",
    "    path.append(dir(path[0]))\n",
    "    __package__ = \"dash_app\""
   ]
  },
  {
   "cell_type": "code",
   "execution_count": 2,
   "metadata": {},
   "outputs": [],
   "source": [
    "import pandas as pd\n",
    "import numpy as np\n",
    "import datetime\n",
    "import dateutil\n",
    "import plotly.graph_objects as go\n",
    "from plotly.subplots import make_subplots\n",
    "from charts import stations_map\n",
    "from settings import *"
   ]
  },
  {
   "cell_type": "code",
   "execution_count": null,
   "metadata": {},
   "outputs": [],
   "source": [
    "data_path = DATA_PATH+'Oceanic_Domain/3.4SeaLevel/Figure3.8/'\n",
    "xls = pd.ExcelFile(\n",
    "    data_path+'dub_all_1938_to_2016_v2.xlsx')\n",
    "df = pd.read_excel(xls, 'dub_all_1938_to_2016')\n",
    "df.rename(columns = {\n",
    "    \"Unnamed: 3\":\"Date\",\n",
    "    \"Unnamed: 10\":\"AnnualDate\",\n",
    "    \"Unnamed: 11\":\"AnnualAverage\"\n",
    "    }, inplace = True)\n",
    "df['Month'] = df['Date'].dt.month\n",
    "\n",
    "df"
   ]
  },
  {
   "cell_type": "code",
   "execution_count": null,
   "metadata": {},
   "outputs": [],
   "source": [
    "monthlyTrace = go.Scatter(x=df[\"Date\"],\n",
    "                     y=df[\"Msl_OD_Malin\"],\n",
    "                    #  text=dataDF[\"11 Year Moving Average Totals\"],\n",
    "                     name='Monthly',\n",
    "                    mode='markers',\n",
    "                    marker=dict(color=TIMESERIES_COLOR_2,\n",
    "                                size=5,\n",
    "                                opacity=0.5),\n",
    "                     hovertemplate='%{x}<br>' +\n",
    "                            '<b>Monthly Average</b><br>' +\n",
    "                            'Mean Sea Level: %{y:.2f} mm<extra></extra>'\n",
    "                            )\n",
    "annualTrace = go.Scatter(x=df[\"AnnualDate\"],\n",
    "                     y=df[\"AnnualAverage\"],\n",
    "                    #  text=dataDF[\"11 Year Moving Average Totals\"],\n",
    "                     name='Annual',\n",
    "                     mode='lines',  # 'line' is default\n",
    "                     line_shape='spline',\n",
    "                     line=dict(\n",
    "                            color=TIMESERIES_COLOR_1,\n",
    "                            width=2),\n",
    "                      hovertemplate='%{x}<br>' +\n",
    "                            '<b>Annual Average</b><br>' +\n",
    "                            'Mean Sea Level: %{y:.2f} mm<extra></extra>'\n",
    "                            )\n",
    "figure_3_8=go.Figure(data=[monthlyTrace, annualTrace])\n",
    "figure_3_8"
   ]
  },
  {
   "cell_type": "code",
   "execution_count": null,
   "metadata": {},
   "outputs": [],
   "source": [
    "\"\"\"\n",
    "Might be interesting to show the months colored.\n",
    "Should define colors so that the winter and summer are seperate\n",
    "the winter and summer§\n",
    "\"\"\"\n",
    "monthlyTrace = go.Scatter(x=df[\"Date\"],\n",
    "                     y=df[\"Msl_OD_Malin\"],\n",
    "                     name='Monthly',\n",
    "                     mode='markers',\n",
    "                    marker=dict(\n",
    "                                    size=4,\n",
    "                                    # set color equal to a variable\n",
    "                                    color=df.Month,\n",
    "                                    colorscale='RdBu',  # one of plotly colorscales\n",
    "                                    showscale=True,\n",
    "                                    # colorbar=dict(title='Month',\n",
    "                                    #             tickmode='array',\n",
    "                                    #             ticktext=[\n",
    "                                    #                 0, 5, 10, 15, 20, 25, 30],\n",
    "                                    #             tickvals=[0, -5, -10, -15, -20, -25, -30]),\n",
    "                                    reversescale=False,\n",
    "\n",
    "                                ),\n",
    "                     hovertemplate='%{x}<br>' +\n",
    "                            '<b>Monthly Average</b><br>' +\n",
    "                            'Mean Sea Level: %{y:.2f} mm<extra></extra>'\n",
    "                            )\n",
    "annualTrace = go.Scatter(x=df[\"AnnualDate\"],\n",
    "                     y=df[\"AnnualAverage\"],\n",
    "                    #  text=dataDF[\"11 Year Moving Average Totals\"],\n",
    "                     name='Annual',\n",
    "                     mode='lines',  # 'line' is default\n",
    "                     line_shape='spline',\n",
    "                     line=dict(\n",
    "                            color=TIMESERIES_COLOR_1,\n",
    "                            width=2),\n",
    "                      hovertemplate='%{x}<br>' +\n",
    "                            '<b>Annual Average</b><br>' +\n",
    "                            'Mean Sea Level: %{y:.2f} mm<extra></extra>'\n",
    "                            )\n",
    "figure_3_8=go.Figure(data=[monthlyTrace, annualTrace])\n",
    "figure_3_8"
   ]
  },
  {
   "cell_type": "code",
   "execution_count": null,
   "metadata": {},
   "outputs": [],
   "source": []
  },
  {
   "cell_type": "code",
   "execution_count": null,
   "metadata": {},
   "outputs": [],
   "source": [
    "# Ballyglass\n",
    "data_path = DATA_PATH+'Oceanic_Domain/3.4SeaLevel/Figure3.7/'\n",
    "xls = pd.ExcelFile(\n",
    "    data_path+'Ballyglass.xlsx')\n",
    "ballyglassDF = pd.read_excel(xls, 'Sheet1')\n",
    "ballyglassDF"
   ]
  },
  {
   "cell_type": "code",
   "execution_count": null,
   "metadata": {},
   "outputs": [],
   "source": [
    "# Castletownbare\n",
    "data_path = DATA_PATH+'Oceanic_Domain/3.4SeaLevel/Figure3.7/'\n",
    "xls = pd.ExcelFile(\n",
    "    data_path+'Castletownbare.xlsx')\n",
    "castletownbareDF = pd.read_excel(xls, 'Sheet1')\n",
    "castletownbareDF"
   ]
  },
  {
   "cell_type": "code",
   "execution_count": null,
   "metadata": {},
   "outputs": [],
   "source": [
    "# Howth Harbour\n",
    "data_path = DATA_PATH+'Oceanic_Domain/3.4SeaLevel/Figure3.7/'\n",
    "xls = pd.ExcelFile(\n",
    "    data_path+'HowthHarbour.xlsx')\n",
    "howthDF = pd.read_excel(xls, 'Sheet1')\n",
    "howthDF"
   ]
  },
  {
   "cell_type": "code",
   "execution_count": null,
   "metadata": {},
   "outputs": [],
   "source": [
    "# Malin Head\n",
    "data_path = DATA_PATH+'Oceanic_Domain/3.4SeaLevel/Figure3.7/'\n",
    "xls = pd.ExcelFile(\n",
    "    data_path+'MalinHead.xlsx')\n",
    "malinHeadDF = pd.read_excel(xls, 'Sheet1')\n",
    "malinHeadDF"
   ]
  },
  {
   "cell_type": "code",
   "execution_count": null,
   "metadata": {},
   "outputs": [],
   "source": [
    "data_path = DATA_PATH+'Oceanic_Domain/3.4SeaLevel/Figure3.7/'\n",
    "df = pd.read_csv(data_path+'Sea_level_IrishStationsMonthlyAverage_for_online_charts.csv',\n",
    "                 parse_dates=['Date'],\n",
    "                 dayfirst=True)\n",
    "df"
   ]
  },
  {
   "cell_type": "code",
   "execution_count": null,
   "metadata": {},
   "outputs": [],
   "source": [
    "# all on one\n",
    "\n",
    "ballyglassTrace = go.Scatter(x=df[\"Date\"],\n",
    "                     y=df[\"Ballyglass_MonthlyAverage_m\"],\n",
    "                     name='Ballyglass',\n",
    "                     mode='lines',\n",
    "                     line_shape='spline',\n",
    "                     line=dict(\n",
    "                            color='#ff5768',\n",
    "                            width=2),\n",
    "                        hovertemplate='%{x}<br>' +\n",
    "                            '<b>Ballyglass</b><br>' +\n",
    "                            'Mean Sea Level: %{y:.2f} m<extra></extra>',\n",
    "                            )\n",
    "\n",
    "castletownbareTrace = go.Scatter(x=df[\"Date\"],\n",
    "                     y=df[\"Castletownbare_MonthlyAverage_m\"],\n",
    "                     name='Castletownbare',\n",
    "                     mode='lines', \n",
    "                     line_shape='spline',\n",
    "                     line=dict(\n",
    "                            color='#ff96c5',\n",
    "                            width=2),\n",
    "                      hovertemplate='%{x}<br>' +\n",
    "                            '<b>Castletownbare</b><br>' +\n",
    "                            'Mean Sea Level: %{y:.2f} m<extra></extra>',\n",
    "                            )\n",
    "\n",
    "\n",
    "howthHarbourTrace = go.Scatter(x=df[\"Date\"],\n",
    "                     y=df[\"HowthHarbour_MonthlyAverage_m\"],\n",
    "                     name='Howth Harbour',\n",
    "                     mode='lines',\n",
    "                     line_shape='spline',\n",
    "                     line=dict(\n",
    "                            color='#ffbf65',\n",
    "                            width=2),\n",
    "                        hovertemplate='%{x}<br>' +\n",
    "                            '<b>Howth Harbour</b><br>' +\n",
    "                            'Mean Sea Level: %{y:.2f} m<extra></extra>',\n",
    "                            )\n",
    "\n",
    "malinHeadTrace = go.Scatter(x=df[\"Date\"],\n",
    "                     y=df[\"MalinHead_MonthlyAverage_m\"],\n",
    "                     name='Malin Head',\n",
    "                     mode='lines',\n",
    "                     line_shape='spline',\n",
    "                     line=dict(\n",
    "                            color='#00a5e3',\n",
    "                            width=2),\n",
    "                        hovertemplate='%{x}<br>' +\n",
    "                            '<b>Malin Head</b><br>' +\n",
    "                            'Mean Sea Level: %{y:.2f} m<extra></extra>',\n",
    "                            )"
   ]
  },
  {
   "cell_type": "code",
   "execution_count": null,
   "metadata": {},
   "outputs": [],
   "source": [
    "figure_3_7=go.Figure(data=[ballyglassTrace,\n",
    "                           castletownbareTrace,\n",
    "                           howthHarbourTrace,\n",
    "                           malinHeadTrace],\n",
    "                    layout=TIMESERIES_LAYOUT)\n",
    "figure_3_7.update_yaxes(title_text='Sea Level (m) Relative to OD Malin',\n",
    "                         range=[-0.45, 0.45],\n",
    "                         showgrid=False,\n",
    "                         fixedrange=True,\n",
    "                        )\n",
    "figure_3_7.update_xaxes(title_text='Year',\n",
    "                         range=['2003-01-01', '2020-06-30'],)\n",
    "figure_3_7.update_layout(legend = dict(title=dict(text='<b>Click to Toggle Trend</b>',\n",
    "                                                  side='top'),\n",
    "                                       itemclick='toggle'))\n",
    "\n",
    "\n",
    "figure_3_7.show()"
   ]
  },
  {
   "cell_type": "code",
   "execution_count": null,
   "metadata": {},
   "outputs": [],
   "source": [
    "# all on one\n",
    "figure_3_7 = make_subplots(specs=[[{'secondary_y': False}]])\n",
    "figure_3_7.add_trace(malinHeadTrace,\n",
    "            secondary_y=False,)\n",
    "figure_3_7.add_trace(ballyglassTrace,\n",
    "            secondary_y=False,)\n",
    "figure_3_7.add_trace(castletownbareTrace,\n",
    "            secondary_y=False,)\n",
    "figure_3_7.add_trace(howthHarbourTrace,\n",
    "            secondary_y=False,)\n",
    "\n",
    "figure_3_7.update_layout(TIMESERIES_LAYOUT)\n",
    "figure_3_7.update_layout(legend = {'orientation': 'h',\n",
    "  'bgcolor': 'rgba(0,0,0,0)',\n",
    "  'itemclick': 'toggle',\n",
    "  'itemdoubleclick': 'toggle'})\n",
    "\n",
    "\n",
    "figure_3_7.update_yaxes(title_text='Sea Level (metres) relative to OD Malin',\n",
    "                         range=[-0.45, 0.45],\n",
    "                         showgrid=False,\n",
    "                         fixedrange=True,\n",
    "                         showspikes=True,\n",
    "                        )\n",
    "figure_3_7.update_xaxes(title_text='Year',\n",
    "                         range=['2004-01-01', '2020-06-30'],\n",
    "#                          tickformat=\"%Y\",\n",
    "                         showspikes=True,  \n",
    "                         spikethickness=2\n",
    "                        )\n",
    "\n",
    "figure_3_7.show()"
   ]
  },
  {
   "cell_type": "code",
   "execution_count": null,
   "metadata": {},
   "outputs": [],
   "source": [
    "# single x 4\n",
    "ballyglassSingleTrace = go.Scatter(x=ballyglassDF[\"Date\"],\n",
    "                     y=ballyglassDF[\"MonthlyAverage_m\"],\n",
    "                    #  text=dataDF[\"11 Year Moving Average Totals\"],\n",
    "                     name='Ballyglass',\n",
    "                     connectgaps=False,\n",
    "                     mode='lines',  # 'line' is default\n",
    "                     line_shape='spline',\n",
    "                     line=dict(\n",
    "                            color=TIMESERIES_COLOR_1,\n",
    "                            width=2),\n",
    "                      hovertemplate='%{x}<br>' +\n",
    "                            '<b>Monthly Average: %{y:.2f} m<extra></extra></b>',\n",
    "                            )\n",
    "\n",
    "castletownbareSingleTrace = go.Scatter(x=castletownbareDF[\"Date\"],\n",
    "                     y=castletownbareDF[\"MonthlyAverage_m\"],\n",
    "                    #  text=dataDF[\"11 Year Moving Average Totals\"],\n",
    "                     name='Castletownbare',\n",
    "                     connectgaps=False,\n",
    "                     mode='lines',  # 'line' is default\n",
    "                     line_shape='spline',\n",
    "                     line=dict(\n",
    "                            color=TIMESERIES_COLOR_1,\n",
    "                            width=2),\n",
    "                      hovertemplate='%{x}<br>' +\n",
    "                            '<b>Monthly Average: %{y:.2f} m<extra></extra></b>',\n",
    "                            )\n",
    "\n",
    "malinHeadSingleTrace = go.Scatter(x=malinHeadDF[\"Date\"],\n",
    "                     y=malinHeadDF[\"MonthlyAverage_m\"],\n",
    "                    #  text=dataDF[\"11 Year Moving Average Totals\"],\n",
    "                     name='Malin Head',\n",
    "                     connectgaps=False,\n",
    "                     mode='lines',  # 'line' is default\n",
    "                     line_shape='spline',\n",
    "                     line=dict(\n",
    "                            color=TIMESERIES_COLOR_1,\n",
    "                            width=2),\n",
    "                      hovertemplate='%{x}<br>' +\n",
    "                            '<b>Monthly Average: %{y:.2f} m<extra></extra></b>'\n",
    "                            )\n",
    "howthHarbourSingleTrace = go.Scatter(x=howthDF[\"Date\"],\n",
    "                     y=howthDF[\"MonthlyAverage_m\"],\n",
    "                    #  text=dataDF[\"11 Year Moving Average Totals\"],\n",
    "                     name='Howth Harbour',\n",
    "                     connectgaps=False,\n",
    "                     mode='lines',  # 'line' is default\n",
    "                     line_shape='spline',\n",
    "                     line=dict(\n",
    "                            color=TIMESERIES_COLOR_1,\n",
    "                            width=2),\n",
    "                      hovertemplate='%{x}<br>' +\n",
    "                            '<b>Monthly Average: %{y:.2f} m<extra></extra></b>',\n",
    "                            )"
   ]
  },
  {
   "cell_type": "code",
   "execution_count": null,
   "metadata": {},
   "outputs": [],
   "source": [
    "# ballyglass\n",
    "figure_3_7_ballyglass = make_subplots(specs=[[{'secondary_y': False}]])\n",
    "\n",
    "figure_3_7_ballyglass.add_trace(ballyglassSingleTrace,\n",
    "            secondary_y=False,)\n",
    "\n",
    "\n",
    "figure_3_7_ballyglass.update_layout(TIMESERIES_LAYOUT)\n",
    "# figure_3_7_ballyglass.update_layout(showlegend = True)\n",
    "\n",
    "\n",
    "figure_3_7_ballyglass.update_yaxes(title_text='Sea Level (metres) relative to OD Malin',\n",
    "                         range=[-0.45, 0.45],\n",
    "                         showgrid=False,\n",
    "                         fixedrange=True,\n",
    "                         showspikes=True,\n",
    "                        )\n",
    "figure_3_7_ballyglass.update_xaxes(title_text='Year',\n",
    "                         range=['2004-01-01', '2020-06-30'],\n",
    "#                          tickformat=\"%Y\",\n",
    "                         showspikes=True,  \n",
    "                         spikethickness=2\n",
    "                        )\n",
    "\n",
    "figure_3_7_ballyglass.show()"
   ]
  },
  {
   "cell_type": "code",
   "execution_count": null,
   "metadata": {},
   "outputs": [],
   "source": [
    "# malin head\n",
    "figure_3_7_malinHead = make_subplots(specs=[[{'secondary_y': False}]])\n",
    "\n",
    "figure_3_7_malinHead.add_trace(malinHeadSingleTrace,\n",
    "            secondary_y=False,)\n",
    "\n",
    "figure_3_7_malinHead.update_layout(TIMESERIES_LAYOUT)\n",
    "# figure_3_7_ballyglass.update_layout(showlegend = True)\n",
    "\n",
    "\n",
    "figure_3_7_malinHead.update_yaxes(title_text='Sea Level (metres) relative to OD Malin',\n",
    "                         range=[-0.45, 0.45],\n",
    "                         showgrid=False,\n",
    "                         fixedrange=True,\n",
    "                         showspikes=True,\n",
    "                        )\n",
    "figure_3_7_malinHead.update_xaxes(title_text='Year',\n",
    "                         range=['2004-01-01', '2020-06-30'],\n",
    "#                          tickformat=\"%Y\",\n",
    "                         showspikes=True,  \n",
    "                         spikethickness=2\n",
    "                        )\n",
    "\n",
    "figure_3_7_malinHead.show()"
   ]
  },
  {
   "cell_type": "code",
   "execution_count": null,
   "metadata": {},
   "outputs": [],
   "source": [
    "# castletownbare\n",
    "figure_3_7_castletownbare = make_subplots(specs=[[{'secondary_y': False}]])\n",
    "\n",
    "figure_3_7_castletownbare.add_trace(castletownbareSingleTrace,\n",
    "            secondary_y=False,)\n",
    "\n",
    "\n",
    "figure_3_7_castletownbare.update_layout(TIMESERIES_LAYOUT)\n",
    "# figure_3_7_ballyglass.update_layout(showlegend = True)\n",
    "\n",
    "\n",
    "figure_3_7_castletownbare.update_yaxes(title_text='Sea Level (metres) relative to OD Malin',\n",
    "                         range=[-0.45, 0.45],\n",
    "                         showgrid=False,\n",
    "                         fixedrange=True,\n",
    "                         showspikes=True,\n",
    "                        )\n",
    "figure_3_7_castletownbare.update_xaxes(title_text='Year',\n",
    "                         range=['2004-01-01', '2020-06-30'],\n",
    "#                          tickformat=\"%Y\",\n",
    "                         showspikes=True,  \n",
    "                         spikethickness=2\n",
    "                        )\n",
    "\n",
    "figure_3_7_castletownbare.show()"
   ]
  },
  {
   "cell_type": "code",
   "execution_count": null,
   "metadata": {},
   "outputs": [],
   "source": [
    "# howth harbour\n",
    "figure_3_7_howthHarbour = make_subplots(specs=[[{'secondary_y': False}]])\n",
    "\n",
    "figure_3_7_howthHarbour.add_trace(howthHarbourSingleTrace,\n",
    "            secondary_y=False,)\n",
    "\n",
    "\n",
    "figure_3_7_howthHarbour.update_layout(TIMESERIES_LAYOUT)\n",
    "# figure_3_7_ballyglass.update_layout(showlegend = True)\n",
    "\n",
    "\n",
    "figure_3_7_howthHarbour.update_yaxes(title_text='Sea Level (metres) relative to OD Malin',\n",
    "                         range=[-0.45, 0.45],\n",
    "                         showgrid=False,\n",
    "                         fixedrange=True,\n",
    "                         showspikes=True,\n",
    "                        )\n",
    "figure_3_7_howthHarbour.update_xaxes(title_text='Year',\n",
    "                         range=['2004-01-01', '2020-06-30'],\n",
    "#                          tickformat=\"%Y\",\n",
    "                         showspikes=True,  \n",
    "                         spikethickness=2\n",
    "                        )\n",
    "\n",
    "figure_3_7_howthHarbour.show()"
   ]
  },
  {
   "cell_type": "code",
   "execution_count": null,
   "metadata": {},
   "outputs": [],
   "source": []
  },
  {
   "cell_type": "code",
   "execution_count": null,
   "metadata": {},
   "outputs": [],
   "source": [
    "\n",
    "data_path = DATA_PATH+'Oceanic_Domain/3.4SeaLevel/Map3.4/'\n",
    "malinHeadDF = pd.read_csv(data_path+'Map3.4_StationTable_MalinHead.txt')\n",
    "malinHeadDF # contained in tidalGaugeDF"
   ]
  },
  {
   "cell_type": "code",
   "execution_count": null,
   "metadata": {},
   "outputs": [],
   "source": [
    "tidalGaugeDF = pd.read_csv(data_path+'Map3.4_StationTable_IrishNationalTideGaugeNetwork.txt')\n",
    "tidalGaugeDF"
   ]
  },
  {
   "cell_type": "code",
   "execution_count": null,
   "metadata": {},
   "outputs": [],
   "source": []
  },
  {
   "cell_type": "code",
   "execution_count": null,
   "metadata": {},
   "outputs": [],
   "source": [
    "\n",
    "data_path = DATA_PATH+'Oceanic_Domain/3.4SeaLevel/Map3.4/'\n",
    "malinDF = pd.read_csv(\n",
    "        data_path+'Map3.4_StationTable_MalinHead.txt')\n",
    "\n",
    "tidalGaugeDF = pd.read_csv(\n",
    "        data_path+'Map3.4_StationTable_IrishNationalTideGaugeNetwork.txt')\n",
    "\n",
    "stationColumns=['FID', 'County', 'Station_Nu', 'name', 'Height__m_', 'Easting',\n",
    "       'Northing', 'Latitude', 'Longitude', 'Open_Year', 'Close_Year', 'Type']\n"
   ]
  },
  {
   "cell_type": "code",
   "execution_count": null,
   "metadata": {},
   "outputs": [],
   "source": [
    "malinDF"
   ]
  },
  {
   "cell_type": "code",
   "execution_count": null,
   "metadata": {},
   "outputs": [],
   "source": []
  },
  {
   "cell_type": "code",
   "execution_count": null,
   "metadata": {},
   "outputs": [],
   "source": [
    "tidalGaugeDFNew=pd.DataFrame(columns=stationColumns)\n",
    "tidalGaugeDFNew['name']=tidalGaugeDF[\"Station_Na\"]\n",
    "tidalGaugeDFNew['Latitude']=tidalGaugeDF[\"Latitude\"]\n",
    "tidalGaugeDFNew['Longitude']=tidalGaugeDF[\"Longitude\"]\n",
    "tidalGaugeDFNew['Easting']=tidalGaugeDF[\"Easting\"]\n",
    "tidalGaugeDFNew['Northing']=tidalGaugeDF[\"Northing\"]\n",
    "tidalGaugeDFNew['Station_Nu']=tidalGaugeDF[\"Station_No\"]\n",
    "tidalGaugeDFNew['Body_Respo']=tidalGaugeDF[\"Body_Respo\"]\n",
    "tidalGaugeDFNew['Type']=\"TideGauge\"\n",
    "\n",
    "tidalGaugeDFNew"
   ]
  },
  {
   "cell_type": "code",
   "execution_count": null,
   "metadata": {},
   "outputs": [],
   "source": [
    "def stations_map_hovertemplate(df):\n",
    "    return ['Name: {}<br>'.format(n)+\n",
    "            'County: {}<br>'.format(cnty)+\n",
    "            'Type: {}<br>'.format(t)+\n",
    "            'Station No.: {}<br>'.format(sN)+\n",
    "            'Open Year: {}<br>'.format(oY)+\n",
    "            'Close Year: {}<br>'.format(cY)+\n",
    "            'Height: {:.2f} m<br>'.format(h)+\n",
    "            # 'Easting: {}<br>'.format(easting)+\n",
    "            # 'Northing: {}<br>'.format(northing)+\n",
    "            'Lat: {:.2f} \\u00b0<br>'.format(lat)+\n",
    "            'Lon: {:.2f} \\u00b0<br>'.format(lon)+'<extra></extra>'\n",
    "            for n, t, sN, cnty, oY, cY, h, lat, lon in zip(list(df['name']),\n",
    "                                                                        list(\n",
    "                df['Type']),\n",
    "        list(\n",
    "                df['Station_Nu']),\n",
    "        list(\n",
    "                df['County']),\n",
    "        list(\n",
    "                df['Open_Year']),\n",
    "        list(\n",
    "                df['Close_Year']),\n",
    "        list(\n",
    "                df['Height__m_']),\n",
    "        # list(\n",
    "        #         df['Easting']),\n",
    "        # list(\n",
    "        #         df['Northing']),\n",
    "        list(\n",
    "                df['Latitude']),\n",
    "        list(\n",
    "                df['Longitude']),\n",
    "    )]\n",
    "df=tidalGaugeDFNew\n",
    "miDF = df.loc[(df['Body_Respo'] == 'MI')]\n",
    "opwDF = df.loc[(df['Body_Respo'] == 'OPW')]\n",
    "epaDF = df.loc[(df['Body_Respo'] == 'EPA')]\n",
    "pcDF = df.loc[df['Body_Respo'].isin(['POC', 'SFPC','LHC','BHC','DLPC'])]\n",
    "laDF = df.loc[df['Body_Respo'].isin(['Cork City Council', 'Dublin City Council'])]\n",
    "miTrend = go.Scattermapbox(\n",
    "        name='Marine Institute',\n",
    "        lon=miDF.Longitude,\n",
    "        lat=miDF.Latitude,\n",
    "        marker=dict(color='blue',\n",
    "                    size=7),\n",
    "        hovertemplate='Maintainer: '+ miDF.Body_Respo + '<br>'+\n",
    "                     stations_map_hovertemplate(miDF),\n",
    "    )\n",
    "opwTrend = go.Scattermapbox(\n",
    "        name='OPW',\n",
    "        lon=opwDF.Longitude,\n",
    "        lat=opwDF.Latitude,\n",
    "        marker=dict(color='yellow',\n",
    "                    size=7),\n",
    "        hovertemplate='Maintainer: '+ opwDF.Body_Respo + '<br>'+\n",
    "                     stations_map_hovertemplate(opwDF),\n",
    "    )\n",
    "epaTrend = go.Scattermapbox(\n",
    "        name='EPA',\n",
    "        lon=epaDF.Longitude,\n",
    "        lat=epaDF.Latitude,\n",
    "        marker=dict(color='green',\n",
    "                    size=7),\n",
    "        hovertemplate='Maintainer: '+ epaDF.Body_Respo + '<br>'+\n",
    "                     stations_map_hovertemplate(epaDF),\n",
    "    )\n",
    "pcTrend = go.Scattermapbox(\n",
    "        name='Port Company',\n",
    "        lon=pcDF.Longitude,\n",
    "        lat=pcDF.Latitude,\n",
    "        marker=dict(color='brown',\n",
    "                    size=7),\n",
    "        hovertemplate='Maintainer: '+ pcDF.Body_Respo + '<br>'+\n",
    "                     stations_map_hovertemplate(pcDF),\n",
    "    )\n",
    "laTrend = go.Scattermapbox(\n",
    "        name='Local Authority',\n",
    "        lon=laDF.Longitude,\n",
    "        lat=laDF.Latitude,\n",
    "        marker=dict(color='orange',\n",
    "                    size=7),\n",
    "        hovertemplate='Maintainer: '+ laDF.Body_Respo + '<br>'+\n",
    "                     stations_map_hovertemplate(laDF))\n",
    "map_3_4 = go.Figure(\n",
    "        data=[miTrend,\n",
    "              opwTrend,\n",
    "              epaTrend,\n",
    "              pcTrend,\n",
    "              laTrend\n",
    "             ],\n",
    "        layout=MAP_LAYOUT)\n",
    "map_3_4.update_layout(\n",
    "        mapbox=dict(bearing=0,\n",
    "                center=dict(\n",
    "                    lat=54,\n",
    "                    lon=349\n",
    "                ),\n",
    "                pitch=0,\n",
    "                zoom=4.2))\n",
    "map_3_4"
   ]
  },
  {
   "cell_type": "code",
   "execution_count": null,
   "metadata": {},
   "outputs": [],
   "source": [
    "map_3_4=stations_map(tidalGaugeDFNew)\n",
    "map_3_4"
   ]
  },
  {
   "cell_type": "code",
   "execution_count": 3,
   "metadata": {},
   "outputs": [
    {
     "data": {
      "text/html": [
       "<div>\n",
       "<style scoped>\n",
       "    .dataframe tbody tr th:only-of-type {\n",
       "        vertical-align: middle;\n",
       "    }\n",
       "\n",
       "    .dataframe tbody tr th {\n",
       "        vertical-align: top;\n",
       "    }\n",
       "\n",
       "    .dataframe thead th {\n",
       "        text-align: right;\n",
       "    }\n",
       "</style>\n",
       "<table border=\"1\" class=\"dataframe\">\n",
       "  <thead>\n",
       "    <tr style=\"text-align: right;\">\n",
       "      <th></th>\n",
       "      <th>FID</th>\n",
       "      <th>Station_No</th>\n",
       "      <th>Station_Na</th>\n",
       "      <th>Body_Respo</th>\n",
       "      <th>OPW_Classi</th>\n",
       "      <th>MI_Classif</th>\n",
       "      <th>Final_Clas</th>\n",
       "      <th>Easting</th>\n",
       "      <th>Northing</th>\n",
       "      <th>Type__Tida</th>\n",
       "      <th>Status__Ac</th>\n",
       "      <th>General_co</th>\n",
       "      <th>Stakeholde</th>\n",
       "      <th>Longitude</th>\n",
       "      <th>Latitude</th>\n",
       "    </tr>\n",
       "  </thead>\n",
       "  <tbody>\n",
       "    <tr>\n",
       "      <th>0</th>\n",
       "      <td>0</td>\n",
       "      <td>32060</td>\n",
       "      <td>Aashleagh Br</td>\n",
       "      <td>OPW</td>\n",
       "      <td>Primary</td>\n",
       "      <td>Unable to comment - more info required</td>\n",
       "      <td>P/U</td>\n",
       "      <td>89461.00000</td>\n",
       "      <td>264380.0000</td>\n",
       "      <td>ST</td>\n",
       "      <td>A</td>\n",
       "      <td></td>\n",
       "      <td></td>\n",
       "      <td>-9.670629</td>\n",
       "      <td>53.617556</td>\n",
       "    </tr>\n",
       "    <tr>\n",
       "      <th>1</th>\n",
       "      <td>1</td>\n",
       "      <td>16160</td>\n",
       "      <td>Adelphi Quay</td>\n",
       "      <td>OPW</td>\n",
       "      <td>Primary</td>\n",
       "      <td>Unable to comment - more info required</td>\n",
       "      <td>P/U</td>\n",
       "      <td>261337.00000</td>\n",
       "      <td>112322.0000</td>\n",
       "      <td>ST</td>\n",
       "      <td>A</td>\n",
       "      <td></td>\n",
       "      <td></td>\n",
       "      <td>-7.101594</td>\n",
       "      <td>52.259295</td>\n",
       "    </tr>\n",
       "    <tr>\n",
       "      <th>2</th>\n",
       "      <td>2</td>\n",
       "      <td>38060</td>\n",
       "      <td>Aranmore Island</td>\n",
       "      <td>MI</td>\n",
       "      <td>Secondary</td>\n",
       "      <td>Primary</td>\n",
       "      <td>S/P</td>\n",
       "      <td>168322.00450</td>\n",
       "      <td>415900.9764</td>\n",
       "      <td>T</td>\n",
       "      <td>A</td>\n",
       "      <td></td>\n",
       "      <td></td>\n",
       "      <td>-8.494936</td>\n",
       "      <td>54.989574</td>\n",
       "    </tr>\n",
       "    <tr>\n",
       "      <th>3</th>\n",
       "      <td>3</td>\n",
       "      <td>10060</td>\n",
       "      <td>Arklow Harbour</td>\n",
       "      <td>OPW</td>\n",
       "      <td>Primary</td>\n",
       "      <td>Primary</td>\n",
       "      <td>P</td>\n",
       "      <td>325170.00000</td>\n",
       "      <td>172800.0000</td>\n",
       "      <td>T</td>\n",
       "      <td>A</td>\n",
       "      <td></td>\n",
       "      <td></td>\n",
       "      <td>-6.144258</td>\n",
       "      <td>52.791739</td>\n",
       "    </tr>\n",
       "    <tr>\n",
       "      <th>4</th>\n",
       "      <td>4</td>\n",
       "      <td>34061</td>\n",
       "      <td>Ballina</td>\n",
       "      <td>OPW</td>\n",
       "      <td>Primary</td>\n",
       "      <td>Unable to comment - more info required</td>\n",
       "      <td>P/U</td>\n",
       "      <td>125058.00000</td>\n",
       "      <td>319280.0000</td>\n",
       "      <td>ST</td>\n",
       "      <td>A</td>\n",
       "      <td></td>\n",
       "      <td></td>\n",
       "      <td>-9.146184</td>\n",
       "      <td>54.117052</td>\n",
       "    </tr>\n",
       "    <tr>\n",
       "      <th>5</th>\n",
       "      <td>5</td>\n",
       "      <td>Not entered</td>\n",
       "      <td>Ballycotton</td>\n",
       "      <td>MI</td>\n",
       "      <td>Primary</td>\n",
       "      <td>Primary</td>\n",
       "      <td>P</td>\n",
       "      <td>200001.00000</td>\n",
       "      <td>63883.0000</td>\n",
       "      <td>T</td>\n",
       "      <td>A</td>\n",
       "      <td></td>\n",
       "      <td></td>\n",
       "      <td>-7.999985</td>\n",
       "      <td>51.827340</td>\n",
       "    </tr>\n",
       "    <tr>\n",
       "      <th>6</th>\n",
       "      <td>6</td>\n",
       "      <td>19068</td>\n",
       "      <td>Ballycotton</td>\n",
       "      <td>OPW</td>\n",
       "      <td>Primary</td>\n",
       "      <td>Primary</td>\n",
       "      <td>P</td>\n",
       "      <td>199948.00000</td>\n",
       "      <td>63930.0000</td>\n",
       "      <td>T</td>\n",
       "      <td>A</td>\n",
       "      <td></td>\n",
       "      <td></td>\n",
       "      <td>-8.000754</td>\n",
       "      <td>51.827762</td>\n",
       "    </tr>\n",
       "    <tr>\n",
       "      <th>7</th>\n",
       "      <td>7</td>\n",
       "      <td>33060</td>\n",
       "      <td>Ballyglass</td>\n",
       "      <td>MI</td>\n",
       "      <td>Primary</td>\n",
       "      <td>Primary</td>\n",
       "      <td>P</td>\n",
       "      <td>76866.00000</td>\n",
       "      <td>335439.0000</td>\n",
       "      <td>T</td>\n",
       "      <td>A</td>\n",
       "      <td></td>\n",
       "      <td></td>\n",
       "      <td>-9.889498</td>\n",
       "      <td>54.252887</td>\n",
       "    </tr>\n",
       "    <tr>\n",
       "      <th>8</th>\n",
       "      <td>8</td>\n",
       "      <td>Not registered</td>\n",
       "      <td>Bantry</td>\n",
       "      <td>BHC</td>\n",
       "      <td>Primary</td>\n",
       "      <td>Unable to comment - more info required</td>\n",
       "      <td>P/U</td>\n",
       "      <td>98925.00000</td>\n",
       "      <td>48497.0000</td>\n",
       "      <td>T</td>\n",
       "      <td>I</td>\n",
       "      <td></td>\n",
       "      <td></td>\n",
       "      <td>-9.461503</td>\n",
       "      <td>51.679950</td>\n",
       "    </tr>\n",
       "    <tr>\n",
       "      <th>9</th>\n",
       "      <td>9</td>\n",
       "      <td>23062</td>\n",
       "      <td>Blennerville</td>\n",
       "      <td>OPW</td>\n",
       "      <td>Primary</td>\n",
       "      <td>Unable to comment - more info required</td>\n",
       "      <td>P/U</td>\n",
       "      <td>81526.00000</td>\n",
       "      <td>113165.0000</td>\n",
       "      <td>ST</td>\n",
       "      <td>A</td>\n",
       "      <td></td>\n",
       "      <td></td>\n",
       "      <td>-9.735274</td>\n",
       "      <td>52.257538</td>\n",
       "    </tr>\n",
       "    <tr>\n",
       "      <th>10</th>\n",
       "      <td>10</td>\n",
       "      <td>27062</td>\n",
       "      <td>Carrigaholt</td>\n",
       "      <td>LHC</td>\n",
       "      <td>Primary</td>\n",
       "      <td>Unable to comment - more info required</td>\n",
       "      <td>P/U</td>\n",
       "      <td>84950.00000</td>\n",
       "      <td>151278.0000</td>\n",
       "      <td>T</td>\n",
       "      <td>A</td>\n",
       "      <td></td>\n",
       "      <td></td>\n",
       "      <td>-9.698259</td>\n",
       "      <td>52.600655</td>\n",
       "    </tr>\n",
       "    <tr>\n",
       "      <th>11</th>\n",
       "      <td>11</td>\n",
       "      <td>27063</td>\n",
       "      <td>Carrigaholt Pier</td>\n",
       "      <td>OPW</td>\n",
       "      <td></td>\n",
       "      <td></td>\n",
       "      <td></td>\n",
       "      <td>84949.00000</td>\n",
       "      <td>151257.0000</td>\n",
       "      <td>T</td>\n",
       "      <td>A</td>\n",
       "      <td></td>\n",
       "      <td></td>\n",
       "      <td>-9.698267</td>\n",
       "      <td>52.600466</td>\n",
       "    </tr>\n",
       "    <tr>\n",
       "      <th>12</th>\n",
       "      <td>12</td>\n",
       "      <td>?</td>\n",
       "      <td>Castletownbere</td>\n",
       "      <td>MI</td>\n",
       "      <td>Primary</td>\n",
       "      <td>Primary</td>\n",
       "      <td>P</td>\n",
       "      <td>68311.00000</td>\n",
       "      <td>45776.0000</td>\n",
       "      <td>T</td>\n",
       "      <td>A</td>\n",
       "      <td></td>\n",
       "      <td></td>\n",
       "      <td>-9.902912</td>\n",
       "      <td>51.649166</td>\n",
       "    </tr>\n",
       "    <tr>\n",
       "      <th>13</th>\n",
       "      <td>13</td>\n",
       "      <td>27068</td>\n",
       "      <td>Clarecastle Br</td>\n",
       "      <td>OPW</td>\n",
       "      <td>Primary</td>\n",
       "      <td>Unable to comment - more info required</td>\n",
       "      <td>P/U</td>\n",
       "      <td>133900.00000</td>\n",
       "      <td>177717.0000</td>\n",
       "      <td>ST</td>\n",
       "      <td>A</td>\n",
       "      <td></td>\n",
       "      <td></td>\n",
       "      <td>-8.981181</td>\n",
       "      <td>52.846384</td>\n",
       "    </tr>\n",
       "    <tr>\n",
       "      <th>14</th>\n",
       "      <td>14</td>\n",
       "      <td>Not registered</td>\n",
       "      <td>Cobh</td>\n",
       "      <td>POC</td>\n",
       "      <td>Secondary</td>\n",
       "      <td>Unable to comment - more info required</td>\n",
       "      <td>S/U</td>\n",
       "      <td>180749.00000</td>\n",
       "      <td>66526.0000</td>\n",
       "      <td>T</td>\n",
       "      <td>A</td>\n",
       "      <td></td>\n",
       "      <td></td>\n",
       "      <td>-8.279407</td>\n",
       "      <td>51.850764</td>\n",
       "    </tr>\n",
       "    <tr>\n",
       "      <th>15</th>\n",
       "      <td>15</td>\n",
       "      <td>19160</td>\n",
       "      <td>Currach Club</td>\n",
       "      <td>OPW</td>\n",
       "      <td>Primary</td>\n",
       "      <td></td>\n",
       "      <td></td>\n",
       "      <td>169991.00000</td>\n",
       "      <td>72224.0000</td>\n",
       "      <td>T</td>\n",
       "      <td>A</td>\n",
       "      <td></td>\n",
       "      <td></td>\n",
       "      <td>-8.436039</td>\n",
       "      <td>51.901504</td>\n",
       "    </tr>\n",
       "    <tr>\n",
       "      <th>16</th>\n",
       "      <td>16</td>\n",
       "      <td>Not registered</td>\n",
       "      <td>Dingle</td>\n",
       "      <td>MI</td>\n",
       "      <td>Primary</td>\n",
       "      <td>Primary</td>\n",
       "      <td>P</td>\n",
       "      <td>44277.00000</td>\n",
       "      <td>100742.0000</td>\n",
       "      <td>T</td>\n",
       "      <td>A</td>\n",
       "      <td></td>\n",
       "      <td></td>\n",
       "      <td>-10.274738</td>\n",
       "      <td>52.136695</td>\n",
       "    </tr>\n",
       "    <tr>\n",
       "      <th>17</th>\n",
       "      <td>17</td>\n",
       "      <td>9064</td>\n",
       "      <td>Dublin port</td>\n",
       "      <td>Dublin City Council</td>\n",
       "      <td>Primary</td>\n",
       "      <td>Primary</td>\n",
       "      <td>P</td>\n",
       "      <td>318485.00000</td>\n",
       "      <td>234283.0000</td>\n",
       "      <td>ST</td>\n",
       "      <td>A</td>\n",
       "      <td></td>\n",
       "      <td></td>\n",
       "      <td>-6.220692</td>\n",
       "      <td>53.345502</td>\n",
       "    </tr>\n",
       "    <tr>\n",
       "      <th>18</th>\n",
       "      <td>18</td>\n",
       "      <td>9061</td>\n",
       "      <td>Dun Laoghaire</td>\n",
       "      <td>DLPC</td>\n",
       "      <td></td>\n",
       "      <td></td>\n",
       "      <td></td>\n",
       "      <td>324700.00000</td>\n",
       "      <td>228700.0000</td>\n",
       "      <td>T</td>\n",
       "      <td>A</td>\n",
       "      <td></td>\n",
       "      <td></td>\n",
       "      <td>-6.129608</td>\n",
       "      <td>53.293932</td>\n",
       "    </tr>\n",
       "    <tr>\n",
       "      <th>19</th>\n",
       "      <td>19</td>\n",
       "      <td>6061</td>\n",
       "      <td>Dundalk Port</td>\n",
       "      <td>OPW</td>\n",
       "      <td>Primary</td>\n",
       "      <td>NaN</td>\n",
       "      <td>P/U</td>\n",
       "      <td>305933.00000</td>\n",
       "      <td>307727.0000</td>\n",
       "      <td>ST</td>\n",
       "      <td>A</td>\n",
       "      <td></td>\n",
       "      <td></td>\n",
       "      <td>-6.384043</td>\n",
       "      <td>54.007844</td>\n",
       "    </tr>\n",
       "    <tr>\n",
       "      <th>20</th>\n",
       "      <td>20</td>\n",
       "      <td></td>\n",
       "      <td>Dunmore East</td>\n",
       "      <td>MI</td>\n",
       "      <td>Primary</td>\n",
       "      <td>Primary</td>\n",
       "      <td>P</td>\n",
       "      <td>269057.00000</td>\n",
       "      <td>99962.0000</td>\n",
       "      <td>T</td>\n",
       "      <td>A</td>\n",
       "      <td></td>\n",
       "      <td></td>\n",
       "      <td>-6.991056</td>\n",
       "      <td>52.147309</td>\n",
       "    </tr>\n",
       "    <tr>\n",
       "      <th>21</th>\n",
       "      <td>21</td>\n",
       "      <td>17061</td>\n",
       "      <td>Dunmore East</td>\n",
       "      <td>OPW</td>\n",
       "      <td>Primary</td>\n",
       "      <td>Primary</td>\n",
       "      <td>P</td>\n",
       "      <td>269131.00000</td>\n",
       "      <td>99944.0000</td>\n",
       "      <td>T</td>\n",
       "      <td>A</td>\n",
       "      <td></td>\n",
       "      <td></td>\n",
       "      <td>-6.989979</td>\n",
       "      <td>52.147138</td>\n",
       "    </tr>\n",
       "    <tr>\n",
       "      <th>22</th>\n",
       "      <td>22</td>\n",
       "      <td>34060</td>\n",
       "      <td>Enniscrone</td>\n",
       "      <td>OPW</td>\n",
       "      <td>Primary</td>\n",
       "      <td></td>\n",
       "      <td></td>\n",
       "      <td>128397.00000</td>\n",
       "      <td>330695.0000</td>\n",
       "      <td>T</td>\n",
       "      <td>A</td>\n",
       "      <td></td>\n",
       "      <td></td>\n",
       "      <td>-9.097839</td>\n",
       "      <td>54.220071</td>\n",
       "    </tr>\n",
       "    <tr>\n",
       "      <th>23</th>\n",
       "      <td>23</td>\n",
       "      <td>23066</td>\n",
       "      <td>Fenit</td>\n",
       "      <td>OPW</td>\n",
       "      <td>Primary</td>\n",
       "      <td>Primary</td>\n",
       "      <td>P</td>\n",
       "      <td>72933.00000</td>\n",
       "      <td>114689.0000</td>\n",
       "      <td>T</td>\n",
       "      <td>A</td>\n",
       "      <td></td>\n",
       "      <td></td>\n",
       "      <td>-9.861638</td>\n",
       "      <td>52.269311</td>\n",
       "    </tr>\n",
       "    <tr>\n",
       "      <th>24</th>\n",
       "      <td>24</td>\n",
       "      <td>24061</td>\n",
       "      <td>Ferry Br (Maigue)</td>\n",
       "      <td>OPW</td>\n",
       "      <td>Primary</td>\n",
       "      <td>Unable to comment - more info required</td>\n",
       "      <td>P/U</td>\n",
       "      <td>148252.00000</td>\n",
       "      <td>152451.0000</td>\n",
       "      <td>ST</td>\n",
       "      <td>A</td>\n",
       "      <td></td>\n",
       "      <td></td>\n",
       "      <td>-8.764184</td>\n",
       "      <td>52.620907</td>\n",
       "    </tr>\n",
       "    <tr>\n",
       "      <th>25</th>\n",
       "      <td>25</td>\n",
       "      <td>12604</td>\n",
       "      <td>Ferrycarrig Bridge</td>\n",
       "      <td>OPW</td>\n",
       "      <td></td>\n",
       "      <td></td>\n",
       "      <td></td>\n",
       "      <td>301479.00000</td>\n",
       "      <td>123132.0000</td>\n",
       "      <td>T</td>\n",
       "      <td></td>\n",
       "      <td></td>\n",
       "      <td></td>\n",
       "      <td>-6.510549</td>\n",
       "      <td>52.350483</td>\n",
       "    </tr>\n",
       "    <tr>\n",
       "      <th>26</th>\n",
       "      <td>26</td>\n",
       "      <td>Not registered</td>\n",
       "      <td>Foynes</td>\n",
       "      <td>LHC</td>\n",
       "      <td>Primary</td>\n",
       "      <td>Unable to comment - more info required</td>\n",
       "      <td>P/U</td>\n",
       "      <td>124655.00000</td>\n",
       "      <td>152032.0000</td>\n",
       "      <td>T</td>\n",
       "      <td>A</td>\n",
       "      <td></td>\n",
       "      <td></td>\n",
       "      <td>-9.112495</td>\n",
       "      <td>52.614383</td>\n",
       "    </tr>\n",
       "    <tr>\n",
       "      <th>27</th>\n",
       "      <td>27</td>\n",
       "      <td>24064</td>\n",
       "      <td>Foynes</td>\n",
       "      <td>OPW</td>\n",
       "      <td>Primary</td>\n",
       "      <td></td>\n",
       "      <td></td>\n",
       "      <td>125124.00000</td>\n",
       "      <td>151872.0000</td>\n",
       "      <td>T</td>\n",
       "      <td>A</td>\n",
       "      <td></td>\n",
       "      <td></td>\n",
       "      <td>-9.105535</td>\n",
       "      <td>52.613010</td>\n",
       "    </tr>\n",
       "    <tr>\n",
       "      <th>28</th>\n",
       "      <td>28</td>\n",
       "      <td>29062</td>\n",
       "      <td>Galway Port</td>\n",
       "      <td>MI</td>\n",
       "      <td>Primary</td>\n",
       "      <td>Primary</td>\n",
       "      <td>P</td>\n",
       "      <td>130129.00000</td>\n",
       "      <td>224773.0000</td>\n",
       "      <td>T</td>\n",
       "      <td>A</td>\n",
       "      <td></td>\n",
       "      <td></td>\n",
       "      <td>-9.047351</td>\n",
       "      <td>53.268709</td>\n",
       "    </tr>\n",
       "    <tr>\n",
       "      <th>29</th>\n",
       "      <td>29</td>\n",
       "      <td>6062</td>\n",
       "      <td>Giles Quay</td>\n",
       "      <td>OPW</td>\n",
       "      <td>Primary</td>\n",
       "      <td>Unable to comment - more info required</td>\n",
       "      <td>P/U</td>\n",
       "      <td>315510.00000</td>\n",
       "      <td>305332.0000</td>\n",
       "      <td>T</td>\n",
       "      <td>A</td>\n",
       "      <td></td>\n",
       "      <td></td>\n",
       "      <td>-6.238932</td>\n",
       "      <td>53.984283</td>\n",
       "    </tr>\n",
       "    <tr>\n",
       "      <th>30</th>\n",
       "      <td>30</td>\n",
       "      <td>9067</td>\n",
       "      <td>Howth Harbour</td>\n",
       "      <td>MI</td>\n",
       "      <td>Primary</td>\n",
       "      <td>Primary</td>\n",
       "      <td>P</td>\n",
       "      <td>328560.00000</td>\n",
       "      <td>239638.0000</td>\n",
       "      <td>T</td>\n",
       "      <td>A</td>\n",
       "      <td></td>\n",
       "      <td></td>\n",
       "      <td>-6.067308</td>\n",
       "      <td>53.391245</td>\n",
       "    </tr>\n",
       "    <tr>\n",
       "      <th>31</th>\n",
       "      <td>31</td>\n",
       "      <td></td>\n",
       "      <td>Howth Harbour 2</td>\n",
       "      <td>MI</td>\n",
       "      <td></td>\n",
       "      <td></td>\n",
       "      <td></td>\n",
       "      <td>328574.00000</td>\n",
       "      <td>239619.0000</td>\n",
       "      <td>T</td>\n",
       "      <td>A</td>\n",
       "      <td></td>\n",
       "      <td></td>\n",
       "      <td>-6.067106</td>\n",
       "      <td>53.391071</td>\n",
       "    </tr>\n",
       "    <tr>\n",
       "      <th>32</th>\n",
       "      <td>32</td>\n",
       "      <td>31062</td>\n",
       "      <td>Inismore</td>\n",
       "      <td>MI</td>\n",
       "      <td>Secondary</td>\n",
       "      <td>Primary</td>\n",
       "      <td>S/P</td>\n",
       "      <td>88443.48835</td>\n",
       "      <td>208737.2772</td>\n",
       "      <td>T</td>\n",
       "      <td>A</td>\n",
       "      <td></td>\n",
       "      <td></td>\n",
       "      <td>-9.666376</td>\n",
       "      <td>53.117545</td>\n",
       "    </tr>\n",
       "    <tr>\n",
       "      <th>33</th>\n",
       "      <td>33</td>\n",
       "      <td>29011</td>\n",
       "      <td>Kilcolgan</td>\n",
       "      <td>OPW</td>\n",
       "      <td>Primary</td>\n",
       "      <td>Unable to comment - more info required</td>\n",
       "      <td>P/U</td>\n",
       "      <td>141839.00000</td>\n",
       "      <td>218512.0000</td>\n",
       "      <td>ST</td>\n",
       "      <td>A</td>\n",
       "      <td></td>\n",
       "      <td></td>\n",
       "      <td>-8.870703</td>\n",
       "      <td>53.213865</td>\n",
       "    </tr>\n",
       "    <tr>\n",
       "      <th>34</th>\n",
       "      <td>34</td>\n",
       "      <td>37060</td>\n",
       "      <td>Killybegs</td>\n",
       "      <td>MI</td>\n",
       "      <td>Primary</td>\n",
       "      <td>Primary</td>\n",
       "      <td>P</td>\n",
       "      <td>174547.00000</td>\n",
       "      <td>376374.0000</td>\n",
       "      <td>T</td>\n",
       "      <td>A</td>\n",
       "      <td></td>\n",
       "      <td></td>\n",
       "      <td>-8.394208</td>\n",
       "      <td>54.634832</td>\n",
       "    </tr>\n",
       "    <tr>\n",
       "      <th>35</th>\n",
       "      <td>35</td>\n",
       "      <td></td>\n",
       "      <td>Kilrush Harbour</td>\n",
       "      <td>MI</td>\n",
       "      <td>Primary</td>\n",
       "      <td>Primary</td>\n",
       "      <td>P</td>\n",
       "      <td>99162.00000</td>\n",
       "      <td>154847.0000</td>\n",
       "      <td>T</td>\n",
       "      <td>A</td>\n",
       "      <td></td>\n",
       "      <td></td>\n",
       "      <td>-9.489646</td>\n",
       "      <td>52.635541</td>\n",
       "    </tr>\n",
       "    <tr>\n",
       "      <th>36</th>\n",
       "      <td>36</td>\n",
       "      <td>Not registered</td>\n",
       "      <td>Kinvarra</td>\n",
       "      <td>MI</td>\n",
       "      <td>Secondary</td>\n",
       "      <td>Secondary</td>\n",
       "      <td>S</td>\n",
       "      <td>137304.00000</td>\n",
       "      <td>210376.0000</td>\n",
       "      <td>ST</td>\n",
       "      <td>A</td>\n",
       "      <td></td>\n",
       "      <td></td>\n",
       "      <td>-8.936990</td>\n",
       "      <td>53.140247</td>\n",
       "    </tr>\n",
       "    <tr>\n",
       "      <th>37</th>\n",
       "      <td>37</td>\n",
       "      <td></td>\n",
       "      <td>Lapps Quay</td>\n",
       "      <td>Cork City Council</td>\n",
       "      <td></td>\n",
       "      <td></td>\n",
       "      <td></td>\n",
       "      <td>167925.00000</td>\n",
       "      <td>71774.0000</td>\n",
       "      <td>ST</td>\n",
       "      <td>A</td>\n",
       "      <td></td>\n",
       "      <td></td>\n",
       "      <td>-8.466016</td>\n",
       "      <td>51.897344</td>\n",
       "    </tr>\n",
       "    <tr>\n",
       "      <th>38</th>\n",
       "      <td>38</td>\n",
       "      <td>Not registered</td>\n",
       "      <td>Limerick Dock</td>\n",
       "      <td>OPW</td>\n",
       "      <td>Primary</td>\n",
       "      <td>Primary</td>\n",
       "      <td>P/U</td>\n",
       "      <td>156548.00000</td>\n",
       "      <td>156610.0000</td>\n",
       "      <td>ST</td>\n",
       "      <td>A</td>\n",
       "      <td></td>\n",
       "      <td></td>\n",
       "      <td>-8.642230</td>\n",
       "      <td>52.659010</td>\n",
       "    </tr>\n",
       "    <tr>\n",
       "      <th>39</th>\n",
       "      <td>39</td>\n",
       "      <td>24063</td>\n",
       "      <td>Limerick Dock</td>\n",
       "      <td>OPW</td>\n",
       "      <td></td>\n",
       "      <td></td>\n",
       "      <td></td>\n",
       "      <td>156442.00000</td>\n",
       "      <td>156521.0000</td>\n",
       "      <td>T</td>\n",
       "      <td>A</td>\n",
       "      <td></td>\n",
       "      <td></td>\n",
       "      <td>-8.643785</td>\n",
       "      <td>52.658201</td>\n",
       "    </tr>\n",
       "    <tr>\n",
       "      <th>40</th>\n",
       "      <td>40</td>\n",
       "      <td>40060</td>\n",
       "      <td>Malin Head</td>\n",
       "      <td>OPW</td>\n",
       "      <td>GLOSS</td>\n",
       "      <td>Primary</td>\n",
       "      <td>G</td>\n",
       "      <td>242233.00000</td>\n",
       "      <td>458521.0000</td>\n",
       "      <td>T</td>\n",
       "      <td>A</td>\n",
       "      <td></td>\n",
       "      <td></td>\n",
       "      <td>-7.333807</td>\n",
       "      <td>55.371637</td>\n",
       "    </tr>\n",
       "    <tr>\n",
       "      <th>41</th>\n",
       "      <td>41</td>\n",
       "      <td>40061</td>\n",
       "      <td>Malin Head - Portmore Pier</td>\n",
       "      <td>MI</td>\n",
       "      <td>Primary</td>\n",
       "      <td>Primary</td>\n",
       "      <td>P</td>\n",
       "      <td>242233.00000</td>\n",
       "      <td>458521.0000</td>\n",
       "      <td>T</td>\n",
       "      <td>A</td>\n",
       "      <td></td>\n",
       "      <td></td>\n",
       "      <td>-7.333807</td>\n",
       "      <td>55.371637</td>\n",
       "    </tr>\n",
       "    <tr>\n",
       "      <th>42</th>\n",
       "      <td>42</td>\n",
       "      <td>23068</td>\n",
       "      <td>Moneycashen</td>\n",
       "      <td>OPW</td>\n",
       "      <td>Primary</td>\n",
       "      <td>Unable to comment - more info required</td>\n",
       "      <td>P/U</td>\n",
       "      <td>85853.00000</td>\n",
       "      <td>138095.0000</td>\n",
       "      <td>ST</td>\n",
       "      <td>A</td>\n",
       "      <td></td>\n",
       "      <td></td>\n",
       "      <td>-9.680407</td>\n",
       "      <td>52.482416</td>\n",
       "    </tr>\n",
       "    <tr>\n",
       "      <th>43</th>\n",
       "      <td>43</td>\n",
       "      <td>29015</td>\n",
       "      <td>Oranmore Br</td>\n",
       "      <td>OPW</td>\n",
       "      <td>Primary</td>\n",
       "      <td>Unable to comment - more info required</td>\n",
       "      <td>P/U</td>\n",
       "      <td>138039.00000</td>\n",
       "      <td>224977.0000</td>\n",
       "      <td>ST</td>\n",
       "      <td>A</td>\n",
       "      <td></td>\n",
       "      <td></td>\n",
       "      <td>-8.928840</td>\n",
       "      <td>53.271525</td>\n",
       "    </tr>\n",
       "    <tr>\n",
       "      <th>44</th>\n",
       "      <td>44</td>\n",
       "      <td>39061</td>\n",
       "      <td>Port Br</td>\n",
       "      <td>OPW</td>\n",
       "      <td>Primary</td>\n",
       "      <td>Unable to comment - more info required</td>\n",
       "      <td>P/U</td>\n",
       "      <td>218365.00000</td>\n",
       "      <td>411245.0000</td>\n",
       "      <td>ST</td>\n",
       "      <td>A</td>\n",
       "      <td></td>\n",
       "      <td></td>\n",
       "      <td>-7.713360</td>\n",
       "      <td>54.948415</td>\n",
       "    </tr>\n",
       "    <tr>\n",
       "      <th>45</th>\n",
       "      <td>45</td>\n",
       "      <td>6060</td>\n",
       "      <td>Port Oriel</td>\n",
       "      <td>OPW</td>\n",
       "      <td>Primary</td>\n",
       "      <td>Primary</td>\n",
       "      <td>P</td>\n",
       "      <td>317221.00000</td>\n",
       "      <td>284723.0000</td>\n",
       "      <td>T</td>\n",
       "      <td>A</td>\n",
       "      <td></td>\n",
       "      <td></td>\n",
       "      <td>-6.220741</td>\n",
       "      <td>53.798810</td>\n",
       "    </tr>\n",
       "    <tr>\n",
       "      <th>46</th>\n",
       "      <td>46</td>\n",
       "      <td>19069</td>\n",
       "      <td>Ringaskiddy NMCI</td>\n",
       "      <td>OPW</td>\n",
       "      <td>Primary</td>\n",
       "      <td>Unable to comment - more info required</td>\n",
       "      <td>P/U</td>\n",
       "      <td>179060.00000</td>\n",
       "      <td>64716.0000</td>\n",
       "      <td>T</td>\n",
       "      <td>A</td>\n",
       "      <td></td>\n",
       "      <td></td>\n",
       "      <td>-8.303812</td>\n",
       "      <td>51.834435</td>\n",
       "    </tr>\n",
       "    <tr>\n",
       "      <th>47</th>\n",
       "      <td>47</td>\n",
       "      <td>31061</td>\n",
       "      <td>Rossaveel Pier</td>\n",
       "      <td>OPW</td>\n",
       "      <td>Primary</td>\n",
       "      <td>Primary</td>\n",
       "      <td>P</td>\n",
       "      <td>95825.00000</td>\n",
       "      <td>225174.0000</td>\n",
       "      <td>T</td>\n",
       "      <td>A</td>\n",
       "      <td></td>\n",
       "      <td></td>\n",
       "      <td>-9.561518</td>\n",
       "      <td>53.266688</td>\n",
       "    </tr>\n",
       "    <tr>\n",
       "      <th>48</th>\n",
       "      <td>48</td>\n",
       "      <td>27069</td>\n",
       "      <td>Shannon</td>\n",
       "      <td>OPW</td>\n",
       "      <td>Primary</td>\n",
       "      <td></td>\n",
       "      <td></td>\n",
       "      <td>137964.00000</td>\n",
       "      <td>158971.0000</td>\n",
       "      <td>T</td>\n",
       "      <td>A</td>\n",
       "      <td></td>\n",
       "      <td></td>\n",
       "      <td>-8.917317</td>\n",
       "      <td>52.678419</td>\n",
       "    </tr>\n",
       "    <tr>\n",
       "      <th>49</th>\n",
       "      <td>49</td>\n",
       "      <td>35060</td>\n",
       "      <td>Sligo</td>\n",
       "      <td>MI</td>\n",
       "      <td>Primary</td>\n",
       "      <td>Primary</td>\n",
       "      <td>P</td>\n",
       "      <td>163015.00000</td>\n",
       "      <td>339683.0000</td>\n",
       "      <td>ST</td>\n",
       "      <td>A</td>\n",
       "      <td></td>\n",
       "      <td></td>\n",
       "      <td>-8.568217</td>\n",
       "      <td>54.304488</td>\n",
       "    </tr>\n",
       "    <tr>\n",
       "      <th>50</th>\n",
       "      <td>50</td>\n",
       "      <td></td>\n",
       "      <td>The Whelps</td>\n",
       "      <td>SFPC</td>\n",
       "      <td></td>\n",
       "      <td></td>\n",
       "      <td></td>\n",
       "      <td>149264.00000</td>\n",
       "      <td>158666.0000</td>\n",
       "      <td>T</td>\n",
       "      <td>A</td>\n",
       "      <td></td>\n",
       "      <td></td>\n",
       "      <td>-8.750196</td>\n",
       "      <td>52.676853</td>\n",
       "    </tr>\n",
       "    <tr>\n",
       "      <th>51</th>\n",
       "      <td>51</td>\n",
       "      <td>19067</td>\n",
       "      <td>Tivoli</td>\n",
       "      <td>POC</td>\n",
       "      <td>Primary</td>\n",
       "      <td>Unable to comment - more info required</td>\n",
       "      <td>P/U</td>\n",
       "      <td>171800.00000</td>\n",
       "      <td>72100.0000</td>\n",
       "      <td>T</td>\n",
       "      <td>A</td>\n",
       "      <td></td>\n",
       "      <td></td>\n",
       "      <td>-8.409745</td>\n",
       "      <td>51.900484</td>\n",
       "    </tr>\n",
       "    <tr>\n",
       "      <th>52</th>\n",
       "      <td>52</td>\n",
       "      <td>12066</td>\n",
       "      <td>Wexford Harbour</td>\n",
       "      <td>MI</td>\n",
       "      <td>Primary</td>\n",
       "      <td>Primary</td>\n",
       "      <td>P</td>\n",
       "      <td>305090.09840</td>\n",
       "      <td>121835.4318</td>\n",
       "      <td>ST</td>\n",
       "      <td>A</td>\n",
       "      <td></td>\n",
       "      <td></td>\n",
       "      <td>-6.457973</td>\n",
       "      <td>52.338155</td>\n",
       "    </tr>\n",
       "    <tr>\n",
       "      <th>53</th>\n",
       "      <td>53</td>\n",
       "      <td>30061</td>\n",
       "      <td>Wolfe Tone Br</td>\n",
       "      <td>OPW</td>\n",
       "      <td>Primary</td>\n",
       "      <td>Primary</td>\n",
       "      <td>P</td>\n",
       "      <td>129610.00000</td>\n",
       "      <td>224913.0000</td>\n",
       "      <td>ST</td>\n",
       "      <td>A</td>\n",
       "      <td></td>\n",
       "      <td></td>\n",
       "      <td>-9.055161</td>\n",
       "      <td>53.269899</td>\n",
       "    </tr>\n",
       "    <tr>\n",
       "      <th>54</th>\n",
       "      <td>54</td>\n",
       "      <td>18061</td>\n",
       "      <td>Youghal</td>\n",
       "      <td>OPW</td>\n",
       "      <td>Primary</td>\n",
       "      <td></td>\n",
       "      <td></td>\n",
       "      <td>210524.00000</td>\n",
       "      <td>78298.0000</td>\n",
       "      <td>T</td>\n",
       "      <td>A</td>\n",
       "      <td></td>\n",
       "      <td></td>\n",
       "      <td>-7.846896</td>\n",
       "      <td>51.956807</td>\n",
       "    </tr>\n",
       "  </tbody>\n",
       "</table>\n",
       "</div>"
      ],
      "text/plain": [
       "    FID      Station_No                  Station_Na           Body_Respo  \\\n",
       "0     0           32060                Aashleagh Br                  OPW   \n",
       "1     1           16160                Adelphi Quay                  OPW   \n",
       "2     2           38060             Aranmore Island                   MI   \n",
       "3     3           10060              Arklow Harbour                  OPW   \n",
       "4     4           34061                     Ballina                  OPW   \n",
       "5     5     Not entered                 Ballycotton                   MI   \n",
       "6     6           19068                 Ballycotton                  OPW   \n",
       "7     7           33060                  Ballyglass                   MI   \n",
       "8     8  Not registered                      Bantry                  BHC   \n",
       "9     9           23062                Blennerville                  OPW   \n",
       "10   10           27062                 Carrigaholt                  LHC   \n",
       "11   11           27063            Carrigaholt Pier                  OPW   \n",
       "12   12               ?              Castletownbere                   MI   \n",
       "13   13           27068              Clarecastle Br                  OPW   \n",
       "14   14  Not registered                        Cobh                  POC   \n",
       "15   15           19160                Currach Club                  OPW   \n",
       "16   16  Not registered                      Dingle                   MI   \n",
       "17   17            9064                 Dublin port  Dublin City Council   \n",
       "18   18            9061               Dun Laoghaire                 DLPC   \n",
       "19   19            6061                Dundalk Port                  OPW   \n",
       "20   20                                Dunmore East                   MI   \n",
       "21   21           17061                Dunmore East                  OPW   \n",
       "22   22           34060                  Enniscrone                  OPW   \n",
       "23   23           23066                       Fenit                  OPW   \n",
       "24   24           24061           Ferry Br (Maigue)                  OPW   \n",
       "25   25           12604          Ferrycarrig Bridge                  OPW   \n",
       "26   26  Not registered                      Foynes                  LHC   \n",
       "27   27           24064                      Foynes                  OPW   \n",
       "28   28           29062                 Galway Port                   MI   \n",
       "29   29            6062                  Giles Quay                  OPW   \n",
       "30   30            9067               Howth Harbour                   MI   \n",
       "31   31                             Howth Harbour 2                   MI   \n",
       "32   32           31062                    Inismore                   MI   \n",
       "33   33           29011                   Kilcolgan                  OPW   \n",
       "34   34           37060                   Killybegs                   MI   \n",
       "35   35                             Kilrush Harbour                   MI   \n",
       "36   36  Not registered                    Kinvarra                   MI   \n",
       "37   37                                  Lapps Quay    Cork City Council   \n",
       "38   38  Not registered               Limerick Dock                  OPW   \n",
       "39   39           24063               Limerick Dock                  OPW   \n",
       "40   40           40060                  Malin Head                  OPW   \n",
       "41   41           40061  Malin Head - Portmore Pier                   MI   \n",
       "42   42           23068                 Moneycashen                  OPW   \n",
       "43   43           29015                 Oranmore Br                  OPW   \n",
       "44   44           39061                     Port Br                  OPW   \n",
       "45   45            6060                  Port Oriel                  OPW   \n",
       "46   46           19069            Ringaskiddy NMCI                  OPW   \n",
       "47   47           31061              Rossaveel Pier                  OPW   \n",
       "48   48           27069                     Shannon                  OPW   \n",
       "49   49           35060                       Sligo                   MI   \n",
       "50   50                                  The Whelps                 SFPC   \n",
       "51   51           19067                      Tivoli                  POC   \n",
       "52   52           12066             Wexford Harbour                   MI   \n",
       "53   53           30061               Wolfe Tone Br                  OPW   \n",
       "54   54           18061                     Youghal                  OPW   \n",
       "\n",
       "   OPW_Classi                              MI_Classif Final_Clas  \\\n",
       "0     Primary  Unable to comment - more info required        P/U   \n",
       "1     Primary  Unable to comment - more info required        P/U   \n",
       "2   Secondary                                 Primary        S/P   \n",
       "3     Primary                                 Primary          P   \n",
       "4     Primary  Unable to comment - more info required        P/U   \n",
       "5     Primary                                 Primary          P   \n",
       "6     Primary                                 Primary          P   \n",
       "7     Primary                                 Primary          P   \n",
       "8     Primary  Unable to comment - more info required        P/U   \n",
       "9     Primary  Unable to comment - more info required        P/U   \n",
       "10    Primary  Unable to comment - more info required        P/U   \n",
       "11                                                                 \n",
       "12    Primary                                 Primary          P   \n",
       "13    Primary  Unable to comment - more info required        P/U   \n",
       "14  Secondary  Unable to comment - more info required        S/U   \n",
       "15    Primary                                                      \n",
       "16    Primary                                 Primary          P   \n",
       "17    Primary                                 Primary          P   \n",
       "18                                                                 \n",
       "19    Primary                                     NaN        P/U   \n",
       "20    Primary                                 Primary          P   \n",
       "21    Primary                                 Primary          P   \n",
       "22    Primary                                                      \n",
       "23    Primary                                 Primary          P   \n",
       "24    Primary  Unable to comment - more info required        P/U   \n",
       "25                                                                 \n",
       "26    Primary  Unable to comment - more info required        P/U   \n",
       "27    Primary                                                      \n",
       "28    Primary                                 Primary          P   \n",
       "29    Primary  Unable to comment - more info required        P/U   \n",
       "30    Primary                                 Primary          P   \n",
       "31                                                                 \n",
       "32  Secondary                                 Primary        S/P   \n",
       "33    Primary  Unable to comment - more info required        P/U   \n",
       "34    Primary                                 Primary          P   \n",
       "35    Primary                                 Primary          P   \n",
       "36  Secondary                               Secondary          S   \n",
       "37                                                                 \n",
       "38    Primary                                 Primary        P/U   \n",
       "39                                                                 \n",
       "40      GLOSS                                 Primary          G   \n",
       "41    Primary                                 Primary          P   \n",
       "42    Primary  Unable to comment - more info required        P/U   \n",
       "43    Primary  Unable to comment - more info required        P/U   \n",
       "44    Primary  Unable to comment - more info required        P/U   \n",
       "45    Primary                                 Primary          P   \n",
       "46    Primary  Unable to comment - more info required        P/U   \n",
       "47    Primary                                 Primary          P   \n",
       "48    Primary                                                      \n",
       "49    Primary                                 Primary          P   \n",
       "50                                                                 \n",
       "51    Primary  Unable to comment - more info required        P/U   \n",
       "52    Primary                                 Primary          P   \n",
       "53    Primary                                 Primary          P   \n",
       "54    Primary                                                      \n",
       "\n",
       "         Easting     Northing Type__Tida Status__Ac General_co Stakeholde  \\\n",
       "0    89461.00000  264380.0000         ST          A                         \n",
       "1   261337.00000  112322.0000         ST          A                         \n",
       "2   168322.00450  415900.9764          T          A                         \n",
       "3   325170.00000  172800.0000          T          A                         \n",
       "4   125058.00000  319280.0000         ST          A                         \n",
       "5   200001.00000   63883.0000          T          A                         \n",
       "6   199948.00000   63930.0000          T          A                         \n",
       "7    76866.00000  335439.0000          T          A                         \n",
       "8    98925.00000   48497.0000          T          I                         \n",
       "9    81526.00000  113165.0000         ST          A                         \n",
       "10   84950.00000  151278.0000          T          A                         \n",
       "11   84949.00000  151257.0000          T          A                         \n",
       "12   68311.00000   45776.0000          T          A                         \n",
       "13  133900.00000  177717.0000         ST          A                         \n",
       "14  180749.00000   66526.0000          T          A                         \n",
       "15  169991.00000   72224.0000          T          A                         \n",
       "16   44277.00000  100742.0000          T          A                         \n",
       "17  318485.00000  234283.0000         ST          A                         \n",
       "18  324700.00000  228700.0000          T          A                         \n",
       "19  305933.00000  307727.0000         ST          A                         \n",
       "20  269057.00000   99962.0000          T          A                         \n",
       "21  269131.00000   99944.0000          T          A                         \n",
       "22  128397.00000  330695.0000          T          A                         \n",
       "23   72933.00000  114689.0000          T          A                         \n",
       "24  148252.00000  152451.0000         ST          A                         \n",
       "25  301479.00000  123132.0000          T                                    \n",
       "26  124655.00000  152032.0000          T          A                         \n",
       "27  125124.00000  151872.0000          T          A                         \n",
       "28  130129.00000  224773.0000          T          A                         \n",
       "29  315510.00000  305332.0000          T          A                         \n",
       "30  328560.00000  239638.0000          T          A                         \n",
       "31  328574.00000  239619.0000          T          A                         \n",
       "32   88443.48835  208737.2772          T          A                         \n",
       "33  141839.00000  218512.0000         ST          A                         \n",
       "34  174547.00000  376374.0000          T          A                         \n",
       "35   99162.00000  154847.0000          T          A                         \n",
       "36  137304.00000  210376.0000         ST          A                         \n",
       "37  167925.00000   71774.0000         ST          A                         \n",
       "38  156548.00000  156610.0000         ST          A                         \n",
       "39  156442.00000  156521.0000          T          A                         \n",
       "40  242233.00000  458521.0000          T          A                         \n",
       "41  242233.00000  458521.0000          T          A                         \n",
       "42   85853.00000  138095.0000         ST          A                         \n",
       "43  138039.00000  224977.0000         ST          A                         \n",
       "44  218365.00000  411245.0000         ST          A                         \n",
       "45  317221.00000  284723.0000          T          A                         \n",
       "46  179060.00000   64716.0000          T          A                         \n",
       "47   95825.00000  225174.0000          T          A                         \n",
       "48  137964.00000  158971.0000          T          A                         \n",
       "49  163015.00000  339683.0000         ST          A                         \n",
       "50  149264.00000  158666.0000          T          A                         \n",
       "51  171800.00000   72100.0000          T          A                         \n",
       "52  305090.09840  121835.4318         ST          A                         \n",
       "53  129610.00000  224913.0000         ST          A                         \n",
       "54  210524.00000   78298.0000          T          A                         \n",
       "\n",
       "    Longitude   Latitude  \n",
       "0   -9.670629  53.617556  \n",
       "1   -7.101594  52.259295  \n",
       "2   -8.494936  54.989574  \n",
       "3   -6.144258  52.791739  \n",
       "4   -9.146184  54.117052  \n",
       "5   -7.999985  51.827340  \n",
       "6   -8.000754  51.827762  \n",
       "7   -9.889498  54.252887  \n",
       "8   -9.461503  51.679950  \n",
       "9   -9.735274  52.257538  \n",
       "10  -9.698259  52.600655  \n",
       "11  -9.698267  52.600466  \n",
       "12  -9.902912  51.649166  \n",
       "13  -8.981181  52.846384  \n",
       "14  -8.279407  51.850764  \n",
       "15  -8.436039  51.901504  \n",
       "16 -10.274738  52.136695  \n",
       "17  -6.220692  53.345502  \n",
       "18  -6.129608  53.293932  \n",
       "19  -6.384043  54.007844  \n",
       "20  -6.991056  52.147309  \n",
       "21  -6.989979  52.147138  \n",
       "22  -9.097839  54.220071  \n",
       "23  -9.861638  52.269311  \n",
       "24  -8.764184  52.620907  \n",
       "25  -6.510549  52.350483  \n",
       "26  -9.112495  52.614383  \n",
       "27  -9.105535  52.613010  \n",
       "28  -9.047351  53.268709  \n",
       "29  -6.238932  53.984283  \n",
       "30  -6.067308  53.391245  \n",
       "31  -6.067106  53.391071  \n",
       "32  -9.666376  53.117545  \n",
       "33  -8.870703  53.213865  \n",
       "34  -8.394208  54.634832  \n",
       "35  -9.489646  52.635541  \n",
       "36  -8.936990  53.140247  \n",
       "37  -8.466016  51.897344  \n",
       "38  -8.642230  52.659010  \n",
       "39  -8.643785  52.658201  \n",
       "40  -7.333807  55.371637  \n",
       "41  -7.333807  55.371637  \n",
       "42  -9.680407  52.482416  \n",
       "43  -8.928840  53.271525  \n",
       "44  -7.713360  54.948415  \n",
       "45  -6.220741  53.798810  \n",
       "46  -8.303812  51.834435  \n",
       "47  -9.561518  53.266688  \n",
       "48  -8.917317  52.678419  \n",
       "49  -8.568217  54.304488  \n",
       "50  -8.750196  52.676853  \n",
       "51  -8.409745  51.900484  \n",
       "52  -6.457973  52.338155  \n",
       "53  -9.055161  53.269899  \n",
       "54  -7.846896  51.956807  "
      ]
     },
     "execution_count": 3,
     "metadata": {},
     "output_type": "execute_result"
    }
   ],
   "source": [
    "# newer \n",
    "data_path = DATA_PATH+'Oceanic_Domain/3.4SeaLevel/Map3.4/'\n",
    "df = pd.read_csv(data_path+'Map3.4_StationTable_IrishNationalTideGaugeNetwork.txt')\n",
    "df"
   ]
  },
  {
   "cell_type": "code",
   "execution_count": 36,
   "metadata": {},
   "outputs": [],
   "source": [
    "    malinDF = df.loc[(df['Station_Na'] == 'Malin Head')]\n",
    "    malinDFStr=malinDF.astype(str)\n",
    "    malinTrace = go.Scattermapbox(\n",
    "            name='Malin Head',\n",
    "            lon=malinDF.Longitude,\n",
    "            lat=malinDF.Latitude,\n",
    "            marker=dict(color='#00a5e3',\n",
    "                        size=12),\n",
    "            hoverinfo='skip',\n",
    "        )\n",
    "    ballyglassDF = df.loc[(df['Station_Na'] == 'Malin Head')]\n",
    "    ballyglassDFStr=ballyglassDF.astype(str)\n",
    "    ballyglassTrace = go.Scattermapbox(\n",
    "            name='Ballyglass Harbour',\n",
    "            lon=ballyglassDF.Longitude,\n",
    "            lat=ballyglassDF.Latitude,\n",
    "            marker=dict(color='#ff5768',\n",
    "                        size=12),\n",
    "            hoverinfo='skip',\n",
    "        )\n",
    "\n",
    "    casteltownDF = df.loc[(df['Station_Na'] == 'Castletownbere')]\n",
    "    casteltownDFStr=casteltownDF.astype(str)\n",
    "    casteltownTrace = go.Scattermapbox(\n",
    "            name='Casteltownbere',\n",
    "            lon=casteltownDF.Longitude,\n",
    "            lat=casteltownDF.Latitude,\n",
    "            marker=dict(color='#ff96c5',\n",
    "                        size=12),\n",
    "            hoverinfo='skip',\n",
    "        )\n",
    "    howthDF = df.loc[(df['Station_Na'] == 'Howth Harbour')]\n",
    "    howthDFStr=howthDF.astype(str)\n",
    "    howthTrace = go.Scattermapbox(\n",
    "            name='Howth Harbour',\n",
    "            lon=howthDF.Longitude,\n",
    "            lat=howthDF.Latitude,\n",
    "            marker=dict(color='#ffbf65',\n",
    "                        size=12),\n",
    "            hoverinfo='skip',\n",
    "        )\n",
    "    dublinDF = df.loc[(df['Station_Na'] == 'Dublin port')]\n",
    "    dublinDFStr=dublinDF.astype(str)\n",
    "    dublinTrace = go.Scattermapbox(\n",
    "            name='Dublin Port',\n",
    "            lon=dublinDF.Longitude,\n",
    "            lat=dublinDF.Latitude,\n",
    "            hoverinfo='skip',\n",
    "            marker=dict(color=\"#00a4ae\",\n",
    "                        size=12),\n",
    "        )\n",
    "    laDF = df.loc[df['Body_Respo'].isin(['Cork City Council', 'Dublin City Council'])]\n",
    "    dfStr=dublinDF.astype(str)\n",
    "    laTrace = go.Scattermapbox(\n",
    "            name='Local Authority',\n",
    "            lon=dublinDF.Longitude,\n",
    "            lat=dublinDF.Latitude,\n",
    "            marker=dict(color='orange',\n",
    "                        size=7),\n",
    "                hovertemplate='Name: '+ dfStr['Station_Na'] +\n",
    "            '<br>Station No.: ' + dfStr['Station_No'] +\n",
    "            '<br>Agency: '+ dfStr['Body_Respo'] +\n",
    "            '<br>OPW Class.: '+ dfStr['OPW_Classi'] +\n",
    "            '<br>MI Class.: '+ dfStr['MI_Classif'] +\n",
    "             '<br>Final Class.: '+ dfStr['Final_Clas'] +\n",
    "             '<br>Type: '+ dfStr['Type__Tida'] +\n",
    "            '<br>Status: '+ dfStr['Status__Ac'] +\n",
    "            '<br>Lat: %{lat:.2f} \\u00b0'+\n",
    "            '<br>Lon: %{lon:.2f} \\u00b0<extra></extra>',\n",
    "        )\n",
    "    miDF = df.loc[(df['Body_Respo'] == 'MI')]\n",
    "    dfStr=miDF.astype(str)\n",
    "    miTrace = go.Scattermapbox(\n",
    "            name='Marine Institute',\n",
    "            lon=miDF.Longitude,\n",
    "            lat=miDF.Latitude,\n",
    "            hoverinfo='skip',\n",
    "            marker=dict(color='blue',\n",
    "                        size=7),\n",
    "            hovertemplate='Name: '+ dfStr['Station_Na'] +\n",
    "            '<br>Station No.: ' + dfStr['Station_No'] +\n",
    "            '<br>Agency: '+ dfStr['Body_Respo'] +\n",
    "            '<br>OPW Class.: '+ dfStr['OPW_Classi'] +\n",
    "            '<br>MI Class.: '+ dfStr['MI_Classif'] +\n",
    "             '<br>Final Class.: '+ dfStr['Final_Clas'] +\n",
    "             '<br>Type: '+ dfStr['Type__Tida'] +\n",
    "            '<br>Status: '+ dfStr['Status__Ac'] +\n",
    "            '<br>Lat: %{lat:.2f} \\u00b0'+\n",
    "            '<br>Lon: %{lon:.2f} \\u00b0<extra></extra>',\n",
    "        )\n",
    "    epaDF = df.loc[(df['Body_Respo'] == 'EPA')]\n",
    "    dfStr=epaDF.astype(str)\n",
    "    epaTrace = go.Scattermapbox(\n",
    "            name='EPA',\n",
    "            lon=epaDF.Longitude,\n",
    "            lat=epaDF.Latitude,\n",
    "            hoverinfo='skip',\n",
    "            marker=dict(color='green',\n",
    "                        size=7),\n",
    "            hovertemplate='Name: '+ dfStr['Station_Na'] +\n",
    "            '<br>Station No.: ' + dfStr['Station_No'] +\n",
    "            '<br>Agency: '+ dfStr['Body_Respo'] +\n",
    "            '<br>OPW Class.: '+ dfStr['OPW_Classi'] +\n",
    "            '<br>MI Class.: '+ dfStr['MI_Classif'] +\n",
    "             '<br>Final Class.: '+ dfStr['Final_Clas'] +\n",
    "             '<br>Type: '+ dfStr['Type__Tida'] +\n",
    "            '<br>Status: '+ dfStr['Status__Ac'] +\n",
    "            '<br>Lat: %{lat:.2f} \\u00b0'+\n",
    "            '<br>Lon: %{lon:.2f} \\u00b0<extra></extra>',\n",
    "        )\n",
    "    opwDF = df.loc[(df['Body_Respo'] == 'OPW')]\n",
    "    dfStr=opwDF.astype(str)\n",
    "    opwTrace = go.Scattermapbox(\n",
    "            name='OPW',\n",
    "            lon=opwDF.Longitude,\n",
    "            lat=opwDF.Latitude,\n",
    "            hoverinfo='skip',\n",
    "            marker=dict(color='yellow',\n",
    "                        size=7),\n",
    "            hovertemplate='Name: '+ dfStr['Station_Na'] +\n",
    "            '<br>Station No.: ' + dfStr['Station_No'] +\n",
    "            '<br>Agency: '+ dfStr['Body_Respo'] +\n",
    "            '<br>OPW Class.: '+ dfStr['OPW_Classi'] +\n",
    "            '<br>MI Class.: '+ dfStr['MI_Classif'] +\n",
    "             '<br>Final Class.: '+ dfStr['Final_Clas'] +\n",
    "             '<br>Type: '+ dfStr['Type__Tida'] +\n",
    "            '<br>Status: '+ dfStr['Status__Ac'] +\n",
    "            '<br>Lat: %{lat:.2f} \\u00b0'+\n",
    "            '<br>Lon: %{lon:.2f} \\u00b0<extra></extra>',\n",
    "        )\n",
    "\n",
    "    pcDF = df.loc[df['Body_Respo'].isin(['POC', 'SFPC','LHC','BHC','DLPC'])]\n",
    "    dfStr=pcDF.astype(str)\n",
    "    pcTrace = go.Scattermapbox(\n",
    "            name='Port Company',\n",
    "            lon=pcDF.Longitude,\n",
    "            lat=pcDF.Latitude,\n",
    "            hoverinfo='skip',\n",
    "            marker=dict(color='brown',\n",
    "                        size=7),\n",
    "            hovertemplate='Name: '+ dfStr['Station_Na'] +\n",
    "            '<br>Station No.: ' + dfStr['Station_No'] +\n",
    "            '<br>Agency: '+ dfStr['Body_Respo'] +\n",
    "            '<br>OPW Class.: '+ dfStr['OPW_Classi'] +\n",
    "            '<br>MI Class.: '+ dfStr['MI_Classif'] +\n",
    "             '<br>Final Class.: '+ dfStr['Final_Clas'] +\n",
    "             '<br>Type: '+ dfStr['Type__Tida'] +\n",
    "            '<br>Status: '+ dfStr['Status__Ac'] +\n",
    "            '<br>Lat: %{lat:.2f} \\u00b0'+\n",
    "            '<br>Lon: %{lon:.2f} \\u00b0<extra></extra>',\n",
    "        )"
   ]
  },
  {
   "cell_type": "code",
   "execution_count": 37,
   "metadata": {},
   "outputs": [
    {
     "data": {
      "application/vnd.plotly.v1+json": {
       "config": {
        "plotlyServerURL": "https://plot.ly"
       },
       "data": [
        {
         "hoverinfo": "skip",
         "lat": [
          55.3716368708
         ],
         "lon": [
          -7.33380720063
         ],
         "marker": {
          "color": "#00a5e3",
          "size": 12
         },
         "name": "Malin Head",
         "type": "scattermapbox"
        },
        {
         "hoverinfo": "skip",
         "lat": [
          55.3716368708
         ],
         "lon": [
          -7.33380720063
         ],
         "marker": {
          "color": "#ff5768",
          "size": 12
         },
         "name": "Ballyglass Harbour",
         "type": "scattermapbox"
        },
        {
         "hoverinfo": "skip",
         "lat": [
          51.6491661381
         ],
         "lon": [
          -9.9029117699
         ],
         "marker": {
          "color": "#ff96c5",
          "size": 12
         },
         "name": "Casteltownbere",
         "type": "scattermapbox"
        },
        {
         "hoverinfo": "skip",
         "lat": [
          53.3912445441
         ],
         "lon": [
          -6.0673081047
         ],
         "marker": {
          "color": "#ffbf65",
          "size": 12
         },
         "name": "Howth Harbour",
         "type": "scattermapbox"
        },
        {
         "hoverinfo": "skip",
         "lat": [
          53.3455024253
         ],
         "lon": [
          -6.22069171308
         ],
         "marker": {
          "color": "#00a4ae",
          "size": 12
         },
         "name": "Dublin Port",
         "type": "scattermapbox"
        },
        {
         "hoverinfo": "skip",
         "hovertemplate": [
          "Name: Aranmore Island<br>Station No.: 38060<br>Agency: MI<br>OPW Class.: Secondary<br>MI Class.: Primary<br>Final Class.: S/P<br>Type: T<br>Status: A<br>Lat: %{lat:.2f} °<br>Lon: %{lon:.2f} °<extra></extra>",
          "Name: Ballycotton<br>Station No.: Not entered<br>Agency: MI<br>OPW Class.: Primary<br>MI Class.: Primary<br>Final Class.: P<br>Type: T<br>Status: A<br>Lat: %{lat:.2f} °<br>Lon: %{lon:.2f} °<extra></extra>",
          "Name: Ballyglass<br>Station No.: 33060<br>Agency: MI<br>OPW Class.: Primary<br>MI Class.: Primary<br>Final Class.: P<br>Type: T<br>Status: A<br>Lat: %{lat:.2f} °<br>Lon: %{lon:.2f} °<extra></extra>",
          "Name: Castletownbere<br>Station No.: ?<br>Agency: MI<br>OPW Class.: Primary<br>MI Class.: Primary<br>Final Class.: P<br>Type: T<br>Status: A<br>Lat: %{lat:.2f} °<br>Lon: %{lon:.2f} °<extra></extra>",
          "Name: Dingle<br>Station No.: Not registered<br>Agency: MI<br>OPW Class.: Primary<br>MI Class.: Primary<br>Final Class.: P<br>Type: T<br>Status: A<br>Lat: %{lat:.2f} °<br>Lon: %{lon:.2f} °<extra></extra>",
          "Name: Dunmore East<br>Station No.:  <br>Agency: MI<br>OPW Class.: Primary<br>MI Class.: Primary<br>Final Class.: P<br>Type: T<br>Status: A<br>Lat: %{lat:.2f} °<br>Lon: %{lon:.2f} °<extra></extra>",
          "Name: Galway Port<br>Station No.: 29062<br>Agency: MI<br>OPW Class.: Primary<br>MI Class.: Primary<br>Final Class.: P<br>Type: T<br>Status: A<br>Lat: %{lat:.2f} °<br>Lon: %{lon:.2f} °<extra></extra>",
          "Name: Howth Harbour<br>Station No.: 9067<br>Agency: MI<br>OPW Class.: Primary<br>MI Class.: Primary<br>Final Class.: P<br>Type: T<br>Status: A<br>Lat: %{lat:.2f} °<br>Lon: %{lon:.2f} °<extra></extra>",
          "Name: Howth Harbour 2<br>Station No.:  <br>Agency: MI<br>OPW Class.:  <br>MI Class.:  <br>Final Class.:  <br>Type: T<br>Status: A<br>Lat: %{lat:.2f} °<br>Lon: %{lon:.2f} °<extra></extra>",
          "Name: Inismore<br>Station No.: 31062<br>Agency: MI<br>OPW Class.: Secondary<br>MI Class.: Primary<br>Final Class.: S/P<br>Type: T<br>Status: A<br>Lat: %{lat:.2f} °<br>Lon: %{lon:.2f} °<extra></extra>",
          "Name: Killybegs<br>Station No.: 37060<br>Agency: MI<br>OPW Class.: Primary<br>MI Class.: Primary<br>Final Class.: P<br>Type: T<br>Status: A<br>Lat: %{lat:.2f} °<br>Lon: %{lon:.2f} °<extra></extra>",
          "Name: Kilrush Harbour<br>Station No.:  <br>Agency: MI<br>OPW Class.: Primary<br>MI Class.: Primary<br>Final Class.: P<br>Type: T<br>Status: A<br>Lat: %{lat:.2f} °<br>Lon: %{lon:.2f} °<extra></extra>",
          "Name: Kinvarra<br>Station No.: Not registered<br>Agency: MI<br>OPW Class.: Secondary<br>MI Class.: Secondary<br>Final Class.: S<br>Type: ST<br>Status: A<br>Lat: %{lat:.2f} °<br>Lon: %{lon:.2f} °<extra></extra>",
          "Name: Malin Head - Portmore Pier<br>Station No.: 40061<br>Agency: MI<br>OPW Class.: Primary<br>MI Class.: Primary<br>Final Class.: P<br>Type: T<br>Status: A<br>Lat: %{lat:.2f} °<br>Lon: %{lon:.2f} °<extra></extra>",
          "Name: Sligo<br>Station No.: 35060<br>Agency: MI<br>OPW Class.: Primary<br>MI Class.: Primary<br>Final Class.: P<br>Type: ST<br>Status: A<br>Lat: %{lat:.2f} °<br>Lon: %{lon:.2f} °<extra></extra>",
          "Name: Wexford Harbour<br>Station No.: 12066<br>Agency: MI<br>OPW Class.: Primary<br>MI Class.: Primary<br>Final Class.: P<br>Type: ST<br>Status: A<br>Lat: %{lat:.2f} °<br>Lon: %{lon:.2f} °<extra></extra>"
         ],
         "lat": [
          54.9895737398,
          51.8273395548,
          54.2528873817,
          51.6491661381,
          52.1366946323,
          52.1473085611,
          53.2687094602,
          53.3912445441,
          53.3910705005,
          53.1175446473,
          54.6348320561,
          52.6355410568,
          53.140246801,
          55.3716368708,
          54.3044879324,
          52.3381545268
         ],
         "lon": [
          -8.49493635196,
          -7.99998549363,
          -9.88949819632,
          -9.9029117699,
          -10.2747383123,
          -6.99105590957,
          -9.04735135068,
          -6.0673081047,
          -6.06710550182,
          -9.66637598708,
          -8.39420751244,
          -9.48964593314,
          -8.9369903561,
          -7.33380720063,
          -8.56821681972,
          -6.45797282131
         ],
         "marker": {
          "color": "blue",
          "size": 7
         },
         "name": "Marine Institute",
         "type": "scattermapbox"
        },
        {
         "hoverinfo": "skip",
         "hovertemplate": [],
         "lat": [],
         "lon": [],
         "marker": {
          "color": "green",
          "size": 7
         },
         "name": "EPA",
         "type": "scattermapbox"
        },
        {
         "hoverinfo": "skip",
         "hovertemplate": [
          "Name: Aashleagh Br<br>Station No.: 32060<br>Agency: OPW<br>OPW Class.: Primary<br>MI Class.: Unable to comment - more info required<br>Final Class.: P/U<br>Type: ST<br>Status: A<br>Lat: %{lat:.2f} °<br>Lon: %{lon:.2f} °<extra></extra>",
          "Name: Adelphi Quay<br>Station No.: 16160<br>Agency: OPW<br>OPW Class.: Primary<br>MI Class.: Unable to comment - more info required<br>Final Class.: P/U<br>Type: ST<br>Status: A<br>Lat: %{lat:.2f} °<br>Lon: %{lon:.2f} °<extra></extra>",
          "Name: Arklow Harbour<br>Station No.: 10060<br>Agency: OPW<br>OPW Class.: Primary<br>MI Class.: Primary<br>Final Class.: P<br>Type: T<br>Status: A<br>Lat: %{lat:.2f} °<br>Lon: %{lon:.2f} °<extra></extra>",
          "Name: Ballina<br>Station No.: 34061<br>Agency: OPW<br>OPW Class.: Primary<br>MI Class.: Unable to comment - more info required<br>Final Class.: P/U<br>Type: ST<br>Status: A<br>Lat: %{lat:.2f} °<br>Lon: %{lon:.2f} °<extra></extra>",
          "Name: Ballycotton<br>Station No.: 19068<br>Agency: OPW<br>OPW Class.: Primary<br>MI Class.: Primary<br>Final Class.: P<br>Type: T<br>Status: A<br>Lat: %{lat:.2f} °<br>Lon: %{lon:.2f} °<extra></extra>",
          "Name: Blennerville<br>Station No.: 23062<br>Agency: OPW<br>OPW Class.: Primary<br>MI Class.: Unable to comment - more info required<br>Final Class.: P/U<br>Type: ST<br>Status: A<br>Lat: %{lat:.2f} °<br>Lon: %{lon:.2f} °<extra></extra>",
          "Name: Carrigaholt Pier<br>Station No.: 27063<br>Agency: OPW<br>OPW Class.:  <br>MI Class.:  <br>Final Class.:  <br>Type: T<br>Status: A<br>Lat: %{lat:.2f} °<br>Lon: %{lon:.2f} °<extra></extra>",
          "Name: Clarecastle Br<br>Station No.: 27068<br>Agency: OPW<br>OPW Class.: Primary<br>MI Class.: Unable to comment - more info required<br>Final Class.: P/U<br>Type: ST<br>Status: A<br>Lat: %{lat:.2f} °<br>Lon: %{lon:.2f} °<extra></extra>",
          "Name: Currach Club<br>Station No.: 19160<br>Agency: OPW<br>OPW Class.: Primary<br>MI Class.:  <br>Final Class.:  <br>Type: T<br>Status: A<br>Lat: %{lat:.2f} °<br>Lon: %{lon:.2f} °<extra></extra>",
          "Name: Dundalk Port<br>Station No.: 6061<br>Agency: OPW<br>OPW Class.: Primary<br>MI Class.: nan<br>Final Class.: P/U<br>Type: ST<br>Status: A<br>Lat: %{lat:.2f} °<br>Lon: %{lon:.2f} °<extra></extra>",
          "Name: Dunmore East<br>Station No.: 17061<br>Agency: OPW<br>OPW Class.: Primary<br>MI Class.: Primary<br>Final Class.: P<br>Type: T<br>Status: A<br>Lat: %{lat:.2f} °<br>Lon: %{lon:.2f} °<extra></extra>",
          "Name: Enniscrone<br>Station No.: 34060<br>Agency: OPW<br>OPW Class.: Primary<br>MI Class.:  <br>Final Class.:  <br>Type: T<br>Status: A<br>Lat: %{lat:.2f} °<br>Lon: %{lon:.2f} °<extra></extra>",
          "Name: Fenit<br>Station No.: 23066<br>Agency: OPW<br>OPW Class.: Primary<br>MI Class.: Primary<br>Final Class.: P<br>Type: T<br>Status: A<br>Lat: %{lat:.2f} °<br>Lon: %{lon:.2f} °<extra></extra>",
          "Name: Ferry Br (Maigue)<br>Station No.: 24061<br>Agency: OPW<br>OPW Class.: Primary<br>MI Class.: Unable to comment - more info required<br>Final Class.: P/U<br>Type: ST<br>Status: A<br>Lat: %{lat:.2f} °<br>Lon: %{lon:.2f} °<extra></extra>",
          "Name: Ferrycarrig Bridge<br>Station No.: 12604<br>Agency: OPW<br>OPW Class.:  <br>MI Class.:  <br>Final Class.:  <br>Type: T<br>Status:  <br>Lat: %{lat:.2f} °<br>Lon: %{lon:.2f} °<extra></extra>",
          "Name: Foynes<br>Station No.: 24064<br>Agency: OPW<br>OPW Class.: Primary<br>MI Class.:  <br>Final Class.:  <br>Type: T<br>Status: A<br>Lat: %{lat:.2f} °<br>Lon: %{lon:.2f} °<extra></extra>",
          "Name: Giles Quay<br>Station No.: 6062<br>Agency: OPW<br>OPW Class.: Primary<br>MI Class.: Unable to comment - more info required<br>Final Class.: P/U<br>Type: T<br>Status: A<br>Lat: %{lat:.2f} °<br>Lon: %{lon:.2f} °<extra></extra>",
          "Name: Kilcolgan<br>Station No.: 29011<br>Agency: OPW<br>OPW Class.: Primary<br>MI Class.: Unable to comment - more info required<br>Final Class.: P/U<br>Type: ST<br>Status: A<br>Lat: %{lat:.2f} °<br>Lon: %{lon:.2f} °<extra></extra>",
          "Name: Limerick Dock<br>Station No.: Not registered<br>Agency: OPW<br>OPW Class.: Primary<br>MI Class.: Primary<br>Final Class.: P/U<br>Type: ST<br>Status: A<br>Lat: %{lat:.2f} °<br>Lon: %{lon:.2f} °<extra></extra>",
          "Name: Limerick Dock<br>Station No.: 24063<br>Agency: OPW<br>OPW Class.:  <br>MI Class.:  <br>Final Class.:  <br>Type: T<br>Status: A<br>Lat: %{lat:.2f} °<br>Lon: %{lon:.2f} °<extra></extra>",
          "Name: Malin Head<br>Station No.: 40060<br>Agency: OPW<br>OPW Class.: GLOSS<br>MI Class.: Primary<br>Final Class.: G<br>Type: T<br>Status: A<br>Lat: %{lat:.2f} °<br>Lon: %{lon:.2f} °<extra></extra>",
          "Name: Moneycashen<br>Station No.: 23068<br>Agency: OPW<br>OPW Class.: Primary<br>MI Class.: Unable to comment - more info required<br>Final Class.: P/U<br>Type: ST<br>Status: A<br>Lat: %{lat:.2f} °<br>Lon: %{lon:.2f} °<extra></extra>",
          "Name: Oranmore Br<br>Station No.: 29015<br>Agency: OPW<br>OPW Class.: Primary<br>MI Class.: Unable to comment - more info required<br>Final Class.: P/U<br>Type: ST<br>Status: A<br>Lat: %{lat:.2f} °<br>Lon: %{lon:.2f} °<extra></extra>",
          "Name: Port Br<br>Station No.: 39061<br>Agency: OPW<br>OPW Class.: Primary<br>MI Class.: Unable to comment - more info required<br>Final Class.: P/U<br>Type: ST<br>Status: A<br>Lat: %{lat:.2f} °<br>Lon: %{lon:.2f} °<extra></extra>",
          "Name: Port Oriel<br>Station No.: 6060<br>Agency: OPW<br>OPW Class.: Primary<br>MI Class.: Primary<br>Final Class.: P<br>Type: T<br>Status: A<br>Lat: %{lat:.2f} °<br>Lon: %{lon:.2f} °<extra></extra>",
          "Name: Ringaskiddy NMCI<br>Station No.: 19069<br>Agency: OPW<br>OPW Class.: Primary<br>MI Class.: Unable to comment - more info required<br>Final Class.: P/U<br>Type: T<br>Status: A<br>Lat: %{lat:.2f} °<br>Lon: %{lon:.2f} °<extra></extra>",
          "Name: Rossaveel Pier<br>Station No.: 31061<br>Agency: OPW<br>OPW Class.: Primary<br>MI Class.: Primary<br>Final Class.: P<br>Type: T<br>Status: A<br>Lat: %{lat:.2f} °<br>Lon: %{lon:.2f} °<extra></extra>",
          "Name: Shannon<br>Station No.: 27069<br>Agency: OPW<br>OPW Class.: Primary<br>MI Class.:  <br>Final Class.:  <br>Type: T<br>Status: A<br>Lat: %{lat:.2f} °<br>Lon: %{lon:.2f} °<extra></extra>",
          "Name: Wolfe Tone Br<br>Station No.: 30061<br>Agency: OPW<br>OPW Class.: Primary<br>MI Class.: Primary<br>Final Class.: P<br>Type: ST<br>Status: A<br>Lat: %{lat:.2f} °<br>Lon: %{lon:.2f} °<extra></extra>",
          "Name: Youghal<br>Station No.: 18061<br>Agency: OPW<br>OPW Class.: Primary<br>MI Class.:  <br>Final Class.:  <br>Type: T<br>Status: A<br>Lat: %{lat:.2f} °<br>Lon: %{lon:.2f} °<extra></extra>"
         ],
         "lat": [
          53.6175559182,
          52.2592954906,
          52.7917388089,
          54.1170519756,
          51.8277620081,
          52.2575375646,
          52.6004661212,
          52.8463842829,
          51.9015037756,
          54.0078439288,
          52.1471375512,
          54.2200709024,
          52.2693113033,
          52.620907438,
          52.3504831846,
          52.6130098013,
          53.9842826798,
          53.2138653665,
          52.6590096163,
          52.6582013107,
          55.3716368708,
          52.4824164791,
          53.2715247873,
          54.9484148333,
          53.798809638,
          51.8344345643,
          53.2666878491,
          52.6784189565,
          53.2698987417,
          51.9568066584
         ],
         "lon": [
          -9.67062851014,
          -7.10159419102,
          -6.1442575812,
          -9.14618400241,
          -8.00075433851,
          -9.73527393455,
          -9.69826674231,
          -8.98118075064,
          -8.43603925983,
          -6.38404324234,
          -6.98997858882,
          -9.09783885059,
          -9.86163840678,
          -8.76418420869,
          -6.51054858443,
          -9.10553540055,
          -6.23893200408,
          -8.87070283555,
          -8.64223007863,
          -8.64378492361,
          -7.33380720063,
          -9.68040679879,
          -8.92884002659,
          -7.71335966058,
          -6.22074117425,
          -8.30381154574,
          -9.56151750556,
          -8.91731731323,
          -9.0551605818,
          -7.84689553862
         ],
         "marker": {
          "color": "yellow",
          "size": 7
         },
         "name": "OPW",
         "type": "scattermapbox"
        },
        {
         "hoverinfo": "skip",
         "hovertemplate": [
          "Name: Bantry<br>Station No.: Not registered<br>Agency: BHC<br>OPW Class.: Primary<br>MI Class.: Unable to comment - more info required<br>Final Class.: P/U<br>Type: T<br>Status: I<br>Lat: %{lat:.2f} °<br>Lon: %{lon:.2f} °<extra></extra>",
          "Name: Carrigaholt<br>Station No.: 27062<br>Agency: LHC<br>OPW Class.: Primary<br>MI Class.: Unable to comment - more info required<br>Final Class.: P/U<br>Type: T<br>Status: A<br>Lat: %{lat:.2f} °<br>Lon: %{lon:.2f} °<extra></extra>",
          "Name: Cobh<br>Station No.: Not registered<br>Agency: POC<br>OPW Class.: Secondary<br>MI Class.: Unable to comment - more info required<br>Final Class.: S/U<br>Type: T<br>Status: A<br>Lat: %{lat:.2f} °<br>Lon: %{lon:.2f} °<extra></extra>",
          "Name: Dun Laoghaire<br>Station No.: 9061<br>Agency: DLPC<br>OPW Class.:  <br>MI Class.:  <br>Final Class.:  <br>Type: T<br>Status: A<br>Lat: %{lat:.2f} °<br>Lon: %{lon:.2f} °<extra></extra>",
          "Name: Foynes<br>Station No.: Not registered<br>Agency: LHC<br>OPW Class.: Primary<br>MI Class.: Unable to comment - more info required<br>Final Class.: P/U<br>Type: T<br>Status: A<br>Lat: %{lat:.2f} °<br>Lon: %{lon:.2f} °<extra></extra>",
          "Name: The Whelps<br>Station No.:  <br>Agency: SFPC<br>OPW Class.:  <br>MI Class.:  <br>Final Class.:  <br>Type: T<br>Status: A<br>Lat: %{lat:.2f} °<br>Lon: %{lon:.2f} °<extra></extra>",
          "Name: Tivoli<br>Station No.: 19067<br>Agency: POC<br>OPW Class.: Primary<br>MI Class.: Unable to comment - more info required<br>Final Class.: P/U<br>Type: T<br>Status: A<br>Lat: %{lat:.2f} °<br>Lon: %{lon:.2f} °<extra></extra>"
         ],
         "lat": [
          51.6799502487,
          52.6006549818,
          51.8507641059,
          53.293931917,
          52.6143826663,
          52.6768533351,
          51.9004836977
         ],
         "lon": [
          -9.46150318596,
          -9.69825928609,
          -8.27940742772,
          -6.12960773344,
          -9.11249515819,
          -8.75019623111,
          -8.40974458765
         ],
         "marker": {
          "color": "brown",
          "size": 7
         },
         "name": "Port Company",
         "type": "scattermapbox"
        },
        {
         "hovertemplate": [
          "Name: Dublin port<br>Station No.: 9064<br>Agency: Dublin City Council<br>OPW Class.: Primary<br>MI Class.: Primary<br>Final Class.: P<br>Type: ST<br>Status: A<br>Lat: %{lat:.2f} °<br>Lon: %{lon:.2f} °<extra></extra>"
         ],
         "lat": [
          53.3455024253
         ],
         "lon": [
          -6.22069171308
         ],
         "marker": {
          "color": "orange",
          "size": 7
         },
         "name": "Local Authority",
         "type": "scattermapbox"
        }
       ],
       "layout": {
        "height": 400,
        "legend": {
         "title": {
          "text": "<b>Station Type</b>"
         },
         "x": 0.01
        },
        "mapbox": {
         "bearing": 0,
         "center": {
          "lat": 53.4,
          "lon": 352
         },
         "pitch": 0,
         "style": "open-street-map",
         "zoom": 5
        },
        "margin": {
         "b": 0,
         "l": 0,
         "r": 0,
         "t": 0
        },
        "paper_bgcolor": "rgba(0,0,0,0)",
        "plot_bgcolor": "rgba(0,0,0,0)",
        "template": {
         "data": {
          "bar": [
           {
            "error_x": {
             "color": "#2a3f5f"
            },
            "error_y": {
             "color": "#2a3f5f"
            },
            "marker": {
             "line": {
              "color": "#E5ECF6",
              "width": 0.5
             }
            },
            "type": "bar"
           }
          ],
          "barpolar": [
           {
            "marker": {
             "line": {
              "color": "#E5ECF6",
              "width": 0.5
             }
            },
            "type": "barpolar"
           }
          ],
          "carpet": [
           {
            "aaxis": {
             "endlinecolor": "#2a3f5f",
             "gridcolor": "white",
             "linecolor": "white",
             "minorgridcolor": "white",
             "startlinecolor": "#2a3f5f"
            },
            "baxis": {
             "endlinecolor": "#2a3f5f",
             "gridcolor": "white",
             "linecolor": "white",
             "minorgridcolor": "white",
             "startlinecolor": "#2a3f5f"
            },
            "type": "carpet"
           }
          ],
          "choropleth": [
           {
            "colorbar": {
             "outlinewidth": 0,
             "ticks": ""
            },
            "type": "choropleth"
           }
          ],
          "contour": [
           {
            "colorbar": {
             "outlinewidth": 0,
             "ticks": ""
            },
            "colorscale": [
             [
              0,
              "#0d0887"
             ],
             [
              0.1111111111111111,
              "#46039f"
             ],
             [
              0.2222222222222222,
              "#7201a8"
             ],
             [
              0.3333333333333333,
              "#9c179e"
             ],
             [
              0.4444444444444444,
              "#bd3786"
             ],
             [
              0.5555555555555556,
              "#d8576b"
             ],
             [
              0.6666666666666666,
              "#ed7953"
             ],
             [
              0.7777777777777778,
              "#fb9f3a"
             ],
             [
              0.8888888888888888,
              "#fdca26"
             ],
             [
              1,
              "#f0f921"
             ]
            ],
            "type": "contour"
           }
          ],
          "contourcarpet": [
           {
            "colorbar": {
             "outlinewidth": 0,
             "ticks": ""
            },
            "type": "contourcarpet"
           }
          ],
          "heatmap": [
           {
            "colorbar": {
             "outlinewidth": 0,
             "ticks": ""
            },
            "colorscale": [
             [
              0,
              "#0d0887"
             ],
             [
              0.1111111111111111,
              "#46039f"
             ],
             [
              0.2222222222222222,
              "#7201a8"
             ],
             [
              0.3333333333333333,
              "#9c179e"
             ],
             [
              0.4444444444444444,
              "#bd3786"
             ],
             [
              0.5555555555555556,
              "#d8576b"
             ],
             [
              0.6666666666666666,
              "#ed7953"
             ],
             [
              0.7777777777777778,
              "#fb9f3a"
             ],
             [
              0.8888888888888888,
              "#fdca26"
             ],
             [
              1,
              "#f0f921"
             ]
            ],
            "type": "heatmap"
           }
          ],
          "heatmapgl": [
           {
            "colorbar": {
             "outlinewidth": 0,
             "ticks": ""
            },
            "colorscale": [
             [
              0,
              "#0d0887"
             ],
             [
              0.1111111111111111,
              "#46039f"
             ],
             [
              0.2222222222222222,
              "#7201a8"
             ],
             [
              0.3333333333333333,
              "#9c179e"
             ],
             [
              0.4444444444444444,
              "#bd3786"
             ],
             [
              0.5555555555555556,
              "#d8576b"
             ],
             [
              0.6666666666666666,
              "#ed7953"
             ],
             [
              0.7777777777777778,
              "#fb9f3a"
             ],
             [
              0.8888888888888888,
              "#fdca26"
             ],
             [
              1,
              "#f0f921"
             ]
            ],
            "type": "heatmapgl"
           }
          ],
          "histogram": [
           {
            "marker": {
             "colorbar": {
              "outlinewidth": 0,
              "ticks": ""
             }
            },
            "type": "histogram"
           }
          ],
          "histogram2d": [
           {
            "colorbar": {
             "outlinewidth": 0,
             "ticks": ""
            },
            "colorscale": [
             [
              0,
              "#0d0887"
             ],
             [
              0.1111111111111111,
              "#46039f"
             ],
             [
              0.2222222222222222,
              "#7201a8"
             ],
             [
              0.3333333333333333,
              "#9c179e"
             ],
             [
              0.4444444444444444,
              "#bd3786"
             ],
             [
              0.5555555555555556,
              "#d8576b"
             ],
             [
              0.6666666666666666,
              "#ed7953"
             ],
             [
              0.7777777777777778,
              "#fb9f3a"
             ],
             [
              0.8888888888888888,
              "#fdca26"
             ],
             [
              1,
              "#f0f921"
             ]
            ],
            "type": "histogram2d"
           }
          ],
          "histogram2dcontour": [
           {
            "colorbar": {
             "outlinewidth": 0,
             "ticks": ""
            },
            "colorscale": [
             [
              0,
              "#0d0887"
             ],
             [
              0.1111111111111111,
              "#46039f"
             ],
             [
              0.2222222222222222,
              "#7201a8"
             ],
             [
              0.3333333333333333,
              "#9c179e"
             ],
             [
              0.4444444444444444,
              "#bd3786"
             ],
             [
              0.5555555555555556,
              "#d8576b"
             ],
             [
              0.6666666666666666,
              "#ed7953"
             ],
             [
              0.7777777777777778,
              "#fb9f3a"
             ],
             [
              0.8888888888888888,
              "#fdca26"
             ],
             [
              1,
              "#f0f921"
             ]
            ],
            "type": "histogram2dcontour"
           }
          ],
          "mesh3d": [
           {
            "colorbar": {
             "outlinewidth": 0,
             "ticks": ""
            },
            "type": "mesh3d"
           }
          ],
          "parcoords": [
           {
            "line": {
             "colorbar": {
              "outlinewidth": 0,
              "ticks": ""
             }
            },
            "type": "parcoords"
           }
          ],
          "pie": [
           {
            "automargin": true,
            "type": "pie"
           }
          ],
          "scatter": [
           {
            "marker": {
             "colorbar": {
              "outlinewidth": 0,
              "ticks": ""
             }
            },
            "type": "scatter"
           }
          ],
          "scatter3d": [
           {
            "line": {
             "colorbar": {
              "outlinewidth": 0,
              "ticks": ""
             }
            },
            "marker": {
             "colorbar": {
              "outlinewidth": 0,
              "ticks": ""
             }
            },
            "type": "scatter3d"
           }
          ],
          "scattercarpet": [
           {
            "marker": {
             "colorbar": {
              "outlinewidth": 0,
              "ticks": ""
             }
            },
            "type": "scattercarpet"
           }
          ],
          "scattergeo": [
           {
            "marker": {
             "colorbar": {
              "outlinewidth": 0,
              "ticks": ""
             }
            },
            "type": "scattergeo"
           }
          ],
          "scattergl": [
           {
            "marker": {
             "colorbar": {
              "outlinewidth": 0,
              "ticks": ""
             }
            },
            "type": "scattergl"
           }
          ],
          "scattermapbox": [
           {
            "marker": {
             "colorbar": {
              "outlinewidth": 0,
              "ticks": ""
             }
            },
            "type": "scattermapbox"
           }
          ],
          "scatterpolar": [
           {
            "marker": {
             "colorbar": {
              "outlinewidth": 0,
              "ticks": ""
             }
            },
            "type": "scatterpolar"
           }
          ],
          "scatterpolargl": [
           {
            "marker": {
             "colorbar": {
              "outlinewidth": 0,
              "ticks": ""
             }
            },
            "type": "scatterpolargl"
           }
          ],
          "scatterternary": [
           {
            "marker": {
             "colorbar": {
              "outlinewidth": 0,
              "ticks": ""
             }
            },
            "type": "scatterternary"
           }
          ],
          "surface": [
           {
            "colorbar": {
             "outlinewidth": 0,
             "ticks": ""
            },
            "colorscale": [
             [
              0,
              "#0d0887"
             ],
             [
              0.1111111111111111,
              "#46039f"
             ],
             [
              0.2222222222222222,
              "#7201a8"
             ],
             [
              0.3333333333333333,
              "#9c179e"
             ],
             [
              0.4444444444444444,
              "#bd3786"
             ],
             [
              0.5555555555555556,
              "#d8576b"
             ],
             [
              0.6666666666666666,
              "#ed7953"
             ],
             [
              0.7777777777777778,
              "#fb9f3a"
             ],
             [
              0.8888888888888888,
              "#fdca26"
             ],
             [
              1,
              "#f0f921"
             ]
            ],
            "type": "surface"
           }
          ],
          "table": [
           {
            "cells": {
             "fill": {
              "color": "#EBF0F8"
             },
             "line": {
              "color": "white"
             }
            },
            "header": {
             "fill": {
              "color": "#C8D4E3"
             },
             "line": {
              "color": "white"
             }
            },
            "type": "table"
           }
          ]
         },
         "layout": {
          "annotationdefaults": {
           "arrowcolor": "#2a3f5f",
           "arrowhead": 0,
           "arrowwidth": 1
          },
          "autotypenumbers": "strict",
          "coloraxis": {
           "colorbar": {
            "outlinewidth": 0,
            "ticks": ""
           }
          },
          "colorscale": {
           "diverging": [
            [
             0,
             "#8e0152"
            ],
            [
             0.1,
             "#c51b7d"
            ],
            [
             0.2,
             "#de77ae"
            ],
            [
             0.3,
             "#f1b6da"
            ],
            [
             0.4,
             "#fde0ef"
            ],
            [
             0.5,
             "#f7f7f7"
            ],
            [
             0.6,
             "#e6f5d0"
            ],
            [
             0.7,
             "#b8e186"
            ],
            [
             0.8,
             "#7fbc41"
            ],
            [
             0.9,
             "#4d9221"
            ],
            [
             1,
             "#276419"
            ]
           ],
           "sequential": [
            [
             0,
             "#0d0887"
            ],
            [
             0.1111111111111111,
             "#46039f"
            ],
            [
             0.2222222222222222,
             "#7201a8"
            ],
            [
             0.3333333333333333,
             "#9c179e"
            ],
            [
             0.4444444444444444,
             "#bd3786"
            ],
            [
             0.5555555555555556,
             "#d8576b"
            ],
            [
             0.6666666666666666,
             "#ed7953"
            ],
            [
             0.7777777777777778,
             "#fb9f3a"
            ],
            [
             0.8888888888888888,
             "#fdca26"
            ],
            [
             1,
             "#f0f921"
            ]
           ],
           "sequentialminus": [
            [
             0,
             "#0d0887"
            ],
            [
             0.1111111111111111,
             "#46039f"
            ],
            [
             0.2222222222222222,
             "#7201a8"
            ],
            [
             0.3333333333333333,
             "#9c179e"
            ],
            [
             0.4444444444444444,
             "#bd3786"
            ],
            [
             0.5555555555555556,
             "#d8576b"
            ],
            [
             0.6666666666666666,
             "#ed7953"
            ],
            [
             0.7777777777777778,
             "#fb9f3a"
            ],
            [
             0.8888888888888888,
             "#fdca26"
            ],
            [
             1,
             "#f0f921"
            ]
           ]
          },
          "colorway": [
           "#636efa",
           "#EF553B",
           "#00cc96",
           "#ab63fa",
           "#FFA15A",
           "#19d3f3",
           "#FF6692",
           "#B6E880",
           "#FF97FF",
           "#FECB52"
          ],
          "font": {
           "color": "#2a3f5f"
          },
          "geo": {
           "bgcolor": "white",
           "lakecolor": "white",
           "landcolor": "#E5ECF6",
           "showlakes": true,
           "showland": true,
           "subunitcolor": "white"
          },
          "hoverlabel": {
           "align": "left"
          },
          "hovermode": "closest",
          "mapbox": {
           "style": "light"
          },
          "paper_bgcolor": "white",
          "plot_bgcolor": "#E5ECF6",
          "polar": {
           "angularaxis": {
            "gridcolor": "white",
            "linecolor": "white",
            "ticks": ""
           },
           "bgcolor": "#E5ECF6",
           "radialaxis": {
            "gridcolor": "white",
            "linecolor": "white",
            "ticks": ""
           }
          },
          "scene": {
           "xaxis": {
            "backgroundcolor": "#E5ECF6",
            "gridcolor": "white",
            "gridwidth": 2,
            "linecolor": "white",
            "showbackground": true,
            "ticks": "",
            "zerolinecolor": "white"
           },
           "yaxis": {
            "backgroundcolor": "#E5ECF6",
            "gridcolor": "white",
            "gridwidth": 2,
            "linecolor": "white",
            "showbackground": true,
            "ticks": "",
            "zerolinecolor": "white"
           },
           "zaxis": {
            "backgroundcolor": "#E5ECF6",
            "gridcolor": "white",
            "gridwidth": 2,
            "linecolor": "white",
            "showbackground": true,
            "ticks": "",
            "zerolinecolor": "white"
           }
          },
          "shapedefaults": {
           "line": {
            "color": "#2a3f5f"
           }
          },
          "ternary": {
           "aaxis": {
            "gridcolor": "white",
            "linecolor": "white",
            "ticks": ""
           },
           "baxis": {
            "gridcolor": "white",
            "linecolor": "white",
            "ticks": ""
           },
           "bgcolor": "#E5ECF6",
           "caxis": {
            "gridcolor": "white",
            "linecolor": "white",
            "ticks": ""
           }
          },
          "title": {
           "x": 0.05
          },
          "xaxis": {
           "automargin": true,
           "gridcolor": "white",
           "linecolor": "white",
           "ticks": "",
           "title": {
            "standoff": 15
           },
           "zerolinecolor": "white",
           "zerolinewidth": 2
          },
          "yaxis": {
           "automargin": true,
           "gridcolor": "white",
           "linecolor": "white",
           "ticks": "",
           "title": {
            "standoff": 15
           },
           "zerolinecolor": "white",
           "zerolinewidth": 2
          }
         }
        }
       }
      },
      "text/html": [
       "<div>                            <div id=\"67f6d2e1-970b-4705-9a55-57def266bc27\" class=\"plotly-graph-div\" style=\"height:400px; width:100%;\"></div>            <script type=\"text/javascript\">                require([\"plotly\"], function(Plotly) {                    window.PLOTLYENV=window.PLOTLYENV || {};                                    if (document.getElementById(\"67f6d2e1-970b-4705-9a55-57def266bc27\")) {                    Plotly.newPlot(                        \"67f6d2e1-970b-4705-9a55-57def266bc27\",                        [{\"hoverinfo\": \"skip\", \"lat\": [55.3716368708], \"lon\": [-7.33380720063], \"marker\": {\"color\": \"#00a5e3\", \"size\": 12}, \"name\": \"Malin Head\", \"type\": \"scattermapbox\"}, {\"hoverinfo\": \"skip\", \"lat\": [55.3716368708], \"lon\": [-7.33380720063], \"marker\": {\"color\": \"#ff5768\", \"size\": 12}, \"name\": \"Ballyglass Harbour\", \"type\": \"scattermapbox\"}, {\"hoverinfo\": \"skip\", \"lat\": [51.6491661381], \"lon\": [-9.9029117699], \"marker\": {\"color\": \"#ff96c5\", \"size\": 12}, \"name\": \"Casteltownbere\", \"type\": \"scattermapbox\"}, {\"hoverinfo\": \"skip\", \"lat\": [53.3912445441], \"lon\": [-6.0673081047], \"marker\": {\"color\": \"#ffbf65\", \"size\": 12}, \"name\": \"Howth Harbour\", \"type\": \"scattermapbox\"}, {\"hoverinfo\": \"skip\", \"lat\": [53.3455024253], \"lon\": [-6.22069171308], \"marker\": {\"color\": \"#00a4ae\", \"size\": 12}, \"name\": \"Dublin Port\", \"type\": \"scattermapbox\"}, {\"hoverinfo\": \"skip\", \"hovertemplate\": [\"Name: Aranmore Island<br>Station No.: 38060<br>Agency: MI<br>OPW Class.: Secondary<br>MI Class.: Primary<br>Final Class.: S/P<br>Type: T<br>Status: A<br>Lat: %{lat:.2f} \\u00b0<br>Lon: %{lon:.2f} \\u00b0<extra></extra>\", \"Name: Ballycotton<br>Station No.: Not entered<br>Agency: MI<br>OPW Class.: Primary<br>MI Class.: Primary<br>Final Class.: P<br>Type: T<br>Status: A<br>Lat: %{lat:.2f} \\u00b0<br>Lon: %{lon:.2f} \\u00b0<extra></extra>\", \"Name: Ballyglass<br>Station No.: 33060<br>Agency: MI<br>OPW Class.: Primary<br>MI Class.: Primary<br>Final Class.: P<br>Type: T<br>Status: A<br>Lat: %{lat:.2f} \\u00b0<br>Lon: %{lon:.2f} \\u00b0<extra></extra>\", \"Name: Castletownbere<br>Station No.: ?<br>Agency: MI<br>OPW Class.: Primary<br>MI Class.: Primary<br>Final Class.: P<br>Type: T<br>Status: A<br>Lat: %{lat:.2f} \\u00b0<br>Lon: %{lon:.2f} \\u00b0<extra></extra>\", \"Name: Dingle<br>Station No.: Not registered<br>Agency: MI<br>OPW Class.: Primary<br>MI Class.: Primary<br>Final Class.: P<br>Type: T<br>Status: A<br>Lat: %{lat:.2f} \\u00b0<br>Lon: %{lon:.2f} \\u00b0<extra></extra>\", \"Name: Dunmore East<br>Station No.:  <br>Agency: MI<br>OPW Class.: Primary<br>MI Class.: Primary<br>Final Class.: P<br>Type: T<br>Status: A<br>Lat: %{lat:.2f} \\u00b0<br>Lon: %{lon:.2f} \\u00b0<extra></extra>\", \"Name: Galway Port<br>Station No.: 29062<br>Agency: MI<br>OPW Class.: Primary<br>MI Class.: Primary<br>Final Class.: P<br>Type: T<br>Status: A<br>Lat: %{lat:.2f} \\u00b0<br>Lon: %{lon:.2f} \\u00b0<extra></extra>\", \"Name: Howth Harbour<br>Station No.: 9067<br>Agency: MI<br>OPW Class.: Primary<br>MI Class.: Primary<br>Final Class.: P<br>Type: T<br>Status: A<br>Lat: %{lat:.2f} \\u00b0<br>Lon: %{lon:.2f} \\u00b0<extra></extra>\", \"Name: Howth Harbour 2<br>Station No.:  <br>Agency: MI<br>OPW Class.:  <br>MI Class.:  <br>Final Class.:  <br>Type: T<br>Status: A<br>Lat: %{lat:.2f} \\u00b0<br>Lon: %{lon:.2f} \\u00b0<extra></extra>\", \"Name: Inismore<br>Station No.: 31062<br>Agency: MI<br>OPW Class.: Secondary<br>MI Class.: Primary<br>Final Class.: S/P<br>Type: T<br>Status: A<br>Lat: %{lat:.2f} \\u00b0<br>Lon: %{lon:.2f} \\u00b0<extra></extra>\", \"Name: Killybegs<br>Station No.: 37060<br>Agency: MI<br>OPW Class.: Primary<br>MI Class.: Primary<br>Final Class.: P<br>Type: T<br>Status: A<br>Lat: %{lat:.2f} \\u00b0<br>Lon: %{lon:.2f} \\u00b0<extra></extra>\", \"Name: Kilrush Harbour<br>Station No.:  <br>Agency: MI<br>OPW Class.: Primary<br>MI Class.: Primary<br>Final Class.: P<br>Type: T<br>Status: A<br>Lat: %{lat:.2f} \\u00b0<br>Lon: %{lon:.2f} \\u00b0<extra></extra>\", \"Name: Kinvarra<br>Station No.: Not registered<br>Agency: MI<br>OPW Class.: Secondary<br>MI Class.: Secondary<br>Final Class.: S<br>Type: ST<br>Status: A<br>Lat: %{lat:.2f} \\u00b0<br>Lon: %{lon:.2f} \\u00b0<extra></extra>\", \"Name: Malin Head - Portmore Pier<br>Station No.: 40061<br>Agency: MI<br>OPW Class.: Primary<br>MI Class.: Primary<br>Final Class.: P<br>Type: T<br>Status: A<br>Lat: %{lat:.2f} \\u00b0<br>Lon: %{lon:.2f} \\u00b0<extra></extra>\", \"Name: Sligo<br>Station No.: 35060<br>Agency: MI<br>OPW Class.: Primary<br>MI Class.: Primary<br>Final Class.: P<br>Type: ST<br>Status: A<br>Lat: %{lat:.2f} \\u00b0<br>Lon: %{lon:.2f} \\u00b0<extra></extra>\", \"Name: Wexford Harbour<br>Station No.: 12066<br>Agency: MI<br>OPW Class.: Primary<br>MI Class.: Primary<br>Final Class.: P<br>Type: ST<br>Status: A<br>Lat: %{lat:.2f} \\u00b0<br>Lon: %{lon:.2f} \\u00b0<extra></extra>\"], \"lat\": [54.9895737398, 51.8273395548, 54.2528873817, 51.6491661381, 52.1366946323, 52.1473085611, 53.2687094602, 53.3912445441, 53.3910705005, 53.1175446473, 54.6348320561, 52.6355410568, 53.140246801, 55.3716368708, 54.3044879324, 52.3381545268], \"lon\": [-8.49493635196, -7.99998549363, -9.88949819632, -9.9029117699, -10.2747383123, -6.99105590957, -9.04735135068, -6.0673081047, -6.06710550182, -9.66637598708, -8.39420751244, -9.48964593314, -8.9369903561, -7.33380720063, -8.56821681972, -6.45797282131], \"marker\": {\"color\": \"blue\", \"size\": 7}, \"name\": \"Marine Institute\", \"type\": \"scattermapbox\"}, {\"hoverinfo\": \"skip\", \"hovertemplate\": [], \"lat\": [], \"lon\": [], \"marker\": {\"color\": \"green\", \"size\": 7}, \"name\": \"EPA\", \"type\": \"scattermapbox\"}, {\"hoverinfo\": \"skip\", \"hovertemplate\": [\"Name: Aashleagh Br<br>Station No.: 32060<br>Agency: OPW<br>OPW Class.: Primary<br>MI Class.: Unable to comment - more info required<br>Final Class.: P/U<br>Type: ST<br>Status: A<br>Lat: %{lat:.2f} \\u00b0<br>Lon: %{lon:.2f} \\u00b0<extra></extra>\", \"Name: Adelphi Quay<br>Station No.: 16160<br>Agency: OPW<br>OPW Class.: Primary<br>MI Class.: Unable to comment - more info required<br>Final Class.: P/U<br>Type: ST<br>Status: A<br>Lat: %{lat:.2f} \\u00b0<br>Lon: %{lon:.2f} \\u00b0<extra></extra>\", \"Name: Arklow Harbour<br>Station No.: 10060<br>Agency: OPW<br>OPW Class.: Primary<br>MI Class.: Primary<br>Final Class.: P<br>Type: T<br>Status: A<br>Lat: %{lat:.2f} \\u00b0<br>Lon: %{lon:.2f} \\u00b0<extra></extra>\", \"Name: Ballina<br>Station No.: 34061<br>Agency: OPW<br>OPW Class.: Primary<br>MI Class.: Unable to comment - more info required<br>Final Class.: P/U<br>Type: ST<br>Status: A<br>Lat: %{lat:.2f} \\u00b0<br>Lon: %{lon:.2f} \\u00b0<extra></extra>\", \"Name: Ballycotton<br>Station No.: 19068<br>Agency: OPW<br>OPW Class.: Primary<br>MI Class.: Primary<br>Final Class.: P<br>Type: T<br>Status: A<br>Lat: %{lat:.2f} \\u00b0<br>Lon: %{lon:.2f} \\u00b0<extra></extra>\", \"Name: Blennerville<br>Station No.: 23062<br>Agency: OPW<br>OPW Class.: Primary<br>MI Class.: Unable to comment - more info required<br>Final Class.: P/U<br>Type: ST<br>Status: A<br>Lat: %{lat:.2f} \\u00b0<br>Lon: %{lon:.2f} \\u00b0<extra></extra>\", \"Name: Carrigaholt Pier<br>Station No.: 27063<br>Agency: OPW<br>OPW Class.:  <br>MI Class.:  <br>Final Class.:  <br>Type: T<br>Status: A<br>Lat: %{lat:.2f} \\u00b0<br>Lon: %{lon:.2f} \\u00b0<extra></extra>\", \"Name: Clarecastle Br<br>Station No.: 27068<br>Agency: OPW<br>OPW Class.: Primary<br>MI Class.: Unable to comment - more info required<br>Final Class.: P/U<br>Type: ST<br>Status: A<br>Lat: %{lat:.2f} \\u00b0<br>Lon: %{lon:.2f} \\u00b0<extra></extra>\", \"Name: Currach Club<br>Station No.: 19160<br>Agency: OPW<br>OPW Class.: Primary<br>MI Class.:  <br>Final Class.:  <br>Type: T<br>Status: A<br>Lat: %{lat:.2f} \\u00b0<br>Lon: %{lon:.2f} \\u00b0<extra></extra>\", \"Name: Dundalk Port<br>Station No.: 6061<br>Agency: OPW<br>OPW Class.: Primary<br>MI Class.: nan<br>Final Class.: P/U<br>Type: ST<br>Status: A<br>Lat: %{lat:.2f} \\u00b0<br>Lon: %{lon:.2f} \\u00b0<extra></extra>\", \"Name: Dunmore East<br>Station No.: 17061<br>Agency: OPW<br>OPW Class.: Primary<br>MI Class.: Primary<br>Final Class.: P<br>Type: T<br>Status: A<br>Lat: %{lat:.2f} \\u00b0<br>Lon: %{lon:.2f} \\u00b0<extra></extra>\", \"Name: Enniscrone<br>Station No.: 34060<br>Agency: OPW<br>OPW Class.: Primary<br>MI Class.:  <br>Final Class.:  <br>Type: T<br>Status: A<br>Lat: %{lat:.2f} \\u00b0<br>Lon: %{lon:.2f} \\u00b0<extra></extra>\", \"Name: Fenit<br>Station No.: 23066<br>Agency: OPW<br>OPW Class.: Primary<br>MI Class.: Primary<br>Final Class.: P<br>Type: T<br>Status: A<br>Lat: %{lat:.2f} \\u00b0<br>Lon: %{lon:.2f} \\u00b0<extra></extra>\", \"Name: Ferry Br (Maigue)<br>Station No.: 24061<br>Agency: OPW<br>OPW Class.: Primary<br>MI Class.: Unable to comment - more info required<br>Final Class.: P/U<br>Type: ST<br>Status: A<br>Lat: %{lat:.2f} \\u00b0<br>Lon: %{lon:.2f} \\u00b0<extra></extra>\", \"Name: Ferrycarrig Bridge<br>Station No.: 12604<br>Agency: OPW<br>OPW Class.:  <br>MI Class.:  <br>Final Class.:  <br>Type: T<br>Status:  <br>Lat: %{lat:.2f} \\u00b0<br>Lon: %{lon:.2f} \\u00b0<extra></extra>\", \"Name: Foynes<br>Station No.: 24064<br>Agency: OPW<br>OPW Class.: Primary<br>MI Class.:  <br>Final Class.:  <br>Type: T<br>Status: A<br>Lat: %{lat:.2f} \\u00b0<br>Lon: %{lon:.2f} \\u00b0<extra></extra>\", \"Name: Giles Quay<br>Station No.: 6062<br>Agency: OPW<br>OPW Class.: Primary<br>MI Class.: Unable to comment - more info required<br>Final Class.: P/U<br>Type: T<br>Status: A<br>Lat: %{lat:.2f} \\u00b0<br>Lon: %{lon:.2f} \\u00b0<extra></extra>\", \"Name: Kilcolgan<br>Station No.: 29011<br>Agency: OPW<br>OPW Class.: Primary<br>MI Class.: Unable to comment - more info required<br>Final Class.: P/U<br>Type: ST<br>Status: A<br>Lat: %{lat:.2f} \\u00b0<br>Lon: %{lon:.2f} \\u00b0<extra></extra>\", \"Name: Limerick Dock<br>Station No.: Not registered<br>Agency: OPW<br>OPW Class.: Primary<br>MI Class.: Primary<br>Final Class.: P/U<br>Type: ST<br>Status: A<br>Lat: %{lat:.2f} \\u00b0<br>Lon: %{lon:.2f} \\u00b0<extra></extra>\", \"Name: Limerick Dock<br>Station No.: 24063<br>Agency: OPW<br>OPW Class.:  <br>MI Class.:  <br>Final Class.:  <br>Type: T<br>Status: A<br>Lat: %{lat:.2f} \\u00b0<br>Lon: %{lon:.2f} \\u00b0<extra></extra>\", \"Name: Malin Head<br>Station No.: 40060<br>Agency: OPW<br>OPW Class.: GLOSS<br>MI Class.: Primary<br>Final Class.: G<br>Type: T<br>Status: A<br>Lat: %{lat:.2f} \\u00b0<br>Lon: %{lon:.2f} \\u00b0<extra></extra>\", \"Name: Moneycashen<br>Station No.: 23068<br>Agency: OPW<br>OPW Class.: Primary<br>MI Class.: Unable to comment - more info required<br>Final Class.: P/U<br>Type: ST<br>Status: A<br>Lat: %{lat:.2f} \\u00b0<br>Lon: %{lon:.2f} \\u00b0<extra></extra>\", \"Name: Oranmore Br<br>Station No.: 29015<br>Agency: OPW<br>OPW Class.: Primary<br>MI Class.: Unable to comment - more info required<br>Final Class.: P/U<br>Type: ST<br>Status: A<br>Lat: %{lat:.2f} \\u00b0<br>Lon: %{lon:.2f} \\u00b0<extra></extra>\", \"Name: Port Br<br>Station No.: 39061<br>Agency: OPW<br>OPW Class.: Primary<br>MI Class.: Unable to comment - more info required<br>Final Class.: P/U<br>Type: ST<br>Status: A<br>Lat: %{lat:.2f} \\u00b0<br>Lon: %{lon:.2f} \\u00b0<extra></extra>\", \"Name: Port Oriel<br>Station No.: 6060<br>Agency: OPW<br>OPW Class.: Primary<br>MI Class.: Primary<br>Final Class.: P<br>Type: T<br>Status: A<br>Lat: %{lat:.2f} \\u00b0<br>Lon: %{lon:.2f} \\u00b0<extra></extra>\", \"Name: Ringaskiddy NMCI<br>Station No.: 19069<br>Agency: OPW<br>OPW Class.: Primary<br>MI Class.: Unable to comment - more info required<br>Final Class.: P/U<br>Type: T<br>Status: A<br>Lat: %{lat:.2f} \\u00b0<br>Lon: %{lon:.2f} \\u00b0<extra></extra>\", \"Name: Rossaveel Pier<br>Station No.: 31061<br>Agency: OPW<br>OPW Class.: Primary<br>MI Class.: Primary<br>Final Class.: P<br>Type: T<br>Status: A<br>Lat: %{lat:.2f} \\u00b0<br>Lon: %{lon:.2f} \\u00b0<extra></extra>\", \"Name: Shannon<br>Station No.: 27069<br>Agency: OPW<br>OPW Class.: Primary<br>MI Class.:  <br>Final Class.:  <br>Type: T<br>Status: A<br>Lat: %{lat:.2f} \\u00b0<br>Lon: %{lon:.2f} \\u00b0<extra></extra>\", \"Name: Wolfe Tone Br<br>Station No.: 30061<br>Agency: OPW<br>OPW Class.: Primary<br>MI Class.: Primary<br>Final Class.: P<br>Type: ST<br>Status: A<br>Lat: %{lat:.2f} \\u00b0<br>Lon: %{lon:.2f} \\u00b0<extra></extra>\", \"Name: Youghal<br>Station No.: 18061<br>Agency: OPW<br>OPW Class.: Primary<br>MI Class.:  <br>Final Class.:  <br>Type: T<br>Status: A<br>Lat: %{lat:.2f} \\u00b0<br>Lon: %{lon:.2f} \\u00b0<extra></extra>\"], \"lat\": [53.6175559182, 52.2592954906, 52.7917388089, 54.1170519756, 51.8277620081, 52.2575375646, 52.6004661212, 52.8463842829, 51.9015037756, 54.0078439288, 52.1471375512, 54.2200709024, 52.2693113033, 52.620907438, 52.3504831846, 52.6130098013, 53.9842826798, 53.2138653665, 52.6590096163, 52.6582013107, 55.3716368708, 52.4824164791, 53.2715247873, 54.9484148333, 53.798809638, 51.8344345643, 53.2666878491, 52.6784189565, 53.2698987417, 51.9568066584], \"lon\": [-9.67062851014, -7.10159419102, -6.1442575812, -9.14618400241, -8.00075433851, -9.73527393455, -9.69826674231, -8.98118075064, -8.43603925983, -6.38404324234, -6.98997858882, -9.09783885059, -9.86163840678, -8.76418420869, -6.51054858443, -9.10553540055, -6.23893200408, -8.87070283555, -8.64223007863, -8.64378492361, -7.33380720063, -9.68040679879, -8.92884002659, -7.71335966058, -6.22074117425, -8.30381154574, -9.56151750556, -8.91731731323, -9.0551605818, -7.84689553862], \"marker\": {\"color\": \"yellow\", \"size\": 7}, \"name\": \"OPW\", \"type\": \"scattermapbox\"}, {\"hoverinfo\": \"skip\", \"hovertemplate\": [\"Name: Bantry<br>Station No.: Not registered<br>Agency: BHC<br>OPW Class.: Primary<br>MI Class.: Unable to comment - more info required<br>Final Class.: P/U<br>Type: T<br>Status: I<br>Lat: %{lat:.2f} \\u00b0<br>Lon: %{lon:.2f} \\u00b0<extra></extra>\", \"Name: Carrigaholt<br>Station No.: 27062<br>Agency: LHC<br>OPW Class.: Primary<br>MI Class.: Unable to comment - more info required<br>Final Class.: P/U<br>Type: T<br>Status: A<br>Lat: %{lat:.2f} \\u00b0<br>Lon: %{lon:.2f} \\u00b0<extra></extra>\", \"Name: Cobh<br>Station No.: Not registered<br>Agency: POC<br>OPW Class.: Secondary<br>MI Class.: Unable to comment - more info required<br>Final Class.: S/U<br>Type: T<br>Status: A<br>Lat: %{lat:.2f} \\u00b0<br>Lon: %{lon:.2f} \\u00b0<extra></extra>\", \"Name: Dun Laoghaire<br>Station No.: 9061<br>Agency: DLPC<br>OPW Class.:  <br>MI Class.:  <br>Final Class.:  <br>Type: T<br>Status: A<br>Lat: %{lat:.2f} \\u00b0<br>Lon: %{lon:.2f} \\u00b0<extra></extra>\", \"Name: Foynes<br>Station No.: Not registered<br>Agency: LHC<br>OPW Class.: Primary<br>MI Class.: Unable to comment - more info required<br>Final Class.: P/U<br>Type: T<br>Status: A<br>Lat: %{lat:.2f} \\u00b0<br>Lon: %{lon:.2f} \\u00b0<extra></extra>\", \"Name: The Whelps<br>Station No.:  <br>Agency: SFPC<br>OPW Class.:  <br>MI Class.:  <br>Final Class.:  <br>Type: T<br>Status: A<br>Lat: %{lat:.2f} \\u00b0<br>Lon: %{lon:.2f} \\u00b0<extra></extra>\", \"Name: Tivoli<br>Station No.: 19067<br>Agency: POC<br>OPW Class.: Primary<br>MI Class.: Unable to comment - more info required<br>Final Class.: P/U<br>Type: T<br>Status: A<br>Lat: %{lat:.2f} \\u00b0<br>Lon: %{lon:.2f} \\u00b0<extra></extra>\"], \"lat\": [51.6799502487, 52.6006549818, 51.8507641059, 53.293931917, 52.6143826663, 52.6768533351, 51.9004836977], \"lon\": [-9.46150318596, -9.69825928609, -8.27940742772, -6.12960773344, -9.11249515819, -8.75019623111, -8.40974458765], \"marker\": {\"color\": \"brown\", \"size\": 7}, \"name\": \"Port Company\", \"type\": \"scattermapbox\"}, {\"hovertemplate\": [\"Name: Dublin port<br>Station No.: 9064<br>Agency: Dublin City Council<br>OPW Class.: Primary<br>MI Class.: Primary<br>Final Class.: P<br>Type: ST<br>Status: A<br>Lat: %{lat:.2f} \\u00b0<br>Lon: %{lon:.2f} \\u00b0<extra></extra>\"], \"lat\": [53.3455024253], \"lon\": [-6.22069171308], \"marker\": {\"color\": \"orange\", \"size\": 7}, \"name\": \"Local Authority\", \"type\": \"scattermapbox\"}],                        {\"height\": 400, \"legend\": {\"title\": {\"text\": \"<b>Station Type</b>\"}, \"x\": 0.01}, \"mapbox\": {\"bearing\": 0, \"center\": {\"lat\": 53.4, \"lon\": 352}, \"pitch\": 0, \"style\": \"open-street-map\", \"zoom\": 5}, \"margin\": {\"b\": 0, \"l\": 0, \"r\": 0, \"t\": 0}, \"paper_bgcolor\": \"rgba(0,0,0,0)\", \"plot_bgcolor\": \"rgba(0,0,0,0)\", \"template\": {\"data\": {\"bar\": [{\"error_x\": {\"color\": \"#2a3f5f\"}, \"error_y\": {\"color\": \"#2a3f5f\"}, \"marker\": {\"line\": {\"color\": \"#E5ECF6\", \"width\": 0.5}}, \"type\": \"bar\"}], \"barpolar\": [{\"marker\": {\"line\": {\"color\": \"#E5ECF6\", \"width\": 0.5}}, \"type\": \"barpolar\"}], \"carpet\": [{\"aaxis\": {\"endlinecolor\": \"#2a3f5f\", \"gridcolor\": \"white\", \"linecolor\": \"white\", \"minorgridcolor\": \"white\", \"startlinecolor\": \"#2a3f5f\"}, \"baxis\": {\"endlinecolor\": \"#2a3f5f\", \"gridcolor\": \"white\", \"linecolor\": \"white\", \"minorgridcolor\": \"white\", \"startlinecolor\": \"#2a3f5f\"}, \"type\": \"carpet\"}], \"choropleth\": [{\"colorbar\": {\"outlinewidth\": 0, \"ticks\": \"\"}, \"type\": \"choropleth\"}], \"contour\": [{\"colorbar\": {\"outlinewidth\": 0, \"ticks\": \"\"}, \"colorscale\": [[0.0, \"#0d0887\"], [0.1111111111111111, \"#46039f\"], [0.2222222222222222, \"#7201a8\"], [0.3333333333333333, \"#9c179e\"], [0.4444444444444444, \"#bd3786\"], [0.5555555555555556, \"#d8576b\"], [0.6666666666666666, \"#ed7953\"], [0.7777777777777778, \"#fb9f3a\"], [0.8888888888888888, \"#fdca26\"], [1.0, \"#f0f921\"]], \"type\": \"contour\"}], \"contourcarpet\": [{\"colorbar\": {\"outlinewidth\": 0, \"ticks\": \"\"}, \"type\": \"contourcarpet\"}], \"heatmap\": [{\"colorbar\": {\"outlinewidth\": 0, \"ticks\": \"\"}, \"colorscale\": [[0.0, \"#0d0887\"], [0.1111111111111111, \"#46039f\"], [0.2222222222222222, \"#7201a8\"], [0.3333333333333333, \"#9c179e\"], [0.4444444444444444, \"#bd3786\"], [0.5555555555555556, \"#d8576b\"], [0.6666666666666666, \"#ed7953\"], [0.7777777777777778, \"#fb9f3a\"], [0.8888888888888888, \"#fdca26\"], [1.0, \"#f0f921\"]], \"type\": \"heatmap\"}], \"heatmapgl\": [{\"colorbar\": {\"outlinewidth\": 0, \"ticks\": \"\"}, \"colorscale\": [[0.0, \"#0d0887\"], [0.1111111111111111, \"#46039f\"], [0.2222222222222222, \"#7201a8\"], [0.3333333333333333, \"#9c179e\"], [0.4444444444444444, \"#bd3786\"], [0.5555555555555556, \"#d8576b\"], [0.6666666666666666, \"#ed7953\"], [0.7777777777777778, \"#fb9f3a\"], [0.8888888888888888, \"#fdca26\"], [1.0, \"#f0f921\"]], \"type\": \"heatmapgl\"}], \"histogram\": [{\"marker\": {\"colorbar\": {\"outlinewidth\": 0, \"ticks\": \"\"}}, \"type\": \"histogram\"}], \"histogram2d\": [{\"colorbar\": {\"outlinewidth\": 0, \"ticks\": \"\"}, \"colorscale\": [[0.0, \"#0d0887\"], [0.1111111111111111, \"#46039f\"], [0.2222222222222222, \"#7201a8\"], [0.3333333333333333, \"#9c179e\"], [0.4444444444444444, \"#bd3786\"], [0.5555555555555556, \"#d8576b\"], [0.6666666666666666, \"#ed7953\"], [0.7777777777777778, \"#fb9f3a\"], [0.8888888888888888, \"#fdca26\"], [1.0, \"#f0f921\"]], \"type\": \"histogram2d\"}], \"histogram2dcontour\": [{\"colorbar\": {\"outlinewidth\": 0, \"ticks\": \"\"}, \"colorscale\": [[0.0, \"#0d0887\"], [0.1111111111111111, \"#46039f\"], [0.2222222222222222, \"#7201a8\"], [0.3333333333333333, \"#9c179e\"], [0.4444444444444444, \"#bd3786\"], [0.5555555555555556, \"#d8576b\"], [0.6666666666666666, \"#ed7953\"], [0.7777777777777778, \"#fb9f3a\"], [0.8888888888888888, \"#fdca26\"], [1.0, \"#f0f921\"]], \"type\": \"histogram2dcontour\"}], \"mesh3d\": [{\"colorbar\": {\"outlinewidth\": 0, \"ticks\": \"\"}, \"type\": \"mesh3d\"}], \"parcoords\": [{\"line\": {\"colorbar\": {\"outlinewidth\": 0, \"ticks\": \"\"}}, \"type\": \"parcoords\"}], \"pie\": [{\"automargin\": true, \"type\": \"pie\"}], \"scatter\": [{\"marker\": {\"colorbar\": {\"outlinewidth\": 0, \"ticks\": \"\"}}, \"type\": \"scatter\"}], \"scatter3d\": [{\"line\": {\"colorbar\": {\"outlinewidth\": 0, \"ticks\": \"\"}}, \"marker\": {\"colorbar\": {\"outlinewidth\": 0, \"ticks\": \"\"}}, \"type\": \"scatter3d\"}], \"scattercarpet\": [{\"marker\": {\"colorbar\": {\"outlinewidth\": 0, \"ticks\": \"\"}}, \"type\": \"scattercarpet\"}], \"scattergeo\": [{\"marker\": {\"colorbar\": {\"outlinewidth\": 0, \"ticks\": \"\"}}, \"type\": \"scattergeo\"}], \"scattergl\": [{\"marker\": {\"colorbar\": {\"outlinewidth\": 0, \"ticks\": \"\"}}, \"type\": \"scattergl\"}], \"scattermapbox\": [{\"marker\": {\"colorbar\": {\"outlinewidth\": 0, \"ticks\": \"\"}}, \"type\": \"scattermapbox\"}], \"scatterpolar\": [{\"marker\": {\"colorbar\": {\"outlinewidth\": 0, \"ticks\": \"\"}}, \"type\": \"scatterpolar\"}], \"scatterpolargl\": [{\"marker\": {\"colorbar\": {\"outlinewidth\": 0, \"ticks\": \"\"}}, \"type\": \"scatterpolargl\"}], \"scatterternary\": [{\"marker\": {\"colorbar\": {\"outlinewidth\": 0, \"ticks\": \"\"}}, \"type\": \"scatterternary\"}], \"surface\": [{\"colorbar\": {\"outlinewidth\": 0, \"ticks\": \"\"}, \"colorscale\": [[0.0, \"#0d0887\"], [0.1111111111111111, \"#46039f\"], [0.2222222222222222, \"#7201a8\"], [0.3333333333333333, \"#9c179e\"], [0.4444444444444444, \"#bd3786\"], [0.5555555555555556, \"#d8576b\"], [0.6666666666666666, \"#ed7953\"], [0.7777777777777778, \"#fb9f3a\"], [0.8888888888888888, \"#fdca26\"], [1.0, \"#f0f921\"]], \"type\": \"surface\"}], \"table\": [{\"cells\": {\"fill\": {\"color\": \"#EBF0F8\"}, \"line\": {\"color\": \"white\"}}, \"header\": {\"fill\": {\"color\": \"#C8D4E3\"}, \"line\": {\"color\": \"white\"}}, \"type\": \"table\"}]}, \"layout\": {\"annotationdefaults\": {\"arrowcolor\": \"#2a3f5f\", \"arrowhead\": 0, \"arrowwidth\": 1}, \"autotypenumbers\": \"strict\", \"coloraxis\": {\"colorbar\": {\"outlinewidth\": 0, \"ticks\": \"\"}}, \"colorscale\": {\"diverging\": [[0, \"#8e0152\"], [0.1, \"#c51b7d\"], [0.2, \"#de77ae\"], [0.3, \"#f1b6da\"], [0.4, \"#fde0ef\"], [0.5, \"#f7f7f7\"], [0.6, \"#e6f5d0\"], [0.7, \"#b8e186\"], [0.8, \"#7fbc41\"], [0.9, \"#4d9221\"], [1, \"#276419\"]], \"sequential\": [[0.0, \"#0d0887\"], [0.1111111111111111, \"#46039f\"], [0.2222222222222222, \"#7201a8\"], [0.3333333333333333, \"#9c179e\"], [0.4444444444444444, \"#bd3786\"], [0.5555555555555556, \"#d8576b\"], [0.6666666666666666, \"#ed7953\"], [0.7777777777777778, \"#fb9f3a\"], [0.8888888888888888, \"#fdca26\"], [1.0, \"#f0f921\"]], \"sequentialminus\": [[0.0, \"#0d0887\"], [0.1111111111111111, \"#46039f\"], [0.2222222222222222, \"#7201a8\"], [0.3333333333333333, \"#9c179e\"], [0.4444444444444444, \"#bd3786\"], [0.5555555555555556, \"#d8576b\"], [0.6666666666666666, \"#ed7953\"], [0.7777777777777778, \"#fb9f3a\"], [0.8888888888888888, \"#fdca26\"], [1.0, \"#f0f921\"]]}, \"colorway\": [\"#636efa\", \"#EF553B\", \"#00cc96\", \"#ab63fa\", \"#FFA15A\", \"#19d3f3\", \"#FF6692\", \"#B6E880\", \"#FF97FF\", \"#FECB52\"], \"font\": {\"color\": \"#2a3f5f\"}, \"geo\": {\"bgcolor\": \"white\", \"lakecolor\": \"white\", \"landcolor\": \"#E5ECF6\", \"showlakes\": true, \"showland\": true, \"subunitcolor\": \"white\"}, \"hoverlabel\": {\"align\": \"left\"}, \"hovermode\": \"closest\", \"mapbox\": {\"style\": \"light\"}, \"paper_bgcolor\": \"white\", \"plot_bgcolor\": \"#E5ECF6\", \"polar\": {\"angularaxis\": {\"gridcolor\": \"white\", \"linecolor\": \"white\", \"ticks\": \"\"}, \"bgcolor\": \"#E5ECF6\", \"radialaxis\": {\"gridcolor\": \"white\", \"linecolor\": \"white\", \"ticks\": \"\"}}, \"scene\": {\"xaxis\": {\"backgroundcolor\": \"#E5ECF6\", \"gridcolor\": \"white\", \"gridwidth\": 2, \"linecolor\": \"white\", \"showbackground\": true, \"ticks\": \"\", \"zerolinecolor\": \"white\"}, \"yaxis\": {\"backgroundcolor\": \"#E5ECF6\", \"gridcolor\": \"white\", \"gridwidth\": 2, \"linecolor\": \"white\", \"showbackground\": true, \"ticks\": \"\", \"zerolinecolor\": \"white\"}, \"zaxis\": {\"backgroundcolor\": \"#E5ECF6\", \"gridcolor\": \"white\", \"gridwidth\": 2, \"linecolor\": \"white\", \"showbackground\": true, \"ticks\": \"\", \"zerolinecolor\": \"white\"}}, \"shapedefaults\": {\"line\": {\"color\": \"#2a3f5f\"}}, \"ternary\": {\"aaxis\": {\"gridcolor\": \"white\", \"linecolor\": \"white\", \"ticks\": \"\"}, \"baxis\": {\"gridcolor\": \"white\", \"linecolor\": \"white\", \"ticks\": \"\"}, \"bgcolor\": \"#E5ECF6\", \"caxis\": {\"gridcolor\": \"white\", \"linecolor\": \"white\", \"ticks\": \"\"}}, \"title\": {\"x\": 0.05}, \"xaxis\": {\"automargin\": true, \"gridcolor\": \"white\", \"linecolor\": \"white\", \"ticks\": \"\", \"title\": {\"standoff\": 15}, \"zerolinecolor\": \"white\", \"zerolinewidth\": 2}, \"yaxis\": {\"automargin\": true, \"gridcolor\": \"white\", \"linecolor\": \"white\", \"ticks\": \"\", \"title\": {\"standoff\": 15}, \"zerolinecolor\": \"white\", \"zerolinewidth\": 2}}}},                        {\"responsive\": true}                    ).then(function(){\n",
       "                            \n",
       "var gd = document.getElementById('67f6d2e1-970b-4705-9a55-57def266bc27');\n",
       "var x = new MutationObserver(function (mutations, observer) {{\n",
       "        var display = window.getComputedStyle(gd).display;\n",
       "        if (!display || display === 'none') {{\n",
       "            console.log([gd, 'removed!']);\n",
       "            Plotly.purge(gd);\n",
       "            observer.disconnect();\n",
       "        }}\n",
       "}});\n",
       "\n",
       "// Listen for the removal of the full notebook cells\n",
       "var notebookContainer = gd.closest('#notebook-container');\n",
       "if (notebookContainer) {{\n",
       "    x.observe(notebookContainer, {childList: true});\n",
       "}}\n",
       "\n",
       "// Listen for the clearing of the current output cell\n",
       "var outputEl = gd.closest('.output');\n",
       "if (outputEl) {{\n",
       "    x.observe(outputEl, {childList: true});\n",
       "}}\n",
       "\n",
       "                        })                };                });            </script>        </div>"
      ]
     },
     "metadata": {},
     "output_type": "display_data"
    }
   ],
   "source": [
    "map_3_4 = go.Figure(\n",
    "        data=[malinTrace,ballyglassTrace,casteltownTrace,howthTrace,dublinTrace,miTrace,epaTrace,opwTrace,pcTrace,laTrace],\n",
    "        layout=MAP_LAYOUT)\n",
    "map_3_4"
   ]
  },
  {
   "cell_type": "code",
   "execution_count": null,
   "metadata": {},
   "outputs": [],
   "source": []
  }
 ],
 "metadata": {
  "kernelspec": {
   "display_name": "Python 3",
   "language": "python",
   "name": "python3"
  },
  "language_info": {
   "codemirror_mode": {
    "name": "ipython",
    "version": 3
   },
   "file_extension": ".py",
   "mimetype": "text/x-python",
   "name": "python",
   "nbconvert_exporter": "python",
   "pygments_lexer": "ipython3",
   "version": "3.8.2"
  }
 },
 "nbformat": 4,
 "nbformat_minor": 2
}
