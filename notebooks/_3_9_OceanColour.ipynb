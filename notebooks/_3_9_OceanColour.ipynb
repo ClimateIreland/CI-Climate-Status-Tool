{
 "cells": [
  {
   "cell_type": "code",
   "execution_count": 1,
   "id": "indie-cutting",
   "metadata": {},
   "outputs": [],
   "source": [
    "# to access root modules\n",
    "if __name__ == \"__main__\" and __package__ is None:\n",
    "    from sys import path\n",
    "    from os.path import dirname as dir\n",
    "\n",
    "    path.append(dir(path[0]))\n",
    "    __package__ = \"dash_app\""
   ]
  },
  {
   "cell_type": "code",
   "execution_count": 2,
   "id": "weird-methodology",
   "metadata": {},
   "outputs": [],
   "source": [
    "import pandas as pd\n",
    "import numpy as np\n",
    "import datetime\n",
    "import dateutil\n",
    "import plotly.graph_objects as go\n",
    "from plotly.subplots import make_subplots\n",
    "from charts import stations_map, map_columns,percentile_series\n",
    "from settings import *"
   ]
  },
  {
   "cell_type": "code",
   "execution_count": 3,
   "id": "cheap-integral",
   "metadata": {},
   "outputs": [],
   "source": [
    "data_path = DATA_PATH+'Oceanic_Domain/3.9OceanColour/Figure3.20/'\n",
    "data_csv = data_path + 'Figure3.20_data.csv'"
   ]
  },
  {
   "cell_type": "code",
   "execution_count": 4,
   "id": "elect-placement",
   "metadata": {},
   "outputs": [],
   "source": [
    "\"\"\"\n",
    "Tidy data for charts\n",
    "\"\"\"\n",
    "columns_dict = {'datetime':'(month)',\n",
    "               'mean__monthly__mass_concentration_of_chlorophyll_a_in_sea_water':'Monthly mean (46º-58º N, 5º-26º W)',\n",
    "                  }\n",
    "xls = pd.ExcelFile(\n",
    "    data_path+'Monthly_Mean_ChlorophyllA_Concentration_IrishMaritimeBoundaryContinentalShelf.xlsx')\n",
    "original_df = pd.read_excel(xls, 'SWFMO_CHLO.CR.l3m_data.Oct1997-',skiprows=8)\n",
    "df = map_columns(columns_dict, original_df)\n",
    "df['datetime'] = pd.to_datetime(df['datetime'],format='%Y-%m-%d %H:%M:%S')\n",
    "#df.to_csv(data_csv) #commented out as the file should be kept as is"
   ]
  },
  {
   "cell_type": "code",
   "execution_count": 3,
   "id": "cutting-undergraduate",
   "metadata": {},
   "outputs": [],
   "source": [
    "data_path = DATA_PATH+'Oceanic_Domain/3.9OceanColour/Figure3.20/'\n",
    "data_csv = data_path + 'Figure3.20_data.csv'\n",
    "df = pd.read_csv(data_csv, index_col=0)\n",
    "df['datetime'] = pd.to_datetime(df['datetime'])\n",
    "df['percentile'] = percentile_series(df,'mean__monthly__mass_concentration_of_chlorophyll_a_in_sea_water')"
   ]
  },
  {
   "cell_type": "code",
   "execution_count": 9,
   "id": "black-roommate",
   "metadata": {},
   "outputs": [
    {
     "data": {
      "application/vnd.plotly.v1+json": {
       "config": {
        "plotlyServerURL": "https://plot.ly"
       },
       "data": [
        {
         "colorbar": {
          "len": 0.9,
          "thickness": 10,
          "tickmode": "array",
          "ticktext": [
           "<b>Min.</b> (0.56)",
           "<b> 5%</b> (0.6)",
           "<b>25%</b> (0.66)",
           "<b>50%</b> (0.73)",
           "<b>75%</b> (0.81)",
           "<b>95%</b> (0.92)"
          ],
          "tickvals": [
           0,
           5,
           24,
           47,
           71,
           90
          ],
          "title": {
           "text": "<b>Percentile</b> (mg/m³)"
          }
         },
         "colorscale": [
          [
           0,
           "rgb(98, 55, 155)"
          ],
          [
           0.05,
           "rgb(98, 55, 155)"
          ],
          [
           0.05,
           "rgb(184, 197, 229)"
          ],
          [
           0.25,
           "rgb(184, 197, 229)"
          ],
          [
           0.25,
           "rgb(166, 206, 93)"
          ],
          [
           0.5,
           "rgb(166, 206, 93)"
          ],
          [
           0.5,
           "rgb(255, 254, 66)"
          ],
          [
           0.75,
           "rgb(255, 254, 66)"
          ],
          [
           0.75,
           "rgb(239, 191, 49)"
          ],
          [
           0.95,
           "rgb(239, 191, 49)"
          ],
          [
           0.95,
           "rgb(219, 32, 1)"
          ],
          [
           1,
           "rgb(219, 32, 1)"
          ]
         ],
         "hovertemplate": "%{x} %{y}<br>Concentration: %{text:.2f} mg/m³<extra></extra>",
         "text": [
          0.763751566,
          0.691568911,
          0.662792921,
          0.623881876,
          0.573929727,
          0.610733271,
          0.70742023,
          0.853922248,
          0.915418863,
          0.884177446,
          0.835177839,
          0.820459902,
          0.662394404,
          0.639343023,
          0.653258383,
          0.612514675,
          0.63446933,
          0.722083986,
          0.653625011,
          0.801912963,
          0.805917084,
          0.813076973,
          0.86082983,
          0.79601419,
          0.784401715,
          0.706811726,
          0.685914218,
          0.650080085,
          0.630585551,
          0.624872923,
          0.72148186,
          0.733203948,
          0.706341565,
          0.867605686,
          0.794473052,
          0.84604907,
          0.796979249,
          0.729996443,
          0.685887754,
          0.673085868,
          0.664495766,
          0.709244192,
          0.638954461,
          0.691399634,
          0.738989532,
          0.809809446,
          0.795678735,
          0.810595691,
          0.767165542,
          0.669963896,
          0.69640398,
          0.673666298,
          0.606308818,
          0.567777514,
          0.653272927,
          0.724879146,
          0.859643757,
          0.897752523,
          0.922905087,
          0.790005207,
          0.767839134,
          0.741806746,
          0.726511776,
          0.710671008,
          0.613205135,
          0.691561937,
          0.751256704,
          0.744497895,
          0.782925069,
          0.887383044,
          0.991565585,
          0.817980468,
          0.661193311,
          0.656874895,
          0.704048157,
          0.695462883,
          0.694165051,
          0.642137349,
          0.692598164,
          0.800880194,
          0.960105121,
          0.91638869,
          0.864152491,
          0.888479829,
          0.806990802,
          0.77007997,
          0.773828506,
          0.699396312,
          0.620087862,
          0.586479545,
          0.662319005,
          0.687470376,
          0.704805493,
          0.915809751,
          0.735580564,
          0.775883973,
          0.73233068,
          0.679286897,
          0.602186739,
          0.665838003,
          0.642695844,
          0.63494879,
          0.614983559,
          0.74083966,
          0.792762697,
          1.0004158,
          0.836666882,
          0.735627174,
          0.765091121,
          0.649210513,
          0.620576501,
          0.650066555,
          0.59968257,
          0.572369218,
          0.762176096,
          0.836726248,
          0.997555554,
          0.78270185,
          0.768390596,
          0.815661192,
          0.695227027,
          0.667777658,
          0.628847063,
          0.600859225,
          0.564792454,
          0.589662015,
          0.63986063,
          0.767733932,
          0.640694559,
          0.819499493,
          0.824561,
          0.903687358,
          0.788363636,
          0.660923719,
          0.621981025,
          0.646778643,
          0.585386932,
          0.655808926,
          0.743417323,
          0.75948441,
          0.895827174,
          0.908129632,
          0.812405825,
          0.814675868,
          0.837693214,
          0.615669966,
          0.628371716,
          0.660224795,
          0.633954883,
          0.741389215,
          0.824724078,
          0.896061778,
          0.951704204,
          1.00988352,
          0.875513375,
          0.929897547,
          0.796597123,
          0.81537497,
          0.692899525,
          0.636967003,
          0.614306927,
          0.684685469,
          0.658339143,
          0.906926572,
          0.815348923,
          0.772949517,
          0.997485936,
          0.8098194,
          0.688531518,
          0.762586474,
          0.715769053,
          0.631838739,
          0.61187613,
          0.685957491,
          0.724215686,
          0.872148633,
          0.933803976,
          0.843753695,
          0.824288487,
          0.843677461,
          0.812674224,
          0.685669243,
          0.733970821,
          0.675984204,
          0.590250015,
          0.686144829,
          0.662620842,
          0.771036506,
          0.735631704,
          0.921568334,
          0.916579425,
          0.829522908,
          0.702350795,
          0.675141275,
          0.641917765,
          0.682938159,
          0.611666262,
          0.657973707
         ],
         "type": "heatmap",
         "x": [
          7,
          8,
          9,
          10,
          11,
          12,
          1,
          2,
          3,
          4,
          5,
          6,
          7,
          8,
          9,
          10,
          11,
          12,
          1,
          2,
          3,
          4,
          5,
          6,
          7,
          8,
          9,
          10,
          11,
          12,
          1,
          2,
          3,
          4,
          5,
          6,
          7,
          8,
          9,
          10,
          11,
          12,
          1,
          2,
          3,
          4,
          5,
          6,
          7,
          8,
          9,
          10,
          11,
          12,
          1,
          2,
          3,
          4,
          5,
          6,
          7,
          8,
          9,
          10,
          11,
          12,
          1,
          2,
          3,
          4,
          5,
          6,
          7,
          8,
          9,
          10,
          11,
          12,
          1,
          2,
          3,
          4,
          5,
          6,
          7,
          8,
          9,
          10,
          11,
          12,
          1,
          2,
          3,
          4,
          5,
          6,
          7,
          8,
          9,
          10,
          11,
          12,
          1,
          2,
          3,
          4,
          5,
          6,
          7,
          8,
          9,
          10,
          11,
          12,
          1,
          2,
          3,
          4,
          5,
          6,
          7,
          8,
          9,
          10,
          11,
          12,
          1,
          2,
          3,
          4,
          5,
          6,
          7,
          8,
          9,
          10,
          11,
          12,
          1,
          2,
          3,
          4,
          5,
          6,
          7,
          8,
          9,
          10,
          11,
          12,
          1,
          2,
          3,
          4,
          5,
          6,
          7,
          8,
          9,
          10,
          11,
          12,
          1,
          2,
          3,
          4,
          5,
          6,
          7,
          8,
          9,
          10,
          11,
          12,
          1,
          2,
          3,
          4,
          5,
          6,
          7,
          8,
          9,
          10,
          11,
          12,
          1,
          2,
          3,
          4,
          5,
          6,
          7,
          8,
          9,
          10,
          11,
          12
         ],
         "y": [
          2002,
          2002,
          2002,
          2002,
          2002,
          2002,
          2003,
          2003,
          2003,
          2003,
          2003,
          2003,
          2003,
          2003,
          2003,
          2003,
          2003,
          2003,
          2004,
          2004,
          2004,
          2004,
          2004,
          2004,
          2004,
          2004,
          2004,
          2004,
          2004,
          2004,
          2005,
          2005,
          2005,
          2005,
          2005,
          2005,
          2005,
          2005,
          2005,
          2005,
          2005,
          2005,
          2006,
          2006,
          2006,
          2006,
          2006,
          2006,
          2006,
          2006,
          2006,
          2006,
          2006,
          2006,
          2007,
          2007,
          2007,
          2007,
          2007,
          2007,
          2007,
          2007,
          2007,
          2007,
          2007,
          2007,
          2008,
          2008,
          2008,
          2008,
          2008,
          2008,
          2008,
          2008,
          2008,
          2008,
          2008,
          2008,
          2009,
          2009,
          2009,
          2009,
          2009,
          2009,
          2009,
          2009,
          2009,
          2009,
          2009,
          2009,
          2010,
          2010,
          2010,
          2010,
          2010,
          2010,
          2010,
          2010,
          2010,
          2010,
          2010,
          2010,
          2011,
          2011,
          2011,
          2011,
          2011,
          2011,
          2011,
          2011,
          2011,
          2011,
          2011,
          2011,
          2012,
          2012,
          2012,
          2012,
          2012,
          2012,
          2012,
          2012,
          2012,
          2012,
          2012,
          2012,
          2013,
          2013,
          2013,
          2013,
          2013,
          2013,
          2013,
          2013,
          2013,
          2013,
          2013,
          2013,
          2014,
          2014,
          2014,
          2014,
          2014,
          2014,
          2014,
          2014,
          2014,
          2014,
          2014,
          2014,
          2015,
          2015,
          2015,
          2015,
          2015,
          2015,
          2015,
          2015,
          2015,
          2015,
          2015,
          2015,
          2016,
          2016,
          2016,
          2016,
          2016,
          2016,
          2016,
          2016,
          2016,
          2016,
          2016,
          2016,
          2017,
          2017,
          2017,
          2017,
          2017,
          2017,
          2017,
          2017,
          2017,
          2017,
          2017,
          2017,
          2018,
          2018,
          2018,
          2018,
          2018,
          2018,
          2018,
          2018,
          2018,
          2018,
          2018,
          2018
         ],
         "z": [
          50,
          25,
          25,
          5,
          0,
          5,
          25,
          75,
          75,
          75,
          75,
          75,
          25,
          5,
          5,
          5,
          5,
          25,
          5,
          50,
          50,
          75,
          75,
          50,
          50,
          25,
          25,
          5,
          5,
          5,
          25,
          50,
          25,
          75,
          50,
          75,
          50,
          50,
          25,
          25,
          25,
          25,
          5,
          25,
          50,
          50,
          50,
          50,
          50,
          25,
          25,
          25,
          5,
          0,
          5,
          25,
          75,
          75,
          95,
          50,
          50,
          50,
          50,
          25,
          5,
          25,
          50,
          50,
          50,
          75,
          95,
          75,
          25,
          5,
          25,
          25,
          25,
          5,
          25,
          50,
          95,
          75,
          75,
          75,
          50,
          50,
          50,
          25,
          5,
          0,
          25,
          25,
          25,
          75,
          50,
          50,
          50,
          25,
          5,
          25,
          5,
          5,
          5,
          50,
          50,
          95,
          75,
          50,
          50,
          5,
          5,
          5,
          0,
          0,
          50,
          75,
          95,
          50,
          50,
          75,
          25,
          25,
          5,
          0,
          0,
          0,
          5,
          50,
          5,
          75,
          75,
          75,
          50,
          25,
          5,
          5,
          0,
          5,
          50,
          50,
          75,
          75,
          50,
          75,
          75,
          5,
          5,
          25,
          5,
          50,
          75,
          75,
          95,
          95,
          75,
          95,
          50,
          75,
          25,
          5,
          5,
          25,
          25,
          75,
          75,
          50,
          95,
          50,
          25,
          50,
          25,
          5,
          5,
          25,
          25,
          75,
          95,
          75,
          75,
          75,
          50,
          25,
          50,
          25,
          0,
          25,
          25,
          50,
          50,
          75,
          75,
          75,
          25,
          25,
          5,
          25,
          5,
          5
         ]
        }
       ],
       "layout": {
        "font": {
         "color": "#7f7f7f"
        },
        "height": 450,
        "hovermode": "closest",
        "legend": {
         "bgcolor": "rgba(0,0,0,0)",
         "itemclick": false,
         "itemdoubleclick": false,
         "orientation": "h"
        },
        "margin": {
         "b": 0,
         "l": 0,
         "r": 0,
         "t": 0
        },
        "paper_bgcolor": "rgba(0,0,0,0)",
        "plot_bgcolor": "#f7fbfd",
        "shapes": [
         {
          "line": {
           "color": "White",
           "width": 3
          },
          "type": "line",
          "x0": 1.5,
          "x1": 1.5,
          "y0": 2001.5,
          "y1": 2019
         },
         {
          "line": {
           "color": "White",
           "width": 3
          },
          "type": "line",
          "x0": 2.5,
          "x1": 2.5,
          "y0": 2001.5,
          "y1": 2019
         },
         {
          "line": {
           "color": "White",
           "width": 3
          },
          "type": "line",
          "x0": 3.5,
          "x1": 3.5,
          "y0": 2001.5,
          "y1": 2019
         },
         {
          "line": {
           "color": "White",
           "width": 3
          },
          "type": "line",
          "x0": 4.5,
          "x1": 4.5,
          "y0": 2001.5,
          "y1": 2019
         },
         {
          "line": {
           "color": "White",
           "width": 3
          },
          "type": "line",
          "x0": 5.5,
          "x1": 5.5,
          "y0": 2001.5,
          "y1": 2019
         },
         {
          "line": {
           "color": "White",
           "width": 3
          },
          "type": "line",
          "x0": 6.5,
          "x1": 6.5,
          "y0": 2001.5,
          "y1": 2019
         },
         {
          "line": {
           "color": "White",
           "width": 3
          },
          "type": "line",
          "x0": 7.5,
          "x1": 7.5,
          "y0": 2001.5,
          "y1": 2019
         },
         {
          "line": {
           "color": "White",
           "width": 3
          },
          "type": "line",
          "x0": 8.5,
          "x1": 8.5,
          "y0": 2001.5,
          "y1": 2019
         },
         {
          "line": {
           "color": "White",
           "width": 3
          },
          "type": "line",
          "x0": 9.5,
          "x1": 9.5,
          "y0": 2001.5,
          "y1": 2019
         },
         {
          "line": {
           "color": "White",
           "width": 3
          },
          "type": "line",
          "x0": 10.5,
          "x1": 10.5,
          "y0": 2001.5,
          "y1": 2019
         },
         {
          "line": {
           "color": "White",
           "width": 3
          },
          "type": "line",
          "x0": 11.5,
          "x1": 11.5,
          "y0": 2001.5,
          "y1": 2019
         }
        ],
        "template": {
         "data": {
          "bar": [
           {
            "error_x": {
             "color": "#2a3f5f"
            },
            "error_y": {
             "color": "#2a3f5f"
            },
            "marker": {
             "line": {
              "color": "#E5ECF6",
              "width": 0.5
             }
            },
            "type": "bar"
           }
          ],
          "barpolar": [
           {
            "marker": {
             "line": {
              "color": "#E5ECF6",
              "width": 0.5
             }
            },
            "type": "barpolar"
           }
          ],
          "carpet": [
           {
            "aaxis": {
             "endlinecolor": "#2a3f5f",
             "gridcolor": "white",
             "linecolor": "white",
             "minorgridcolor": "white",
             "startlinecolor": "#2a3f5f"
            },
            "baxis": {
             "endlinecolor": "#2a3f5f",
             "gridcolor": "white",
             "linecolor": "white",
             "minorgridcolor": "white",
             "startlinecolor": "#2a3f5f"
            },
            "type": "carpet"
           }
          ],
          "choropleth": [
           {
            "colorbar": {
             "outlinewidth": 0,
             "ticks": ""
            },
            "type": "choropleth"
           }
          ],
          "contour": [
           {
            "colorbar": {
             "outlinewidth": 0,
             "ticks": ""
            },
            "colorscale": [
             [
              0,
              "#0d0887"
             ],
             [
              0.1111111111111111,
              "#46039f"
             ],
             [
              0.2222222222222222,
              "#7201a8"
             ],
             [
              0.3333333333333333,
              "#9c179e"
             ],
             [
              0.4444444444444444,
              "#bd3786"
             ],
             [
              0.5555555555555556,
              "#d8576b"
             ],
             [
              0.6666666666666666,
              "#ed7953"
             ],
             [
              0.7777777777777778,
              "#fb9f3a"
             ],
             [
              0.8888888888888888,
              "#fdca26"
             ],
             [
              1,
              "#f0f921"
             ]
            ],
            "type": "contour"
           }
          ],
          "contourcarpet": [
           {
            "colorbar": {
             "outlinewidth": 0,
             "ticks": ""
            },
            "type": "contourcarpet"
           }
          ],
          "heatmap": [
           {
            "colorbar": {
             "outlinewidth": 0,
             "ticks": ""
            },
            "colorscale": [
             [
              0,
              "#0d0887"
             ],
             [
              0.1111111111111111,
              "#46039f"
             ],
             [
              0.2222222222222222,
              "#7201a8"
             ],
             [
              0.3333333333333333,
              "#9c179e"
             ],
             [
              0.4444444444444444,
              "#bd3786"
             ],
             [
              0.5555555555555556,
              "#d8576b"
             ],
             [
              0.6666666666666666,
              "#ed7953"
             ],
             [
              0.7777777777777778,
              "#fb9f3a"
             ],
             [
              0.8888888888888888,
              "#fdca26"
             ],
             [
              1,
              "#f0f921"
             ]
            ],
            "type": "heatmap"
           }
          ],
          "heatmapgl": [
           {
            "colorbar": {
             "outlinewidth": 0,
             "ticks": ""
            },
            "colorscale": [
             [
              0,
              "#0d0887"
             ],
             [
              0.1111111111111111,
              "#46039f"
             ],
             [
              0.2222222222222222,
              "#7201a8"
             ],
             [
              0.3333333333333333,
              "#9c179e"
             ],
             [
              0.4444444444444444,
              "#bd3786"
             ],
             [
              0.5555555555555556,
              "#d8576b"
             ],
             [
              0.6666666666666666,
              "#ed7953"
             ],
             [
              0.7777777777777778,
              "#fb9f3a"
             ],
             [
              0.8888888888888888,
              "#fdca26"
             ],
             [
              1,
              "#f0f921"
             ]
            ],
            "type": "heatmapgl"
           }
          ],
          "histogram": [
           {
            "marker": {
             "colorbar": {
              "outlinewidth": 0,
              "ticks": ""
             }
            },
            "type": "histogram"
           }
          ],
          "histogram2d": [
           {
            "colorbar": {
             "outlinewidth": 0,
             "ticks": ""
            },
            "colorscale": [
             [
              0,
              "#0d0887"
             ],
             [
              0.1111111111111111,
              "#46039f"
             ],
             [
              0.2222222222222222,
              "#7201a8"
             ],
             [
              0.3333333333333333,
              "#9c179e"
             ],
             [
              0.4444444444444444,
              "#bd3786"
             ],
             [
              0.5555555555555556,
              "#d8576b"
             ],
             [
              0.6666666666666666,
              "#ed7953"
             ],
             [
              0.7777777777777778,
              "#fb9f3a"
             ],
             [
              0.8888888888888888,
              "#fdca26"
             ],
             [
              1,
              "#f0f921"
             ]
            ],
            "type": "histogram2d"
           }
          ],
          "histogram2dcontour": [
           {
            "colorbar": {
             "outlinewidth": 0,
             "ticks": ""
            },
            "colorscale": [
             [
              0,
              "#0d0887"
             ],
             [
              0.1111111111111111,
              "#46039f"
             ],
             [
              0.2222222222222222,
              "#7201a8"
             ],
             [
              0.3333333333333333,
              "#9c179e"
             ],
             [
              0.4444444444444444,
              "#bd3786"
             ],
             [
              0.5555555555555556,
              "#d8576b"
             ],
             [
              0.6666666666666666,
              "#ed7953"
             ],
             [
              0.7777777777777778,
              "#fb9f3a"
             ],
             [
              0.8888888888888888,
              "#fdca26"
             ],
             [
              1,
              "#f0f921"
             ]
            ],
            "type": "histogram2dcontour"
           }
          ],
          "mesh3d": [
           {
            "colorbar": {
             "outlinewidth": 0,
             "ticks": ""
            },
            "type": "mesh3d"
           }
          ],
          "parcoords": [
           {
            "line": {
             "colorbar": {
              "outlinewidth": 0,
              "ticks": ""
             }
            },
            "type": "parcoords"
           }
          ],
          "pie": [
           {
            "automargin": true,
            "type": "pie"
           }
          ],
          "scatter": [
           {
            "marker": {
             "colorbar": {
              "outlinewidth": 0,
              "ticks": ""
             }
            },
            "type": "scatter"
           }
          ],
          "scatter3d": [
           {
            "line": {
             "colorbar": {
              "outlinewidth": 0,
              "ticks": ""
             }
            },
            "marker": {
             "colorbar": {
              "outlinewidth": 0,
              "ticks": ""
             }
            },
            "type": "scatter3d"
           }
          ],
          "scattercarpet": [
           {
            "marker": {
             "colorbar": {
              "outlinewidth": 0,
              "ticks": ""
             }
            },
            "type": "scattercarpet"
           }
          ],
          "scattergeo": [
           {
            "marker": {
             "colorbar": {
              "outlinewidth": 0,
              "ticks": ""
             }
            },
            "type": "scattergeo"
           }
          ],
          "scattergl": [
           {
            "marker": {
             "colorbar": {
              "outlinewidth": 0,
              "ticks": ""
             }
            },
            "type": "scattergl"
           }
          ],
          "scattermapbox": [
           {
            "marker": {
             "colorbar": {
              "outlinewidth": 0,
              "ticks": ""
             }
            },
            "type": "scattermapbox"
           }
          ],
          "scatterpolar": [
           {
            "marker": {
             "colorbar": {
              "outlinewidth": 0,
              "ticks": ""
             }
            },
            "type": "scatterpolar"
           }
          ],
          "scatterpolargl": [
           {
            "marker": {
             "colorbar": {
              "outlinewidth": 0,
              "ticks": ""
             }
            },
            "type": "scatterpolargl"
           }
          ],
          "scatterternary": [
           {
            "marker": {
             "colorbar": {
              "outlinewidth": 0,
              "ticks": ""
             }
            },
            "type": "scatterternary"
           }
          ],
          "surface": [
           {
            "colorbar": {
             "outlinewidth": 0,
             "ticks": ""
            },
            "colorscale": [
             [
              0,
              "#0d0887"
             ],
             [
              0.1111111111111111,
              "#46039f"
             ],
             [
              0.2222222222222222,
              "#7201a8"
             ],
             [
              0.3333333333333333,
              "#9c179e"
             ],
             [
              0.4444444444444444,
              "#bd3786"
             ],
             [
              0.5555555555555556,
              "#d8576b"
             ],
             [
              0.6666666666666666,
              "#ed7953"
             ],
             [
              0.7777777777777778,
              "#fb9f3a"
             ],
             [
              0.8888888888888888,
              "#fdca26"
             ],
             [
              1,
              "#f0f921"
             ]
            ],
            "type": "surface"
           }
          ],
          "table": [
           {
            "cells": {
             "fill": {
              "color": "#EBF0F8"
             },
             "line": {
              "color": "white"
             }
            },
            "header": {
             "fill": {
              "color": "#C8D4E3"
             },
             "line": {
              "color": "white"
             }
            },
            "type": "table"
           }
          ]
         },
         "layout": {
          "annotationdefaults": {
           "arrowcolor": "#2a3f5f",
           "arrowhead": 0,
           "arrowwidth": 1
          },
          "autotypenumbers": "strict",
          "coloraxis": {
           "colorbar": {
            "outlinewidth": 0,
            "ticks": ""
           }
          },
          "colorscale": {
           "diverging": [
            [
             0,
             "#8e0152"
            ],
            [
             0.1,
             "#c51b7d"
            ],
            [
             0.2,
             "#de77ae"
            ],
            [
             0.3,
             "#f1b6da"
            ],
            [
             0.4,
             "#fde0ef"
            ],
            [
             0.5,
             "#f7f7f7"
            ],
            [
             0.6,
             "#e6f5d0"
            ],
            [
             0.7,
             "#b8e186"
            ],
            [
             0.8,
             "#7fbc41"
            ],
            [
             0.9,
             "#4d9221"
            ],
            [
             1,
             "#276419"
            ]
           ],
           "sequential": [
            [
             0,
             "#0d0887"
            ],
            [
             0.1111111111111111,
             "#46039f"
            ],
            [
             0.2222222222222222,
             "#7201a8"
            ],
            [
             0.3333333333333333,
             "#9c179e"
            ],
            [
             0.4444444444444444,
             "#bd3786"
            ],
            [
             0.5555555555555556,
             "#d8576b"
            ],
            [
             0.6666666666666666,
             "#ed7953"
            ],
            [
             0.7777777777777778,
             "#fb9f3a"
            ],
            [
             0.8888888888888888,
             "#fdca26"
            ],
            [
             1,
             "#f0f921"
            ]
           ],
           "sequentialminus": [
            [
             0,
             "#0d0887"
            ],
            [
             0.1111111111111111,
             "#46039f"
            ],
            [
             0.2222222222222222,
             "#7201a8"
            ],
            [
             0.3333333333333333,
             "#9c179e"
            ],
            [
             0.4444444444444444,
             "#bd3786"
            ],
            [
             0.5555555555555556,
             "#d8576b"
            ],
            [
             0.6666666666666666,
             "#ed7953"
            ],
            [
             0.7777777777777778,
             "#fb9f3a"
            ],
            [
             0.8888888888888888,
             "#fdca26"
            ],
            [
             1,
             "#f0f921"
            ]
           ]
          },
          "colorway": [
           "#636efa",
           "#EF553B",
           "#00cc96",
           "#ab63fa",
           "#FFA15A",
           "#19d3f3",
           "#FF6692",
           "#B6E880",
           "#FF97FF",
           "#FECB52"
          ],
          "font": {
           "color": "#2a3f5f"
          },
          "geo": {
           "bgcolor": "white",
           "lakecolor": "white",
           "landcolor": "#E5ECF6",
           "showlakes": true,
           "showland": true,
           "subunitcolor": "white"
          },
          "hoverlabel": {
           "align": "left"
          },
          "hovermode": "closest",
          "mapbox": {
           "style": "light"
          },
          "paper_bgcolor": "white",
          "plot_bgcolor": "#E5ECF6",
          "polar": {
           "angularaxis": {
            "gridcolor": "white",
            "linecolor": "white",
            "ticks": ""
           },
           "bgcolor": "#E5ECF6",
           "radialaxis": {
            "gridcolor": "white",
            "linecolor": "white",
            "ticks": ""
           }
          },
          "scene": {
           "xaxis": {
            "backgroundcolor": "#E5ECF6",
            "gridcolor": "white",
            "gridwidth": 2,
            "linecolor": "white",
            "showbackground": true,
            "ticks": "",
            "zerolinecolor": "white"
           },
           "yaxis": {
            "backgroundcolor": "#E5ECF6",
            "gridcolor": "white",
            "gridwidth": 2,
            "linecolor": "white",
            "showbackground": true,
            "ticks": "",
            "zerolinecolor": "white"
           },
           "zaxis": {
            "backgroundcolor": "#E5ECF6",
            "gridcolor": "white",
            "gridwidth": 2,
            "linecolor": "white",
            "showbackground": true,
            "ticks": "",
            "zerolinecolor": "white"
           }
          },
          "shapedefaults": {
           "line": {
            "color": "#2a3f5f"
           }
          },
          "ternary": {
           "aaxis": {
            "gridcolor": "white",
            "linecolor": "white",
            "ticks": ""
           },
           "baxis": {
            "gridcolor": "white",
            "linecolor": "white",
            "ticks": ""
           },
           "bgcolor": "#E5ECF6",
           "caxis": {
            "gridcolor": "white",
            "linecolor": "white",
            "ticks": ""
           }
          },
          "title": {
           "x": 0.05
          },
          "xaxis": {
           "automargin": true,
           "gridcolor": "white",
           "linecolor": "white",
           "ticks": "",
           "title": {
            "standoff": 15
           },
           "zerolinecolor": "white",
           "zerolinewidth": 2
          },
          "yaxis": {
           "automargin": true,
           "gridcolor": "white",
           "linecolor": "white",
           "ticks": "",
           "title": {
            "standoff": 15
           },
           "zerolinecolor": "white",
           "zerolinewidth": 2
          }
         }
        },
        "xaxis": {
         "fixedrange": true,
         "showgrid": false,
         "ticktext": [
          "Jan",
          "Feb",
          "Mar",
          "Apr",
          "May",
          "June",
          "July",
          "Aug",
          "Sep",
          "Oct",
          "Nov",
          "Dec"
         ],
         "tickvals": [
          1,
          2,
          3,
          4,
          5,
          6,
          7,
          8,
          9,
          10,
          11,
          12
         ],
         "title": {
          "text": "Month"
         }
        },
        "yaxis": {
         "fixedrange": true,
         "nticks": 12,
         "title": {
          "text": "Year"
         }
        }
       }
      },
      "text/html": [
       "<div>                            <div id=\"16c15d9e-d467-463c-88b4-c307a9c06e66\" class=\"plotly-graph-div\" style=\"height:450px; width:100%;\"></div>            <script type=\"text/javascript\">                require([\"plotly\"], function(Plotly) {                    window.PLOTLYENV=window.PLOTLYENV || {};                                    if (document.getElementById(\"16c15d9e-d467-463c-88b4-c307a9c06e66\")) {                    Plotly.newPlot(                        \"16c15d9e-d467-463c-88b4-c307a9c06e66\",                        [{\"colorbar\": {\"len\": 0.9, \"thickness\": 10, \"tickmode\": \"array\", \"ticktext\": [\"<b>Min.</b> (0.56)\", \"<b> 5%</b> (0.6)\", \"<b>25%</b> (0.66)\", \"<b>50%</b> (0.73)\", \"<b>75%</b> (0.81)\", \"<b>95%</b> (0.92)\"], \"tickvals\": [0, 5, 24, 47, 71, 90], \"title\": {\"text\": \"<b>Percentile</b> (mg/m\\u00b3)\"}}, \"colorscale\": [[0, \"rgb(98, 55, 155)\"], [0.05, \"rgb(98, 55, 155)\"], [0.05, \"rgb(184, 197, 229)\"], [0.25, \"rgb(184, 197, 229)\"], [0.25, \"rgb(166, 206, 93)\"], [0.5, \"rgb(166, 206, 93)\"], [0.5, \"rgb(255, 254, 66)\"], [0.75, \"rgb(255, 254, 66)\"], [0.75, \"rgb(239, 191, 49)\"], [0.95, \"rgb(239, 191, 49)\"], [0.95, \"rgb(219, 32, 1)\"], [1.0, \"rgb(219, 32, 1)\"]], \"hovertemplate\": \"%{x} %{y}<br>Concentration: %{text:.2f} mg/m\\u00b3<extra></extra>\", \"text\": [0.763751566, 0.691568911, 0.662792921, 0.623881876, 0.573929727, 0.610733271, 0.70742023, 0.853922248, 0.915418863, 0.884177446, 0.835177839, 0.820459902, 0.662394404, 0.639343023, 0.653258383, 0.612514675, 0.63446933, 0.722083986, 0.653625011, 0.801912963, 0.805917084, 0.813076973, 0.86082983, 0.79601419, 0.784401715, 0.706811726, 0.685914218, 0.650080085, 0.630585551, 0.624872923, 0.72148186, 0.733203948, 0.706341565, 0.867605686, 0.794473052, 0.84604907, 0.796979249, 0.729996443, 0.685887754, 0.673085868, 0.664495766, 0.709244192, 0.638954461, 0.691399634, 0.738989532, 0.809809446, 0.795678735, 0.810595691, 0.767165542, 0.669963896, 0.69640398, 0.673666298, 0.606308818, 0.567777514, 0.653272927, 0.724879146, 0.859643757, 0.897752523, 0.922905087, 0.790005207, 0.767839134, 0.741806746, 0.726511776, 0.710671008, 0.613205135, 0.691561937, 0.751256704, 0.744497895, 0.782925069, 0.887383044, 0.991565585, 0.817980468, 0.661193311, 0.656874895, 0.704048157, 0.695462883, 0.694165051, 0.642137349, 0.692598164, 0.800880194, 0.960105121, 0.91638869, 0.864152491, 0.888479829, 0.806990802, 0.77007997, 0.773828506, 0.699396312, 0.620087862, 0.586479545, 0.662319005, 0.687470376, 0.704805493, 0.915809751, 0.735580564, 0.775883973, 0.73233068, 0.679286897, 0.602186739, 0.665838003, 0.642695844, 0.63494879, 0.614983559, 0.74083966, 0.792762697, 1.0004158, 0.836666882, 0.735627174, 0.765091121, 0.649210513, 0.620576501, 0.650066555, 0.59968257, 0.572369218, 0.762176096, 0.836726248, 0.997555554, 0.78270185, 0.768390596, 0.815661192, 0.695227027, 0.667777658, 0.628847063, 0.600859225, 0.564792454, 0.589662015, 0.63986063, 0.767733932, 0.640694559, 0.819499493, 0.824561, 0.903687358, 0.788363636, 0.660923719, 0.621981025, 0.646778643, 0.585386932, 0.655808926, 0.743417323, 0.75948441, 0.895827174, 0.908129632, 0.812405825, 0.814675868, 0.837693214, 0.615669966, 0.628371716, 0.660224795, 0.633954883, 0.741389215, 0.824724078, 0.896061778, 0.951704204, 1.00988352, 0.875513375, 0.929897547, 0.796597123, 0.81537497, 0.692899525, 0.636967003, 0.614306927, 0.684685469, 0.658339143, 0.906926572, 0.815348923, 0.772949517, 0.997485936, 0.8098194, 0.688531518, 0.762586474, 0.715769053, 0.631838739, 0.61187613, 0.685957491, 0.724215686, 0.872148633, 0.933803976, 0.843753695, 0.824288487, 0.843677461, 0.812674224, 0.685669243, 0.733970821, 0.675984204, 0.590250015, 0.686144829, 0.662620842, 0.771036506, 0.735631704, 0.921568334, 0.916579425, 0.829522908, 0.702350795, 0.675141275, 0.641917765, 0.682938159, 0.611666262, 0.657973707], \"type\": \"heatmap\", \"x\": [7, 8, 9, 10, 11, 12, 1, 2, 3, 4, 5, 6, 7, 8, 9, 10, 11, 12, 1, 2, 3, 4, 5, 6, 7, 8, 9, 10, 11, 12, 1, 2, 3, 4, 5, 6, 7, 8, 9, 10, 11, 12, 1, 2, 3, 4, 5, 6, 7, 8, 9, 10, 11, 12, 1, 2, 3, 4, 5, 6, 7, 8, 9, 10, 11, 12, 1, 2, 3, 4, 5, 6, 7, 8, 9, 10, 11, 12, 1, 2, 3, 4, 5, 6, 7, 8, 9, 10, 11, 12, 1, 2, 3, 4, 5, 6, 7, 8, 9, 10, 11, 12, 1, 2, 3, 4, 5, 6, 7, 8, 9, 10, 11, 12, 1, 2, 3, 4, 5, 6, 7, 8, 9, 10, 11, 12, 1, 2, 3, 4, 5, 6, 7, 8, 9, 10, 11, 12, 1, 2, 3, 4, 5, 6, 7, 8, 9, 10, 11, 12, 1, 2, 3, 4, 5, 6, 7, 8, 9, 10, 11, 12, 1, 2, 3, 4, 5, 6, 7, 8, 9, 10, 11, 12, 1, 2, 3, 4, 5, 6, 7, 8, 9, 10, 11, 12, 1, 2, 3, 4, 5, 6, 7, 8, 9, 10, 11, 12], \"y\": [2002, 2002, 2002, 2002, 2002, 2002, 2003, 2003, 2003, 2003, 2003, 2003, 2003, 2003, 2003, 2003, 2003, 2003, 2004, 2004, 2004, 2004, 2004, 2004, 2004, 2004, 2004, 2004, 2004, 2004, 2005, 2005, 2005, 2005, 2005, 2005, 2005, 2005, 2005, 2005, 2005, 2005, 2006, 2006, 2006, 2006, 2006, 2006, 2006, 2006, 2006, 2006, 2006, 2006, 2007, 2007, 2007, 2007, 2007, 2007, 2007, 2007, 2007, 2007, 2007, 2007, 2008, 2008, 2008, 2008, 2008, 2008, 2008, 2008, 2008, 2008, 2008, 2008, 2009, 2009, 2009, 2009, 2009, 2009, 2009, 2009, 2009, 2009, 2009, 2009, 2010, 2010, 2010, 2010, 2010, 2010, 2010, 2010, 2010, 2010, 2010, 2010, 2011, 2011, 2011, 2011, 2011, 2011, 2011, 2011, 2011, 2011, 2011, 2011, 2012, 2012, 2012, 2012, 2012, 2012, 2012, 2012, 2012, 2012, 2012, 2012, 2013, 2013, 2013, 2013, 2013, 2013, 2013, 2013, 2013, 2013, 2013, 2013, 2014, 2014, 2014, 2014, 2014, 2014, 2014, 2014, 2014, 2014, 2014, 2014, 2015, 2015, 2015, 2015, 2015, 2015, 2015, 2015, 2015, 2015, 2015, 2015, 2016, 2016, 2016, 2016, 2016, 2016, 2016, 2016, 2016, 2016, 2016, 2016, 2017, 2017, 2017, 2017, 2017, 2017, 2017, 2017, 2017, 2017, 2017, 2017, 2018, 2018, 2018, 2018, 2018, 2018, 2018, 2018, 2018, 2018, 2018, 2018], \"z\": [50, 25, 25, 5, 0, 5, 25, 75, 75, 75, 75, 75, 25, 5, 5, 5, 5, 25, 5, 50, 50, 75, 75, 50, 50, 25, 25, 5, 5, 5, 25, 50, 25, 75, 50, 75, 50, 50, 25, 25, 25, 25, 5, 25, 50, 50, 50, 50, 50, 25, 25, 25, 5, 0, 5, 25, 75, 75, 95, 50, 50, 50, 50, 25, 5, 25, 50, 50, 50, 75, 95, 75, 25, 5, 25, 25, 25, 5, 25, 50, 95, 75, 75, 75, 50, 50, 50, 25, 5, 0, 25, 25, 25, 75, 50, 50, 50, 25, 5, 25, 5, 5, 5, 50, 50, 95, 75, 50, 50, 5, 5, 5, 0, 0, 50, 75, 95, 50, 50, 75, 25, 25, 5, 0, 0, 0, 5, 50, 5, 75, 75, 75, 50, 25, 5, 5, 0, 5, 50, 50, 75, 75, 50, 75, 75, 5, 5, 25, 5, 50, 75, 75, 95, 95, 75, 95, 50, 75, 25, 5, 5, 25, 25, 75, 75, 50, 95, 50, 25, 50, 25, 5, 5, 25, 25, 75, 95, 75, 75, 75, 50, 25, 50, 25, 0, 25, 25, 50, 50, 75, 75, 75, 25, 25, 5, 25, 5, 5]}],                        {\"font\": {\"color\": \"#7f7f7f\"}, \"height\": 450, \"hovermode\": \"closest\", \"legend\": {\"bgcolor\": \"rgba(0,0,0,0)\", \"itemclick\": false, \"itemdoubleclick\": false, \"orientation\": \"h\"}, \"margin\": {\"b\": 0, \"l\": 0, \"r\": 0, \"t\": 0}, \"paper_bgcolor\": \"rgba(0,0,0,0)\", \"plot_bgcolor\": \"#f7fbfd\", \"shapes\": [{\"line\": {\"color\": \"White\", \"width\": 3}, \"type\": \"line\", \"x0\": 1.5, \"x1\": 1.5, \"y0\": 2001.5, \"y1\": 2019}, {\"line\": {\"color\": \"White\", \"width\": 3}, \"type\": \"line\", \"x0\": 2.5, \"x1\": 2.5, \"y0\": 2001.5, \"y1\": 2019}, {\"line\": {\"color\": \"White\", \"width\": 3}, \"type\": \"line\", \"x0\": 3.5, \"x1\": 3.5, \"y0\": 2001.5, \"y1\": 2019}, {\"line\": {\"color\": \"White\", \"width\": 3}, \"type\": \"line\", \"x0\": 4.5, \"x1\": 4.5, \"y0\": 2001.5, \"y1\": 2019}, {\"line\": {\"color\": \"White\", \"width\": 3}, \"type\": \"line\", \"x0\": 5.5, \"x1\": 5.5, \"y0\": 2001.5, \"y1\": 2019}, {\"line\": {\"color\": \"White\", \"width\": 3}, \"type\": \"line\", \"x0\": 6.5, \"x1\": 6.5, \"y0\": 2001.5, \"y1\": 2019}, {\"line\": {\"color\": \"White\", \"width\": 3}, \"type\": \"line\", \"x0\": 7.5, \"x1\": 7.5, \"y0\": 2001.5, \"y1\": 2019}, {\"line\": {\"color\": \"White\", \"width\": 3}, \"type\": \"line\", \"x0\": 8.5, \"x1\": 8.5, \"y0\": 2001.5, \"y1\": 2019}, {\"line\": {\"color\": \"White\", \"width\": 3}, \"type\": \"line\", \"x0\": 9.5, \"x1\": 9.5, \"y0\": 2001.5, \"y1\": 2019}, {\"line\": {\"color\": \"White\", \"width\": 3}, \"type\": \"line\", \"x0\": 10.5, \"x1\": 10.5, \"y0\": 2001.5, \"y1\": 2019}, {\"line\": {\"color\": \"White\", \"width\": 3}, \"type\": \"line\", \"x0\": 11.5, \"x1\": 11.5, \"y0\": 2001.5, \"y1\": 2019}], \"template\": {\"data\": {\"bar\": [{\"error_x\": {\"color\": \"#2a3f5f\"}, \"error_y\": {\"color\": \"#2a3f5f\"}, \"marker\": {\"line\": {\"color\": \"#E5ECF6\", \"width\": 0.5}}, \"type\": \"bar\"}], \"barpolar\": [{\"marker\": {\"line\": {\"color\": \"#E5ECF6\", \"width\": 0.5}}, \"type\": \"barpolar\"}], \"carpet\": [{\"aaxis\": {\"endlinecolor\": \"#2a3f5f\", \"gridcolor\": \"white\", \"linecolor\": \"white\", \"minorgridcolor\": \"white\", \"startlinecolor\": \"#2a3f5f\"}, \"baxis\": {\"endlinecolor\": \"#2a3f5f\", \"gridcolor\": \"white\", \"linecolor\": \"white\", \"minorgridcolor\": \"white\", \"startlinecolor\": \"#2a3f5f\"}, \"type\": \"carpet\"}], \"choropleth\": [{\"colorbar\": {\"outlinewidth\": 0, \"ticks\": \"\"}, \"type\": \"choropleth\"}], \"contour\": [{\"colorbar\": {\"outlinewidth\": 0, \"ticks\": \"\"}, \"colorscale\": [[0.0, \"#0d0887\"], [0.1111111111111111, \"#46039f\"], [0.2222222222222222, \"#7201a8\"], [0.3333333333333333, \"#9c179e\"], [0.4444444444444444, \"#bd3786\"], [0.5555555555555556, \"#d8576b\"], [0.6666666666666666, \"#ed7953\"], [0.7777777777777778, \"#fb9f3a\"], [0.8888888888888888, \"#fdca26\"], [1.0, \"#f0f921\"]], \"type\": \"contour\"}], \"contourcarpet\": [{\"colorbar\": {\"outlinewidth\": 0, \"ticks\": \"\"}, \"type\": \"contourcarpet\"}], \"heatmap\": [{\"colorbar\": {\"outlinewidth\": 0, \"ticks\": \"\"}, \"colorscale\": [[0.0, \"#0d0887\"], [0.1111111111111111, \"#46039f\"], [0.2222222222222222, \"#7201a8\"], [0.3333333333333333, \"#9c179e\"], [0.4444444444444444, \"#bd3786\"], [0.5555555555555556, \"#d8576b\"], [0.6666666666666666, \"#ed7953\"], [0.7777777777777778, \"#fb9f3a\"], [0.8888888888888888, \"#fdca26\"], [1.0, \"#f0f921\"]], \"type\": \"heatmap\"}], \"heatmapgl\": [{\"colorbar\": {\"outlinewidth\": 0, \"ticks\": \"\"}, \"colorscale\": [[0.0, \"#0d0887\"], [0.1111111111111111, \"#46039f\"], [0.2222222222222222, \"#7201a8\"], [0.3333333333333333, \"#9c179e\"], [0.4444444444444444, \"#bd3786\"], [0.5555555555555556, \"#d8576b\"], [0.6666666666666666, \"#ed7953\"], [0.7777777777777778, \"#fb9f3a\"], [0.8888888888888888, \"#fdca26\"], [1.0, \"#f0f921\"]], \"type\": \"heatmapgl\"}], \"histogram\": [{\"marker\": {\"colorbar\": {\"outlinewidth\": 0, \"ticks\": \"\"}}, \"type\": \"histogram\"}], \"histogram2d\": [{\"colorbar\": {\"outlinewidth\": 0, \"ticks\": \"\"}, \"colorscale\": [[0.0, \"#0d0887\"], [0.1111111111111111, \"#46039f\"], [0.2222222222222222, \"#7201a8\"], [0.3333333333333333, \"#9c179e\"], [0.4444444444444444, \"#bd3786\"], [0.5555555555555556, \"#d8576b\"], [0.6666666666666666, \"#ed7953\"], [0.7777777777777778, \"#fb9f3a\"], [0.8888888888888888, \"#fdca26\"], [1.0, \"#f0f921\"]], \"type\": \"histogram2d\"}], \"histogram2dcontour\": [{\"colorbar\": {\"outlinewidth\": 0, \"ticks\": \"\"}, \"colorscale\": [[0.0, \"#0d0887\"], [0.1111111111111111, \"#46039f\"], [0.2222222222222222, \"#7201a8\"], [0.3333333333333333, \"#9c179e\"], [0.4444444444444444, \"#bd3786\"], [0.5555555555555556, \"#d8576b\"], [0.6666666666666666, \"#ed7953\"], [0.7777777777777778, \"#fb9f3a\"], [0.8888888888888888, \"#fdca26\"], [1.0, \"#f0f921\"]], \"type\": \"histogram2dcontour\"}], \"mesh3d\": [{\"colorbar\": {\"outlinewidth\": 0, \"ticks\": \"\"}, \"type\": \"mesh3d\"}], \"parcoords\": [{\"line\": {\"colorbar\": {\"outlinewidth\": 0, \"ticks\": \"\"}}, \"type\": \"parcoords\"}], \"pie\": [{\"automargin\": true, \"type\": \"pie\"}], \"scatter\": [{\"marker\": {\"colorbar\": {\"outlinewidth\": 0, \"ticks\": \"\"}}, \"type\": \"scatter\"}], \"scatter3d\": [{\"line\": {\"colorbar\": {\"outlinewidth\": 0, \"ticks\": \"\"}}, \"marker\": {\"colorbar\": {\"outlinewidth\": 0, \"ticks\": \"\"}}, \"type\": \"scatter3d\"}], \"scattercarpet\": [{\"marker\": {\"colorbar\": {\"outlinewidth\": 0, \"ticks\": \"\"}}, \"type\": \"scattercarpet\"}], \"scattergeo\": [{\"marker\": {\"colorbar\": {\"outlinewidth\": 0, \"ticks\": \"\"}}, \"type\": \"scattergeo\"}], \"scattergl\": [{\"marker\": {\"colorbar\": {\"outlinewidth\": 0, \"ticks\": \"\"}}, \"type\": \"scattergl\"}], \"scattermapbox\": [{\"marker\": {\"colorbar\": {\"outlinewidth\": 0, \"ticks\": \"\"}}, \"type\": \"scattermapbox\"}], \"scatterpolar\": [{\"marker\": {\"colorbar\": {\"outlinewidth\": 0, \"ticks\": \"\"}}, \"type\": \"scatterpolar\"}], \"scatterpolargl\": [{\"marker\": {\"colorbar\": {\"outlinewidth\": 0, \"ticks\": \"\"}}, \"type\": \"scatterpolargl\"}], \"scatterternary\": [{\"marker\": {\"colorbar\": {\"outlinewidth\": 0, \"ticks\": \"\"}}, \"type\": \"scatterternary\"}], \"surface\": [{\"colorbar\": {\"outlinewidth\": 0, \"ticks\": \"\"}, \"colorscale\": [[0.0, \"#0d0887\"], [0.1111111111111111, \"#46039f\"], [0.2222222222222222, \"#7201a8\"], [0.3333333333333333, \"#9c179e\"], [0.4444444444444444, \"#bd3786\"], [0.5555555555555556, \"#d8576b\"], [0.6666666666666666, \"#ed7953\"], [0.7777777777777778, \"#fb9f3a\"], [0.8888888888888888, \"#fdca26\"], [1.0, \"#f0f921\"]], \"type\": \"surface\"}], \"table\": [{\"cells\": {\"fill\": {\"color\": \"#EBF0F8\"}, \"line\": {\"color\": \"white\"}}, \"header\": {\"fill\": {\"color\": \"#C8D4E3\"}, \"line\": {\"color\": \"white\"}}, \"type\": \"table\"}]}, \"layout\": {\"annotationdefaults\": {\"arrowcolor\": \"#2a3f5f\", \"arrowhead\": 0, \"arrowwidth\": 1}, \"autotypenumbers\": \"strict\", \"coloraxis\": {\"colorbar\": {\"outlinewidth\": 0, \"ticks\": \"\"}}, \"colorscale\": {\"diverging\": [[0, \"#8e0152\"], [0.1, \"#c51b7d\"], [0.2, \"#de77ae\"], [0.3, \"#f1b6da\"], [0.4, \"#fde0ef\"], [0.5, \"#f7f7f7\"], [0.6, \"#e6f5d0\"], [0.7, \"#b8e186\"], [0.8, \"#7fbc41\"], [0.9, \"#4d9221\"], [1, \"#276419\"]], \"sequential\": [[0.0, \"#0d0887\"], [0.1111111111111111, \"#46039f\"], [0.2222222222222222, \"#7201a8\"], [0.3333333333333333, \"#9c179e\"], [0.4444444444444444, \"#bd3786\"], [0.5555555555555556, \"#d8576b\"], [0.6666666666666666, \"#ed7953\"], [0.7777777777777778, \"#fb9f3a\"], [0.8888888888888888, \"#fdca26\"], [1.0, \"#f0f921\"]], \"sequentialminus\": [[0.0, \"#0d0887\"], [0.1111111111111111, \"#46039f\"], [0.2222222222222222, \"#7201a8\"], [0.3333333333333333, \"#9c179e\"], [0.4444444444444444, \"#bd3786\"], [0.5555555555555556, \"#d8576b\"], [0.6666666666666666, \"#ed7953\"], [0.7777777777777778, \"#fb9f3a\"], [0.8888888888888888, \"#fdca26\"], [1.0, \"#f0f921\"]]}, \"colorway\": [\"#636efa\", \"#EF553B\", \"#00cc96\", \"#ab63fa\", \"#FFA15A\", \"#19d3f3\", \"#FF6692\", \"#B6E880\", \"#FF97FF\", \"#FECB52\"], \"font\": {\"color\": \"#2a3f5f\"}, \"geo\": {\"bgcolor\": \"white\", \"lakecolor\": \"white\", \"landcolor\": \"#E5ECF6\", \"showlakes\": true, \"showland\": true, \"subunitcolor\": \"white\"}, \"hoverlabel\": {\"align\": \"left\"}, \"hovermode\": \"closest\", \"mapbox\": {\"style\": \"light\"}, \"paper_bgcolor\": \"white\", \"plot_bgcolor\": \"#E5ECF6\", \"polar\": {\"angularaxis\": {\"gridcolor\": \"white\", \"linecolor\": \"white\", \"ticks\": \"\"}, \"bgcolor\": \"#E5ECF6\", \"radialaxis\": {\"gridcolor\": \"white\", \"linecolor\": \"white\", \"ticks\": \"\"}}, \"scene\": {\"xaxis\": {\"backgroundcolor\": \"#E5ECF6\", \"gridcolor\": \"white\", \"gridwidth\": 2, \"linecolor\": \"white\", \"showbackground\": true, \"ticks\": \"\", \"zerolinecolor\": \"white\"}, \"yaxis\": {\"backgroundcolor\": \"#E5ECF6\", \"gridcolor\": \"white\", \"gridwidth\": 2, \"linecolor\": \"white\", \"showbackground\": true, \"ticks\": \"\", \"zerolinecolor\": \"white\"}, \"zaxis\": {\"backgroundcolor\": \"#E5ECF6\", \"gridcolor\": \"white\", \"gridwidth\": 2, \"linecolor\": \"white\", \"showbackground\": true, \"ticks\": \"\", \"zerolinecolor\": \"white\"}}, \"shapedefaults\": {\"line\": {\"color\": \"#2a3f5f\"}}, \"ternary\": {\"aaxis\": {\"gridcolor\": \"white\", \"linecolor\": \"white\", \"ticks\": \"\"}, \"baxis\": {\"gridcolor\": \"white\", \"linecolor\": \"white\", \"ticks\": \"\"}, \"bgcolor\": \"#E5ECF6\", \"caxis\": {\"gridcolor\": \"white\", \"linecolor\": \"white\", \"ticks\": \"\"}}, \"title\": {\"x\": 0.05}, \"xaxis\": {\"automargin\": true, \"gridcolor\": \"white\", \"linecolor\": \"white\", \"ticks\": \"\", \"title\": {\"standoff\": 15}, \"zerolinecolor\": \"white\", \"zerolinewidth\": 2}, \"yaxis\": {\"automargin\": true, \"gridcolor\": \"white\", \"linecolor\": \"white\", \"ticks\": \"\", \"title\": {\"standoff\": 15}, \"zerolinecolor\": \"white\", \"zerolinewidth\": 2}}}, \"xaxis\": {\"fixedrange\": true, \"showgrid\": false, \"ticktext\": [\"Jan\", \"Feb\", \"Mar\", \"Apr\", \"May\", \"June\", \"July\", \"Aug\", \"Sep\", \"Oct\", \"Nov\", \"Dec\"], \"tickvals\": [1, 2, 3, 4, 5, 6, 7, 8, 9, 10, 11, 12], \"title\": {\"text\": \"Month\"}}, \"yaxis\": {\"fixedrange\": true, \"nticks\": 12, \"title\": {\"text\": \"Year\"}}},                        {\"responsive\": true}                    ).then(function(){\n",
       "                            \n",
       "var gd = document.getElementById('16c15d9e-d467-463c-88b4-c307a9c06e66');\n",
       "var x = new MutationObserver(function (mutations, observer) {{\n",
       "        var display = window.getComputedStyle(gd).display;\n",
       "        if (!display || display === 'none') {{\n",
       "            console.log([gd, 'removed!']);\n",
       "            Plotly.purge(gd);\n",
       "            observer.disconnect();\n",
       "        }}\n",
       "}});\n",
       "\n",
       "// Listen for the removal of the full notebook cells\n",
       "var notebookContainer = gd.closest('#notebook-container');\n",
       "if (notebookContainer) {{\n",
       "    x.observe(notebookContainer, {childList: true});\n",
       "}}\n",
       "\n",
       "// Listen for the clearing of the current output cell\n",
       "var outputEl = gd.closest('.output');\n",
       "if (outputEl) {{\n",
       "    x.observe(outputEl, {childList: true});\n",
       "}}\n",
       "\n",
       "                        })                };                });            </script>        </div>"
      ]
     },
     "metadata": {},
     "output_type": "display_data"
    }
   ],
   "source": [
    "\n",
    "trace = go.Heatmap(\n",
    "    z=df['percentile'],\n",
    "    x=df['datetime'].dt.month,\n",
    "    y=df['datetime'].dt.year,\n",
    "    text=df['mean__monthly__mass_concentration_of_chlorophyll_a_in_sea_water'],\n",
    "    colorscale=PERCENTILE_COLORSCALE, \n",
    "    colorbar=dict(\n",
    "                tickmode='array',\n",
    "                thickness=10,\n",
    "                len=0.9,\n",
    "        \n",
    "    title='<b>Percentile</b> (mg/m\\u00B3)',\n",
    "            ticktext=[\n",
    "                '<b>Min.</b> (0.56)', \n",
    "                '<b> 5%</b> (0.6)', \n",
    "                '<b>25%</b> (0.66)', \n",
    "                '<b>50%</b> (0.73)',\n",
    "                '<b>75%</b> (0.81)', \n",
    "                '<b>95%</b> (0.92)'],\n",
    "            tickvals=[0,5,24,47, 71, 90]  \n",
    "    ),\n",
    "    hovertemplate='%{x} %{y}<br>'+\n",
    "    'Concentration: %{text:.2f} mg/m\\u00B3<extra></extra>'\n",
    ")\n",
    "figure_3_20 = go.Figure(data=trace, layout=TIMESERIES_LAYOUT)\n",
    "figure_3_20.update_layout(\n",
    "yaxis=dict(\n",
    "    title='Year',\n",
    "    nticks=12),\n",
    "xaxis=dict(\n",
    "    title='Month',\n",
    "    ticktext=['Jan','Feb','Mar','Apr','May','June','July','Aug','Sep','Oct','Nov','Dec'],\n",
    "    showgrid=False,\n",
    "   tickvals=[1, 2, 3, 4, 5, 6, 7, 8, 9, 10, 11, 12],\n",
    "))\n",
    "\n",
    "# Include white lines as xaxis gridlines\n",
    "x0=1.5\n",
    "for i in range(0,11):\n",
    "    figure_3_20.add_shape(type='line',\n",
    "                        x0=x0, y0=2001.5, x1=x0, y1=2019,\n",
    "                        line=dict(color='White', width=3))\n",
    "    x0+=1\n",
    "\n",
    "figure_3_20"
   ]
  },
  {
   "cell_type": "code",
   "execution_count": null,
   "id": "residential-disabled",
   "metadata": {},
   "outputs": [],
   "source": []
  },
  {
   "cell_type": "code",
   "execution_count": null,
   "id": "postal-ancient",
   "metadata": {},
   "outputs": [],
   "source": []
  }
 ],
 "metadata": {
  "kernelspec": {
   "display_name": "Python 3",
   "language": "python",
   "name": "python3"
  },
  "language_info": {
   "codemirror_mode": {
    "name": "ipython",
    "version": 3
   },
   "file_extension": ".py",
   "mimetype": "text/x-python",
   "name": "python",
   "nbconvert_exporter": "python",
   "pygments_lexer": "ipython3",
   "version": "3.8.2"
  }
 },
 "nbformat": 4,
 "nbformat_minor": 5
}
