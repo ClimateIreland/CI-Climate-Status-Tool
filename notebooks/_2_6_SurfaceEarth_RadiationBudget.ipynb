{
 "cells": [
  {
   "cell_type": "code",
   "execution_count": null,
   "source": [
    "# to access root modules\n",
    "if __name__ == \"__main__\" and __package__ is None:\n",
    "    from sys import path\n",
    "    from os.path import dirname as dir\n",
    "    path.append(dir(path[0])+'/dash_app')\n",
    "    __package__ = \"dash_app\""
   ],
   "outputs": [],
   "metadata": {}
  },
  {
   "cell_type": "code",
   "execution_count": null,
   "source": [
    "import pandas as pd\n",
    "import numpy as np\n",
    "import datetime\n",
    "import dateutil\n",
    "import plotly.graph_objects as go\n",
    "from plotly.subplots import make_subplots\n",
    "from charts import stations_map, map_columns, stations_map_hovertemplate\n",
    "from settings import *\n"
   ],
   "outputs": [],
   "metadata": {}
  },
  {
   "cell_type": "code",
   "execution_count": null,
   "source": [
    "data_path = DATA_PATH+'Atmospheric_Domain/2.6SurfaceEarth_RadiationBudget/Figure2.11/'\n",
    "data_csv = data_path + 'Figure2.11_data.csv'"
   ],
   "outputs": [],
   "metadata": {}
  },
  {
   "cell_type": "code",
   "execution_count": null,
   "source": [
    "\"\"\"\n",
    "Tidy data for charts\n",
    "\"\"\"\n",
    "columns_dict = {'datetime':'year.1',\n",
    "               'sum__annual__solar_radiation':'Annual Radiation',\n",
    "               'moving_average_of_sum__5year__solar_radiation':'5 year moving average',\n",
    "                  }\n",
    "xls = pd.ExcelFile(\n",
    "    data_path+'AnnualSolarRadiationatValentiaObservatory_1955_2019.xlsx')\n",
    "original_df = pd.read_excel(xls, 'NewDataset', usecols=[7,10,11], skiprows=[0])\n",
    "df = map_columns(columns_dict, original_df)\n",
    "df = df[df['datetime'].notna()]\n",
    "df = df[(df['sum__annual__solar_radiation'].notna()) | (df['moving_average_of_sum__5year__solar_radiation'].notna())]\n",
    "df['datetime'] = pd.to_datetime(df['datetime'],format='%Y')\n",
    "df['location'] = 'Valentia'\n",
    "# df.to_csv(data_csv) #commented out as the file should be kept as is"
   ],
   "outputs": [],
   "metadata": {}
  },
  {
   "cell_type": "code",
   "execution_count": null,
   "source": [
    "df = pd.read_csv(data_csv, index_col=0)\n",
    "df"
   ],
   "outputs": [],
   "metadata": {}
  },
  {
   "cell_type": "code",
   "execution_count": null,
   "source": [
    "data_path = DATA_PATH+'Atmospheric_Domain/2.6SurfaceEarth_RadiationBudget/Figure2.11/'\n",
    "data_csv = data_path + 'Figure2.11_data.csv'\n",
    "df = pd.read_csv(data_csv, index_col=0)\n",
    "sum_annual_trace = go.Scatter(x=df['datetime'],\n",
    "                            y=df['sum__annual__solar_radiation'],\n",
    "                         name='Annual Radiation',\n",
    "                         mode='markers+lines',\n",
    "                         marker=dict(color=TIMESERIES_COLOR_2,\n",
    "                                     size=5,\n",
    "                                     opacity=0.5),\n",
    "                         line=dict(color=TIMESERIES_COLOR_2,\n",
    "                                      width=1),\n",
    "                         hovertemplate='%{x|%Y}<br>' +\n",
    "                         '<b>Annual Radiation</b><br>' +\n",
    "                         'R<sub>s</sub>: %{y:.2f} GJ/m<sup>2</sup><br>' +\n",
    "                         '<extra></extra>'\n",
    "                         )\n",
    "moving_avg_trace = go.Scatter(x=df['datetime'],\n",
    "                            y=df['moving_average_of_sum__5year__solar_radiation'],\n",
    "                            name='5 Year Moving Average',\n",
    "                            mode='lines',  # 'line' is default\n",
    "                            line_shape='spline',\n",
    "                            line=dict(color=TIMESERIES_COLOR_1,\n",
    "                                      width=2),\n",
    "                            hovertemplate='%{x|%Y}<br>' +\n",
    "                            '<b>5yr Moving Average</b><br>' +\n",
    "                            'R<sub>s</sub>: %{y:.2f} GJ/m<sup>2</sup><extra></extra>'\n",
    "                            )\n"
   ],
   "outputs": [],
   "metadata": {}
  },
  {
   "cell_type": "code",
   "execution_count": null,
   "source": [
    "figure_2_11 = go.Figure(data=[sum_annual_trace, moving_avg_trace], layout=TIMESERIES_LAYOUT)\n",
    "figure_2_11.update_layout(\n",
    "    yaxis=dict(title='Solar Radiation, R<sub>s</sub> (GJ/m<sup>2</sup>)'),\n",
    "    xaxis=dict(title=\"Year\")\n",
    ")\n",
    "figure_2_11"
   ],
   "outputs": [],
   "metadata": {}
  },
  {
   "cell_type": "code",
   "execution_count": null,
   "source": [
    "\"\"\"\n",
    "Map \n",
    "\"\"\"\n",
    "data_path = DATA_PATH+'Atmospheric_Domain/2.6SurfaceEarth_RadiationBudget/Map2.6/'\n",
    "df = pd.read_csv(data_path+'Map2.6_StationTable.txt')\n",
    "\n",
    "autosol_stations = [\n",
    "    'Malin_head',\n",
    "    'Belmullet',\n",
    "    'Gurteen',\n",
    "    'Valentia_Observatory',\n",
    "    'JohnstownII',\n",
    "    'Dublin_Airport']\n",
    "autosol_df = df[df['name'].isin(autosol_stations)]\n",
    "synoptic_df = df[~df['name'].isin(autosol_stations)]\n",
    "synoptic_trend = go.Scattermapbox(\n",
    "    name='Standard Synoptic',\n",
    "    lon=standard_df.Longitude,\n",
    "    lat=standard_df.Latitude,\n",
    "    marker=dict(color=STATION_COLORS['Synoptic'],\n",
    "                size=7),\n",
    "    hovertemplate=stations_map_hovertemplate(standard_df),\n",
    ")\n",
    "\n",
    "autosol_trend = go.Scattermapbox(\n",
    "    name='AUTOSOL Synoptic',\n",
    "    lon=autosol_df.Longitude,\n",
    "    lat=autosol_df.Latitude,\n",
    "    marker=dict(color='blue',\n",
    "                size=7),\n",
    "    hovertemplate=stations_map_hovertemplate(autosol_df),\n",
    ")\n",
    "\n",
    "stations_map = go.Figure(\n",
    "    data=[\n",
    "        synoptic_trend,\n",
    "        autosol_trend\n",
    "    ],\n",
    "    layout=MAP_LAYOUT)\n",
    "stations_map.update_layout(\n",
    "    mapbox=dict(bearing=0,\n",
    "            center=dict(\n",
    "                lat=54,\n",
    "                lon=349\n",
    "            ),\n",
    "            pitch=0,\n",
    "            zoom=4.2)\n",
    ")\n",
    "    \n",
    "stations_map"
   ],
   "outputs": [],
   "metadata": {}
  },
  {
   "cell_type": "code",
   "execution_count": null,
   "source": [],
   "outputs": [],
   "metadata": {}
  }
 ],
 "metadata": {
  "kernelspec": {
   "display_name": "Python 3",
   "language": "python",
   "name": "python3"
  },
  "language_info": {
   "codemirror_mode": {
    "name": "ipython",
    "version": 3
   },
   "file_extension": ".py",
   "mimetype": "text/x-python",
   "name": "python",
   "nbconvert_exporter": "python",
   "pygments_lexer": "ipython3",
   "version": "3.8.2"
  }
 },
 "nbformat": 4,
 "nbformat_minor": 5
}