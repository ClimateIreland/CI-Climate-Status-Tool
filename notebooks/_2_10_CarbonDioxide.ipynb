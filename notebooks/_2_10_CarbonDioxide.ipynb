{
 "cells": [
  {
   "cell_type": "code",
   "execution_count": 3,
   "source": [
    "# to access root modules\n",
    "if __name__ == \"__main__\" and __package__ is None:\n",
    "    from sys import path\n",
    "    from os.path import dirname as dir\n",
    "    path.append(dir(path[0])+'/dash_app')\n",
    "    __package__ = \"dash_app\""
   ],
   "outputs": [],
   "metadata": {}
  },
  {
   "cell_type": "code",
   "execution_count": 2,
   "source": [
    "import pandas as pd\n",
    "import numpy as np\n",
    "import datetime\n",
    "import dateutil\n",
    "import plotly.graph_objects as go\n",
    "from plotly.subplots import make_subplots\n",
    "from charts import stations_map\n",
    "from settings import *"
   ],
   "outputs": [
    {
     "output_type": "stream",
     "name": "stdout",
     "text": [
      "DATA_PATH set to /Users/dan/ClimateIreland/CI-Status-Report/CI-Climate-Status-Tool/data/\n"
     ]
    }
   ],
   "metadata": {}
  },
  {
   "cell_type": "code",
   "execution_count": null,
   "source": [
    "data_path = DATA_PATH+'Atmospheric_Domain/2.10CarbonDioxide/Figure2.18/'\n",
    "xls = pd.ExcelFile(\n",
    "    data_path+'MonthlyMeanConcentrationOfCarbonDioxide_MaunaLoa_MaceHead2018.xlsx')\n",
    "dataDF = pd.read_excel(xls, 'co2_mm_mlo')\n",
    "dataDF.rename(columns = {\n",
    "    \"Unnamed: 0\":\"Date\"\n",
    "    }, inplace = True)\n",
    "dataDF = dataDF.iloc[:, 0:5]\n",
    "dataDF[0:20]"
   ],
   "outputs": [],
   "metadata": {}
  },
  {
   "cell_type": "code",
   "execution_count": null,
   "source": [
    "dataDF.dtypes"
   ],
   "outputs": [],
   "metadata": {}
  },
  {
   "cell_type": "code",
   "execution_count": null,
   "source": [
    "MaunaLoa = go.Scatter(x=dataDF[\"Date\"],\n",
    "                     y=dataDF[\"Mauna Loa (Hawaii)\"],\n",
    "                     name='Mauna Loa (Hawaii)',\n",
    "                     line_shape='spline',\n",
    "                     line=dict(\n",
    "                            # color=\"#fc0d1b\", color used in report\n",
    "                            color=TIMESERIES_COLOR_1,\n",
    "                            width=2),\n",
    "                      hovertemplate='%{x|%b %Y}<br>' +\n",
    "                            '<b>Mauna Loa (Hawaii)</b><br>' +\n",
    "                            'CO₂: %{y:.2f} ppm<extra></extra>' \n",
    "                            )\n",
    "\n",
    "MaceHead = go.Scatter(x=dataDF[\"Date\"],\n",
    "                     y=dataDF[\"Mace Head\"],\n",
    "                     name='Mace Head (Ireland)',\n",
    "                     line_shape='spline',\n",
    "                     line=dict(\n",
    "                            # color=\"#fc0d1b\", color used in report\n",
    "                            color=TIMESERIES_COLOR_2,\n",
    "                            width=2),\n",
    "                      hovertemplate='%{x|%b %Y}<br>' +\n",
    "                            '<b>Mace Head</b><br>' +\n",
    "                            'CO₂: %{y:.2f} ppm<extra></extra>' \n",
    "                            )"
   ],
   "outputs": [],
   "metadata": {}
  },
  {
   "cell_type": "code",
   "execution_count": null,
   "source": [
    "figure_2_18 = make_subplots(specs=[[{'secondary_y': False}]])\n",
    "figure_2_18.add_trace(MaunaLoa,\n",
    "            secondary_y=False,)\n",
    "figure_2_18.add_trace(MaceHead,\n",
    "            secondary_y=False,)\n",
    "\n",
    "figure_2_18.update_layout(TIMESERIES_LAYOUT)\n",
    "\n",
    "figure_2_18.update_yaxes(title_text='CO₂ Concentration (ppm)',\n",
    "                         showgrid=False,\n",
    "                         fixedrange=True,\n",
    "                         showspikes=True,\n",
    "                        )\n",
    "figure_2_18.update_xaxes(title_text='Year',\n",
    "                         range=['1955-01-01', '2020-01-01'],\n",
    "                         tickformat=\"%Y\",\n",
    "                         showspikes=True,  \n",
    "                         spikethickness=2\n",
    "                        )\n",
    "\n",
    "figure_2_18.show()"
   ],
   "outputs": [],
   "metadata": {}
  },
  {
   "cell_type": "code",
   "execution_count": null,
   "source": [
    "# used for static images on main site\n",
    "figure_2_18.update_layout(\n",
    "    margin={\"t\": 40, \"b\": 20, \"r\": 40, \"l\": 80, },\n",
    "    plot_bgcolor='#f7fbfd',\n",
    "    paper_bgcolor='white',\n",
    "    height=500,\n",
    "    width=900,\n",
    "    font_size=14,\n",
    "    title=dict(\n",
    "        text='<b>Mean Monthly Carbon Dioxide (CO\\u2082) Concentration</b>',\n",
    "        x=0.5,\n",
    "        y=0.97),)\n",
    "figure_2_18.update_yaxes(\n",
    "    secondary_y=False,\n",
    "    title_standoff=0.2\n",
    ")\n",
    "figure_2_18.update_xaxes(\n",
    "    title_standoff=1\n",
    ")\n",
    "figure_2_18.write_image(\n",
    "    \"/Users/dan/ClimateIreland/CI-Status-Report/images/mean__monthly__carbon_dioxide.png\", \n",
    "    format=\"png\"\n",
    "    )"
   ],
   "outputs": [],
   "metadata": {}
  },
  {
   "cell_type": "code",
   "execution_count": null,
   "source": [
    "data_path = DATA_PATH+'Atmospheric_Domain/2.10CarbonDioxide/Map2.10/'\n",
    "df = pd.read_csv(data_path+'Map2.10_StationTable.txt', delimiter = \",\")\n",
    "# dataDF[\"size\"]=0\n",
    "df\n"
   ],
   "outputs": [],
   "metadata": {}
  },
  {
   "cell_type": "code",
   "execution_count": null,
   "source": [
    "\n",
    "\n",
    "\n",
    "epaDF = df.loc[(df['Type'] == 'EPA')]\n",
    "epaDFStr=epaDF.astype(str)\n",
    "epaTrend = go.Scattermapbox(\n",
    "    name='EPA',\n",
    "    lon=epaDF.Longitude,\n",
    "    lat=epaDF.Latitude,\n",
    "    marker=dict(color=STATION_COLORS['EPA'],\n",
    "                size=7),\n",
    "    hovertemplate='Name: ' + epaDFStr['name'] + '<br>' +\n",
    "            'County: ' + epaDFStr['name'] + '<br>' +\n",
    "            'Agency: EPA<br>' +\n",
    "            'Station No.: ' + epaDFStr['Station_Nu'] + '<br>' +\n",
    "            'Open Year: ' + epaDFStr['Open_Year'] + '<br>' +\n",
    "            'Height: ' + epaDFStr['Height__m_'] + ' m<br>' +\n",
    "            'Lat: %{lat:.2f} \\u00b0<br>'+\n",
    "            'Lon: %{lon:.2f} \\u00b0<br><extra></extra>',\n",
    ")\n",
    "\n",
    "nuigDF = df.loc[(df['Type'] == 'NUIG')]\n",
    "nuigDFStr=nuigDF.astype(str)\n",
    "nuigTrend = go.Scattermapbox(\n",
    "    name='NUIG',\n",
    "    lon=nuigDF.Longitude,\n",
    "    lat=nuigDF.Latitude,\n",
    "    marker=dict(color=STATION_COLORS['NUIG'],\n",
    "                size=7),\n",
    "    hovertemplate='Name: ' + nuigDFStr['name'] + '<br>' +\n",
    "            'County: ' + nuigDFStr['name'] + '<br>' +\n",
    "            'Agency: NUIG<br>' +\n",
    "            'Station No.: ' + nuigDFStr['Station_Nu'] + '<br>' +\n",
    "            'Open Year: ' + nuigDFStr['Open_Year'] + '<br>' +\n",
    "            'Height: ' + nuigDFStr['Height__m_'] + ' m<br>' +\n",
    "            'Lat: %{lat:.2f} \\u00b0<br>'+\n",
    "            'Lon: %{lon:.2f} \\u00b0<br><extra></extra>',\n",
    ")\n",
    "\n",
    "metDF = df.loc[(df['Type'] == 'Synoptic')]\n",
    "metDFStr=metDF.astype(str)\n",
    "metTrend = go.Scattermapbox(\n",
    "    name='Met Eireann',\n",
    "    lon=metDF.Longitude,\n",
    "    lat=metDF.Latitude,\n",
    "    marker=dict(color=STATION_COLORS['Synoptic'],\n",
    "                size=7),\n",
    "    hovertemplate='Name: ' + metDFStr['name'] + '<br>' +\n",
    "            'County: ' + metDFStr['name'] + '<br>' +\n",
    "            'Agency: NUIG<br>' +\n",
    "            'Station No.: ' + metDFStr['Station_Nu'] + '<br>' +\n",
    "            'Open Year: ' + metDFStr['Open_Year'] + '<br>' +\n",
    "            'Height: ' + metDFStr['Height__m_'] + ' m<br>' +\n",
    "            'Lat: %{lat:.2f} \\u00b0<br>'+\n",
    "            'Lon: %{lon:.2f} \\u00b0<br><extra></extra>',\n",
    ")"
   ],
   "outputs": [],
   "metadata": {}
  },
  {
   "cell_type": "code",
   "execution_count": null,
   "source": [
    "map_2_10 = go.Figure(data=[epaTrend,nuigTrend,metTrend],\n",
    "                    layout=MAP_LAYOUT)\n",
    "map_2_10.update_layout(legend_title=\"<b>  Agency</b>\")\n",
    "map_2_10"
   ],
   "outputs": [],
   "metadata": {}
  },
  {
   "cell_type": "code",
   "execution_count": null,
   "source": [],
   "outputs": [],
   "metadata": {}
  }
 ],
 "metadata": {
  "kernelspec": {
   "display_name": "Python 3",
   "language": "python",
   "name": "python3"
  },
  "language_info": {
   "codemirror_mode": {
    "name": "ipython",
    "version": 3
   },
   "file_extension": ".py",
   "mimetype": "text/x-python",
   "name": "python",
   "nbconvert_exporter": "python",
   "pygments_lexer": "ipython3",
   "version": "3.8.2"
  }
 },
 "nbformat": 4,
 "nbformat_minor": 2
}