{
 "cells": [
  {
   "cell_type": "code",
   "execution_count": 1,
   "metadata": {},
   "outputs": [],
   "source": [
    "import pandas as pd\n",
    "import numpy as np\n",
    "import datetime\n",
    "import dateutil\n",
    "import plotly.graph_objects as go\n",
    "from plotly.subplots import make_subplots\n",
    "from charts import stations_map\n",
    "from settings import *"
   ]
  },
  {
   "cell_type": "code",
   "execution_count": 4,
   "metadata": {},
   "outputs": [
    {
     "output_type": "execute_result",
     "data": {
      "text/plain": [
       "    year  temperature  Calculated Anomalies  5 year moving average  satellite  \\\n",
       "0   1960          NaN                   NaN                    NaN        NaN   \n",
       "1   1961        10.73              0.181429                    NaN        NaN   \n",
       "2   1962        10.25             -0.298571              -0.206071        NaN   \n",
       "3   1963         9.74             -0.808571              -0.236571        NaN   \n",
       "4   1964        10.65              0.101429              -0.316571        NaN   \n",
       "..   ...          ...                   ...                    ...        ...   \n",
       "56  2016        11.27              0.721429               0.583429        NaN   \n",
       "57  2017        11.44              0.891429                    NaN        NaN   \n",
       "58  2018        10.74              0.191429                    NaN        NaN   \n",
       "59  2019          NaN                   NaN                    NaN        NaN   \n",
       "60  2020          NaN                   NaN                    NaN        NaN   \n",
       "\n",
       "    Unnamed: 5  Unnamed: 6  Unnamed: 7  Unnamed: 8  Unnamed: 9  ...  \\\n",
       "0          NaN         NaN         NaN         NaN         NaN  ...   \n",
       "1    10.548571         NaN         NaN         NaN         NaN  ...   \n",
       "2    10.548571         NaN         NaN         NaN         NaN  ...   \n",
       "3    10.548571         NaN         NaN         NaN         NaN  ...   \n",
       "4    10.548571         NaN         NaN         NaN         NaN  ...   \n",
       "..         ...         ...         ...         ...         ...  ...   \n",
       "56   10.548571         NaN         NaN         NaN         NaN  ...   \n",
       "57   10.548571         NaN         NaN         NaN         NaN  ...   \n",
       "58   10.548571         NaN         NaN         NaN         NaN  ...   \n",
       "59         NaN         NaN         NaN         NaN         NaN  ...   \n",
       "60         NaN         NaN         NaN         NaN         NaN  ...   \n",
       "\n",
       "    Unnamed: 15  Unnamed: 16  Unnamed: 17  Unnamed: 18  Unnamed: 19  \\\n",
       "0           NaN          NaN          NaN          NaN          NaN   \n",
       "1           NaN          NaN          NaN          NaN          NaN   \n",
       "2           NaN          NaN          NaN          NaN          NaN   \n",
       "3           NaN          NaN          NaN          NaN          NaN   \n",
       "4           NaN          NaN          NaN          NaN          NaN   \n",
       "..          ...          ...          ...          ...          ...   \n",
       "56          NaN          NaN          NaN          NaN          NaN   \n",
       "57          NaN          NaN          NaN          NaN          NaN   \n",
       "58          NaN          NaN          NaN          NaN          NaN   \n",
       "59          NaN          NaN          NaN          NaN          NaN   \n",
       "60          NaN          NaN          NaN          NaN          NaN   \n",
       "\n",
       "    Unnamed: 20  Unnamed: 21  Unnamed: 22  Unnamed: 23  \\\n",
       "0           NaN          NaN          NaN          NaN   \n",
       "1           NaN          NaN          NaN          NaN   \n",
       "2           NaN          NaN          NaN          NaN   \n",
       "3           NaN          NaN          NaN          NaN   \n",
       "4           NaN          NaN          NaN          NaN   \n",
       "..          ...          ...          ...          ...   \n",
       "56          NaN          NaN          NaN          NaN   \n",
       "57          NaN          NaN          NaN          NaN   \n",
       "58          NaN          NaN          NaN          NaN   \n",
       "59          NaN          NaN          NaN          NaN   \n",
       "60          NaN          NaN          NaN          NaN   \n",
       "\n",
       "    5 Year Moving Average - Mean  \n",
       "0                            NaN  \n",
       "1                            NaN  \n",
       "2                            NaN  \n",
       "3                         10.312  \n",
       "4                         10.232  \n",
       "..                           ...  \n",
       "56                        11.132  \n",
       "57                           NaN  \n",
       "58                           NaN  \n",
       "59                           NaN  \n",
       "60                           NaN  \n",
       "\n",
       "[61 rows x 25 columns]"
      ],
      "text/html": "<div>\n<style scoped>\n    .dataframe tbody tr th:only-of-type {\n        vertical-align: middle;\n    }\n\n    .dataframe tbody tr th {\n        vertical-align: top;\n    }\n\n    .dataframe thead th {\n        text-align: right;\n    }\n</style>\n<table border=\"1\" class=\"dataframe\">\n  <thead>\n    <tr style=\"text-align: right;\">\n      <th></th>\n      <th>year</th>\n      <th>temperature</th>\n      <th>Calculated Anomalies</th>\n      <th>5 year moving average</th>\n      <th>satellite</th>\n      <th>Unnamed: 5</th>\n      <th>Unnamed: 6</th>\n      <th>Unnamed: 7</th>\n      <th>Unnamed: 8</th>\n      <th>Unnamed: 9</th>\n      <th>...</th>\n      <th>Unnamed: 15</th>\n      <th>Unnamed: 16</th>\n      <th>Unnamed: 17</th>\n      <th>Unnamed: 18</th>\n      <th>Unnamed: 19</th>\n      <th>Unnamed: 20</th>\n      <th>Unnamed: 21</th>\n      <th>Unnamed: 22</th>\n      <th>Unnamed: 23</th>\n      <th>5 Year Moving Average - Mean</th>\n    </tr>\n  </thead>\n  <tbody>\n    <tr>\n      <th>0</th>\n      <td>1960</td>\n      <td>NaN</td>\n      <td>NaN</td>\n      <td>NaN</td>\n      <td>NaN</td>\n      <td>NaN</td>\n      <td>NaN</td>\n      <td>NaN</td>\n      <td>NaN</td>\n      <td>NaN</td>\n      <td>...</td>\n      <td>NaN</td>\n      <td>NaN</td>\n      <td>NaN</td>\n      <td>NaN</td>\n      <td>NaN</td>\n      <td>NaN</td>\n      <td>NaN</td>\n      <td>NaN</td>\n      <td>NaN</td>\n      <td>NaN</td>\n    </tr>\n    <tr>\n      <th>1</th>\n      <td>1961</td>\n      <td>10.73</td>\n      <td>0.181429</td>\n      <td>NaN</td>\n      <td>NaN</td>\n      <td>10.548571</td>\n      <td>NaN</td>\n      <td>NaN</td>\n      <td>NaN</td>\n      <td>NaN</td>\n      <td>...</td>\n      <td>NaN</td>\n      <td>NaN</td>\n      <td>NaN</td>\n      <td>NaN</td>\n      <td>NaN</td>\n      <td>NaN</td>\n      <td>NaN</td>\n      <td>NaN</td>\n      <td>NaN</td>\n      <td>NaN</td>\n    </tr>\n    <tr>\n      <th>2</th>\n      <td>1962</td>\n      <td>10.25</td>\n      <td>-0.298571</td>\n      <td>-0.206071</td>\n      <td>NaN</td>\n      <td>10.548571</td>\n      <td>NaN</td>\n      <td>NaN</td>\n      <td>NaN</td>\n      <td>NaN</td>\n      <td>...</td>\n      <td>NaN</td>\n      <td>NaN</td>\n      <td>NaN</td>\n      <td>NaN</td>\n      <td>NaN</td>\n      <td>NaN</td>\n      <td>NaN</td>\n      <td>NaN</td>\n      <td>NaN</td>\n      <td>NaN</td>\n    </tr>\n    <tr>\n      <th>3</th>\n      <td>1963</td>\n      <td>9.74</td>\n      <td>-0.808571</td>\n      <td>-0.236571</td>\n      <td>NaN</td>\n      <td>10.548571</td>\n      <td>NaN</td>\n      <td>NaN</td>\n      <td>NaN</td>\n      <td>NaN</td>\n      <td>...</td>\n      <td>NaN</td>\n      <td>NaN</td>\n      <td>NaN</td>\n      <td>NaN</td>\n      <td>NaN</td>\n      <td>NaN</td>\n      <td>NaN</td>\n      <td>NaN</td>\n      <td>NaN</td>\n      <td>10.312</td>\n    </tr>\n    <tr>\n      <th>4</th>\n      <td>1964</td>\n      <td>10.65</td>\n      <td>0.101429</td>\n      <td>-0.316571</td>\n      <td>NaN</td>\n      <td>10.548571</td>\n      <td>NaN</td>\n      <td>NaN</td>\n      <td>NaN</td>\n      <td>NaN</td>\n      <td>...</td>\n      <td>NaN</td>\n      <td>NaN</td>\n      <td>NaN</td>\n      <td>NaN</td>\n      <td>NaN</td>\n      <td>NaN</td>\n      <td>NaN</td>\n      <td>NaN</td>\n      <td>NaN</td>\n      <td>10.232</td>\n    </tr>\n    <tr>\n      <th>...</th>\n      <td>...</td>\n      <td>...</td>\n      <td>...</td>\n      <td>...</td>\n      <td>...</td>\n      <td>...</td>\n      <td>...</td>\n      <td>...</td>\n      <td>...</td>\n      <td>...</td>\n      <td>...</td>\n      <td>...</td>\n      <td>...</td>\n      <td>...</td>\n      <td>...</td>\n      <td>...</td>\n      <td>...</td>\n      <td>...</td>\n      <td>...</td>\n      <td>...</td>\n      <td>...</td>\n    </tr>\n    <tr>\n      <th>56</th>\n      <td>2016</td>\n      <td>11.27</td>\n      <td>0.721429</td>\n      <td>0.583429</td>\n      <td>NaN</td>\n      <td>10.548571</td>\n      <td>NaN</td>\n      <td>NaN</td>\n      <td>NaN</td>\n      <td>NaN</td>\n      <td>...</td>\n      <td>NaN</td>\n      <td>NaN</td>\n      <td>NaN</td>\n      <td>NaN</td>\n      <td>NaN</td>\n      <td>NaN</td>\n      <td>NaN</td>\n      <td>NaN</td>\n      <td>NaN</td>\n      <td>11.132</td>\n    </tr>\n    <tr>\n      <th>57</th>\n      <td>2017</td>\n      <td>11.44</td>\n      <td>0.891429</td>\n      <td>NaN</td>\n      <td>NaN</td>\n      <td>10.548571</td>\n      <td>NaN</td>\n      <td>NaN</td>\n      <td>NaN</td>\n      <td>NaN</td>\n      <td>...</td>\n      <td>NaN</td>\n      <td>NaN</td>\n      <td>NaN</td>\n      <td>NaN</td>\n      <td>NaN</td>\n      <td>NaN</td>\n      <td>NaN</td>\n      <td>NaN</td>\n      <td>NaN</td>\n      <td>NaN</td>\n    </tr>\n    <tr>\n      <th>58</th>\n      <td>2018</td>\n      <td>10.74</td>\n      <td>0.191429</td>\n      <td>NaN</td>\n      <td>NaN</td>\n      <td>10.548571</td>\n      <td>NaN</td>\n      <td>NaN</td>\n      <td>NaN</td>\n      <td>NaN</td>\n      <td>...</td>\n      <td>NaN</td>\n      <td>NaN</td>\n      <td>NaN</td>\n      <td>NaN</td>\n      <td>NaN</td>\n      <td>NaN</td>\n      <td>NaN</td>\n      <td>NaN</td>\n      <td>NaN</td>\n      <td>NaN</td>\n    </tr>\n    <tr>\n      <th>59</th>\n      <td>2019</td>\n      <td>NaN</td>\n      <td>NaN</td>\n      <td>NaN</td>\n      <td>NaN</td>\n      <td>NaN</td>\n      <td>NaN</td>\n      <td>NaN</td>\n      <td>NaN</td>\n      <td>NaN</td>\n      <td>...</td>\n      <td>NaN</td>\n      <td>NaN</td>\n      <td>NaN</td>\n      <td>NaN</td>\n      <td>NaN</td>\n      <td>NaN</td>\n      <td>NaN</td>\n      <td>NaN</td>\n      <td>NaN</td>\n      <td>NaN</td>\n    </tr>\n    <tr>\n      <th>60</th>\n      <td>2020</td>\n      <td>NaN</td>\n      <td>NaN</td>\n      <td>NaN</td>\n      <td>NaN</td>\n      <td>NaN</td>\n      <td>NaN</td>\n      <td>NaN</td>\n      <td>NaN</td>\n      <td>NaN</td>\n      <td>...</td>\n      <td>NaN</td>\n      <td>NaN</td>\n      <td>NaN</td>\n      <td>NaN</td>\n      <td>NaN</td>\n      <td>NaN</td>\n      <td>NaN</td>\n      <td>NaN</td>\n      <td>NaN</td>\n      <td>NaN</td>\n    </tr>\n  </tbody>\n</table>\n<p>61 rows × 25 columns</p>\n</div>"
     },
     "metadata": {},
     "execution_count": 4
    }
   ],
   "source": [
    "data_path = DATA_PATH+'Oceanic_Domain/3.1OceanSurfaceSubsurfaceTemperature/Figure3.1/'\n",
    "xls = pd.ExcelFile(\n",
    "    data_path+'MeanAnnualSeaSurfaceTemperature_Anomalies_MalinHead.xlsx')\n",
    "df = pd.read_excel(xls, 'MALIN_Timeseries')\n",
    "movingAverageTotals = df.temperature.rolling(window=5, center=True).mean() \n",
    "df[\"5 Year Moving Average - Mean\"]=movingAverageTotals\n",
    "df"
   ]
  },
  {
   "cell_type": "code",
   "execution_count": 19,
   "metadata": {},
   "outputs": [],
   "source": [
    "\n",
    "annualTrace = go.Bar(x=df[\"year\"],\n",
    "                     y=df[\"Calculated Anomalies\"],\n",
    "                     text=df[\"temperature\"],\n",
    "                     name='Annual',\n",
    "                     marker=dict(\n",
    "                            # color=\"#214a7b\", color used in report\n",
    "                            color=TIMESERIES_COLOR_SECONDARY,\n",
    "                            opacity=0.5\n",
    "                            ),\n",
    "                     hovertemplate='%{x}<br>' +\n",
    "                            '<b>Annual</b><br>' +\n",
    "                            'Total: %{text:.2f}\\u00b0C<br>' +\n",
    "                            'Anomaly: %{y:.2f}\\u00b0C<extra></extra>'\n",
    "                            )\n",
    "movingAverage = go.Scatter(x=df[\"year\"],\n",
    "                     y=df[\"5 year moving average\"],\n",
    "                     text=df[\"5 Year Moving Average - Mean\"],\n",
    "                     name='5yr Moving Average',\n",
    "                     mode='lines',  # 'line' is default\n",
    "                     line_shape='spline',\n",
    "                     line=dict(\n",
    "                            # color=\"#fc0d1b\", color used in report\n",
    "                            color=TIMESERIES_COLOR_PRIMARY,\n",
    "                            width=2),\n",
    "                     hovertemplate='%{x}<br>' +\n",
    "                            '<b>5yr Moving Average</b><br>' +\n",
    "                            'Total: %{text:.2f}\\u00b0C<br>' +\n",
    "                            'Anomaly: %{y:.2f}\\u00b0C<extra></extra>'\n",
    "                            )\n",
    "normal = go.Scatter(x=df[\"year\"],\n",
    "                     y=df[\"Unnamed: 5\"],\n",
    "                     name='1981-2010 Normal',\n",
    "                     mode='lines',  # 'line' is default\n",
    "                     line_shape='spline',\n",
    "                     line=dict(color=\"#fdbf2d\", #color used in report\n",
    "                               width=1),\n",
    "                     hoverinfo='skip',\n",
    "                            )\n",
    "\n"
   ]
  },
  {
   "cell_type": "code",
   "execution_count": 20,
   "metadata": {},
   "outputs": [
    {
     "output_type": "display_data",
     "data": {
      "application/vnd.plotly.v1+json": {
       "config": {
        "plotlyServerURL": "https://plot.ly"
       },
       "data": [
        {
         "hovertemplate": "%{x}<br><b>Annual</b><br>Total: %{text:.2f}°C<br>Anomaly: %{y:.2f}°C<extra></extra>",
         "marker": {
          "color": "#E1AF00",
          "opacity": 0.5
         },
         "name": "Annual",
         "text": [
          null,
          10.73,
          10.25,
          9.74,
          10.65,
          10.19,
          10.33,
          10.47,
          10.47,
          10.38,
          10.27,
          10.86,
          10.06,
          10.58,
          10.45,
          10.79,
          10.7,
          10.13,
          10.19,
          9.81,
          10.46,
          10.43,
          10.27,
          10.45,
          10.51,
          10.05,
          9.62,
          10.12,
          10.56,
          11.08,
          10.99,
          10.1,
          10.15,
          9.75,
          10.22,
          10.63,
          10.08,
          10.64,
          10.74,
          10.66,
          10.61,
          10.25,
          10.75,
          11,
          11.34,
          11.29,
          11.13,
          null,
          null,
          11.21,
          10.73,
          11.02,
          10.83,
          10.74,
          11.33,
          10.88,
          11.27,
          11.44,
          10.74,
          null,
          null
         ],
         "type": "bar",
         "x": [
          1960,
          1961,
          1962,
          1963,
          1964,
          1965,
          1966,
          1967,
          1968,
          1969,
          1970,
          1971,
          1972,
          1973,
          1974,
          1975,
          1976,
          1977,
          1978,
          1979,
          1980,
          1981,
          1982,
          1983,
          1984,
          1985,
          1986,
          1987,
          1988,
          1989,
          1990,
          1991,
          1992,
          1993,
          1994,
          1995,
          1996,
          1997,
          1998,
          1999,
          2000,
          2001,
          2002,
          2003,
          2004,
          2005,
          2006,
          2007,
          2008,
          2009,
          2010,
          2011,
          2012,
          2013,
          2014,
          2015,
          2016,
          2017,
          2018,
          2019,
          2020
         ],
         "xaxis": "x",
         "y": [
          null,
          0.18142857142857416,
          -0.29857142857142627,
          -0.808571428571426,
          0.10142857142857409,
          -0.35857142857142676,
          -0.2185714285714262,
          -0.07857142857142563,
          -0.07857142857142563,
          -0.16857142857142549,
          -0.2785714285714267,
          0.31142857142857316,
          -0.48857142857142577,
          0.031428571428573804,
          -0.09857142857142698,
          0.24142857142857288,
          0.15142857142857302,
          -0.4185714285714255,
          -0.35857142857142676,
          -0.7385714285714258,
          -0.08857142857142541,
          -0.11857142857142655,
          -0.2785714285714267,
          -0.09857142857142698,
          -0.03857142857142648,
          -0.49857142857142556,
          -0.928571428571427,
          -0.42857142857142705,
          0.01142857142857423,
          0.5314285714285738,
          0.44142857142857395,
          -0.4485714285714266,
          -0.3985714285714259,
          -0.7985714285714263,
          -0.3285714285714256,
          0.08142857142857451,
          -0.4685714285714262,
          0.0914285714285743,
          0.19142857142857395,
          0.11142857142857387,
          0.061428571428573164,
          -0.29857142857142627,
          0.20142857142857373,
          0.45142857142857373,
          0.7914285714285736,
          0.7414285714285729,
          0.5814285714285745,
          null,
          null,
          0.6614285714285746,
          0.18142857142857416,
          0.4714285714285733,
          0.2814285714285738,
          0.19142857142857395,
          0.7814285714285738,
          0.3314285714285745,
          0.7214285714285733,
          0.8914285714285732,
          0.19142857142857395,
          null,
          null
         ],
         "yaxis": "y"
        },
        {
         "hovertemplate": "%{x}<br><b>5yr Moving Average</b><br>Total: %{text:.2f}°C<br>Anomaly: %{y:.2f}°C<extra></extra>",
         "line": {
          "color": "#00a4ae",
          "shape": "spline",
          "width": 2
         },
         "mode": "lines",
         "name": "5yr Moving Average",
         "text": [
          null,
          null,
          null,
          10.312000000000001,
          10.232,
          10.276,
          10.422,
          10.367999999999999,
          10.384,
          10.49,
          10.408000000000001,
          10.430000000000001,
          10.443999999999999,
          10.547999999999998,
          10.516,
          10.529999999999998,
          10.452,
          10.324000000000002,
          10.258000000000001,
          10.203999999999999,
          10.232000000000001,
          10.284,
          10.424,
          10.341999999999999,
          10.180000000000001,
          10.15,
          10.172,
          10.286,
          10.474,
          10.569999999999999,
          10.575999999999999,
          10.413999999999998,
          10.242,
          10.169999999999998,
          10.166,
          10.264000000000001,
          10.462,
          10.55,
          10.546000000000001,
          10.58,
          10.602,
          10.654,
          10.790000000000001,
          10.925999999999998,
          11.102,
          null,
          null,
          null,
          null,
          null,
          null,
          10.906,
          10.93,
          10.96,
          11.01,
          11.132,
          11.132,
          null,
          null,
          null,
          null
         ],
         "type": "scatter",
         "x": [
          1960,
          1961,
          1962,
          1963,
          1964,
          1965,
          1966,
          1967,
          1968,
          1969,
          1970,
          1971,
          1972,
          1973,
          1974,
          1975,
          1976,
          1977,
          1978,
          1979,
          1980,
          1981,
          1982,
          1983,
          1984,
          1985,
          1986,
          1987,
          1988,
          1989,
          1990,
          1991,
          1992,
          1993,
          1994,
          1995,
          1996,
          1997,
          1998,
          1999,
          2000,
          2001,
          2002,
          2003,
          2004,
          2005,
          2006,
          2007,
          2008,
          2009,
          2010,
          2011,
          2012,
          2013,
          2014,
          2015,
          2016,
          2017,
          2018,
          2019,
          2020
         ],
         "xaxis": "x",
         "y": [
          null,
          null,
          -0.20607142857142602,
          -0.23657142857142616,
          -0.3165714285714262,
          -0.27257142857142613,
          -0.12657142857142603,
          -0.18057142857142594,
          -0.16457142857142593,
          -0.058571428571426054,
          -0.14057142857142607,
          -0.11857142857142619,
          -0.1045714285714265,
          -0.0005714285714265799,
          -0.03257142857142661,
          -0.018571428571426553,
          -0.09657142857142667,
          -0.22457142857142642,
          -0.2905714285714261,
          -0.344571428571426,
          -0.3165714285714262,
          -0.2645714285714263,
          -0.12457142857142642,
          -0.20657142857142646,
          -0.36857142857142655,
          -0.39857142857142663,
          -0.3765714285714264,
          -0.26257142857142635,
          -0.07457142857142643,
          0.021428571428573663,
          0.02742857142857389,
          -0.1345714285714262,
          -0.3065714285714261,
          -0.378571428571426,
          -0.3825714285714259,
          -0.28457142857142587,
          -0.08657142857142582,
          0.0014285714285740881,
          -0.002571428571426182,
          0.031428571428573804,
          0.05342857142857369,
          0.10542857142857365,
          0.2414285714285736,
          0.37742857142857356,
          0.5534285714285737,
          0.6414285714285737,
          0.704761904761907,
          0.661428571428574,
          0.47476190476190777,
          0.4380952380952407,
          0.39892857142857396,
          0.357428571428574,
          0.3814285714285738,
          0.41142857142857386,
          0.46142857142857385,
          0.5834285714285737,
          0.5834285714285737,
          null,
          null,
          null,
          null
         ],
         "yaxis": "y"
        },
        {
         "hoverinfo": "skip",
         "line": {
          "color": "#fdbf2d",
          "shape": "spline",
          "width": 1
         },
         "mode": "lines",
         "name": "1981-2010 Normal",
         "type": "scatter",
         "x": [
          1960,
          1961,
          1962,
          1963,
          1964,
          1965,
          1966,
          1967,
          1968,
          1969,
          1970,
          1971,
          1972,
          1973,
          1974,
          1975,
          1976,
          1977,
          1978,
          1979,
          1980,
          1981,
          1982,
          1983,
          1984,
          1985,
          1986,
          1987,
          1988,
          1989,
          1990,
          1991,
          1992,
          1993,
          1994,
          1995,
          1996,
          1997,
          1998,
          1999,
          2000,
          2001,
          2002,
          2003,
          2004,
          2005,
          2006,
          2007,
          2008,
          2009,
          2010,
          2011,
          2012,
          2013,
          2014,
          2015,
          2016,
          2017,
          2018,
          2019,
          2020
         ],
         "xaxis": "x",
         "y": [
          null,
          10.548571428571426,
          10.548571428571426,
          10.548571428571426,
          10.548571428571426,
          10.548571428571426,
          10.548571428571426,
          10.548571428571426,
          10.548571428571426,
          10.548571428571426,
          10.548571428571426,
          10.548571428571426,
          10.548571428571426,
          10.548571428571426,
          10.548571428571426,
          10.548571428571426,
          10.548571428571426,
          10.548571428571426,
          10.548571428571426,
          10.548571428571426,
          10.548571428571426,
          10.548571428571426,
          10.548571428571426,
          10.548571428571426,
          10.548571428571426,
          10.548571428571426,
          10.548571428571426,
          10.548571428571426,
          10.548571428571426,
          10.548571428571426,
          10.548571428571426,
          10.548571428571426,
          10.548571428571426,
          10.548571428571426,
          10.548571428571426,
          10.548571428571426,
          10.548571428571426,
          10.548571428571426,
          10.548571428571426,
          10.548571428571426,
          10.548571428571426,
          10.548571428571426,
          10.548571428571426,
          10.548571428571426,
          10.548571428571426,
          10.548571428571426,
          10.548571428571426,
          10.548571428571426,
          10.548571428571426,
          10.548571428571426,
          10.548571428571426,
          10.548571428571426,
          10.548571428571426,
          10.548571428571426,
          10.548571428571426,
          10.548571428571426,
          10.548571428571426,
          10.548571428571426,
          10.548571428571426,
          null,
          null
         ],
         "yaxis": "y2"
        }
       ],
       "layout": {
        "font": {
         "color": "#7f7f7f"
        },
        "height": 450,
        "hovermode": "x",
        "legend": {
         "bgcolor": "rgba(0,0,0,0)",
         "itemclick": false,
         "itemdoubleclick": false,
         "orientation": "h"
        },
        "margin": {
         "b": 0,
         "l": 0,
         "r": 0,
         "t": 0
        },
        "paper_bgcolor": "rgba(0,0,0,0)",
        "plot_bgcolor": "#f7fbfd",
        "template": {
         "data": {
          "bar": [
           {
            "error_x": {
             "color": "#2a3f5f"
            },
            "error_y": {
             "color": "#2a3f5f"
            },
            "marker": {
             "line": {
              "color": "#E5ECF6",
              "width": 0.5
             }
            },
            "type": "bar"
           }
          ],
          "barpolar": [
           {
            "marker": {
             "line": {
              "color": "#E5ECF6",
              "width": 0.5
             }
            },
            "type": "barpolar"
           }
          ],
          "carpet": [
           {
            "aaxis": {
             "endlinecolor": "#2a3f5f",
             "gridcolor": "white",
             "linecolor": "white",
             "minorgridcolor": "white",
             "startlinecolor": "#2a3f5f"
            },
            "baxis": {
             "endlinecolor": "#2a3f5f",
             "gridcolor": "white",
             "linecolor": "white",
             "minorgridcolor": "white",
             "startlinecolor": "#2a3f5f"
            },
            "type": "carpet"
           }
          ],
          "choropleth": [
           {
            "colorbar": {
             "outlinewidth": 0,
             "ticks": ""
            },
            "type": "choropleth"
           }
          ],
          "contour": [
           {
            "colorbar": {
             "outlinewidth": 0,
             "ticks": ""
            },
            "colorscale": [
             [
              0,
              "#0d0887"
             ],
             [
              0.1111111111111111,
              "#46039f"
             ],
             [
              0.2222222222222222,
              "#7201a8"
             ],
             [
              0.3333333333333333,
              "#9c179e"
             ],
             [
              0.4444444444444444,
              "#bd3786"
             ],
             [
              0.5555555555555556,
              "#d8576b"
             ],
             [
              0.6666666666666666,
              "#ed7953"
             ],
             [
              0.7777777777777778,
              "#fb9f3a"
             ],
             [
              0.8888888888888888,
              "#fdca26"
             ],
             [
              1,
              "#f0f921"
             ]
            ],
            "type": "contour"
           }
          ],
          "contourcarpet": [
           {
            "colorbar": {
             "outlinewidth": 0,
             "ticks": ""
            },
            "type": "contourcarpet"
           }
          ],
          "heatmap": [
           {
            "colorbar": {
             "outlinewidth": 0,
             "ticks": ""
            },
            "colorscale": [
             [
              0,
              "#0d0887"
             ],
             [
              0.1111111111111111,
              "#46039f"
             ],
             [
              0.2222222222222222,
              "#7201a8"
             ],
             [
              0.3333333333333333,
              "#9c179e"
             ],
             [
              0.4444444444444444,
              "#bd3786"
             ],
             [
              0.5555555555555556,
              "#d8576b"
             ],
             [
              0.6666666666666666,
              "#ed7953"
             ],
             [
              0.7777777777777778,
              "#fb9f3a"
             ],
             [
              0.8888888888888888,
              "#fdca26"
             ],
             [
              1,
              "#f0f921"
             ]
            ],
            "type": "heatmap"
           }
          ],
          "heatmapgl": [
           {
            "colorbar": {
             "outlinewidth": 0,
             "ticks": ""
            },
            "colorscale": [
             [
              0,
              "#0d0887"
             ],
             [
              0.1111111111111111,
              "#46039f"
             ],
             [
              0.2222222222222222,
              "#7201a8"
             ],
             [
              0.3333333333333333,
              "#9c179e"
             ],
             [
              0.4444444444444444,
              "#bd3786"
             ],
             [
              0.5555555555555556,
              "#d8576b"
             ],
             [
              0.6666666666666666,
              "#ed7953"
             ],
             [
              0.7777777777777778,
              "#fb9f3a"
             ],
             [
              0.8888888888888888,
              "#fdca26"
             ],
             [
              1,
              "#f0f921"
             ]
            ],
            "type": "heatmapgl"
           }
          ],
          "histogram": [
           {
            "marker": {
             "colorbar": {
              "outlinewidth": 0,
              "ticks": ""
             }
            },
            "type": "histogram"
           }
          ],
          "histogram2d": [
           {
            "colorbar": {
             "outlinewidth": 0,
             "ticks": ""
            },
            "colorscale": [
             [
              0,
              "#0d0887"
             ],
             [
              0.1111111111111111,
              "#46039f"
             ],
             [
              0.2222222222222222,
              "#7201a8"
             ],
             [
              0.3333333333333333,
              "#9c179e"
             ],
             [
              0.4444444444444444,
              "#bd3786"
             ],
             [
              0.5555555555555556,
              "#d8576b"
             ],
             [
              0.6666666666666666,
              "#ed7953"
             ],
             [
              0.7777777777777778,
              "#fb9f3a"
             ],
             [
              0.8888888888888888,
              "#fdca26"
             ],
             [
              1,
              "#f0f921"
             ]
            ],
            "type": "histogram2d"
           }
          ],
          "histogram2dcontour": [
           {
            "colorbar": {
             "outlinewidth": 0,
             "ticks": ""
            },
            "colorscale": [
             [
              0,
              "#0d0887"
             ],
             [
              0.1111111111111111,
              "#46039f"
             ],
             [
              0.2222222222222222,
              "#7201a8"
             ],
             [
              0.3333333333333333,
              "#9c179e"
             ],
             [
              0.4444444444444444,
              "#bd3786"
             ],
             [
              0.5555555555555556,
              "#d8576b"
             ],
             [
              0.6666666666666666,
              "#ed7953"
             ],
             [
              0.7777777777777778,
              "#fb9f3a"
             ],
             [
              0.8888888888888888,
              "#fdca26"
             ],
             [
              1,
              "#f0f921"
             ]
            ],
            "type": "histogram2dcontour"
           }
          ],
          "mesh3d": [
           {
            "colorbar": {
             "outlinewidth": 0,
             "ticks": ""
            },
            "type": "mesh3d"
           }
          ],
          "parcoords": [
           {
            "line": {
             "colorbar": {
              "outlinewidth": 0,
              "ticks": ""
             }
            },
            "type": "parcoords"
           }
          ],
          "pie": [
           {
            "automargin": true,
            "type": "pie"
           }
          ],
          "scatter": [
           {
            "marker": {
             "colorbar": {
              "outlinewidth": 0,
              "ticks": ""
             }
            },
            "type": "scatter"
           }
          ],
          "scatter3d": [
           {
            "line": {
             "colorbar": {
              "outlinewidth": 0,
              "ticks": ""
             }
            },
            "marker": {
             "colorbar": {
              "outlinewidth": 0,
              "ticks": ""
             }
            },
            "type": "scatter3d"
           }
          ],
          "scattercarpet": [
           {
            "marker": {
             "colorbar": {
              "outlinewidth": 0,
              "ticks": ""
             }
            },
            "type": "scattercarpet"
           }
          ],
          "scattergeo": [
           {
            "marker": {
             "colorbar": {
              "outlinewidth": 0,
              "ticks": ""
             }
            },
            "type": "scattergeo"
           }
          ],
          "scattergl": [
           {
            "marker": {
             "colorbar": {
              "outlinewidth": 0,
              "ticks": ""
             }
            },
            "type": "scattergl"
           }
          ],
          "scattermapbox": [
           {
            "marker": {
             "colorbar": {
              "outlinewidth": 0,
              "ticks": ""
             }
            },
            "type": "scattermapbox"
           }
          ],
          "scatterpolar": [
           {
            "marker": {
             "colorbar": {
              "outlinewidth": 0,
              "ticks": ""
             }
            },
            "type": "scatterpolar"
           }
          ],
          "scatterpolargl": [
           {
            "marker": {
             "colorbar": {
              "outlinewidth": 0,
              "ticks": ""
             }
            },
            "type": "scatterpolargl"
           }
          ],
          "scatterternary": [
           {
            "marker": {
             "colorbar": {
              "outlinewidth": 0,
              "ticks": ""
             }
            },
            "type": "scatterternary"
           }
          ],
          "surface": [
           {
            "colorbar": {
             "outlinewidth": 0,
             "ticks": ""
            },
            "colorscale": [
             [
              0,
              "#0d0887"
             ],
             [
              0.1111111111111111,
              "#46039f"
             ],
             [
              0.2222222222222222,
              "#7201a8"
             ],
             [
              0.3333333333333333,
              "#9c179e"
             ],
             [
              0.4444444444444444,
              "#bd3786"
             ],
             [
              0.5555555555555556,
              "#d8576b"
             ],
             [
              0.6666666666666666,
              "#ed7953"
             ],
             [
              0.7777777777777778,
              "#fb9f3a"
             ],
             [
              0.8888888888888888,
              "#fdca26"
             ],
             [
              1,
              "#f0f921"
             ]
            ],
            "type": "surface"
           }
          ],
          "table": [
           {
            "cells": {
             "fill": {
              "color": "#EBF0F8"
             },
             "line": {
              "color": "white"
             }
            },
            "header": {
             "fill": {
              "color": "#C8D4E3"
             },
             "line": {
              "color": "white"
             }
            },
            "type": "table"
           }
          ]
         },
         "layout": {
          "annotationdefaults": {
           "arrowcolor": "#2a3f5f",
           "arrowhead": 0,
           "arrowwidth": 1
          },
          "autotypenumbers": "strict",
          "coloraxis": {
           "colorbar": {
            "outlinewidth": 0,
            "ticks": ""
           }
          },
          "colorscale": {
           "diverging": [
            [
             0,
             "#8e0152"
            ],
            [
             0.1,
             "#c51b7d"
            ],
            [
             0.2,
             "#de77ae"
            ],
            [
             0.3,
             "#f1b6da"
            ],
            [
             0.4,
             "#fde0ef"
            ],
            [
             0.5,
             "#f7f7f7"
            ],
            [
             0.6,
             "#e6f5d0"
            ],
            [
             0.7,
             "#b8e186"
            ],
            [
             0.8,
             "#7fbc41"
            ],
            [
             0.9,
             "#4d9221"
            ],
            [
             1,
             "#276419"
            ]
           ],
           "sequential": [
            [
             0,
             "#0d0887"
            ],
            [
             0.1111111111111111,
             "#46039f"
            ],
            [
             0.2222222222222222,
             "#7201a8"
            ],
            [
             0.3333333333333333,
             "#9c179e"
            ],
            [
             0.4444444444444444,
             "#bd3786"
            ],
            [
             0.5555555555555556,
             "#d8576b"
            ],
            [
             0.6666666666666666,
             "#ed7953"
            ],
            [
             0.7777777777777778,
             "#fb9f3a"
            ],
            [
             0.8888888888888888,
             "#fdca26"
            ],
            [
             1,
             "#f0f921"
            ]
           ],
           "sequentialminus": [
            [
             0,
             "#0d0887"
            ],
            [
             0.1111111111111111,
             "#46039f"
            ],
            [
             0.2222222222222222,
             "#7201a8"
            ],
            [
             0.3333333333333333,
             "#9c179e"
            ],
            [
             0.4444444444444444,
             "#bd3786"
            ],
            [
             0.5555555555555556,
             "#d8576b"
            ],
            [
             0.6666666666666666,
             "#ed7953"
            ],
            [
             0.7777777777777778,
             "#fb9f3a"
            ],
            [
             0.8888888888888888,
             "#fdca26"
            ],
            [
             1,
             "#f0f921"
            ]
           ]
          },
          "colorway": [
           "#636efa",
           "#EF553B",
           "#00cc96",
           "#ab63fa",
           "#FFA15A",
           "#19d3f3",
           "#FF6692",
           "#B6E880",
           "#FF97FF",
           "#FECB52"
          ],
          "font": {
           "color": "#2a3f5f"
          },
          "geo": {
           "bgcolor": "white",
           "lakecolor": "white",
           "landcolor": "#E5ECF6",
           "showlakes": true,
           "showland": true,
           "subunitcolor": "white"
          },
          "hoverlabel": {
           "align": "left"
          },
          "hovermode": "closest",
          "mapbox": {
           "style": "light"
          },
          "paper_bgcolor": "white",
          "plot_bgcolor": "#E5ECF6",
          "polar": {
           "angularaxis": {
            "gridcolor": "white",
            "linecolor": "white",
            "ticks": ""
           },
           "bgcolor": "#E5ECF6",
           "radialaxis": {
            "gridcolor": "white",
            "linecolor": "white",
            "ticks": ""
           }
          },
          "scene": {
           "xaxis": {
            "backgroundcolor": "#E5ECF6",
            "gridcolor": "white",
            "gridwidth": 2,
            "linecolor": "white",
            "showbackground": true,
            "ticks": "",
            "zerolinecolor": "white"
           },
           "yaxis": {
            "backgroundcolor": "#E5ECF6",
            "gridcolor": "white",
            "gridwidth": 2,
            "linecolor": "white",
            "showbackground": true,
            "ticks": "",
            "zerolinecolor": "white"
           },
           "zaxis": {
            "backgroundcolor": "#E5ECF6",
            "gridcolor": "white",
            "gridwidth": 2,
            "linecolor": "white",
            "showbackground": true,
            "ticks": "",
            "zerolinecolor": "white"
           }
          },
          "shapedefaults": {
           "line": {
            "color": "#2a3f5f"
           }
          },
          "ternary": {
           "aaxis": {
            "gridcolor": "white",
            "linecolor": "white",
            "ticks": ""
           },
           "baxis": {
            "gridcolor": "white",
            "linecolor": "white",
            "ticks": ""
           },
           "bgcolor": "#E5ECF6",
           "caxis": {
            "gridcolor": "white",
            "linecolor": "white",
            "ticks": ""
           }
          },
          "title": {
           "x": 0.05
          },
          "xaxis": {
           "automargin": true,
           "gridcolor": "white",
           "linecolor": "white",
           "ticks": "",
           "title": {
            "standoff": 15
           },
           "zerolinecolor": "white",
           "zerolinewidth": 2
          },
          "yaxis": {
           "automargin": true,
           "gridcolor": "white",
           "linecolor": "white",
           "ticks": "",
           "title": {
            "standoff": 15
           },
           "zerolinecolor": "white",
           "zerolinewidth": 2
          }
         }
        },
        "xaxis": {
         "anchor": "y",
         "domain": [
          0,
          0.94
         ],
         "fixedrange": true,
         "showgrid": false,
         "showspikes": true,
         "spikethickness": 2,
         "tickformat": "000",
         "title": {
          "text": "Year"
         }
        },
        "yaxis": {
         "anchor": "x",
         "domain": [
          0,
          1
         ],
         "dtick": 0.25,
         "fixedrange": true,
         "range": [
          -1,
          1
         ],
         "showgrid": false,
         "showspikes": true,
         "tick0": 0,
         "title": {
          "text": "Difference (°C) from 1981-2010 Normal"
         }
        },
        "yaxis2": {
         "anchor": "x",
         "dtick": 0.5,
         "fixedrange": true,
         "overlaying": "y",
         "range": [
          9.5,
          11.6
         ],
         "showgrid": false,
         "side": "right",
         "tick0": 10.6,
         "title": {
          "text": "Annual SST (°C)"
         }
        }
       }
      },
      "text/html": "<div>                            <div id=\"403731e8-172c-47df-909d-487d722725ac\" class=\"plotly-graph-div\" style=\"height:450px; width:100%;\"></div>            <script type=\"text/javascript\">                require([\"plotly\"], function(Plotly) {                    window.PLOTLYENV=window.PLOTLYENV || {};                                    if (document.getElementById(\"403731e8-172c-47df-909d-487d722725ac\")) {                    Plotly.newPlot(                        \"403731e8-172c-47df-909d-487d722725ac\",                        [{\"hovertemplate\": \"%{x}<br><b>Annual</b><br>Total: %{text:.2f}\\u00b0C<br>Anomaly: %{y:.2f}\\u00b0C<extra></extra>\", \"marker\": {\"color\": \"#E1AF00\", \"opacity\": 0.5}, \"name\": \"Annual\", \"text\": [null, 10.73, 10.25, 9.74, 10.65, 10.19, 10.33, 10.47, 10.47, 10.38, 10.27, 10.86, 10.06, 10.58, 10.45, 10.79, 10.7, 10.13, 10.19, 9.81, 10.46, 10.43, 10.27, 10.45, 10.51, 10.05, 9.62, 10.12, 10.56, 11.08, 10.99, 10.1, 10.15, 9.75, 10.22, 10.63, 10.08, 10.64, 10.74, 10.66, 10.61, 10.25, 10.75, 11.0, 11.34, 11.29, 11.13, null, null, 11.21, 10.73, 11.02, 10.83, 10.74, 11.33, 10.88, 11.27, 11.44, 10.74, null, null], \"type\": \"bar\", \"x\": [1960, 1961, 1962, 1963, 1964, 1965, 1966, 1967, 1968, 1969, 1970, 1971, 1972, 1973, 1974, 1975, 1976, 1977, 1978, 1979, 1980, 1981, 1982, 1983, 1984, 1985, 1986, 1987, 1988, 1989, 1990, 1991, 1992, 1993, 1994, 1995, 1996, 1997, 1998, 1999, 2000, 2001, 2002, 2003, 2004, 2005, 2006, 2007, 2008, 2009, 2010, 2011, 2012, 2013, 2014, 2015, 2016, 2017, 2018, 2019, 2020], \"xaxis\": \"x\", \"y\": [null, 0.18142857142857416, -0.29857142857142627, -0.808571428571426, 0.10142857142857409, -0.35857142857142676, -0.2185714285714262, -0.07857142857142563, -0.07857142857142563, -0.16857142857142549, -0.2785714285714267, 0.31142857142857316, -0.48857142857142577, 0.031428571428573804, -0.09857142857142698, 0.24142857142857288, 0.15142857142857302, -0.4185714285714255, -0.35857142857142676, -0.7385714285714258, -0.08857142857142541, -0.11857142857142655, -0.2785714285714267, -0.09857142857142698, -0.03857142857142648, -0.49857142857142556, -0.928571428571427, -0.42857142857142705, 0.01142857142857423, 0.5314285714285738, 0.44142857142857395, -0.4485714285714266, -0.3985714285714259, -0.7985714285714263, -0.3285714285714256, 0.08142857142857451, -0.4685714285714262, 0.0914285714285743, 0.19142857142857395, 0.11142857142857387, 0.061428571428573164, -0.29857142857142627, 0.20142857142857373, 0.45142857142857373, 0.7914285714285736, 0.7414285714285729, 0.5814285714285745, null, null, 0.6614285714285746, 0.18142857142857416, 0.4714285714285733, 0.2814285714285738, 0.19142857142857395, 0.7814285714285738, 0.3314285714285745, 0.7214285714285733, 0.8914285714285732, 0.19142857142857395, null, null], \"yaxis\": \"y\"}, {\"hovertemplate\": \"%{x}<br><b>5yr Moving Average</b><br>Total: %{text:.2f}\\u00b0C<br>Anomaly: %{y:.2f}\\u00b0C<extra></extra>\", \"line\": {\"color\": \"#00a4ae\", \"shape\": \"spline\", \"width\": 2}, \"mode\": \"lines\", \"name\": \"5yr Moving Average\", \"text\": [null, null, null, 10.312000000000001, 10.232, 10.276, 10.422, 10.367999999999999, 10.384, 10.49, 10.408000000000001, 10.430000000000001, 10.443999999999999, 10.547999999999998, 10.516, 10.529999999999998, 10.452, 10.324000000000002, 10.258000000000001, 10.203999999999999, 10.232000000000001, 10.284, 10.424, 10.341999999999999, 10.180000000000001, 10.15, 10.172, 10.286, 10.474, 10.569999999999999, 10.575999999999999, 10.413999999999998, 10.242, 10.169999999999998, 10.166, 10.264000000000001, 10.462, 10.55, 10.546000000000001, 10.58, 10.602, 10.654, 10.790000000000001, 10.925999999999998, 11.102, null, null, null, null, null, null, 10.906, 10.93, 10.96, 11.01, 11.132, 11.132, null, null, null, null], \"type\": \"scatter\", \"x\": [1960, 1961, 1962, 1963, 1964, 1965, 1966, 1967, 1968, 1969, 1970, 1971, 1972, 1973, 1974, 1975, 1976, 1977, 1978, 1979, 1980, 1981, 1982, 1983, 1984, 1985, 1986, 1987, 1988, 1989, 1990, 1991, 1992, 1993, 1994, 1995, 1996, 1997, 1998, 1999, 2000, 2001, 2002, 2003, 2004, 2005, 2006, 2007, 2008, 2009, 2010, 2011, 2012, 2013, 2014, 2015, 2016, 2017, 2018, 2019, 2020], \"xaxis\": \"x\", \"y\": [null, null, -0.20607142857142602, -0.23657142857142616, -0.3165714285714262, -0.27257142857142613, -0.12657142857142603, -0.18057142857142594, -0.16457142857142593, -0.058571428571426054, -0.14057142857142607, -0.11857142857142619, -0.1045714285714265, -0.0005714285714265799, -0.03257142857142661, -0.018571428571426553, -0.09657142857142667, -0.22457142857142642, -0.2905714285714261, -0.344571428571426, -0.3165714285714262, -0.2645714285714263, -0.12457142857142642, -0.20657142857142646, -0.36857142857142655, -0.39857142857142663, -0.3765714285714264, -0.26257142857142635, -0.07457142857142643, 0.021428571428573663, 0.02742857142857389, -0.1345714285714262, -0.3065714285714261, -0.378571428571426, -0.3825714285714259, -0.28457142857142587, -0.08657142857142582, 0.0014285714285740881, -0.002571428571426182, 0.031428571428573804, 0.05342857142857369, 0.10542857142857365, 0.2414285714285736, 0.37742857142857356, 0.5534285714285737, 0.6414285714285737, 0.704761904761907, 0.661428571428574, 0.47476190476190777, 0.4380952380952407, 0.39892857142857396, 0.357428571428574, 0.3814285714285738, 0.41142857142857386, 0.46142857142857385, 0.5834285714285737, 0.5834285714285737, null, null, null, null], \"yaxis\": \"y\"}, {\"hoverinfo\": \"skip\", \"line\": {\"color\": \"#fdbf2d\", \"shape\": \"spline\", \"width\": 1}, \"mode\": \"lines\", \"name\": \"1981-2010 Normal\", \"type\": \"scatter\", \"x\": [1960, 1961, 1962, 1963, 1964, 1965, 1966, 1967, 1968, 1969, 1970, 1971, 1972, 1973, 1974, 1975, 1976, 1977, 1978, 1979, 1980, 1981, 1982, 1983, 1984, 1985, 1986, 1987, 1988, 1989, 1990, 1991, 1992, 1993, 1994, 1995, 1996, 1997, 1998, 1999, 2000, 2001, 2002, 2003, 2004, 2005, 2006, 2007, 2008, 2009, 2010, 2011, 2012, 2013, 2014, 2015, 2016, 2017, 2018, 2019, 2020], \"xaxis\": \"x\", \"y\": [null, 10.548571428571426, 10.548571428571426, 10.548571428571426, 10.548571428571426, 10.548571428571426, 10.548571428571426, 10.548571428571426, 10.548571428571426, 10.548571428571426, 10.548571428571426, 10.548571428571426, 10.548571428571426, 10.548571428571426, 10.548571428571426, 10.548571428571426, 10.548571428571426, 10.548571428571426, 10.548571428571426, 10.548571428571426, 10.548571428571426, 10.548571428571426, 10.548571428571426, 10.548571428571426, 10.548571428571426, 10.548571428571426, 10.548571428571426, 10.548571428571426, 10.548571428571426, 10.548571428571426, 10.548571428571426, 10.548571428571426, 10.548571428571426, 10.548571428571426, 10.548571428571426, 10.548571428571426, 10.548571428571426, 10.548571428571426, 10.548571428571426, 10.548571428571426, 10.548571428571426, 10.548571428571426, 10.548571428571426, 10.548571428571426, 10.548571428571426, 10.548571428571426, 10.548571428571426, 10.548571428571426, 10.548571428571426, 10.548571428571426, 10.548571428571426, 10.548571428571426, 10.548571428571426, 10.548571428571426, 10.548571428571426, 10.548571428571426, 10.548571428571426, 10.548571428571426, 10.548571428571426, null, null], \"yaxis\": \"y2\"}],                        {\"font\": {\"color\": \"#7f7f7f\"}, \"height\": 450, \"hovermode\": \"x\", \"legend\": {\"bgcolor\": \"rgba(0,0,0,0)\", \"itemclick\": false, \"itemdoubleclick\": false, \"orientation\": \"h\"}, \"margin\": {\"b\": 0, \"l\": 0, \"r\": 0, \"t\": 0}, \"paper_bgcolor\": \"rgba(0,0,0,0)\", \"plot_bgcolor\": \"#f7fbfd\", \"template\": {\"data\": {\"bar\": [{\"error_x\": {\"color\": \"#2a3f5f\"}, \"error_y\": {\"color\": \"#2a3f5f\"}, \"marker\": {\"line\": {\"color\": \"#E5ECF6\", \"width\": 0.5}}, \"type\": \"bar\"}], \"barpolar\": [{\"marker\": {\"line\": {\"color\": \"#E5ECF6\", \"width\": 0.5}}, \"type\": \"barpolar\"}], \"carpet\": [{\"aaxis\": {\"endlinecolor\": \"#2a3f5f\", \"gridcolor\": \"white\", \"linecolor\": \"white\", \"minorgridcolor\": \"white\", \"startlinecolor\": \"#2a3f5f\"}, \"baxis\": {\"endlinecolor\": \"#2a3f5f\", \"gridcolor\": \"white\", \"linecolor\": \"white\", \"minorgridcolor\": \"white\", \"startlinecolor\": \"#2a3f5f\"}, \"type\": \"carpet\"}], \"choropleth\": [{\"colorbar\": {\"outlinewidth\": 0, \"ticks\": \"\"}, \"type\": \"choropleth\"}], \"contour\": [{\"colorbar\": {\"outlinewidth\": 0, \"ticks\": \"\"}, \"colorscale\": [[0.0, \"#0d0887\"], [0.1111111111111111, \"#46039f\"], [0.2222222222222222, \"#7201a8\"], [0.3333333333333333, \"#9c179e\"], [0.4444444444444444, \"#bd3786\"], [0.5555555555555556, \"#d8576b\"], [0.6666666666666666, \"#ed7953\"], [0.7777777777777778, \"#fb9f3a\"], [0.8888888888888888, \"#fdca26\"], [1.0, \"#f0f921\"]], \"type\": \"contour\"}], \"contourcarpet\": [{\"colorbar\": {\"outlinewidth\": 0, \"ticks\": \"\"}, \"type\": \"contourcarpet\"}], \"heatmap\": [{\"colorbar\": {\"outlinewidth\": 0, \"ticks\": \"\"}, \"colorscale\": [[0.0, \"#0d0887\"], [0.1111111111111111, \"#46039f\"], [0.2222222222222222, \"#7201a8\"], [0.3333333333333333, \"#9c179e\"], [0.4444444444444444, \"#bd3786\"], [0.5555555555555556, \"#d8576b\"], [0.6666666666666666, \"#ed7953\"], [0.7777777777777778, \"#fb9f3a\"], [0.8888888888888888, \"#fdca26\"], [1.0, \"#f0f921\"]], \"type\": \"heatmap\"}], \"heatmapgl\": [{\"colorbar\": {\"outlinewidth\": 0, \"ticks\": \"\"}, \"colorscale\": [[0.0, \"#0d0887\"], [0.1111111111111111, \"#46039f\"], [0.2222222222222222, \"#7201a8\"], [0.3333333333333333, \"#9c179e\"], [0.4444444444444444, \"#bd3786\"], [0.5555555555555556, \"#d8576b\"], [0.6666666666666666, \"#ed7953\"], [0.7777777777777778, \"#fb9f3a\"], [0.8888888888888888, \"#fdca26\"], [1.0, \"#f0f921\"]], \"type\": \"heatmapgl\"}], \"histogram\": [{\"marker\": {\"colorbar\": {\"outlinewidth\": 0, \"ticks\": \"\"}}, \"type\": \"histogram\"}], \"histogram2d\": [{\"colorbar\": {\"outlinewidth\": 0, \"ticks\": \"\"}, \"colorscale\": [[0.0, \"#0d0887\"], [0.1111111111111111, \"#46039f\"], [0.2222222222222222, \"#7201a8\"], [0.3333333333333333, \"#9c179e\"], [0.4444444444444444, \"#bd3786\"], [0.5555555555555556, \"#d8576b\"], [0.6666666666666666, \"#ed7953\"], [0.7777777777777778, \"#fb9f3a\"], [0.8888888888888888, \"#fdca26\"], [1.0, \"#f0f921\"]], \"type\": \"histogram2d\"}], \"histogram2dcontour\": [{\"colorbar\": {\"outlinewidth\": 0, \"ticks\": \"\"}, \"colorscale\": [[0.0, \"#0d0887\"], [0.1111111111111111, \"#46039f\"], [0.2222222222222222, \"#7201a8\"], [0.3333333333333333, \"#9c179e\"], [0.4444444444444444, \"#bd3786\"], [0.5555555555555556, \"#d8576b\"], [0.6666666666666666, \"#ed7953\"], [0.7777777777777778, \"#fb9f3a\"], [0.8888888888888888, \"#fdca26\"], [1.0, \"#f0f921\"]], \"type\": \"histogram2dcontour\"}], \"mesh3d\": [{\"colorbar\": {\"outlinewidth\": 0, \"ticks\": \"\"}, \"type\": \"mesh3d\"}], \"parcoords\": [{\"line\": {\"colorbar\": {\"outlinewidth\": 0, \"ticks\": \"\"}}, \"type\": \"parcoords\"}], \"pie\": [{\"automargin\": true, \"type\": \"pie\"}], \"scatter\": [{\"marker\": {\"colorbar\": {\"outlinewidth\": 0, \"ticks\": \"\"}}, \"type\": \"scatter\"}], \"scatter3d\": [{\"line\": {\"colorbar\": {\"outlinewidth\": 0, \"ticks\": \"\"}}, \"marker\": {\"colorbar\": {\"outlinewidth\": 0, \"ticks\": \"\"}}, \"type\": \"scatter3d\"}], \"scattercarpet\": [{\"marker\": {\"colorbar\": {\"outlinewidth\": 0, \"ticks\": \"\"}}, \"type\": \"scattercarpet\"}], \"scattergeo\": [{\"marker\": {\"colorbar\": {\"outlinewidth\": 0, \"ticks\": \"\"}}, \"type\": \"scattergeo\"}], \"scattergl\": [{\"marker\": {\"colorbar\": {\"outlinewidth\": 0, \"ticks\": \"\"}}, \"type\": \"scattergl\"}], \"scattermapbox\": [{\"marker\": {\"colorbar\": {\"outlinewidth\": 0, \"ticks\": \"\"}}, \"type\": \"scattermapbox\"}], \"scatterpolar\": [{\"marker\": {\"colorbar\": {\"outlinewidth\": 0, \"ticks\": \"\"}}, \"type\": \"scatterpolar\"}], \"scatterpolargl\": [{\"marker\": {\"colorbar\": {\"outlinewidth\": 0, \"ticks\": \"\"}}, \"type\": \"scatterpolargl\"}], \"scatterternary\": [{\"marker\": {\"colorbar\": {\"outlinewidth\": 0, \"ticks\": \"\"}}, \"type\": \"scatterternary\"}], \"surface\": [{\"colorbar\": {\"outlinewidth\": 0, \"ticks\": \"\"}, \"colorscale\": [[0.0, \"#0d0887\"], [0.1111111111111111, \"#46039f\"], [0.2222222222222222, \"#7201a8\"], [0.3333333333333333, \"#9c179e\"], [0.4444444444444444, \"#bd3786\"], [0.5555555555555556, \"#d8576b\"], [0.6666666666666666, \"#ed7953\"], [0.7777777777777778, \"#fb9f3a\"], [0.8888888888888888, \"#fdca26\"], [1.0, \"#f0f921\"]], \"type\": \"surface\"}], \"table\": [{\"cells\": {\"fill\": {\"color\": \"#EBF0F8\"}, \"line\": {\"color\": \"white\"}}, \"header\": {\"fill\": {\"color\": \"#C8D4E3\"}, \"line\": {\"color\": \"white\"}}, \"type\": \"table\"}]}, \"layout\": {\"annotationdefaults\": {\"arrowcolor\": \"#2a3f5f\", \"arrowhead\": 0, \"arrowwidth\": 1}, \"autotypenumbers\": \"strict\", \"coloraxis\": {\"colorbar\": {\"outlinewidth\": 0, \"ticks\": \"\"}}, \"colorscale\": {\"diverging\": [[0, \"#8e0152\"], [0.1, \"#c51b7d\"], [0.2, \"#de77ae\"], [0.3, \"#f1b6da\"], [0.4, \"#fde0ef\"], [0.5, \"#f7f7f7\"], [0.6, \"#e6f5d0\"], [0.7, \"#b8e186\"], [0.8, \"#7fbc41\"], [0.9, \"#4d9221\"], [1, \"#276419\"]], \"sequential\": [[0.0, \"#0d0887\"], [0.1111111111111111, \"#46039f\"], [0.2222222222222222, \"#7201a8\"], [0.3333333333333333, \"#9c179e\"], [0.4444444444444444, \"#bd3786\"], [0.5555555555555556, \"#d8576b\"], [0.6666666666666666, \"#ed7953\"], [0.7777777777777778, \"#fb9f3a\"], [0.8888888888888888, \"#fdca26\"], [1.0, \"#f0f921\"]], \"sequentialminus\": [[0.0, \"#0d0887\"], [0.1111111111111111, \"#46039f\"], [0.2222222222222222, \"#7201a8\"], [0.3333333333333333, \"#9c179e\"], [0.4444444444444444, \"#bd3786\"], [0.5555555555555556, \"#d8576b\"], [0.6666666666666666, \"#ed7953\"], [0.7777777777777778, \"#fb9f3a\"], [0.8888888888888888, \"#fdca26\"], [1.0, \"#f0f921\"]]}, \"colorway\": [\"#636efa\", \"#EF553B\", \"#00cc96\", \"#ab63fa\", \"#FFA15A\", \"#19d3f3\", \"#FF6692\", \"#B6E880\", \"#FF97FF\", \"#FECB52\"], \"font\": {\"color\": \"#2a3f5f\"}, \"geo\": {\"bgcolor\": \"white\", \"lakecolor\": \"white\", \"landcolor\": \"#E5ECF6\", \"showlakes\": true, \"showland\": true, \"subunitcolor\": \"white\"}, \"hoverlabel\": {\"align\": \"left\"}, \"hovermode\": \"closest\", \"mapbox\": {\"style\": \"light\"}, \"paper_bgcolor\": \"white\", \"plot_bgcolor\": \"#E5ECF6\", \"polar\": {\"angularaxis\": {\"gridcolor\": \"white\", \"linecolor\": \"white\", \"ticks\": \"\"}, \"bgcolor\": \"#E5ECF6\", \"radialaxis\": {\"gridcolor\": \"white\", \"linecolor\": \"white\", \"ticks\": \"\"}}, \"scene\": {\"xaxis\": {\"backgroundcolor\": \"#E5ECF6\", \"gridcolor\": \"white\", \"gridwidth\": 2, \"linecolor\": \"white\", \"showbackground\": true, \"ticks\": \"\", \"zerolinecolor\": \"white\"}, \"yaxis\": {\"backgroundcolor\": \"#E5ECF6\", \"gridcolor\": \"white\", \"gridwidth\": 2, \"linecolor\": \"white\", \"showbackground\": true, \"ticks\": \"\", \"zerolinecolor\": \"white\"}, \"zaxis\": {\"backgroundcolor\": \"#E5ECF6\", \"gridcolor\": \"white\", \"gridwidth\": 2, \"linecolor\": \"white\", \"showbackground\": true, \"ticks\": \"\", \"zerolinecolor\": \"white\"}}, \"shapedefaults\": {\"line\": {\"color\": \"#2a3f5f\"}}, \"ternary\": {\"aaxis\": {\"gridcolor\": \"white\", \"linecolor\": \"white\", \"ticks\": \"\"}, \"baxis\": {\"gridcolor\": \"white\", \"linecolor\": \"white\", \"ticks\": \"\"}, \"bgcolor\": \"#E5ECF6\", \"caxis\": {\"gridcolor\": \"white\", \"linecolor\": \"white\", \"ticks\": \"\"}}, \"title\": {\"x\": 0.05}, \"xaxis\": {\"automargin\": true, \"gridcolor\": \"white\", \"linecolor\": \"white\", \"ticks\": \"\", \"title\": {\"standoff\": 15}, \"zerolinecolor\": \"white\", \"zerolinewidth\": 2}, \"yaxis\": {\"automargin\": true, \"gridcolor\": \"white\", \"linecolor\": \"white\", \"ticks\": \"\", \"title\": {\"standoff\": 15}, \"zerolinecolor\": \"white\", \"zerolinewidth\": 2}}}, \"xaxis\": {\"anchor\": \"y\", \"domain\": [0.0, 0.94], \"fixedrange\": true, \"showgrid\": false, \"showspikes\": true, \"spikethickness\": 2, \"tickformat\": \"000\", \"title\": {\"text\": \"Year\"}}, \"yaxis\": {\"anchor\": \"x\", \"domain\": [0.0, 1.0], \"dtick\": 0.25, \"fixedrange\": true, \"range\": [-1, 1], \"showgrid\": false, \"showspikes\": true, \"tick0\": 0, \"title\": {\"text\": \"Difference (\\u00b0C) from 1981-2010 Normal\"}}, \"yaxis2\": {\"anchor\": \"x\", \"dtick\": 0.5, \"fixedrange\": true, \"overlaying\": \"y\", \"range\": [9.5, 11.6], \"showgrid\": false, \"side\": \"right\", \"tick0\": 10.6, \"title\": {\"text\": \"Annual SST (\\u00b0C)\"}}},                        {\"responsive\": true}                    ).then(function(){\n                            \nvar gd = document.getElementById('403731e8-172c-47df-909d-487d722725ac');\nvar x = new MutationObserver(function (mutations, observer) {{\n        var display = window.getComputedStyle(gd).display;\n        if (!display || display === 'none') {{\n            console.log([gd, 'removed!']);\n            Plotly.purge(gd);\n            observer.disconnect();\n        }}\n}});\n\n// Listen for the removal of the full notebook cells\nvar notebookContainer = gd.closest('#notebook-container');\nif (notebookContainer) {{\n    x.observe(notebookContainer, {childList: true});\n}}\n\n// Listen for the clearing of the current output cell\nvar outputEl = gd.closest('.output');\nif (outputEl) {{\n    x.observe(outputEl, {childList: true});\n}}\n\n                        })                };                });            </script>        </div>"
     },
     "metadata": {}
    }
   ],
   "source": [
    "figure_3_1 = make_subplots(specs=[[{'secondary_y': True}]])\n",
    "figure_3_1.add_trace(annualTrace,\n",
    "            secondary_y=False,)\n",
    "figure_3_1.add_trace(movingAverage,\n",
    "            secondary_y=False,)\n",
    "figure_3_1.add_trace(normal,\n",
    "            secondary_y=True,)\n",
    "\n",
    "figure_3_1.update_layout(TIMESERIES_LAYOUT)\n",
    "figure_3_1.update_yaxes(title_text='Difference (\\u00b0C) from 1981-2010 Normal',\n",
    "                        secondary_y=False,\n",
    "                        range=[-1, 1],\n",
    "                        showgrid=False,\n",
    "                        dtick=0.25,  # dtick sets the distance between ticks\n",
    "                        tick0=0,  # tick0 sets a point to map the other ticks\n",
    "                        fixedrange=True,\n",
    "                        showspikes=True,\n",
    "                        # zeroline=True,  # add a zero line\n",
    "                        # zerolinecolor=TIMESERIES_COLOR_SECONDARY\n",
    "                        )\n",
    "figure_3_1.update_yaxes(title_text='Annual SST (\\u00b0C)',\n",
    "                        secondary_y=True,\n",
    "                        range=[9.5, 11.6],\n",
    "                        showgrid=False,\n",
    "                        dtick=0.5,  # dtick sets the distance between ticks\n",
    "                        tick0=10.6,  # tick0 sets a point to map the other ticks\n",
    "                        fixedrange=True,\n",
    "                        )\n",
    "\n",
    "figure_3_1.update_xaxes(\n",
    "    title='Year',\n",
    "    fixedrange=True,\n",
    "    tickformat='000',  \n",
    "    showspikes=True,  \n",
    "    spikethickness=2, \n",
    ") \n"
   ]
  },
  {
   "cell_type": "code",
   "execution_count": 22,
   "metadata": {},
   "outputs": [
    {
     "output_type": "execute_result",
     "data": {
      "text/plain": [
       "    Decimal Year  Temperature °C  Temperature Anomaly °C  \\\n",
       "0           1975            4.36                    0.20   \n",
       "1           1976            4.21                    0.04   \n",
       "2           1977            4.26                    0.10   \n",
       "3           1978            4.26                    0.09   \n",
       "4           1979            4.60                    0.43   \n",
       "5           1980            4.20                    0.03   \n",
       "6           1981            4.33                    0.17   \n",
       "7           1982             NaN                     NaN   \n",
       "8           1983            4.20                    0.03   \n",
       "9           1984            4.27                    0.10   \n",
       "10          1985            4.17                    0.01   \n",
       "11          1986             NaN                     NaN   \n",
       "12          1987            4.12                   -0.05   \n",
       "13          1988            4.19                    0.02   \n",
       "14          1989            4.20                    0.03   \n",
       "15          1990            3.97                   -0.20   \n",
       "16          1991             NaN                     NaN   \n",
       "17          1992            3.96                   -0.21   \n",
       "18          1993            4.13                   -0.04   \n",
       "19          1994            4.07                   -0.10   \n",
       "20          1995            4.09                   -0.08   \n",
       "21          1996            4.10                   -0.07   \n",
       "22          1997            4.12                   -0.05   \n",
       "23          1998            4.16                   -0.01   \n",
       "24          1999            4.18                    0.01   \n",
       "25          2000            4.17                    0.01   \n",
       "26          2001            4.02                   -0.15   \n",
       "27          2002             NaN                     NaN   \n",
       "28          2003            4.23                    0.06   \n",
       "29          2004            4.14                   -0.03   \n",
       "30          2005            4.36                    0.19   \n",
       "31          2006            4.30                    0.13   \n",
       "32          2007            4.21                    0.04   \n",
       "33          2008            4.21                    0.04   \n",
       "34          2009            4.09                   -0.08   \n",
       "35          2010            4.35                    0.18   \n",
       "36          2011            4.15                   -0.02   \n",
       "37          2012            4.12                   -0.05   \n",
       "38          2013            4.17                    0.00   \n",
       "39          2014            4.17                    0.00   \n",
       "40          2015            4.11                   -0.06   \n",
       "41          2016            4.24                    0.07   \n",
       "42          2017            4.20                    0.03   \n",
       "43          2018            4.18                    0.01   \n",
       "44          2019             NaN                     NaN   \n",
       "45          2020             NaN                     NaN   \n",
       "\n",
       "     Temperature Anomaly Normalised °C  5 year moving average  \\\n",
       "0                                 1.87                    NaN   \n",
       "1                                 0.36                    NaN   \n",
       "2                                 0.92               0.172000   \n",
       "3                                 0.90               0.138000   \n",
       "4                                 4.11               0.164000   \n",
       "5                                 0.31               0.180000   \n",
       "6                                 1.60               0.165000   \n",
       "7                                  NaN               0.082500   \n",
       "8                                 0.31               0.077500   \n",
       "9                                 0.98               0.046667   \n",
       "10                                0.06               0.022500   \n",
       "11                                 NaN               0.020000   \n",
       "12                               -0.45               0.002500   \n",
       "13                                0.22              -0.050000   \n",
       "14                                0.31              -0.050000   \n",
       "15                               -1.89              -0.090000   \n",
       "16                                 NaN              -0.105000   \n",
       "17                               -1.99              -0.137500   \n",
       "18                               -0.36              -0.107500   \n",
       "19                               -0.91              -0.100000   \n",
       "20                               -0.74              -0.068000   \n",
       "21                               -0.65              -0.062000   \n",
       "22                               -0.45              -0.040000   \n",
       "23                               -0.07              -0.022000   \n",
       "24                                0.12              -0.038000   \n",
       "25                                0.07              -0.035000   \n",
       "26                               -1.41              -0.017500   \n",
       "27                                 NaN              -0.027500   \n",
       "28                                0.60               0.017500   \n",
       "29                               -0.26               0.087500   \n",
       "30                                1.84               0.078000   \n",
       "31                                1.27               0.074000   \n",
       "32                                0.41               0.064000   \n",
       "33                                0.41               0.062000   \n",
       "34                               -0.74               0.032000   \n",
       "35                                1.75               0.014000   \n",
       "36                               -0.17               0.006000   \n",
       "37                               -0.45               0.022000   \n",
       "38                                0.02              -0.026000   \n",
       "39                                0.02              -0.008000   \n",
       "40                               -0.55               0.008000   \n",
       "41                                0.70               0.010000   \n",
       "42                                0.30                    NaN   \n",
       "43                                0.10                    NaN   \n",
       "44                                 NaN                    NaN   \n",
       "45                                 NaN                    NaN   \n",
       "\n",
       "    1981-2010 (Normalized)  Unnamed: 6  Unnamed: 7  Unnamed: 8  Unnamed: 9  \\\n",
       "0                 4.166923         NaN         NaN         NaN         NaN   \n",
       "1                 4.166923         NaN         NaN         NaN         NaN   \n",
       "2                 4.166923    4.338000         NaN         NaN         NaN   \n",
       "3                 4.166923    4.306000         NaN         NaN         NaN   \n",
       "4                 4.166923    4.330000         NaN         NaN         NaN   \n",
       "5                 4.166923    4.347500         NaN         NaN         NaN   \n",
       "6                 4.166923    4.332500         NaN         NaN         NaN   \n",
       "7                 4.166923    4.250000         NaN         NaN         NaN   \n",
       "8                 4.166923    4.242500         NaN         NaN         NaN   \n",
       "9                 4.166923    4.213333         NaN         NaN         NaN   \n",
       "10                4.166923    4.190000         NaN         NaN         NaN   \n",
       "11                4.166923    4.187500         NaN         NaN         NaN   \n",
       "12                4.166923    4.170000         NaN         NaN         NaN   \n",
       "13                4.166923    4.120000         NaN         NaN         NaN   \n",
       "14                4.166923    4.120000         NaN         NaN         NaN   \n",
       "15                4.166923    4.080000         NaN         NaN         NaN   \n",
       "16                4.166923    4.065000         NaN         NaN         NaN   \n",
       "17                4.166923    4.032500         NaN         NaN         NaN   \n",
       "18                4.166923    4.062500         NaN         NaN         NaN   \n",
       "19                4.166923    4.070000         NaN         NaN         NaN   \n",
       "20                4.166923    4.102000         NaN         NaN         NaN   \n",
       "21                4.166923    4.108000         NaN         NaN         NaN   \n",
       "22                4.166923    4.130000         NaN         NaN         NaN   \n",
       "23                4.166923    4.146000         NaN         NaN         NaN   \n",
       "24                4.166923    4.130000         NaN         NaN         NaN   \n",
       "25                4.166923    4.132500         NaN         NaN         NaN   \n",
       "26                4.166923    4.150000         NaN         NaN         NaN   \n",
       "27                4.166923    4.140000         NaN         NaN         NaN   \n",
       "28                4.166923    4.187500         NaN         NaN         NaN   \n",
       "29                4.166923    4.257500         NaN         NaN         NaN   \n",
       "30                4.166923    4.248000         NaN         NaN         NaN   \n",
       "31                4.166923    4.244000         NaN         NaN         NaN   \n",
       "32                4.166923    4.234000         NaN         NaN         NaN   \n",
       "33                4.166923    4.232000         NaN         NaN         NaN   \n",
       "34                4.166923    4.202000         NaN         NaN         NaN   \n",
       "35                4.166923    4.184000         NaN         NaN         NaN   \n",
       "36                4.166923    4.176000         NaN         NaN         NaN   \n",
       "37                4.166923    4.192000         NaN         NaN         NaN   \n",
       "38                4.166923    4.144000         NaN         NaN         NaN   \n",
       "39                4.166923    4.162000         NaN         NaN         NaN   \n",
       "40                4.166923    4.178000         NaN         NaN         NaN   \n",
       "41                4.166923    4.180000         NaN         NaN         NaN   \n",
       "42                4.166923         NaN         NaN         NaN         NaN   \n",
       "43                4.166923         NaN         NaN         NaN         NaN   \n",
       "44                     NaN         NaN         NaN         NaN         NaN   \n",
       "45                     NaN         NaN         NaN         NaN         NaN   \n",
       "\n",
       "    Unnamed: 10  Unnamed: 11 Unnamed: 12  \n",
       "0           NaN          NaN         NaN  \n",
       "1           NaN          NaN         NaN  \n",
       "2           NaN          NaN         NaN  \n",
       "3           NaN          NaN         NaN  \n",
       "4           NaN          NaN         NaN  \n",
       "5           NaN          NaN         NaN  \n",
       "6           NaN          NaN         NaN  \n",
       "7           NaN          NaN         NaN  \n",
       "8           NaN          NaN         NaN  \n",
       "9           NaN          NaN         NaN  \n",
       "10          NaN          NaN         NaN  \n",
       "11          NaN          NaN         NaN  \n",
       "12          NaN          NaN         NaN  \n",
       "13          NaN          NaN         NaN  \n",
       "14          NaN          NaN         NaN  \n",
       "15          NaN          NaN         NaN  \n",
       "16          NaN          NaN         NaN  \n",
       "17          NaN          NaN         NaN  \n",
       "18          NaN          NaN         NaN  \n",
       "19          NaN          NaN         NaN  \n",
       "20          NaN          NaN         NaN  \n",
       "21          NaN          NaN         NaN  \n",
       "22          NaN          NaN         NaN  \n",
       "23          NaN          NaN         NaN  \n",
       "24          NaN          NaN         NaN  \n",
       "25          NaN          NaN         NaN  \n",
       "26          NaN          NaN         NaN  \n",
       "27          NaN          NaN         NaN  \n",
       "28          NaN          NaN         NaN  \n",
       "29          NaN          NaN         NaN  \n",
       "30          NaN          NaN         NaN  \n",
       "31          NaN          NaN         NaN  \n",
       "32          NaN          NaN         NaN  \n",
       "33          NaN          NaN         NaN  \n",
       "34          NaN          NaN         NaN  \n",
       "35          NaN          NaN         NaN  \n",
       "36          NaN          NaN         NaN  \n",
       "37          NaN          NaN         NaN  \n",
       "38          NaN          NaN         NaN  \n",
       "39          NaN          NaN         NaN  \n",
       "40          NaN          NaN         NaN  \n",
       "41          NaN          NaN         NaN  \n",
       "42          NaN          NaN         NaN  \n",
       "43          NaN          NaN              \n",
       "44          NaN          NaN         NaN  \n",
       "45          NaN          NaN         NaN  "
      ],
      "text/html": "<div>\n<style scoped>\n    .dataframe tbody tr th:only-of-type {\n        vertical-align: middle;\n    }\n\n    .dataframe tbody tr th {\n        vertical-align: top;\n    }\n\n    .dataframe thead th {\n        text-align: right;\n    }\n</style>\n<table border=\"1\" class=\"dataframe\">\n  <thead>\n    <tr style=\"text-align: right;\">\n      <th></th>\n      <th>Decimal Year</th>\n      <th>Temperature °C</th>\n      <th>Temperature Anomaly °C</th>\n      <th>Temperature Anomaly Normalised °C</th>\n      <th>5 year moving average</th>\n      <th>1981-2010 (Normalized)</th>\n      <th>Unnamed: 6</th>\n      <th>Unnamed: 7</th>\n      <th>Unnamed: 8</th>\n      <th>Unnamed: 9</th>\n      <th>Unnamed: 10</th>\n      <th>Unnamed: 11</th>\n      <th>Unnamed: 12</th>\n    </tr>\n  </thead>\n  <tbody>\n    <tr>\n      <th>0</th>\n      <td>1975</td>\n      <td>4.36</td>\n      <td>0.20</td>\n      <td>1.87</td>\n      <td>NaN</td>\n      <td>4.166923</td>\n      <td>NaN</td>\n      <td>NaN</td>\n      <td>NaN</td>\n      <td>NaN</td>\n      <td>NaN</td>\n      <td>NaN</td>\n      <td>NaN</td>\n    </tr>\n    <tr>\n      <th>1</th>\n      <td>1976</td>\n      <td>4.21</td>\n      <td>0.04</td>\n      <td>0.36</td>\n      <td>NaN</td>\n      <td>4.166923</td>\n      <td>NaN</td>\n      <td>NaN</td>\n      <td>NaN</td>\n      <td>NaN</td>\n      <td>NaN</td>\n      <td>NaN</td>\n      <td>NaN</td>\n    </tr>\n    <tr>\n      <th>2</th>\n      <td>1977</td>\n      <td>4.26</td>\n      <td>0.10</td>\n      <td>0.92</td>\n      <td>0.172000</td>\n      <td>4.166923</td>\n      <td>4.338000</td>\n      <td>NaN</td>\n      <td>NaN</td>\n      <td>NaN</td>\n      <td>NaN</td>\n      <td>NaN</td>\n      <td>NaN</td>\n    </tr>\n    <tr>\n      <th>3</th>\n      <td>1978</td>\n      <td>4.26</td>\n      <td>0.09</td>\n      <td>0.90</td>\n      <td>0.138000</td>\n      <td>4.166923</td>\n      <td>4.306000</td>\n      <td>NaN</td>\n      <td>NaN</td>\n      <td>NaN</td>\n      <td>NaN</td>\n      <td>NaN</td>\n      <td>NaN</td>\n    </tr>\n    <tr>\n      <th>4</th>\n      <td>1979</td>\n      <td>4.60</td>\n      <td>0.43</td>\n      <td>4.11</td>\n      <td>0.164000</td>\n      <td>4.166923</td>\n      <td>4.330000</td>\n      <td>NaN</td>\n      <td>NaN</td>\n      <td>NaN</td>\n      <td>NaN</td>\n      <td>NaN</td>\n      <td>NaN</td>\n    </tr>\n    <tr>\n      <th>5</th>\n      <td>1980</td>\n      <td>4.20</td>\n      <td>0.03</td>\n      <td>0.31</td>\n      <td>0.180000</td>\n      <td>4.166923</td>\n      <td>4.347500</td>\n      <td>NaN</td>\n      <td>NaN</td>\n      <td>NaN</td>\n      <td>NaN</td>\n      <td>NaN</td>\n      <td>NaN</td>\n    </tr>\n    <tr>\n      <th>6</th>\n      <td>1981</td>\n      <td>4.33</td>\n      <td>0.17</td>\n      <td>1.60</td>\n      <td>0.165000</td>\n      <td>4.166923</td>\n      <td>4.332500</td>\n      <td>NaN</td>\n      <td>NaN</td>\n      <td>NaN</td>\n      <td>NaN</td>\n      <td>NaN</td>\n      <td>NaN</td>\n    </tr>\n    <tr>\n      <th>7</th>\n      <td>1982</td>\n      <td>NaN</td>\n      <td>NaN</td>\n      <td>NaN</td>\n      <td>0.082500</td>\n      <td>4.166923</td>\n      <td>4.250000</td>\n      <td>NaN</td>\n      <td>NaN</td>\n      <td>NaN</td>\n      <td>NaN</td>\n      <td>NaN</td>\n      <td>NaN</td>\n    </tr>\n    <tr>\n      <th>8</th>\n      <td>1983</td>\n      <td>4.20</td>\n      <td>0.03</td>\n      <td>0.31</td>\n      <td>0.077500</td>\n      <td>4.166923</td>\n      <td>4.242500</td>\n      <td>NaN</td>\n      <td>NaN</td>\n      <td>NaN</td>\n      <td>NaN</td>\n      <td>NaN</td>\n      <td>NaN</td>\n    </tr>\n    <tr>\n      <th>9</th>\n      <td>1984</td>\n      <td>4.27</td>\n      <td>0.10</td>\n      <td>0.98</td>\n      <td>0.046667</td>\n      <td>4.166923</td>\n      <td>4.213333</td>\n      <td>NaN</td>\n      <td>NaN</td>\n      <td>NaN</td>\n      <td>NaN</td>\n      <td>NaN</td>\n      <td>NaN</td>\n    </tr>\n    <tr>\n      <th>10</th>\n      <td>1985</td>\n      <td>4.17</td>\n      <td>0.01</td>\n      <td>0.06</td>\n      <td>0.022500</td>\n      <td>4.166923</td>\n      <td>4.190000</td>\n      <td>NaN</td>\n      <td>NaN</td>\n      <td>NaN</td>\n      <td>NaN</td>\n      <td>NaN</td>\n      <td>NaN</td>\n    </tr>\n    <tr>\n      <th>11</th>\n      <td>1986</td>\n      <td>NaN</td>\n      <td>NaN</td>\n      <td>NaN</td>\n      <td>0.020000</td>\n      <td>4.166923</td>\n      <td>4.187500</td>\n      <td>NaN</td>\n      <td>NaN</td>\n      <td>NaN</td>\n      <td>NaN</td>\n      <td>NaN</td>\n      <td>NaN</td>\n    </tr>\n    <tr>\n      <th>12</th>\n      <td>1987</td>\n      <td>4.12</td>\n      <td>-0.05</td>\n      <td>-0.45</td>\n      <td>0.002500</td>\n      <td>4.166923</td>\n      <td>4.170000</td>\n      <td>NaN</td>\n      <td>NaN</td>\n      <td>NaN</td>\n      <td>NaN</td>\n      <td>NaN</td>\n      <td>NaN</td>\n    </tr>\n    <tr>\n      <th>13</th>\n      <td>1988</td>\n      <td>4.19</td>\n      <td>0.02</td>\n      <td>0.22</td>\n      <td>-0.050000</td>\n      <td>4.166923</td>\n      <td>4.120000</td>\n      <td>NaN</td>\n      <td>NaN</td>\n      <td>NaN</td>\n      <td>NaN</td>\n      <td>NaN</td>\n      <td>NaN</td>\n    </tr>\n    <tr>\n      <th>14</th>\n      <td>1989</td>\n      <td>4.20</td>\n      <td>0.03</td>\n      <td>0.31</td>\n      <td>-0.050000</td>\n      <td>4.166923</td>\n      <td>4.120000</td>\n      <td>NaN</td>\n      <td>NaN</td>\n      <td>NaN</td>\n      <td>NaN</td>\n      <td>NaN</td>\n      <td>NaN</td>\n    </tr>\n    <tr>\n      <th>15</th>\n      <td>1990</td>\n      <td>3.97</td>\n      <td>-0.20</td>\n      <td>-1.89</td>\n      <td>-0.090000</td>\n      <td>4.166923</td>\n      <td>4.080000</td>\n      <td>NaN</td>\n      <td>NaN</td>\n      <td>NaN</td>\n      <td>NaN</td>\n      <td>NaN</td>\n      <td>NaN</td>\n    </tr>\n    <tr>\n      <th>16</th>\n      <td>1991</td>\n      <td>NaN</td>\n      <td>NaN</td>\n      <td>NaN</td>\n      <td>-0.105000</td>\n      <td>4.166923</td>\n      <td>4.065000</td>\n      <td>NaN</td>\n      <td>NaN</td>\n      <td>NaN</td>\n      <td>NaN</td>\n      <td>NaN</td>\n      <td>NaN</td>\n    </tr>\n    <tr>\n      <th>17</th>\n      <td>1992</td>\n      <td>3.96</td>\n      <td>-0.21</td>\n      <td>-1.99</td>\n      <td>-0.137500</td>\n      <td>4.166923</td>\n      <td>4.032500</td>\n      <td>NaN</td>\n      <td>NaN</td>\n      <td>NaN</td>\n      <td>NaN</td>\n      <td>NaN</td>\n      <td>NaN</td>\n    </tr>\n    <tr>\n      <th>18</th>\n      <td>1993</td>\n      <td>4.13</td>\n      <td>-0.04</td>\n      <td>-0.36</td>\n      <td>-0.107500</td>\n      <td>4.166923</td>\n      <td>4.062500</td>\n      <td>NaN</td>\n      <td>NaN</td>\n      <td>NaN</td>\n      <td>NaN</td>\n      <td>NaN</td>\n      <td>NaN</td>\n    </tr>\n    <tr>\n      <th>19</th>\n      <td>1994</td>\n      <td>4.07</td>\n      <td>-0.10</td>\n      <td>-0.91</td>\n      <td>-0.100000</td>\n      <td>4.166923</td>\n      <td>4.070000</td>\n      <td>NaN</td>\n      <td>NaN</td>\n      <td>NaN</td>\n      <td>NaN</td>\n      <td>NaN</td>\n      <td>NaN</td>\n    </tr>\n    <tr>\n      <th>20</th>\n      <td>1995</td>\n      <td>4.09</td>\n      <td>-0.08</td>\n      <td>-0.74</td>\n      <td>-0.068000</td>\n      <td>4.166923</td>\n      <td>4.102000</td>\n      <td>NaN</td>\n      <td>NaN</td>\n      <td>NaN</td>\n      <td>NaN</td>\n      <td>NaN</td>\n      <td>NaN</td>\n    </tr>\n    <tr>\n      <th>21</th>\n      <td>1996</td>\n      <td>4.10</td>\n      <td>-0.07</td>\n      <td>-0.65</td>\n      <td>-0.062000</td>\n      <td>4.166923</td>\n      <td>4.108000</td>\n      <td>NaN</td>\n      <td>NaN</td>\n      <td>NaN</td>\n      <td>NaN</td>\n      <td>NaN</td>\n      <td>NaN</td>\n    </tr>\n    <tr>\n      <th>22</th>\n      <td>1997</td>\n      <td>4.12</td>\n      <td>-0.05</td>\n      <td>-0.45</td>\n      <td>-0.040000</td>\n      <td>4.166923</td>\n      <td>4.130000</td>\n      <td>NaN</td>\n      <td>NaN</td>\n      <td>NaN</td>\n      <td>NaN</td>\n      <td>NaN</td>\n      <td>NaN</td>\n    </tr>\n    <tr>\n      <th>23</th>\n      <td>1998</td>\n      <td>4.16</td>\n      <td>-0.01</td>\n      <td>-0.07</td>\n      <td>-0.022000</td>\n      <td>4.166923</td>\n      <td>4.146000</td>\n      <td>NaN</td>\n      <td>NaN</td>\n      <td>NaN</td>\n      <td>NaN</td>\n      <td>NaN</td>\n      <td>NaN</td>\n    </tr>\n    <tr>\n      <th>24</th>\n      <td>1999</td>\n      <td>4.18</td>\n      <td>0.01</td>\n      <td>0.12</td>\n      <td>-0.038000</td>\n      <td>4.166923</td>\n      <td>4.130000</td>\n      <td>NaN</td>\n      <td>NaN</td>\n      <td>NaN</td>\n      <td>NaN</td>\n      <td>NaN</td>\n      <td>NaN</td>\n    </tr>\n    <tr>\n      <th>25</th>\n      <td>2000</td>\n      <td>4.17</td>\n      <td>0.01</td>\n      <td>0.07</td>\n      <td>-0.035000</td>\n      <td>4.166923</td>\n      <td>4.132500</td>\n      <td>NaN</td>\n      <td>NaN</td>\n      <td>NaN</td>\n      <td>NaN</td>\n      <td>NaN</td>\n      <td>NaN</td>\n    </tr>\n    <tr>\n      <th>26</th>\n      <td>2001</td>\n      <td>4.02</td>\n      <td>-0.15</td>\n      <td>-1.41</td>\n      <td>-0.017500</td>\n      <td>4.166923</td>\n      <td>4.150000</td>\n      <td>NaN</td>\n      <td>NaN</td>\n      <td>NaN</td>\n      <td>NaN</td>\n      <td>NaN</td>\n      <td>NaN</td>\n    </tr>\n    <tr>\n      <th>27</th>\n      <td>2002</td>\n      <td>NaN</td>\n      <td>NaN</td>\n      <td>NaN</td>\n      <td>-0.027500</td>\n      <td>4.166923</td>\n      <td>4.140000</td>\n      <td>NaN</td>\n      <td>NaN</td>\n      <td>NaN</td>\n      <td>NaN</td>\n      <td>NaN</td>\n      <td>NaN</td>\n    </tr>\n    <tr>\n      <th>28</th>\n      <td>2003</td>\n      <td>4.23</td>\n      <td>0.06</td>\n      <td>0.60</td>\n      <td>0.017500</td>\n      <td>4.166923</td>\n      <td>4.187500</td>\n      <td>NaN</td>\n      <td>NaN</td>\n      <td>NaN</td>\n      <td>NaN</td>\n      <td>NaN</td>\n      <td>NaN</td>\n    </tr>\n    <tr>\n      <th>29</th>\n      <td>2004</td>\n      <td>4.14</td>\n      <td>-0.03</td>\n      <td>-0.26</td>\n      <td>0.087500</td>\n      <td>4.166923</td>\n      <td>4.257500</td>\n      <td>NaN</td>\n      <td>NaN</td>\n      <td>NaN</td>\n      <td>NaN</td>\n      <td>NaN</td>\n      <td>NaN</td>\n    </tr>\n    <tr>\n      <th>30</th>\n      <td>2005</td>\n      <td>4.36</td>\n      <td>0.19</td>\n      <td>1.84</td>\n      <td>0.078000</td>\n      <td>4.166923</td>\n      <td>4.248000</td>\n      <td>NaN</td>\n      <td>NaN</td>\n      <td>NaN</td>\n      <td>NaN</td>\n      <td>NaN</td>\n      <td>NaN</td>\n    </tr>\n    <tr>\n      <th>31</th>\n      <td>2006</td>\n      <td>4.30</td>\n      <td>0.13</td>\n      <td>1.27</td>\n      <td>0.074000</td>\n      <td>4.166923</td>\n      <td>4.244000</td>\n      <td>NaN</td>\n      <td>NaN</td>\n      <td>NaN</td>\n      <td>NaN</td>\n      <td>NaN</td>\n      <td>NaN</td>\n    </tr>\n    <tr>\n      <th>32</th>\n      <td>2007</td>\n      <td>4.21</td>\n      <td>0.04</td>\n      <td>0.41</td>\n      <td>0.064000</td>\n      <td>4.166923</td>\n      <td>4.234000</td>\n      <td>NaN</td>\n      <td>NaN</td>\n      <td>NaN</td>\n      <td>NaN</td>\n      <td>NaN</td>\n      <td>NaN</td>\n    </tr>\n    <tr>\n      <th>33</th>\n      <td>2008</td>\n      <td>4.21</td>\n      <td>0.04</td>\n      <td>0.41</td>\n      <td>0.062000</td>\n      <td>4.166923</td>\n      <td>4.232000</td>\n      <td>NaN</td>\n      <td>NaN</td>\n      <td>NaN</td>\n      <td>NaN</td>\n      <td>NaN</td>\n      <td>NaN</td>\n    </tr>\n    <tr>\n      <th>34</th>\n      <td>2009</td>\n      <td>4.09</td>\n      <td>-0.08</td>\n      <td>-0.74</td>\n      <td>0.032000</td>\n      <td>4.166923</td>\n      <td>4.202000</td>\n      <td>NaN</td>\n      <td>NaN</td>\n      <td>NaN</td>\n      <td>NaN</td>\n      <td>NaN</td>\n      <td>NaN</td>\n    </tr>\n    <tr>\n      <th>35</th>\n      <td>2010</td>\n      <td>4.35</td>\n      <td>0.18</td>\n      <td>1.75</td>\n      <td>0.014000</td>\n      <td>4.166923</td>\n      <td>4.184000</td>\n      <td>NaN</td>\n      <td>NaN</td>\n      <td>NaN</td>\n      <td>NaN</td>\n      <td>NaN</td>\n      <td>NaN</td>\n    </tr>\n    <tr>\n      <th>36</th>\n      <td>2011</td>\n      <td>4.15</td>\n      <td>-0.02</td>\n      <td>-0.17</td>\n      <td>0.006000</td>\n      <td>4.166923</td>\n      <td>4.176000</td>\n      <td>NaN</td>\n      <td>NaN</td>\n      <td>NaN</td>\n      <td>NaN</td>\n      <td>NaN</td>\n      <td>NaN</td>\n    </tr>\n    <tr>\n      <th>37</th>\n      <td>2012</td>\n      <td>4.12</td>\n      <td>-0.05</td>\n      <td>-0.45</td>\n      <td>0.022000</td>\n      <td>4.166923</td>\n      <td>4.192000</td>\n      <td>NaN</td>\n      <td>NaN</td>\n      <td>NaN</td>\n      <td>NaN</td>\n      <td>NaN</td>\n      <td>NaN</td>\n    </tr>\n    <tr>\n      <th>38</th>\n      <td>2013</td>\n      <td>4.17</td>\n      <td>0.00</td>\n      <td>0.02</td>\n      <td>-0.026000</td>\n      <td>4.166923</td>\n      <td>4.144000</td>\n      <td>NaN</td>\n      <td>NaN</td>\n      <td>NaN</td>\n      <td>NaN</td>\n      <td>NaN</td>\n      <td>NaN</td>\n    </tr>\n    <tr>\n      <th>39</th>\n      <td>2014</td>\n      <td>4.17</td>\n      <td>0.00</td>\n      <td>0.02</td>\n      <td>-0.008000</td>\n      <td>4.166923</td>\n      <td>4.162000</td>\n      <td>NaN</td>\n      <td>NaN</td>\n      <td>NaN</td>\n      <td>NaN</td>\n      <td>NaN</td>\n      <td>NaN</td>\n    </tr>\n    <tr>\n      <th>40</th>\n      <td>2015</td>\n      <td>4.11</td>\n      <td>-0.06</td>\n      <td>-0.55</td>\n      <td>0.008000</td>\n      <td>4.166923</td>\n      <td>4.178000</td>\n      <td>NaN</td>\n      <td>NaN</td>\n      <td>NaN</td>\n      <td>NaN</td>\n      <td>NaN</td>\n      <td>NaN</td>\n    </tr>\n    <tr>\n      <th>41</th>\n      <td>2016</td>\n      <td>4.24</td>\n      <td>0.07</td>\n      <td>0.70</td>\n      <td>0.010000</td>\n      <td>4.166923</td>\n      <td>4.180000</td>\n      <td>NaN</td>\n      <td>NaN</td>\n      <td>NaN</td>\n      <td>NaN</td>\n      <td>NaN</td>\n      <td>NaN</td>\n    </tr>\n    <tr>\n      <th>42</th>\n      <td>2017</td>\n      <td>4.20</td>\n      <td>0.03</td>\n      <td>0.30</td>\n      <td>NaN</td>\n      <td>4.166923</td>\n      <td>NaN</td>\n      <td>NaN</td>\n      <td>NaN</td>\n      <td>NaN</td>\n      <td>NaN</td>\n      <td>NaN</td>\n      <td>NaN</td>\n    </tr>\n    <tr>\n      <th>43</th>\n      <td>2018</td>\n      <td>4.18</td>\n      <td>0.01</td>\n      <td>0.10</td>\n      <td>NaN</td>\n      <td>4.166923</td>\n      <td>NaN</td>\n      <td>NaN</td>\n      <td>NaN</td>\n      <td>NaN</td>\n      <td>NaN</td>\n      <td>NaN</td>\n      <td></td>\n    </tr>\n    <tr>\n      <th>44</th>\n      <td>2019</td>\n      <td>NaN</td>\n      <td>NaN</td>\n      <td>NaN</td>\n      <td>NaN</td>\n      <td>NaN</td>\n      <td>NaN</td>\n      <td>NaN</td>\n      <td>NaN</td>\n      <td>NaN</td>\n      <td>NaN</td>\n      <td>NaN</td>\n      <td>NaN</td>\n    </tr>\n    <tr>\n      <th>45</th>\n      <td>2020</td>\n      <td>NaN</td>\n      <td>NaN</td>\n      <td>NaN</td>\n      <td>NaN</td>\n      <td>NaN</td>\n      <td>NaN</td>\n      <td>NaN</td>\n      <td>NaN</td>\n      <td>NaN</td>\n      <td>NaN</td>\n      <td>NaN</td>\n      <td>NaN</td>\n    </tr>\n  </tbody>\n</table>\n</div>"
     },
     "metadata": {},
     "execution_count": 22
    }
   ],
   "source": [
    "data_path = DATA_PATH+'Oceanic_Domain/3.1OceanSurfaceSubsurfaceTemperature/Figure3.3/'\n",
    "xls = pd.ExcelFile(\n",
    "    data_path+'SubSurfaceTemperature_Anomalies_Rockall.xlsx')\n",
    "df = xls.parse('Depth_Rockall', skiprows=20, index_col=None, na_values=['NA'])\n",
    "# df = pd.read_excel(xls, 'Depth_Rockall')\n",
    "# movingAverageTotals = df.temperature.rolling(window=5, center=True).mean() \n",
    "# df[\"5 Year Moving Average - Mean\"]=movingAverageTotals\n",
    "df"
   ]
  },
  {
   "cell_type": "code",
   "execution_count": 24,
   "metadata": {},
   "outputs": [],
   "source": [
    "annualTrace = go.Bar(x=df[\"Decimal Year\"],\n",
    "                     y=df[\"Temperature Anomaly °C\"],\n",
    "                     text=df[\"Temperature °C\"],\n",
    "                     name='Annual',\n",
    "                     marker=dict(\n",
    "                            # color=\"#214a7b\", color used in report\n",
    "                            color=TIMESERIES_COLOR_SECONDARY,\n",
    "                            opacity=0.5\n",
    "                            ),\n",
    "                     hovertemplate='%{x}<br>' +\n",
    "                            '<b>Annual</b><br>' +\n",
    "                            'Total: %{text:.2f}\\u00b0C<br>' +\n",
    "                            'Anomaly: %{y:.2f}\\u00b0C<extra></extra>'\n",
    "                            )\n",
    "movingAverage = go.Scatter(x=df[\"Decimal Year\"],\n",
    "                     y=df[\"5 year moving average\"],\n",
    "                    #  text=df[\"5 Year Moving Average - Mean\"],\n",
    "                     name='5yr Moving Average',\n",
    "                     mode='lines',  # 'line' is default\n",
    "                     line_shape='spline',\n",
    "                     line=dict(\n",
    "                            # color=\"#fc0d1b\", color used in report\n",
    "                            color=TIMESERIES_COLOR_PRIMARY,\n",
    "                            width=2),\n",
    "                     hovertemplate='%{x}<br>' +\n",
    "                            '<b>5yr Moving Average</b><br>' +\n",
    "                            # 'Total: %{text:.2f}\\u00b0C<br>' +\n",
    "                            'Anomaly: %{y:.2f}\\u00b0C<extra></extra>'\n",
    "                            )\n",
    "normal = go.Scatter(x=df[\"Decimal Year\"],\n",
    "                     y=df[\"1981-2010 (Normalized)\"],\n",
    "                     name='1981-2010 Normal',\n",
    "                     mode='lines',  # 'line' is default\n",
    "                     line_shape='spline',\n",
    "                     line=dict(color=\"#fdbf2d\", #color used in report\n",
    "                               width=1),\n",
    "                     hoverinfo='skip',\n",
    "                            )\n"
   ]
  },
  {
   "source": [
    "figure_3_3 = make_subplots(specs=[[{'secondary_y': True}]])\n",
    "figure_3_3.add_trace(annualTrace,\n",
    "            secondary_y=False,)\n",
    "figure_3_3.add_trace(movingAverage,\n",
    "            secondary_y=False,)\n",
    "figure_3_3.add_trace(normal,\n",
    "            secondary_y=True,)\n",
    "\n",
    "figure_3_3.update_layout(TIMESERIES_LAYOUT)\n",
    "figure_3_3.update_yaxes(title_text='Difference (\\u00b0C) from 1981-2010 Normal',\n",
    "                        secondary_y=False,\n",
    "                        range=[-0.25, 0.45],\n",
    "                        showgrid=False,\n",
    "                        dtick=0.05,  # dtick sets the distance between ticks\n",
    "                        tick0=0,  # tick0 sets a point to map the other ticks\n",
    "                        fixedrange=True,\n",
    "                        showspikes=True,\n",
    "                        # zeroline=True,  # add a zero line\n",
    "                        # zerolinecolor=TIMESERIES_COLOR_SECONDARY\n",
    "                        )\n",
    "figure_3_3.update_yaxes(title_text='Annual SST (\\u00b0C)',\n",
    "                        secondary_y=True,\n",
    "                        range=[3.93, 4.59],\n",
    "                        showgrid=False,\n",
    "                        dtick=0.1,  # dtick sets the distance between ticks\n",
    "                        tick0=4.17,  # tick0 sets a point to map the other ticks\n",
    "                        fixedrange=True,\n",
    "                        )\n",
    "\n",
    "figure_3_3.update_xaxes(\n",
    "    title='Year',\n",
    "    fixedrange=True,\n",
    "    tickformat='000',  \n",
    "    showspikes=True,  \n",
    "    spikethickness=2, \n",
    ") \n"
   ],
   "cell_type": "code",
   "metadata": {},
   "execution_count": 50,
   "outputs": [
    {
     "output_type": "display_data",
     "data": {
      "application/vnd.plotly.v1+json": {
       "config": {
        "plotlyServerURL": "https://plot.ly"
       },
       "data": [
        {
         "hovertemplate": "%{x}<br><b>Annual</b><br>Total: %{text:.2f}°C<br>Anomaly: %{y:.2f}°C<extra></extra>",
         "marker": {
          "color": "#E1AF00",
          "opacity": 0.5
         },
         "name": "Annual",
         "text": [
          4.36,
          4.21,
          4.26,
          4.26,
          4.6,
          4.2,
          4.33,
          null,
          4.2,
          4.27,
          4.17,
          null,
          4.12,
          4.19,
          4.2,
          3.97,
          null,
          3.96,
          4.13,
          4.07,
          4.09,
          4.1,
          4.12,
          4.16,
          4.18,
          4.17,
          4.02,
          null,
          4.23,
          4.14,
          4.36,
          4.3,
          4.21,
          4.21,
          4.09,
          4.35,
          4.15,
          4.12,
          4.17,
          4.17,
          4.11,
          4.24,
          4.2,
          4.18,
          null,
          null
         ],
         "type": "bar",
         "x": [
          1975,
          1976,
          1977,
          1978,
          1979,
          1980,
          1981,
          1982,
          1983,
          1984,
          1985,
          1986,
          1987,
          1988,
          1989,
          1990,
          1991,
          1992,
          1993,
          1994,
          1995,
          1996,
          1997,
          1998,
          1999,
          2000,
          2001,
          2002,
          2003,
          2004,
          2005,
          2006,
          2007,
          2008,
          2009,
          2010,
          2011,
          2012,
          2013,
          2014,
          2015,
          2016,
          2017,
          2018,
          2019,
          2020
         ],
         "xaxis": "x",
         "y": [
          0.2,
          0.04,
          0.1,
          0.09,
          0.43,
          0.03,
          0.17,
          null,
          0.03,
          0.1,
          0.01,
          null,
          -0.05,
          0.02,
          0.03,
          -0.2,
          null,
          -0.21,
          -0.04,
          -0.1,
          -0.08,
          -0.07,
          -0.05,
          -0.01,
          0.01,
          0.01,
          -0.15,
          null,
          0.06,
          -0.03,
          0.19,
          0.13,
          0.04,
          0.04,
          -0.08,
          0.18,
          -0.02,
          -0.05,
          0,
          0,
          -0.06,
          0.07,
          0.03,
          0.01,
          null,
          null
         ],
         "yaxis": "y"
        },
        {
         "hovertemplate": "%{x}<br><b>5yr Moving Average</b><br>Anomaly: %{y:.2f}°C<extra></extra>",
         "line": {
          "color": "#00a4ae",
          "shape": "spline",
          "width": 2
         },
         "mode": "lines",
         "name": "5yr Moving Average",
         "type": "scatter",
         "x": [
          1975,
          1976,
          1977,
          1978,
          1979,
          1980,
          1981,
          1982,
          1983,
          1984,
          1985,
          1986,
          1987,
          1988,
          1989,
          1990,
          1991,
          1992,
          1993,
          1994,
          1995,
          1996,
          1997,
          1998,
          1999,
          2000,
          2001,
          2002,
          2003,
          2004,
          2005,
          2006,
          2007,
          2008,
          2009,
          2010,
          2011,
          2012,
          2013,
          2014,
          2015,
          2016,
          2017,
          2018,
          2019,
          2020
         ],
         "xaxis": "x",
         "y": [
          null,
          null,
          0.17200000000000001,
          0.138,
          0.164,
          0.18000000000000002,
          0.165,
          0.0825,
          0.07750000000000001,
          0.04666666666666667,
          0.022500000000000003,
          0.02,
          0.0024999999999999996,
          -0.05,
          -0.05,
          -0.09,
          -0.105,
          -0.1375,
          -0.1075,
          -0.1,
          -0.068,
          -0.062,
          -0.04,
          -0.022000000000000002,
          -0.038,
          -0.034999999999999996,
          -0.0175,
          -0.027499999999999997,
          0.0175,
          0.0875,
          0.07799999999999999,
          0.074,
          0.06399999999999999,
          0.062,
          0.032,
          0.013999999999999995,
          0.005999999999999997,
          0.022,
          -0.026000000000000002,
          -0.007999999999999998,
          0.008000000000000002,
          0.010000000000000002,
          null,
          null,
          null,
          null
         ],
         "yaxis": "y"
        },
        {
         "hoverinfo": "skip",
         "line": {
          "color": "#fdbf2d",
          "shape": "spline",
          "width": 1
         },
         "mode": "lines",
         "name": "1981-2010 Normal",
         "type": "scatter",
         "x": [
          1975,
          1976,
          1977,
          1978,
          1979,
          1980,
          1981,
          1982,
          1983,
          1984,
          1985,
          1986,
          1987,
          1988,
          1989,
          1990,
          1991,
          1992,
          1993,
          1994,
          1995,
          1996,
          1997,
          1998,
          1999,
          2000,
          2001,
          2002,
          2003,
          2004,
          2005,
          2006,
          2007,
          2008,
          2009,
          2010,
          2011,
          2012,
          2013,
          2014,
          2015,
          2016,
          2017,
          2018,
          2019,
          2020
         ],
         "xaxis": "x",
         "y": [
          4.166923076923076,
          4.166923076923076,
          4.166923076923076,
          4.166923076923076,
          4.166923076923076,
          4.166923076923076,
          4.166923076923076,
          4.166923076923076,
          4.166923076923076,
          4.166923076923076,
          4.166923076923076,
          4.166923076923076,
          4.166923076923076,
          4.166923076923076,
          4.166923076923076,
          4.166923076923076,
          4.166923076923076,
          4.166923076923076,
          4.166923076923076,
          4.166923076923076,
          4.166923076923076,
          4.166923076923076,
          4.166923076923076,
          4.166923076923076,
          4.166923076923076,
          4.166923076923076,
          4.166923076923076,
          4.166923076923076,
          4.166923076923076,
          4.166923076923076,
          4.166923076923076,
          4.166923076923076,
          4.166923076923076,
          4.166923076923076,
          4.166923076923076,
          4.166923076923076,
          4.166923076923076,
          4.166923076923076,
          4.166923076923076,
          4.166923076923076,
          4.166923076923076,
          4.166923076923076,
          4.166923076923076,
          4.166923076923076,
          null,
          null
         ],
         "yaxis": "y2"
        }
       ],
       "layout": {
        "font": {
         "color": "#7f7f7f"
        },
        "height": 450,
        "hovermode": "x",
        "legend": {
         "bgcolor": "rgba(0,0,0,0)",
         "itemclick": false,
         "itemdoubleclick": false,
         "orientation": "h"
        },
        "margin": {
         "b": 0,
         "l": 0,
         "r": 0,
         "t": 0
        },
        "paper_bgcolor": "rgba(0,0,0,0)",
        "plot_bgcolor": "#f7fbfd",
        "template": {
         "data": {
          "bar": [
           {
            "error_x": {
             "color": "#2a3f5f"
            },
            "error_y": {
             "color": "#2a3f5f"
            },
            "marker": {
             "line": {
              "color": "#E5ECF6",
              "width": 0.5
             }
            },
            "type": "bar"
           }
          ],
          "barpolar": [
           {
            "marker": {
             "line": {
              "color": "#E5ECF6",
              "width": 0.5
             }
            },
            "type": "barpolar"
           }
          ],
          "carpet": [
           {
            "aaxis": {
             "endlinecolor": "#2a3f5f",
             "gridcolor": "white",
             "linecolor": "white",
             "minorgridcolor": "white",
             "startlinecolor": "#2a3f5f"
            },
            "baxis": {
             "endlinecolor": "#2a3f5f",
             "gridcolor": "white",
             "linecolor": "white",
             "minorgridcolor": "white",
             "startlinecolor": "#2a3f5f"
            },
            "type": "carpet"
           }
          ],
          "choropleth": [
           {
            "colorbar": {
             "outlinewidth": 0,
             "ticks": ""
            },
            "type": "choropleth"
           }
          ],
          "contour": [
           {
            "colorbar": {
             "outlinewidth": 0,
             "ticks": ""
            },
            "colorscale": [
             [
              0,
              "#0d0887"
             ],
             [
              0.1111111111111111,
              "#46039f"
             ],
             [
              0.2222222222222222,
              "#7201a8"
             ],
             [
              0.3333333333333333,
              "#9c179e"
             ],
             [
              0.4444444444444444,
              "#bd3786"
             ],
             [
              0.5555555555555556,
              "#d8576b"
             ],
             [
              0.6666666666666666,
              "#ed7953"
             ],
             [
              0.7777777777777778,
              "#fb9f3a"
             ],
             [
              0.8888888888888888,
              "#fdca26"
             ],
             [
              1,
              "#f0f921"
             ]
            ],
            "type": "contour"
           }
          ],
          "contourcarpet": [
           {
            "colorbar": {
             "outlinewidth": 0,
             "ticks": ""
            },
            "type": "contourcarpet"
           }
          ],
          "heatmap": [
           {
            "colorbar": {
             "outlinewidth": 0,
             "ticks": ""
            },
            "colorscale": [
             [
              0,
              "#0d0887"
             ],
             [
              0.1111111111111111,
              "#46039f"
             ],
             [
              0.2222222222222222,
              "#7201a8"
             ],
             [
              0.3333333333333333,
              "#9c179e"
             ],
             [
              0.4444444444444444,
              "#bd3786"
             ],
             [
              0.5555555555555556,
              "#d8576b"
             ],
             [
              0.6666666666666666,
              "#ed7953"
             ],
             [
              0.7777777777777778,
              "#fb9f3a"
             ],
             [
              0.8888888888888888,
              "#fdca26"
             ],
             [
              1,
              "#f0f921"
             ]
            ],
            "type": "heatmap"
           }
          ],
          "heatmapgl": [
           {
            "colorbar": {
             "outlinewidth": 0,
             "ticks": ""
            },
            "colorscale": [
             [
              0,
              "#0d0887"
             ],
             [
              0.1111111111111111,
              "#46039f"
             ],
             [
              0.2222222222222222,
              "#7201a8"
             ],
             [
              0.3333333333333333,
              "#9c179e"
             ],
             [
              0.4444444444444444,
              "#bd3786"
             ],
             [
              0.5555555555555556,
              "#d8576b"
             ],
             [
              0.6666666666666666,
              "#ed7953"
             ],
             [
              0.7777777777777778,
              "#fb9f3a"
             ],
             [
              0.8888888888888888,
              "#fdca26"
             ],
             [
              1,
              "#f0f921"
             ]
            ],
            "type": "heatmapgl"
           }
          ],
          "histogram": [
           {
            "marker": {
             "colorbar": {
              "outlinewidth": 0,
              "ticks": ""
             }
            },
            "type": "histogram"
           }
          ],
          "histogram2d": [
           {
            "colorbar": {
             "outlinewidth": 0,
             "ticks": ""
            },
            "colorscale": [
             [
              0,
              "#0d0887"
             ],
             [
              0.1111111111111111,
              "#46039f"
             ],
             [
              0.2222222222222222,
              "#7201a8"
             ],
             [
              0.3333333333333333,
              "#9c179e"
             ],
             [
              0.4444444444444444,
              "#bd3786"
             ],
             [
              0.5555555555555556,
              "#d8576b"
             ],
             [
              0.6666666666666666,
              "#ed7953"
             ],
             [
              0.7777777777777778,
              "#fb9f3a"
             ],
             [
              0.8888888888888888,
              "#fdca26"
             ],
             [
              1,
              "#f0f921"
             ]
            ],
            "type": "histogram2d"
           }
          ],
          "histogram2dcontour": [
           {
            "colorbar": {
             "outlinewidth": 0,
             "ticks": ""
            },
            "colorscale": [
             [
              0,
              "#0d0887"
             ],
             [
              0.1111111111111111,
              "#46039f"
             ],
             [
              0.2222222222222222,
              "#7201a8"
             ],
             [
              0.3333333333333333,
              "#9c179e"
             ],
             [
              0.4444444444444444,
              "#bd3786"
             ],
             [
              0.5555555555555556,
              "#d8576b"
             ],
             [
              0.6666666666666666,
              "#ed7953"
             ],
             [
              0.7777777777777778,
              "#fb9f3a"
             ],
             [
              0.8888888888888888,
              "#fdca26"
             ],
             [
              1,
              "#f0f921"
             ]
            ],
            "type": "histogram2dcontour"
           }
          ],
          "mesh3d": [
           {
            "colorbar": {
             "outlinewidth": 0,
             "ticks": ""
            },
            "type": "mesh3d"
           }
          ],
          "parcoords": [
           {
            "line": {
             "colorbar": {
              "outlinewidth": 0,
              "ticks": ""
             }
            },
            "type": "parcoords"
           }
          ],
          "pie": [
           {
            "automargin": true,
            "type": "pie"
           }
          ],
          "scatter": [
           {
            "marker": {
             "colorbar": {
              "outlinewidth": 0,
              "ticks": ""
             }
            },
            "type": "scatter"
           }
          ],
          "scatter3d": [
           {
            "line": {
             "colorbar": {
              "outlinewidth": 0,
              "ticks": ""
             }
            },
            "marker": {
             "colorbar": {
              "outlinewidth": 0,
              "ticks": ""
             }
            },
            "type": "scatter3d"
           }
          ],
          "scattercarpet": [
           {
            "marker": {
             "colorbar": {
              "outlinewidth": 0,
              "ticks": ""
             }
            },
            "type": "scattercarpet"
           }
          ],
          "scattergeo": [
           {
            "marker": {
             "colorbar": {
              "outlinewidth": 0,
              "ticks": ""
             }
            },
            "type": "scattergeo"
           }
          ],
          "scattergl": [
           {
            "marker": {
             "colorbar": {
              "outlinewidth": 0,
              "ticks": ""
             }
            },
            "type": "scattergl"
           }
          ],
          "scattermapbox": [
           {
            "marker": {
             "colorbar": {
              "outlinewidth": 0,
              "ticks": ""
             }
            },
            "type": "scattermapbox"
           }
          ],
          "scatterpolar": [
           {
            "marker": {
             "colorbar": {
              "outlinewidth": 0,
              "ticks": ""
             }
            },
            "type": "scatterpolar"
           }
          ],
          "scatterpolargl": [
           {
            "marker": {
             "colorbar": {
              "outlinewidth": 0,
              "ticks": ""
             }
            },
            "type": "scatterpolargl"
           }
          ],
          "scatterternary": [
           {
            "marker": {
             "colorbar": {
              "outlinewidth": 0,
              "ticks": ""
             }
            },
            "type": "scatterternary"
           }
          ],
          "surface": [
           {
            "colorbar": {
             "outlinewidth": 0,
             "ticks": ""
            },
            "colorscale": [
             [
              0,
              "#0d0887"
             ],
             [
              0.1111111111111111,
              "#46039f"
             ],
             [
              0.2222222222222222,
              "#7201a8"
             ],
             [
              0.3333333333333333,
              "#9c179e"
             ],
             [
              0.4444444444444444,
              "#bd3786"
             ],
             [
              0.5555555555555556,
              "#d8576b"
             ],
             [
              0.6666666666666666,
              "#ed7953"
             ],
             [
              0.7777777777777778,
              "#fb9f3a"
             ],
             [
              0.8888888888888888,
              "#fdca26"
             ],
             [
              1,
              "#f0f921"
             ]
            ],
            "type": "surface"
           }
          ],
          "table": [
           {
            "cells": {
             "fill": {
              "color": "#EBF0F8"
             },
             "line": {
              "color": "white"
             }
            },
            "header": {
             "fill": {
              "color": "#C8D4E3"
             },
             "line": {
              "color": "white"
             }
            },
            "type": "table"
           }
          ]
         },
         "layout": {
          "annotationdefaults": {
           "arrowcolor": "#2a3f5f",
           "arrowhead": 0,
           "arrowwidth": 1
          },
          "autotypenumbers": "strict",
          "coloraxis": {
           "colorbar": {
            "outlinewidth": 0,
            "ticks": ""
           }
          },
          "colorscale": {
           "diverging": [
            [
             0,
             "#8e0152"
            ],
            [
             0.1,
             "#c51b7d"
            ],
            [
             0.2,
             "#de77ae"
            ],
            [
             0.3,
             "#f1b6da"
            ],
            [
             0.4,
             "#fde0ef"
            ],
            [
             0.5,
             "#f7f7f7"
            ],
            [
             0.6,
             "#e6f5d0"
            ],
            [
             0.7,
             "#b8e186"
            ],
            [
             0.8,
             "#7fbc41"
            ],
            [
             0.9,
             "#4d9221"
            ],
            [
             1,
             "#276419"
            ]
           ],
           "sequential": [
            [
             0,
             "#0d0887"
            ],
            [
             0.1111111111111111,
             "#46039f"
            ],
            [
             0.2222222222222222,
             "#7201a8"
            ],
            [
             0.3333333333333333,
             "#9c179e"
            ],
            [
             0.4444444444444444,
             "#bd3786"
            ],
            [
             0.5555555555555556,
             "#d8576b"
            ],
            [
             0.6666666666666666,
             "#ed7953"
            ],
            [
             0.7777777777777778,
             "#fb9f3a"
            ],
            [
             0.8888888888888888,
             "#fdca26"
            ],
            [
             1,
             "#f0f921"
            ]
           ],
           "sequentialminus": [
            [
             0,
             "#0d0887"
            ],
            [
             0.1111111111111111,
             "#46039f"
            ],
            [
             0.2222222222222222,
             "#7201a8"
            ],
            [
             0.3333333333333333,
             "#9c179e"
            ],
            [
             0.4444444444444444,
             "#bd3786"
            ],
            [
             0.5555555555555556,
             "#d8576b"
            ],
            [
             0.6666666666666666,
             "#ed7953"
            ],
            [
             0.7777777777777778,
             "#fb9f3a"
            ],
            [
             0.8888888888888888,
             "#fdca26"
            ],
            [
             1,
             "#f0f921"
            ]
           ]
          },
          "colorway": [
           "#636efa",
           "#EF553B",
           "#00cc96",
           "#ab63fa",
           "#FFA15A",
           "#19d3f3",
           "#FF6692",
           "#B6E880",
           "#FF97FF",
           "#FECB52"
          ],
          "font": {
           "color": "#2a3f5f"
          },
          "geo": {
           "bgcolor": "white",
           "lakecolor": "white",
           "landcolor": "#E5ECF6",
           "showlakes": true,
           "showland": true,
           "subunitcolor": "white"
          },
          "hoverlabel": {
           "align": "left"
          },
          "hovermode": "closest",
          "mapbox": {
           "style": "light"
          },
          "paper_bgcolor": "white",
          "plot_bgcolor": "#E5ECF6",
          "polar": {
           "angularaxis": {
            "gridcolor": "white",
            "linecolor": "white",
            "ticks": ""
           },
           "bgcolor": "#E5ECF6",
           "radialaxis": {
            "gridcolor": "white",
            "linecolor": "white",
            "ticks": ""
           }
          },
          "scene": {
           "xaxis": {
            "backgroundcolor": "#E5ECF6",
            "gridcolor": "white",
            "gridwidth": 2,
            "linecolor": "white",
            "showbackground": true,
            "ticks": "",
            "zerolinecolor": "white"
           },
           "yaxis": {
            "backgroundcolor": "#E5ECF6",
            "gridcolor": "white",
            "gridwidth": 2,
            "linecolor": "white",
            "showbackground": true,
            "ticks": "",
            "zerolinecolor": "white"
           },
           "zaxis": {
            "backgroundcolor": "#E5ECF6",
            "gridcolor": "white",
            "gridwidth": 2,
            "linecolor": "white",
            "showbackground": true,
            "ticks": "",
            "zerolinecolor": "white"
           }
          },
          "shapedefaults": {
           "line": {
            "color": "#2a3f5f"
           }
          },
          "ternary": {
           "aaxis": {
            "gridcolor": "white",
            "linecolor": "white",
            "ticks": ""
           },
           "baxis": {
            "gridcolor": "white",
            "linecolor": "white",
            "ticks": ""
           },
           "bgcolor": "#E5ECF6",
           "caxis": {
            "gridcolor": "white",
            "linecolor": "white",
            "ticks": ""
           }
          },
          "title": {
           "x": 0.05
          },
          "xaxis": {
           "automargin": true,
           "gridcolor": "white",
           "linecolor": "white",
           "ticks": "",
           "title": {
            "standoff": 15
           },
           "zerolinecolor": "white",
           "zerolinewidth": 2
          },
          "yaxis": {
           "automargin": true,
           "gridcolor": "white",
           "linecolor": "white",
           "ticks": "",
           "title": {
            "standoff": 15
           },
           "zerolinecolor": "white",
           "zerolinewidth": 2
          }
         }
        },
        "xaxis": {
         "anchor": "y",
         "domain": [
          0,
          0.94
         ],
         "fixedrange": true,
         "showgrid": false,
         "showspikes": true,
         "spikethickness": 2,
         "tickformat": "000",
         "title": {
          "text": "Year"
         }
        },
        "yaxis": {
         "anchor": "x",
         "domain": [
          0,
          1
         ],
         "dtick": 0.05,
         "fixedrange": true,
         "range": [
          -0.25,
          0.45
         ],
         "showgrid": false,
         "showspikes": true,
         "tick0": 0,
         "title": {
          "text": "Difference (°C) from 1981-2010 Normal"
         }
        },
        "yaxis2": {
         "anchor": "x",
         "dtick": 0.1,
         "fixedrange": true,
         "overlaying": "y",
         "range": [
          3.93,
          4.59
         ],
         "showgrid": false,
         "side": "right",
         "tick0": 4.17,
         "title": {
          "text": "Annual SST (°C)"
         }
        }
       }
      },
      "text/html": "<div>                            <div id=\"123cbdd1-87f9-45f2-8510-66aedaf42cb0\" class=\"plotly-graph-div\" style=\"height:450px; width:100%;\"></div>            <script type=\"text/javascript\">                require([\"plotly\"], function(Plotly) {                    window.PLOTLYENV=window.PLOTLYENV || {};                                    if (document.getElementById(\"123cbdd1-87f9-45f2-8510-66aedaf42cb0\")) {                    Plotly.newPlot(                        \"123cbdd1-87f9-45f2-8510-66aedaf42cb0\",                        [{\"hovertemplate\": \"%{x}<br><b>Annual</b><br>Total: %{text:.2f}\\u00b0C<br>Anomaly: %{y:.2f}\\u00b0C<extra></extra>\", \"marker\": {\"color\": \"#E1AF00\", \"opacity\": 0.5}, \"name\": \"Annual\", \"text\": [4.36, 4.21, 4.26, 4.26, 4.6, 4.2, 4.33, null, 4.2, 4.27, 4.17, null, 4.12, 4.19, 4.2, 3.97, null, 3.96, 4.13, 4.07, 4.09, 4.1, 4.12, 4.16, 4.18, 4.17, 4.02, null, 4.23, 4.14, 4.36, 4.3, 4.21, 4.21, 4.09, 4.35, 4.15, 4.12, 4.17, 4.17, 4.11, 4.24, 4.2, 4.18, null, null], \"type\": \"bar\", \"x\": [1975, 1976, 1977, 1978, 1979, 1980, 1981, 1982, 1983, 1984, 1985, 1986, 1987, 1988, 1989, 1990, 1991, 1992, 1993, 1994, 1995, 1996, 1997, 1998, 1999, 2000, 2001, 2002, 2003, 2004, 2005, 2006, 2007, 2008, 2009, 2010, 2011, 2012, 2013, 2014, 2015, 2016, 2017, 2018, 2019, 2020], \"xaxis\": \"x\", \"y\": [0.2, 0.04, 0.1, 0.09, 0.43, 0.03, 0.17, null, 0.03, 0.1, 0.01, null, -0.05, 0.02, 0.03, -0.2, null, -0.21, -0.04, -0.1, -0.08, -0.07, -0.05, -0.01, 0.01, 0.01, -0.15, null, 0.06, -0.03, 0.19, 0.13, 0.04, 0.04, -0.08, 0.18, -0.02, -0.05, 0.0, 0.0, -0.06, 0.07, 0.03, 0.01, null, null], \"yaxis\": \"y\"}, {\"hovertemplate\": \"%{x}<br><b>5yr Moving Average</b><br>Anomaly: %{y:.2f}\\u00b0C<extra></extra>\", \"line\": {\"color\": \"#00a4ae\", \"shape\": \"spline\", \"width\": 2}, \"mode\": \"lines\", \"name\": \"5yr Moving Average\", \"type\": \"scatter\", \"x\": [1975, 1976, 1977, 1978, 1979, 1980, 1981, 1982, 1983, 1984, 1985, 1986, 1987, 1988, 1989, 1990, 1991, 1992, 1993, 1994, 1995, 1996, 1997, 1998, 1999, 2000, 2001, 2002, 2003, 2004, 2005, 2006, 2007, 2008, 2009, 2010, 2011, 2012, 2013, 2014, 2015, 2016, 2017, 2018, 2019, 2020], \"xaxis\": \"x\", \"y\": [null, null, 0.17200000000000001, 0.138, 0.164, 0.18000000000000002, 0.165, 0.0825, 0.07750000000000001, 0.04666666666666667, 0.022500000000000003, 0.02, 0.0024999999999999996, -0.05, -0.05, -0.09, -0.105, -0.1375, -0.1075, -0.1, -0.068, -0.062, -0.04, -0.022000000000000002, -0.038, -0.034999999999999996, -0.0175, -0.027499999999999997, 0.0175, 0.0875, 0.07799999999999999, 0.074, 0.06399999999999999, 0.062, 0.032, 0.013999999999999995, 0.005999999999999997, 0.022, -0.026000000000000002, -0.007999999999999998, 0.008000000000000002, 0.010000000000000002, null, null, null, null], \"yaxis\": \"y\"}, {\"hoverinfo\": \"skip\", \"line\": {\"color\": \"#fdbf2d\", \"shape\": \"spline\", \"width\": 1}, \"mode\": \"lines\", \"name\": \"1981-2010 Normal\", \"type\": \"scatter\", \"x\": [1975, 1976, 1977, 1978, 1979, 1980, 1981, 1982, 1983, 1984, 1985, 1986, 1987, 1988, 1989, 1990, 1991, 1992, 1993, 1994, 1995, 1996, 1997, 1998, 1999, 2000, 2001, 2002, 2003, 2004, 2005, 2006, 2007, 2008, 2009, 2010, 2011, 2012, 2013, 2014, 2015, 2016, 2017, 2018, 2019, 2020], \"xaxis\": \"x\", \"y\": [4.166923076923076, 4.166923076923076, 4.166923076923076, 4.166923076923076, 4.166923076923076, 4.166923076923076, 4.166923076923076, 4.166923076923076, 4.166923076923076, 4.166923076923076, 4.166923076923076, 4.166923076923076, 4.166923076923076, 4.166923076923076, 4.166923076923076, 4.166923076923076, 4.166923076923076, 4.166923076923076, 4.166923076923076, 4.166923076923076, 4.166923076923076, 4.166923076923076, 4.166923076923076, 4.166923076923076, 4.166923076923076, 4.166923076923076, 4.166923076923076, 4.166923076923076, 4.166923076923076, 4.166923076923076, 4.166923076923076, 4.166923076923076, 4.166923076923076, 4.166923076923076, 4.166923076923076, 4.166923076923076, 4.166923076923076, 4.166923076923076, 4.166923076923076, 4.166923076923076, 4.166923076923076, 4.166923076923076, 4.166923076923076, 4.166923076923076, null, null], \"yaxis\": \"y2\"}],                        {\"font\": {\"color\": \"#7f7f7f\"}, \"height\": 450, \"hovermode\": \"x\", \"legend\": {\"bgcolor\": \"rgba(0,0,0,0)\", \"itemclick\": false, \"itemdoubleclick\": false, \"orientation\": \"h\"}, \"margin\": {\"b\": 0, \"l\": 0, \"r\": 0, \"t\": 0}, \"paper_bgcolor\": \"rgba(0,0,0,0)\", \"plot_bgcolor\": \"#f7fbfd\", \"template\": {\"data\": {\"bar\": [{\"error_x\": {\"color\": \"#2a3f5f\"}, \"error_y\": {\"color\": \"#2a3f5f\"}, \"marker\": {\"line\": {\"color\": \"#E5ECF6\", \"width\": 0.5}}, \"type\": \"bar\"}], \"barpolar\": [{\"marker\": {\"line\": {\"color\": \"#E5ECF6\", \"width\": 0.5}}, \"type\": \"barpolar\"}], \"carpet\": [{\"aaxis\": {\"endlinecolor\": \"#2a3f5f\", \"gridcolor\": \"white\", \"linecolor\": \"white\", \"minorgridcolor\": \"white\", \"startlinecolor\": \"#2a3f5f\"}, \"baxis\": {\"endlinecolor\": \"#2a3f5f\", \"gridcolor\": \"white\", \"linecolor\": \"white\", \"minorgridcolor\": \"white\", \"startlinecolor\": \"#2a3f5f\"}, \"type\": \"carpet\"}], \"choropleth\": [{\"colorbar\": {\"outlinewidth\": 0, \"ticks\": \"\"}, \"type\": \"choropleth\"}], \"contour\": [{\"colorbar\": {\"outlinewidth\": 0, \"ticks\": \"\"}, \"colorscale\": [[0.0, \"#0d0887\"], [0.1111111111111111, \"#46039f\"], [0.2222222222222222, \"#7201a8\"], [0.3333333333333333, \"#9c179e\"], [0.4444444444444444, \"#bd3786\"], [0.5555555555555556, \"#d8576b\"], [0.6666666666666666, \"#ed7953\"], [0.7777777777777778, \"#fb9f3a\"], [0.8888888888888888, \"#fdca26\"], [1.0, \"#f0f921\"]], \"type\": \"contour\"}], \"contourcarpet\": [{\"colorbar\": {\"outlinewidth\": 0, \"ticks\": \"\"}, \"type\": \"contourcarpet\"}], \"heatmap\": [{\"colorbar\": {\"outlinewidth\": 0, \"ticks\": \"\"}, \"colorscale\": [[0.0, \"#0d0887\"], [0.1111111111111111, \"#46039f\"], [0.2222222222222222, \"#7201a8\"], [0.3333333333333333, \"#9c179e\"], [0.4444444444444444, \"#bd3786\"], [0.5555555555555556, \"#d8576b\"], [0.6666666666666666, \"#ed7953\"], [0.7777777777777778, \"#fb9f3a\"], [0.8888888888888888, \"#fdca26\"], [1.0, \"#f0f921\"]], \"type\": \"heatmap\"}], \"heatmapgl\": [{\"colorbar\": {\"outlinewidth\": 0, \"ticks\": \"\"}, \"colorscale\": [[0.0, \"#0d0887\"], [0.1111111111111111, \"#46039f\"], [0.2222222222222222, \"#7201a8\"], [0.3333333333333333, \"#9c179e\"], [0.4444444444444444, \"#bd3786\"], [0.5555555555555556, \"#d8576b\"], [0.6666666666666666, \"#ed7953\"], [0.7777777777777778, \"#fb9f3a\"], [0.8888888888888888, \"#fdca26\"], [1.0, \"#f0f921\"]], \"type\": \"heatmapgl\"}], \"histogram\": [{\"marker\": {\"colorbar\": {\"outlinewidth\": 0, \"ticks\": \"\"}}, \"type\": \"histogram\"}], \"histogram2d\": [{\"colorbar\": {\"outlinewidth\": 0, \"ticks\": \"\"}, \"colorscale\": [[0.0, \"#0d0887\"], [0.1111111111111111, \"#46039f\"], [0.2222222222222222, \"#7201a8\"], [0.3333333333333333, \"#9c179e\"], [0.4444444444444444, \"#bd3786\"], [0.5555555555555556, \"#d8576b\"], [0.6666666666666666, \"#ed7953\"], [0.7777777777777778, \"#fb9f3a\"], [0.8888888888888888, \"#fdca26\"], [1.0, \"#f0f921\"]], \"type\": \"histogram2d\"}], \"histogram2dcontour\": [{\"colorbar\": {\"outlinewidth\": 0, \"ticks\": \"\"}, \"colorscale\": [[0.0, \"#0d0887\"], [0.1111111111111111, \"#46039f\"], [0.2222222222222222, \"#7201a8\"], [0.3333333333333333, \"#9c179e\"], [0.4444444444444444, \"#bd3786\"], [0.5555555555555556, \"#d8576b\"], [0.6666666666666666, \"#ed7953\"], [0.7777777777777778, \"#fb9f3a\"], [0.8888888888888888, \"#fdca26\"], [1.0, \"#f0f921\"]], \"type\": \"histogram2dcontour\"}], \"mesh3d\": [{\"colorbar\": {\"outlinewidth\": 0, \"ticks\": \"\"}, \"type\": \"mesh3d\"}], \"parcoords\": [{\"line\": {\"colorbar\": {\"outlinewidth\": 0, \"ticks\": \"\"}}, \"type\": \"parcoords\"}], \"pie\": [{\"automargin\": true, \"type\": \"pie\"}], \"scatter\": [{\"marker\": {\"colorbar\": {\"outlinewidth\": 0, \"ticks\": \"\"}}, \"type\": \"scatter\"}], \"scatter3d\": [{\"line\": {\"colorbar\": {\"outlinewidth\": 0, \"ticks\": \"\"}}, \"marker\": {\"colorbar\": {\"outlinewidth\": 0, \"ticks\": \"\"}}, \"type\": \"scatter3d\"}], \"scattercarpet\": [{\"marker\": {\"colorbar\": {\"outlinewidth\": 0, \"ticks\": \"\"}}, \"type\": \"scattercarpet\"}], \"scattergeo\": [{\"marker\": {\"colorbar\": {\"outlinewidth\": 0, \"ticks\": \"\"}}, \"type\": \"scattergeo\"}], \"scattergl\": [{\"marker\": {\"colorbar\": {\"outlinewidth\": 0, \"ticks\": \"\"}}, \"type\": \"scattergl\"}], \"scattermapbox\": [{\"marker\": {\"colorbar\": {\"outlinewidth\": 0, \"ticks\": \"\"}}, \"type\": \"scattermapbox\"}], \"scatterpolar\": [{\"marker\": {\"colorbar\": {\"outlinewidth\": 0, \"ticks\": \"\"}}, \"type\": \"scatterpolar\"}], \"scatterpolargl\": [{\"marker\": {\"colorbar\": {\"outlinewidth\": 0, \"ticks\": \"\"}}, \"type\": \"scatterpolargl\"}], \"scatterternary\": [{\"marker\": {\"colorbar\": {\"outlinewidth\": 0, \"ticks\": \"\"}}, \"type\": \"scatterternary\"}], \"surface\": [{\"colorbar\": {\"outlinewidth\": 0, \"ticks\": \"\"}, \"colorscale\": [[0.0, \"#0d0887\"], [0.1111111111111111, \"#46039f\"], [0.2222222222222222, \"#7201a8\"], [0.3333333333333333, \"#9c179e\"], [0.4444444444444444, \"#bd3786\"], [0.5555555555555556, \"#d8576b\"], [0.6666666666666666, \"#ed7953\"], [0.7777777777777778, \"#fb9f3a\"], [0.8888888888888888, \"#fdca26\"], [1.0, \"#f0f921\"]], \"type\": \"surface\"}], \"table\": [{\"cells\": {\"fill\": {\"color\": \"#EBF0F8\"}, \"line\": {\"color\": \"white\"}}, \"header\": {\"fill\": {\"color\": \"#C8D4E3\"}, \"line\": {\"color\": \"white\"}}, \"type\": \"table\"}]}, \"layout\": {\"annotationdefaults\": {\"arrowcolor\": \"#2a3f5f\", \"arrowhead\": 0, \"arrowwidth\": 1}, \"autotypenumbers\": \"strict\", \"coloraxis\": {\"colorbar\": {\"outlinewidth\": 0, \"ticks\": \"\"}}, \"colorscale\": {\"diverging\": [[0, \"#8e0152\"], [0.1, \"#c51b7d\"], [0.2, \"#de77ae\"], [0.3, \"#f1b6da\"], [0.4, \"#fde0ef\"], [0.5, \"#f7f7f7\"], [0.6, \"#e6f5d0\"], [0.7, \"#b8e186\"], [0.8, \"#7fbc41\"], [0.9, \"#4d9221\"], [1, \"#276419\"]], \"sequential\": [[0.0, \"#0d0887\"], [0.1111111111111111, \"#46039f\"], [0.2222222222222222, \"#7201a8\"], [0.3333333333333333, \"#9c179e\"], [0.4444444444444444, \"#bd3786\"], [0.5555555555555556, \"#d8576b\"], [0.6666666666666666, \"#ed7953\"], [0.7777777777777778, \"#fb9f3a\"], [0.8888888888888888, \"#fdca26\"], [1.0, \"#f0f921\"]], \"sequentialminus\": [[0.0, \"#0d0887\"], [0.1111111111111111, \"#46039f\"], [0.2222222222222222, \"#7201a8\"], [0.3333333333333333, \"#9c179e\"], [0.4444444444444444, \"#bd3786\"], [0.5555555555555556, \"#d8576b\"], [0.6666666666666666, \"#ed7953\"], [0.7777777777777778, \"#fb9f3a\"], [0.8888888888888888, \"#fdca26\"], [1.0, \"#f0f921\"]]}, \"colorway\": [\"#636efa\", \"#EF553B\", \"#00cc96\", \"#ab63fa\", \"#FFA15A\", \"#19d3f3\", \"#FF6692\", \"#B6E880\", \"#FF97FF\", \"#FECB52\"], \"font\": {\"color\": \"#2a3f5f\"}, \"geo\": {\"bgcolor\": \"white\", \"lakecolor\": \"white\", \"landcolor\": \"#E5ECF6\", \"showlakes\": true, \"showland\": true, \"subunitcolor\": \"white\"}, \"hoverlabel\": {\"align\": \"left\"}, \"hovermode\": \"closest\", \"mapbox\": {\"style\": \"light\"}, \"paper_bgcolor\": \"white\", \"plot_bgcolor\": \"#E5ECF6\", \"polar\": {\"angularaxis\": {\"gridcolor\": \"white\", \"linecolor\": \"white\", \"ticks\": \"\"}, \"bgcolor\": \"#E5ECF6\", \"radialaxis\": {\"gridcolor\": \"white\", \"linecolor\": \"white\", \"ticks\": \"\"}}, \"scene\": {\"xaxis\": {\"backgroundcolor\": \"#E5ECF6\", \"gridcolor\": \"white\", \"gridwidth\": 2, \"linecolor\": \"white\", \"showbackground\": true, \"ticks\": \"\", \"zerolinecolor\": \"white\"}, \"yaxis\": {\"backgroundcolor\": \"#E5ECF6\", \"gridcolor\": \"white\", \"gridwidth\": 2, \"linecolor\": \"white\", \"showbackground\": true, \"ticks\": \"\", \"zerolinecolor\": \"white\"}, \"zaxis\": {\"backgroundcolor\": \"#E5ECF6\", \"gridcolor\": \"white\", \"gridwidth\": 2, \"linecolor\": \"white\", \"showbackground\": true, \"ticks\": \"\", \"zerolinecolor\": \"white\"}}, \"shapedefaults\": {\"line\": {\"color\": \"#2a3f5f\"}}, \"ternary\": {\"aaxis\": {\"gridcolor\": \"white\", \"linecolor\": \"white\", \"ticks\": \"\"}, \"baxis\": {\"gridcolor\": \"white\", \"linecolor\": \"white\", \"ticks\": \"\"}, \"bgcolor\": \"#E5ECF6\", \"caxis\": {\"gridcolor\": \"white\", \"linecolor\": \"white\", \"ticks\": \"\"}}, \"title\": {\"x\": 0.05}, \"xaxis\": {\"automargin\": true, \"gridcolor\": \"white\", \"linecolor\": \"white\", \"ticks\": \"\", \"title\": {\"standoff\": 15}, \"zerolinecolor\": \"white\", \"zerolinewidth\": 2}, \"yaxis\": {\"automargin\": true, \"gridcolor\": \"white\", \"linecolor\": \"white\", \"ticks\": \"\", \"title\": {\"standoff\": 15}, \"zerolinecolor\": \"white\", \"zerolinewidth\": 2}}}, \"xaxis\": {\"anchor\": \"y\", \"domain\": [0.0, 0.94], \"fixedrange\": true, \"showgrid\": false, \"showspikes\": true, \"spikethickness\": 2, \"tickformat\": \"000\", \"title\": {\"text\": \"Year\"}}, \"yaxis\": {\"anchor\": \"x\", \"domain\": [0.0, 1.0], \"dtick\": 0.05, \"fixedrange\": true, \"range\": [-0.25, 0.45], \"showgrid\": false, \"showspikes\": true, \"tick0\": 0, \"title\": {\"text\": \"Difference (\\u00b0C) from 1981-2010 Normal\"}}, \"yaxis2\": {\"anchor\": \"x\", \"dtick\": 0.1, \"fixedrange\": true, \"overlaying\": \"y\", \"range\": [3.93, 4.59], \"showgrid\": false, \"side\": \"right\", \"tick0\": 4.17, \"title\": {\"text\": \"Annual SST (\\u00b0C)\"}}},                        {\"responsive\": true}                    ).then(function(){\n                            \nvar gd = document.getElementById('123cbdd1-87f9-45f2-8510-66aedaf42cb0');\nvar x = new MutationObserver(function (mutations, observer) {{\n        var display = window.getComputedStyle(gd).display;\n        if (!display || display === 'none') {{\n            console.log([gd, 'removed!']);\n            Plotly.purge(gd);\n            observer.disconnect();\n        }}\n}});\n\n// Listen for the removal of the full notebook cells\nvar notebookContainer = gd.closest('#notebook-container');\nif (notebookContainer) {{\n    x.observe(notebookContainer, {childList: true});\n}}\n\n// Listen for the clearing of the current output cell\nvar outputEl = gd.closest('.output');\nif (outputEl) {{\n    x.observe(outputEl, {childList: true});\n}}\n\n                        })                };                });            </script>        </div>"
     },
     "metadata": {}
    }
   ]
  },
  {
   "cell_type": "code",
   "execution_count": null,
   "metadata": {},
   "outputs": [],
   "source": []
  }
 ],
 "metadata": {
  "kernelspec": {
   "display_name": "Python 3",
   "language": "python",
   "name": "python3"
  },
  "language_info": {
   "codemirror_mode": {
    "name": "ipython",
    "version": 3
   },
   "file_extension": ".py",
   "mimetype": "text/x-python",
   "name": "python",
   "nbconvert_exporter": "python",
   "pygments_lexer": "ipython3",
   "version": "3.7.3-final"
  }
 },
 "nbformat": 4,
 "nbformat_minor": 2
}