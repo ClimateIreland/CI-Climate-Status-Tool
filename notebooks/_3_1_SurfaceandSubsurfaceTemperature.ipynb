{
 "cells": [
  {
   "cell_type": "code",
   "execution_count": 1,
   "metadata": {},
   "outputs": [],
   "source": [
    "import pandas as pd\n",
    "import numpy as np\n",
    "import datetime\n",
    "import dateutil\n",
    "import plotly.graph_objects as go\n",
    "from plotly.subplots import make_subplots\n",
    "from charts import stations_map\n",
    "from settings import *"
   ]
  },
  {
   "cell_type": "code",
   "execution_count": 4,
   "metadata": {},
   "outputs": [
    {
     "output_type": "execute_result",
     "data": {
      "text/plain": [
       "    year  temperature  Calculated Anomalies  5 year moving average  satellite  \\\n",
       "0   1960          NaN                   NaN                    NaN        NaN   \n",
       "1   1961        10.73              0.181429                    NaN        NaN   \n",
       "2   1962        10.25             -0.298571              -0.206071        NaN   \n",
       "3   1963         9.74             -0.808571              -0.236571        NaN   \n",
       "4   1964        10.65              0.101429              -0.316571        NaN   \n",
       "..   ...          ...                   ...                    ...        ...   \n",
       "56  2016        11.27              0.721429               0.583429        NaN   \n",
       "57  2017        11.44              0.891429                    NaN        NaN   \n",
       "58  2018        10.74              0.191429                    NaN        NaN   \n",
       "59  2019          NaN                   NaN                    NaN        NaN   \n",
       "60  2020          NaN                   NaN                    NaN        NaN   \n",
       "\n",
       "    Unnamed: 5  Unnamed: 6  Unnamed: 7  Unnamed: 8  Unnamed: 9  ...  \\\n",
       "0          NaN         NaN         NaN         NaN         NaN  ...   \n",
       "1    10.548571         NaN         NaN         NaN         NaN  ...   \n",
       "2    10.548571         NaN         NaN         NaN         NaN  ...   \n",
       "3    10.548571         NaN         NaN         NaN         NaN  ...   \n",
       "4    10.548571         NaN         NaN         NaN         NaN  ...   \n",
       "..         ...         ...         ...         ...         ...  ...   \n",
       "56   10.548571         NaN         NaN         NaN         NaN  ...   \n",
       "57   10.548571         NaN         NaN         NaN         NaN  ...   \n",
       "58   10.548571         NaN         NaN         NaN         NaN  ...   \n",
       "59         NaN         NaN         NaN         NaN         NaN  ...   \n",
       "60         NaN         NaN         NaN         NaN         NaN  ...   \n",
       "\n",
       "    Unnamed: 15  Unnamed: 16  Unnamed: 17  Unnamed: 18  Unnamed: 19  \\\n",
       "0           NaN          NaN          NaN          NaN          NaN   \n",
       "1           NaN          NaN          NaN          NaN          NaN   \n",
       "2           NaN          NaN          NaN          NaN          NaN   \n",
       "3           NaN          NaN          NaN          NaN          NaN   \n",
       "4           NaN          NaN          NaN          NaN          NaN   \n",
       "..          ...          ...          ...          ...          ...   \n",
       "56          NaN          NaN          NaN          NaN          NaN   \n",
       "57          NaN          NaN          NaN          NaN          NaN   \n",
       "58          NaN          NaN          NaN          NaN          NaN   \n",
       "59          NaN          NaN          NaN          NaN          NaN   \n",
       "60          NaN          NaN          NaN          NaN          NaN   \n",
       "\n",
       "    Unnamed: 20  Unnamed: 21  Unnamed: 22  Unnamed: 23  \\\n",
       "0           NaN          NaN          NaN          NaN   \n",
       "1           NaN          NaN          NaN          NaN   \n",
       "2           NaN          NaN          NaN          NaN   \n",
       "3           NaN          NaN          NaN          NaN   \n",
       "4           NaN          NaN          NaN          NaN   \n",
       "..          ...          ...          ...          ...   \n",
       "56          NaN          NaN          NaN          NaN   \n",
       "57          NaN          NaN          NaN          NaN   \n",
       "58          NaN          NaN          NaN          NaN   \n",
       "59          NaN          NaN          NaN          NaN   \n",
       "60          NaN          NaN          NaN          NaN   \n",
       "\n",
       "    5 Year Moving Average - Mean  \n",
       "0                            NaN  \n",
       "1                            NaN  \n",
       "2                            NaN  \n",
       "3                         10.312  \n",
       "4                         10.232  \n",
       "..                           ...  \n",
       "56                        11.132  \n",
       "57                           NaN  \n",
       "58                           NaN  \n",
       "59                           NaN  \n",
       "60                           NaN  \n",
       "\n",
       "[61 rows x 25 columns]"
      ],
      "text/html": "<div>\n<style scoped>\n    .dataframe tbody tr th:only-of-type {\n        vertical-align: middle;\n    }\n\n    .dataframe tbody tr th {\n        vertical-align: top;\n    }\n\n    .dataframe thead th {\n        text-align: right;\n    }\n</style>\n<table border=\"1\" class=\"dataframe\">\n  <thead>\n    <tr style=\"text-align: right;\">\n      <th></th>\n      <th>year</th>\n      <th>temperature</th>\n      <th>Calculated Anomalies</th>\n      <th>5 year moving average</th>\n      <th>satellite</th>\n      <th>Unnamed: 5</th>\n      <th>Unnamed: 6</th>\n      <th>Unnamed: 7</th>\n      <th>Unnamed: 8</th>\n      <th>Unnamed: 9</th>\n      <th>...</th>\n      <th>Unnamed: 15</th>\n      <th>Unnamed: 16</th>\n      <th>Unnamed: 17</th>\n      <th>Unnamed: 18</th>\n      <th>Unnamed: 19</th>\n      <th>Unnamed: 20</th>\n      <th>Unnamed: 21</th>\n      <th>Unnamed: 22</th>\n      <th>Unnamed: 23</th>\n      <th>5 Year Moving Average - Mean</th>\n    </tr>\n  </thead>\n  <tbody>\n    <tr>\n      <th>0</th>\n      <td>1960</td>\n      <td>NaN</td>\n      <td>NaN</td>\n      <td>NaN</td>\n      <td>NaN</td>\n      <td>NaN</td>\n      <td>NaN</td>\n      <td>NaN</td>\n      <td>NaN</td>\n      <td>NaN</td>\n      <td>...</td>\n      <td>NaN</td>\n      <td>NaN</td>\n      <td>NaN</td>\n      <td>NaN</td>\n      <td>NaN</td>\n      <td>NaN</td>\n      <td>NaN</td>\n      <td>NaN</td>\n      <td>NaN</td>\n      <td>NaN</td>\n    </tr>\n    <tr>\n      <th>1</th>\n      <td>1961</td>\n      <td>10.73</td>\n      <td>0.181429</td>\n      <td>NaN</td>\n      <td>NaN</td>\n      <td>10.548571</td>\n      <td>NaN</td>\n      <td>NaN</td>\n      <td>NaN</td>\n      <td>NaN</td>\n      <td>...</td>\n      <td>NaN</td>\n      <td>NaN</td>\n      <td>NaN</td>\n      <td>NaN</td>\n      <td>NaN</td>\n      <td>NaN</td>\n      <td>NaN</td>\n      <td>NaN</td>\n      <td>NaN</td>\n      <td>NaN</td>\n    </tr>\n    <tr>\n      <th>2</th>\n      <td>1962</td>\n      <td>10.25</td>\n      <td>-0.298571</td>\n      <td>-0.206071</td>\n      <td>NaN</td>\n      <td>10.548571</td>\n      <td>NaN</td>\n      <td>NaN</td>\n      <td>NaN</td>\n      <td>NaN</td>\n      <td>...</td>\n      <td>NaN</td>\n      <td>NaN</td>\n      <td>NaN</td>\n      <td>NaN</td>\n      <td>NaN</td>\n      <td>NaN</td>\n      <td>NaN</td>\n      <td>NaN</td>\n      <td>NaN</td>\n      <td>NaN</td>\n    </tr>\n    <tr>\n      <th>3</th>\n      <td>1963</td>\n      <td>9.74</td>\n      <td>-0.808571</td>\n      <td>-0.236571</td>\n      <td>NaN</td>\n      <td>10.548571</td>\n      <td>NaN</td>\n      <td>NaN</td>\n      <td>NaN</td>\n      <td>NaN</td>\n      <td>...</td>\n      <td>NaN</td>\n      <td>NaN</td>\n      <td>NaN</td>\n      <td>NaN</td>\n      <td>NaN</td>\n      <td>NaN</td>\n      <td>NaN</td>\n      <td>NaN</td>\n      <td>NaN</td>\n      <td>10.312</td>\n    </tr>\n    <tr>\n      <th>4</th>\n      <td>1964</td>\n      <td>10.65</td>\n      <td>0.101429</td>\n      <td>-0.316571</td>\n      <td>NaN</td>\n      <td>10.548571</td>\n      <td>NaN</td>\n      <td>NaN</td>\n      <td>NaN</td>\n      <td>NaN</td>\n      <td>...</td>\n      <td>NaN</td>\n      <td>NaN</td>\n      <td>NaN</td>\n      <td>NaN</td>\n      <td>NaN</td>\n      <td>NaN</td>\n      <td>NaN</td>\n      <td>NaN</td>\n      <td>NaN</td>\n      <td>10.232</td>\n    </tr>\n    <tr>\n      <th>...</th>\n      <td>...</td>\n      <td>...</td>\n      <td>...</td>\n      <td>...</td>\n      <td>...</td>\n      <td>...</td>\n      <td>...</td>\n      <td>...</td>\n      <td>...</td>\n      <td>...</td>\n      <td>...</td>\n      <td>...</td>\n      <td>...</td>\n      <td>...</td>\n      <td>...</td>\n      <td>...</td>\n      <td>...</td>\n      <td>...</td>\n      <td>...</td>\n      <td>...</td>\n      <td>...</td>\n    </tr>\n    <tr>\n      <th>56</th>\n      <td>2016</td>\n      <td>11.27</td>\n      <td>0.721429</td>\n      <td>0.583429</td>\n      <td>NaN</td>\n      <td>10.548571</td>\n      <td>NaN</td>\n      <td>NaN</td>\n      <td>NaN</td>\n      <td>NaN</td>\n      <td>...</td>\n      <td>NaN</td>\n      <td>NaN</td>\n      <td>NaN</td>\n      <td>NaN</td>\n      <td>NaN</td>\n      <td>NaN</td>\n      <td>NaN</td>\n      <td>NaN</td>\n      <td>NaN</td>\n      <td>11.132</td>\n    </tr>\n    <tr>\n      <th>57</th>\n      <td>2017</td>\n      <td>11.44</td>\n      <td>0.891429</td>\n      <td>NaN</td>\n      <td>NaN</td>\n      <td>10.548571</td>\n      <td>NaN</td>\n      <td>NaN</td>\n      <td>NaN</td>\n      <td>NaN</td>\n      <td>...</td>\n      <td>NaN</td>\n      <td>NaN</td>\n      <td>NaN</td>\n      <td>NaN</td>\n      <td>NaN</td>\n      <td>NaN</td>\n      <td>NaN</td>\n      <td>NaN</td>\n      <td>NaN</td>\n      <td>NaN</td>\n    </tr>\n    <tr>\n      <th>58</th>\n      <td>2018</td>\n      <td>10.74</td>\n      <td>0.191429</td>\n      <td>NaN</td>\n      <td>NaN</td>\n      <td>10.548571</td>\n      <td>NaN</td>\n      <td>NaN</td>\n      <td>NaN</td>\n      <td>NaN</td>\n      <td>...</td>\n      <td>NaN</td>\n      <td>NaN</td>\n      <td>NaN</td>\n      <td>NaN</td>\n      <td>NaN</td>\n      <td>NaN</td>\n      <td>NaN</td>\n      <td>NaN</td>\n      <td>NaN</td>\n      <td>NaN</td>\n    </tr>\n    <tr>\n      <th>59</th>\n      <td>2019</td>\n      <td>NaN</td>\n      <td>NaN</td>\n      <td>NaN</td>\n      <td>NaN</td>\n      <td>NaN</td>\n      <td>NaN</td>\n      <td>NaN</td>\n      <td>NaN</td>\n      <td>NaN</td>\n      <td>...</td>\n      <td>NaN</td>\n      <td>NaN</td>\n      <td>NaN</td>\n      <td>NaN</td>\n      <td>NaN</td>\n      <td>NaN</td>\n      <td>NaN</td>\n      <td>NaN</td>\n      <td>NaN</td>\n      <td>NaN</td>\n    </tr>\n    <tr>\n      <th>60</th>\n      <td>2020</td>\n      <td>NaN</td>\n      <td>NaN</td>\n      <td>NaN</td>\n      <td>NaN</td>\n      <td>NaN</td>\n      <td>NaN</td>\n      <td>NaN</td>\n      <td>NaN</td>\n      <td>NaN</td>\n      <td>...</td>\n      <td>NaN</td>\n      <td>NaN</td>\n      <td>NaN</td>\n      <td>NaN</td>\n      <td>NaN</td>\n      <td>NaN</td>\n      <td>NaN</td>\n      <td>NaN</td>\n      <td>NaN</td>\n      <td>NaN</td>\n    </tr>\n  </tbody>\n</table>\n<p>61 rows × 25 columns</p>\n</div>"
     },
     "metadata": {},
     "execution_count": 4
    }
   ],
   "source": [
    "data_path = DATA_PATH+'Oceanic_Domain/3.1OceanSurfaceSubsurfaceTemperature/Figure3.1/'\n",
    "xls = pd.ExcelFile(\n",
    "    data_path+'MeanAnnualSeaSurfaceTemperature_Anomalies_MalinHead.xlsx')\n",
    "df = pd.read_excel(xls, 'MALIN_Timeseries')\n",
    "movingAverageTotals = df.temperature.rolling(window=5, center=True).mean() \n",
    "df[\"5 Year Moving Average - Mean\"]=movingAverageTotals\n",
    "df"
   ]
  },
  {
   "cell_type": "code",
   "execution_count": 8,
   "metadata": {},
   "outputs": [],
   "source": [
    "\n",
    "annualTrace = go.Bar(x=df[\"year\"],\n",
    "                     y=df[\"Calculated Anomalies\"],\n",
    "                     text=df[\"temperature\"],\n",
    "                     name='Annual',\n",
    "                     marker=dict(\n",
    "                            # color=\"#214a7b\", color used in report\n",
    "                            color=TIMESERIES_COLOR_SECONDARY,\n",
    "                            opacity=0.5\n",
    "                            ),\n",
    "                     hovertemplate='%{x}<br>' +\n",
    "                            '<b>Annual</b><br>' +\n",
    "                            'Total: %{text:.2f}\\u00b0C<br>' +\n",
    "                            'Anomaly: %{y:.2f}\\u00b0C<extra></extra>'\n",
    "                            )\n",
    "movingAverage = go.Scatter(x=df[\"year\"],\n",
    "                     y=df[\"5 year moving average\"],\n",
    "                     text=df[\"5 Year Moving Average - Mean\"],\n",
    "                     name='5yr Moving Average',\n",
    "                     mode='lines',  # 'line' is default\n",
    "                     line_shape='spline',\n",
    "                     line=dict(\n",
    "                            # color=\"#fc0d1b\", color used in report\n",
    "                            color=TIMESERIES_COLOR_PRIMARY,\n",
    "                            width=2),\n",
    "                     hovertemplate='%{x}<br>' +\n",
    "                            '<b>5yr Moving Average</b><br>' +\n",
    "                            'Total: %{text:.2f}\\u00b0C<br>' +\n",
    "                            'Anomaly: %{y:.2f}\\u00b0C<extra></extra>'\n",
    "                            )\n",
    "normal = go.Scatter(x=df[\"year\"],\n",
    "                     y=df[\"Unnamed: 5\"],\n",
    "                     name='1981-2010 Normal',\n",
    "                     mode='lines',  # 'line' is default\n",
    "                     line_shape='spline',\n",
    "                     line=dict(color=\"#fdbf2d\", #color used in report\n",
    "                               width=1),\n",
    "                     hoverinfo='skip',\n",
    "                            )\n",
    "\n"
   ]
  },
  {
   "cell_type": "code",
   "execution_count": 17,
   "metadata": {},
   "outputs": [
    {
     "output_type": "display_data",
     "data": {
      "application/vnd.plotly.v1+json": {
       "config": {
        "plotlyServerURL": "https://plot.ly"
       },
       "data": [
        {
         "hovertemplate": "%{x}<br><b>Annual</b><br>Total: %{text:.2f}mm<br>Anomaly: %{y:.2f}mm<extra></extra>",
         "marker": {
          "color": "#E1AF00",
          "opacity": 0.5
         },
         "name": "Annual",
         "text": [
          null,
          10.73,
          10.25,
          9.74,
          10.65,
          10.19,
          10.33,
          10.47,
          10.47,
          10.38,
          10.27,
          10.86,
          10.06,
          10.58,
          10.45,
          10.79,
          10.7,
          10.13,
          10.19,
          9.81,
          10.46,
          10.43,
          10.27,
          10.45,
          10.51,
          10.05,
          9.62,
          10.12,
          10.56,
          11.08,
          10.99,
          10.1,
          10.15,
          9.75,
          10.22,
          10.63,
          10.08,
          10.64,
          10.74,
          10.66,
          10.61,
          10.25,
          10.75,
          11,
          11.34,
          11.29,
          11.13,
          null,
          null,
          11.21,
          10.73,
          11.02,
          10.83,
          10.74,
          11.33,
          10.88,
          11.27,
          11.44,
          10.74,
          null,
          null
         ],
         "type": "bar",
         "x": [
          1960,
          1961,
          1962,
          1963,
          1964,
          1965,
          1966,
          1967,
          1968,
          1969,
          1970,
          1971,
          1972,
          1973,
          1974,
          1975,
          1976,
          1977,
          1978,
          1979,
          1980,
          1981,
          1982,
          1983,
          1984,
          1985,
          1986,
          1987,
          1988,
          1989,
          1990,
          1991,
          1992,
          1993,
          1994,
          1995,
          1996,
          1997,
          1998,
          1999,
          2000,
          2001,
          2002,
          2003,
          2004,
          2005,
          2006,
          2007,
          2008,
          2009,
          2010,
          2011,
          2012,
          2013,
          2014,
          2015,
          2016,
          2017,
          2018,
          2019,
          2020
         ],
         "xaxis": "x",
         "y": [
          null,
          0.18142857142857416,
          -0.29857142857142627,
          -0.808571428571426,
          0.10142857142857409,
          -0.35857142857142676,
          -0.2185714285714262,
          -0.07857142857142563,
          -0.07857142857142563,
          -0.16857142857142549,
          -0.2785714285714267,
          0.31142857142857316,
          -0.48857142857142577,
          0.031428571428573804,
          -0.09857142857142698,
          0.24142857142857288,
          0.15142857142857302,
          -0.4185714285714255,
          -0.35857142857142676,
          -0.7385714285714258,
          -0.08857142857142541,
          -0.11857142857142655,
          -0.2785714285714267,
          -0.09857142857142698,
          -0.03857142857142648,
          -0.49857142857142556,
          -0.928571428571427,
          -0.42857142857142705,
          0.01142857142857423,
          0.5314285714285738,
          0.44142857142857395,
          -0.4485714285714266,
          -0.3985714285714259,
          -0.7985714285714263,
          -0.3285714285714256,
          0.08142857142857451,
          -0.4685714285714262,
          0.0914285714285743,
          0.19142857142857395,
          0.11142857142857387,
          0.061428571428573164,
          -0.29857142857142627,
          0.20142857142857373,
          0.45142857142857373,
          0.7914285714285736,
          0.7414285714285729,
          0.5814285714285745,
          null,
          null,
          0.6614285714285746,
          0.18142857142857416,
          0.4714285714285733,
          0.2814285714285738,
          0.19142857142857395,
          0.7814285714285738,
          0.3314285714285745,
          0.7214285714285733,
          0.8914285714285732,
          0.19142857142857395,
          null,
          null
         ],
         "yaxis": "y"
        },
        {
         "hovertemplate": "%{x}<br><b>11yr Moving Average</b><br>Total: %{text:.2f}mm<br>Anomaly: %{y:.2f}mm<extra></extra>",
         "line": {
          "color": "#00a4ae",
          "shape": "spline",
          "width": 2
         },
         "mode": "lines",
         "name": "11yr Moving Average",
         "text": [
          null,
          null,
          null,
          10.312000000000001,
          10.232,
          10.276,
          10.422,
          10.367999999999999,
          10.384,
          10.49,
          10.408000000000001,
          10.430000000000001,
          10.443999999999999,
          10.547999999999998,
          10.516,
          10.529999999999998,
          10.452,
          10.324000000000002,
          10.258000000000001,
          10.203999999999999,
          10.232000000000001,
          10.284,
          10.424,
          10.341999999999999,
          10.180000000000001,
          10.15,
          10.172,
          10.286,
          10.474,
          10.569999999999999,
          10.575999999999999,
          10.413999999999998,
          10.242,
          10.169999999999998,
          10.166,
          10.264000000000001,
          10.462,
          10.55,
          10.546000000000001,
          10.58,
          10.602,
          10.654,
          10.790000000000001,
          10.925999999999998,
          11.102,
          null,
          null,
          null,
          null,
          null,
          null,
          10.906,
          10.93,
          10.96,
          11.01,
          11.132,
          11.132,
          null,
          null,
          null,
          null
         ],
         "type": "scatter",
         "x": [
          1960,
          1961,
          1962,
          1963,
          1964,
          1965,
          1966,
          1967,
          1968,
          1969,
          1970,
          1971,
          1972,
          1973,
          1974,
          1975,
          1976,
          1977,
          1978,
          1979,
          1980,
          1981,
          1982,
          1983,
          1984,
          1985,
          1986,
          1987,
          1988,
          1989,
          1990,
          1991,
          1992,
          1993,
          1994,
          1995,
          1996,
          1997,
          1998,
          1999,
          2000,
          2001,
          2002,
          2003,
          2004,
          2005,
          2006,
          2007,
          2008,
          2009,
          2010,
          2011,
          2012,
          2013,
          2014,
          2015,
          2016,
          2017,
          2018,
          2019,
          2020
         ],
         "xaxis": "x",
         "y": [
          null,
          null,
          -0.20607142857142602,
          -0.23657142857142616,
          -0.3165714285714262,
          -0.27257142857142613,
          -0.12657142857142603,
          -0.18057142857142594,
          -0.16457142857142593,
          -0.058571428571426054,
          -0.14057142857142607,
          -0.11857142857142619,
          -0.1045714285714265,
          -0.0005714285714265799,
          -0.03257142857142661,
          -0.018571428571426553,
          -0.09657142857142667,
          -0.22457142857142642,
          -0.2905714285714261,
          -0.344571428571426,
          -0.3165714285714262,
          -0.2645714285714263,
          -0.12457142857142642,
          -0.20657142857142646,
          -0.36857142857142655,
          -0.39857142857142663,
          -0.3765714285714264,
          -0.26257142857142635,
          -0.07457142857142643,
          0.021428571428573663,
          0.02742857142857389,
          -0.1345714285714262,
          -0.3065714285714261,
          -0.378571428571426,
          -0.3825714285714259,
          -0.28457142857142587,
          -0.08657142857142582,
          0.0014285714285740881,
          -0.002571428571426182,
          0.031428571428573804,
          0.05342857142857369,
          0.10542857142857365,
          0.2414285714285736,
          0.37742857142857356,
          0.5534285714285737,
          0.6414285714285737,
          0.704761904761907,
          0.661428571428574,
          0.47476190476190777,
          0.4380952380952407,
          0.39892857142857396,
          0.357428571428574,
          0.3814285714285738,
          0.41142857142857386,
          0.46142857142857385,
          0.5834285714285737,
          0.5834285714285737,
          null,
          null,
          null,
          null
         ],
         "yaxis": "y"
        },
        {
         "hoverinfo": "skip",
         "line": {
          "color": "#fdbf2d",
          "shape": "spline",
          "width": 1
         },
         "mode": "lines",
         "name": "1981-2010 Normal",
         "type": "scatter",
         "x": [
          1960,
          1961,
          1962,
          1963,
          1964,
          1965,
          1966,
          1967,
          1968,
          1969,
          1970,
          1971,
          1972,
          1973,
          1974,
          1975,
          1976,
          1977,
          1978,
          1979,
          1980,
          1981,
          1982,
          1983,
          1984,
          1985,
          1986,
          1987,
          1988,
          1989,
          1990,
          1991,
          1992,
          1993,
          1994,
          1995,
          1996,
          1997,
          1998,
          1999,
          2000,
          2001,
          2002,
          2003,
          2004,
          2005,
          2006,
          2007,
          2008,
          2009,
          2010,
          2011,
          2012,
          2013,
          2014,
          2015,
          2016,
          2017,
          2018,
          2019,
          2020
         ],
         "xaxis": "x",
         "y": [
          null,
          10.548571428571426,
          10.548571428571426,
          10.548571428571426,
          10.548571428571426,
          10.548571428571426,
          10.548571428571426,
          10.548571428571426,
          10.548571428571426,
          10.548571428571426,
          10.548571428571426,
          10.548571428571426,
          10.548571428571426,
          10.548571428571426,
          10.548571428571426,
          10.548571428571426,
          10.548571428571426,
          10.548571428571426,
          10.548571428571426,
          10.548571428571426,
          10.548571428571426,
          10.548571428571426,
          10.548571428571426,
          10.548571428571426,
          10.548571428571426,
          10.548571428571426,
          10.548571428571426,
          10.548571428571426,
          10.548571428571426,
          10.548571428571426,
          10.548571428571426,
          10.548571428571426,
          10.548571428571426,
          10.548571428571426,
          10.548571428571426,
          10.548571428571426,
          10.548571428571426,
          10.548571428571426,
          10.548571428571426,
          10.548571428571426,
          10.548571428571426,
          10.548571428571426,
          10.548571428571426,
          10.548571428571426,
          10.548571428571426,
          10.548571428571426,
          10.548571428571426,
          10.548571428571426,
          10.548571428571426,
          10.548571428571426,
          10.548571428571426,
          10.548571428571426,
          10.548571428571426,
          10.548571428571426,
          10.548571428571426,
          10.548571428571426,
          10.548571428571426,
          10.548571428571426,
          10.548571428571426,
          null,
          null
         ],
         "yaxis": "y2"
        }
       ],
       "layout": {
        "font": {
         "color": "#7f7f7f"
        },
        "height": 450,
        "hovermode": "x",
        "legend": {
         "bgcolor": "rgba(0,0,0,0)",
         "itemclick": false,
         "itemdoubleclick": false,
         "orientation": "h"
        },
        "margin": {
         "b": 0,
         "l": 0,
         "r": 0,
         "t": 0
        },
        "paper_bgcolor": "rgba(0,0,0,0)",
        "plot_bgcolor": "#f7fbfd",
        "template": {
         "data": {
          "bar": [
           {
            "error_x": {
             "color": "#2a3f5f"
            },
            "error_y": {
             "color": "#2a3f5f"
            },
            "marker": {
             "line": {
              "color": "#E5ECF6",
              "width": 0.5
             }
            },
            "type": "bar"
           }
          ],
          "barpolar": [
           {
            "marker": {
             "line": {
              "color": "#E5ECF6",
              "width": 0.5
             }
            },
            "type": "barpolar"
           }
          ],
          "carpet": [
           {
            "aaxis": {
             "endlinecolor": "#2a3f5f",
             "gridcolor": "white",
             "linecolor": "white",
             "minorgridcolor": "white",
             "startlinecolor": "#2a3f5f"
            },
            "baxis": {
             "endlinecolor": "#2a3f5f",
             "gridcolor": "white",
             "linecolor": "white",
             "minorgridcolor": "white",
             "startlinecolor": "#2a3f5f"
            },
            "type": "carpet"
           }
          ],
          "choropleth": [
           {
            "colorbar": {
             "outlinewidth": 0,
             "ticks": ""
            },
            "type": "choropleth"
           }
          ],
          "contour": [
           {
            "colorbar": {
             "outlinewidth": 0,
             "ticks": ""
            },
            "colorscale": [
             [
              0,
              "#0d0887"
             ],
             [
              0.1111111111111111,
              "#46039f"
             ],
             [
              0.2222222222222222,
              "#7201a8"
             ],
             [
              0.3333333333333333,
              "#9c179e"
             ],
             [
              0.4444444444444444,
              "#bd3786"
             ],
             [
              0.5555555555555556,
              "#d8576b"
             ],
             [
              0.6666666666666666,
              "#ed7953"
             ],
             [
              0.7777777777777778,
              "#fb9f3a"
             ],
             [
              0.8888888888888888,
              "#fdca26"
             ],
             [
              1,
              "#f0f921"
             ]
            ],
            "type": "contour"
           }
          ],
          "contourcarpet": [
           {
            "colorbar": {
             "outlinewidth": 0,
             "ticks": ""
            },
            "type": "contourcarpet"
           }
          ],
          "heatmap": [
           {
            "colorbar": {
             "outlinewidth": 0,
             "ticks": ""
            },
            "colorscale": [
             [
              0,
              "#0d0887"
             ],
             [
              0.1111111111111111,
              "#46039f"
             ],
             [
              0.2222222222222222,
              "#7201a8"
             ],
             [
              0.3333333333333333,
              "#9c179e"
             ],
             [
              0.4444444444444444,
              "#bd3786"
             ],
             [
              0.5555555555555556,
              "#d8576b"
             ],
             [
              0.6666666666666666,
              "#ed7953"
             ],
             [
              0.7777777777777778,
              "#fb9f3a"
             ],
             [
              0.8888888888888888,
              "#fdca26"
             ],
             [
              1,
              "#f0f921"
             ]
            ],
            "type": "heatmap"
           }
          ],
          "heatmapgl": [
           {
            "colorbar": {
             "outlinewidth": 0,
             "ticks": ""
            },
            "colorscale": [
             [
              0,
              "#0d0887"
             ],
             [
              0.1111111111111111,
              "#46039f"
             ],
             [
              0.2222222222222222,
              "#7201a8"
             ],
             [
              0.3333333333333333,
              "#9c179e"
             ],
             [
              0.4444444444444444,
              "#bd3786"
             ],
             [
              0.5555555555555556,
              "#d8576b"
             ],
             [
              0.6666666666666666,
              "#ed7953"
             ],
             [
              0.7777777777777778,
              "#fb9f3a"
             ],
             [
              0.8888888888888888,
              "#fdca26"
             ],
             [
              1,
              "#f0f921"
             ]
            ],
            "type": "heatmapgl"
           }
          ],
          "histogram": [
           {
            "marker": {
             "colorbar": {
              "outlinewidth": 0,
              "ticks": ""
             }
            },
            "type": "histogram"
           }
          ],
          "histogram2d": [
           {
            "colorbar": {
             "outlinewidth": 0,
             "ticks": ""
            },
            "colorscale": [
             [
              0,
              "#0d0887"
             ],
             [
              0.1111111111111111,
              "#46039f"
             ],
             [
              0.2222222222222222,
              "#7201a8"
             ],
             [
              0.3333333333333333,
              "#9c179e"
             ],
             [
              0.4444444444444444,
              "#bd3786"
             ],
             [
              0.5555555555555556,
              "#d8576b"
             ],
             [
              0.6666666666666666,
              "#ed7953"
             ],
             [
              0.7777777777777778,
              "#fb9f3a"
             ],
             [
              0.8888888888888888,
              "#fdca26"
             ],
             [
              1,
              "#f0f921"
             ]
            ],
            "type": "histogram2d"
           }
          ],
          "histogram2dcontour": [
           {
            "colorbar": {
             "outlinewidth": 0,
             "ticks": ""
            },
            "colorscale": [
             [
              0,
              "#0d0887"
             ],
             [
              0.1111111111111111,
              "#46039f"
             ],
             [
              0.2222222222222222,
              "#7201a8"
             ],
             [
              0.3333333333333333,
              "#9c179e"
             ],
             [
              0.4444444444444444,
              "#bd3786"
             ],
             [
              0.5555555555555556,
              "#d8576b"
             ],
             [
              0.6666666666666666,
              "#ed7953"
             ],
             [
              0.7777777777777778,
              "#fb9f3a"
             ],
             [
              0.8888888888888888,
              "#fdca26"
             ],
             [
              1,
              "#f0f921"
             ]
            ],
            "type": "histogram2dcontour"
           }
          ],
          "mesh3d": [
           {
            "colorbar": {
             "outlinewidth": 0,
             "ticks": ""
            },
            "type": "mesh3d"
           }
          ],
          "parcoords": [
           {
            "line": {
             "colorbar": {
              "outlinewidth": 0,
              "ticks": ""
             }
            },
            "type": "parcoords"
           }
          ],
          "pie": [
           {
            "automargin": true,
            "type": "pie"
           }
          ],
          "scatter": [
           {
            "marker": {
             "colorbar": {
              "outlinewidth": 0,
              "ticks": ""
             }
            },
            "type": "scatter"
           }
          ],
          "scatter3d": [
           {
            "line": {
             "colorbar": {
              "outlinewidth": 0,
              "ticks": ""
             }
            },
            "marker": {
             "colorbar": {
              "outlinewidth": 0,
              "ticks": ""
             }
            },
            "type": "scatter3d"
           }
          ],
          "scattercarpet": [
           {
            "marker": {
             "colorbar": {
              "outlinewidth": 0,
              "ticks": ""
             }
            },
            "type": "scattercarpet"
           }
          ],
          "scattergeo": [
           {
            "marker": {
             "colorbar": {
              "outlinewidth": 0,
              "ticks": ""
             }
            },
            "type": "scattergeo"
           }
          ],
          "scattergl": [
           {
            "marker": {
             "colorbar": {
              "outlinewidth": 0,
              "ticks": ""
             }
            },
            "type": "scattergl"
           }
          ],
          "scattermapbox": [
           {
            "marker": {
             "colorbar": {
              "outlinewidth": 0,
              "ticks": ""
             }
            },
            "type": "scattermapbox"
           }
          ],
          "scatterpolar": [
           {
            "marker": {
             "colorbar": {
              "outlinewidth": 0,
              "ticks": ""
             }
            },
            "type": "scatterpolar"
           }
          ],
          "scatterpolargl": [
           {
            "marker": {
             "colorbar": {
              "outlinewidth": 0,
              "ticks": ""
             }
            },
            "type": "scatterpolargl"
           }
          ],
          "scatterternary": [
           {
            "marker": {
             "colorbar": {
              "outlinewidth": 0,
              "ticks": ""
             }
            },
            "type": "scatterternary"
           }
          ],
          "surface": [
           {
            "colorbar": {
             "outlinewidth": 0,
             "ticks": ""
            },
            "colorscale": [
             [
              0,
              "#0d0887"
             ],
             [
              0.1111111111111111,
              "#46039f"
             ],
             [
              0.2222222222222222,
              "#7201a8"
             ],
             [
              0.3333333333333333,
              "#9c179e"
             ],
             [
              0.4444444444444444,
              "#bd3786"
             ],
             [
              0.5555555555555556,
              "#d8576b"
             ],
             [
              0.6666666666666666,
              "#ed7953"
             ],
             [
              0.7777777777777778,
              "#fb9f3a"
             ],
             [
              0.8888888888888888,
              "#fdca26"
             ],
             [
              1,
              "#f0f921"
             ]
            ],
            "type": "surface"
           }
          ],
          "table": [
           {
            "cells": {
             "fill": {
              "color": "#EBF0F8"
             },
             "line": {
              "color": "white"
             }
            },
            "header": {
             "fill": {
              "color": "#C8D4E3"
             },
             "line": {
              "color": "white"
             }
            },
            "type": "table"
           }
          ]
         },
         "layout": {
          "annotationdefaults": {
           "arrowcolor": "#2a3f5f",
           "arrowhead": 0,
           "arrowwidth": 1
          },
          "autotypenumbers": "strict",
          "coloraxis": {
           "colorbar": {
            "outlinewidth": 0,
            "ticks": ""
           }
          },
          "colorscale": {
           "diverging": [
            [
             0,
             "#8e0152"
            ],
            [
             0.1,
             "#c51b7d"
            ],
            [
             0.2,
             "#de77ae"
            ],
            [
             0.3,
             "#f1b6da"
            ],
            [
             0.4,
             "#fde0ef"
            ],
            [
             0.5,
             "#f7f7f7"
            ],
            [
             0.6,
             "#e6f5d0"
            ],
            [
             0.7,
             "#b8e186"
            ],
            [
             0.8,
             "#7fbc41"
            ],
            [
             0.9,
             "#4d9221"
            ],
            [
             1,
             "#276419"
            ]
           ],
           "sequential": [
            [
             0,
             "#0d0887"
            ],
            [
             0.1111111111111111,
             "#46039f"
            ],
            [
             0.2222222222222222,
             "#7201a8"
            ],
            [
             0.3333333333333333,
             "#9c179e"
            ],
            [
             0.4444444444444444,
             "#bd3786"
            ],
            [
             0.5555555555555556,
             "#d8576b"
            ],
            [
             0.6666666666666666,
             "#ed7953"
            ],
            [
             0.7777777777777778,
             "#fb9f3a"
            ],
            [
             0.8888888888888888,
             "#fdca26"
            ],
            [
             1,
             "#f0f921"
            ]
           ],
           "sequentialminus": [
            [
             0,
             "#0d0887"
            ],
            [
             0.1111111111111111,
             "#46039f"
            ],
            [
             0.2222222222222222,
             "#7201a8"
            ],
            [
             0.3333333333333333,
             "#9c179e"
            ],
            [
             0.4444444444444444,
             "#bd3786"
            ],
            [
             0.5555555555555556,
             "#d8576b"
            ],
            [
             0.6666666666666666,
             "#ed7953"
            ],
            [
             0.7777777777777778,
             "#fb9f3a"
            ],
            [
             0.8888888888888888,
             "#fdca26"
            ],
            [
             1,
             "#f0f921"
            ]
           ]
          },
          "colorway": [
           "#636efa",
           "#EF553B",
           "#00cc96",
           "#ab63fa",
           "#FFA15A",
           "#19d3f3",
           "#FF6692",
           "#B6E880",
           "#FF97FF",
           "#FECB52"
          ],
          "font": {
           "color": "#2a3f5f"
          },
          "geo": {
           "bgcolor": "white",
           "lakecolor": "white",
           "landcolor": "#E5ECF6",
           "showlakes": true,
           "showland": true,
           "subunitcolor": "white"
          },
          "hoverlabel": {
           "align": "left"
          },
          "hovermode": "closest",
          "mapbox": {
           "style": "light"
          },
          "paper_bgcolor": "white",
          "plot_bgcolor": "#E5ECF6",
          "polar": {
           "angularaxis": {
            "gridcolor": "white",
            "linecolor": "white",
            "ticks": ""
           },
           "bgcolor": "#E5ECF6",
           "radialaxis": {
            "gridcolor": "white",
            "linecolor": "white",
            "ticks": ""
           }
          },
          "scene": {
           "xaxis": {
            "backgroundcolor": "#E5ECF6",
            "gridcolor": "white",
            "gridwidth": 2,
            "linecolor": "white",
            "showbackground": true,
            "ticks": "",
            "zerolinecolor": "white"
           },
           "yaxis": {
            "backgroundcolor": "#E5ECF6",
            "gridcolor": "white",
            "gridwidth": 2,
            "linecolor": "white",
            "showbackground": true,
            "ticks": "",
            "zerolinecolor": "white"
           },
           "zaxis": {
            "backgroundcolor": "#E5ECF6",
            "gridcolor": "white",
            "gridwidth": 2,
            "linecolor": "white",
            "showbackground": true,
            "ticks": "",
            "zerolinecolor": "white"
           }
          },
          "shapedefaults": {
           "line": {
            "color": "#2a3f5f"
           }
          },
          "ternary": {
           "aaxis": {
            "gridcolor": "white",
            "linecolor": "white",
            "ticks": ""
           },
           "baxis": {
            "gridcolor": "white",
            "linecolor": "white",
            "ticks": ""
           },
           "bgcolor": "#E5ECF6",
           "caxis": {
            "gridcolor": "white",
            "linecolor": "white",
            "ticks": ""
           }
          },
          "title": {
           "x": 0.05
          },
          "xaxis": {
           "automargin": true,
           "gridcolor": "white",
           "linecolor": "white",
           "ticks": "",
           "title": {
            "standoff": 15
           },
           "zerolinecolor": "white",
           "zerolinewidth": 2
          },
          "yaxis": {
           "automargin": true,
           "gridcolor": "white",
           "linecolor": "white",
           "ticks": "",
           "title": {
            "standoff": 15
           },
           "zerolinecolor": "white",
           "zerolinewidth": 2
          }
         }
        },
        "xaxis": {
         "anchor": "y",
         "domain": [
          0,
          0.94
         ],
         "fixedrange": true,
         "showgrid": false,
         "showspikes": true,
         "spikethickness": 2,
         "tickformat": "000",
         "title": {
          "text": "Year"
         }
        },
        "yaxis": {
         "anchor": "x",
         "domain": [
          0,
          1
         ],
         "dtick": 0.25,
         "fixedrange": true,
         "range": [
          -1,
          1
         ],
         "showgrid": false,
         "showspikes": true,
         "tick0": 0,
         "title": {
          "text": "Difference (°C) from 1981-2010 Normal"
         }
        },
        "yaxis2": {
         "anchor": "x",
         "dtick": 0.5,
         "fixedrange": true,
         "overlaying": "y",
         "range": [
          9.5,
          11.6
         ],
         "showgrid": false,
         "side": "right",
         "tick0": 10.6,
         "title": {
          "text": "Annual SST (°C)"
         }
        }
       }
      },
      "text/html": "<div>                            <div id=\"cec5c03e-0f94-4640-9da2-318691409ea4\" class=\"plotly-graph-div\" style=\"height:450px; width:100%;\"></div>            <script type=\"text/javascript\">                require([\"plotly\"], function(Plotly) {                    window.PLOTLYENV=window.PLOTLYENV || {};                                    if (document.getElementById(\"cec5c03e-0f94-4640-9da2-318691409ea4\")) {                    Plotly.newPlot(                        \"cec5c03e-0f94-4640-9da2-318691409ea4\",                        [{\"hovertemplate\": \"%{x}<br><b>Annual</b><br>Total: %{text:.2f}mm<br>Anomaly: %{y:.2f}mm<extra></extra>\", \"marker\": {\"color\": \"#E1AF00\", \"opacity\": 0.5}, \"name\": \"Annual\", \"text\": [null, 10.73, 10.25, 9.74, 10.65, 10.19, 10.33, 10.47, 10.47, 10.38, 10.27, 10.86, 10.06, 10.58, 10.45, 10.79, 10.7, 10.13, 10.19, 9.81, 10.46, 10.43, 10.27, 10.45, 10.51, 10.05, 9.62, 10.12, 10.56, 11.08, 10.99, 10.1, 10.15, 9.75, 10.22, 10.63, 10.08, 10.64, 10.74, 10.66, 10.61, 10.25, 10.75, 11.0, 11.34, 11.29, 11.13, null, null, 11.21, 10.73, 11.02, 10.83, 10.74, 11.33, 10.88, 11.27, 11.44, 10.74, null, null], \"type\": \"bar\", \"x\": [1960, 1961, 1962, 1963, 1964, 1965, 1966, 1967, 1968, 1969, 1970, 1971, 1972, 1973, 1974, 1975, 1976, 1977, 1978, 1979, 1980, 1981, 1982, 1983, 1984, 1985, 1986, 1987, 1988, 1989, 1990, 1991, 1992, 1993, 1994, 1995, 1996, 1997, 1998, 1999, 2000, 2001, 2002, 2003, 2004, 2005, 2006, 2007, 2008, 2009, 2010, 2011, 2012, 2013, 2014, 2015, 2016, 2017, 2018, 2019, 2020], \"xaxis\": \"x\", \"y\": [null, 0.18142857142857416, -0.29857142857142627, -0.808571428571426, 0.10142857142857409, -0.35857142857142676, -0.2185714285714262, -0.07857142857142563, -0.07857142857142563, -0.16857142857142549, -0.2785714285714267, 0.31142857142857316, -0.48857142857142577, 0.031428571428573804, -0.09857142857142698, 0.24142857142857288, 0.15142857142857302, -0.4185714285714255, -0.35857142857142676, -0.7385714285714258, -0.08857142857142541, -0.11857142857142655, -0.2785714285714267, -0.09857142857142698, -0.03857142857142648, -0.49857142857142556, -0.928571428571427, -0.42857142857142705, 0.01142857142857423, 0.5314285714285738, 0.44142857142857395, -0.4485714285714266, -0.3985714285714259, -0.7985714285714263, -0.3285714285714256, 0.08142857142857451, -0.4685714285714262, 0.0914285714285743, 0.19142857142857395, 0.11142857142857387, 0.061428571428573164, -0.29857142857142627, 0.20142857142857373, 0.45142857142857373, 0.7914285714285736, 0.7414285714285729, 0.5814285714285745, null, null, 0.6614285714285746, 0.18142857142857416, 0.4714285714285733, 0.2814285714285738, 0.19142857142857395, 0.7814285714285738, 0.3314285714285745, 0.7214285714285733, 0.8914285714285732, 0.19142857142857395, null, null], \"yaxis\": \"y\"}, {\"hovertemplate\": \"%{x}<br><b>11yr Moving Average</b><br>Total: %{text:.2f}mm<br>Anomaly: %{y:.2f}mm<extra></extra>\", \"line\": {\"color\": \"#00a4ae\", \"shape\": \"spline\", \"width\": 2}, \"mode\": \"lines\", \"name\": \"11yr Moving Average\", \"text\": [null, null, null, 10.312000000000001, 10.232, 10.276, 10.422, 10.367999999999999, 10.384, 10.49, 10.408000000000001, 10.430000000000001, 10.443999999999999, 10.547999999999998, 10.516, 10.529999999999998, 10.452, 10.324000000000002, 10.258000000000001, 10.203999999999999, 10.232000000000001, 10.284, 10.424, 10.341999999999999, 10.180000000000001, 10.15, 10.172, 10.286, 10.474, 10.569999999999999, 10.575999999999999, 10.413999999999998, 10.242, 10.169999999999998, 10.166, 10.264000000000001, 10.462, 10.55, 10.546000000000001, 10.58, 10.602, 10.654, 10.790000000000001, 10.925999999999998, 11.102, null, null, null, null, null, null, 10.906, 10.93, 10.96, 11.01, 11.132, 11.132, null, null, null, null], \"type\": \"scatter\", \"x\": [1960, 1961, 1962, 1963, 1964, 1965, 1966, 1967, 1968, 1969, 1970, 1971, 1972, 1973, 1974, 1975, 1976, 1977, 1978, 1979, 1980, 1981, 1982, 1983, 1984, 1985, 1986, 1987, 1988, 1989, 1990, 1991, 1992, 1993, 1994, 1995, 1996, 1997, 1998, 1999, 2000, 2001, 2002, 2003, 2004, 2005, 2006, 2007, 2008, 2009, 2010, 2011, 2012, 2013, 2014, 2015, 2016, 2017, 2018, 2019, 2020], \"xaxis\": \"x\", \"y\": [null, null, -0.20607142857142602, -0.23657142857142616, -0.3165714285714262, -0.27257142857142613, -0.12657142857142603, -0.18057142857142594, -0.16457142857142593, -0.058571428571426054, -0.14057142857142607, -0.11857142857142619, -0.1045714285714265, -0.0005714285714265799, -0.03257142857142661, -0.018571428571426553, -0.09657142857142667, -0.22457142857142642, -0.2905714285714261, -0.344571428571426, -0.3165714285714262, -0.2645714285714263, -0.12457142857142642, -0.20657142857142646, -0.36857142857142655, -0.39857142857142663, -0.3765714285714264, -0.26257142857142635, -0.07457142857142643, 0.021428571428573663, 0.02742857142857389, -0.1345714285714262, -0.3065714285714261, -0.378571428571426, -0.3825714285714259, -0.28457142857142587, -0.08657142857142582, 0.0014285714285740881, -0.002571428571426182, 0.031428571428573804, 0.05342857142857369, 0.10542857142857365, 0.2414285714285736, 0.37742857142857356, 0.5534285714285737, 0.6414285714285737, 0.704761904761907, 0.661428571428574, 0.47476190476190777, 0.4380952380952407, 0.39892857142857396, 0.357428571428574, 0.3814285714285738, 0.41142857142857386, 0.46142857142857385, 0.5834285714285737, 0.5834285714285737, null, null, null, null], \"yaxis\": \"y\"}, {\"hoverinfo\": \"skip\", \"line\": {\"color\": \"#fdbf2d\", \"shape\": \"spline\", \"width\": 1}, \"mode\": \"lines\", \"name\": \"1981-2010 Normal\", \"type\": \"scatter\", \"x\": [1960, 1961, 1962, 1963, 1964, 1965, 1966, 1967, 1968, 1969, 1970, 1971, 1972, 1973, 1974, 1975, 1976, 1977, 1978, 1979, 1980, 1981, 1982, 1983, 1984, 1985, 1986, 1987, 1988, 1989, 1990, 1991, 1992, 1993, 1994, 1995, 1996, 1997, 1998, 1999, 2000, 2001, 2002, 2003, 2004, 2005, 2006, 2007, 2008, 2009, 2010, 2011, 2012, 2013, 2014, 2015, 2016, 2017, 2018, 2019, 2020], \"xaxis\": \"x\", \"y\": [null, 10.548571428571426, 10.548571428571426, 10.548571428571426, 10.548571428571426, 10.548571428571426, 10.548571428571426, 10.548571428571426, 10.548571428571426, 10.548571428571426, 10.548571428571426, 10.548571428571426, 10.548571428571426, 10.548571428571426, 10.548571428571426, 10.548571428571426, 10.548571428571426, 10.548571428571426, 10.548571428571426, 10.548571428571426, 10.548571428571426, 10.548571428571426, 10.548571428571426, 10.548571428571426, 10.548571428571426, 10.548571428571426, 10.548571428571426, 10.548571428571426, 10.548571428571426, 10.548571428571426, 10.548571428571426, 10.548571428571426, 10.548571428571426, 10.548571428571426, 10.548571428571426, 10.548571428571426, 10.548571428571426, 10.548571428571426, 10.548571428571426, 10.548571428571426, 10.548571428571426, 10.548571428571426, 10.548571428571426, 10.548571428571426, 10.548571428571426, 10.548571428571426, 10.548571428571426, 10.548571428571426, 10.548571428571426, 10.548571428571426, 10.548571428571426, 10.548571428571426, 10.548571428571426, 10.548571428571426, 10.548571428571426, 10.548571428571426, 10.548571428571426, 10.548571428571426, 10.548571428571426, null, null], \"yaxis\": \"y2\"}],                        {\"font\": {\"color\": \"#7f7f7f\"}, \"height\": 450, \"hovermode\": \"x\", \"legend\": {\"bgcolor\": \"rgba(0,0,0,0)\", \"itemclick\": false, \"itemdoubleclick\": false, \"orientation\": \"h\"}, \"margin\": {\"b\": 0, \"l\": 0, \"r\": 0, \"t\": 0}, \"paper_bgcolor\": \"rgba(0,0,0,0)\", \"plot_bgcolor\": \"#f7fbfd\", \"template\": {\"data\": {\"bar\": [{\"error_x\": {\"color\": \"#2a3f5f\"}, \"error_y\": {\"color\": \"#2a3f5f\"}, \"marker\": {\"line\": {\"color\": \"#E5ECF6\", \"width\": 0.5}}, \"type\": \"bar\"}], \"barpolar\": [{\"marker\": {\"line\": {\"color\": \"#E5ECF6\", \"width\": 0.5}}, \"type\": \"barpolar\"}], \"carpet\": [{\"aaxis\": {\"endlinecolor\": \"#2a3f5f\", \"gridcolor\": \"white\", \"linecolor\": \"white\", \"minorgridcolor\": \"white\", \"startlinecolor\": \"#2a3f5f\"}, \"baxis\": {\"endlinecolor\": \"#2a3f5f\", \"gridcolor\": \"white\", \"linecolor\": \"white\", \"minorgridcolor\": \"white\", \"startlinecolor\": \"#2a3f5f\"}, \"type\": \"carpet\"}], \"choropleth\": [{\"colorbar\": {\"outlinewidth\": 0, \"ticks\": \"\"}, \"type\": \"choropleth\"}], \"contour\": [{\"colorbar\": {\"outlinewidth\": 0, \"ticks\": \"\"}, \"colorscale\": [[0.0, \"#0d0887\"], [0.1111111111111111, \"#46039f\"], [0.2222222222222222, \"#7201a8\"], [0.3333333333333333, \"#9c179e\"], [0.4444444444444444, \"#bd3786\"], [0.5555555555555556, \"#d8576b\"], [0.6666666666666666, \"#ed7953\"], [0.7777777777777778, \"#fb9f3a\"], [0.8888888888888888, \"#fdca26\"], [1.0, \"#f0f921\"]], \"type\": \"contour\"}], \"contourcarpet\": [{\"colorbar\": {\"outlinewidth\": 0, \"ticks\": \"\"}, \"type\": \"contourcarpet\"}], \"heatmap\": [{\"colorbar\": {\"outlinewidth\": 0, \"ticks\": \"\"}, \"colorscale\": [[0.0, \"#0d0887\"], [0.1111111111111111, \"#46039f\"], [0.2222222222222222, \"#7201a8\"], [0.3333333333333333, \"#9c179e\"], [0.4444444444444444, \"#bd3786\"], [0.5555555555555556, \"#d8576b\"], [0.6666666666666666, \"#ed7953\"], [0.7777777777777778, \"#fb9f3a\"], [0.8888888888888888, \"#fdca26\"], [1.0, \"#f0f921\"]], \"type\": \"heatmap\"}], \"heatmapgl\": [{\"colorbar\": {\"outlinewidth\": 0, \"ticks\": \"\"}, \"colorscale\": [[0.0, \"#0d0887\"], [0.1111111111111111, \"#46039f\"], [0.2222222222222222, \"#7201a8\"], [0.3333333333333333, \"#9c179e\"], [0.4444444444444444, \"#bd3786\"], [0.5555555555555556, \"#d8576b\"], [0.6666666666666666, \"#ed7953\"], [0.7777777777777778, \"#fb9f3a\"], [0.8888888888888888, \"#fdca26\"], [1.0, \"#f0f921\"]], \"type\": \"heatmapgl\"}], \"histogram\": [{\"marker\": {\"colorbar\": {\"outlinewidth\": 0, \"ticks\": \"\"}}, \"type\": \"histogram\"}], \"histogram2d\": [{\"colorbar\": {\"outlinewidth\": 0, \"ticks\": \"\"}, \"colorscale\": [[0.0, \"#0d0887\"], [0.1111111111111111, \"#46039f\"], [0.2222222222222222, \"#7201a8\"], [0.3333333333333333, \"#9c179e\"], [0.4444444444444444, \"#bd3786\"], [0.5555555555555556, \"#d8576b\"], [0.6666666666666666, \"#ed7953\"], [0.7777777777777778, \"#fb9f3a\"], [0.8888888888888888, \"#fdca26\"], [1.0, \"#f0f921\"]], \"type\": \"histogram2d\"}], \"histogram2dcontour\": [{\"colorbar\": {\"outlinewidth\": 0, \"ticks\": \"\"}, \"colorscale\": [[0.0, \"#0d0887\"], [0.1111111111111111, \"#46039f\"], [0.2222222222222222, \"#7201a8\"], [0.3333333333333333, \"#9c179e\"], [0.4444444444444444, \"#bd3786\"], [0.5555555555555556, \"#d8576b\"], [0.6666666666666666, \"#ed7953\"], [0.7777777777777778, \"#fb9f3a\"], [0.8888888888888888, \"#fdca26\"], [1.0, \"#f0f921\"]], \"type\": \"histogram2dcontour\"}], \"mesh3d\": [{\"colorbar\": {\"outlinewidth\": 0, \"ticks\": \"\"}, \"type\": \"mesh3d\"}], \"parcoords\": [{\"line\": {\"colorbar\": {\"outlinewidth\": 0, \"ticks\": \"\"}}, \"type\": \"parcoords\"}], \"pie\": [{\"automargin\": true, \"type\": \"pie\"}], \"scatter\": [{\"marker\": {\"colorbar\": {\"outlinewidth\": 0, \"ticks\": \"\"}}, \"type\": \"scatter\"}], \"scatter3d\": [{\"line\": {\"colorbar\": {\"outlinewidth\": 0, \"ticks\": \"\"}}, \"marker\": {\"colorbar\": {\"outlinewidth\": 0, \"ticks\": \"\"}}, \"type\": \"scatter3d\"}], \"scattercarpet\": [{\"marker\": {\"colorbar\": {\"outlinewidth\": 0, \"ticks\": \"\"}}, \"type\": \"scattercarpet\"}], \"scattergeo\": [{\"marker\": {\"colorbar\": {\"outlinewidth\": 0, \"ticks\": \"\"}}, \"type\": \"scattergeo\"}], \"scattergl\": [{\"marker\": {\"colorbar\": {\"outlinewidth\": 0, \"ticks\": \"\"}}, \"type\": \"scattergl\"}], \"scattermapbox\": [{\"marker\": {\"colorbar\": {\"outlinewidth\": 0, \"ticks\": \"\"}}, \"type\": \"scattermapbox\"}], \"scatterpolar\": [{\"marker\": {\"colorbar\": {\"outlinewidth\": 0, \"ticks\": \"\"}}, \"type\": \"scatterpolar\"}], \"scatterpolargl\": [{\"marker\": {\"colorbar\": {\"outlinewidth\": 0, \"ticks\": \"\"}}, \"type\": \"scatterpolargl\"}], \"scatterternary\": [{\"marker\": {\"colorbar\": {\"outlinewidth\": 0, \"ticks\": \"\"}}, \"type\": \"scatterternary\"}], \"surface\": [{\"colorbar\": {\"outlinewidth\": 0, \"ticks\": \"\"}, \"colorscale\": [[0.0, \"#0d0887\"], [0.1111111111111111, \"#46039f\"], [0.2222222222222222, \"#7201a8\"], [0.3333333333333333, \"#9c179e\"], [0.4444444444444444, \"#bd3786\"], [0.5555555555555556, \"#d8576b\"], [0.6666666666666666, \"#ed7953\"], [0.7777777777777778, \"#fb9f3a\"], [0.8888888888888888, \"#fdca26\"], [1.0, \"#f0f921\"]], \"type\": \"surface\"}], \"table\": [{\"cells\": {\"fill\": {\"color\": \"#EBF0F8\"}, \"line\": {\"color\": \"white\"}}, \"header\": {\"fill\": {\"color\": \"#C8D4E3\"}, \"line\": {\"color\": \"white\"}}, \"type\": \"table\"}]}, \"layout\": {\"annotationdefaults\": {\"arrowcolor\": \"#2a3f5f\", \"arrowhead\": 0, \"arrowwidth\": 1}, \"autotypenumbers\": \"strict\", \"coloraxis\": {\"colorbar\": {\"outlinewidth\": 0, \"ticks\": \"\"}}, \"colorscale\": {\"diverging\": [[0, \"#8e0152\"], [0.1, \"#c51b7d\"], [0.2, \"#de77ae\"], [0.3, \"#f1b6da\"], [0.4, \"#fde0ef\"], [0.5, \"#f7f7f7\"], [0.6, \"#e6f5d0\"], [0.7, \"#b8e186\"], [0.8, \"#7fbc41\"], [0.9, \"#4d9221\"], [1, \"#276419\"]], \"sequential\": [[0.0, \"#0d0887\"], [0.1111111111111111, \"#46039f\"], [0.2222222222222222, \"#7201a8\"], [0.3333333333333333, \"#9c179e\"], [0.4444444444444444, \"#bd3786\"], [0.5555555555555556, \"#d8576b\"], [0.6666666666666666, \"#ed7953\"], [0.7777777777777778, \"#fb9f3a\"], [0.8888888888888888, \"#fdca26\"], [1.0, \"#f0f921\"]], \"sequentialminus\": [[0.0, \"#0d0887\"], [0.1111111111111111, \"#46039f\"], [0.2222222222222222, \"#7201a8\"], [0.3333333333333333, \"#9c179e\"], [0.4444444444444444, \"#bd3786\"], [0.5555555555555556, \"#d8576b\"], [0.6666666666666666, \"#ed7953\"], [0.7777777777777778, \"#fb9f3a\"], [0.8888888888888888, \"#fdca26\"], [1.0, \"#f0f921\"]]}, \"colorway\": [\"#636efa\", \"#EF553B\", \"#00cc96\", \"#ab63fa\", \"#FFA15A\", \"#19d3f3\", \"#FF6692\", \"#B6E880\", \"#FF97FF\", \"#FECB52\"], \"font\": {\"color\": \"#2a3f5f\"}, \"geo\": {\"bgcolor\": \"white\", \"lakecolor\": \"white\", \"landcolor\": \"#E5ECF6\", \"showlakes\": true, \"showland\": true, \"subunitcolor\": \"white\"}, \"hoverlabel\": {\"align\": \"left\"}, \"hovermode\": \"closest\", \"mapbox\": {\"style\": \"light\"}, \"paper_bgcolor\": \"white\", \"plot_bgcolor\": \"#E5ECF6\", \"polar\": {\"angularaxis\": {\"gridcolor\": \"white\", \"linecolor\": \"white\", \"ticks\": \"\"}, \"bgcolor\": \"#E5ECF6\", \"radialaxis\": {\"gridcolor\": \"white\", \"linecolor\": \"white\", \"ticks\": \"\"}}, \"scene\": {\"xaxis\": {\"backgroundcolor\": \"#E5ECF6\", \"gridcolor\": \"white\", \"gridwidth\": 2, \"linecolor\": \"white\", \"showbackground\": true, \"ticks\": \"\", \"zerolinecolor\": \"white\"}, \"yaxis\": {\"backgroundcolor\": \"#E5ECF6\", \"gridcolor\": \"white\", \"gridwidth\": 2, \"linecolor\": \"white\", \"showbackground\": true, \"ticks\": \"\", \"zerolinecolor\": \"white\"}, \"zaxis\": {\"backgroundcolor\": \"#E5ECF6\", \"gridcolor\": \"white\", \"gridwidth\": 2, \"linecolor\": \"white\", \"showbackground\": true, \"ticks\": \"\", \"zerolinecolor\": \"white\"}}, \"shapedefaults\": {\"line\": {\"color\": \"#2a3f5f\"}}, \"ternary\": {\"aaxis\": {\"gridcolor\": \"white\", \"linecolor\": \"white\", \"ticks\": \"\"}, \"baxis\": {\"gridcolor\": \"white\", \"linecolor\": \"white\", \"ticks\": \"\"}, \"bgcolor\": \"#E5ECF6\", \"caxis\": {\"gridcolor\": \"white\", \"linecolor\": \"white\", \"ticks\": \"\"}}, \"title\": {\"x\": 0.05}, \"xaxis\": {\"automargin\": true, \"gridcolor\": \"white\", \"linecolor\": \"white\", \"ticks\": \"\", \"title\": {\"standoff\": 15}, \"zerolinecolor\": \"white\", \"zerolinewidth\": 2}, \"yaxis\": {\"automargin\": true, \"gridcolor\": \"white\", \"linecolor\": \"white\", \"ticks\": \"\", \"title\": {\"standoff\": 15}, \"zerolinecolor\": \"white\", \"zerolinewidth\": 2}}}, \"xaxis\": {\"anchor\": \"y\", \"domain\": [0.0, 0.94], \"fixedrange\": true, \"showgrid\": false, \"showspikes\": true, \"spikethickness\": 2, \"tickformat\": \"000\", \"title\": {\"text\": \"Year\"}}, \"yaxis\": {\"anchor\": \"x\", \"domain\": [0.0, 1.0], \"dtick\": 0.25, \"fixedrange\": true, \"range\": [-1, 1], \"showgrid\": false, \"showspikes\": true, \"tick0\": 0, \"title\": {\"text\": \"Difference (\\u00b0C) from 1981-2010 Normal\"}}, \"yaxis2\": {\"anchor\": \"x\", \"dtick\": 0.5, \"fixedrange\": true, \"overlaying\": \"y\", \"range\": [9.5, 11.6], \"showgrid\": false, \"side\": \"right\", \"tick0\": 10.6, \"title\": {\"text\": \"Annual SST (\\u00b0C)\"}}},                        {\"responsive\": true}                    ).then(function(){\n                            \nvar gd = document.getElementById('cec5c03e-0f94-4640-9da2-318691409ea4');\nvar x = new MutationObserver(function (mutations, observer) {{\n        var display = window.getComputedStyle(gd).display;\n        if (!display || display === 'none') {{\n            console.log([gd, 'removed!']);\n            Plotly.purge(gd);\n            observer.disconnect();\n        }}\n}});\n\n// Listen for the removal of the full notebook cells\nvar notebookContainer = gd.closest('#notebook-container');\nif (notebookContainer) {{\n    x.observe(notebookContainer, {childList: true});\n}}\n\n// Listen for the clearing of the current output cell\nvar outputEl = gd.closest('.output');\nif (outputEl) {{\n    x.observe(outputEl, {childList: true});\n}}\n\n                        })                };                });            </script>        </div>"
     },
     "metadata": {}
    }
   ],
   "source": [
    "figure_3_1 = make_subplots(specs=[[{'secondary_y': True}]])\n",
    "figure_3_1.add_trace(annualTrace,\n",
    "            secondary_y=False,)\n",
    "figure_3_1.add_trace(movingAverage,\n",
    "            secondary_y=False,)\n",
    "figure_3_1.add_trace(normal,\n",
    "            secondary_y=True,)\n",
    "\n",
    "figure_3_1.update_layout(TIMESERIES_LAYOUT)\n",
    "figure_3_1.update_yaxes(title_text='Difference (\\u00b0C) from 1981-2010 Normal',\n",
    "                        secondary_y=False,\n",
    "                        range=[-1, 1],\n",
    "                        showgrid=False,\n",
    "                        dtick=0.25,  # dtick sets the distance between ticks\n",
    "                        tick0=0,  # tick0 sets a point to map the other ticks\n",
    "                        fixedrange=True,\n",
    "                        showspikes=True,\n",
    "                        # zeroline=True,  # add a zero line\n",
    "                        # zerolinecolor=TIMESERIES_COLOR_SECONDARY\n",
    "                        )\n",
    "figure_3_1.update_yaxes(title_text='Annual SST (\\u00b0C)',\n",
    "                        secondary_y=True,\n",
    "                        range=[9.5, 11.6],\n",
    "                        showgrid=False,\n",
    "                        dtick=0.5,  # dtick sets the distance between ticks\n",
    "                        tick0=10.6,  # tick0 sets a point to map the other ticks\n",
    "                        fixedrange=True,\n",
    "                        )\n",
    "\n",
    "figure_3_1.update_xaxes(\n",
    "    title='Year',\n",
    "    fixedrange=True,\n",
    "    tickformat='000',  \n",
    "    showspikes=True,  \n",
    "    spikethickness=2, \n",
    ") \n"
   ]
  },
  {
   "cell_type": "code",
   "execution_count": null,
   "metadata": {},
   "outputs": [],
   "source": []
  }
 ],
 "metadata": {
  "kernelspec": {
   "display_name": "Python 3",
   "language": "python",
   "name": "python3"
  },
  "language_info": {
   "codemirror_mode": {
    "name": "ipython",
    "version": 3
   },
   "file_extension": ".py",
   "mimetype": "text/x-python",
   "name": "python",
   "nbconvert_exporter": "python",
   "pygments_lexer": "ipython3",
   "version": "3.7.3-final"
  }
 },
 "nbformat": 4,
 "nbformat_minor": 2
}