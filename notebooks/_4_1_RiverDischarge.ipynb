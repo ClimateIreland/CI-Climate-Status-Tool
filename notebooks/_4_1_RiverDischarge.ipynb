{
 "cells": [
  {
   "cell_type": "code",
   "execution_count": 1,
   "source": [
    "# to access root modules\n",
    "if __name__ == \"__main__\" and __package__ is None:\n",
    "    from sys import path\n",
    "    from os.path import dirname as dir\n",
    "    path.append(dir(path[0])+'/dash_app')\n",
    "    __package__ = \"dash_app\""
   ],
   "outputs": [],
   "metadata": {}
  },
  {
   "cell_type": "code",
   "execution_count": 2,
   "source": [
    "import pandas as pd\n",
    "import numpy as np\n",
    "import datetime\n",
    "import dateutil\n",
    "import plotly.graph_objects as go\n",
    "from plotly.subplots import make_subplots\n",
    "from charts import stations_map\n",
    "from settings import *"
   ],
   "outputs": [],
   "metadata": {}
  },
  {
   "cell_type": "code",
   "execution_count": 3,
   "source": [
    "data_path = DATA_PATH+'Terrestrial_Domain/4.1RiverDischarge/Map4.1/'\n",
    "dataDF = pd.read_csv(data_path+'Map4.1_StationTable_RiverDischargeStations.txt', delimiter = \",\")\n",
    "# dataDF[\"size\"]=0\n",
    "dataDF"
   ],
   "outputs": [
    {
     "output_type": "execute_result",
     "data": {
      "text/plain": [
       "    FID  STATION_NU           Station_Na         River_Name  \\\n",
       "0     0      6013.0     Charleville Weir                Dee   \n",
       "1     1      6014.0     Tallanstown Weir              Glyde   \n",
       "2     2      7009.0           Navan Weir              Boyne   \n",
       "3     3      7012.0         Slane Castle              Boyne   \n",
       "4     4     12001.0           SCARAWALSH         Scarawalsh   \n",
       "5     5     14007.0           Derrybrock         Stradbally   \n",
       "6     6     14019.0           Levitstown             Barrow   \n",
       "7     7     15001.0             Annamult              Kings   \n",
       "8     8     15003.0         Dinin Bridge              Dinin   \n",
       "9     9     15006.0           Brownsbarn               Nore   \n",
       "10   10     16008.0           New Bridge               Suir   \n",
       "11   11     16009.0           Caher Park               Suir   \n",
       "12   12     18002.0            BALLYDUFF         Blackwater   \n",
       "13   13     18003.0          Killavullen         Blackwater   \n",
       "14   14     18005.0       Downing Bridge           Funshion   \n",
       "15   15     18006.0          CSET MALLOW         BLACKWATER   \n",
       "16   16     18050.0            DUARRIGLE         BLACKWATER   \n",
       "17   17     19001.0               Ballea            Owenboy   \n",
       "18   18     21002.0             COOMHOLA           COOMHOLA   \n",
       "19   19     23002.0             Listowel              Feale   \n",
       "20   20     25001.0            Annacotty            Mulkear   \n",
       "21   21     25002.0  Barrington's Bridge            Newport   \n",
       "22   22     25006.0              Ferbane             Brosna   \n",
       "23   23     25030.0             Scarriff             Graney   \n",
       "24   24     26009.0     Bellantra Bridge              Black   \n",
       "25   25     26021.0           Ballymahon               Inny   \n",
       "26   26     26029.0                DOWRA            Shannon   \n",
       "27   27     27002.0           Ballycorey             Fergus   \n",
       "28   28     32012.0         NEWPORT WEIR            Newport   \n",
       "29   29     34001.0               Rahans                Moy   \n",
       "30   30     35002.0            BILLA BR.        Ballysadare   \n",
       "31   31     35005.0          BALLYSADARE        Ballysadare   \n",
       "32   32     36010.0       Butlers Bridge            Annalee   \n",
       "33   33     38001.0      Clonconwal Ford             Owenea   \n",
       "34   34     39006.0              CLARAGH            LEANNAN   \n",
       "35   35    201005.0      Camowen Terrace            Camowen   \n",
       "36   36    201008.0                 Derg         Castlederg   \n",
       "37   37    202002.0              Faughan           Drumahoe   \n",
       "38   38    203028.0               Agivey          Whitehill   \n",
       "39   39    203042.0              Crumlin  Cidercourt Bridge   \n",
       "40   40    204001.0                 Bush     Seneirl Bridge   \n",
       "41   41    205008.0                Lagan          Drumiller   \n",
       "42   42    206001.0              Clanrye   Mountmill Bridge   \n",
       "\n",
       "                             Catchment   Easting  Northing  Longitude  \\\n",
       "0                        Glyde and Dee  304411.0  290763.0  -6.413043   \n",
       "1                        Glyde and Dee  295298.0  297888.0  -6.549287   \n",
       "2                                Boyne  287905.0  266761.0  -6.670664   \n",
       "3                                Boyne  294983.0  273962.0  -6.561460   \n",
       "4                               Slaney  298380.0  145014.0  -6.549573   \n",
       "5                               Barrow  261420.0  199062.0  -7.084238   \n",
       "6                               Barrow  270623.0  187609.0  -6.949546   \n",
       "7                                 Nore  254289.0  144376.0  -7.199619   \n",
       "8                                 Nore  247880.0  162807.0  -7.291427   \n",
       "9                                 Nore  261699.0  139098.0  -7.091367   \n",
       "10                                Suir  200220.0  134149.0  -7.996763   \n",
       "11                                Suir  205297.0  122870.0  -7.922244   \n",
       "12                          Blackwater  196410.0   99140.0  -8.052447   \n",
       "13                  Munster Blackwater  164710.0   99738.0  -8.515607   \n",
       "14                  Munster Blackwater  182294.0  101821.0  -8.258807   \n",
       "15                          Blackwater  152546.0   97448.0  -8.692998   \n",
       "16                          Blackwater  124987.0   94359.0  -9.094712   \n",
       "17                                 Lee  170971.0   63276.0  -8.421049   \n",
       "18  Owvane-Mealagh-Glengarriff-Coastal   99825.0   54901.0  -9.450334   \n",
       "19                               Feale   99700.0  133295.0  -9.475195   \n",
       "20                             Mulkear  164265.0  157679.0  -8.528293   \n",
       "21                       Lower Shannon  167908.0  154908.0  -8.474169   \n",
       "22                              Brosna  211536.0  224406.0  -7.827076   \n",
       "23                       Lower Shannon  164180.0  184277.0  -8.532460   \n",
       "24                       Upper Shannon  212848.0  289416.0  -7.804737   \n",
       "25                                Inny  216107.0  256987.0  -7.756893   \n",
       "26                             Shannon  199064.0  326947.0  -8.014341   \n",
       "27                               Clare  134431.0  180323.0  -8.973824   \n",
       "28                             Newport   99773.0  294400.0  -9.524577   \n",
       "29                                 Moy  124367.0  317782.0  -9.156375   \n",
       "30                             OWENBEG  163926.0  325739.0  -8.552545   \n",
       "31                         Ballysadare  166832.0  329046.0  -8.508400   \n",
       "32                    Lower Lough Erne  240817.0  310466.0  -7.376872   \n",
       "33                            Gweedore  176584.0  392714.0  -8.363972   \n",
       "34                             LEANNAN  220215.0  420084.0  -7.683862   \n",
       "35                                 NaN  246071.0  373048.0  -7.287012   \n",
       "36                                 NaN  226512.0  384216.0  -7.588680   \n",
       "37                                 NaN  246411.0  415098.0  -7.275023   \n",
       "38                                 NaN  288337.0  419362.0  -6.618952   \n",
       "39                                 NaN  313468.0  376536.0  -6.243019   \n",
       "40                                 NaN  294191.0  436250.0  -6.521879   \n",
       "41                                 NaN  323635.0  352493.0  -6.095755   \n",
       "42                                 NaN  308536.0  331026.0  -6.335993   \n",
       "\n",
       "     Latitude  \n",
       "0   53.855787  \n",
       "1   53.921538  \n",
       "2   53.643230  \n",
       "3   53.706679  \n",
       "4   52.547649  \n",
       "5   53.038735  \n",
       "6   52.934693  \n",
       "7   52.548094  \n",
       "8   52.714326  \n",
       "9   52.499876  \n",
       "10  52.458886  \n",
       "11  52.357490  \n",
       "12  52.144224  \n",
       "13  52.148484  \n",
       "14  52.168048  \n",
       "15  52.126992  \n",
       "16  52.096182  \n",
       "17  51.821130  \n",
       "18  51.737656  \n",
       "19  52.442010  \n",
       "20  52.669180  \n",
       "21  52.644505  \n",
       "22  53.269886  \n",
       "23  52.908199  \n",
       "24  53.854018  \n",
       "25  53.562537  \n",
       "26  54.191395  \n",
       "27  52.869865  \n",
       "28  53.889279  \n",
       "29  54.103494  \n",
       "30  54.179275  \n",
       "31  54.209183  \n",
       "32  54.041701  \n",
       "33  54.781727  \n",
       "34  55.027749  \n",
       "35  54.603493  \n",
       "36  54.705229  \n",
       "37  54.981206  \n",
       "38  55.013837  \n",
       "39  54.624183  \n",
       "40  55.164427  \n",
       "41  54.405906  \n",
       "42  54.216556  "
      ],
      "text/html": [
       "<div>\n",
       "<style scoped>\n",
       "    .dataframe tbody tr th:only-of-type {\n",
       "        vertical-align: middle;\n",
       "    }\n",
       "\n",
       "    .dataframe tbody tr th {\n",
       "        vertical-align: top;\n",
       "    }\n",
       "\n",
       "    .dataframe thead th {\n",
       "        text-align: right;\n",
       "    }\n",
       "</style>\n",
       "<table border=\"1\" class=\"dataframe\">\n",
       "  <thead>\n",
       "    <tr style=\"text-align: right;\">\n",
       "      <th></th>\n",
       "      <th>FID</th>\n",
       "      <th>STATION_NU</th>\n",
       "      <th>Station_Na</th>\n",
       "      <th>River_Name</th>\n",
       "      <th>Catchment</th>\n",
       "      <th>Easting</th>\n",
       "      <th>Northing</th>\n",
       "      <th>Longitude</th>\n",
       "      <th>Latitude</th>\n",
       "    </tr>\n",
       "  </thead>\n",
       "  <tbody>\n",
       "    <tr>\n",
       "      <th>0</th>\n",
       "      <td>0</td>\n",
       "      <td>6013.0</td>\n",
       "      <td>Charleville Weir</td>\n",
       "      <td>Dee</td>\n",
       "      <td>Glyde and Dee</td>\n",
       "      <td>304411.0</td>\n",
       "      <td>290763.0</td>\n",
       "      <td>-6.413043</td>\n",
       "      <td>53.855787</td>\n",
       "    </tr>\n",
       "    <tr>\n",
       "      <th>1</th>\n",
       "      <td>1</td>\n",
       "      <td>6014.0</td>\n",
       "      <td>Tallanstown Weir</td>\n",
       "      <td>Glyde</td>\n",
       "      <td>Glyde and Dee</td>\n",
       "      <td>295298.0</td>\n",
       "      <td>297888.0</td>\n",
       "      <td>-6.549287</td>\n",
       "      <td>53.921538</td>\n",
       "    </tr>\n",
       "    <tr>\n",
       "      <th>2</th>\n",
       "      <td>2</td>\n",
       "      <td>7009.0</td>\n",
       "      <td>Navan Weir</td>\n",
       "      <td>Boyne</td>\n",
       "      <td>Boyne</td>\n",
       "      <td>287905.0</td>\n",
       "      <td>266761.0</td>\n",
       "      <td>-6.670664</td>\n",
       "      <td>53.643230</td>\n",
       "    </tr>\n",
       "    <tr>\n",
       "      <th>3</th>\n",
       "      <td>3</td>\n",
       "      <td>7012.0</td>\n",
       "      <td>Slane Castle</td>\n",
       "      <td>Boyne</td>\n",
       "      <td>Boyne</td>\n",
       "      <td>294983.0</td>\n",
       "      <td>273962.0</td>\n",
       "      <td>-6.561460</td>\n",
       "      <td>53.706679</td>\n",
       "    </tr>\n",
       "    <tr>\n",
       "      <th>4</th>\n",
       "      <td>4</td>\n",
       "      <td>12001.0</td>\n",
       "      <td>SCARAWALSH</td>\n",
       "      <td>Scarawalsh</td>\n",
       "      <td>Slaney</td>\n",
       "      <td>298380.0</td>\n",
       "      <td>145014.0</td>\n",
       "      <td>-6.549573</td>\n",
       "      <td>52.547649</td>\n",
       "    </tr>\n",
       "    <tr>\n",
       "      <th>5</th>\n",
       "      <td>5</td>\n",
       "      <td>14007.0</td>\n",
       "      <td>Derrybrock</td>\n",
       "      <td>Stradbally</td>\n",
       "      <td>Barrow</td>\n",
       "      <td>261420.0</td>\n",
       "      <td>199062.0</td>\n",
       "      <td>-7.084238</td>\n",
       "      <td>53.038735</td>\n",
       "    </tr>\n",
       "    <tr>\n",
       "      <th>6</th>\n",
       "      <td>6</td>\n",
       "      <td>14019.0</td>\n",
       "      <td>Levitstown</td>\n",
       "      <td>Barrow</td>\n",
       "      <td>Barrow</td>\n",
       "      <td>270623.0</td>\n",
       "      <td>187609.0</td>\n",
       "      <td>-6.949546</td>\n",
       "      <td>52.934693</td>\n",
       "    </tr>\n",
       "    <tr>\n",
       "      <th>7</th>\n",
       "      <td>7</td>\n",
       "      <td>15001.0</td>\n",
       "      <td>Annamult</td>\n",
       "      <td>Kings</td>\n",
       "      <td>Nore</td>\n",
       "      <td>254289.0</td>\n",
       "      <td>144376.0</td>\n",
       "      <td>-7.199619</td>\n",
       "      <td>52.548094</td>\n",
       "    </tr>\n",
       "    <tr>\n",
       "      <th>8</th>\n",
       "      <td>8</td>\n",
       "      <td>15003.0</td>\n",
       "      <td>Dinin Bridge</td>\n",
       "      <td>Dinin</td>\n",
       "      <td>Nore</td>\n",
       "      <td>247880.0</td>\n",
       "      <td>162807.0</td>\n",
       "      <td>-7.291427</td>\n",
       "      <td>52.714326</td>\n",
       "    </tr>\n",
       "    <tr>\n",
       "      <th>9</th>\n",
       "      <td>9</td>\n",
       "      <td>15006.0</td>\n",
       "      <td>Brownsbarn</td>\n",
       "      <td>Nore</td>\n",
       "      <td>Nore</td>\n",
       "      <td>261699.0</td>\n",
       "      <td>139098.0</td>\n",
       "      <td>-7.091367</td>\n",
       "      <td>52.499876</td>\n",
       "    </tr>\n",
       "    <tr>\n",
       "      <th>10</th>\n",
       "      <td>10</td>\n",
       "      <td>16008.0</td>\n",
       "      <td>New Bridge</td>\n",
       "      <td>Suir</td>\n",
       "      <td>Suir</td>\n",
       "      <td>200220.0</td>\n",
       "      <td>134149.0</td>\n",
       "      <td>-7.996763</td>\n",
       "      <td>52.458886</td>\n",
       "    </tr>\n",
       "    <tr>\n",
       "      <th>11</th>\n",
       "      <td>11</td>\n",
       "      <td>16009.0</td>\n",
       "      <td>Caher Park</td>\n",
       "      <td>Suir</td>\n",
       "      <td>Suir</td>\n",
       "      <td>205297.0</td>\n",
       "      <td>122870.0</td>\n",
       "      <td>-7.922244</td>\n",
       "      <td>52.357490</td>\n",
       "    </tr>\n",
       "    <tr>\n",
       "      <th>12</th>\n",
       "      <td>12</td>\n",
       "      <td>18002.0</td>\n",
       "      <td>BALLYDUFF</td>\n",
       "      <td>Blackwater</td>\n",
       "      <td>Blackwater</td>\n",
       "      <td>196410.0</td>\n",
       "      <td>99140.0</td>\n",
       "      <td>-8.052447</td>\n",
       "      <td>52.144224</td>\n",
       "    </tr>\n",
       "    <tr>\n",
       "      <th>13</th>\n",
       "      <td>13</td>\n",
       "      <td>18003.0</td>\n",
       "      <td>Killavullen</td>\n",
       "      <td>Blackwater</td>\n",
       "      <td>Munster Blackwater</td>\n",
       "      <td>164710.0</td>\n",
       "      <td>99738.0</td>\n",
       "      <td>-8.515607</td>\n",
       "      <td>52.148484</td>\n",
       "    </tr>\n",
       "    <tr>\n",
       "      <th>14</th>\n",
       "      <td>14</td>\n",
       "      <td>18005.0</td>\n",
       "      <td>Downing Bridge</td>\n",
       "      <td>Funshion</td>\n",
       "      <td>Munster Blackwater</td>\n",
       "      <td>182294.0</td>\n",
       "      <td>101821.0</td>\n",
       "      <td>-8.258807</td>\n",
       "      <td>52.168048</td>\n",
       "    </tr>\n",
       "    <tr>\n",
       "      <th>15</th>\n",
       "      <td>15</td>\n",
       "      <td>18006.0</td>\n",
       "      <td>CSET MALLOW</td>\n",
       "      <td>BLACKWATER</td>\n",
       "      <td>Blackwater</td>\n",
       "      <td>152546.0</td>\n",
       "      <td>97448.0</td>\n",
       "      <td>-8.692998</td>\n",
       "      <td>52.126992</td>\n",
       "    </tr>\n",
       "    <tr>\n",
       "      <th>16</th>\n",
       "      <td>16</td>\n",
       "      <td>18050.0</td>\n",
       "      <td>DUARRIGLE</td>\n",
       "      <td>BLACKWATER</td>\n",
       "      <td>Blackwater</td>\n",
       "      <td>124987.0</td>\n",
       "      <td>94359.0</td>\n",
       "      <td>-9.094712</td>\n",
       "      <td>52.096182</td>\n",
       "    </tr>\n",
       "    <tr>\n",
       "      <th>17</th>\n",
       "      <td>17</td>\n",
       "      <td>19001.0</td>\n",
       "      <td>Ballea</td>\n",
       "      <td>Owenboy</td>\n",
       "      <td>Lee</td>\n",
       "      <td>170971.0</td>\n",
       "      <td>63276.0</td>\n",
       "      <td>-8.421049</td>\n",
       "      <td>51.821130</td>\n",
       "    </tr>\n",
       "    <tr>\n",
       "      <th>18</th>\n",
       "      <td>18</td>\n",
       "      <td>21002.0</td>\n",
       "      <td>COOMHOLA</td>\n",
       "      <td>COOMHOLA</td>\n",
       "      <td>Owvane-Mealagh-Glengarriff-Coastal</td>\n",
       "      <td>99825.0</td>\n",
       "      <td>54901.0</td>\n",
       "      <td>-9.450334</td>\n",
       "      <td>51.737656</td>\n",
       "    </tr>\n",
       "    <tr>\n",
       "      <th>19</th>\n",
       "      <td>19</td>\n",
       "      <td>23002.0</td>\n",
       "      <td>Listowel</td>\n",
       "      <td>Feale</td>\n",
       "      <td>Feale</td>\n",
       "      <td>99700.0</td>\n",
       "      <td>133295.0</td>\n",
       "      <td>-9.475195</td>\n",
       "      <td>52.442010</td>\n",
       "    </tr>\n",
       "    <tr>\n",
       "      <th>20</th>\n",
       "      <td>20</td>\n",
       "      <td>25001.0</td>\n",
       "      <td>Annacotty</td>\n",
       "      <td>Mulkear</td>\n",
       "      <td>Mulkear</td>\n",
       "      <td>164265.0</td>\n",
       "      <td>157679.0</td>\n",
       "      <td>-8.528293</td>\n",
       "      <td>52.669180</td>\n",
       "    </tr>\n",
       "    <tr>\n",
       "      <th>21</th>\n",
       "      <td>21</td>\n",
       "      <td>25002.0</td>\n",
       "      <td>Barrington's Bridge</td>\n",
       "      <td>Newport</td>\n",
       "      <td>Lower Shannon</td>\n",
       "      <td>167908.0</td>\n",
       "      <td>154908.0</td>\n",
       "      <td>-8.474169</td>\n",
       "      <td>52.644505</td>\n",
       "    </tr>\n",
       "    <tr>\n",
       "      <th>22</th>\n",
       "      <td>22</td>\n",
       "      <td>25006.0</td>\n",
       "      <td>Ferbane</td>\n",
       "      <td>Brosna</td>\n",
       "      <td>Brosna</td>\n",
       "      <td>211536.0</td>\n",
       "      <td>224406.0</td>\n",
       "      <td>-7.827076</td>\n",
       "      <td>53.269886</td>\n",
       "    </tr>\n",
       "    <tr>\n",
       "      <th>23</th>\n",
       "      <td>23</td>\n",
       "      <td>25030.0</td>\n",
       "      <td>Scarriff</td>\n",
       "      <td>Graney</td>\n",
       "      <td>Lower Shannon</td>\n",
       "      <td>164180.0</td>\n",
       "      <td>184277.0</td>\n",
       "      <td>-8.532460</td>\n",
       "      <td>52.908199</td>\n",
       "    </tr>\n",
       "    <tr>\n",
       "      <th>24</th>\n",
       "      <td>24</td>\n",
       "      <td>26009.0</td>\n",
       "      <td>Bellantra Bridge</td>\n",
       "      <td>Black</td>\n",
       "      <td>Upper Shannon</td>\n",
       "      <td>212848.0</td>\n",
       "      <td>289416.0</td>\n",
       "      <td>-7.804737</td>\n",
       "      <td>53.854018</td>\n",
       "    </tr>\n",
       "    <tr>\n",
       "      <th>25</th>\n",
       "      <td>25</td>\n",
       "      <td>26021.0</td>\n",
       "      <td>Ballymahon</td>\n",
       "      <td>Inny</td>\n",
       "      <td>Inny</td>\n",
       "      <td>216107.0</td>\n",
       "      <td>256987.0</td>\n",
       "      <td>-7.756893</td>\n",
       "      <td>53.562537</td>\n",
       "    </tr>\n",
       "    <tr>\n",
       "      <th>26</th>\n",
       "      <td>26</td>\n",
       "      <td>26029.0</td>\n",
       "      <td>DOWRA</td>\n",
       "      <td>Shannon</td>\n",
       "      <td>Shannon</td>\n",
       "      <td>199064.0</td>\n",
       "      <td>326947.0</td>\n",
       "      <td>-8.014341</td>\n",
       "      <td>54.191395</td>\n",
       "    </tr>\n",
       "    <tr>\n",
       "      <th>27</th>\n",
       "      <td>27</td>\n",
       "      <td>27002.0</td>\n",
       "      <td>Ballycorey</td>\n",
       "      <td>Fergus</td>\n",
       "      <td>Clare</td>\n",
       "      <td>134431.0</td>\n",
       "      <td>180323.0</td>\n",
       "      <td>-8.973824</td>\n",
       "      <td>52.869865</td>\n",
       "    </tr>\n",
       "    <tr>\n",
       "      <th>28</th>\n",
       "      <td>28</td>\n",
       "      <td>32012.0</td>\n",
       "      <td>NEWPORT WEIR</td>\n",
       "      <td>Newport</td>\n",
       "      <td>Newport</td>\n",
       "      <td>99773.0</td>\n",
       "      <td>294400.0</td>\n",
       "      <td>-9.524577</td>\n",
       "      <td>53.889279</td>\n",
       "    </tr>\n",
       "    <tr>\n",
       "      <th>29</th>\n",
       "      <td>29</td>\n",
       "      <td>34001.0</td>\n",
       "      <td>Rahans</td>\n",
       "      <td>Moy</td>\n",
       "      <td>Moy</td>\n",
       "      <td>124367.0</td>\n",
       "      <td>317782.0</td>\n",
       "      <td>-9.156375</td>\n",
       "      <td>54.103494</td>\n",
       "    </tr>\n",
       "    <tr>\n",
       "      <th>30</th>\n",
       "      <td>30</td>\n",
       "      <td>35002.0</td>\n",
       "      <td>BILLA BR.</td>\n",
       "      <td>Ballysadare</td>\n",
       "      <td>OWENBEG</td>\n",
       "      <td>163926.0</td>\n",
       "      <td>325739.0</td>\n",
       "      <td>-8.552545</td>\n",
       "      <td>54.179275</td>\n",
       "    </tr>\n",
       "    <tr>\n",
       "      <th>31</th>\n",
       "      <td>31</td>\n",
       "      <td>35005.0</td>\n",
       "      <td>BALLYSADARE</td>\n",
       "      <td>Ballysadare</td>\n",
       "      <td>Ballysadare</td>\n",
       "      <td>166832.0</td>\n",
       "      <td>329046.0</td>\n",
       "      <td>-8.508400</td>\n",
       "      <td>54.209183</td>\n",
       "    </tr>\n",
       "    <tr>\n",
       "      <th>32</th>\n",
       "      <td>32</td>\n",
       "      <td>36010.0</td>\n",
       "      <td>Butlers Bridge</td>\n",
       "      <td>Annalee</td>\n",
       "      <td>Lower Lough Erne</td>\n",
       "      <td>240817.0</td>\n",
       "      <td>310466.0</td>\n",
       "      <td>-7.376872</td>\n",
       "      <td>54.041701</td>\n",
       "    </tr>\n",
       "    <tr>\n",
       "      <th>33</th>\n",
       "      <td>33</td>\n",
       "      <td>38001.0</td>\n",
       "      <td>Clonconwal Ford</td>\n",
       "      <td>Owenea</td>\n",
       "      <td>Gweedore</td>\n",
       "      <td>176584.0</td>\n",
       "      <td>392714.0</td>\n",
       "      <td>-8.363972</td>\n",
       "      <td>54.781727</td>\n",
       "    </tr>\n",
       "    <tr>\n",
       "      <th>34</th>\n",
       "      <td>34</td>\n",
       "      <td>39006.0</td>\n",
       "      <td>CLARAGH</td>\n",
       "      <td>LEANNAN</td>\n",
       "      <td>LEANNAN</td>\n",
       "      <td>220215.0</td>\n",
       "      <td>420084.0</td>\n",
       "      <td>-7.683862</td>\n",
       "      <td>55.027749</td>\n",
       "    </tr>\n",
       "    <tr>\n",
       "      <th>35</th>\n",
       "      <td>35</td>\n",
       "      <td>201005.0</td>\n",
       "      <td>Camowen Terrace</td>\n",
       "      <td>Camowen</td>\n",
       "      <td>NaN</td>\n",
       "      <td>246071.0</td>\n",
       "      <td>373048.0</td>\n",
       "      <td>-7.287012</td>\n",
       "      <td>54.603493</td>\n",
       "    </tr>\n",
       "    <tr>\n",
       "      <th>36</th>\n",
       "      <td>36</td>\n",
       "      <td>201008.0</td>\n",
       "      <td>Derg</td>\n",
       "      <td>Castlederg</td>\n",
       "      <td>NaN</td>\n",
       "      <td>226512.0</td>\n",
       "      <td>384216.0</td>\n",
       "      <td>-7.588680</td>\n",
       "      <td>54.705229</td>\n",
       "    </tr>\n",
       "    <tr>\n",
       "      <th>37</th>\n",
       "      <td>37</td>\n",
       "      <td>202002.0</td>\n",
       "      <td>Faughan</td>\n",
       "      <td>Drumahoe</td>\n",
       "      <td>NaN</td>\n",
       "      <td>246411.0</td>\n",
       "      <td>415098.0</td>\n",
       "      <td>-7.275023</td>\n",
       "      <td>54.981206</td>\n",
       "    </tr>\n",
       "    <tr>\n",
       "      <th>38</th>\n",
       "      <td>38</td>\n",
       "      <td>203028.0</td>\n",
       "      <td>Agivey</td>\n",
       "      <td>Whitehill</td>\n",
       "      <td>NaN</td>\n",
       "      <td>288337.0</td>\n",
       "      <td>419362.0</td>\n",
       "      <td>-6.618952</td>\n",
       "      <td>55.013837</td>\n",
       "    </tr>\n",
       "    <tr>\n",
       "      <th>39</th>\n",
       "      <td>39</td>\n",
       "      <td>203042.0</td>\n",
       "      <td>Crumlin</td>\n",
       "      <td>Cidercourt Bridge</td>\n",
       "      <td>NaN</td>\n",
       "      <td>313468.0</td>\n",
       "      <td>376536.0</td>\n",
       "      <td>-6.243019</td>\n",
       "      <td>54.624183</td>\n",
       "    </tr>\n",
       "    <tr>\n",
       "      <th>40</th>\n",
       "      <td>40</td>\n",
       "      <td>204001.0</td>\n",
       "      <td>Bush</td>\n",
       "      <td>Seneirl Bridge</td>\n",
       "      <td>NaN</td>\n",
       "      <td>294191.0</td>\n",
       "      <td>436250.0</td>\n",
       "      <td>-6.521879</td>\n",
       "      <td>55.164427</td>\n",
       "    </tr>\n",
       "    <tr>\n",
       "      <th>41</th>\n",
       "      <td>41</td>\n",
       "      <td>205008.0</td>\n",
       "      <td>Lagan</td>\n",
       "      <td>Drumiller</td>\n",
       "      <td>NaN</td>\n",
       "      <td>323635.0</td>\n",
       "      <td>352493.0</td>\n",
       "      <td>-6.095755</td>\n",
       "      <td>54.405906</td>\n",
       "    </tr>\n",
       "    <tr>\n",
       "      <th>42</th>\n",
       "      <td>42</td>\n",
       "      <td>206001.0</td>\n",
       "      <td>Clanrye</td>\n",
       "      <td>Mountmill Bridge</td>\n",
       "      <td>NaN</td>\n",
       "      <td>308536.0</td>\n",
       "      <td>331026.0</td>\n",
       "      <td>-6.335993</td>\n",
       "      <td>54.216556</td>\n",
       "    </tr>\n",
       "  </tbody>\n",
       "</table>\n",
       "</div>"
      ]
     },
     "metadata": {},
     "execution_count": 3
    }
   ],
   "metadata": {}
  },
  {
   "cell_type": "code",
   "execution_count": 24,
   "source": [
    "dataDFString=dataDF.astype(str)\n",
    "dataDFString['Type']='Flow'\n",
    "dataDFString"
   ],
   "outputs": [
    {
     "output_type": "execute_result",
     "data": {
      "text/plain": [
       "   FID STATION_NU           Station_Na         River_Name  \\\n",
       "0    0     6013.0     Charleville Weir                Dee   \n",
       "1    1     6014.0     Tallanstown Weir              Glyde   \n",
       "2    2     7009.0           Navan Weir              Boyne   \n",
       "3    3     7012.0         Slane Castle              Boyne   \n",
       "4    4    12001.0           SCARAWALSH         Scarawalsh   \n",
       "5    5    14007.0           Derrybrock         Stradbally   \n",
       "6    6    14019.0           Levitstown             Barrow   \n",
       "7    7    15001.0             Annamult              Kings   \n",
       "8    8    15003.0         Dinin Bridge              Dinin   \n",
       "9    9    15006.0           Brownsbarn               Nore   \n",
       "10  10    16008.0           New Bridge               Suir   \n",
       "11  11    16009.0           Caher Park               Suir   \n",
       "12  12    18002.0            BALLYDUFF         Blackwater   \n",
       "13  13    18003.0          Killavullen         Blackwater   \n",
       "14  14    18005.0       Downing Bridge           Funshion   \n",
       "15  15    18006.0          CSET MALLOW         BLACKWATER   \n",
       "16  16    18050.0            DUARRIGLE         BLACKWATER   \n",
       "17  17    19001.0               Ballea            Owenboy   \n",
       "18  18    21002.0             COOMHOLA           COOMHOLA   \n",
       "19  19    23002.0             Listowel              Feale   \n",
       "20  20    25001.0            Annacotty            Mulkear   \n",
       "21  21    25002.0  Barrington's Bridge            Newport   \n",
       "22  22    25006.0              Ferbane             Brosna   \n",
       "23  23    25030.0             Scarriff             Graney   \n",
       "24  24    26009.0     Bellantra Bridge              Black   \n",
       "25  25    26021.0           Ballymahon               Inny   \n",
       "26  26    26029.0                DOWRA            Shannon   \n",
       "27  27    27002.0           Ballycorey             Fergus   \n",
       "28  28    32012.0         NEWPORT WEIR            Newport   \n",
       "29  29    34001.0               Rahans                Moy   \n",
       "30  30    35002.0            BILLA BR.        Ballysadare   \n",
       "31  31    35005.0          BALLYSADARE        Ballysadare   \n",
       "32  32    36010.0       Butlers Bridge            Annalee   \n",
       "33  33    38001.0      Clonconwal Ford             Owenea   \n",
       "34  34    39006.0              CLARAGH            LEANNAN   \n",
       "35  35   201005.0      Camowen Terrace            Camowen   \n",
       "36  36   201008.0                 Derg         Castlederg   \n",
       "37  37   202002.0              Faughan           Drumahoe   \n",
       "38  38   203028.0               Agivey          Whitehill   \n",
       "39  39   203042.0              Crumlin  Cidercourt Bridge   \n",
       "40  40   204001.0                 Bush     Seneirl Bridge   \n",
       "41  41   205008.0                Lagan          Drumiller   \n",
       "42  42   206001.0              Clanrye   Mountmill Bridge   \n",
       "\n",
       "                             Catchment   Easting  Northing       Longitude  \\\n",
       "0                        Glyde and Dee  304411.0  290763.0  -6.41304335319   \n",
       "1                        Glyde and Dee  295298.0  297888.0  -6.54928698658   \n",
       "2                                Boyne  287905.0  266761.0  -6.67066351217   \n",
       "3                                Boyne  294983.0  273962.0  -6.56146021034   \n",
       "4                               Slaney  298380.0  145014.0  -6.54957294412   \n",
       "5                               Barrow  261420.0  199062.0  -7.08423750149   \n",
       "6                               Barrow  270623.0  187609.0  -6.94954552728   \n",
       "7                                 Nore  254289.0  144376.0  -7.19961868737   \n",
       "8                                 Nore  247880.0  162807.0  -7.29142744039   \n",
       "9                                 Nore  261699.0  139098.0  -7.09136657455   \n",
       "10                                Suir  200220.0  134149.0   -7.9967631322   \n",
       "11                                Suir  205297.0  122870.0  -7.92224354094   \n",
       "12                          Blackwater  196410.0   99140.0  -8.05244671946   \n",
       "13                  Munster Blackwater  164710.0   99738.0  -8.51560652387   \n",
       "14                  Munster Blackwater  182294.0  101821.0   -8.2588073137   \n",
       "15                          Blackwater  152546.0   97448.0  -8.69299757046   \n",
       "16                          Blackwater  124987.0   94359.0  -9.09471210276   \n",
       "17                                 Lee  170971.0   63276.0  -8.42104853217   \n",
       "18  Owvane-Mealagh-Glengarriff-Coastal   99825.0   54901.0  -9.45033354001   \n",
       "19                               Feale   99700.0  133295.0  -9.47519526523   \n",
       "20                             Mulkear  164265.0  157679.0  -8.52829280553   \n",
       "21                       Lower Shannon  167908.0  154908.0  -8.47416866173   \n",
       "22                              Brosna  211536.0  224406.0  -7.82707573977   \n",
       "23                       Lower Shannon  164180.0  184277.0  -8.53245955394   \n",
       "24                       Upper Shannon  212848.0  289416.0  -7.80473724169   \n",
       "25                                Inny  216107.0  256987.0  -7.75689320744   \n",
       "26                             Shannon  199064.0  326947.0  -8.01434082368   \n",
       "27                               Clare  134431.0  180323.0  -8.97382396465   \n",
       "28                             Newport   99773.0  294400.0  -9.52457667621   \n",
       "29                                 Moy  124367.0  317782.0  -9.15637540497   \n",
       "30                             OWENBEG  163926.0  325739.0  -8.55254498744   \n",
       "31                         Ballysadare  166832.0  329046.0   -8.5084003521   \n",
       "32                    Lower Lough Erne  240817.0  310466.0  -7.37687215907   \n",
       "33                            Gweedore  176584.0  392714.0  -8.36397203778   \n",
       "34                             LEANNAN  220215.0  420084.0  -7.68386193519   \n",
       "35                                 nan  246071.0  373048.0  -7.28701176925   \n",
       "36                                 nan  226512.0  384216.0  -7.58868018714   \n",
       "37                                 nan  246411.0  415098.0  -7.27502277269   \n",
       "38                                 nan  288337.0  419362.0  -6.61895151121   \n",
       "39                                 nan  313468.0  376536.0   -6.2430187136   \n",
       "40                                 nan  294191.0  436250.0  -6.52187892914   \n",
       "41                                 nan  323635.0  352493.0   -6.0957546052   \n",
       "42                                 nan  308536.0  331026.0    -6.335992842   \n",
       "\n",
       "         Latitude       Type  \n",
       "0   53.8557870342  RiverFlow  \n",
       "1   53.9215381199  RiverFlow  \n",
       "2    53.643230344  RiverFlow  \n",
       "3   53.7066793056  RiverFlow  \n",
       "4   52.5476486678  RiverFlow  \n",
       "5   53.0387351037  RiverFlow  \n",
       "6   52.9346930401  RiverFlow  \n",
       "7   52.5480944157  RiverFlow  \n",
       "8    52.714325773  RiverFlow  \n",
       "9   52.4998762325  RiverFlow  \n",
       "10  52.4588858688  RiverFlow  \n",
       "11  52.3574899595  RiverFlow  \n",
       "12  52.1442240503  RiverFlow  \n",
       "13  52.1484835777  RiverFlow  \n",
       "14  52.1680484385  RiverFlow  \n",
       "15  52.1269919784  RiverFlow  \n",
       "16  52.0961818109  RiverFlow  \n",
       "17  51.8211299341  RiverFlow  \n",
       "18  51.7376559734  RiverFlow  \n",
       "19  52.4420102274  RiverFlow  \n",
       "20  52.6691796306  RiverFlow  \n",
       "21  52.6445048831  RiverFlow  \n",
       "22  53.2698856402  RiverFlow  \n",
       "23  52.9081987342  RiverFlow  \n",
       "24   53.854017981  RiverFlow  \n",
       "25  53.5625369666  RiverFlow  \n",
       "26  54.1913954541  RiverFlow  \n",
       "27  52.8698654925  RiverFlow  \n",
       "28  53.8892789954  RiverFlow  \n",
       "29   54.103494162  RiverFlow  \n",
       "30  54.1792753459  RiverFlow  \n",
       "31  54.2091829697  RiverFlow  \n",
       "32  54.0417010587  RiverFlow  \n",
       "33  54.7817273519  RiverFlow  \n",
       "34  55.0277486446  RiverFlow  \n",
       "35  54.6034927398  RiverFlow  \n",
       "36  54.7052292627  RiverFlow  \n",
       "37  54.9812064934  RiverFlow  \n",
       "38  55.0138365218  RiverFlow  \n",
       "39  54.6241828422  RiverFlow  \n",
       "40  55.1644267857  RiverFlow  \n",
       "41  54.4059062438  RiverFlow  \n",
       "42  54.2165563734  RiverFlow  "
      ],
      "text/html": [
       "<div>\n",
       "<style scoped>\n",
       "    .dataframe tbody tr th:only-of-type {\n",
       "        vertical-align: middle;\n",
       "    }\n",
       "\n",
       "    .dataframe tbody tr th {\n",
       "        vertical-align: top;\n",
       "    }\n",
       "\n",
       "    .dataframe thead th {\n",
       "        text-align: right;\n",
       "    }\n",
       "</style>\n",
       "<table border=\"1\" class=\"dataframe\">\n",
       "  <thead>\n",
       "    <tr style=\"text-align: right;\">\n",
       "      <th></th>\n",
       "      <th>FID</th>\n",
       "      <th>STATION_NU</th>\n",
       "      <th>Station_Na</th>\n",
       "      <th>River_Name</th>\n",
       "      <th>Catchment</th>\n",
       "      <th>Easting</th>\n",
       "      <th>Northing</th>\n",
       "      <th>Longitude</th>\n",
       "      <th>Latitude</th>\n",
       "      <th>Type</th>\n",
       "    </tr>\n",
       "  </thead>\n",
       "  <tbody>\n",
       "    <tr>\n",
       "      <th>0</th>\n",
       "      <td>0</td>\n",
       "      <td>6013.0</td>\n",
       "      <td>Charleville Weir</td>\n",
       "      <td>Dee</td>\n",
       "      <td>Glyde and Dee</td>\n",
       "      <td>304411.0</td>\n",
       "      <td>290763.0</td>\n",
       "      <td>-6.41304335319</td>\n",
       "      <td>53.8557870342</td>\n",
       "      <td>RiverFlow</td>\n",
       "    </tr>\n",
       "    <tr>\n",
       "      <th>1</th>\n",
       "      <td>1</td>\n",
       "      <td>6014.0</td>\n",
       "      <td>Tallanstown Weir</td>\n",
       "      <td>Glyde</td>\n",
       "      <td>Glyde and Dee</td>\n",
       "      <td>295298.0</td>\n",
       "      <td>297888.0</td>\n",
       "      <td>-6.54928698658</td>\n",
       "      <td>53.9215381199</td>\n",
       "      <td>RiverFlow</td>\n",
       "    </tr>\n",
       "    <tr>\n",
       "      <th>2</th>\n",
       "      <td>2</td>\n",
       "      <td>7009.0</td>\n",
       "      <td>Navan Weir</td>\n",
       "      <td>Boyne</td>\n",
       "      <td>Boyne</td>\n",
       "      <td>287905.0</td>\n",
       "      <td>266761.0</td>\n",
       "      <td>-6.67066351217</td>\n",
       "      <td>53.643230344</td>\n",
       "      <td>RiverFlow</td>\n",
       "    </tr>\n",
       "    <tr>\n",
       "      <th>3</th>\n",
       "      <td>3</td>\n",
       "      <td>7012.0</td>\n",
       "      <td>Slane Castle</td>\n",
       "      <td>Boyne</td>\n",
       "      <td>Boyne</td>\n",
       "      <td>294983.0</td>\n",
       "      <td>273962.0</td>\n",
       "      <td>-6.56146021034</td>\n",
       "      <td>53.7066793056</td>\n",
       "      <td>RiverFlow</td>\n",
       "    </tr>\n",
       "    <tr>\n",
       "      <th>4</th>\n",
       "      <td>4</td>\n",
       "      <td>12001.0</td>\n",
       "      <td>SCARAWALSH</td>\n",
       "      <td>Scarawalsh</td>\n",
       "      <td>Slaney</td>\n",
       "      <td>298380.0</td>\n",
       "      <td>145014.0</td>\n",
       "      <td>-6.54957294412</td>\n",
       "      <td>52.5476486678</td>\n",
       "      <td>RiverFlow</td>\n",
       "    </tr>\n",
       "    <tr>\n",
       "      <th>5</th>\n",
       "      <td>5</td>\n",
       "      <td>14007.0</td>\n",
       "      <td>Derrybrock</td>\n",
       "      <td>Stradbally</td>\n",
       "      <td>Barrow</td>\n",
       "      <td>261420.0</td>\n",
       "      <td>199062.0</td>\n",
       "      <td>-7.08423750149</td>\n",
       "      <td>53.0387351037</td>\n",
       "      <td>RiverFlow</td>\n",
       "    </tr>\n",
       "    <tr>\n",
       "      <th>6</th>\n",
       "      <td>6</td>\n",
       "      <td>14019.0</td>\n",
       "      <td>Levitstown</td>\n",
       "      <td>Barrow</td>\n",
       "      <td>Barrow</td>\n",
       "      <td>270623.0</td>\n",
       "      <td>187609.0</td>\n",
       "      <td>-6.94954552728</td>\n",
       "      <td>52.9346930401</td>\n",
       "      <td>RiverFlow</td>\n",
       "    </tr>\n",
       "    <tr>\n",
       "      <th>7</th>\n",
       "      <td>7</td>\n",
       "      <td>15001.0</td>\n",
       "      <td>Annamult</td>\n",
       "      <td>Kings</td>\n",
       "      <td>Nore</td>\n",
       "      <td>254289.0</td>\n",
       "      <td>144376.0</td>\n",
       "      <td>-7.19961868737</td>\n",
       "      <td>52.5480944157</td>\n",
       "      <td>RiverFlow</td>\n",
       "    </tr>\n",
       "    <tr>\n",
       "      <th>8</th>\n",
       "      <td>8</td>\n",
       "      <td>15003.0</td>\n",
       "      <td>Dinin Bridge</td>\n",
       "      <td>Dinin</td>\n",
       "      <td>Nore</td>\n",
       "      <td>247880.0</td>\n",
       "      <td>162807.0</td>\n",
       "      <td>-7.29142744039</td>\n",
       "      <td>52.714325773</td>\n",
       "      <td>RiverFlow</td>\n",
       "    </tr>\n",
       "    <tr>\n",
       "      <th>9</th>\n",
       "      <td>9</td>\n",
       "      <td>15006.0</td>\n",
       "      <td>Brownsbarn</td>\n",
       "      <td>Nore</td>\n",
       "      <td>Nore</td>\n",
       "      <td>261699.0</td>\n",
       "      <td>139098.0</td>\n",
       "      <td>-7.09136657455</td>\n",
       "      <td>52.4998762325</td>\n",
       "      <td>RiverFlow</td>\n",
       "    </tr>\n",
       "    <tr>\n",
       "      <th>10</th>\n",
       "      <td>10</td>\n",
       "      <td>16008.0</td>\n",
       "      <td>New Bridge</td>\n",
       "      <td>Suir</td>\n",
       "      <td>Suir</td>\n",
       "      <td>200220.0</td>\n",
       "      <td>134149.0</td>\n",
       "      <td>-7.9967631322</td>\n",
       "      <td>52.4588858688</td>\n",
       "      <td>RiverFlow</td>\n",
       "    </tr>\n",
       "    <tr>\n",
       "      <th>11</th>\n",
       "      <td>11</td>\n",
       "      <td>16009.0</td>\n",
       "      <td>Caher Park</td>\n",
       "      <td>Suir</td>\n",
       "      <td>Suir</td>\n",
       "      <td>205297.0</td>\n",
       "      <td>122870.0</td>\n",
       "      <td>-7.92224354094</td>\n",
       "      <td>52.3574899595</td>\n",
       "      <td>RiverFlow</td>\n",
       "    </tr>\n",
       "    <tr>\n",
       "      <th>12</th>\n",
       "      <td>12</td>\n",
       "      <td>18002.0</td>\n",
       "      <td>BALLYDUFF</td>\n",
       "      <td>Blackwater</td>\n",
       "      <td>Blackwater</td>\n",
       "      <td>196410.0</td>\n",
       "      <td>99140.0</td>\n",
       "      <td>-8.05244671946</td>\n",
       "      <td>52.1442240503</td>\n",
       "      <td>RiverFlow</td>\n",
       "    </tr>\n",
       "    <tr>\n",
       "      <th>13</th>\n",
       "      <td>13</td>\n",
       "      <td>18003.0</td>\n",
       "      <td>Killavullen</td>\n",
       "      <td>Blackwater</td>\n",
       "      <td>Munster Blackwater</td>\n",
       "      <td>164710.0</td>\n",
       "      <td>99738.0</td>\n",
       "      <td>-8.51560652387</td>\n",
       "      <td>52.1484835777</td>\n",
       "      <td>RiverFlow</td>\n",
       "    </tr>\n",
       "    <tr>\n",
       "      <th>14</th>\n",
       "      <td>14</td>\n",
       "      <td>18005.0</td>\n",
       "      <td>Downing Bridge</td>\n",
       "      <td>Funshion</td>\n",
       "      <td>Munster Blackwater</td>\n",
       "      <td>182294.0</td>\n",
       "      <td>101821.0</td>\n",
       "      <td>-8.2588073137</td>\n",
       "      <td>52.1680484385</td>\n",
       "      <td>RiverFlow</td>\n",
       "    </tr>\n",
       "    <tr>\n",
       "      <th>15</th>\n",
       "      <td>15</td>\n",
       "      <td>18006.0</td>\n",
       "      <td>CSET MALLOW</td>\n",
       "      <td>BLACKWATER</td>\n",
       "      <td>Blackwater</td>\n",
       "      <td>152546.0</td>\n",
       "      <td>97448.0</td>\n",
       "      <td>-8.69299757046</td>\n",
       "      <td>52.1269919784</td>\n",
       "      <td>RiverFlow</td>\n",
       "    </tr>\n",
       "    <tr>\n",
       "      <th>16</th>\n",
       "      <td>16</td>\n",
       "      <td>18050.0</td>\n",
       "      <td>DUARRIGLE</td>\n",
       "      <td>BLACKWATER</td>\n",
       "      <td>Blackwater</td>\n",
       "      <td>124987.0</td>\n",
       "      <td>94359.0</td>\n",
       "      <td>-9.09471210276</td>\n",
       "      <td>52.0961818109</td>\n",
       "      <td>RiverFlow</td>\n",
       "    </tr>\n",
       "    <tr>\n",
       "      <th>17</th>\n",
       "      <td>17</td>\n",
       "      <td>19001.0</td>\n",
       "      <td>Ballea</td>\n",
       "      <td>Owenboy</td>\n",
       "      <td>Lee</td>\n",
       "      <td>170971.0</td>\n",
       "      <td>63276.0</td>\n",
       "      <td>-8.42104853217</td>\n",
       "      <td>51.8211299341</td>\n",
       "      <td>RiverFlow</td>\n",
       "    </tr>\n",
       "    <tr>\n",
       "      <th>18</th>\n",
       "      <td>18</td>\n",
       "      <td>21002.0</td>\n",
       "      <td>COOMHOLA</td>\n",
       "      <td>COOMHOLA</td>\n",
       "      <td>Owvane-Mealagh-Glengarriff-Coastal</td>\n",
       "      <td>99825.0</td>\n",
       "      <td>54901.0</td>\n",
       "      <td>-9.45033354001</td>\n",
       "      <td>51.7376559734</td>\n",
       "      <td>RiverFlow</td>\n",
       "    </tr>\n",
       "    <tr>\n",
       "      <th>19</th>\n",
       "      <td>19</td>\n",
       "      <td>23002.0</td>\n",
       "      <td>Listowel</td>\n",
       "      <td>Feale</td>\n",
       "      <td>Feale</td>\n",
       "      <td>99700.0</td>\n",
       "      <td>133295.0</td>\n",
       "      <td>-9.47519526523</td>\n",
       "      <td>52.4420102274</td>\n",
       "      <td>RiverFlow</td>\n",
       "    </tr>\n",
       "    <tr>\n",
       "      <th>20</th>\n",
       "      <td>20</td>\n",
       "      <td>25001.0</td>\n",
       "      <td>Annacotty</td>\n",
       "      <td>Mulkear</td>\n",
       "      <td>Mulkear</td>\n",
       "      <td>164265.0</td>\n",
       "      <td>157679.0</td>\n",
       "      <td>-8.52829280553</td>\n",
       "      <td>52.6691796306</td>\n",
       "      <td>RiverFlow</td>\n",
       "    </tr>\n",
       "    <tr>\n",
       "      <th>21</th>\n",
       "      <td>21</td>\n",
       "      <td>25002.0</td>\n",
       "      <td>Barrington's Bridge</td>\n",
       "      <td>Newport</td>\n",
       "      <td>Lower Shannon</td>\n",
       "      <td>167908.0</td>\n",
       "      <td>154908.0</td>\n",
       "      <td>-8.47416866173</td>\n",
       "      <td>52.6445048831</td>\n",
       "      <td>RiverFlow</td>\n",
       "    </tr>\n",
       "    <tr>\n",
       "      <th>22</th>\n",
       "      <td>22</td>\n",
       "      <td>25006.0</td>\n",
       "      <td>Ferbane</td>\n",
       "      <td>Brosna</td>\n",
       "      <td>Brosna</td>\n",
       "      <td>211536.0</td>\n",
       "      <td>224406.0</td>\n",
       "      <td>-7.82707573977</td>\n",
       "      <td>53.2698856402</td>\n",
       "      <td>RiverFlow</td>\n",
       "    </tr>\n",
       "    <tr>\n",
       "      <th>23</th>\n",
       "      <td>23</td>\n",
       "      <td>25030.0</td>\n",
       "      <td>Scarriff</td>\n",
       "      <td>Graney</td>\n",
       "      <td>Lower Shannon</td>\n",
       "      <td>164180.0</td>\n",
       "      <td>184277.0</td>\n",
       "      <td>-8.53245955394</td>\n",
       "      <td>52.9081987342</td>\n",
       "      <td>RiverFlow</td>\n",
       "    </tr>\n",
       "    <tr>\n",
       "      <th>24</th>\n",
       "      <td>24</td>\n",
       "      <td>26009.0</td>\n",
       "      <td>Bellantra Bridge</td>\n",
       "      <td>Black</td>\n",
       "      <td>Upper Shannon</td>\n",
       "      <td>212848.0</td>\n",
       "      <td>289416.0</td>\n",
       "      <td>-7.80473724169</td>\n",
       "      <td>53.854017981</td>\n",
       "      <td>RiverFlow</td>\n",
       "    </tr>\n",
       "    <tr>\n",
       "      <th>25</th>\n",
       "      <td>25</td>\n",
       "      <td>26021.0</td>\n",
       "      <td>Ballymahon</td>\n",
       "      <td>Inny</td>\n",
       "      <td>Inny</td>\n",
       "      <td>216107.0</td>\n",
       "      <td>256987.0</td>\n",
       "      <td>-7.75689320744</td>\n",
       "      <td>53.5625369666</td>\n",
       "      <td>RiverFlow</td>\n",
       "    </tr>\n",
       "    <tr>\n",
       "      <th>26</th>\n",
       "      <td>26</td>\n",
       "      <td>26029.0</td>\n",
       "      <td>DOWRA</td>\n",
       "      <td>Shannon</td>\n",
       "      <td>Shannon</td>\n",
       "      <td>199064.0</td>\n",
       "      <td>326947.0</td>\n",
       "      <td>-8.01434082368</td>\n",
       "      <td>54.1913954541</td>\n",
       "      <td>RiverFlow</td>\n",
       "    </tr>\n",
       "    <tr>\n",
       "      <th>27</th>\n",
       "      <td>27</td>\n",
       "      <td>27002.0</td>\n",
       "      <td>Ballycorey</td>\n",
       "      <td>Fergus</td>\n",
       "      <td>Clare</td>\n",
       "      <td>134431.0</td>\n",
       "      <td>180323.0</td>\n",
       "      <td>-8.97382396465</td>\n",
       "      <td>52.8698654925</td>\n",
       "      <td>RiverFlow</td>\n",
       "    </tr>\n",
       "    <tr>\n",
       "      <th>28</th>\n",
       "      <td>28</td>\n",
       "      <td>32012.0</td>\n",
       "      <td>NEWPORT WEIR</td>\n",
       "      <td>Newport</td>\n",
       "      <td>Newport</td>\n",
       "      <td>99773.0</td>\n",
       "      <td>294400.0</td>\n",
       "      <td>-9.52457667621</td>\n",
       "      <td>53.8892789954</td>\n",
       "      <td>RiverFlow</td>\n",
       "    </tr>\n",
       "    <tr>\n",
       "      <th>29</th>\n",
       "      <td>29</td>\n",
       "      <td>34001.0</td>\n",
       "      <td>Rahans</td>\n",
       "      <td>Moy</td>\n",
       "      <td>Moy</td>\n",
       "      <td>124367.0</td>\n",
       "      <td>317782.0</td>\n",
       "      <td>-9.15637540497</td>\n",
       "      <td>54.103494162</td>\n",
       "      <td>RiverFlow</td>\n",
       "    </tr>\n",
       "    <tr>\n",
       "      <th>30</th>\n",
       "      <td>30</td>\n",
       "      <td>35002.0</td>\n",
       "      <td>BILLA BR.</td>\n",
       "      <td>Ballysadare</td>\n",
       "      <td>OWENBEG</td>\n",
       "      <td>163926.0</td>\n",
       "      <td>325739.0</td>\n",
       "      <td>-8.55254498744</td>\n",
       "      <td>54.1792753459</td>\n",
       "      <td>RiverFlow</td>\n",
       "    </tr>\n",
       "    <tr>\n",
       "      <th>31</th>\n",
       "      <td>31</td>\n",
       "      <td>35005.0</td>\n",
       "      <td>BALLYSADARE</td>\n",
       "      <td>Ballysadare</td>\n",
       "      <td>Ballysadare</td>\n",
       "      <td>166832.0</td>\n",
       "      <td>329046.0</td>\n",
       "      <td>-8.5084003521</td>\n",
       "      <td>54.2091829697</td>\n",
       "      <td>RiverFlow</td>\n",
       "    </tr>\n",
       "    <tr>\n",
       "      <th>32</th>\n",
       "      <td>32</td>\n",
       "      <td>36010.0</td>\n",
       "      <td>Butlers Bridge</td>\n",
       "      <td>Annalee</td>\n",
       "      <td>Lower Lough Erne</td>\n",
       "      <td>240817.0</td>\n",
       "      <td>310466.0</td>\n",
       "      <td>-7.37687215907</td>\n",
       "      <td>54.0417010587</td>\n",
       "      <td>RiverFlow</td>\n",
       "    </tr>\n",
       "    <tr>\n",
       "      <th>33</th>\n",
       "      <td>33</td>\n",
       "      <td>38001.0</td>\n",
       "      <td>Clonconwal Ford</td>\n",
       "      <td>Owenea</td>\n",
       "      <td>Gweedore</td>\n",
       "      <td>176584.0</td>\n",
       "      <td>392714.0</td>\n",
       "      <td>-8.36397203778</td>\n",
       "      <td>54.7817273519</td>\n",
       "      <td>RiverFlow</td>\n",
       "    </tr>\n",
       "    <tr>\n",
       "      <th>34</th>\n",
       "      <td>34</td>\n",
       "      <td>39006.0</td>\n",
       "      <td>CLARAGH</td>\n",
       "      <td>LEANNAN</td>\n",
       "      <td>LEANNAN</td>\n",
       "      <td>220215.0</td>\n",
       "      <td>420084.0</td>\n",
       "      <td>-7.68386193519</td>\n",
       "      <td>55.0277486446</td>\n",
       "      <td>RiverFlow</td>\n",
       "    </tr>\n",
       "    <tr>\n",
       "      <th>35</th>\n",
       "      <td>35</td>\n",
       "      <td>201005.0</td>\n",
       "      <td>Camowen Terrace</td>\n",
       "      <td>Camowen</td>\n",
       "      <td>nan</td>\n",
       "      <td>246071.0</td>\n",
       "      <td>373048.0</td>\n",
       "      <td>-7.28701176925</td>\n",
       "      <td>54.6034927398</td>\n",
       "      <td>RiverFlow</td>\n",
       "    </tr>\n",
       "    <tr>\n",
       "      <th>36</th>\n",
       "      <td>36</td>\n",
       "      <td>201008.0</td>\n",
       "      <td>Derg</td>\n",
       "      <td>Castlederg</td>\n",
       "      <td>nan</td>\n",
       "      <td>226512.0</td>\n",
       "      <td>384216.0</td>\n",
       "      <td>-7.58868018714</td>\n",
       "      <td>54.7052292627</td>\n",
       "      <td>RiverFlow</td>\n",
       "    </tr>\n",
       "    <tr>\n",
       "      <th>37</th>\n",
       "      <td>37</td>\n",
       "      <td>202002.0</td>\n",
       "      <td>Faughan</td>\n",
       "      <td>Drumahoe</td>\n",
       "      <td>nan</td>\n",
       "      <td>246411.0</td>\n",
       "      <td>415098.0</td>\n",
       "      <td>-7.27502277269</td>\n",
       "      <td>54.9812064934</td>\n",
       "      <td>RiverFlow</td>\n",
       "    </tr>\n",
       "    <tr>\n",
       "      <th>38</th>\n",
       "      <td>38</td>\n",
       "      <td>203028.0</td>\n",
       "      <td>Agivey</td>\n",
       "      <td>Whitehill</td>\n",
       "      <td>nan</td>\n",
       "      <td>288337.0</td>\n",
       "      <td>419362.0</td>\n",
       "      <td>-6.61895151121</td>\n",
       "      <td>55.0138365218</td>\n",
       "      <td>RiverFlow</td>\n",
       "    </tr>\n",
       "    <tr>\n",
       "      <th>39</th>\n",
       "      <td>39</td>\n",
       "      <td>203042.0</td>\n",
       "      <td>Crumlin</td>\n",
       "      <td>Cidercourt Bridge</td>\n",
       "      <td>nan</td>\n",
       "      <td>313468.0</td>\n",
       "      <td>376536.0</td>\n",
       "      <td>-6.2430187136</td>\n",
       "      <td>54.6241828422</td>\n",
       "      <td>RiverFlow</td>\n",
       "    </tr>\n",
       "    <tr>\n",
       "      <th>40</th>\n",
       "      <td>40</td>\n",
       "      <td>204001.0</td>\n",
       "      <td>Bush</td>\n",
       "      <td>Seneirl Bridge</td>\n",
       "      <td>nan</td>\n",
       "      <td>294191.0</td>\n",
       "      <td>436250.0</td>\n",
       "      <td>-6.52187892914</td>\n",
       "      <td>55.1644267857</td>\n",
       "      <td>RiverFlow</td>\n",
       "    </tr>\n",
       "    <tr>\n",
       "      <th>41</th>\n",
       "      <td>41</td>\n",
       "      <td>205008.0</td>\n",
       "      <td>Lagan</td>\n",
       "      <td>Drumiller</td>\n",
       "      <td>nan</td>\n",
       "      <td>323635.0</td>\n",
       "      <td>352493.0</td>\n",
       "      <td>-6.0957546052</td>\n",
       "      <td>54.4059062438</td>\n",
       "      <td>RiverFlow</td>\n",
       "    </tr>\n",
       "    <tr>\n",
       "      <th>42</th>\n",
       "      <td>42</td>\n",
       "      <td>206001.0</td>\n",
       "      <td>Clanrye</td>\n",
       "      <td>Mountmill Bridge</td>\n",
       "      <td>nan</td>\n",
       "      <td>308536.0</td>\n",
       "      <td>331026.0</td>\n",
       "      <td>-6.335992842</td>\n",
       "      <td>54.2165563734</td>\n",
       "      <td>RiverFlow</td>\n",
       "    </tr>\n",
       "  </tbody>\n",
       "</table>\n",
       "</div>"
      ]
     },
     "metadata": {},
     "execution_count": 24
    }
   ],
   "metadata": {}
  },
  {
   "cell_type": "code",
   "execution_count": 25,
   "source": [
    "\n",
    "riverDischargeTrend = go.Scattermapbox(\n",
    "    name='RiverFlow',\n",
    "    lon=dataDFString.Longitude,\n",
    "    lat=dataDFString.Latitude,\n",
    "    marker=dict(color='green',\n",
    "                size=7),\n",
    "    hovertemplate='Station: ' + dataDFString.Station_Na +\n",
    "                  '<br>Station No.: ' + dataDFString.STATION_NU +\n",
    "                  '<br>River: '+ dataDFString.River_Name +\n",
    "                  '<br>Catchment: '+ dataDFString.Catchment +\n",
    "                  '<br>Lat: %{lat:.2f}'+\n",
    "                  '<br>Lon: %{lon:.2f}<extra></extra>',\n",
    ")"
   ],
   "outputs": [],
   "metadata": {}
  },
  {
   "cell_type": "code",
   "execution_count": 26,
   "source": [
    "    stations_map = go.Figure(\n",
    "        data=[riverDischargeTrend],\n",
    "        layout=MAP_LAYOUT)\n",
    "    stations_map.update_layout(\n",
    "        mapbox=dict(bearing=0,\n",
    "                center=dict(\n",
    "                    lat=54,\n",
    "                    lon=349\n",
    "                ),\n",
    "                pitch=0,\n",
    "                zoom=4.2)\n",
    "    )"
   ],
   "outputs": [
    {
     "output_type": "display_data",
     "data": {
      "text/html": [
       "<div>                            <div id=\"abcaa02a-2e4e-414f-8194-ba8373c4a268\" class=\"plotly-graph-div\" style=\"height:400px; width:100%;\"></div>            <script type=\"text/javascript\">                require([\"plotly\"], function(Plotly) {                    window.PLOTLYENV=window.PLOTLYENV || {};                                    if (document.getElementById(\"abcaa02a-2e4e-414f-8194-ba8373c4a268\")) {                    Plotly.newPlot(                        \"abcaa02a-2e4e-414f-8194-ba8373c4a268\",                        [{\"hovertemplate\": [\"Station: Charleville Weir<br>Station No.: 6013.0<br>River: Dee<br>Catchment: Glyde and Dee<br>Lat: %{lat:.2f}<br>Lon: %{lon:.2f}<extra></extra>\", \"Station: Tallanstown Weir<br>Station No.: 6014.0<br>River: Glyde<br>Catchment: Glyde and Dee<br>Lat: %{lat:.2f}<br>Lon: %{lon:.2f}<extra></extra>\", \"Station: Navan Weir<br>Station No.: 7009.0<br>River: Boyne<br>Catchment: Boyne<br>Lat: %{lat:.2f}<br>Lon: %{lon:.2f}<extra></extra>\", \"Station: Slane Castle<br>Station No.: 7012.0<br>River: Boyne<br>Catchment: Boyne<br>Lat: %{lat:.2f}<br>Lon: %{lon:.2f}<extra></extra>\", \"Station: SCARAWALSH<br>Station No.: 12001.0<br>River: Scarawalsh<br>Catchment: Slaney<br>Lat: %{lat:.2f}<br>Lon: %{lon:.2f}<extra></extra>\", \"Station: Derrybrock<br>Station No.: 14007.0<br>River: Stradbally<br>Catchment: Barrow<br>Lat: %{lat:.2f}<br>Lon: %{lon:.2f}<extra></extra>\", \"Station: Levitstown<br>Station No.: 14019.0<br>River: Barrow<br>Catchment: Barrow<br>Lat: %{lat:.2f}<br>Lon: %{lon:.2f}<extra></extra>\", \"Station: Annamult<br>Station No.: 15001.0<br>River: Kings<br>Catchment: Nore<br>Lat: %{lat:.2f}<br>Lon: %{lon:.2f}<extra></extra>\", \"Station: Dinin Bridge<br>Station No.: 15003.0<br>River: Dinin<br>Catchment: Nore<br>Lat: %{lat:.2f}<br>Lon: %{lon:.2f}<extra></extra>\", \"Station: Brownsbarn<br>Station No.: 15006.0<br>River: Nore<br>Catchment: Nore<br>Lat: %{lat:.2f}<br>Lon: %{lon:.2f}<extra></extra>\", \"Station: New Bridge<br>Station No.: 16008.0<br>River: Suir<br>Catchment: Suir<br>Lat: %{lat:.2f}<br>Lon: %{lon:.2f}<extra></extra>\", \"Station: Caher Park<br>Station No.: 16009.0<br>River: Suir<br>Catchment: Suir<br>Lat: %{lat:.2f}<br>Lon: %{lon:.2f}<extra></extra>\", \"Station: BALLYDUFF<br>Station No.: 18002.0<br>River: Blackwater<br>Catchment: Blackwater<br>Lat: %{lat:.2f}<br>Lon: %{lon:.2f}<extra></extra>\", \"Station: Killavullen<br>Station No.: 18003.0<br>River: Blackwater<br>Catchment: Munster Blackwater<br>Lat: %{lat:.2f}<br>Lon: %{lon:.2f}<extra></extra>\", \"Station: Downing Bridge<br>Station No.: 18005.0<br>River: Funshion<br>Catchment: Munster Blackwater<br>Lat: %{lat:.2f}<br>Lon: %{lon:.2f}<extra></extra>\", \"Station: CSET MALLOW<br>Station No.: 18006.0<br>River: BLACKWATER<br>Catchment: Blackwater<br>Lat: %{lat:.2f}<br>Lon: %{lon:.2f}<extra></extra>\", \"Station: DUARRIGLE<br>Station No.: 18050.0<br>River: BLACKWATER<br>Catchment: Blackwater<br>Lat: %{lat:.2f}<br>Lon: %{lon:.2f}<extra></extra>\", \"Station: Ballea<br>Station No.: 19001.0<br>River: Owenboy<br>Catchment: Lee<br>Lat: %{lat:.2f}<br>Lon: %{lon:.2f}<extra></extra>\", \"Station: COOMHOLA<br>Station No.: 21002.0<br>River: COOMHOLA<br>Catchment: Owvane-Mealagh-Glengarriff-Coastal<br>Lat: %{lat:.2f}<br>Lon: %{lon:.2f}<extra></extra>\", \"Station: Listowel<br>Station No.: 23002.0<br>River: Feale<br>Catchment: Feale<br>Lat: %{lat:.2f}<br>Lon: %{lon:.2f}<extra></extra>\", \"Station: Annacotty<br>Station No.: 25001.0<br>River: Mulkear<br>Catchment: Mulkear<br>Lat: %{lat:.2f}<br>Lon: %{lon:.2f}<extra></extra>\", \"Station: Barrington's Bridge<br>Station No.: 25002.0<br>River: Newport<br>Catchment: Lower Shannon<br>Lat: %{lat:.2f}<br>Lon: %{lon:.2f}<extra></extra>\", \"Station: Ferbane<br>Station No.: 25006.0<br>River: Brosna<br>Catchment: Brosna<br>Lat: %{lat:.2f}<br>Lon: %{lon:.2f}<extra></extra>\", \"Station: Scarriff<br>Station No.: 25030.0<br>River: Graney<br>Catchment: Lower Shannon<br>Lat: %{lat:.2f}<br>Lon: %{lon:.2f}<extra></extra>\", \"Station: Bellantra Bridge<br>Station No.: 26009.0<br>River: Black<br>Catchment: Upper Shannon<br>Lat: %{lat:.2f}<br>Lon: %{lon:.2f}<extra></extra>\", \"Station: Ballymahon<br>Station No.: 26021.0<br>River: Inny<br>Catchment: Inny<br>Lat: %{lat:.2f}<br>Lon: %{lon:.2f}<extra></extra>\", \"Station: DOWRA<br>Station No.: 26029.0<br>River: Shannon<br>Catchment: Shannon<br>Lat: %{lat:.2f}<br>Lon: %{lon:.2f}<extra></extra>\", \"Station: Ballycorey<br>Station No.: 27002.0<br>River: Fergus<br>Catchment: Clare<br>Lat: %{lat:.2f}<br>Lon: %{lon:.2f}<extra></extra>\", \"Station: NEWPORT WEIR<br>Station No.: 32012.0<br>River: Newport<br>Catchment: Newport<br>Lat: %{lat:.2f}<br>Lon: %{lon:.2f}<extra></extra>\", \"Station: Rahans<br>Station No.: 34001.0<br>River: Moy<br>Catchment: Moy<br>Lat: %{lat:.2f}<br>Lon: %{lon:.2f}<extra></extra>\", \"Station: BILLA BR.<br>Station No.: 35002.0<br>River: Ballysadare<br>Catchment: OWENBEG<br>Lat: %{lat:.2f}<br>Lon: %{lon:.2f}<extra></extra>\", \"Station: BALLYSADARE<br>Station No.: 35005.0<br>River: Ballysadare<br>Catchment: Ballysadare<br>Lat: %{lat:.2f}<br>Lon: %{lon:.2f}<extra></extra>\", \"Station: Butlers Bridge<br>Station No.: 36010.0<br>River: Annalee<br>Catchment: Lower Lough Erne<br>Lat: %{lat:.2f}<br>Lon: %{lon:.2f}<extra></extra>\", \"Station: Clonconwal Ford<br>Station No.: 38001.0<br>River: Owenea<br>Catchment: Gweedore<br>Lat: %{lat:.2f}<br>Lon: %{lon:.2f}<extra></extra>\", \"Station: CLARAGH<br>Station No.: 39006.0<br>River: LEANNAN<br>Catchment: LEANNAN<br>Lat: %{lat:.2f}<br>Lon: %{lon:.2f}<extra></extra>\", \"Station: Camowen Terrace<br>Station No.: 201005.0<br>River: Camowen<br>Catchment: nan<br>Lat: %{lat:.2f}<br>Lon: %{lon:.2f}<extra></extra>\", \"Station: Derg<br>Station No.: 201008.0<br>River: Castlederg<br>Catchment: nan<br>Lat: %{lat:.2f}<br>Lon: %{lon:.2f}<extra></extra>\", \"Station: Faughan<br>Station No.: 202002.0<br>River: Drumahoe<br>Catchment: nan<br>Lat: %{lat:.2f}<br>Lon: %{lon:.2f}<extra></extra>\", \"Station: Agivey<br>Station No.: 203028.0<br>River: Whitehill<br>Catchment: nan<br>Lat: %{lat:.2f}<br>Lon: %{lon:.2f}<extra></extra>\", \"Station: Crumlin<br>Station No.: 203042.0<br>River: Cidercourt Bridge<br>Catchment: nan<br>Lat: %{lat:.2f}<br>Lon: %{lon:.2f}<extra></extra>\", \"Station: Bush<br>Station No.: 204001.0<br>River: Seneirl Bridge<br>Catchment: nan<br>Lat: %{lat:.2f}<br>Lon: %{lon:.2f}<extra></extra>\", \"Station: Lagan<br>Station No.: 205008.0<br>River: Drumiller<br>Catchment: nan<br>Lat: %{lat:.2f}<br>Lon: %{lon:.2f}<extra></extra>\", \"Station: Clanrye<br>Station No.: 206001.0<br>River: Mountmill Bridge<br>Catchment: nan<br>Lat: %{lat:.2f}<br>Lon: %{lon:.2f}<extra></extra>\"], \"lat\": [\"53.8557870342\", \"53.9215381199\", \"53.643230344\", \"53.7066793056\", \"52.5476486678\", \"53.0387351037\", \"52.9346930401\", \"52.5480944157\", \"52.714325773\", \"52.4998762325\", \"52.4588858688\", \"52.3574899595\", \"52.1442240503\", \"52.1484835777\", \"52.1680484385\", \"52.1269919784\", \"52.0961818109\", \"51.8211299341\", \"51.7376559734\", \"52.4420102274\", \"52.6691796306\", \"52.6445048831\", \"53.2698856402\", \"52.9081987342\", \"53.854017981\", \"53.5625369666\", \"54.1913954541\", \"52.8698654925\", \"53.8892789954\", \"54.103494162\", \"54.1792753459\", \"54.2091829697\", \"54.0417010587\", \"54.7817273519\", \"55.0277486446\", \"54.6034927398\", \"54.7052292627\", \"54.9812064934\", \"55.0138365218\", \"54.6241828422\", \"55.1644267857\", \"54.4059062438\", \"54.2165563734\"], \"lon\": [\"-6.41304335319\", \"-6.54928698658\", \"-6.67066351217\", \"-6.56146021034\", \"-6.54957294412\", \"-7.08423750149\", \"-6.94954552728\", \"-7.19961868737\", \"-7.29142744039\", \"-7.09136657455\", \"-7.9967631322\", \"-7.92224354094\", \"-8.05244671946\", \"-8.51560652387\", \"-8.2588073137\", \"-8.69299757046\", \"-9.09471210276\", \"-8.42104853217\", \"-9.45033354001\", \"-9.47519526523\", \"-8.52829280553\", \"-8.47416866173\", \"-7.82707573977\", \"-8.53245955394\", \"-7.80473724169\", \"-7.75689320744\", \"-8.01434082368\", \"-8.97382396465\", \"-9.52457667621\", \"-9.15637540497\", \"-8.55254498744\", \"-8.5084003521\", \"-7.37687215907\", \"-8.36397203778\", \"-7.68386193519\", \"-7.28701176925\", \"-7.58868018714\", \"-7.27502277269\", \"-6.61895151121\", \"-6.2430187136\", \"-6.52187892914\", \"-6.0957546052\", \"-6.335992842\"], \"marker\": {\"color\": \"green\", \"size\": 7}, \"name\": \"RiverFlow\", \"type\": \"scattermapbox\"}],                        {\"height\": 400, \"legend\": {\"title\": {\"text\": \"<b>Station Type</b>\"}, \"x\": 0.01}, \"mapbox\": {\"bearing\": 0, \"center\": {\"lat\": 54, \"lon\": 349}, \"pitch\": 0, \"style\": \"open-street-map\", \"zoom\": 4.2}, \"margin\": {\"b\": 0, \"l\": 0, \"r\": 0, \"t\": 0}, \"paper_bgcolor\": \"rgba(0,0,0,0)\", \"plot_bgcolor\": \"rgba(0,0,0,0)\", \"template\": {\"data\": {\"bar\": [{\"error_x\": {\"color\": \"#2a3f5f\"}, \"error_y\": {\"color\": \"#2a3f5f\"}, \"marker\": {\"line\": {\"color\": \"#E5ECF6\", \"width\": 0.5}}, \"type\": \"bar\"}], \"barpolar\": [{\"marker\": {\"line\": {\"color\": \"#E5ECF6\", \"width\": 0.5}}, \"type\": \"barpolar\"}], \"carpet\": [{\"aaxis\": {\"endlinecolor\": \"#2a3f5f\", \"gridcolor\": \"white\", \"linecolor\": \"white\", \"minorgridcolor\": \"white\", \"startlinecolor\": \"#2a3f5f\"}, \"baxis\": {\"endlinecolor\": \"#2a3f5f\", \"gridcolor\": \"white\", \"linecolor\": \"white\", \"minorgridcolor\": \"white\", \"startlinecolor\": \"#2a3f5f\"}, \"type\": \"carpet\"}], \"choropleth\": [{\"colorbar\": {\"outlinewidth\": 0, \"ticks\": \"\"}, \"type\": \"choropleth\"}], \"contour\": [{\"colorbar\": {\"outlinewidth\": 0, \"ticks\": \"\"}, \"colorscale\": [[0.0, \"#0d0887\"], [0.1111111111111111, \"#46039f\"], [0.2222222222222222, \"#7201a8\"], [0.3333333333333333, \"#9c179e\"], [0.4444444444444444, \"#bd3786\"], [0.5555555555555556, \"#d8576b\"], [0.6666666666666666, \"#ed7953\"], [0.7777777777777778, \"#fb9f3a\"], [0.8888888888888888, \"#fdca26\"], [1.0, \"#f0f921\"]], \"type\": \"contour\"}], \"contourcarpet\": [{\"colorbar\": {\"outlinewidth\": 0, \"ticks\": \"\"}, \"type\": \"contourcarpet\"}], \"heatmap\": [{\"colorbar\": {\"outlinewidth\": 0, \"ticks\": \"\"}, \"colorscale\": [[0.0, \"#0d0887\"], [0.1111111111111111, \"#46039f\"], [0.2222222222222222, \"#7201a8\"], [0.3333333333333333, \"#9c179e\"], [0.4444444444444444, \"#bd3786\"], [0.5555555555555556, \"#d8576b\"], [0.6666666666666666, \"#ed7953\"], [0.7777777777777778, \"#fb9f3a\"], [0.8888888888888888, \"#fdca26\"], [1.0, \"#f0f921\"]], \"type\": \"heatmap\"}], \"heatmapgl\": [{\"colorbar\": {\"outlinewidth\": 0, \"ticks\": \"\"}, \"colorscale\": [[0.0, \"#0d0887\"], [0.1111111111111111, \"#46039f\"], [0.2222222222222222, \"#7201a8\"], [0.3333333333333333, \"#9c179e\"], [0.4444444444444444, \"#bd3786\"], [0.5555555555555556, \"#d8576b\"], [0.6666666666666666, \"#ed7953\"], [0.7777777777777778, \"#fb9f3a\"], [0.8888888888888888, \"#fdca26\"], [1.0, \"#f0f921\"]], \"type\": \"heatmapgl\"}], \"histogram\": [{\"marker\": {\"colorbar\": {\"outlinewidth\": 0, \"ticks\": \"\"}}, \"type\": \"histogram\"}], \"histogram2d\": [{\"colorbar\": {\"outlinewidth\": 0, \"ticks\": \"\"}, \"colorscale\": [[0.0, \"#0d0887\"], [0.1111111111111111, \"#46039f\"], [0.2222222222222222, \"#7201a8\"], [0.3333333333333333, \"#9c179e\"], [0.4444444444444444, \"#bd3786\"], [0.5555555555555556, \"#d8576b\"], [0.6666666666666666, \"#ed7953\"], [0.7777777777777778, \"#fb9f3a\"], [0.8888888888888888, \"#fdca26\"], [1.0, \"#f0f921\"]], \"type\": \"histogram2d\"}], \"histogram2dcontour\": [{\"colorbar\": {\"outlinewidth\": 0, \"ticks\": \"\"}, \"colorscale\": [[0.0, \"#0d0887\"], [0.1111111111111111, \"#46039f\"], [0.2222222222222222, \"#7201a8\"], [0.3333333333333333, \"#9c179e\"], [0.4444444444444444, \"#bd3786\"], [0.5555555555555556, \"#d8576b\"], [0.6666666666666666, \"#ed7953\"], [0.7777777777777778, \"#fb9f3a\"], [0.8888888888888888, \"#fdca26\"], [1.0, \"#f0f921\"]], \"type\": \"histogram2dcontour\"}], \"mesh3d\": [{\"colorbar\": {\"outlinewidth\": 0, \"ticks\": \"\"}, \"type\": \"mesh3d\"}], \"parcoords\": [{\"line\": {\"colorbar\": {\"outlinewidth\": 0, \"ticks\": \"\"}}, \"type\": \"parcoords\"}], \"pie\": [{\"automargin\": true, \"type\": \"pie\"}], \"scatter\": [{\"marker\": {\"colorbar\": {\"outlinewidth\": 0, \"ticks\": \"\"}}, \"type\": \"scatter\"}], \"scatter3d\": [{\"line\": {\"colorbar\": {\"outlinewidth\": 0, \"ticks\": \"\"}}, \"marker\": {\"colorbar\": {\"outlinewidth\": 0, \"ticks\": \"\"}}, \"type\": \"scatter3d\"}], \"scattercarpet\": [{\"marker\": {\"colorbar\": {\"outlinewidth\": 0, \"ticks\": \"\"}}, \"type\": \"scattercarpet\"}], \"scattergeo\": [{\"marker\": {\"colorbar\": {\"outlinewidth\": 0, \"ticks\": \"\"}}, \"type\": \"scattergeo\"}], \"scattergl\": [{\"marker\": {\"colorbar\": {\"outlinewidth\": 0, \"ticks\": \"\"}}, \"type\": \"scattergl\"}], \"scattermapbox\": [{\"marker\": {\"colorbar\": {\"outlinewidth\": 0, \"ticks\": \"\"}}, \"type\": \"scattermapbox\"}], \"scatterpolar\": [{\"marker\": {\"colorbar\": {\"outlinewidth\": 0, \"ticks\": \"\"}}, \"type\": \"scatterpolar\"}], \"scatterpolargl\": [{\"marker\": {\"colorbar\": {\"outlinewidth\": 0, \"ticks\": \"\"}}, \"type\": \"scatterpolargl\"}], \"scatterternary\": [{\"marker\": {\"colorbar\": {\"outlinewidth\": 0, \"ticks\": \"\"}}, \"type\": \"scatterternary\"}], \"surface\": [{\"colorbar\": {\"outlinewidth\": 0, \"ticks\": \"\"}, \"colorscale\": [[0.0, \"#0d0887\"], [0.1111111111111111, \"#46039f\"], [0.2222222222222222, \"#7201a8\"], [0.3333333333333333, \"#9c179e\"], [0.4444444444444444, \"#bd3786\"], [0.5555555555555556, \"#d8576b\"], [0.6666666666666666, \"#ed7953\"], [0.7777777777777778, \"#fb9f3a\"], [0.8888888888888888, \"#fdca26\"], [1.0, \"#f0f921\"]], \"type\": \"surface\"}], \"table\": [{\"cells\": {\"fill\": {\"color\": \"#EBF0F8\"}, \"line\": {\"color\": \"white\"}}, \"header\": {\"fill\": {\"color\": \"#C8D4E3\"}, \"line\": {\"color\": \"white\"}}, \"type\": \"table\"}]}, \"layout\": {\"annotationdefaults\": {\"arrowcolor\": \"#2a3f5f\", \"arrowhead\": 0, \"arrowwidth\": 1}, \"autotypenumbers\": \"strict\", \"coloraxis\": {\"colorbar\": {\"outlinewidth\": 0, \"ticks\": \"\"}}, \"colorscale\": {\"diverging\": [[0, \"#8e0152\"], [0.1, \"#c51b7d\"], [0.2, \"#de77ae\"], [0.3, \"#f1b6da\"], [0.4, \"#fde0ef\"], [0.5, \"#f7f7f7\"], [0.6, \"#e6f5d0\"], [0.7, \"#b8e186\"], [0.8, \"#7fbc41\"], [0.9, \"#4d9221\"], [1, \"#276419\"]], \"sequential\": [[0.0, \"#0d0887\"], [0.1111111111111111, \"#46039f\"], [0.2222222222222222, \"#7201a8\"], [0.3333333333333333, \"#9c179e\"], [0.4444444444444444, \"#bd3786\"], [0.5555555555555556, \"#d8576b\"], [0.6666666666666666, \"#ed7953\"], [0.7777777777777778, \"#fb9f3a\"], [0.8888888888888888, \"#fdca26\"], [1.0, \"#f0f921\"]], \"sequentialminus\": [[0.0, \"#0d0887\"], [0.1111111111111111, \"#46039f\"], [0.2222222222222222, \"#7201a8\"], [0.3333333333333333, \"#9c179e\"], [0.4444444444444444, \"#bd3786\"], [0.5555555555555556, \"#d8576b\"], [0.6666666666666666, \"#ed7953\"], [0.7777777777777778, \"#fb9f3a\"], [0.8888888888888888, \"#fdca26\"], [1.0, \"#f0f921\"]]}, \"colorway\": [\"#636efa\", \"#EF553B\", \"#00cc96\", \"#ab63fa\", \"#FFA15A\", \"#19d3f3\", \"#FF6692\", \"#B6E880\", \"#FF97FF\", \"#FECB52\"], \"font\": {\"color\": \"#2a3f5f\"}, \"geo\": {\"bgcolor\": \"white\", \"lakecolor\": \"white\", \"landcolor\": \"#E5ECF6\", \"showlakes\": true, \"showland\": true, \"subunitcolor\": \"white\"}, \"hoverlabel\": {\"align\": \"left\"}, \"hovermode\": \"closest\", \"mapbox\": {\"style\": \"light\"}, \"paper_bgcolor\": \"white\", \"plot_bgcolor\": \"#E5ECF6\", \"polar\": {\"angularaxis\": {\"gridcolor\": \"white\", \"linecolor\": \"white\", \"ticks\": \"\"}, \"bgcolor\": \"#E5ECF6\", \"radialaxis\": {\"gridcolor\": \"white\", \"linecolor\": \"white\", \"ticks\": \"\"}}, \"scene\": {\"xaxis\": {\"backgroundcolor\": \"#E5ECF6\", \"gridcolor\": \"white\", \"gridwidth\": 2, \"linecolor\": \"white\", \"showbackground\": true, \"ticks\": \"\", \"zerolinecolor\": \"white\"}, \"yaxis\": {\"backgroundcolor\": \"#E5ECF6\", \"gridcolor\": \"white\", \"gridwidth\": 2, \"linecolor\": \"white\", \"showbackground\": true, \"ticks\": \"\", \"zerolinecolor\": \"white\"}, \"zaxis\": {\"backgroundcolor\": \"#E5ECF6\", \"gridcolor\": \"white\", \"gridwidth\": 2, \"linecolor\": \"white\", \"showbackground\": true, \"ticks\": \"\", \"zerolinecolor\": \"white\"}}, \"shapedefaults\": {\"line\": {\"color\": \"#2a3f5f\"}}, \"ternary\": {\"aaxis\": {\"gridcolor\": \"white\", \"linecolor\": \"white\", \"ticks\": \"\"}, \"baxis\": {\"gridcolor\": \"white\", \"linecolor\": \"white\", \"ticks\": \"\"}, \"bgcolor\": \"#E5ECF6\", \"caxis\": {\"gridcolor\": \"white\", \"linecolor\": \"white\", \"ticks\": \"\"}}, \"title\": {\"x\": 0.05}, \"xaxis\": {\"automargin\": true, \"gridcolor\": \"white\", \"linecolor\": \"white\", \"ticks\": \"\", \"title\": {\"standoff\": 15}, \"zerolinecolor\": \"white\", \"zerolinewidth\": 2}, \"yaxis\": {\"automargin\": true, \"gridcolor\": \"white\", \"linecolor\": \"white\", \"ticks\": \"\", \"title\": {\"standoff\": 15}, \"zerolinecolor\": \"white\", \"zerolinewidth\": 2}}}},                        {\"responsive\": true}                    ).then(function(){\n",
       "                            \n",
       "var gd = document.getElementById('abcaa02a-2e4e-414f-8194-ba8373c4a268');\n",
       "var x = new MutationObserver(function (mutations, observer) {{\n",
       "        var display = window.getComputedStyle(gd).display;\n",
       "        if (!display || display === 'none') {{\n",
       "            console.log([gd, 'removed!']);\n",
       "            Plotly.purge(gd);\n",
       "            observer.disconnect();\n",
       "        }}\n",
       "}});\n",
       "\n",
       "// Listen for the removal of the full notebook cells\n",
       "var notebookContainer = gd.closest('#notebook-container');\n",
       "if (notebookContainer) {{\n",
       "    x.observe(notebookContainer, {childList: true});\n",
       "}}\n",
       "\n",
       "// Listen for the clearing of the current output cell\n",
       "var outputEl = gd.closest('.output');\n",
       "if (outputEl) {{\n",
       "    x.observe(outputEl, {childList: true});\n",
       "}}\n",
       "\n",
       "                        })                };                });            </script>        </div>"
      ],
      "application/vnd.plotly.v1+json": {
       "config": {
        "plotlyServerURL": "https://plot.ly"
       },
       "data": [
        {
         "hovertemplate": [
          "Station: Charleville Weir<br>Station No.: 6013.0<br>River: Dee<br>Catchment: Glyde and Dee<br>Lat: %{lat:.2f}<br>Lon: %{lon:.2f}<extra></extra>",
          "Station: Tallanstown Weir<br>Station No.: 6014.0<br>River: Glyde<br>Catchment: Glyde and Dee<br>Lat: %{lat:.2f}<br>Lon: %{lon:.2f}<extra></extra>",
          "Station: Navan Weir<br>Station No.: 7009.0<br>River: Boyne<br>Catchment: Boyne<br>Lat: %{lat:.2f}<br>Lon: %{lon:.2f}<extra></extra>",
          "Station: Slane Castle<br>Station No.: 7012.0<br>River: Boyne<br>Catchment: Boyne<br>Lat: %{lat:.2f}<br>Lon: %{lon:.2f}<extra></extra>",
          "Station: SCARAWALSH<br>Station No.: 12001.0<br>River: Scarawalsh<br>Catchment: Slaney<br>Lat: %{lat:.2f}<br>Lon: %{lon:.2f}<extra></extra>",
          "Station: Derrybrock<br>Station No.: 14007.0<br>River: Stradbally<br>Catchment: Barrow<br>Lat: %{lat:.2f}<br>Lon: %{lon:.2f}<extra></extra>",
          "Station: Levitstown<br>Station No.: 14019.0<br>River: Barrow<br>Catchment: Barrow<br>Lat: %{lat:.2f}<br>Lon: %{lon:.2f}<extra></extra>",
          "Station: Annamult<br>Station No.: 15001.0<br>River: Kings<br>Catchment: Nore<br>Lat: %{lat:.2f}<br>Lon: %{lon:.2f}<extra></extra>",
          "Station: Dinin Bridge<br>Station No.: 15003.0<br>River: Dinin<br>Catchment: Nore<br>Lat: %{lat:.2f}<br>Lon: %{lon:.2f}<extra></extra>",
          "Station: Brownsbarn<br>Station No.: 15006.0<br>River: Nore<br>Catchment: Nore<br>Lat: %{lat:.2f}<br>Lon: %{lon:.2f}<extra></extra>",
          "Station: New Bridge<br>Station No.: 16008.0<br>River: Suir<br>Catchment: Suir<br>Lat: %{lat:.2f}<br>Lon: %{lon:.2f}<extra></extra>",
          "Station: Caher Park<br>Station No.: 16009.0<br>River: Suir<br>Catchment: Suir<br>Lat: %{lat:.2f}<br>Lon: %{lon:.2f}<extra></extra>",
          "Station: BALLYDUFF<br>Station No.: 18002.0<br>River: Blackwater<br>Catchment: Blackwater<br>Lat: %{lat:.2f}<br>Lon: %{lon:.2f}<extra></extra>",
          "Station: Killavullen<br>Station No.: 18003.0<br>River: Blackwater<br>Catchment: Munster Blackwater<br>Lat: %{lat:.2f}<br>Lon: %{lon:.2f}<extra></extra>",
          "Station: Downing Bridge<br>Station No.: 18005.0<br>River: Funshion<br>Catchment: Munster Blackwater<br>Lat: %{lat:.2f}<br>Lon: %{lon:.2f}<extra></extra>",
          "Station: CSET MALLOW<br>Station No.: 18006.0<br>River: BLACKWATER<br>Catchment: Blackwater<br>Lat: %{lat:.2f}<br>Lon: %{lon:.2f}<extra></extra>",
          "Station: DUARRIGLE<br>Station No.: 18050.0<br>River: BLACKWATER<br>Catchment: Blackwater<br>Lat: %{lat:.2f}<br>Lon: %{lon:.2f}<extra></extra>",
          "Station: Ballea<br>Station No.: 19001.0<br>River: Owenboy<br>Catchment: Lee<br>Lat: %{lat:.2f}<br>Lon: %{lon:.2f}<extra></extra>",
          "Station: COOMHOLA<br>Station No.: 21002.0<br>River: COOMHOLA<br>Catchment: Owvane-Mealagh-Glengarriff-Coastal<br>Lat: %{lat:.2f}<br>Lon: %{lon:.2f}<extra></extra>",
          "Station: Listowel<br>Station No.: 23002.0<br>River: Feale<br>Catchment: Feale<br>Lat: %{lat:.2f}<br>Lon: %{lon:.2f}<extra></extra>",
          "Station: Annacotty<br>Station No.: 25001.0<br>River: Mulkear<br>Catchment: Mulkear<br>Lat: %{lat:.2f}<br>Lon: %{lon:.2f}<extra></extra>",
          "Station: Barrington's Bridge<br>Station No.: 25002.0<br>River: Newport<br>Catchment: Lower Shannon<br>Lat: %{lat:.2f}<br>Lon: %{lon:.2f}<extra></extra>",
          "Station: Ferbane<br>Station No.: 25006.0<br>River: Brosna<br>Catchment: Brosna<br>Lat: %{lat:.2f}<br>Lon: %{lon:.2f}<extra></extra>",
          "Station: Scarriff<br>Station No.: 25030.0<br>River: Graney<br>Catchment: Lower Shannon<br>Lat: %{lat:.2f}<br>Lon: %{lon:.2f}<extra></extra>",
          "Station: Bellantra Bridge<br>Station No.: 26009.0<br>River: Black<br>Catchment: Upper Shannon<br>Lat: %{lat:.2f}<br>Lon: %{lon:.2f}<extra></extra>",
          "Station: Ballymahon<br>Station No.: 26021.0<br>River: Inny<br>Catchment: Inny<br>Lat: %{lat:.2f}<br>Lon: %{lon:.2f}<extra></extra>",
          "Station: DOWRA<br>Station No.: 26029.0<br>River: Shannon<br>Catchment: Shannon<br>Lat: %{lat:.2f}<br>Lon: %{lon:.2f}<extra></extra>",
          "Station: Ballycorey<br>Station No.: 27002.0<br>River: Fergus<br>Catchment: Clare<br>Lat: %{lat:.2f}<br>Lon: %{lon:.2f}<extra></extra>",
          "Station: NEWPORT WEIR<br>Station No.: 32012.0<br>River: Newport<br>Catchment: Newport<br>Lat: %{lat:.2f}<br>Lon: %{lon:.2f}<extra></extra>",
          "Station: Rahans<br>Station No.: 34001.0<br>River: Moy<br>Catchment: Moy<br>Lat: %{lat:.2f}<br>Lon: %{lon:.2f}<extra></extra>",
          "Station: BILLA BR.<br>Station No.: 35002.0<br>River: Ballysadare<br>Catchment: OWENBEG<br>Lat: %{lat:.2f}<br>Lon: %{lon:.2f}<extra></extra>",
          "Station: BALLYSADARE<br>Station No.: 35005.0<br>River: Ballysadare<br>Catchment: Ballysadare<br>Lat: %{lat:.2f}<br>Lon: %{lon:.2f}<extra></extra>",
          "Station: Butlers Bridge<br>Station No.: 36010.0<br>River: Annalee<br>Catchment: Lower Lough Erne<br>Lat: %{lat:.2f}<br>Lon: %{lon:.2f}<extra></extra>",
          "Station: Clonconwal Ford<br>Station No.: 38001.0<br>River: Owenea<br>Catchment: Gweedore<br>Lat: %{lat:.2f}<br>Lon: %{lon:.2f}<extra></extra>",
          "Station: CLARAGH<br>Station No.: 39006.0<br>River: LEANNAN<br>Catchment: LEANNAN<br>Lat: %{lat:.2f}<br>Lon: %{lon:.2f}<extra></extra>",
          "Station: Camowen Terrace<br>Station No.: 201005.0<br>River: Camowen<br>Catchment: nan<br>Lat: %{lat:.2f}<br>Lon: %{lon:.2f}<extra></extra>",
          "Station: Derg<br>Station No.: 201008.0<br>River: Castlederg<br>Catchment: nan<br>Lat: %{lat:.2f}<br>Lon: %{lon:.2f}<extra></extra>",
          "Station: Faughan<br>Station No.: 202002.0<br>River: Drumahoe<br>Catchment: nan<br>Lat: %{lat:.2f}<br>Lon: %{lon:.2f}<extra></extra>",
          "Station: Agivey<br>Station No.: 203028.0<br>River: Whitehill<br>Catchment: nan<br>Lat: %{lat:.2f}<br>Lon: %{lon:.2f}<extra></extra>",
          "Station: Crumlin<br>Station No.: 203042.0<br>River: Cidercourt Bridge<br>Catchment: nan<br>Lat: %{lat:.2f}<br>Lon: %{lon:.2f}<extra></extra>",
          "Station: Bush<br>Station No.: 204001.0<br>River: Seneirl Bridge<br>Catchment: nan<br>Lat: %{lat:.2f}<br>Lon: %{lon:.2f}<extra></extra>",
          "Station: Lagan<br>Station No.: 205008.0<br>River: Drumiller<br>Catchment: nan<br>Lat: %{lat:.2f}<br>Lon: %{lon:.2f}<extra></extra>",
          "Station: Clanrye<br>Station No.: 206001.0<br>River: Mountmill Bridge<br>Catchment: nan<br>Lat: %{lat:.2f}<br>Lon: %{lon:.2f}<extra></extra>"
         ],
         "lat": [
          "53.8557870342",
          "53.9215381199",
          "53.643230344",
          "53.7066793056",
          "52.5476486678",
          "53.0387351037",
          "52.9346930401",
          "52.5480944157",
          "52.714325773",
          "52.4998762325",
          "52.4588858688",
          "52.3574899595",
          "52.1442240503",
          "52.1484835777",
          "52.1680484385",
          "52.1269919784",
          "52.0961818109",
          "51.8211299341",
          "51.7376559734",
          "52.4420102274",
          "52.6691796306",
          "52.6445048831",
          "53.2698856402",
          "52.9081987342",
          "53.854017981",
          "53.5625369666",
          "54.1913954541",
          "52.8698654925",
          "53.8892789954",
          "54.103494162",
          "54.1792753459",
          "54.2091829697",
          "54.0417010587",
          "54.7817273519",
          "55.0277486446",
          "54.6034927398",
          "54.7052292627",
          "54.9812064934",
          "55.0138365218",
          "54.6241828422",
          "55.1644267857",
          "54.4059062438",
          "54.2165563734"
         ],
         "lon": [
          "-6.41304335319",
          "-6.54928698658",
          "-6.67066351217",
          "-6.56146021034",
          "-6.54957294412",
          "-7.08423750149",
          "-6.94954552728",
          "-7.19961868737",
          "-7.29142744039",
          "-7.09136657455",
          "-7.9967631322",
          "-7.92224354094",
          "-8.05244671946",
          "-8.51560652387",
          "-8.2588073137",
          "-8.69299757046",
          "-9.09471210276",
          "-8.42104853217",
          "-9.45033354001",
          "-9.47519526523",
          "-8.52829280553",
          "-8.47416866173",
          "-7.82707573977",
          "-8.53245955394",
          "-7.80473724169",
          "-7.75689320744",
          "-8.01434082368",
          "-8.97382396465",
          "-9.52457667621",
          "-9.15637540497",
          "-8.55254498744",
          "-8.5084003521",
          "-7.37687215907",
          "-8.36397203778",
          "-7.68386193519",
          "-7.28701176925",
          "-7.58868018714",
          "-7.27502277269",
          "-6.61895151121",
          "-6.2430187136",
          "-6.52187892914",
          "-6.0957546052",
          "-6.335992842"
         ],
         "marker": {
          "color": "green",
          "size": 7
         },
         "name": "RiverFlow",
         "type": "scattermapbox"
        }
       ],
       "layout": {
        "height": 400,
        "legend": {
         "title": {
          "text": "<b>Station Type</b>"
         },
         "x": 0.01
        },
        "mapbox": {
         "bearing": 0,
         "center": {
          "lat": 54,
          "lon": 349
         },
         "pitch": 0,
         "style": "open-street-map",
         "zoom": 4.2
        },
        "margin": {
         "b": 0,
         "l": 0,
         "r": 0,
         "t": 0
        },
        "paper_bgcolor": "rgba(0,0,0,0)",
        "plot_bgcolor": "rgba(0,0,0,0)",
        "template": {
         "data": {
          "bar": [
           {
            "error_x": {
             "color": "#2a3f5f"
            },
            "error_y": {
             "color": "#2a3f5f"
            },
            "marker": {
             "line": {
              "color": "#E5ECF6",
              "width": 0.5
             }
            },
            "type": "bar"
           }
          ],
          "barpolar": [
           {
            "marker": {
             "line": {
              "color": "#E5ECF6",
              "width": 0.5
             }
            },
            "type": "barpolar"
           }
          ],
          "carpet": [
           {
            "aaxis": {
             "endlinecolor": "#2a3f5f",
             "gridcolor": "white",
             "linecolor": "white",
             "minorgridcolor": "white",
             "startlinecolor": "#2a3f5f"
            },
            "baxis": {
             "endlinecolor": "#2a3f5f",
             "gridcolor": "white",
             "linecolor": "white",
             "minorgridcolor": "white",
             "startlinecolor": "#2a3f5f"
            },
            "type": "carpet"
           }
          ],
          "choropleth": [
           {
            "colorbar": {
             "outlinewidth": 0,
             "ticks": ""
            },
            "type": "choropleth"
           }
          ],
          "contour": [
           {
            "colorbar": {
             "outlinewidth": 0,
             "ticks": ""
            },
            "colorscale": [
             [
              0,
              "#0d0887"
             ],
             [
              0.1111111111111111,
              "#46039f"
             ],
             [
              0.2222222222222222,
              "#7201a8"
             ],
             [
              0.3333333333333333,
              "#9c179e"
             ],
             [
              0.4444444444444444,
              "#bd3786"
             ],
             [
              0.5555555555555556,
              "#d8576b"
             ],
             [
              0.6666666666666666,
              "#ed7953"
             ],
             [
              0.7777777777777778,
              "#fb9f3a"
             ],
             [
              0.8888888888888888,
              "#fdca26"
             ],
             [
              1,
              "#f0f921"
             ]
            ],
            "type": "contour"
           }
          ],
          "contourcarpet": [
           {
            "colorbar": {
             "outlinewidth": 0,
             "ticks": ""
            },
            "type": "contourcarpet"
           }
          ],
          "heatmap": [
           {
            "colorbar": {
             "outlinewidth": 0,
             "ticks": ""
            },
            "colorscale": [
             [
              0,
              "#0d0887"
             ],
             [
              0.1111111111111111,
              "#46039f"
             ],
             [
              0.2222222222222222,
              "#7201a8"
             ],
             [
              0.3333333333333333,
              "#9c179e"
             ],
             [
              0.4444444444444444,
              "#bd3786"
             ],
             [
              0.5555555555555556,
              "#d8576b"
             ],
             [
              0.6666666666666666,
              "#ed7953"
             ],
             [
              0.7777777777777778,
              "#fb9f3a"
             ],
             [
              0.8888888888888888,
              "#fdca26"
             ],
             [
              1,
              "#f0f921"
             ]
            ],
            "type": "heatmap"
           }
          ],
          "heatmapgl": [
           {
            "colorbar": {
             "outlinewidth": 0,
             "ticks": ""
            },
            "colorscale": [
             [
              0,
              "#0d0887"
             ],
             [
              0.1111111111111111,
              "#46039f"
             ],
             [
              0.2222222222222222,
              "#7201a8"
             ],
             [
              0.3333333333333333,
              "#9c179e"
             ],
             [
              0.4444444444444444,
              "#bd3786"
             ],
             [
              0.5555555555555556,
              "#d8576b"
             ],
             [
              0.6666666666666666,
              "#ed7953"
             ],
             [
              0.7777777777777778,
              "#fb9f3a"
             ],
             [
              0.8888888888888888,
              "#fdca26"
             ],
             [
              1,
              "#f0f921"
             ]
            ],
            "type": "heatmapgl"
           }
          ],
          "histogram": [
           {
            "marker": {
             "colorbar": {
              "outlinewidth": 0,
              "ticks": ""
             }
            },
            "type": "histogram"
           }
          ],
          "histogram2d": [
           {
            "colorbar": {
             "outlinewidth": 0,
             "ticks": ""
            },
            "colorscale": [
             [
              0,
              "#0d0887"
             ],
             [
              0.1111111111111111,
              "#46039f"
             ],
             [
              0.2222222222222222,
              "#7201a8"
             ],
             [
              0.3333333333333333,
              "#9c179e"
             ],
             [
              0.4444444444444444,
              "#bd3786"
             ],
             [
              0.5555555555555556,
              "#d8576b"
             ],
             [
              0.6666666666666666,
              "#ed7953"
             ],
             [
              0.7777777777777778,
              "#fb9f3a"
             ],
             [
              0.8888888888888888,
              "#fdca26"
             ],
             [
              1,
              "#f0f921"
             ]
            ],
            "type": "histogram2d"
           }
          ],
          "histogram2dcontour": [
           {
            "colorbar": {
             "outlinewidth": 0,
             "ticks": ""
            },
            "colorscale": [
             [
              0,
              "#0d0887"
             ],
             [
              0.1111111111111111,
              "#46039f"
             ],
             [
              0.2222222222222222,
              "#7201a8"
             ],
             [
              0.3333333333333333,
              "#9c179e"
             ],
             [
              0.4444444444444444,
              "#bd3786"
             ],
             [
              0.5555555555555556,
              "#d8576b"
             ],
             [
              0.6666666666666666,
              "#ed7953"
             ],
             [
              0.7777777777777778,
              "#fb9f3a"
             ],
             [
              0.8888888888888888,
              "#fdca26"
             ],
             [
              1,
              "#f0f921"
             ]
            ],
            "type": "histogram2dcontour"
           }
          ],
          "mesh3d": [
           {
            "colorbar": {
             "outlinewidth": 0,
             "ticks": ""
            },
            "type": "mesh3d"
           }
          ],
          "parcoords": [
           {
            "line": {
             "colorbar": {
              "outlinewidth": 0,
              "ticks": ""
             }
            },
            "type": "parcoords"
           }
          ],
          "pie": [
           {
            "automargin": true,
            "type": "pie"
           }
          ],
          "scatter": [
           {
            "marker": {
             "colorbar": {
              "outlinewidth": 0,
              "ticks": ""
             }
            },
            "type": "scatter"
           }
          ],
          "scatter3d": [
           {
            "line": {
             "colorbar": {
              "outlinewidth": 0,
              "ticks": ""
             }
            },
            "marker": {
             "colorbar": {
              "outlinewidth": 0,
              "ticks": ""
             }
            },
            "type": "scatter3d"
           }
          ],
          "scattercarpet": [
           {
            "marker": {
             "colorbar": {
              "outlinewidth": 0,
              "ticks": ""
             }
            },
            "type": "scattercarpet"
           }
          ],
          "scattergeo": [
           {
            "marker": {
             "colorbar": {
              "outlinewidth": 0,
              "ticks": ""
             }
            },
            "type": "scattergeo"
           }
          ],
          "scattergl": [
           {
            "marker": {
             "colorbar": {
              "outlinewidth": 0,
              "ticks": ""
             }
            },
            "type": "scattergl"
           }
          ],
          "scattermapbox": [
           {
            "marker": {
             "colorbar": {
              "outlinewidth": 0,
              "ticks": ""
             }
            },
            "type": "scattermapbox"
           }
          ],
          "scatterpolar": [
           {
            "marker": {
             "colorbar": {
              "outlinewidth": 0,
              "ticks": ""
             }
            },
            "type": "scatterpolar"
           }
          ],
          "scatterpolargl": [
           {
            "marker": {
             "colorbar": {
              "outlinewidth": 0,
              "ticks": ""
             }
            },
            "type": "scatterpolargl"
           }
          ],
          "scatterternary": [
           {
            "marker": {
             "colorbar": {
              "outlinewidth": 0,
              "ticks": ""
             }
            },
            "type": "scatterternary"
           }
          ],
          "surface": [
           {
            "colorbar": {
             "outlinewidth": 0,
             "ticks": ""
            },
            "colorscale": [
             [
              0,
              "#0d0887"
             ],
             [
              0.1111111111111111,
              "#46039f"
             ],
             [
              0.2222222222222222,
              "#7201a8"
             ],
             [
              0.3333333333333333,
              "#9c179e"
             ],
             [
              0.4444444444444444,
              "#bd3786"
             ],
             [
              0.5555555555555556,
              "#d8576b"
             ],
             [
              0.6666666666666666,
              "#ed7953"
             ],
             [
              0.7777777777777778,
              "#fb9f3a"
             ],
             [
              0.8888888888888888,
              "#fdca26"
             ],
             [
              1,
              "#f0f921"
             ]
            ],
            "type": "surface"
           }
          ],
          "table": [
           {
            "cells": {
             "fill": {
              "color": "#EBF0F8"
             },
             "line": {
              "color": "white"
             }
            },
            "header": {
             "fill": {
              "color": "#C8D4E3"
             },
             "line": {
              "color": "white"
             }
            },
            "type": "table"
           }
          ]
         },
         "layout": {
          "annotationdefaults": {
           "arrowcolor": "#2a3f5f",
           "arrowhead": 0,
           "arrowwidth": 1
          },
          "autotypenumbers": "strict",
          "coloraxis": {
           "colorbar": {
            "outlinewidth": 0,
            "ticks": ""
           }
          },
          "colorscale": {
           "diverging": [
            [
             0,
             "#8e0152"
            ],
            [
             0.1,
             "#c51b7d"
            ],
            [
             0.2,
             "#de77ae"
            ],
            [
             0.3,
             "#f1b6da"
            ],
            [
             0.4,
             "#fde0ef"
            ],
            [
             0.5,
             "#f7f7f7"
            ],
            [
             0.6,
             "#e6f5d0"
            ],
            [
             0.7,
             "#b8e186"
            ],
            [
             0.8,
             "#7fbc41"
            ],
            [
             0.9,
             "#4d9221"
            ],
            [
             1,
             "#276419"
            ]
           ],
           "sequential": [
            [
             0,
             "#0d0887"
            ],
            [
             0.1111111111111111,
             "#46039f"
            ],
            [
             0.2222222222222222,
             "#7201a8"
            ],
            [
             0.3333333333333333,
             "#9c179e"
            ],
            [
             0.4444444444444444,
             "#bd3786"
            ],
            [
             0.5555555555555556,
             "#d8576b"
            ],
            [
             0.6666666666666666,
             "#ed7953"
            ],
            [
             0.7777777777777778,
             "#fb9f3a"
            ],
            [
             0.8888888888888888,
             "#fdca26"
            ],
            [
             1,
             "#f0f921"
            ]
           ],
           "sequentialminus": [
            [
             0,
             "#0d0887"
            ],
            [
             0.1111111111111111,
             "#46039f"
            ],
            [
             0.2222222222222222,
             "#7201a8"
            ],
            [
             0.3333333333333333,
             "#9c179e"
            ],
            [
             0.4444444444444444,
             "#bd3786"
            ],
            [
             0.5555555555555556,
             "#d8576b"
            ],
            [
             0.6666666666666666,
             "#ed7953"
            ],
            [
             0.7777777777777778,
             "#fb9f3a"
            ],
            [
             0.8888888888888888,
             "#fdca26"
            ],
            [
             1,
             "#f0f921"
            ]
           ]
          },
          "colorway": [
           "#636efa",
           "#EF553B",
           "#00cc96",
           "#ab63fa",
           "#FFA15A",
           "#19d3f3",
           "#FF6692",
           "#B6E880",
           "#FF97FF",
           "#FECB52"
          ],
          "font": {
           "color": "#2a3f5f"
          },
          "geo": {
           "bgcolor": "white",
           "lakecolor": "white",
           "landcolor": "#E5ECF6",
           "showlakes": true,
           "showland": true,
           "subunitcolor": "white"
          },
          "hoverlabel": {
           "align": "left"
          },
          "hovermode": "closest",
          "mapbox": {
           "style": "light"
          },
          "paper_bgcolor": "white",
          "plot_bgcolor": "#E5ECF6",
          "polar": {
           "angularaxis": {
            "gridcolor": "white",
            "linecolor": "white",
            "ticks": ""
           },
           "bgcolor": "#E5ECF6",
           "radialaxis": {
            "gridcolor": "white",
            "linecolor": "white",
            "ticks": ""
           }
          },
          "scene": {
           "xaxis": {
            "backgroundcolor": "#E5ECF6",
            "gridcolor": "white",
            "gridwidth": 2,
            "linecolor": "white",
            "showbackground": true,
            "ticks": "",
            "zerolinecolor": "white"
           },
           "yaxis": {
            "backgroundcolor": "#E5ECF6",
            "gridcolor": "white",
            "gridwidth": 2,
            "linecolor": "white",
            "showbackground": true,
            "ticks": "",
            "zerolinecolor": "white"
           },
           "zaxis": {
            "backgroundcolor": "#E5ECF6",
            "gridcolor": "white",
            "gridwidth": 2,
            "linecolor": "white",
            "showbackground": true,
            "ticks": "",
            "zerolinecolor": "white"
           }
          },
          "shapedefaults": {
           "line": {
            "color": "#2a3f5f"
           }
          },
          "ternary": {
           "aaxis": {
            "gridcolor": "white",
            "linecolor": "white",
            "ticks": ""
           },
           "baxis": {
            "gridcolor": "white",
            "linecolor": "white",
            "ticks": ""
           },
           "bgcolor": "#E5ECF6",
           "caxis": {
            "gridcolor": "white",
            "linecolor": "white",
            "ticks": ""
           }
          },
          "title": {
           "x": 0.05
          },
          "xaxis": {
           "automargin": true,
           "gridcolor": "white",
           "linecolor": "white",
           "ticks": "",
           "title": {
            "standoff": 15
           },
           "zerolinecolor": "white",
           "zerolinewidth": 2
          },
          "yaxis": {
           "automargin": true,
           "gridcolor": "white",
           "linecolor": "white",
           "ticks": "",
           "title": {
            "standoff": 15
           },
           "zerolinecolor": "white",
           "zerolinewidth": 2
          }
         }
        }
       }
      }
     },
     "metadata": {}
    }
   ],
   "metadata": {}
  },
  {
   "cell_type": "code",
   "execution_count": null,
   "source": [],
   "outputs": [],
   "metadata": {}
  }
 ],
 "metadata": {
  "kernelspec": {
   "display_name": "Python 3",
   "language": "python",
   "name": "python3"
  },
  "language_info": {
   "codemirror_mode": {
    "name": "ipython",
    "version": 3
   },
   "file_extension": ".py",
   "mimetype": "text/x-python",
   "name": "python",
   "nbconvert_exporter": "python",
   "pygments_lexer": "ipython3",
   "version": "3.7.3"
  }
 },
 "nbformat": 4,
 "nbformat_minor": 5
}