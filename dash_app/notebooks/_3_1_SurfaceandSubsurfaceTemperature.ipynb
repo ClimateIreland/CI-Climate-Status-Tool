{
 "cells": [
  {
   "cell_type": "code",
   "execution_count": 1,
   "metadata": {},
   "outputs": [],
   "source": [
    "# to access root modules\n",
    "if __name__ == \"__main__\" and __package__ is None:\n",
    "    from sys import path\n",
    "    from os.path import dirname as dir\n",
    "\n",
    "    path.append(dir(path[0]))\n",
    "    __package__ = \"dash_app\""
   ]
  },
  {
   "cell_type": "code",
   "execution_count": 2,
   "metadata": {},
   "outputs": [],
   "source": [
    "import pandas as pd\n",
    "import numpy as np\n",
    "import datetime\n",
    "import dateutil\n",
    "import plotly.graph_objects as go\n",
    "from plotly.subplots import make_subplots\n",
    "from charts import stations_map\n",
    "from settings import *\n",
    "from charts import stations_map"
   ]
  },
  {
   "cell_type": "code",
   "execution_count": null,
   "metadata": {},
   "outputs": [],
   "source": [
    "STATION_COLORS = {\n",
    "    'Buoy': '#e69800',\n",
    "    'Synoptic': '#ff0000',\n",
    "    'Rainfall': '#ffff00',\n",
    "    'Climate': '#004da8',\n",
    "    'WaveRide/SmartBayObsCenter': '#ffff00',\n",
    "    'MI_Survey': '#ff0000',\n",
    "    'EPA': '#002673'\n",
    "}\n",
    "\n",
    "MAP_LAYOUT = dict(\n",
    "    legend=dict(title='<b>Station Type</b>',\n",
    "                x=0.01),\n",
    "    plot_bgcolor='rgba(0,0,0,0)',\n",
    "    paper_bgcolor='rgba(0,0,0,0)',\n",
    "    height=400,\n",
    "    margin=dict(t=0, b=0, r=0, l=0),\n",
    "    mapbox=dict(bearing=0,\n",
    "                center=dict(\n",
    "                    lat=53.4,\n",
    "                    lon=352\n",
    "                ),\n",
    "                pitch=0,\n",
    "                zoom=5,\n",
    "                style=\"open-street-map\"  # does not require token\n",
    "                )\n",
    ")\n",
    "\n",
    "def stations_map(df):\n",
    "\n",
    "    def stations_map_hovertemplate(df):\n",
    "        return ['Name: '+'{}<br>'.format(n)+'\n",
    "                'Type: '+'{}<br>'.format(t)+\n",
    "                'Station No.: '+'{}<br>'.format(sN)+\n",
    "                'County.: '+'{}<br>'.format(cnty)+\n",
    "                'Open Year.: '+'{}<br>'.format(oY)+\n",
    "                'Height: '+'{:.2f} m<br>'.format(h)+\n",
    "                # 'Easting: '+'{}'.format(easting)+'<br>' +\n",
    "                # 'Northing: '+'{}'.format(northing)+'<br>'\n",
    "                'Lat: '+'{:.2f} \\u00b0<br>'.format(lat)+\n",
    "                'Lon: '+'{:.2f} \\u00b0<br>'.format(lon)+\n",
    "                '<extra></extra>'\n",
    "                for n, t, sN, cnty, oY, cY, h, lat, lon in zip(list(df['name']),\n",
    "                                                                            list(\n",
    "                    df['Type']),\n",
    "            list(\n",
    "                    df['Station_Nu']),\n",
    "            list(\n",
    "                    df['County']),\n",
    "            list(\n",
    "                    df['Open_Year']),\n",
    "            list(\n",
    "                    df['Close_Year']),\n",
    "            list(\n",
    "                    df['Height__m_']),\n",
    "            # list(\n",
    "            #         df['Easting']),\n",
    "            # list(\n",
    "            #         df['Northing']),\n",
    "            list(\n",
    "                    df['Latitude']),\n",
    "            list(\n",
    "                    df['Longitude']),\n",
    "        )]\n",
    "\n",
    "    buoyDF = df.loc[df['Type'] == 'Buoy']\n",
    "    synopticDF = df.loc[df['Type'] == 'Synoptic']\n",
    "    rainfallDF = df.loc[df['Type'] == 'Rainfall']\n",
    "    climateDF = df.loc[df['Type'] == 'Climate']\n",
    "    tidbiTDF = df.loc[df['Type'] == 'TidbiT Sea Temperature Station']\n",
    "\n",
    "    tidbiTTrend = go.Scattermapbox(\n",
    "        name='tidbiT',\n",
    "        lon=tidbiTDF.Longitude,\n",
    "        lat=tidbiTDF.Latitude,\n",
    "        marker=dict(color=STATION_COLORS['Buoy'],\n",
    "                    size=7),\n",
    "        hovertemplate=stations_map_hovertemplate(tidbiTDF),\n",
    "    )\n",
    "\n",
    "    buoyTrend = go.Scattermapbox(\n",
    "        name='Buoys',\n",
    "        lon=buoyDF.Longitude,\n",
    "        lat=buoyDF.Latitude,\n",
    "        marker=dict(color=STATION_COLORS['Buoy'],\n",
    "                    size=7),\n",
    "        hovertemplate=stations_map_hovertemplate(buoyDF),\n",
    "    )\n",
    "    rainfallTrend = go.Scattermapbox(\n",
    "        name='Rainfall',\n",
    "        lon=rainfallDF.Longitude,\n",
    "        lat=rainfallDF.Latitude,\n",
    "        marker=dict(color=STATION_COLORS['Rainfall'],\n",
    "                    size=7),\n",
    "        hovertemplate=stations_map_hovertemplate(rainfallDF),\n",
    "    )\n",
    "\n",
    "    synopticTrend = go.Scattermapbox(\n",
    "        name='Synoptic',\n",
    "        lon=synopticDF.Longitude,\n",
    "        lat=synopticDF.Latitude,\n",
    "        marker=dict(color=STATION_COLORS['Synoptic'],\n",
    "                    size=7),\n",
    "        hovertemplate=stations_map_hovertemplate(synopticDF),\n",
    "    )\n",
    "\n",
    "    climateTrend = go.Scattermapbox(\n",
    "        name='Climate',\n",
    "        lon=climateDF.Longitude,\n",
    "        lat=climateDF.Latitude,\n",
    "        marker=dict(color=STATION_COLORS['Climate'],\n",
    "                    size=7),\n",
    "        hovertemplate=stations_map_hovertemplate(climateDF),\n",
    "    )\n",
    "    stations_map = go.Figure(\n",
    "        data=[buoyTrend, synopticTrend, rainfallTrend, climateTrend,tidbiTTrend],\n",
    "        layout=MAP_LAYOUT)\n",
    "    \n",
    "    return stations_map\n",
    "\n"
   ]
  },
  {
   "cell_type": "code",
   "execution_count": null,
   "metadata": {},
   "outputs": [],
   "source": [
    "data_path = DATA_PATH+'Oceanic_Domain/3.1OceanSurfaceSubsurfaceTemperature/Figure3.1/'\n",
    "xls = pd.ExcelFile(\n",
    "    data_path+'MeanAnnualSeaSurfaceTemperature_Anomalies_MalinHead.xlsx')\n",
    "df = pd.read_excel(xls, 'MALIN_Timeseries')\n",
    "movingAverageTotals = df.temperature.rolling(window=5, center=True).mean() \n",
    "df[\"5 Year Moving Average - Mean\"]=movingAverageTotals\n",
    "df"
   ]
  },
  {
   "cell_type": "code",
   "execution_count": null,
   "metadata": {},
   "outputs": [],
   "source": [
    "\n",
    "annualTrace = go.Bar(x=df[\"year\"],\n",
    "                     y=df[\"Calculated Anomalies\"],\n",
    "                     text=df[\"temperature\"],\n",
    "                     name='Annual',\n",
    "                     marker=dict(\n",
    "                            # color=\"#214a7b\", color used in report\n",
    "                            color=TIMESERIES_COLOR_2,\n",
    "                            opacity=0.5\n",
    "                            ),\n",
    "                     hovertemplate='%{x}<br>' +\n",
    "                            '<b>Annual</b><br>' +\n",
    "                            'Total: %{text:.2f} °C<br>' +\n",
    "                            'Anomaly: %{y:.2f} °C<extra></extra>'\n",
    "                            )\n",
    "movingAverage = go.Scatter(x=df[\"year\"],\n",
    "                     y=df[\"5 year moving average\"],\n",
    "                     text=df[\"5 Year Moving Average - Mean\"],\n",
    "                     name='5yr Moving Average',\n",
    "                     mode='lines',  # 'line' is default\n",
    "                     line_shape='spline',\n",
    "                     line=dict(\n",
    "                            # color=\"#fc0d1b\", color used in report\n",
    "                            color=TIMESERIES_COLOR_1,\n",
    "                            width=2),\n",
    "                     hovertemplate='%{x}<br>' +\n",
    "                            '<b>5yr Moving Average</b><br>' +\n",
    "                            'Total: %{text:.2f} °C<br>' +\n",
    "                            'Anomaly: %{y:.2f} °C<extra></extra>'\n",
    "                            )\n",
    "normal = go.Scatter(x=df[\"year\"],\n",
    "                     y=df[\"Unnamed: 5\"],\n",
    "                     name='1981-2010 Normal',\n",
    "                     mode='lines',  # 'line' is default\n",
    "                     line_shape='spline',\n",
    "                     line=dict(color=\"#fdbf2d\", #color used in report\n",
    "                               width=1),\n",
    "                     hoverinfo='skip',\n",
    "                            )\n",
    "\n"
   ]
  },
  {
   "cell_type": "code",
   "execution_count": null,
   "metadata": {},
   "outputs": [],
   "source": [
    "figure_3_1 = make_subplots(specs=[[{'secondary_y': True}]])\n",
    "figure_3_1.add_trace(annualTrace,\n",
    "            secondary_y=False,)\n",
    "figure_3_1.add_trace(movingAverage,\n",
    "            secondary_y=False,)\n",
    "figure_3_1.add_trace(normal,\n",
    "            secondary_y=True,)\n",
    "\n",
    "figure_3_1.update_layout(TIMESERIES_LAYOUT)\n",
    "figure_3_1.update_yaxes(title_text='Difference (°C) from 1981-2010 Normal',\n",
    "                        secondary_y=False,\n",
    "                        range=[-1, 1],\n",
    "                        showgrid=False,\n",
    "                        dtick=0.25,  # dtick sets the distance between ticks\n",
    "                        tick0=0,  # tick0 sets a point to map the other ticks\n",
    "                        fixedrange=True,\n",
    "                        showspikes=True,\n",
    "                        # zeroline=True,  # add a zero line\n",
    "                        # zerolinecolor=TIMESERIES_COLOR_2\n",
    "                        )\n",
    "figure_3_1.update_yaxes(title_text='Annual SST (°C)',\n",
    "                        secondary_y=True,\n",
    "                        range=[9.5, 11.6],\n",
    "                        showgrid=False,\n",
    "                        dtick=0.5,  # dtick sets the distance between ticks\n",
    "                        tick0=10.6,  # tick0 sets a point to map the other ticks\n",
    "                        fixedrange=True,\n",
    "                        )\n",
    "\n",
    "figure_3_1.update_xaxes(\n",
    "    title='Year',\n",
    "    fixedrange=True,\n",
    "    tickformat='000',  \n",
    "    showspikes=True,  \n",
    "    spikethickness=2, \n",
    ") \n"
   ]
  },
  {
   "cell_type": "code",
   "execution_count": null,
   "metadata": {},
   "outputs": [],
   "source": [
    "data_path = DATA_PATH+'Oceanic_Domain/3.1OceanSurfaceSubsurfaceTemperature/Figure3.3/'\n",
    "xls = pd.ExcelFile(\n",
    "    data_path+'SubSurfaceTemperature_Anomalies_Rockall.xlsx')\n",
    "df = xls.parse('Depth_Rockall', skiprows=20, index_col=None, na_values=['NA'])\n",
    "# df = pd.read_excel(xls, 'Depth_Rockall')\n",
    "# movingAverageTotals = df.temperature.rolling(window=5, center=True).mean() \n",
    "# df[\"5 Year Moving Average - Mean\"]=movingAverageTotals\n",
    "df"
   ]
  },
  {
   "cell_type": "code",
   "execution_count": null,
   "metadata": {},
   "outputs": [],
   "source": [
    "annualTrace = go.Bar(x=df[\"Decimal Year\"],\n",
    "                     y=df[\"Temperature Anomaly °C\"],\n",
    "                     text=df[\"Temperature °C\"],\n",
    "                     name='Annual',\n",
    "                     marker=dict(\n",
    "                            # color=\"#214a7b\", color used in report\n",
    "                            color=TIMESERIES_COLOR_2,\n",
    "                            opacity=0.5\n",
    "                            ),\n",
    "                     hovertemplate='%{x}<br>' +\n",
    "                            '<b>Annual</b><br>' +\n",
    "                            'Total: %{text:.2f} °C<br>' +\n",
    "                            'Anomaly: %{y:.2f} °C<extra></extra>'\n",
    "                            )\n",
    "movingAverage = go.Scatter(x=df[\"Decimal Year\"],\n",
    "                     y=df[\"5 year moving average\"],\n",
    "                    #  text=df[\"5 Year Moving Average - Mean\"],\n",
    "                     name='5yr Moving Average',\n",
    "                     mode='lines',  # 'line' is default\n",
    "                     line_shape='spline',\n",
    "                     line=dict(\n",
    "                            # color=\"#fc0d1b\", color used in report\n",
    "                            color=TIMESERIES_COLOR_1,\n",
    "                            width=2),\n",
    "                     hovertemplate='%{x}<br>' +\n",
    "                            '<b>5yr Moving Average</b><br>' +\n",
    "                            # 'Total: %{text:.2f} °C<br>' +\n",
    "                            'Anomaly: %{y:.2f} °C<extra></extra>'\n",
    "                            )\n",
    "normal = go.Scatter(x=df[\"Decimal Year\"],\n",
    "                     y=df[\"1981-2010 (Normalized)\"],\n",
    "                     name='1981-2010 Normal',\n",
    "                     mode='lines',  # 'line' is default\n",
    "                     line_shape='spline',\n",
    "                     line=dict(color=\"#fdbf2d\", #color used in report\n",
    "                               width=1),\n",
    "                     hoverinfo='skip',\n",
    "                            )\n"
   ]
  },
  {
   "cell_type": "code",
   "execution_count": null,
   "metadata": {},
   "outputs": [],
   "source": [
    "figure_3_3 = make_subplots(specs=[[{'secondary_y': True}]])\n",
    "figure_3_3.add_trace(annualTrace,\n",
    "            secondary_y=False,)\n",
    "figure_3_3.add_trace(movingAverage,\n",
    "            secondary_y=False,)\n",
    "figure_3_3.add_trace(normal,\n",
    "            secondary_y=True,)\n",
    "\n",
    "figure_3_3.update_layout(TIMESERIES_LAYOUT)\n",
    "figure_3_3.update_yaxes(title_text='Difference (°C) from 1981-2010 Normal',\n",
    "                        secondary_y=False,\n",
    "                        range=[-0.25, 0.45],\n",
    "                        showgrid=False,\n",
    "                        dtick=0.05,  # dtick sets the distance between ticks\n",
    "                        tick0=0,  # tick0 sets a point to map the other ticks\n",
    "                        fixedrange=True,\n",
    "                        showspikes=True,\n",
    "                        # zeroline=True,  # add a zero line\n",
    "                        # zerolinecolor=TIMESERIES_COLOR_2\n",
    "                        )\n",
    "figure_3_3.update_yaxes(title_text='Annual SST (°C)',\n",
    "                        secondary_y=True,\n",
    "                        range=[3.93, 4.59],\n",
    "                        showgrid=False,\n",
    "                        dtick=0.1,  # dtick sets the distance between ticks\n",
    "                        tick0=4.17,  # tick0 sets a point to map the other ticks\n",
    "                        fixedrange=True,\n",
    "                        )\n",
    "\n",
    "figure_3_3.update_xaxes(\n",
    "    title='Year',\n",
    "    fixedrange=True,\n",
    "    tickformat='000',  \n",
    "    showspikes=True,  \n",
    "    spikethickness=2, \n",
    ") \n"
   ]
  },
  {
   "cell_type": "code",
   "execution_count": 3,
   "metadata": {},
   "outputs": [
    {
     "data": {
      "text/html": [
       "<div>\n",
       "<style scoped>\n",
       "    .dataframe tbody tr th:only-of-type {\n",
       "        vertical-align: middle;\n",
       "    }\n",
       "\n",
       "    .dataframe tbody tr th {\n",
       "        vertical-align: top;\n",
       "    }\n",
       "\n",
       "    .dataframe thead th {\n",
       "        text-align: right;\n",
       "    }\n",
       "</style>\n",
       "<table border=\"1\" class=\"dataframe\">\n",
       "  <thead>\n",
       "    <tr style=\"text-align: right;\">\n",
       "      <th></th>\n",
       "      <th>FID</th>\n",
       "      <th>County</th>\n",
       "      <th>Station_Nu</th>\n",
       "      <th>name</th>\n",
       "      <th>Height__m_</th>\n",
       "      <th>Easting</th>\n",
       "      <th>Northing</th>\n",
       "      <th>Latitude</th>\n",
       "      <th>Longitude</th>\n",
       "      <th>Open_Year</th>\n",
       "      <th>Close_Year</th>\n",
       "      <th>Type</th>\n",
       "    </tr>\n",
       "  </thead>\n",
       "  <tbody>\n",
       "    <tr>\n",
       "      <th>0</th>\n",
       "      <td>0</td>\n",
       "      <td>Buoys</td>\n",
       "      <td>62091</td>\n",
       "      <td>M2_Buoy</td>\n",
       "      <td>0</td>\n",
       "      <td>0</td>\n",
       "      <td>0</td>\n",
       "      <td>53.483600</td>\n",
       "      <td>-5.430200</td>\n",
       "      <td>2001</td>\n",
       "      <td></td>\n",
       "      <td>Buoy</td>\n",
       "    </tr>\n",
       "    <tr>\n",
       "      <th>1</th>\n",
       "      <td>1</td>\n",
       "      <td>Buoys</td>\n",
       "      <td>62092</td>\n",
       "      <td>M3_Buoy</td>\n",
       "      <td>0</td>\n",
       "      <td>0</td>\n",
       "      <td>0</td>\n",
       "      <td>51.215958</td>\n",
       "      <td>-10.548261</td>\n",
       "      <td>2002</td>\n",
       "      <td></td>\n",
       "      <td>Buoy</td>\n",
       "    </tr>\n",
       "    <tr>\n",
       "      <th>2</th>\n",
       "      <td>2</td>\n",
       "      <td>Buoys</td>\n",
       "      <td>62093</td>\n",
       "      <td>M4_Buoy</td>\n",
       "      <td>0</td>\n",
       "      <td>0</td>\n",
       "      <td>0</td>\n",
       "      <td>54.666700</td>\n",
       "      <td>-9.066700</td>\n",
       "      <td>2007</td>\n",
       "      <td></td>\n",
       "      <td>Buoy</td>\n",
       "    </tr>\n",
       "    <tr>\n",
       "      <th>3</th>\n",
       "      <td>3</td>\n",
       "      <td>Buoys</td>\n",
       "      <td>62094</td>\n",
       "      <td>M5_Buoy</td>\n",
       "      <td>0</td>\n",
       "      <td>0</td>\n",
       "      <td>0</td>\n",
       "      <td>51.690426</td>\n",
       "      <td>-6.704336</td>\n",
       "      <td>2004</td>\n",
       "      <td></td>\n",
       "      <td>Buoy</td>\n",
       "    </tr>\n",
       "    <tr>\n",
       "      <th>4</th>\n",
       "      <td>4</td>\n",
       "      <td>Buoys</td>\n",
       "      <td>62095</td>\n",
       "      <td>M6_Buoy</td>\n",
       "      <td>0</td>\n",
       "      <td>0</td>\n",
       "      <td>0</td>\n",
       "      <td>53.074820</td>\n",
       "      <td>-15.881350</td>\n",
       "      <td>2006</td>\n",
       "      <td></td>\n",
       "      <td>BuoySubSurf</td>\n",
       "    </tr>\n",
       "    <tr>\n",
       "      <th>5</th>\n",
       "      <td>5</td>\n",
       "      <td>Donegal</td>\n",
       "      <td>1575</td>\n",
       "      <td>Malin_head</td>\n",
       "      <td>20</td>\n",
       "      <td>241939</td>\n",
       "      <td>458562</td>\n",
       "      <td>55.372000</td>\n",
       "      <td>-7.339000</td>\n",
       "      <td>2009</td>\n",
       "      <td></td>\n",
       "      <td>Synoptic</td>\n",
       "    </tr>\n",
       "    <tr>\n",
       "      <th>6</th>\n",
       "      <td>6</td>\n",
       "      <td>Mayo</td>\n",
       "      <td>0</td>\n",
       "      <td>Amets (Erris Peninsua)</td>\n",
       "      <td>0</td>\n",
       "      <td>0</td>\n",
       "      <td>0</td>\n",
       "      <td>54.231766</td>\n",
       "      <td>-10.142453</td>\n",
       "      <td>0</td>\n",
       "      <td></td>\n",
       "      <td>WaveRide</td>\n",
       "    </tr>\n",
       "    <tr>\n",
       "      <th>7</th>\n",
       "      <td>7</td>\n",
       "      <td>Galway</td>\n",
       "      <td>0</td>\n",
       "      <td>SmartBay Wave Buoy</td>\n",
       "      <td>0</td>\n",
       "      <td>0</td>\n",
       "      <td>0</td>\n",
       "      <td>53.228233</td>\n",
       "      <td>-9.268115</td>\n",
       "      <td>0</td>\n",
       "      <td></td>\n",
       "      <td>WaveRide/SmartBayObsCenter</td>\n",
       "    </tr>\n",
       "    <tr>\n",
       "      <th>8</th>\n",
       "      <td>8</td>\n",
       "      <td>Cork</td>\n",
       "      <td>0</td>\n",
       "      <td>Ballycotton Harbour Tide Gauge</td>\n",
       "      <td>0</td>\n",
       "      <td>0</td>\n",
       "      <td>0</td>\n",
       "      <td>51.827800</td>\n",
       "      <td>-8.000700</td>\n",
       "      <td>0</td>\n",
       "      <td></td>\n",
       "      <td>TideGauge</td>\n",
       "    </tr>\n",
       "  </tbody>\n",
       "</table>\n",
       "</div>"
      ],
      "text/plain": [
       "   FID   County  Station_Nu                            name  Height__m_  \\\n",
       "0    0    Buoys       62091                         M2_Buoy           0   \n",
       "1    1    Buoys       62092                         M3_Buoy           0   \n",
       "2    2    Buoys       62093                         M4_Buoy           0   \n",
       "3    3    Buoys       62094                         M5_Buoy           0   \n",
       "4    4    Buoys       62095                         M6_Buoy           0   \n",
       "5    5  Donegal        1575                      Malin_head          20   \n",
       "6    6     Mayo           0          Amets (Erris Peninsua)           0   \n",
       "7    7   Galway           0              SmartBay Wave Buoy           0   \n",
       "8    8     Cork           0  Ballycotton Harbour Tide Gauge           0   \n",
       "\n",
       "   Easting  Northing   Latitude  Longitude  Open_Year Close_Year  \\\n",
       "0        0         0  53.483600  -5.430200       2001              \n",
       "1        0         0  51.215958 -10.548261       2002              \n",
       "2        0         0  54.666700  -9.066700       2007              \n",
       "3        0         0  51.690426  -6.704336       2004              \n",
       "4        0         0  53.074820 -15.881350       2006              \n",
       "5   241939    458562  55.372000  -7.339000       2009              \n",
       "6        0         0  54.231766 -10.142453          0              \n",
       "7        0         0  53.228233  -9.268115          0              \n",
       "8        0         0  51.827800  -8.000700          0              \n",
       "\n",
       "                         Type  \n",
       "0                        Buoy  \n",
       "1                        Buoy  \n",
       "2                        Buoy  \n",
       "3                        Buoy  \n",
       "4                 BuoySubSurf  \n",
       "5                    Synoptic  \n",
       "6                    WaveRide  \n",
       "7  WaveRide/SmartBayObsCenter  \n",
       "8                   TideGauge  "
      ]
     },
     "execution_count": 3,
     "metadata": {},
     "output_type": "execute_result"
    }
   ],
   "source": [
    "\"\"\"\n",
    "Infrastructure Map\n",
    "\"\"\"\n",
    "DATA_PATH=\"/Users/dan/OneDrive - University College Cork/Status_Tool/\"\n",
    "data_path = DATA_PATH+'Oceanic_Domain/3.1OceanSurfaceSubsurfaceTemperature/Map3.1/'\n",
    "stationsDF = pd.read_csv(\n",
    "            data_path+'Map3.1_StationTable_MI.txt')\n",
    "\n",
    "rockallDF = pd.read_csv(\n",
    "            data_path+'Map3.1_StationTable_RockallTroughSection.txt')\n",
    "ellettLineDF = pd.read_csv(\n",
    "            data_path+'Map3.1_StationTable_ExtendedEllettLineBuoy.txt')\n",
    "tidbiDF = pd.read_csv(\n",
    "            data_path+'Map3.1_StationTable_TidbiT.txt')\n",
    "stationsDF "
   ]
  },
  {
   "cell_type": "code",
   "execution_count": 4,
   "metadata": {},
   "outputs": [
    {
     "data": {
      "text/html": [
       "<div>\n",
       "<style scoped>\n",
       "    .dataframe tbody tr th:only-of-type {\n",
       "        vertical-align: middle;\n",
       "    }\n",
       "\n",
       "    .dataframe tbody tr th {\n",
       "        vertical-align: top;\n",
       "    }\n",
       "\n",
       "    .dataframe thead th {\n",
       "        text-align: right;\n",
       "    }\n",
       "</style>\n",
       "<table border=\"1\" class=\"dataframe\">\n",
       "  <thead>\n",
       "    <tr style=\"text-align: right;\">\n",
       "      <th></th>\n",
       "      <th>FID</th>\n",
       "      <th>County</th>\n",
       "      <th>Station_Nu</th>\n",
       "      <th>name</th>\n",
       "      <th>Height__m_</th>\n",
       "      <th>Easting</th>\n",
       "      <th>Northing</th>\n",
       "      <th>Latitude</th>\n",
       "      <th>Longitude</th>\n",
       "      <th>Open_Year</th>\n",
       "      <th>Close_Year</th>\n",
       "      <th>Type</th>\n",
       "    </tr>\n",
       "  </thead>\n",
       "  <tbody>\n",
       "    <tr>\n",
       "      <th>4</th>\n",
       "      <td>4</td>\n",
       "      <td>Buoys</td>\n",
       "      <td>62095</td>\n",
       "      <td>M6_Buoy</td>\n",
       "      <td>0</td>\n",
       "      <td>0</td>\n",
       "      <td>0</td>\n",
       "      <td>53.074820</td>\n",
       "      <td>-15.881350</td>\n",
       "      <td>2006</td>\n",
       "      <td></td>\n",
       "      <td>BuoySubSurf</td>\n",
       "    </tr>\n",
       "    <tr>\n",
       "      <th>7</th>\n",
       "      <td>7</td>\n",
       "      <td>Galway</td>\n",
       "      <td>0</td>\n",
       "      <td>SmartBay Wave Buoy</td>\n",
       "      <td>0</td>\n",
       "      <td>0</td>\n",
       "      <td>0</td>\n",
       "      <td>53.228233</td>\n",
       "      <td>-9.268115</td>\n",
       "      <td>0</td>\n",
       "      <td></td>\n",
       "      <td>WaveRide/SmartBayObsCenter</td>\n",
       "    </tr>\n",
       "  </tbody>\n",
       "</table>\n",
       "</div>"
      ],
      "text/plain": [
       "   FID  County  Station_Nu                name  Height__m_  Easting  Northing  \\\n",
       "4    4   Buoys       62095             M6_Buoy           0        0         0   \n",
       "7    7  Galway           0  SmartBay Wave Buoy           0        0         0   \n",
       "\n",
       "    Latitude  Longitude  Open_Year Close_Year                        Type  \n",
       "4  53.074820 -15.881350       2006                            BuoySubSurf  \n",
       "7  53.228233  -9.268115          0             WaveRide/SmartBayObsCenter  "
      ]
     },
     "execution_count": 4,
     "metadata": {},
     "output_type": "execute_result"
    }
   ],
   "source": [
    "stationsDF_subsurface = stationsDF[stationsDF['name'].isin(['M6_Buoy', 'SmartBay Wave Buoy'])]\n",
    "stationsDF_subsurface"
   ]
  },
  {
   "cell_type": "code",
   "execution_count": 5,
   "metadata": {},
   "outputs": [
    {
     "data": {
      "text/plain": [
       "Index(['FID', 'County', 'Station_Nu', 'name', 'Height__m_', 'Easting',\n",
       "       'Northing', 'Latitude', 'Longitude', 'Open_Year', 'Close_Year', 'Type'],\n",
       "      dtype='object')"
      ]
     },
     "execution_count": 5,
     "metadata": {},
     "output_type": "execute_result"
    }
   ],
   "source": [
    "rockallDF.columns"
   ]
  },
  {
   "cell_type": "code",
   "execution_count": 6,
   "metadata": {},
   "outputs": [
    {
     "data": {
      "text/html": [
       "<div>\n",
       "<style scoped>\n",
       "    .dataframe tbody tr th:only-of-type {\n",
       "        vertical-align: middle;\n",
       "    }\n",
       "\n",
       "    .dataframe tbody tr th {\n",
       "        vertical-align: top;\n",
       "    }\n",
       "\n",
       "    .dataframe thead th {\n",
       "        text-align: right;\n",
       "    }\n",
       "</style>\n",
       "<table border=\"1\" class=\"dataframe\">\n",
       "  <thead>\n",
       "    <tr style=\"text-align: right;\">\n",
       "      <th></th>\n",
       "      <th>FID</th>\n",
       "      <th>County</th>\n",
       "      <th>Station_Nu</th>\n",
       "      <th>name</th>\n",
       "      <th>Height__m_</th>\n",
       "      <th>Easting</th>\n",
       "      <th>Northing</th>\n",
       "      <th>Latitude</th>\n",
       "      <th>Longitude</th>\n",
       "      <th>Open_Year</th>\n",
       "      <th>Close_Year</th>\n",
       "      <th>Type</th>\n",
       "    </tr>\n",
       "  </thead>\n",
       "  <tbody>\n",
       "    <tr>\n",
       "      <th>0</th>\n",
       "      <td>0</td>\n",
       "      <td>NaN</td>\n",
       "      <td>NaN</td>\n",
       "      <td>NaN</td>\n",
       "      <td>NaN</td>\n",
       "      <td>NaN</td>\n",
       "      <td>NaN</td>\n",
       "      <td>57.551807</td>\n",
       "      <td>-7.401944</td>\n",
       "      <td>NaN</td>\n",
       "      <td>NaN</td>\n",
       "      <td>ExtendedEllettLineBuoy</td>\n",
       "    </tr>\n",
       "    <tr>\n",
       "      <th>1</th>\n",
       "      <td>1</td>\n",
       "      <td>NaN</td>\n",
       "      <td>NaN</td>\n",
       "      <td>RockallTroughSection</td>\n",
       "      <td>NaN</td>\n",
       "      <td>NaN</td>\n",
       "      <td>NaN</td>\n",
       "      <td>57.500000</td>\n",
       "      <td>-11.000000</td>\n",
       "      <td>NaN</td>\n",
       "      <td>NaN</td>\n",
       "      <td>ExtendedEllettLineBuoy</td>\n",
       "    </tr>\n",
       "    <tr>\n",
       "      <th>2</th>\n",
       "      <td>2</td>\n",
       "      <td>NaN</td>\n",
       "      <td>NaN</td>\n",
       "      <td>NaN</td>\n",
       "      <td>NaN</td>\n",
       "      <td>NaN</td>\n",
       "      <td>NaN</td>\n",
       "      <td>57.485966</td>\n",
       "      <td>-12.221432</td>\n",
       "      <td>NaN</td>\n",
       "      <td>NaN</td>\n",
       "      <td>ExtendedEllettLineBuoy</td>\n",
       "    </tr>\n",
       "    <tr>\n",
       "      <th>3</th>\n",
       "      <td>3</td>\n",
       "      <td>NaN</td>\n",
       "      <td>NaN</td>\n",
       "      <td>NaN</td>\n",
       "      <td>NaN</td>\n",
       "      <td>NaN</td>\n",
       "      <td>NaN</td>\n",
       "      <td>57.621053</td>\n",
       "      <td>-13.527829</td>\n",
       "      <td>NaN</td>\n",
       "      <td>NaN</td>\n",
       "      <td>ExtendedEllettLineBuoy</td>\n",
       "    </tr>\n",
       "    <tr>\n",
       "      <th>4</th>\n",
       "      <td>4</td>\n",
       "      <td>NaN</td>\n",
       "      <td>NaN</td>\n",
       "      <td>NaN</td>\n",
       "      <td>NaN</td>\n",
       "      <td>NaN</td>\n",
       "      <td>NaN</td>\n",
       "      <td>57.647061</td>\n",
       "      <td>-13.744957</td>\n",
       "      <td>NaN</td>\n",
       "      <td>NaN</td>\n",
       "      <td>ExtendedEllettLineBuoy</td>\n",
       "    </tr>\n",
       "    <tr>\n",
       "      <th>5</th>\n",
       "      <td>5</td>\n",
       "      <td>NaN</td>\n",
       "      <td>NaN</td>\n",
       "      <td>NaN</td>\n",
       "      <td>NaN</td>\n",
       "      <td>NaN</td>\n",
       "      <td>NaN</td>\n",
       "      <td>57.850607</td>\n",
       "      <td>-14.224175</td>\n",
       "      <td>NaN</td>\n",
       "      <td>NaN</td>\n",
       "      <td>ExtendedEllettLineBuoy</td>\n",
       "    </tr>\n",
       "    <tr>\n",
       "      <th>6</th>\n",
       "      <td>6</td>\n",
       "      <td>NaN</td>\n",
       "      <td>NaN</td>\n",
       "      <td>NaN</td>\n",
       "      <td>NaN</td>\n",
       "      <td>NaN</td>\n",
       "      <td>NaN</td>\n",
       "      <td>58.233196</td>\n",
       "      <td>-15.308031</td>\n",
       "      <td>NaN</td>\n",
       "      <td>NaN</td>\n",
       "      <td>ExtendedEllettLineBuoy</td>\n",
       "    </tr>\n",
       "    <tr>\n",
       "      <th>7</th>\n",
       "      <td>7</td>\n",
       "      <td>NaN</td>\n",
       "      <td>NaN</td>\n",
       "      <td>NaN</td>\n",
       "      <td>NaN</td>\n",
       "      <td>NaN</td>\n",
       "      <td>NaN</td>\n",
       "      <td>58.644685</td>\n",
       "      <td>-16.520445</td>\n",
       "      <td>NaN</td>\n",
       "      <td>NaN</td>\n",
       "      <td>ExtendedEllettLineBuoy</td>\n",
       "    </tr>\n",
       "    <tr>\n",
       "      <th>8</th>\n",
       "      <td>8</td>\n",
       "      <td>NaN</td>\n",
       "      <td>NaN</td>\n",
       "      <td>NaN</td>\n",
       "      <td>NaN</td>\n",
       "      <td>NaN</td>\n",
       "      <td>NaN</td>\n",
       "      <td>59.025936</td>\n",
       "      <td>-17.324367</td>\n",
       "      <td>NaN</td>\n",
       "      <td>NaN</td>\n",
       "      <td>ExtendedEllettLineBuoy</td>\n",
       "    </tr>\n",
       "    <tr>\n",
       "      <th>9</th>\n",
       "      <td>9</td>\n",
       "      <td>NaN</td>\n",
       "      <td>NaN</td>\n",
       "      <td>NaN</td>\n",
       "      <td>NaN</td>\n",
       "      <td>NaN</td>\n",
       "      <td>NaN</td>\n",
       "      <td>59.454925</td>\n",
       "      <td>-18.289291</td>\n",
       "      <td>NaN</td>\n",
       "      <td>NaN</td>\n",
       "      <td>ExtendedEllettLineBuoy</td>\n",
       "    </tr>\n",
       "    <tr>\n",
       "      <th>10</th>\n",
       "      <td>10</td>\n",
       "      <td>NaN</td>\n",
       "      <td>NaN</td>\n",
       "      <td>NaN</td>\n",
       "      <td>NaN</td>\n",
       "      <td>NaN</td>\n",
       "      <td>NaN</td>\n",
       "      <td>60.035695</td>\n",
       "      <td>-19.751237</td>\n",
       "      <td>NaN</td>\n",
       "      <td>NaN</td>\n",
       "      <td>ExtendedEllettLineBuoy</td>\n",
       "    </tr>\n",
       "    <tr>\n",
       "      <th>11</th>\n",
       "      <td>11</td>\n",
       "      <td>NaN</td>\n",
       "      <td>NaN</td>\n",
       "      <td>NaN</td>\n",
       "      <td>NaN</td>\n",
       "      <td>NaN</td>\n",
       "      <td>NaN</td>\n",
       "      <td>60.359073</td>\n",
       "      <td>-19.840006</td>\n",
       "      <td>NaN</td>\n",
       "      <td>NaN</td>\n",
       "      <td>ExtendedEllettLineBuoy</td>\n",
       "    </tr>\n",
       "    <tr>\n",
       "      <th>12</th>\n",
       "      <td>12</td>\n",
       "      <td>NaN</td>\n",
       "      <td>NaN</td>\n",
       "      <td>NaN</td>\n",
       "      <td>NaN</td>\n",
       "      <td>NaN</td>\n",
       "      <td>NaN</td>\n",
       "      <td>60.758484</td>\n",
       "      <td>-19.885956</td>\n",
       "      <td>NaN</td>\n",
       "      <td>NaN</td>\n",
       "      <td>ExtendedEllettLineBuoy</td>\n",
       "    </tr>\n",
       "    <tr>\n",
       "      <th>13</th>\n",
       "      <td>13</td>\n",
       "      <td>NaN</td>\n",
       "      <td>NaN</td>\n",
       "      <td>NaN</td>\n",
       "      <td>NaN</td>\n",
       "      <td>NaN</td>\n",
       "      <td>NaN</td>\n",
       "      <td>60.765456</td>\n",
       "      <td>-19.888574</td>\n",
       "      <td>NaN</td>\n",
       "      <td>NaN</td>\n",
       "      <td>ExtendedEllettLineBuoy</td>\n",
       "    </tr>\n",
       "  </tbody>\n",
       "</table>\n",
       "</div>"
      ],
      "text/plain": [
       "    FID  County  Station_Nu                  name  Height__m_  Easting  \\\n",
       "0     0     NaN         NaN                   NaN         NaN      NaN   \n",
       "1     1     NaN         NaN  RockallTroughSection         NaN      NaN   \n",
       "2     2     NaN         NaN                   NaN         NaN      NaN   \n",
       "3     3     NaN         NaN                   NaN         NaN      NaN   \n",
       "4     4     NaN         NaN                   NaN         NaN      NaN   \n",
       "5     5     NaN         NaN                   NaN         NaN      NaN   \n",
       "6     6     NaN         NaN                   NaN         NaN      NaN   \n",
       "7     7     NaN         NaN                   NaN         NaN      NaN   \n",
       "8     8     NaN         NaN                   NaN         NaN      NaN   \n",
       "9     9     NaN         NaN                   NaN         NaN      NaN   \n",
       "10   10     NaN         NaN                   NaN         NaN      NaN   \n",
       "11   11     NaN         NaN                   NaN         NaN      NaN   \n",
       "12   12     NaN         NaN                   NaN         NaN      NaN   \n",
       "13   13     NaN         NaN                   NaN         NaN      NaN   \n",
       "\n",
       "    Northing   Latitude  Longitude  Open_Year  Close_Year  \\\n",
       "0        NaN  57.551807  -7.401944        NaN         NaN   \n",
       "1        NaN  57.500000 -11.000000        NaN         NaN   \n",
       "2        NaN  57.485966 -12.221432        NaN         NaN   \n",
       "3        NaN  57.621053 -13.527829        NaN         NaN   \n",
       "4        NaN  57.647061 -13.744957        NaN         NaN   \n",
       "5        NaN  57.850607 -14.224175        NaN         NaN   \n",
       "6        NaN  58.233196 -15.308031        NaN         NaN   \n",
       "7        NaN  58.644685 -16.520445        NaN         NaN   \n",
       "8        NaN  59.025936 -17.324367        NaN         NaN   \n",
       "9        NaN  59.454925 -18.289291        NaN         NaN   \n",
       "10       NaN  60.035695 -19.751237        NaN         NaN   \n",
       "11       NaN  60.359073 -19.840006        NaN         NaN   \n",
       "12       NaN  60.758484 -19.885956        NaN         NaN   \n",
       "13       NaN  60.765456 -19.888574        NaN         NaN   \n",
       "\n",
       "                      Type  \n",
       "0   ExtendedEllettLineBuoy  \n",
       "1   ExtendedEllettLineBuoy  \n",
       "2   ExtendedEllettLineBuoy  \n",
       "3   ExtendedEllettLineBuoy  \n",
       "4   ExtendedEllettLineBuoy  \n",
       "5   ExtendedEllettLineBuoy  \n",
       "6   ExtendedEllettLineBuoy  \n",
       "7   ExtendedEllettLineBuoy  \n",
       "8   ExtendedEllettLineBuoy  \n",
       "9   ExtendedEllettLineBuoy  \n",
       "10  ExtendedEllettLineBuoy  \n",
       "11  ExtendedEllettLineBuoy  \n",
       "12  ExtendedEllettLineBuoy  \n",
       "13  ExtendedEllettLineBuoy  "
      ]
     },
     "execution_count": 6,
     "metadata": {},
     "output_type": "execute_result"
    }
   ],
   "source": [
    "ellettLineDF"
   ]
  },
  {
   "cell_type": "code",
   "execution_count": 7,
   "metadata": {},
   "outputs": [
    {
     "data": {
      "text/html": [
       "<div>\n",
       "<style scoped>\n",
       "    .dataframe tbody tr th:only-of-type {\n",
       "        vertical-align: middle;\n",
       "    }\n",
       "\n",
       "    .dataframe tbody tr th {\n",
       "        vertical-align: top;\n",
       "    }\n",
       "\n",
       "    .dataframe thead th {\n",
       "        text-align: right;\n",
       "    }\n",
       "</style>\n",
       "<table border=\"1\" class=\"dataframe\">\n",
       "  <thead>\n",
       "    <tr style=\"text-align: right;\">\n",
       "      <th></th>\n",
       "      <th>FID</th>\n",
       "      <th>County</th>\n",
       "      <th>Station_Nu</th>\n",
       "      <th>name</th>\n",
       "      <th>Height__m_</th>\n",
       "      <th>Easting</th>\n",
       "      <th>Northing</th>\n",
       "      <th>Latitude</th>\n",
       "      <th>Longitude</th>\n",
       "      <th>Open_Year</th>\n",
       "      <th>Close_Year</th>\n",
       "      <th>Type</th>\n",
       "    </tr>\n",
       "  </thead>\n",
       "  <tbody>\n",
       "    <tr>\n",
       "      <th>0</th>\n",
       "      <td>0</td>\n",
       "      <td>NaN</td>\n",
       "      <td>0</td>\n",
       "      <td>RockallTroughSection</td>\n",
       "      <td>0</td>\n",
       "      <td>0</td>\n",
       "      <td>0</td>\n",
       "      <td>57.5</td>\n",
       "      <td>-11.0</td>\n",
       "      <td>0</td>\n",
       "      <td>0</td>\n",
       "      <td>ExtendedElletLineBuoy</td>\n",
       "    </tr>\n",
       "  </tbody>\n",
       "</table>\n",
       "</div>"
      ],
      "text/plain": [
       "   FID  County  Station_Nu                  name  Height__m_  Easting  \\\n",
       "0    0     NaN           0  RockallTroughSection           0        0   \n",
       "\n",
       "   Northing  Latitude  Longitude  Open_Year  Close_Year                   Type  \n",
       "0         0      57.5      -11.0          0           0  ExtendedElletLineBuoy  "
      ]
     },
     "execution_count": 7,
     "metadata": {},
     "output_type": "execute_result"
    }
   ],
   "source": [
    "rockallDF"
   ]
  },
  {
   "cell_type": "code",
   "execution_count": 8,
   "metadata": {},
   "outputs": [
    {
     "data": {
      "text/html": [
       "<div>\n",
       "<style scoped>\n",
       "    .dataframe tbody tr th:only-of-type {\n",
       "        vertical-align: middle;\n",
       "    }\n",
       "\n",
       "    .dataframe tbody tr th {\n",
       "        vertical-align: top;\n",
       "    }\n",
       "\n",
       "    .dataframe thead th {\n",
       "        text-align: right;\n",
       "    }\n",
       "</style>\n",
       "<table border=\"1\" class=\"dataframe\">\n",
       "  <thead>\n",
       "    <tr style=\"text-align: right;\">\n",
       "      <th></th>\n",
       "      <th>FID</th>\n",
       "      <th>County</th>\n",
       "      <th>Station_Nu</th>\n",
       "      <th>name</th>\n",
       "      <th>Height__m_</th>\n",
       "      <th>Easting</th>\n",
       "      <th>Northing</th>\n",
       "      <th>Latitude</th>\n",
       "      <th>Longitude</th>\n",
       "      <th>Open_Year</th>\n",
       "      <th>Close_Year</th>\n",
       "      <th>Type</th>\n",
       "    </tr>\n",
       "  </thead>\n",
       "  <tbody>\n",
       "    <tr>\n",
       "      <th>0</th>\n",
       "      <td>NaN</td>\n",
       "      <td>NaN</td>\n",
       "      <td>NaN</td>\n",
       "      <td>Gearhies_Cuan Baoi</td>\n",
       "      <td>NaN</td>\n",
       "      <td>NaN</td>\n",
       "      <td>NaN</td>\n",
       "      <td>51.65131</td>\n",
       "      <td>-9.58638</td>\n",
       "      <td>2004</td>\n",
       "      <td>2016</td>\n",
       "      <td>TidbiT Sea Temperature Station</td>\n",
       "    </tr>\n",
       "    <tr>\n",
       "      <th>1</th>\n",
       "      <td>NaN</td>\n",
       "      <td>NaN</td>\n",
       "      <td>NaN</td>\n",
       "      <td>Palmers Point</td>\n",
       "      <td>NaN</td>\n",
       "      <td>NaN</td>\n",
       "      <td>NaN</td>\n",
       "      <td>51.64444</td>\n",
       "      <td>-9.80871</td>\n",
       "      <td>2004</td>\n",
       "      <td>2016</td>\n",
       "      <td>TidbiT Sea Temperature Station</td>\n",
       "    </tr>\n",
       "    <tr>\n",
       "      <th>2</th>\n",
       "      <td>NaN</td>\n",
       "      <td>NaN</td>\n",
       "      <td>NaN</td>\n",
       "      <td>Inishfanard</td>\n",
       "      <td>NaN</td>\n",
       "      <td>NaN</td>\n",
       "      <td>NaN</td>\n",
       "      <td>51.72552</td>\n",
       "      <td>-9.99875</td>\n",
       "      <td>2004</td>\n",
       "      <td>2016</td>\n",
       "      <td>TidbiT Sea Temperature Station</td>\n",
       "    </tr>\n",
       "    <tr>\n",
       "      <th>3</th>\n",
       "      <td>NaN</td>\n",
       "      <td>NaN</td>\n",
       "      <td>NaN</td>\n",
       "      <td>Red Flag</td>\n",
       "      <td>NaN</td>\n",
       "      <td>NaN</td>\n",
       "      <td>NaN</td>\n",
       "      <td>53.23706</td>\n",
       "      <td>-9.78851</td>\n",
       "      <td>2015</td>\n",
       "      <td>2016</td>\n",
       "      <td>TidbiT Sea Temperature Station</td>\n",
       "    </tr>\n",
       "    <tr>\n",
       "      <th>4</th>\n",
       "      <td>NaN</td>\n",
       "      <td>NaN</td>\n",
       "      <td>NaN</td>\n",
       "      <td>Ardmore</td>\n",
       "      <td>NaN</td>\n",
       "      <td>NaN</td>\n",
       "      <td>NaN</td>\n",
       "      <td>53.30030</td>\n",
       "      <td>-9.76548</td>\n",
       "      <td>2004</td>\n",
       "      <td>2016</td>\n",
       "      <td>TidbiT Sea Temperature Station</td>\n",
       "    </tr>\n",
       "    <tr>\n",
       "      <th>5</th>\n",
       "      <td>NaN</td>\n",
       "      <td>NaN</td>\n",
       "      <td>NaN</td>\n",
       "      <td>Oilean Iariath</td>\n",
       "      <td>NaN</td>\n",
       "      <td>NaN</td>\n",
       "      <td>NaN</td>\n",
       "      <td>53.28818</td>\n",
       "      <td>-9.73658</td>\n",
       "      <td>2004</td>\n",
       "      <td>2016</td>\n",
       "      <td>TidbiT Sea Temperature Station</td>\n",
       "    </tr>\n",
       "    <tr>\n",
       "      <th>6</th>\n",
       "      <td>NaN</td>\n",
       "      <td>NaN</td>\n",
       "      <td>NaN</td>\n",
       "      <td>Sea_Lax</td>\n",
       "      <td>NaN</td>\n",
       "      <td>NaN</td>\n",
       "      <td>NaN</td>\n",
       "      <td>53.37476</td>\n",
       "      <td>-9.86870</td>\n",
       "      <td>2005</td>\n",
       "      <td>2016</td>\n",
       "      <td>TidbiT Sea Temperature Station</td>\n",
       "    </tr>\n",
       "    <tr>\n",
       "      <th>7</th>\n",
       "      <td>NaN</td>\n",
       "      <td>NaN</td>\n",
       "      <td>NaN</td>\n",
       "      <td>Fraochoilean</td>\n",
       "      <td>NaN</td>\n",
       "      <td>NaN</td>\n",
       "      <td>NaN</td>\n",
       "      <td>53.57500</td>\n",
       "      <td>-10.03503</td>\n",
       "      <td>2004</td>\n",
       "      <td>2016</td>\n",
       "      <td>TidbiT Sea Temperature Station</td>\n",
       "    </tr>\n",
       "    <tr>\n",
       "      <th>8</th>\n",
       "      <td>NaN</td>\n",
       "      <td>NaN</td>\n",
       "      <td>NaN</td>\n",
       "      <td>Inishdeighil</td>\n",
       "      <td>NaN</td>\n",
       "      <td>NaN</td>\n",
       "      <td>NaN</td>\n",
       "      <td>53.60768</td>\n",
       "      <td>-9.90281</td>\n",
       "      <td>2004</td>\n",
       "      <td>2016</td>\n",
       "      <td>TidbiT Sea Temperature Station</td>\n",
       "    </tr>\n",
       "    <tr>\n",
       "      <th>9</th>\n",
       "      <td>NaN</td>\n",
       "      <td>NaN</td>\n",
       "      <td>NaN</td>\n",
       "      <td>Rosroe</td>\n",
       "      <td>NaN</td>\n",
       "      <td>NaN</td>\n",
       "      <td>NaN</td>\n",
       "      <td>53.62400</td>\n",
       "      <td>-9.86386</td>\n",
       "      <td>2004</td>\n",
       "      <td>2016</td>\n",
       "      <td>TidbiT Sea Temperature Station</td>\n",
       "    </tr>\n",
       "    <tr>\n",
       "      <th>10</th>\n",
       "      <td>NaN</td>\n",
       "      <td>NaN</td>\n",
       "      <td>NaN</td>\n",
       "      <td>Inishoo Bay</td>\n",
       "      <td>NaN</td>\n",
       "      <td>NaN</td>\n",
       "      <td>NaN</td>\n",
       "      <td>53.85300</td>\n",
       "      <td>-9.66300</td>\n",
       "      <td>2015</td>\n",
       "      <td>2016</td>\n",
       "      <td>TidbiT Sea Temperature Station</td>\n",
       "    </tr>\n",
       "    <tr>\n",
       "      <th>11</th>\n",
       "      <td>NaN</td>\n",
       "      <td>NaN</td>\n",
       "      <td>NaN</td>\n",
       "      <td>Portlea</td>\n",
       "      <td>NaN</td>\n",
       "      <td>NaN</td>\n",
       "      <td>NaN</td>\n",
       "      <td>53.80253</td>\n",
       "      <td>-9.90420</td>\n",
       "      <td>2004</td>\n",
       "      <td>2016</td>\n",
       "      <td>TidbiT Sea Temperature Station</td>\n",
       "    </tr>\n",
       "    <tr>\n",
       "      <th>12</th>\n",
       "      <td>NaN</td>\n",
       "      <td>NaN</td>\n",
       "      <td>NaN</td>\n",
       "      <td>Eany</td>\n",
       "      <td>NaN</td>\n",
       "      <td>NaN</td>\n",
       "      <td>NaN</td>\n",
       "      <td>54.63394</td>\n",
       "      <td>-8.30100</td>\n",
       "      <td>2015</td>\n",
       "      <td>2016</td>\n",
       "      <td>TidbiT Sea Temperature Station</td>\n",
       "    </tr>\n",
       "    <tr>\n",
       "      <th>13</th>\n",
       "      <td>NaN</td>\n",
       "      <td>NaN</td>\n",
       "      <td>NaN</td>\n",
       "      <td>Cranford</td>\n",
       "      <td>NaN</td>\n",
       "      <td>NaN</td>\n",
       "      <td>NaN</td>\n",
       "      <td>55.16029</td>\n",
       "      <td>-7.69615</td>\n",
       "      <td>2004</td>\n",
       "      <td>2016</td>\n",
       "      <td>TidbiT Sea Temperature Station</td>\n",
       "    </tr>\n",
       "    <tr>\n",
       "      <th>14</th>\n",
       "      <td>NaN</td>\n",
       "      <td>NaN</td>\n",
       "      <td>NaN</td>\n",
       "      <td>Salt Point</td>\n",
       "      <td>NaN</td>\n",
       "      <td>NaN</td>\n",
       "      <td>NaN</td>\n",
       "      <td>53.38459</td>\n",
       "      <td>-9.85832</td>\n",
       "      <td>2004</td>\n",
       "      <td>2016</td>\n",
       "      <td>TidbiT Sea Temperature Station</td>\n",
       "    </tr>\n",
       "    <tr>\n",
       "      <th>15</th>\n",
       "      <td>NaN</td>\n",
       "      <td>NaN</td>\n",
       "      <td>NaN</td>\n",
       "      <td>Seastream</td>\n",
       "      <td>NaN</td>\n",
       "      <td>NaN</td>\n",
       "      <td>NaN</td>\n",
       "      <td>53.87899</td>\n",
       "      <td>-9.64964</td>\n",
       "      <td>2004</td>\n",
       "      <td>2016</td>\n",
       "      <td>TidbiT Sea Temperature Station</td>\n",
       "    </tr>\n",
       "    <tr>\n",
       "      <th>16</th>\n",
       "      <td>NaN</td>\n",
       "      <td>NaN</td>\n",
       "      <td>NaN</td>\n",
       "      <td>Ardbear</td>\n",
       "      <td>NaN</td>\n",
       "      <td>NaN</td>\n",
       "      <td>NaN</td>\n",
       "      <td>53.48499</td>\n",
       "      <td>-10.06718</td>\n",
       "      <td>2004</td>\n",
       "      <td>2016</td>\n",
       "      <td>TidbiT Sea Temperature Station</td>\n",
       "    </tr>\n",
       "    <tr>\n",
       "      <th>17</th>\n",
       "      <td>NaN</td>\n",
       "      <td>NaN</td>\n",
       "      <td>NaN</td>\n",
       "      <td>Doon point</td>\n",
       "      <td>NaN</td>\n",
       "      <td>NaN</td>\n",
       "      <td>NaN</td>\n",
       "      <td>51.73769</td>\n",
       "      <td>-9.96920</td>\n",
       "      <td>2003</td>\n",
       "      <td>2016</td>\n",
       "      <td>TidbiT Sea Temperature Station</td>\n",
       "    </tr>\n",
       "    <tr>\n",
       "      <th>18</th>\n",
       "      <td>NaN</td>\n",
       "      <td>NaN</td>\n",
       "      <td>NaN</td>\n",
       "      <td>Kilmacilogue</td>\n",
       "      <td>NaN</td>\n",
       "      <td>NaN</td>\n",
       "      <td>NaN</td>\n",
       "      <td>51.77133</td>\n",
       "      <td>-9.81448</td>\n",
       "      <td>2004</td>\n",
       "      <td>2016</td>\n",
       "      <td>TidbiT Sea Temperature Station</td>\n",
       "    </tr>\n",
       "    <tr>\n",
       "      <th>19</th>\n",
       "      <td>NaN</td>\n",
       "      <td>NaN</td>\n",
       "      <td>NaN</td>\n",
       "      <td>Casheen</td>\n",
       "      <td>NaN</td>\n",
       "      <td>NaN</td>\n",
       "      <td>NaN</td>\n",
       "      <td>53.25299</td>\n",
       "      <td>-9.72885</td>\n",
       "      <td>2004</td>\n",
       "      <td>2016</td>\n",
       "      <td>TidbiT Sea Temperature Station</td>\n",
       "    </tr>\n",
       "    <tr>\n",
       "      <th>20</th>\n",
       "      <td>NaN</td>\n",
       "      <td>NaN</td>\n",
       "      <td>NaN</td>\n",
       "      <td>Golam</td>\n",
       "      <td>NaN</td>\n",
       "      <td>NaN</td>\n",
       "      <td>NaN</td>\n",
       "      <td>53.23728</td>\n",
       "      <td>-9.75460</td>\n",
       "      <td>2004</td>\n",
       "      <td>2016</td>\n",
       "      <td>TidbiT Sea Temperature Station</td>\n",
       "    </tr>\n",
       "    <tr>\n",
       "      <th>21</th>\n",
       "      <td>NaN</td>\n",
       "      <td>NaN</td>\n",
       "      <td>NaN</td>\n",
       "      <td>Daonish</td>\n",
       "      <td>NaN</td>\n",
       "      <td>NaN</td>\n",
       "      <td>NaN</td>\n",
       "      <td>53.25299</td>\n",
       "      <td>-9.72885</td>\n",
       "      <td>2015</td>\n",
       "      <td>2016</td>\n",
       "      <td>TidbiT Sea Temperature Station</td>\n",
       "    </tr>\n",
       "    <tr>\n",
       "      <th>22</th>\n",
       "      <td>NaN</td>\n",
       "      <td>NaN</td>\n",
       "      <td>NaN</td>\n",
       "      <td>Roancarraig</td>\n",
       "      <td>NaN</td>\n",
       "      <td>NaN</td>\n",
       "      <td>NaN</td>\n",
       "      <td>51.65612</td>\n",
       "      <td>-9.77859</td>\n",
       "      <td>2015</td>\n",
       "      <td>2016</td>\n",
       "      <td>TidbiT Sea Temperature Station</td>\n",
       "    </tr>\n",
       "    <tr>\n",
       "      <th>23</th>\n",
       "      <td>NaN</td>\n",
       "      <td>NaN</td>\n",
       "      <td>NaN</td>\n",
       "      <td>Curraun</td>\n",
       "      <td>NaN</td>\n",
       "      <td>NaN</td>\n",
       "      <td>NaN</td>\n",
       "      <td>53.91796</td>\n",
       "      <td>-9.79876</td>\n",
       "      <td>2005</td>\n",
       "      <td>2016</td>\n",
       "      <td>TidbiT Sea Temperature Station</td>\n",
       "    </tr>\n",
       "    <tr>\n",
       "      <th>24</th>\n",
       "      <td>NaN</td>\n",
       "      <td>NaN</td>\n",
       "      <td>NaN</td>\n",
       "      <td>Leaghan Pool</td>\n",
       "      <td>NaN</td>\n",
       "      <td>NaN</td>\n",
       "      <td>NaN</td>\n",
       "      <td>53.40120</td>\n",
       "      <td>-9.82660</td>\n",
       "      <td>2015</td>\n",
       "      <td>2016</td>\n",
       "      <td>TidbiT Sea Temperature Station</td>\n",
       "    </tr>\n",
       "    <tr>\n",
       "      <th>25</th>\n",
       "      <td>NaN</td>\n",
       "      <td>NaN</td>\n",
       "      <td>NaN</td>\n",
       "      <td>Gearhies_Cuan Baoi_2</td>\n",
       "      <td>NaN</td>\n",
       "      <td>NaN</td>\n",
       "      <td>NaN</td>\n",
       "      <td>51.65750</td>\n",
       "      <td>-9.54889</td>\n",
       "      <td>2015</td>\n",
       "      <td>2016</td>\n",
       "      <td>TidbiT Sea Temperature Station</td>\n",
       "    </tr>\n",
       "    <tr>\n",
       "      <th>26</th>\n",
       "      <td>NaN</td>\n",
       "      <td>NaN</td>\n",
       "      <td>NaN</td>\n",
       "      <td>Salt Point_2</td>\n",
       "      <td>NaN</td>\n",
       "      <td>NaN</td>\n",
       "      <td>NaN</td>\n",
       "      <td>53.37806</td>\n",
       "      <td>-9.87306</td>\n",
       "      <td>2015</td>\n",
       "      <td>2016</td>\n",
       "      <td>TidbiT Sea Temperature Station</td>\n",
       "    </tr>\n",
       "    <tr>\n",
       "      <th>27</th>\n",
       "      <td>NaN</td>\n",
       "      <td>NaN</td>\n",
       "      <td>NaN</td>\n",
       "      <td>Portlea_2</td>\n",
       "      <td>NaN</td>\n",
       "      <td>NaN</td>\n",
       "      <td>NaN</td>\n",
       "      <td>53.81816</td>\n",
       "      <td>-9.95336</td>\n",
       "      <td>2015</td>\n",
       "      <td>2016</td>\n",
       "      <td>TidbiT Sea Temperature Station</td>\n",
       "    </tr>\n",
       "    <tr>\n",
       "      <th>28</th>\n",
       "      <td>NaN</td>\n",
       "      <td>NaN</td>\n",
       "      <td>NaN</td>\n",
       "      <td>Cranford_2</td>\n",
       "      <td>NaN</td>\n",
       "      <td>NaN</td>\n",
       "      <td>NaN</td>\n",
       "      <td>55.15361</td>\n",
       "      <td>-7.68389</td>\n",
       "      <td>2015</td>\n",
       "      <td>2016</td>\n",
       "      <td>TidbiT Sea Temperature Station</td>\n",
       "    </tr>\n",
       "    <tr>\n",
       "      <th>29</th>\n",
       "      <td>NaN</td>\n",
       "      <td>NaN</td>\n",
       "      <td>NaN</td>\n",
       "      <td>Cnoc</td>\n",
       "      <td>NaN</td>\n",
       "      <td>NaN</td>\n",
       "      <td>NaN</td>\n",
       "      <td>53.27041</td>\n",
       "      <td>-9.71382</td>\n",
       "      <td>2015</td>\n",
       "      <td>2016</td>\n",
       "      <td>TidbiT Sea Temperature Station</td>\n",
       "    </tr>\n",
       "    <tr>\n",
       "      <th>30</th>\n",
       "      <td>NaN</td>\n",
       "      <td>NaN</td>\n",
       "      <td>NaN</td>\n",
       "      <td>Lettercallow</td>\n",
       "      <td>NaN</td>\n",
       "      <td>NaN</td>\n",
       "      <td>NaN</td>\n",
       "      <td>53.29162</td>\n",
       "      <td>-9.70244</td>\n",
       "      <td>2015</td>\n",
       "      <td>2016</td>\n",
       "      <td>TidbiT Sea Temperature Station</td>\n",
       "    </tr>\n",
       "    <tr>\n",
       "      <th>31</th>\n",
       "      <td>NaN</td>\n",
       "      <td>NaN</td>\n",
       "      <td>NaN</td>\n",
       "      <td>McSwynes</td>\n",
       "      <td>NaN</td>\n",
       "      <td>NaN</td>\n",
       "      <td>NaN</td>\n",
       "      <td>54.61404</td>\n",
       "      <td>-8.41341</td>\n",
       "      <td>2015</td>\n",
       "      <td>2016</td>\n",
       "      <td>TidbiT Sea Temperature Station</td>\n",
       "    </tr>\n",
       "    <tr>\n",
       "      <th>32</th>\n",
       "      <td>NaN</td>\n",
       "      <td>NaN</td>\n",
       "      <td>NaN</td>\n",
       "      <td>Hawks Nest</td>\n",
       "      <td>NaN</td>\n",
       "      <td>NaN</td>\n",
       "      <td>NaN</td>\n",
       "      <td>53.48499</td>\n",
       "      <td>-10.06718</td>\n",
       "      <td>2015</td>\n",
       "      <td>2016</td>\n",
       "      <td>TidbiT Sea Temperature Station</td>\n",
       "    </tr>\n",
       "    <tr>\n",
       "      <th>33</th>\n",
       "      <td>NaN</td>\n",
       "      <td>NaN</td>\n",
       "      <td>NaN</td>\n",
       "      <td>Ocean Inver</td>\n",
       "      <td>NaN</td>\n",
       "      <td>NaN</td>\n",
       "      <td>NaN</td>\n",
       "      <td>54.61034</td>\n",
       "      <td>-8.35322</td>\n",
       "      <td>2015</td>\n",
       "      <td>2016</td>\n",
       "      <td>TidbiT Sea Temperature Station</td>\n",
       "    </tr>\n",
       "    <tr>\n",
       "      <th>34</th>\n",
       "      <td>NaN</td>\n",
       "      <td>NaN</td>\n",
       "      <td>NaN</td>\n",
       "      <td>Deenish</td>\n",
       "      <td>NaN</td>\n",
       "      <td>NaN</td>\n",
       "      <td>NaN</td>\n",
       "      <td>51.73955</td>\n",
       "      <td>-10.21234</td>\n",
       "      <td>2015</td>\n",
       "      <td>2016</td>\n",
       "      <td>TidbiT Sea Temperature Station</td>\n",
       "    </tr>\n",
       "    <tr>\n",
       "      <th>35</th>\n",
       "      <td>NaN</td>\n",
       "      <td>NaN</td>\n",
       "      <td>NaN</td>\n",
       "      <td>Creevin - Inver</td>\n",
       "      <td>NaN</td>\n",
       "      <td>NaN</td>\n",
       "      <td>NaN</td>\n",
       "      <td>54.62928</td>\n",
       "      <td>-8.29014</td>\n",
       "      <td>2004</td>\n",
       "      <td>2016</td>\n",
       "      <td>TidbiT Sea Temperature Station</td>\n",
       "    </tr>\n",
       "    <tr>\n",
       "      <th>36</th>\n",
       "      <td>NaN</td>\n",
       "      <td>NaN</td>\n",
       "      <td>NaN</td>\n",
       "      <td>Killary Inner_Mussel_Line</td>\n",
       "      <td>NaN</td>\n",
       "      <td>NaN</td>\n",
       "      <td>NaN</td>\n",
       "      <td>53.60000</td>\n",
       "      <td>-9.75528</td>\n",
       "      <td>2015</td>\n",
       "      <td>2016</td>\n",
       "      <td>TidbiT Sea Temperature Station</td>\n",
       "    </tr>\n",
       "    <tr>\n",
       "      <th>37</th>\n",
       "      <td>NaN</td>\n",
       "      <td>NaN</td>\n",
       "      <td>NaN</td>\n",
       "      <td>Killary Middle_Mussel_Line</td>\n",
       "      <td>NaN</td>\n",
       "      <td>NaN</td>\n",
       "      <td>NaN</td>\n",
       "      <td>53.60389</td>\n",
       "      <td>-9.80278</td>\n",
       "      <td>2015</td>\n",
       "      <td>2016</td>\n",
       "      <td>TidbiT Sea Temperature Station</td>\n",
       "    </tr>\n",
       "  </tbody>\n",
       "</table>\n",
       "</div>"
      ],
      "text/plain": [
       "    FID County Station_Nu                        name Height__m_ Easting  \\\n",
       "0   NaN    NaN        NaN          Gearhies_Cuan Baoi        NaN     NaN   \n",
       "1   NaN    NaN        NaN               Palmers Point        NaN     NaN   \n",
       "2   NaN    NaN        NaN                 Inishfanard        NaN     NaN   \n",
       "3   NaN    NaN        NaN                    Red Flag        NaN     NaN   \n",
       "4   NaN    NaN        NaN                     Ardmore        NaN     NaN   \n",
       "5   NaN    NaN        NaN              Oilean Iariath        NaN     NaN   \n",
       "6   NaN    NaN        NaN                     Sea_Lax        NaN     NaN   \n",
       "7   NaN    NaN        NaN                Fraochoilean        NaN     NaN   \n",
       "8   NaN    NaN        NaN                Inishdeighil        NaN     NaN   \n",
       "9   NaN    NaN        NaN                      Rosroe        NaN     NaN   \n",
       "10  NaN    NaN        NaN                 Inishoo Bay        NaN     NaN   \n",
       "11  NaN    NaN        NaN                     Portlea        NaN     NaN   \n",
       "12  NaN    NaN        NaN                        Eany        NaN     NaN   \n",
       "13  NaN    NaN        NaN                    Cranford        NaN     NaN   \n",
       "14  NaN    NaN        NaN                  Salt Point        NaN     NaN   \n",
       "15  NaN    NaN        NaN                   Seastream        NaN     NaN   \n",
       "16  NaN    NaN        NaN                     Ardbear        NaN     NaN   \n",
       "17  NaN    NaN        NaN                  Doon point        NaN     NaN   \n",
       "18  NaN    NaN        NaN                Kilmacilogue        NaN     NaN   \n",
       "19  NaN    NaN        NaN                     Casheen        NaN     NaN   \n",
       "20  NaN    NaN        NaN                       Golam        NaN     NaN   \n",
       "21  NaN    NaN        NaN                     Daonish        NaN     NaN   \n",
       "22  NaN    NaN        NaN                 Roancarraig        NaN     NaN   \n",
       "23  NaN    NaN        NaN                     Curraun        NaN     NaN   \n",
       "24  NaN    NaN        NaN                Leaghan Pool        NaN     NaN   \n",
       "25  NaN    NaN        NaN        Gearhies_Cuan Baoi_2        NaN     NaN   \n",
       "26  NaN    NaN        NaN                Salt Point_2        NaN     NaN   \n",
       "27  NaN    NaN        NaN                   Portlea_2        NaN     NaN   \n",
       "28  NaN    NaN        NaN                  Cranford_2        NaN     NaN   \n",
       "29  NaN    NaN        NaN                        Cnoc        NaN     NaN   \n",
       "30  NaN    NaN        NaN                Lettercallow        NaN     NaN   \n",
       "31  NaN    NaN        NaN                    McSwynes        NaN     NaN   \n",
       "32  NaN    NaN        NaN                  Hawks Nest        NaN     NaN   \n",
       "33  NaN    NaN        NaN                 Ocean Inver        NaN     NaN   \n",
       "34  NaN    NaN        NaN                     Deenish        NaN     NaN   \n",
       "35  NaN    NaN        NaN             Creevin - Inver        NaN     NaN   \n",
       "36  NaN    NaN        NaN   Killary Inner_Mussel_Line        NaN     NaN   \n",
       "37  NaN    NaN        NaN  Killary Middle_Mussel_Line        NaN     NaN   \n",
       "\n",
       "   Northing  Latitude  Longitude  Open_Year  Close_Year  \\\n",
       "0       NaN  51.65131   -9.58638       2004        2016   \n",
       "1       NaN  51.64444   -9.80871       2004        2016   \n",
       "2       NaN  51.72552   -9.99875       2004        2016   \n",
       "3       NaN  53.23706   -9.78851       2015        2016   \n",
       "4       NaN  53.30030   -9.76548       2004        2016   \n",
       "5       NaN  53.28818   -9.73658       2004        2016   \n",
       "6       NaN  53.37476   -9.86870       2005        2016   \n",
       "7       NaN  53.57500  -10.03503       2004        2016   \n",
       "8       NaN  53.60768   -9.90281       2004        2016   \n",
       "9       NaN  53.62400   -9.86386       2004        2016   \n",
       "10      NaN  53.85300   -9.66300       2015        2016   \n",
       "11      NaN  53.80253   -9.90420       2004        2016   \n",
       "12      NaN  54.63394   -8.30100       2015        2016   \n",
       "13      NaN  55.16029   -7.69615       2004        2016   \n",
       "14      NaN  53.38459   -9.85832       2004        2016   \n",
       "15      NaN  53.87899   -9.64964       2004        2016   \n",
       "16      NaN  53.48499  -10.06718       2004        2016   \n",
       "17      NaN  51.73769   -9.96920       2003        2016   \n",
       "18      NaN  51.77133   -9.81448       2004        2016   \n",
       "19      NaN  53.25299   -9.72885       2004        2016   \n",
       "20      NaN  53.23728   -9.75460       2004        2016   \n",
       "21      NaN  53.25299   -9.72885       2015        2016   \n",
       "22      NaN  51.65612   -9.77859       2015        2016   \n",
       "23      NaN  53.91796   -9.79876       2005        2016   \n",
       "24      NaN  53.40120   -9.82660       2015        2016   \n",
       "25      NaN  51.65750   -9.54889       2015        2016   \n",
       "26      NaN  53.37806   -9.87306       2015        2016   \n",
       "27      NaN  53.81816   -9.95336       2015        2016   \n",
       "28      NaN  55.15361   -7.68389       2015        2016   \n",
       "29      NaN  53.27041   -9.71382       2015        2016   \n",
       "30      NaN  53.29162   -9.70244       2015        2016   \n",
       "31      NaN  54.61404   -8.41341       2015        2016   \n",
       "32      NaN  53.48499  -10.06718       2015        2016   \n",
       "33      NaN  54.61034   -8.35322       2015        2016   \n",
       "34      NaN  51.73955  -10.21234       2015        2016   \n",
       "35      NaN  54.62928   -8.29014       2004        2016   \n",
       "36      NaN  53.60000   -9.75528       2015        2016   \n",
       "37      NaN  53.60389   -9.80278       2015        2016   \n",
       "\n",
       "                              Type  \n",
       "0   TidbiT Sea Temperature Station  \n",
       "1   TidbiT Sea Temperature Station  \n",
       "2   TidbiT Sea Temperature Station  \n",
       "3   TidbiT Sea Temperature Station  \n",
       "4   TidbiT Sea Temperature Station  \n",
       "5   TidbiT Sea Temperature Station  \n",
       "6   TidbiT Sea Temperature Station  \n",
       "7   TidbiT Sea Temperature Station  \n",
       "8   TidbiT Sea Temperature Station  \n",
       "9   TidbiT Sea Temperature Station  \n",
       "10  TidbiT Sea Temperature Station  \n",
       "11  TidbiT Sea Temperature Station  \n",
       "12  TidbiT Sea Temperature Station  \n",
       "13  TidbiT Sea Temperature Station  \n",
       "14  TidbiT Sea Temperature Station  \n",
       "15  TidbiT Sea Temperature Station  \n",
       "16  TidbiT Sea Temperature Station  \n",
       "17  TidbiT Sea Temperature Station  \n",
       "18  TidbiT Sea Temperature Station  \n",
       "19  TidbiT Sea Temperature Station  \n",
       "20  TidbiT Sea Temperature Station  \n",
       "21  TidbiT Sea Temperature Station  \n",
       "22  TidbiT Sea Temperature Station  \n",
       "23  TidbiT Sea Temperature Station  \n",
       "24  TidbiT Sea Temperature Station  \n",
       "25  TidbiT Sea Temperature Station  \n",
       "26  TidbiT Sea Temperature Station  \n",
       "27  TidbiT Sea Temperature Station  \n",
       "28  TidbiT Sea Temperature Station  \n",
       "29  TidbiT Sea Temperature Station  \n",
       "30  TidbiT Sea Temperature Station  \n",
       "31  TidbiT Sea Temperature Station  \n",
       "32  TidbiT Sea Temperature Station  \n",
       "33  TidbiT Sea Temperature Station  \n",
       "34  TidbiT Sea Temperature Station  \n",
       "35  TidbiT Sea Temperature Station  \n",
       "36  TidbiT Sea Temperature Station  \n",
       "37  TidbiT Sea Temperature Station  "
      ]
     },
     "execution_count": 8,
     "metadata": {},
     "output_type": "execute_result"
    }
   ],
   "source": [
    "tidbiDFNew=pd.DataFrame(columns=rockallDF.columns)\n",
    "tidbiDFNew['name']=tidbiDF[\"localId\"]\n",
    "tidbiDFNew['Latitude']=tidbiDF[\"latitude\"]\n",
    "tidbiDFNew['Longitude']=tidbiDF[\"longitude\"]\n",
    "tidbiDFNew['Open_Year']=pd.to_datetime(tidbiDF[\"beginLifes\"]).dt.year\n",
    "tidbiDFNew['Close_Year']=pd.to_datetime(tidbiDF[\"endLifespa\"]).dt.year\n",
    "tidbiDFNew['Type']=tidbiDF[\"datasetNam\"]\n",
    "tidbiDFNew"
   ]
  },
  {
   "cell_type": "code",
   "execution_count": 9,
   "metadata": {},
   "outputs": [
    {
     "data": {
      "text/html": [
       "<div>\n",
       "<style scoped>\n",
       "    .dataframe tbody tr th:only-of-type {\n",
       "        vertical-align: middle;\n",
       "    }\n",
       "\n",
       "    .dataframe tbody tr th {\n",
       "        vertical-align: top;\n",
       "    }\n",
       "\n",
       "    .dataframe thead th {\n",
       "        text-align: right;\n",
       "    }\n",
       "</style>\n",
       "<table border=\"1\" class=\"dataframe\">\n",
       "  <thead>\n",
       "    <tr style=\"text-align: right;\">\n",
       "      <th></th>\n",
       "      <th>FID</th>\n",
       "      <th>County</th>\n",
       "      <th>Station_Nu</th>\n",
       "      <th>name</th>\n",
       "      <th>Height__m_</th>\n",
       "      <th>Easting</th>\n",
       "      <th>Northing</th>\n",
       "      <th>Latitude</th>\n",
       "      <th>Longitude</th>\n",
       "      <th>Open_Year</th>\n",
       "      <th>Close_Year</th>\n",
       "      <th>Type</th>\n",
       "    </tr>\n",
       "  </thead>\n",
       "  <tbody>\n",
       "    <tr>\n",
       "      <th>0</th>\n",
       "      <td>0</td>\n",
       "      <td>Buoys</td>\n",
       "      <td>62091</td>\n",
       "      <td>M2_Buoy</td>\n",
       "      <td>0</td>\n",
       "      <td>0</td>\n",
       "      <td>0</td>\n",
       "      <td>53.483600</td>\n",
       "      <td>-5.430200</td>\n",
       "      <td>2001.0</td>\n",
       "      <td></td>\n",
       "      <td>Buoy</td>\n",
       "    </tr>\n",
       "    <tr>\n",
       "      <th>1</th>\n",
       "      <td>1</td>\n",
       "      <td>Buoys</td>\n",
       "      <td>62092</td>\n",
       "      <td>M3_Buoy</td>\n",
       "      <td>0</td>\n",
       "      <td>0</td>\n",
       "      <td>0</td>\n",
       "      <td>51.215958</td>\n",
       "      <td>-10.548261</td>\n",
       "      <td>2002.0</td>\n",
       "      <td></td>\n",
       "      <td>Buoy</td>\n",
       "    </tr>\n",
       "    <tr>\n",
       "      <th>2</th>\n",
       "      <td>2</td>\n",
       "      <td>Buoys</td>\n",
       "      <td>62093</td>\n",
       "      <td>M4_Buoy</td>\n",
       "      <td>0</td>\n",
       "      <td>0</td>\n",
       "      <td>0</td>\n",
       "      <td>54.666700</td>\n",
       "      <td>-9.066700</td>\n",
       "      <td>2007.0</td>\n",
       "      <td></td>\n",
       "      <td>Buoy</td>\n",
       "    </tr>\n",
       "    <tr>\n",
       "      <th>3</th>\n",
       "      <td>3</td>\n",
       "      <td>Buoys</td>\n",
       "      <td>62094</td>\n",
       "      <td>M5_Buoy</td>\n",
       "      <td>0</td>\n",
       "      <td>0</td>\n",
       "      <td>0</td>\n",
       "      <td>51.690426</td>\n",
       "      <td>-6.704336</td>\n",
       "      <td>2004.0</td>\n",
       "      <td></td>\n",
       "      <td>Buoy</td>\n",
       "    </tr>\n",
       "    <tr>\n",
       "      <th>4</th>\n",
       "      <td>4</td>\n",
       "      <td>Buoys</td>\n",
       "      <td>62095</td>\n",
       "      <td>M6_Buoy</td>\n",
       "      <td>0</td>\n",
       "      <td>0</td>\n",
       "      <td>0</td>\n",
       "      <td>53.074820</td>\n",
       "      <td>-15.881350</td>\n",
       "      <td>2006.0</td>\n",
       "      <td></td>\n",
       "      <td>BuoySubSurf</td>\n",
       "    </tr>\n",
       "    <tr>\n",
       "      <th>...</th>\n",
       "      <td>...</td>\n",
       "      <td>...</td>\n",
       "      <td>...</td>\n",
       "      <td>...</td>\n",
       "      <td>...</td>\n",
       "      <td>...</td>\n",
       "      <td>...</td>\n",
       "      <td>...</td>\n",
       "      <td>...</td>\n",
       "      <td>...</td>\n",
       "      <td>...</td>\n",
       "      <td>...</td>\n",
       "    </tr>\n",
       "    <tr>\n",
       "      <th>33</th>\n",
       "      <td>NaN</td>\n",
       "      <td>NaN</td>\n",
       "      <td>NaN</td>\n",
       "      <td>Ocean Inver</td>\n",
       "      <td>NaN</td>\n",
       "      <td>NaN</td>\n",
       "      <td>NaN</td>\n",
       "      <td>54.610340</td>\n",
       "      <td>-8.353220</td>\n",
       "      <td>2015.0</td>\n",
       "      <td>2016</td>\n",
       "      <td>TidbiT Sea Temperature Station</td>\n",
       "    </tr>\n",
       "    <tr>\n",
       "      <th>34</th>\n",
       "      <td>NaN</td>\n",
       "      <td>NaN</td>\n",
       "      <td>NaN</td>\n",
       "      <td>Deenish</td>\n",
       "      <td>NaN</td>\n",
       "      <td>NaN</td>\n",
       "      <td>NaN</td>\n",
       "      <td>51.739550</td>\n",
       "      <td>-10.212340</td>\n",
       "      <td>2015.0</td>\n",
       "      <td>2016</td>\n",
       "      <td>TidbiT Sea Temperature Station</td>\n",
       "    </tr>\n",
       "    <tr>\n",
       "      <th>35</th>\n",
       "      <td>NaN</td>\n",
       "      <td>NaN</td>\n",
       "      <td>NaN</td>\n",
       "      <td>Creevin - Inver</td>\n",
       "      <td>NaN</td>\n",
       "      <td>NaN</td>\n",
       "      <td>NaN</td>\n",
       "      <td>54.629280</td>\n",
       "      <td>-8.290140</td>\n",
       "      <td>2004.0</td>\n",
       "      <td>2016</td>\n",
       "      <td>TidbiT Sea Temperature Station</td>\n",
       "    </tr>\n",
       "    <tr>\n",
       "      <th>36</th>\n",
       "      <td>NaN</td>\n",
       "      <td>NaN</td>\n",
       "      <td>NaN</td>\n",
       "      <td>Killary Inner_Mussel_Line</td>\n",
       "      <td>NaN</td>\n",
       "      <td>NaN</td>\n",
       "      <td>NaN</td>\n",
       "      <td>53.600000</td>\n",
       "      <td>-9.755280</td>\n",
       "      <td>2015.0</td>\n",
       "      <td>2016</td>\n",
       "      <td>TidbiT Sea Temperature Station</td>\n",
       "    </tr>\n",
       "    <tr>\n",
       "      <th>37</th>\n",
       "      <td>NaN</td>\n",
       "      <td>NaN</td>\n",
       "      <td>NaN</td>\n",
       "      <td>Killary Middle_Mussel_Line</td>\n",
       "      <td>NaN</td>\n",
       "      <td>NaN</td>\n",
       "      <td>NaN</td>\n",
       "      <td>53.603890</td>\n",
       "      <td>-9.802780</td>\n",
       "      <td>2015.0</td>\n",
       "      <td>2016</td>\n",
       "      <td>TidbiT Sea Temperature Station</td>\n",
       "    </tr>\n",
       "  </tbody>\n",
       "</table>\n",
       "<p>61 rows × 12 columns</p>\n",
       "</div>"
      ],
      "text/plain": [
       "    FID County Station_Nu                        name Height__m_ Easting  \\\n",
       "0     0  Buoys      62091                     M2_Buoy          0       0   \n",
       "1     1  Buoys      62092                     M3_Buoy          0       0   \n",
       "2     2  Buoys      62093                     M4_Buoy          0       0   \n",
       "3     3  Buoys      62094                     M5_Buoy          0       0   \n",
       "4     4  Buoys      62095                     M6_Buoy          0       0   \n",
       "..  ...    ...        ...                         ...        ...     ...   \n",
       "33  NaN    NaN        NaN                 Ocean Inver        NaN     NaN   \n",
       "34  NaN    NaN        NaN                     Deenish        NaN     NaN   \n",
       "35  NaN    NaN        NaN             Creevin - Inver        NaN     NaN   \n",
       "36  NaN    NaN        NaN   Killary Inner_Mussel_Line        NaN     NaN   \n",
       "37  NaN    NaN        NaN  Killary Middle_Mussel_Line        NaN     NaN   \n",
       "\n",
       "   Northing   Latitude  Longitude  Open_Year Close_Year  \\\n",
       "0         0  53.483600  -5.430200     2001.0              \n",
       "1         0  51.215958 -10.548261     2002.0              \n",
       "2         0  54.666700  -9.066700     2007.0              \n",
       "3         0  51.690426  -6.704336     2004.0              \n",
       "4         0  53.074820 -15.881350     2006.0              \n",
       "..      ...        ...        ...        ...        ...   \n",
       "33      NaN  54.610340  -8.353220     2015.0       2016   \n",
       "34      NaN  51.739550 -10.212340     2015.0       2016   \n",
       "35      NaN  54.629280  -8.290140     2004.0       2016   \n",
       "36      NaN  53.600000  -9.755280     2015.0       2016   \n",
       "37      NaN  53.603890  -9.802780     2015.0       2016   \n",
       "\n",
       "                              Type  \n",
       "0                             Buoy  \n",
       "1                             Buoy  \n",
       "2                             Buoy  \n",
       "3                             Buoy  \n",
       "4                      BuoySubSurf  \n",
       "..                             ...  \n",
       "33  TidbiT Sea Temperature Station  \n",
       "34  TidbiT Sea Temperature Station  \n",
       "35  TidbiT Sea Temperature Station  \n",
       "36  TidbiT Sea Temperature Station  \n",
       "37  TidbiT Sea Temperature Station  \n",
       "\n",
       "[61 rows x 12 columns]"
      ]
     },
     "execution_count": 9,
     "metadata": {},
     "output_type": "execute_result"
    }
   ],
   "source": [
    "combinedDF = pd.concat([stationsDF,ellettLineDF,tidbiDFNew])\n",
    "combinedDF.reset_index\n",
    "combinedDF"
   ]
  },
  {
   "cell_type": "code",
   "execution_count": 19,
   "metadata": {},
   "outputs": [
    {
     "data": {
      "application/vnd.plotly.v1+json": {
       "config": {
        "plotlyServerURL": "https://plot.ly"
       },
       "data": [
        {
         "hovertemplate": [
          "Name: Malin_head<br>County: Donegal<br>Type: Synoptic<br>Station No.: 1575<br>Open Year: 2009.0<br>Height: 20.00 m<br>Lat: 55.37 °<br>Lon: -7.34 °<br><extra></extra>"
         ],
         "lat": [
          55.372
         ],
         "lon": [
          -7.339
         ],
         "marker": {
          "color": "#ff0000",
          "size": 7
         },
         "name": "Synoptic",
         "type": "scattermapbox"
        },
        {
         "hovertemplate": [],
         "lat": [],
         "lon": [],
         "marker": {
          "color": "#004da8",
          "size": 7
         },
         "name": "Climatological",
         "type": "scattermapbox"
        },
        {
         "hovertemplate": [
          "Name: M2_Buoy<br>County: Buoys<br>Type: Buoy<br>Station No.: 62091<br>Open Year: 2001.0<br>Height: 0.00 m<br>Lat: 53.48 °<br>Lon: -5.43 °<br><extra></extra>",
          "Name: M3_Buoy<br>County: Buoys<br>Type: Buoy<br>Station No.: 62092<br>Open Year: 2002.0<br>Height: 0.00 m<br>Lat: 51.22 °<br>Lon: -10.55 °<br><extra></extra>",
          "Name: M4_Buoy<br>County: Buoys<br>Type: Buoy<br>Station No.: 62093<br>Open Year: 2007.0<br>Height: 0.00 m<br>Lat: 54.67 °<br>Lon: -9.07 °<br><extra></extra>",
          "Name: M5_Buoy<br>County: Buoys<br>Type: Buoy<br>Station No.: 62094<br>Open Year: 2004.0<br>Height: 0.00 m<br>Lat: 51.69 °<br>Lon: -6.70 °<br><extra></extra>",
          "Name: M6_Buoy<br>County: Buoys<br>Type: BuoySubSurf<br>Station No.: 62095<br>Open Year: 2006.0<br>Height: 0.00 m<br>Lat: 53.07 °<br>Lon: -15.88 °<br><extra></extra>"
         ],
         "lat": [
          53.4836,
          51.215958,
          54.6667,
          51.690426,
          53.07482
         ],
         "lon": [
          -5.4302,
          -10.548261,
          -9.0667,
          -6.704336,
          -15.88135
         ],
         "marker": {
          "color": "#e69800",
          "size": 7
         },
         "name": "Buoy",
         "type": "scattermapbox"
        },
        {
         "hovertemplate": [],
         "lat": [],
         "lon": [],
         "marker": {
          "color": "#00734c",
          "size": 7
         },
         "name": "EPA",
         "type": "scattermapbox"
        },
        {
         "hovertemplate": [],
         "lat": [],
         "lon": [],
         "marker": {
          "color": "#ff0000",
          "size": 7
         },
         "name": "NUIG",
         "type": "scattermapbox"
        },
        {
         "hovertemplate": [],
         "lat": [],
         "lon": [],
         "marker": {
          "color": "red",
          "size": 7
         },
         "name": "GHG Flux Tower",
         "showlegend": true,
         "type": "scattermapbox"
        },
        {
         "hovertemplate": [],
         "lat": [],
         "lon": [],
         "marker": {
          "color": "#ffff00",
          "size": 7
         },
         "name": "Rainfall",
         "type": "scattermapbox"
        },
        {
         "hovertemplate": [
          "Name: nan<br>County: nan<br>Type: ExtendedEllettLineBuoy<br>Station No.: nan<br>Open Year: nan<br>Height: nan m<br>Lat: 57.55 °<br>Lon: -7.40 °<br><extra></extra>",
          "Name: RockallTroughSection<br>County: nan<br>Type: ExtendedEllettLineBuoy<br>Station No.: nan<br>Open Year: nan<br>Height: nan m<br>Lat: 57.50 °<br>Lon: -11.00 °<br><extra></extra>",
          "Name: nan<br>County: nan<br>Type: ExtendedEllettLineBuoy<br>Station No.: nan<br>Open Year: nan<br>Height: nan m<br>Lat: 57.49 °<br>Lon: -12.22 °<br><extra></extra>",
          "Name: nan<br>County: nan<br>Type: ExtendedEllettLineBuoy<br>Station No.: nan<br>Open Year: nan<br>Height: nan m<br>Lat: 57.62 °<br>Lon: -13.53 °<br><extra></extra>",
          "Name: nan<br>County: nan<br>Type: ExtendedEllettLineBuoy<br>Station No.: nan<br>Open Year: nan<br>Height: nan m<br>Lat: 57.65 °<br>Lon: -13.74 °<br><extra></extra>",
          "Name: nan<br>County: nan<br>Type: ExtendedEllettLineBuoy<br>Station No.: nan<br>Open Year: nan<br>Height: nan m<br>Lat: 57.85 °<br>Lon: -14.22 °<br><extra></extra>",
          "Name: nan<br>County: nan<br>Type: ExtendedEllettLineBuoy<br>Station No.: nan<br>Open Year: nan<br>Height: nan m<br>Lat: 58.23 °<br>Lon: -15.31 °<br><extra></extra>",
          "Name: nan<br>County: nan<br>Type: ExtendedEllettLineBuoy<br>Station No.: nan<br>Open Year: nan<br>Height: nan m<br>Lat: 58.64 °<br>Lon: -16.52 °<br><extra></extra>",
          "Name: nan<br>County: nan<br>Type: ExtendedEllettLineBuoy<br>Station No.: nan<br>Open Year: nan<br>Height: nan m<br>Lat: 59.03 °<br>Lon: -17.32 °<br><extra></extra>",
          "Name: nan<br>County: nan<br>Type: ExtendedEllettLineBuoy<br>Station No.: nan<br>Open Year: nan<br>Height: nan m<br>Lat: 59.45 °<br>Lon: -18.29 °<br><extra></extra>",
          "Name: nan<br>County: nan<br>Type: ExtendedEllettLineBuoy<br>Station No.: nan<br>Open Year: nan<br>Height: nan m<br>Lat: 60.04 °<br>Lon: -19.75 °<br><extra></extra>",
          "Name: nan<br>County: nan<br>Type: ExtendedEllettLineBuoy<br>Station No.: nan<br>Open Year: nan<br>Height: nan m<br>Lat: 60.36 °<br>Lon: -19.84 °<br><extra></extra>",
          "Name: nan<br>County: nan<br>Type: ExtendedEllettLineBuoy<br>Station No.: nan<br>Open Year: nan<br>Height: nan m<br>Lat: 60.76 °<br>Lon: -19.89 °<br><extra></extra>",
          "Name: nan<br>County: nan<br>Type: ExtendedEllettLineBuoy<br>Station No.: nan<br>Open Year: nan<br>Height: nan m<br>Lat: 60.77 °<br>Lon: -19.89 °<br><extra></extra>"
         ],
         "lat": [
          57.5518074,
          57.50000016,
          57.48596641,
          57.62105314,
          57.64706099,
          57.85060726,
          58.23319629,
          58.64468496,
          59.02593584,
          59.45492542,
          60.0356949,
          60.35907258,
          60.75848385,
          60.76545591
         ],
         "lon": [
          -7.401944158,
          -10.99999974,
          -12.22143246,
          -13.52782861,
          -13.74495737,
          -14.22417526,
          -15.30803099,
          -16.52044543,
          -17.32436651,
          -18.28929127,
          -19.75123727,
          -19.84000625,
          -19.88595585,
          -19.8885736
         ],
         "marker": {
          "color": "#00734c",
          "size": 7
         },
         "name": "Extended Ellett Line Buoy",
         "type": "scattermapbox"
        },
        {
         "hovertemplate": [
          "Name: Ballycotton Harbour Tide Gauge<br>County: Cork<br>Type: TideGauge<br>Station No.: 0<br>Open Year: 0.0<br>Height: 0.00 m<br>Lat: 51.83 °<br>Lon: -8.00 °<br><extra></extra>"
         ],
         "lat": [
          51.8278
         ],
         "lon": [
          -8.0007
         ],
         "marker": {
          "color": "#8400a8",
          "size": 7
         },
         "name": "Tide Gauge Station",
         "showlegend": true,
         "type": "scattermapbox"
        },
        {
         "hovertemplate": [
          "Name:  Amets (Erris Peninsua)<br>County: Mayo<br>Type: WaveRide<br>Station No.: 0<br>Open Year: 0.0<br>Height: 0.00 m<br>Lat: 54.23 °<br>Lon: -10.14 °<br><extra></extra>",
          "Name: SmartBay Wave Buoy<br>County: Galway<br>Type: WaveRide/SmartBayObsCenter<br>Station No.: 0<br>Open Year: 0.0<br>Height: 0.00 m<br>Lat: 53.23 °<br>Lon: -9.27 °<br><extra></extra>"
         ],
         "lat": [
          54.231766,
          53.228233
         ],
         "lon": [
          -10.142453,
          -9.268115
         ],
         "marker": {
          "color": "#ffff00",
          "size": 7
         },
         "name": "WaveRide/SmartBayObsCent",
         "type": "scattermapbox"
        },
        {
         "hovertemplate": [],
         "lat": [],
         "lon": [],
         "marker": {
          "color": "orange",
          "size": 7
         },
         "name": "MI_Survey",
         "type": "scattermapbox"
        },
        {
         "hovertemplate": [
          "Name: Gearhies_Cuan Baoi<br>County: nan<br>Type: TidbiT Sea Temperature Station<br>Station No.: nan<br>Open Year: 2004.0<br>Height: nan m<br>Lat: 51.65 °<br>Lon: -9.59 °<br><extra></extra>",
          "Name: Palmers Point<br>County: nan<br>Type: TidbiT Sea Temperature Station<br>Station No.: nan<br>Open Year: 2004.0<br>Height: nan m<br>Lat: 51.64 °<br>Lon: -9.81 °<br><extra></extra>",
          "Name: Inishfanard<br>County: nan<br>Type: TidbiT Sea Temperature Station<br>Station No.: nan<br>Open Year: 2004.0<br>Height: nan m<br>Lat: 51.73 °<br>Lon: -10.00 °<br><extra></extra>",
          "Name: Red Flag<br>County: nan<br>Type: TidbiT Sea Temperature Station<br>Station No.: nan<br>Open Year: 2015.0<br>Height: nan m<br>Lat: 53.24 °<br>Lon: -9.79 °<br><extra></extra>",
          "Name: Ardmore<br>County: nan<br>Type: TidbiT Sea Temperature Station<br>Station No.: nan<br>Open Year: 2004.0<br>Height: nan m<br>Lat: 53.30 °<br>Lon: -9.77 °<br><extra></extra>",
          "Name: Oilean Iariath<br>County: nan<br>Type: TidbiT Sea Temperature Station<br>Station No.: nan<br>Open Year: 2004.0<br>Height: nan m<br>Lat: 53.29 °<br>Lon: -9.74 °<br><extra></extra>",
          "Name: Sea_Lax<br>County: nan<br>Type: TidbiT Sea Temperature Station<br>Station No.: nan<br>Open Year: 2005.0<br>Height: nan m<br>Lat: 53.37 °<br>Lon: -9.87 °<br><extra></extra>",
          "Name: Fraochoilean<br>County: nan<br>Type: TidbiT Sea Temperature Station<br>Station No.: nan<br>Open Year: 2004.0<br>Height: nan m<br>Lat: 53.58 °<br>Lon: -10.04 °<br><extra></extra>",
          "Name: Inishdeighil<br>County: nan<br>Type: TidbiT Sea Temperature Station<br>Station No.: nan<br>Open Year: 2004.0<br>Height: nan m<br>Lat: 53.61 °<br>Lon: -9.90 °<br><extra></extra>",
          "Name: Rosroe<br>County: nan<br>Type: TidbiT Sea Temperature Station<br>Station No.: nan<br>Open Year: 2004.0<br>Height: nan m<br>Lat: 53.62 °<br>Lon: -9.86 °<br><extra></extra>",
          "Name: Inishoo Bay<br>County: nan<br>Type: TidbiT Sea Temperature Station<br>Station No.: nan<br>Open Year: 2015.0<br>Height: nan m<br>Lat: 53.85 °<br>Lon: -9.66 °<br><extra></extra>",
          "Name: Portlea<br>County: nan<br>Type: TidbiT Sea Temperature Station<br>Station No.: nan<br>Open Year: 2004.0<br>Height: nan m<br>Lat: 53.80 °<br>Lon: -9.90 °<br><extra></extra>",
          "Name: Eany<br>County: nan<br>Type: TidbiT Sea Temperature Station<br>Station No.: nan<br>Open Year: 2015.0<br>Height: nan m<br>Lat: 54.63 °<br>Lon: -8.30 °<br><extra></extra>",
          "Name: Cranford<br>County: nan<br>Type: TidbiT Sea Temperature Station<br>Station No.: nan<br>Open Year: 2004.0<br>Height: nan m<br>Lat: 55.16 °<br>Lon: -7.70 °<br><extra></extra>",
          "Name: Salt Point<br>County: nan<br>Type: TidbiT Sea Temperature Station<br>Station No.: nan<br>Open Year: 2004.0<br>Height: nan m<br>Lat: 53.38 °<br>Lon: -9.86 °<br><extra></extra>",
          "Name: Seastream<br>County: nan<br>Type: TidbiT Sea Temperature Station<br>Station No.: nan<br>Open Year: 2004.0<br>Height: nan m<br>Lat: 53.88 °<br>Lon: -9.65 °<br><extra></extra>",
          "Name: Ardbear<br>County: nan<br>Type: TidbiT Sea Temperature Station<br>Station No.: nan<br>Open Year: 2004.0<br>Height: nan m<br>Lat: 53.48 °<br>Lon: -10.07 °<br><extra></extra>",
          "Name: Doon point<br>County: nan<br>Type: TidbiT Sea Temperature Station<br>Station No.: nan<br>Open Year: 2003.0<br>Height: nan m<br>Lat: 51.74 °<br>Lon: -9.97 °<br><extra></extra>",
          "Name: Kilmacilogue<br>County: nan<br>Type: TidbiT Sea Temperature Station<br>Station No.: nan<br>Open Year: 2004.0<br>Height: nan m<br>Lat: 51.77 °<br>Lon: -9.81 °<br><extra></extra>",
          "Name: Casheen<br>County: nan<br>Type: TidbiT Sea Temperature Station<br>Station No.: nan<br>Open Year: 2004.0<br>Height: nan m<br>Lat: 53.25 °<br>Lon: -9.73 °<br><extra></extra>",
          "Name: Golam<br>County: nan<br>Type: TidbiT Sea Temperature Station<br>Station No.: nan<br>Open Year: 2004.0<br>Height: nan m<br>Lat: 53.24 °<br>Lon: -9.75 °<br><extra></extra>",
          "Name: Daonish<br>County: nan<br>Type: TidbiT Sea Temperature Station<br>Station No.: nan<br>Open Year: 2015.0<br>Height: nan m<br>Lat: 53.25 °<br>Lon: -9.73 °<br><extra></extra>",
          "Name: Roancarraig<br>County: nan<br>Type: TidbiT Sea Temperature Station<br>Station No.: nan<br>Open Year: 2015.0<br>Height: nan m<br>Lat: 51.66 °<br>Lon: -9.78 °<br><extra></extra>",
          "Name: Curraun<br>County: nan<br>Type: TidbiT Sea Temperature Station<br>Station No.: nan<br>Open Year: 2005.0<br>Height: nan m<br>Lat: 53.92 °<br>Lon: -9.80 °<br><extra></extra>",
          "Name: Leaghan Pool<br>County: nan<br>Type: TidbiT Sea Temperature Station<br>Station No.: nan<br>Open Year: 2015.0<br>Height: nan m<br>Lat: 53.40 °<br>Lon: -9.83 °<br><extra></extra>",
          "Name: Gearhies_Cuan Baoi_2<br>County: nan<br>Type: TidbiT Sea Temperature Station<br>Station No.: nan<br>Open Year: 2015.0<br>Height: nan m<br>Lat: 51.66 °<br>Lon: -9.55 °<br><extra></extra>",
          "Name: Salt Point_2<br>County: nan<br>Type: TidbiT Sea Temperature Station<br>Station No.: nan<br>Open Year: 2015.0<br>Height: nan m<br>Lat: 53.38 °<br>Lon: -9.87 °<br><extra></extra>",
          "Name: Portlea_2<br>County: nan<br>Type: TidbiT Sea Temperature Station<br>Station No.: nan<br>Open Year: 2015.0<br>Height: nan m<br>Lat: 53.82 °<br>Lon: -9.95 °<br><extra></extra>",
          "Name: Cranford_2<br>County: nan<br>Type: TidbiT Sea Temperature Station<br>Station No.: nan<br>Open Year: 2015.0<br>Height: nan m<br>Lat: 55.15 °<br>Lon: -7.68 °<br><extra></extra>",
          "Name: Cnoc<br>County: nan<br>Type: TidbiT Sea Temperature Station<br>Station No.: nan<br>Open Year: 2015.0<br>Height: nan m<br>Lat: 53.27 °<br>Lon: -9.71 °<br><extra></extra>",
          "Name: Lettercallow<br>County: nan<br>Type: TidbiT Sea Temperature Station<br>Station No.: nan<br>Open Year: 2015.0<br>Height: nan m<br>Lat: 53.29 °<br>Lon: -9.70 °<br><extra></extra>",
          "Name: McSwynes<br>County: nan<br>Type: TidbiT Sea Temperature Station<br>Station No.: nan<br>Open Year: 2015.0<br>Height: nan m<br>Lat: 54.61 °<br>Lon: -8.41 °<br><extra></extra>",
          "Name: Hawks Nest<br>County: nan<br>Type: TidbiT Sea Temperature Station<br>Station No.: nan<br>Open Year: 2015.0<br>Height: nan m<br>Lat: 53.48 °<br>Lon: -10.07 °<br><extra></extra>",
          "Name: Ocean Inver<br>County: nan<br>Type: TidbiT Sea Temperature Station<br>Station No.: nan<br>Open Year: 2015.0<br>Height: nan m<br>Lat: 54.61 °<br>Lon: -8.35 °<br><extra></extra>",
          "Name: Deenish<br>County: nan<br>Type: TidbiT Sea Temperature Station<br>Station No.: nan<br>Open Year: 2015.0<br>Height: nan m<br>Lat: 51.74 °<br>Lon: -10.21 °<br><extra></extra>",
          "Name: Creevin - Inver<br>County: nan<br>Type: TidbiT Sea Temperature Station<br>Station No.: nan<br>Open Year: 2004.0<br>Height: nan m<br>Lat: 54.63 °<br>Lon: -8.29 °<br><extra></extra>",
          "Name: Killary Inner_Mussel_Line<br>County: nan<br>Type: TidbiT Sea Temperature Station<br>Station No.: nan<br>Open Year: 2015.0<br>Height: nan m<br>Lat: 53.60 °<br>Lon: -9.76 °<br><extra></extra>",
          "Name: Killary Middle_Mussel_Line<br>County: nan<br>Type: TidbiT Sea Temperature Station<br>Station No.: nan<br>Open Year: 2015.0<br>Height: nan m<br>Lat: 53.60 °<br>Lon: -9.80 °<br><extra></extra>"
         ],
         "lat": [
          51.65131,
          51.64444,
          51.72552,
          53.23706,
          53.3003,
          53.2881799999999,
          53.37476,
          53.575,
          53.60768,
          53.624,
          53.853,
          53.8025299999999,
          54.63394,
          55.16029,
          53.38459,
          53.87899,
          53.48499,
          51.73769,
          51.7713299999999,
          53.2529899999999,
          53.2372799999999,
          53.2529899999999,
          51.65612,
          53.91796,
          53.4012,
          51.6574999999999,
          53.3780599999999,
          53.8181599999999,
          55.15361,
          53.2704099999999,
          53.29162,
          54.61404,
          53.48499,
          54.61034,
          51.73955,
          54.62928,
          53.6,
          53.60389
         ],
         "lon": [
          -9.58638,
          -9.80871,
          -9.99874999999999,
          -9.78851,
          -9.76548,
          -9.73658,
          -9.8687,
          -10.03503,
          -9.90281,
          -9.86386,
          -9.663,
          -9.90419999999999,
          -8.301,
          -7.69615,
          -9.85832,
          -9.64964,
          -10.06718,
          -9.9692,
          -9.81448,
          -9.72885,
          -9.7546,
          -9.72885,
          -9.77858999999999,
          -9.79876,
          -9.82659999999999,
          -9.54889,
          -9.87306,
          -9.95336,
          -7.68389,
          -9.71382,
          -9.70243999999999,
          -8.41341,
          -10.06718,
          -8.35322,
          -10.2123399999999,
          -8.29013999999999,
          -9.75528,
          -9.80278
         ],
         "marker": {
          "color": "#004da8",
          "size": 7
         },
         "name": "tidbiT",
         "type": "scattermapbox"
        }
       ],
       "layout": {
        "height": 400,
        "legend": {
         "title": {
          "text": "<b>Station Type</b>"
         },
         "x": 0.01
        },
        "mapbox": {
         "bearing": 0,
         "center": {
          "lat": 56,
          "lon": 346
         },
         "pitch": 0,
         "style": "open-street-map",
         "zoom": 3.8
        },
        "margin": {
         "b": 0,
         "l": 0,
         "r": 0,
         "t": 0
        },
        "paper_bgcolor": "rgba(0,0,0,0)",
        "plot_bgcolor": "rgba(0,0,0,0)",
        "template": {
         "data": {
          "bar": [
           {
            "error_x": {
             "color": "#2a3f5f"
            },
            "error_y": {
             "color": "#2a3f5f"
            },
            "marker": {
             "line": {
              "color": "#E5ECF6",
              "width": 0.5
             }
            },
            "type": "bar"
           }
          ],
          "barpolar": [
           {
            "marker": {
             "line": {
              "color": "#E5ECF6",
              "width": 0.5
             }
            },
            "type": "barpolar"
           }
          ],
          "carpet": [
           {
            "aaxis": {
             "endlinecolor": "#2a3f5f",
             "gridcolor": "white",
             "linecolor": "white",
             "minorgridcolor": "white",
             "startlinecolor": "#2a3f5f"
            },
            "baxis": {
             "endlinecolor": "#2a3f5f",
             "gridcolor": "white",
             "linecolor": "white",
             "minorgridcolor": "white",
             "startlinecolor": "#2a3f5f"
            },
            "type": "carpet"
           }
          ],
          "choropleth": [
           {
            "colorbar": {
             "outlinewidth": 0,
             "ticks": ""
            },
            "type": "choropleth"
           }
          ],
          "contour": [
           {
            "colorbar": {
             "outlinewidth": 0,
             "ticks": ""
            },
            "colorscale": [
             [
              0,
              "#0d0887"
             ],
             [
              0.1111111111111111,
              "#46039f"
             ],
             [
              0.2222222222222222,
              "#7201a8"
             ],
             [
              0.3333333333333333,
              "#9c179e"
             ],
             [
              0.4444444444444444,
              "#bd3786"
             ],
             [
              0.5555555555555556,
              "#d8576b"
             ],
             [
              0.6666666666666666,
              "#ed7953"
             ],
             [
              0.7777777777777778,
              "#fb9f3a"
             ],
             [
              0.8888888888888888,
              "#fdca26"
             ],
             [
              1,
              "#f0f921"
             ]
            ],
            "type": "contour"
           }
          ],
          "contourcarpet": [
           {
            "colorbar": {
             "outlinewidth": 0,
             "ticks": ""
            },
            "type": "contourcarpet"
           }
          ],
          "heatmap": [
           {
            "colorbar": {
             "outlinewidth": 0,
             "ticks": ""
            },
            "colorscale": [
             [
              0,
              "#0d0887"
             ],
             [
              0.1111111111111111,
              "#46039f"
             ],
             [
              0.2222222222222222,
              "#7201a8"
             ],
             [
              0.3333333333333333,
              "#9c179e"
             ],
             [
              0.4444444444444444,
              "#bd3786"
             ],
             [
              0.5555555555555556,
              "#d8576b"
             ],
             [
              0.6666666666666666,
              "#ed7953"
             ],
             [
              0.7777777777777778,
              "#fb9f3a"
             ],
             [
              0.8888888888888888,
              "#fdca26"
             ],
             [
              1,
              "#f0f921"
             ]
            ],
            "type": "heatmap"
           }
          ],
          "heatmapgl": [
           {
            "colorbar": {
             "outlinewidth": 0,
             "ticks": ""
            },
            "colorscale": [
             [
              0,
              "#0d0887"
             ],
             [
              0.1111111111111111,
              "#46039f"
             ],
             [
              0.2222222222222222,
              "#7201a8"
             ],
             [
              0.3333333333333333,
              "#9c179e"
             ],
             [
              0.4444444444444444,
              "#bd3786"
             ],
             [
              0.5555555555555556,
              "#d8576b"
             ],
             [
              0.6666666666666666,
              "#ed7953"
             ],
             [
              0.7777777777777778,
              "#fb9f3a"
             ],
             [
              0.8888888888888888,
              "#fdca26"
             ],
             [
              1,
              "#f0f921"
             ]
            ],
            "type": "heatmapgl"
           }
          ],
          "histogram": [
           {
            "marker": {
             "colorbar": {
              "outlinewidth": 0,
              "ticks": ""
             }
            },
            "type": "histogram"
           }
          ],
          "histogram2d": [
           {
            "colorbar": {
             "outlinewidth": 0,
             "ticks": ""
            },
            "colorscale": [
             [
              0,
              "#0d0887"
             ],
             [
              0.1111111111111111,
              "#46039f"
             ],
             [
              0.2222222222222222,
              "#7201a8"
             ],
             [
              0.3333333333333333,
              "#9c179e"
             ],
             [
              0.4444444444444444,
              "#bd3786"
             ],
             [
              0.5555555555555556,
              "#d8576b"
             ],
             [
              0.6666666666666666,
              "#ed7953"
             ],
             [
              0.7777777777777778,
              "#fb9f3a"
             ],
             [
              0.8888888888888888,
              "#fdca26"
             ],
             [
              1,
              "#f0f921"
             ]
            ],
            "type": "histogram2d"
           }
          ],
          "histogram2dcontour": [
           {
            "colorbar": {
             "outlinewidth": 0,
             "ticks": ""
            },
            "colorscale": [
             [
              0,
              "#0d0887"
             ],
             [
              0.1111111111111111,
              "#46039f"
             ],
             [
              0.2222222222222222,
              "#7201a8"
             ],
             [
              0.3333333333333333,
              "#9c179e"
             ],
             [
              0.4444444444444444,
              "#bd3786"
             ],
             [
              0.5555555555555556,
              "#d8576b"
             ],
             [
              0.6666666666666666,
              "#ed7953"
             ],
             [
              0.7777777777777778,
              "#fb9f3a"
             ],
             [
              0.8888888888888888,
              "#fdca26"
             ],
             [
              1,
              "#f0f921"
             ]
            ],
            "type": "histogram2dcontour"
           }
          ],
          "mesh3d": [
           {
            "colorbar": {
             "outlinewidth": 0,
             "ticks": ""
            },
            "type": "mesh3d"
           }
          ],
          "parcoords": [
           {
            "line": {
             "colorbar": {
              "outlinewidth": 0,
              "ticks": ""
             }
            },
            "type": "parcoords"
           }
          ],
          "pie": [
           {
            "automargin": true,
            "type": "pie"
           }
          ],
          "scatter": [
           {
            "marker": {
             "colorbar": {
              "outlinewidth": 0,
              "ticks": ""
             }
            },
            "type": "scatter"
           }
          ],
          "scatter3d": [
           {
            "line": {
             "colorbar": {
              "outlinewidth": 0,
              "ticks": ""
             }
            },
            "marker": {
             "colorbar": {
              "outlinewidth": 0,
              "ticks": ""
             }
            },
            "type": "scatter3d"
           }
          ],
          "scattercarpet": [
           {
            "marker": {
             "colorbar": {
              "outlinewidth": 0,
              "ticks": ""
             }
            },
            "type": "scattercarpet"
           }
          ],
          "scattergeo": [
           {
            "marker": {
             "colorbar": {
              "outlinewidth": 0,
              "ticks": ""
             }
            },
            "type": "scattergeo"
           }
          ],
          "scattergl": [
           {
            "marker": {
             "colorbar": {
              "outlinewidth": 0,
              "ticks": ""
             }
            },
            "type": "scattergl"
           }
          ],
          "scattermapbox": [
           {
            "marker": {
             "colorbar": {
              "outlinewidth": 0,
              "ticks": ""
             }
            },
            "type": "scattermapbox"
           }
          ],
          "scatterpolar": [
           {
            "marker": {
             "colorbar": {
              "outlinewidth": 0,
              "ticks": ""
             }
            },
            "type": "scatterpolar"
           }
          ],
          "scatterpolargl": [
           {
            "marker": {
             "colorbar": {
              "outlinewidth": 0,
              "ticks": ""
             }
            },
            "type": "scatterpolargl"
           }
          ],
          "scatterternary": [
           {
            "marker": {
             "colorbar": {
              "outlinewidth": 0,
              "ticks": ""
             }
            },
            "type": "scatterternary"
           }
          ],
          "surface": [
           {
            "colorbar": {
             "outlinewidth": 0,
             "ticks": ""
            },
            "colorscale": [
             [
              0,
              "#0d0887"
             ],
             [
              0.1111111111111111,
              "#46039f"
             ],
             [
              0.2222222222222222,
              "#7201a8"
             ],
             [
              0.3333333333333333,
              "#9c179e"
             ],
             [
              0.4444444444444444,
              "#bd3786"
             ],
             [
              0.5555555555555556,
              "#d8576b"
             ],
             [
              0.6666666666666666,
              "#ed7953"
             ],
             [
              0.7777777777777778,
              "#fb9f3a"
             ],
             [
              0.8888888888888888,
              "#fdca26"
             ],
             [
              1,
              "#f0f921"
             ]
            ],
            "type": "surface"
           }
          ],
          "table": [
           {
            "cells": {
             "fill": {
              "color": "#EBF0F8"
             },
             "line": {
              "color": "white"
             }
            },
            "header": {
             "fill": {
              "color": "#C8D4E3"
             },
             "line": {
              "color": "white"
             }
            },
            "type": "table"
           }
          ]
         },
         "layout": {
          "annotationdefaults": {
           "arrowcolor": "#2a3f5f",
           "arrowhead": 0,
           "arrowwidth": 1
          },
          "autotypenumbers": "strict",
          "coloraxis": {
           "colorbar": {
            "outlinewidth": 0,
            "ticks": ""
           }
          },
          "colorscale": {
           "diverging": [
            [
             0,
             "#8e0152"
            ],
            [
             0.1,
             "#c51b7d"
            ],
            [
             0.2,
             "#de77ae"
            ],
            [
             0.3,
             "#f1b6da"
            ],
            [
             0.4,
             "#fde0ef"
            ],
            [
             0.5,
             "#f7f7f7"
            ],
            [
             0.6,
             "#e6f5d0"
            ],
            [
             0.7,
             "#b8e186"
            ],
            [
             0.8,
             "#7fbc41"
            ],
            [
             0.9,
             "#4d9221"
            ],
            [
             1,
             "#276419"
            ]
           ],
           "sequential": [
            [
             0,
             "#0d0887"
            ],
            [
             0.1111111111111111,
             "#46039f"
            ],
            [
             0.2222222222222222,
             "#7201a8"
            ],
            [
             0.3333333333333333,
             "#9c179e"
            ],
            [
             0.4444444444444444,
             "#bd3786"
            ],
            [
             0.5555555555555556,
             "#d8576b"
            ],
            [
             0.6666666666666666,
             "#ed7953"
            ],
            [
             0.7777777777777778,
             "#fb9f3a"
            ],
            [
             0.8888888888888888,
             "#fdca26"
            ],
            [
             1,
             "#f0f921"
            ]
           ],
           "sequentialminus": [
            [
             0,
             "#0d0887"
            ],
            [
             0.1111111111111111,
             "#46039f"
            ],
            [
             0.2222222222222222,
             "#7201a8"
            ],
            [
             0.3333333333333333,
             "#9c179e"
            ],
            [
             0.4444444444444444,
             "#bd3786"
            ],
            [
             0.5555555555555556,
             "#d8576b"
            ],
            [
             0.6666666666666666,
             "#ed7953"
            ],
            [
             0.7777777777777778,
             "#fb9f3a"
            ],
            [
             0.8888888888888888,
             "#fdca26"
            ],
            [
             1,
             "#f0f921"
            ]
           ]
          },
          "colorway": [
           "#636efa",
           "#EF553B",
           "#00cc96",
           "#ab63fa",
           "#FFA15A",
           "#19d3f3",
           "#FF6692",
           "#B6E880",
           "#FF97FF",
           "#FECB52"
          ],
          "font": {
           "color": "#2a3f5f"
          },
          "geo": {
           "bgcolor": "white",
           "lakecolor": "white",
           "landcolor": "#E5ECF6",
           "showlakes": true,
           "showland": true,
           "subunitcolor": "white"
          },
          "hoverlabel": {
           "align": "left"
          },
          "hovermode": "closest",
          "mapbox": {
           "style": "light"
          },
          "paper_bgcolor": "white",
          "plot_bgcolor": "#E5ECF6",
          "polar": {
           "angularaxis": {
            "gridcolor": "white",
            "linecolor": "white",
            "ticks": ""
           },
           "bgcolor": "#E5ECF6",
           "radialaxis": {
            "gridcolor": "white",
            "linecolor": "white",
            "ticks": ""
           }
          },
          "scene": {
           "xaxis": {
            "backgroundcolor": "#E5ECF6",
            "gridcolor": "white",
            "gridwidth": 2,
            "linecolor": "white",
            "showbackground": true,
            "ticks": "",
            "zerolinecolor": "white"
           },
           "yaxis": {
            "backgroundcolor": "#E5ECF6",
            "gridcolor": "white",
            "gridwidth": 2,
            "linecolor": "white",
            "showbackground": true,
            "ticks": "",
            "zerolinecolor": "white"
           },
           "zaxis": {
            "backgroundcolor": "#E5ECF6",
            "gridcolor": "white",
            "gridwidth": 2,
            "linecolor": "white",
            "showbackground": true,
            "ticks": "",
            "zerolinecolor": "white"
           }
          },
          "shapedefaults": {
           "line": {
            "color": "#2a3f5f"
           }
          },
          "ternary": {
           "aaxis": {
            "gridcolor": "white",
            "linecolor": "white",
            "ticks": ""
           },
           "baxis": {
            "gridcolor": "white",
            "linecolor": "white",
            "ticks": ""
           },
           "bgcolor": "#E5ECF6",
           "caxis": {
            "gridcolor": "white",
            "linecolor": "white",
            "ticks": ""
           }
          },
          "title": {
           "x": 0.05
          },
          "xaxis": {
           "automargin": true,
           "gridcolor": "white",
           "linecolor": "white",
           "ticks": "",
           "title": {
            "standoff": 15
           },
           "zerolinecolor": "white",
           "zerolinewidth": 2
          },
          "yaxis": {
           "automargin": true,
           "gridcolor": "white",
           "linecolor": "white",
           "ticks": "",
           "title": {
            "standoff": 15
           },
           "zerolinecolor": "white",
           "zerolinewidth": 2
          }
         }
        }
       }
      },
      "text/html": [
       "<div>                            <div id=\"9cf7dfe1-12f4-435e-a5bd-d4b162d189d7\" class=\"plotly-graph-div\" style=\"height:400px; width:100%;\"></div>            <script type=\"text/javascript\">                require([\"plotly\"], function(Plotly) {                    window.PLOTLYENV=window.PLOTLYENV || {};                                    if (document.getElementById(\"9cf7dfe1-12f4-435e-a5bd-d4b162d189d7\")) {                    Plotly.newPlot(                        \"9cf7dfe1-12f4-435e-a5bd-d4b162d189d7\",                        [{\"hovertemplate\": [\"Name: Malin_head<br>County: Donegal<br>Type: Synoptic<br>Station No.: 1575<br>Open Year: 2009.0<br>Height: 20.00 m<br>Lat: 55.37 \\u00b0<br>Lon: -7.34 \\u00b0<br><extra></extra>\"], \"lat\": [55.372], \"lon\": [-7.339], \"marker\": {\"color\": \"#ff0000\", \"size\": 7}, \"name\": \"Synoptic\", \"type\": \"scattermapbox\"}, {\"hovertemplate\": [], \"lat\": [], \"lon\": [], \"marker\": {\"color\": \"#004da8\", \"size\": 7}, \"name\": \"Climatological\", \"type\": \"scattermapbox\"}, {\"hovertemplate\": [\"Name: M2_Buoy<br>County: Buoys<br>Type: Buoy<br>Station No.: 62091<br>Open Year: 2001.0<br>Height: 0.00 m<br>Lat: 53.48 \\u00b0<br>Lon: -5.43 \\u00b0<br><extra></extra>\", \"Name: M3_Buoy<br>County: Buoys<br>Type: Buoy<br>Station No.: 62092<br>Open Year: 2002.0<br>Height: 0.00 m<br>Lat: 51.22 \\u00b0<br>Lon: -10.55 \\u00b0<br><extra></extra>\", \"Name: M4_Buoy<br>County: Buoys<br>Type: Buoy<br>Station No.: 62093<br>Open Year: 2007.0<br>Height: 0.00 m<br>Lat: 54.67 \\u00b0<br>Lon: -9.07 \\u00b0<br><extra></extra>\", \"Name: M5_Buoy<br>County: Buoys<br>Type: Buoy<br>Station No.: 62094<br>Open Year: 2004.0<br>Height: 0.00 m<br>Lat: 51.69 \\u00b0<br>Lon: -6.70 \\u00b0<br><extra></extra>\", \"Name: M6_Buoy<br>County: Buoys<br>Type: BuoySubSurf<br>Station No.: 62095<br>Open Year: 2006.0<br>Height: 0.00 m<br>Lat: 53.07 \\u00b0<br>Lon: -15.88 \\u00b0<br><extra></extra>\"], \"lat\": [53.4836, 51.215958, 54.6667, 51.690426, 53.07482], \"lon\": [-5.4302, -10.548261, -9.0667, -6.704336, -15.88135], \"marker\": {\"color\": \"#e69800\", \"size\": 7}, \"name\": \"Buoy\", \"type\": \"scattermapbox\"}, {\"hovertemplate\": [], \"lat\": [], \"lon\": [], \"marker\": {\"color\": \"#00734c\", \"size\": 7}, \"name\": \"EPA\", \"type\": \"scattermapbox\"}, {\"hovertemplate\": [], \"lat\": [], \"lon\": [], \"marker\": {\"color\": \"#ff0000\", \"size\": 7}, \"name\": \"NUIG\", \"type\": \"scattermapbox\"}, {\"hovertemplate\": [], \"lat\": [], \"lon\": [], \"marker\": {\"color\": \"red\", \"size\": 7}, \"name\": \"GHG Flux Tower\", \"showlegend\": true, \"type\": \"scattermapbox\"}, {\"hovertemplate\": [], \"lat\": [], \"lon\": [], \"marker\": {\"color\": \"#ffff00\", \"size\": 7}, \"name\": \"Rainfall\", \"type\": \"scattermapbox\"}, {\"hovertemplate\": [\"Name: nan<br>County: nan<br>Type: ExtendedEllettLineBuoy<br>Station No.: nan<br>Open Year: nan<br>Height: nan m<br>Lat: 57.55 \\u00b0<br>Lon: -7.40 \\u00b0<br><extra></extra>\", \"Name: RockallTroughSection<br>County: nan<br>Type: ExtendedEllettLineBuoy<br>Station No.: nan<br>Open Year: nan<br>Height: nan m<br>Lat: 57.50 \\u00b0<br>Lon: -11.00 \\u00b0<br><extra></extra>\", \"Name: nan<br>County: nan<br>Type: ExtendedEllettLineBuoy<br>Station No.: nan<br>Open Year: nan<br>Height: nan m<br>Lat: 57.49 \\u00b0<br>Lon: -12.22 \\u00b0<br><extra></extra>\", \"Name: nan<br>County: nan<br>Type: ExtendedEllettLineBuoy<br>Station No.: nan<br>Open Year: nan<br>Height: nan m<br>Lat: 57.62 \\u00b0<br>Lon: -13.53 \\u00b0<br><extra></extra>\", \"Name: nan<br>County: nan<br>Type: ExtendedEllettLineBuoy<br>Station No.: nan<br>Open Year: nan<br>Height: nan m<br>Lat: 57.65 \\u00b0<br>Lon: -13.74 \\u00b0<br><extra></extra>\", \"Name: nan<br>County: nan<br>Type: ExtendedEllettLineBuoy<br>Station No.: nan<br>Open Year: nan<br>Height: nan m<br>Lat: 57.85 \\u00b0<br>Lon: -14.22 \\u00b0<br><extra></extra>\", \"Name: nan<br>County: nan<br>Type: ExtendedEllettLineBuoy<br>Station No.: nan<br>Open Year: nan<br>Height: nan m<br>Lat: 58.23 \\u00b0<br>Lon: -15.31 \\u00b0<br><extra></extra>\", \"Name: nan<br>County: nan<br>Type: ExtendedEllettLineBuoy<br>Station No.: nan<br>Open Year: nan<br>Height: nan m<br>Lat: 58.64 \\u00b0<br>Lon: -16.52 \\u00b0<br><extra></extra>\", \"Name: nan<br>County: nan<br>Type: ExtendedEllettLineBuoy<br>Station No.: nan<br>Open Year: nan<br>Height: nan m<br>Lat: 59.03 \\u00b0<br>Lon: -17.32 \\u00b0<br><extra></extra>\", \"Name: nan<br>County: nan<br>Type: ExtendedEllettLineBuoy<br>Station No.: nan<br>Open Year: nan<br>Height: nan m<br>Lat: 59.45 \\u00b0<br>Lon: -18.29 \\u00b0<br><extra></extra>\", \"Name: nan<br>County: nan<br>Type: ExtendedEllettLineBuoy<br>Station No.: nan<br>Open Year: nan<br>Height: nan m<br>Lat: 60.04 \\u00b0<br>Lon: -19.75 \\u00b0<br><extra></extra>\", \"Name: nan<br>County: nan<br>Type: ExtendedEllettLineBuoy<br>Station No.: nan<br>Open Year: nan<br>Height: nan m<br>Lat: 60.36 \\u00b0<br>Lon: -19.84 \\u00b0<br><extra></extra>\", \"Name: nan<br>County: nan<br>Type: ExtendedEllettLineBuoy<br>Station No.: nan<br>Open Year: nan<br>Height: nan m<br>Lat: 60.76 \\u00b0<br>Lon: -19.89 \\u00b0<br><extra></extra>\", \"Name: nan<br>County: nan<br>Type: ExtendedEllettLineBuoy<br>Station No.: nan<br>Open Year: nan<br>Height: nan m<br>Lat: 60.77 \\u00b0<br>Lon: -19.89 \\u00b0<br><extra></extra>\"], \"lat\": [57.5518074, 57.50000016, 57.48596641, 57.62105314, 57.64706099, 57.85060726, 58.23319629, 58.64468496, 59.02593584, 59.45492542, 60.0356949, 60.35907258, 60.75848385, 60.76545591], \"lon\": [-7.401944158, -10.99999974, -12.22143246, -13.52782861, -13.74495737, -14.22417526, -15.30803099, -16.52044543, -17.32436651, -18.28929127, -19.75123727, -19.84000625, -19.88595585, -19.8885736], \"marker\": {\"color\": \"#00734c\", \"size\": 7}, \"name\": \"Extended Ellett Line Buoy\", \"type\": \"scattermapbox\"}, {\"hovertemplate\": [\"Name: Ballycotton Harbour Tide Gauge<br>County: Cork<br>Type: TideGauge<br>Station No.: 0<br>Open Year: 0.0<br>Height: 0.00 m<br>Lat: 51.83 \\u00b0<br>Lon: -8.00 \\u00b0<br><extra></extra>\"], \"lat\": [51.8278], \"lon\": [-8.0007], \"marker\": {\"color\": \"#8400a8\", \"size\": 7}, \"name\": \"Tide Gauge Station\", \"showlegend\": true, \"type\": \"scattermapbox\"}, {\"hovertemplate\": [\"Name:  Amets (Erris Peninsua)<br>County: Mayo<br>Type: WaveRide<br>Station No.: 0<br>Open Year: 0.0<br>Height: 0.00 m<br>Lat: 54.23 \\u00b0<br>Lon: -10.14 \\u00b0<br><extra></extra>\", \"Name: SmartBay Wave Buoy<br>County: Galway<br>Type: WaveRide/SmartBayObsCenter<br>Station No.: 0<br>Open Year: 0.0<br>Height: 0.00 m<br>Lat: 53.23 \\u00b0<br>Lon: -9.27 \\u00b0<br><extra></extra>\"], \"lat\": [54.231766, 53.228233], \"lon\": [-10.142453, -9.268115], \"marker\": {\"color\": \"#ffff00\", \"size\": 7}, \"name\": \"WaveRide/SmartBayObsCent\", \"type\": \"scattermapbox\"}, {\"hovertemplate\": [], \"lat\": [], \"lon\": [], \"marker\": {\"color\": \"orange\", \"size\": 7}, \"name\": \"MI_Survey\", \"type\": \"scattermapbox\"}, {\"hovertemplate\": [\"Name: Gearhies_Cuan Baoi<br>County: nan<br>Type: TidbiT Sea Temperature Station<br>Station No.: nan<br>Open Year: 2004.0<br>Height: nan m<br>Lat: 51.65 \\u00b0<br>Lon: -9.59 \\u00b0<br><extra></extra>\", \"Name: Palmers Point<br>County: nan<br>Type: TidbiT Sea Temperature Station<br>Station No.: nan<br>Open Year: 2004.0<br>Height: nan m<br>Lat: 51.64 \\u00b0<br>Lon: -9.81 \\u00b0<br><extra></extra>\", \"Name: Inishfanard<br>County: nan<br>Type: TidbiT Sea Temperature Station<br>Station No.: nan<br>Open Year: 2004.0<br>Height: nan m<br>Lat: 51.73 \\u00b0<br>Lon: -10.00 \\u00b0<br><extra></extra>\", \"Name: Red Flag<br>County: nan<br>Type: TidbiT Sea Temperature Station<br>Station No.: nan<br>Open Year: 2015.0<br>Height: nan m<br>Lat: 53.24 \\u00b0<br>Lon: -9.79 \\u00b0<br><extra></extra>\", \"Name: Ardmore<br>County: nan<br>Type: TidbiT Sea Temperature Station<br>Station No.: nan<br>Open Year: 2004.0<br>Height: nan m<br>Lat: 53.30 \\u00b0<br>Lon: -9.77 \\u00b0<br><extra></extra>\", \"Name: Oilean Iariath<br>County: nan<br>Type: TidbiT Sea Temperature Station<br>Station No.: nan<br>Open Year: 2004.0<br>Height: nan m<br>Lat: 53.29 \\u00b0<br>Lon: -9.74 \\u00b0<br><extra></extra>\", \"Name: Sea_Lax<br>County: nan<br>Type: TidbiT Sea Temperature Station<br>Station No.: nan<br>Open Year: 2005.0<br>Height: nan m<br>Lat: 53.37 \\u00b0<br>Lon: -9.87 \\u00b0<br><extra></extra>\", \"Name: Fraochoilean<br>County: nan<br>Type: TidbiT Sea Temperature Station<br>Station No.: nan<br>Open Year: 2004.0<br>Height: nan m<br>Lat: 53.58 \\u00b0<br>Lon: -10.04 \\u00b0<br><extra></extra>\", \"Name: Inishdeighil<br>County: nan<br>Type: TidbiT Sea Temperature Station<br>Station No.: nan<br>Open Year: 2004.0<br>Height: nan m<br>Lat: 53.61 \\u00b0<br>Lon: -9.90 \\u00b0<br><extra></extra>\", \"Name: Rosroe<br>County: nan<br>Type: TidbiT Sea Temperature Station<br>Station No.: nan<br>Open Year: 2004.0<br>Height: nan m<br>Lat: 53.62 \\u00b0<br>Lon: -9.86 \\u00b0<br><extra></extra>\", \"Name: Inishoo Bay<br>County: nan<br>Type: TidbiT Sea Temperature Station<br>Station No.: nan<br>Open Year: 2015.0<br>Height: nan m<br>Lat: 53.85 \\u00b0<br>Lon: -9.66 \\u00b0<br><extra></extra>\", \"Name: Portlea<br>County: nan<br>Type: TidbiT Sea Temperature Station<br>Station No.: nan<br>Open Year: 2004.0<br>Height: nan m<br>Lat: 53.80 \\u00b0<br>Lon: -9.90 \\u00b0<br><extra></extra>\", \"Name: Eany<br>County: nan<br>Type: TidbiT Sea Temperature Station<br>Station No.: nan<br>Open Year: 2015.0<br>Height: nan m<br>Lat: 54.63 \\u00b0<br>Lon: -8.30 \\u00b0<br><extra></extra>\", \"Name: Cranford<br>County: nan<br>Type: TidbiT Sea Temperature Station<br>Station No.: nan<br>Open Year: 2004.0<br>Height: nan m<br>Lat: 55.16 \\u00b0<br>Lon: -7.70 \\u00b0<br><extra></extra>\", \"Name: Salt Point<br>County: nan<br>Type: TidbiT Sea Temperature Station<br>Station No.: nan<br>Open Year: 2004.0<br>Height: nan m<br>Lat: 53.38 \\u00b0<br>Lon: -9.86 \\u00b0<br><extra></extra>\", \"Name: Seastream<br>County: nan<br>Type: TidbiT Sea Temperature Station<br>Station No.: nan<br>Open Year: 2004.0<br>Height: nan m<br>Lat: 53.88 \\u00b0<br>Lon: -9.65 \\u00b0<br><extra></extra>\", \"Name: Ardbear<br>County: nan<br>Type: TidbiT Sea Temperature Station<br>Station No.: nan<br>Open Year: 2004.0<br>Height: nan m<br>Lat: 53.48 \\u00b0<br>Lon: -10.07 \\u00b0<br><extra></extra>\", \"Name: Doon point<br>County: nan<br>Type: TidbiT Sea Temperature Station<br>Station No.: nan<br>Open Year: 2003.0<br>Height: nan m<br>Lat: 51.74 \\u00b0<br>Lon: -9.97 \\u00b0<br><extra></extra>\", \"Name: Kilmacilogue<br>County: nan<br>Type: TidbiT Sea Temperature Station<br>Station No.: nan<br>Open Year: 2004.0<br>Height: nan m<br>Lat: 51.77 \\u00b0<br>Lon: -9.81 \\u00b0<br><extra></extra>\", \"Name: Casheen<br>County: nan<br>Type: TidbiT Sea Temperature Station<br>Station No.: nan<br>Open Year: 2004.0<br>Height: nan m<br>Lat: 53.25 \\u00b0<br>Lon: -9.73 \\u00b0<br><extra></extra>\", \"Name: Golam<br>County: nan<br>Type: TidbiT Sea Temperature Station<br>Station No.: nan<br>Open Year: 2004.0<br>Height: nan m<br>Lat: 53.24 \\u00b0<br>Lon: -9.75 \\u00b0<br><extra></extra>\", \"Name: Daonish<br>County: nan<br>Type: TidbiT Sea Temperature Station<br>Station No.: nan<br>Open Year: 2015.0<br>Height: nan m<br>Lat: 53.25 \\u00b0<br>Lon: -9.73 \\u00b0<br><extra></extra>\", \"Name: Roancarraig<br>County: nan<br>Type: TidbiT Sea Temperature Station<br>Station No.: nan<br>Open Year: 2015.0<br>Height: nan m<br>Lat: 51.66 \\u00b0<br>Lon: -9.78 \\u00b0<br><extra></extra>\", \"Name: Curraun<br>County: nan<br>Type: TidbiT Sea Temperature Station<br>Station No.: nan<br>Open Year: 2005.0<br>Height: nan m<br>Lat: 53.92 \\u00b0<br>Lon: -9.80 \\u00b0<br><extra></extra>\", \"Name: Leaghan Pool<br>County: nan<br>Type: TidbiT Sea Temperature Station<br>Station No.: nan<br>Open Year: 2015.0<br>Height: nan m<br>Lat: 53.40 \\u00b0<br>Lon: -9.83 \\u00b0<br><extra></extra>\", \"Name: Gearhies_Cuan Baoi_2<br>County: nan<br>Type: TidbiT Sea Temperature Station<br>Station No.: nan<br>Open Year: 2015.0<br>Height: nan m<br>Lat: 51.66 \\u00b0<br>Lon: -9.55 \\u00b0<br><extra></extra>\", \"Name: Salt Point_2<br>County: nan<br>Type: TidbiT Sea Temperature Station<br>Station No.: nan<br>Open Year: 2015.0<br>Height: nan m<br>Lat: 53.38 \\u00b0<br>Lon: -9.87 \\u00b0<br><extra></extra>\", \"Name: Portlea_2<br>County: nan<br>Type: TidbiT Sea Temperature Station<br>Station No.: nan<br>Open Year: 2015.0<br>Height: nan m<br>Lat: 53.82 \\u00b0<br>Lon: -9.95 \\u00b0<br><extra></extra>\", \"Name: Cranford_2<br>County: nan<br>Type: TidbiT Sea Temperature Station<br>Station No.: nan<br>Open Year: 2015.0<br>Height: nan m<br>Lat: 55.15 \\u00b0<br>Lon: -7.68 \\u00b0<br><extra></extra>\", \"Name: Cnoc<br>County: nan<br>Type: TidbiT Sea Temperature Station<br>Station No.: nan<br>Open Year: 2015.0<br>Height: nan m<br>Lat: 53.27 \\u00b0<br>Lon: -9.71 \\u00b0<br><extra></extra>\", \"Name: Lettercallow<br>County: nan<br>Type: TidbiT Sea Temperature Station<br>Station No.: nan<br>Open Year: 2015.0<br>Height: nan m<br>Lat: 53.29 \\u00b0<br>Lon: -9.70 \\u00b0<br><extra></extra>\", \"Name: McSwynes<br>County: nan<br>Type: TidbiT Sea Temperature Station<br>Station No.: nan<br>Open Year: 2015.0<br>Height: nan m<br>Lat: 54.61 \\u00b0<br>Lon: -8.41 \\u00b0<br><extra></extra>\", \"Name: Hawks Nest<br>County: nan<br>Type: TidbiT Sea Temperature Station<br>Station No.: nan<br>Open Year: 2015.0<br>Height: nan m<br>Lat: 53.48 \\u00b0<br>Lon: -10.07 \\u00b0<br><extra></extra>\", \"Name: Ocean Inver<br>County: nan<br>Type: TidbiT Sea Temperature Station<br>Station No.: nan<br>Open Year: 2015.0<br>Height: nan m<br>Lat: 54.61 \\u00b0<br>Lon: -8.35 \\u00b0<br><extra></extra>\", \"Name: Deenish<br>County: nan<br>Type: TidbiT Sea Temperature Station<br>Station No.: nan<br>Open Year: 2015.0<br>Height: nan m<br>Lat: 51.74 \\u00b0<br>Lon: -10.21 \\u00b0<br><extra></extra>\", \"Name: Creevin - Inver<br>County: nan<br>Type: TidbiT Sea Temperature Station<br>Station No.: nan<br>Open Year: 2004.0<br>Height: nan m<br>Lat: 54.63 \\u00b0<br>Lon: -8.29 \\u00b0<br><extra></extra>\", \"Name: Killary Inner_Mussel_Line<br>County: nan<br>Type: TidbiT Sea Temperature Station<br>Station No.: nan<br>Open Year: 2015.0<br>Height: nan m<br>Lat: 53.60 \\u00b0<br>Lon: -9.76 \\u00b0<br><extra></extra>\", \"Name: Killary Middle_Mussel_Line<br>County: nan<br>Type: TidbiT Sea Temperature Station<br>Station No.: nan<br>Open Year: 2015.0<br>Height: nan m<br>Lat: 53.60 \\u00b0<br>Lon: -9.80 \\u00b0<br><extra></extra>\"], \"lat\": [51.65131, 51.64444, 51.72552, 53.23706, 53.3003, 53.2881799999999, 53.37476, 53.575, 53.60768, 53.624, 53.853, 53.8025299999999, 54.63394, 55.16029, 53.38459, 53.87899, 53.48499, 51.73769, 51.7713299999999, 53.2529899999999, 53.2372799999999, 53.2529899999999, 51.65612, 53.91796, 53.4012, 51.6574999999999, 53.3780599999999, 53.8181599999999, 55.15361, 53.2704099999999, 53.29162, 54.61404, 53.48499, 54.61034, 51.73955, 54.62928, 53.6, 53.60389], \"lon\": [-9.58638, -9.80871, -9.99874999999999, -9.78851, -9.76548, -9.73658, -9.8687, -10.03503, -9.90281, -9.86386, -9.663, -9.90419999999999, -8.301, -7.69615, -9.85832, -9.64964, -10.06718, -9.9692, -9.81448, -9.72885, -9.7546, -9.72885, -9.77858999999999, -9.79876, -9.82659999999999, -9.54889, -9.87306, -9.95336, -7.68389, -9.71382, -9.70243999999999, -8.41341, -10.06718, -8.35322, -10.2123399999999, -8.29013999999999, -9.75528, -9.80278], \"marker\": {\"color\": \"#004da8\", \"size\": 7}, \"name\": \"tidbiT\", \"type\": \"scattermapbox\"}],                        {\"height\": 400, \"legend\": {\"title\": {\"text\": \"<b>Station Type</b>\"}, \"x\": 0.01}, \"mapbox\": {\"bearing\": 0, \"center\": {\"lat\": 56, \"lon\": 346}, \"pitch\": 0, \"style\": \"open-street-map\", \"zoom\": 3.8}, \"margin\": {\"b\": 0, \"l\": 0, \"r\": 0, \"t\": 0}, \"paper_bgcolor\": \"rgba(0,0,0,0)\", \"plot_bgcolor\": \"rgba(0,0,0,0)\", \"template\": {\"data\": {\"bar\": [{\"error_x\": {\"color\": \"#2a3f5f\"}, \"error_y\": {\"color\": \"#2a3f5f\"}, \"marker\": {\"line\": {\"color\": \"#E5ECF6\", \"width\": 0.5}}, \"type\": \"bar\"}], \"barpolar\": [{\"marker\": {\"line\": {\"color\": \"#E5ECF6\", \"width\": 0.5}}, \"type\": \"barpolar\"}], \"carpet\": [{\"aaxis\": {\"endlinecolor\": \"#2a3f5f\", \"gridcolor\": \"white\", \"linecolor\": \"white\", \"minorgridcolor\": \"white\", \"startlinecolor\": \"#2a3f5f\"}, \"baxis\": {\"endlinecolor\": \"#2a3f5f\", \"gridcolor\": \"white\", \"linecolor\": \"white\", \"minorgridcolor\": \"white\", \"startlinecolor\": \"#2a3f5f\"}, \"type\": \"carpet\"}], \"choropleth\": [{\"colorbar\": {\"outlinewidth\": 0, \"ticks\": \"\"}, \"type\": \"choropleth\"}], \"contour\": [{\"colorbar\": {\"outlinewidth\": 0, \"ticks\": \"\"}, \"colorscale\": [[0.0, \"#0d0887\"], [0.1111111111111111, \"#46039f\"], [0.2222222222222222, \"#7201a8\"], [0.3333333333333333, \"#9c179e\"], [0.4444444444444444, \"#bd3786\"], [0.5555555555555556, \"#d8576b\"], [0.6666666666666666, \"#ed7953\"], [0.7777777777777778, \"#fb9f3a\"], [0.8888888888888888, \"#fdca26\"], [1.0, \"#f0f921\"]], \"type\": \"contour\"}], \"contourcarpet\": [{\"colorbar\": {\"outlinewidth\": 0, \"ticks\": \"\"}, \"type\": \"contourcarpet\"}], \"heatmap\": [{\"colorbar\": {\"outlinewidth\": 0, \"ticks\": \"\"}, \"colorscale\": [[0.0, \"#0d0887\"], [0.1111111111111111, \"#46039f\"], [0.2222222222222222, \"#7201a8\"], [0.3333333333333333, \"#9c179e\"], [0.4444444444444444, \"#bd3786\"], [0.5555555555555556, \"#d8576b\"], [0.6666666666666666, \"#ed7953\"], [0.7777777777777778, \"#fb9f3a\"], [0.8888888888888888, \"#fdca26\"], [1.0, \"#f0f921\"]], \"type\": \"heatmap\"}], \"heatmapgl\": [{\"colorbar\": {\"outlinewidth\": 0, \"ticks\": \"\"}, \"colorscale\": [[0.0, \"#0d0887\"], [0.1111111111111111, \"#46039f\"], [0.2222222222222222, \"#7201a8\"], [0.3333333333333333, \"#9c179e\"], [0.4444444444444444, \"#bd3786\"], [0.5555555555555556, \"#d8576b\"], [0.6666666666666666, \"#ed7953\"], [0.7777777777777778, \"#fb9f3a\"], [0.8888888888888888, \"#fdca26\"], [1.0, \"#f0f921\"]], \"type\": \"heatmapgl\"}], \"histogram\": [{\"marker\": {\"colorbar\": {\"outlinewidth\": 0, \"ticks\": \"\"}}, \"type\": \"histogram\"}], \"histogram2d\": [{\"colorbar\": {\"outlinewidth\": 0, \"ticks\": \"\"}, \"colorscale\": [[0.0, \"#0d0887\"], [0.1111111111111111, \"#46039f\"], [0.2222222222222222, \"#7201a8\"], [0.3333333333333333, \"#9c179e\"], [0.4444444444444444, \"#bd3786\"], [0.5555555555555556, \"#d8576b\"], [0.6666666666666666, \"#ed7953\"], [0.7777777777777778, \"#fb9f3a\"], [0.8888888888888888, \"#fdca26\"], [1.0, \"#f0f921\"]], \"type\": \"histogram2d\"}], \"histogram2dcontour\": [{\"colorbar\": {\"outlinewidth\": 0, \"ticks\": \"\"}, \"colorscale\": [[0.0, \"#0d0887\"], [0.1111111111111111, \"#46039f\"], [0.2222222222222222, \"#7201a8\"], [0.3333333333333333, \"#9c179e\"], [0.4444444444444444, \"#bd3786\"], [0.5555555555555556, \"#d8576b\"], [0.6666666666666666, \"#ed7953\"], [0.7777777777777778, \"#fb9f3a\"], [0.8888888888888888, \"#fdca26\"], [1.0, \"#f0f921\"]], \"type\": \"histogram2dcontour\"}], \"mesh3d\": [{\"colorbar\": {\"outlinewidth\": 0, \"ticks\": \"\"}, \"type\": \"mesh3d\"}], \"parcoords\": [{\"line\": {\"colorbar\": {\"outlinewidth\": 0, \"ticks\": \"\"}}, \"type\": \"parcoords\"}], \"pie\": [{\"automargin\": true, \"type\": \"pie\"}], \"scatter\": [{\"marker\": {\"colorbar\": {\"outlinewidth\": 0, \"ticks\": \"\"}}, \"type\": \"scatter\"}], \"scatter3d\": [{\"line\": {\"colorbar\": {\"outlinewidth\": 0, \"ticks\": \"\"}}, \"marker\": {\"colorbar\": {\"outlinewidth\": 0, \"ticks\": \"\"}}, \"type\": \"scatter3d\"}], \"scattercarpet\": [{\"marker\": {\"colorbar\": {\"outlinewidth\": 0, \"ticks\": \"\"}}, \"type\": \"scattercarpet\"}], \"scattergeo\": [{\"marker\": {\"colorbar\": {\"outlinewidth\": 0, \"ticks\": \"\"}}, \"type\": \"scattergeo\"}], \"scattergl\": [{\"marker\": {\"colorbar\": {\"outlinewidth\": 0, \"ticks\": \"\"}}, \"type\": \"scattergl\"}], \"scattermapbox\": [{\"marker\": {\"colorbar\": {\"outlinewidth\": 0, \"ticks\": \"\"}}, \"type\": \"scattermapbox\"}], \"scatterpolar\": [{\"marker\": {\"colorbar\": {\"outlinewidth\": 0, \"ticks\": \"\"}}, \"type\": \"scatterpolar\"}], \"scatterpolargl\": [{\"marker\": {\"colorbar\": {\"outlinewidth\": 0, \"ticks\": \"\"}}, \"type\": \"scatterpolargl\"}], \"scatterternary\": [{\"marker\": {\"colorbar\": {\"outlinewidth\": 0, \"ticks\": \"\"}}, \"type\": \"scatterternary\"}], \"surface\": [{\"colorbar\": {\"outlinewidth\": 0, \"ticks\": \"\"}, \"colorscale\": [[0.0, \"#0d0887\"], [0.1111111111111111, \"#46039f\"], [0.2222222222222222, \"#7201a8\"], [0.3333333333333333, \"#9c179e\"], [0.4444444444444444, \"#bd3786\"], [0.5555555555555556, \"#d8576b\"], [0.6666666666666666, \"#ed7953\"], [0.7777777777777778, \"#fb9f3a\"], [0.8888888888888888, \"#fdca26\"], [1.0, \"#f0f921\"]], \"type\": \"surface\"}], \"table\": [{\"cells\": {\"fill\": {\"color\": \"#EBF0F8\"}, \"line\": {\"color\": \"white\"}}, \"header\": {\"fill\": {\"color\": \"#C8D4E3\"}, \"line\": {\"color\": \"white\"}}, \"type\": \"table\"}]}, \"layout\": {\"annotationdefaults\": {\"arrowcolor\": \"#2a3f5f\", \"arrowhead\": 0, \"arrowwidth\": 1}, \"autotypenumbers\": \"strict\", \"coloraxis\": {\"colorbar\": {\"outlinewidth\": 0, \"ticks\": \"\"}}, \"colorscale\": {\"diverging\": [[0, \"#8e0152\"], [0.1, \"#c51b7d\"], [0.2, \"#de77ae\"], [0.3, \"#f1b6da\"], [0.4, \"#fde0ef\"], [0.5, \"#f7f7f7\"], [0.6, \"#e6f5d0\"], [0.7, \"#b8e186\"], [0.8, \"#7fbc41\"], [0.9, \"#4d9221\"], [1, \"#276419\"]], \"sequential\": [[0.0, \"#0d0887\"], [0.1111111111111111, \"#46039f\"], [0.2222222222222222, \"#7201a8\"], [0.3333333333333333, \"#9c179e\"], [0.4444444444444444, \"#bd3786\"], [0.5555555555555556, \"#d8576b\"], [0.6666666666666666, \"#ed7953\"], [0.7777777777777778, \"#fb9f3a\"], [0.8888888888888888, \"#fdca26\"], [1.0, \"#f0f921\"]], \"sequentialminus\": [[0.0, \"#0d0887\"], [0.1111111111111111, \"#46039f\"], [0.2222222222222222, \"#7201a8\"], [0.3333333333333333, \"#9c179e\"], [0.4444444444444444, \"#bd3786\"], [0.5555555555555556, \"#d8576b\"], [0.6666666666666666, \"#ed7953\"], [0.7777777777777778, \"#fb9f3a\"], [0.8888888888888888, \"#fdca26\"], [1.0, \"#f0f921\"]]}, \"colorway\": [\"#636efa\", \"#EF553B\", \"#00cc96\", \"#ab63fa\", \"#FFA15A\", \"#19d3f3\", \"#FF6692\", \"#B6E880\", \"#FF97FF\", \"#FECB52\"], \"font\": {\"color\": \"#2a3f5f\"}, \"geo\": {\"bgcolor\": \"white\", \"lakecolor\": \"white\", \"landcolor\": \"#E5ECF6\", \"showlakes\": true, \"showland\": true, \"subunitcolor\": \"white\"}, \"hoverlabel\": {\"align\": \"left\"}, \"hovermode\": \"closest\", \"mapbox\": {\"style\": \"light\"}, \"paper_bgcolor\": \"white\", \"plot_bgcolor\": \"#E5ECF6\", \"polar\": {\"angularaxis\": {\"gridcolor\": \"white\", \"linecolor\": \"white\", \"ticks\": \"\"}, \"bgcolor\": \"#E5ECF6\", \"radialaxis\": {\"gridcolor\": \"white\", \"linecolor\": \"white\", \"ticks\": \"\"}}, \"scene\": {\"xaxis\": {\"backgroundcolor\": \"#E5ECF6\", \"gridcolor\": \"white\", \"gridwidth\": 2, \"linecolor\": \"white\", \"showbackground\": true, \"ticks\": \"\", \"zerolinecolor\": \"white\"}, \"yaxis\": {\"backgroundcolor\": \"#E5ECF6\", \"gridcolor\": \"white\", \"gridwidth\": 2, \"linecolor\": \"white\", \"showbackground\": true, \"ticks\": \"\", \"zerolinecolor\": \"white\"}, \"zaxis\": {\"backgroundcolor\": \"#E5ECF6\", \"gridcolor\": \"white\", \"gridwidth\": 2, \"linecolor\": \"white\", \"showbackground\": true, \"ticks\": \"\", \"zerolinecolor\": \"white\"}}, \"shapedefaults\": {\"line\": {\"color\": \"#2a3f5f\"}}, \"ternary\": {\"aaxis\": {\"gridcolor\": \"white\", \"linecolor\": \"white\", \"ticks\": \"\"}, \"baxis\": {\"gridcolor\": \"white\", \"linecolor\": \"white\", \"ticks\": \"\"}, \"bgcolor\": \"#E5ECF6\", \"caxis\": {\"gridcolor\": \"white\", \"linecolor\": \"white\", \"ticks\": \"\"}}, \"title\": {\"x\": 0.05}, \"xaxis\": {\"automargin\": true, \"gridcolor\": \"white\", \"linecolor\": \"white\", \"ticks\": \"\", \"title\": {\"standoff\": 15}, \"zerolinecolor\": \"white\", \"zerolinewidth\": 2}, \"yaxis\": {\"automargin\": true, \"gridcolor\": \"white\", \"linecolor\": \"white\", \"ticks\": \"\", \"title\": {\"standoff\": 15}, \"zerolinecolor\": \"white\", \"zerolinewidth\": 2}}}},                        {\"responsive\": true}                    ).then(function(){\n",
       "                            \n",
       "var gd = document.getElementById('9cf7dfe1-12f4-435e-a5bd-d4b162d189d7');\n",
       "var x = new MutationObserver(function (mutations, observer) {{\n",
       "        var display = window.getComputedStyle(gd).display;\n",
       "        if (!display || display === 'none') {{\n",
       "            console.log([gd, 'removed!']);\n",
       "            Plotly.purge(gd);\n",
       "            observer.disconnect();\n",
       "        }}\n",
       "}});\n",
       "\n",
       "// Listen for the removal of the full notebook cells\n",
       "var notebookContainer = gd.closest('#notebook-container');\n",
       "if (notebookContainer) {{\n",
       "    x.observe(notebookContainer, {childList: true});\n",
       "}}\n",
       "\n",
       "// Listen for the clearing of the current output cell\n",
       "var outputEl = gd.closest('.output');\n",
       "if (outputEl) {{\n",
       "    x.observe(outputEl, {childList: true});\n",
       "}}\n",
       "\n",
       "                        })                };                });            </script>        </div>"
      ]
     },
     "metadata": {},
     "output_type": "display_data"
    }
   ],
   "source": [
    "    map_3_1=stations_map(combinedDF)\n",
    "    map_3_1.update_layout(\n",
    "    mapbox=dict(bearing=0,\n",
    "            center=dict(\n",
    "                lat=56,\n",
    "                lon=346\n",
    "            ),\n",
    "            pitch=0,\n",
    "            zoom=3.8))\n",
    "    map_3_1"
   ]
  },
  {
   "cell_type": "code",
   "execution_count": null,
   "metadata": {},
   "outputs": [],
   "source": []
  },
  {
   "cell_type": "code",
   "execution_count": null,
   "metadata": {},
   "outputs": [],
   "source": []
  }
 ],
 "metadata": {
  "kernelspec": {
   "display_name": "Python 3",
   "language": "python",
   "name": "python3"
  },
  "language_info": {
   "codemirror_mode": {
    "name": "ipython",
    "version": 3
   },
   "file_extension": ".py",
   "mimetype": "text/x-python",
   "name": "python",
   "nbconvert_exporter": "python",
   "pygments_lexer": "ipython3",
   "version": "3.8.2"
  }
 },
 "nbformat": 4,
 "nbformat_minor": 2
}
