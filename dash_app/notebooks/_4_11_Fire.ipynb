{
 "cells": [
  {
   "cell_type": "code",
   "execution_count": 1,
   "metadata": {},
   "outputs": [],
   "source": [
    "import pandas as pd\n",
    "import numpy as np\n",
    "import datetime\n",
    "import dateutil\n",
    "import plotly.graph_objects as go\n",
    "from plotly.subplots import make_subplots\n",
    "from charts import stations_map\n",
    "from settings import *"
   ]
  },
  {
   "cell_type": "code",
   "execution_count": 2,
   "metadata": {},
   "outputs": [
    {
     "output_type": "execute_result",
     "data": {
      "text/plain": [
       "    Dublin_Airport  year  mycount  Unnamed: 3  Shannon_Airport  year.1  \\\n",
       "0              NaN  1970      NaN         NaN              NaN    1970   \n",
       "1            532.0  1971     21.0         NaN            518.0    1971   \n",
       "2            532.0  1972     38.0         NaN            518.0    1972   \n",
       "3            532.0  1973     12.0         NaN            518.0    1973   \n",
       "4            532.0  1974     14.0         NaN            518.0    1974   \n",
       "5            532.0  1975     55.0         NaN            518.0    1975   \n",
       "6            532.0  1976     59.0         NaN            518.0    1976   \n",
       "7            532.0  1977     64.0         NaN            518.0    1977   \n",
       "8            532.0  1978     26.0         NaN            518.0    1978   \n",
       "9            532.0  1979     31.0         NaN            518.0    1979   \n",
       "10           532.0  1980     22.0         NaN            518.0    1980   \n",
       "11           532.0  1981     30.0         NaN            518.0    1981   \n",
       "12           532.0  1982     34.0         NaN            518.0    1982   \n",
       "13           532.0  1983     29.0         NaN            518.0    1983   \n",
       "14           532.0  1984     45.0         NaN            518.0    1984   \n",
       "15           532.0  1985     13.0         NaN            518.0    1985   \n",
       "16           532.0  1986     21.0         NaN            518.0    1986   \n",
       "17           532.0  1987     26.0         NaN            518.0    1987   \n",
       "18           532.0  1988     20.0         NaN            518.0    1988   \n",
       "19           532.0  1989     72.0         NaN            518.0    1989   \n",
       "20           532.0  1990     66.0         NaN            518.0    1990   \n",
       "21           532.0  1991     62.0         NaN            518.0    1991   \n",
       "22           532.0  1992     48.0         NaN            518.0    1992   \n",
       "23           532.0  1993     34.0         NaN            518.0    1993   \n",
       "24           532.0  1994     23.0         NaN            518.0    1994   \n",
       "25           532.0  1995     64.0         NaN            518.0    1995   \n",
       "26           532.0  1996     33.0         NaN            518.0    1996   \n",
       "27           532.0  1997      9.0         NaN            518.0    1997   \n",
       "28           532.0  1998      7.0         NaN            518.0    1998   \n",
       "29           532.0  1999     21.0         NaN            518.0    1999   \n",
       "30           532.0  2000     19.0         NaN            518.0    2000   \n",
       "31           532.0  2001     26.0         NaN            518.0    2001   \n",
       "32           532.0  2002     12.0         NaN            518.0    2002   \n",
       "33           532.0  2003     45.0         NaN            518.0    2003   \n",
       "34           532.0  2004     47.0         NaN            518.0    2004   \n",
       "35           532.0  2005     36.0         NaN            518.0    2005   \n",
       "36           532.0  2006     41.0         NaN            518.0    2006   \n",
       "37           532.0  2007     29.0         NaN            518.0    2007   \n",
       "38           532.0  2008     32.0         NaN            518.0    2008   \n",
       "39           532.0  2009     26.0         NaN            518.0    2009   \n",
       "40           532.0  2010     24.0         NaN            518.0    2010   \n",
       "41           532.0  2011     43.0         NaN            518.0    2011   \n",
       "42           532.0  2012     18.0         NaN            518.0    2012   \n",
       "43           532.0  2013     63.0         NaN            518.0    2013   \n",
       "44           532.0  2014     47.0         NaN            518.0    2014   \n",
       "45           532.0  2015     56.0         NaN            518.0    2015   \n",
       "46           532.0  2016     44.0         NaN            518.0    2016   \n",
       "47           532.0  2017     55.0         NaN            518.0    2017   \n",
       "48           532.0  2018     80.0         NaN            518.0    2018   \n",
       "49             NaN  2019      NaN         NaN              NaN    2019   \n",
       "50             NaN  2020      NaN         NaN              NaN    2020   \n",
       "\n",
       "    mycount.1  Unnamed: 7  Unnamed: 8         Unnamed: 9  \n",
       "0         NaN         NaN         NaN                NaN  \n",
       "1        36.0         NaN         NaN                NaN  \n",
       "2        12.0         NaN         NaN                NaN  \n",
       "3        15.0         NaN         NaN                NaN  \n",
       "4        15.0         NaN         NaN                NaN  \n",
       "5        45.0         NaN         NaN                NaN  \n",
       "6        37.0         NaN         NaN                NaN  \n",
       "7        37.0         NaN         NaN                NaN  \n",
       "8        18.0         NaN         NaN                NaN  \n",
       "9        12.0         NaN         NaN                NaN  \n",
       "10       17.0         NaN         NaN                NaN  \n",
       "11       18.0         NaN         NaN                NaN  \n",
       "12       15.0         NaN         NaN                NaN  \n",
       "13       41.0         NaN         NaN                NaN  \n",
       "14       38.0         NaN         NaN                NaN  \n",
       "15        8.0         NaN         NaN                NaN  \n",
       "16        9.0         NaN         NaN                NaN  \n",
       "17       23.0         NaN         NaN                NaN  \n",
       "18        9.0         NaN         NaN                NaN  \n",
       "19       49.0         NaN         NaN                NaN  \n",
       "20       52.0         NaN         NaN                NaN  \n",
       "21       27.0         NaN         NaN                NaN  \n",
       "22       21.0         NaN         NaN  May-Sep inclusive  \n",
       "23       21.0         NaN         NaN                NaN  \n",
       "24        9.0         NaN         NaN                NaN  \n",
       "25       53.0         NaN         NaN                NaN  \n",
       "26       51.0         NaN         NaN                NaN  \n",
       "27       19.0         NaN         NaN                NaN  \n",
       "28       13.0         NaN         NaN                NaN  \n",
       "29       19.0         NaN         NaN                NaN  \n",
       "30       13.0         NaN         NaN                NaN  \n",
       "31        9.0         NaN         NaN                NaN  \n",
       "32        9.0         NaN         NaN                NaN  \n",
       "33       38.0         NaN         NaN                NaN  \n",
       "34       39.0         NaN         NaN                NaN  \n",
       "35       16.0         NaN         NaN                NaN  \n",
       "36       36.0         NaN         NaN                NaN  \n",
       "37       17.0         NaN         NaN                NaN  \n",
       "38       18.0         NaN         NaN                NaN  \n",
       "39       22.0         NaN         NaN                NaN  \n",
       "40       39.0         NaN         NaN                NaN  \n",
       "41       19.0         NaN         NaN                NaN  \n",
       "42       18.0         NaN         NaN                NaN  \n",
       "43       50.0         NaN         NaN                NaN  \n",
       "44       47.0         NaN         NaN                NaN  \n",
       "45       18.0         NaN         NaN                NaN  \n",
       "46       34.0         NaN         NaN                NaN  \n",
       "47       23.0         NaN         NaN                NaN  \n",
       "48       57.0         NaN         NaN                NaN  \n",
       "49        NaN         NaN         NaN                NaN  \n",
       "50        NaN         NaN         NaN                NaN  "
      ],
      "text/html": "<div>\n<style scoped>\n    .dataframe tbody tr th:only-of-type {\n        vertical-align: middle;\n    }\n\n    .dataframe tbody tr th {\n        vertical-align: top;\n    }\n\n    .dataframe thead th {\n        text-align: right;\n    }\n</style>\n<table border=\"1\" class=\"dataframe\">\n  <thead>\n    <tr style=\"text-align: right;\">\n      <th></th>\n      <th>Dublin_Airport</th>\n      <th>year</th>\n      <th>mycount</th>\n      <th>Unnamed: 3</th>\n      <th>Shannon_Airport</th>\n      <th>year.1</th>\n      <th>mycount.1</th>\n      <th>Unnamed: 7</th>\n      <th>Unnamed: 8</th>\n      <th>Unnamed: 9</th>\n    </tr>\n  </thead>\n  <tbody>\n    <tr>\n      <th>0</th>\n      <td>NaN</td>\n      <td>1970</td>\n      <td>NaN</td>\n      <td>NaN</td>\n      <td>NaN</td>\n      <td>1970</td>\n      <td>NaN</td>\n      <td>NaN</td>\n      <td>NaN</td>\n      <td>NaN</td>\n    </tr>\n    <tr>\n      <th>1</th>\n      <td>532.0</td>\n      <td>1971</td>\n      <td>21.0</td>\n      <td>NaN</td>\n      <td>518.0</td>\n      <td>1971</td>\n      <td>36.0</td>\n      <td>NaN</td>\n      <td>NaN</td>\n      <td>NaN</td>\n    </tr>\n    <tr>\n      <th>2</th>\n      <td>532.0</td>\n      <td>1972</td>\n      <td>38.0</td>\n      <td>NaN</td>\n      <td>518.0</td>\n      <td>1972</td>\n      <td>12.0</td>\n      <td>NaN</td>\n      <td>NaN</td>\n      <td>NaN</td>\n    </tr>\n    <tr>\n      <th>3</th>\n      <td>532.0</td>\n      <td>1973</td>\n      <td>12.0</td>\n      <td>NaN</td>\n      <td>518.0</td>\n      <td>1973</td>\n      <td>15.0</td>\n      <td>NaN</td>\n      <td>NaN</td>\n      <td>NaN</td>\n    </tr>\n    <tr>\n      <th>4</th>\n      <td>532.0</td>\n      <td>1974</td>\n      <td>14.0</td>\n      <td>NaN</td>\n      <td>518.0</td>\n      <td>1974</td>\n      <td>15.0</td>\n      <td>NaN</td>\n      <td>NaN</td>\n      <td>NaN</td>\n    </tr>\n    <tr>\n      <th>5</th>\n      <td>532.0</td>\n      <td>1975</td>\n      <td>55.0</td>\n      <td>NaN</td>\n      <td>518.0</td>\n      <td>1975</td>\n      <td>45.0</td>\n      <td>NaN</td>\n      <td>NaN</td>\n      <td>NaN</td>\n    </tr>\n    <tr>\n      <th>6</th>\n      <td>532.0</td>\n      <td>1976</td>\n      <td>59.0</td>\n      <td>NaN</td>\n      <td>518.0</td>\n      <td>1976</td>\n      <td>37.0</td>\n      <td>NaN</td>\n      <td>NaN</td>\n      <td>NaN</td>\n    </tr>\n    <tr>\n      <th>7</th>\n      <td>532.0</td>\n      <td>1977</td>\n      <td>64.0</td>\n      <td>NaN</td>\n      <td>518.0</td>\n      <td>1977</td>\n      <td>37.0</td>\n      <td>NaN</td>\n      <td>NaN</td>\n      <td>NaN</td>\n    </tr>\n    <tr>\n      <th>8</th>\n      <td>532.0</td>\n      <td>1978</td>\n      <td>26.0</td>\n      <td>NaN</td>\n      <td>518.0</td>\n      <td>1978</td>\n      <td>18.0</td>\n      <td>NaN</td>\n      <td>NaN</td>\n      <td>NaN</td>\n    </tr>\n    <tr>\n      <th>9</th>\n      <td>532.0</td>\n      <td>1979</td>\n      <td>31.0</td>\n      <td>NaN</td>\n      <td>518.0</td>\n      <td>1979</td>\n      <td>12.0</td>\n      <td>NaN</td>\n      <td>NaN</td>\n      <td>NaN</td>\n    </tr>\n    <tr>\n      <th>10</th>\n      <td>532.0</td>\n      <td>1980</td>\n      <td>22.0</td>\n      <td>NaN</td>\n      <td>518.0</td>\n      <td>1980</td>\n      <td>17.0</td>\n      <td>NaN</td>\n      <td>NaN</td>\n      <td>NaN</td>\n    </tr>\n    <tr>\n      <th>11</th>\n      <td>532.0</td>\n      <td>1981</td>\n      <td>30.0</td>\n      <td>NaN</td>\n      <td>518.0</td>\n      <td>1981</td>\n      <td>18.0</td>\n      <td>NaN</td>\n      <td>NaN</td>\n      <td>NaN</td>\n    </tr>\n    <tr>\n      <th>12</th>\n      <td>532.0</td>\n      <td>1982</td>\n      <td>34.0</td>\n      <td>NaN</td>\n      <td>518.0</td>\n      <td>1982</td>\n      <td>15.0</td>\n      <td>NaN</td>\n      <td>NaN</td>\n      <td>NaN</td>\n    </tr>\n    <tr>\n      <th>13</th>\n      <td>532.0</td>\n      <td>1983</td>\n      <td>29.0</td>\n      <td>NaN</td>\n      <td>518.0</td>\n      <td>1983</td>\n      <td>41.0</td>\n      <td>NaN</td>\n      <td>NaN</td>\n      <td>NaN</td>\n    </tr>\n    <tr>\n      <th>14</th>\n      <td>532.0</td>\n      <td>1984</td>\n      <td>45.0</td>\n      <td>NaN</td>\n      <td>518.0</td>\n      <td>1984</td>\n      <td>38.0</td>\n      <td>NaN</td>\n      <td>NaN</td>\n      <td>NaN</td>\n    </tr>\n    <tr>\n      <th>15</th>\n      <td>532.0</td>\n      <td>1985</td>\n      <td>13.0</td>\n      <td>NaN</td>\n      <td>518.0</td>\n      <td>1985</td>\n      <td>8.0</td>\n      <td>NaN</td>\n      <td>NaN</td>\n      <td>NaN</td>\n    </tr>\n    <tr>\n      <th>16</th>\n      <td>532.0</td>\n      <td>1986</td>\n      <td>21.0</td>\n      <td>NaN</td>\n      <td>518.0</td>\n      <td>1986</td>\n      <td>9.0</td>\n      <td>NaN</td>\n      <td>NaN</td>\n      <td>NaN</td>\n    </tr>\n    <tr>\n      <th>17</th>\n      <td>532.0</td>\n      <td>1987</td>\n      <td>26.0</td>\n      <td>NaN</td>\n      <td>518.0</td>\n      <td>1987</td>\n      <td>23.0</td>\n      <td>NaN</td>\n      <td>NaN</td>\n      <td>NaN</td>\n    </tr>\n    <tr>\n      <th>18</th>\n      <td>532.0</td>\n      <td>1988</td>\n      <td>20.0</td>\n      <td>NaN</td>\n      <td>518.0</td>\n      <td>1988</td>\n      <td>9.0</td>\n      <td>NaN</td>\n      <td>NaN</td>\n      <td>NaN</td>\n    </tr>\n    <tr>\n      <th>19</th>\n      <td>532.0</td>\n      <td>1989</td>\n      <td>72.0</td>\n      <td>NaN</td>\n      <td>518.0</td>\n      <td>1989</td>\n      <td>49.0</td>\n      <td>NaN</td>\n      <td>NaN</td>\n      <td>NaN</td>\n    </tr>\n    <tr>\n      <th>20</th>\n      <td>532.0</td>\n      <td>1990</td>\n      <td>66.0</td>\n      <td>NaN</td>\n      <td>518.0</td>\n      <td>1990</td>\n      <td>52.0</td>\n      <td>NaN</td>\n      <td>NaN</td>\n      <td>NaN</td>\n    </tr>\n    <tr>\n      <th>21</th>\n      <td>532.0</td>\n      <td>1991</td>\n      <td>62.0</td>\n      <td>NaN</td>\n      <td>518.0</td>\n      <td>1991</td>\n      <td>27.0</td>\n      <td>NaN</td>\n      <td>NaN</td>\n      <td>NaN</td>\n    </tr>\n    <tr>\n      <th>22</th>\n      <td>532.0</td>\n      <td>1992</td>\n      <td>48.0</td>\n      <td>NaN</td>\n      <td>518.0</td>\n      <td>1992</td>\n      <td>21.0</td>\n      <td>NaN</td>\n      <td>NaN</td>\n      <td>May-Sep inclusive</td>\n    </tr>\n    <tr>\n      <th>23</th>\n      <td>532.0</td>\n      <td>1993</td>\n      <td>34.0</td>\n      <td>NaN</td>\n      <td>518.0</td>\n      <td>1993</td>\n      <td>21.0</td>\n      <td>NaN</td>\n      <td>NaN</td>\n      <td>NaN</td>\n    </tr>\n    <tr>\n      <th>24</th>\n      <td>532.0</td>\n      <td>1994</td>\n      <td>23.0</td>\n      <td>NaN</td>\n      <td>518.0</td>\n      <td>1994</td>\n      <td>9.0</td>\n      <td>NaN</td>\n      <td>NaN</td>\n      <td>NaN</td>\n    </tr>\n    <tr>\n      <th>25</th>\n      <td>532.0</td>\n      <td>1995</td>\n      <td>64.0</td>\n      <td>NaN</td>\n      <td>518.0</td>\n      <td>1995</td>\n      <td>53.0</td>\n      <td>NaN</td>\n      <td>NaN</td>\n      <td>NaN</td>\n    </tr>\n    <tr>\n      <th>26</th>\n      <td>532.0</td>\n      <td>1996</td>\n      <td>33.0</td>\n      <td>NaN</td>\n      <td>518.0</td>\n      <td>1996</td>\n      <td>51.0</td>\n      <td>NaN</td>\n      <td>NaN</td>\n      <td>NaN</td>\n    </tr>\n    <tr>\n      <th>27</th>\n      <td>532.0</td>\n      <td>1997</td>\n      <td>9.0</td>\n      <td>NaN</td>\n      <td>518.0</td>\n      <td>1997</td>\n      <td>19.0</td>\n      <td>NaN</td>\n      <td>NaN</td>\n      <td>NaN</td>\n    </tr>\n    <tr>\n      <th>28</th>\n      <td>532.0</td>\n      <td>1998</td>\n      <td>7.0</td>\n      <td>NaN</td>\n      <td>518.0</td>\n      <td>1998</td>\n      <td>13.0</td>\n      <td>NaN</td>\n      <td>NaN</td>\n      <td>NaN</td>\n    </tr>\n    <tr>\n      <th>29</th>\n      <td>532.0</td>\n      <td>1999</td>\n      <td>21.0</td>\n      <td>NaN</td>\n      <td>518.0</td>\n      <td>1999</td>\n      <td>19.0</td>\n      <td>NaN</td>\n      <td>NaN</td>\n      <td>NaN</td>\n    </tr>\n    <tr>\n      <th>30</th>\n      <td>532.0</td>\n      <td>2000</td>\n      <td>19.0</td>\n      <td>NaN</td>\n      <td>518.0</td>\n      <td>2000</td>\n      <td>13.0</td>\n      <td>NaN</td>\n      <td>NaN</td>\n      <td>NaN</td>\n    </tr>\n    <tr>\n      <th>31</th>\n      <td>532.0</td>\n      <td>2001</td>\n      <td>26.0</td>\n      <td>NaN</td>\n      <td>518.0</td>\n      <td>2001</td>\n      <td>9.0</td>\n      <td>NaN</td>\n      <td>NaN</td>\n      <td>NaN</td>\n    </tr>\n    <tr>\n      <th>32</th>\n      <td>532.0</td>\n      <td>2002</td>\n      <td>12.0</td>\n      <td>NaN</td>\n      <td>518.0</td>\n      <td>2002</td>\n      <td>9.0</td>\n      <td>NaN</td>\n      <td>NaN</td>\n      <td>NaN</td>\n    </tr>\n    <tr>\n      <th>33</th>\n      <td>532.0</td>\n      <td>2003</td>\n      <td>45.0</td>\n      <td>NaN</td>\n      <td>518.0</td>\n      <td>2003</td>\n      <td>38.0</td>\n      <td>NaN</td>\n      <td>NaN</td>\n      <td>NaN</td>\n    </tr>\n    <tr>\n      <th>34</th>\n      <td>532.0</td>\n      <td>2004</td>\n      <td>47.0</td>\n      <td>NaN</td>\n      <td>518.0</td>\n      <td>2004</td>\n      <td>39.0</td>\n      <td>NaN</td>\n      <td>NaN</td>\n      <td>NaN</td>\n    </tr>\n    <tr>\n      <th>35</th>\n      <td>532.0</td>\n      <td>2005</td>\n      <td>36.0</td>\n      <td>NaN</td>\n      <td>518.0</td>\n      <td>2005</td>\n      <td>16.0</td>\n      <td>NaN</td>\n      <td>NaN</td>\n      <td>NaN</td>\n    </tr>\n    <tr>\n      <th>36</th>\n      <td>532.0</td>\n      <td>2006</td>\n      <td>41.0</td>\n      <td>NaN</td>\n      <td>518.0</td>\n      <td>2006</td>\n      <td>36.0</td>\n      <td>NaN</td>\n      <td>NaN</td>\n      <td>NaN</td>\n    </tr>\n    <tr>\n      <th>37</th>\n      <td>532.0</td>\n      <td>2007</td>\n      <td>29.0</td>\n      <td>NaN</td>\n      <td>518.0</td>\n      <td>2007</td>\n      <td>17.0</td>\n      <td>NaN</td>\n      <td>NaN</td>\n      <td>NaN</td>\n    </tr>\n    <tr>\n      <th>38</th>\n      <td>532.0</td>\n      <td>2008</td>\n      <td>32.0</td>\n      <td>NaN</td>\n      <td>518.0</td>\n      <td>2008</td>\n      <td>18.0</td>\n      <td>NaN</td>\n      <td>NaN</td>\n      <td>NaN</td>\n    </tr>\n    <tr>\n      <th>39</th>\n      <td>532.0</td>\n      <td>2009</td>\n      <td>26.0</td>\n      <td>NaN</td>\n      <td>518.0</td>\n      <td>2009</td>\n      <td>22.0</td>\n      <td>NaN</td>\n      <td>NaN</td>\n      <td>NaN</td>\n    </tr>\n    <tr>\n      <th>40</th>\n      <td>532.0</td>\n      <td>2010</td>\n      <td>24.0</td>\n      <td>NaN</td>\n      <td>518.0</td>\n      <td>2010</td>\n      <td>39.0</td>\n      <td>NaN</td>\n      <td>NaN</td>\n      <td>NaN</td>\n    </tr>\n    <tr>\n      <th>41</th>\n      <td>532.0</td>\n      <td>2011</td>\n      <td>43.0</td>\n      <td>NaN</td>\n      <td>518.0</td>\n      <td>2011</td>\n      <td>19.0</td>\n      <td>NaN</td>\n      <td>NaN</td>\n      <td>NaN</td>\n    </tr>\n    <tr>\n      <th>42</th>\n      <td>532.0</td>\n      <td>2012</td>\n      <td>18.0</td>\n      <td>NaN</td>\n      <td>518.0</td>\n      <td>2012</td>\n      <td>18.0</td>\n      <td>NaN</td>\n      <td>NaN</td>\n      <td>NaN</td>\n    </tr>\n    <tr>\n      <th>43</th>\n      <td>532.0</td>\n      <td>2013</td>\n      <td>63.0</td>\n      <td>NaN</td>\n      <td>518.0</td>\n      <td>2013</td>\n      <td>50.0</td>\n      <td>NaN</td>\n      <td>NaN</td>\n      <td>NaN</td>\n    </tr>\n    <tr>\n      <th>44</th>\n      <td>532.0</td>\n      <td>2014</td>\n      <td>47.0</td>\n      <td>NaN</td>\n      <td>518.0</td>\n      <td>2014</td>\n      <td>47.0</td>\n      <td>NaN</td>\n      <td>NaN</td>\n      <td>NaN</td>\n    </tr>\n    <tr>\n      <th>45</th>\n      <td>532.0</td>\n      <td>2015</td>\n      <td>56.0</td>\n      <td>NaN</td>\n      <td>518.0</td>\n      <td>2015</td>\n      <td>18.0</td>\n      <td>NaN</td>\n      <td>NaN</td>\n      <td>NaN</td>\n    </tr>\n    <tr>\n      <th>46</th>\n      <td>532.0</td>\n      <td>2016</td>\n      <td>44.0</td>\n      <td>NaN</td>\n      <td>518.0</td>\n      <td>2016</td>\n      <td>34.0</td>\n      <td>NaN</td>\n      <td>NaN</td>\n      <td>NaN</td>\n    </tr>\n    <tr>\n      <th>47</th>\n      <td>532.0</td>\n      <td>2017</td>\n      <td>55.0</td>\n      <td>NaN</td>\n      <td>518.0</td>\n      <td>2017</td>\n      <td>23.0</td>\n      <td>NaN</td>\n      <td>NaN</td>\n      <td>NaN</td>\n    </tr>\n    <tr>\n      <th>48</th>\n      <td>532.0</td>\n      <td>2018</td>\n      <td>80.0</td>\n      <td>NaN</td>\n      <td>518.0</td>\n      <td>2018</td>\n      <td>57.0</td>\n      <td>NaN</td>\n      <td>NaN</td>\n      <td>NaN</td>\n    </tr>\n    <tr>\n      <th>49</th>\n      <td>NaN</td>\n      <td>2019</td>\n      <td>NaN</td>\n      <td>NaN</td>\n      <td>NaN</td>\n      <td>2019</td>\n      <td>NaN</td>\n      <td>NaN</td>\n      <td>NaN</td>\n      <td>NaN</td>\n    </tr>\n    <tr>\n      <th>50</th>\n      <td>NaN</td>\n      <td>2020</td>\n      <td>NaN</td>\n      <td>NaN</td>\n      <td>NaN</td>\n      <td>2020</td>\n      <td>NaN</td>\n      <td>NaN</td>\n      <td>NaN</td>\n      <td>NaN</td>\n    </tr>\n  </tbody>\n</table>\n</div>"
     },
     "metadata": {},
     "execution_count": 2
    }
   ],
   "source": [
    "data_path = DATA_PATH+'Terrestrial_Domain/4.11Fire/Figure4.22/'\n",
    "xls = pd.ExcelFile(\n",
    "    data_path+'Figure4.22_FireIndex.xlsx')\n",
    "df = pd.read_excel(xls, 'May_Sep')\n",
    "df"
   ]
  },
  {
   "cell_type": "code",
   "execution_count": 8,
   "metadata": {},
   "outputs": [
    {
     "output_type": "display_data",
     "data": {
      "application/vnd.plotly.v1+json": {
       "config": {
        "plotlyServerURL": "https://plot.ly"
       },
       "data": [
        {
         "hovertemplate": "%{x}<br><b>Dublin Airport</b><br>Days: %{y}<extra></extra>",
         "line": {
          "color": "#00a4ae",
          "width": 2
         },
         "mode": "lines",
         "name": "Dublin Airport",
         "type": "scatter",
         "x": [
          1970,
          1971,
          1972,
          1973,
          1974,
          1975,
          1976,
          1977,
          1978,
          1979,
          1980,
          1981,
          1982,
          1983,
          1984,
          1985,
          1986,
          1987,
          1988,
          1989,
          1990,
          1991,
          1992,
          1993,
          1994,
          1995,
          1996,
          1997,
          1998,
          1999,
          2000,
          2001,
          2002,
          2003,
          2004,
          2005,
          2006,
          2007,
          2008,
          2009,
          2010,
          2011,
          2012,
          2013,
          2014,
          2015,
          2016,
          2017,
          2018,
          2019,
          2020
         ],
         "y": [
          null,
          21,
          38,
          12,
          14,
          55,
          59,
          64,
          26,
          31,
          22,
          30,
          34,
          29,
          45,
          13,
          21,
          26,
          20,
          72,
          66,
          62,
          48,
          34,
          23,
          64,
          33,
          9,
          7,
          21,
          19,
          26,
          12,
          45,
          47,
          36,
          41,
          29,
          32,
          26,
          24,
          43,
          18,
          63,
          47,
          56,
          44,
          55,
          80,
          null,
          null
         ]
        },
        {
         "hovertemplate": "%{x}<br><b>Shannon Airport</b><br>Days: %{y}<extra></extra>",
         "line": {
          "color": "#E1AF00",
          "width": 2
         },
         "mode": "lines",
         "name": "Shannon Airport",
         "type": "scatter",
         "x": [
          1970,
          1971,
          1972,
          1973,
          1974,
          1975,
          1976,
          1977,
          1978,
          1979,
          1980,
          1981,
          1982,
          1983,
          1984,
          1985,
          1986,
          1987,
          1988,
          1989,
          1990,
          1991,
          1992,
          1993,
          1994,
          1995,
          1996,
          1997,
          1998,
          1999,
          2000,
          2001,
          2002,
          2003,
          2004,
          2005,
          2006,
          2007,
          2008,
          2009,
          2010,
          2011,
          2012,
          2013,
          2014,
          2015,
          2016,
          2017,
          2018,
          2019,
          2020
         ],
         "y": [
          null,
          36,
          12,
          15,
          15,
          45,
          37,
          37,
          18,
          12,
          17,
          18,
          15,
          41,
          38,
          8,
          9,
          23,
          9,
          49,
          52,
          27,
          21,
          21,
          9,
          53,
          51,
          19,
          13,
          19,
          13,
          9,
          9,
          38,
          39,
          16,
          36,
          17,
          18,
          22,
          39,
          19,
          18,
          50,
          47,
          18,
          34,
          23,
          57,
          null,
          null
         ]
        }
       ],
       "layout": {
        "template": {
         "data": {
          "bar": [
           {
            "error_x": {
             "color": "#2a3f5f"
            },
            "error_y": {
             "color": "#2a3f5f"
            },
            "marker": {
             "line": {
              "color": "#E5ECF6",
              "width": 0.5
             }
            },
            "type": "bar"
           }
          ],
          "barpolar": [
           {
            "marker": {
             "line": {
              "color": "#E5ECF6",
              "width": 0.5
             }
            },
            "type": "barpolar"
           }
          ],
          "carpet": [
           {
            "aaxis": {
             "endlinecolor": "#2a3f5f",
             "gridcolor": "white",
             "linecolor": "white",
             "minorgridcolor": "white",
             "startlinecolor": "#2a3f5f"
            },
            "baxis": {
             "endlinecolor": "#2a3f5f",
             "gridcolor": "white",
             "linecolor": "white",
             "minorgridcolor": "white",
             "startlinecolor": "#2a3f5f"
            },
            "type": "carpet"
           }
          ],
          "choropleth": [
           {
            "colorbar": {
             "outlinewidth": 0,
             "ticks": ""
            },
            "type": "choropleth"
           }
          ],
          "contour": [
           {
            "colorbar": {
             "outlinewidth": 0,
             "ticks": ""
            },
            "colorscale": [
             [
              0,
              "#0d0887"
             ],
             [
              0.1111111111111111,
              "#46039f"
             ],
             [
              0.2222222222222222,
              "#7201a8"
             ],
             [
              0.3333333333333333,
              "#9c179e"
             ],
             [
              0.4444444444444444,
              "#bd3786"
             ],
             [
              0.5555555555555556,
              "#d8576b"
             ],
             [
              0.6666666666666666,
              "#ed7953"
             ],
             [
              0.7777777777777778,
              "#fb9f3a"
             ],
             [
              0.8888888888888888,
              "#fdca26"
             ],
             [
              1,
              "#f0f921"
             ]
            ],
            "type": "contour"
           }
          ],
          "contourcarpet": [
           {
            "colorbar": {
             "outlinewidth": 0,
             "ticks": ""
            },
            "type": "contourcarpet"
           }
          ],
          "heatmap": [
           {
            "colorbar": {
             "outlinewidth": 0,
             "ticks": ""
            },
            "colorscale": [
             [
              0,
              "#0d0887"
             ],
             [
              0.1111111111111111,
              "#46039f"
             ],
             [
              0.2222222222222222,
              "#7201a8"
             ],
             [
              0.3333333333333333,
              "#9c179e"
             ],
             [
              0.4444444444444444,
              "#bd3786"
             ],
             [
              0.5555555555555556,
              "#d8576b"
             ],
             [
              0.6666666666666666,
              "#ed7953"
             ],
             [
              0.7777777777777778,
              "#fb9f3a"
             ],
             [
              0.8888888888888888,
              "#fdca26"
             ],
             [
              1,
              "#f0f921"
             ]
            ],
            "type": "heatmap"
           }
          ],
          "heatmapgl": [
           {
            "colorbar": {
             "outlinewidth": 0,
             "ticks": ""
            },
            "colorscale": [
             [
              0,
              "#0d0887"
             ],
             [
              0.1111111111111111,
              "#46039f"
             ],
             [
              0.2222222222222222,
              "#7201a8"
             ],
             [
              0.3333333333333333,
              "#9c179e"
             ],
             [
              0.4444444444444444,
              "#bd3786"
             ],
             [
              0.5555555555555556,
              "#d8576b"
             ],
             [
              0.6666666666666666,
              "#ed7953"
             ],
             [
              0.7777777777777778,
              "#fb9f3a"
             ],
             [
              0.8888888888888888,
              "#fdca26"
             ],
             [
              1,
              "#f0f921"
             ]
            ],
            "type": "heatmapgl"
           }
          ],
          "histogram": [
           {
            "marker": {
             "colorbar": {
              "outlinewidth": 0,
              "ticks": ""
             }
            },
            "type": "histogram"
           }
          ],
          "histogram2d": [
           {
            "colorbar": {
             "outlinewidth": 0,
             "ticks": ""
            },
            "colorscale": [
             [
              0,
              "#0d0887"
             ],
             [
              0.1111111111111111,
              "#46039f"
             ],
             [
              0.2222222222222222,
              "#7201a8"
             ],
             [
              0.3333333333333333,
              "#9c179e"
             ],
             [
              0.4444444444444444,
              "#bd3786"
             ],
             [
              0.5555555555555556,
              "#d8576b"
             ],
             [
              0.6666666666666666,
              "#ed7953"
             ],
             [
              0.7777777777777778,
              "#fb9f3a"
             ],
             [
              0.8888888888888888,
              "#fdca26"
             ],
             [
              1,
              "#f0f921"
             ]
            ],
            "type": "histogram2d"
           }
          ],
          "histogram2dcontour": [
           {
            "colorbar": {
             "outlinewidth": 0,
             "ticks": ""
            },
            "colorscale": [
             [
              0,
              "#0d0887"
             ],
             [
              0.1111111111111111,
              "#46039f"
             ],
             [
              0.2222222222222222,
              "#7201a8"
             ],
             [
              0.3333333333333333,
              "#9c179e"
             ],
             [
              0.4444444444444444,
              "#bd3786"
             ],
             [
              0.5555555555555556,
              "#d8576b"
             ],
             [
              0.6666666666666666,
              "#ed7953"
             ],
             [
              0.7777777777777778,
              "#fb9f3a"
             ],
             [
              0.8888888888888888,
              "#fdca26"
             ],
             [
              1,
              "#f0f921"
             ]
            ],
            "type": "histogram2dcontour"
           }
          ],
          "mesh3d": [
           {
            "colorbar": {
             "outlinewidth": 0,
             "ticks": ""
            },
            "type": "mesh3d"
           }
          ],
          "parcoords": [
           {
            "line": {
             "colorbar": {
              "outlinewidth": 0,
              "ticks": ""
             }
            },
            "type": "parcoords"
           }
          ],
          "pie": [
           {
            "automargin": true,
            "type": "pie"
           }
          ],
          "scatter": [
           {
            "marker": {
             "colorbar": {
              "outlinewidth": 0,
              "ticks": ""
             }
            },
            "type": "scatter"
           }
          ],
          "scatter3d": [
           {
            "line": {
             "colorbar": {
              "outlinewidth": 0,
              "ticks": ""
             }
            },
            "marker": {
             "colorbar": {
              "outlinewidth": 0,
              "ticks": ""
             }
            },
            "type": "scatter3d"
           }
          ],
          "scattercarpet": [
           {
            "marker": {
             "colorbar": {
              "outlinewidth": 0,
              "ticks": ""
             }
            },
            "type": "scattercarpet"
           }
          ],
          "scattergeo": [
           {
            "marker": {
             "colorbar": {
              "outlinewidth": 0,
              "ticks": ""
             }
            },
            "type": "scattergeo"
           }
          ],
          "scattergl": [
           {
            "marker": {
             "colorbar": {
              "outlinewidth": 0,
              "ticks": ""
             }
            },
            "type": "scattergl"
           }
          ],
          "scattermapbox": [
           {
            "marker": {
             "colorbar": {
              "outlinewidth": 0,
              "ticks": ""
             }
            },
            "type": "scattermapbox"
           }
          ],
          "scatterpolar": [
           {
            "marker": {
             "colorbar": {
              "outlinewidth": 0,
              "ticks": ""
             }
            },
            "type": "scatterpolar"
           }
          ],
          "scatterpolargl": [
           {
            "marker": {
             "colorbar": {
              "outlinewidth": 0,
              "ticks": ""
             }
            },
            "type": "scatterpolargl"
           }
          ],
          "scatterternary": [
           {
            "marker": {
             "colorbar": {
              "outlinewidth": 0,
              "ticks": ""
             }
            },
            "type": "scatterternary"
           }
          ],
          "surface": [
           {
            "colorbar": {
             "outlinewidth": 0,
             "ticks": ""
            },
            "colorscale": [
             [
              0,
              "#0d0887"
             ],
             [
              0.1111111111111111,
              "#46039f"
             ],
             [
              0.2222222222222222,
              "#7201a8"
             ],
             [
              0.3333333333333333,
              "#9c179e"
             ],
             [
              0.4444444444444444,
              "#bd3786"
             ],
             [
              0.5555555555555556,
              "#d8576b"
             ],
             [
              0.6666666666666666,
              "#ed7953"
             ],
             [
              0.7777777777777778,
              "#fb9f3a"
             ],
             [
              0.8888888888888888,
              "#fdca26"
             ],
             [
              1,
              "#f0f921"
             ]
            ],
            "type": "surface"
           }
          ],
          "table": [
           {
            "cells": {
             "fill": {
              "color": "#EBF0F8"
             },
             "line": {
              "color": "white"
             }
            },
            "header": {
             "fill": {
              "color": "#C8D4E3"
             },
             "line": {
              "color": "white"
             }
            },
            "type": "table"
           }
          ]
         },
         "layout": {
          "annotationdefaults": {
           "arrowcolor": "#2a3f5f",
           "arrowhead": 0,
           "arrowwidth": 1
          },
          "autotypenumbers": "strict",
          "coloraxis": {
           "colorbar": {
            "outlinewidth": 0,
            "ticks": ""
           }
          },
          "colorscale": {
           "diverging": [
            [
             0,
             "#8e0152"
            ],
            [
             0.1,
             "#c51b7d"
            ],
            [
             0.2,
             "#de77ae"
            ],
            [
             0.3,
             "#f1b6da"
            ],
            [
             0.4,
             "#fde0ef"
            ],
            [
             0.5,
             "#f7f7f7"
            ],
            [
             0.6,
             "#e6f5d0"
            ],
            [
             0.7,
             "#b8e186"
            ],
            [
             0.8,
             "#7fbc41"
            ],
            [
             0.9,
             "#4d9221"
            ],
            [
             1,
             "#276419"
            ]
           ],
           "sequential": [
            [
             0,
             "#0d0887"
            ],
            [
             0.1111111111111111,
             "#46039f"
            ],
            [
             0.2222222222222222,
             "#7201a8"
            ],
            [
             0.3333333333333333,
             "#9c179e"
            ],
            [
             0.4444444444444444,
             "#bd3786"
            ],
            [
             0.5555555555555556,
             "#d8576b"
            ],
            [
             0.6666666666666666,
             "#ed7953"
            ],
            [
             0.7777777777777778,
             "#fb9f3a"
            ],
            [
             0.8888888888888888,
             "#fdca26"
            ],
            [
             1,
             "#f0f921"
            ]
           ],
           "sequentialminus": [
            [
             0,
             "#0d0887"
            ],
            [
             0.1111111111111111,
             "#46039f"
            ],
            [
             0.2222222222222222,
             "#7201a8"
            ],
            [
             0.3333333333333333,
             "#9c179e"
            ],
            [
             0.4444444444444444,
             "#bd3786"
            ],
            [
             0.5555555555555556,
             "#d8576b"
            ],
            [
             0.6666666666666666,
             "#ed7953"
            ],
            [
             0.7777777777777778,
             "#fb9f3a"
            ],
            [
             0.8888888888888888,
             "#fdca26"
            ],
            [
             1,
             "#f0f921"
            ]
           ]
          },
          "colorway": [
           "#636efa",
           "#EF553B",
           "#00cc96",
           "#ab63fa",
           "#FFA15A",
           "#19d3f3",
           "#FF6692",
           "#B6E880",
           "#FF97FF",
           "#FECB52"
          ],
          "font": {
           "color": "#2a3f5f"
          },
          "geo": {
           "bgcolor": "white",
           "lakecolor": "white",
           "landcolor": "#E5ECF6",
           "showlakes": true,
           "showland": true,
           "subunitcolor": "white"
          },
          "hoverlabel": {
           "align": "left"
          },
          "hovermode": "closest",
          "mapbox": {
           "style": "light"
          },
          "paper_bgcolor": "white",
          "plot_bgcolor": "#E5ECF6",
          "polar": {
           "angularaxis": {
            "gridcolor": "white",
            "linecolor": "white",
            "ticks": ""
           },
           "bgcolor": "#E5ECF6",
           "radialaxis": {
            "gridcolor": "white",
            "linecolor": "white",
            "ticks": ""
           }
          },
          "scene": {
           "xaxis": {
            "backgroundcolor": "#E5ECF6",
            "gridcolor": "white",
            "gridwidth": 2,
            "linecolor": "white",
            "showbackground": true,
            "ticks": "",
            "zerolinecolor": "white"
           },
           "yaxis": {
            "backgroundcolor": "#E5ECF6",
            "gridcolor": "white",
            "gridwidth": 2,
            "linecolor": "white",
            "showbackground": true,
            "ticks": "",
            "zerolinecolor": "white"
           },
           "zaxis": {
            "backgroundcolor": "#E5ECF6",
            "gridcolor": "white",
            "gridwidth": 2,
            "linecolor": "white",
            "showbackground": true,
            "ticks": "",
            "zerolinecolor": "white"
           }
          },
          "shapedefaults": {
           "line": {
            "color": "#2a3f5f"
           }
          },
          "ternary": {
           "aaxis": {
            "gridcolor": "white",
            "linecolor": "white",
            "ticks": ""
           },
           "baxis": {
            "gridcolor": "white",
            "linecolor": "white",
            "ticks": ""
           },
           "bgcolor": "#E5ECF6",
           "caxis": {
            "gridcolor": "white",
            "linecolor": "white",
            "ticks": ""
           }
          },
          "title": {
           "x": 0.05
          },
          "xaxis": {
           "automargin": true,
           "gridcolor": "white",
           "linecolor": "white",
           "ticks": "",
           "title": {
            "standoff": 15
           },
           "zerolinecolor": "white",
           "zerolinewidth": 2
          },
          "yaxis": {
           "automargin": true,
           "gridcolor": "white",
           "linecolor": "white",
           "ticks": "",
           "title": {
            "standoff": 15
           },
           "zerolinecolor": "white",
           "zerolinewidth": 2
          }
         }
        }
       }
      },
      "text/html": "<div>                            <div id=\"fe159794-0512-4dd2-ae77-da6ad364418e\" class=\"plotly-graph-div\" style=\"height:525px; width:100%;\"></div>            <script type=\"text/javascript\">                require([\"plotly\"], function(Plotly) {                    window.PLOTLYENV=window.PLOTLYENV || {};                                    if (document.getElementById(\"fe159794-0512-4dd2-ae77-da6ad364418e\")) {                    Plotly.newPlot(                       \"fe159794-0512-4dd2-ae77-da6ad364418e\",                        [{\"hovertemplate\": \"%{x}<br><b>Dublin Airport</b><br>Days: %{y}<extra></extra>\", \"line\": {\"color\": \"#00a4ae\", \"width\": 2}, \"mode\": \"lines\", \"name\": \"Dublin Airport\", \"type\": \"scatter\", \"x\": [1970, 1971, 1972, 1973, 1974, 1975, 1976, 1977, 1978, 1979, 1980, 1981, 1982, 1983, 1984, 1985, 1986, 1987, 1988, 1989, 1990, 1991, 1992, 1993, 1994, 1995, 1996, 1997, 1998, 1999, 2000, 2001, 2002, 2003, 2004, 2005, 2006, 2007, 2008, 2009, 2010, 2011, 2012, 2013, 2014, 2015, 2016, 2017, 2018, 2019, 2020], \"y\": [null, 21.0, 38.0, 12.0, 14.0, 55.0, 59.0, 64.0, 26.0, 31.0, 22.0, 30.0, 34.0, 29.0, 45.0, 13.0, 21.0, 26.0, 20.0, 72.0, 66.0, 62.0, 48.0, 34.0, 23.0, 64.0, 33.0, 9.0, 7.0, 21.0, 19.0, 26.0, 12.0, 45.0, 47.0, 36.0, 41.0, 29.0, 32.0, 26.0, 24.0, 43.0, 18.0, 63.0, 47.0, 56.0, 44.0, 55.0, 80.0, null, null]}, {\"hovertemplate\": \"%{x}<br><b>Shannon Airport</b><br>Days: %{y}<extra></extra>\", \"line\": {\"color\": \"#E1AF00\", \"width\": 2}, \"mode\": \"lines\", \"name\": \"Shannon Airport\", \"type\": \"scatter\", \"x\": [1970, 1971, 1972, 1973, 1974, 1975, 1976, 1977, 1978, 1979, 1980, 1981, 1982, 1983, 1984, 1985, 1986, 1987, 1988, 1989, 1990, 1991, 1992, 1993, 1994, 1995, 1996, 1997, 1998, 1999, 2000, 2001, 2002, 2003, 2004, 2005, 2006, 2007, 2008, 2009, 2010, 2011, 2012, 2013, 2014, 2015, 2016, 2017, 2018, 2019, 2020], \"y\": [null, 36.0, 12.0, 15.0, 15.0, 45.0, 37.0, 37.0, 18.0, 12.0, 17.0, 18.0, 15.0, 41.0, 38.0, 8.0, 9.0, 23.0, 9.0, 49.0, 52.0, 27.0, 21.0, 21.0, 9.0, 53.0, 51.0, 19.0, 13.0, 19.0, 13.0, 9.0, 9.0, 38.0, 39.0, 16.0, 36.0, 17.0, 18.0, 22.0, 39.0, 19.0, 18.0, 50.0, 47.0, 18.0, 34.0, 23.0, 57.0, null, null]}],                        {\"template\": {\"data\": {\"bar\": [{\"error_x\": {\"color\": \"#2a3f5f\"}, \"error_y\": {\"color\": \"#2a3f5f\"}, \"marker\": {\"line\": {\"color\": \"#E5ECF6\", \"width\": 0.5}}, \"type\": \"bar\"}], \"barpolar\": [{\"marker\": {\"line\": {\"color\": \"#E5ECF6\", \"width\": 0.5}}, \"type\": \"barpolar\"}], \"carpet\": [{\"aaxis\": {\"endlinecolor\": \"#2a3f5f\", \"gridcolor\": \"white\", \"linecolor\": \"white\", \"minorgridcolor\": \"white\", \"startlinecolor\": \"#2a3f5f\"}, \"baxis\": {\"endlinecolor\": \"#2a3f5f\", \"gridcolor\": \"white\", \"linecolor\": \"white\", \"minorgridcolor\": \"white\", \"startlinecolor\": \"#2a3f5f\"}, \"type\": \"carpet\"}], \"choropleth\": [{\"colorbar\": {\"outlinewidth\": 0, \"ticks\": \"\"}, \"type\": \"choropleth\"}], \"contour\": [{\"colorbar\": {\"outlinewidth\": 0, \"ticks\": \"\"}, \"colorscale\": [[0.0, \"#0d0887\"], [0.1111111111111111, \"#46039f\"], [0.2222222222222222, \"#7201a8\"], [0.3333333333333333, \"#9c179e\"], [0.4444444444444444, \"#bd3786\"], [0.5555555555555556, \"#d8576b\"], [0.6666666666666666, \"#ed7953\"], [0.7777777777777778, \"#fb9f3a\"], [0.8888888888888888, \"#fdca26\"], [1.0, \"#f0f921\"]], \"type\": \"contour\"}], \"contourcarpet\": [{\"colorbar\": {\"outlinewidth\": 0, \"ticks\": \"\"}, \"type\": \"contourcarpet\"}], \"heatmap\": [{\"colorbar\": {\"outlinewidth\": 0, \"ticks\": \"\"}, \"colorscale\": [[0.0, \"#0d0887\"], [0.1111111111111111, \"#46039f\"], [0.2222222222222222, \"#7201a8\"], [0.3333333333333333, \"#9c179e\"], [0.4444444444444444, \"#bd3786\"], [0.5555555555555556, \"#d8576b\"], [0.6666666666666666, \"#ed7953\"], [0.7777777777777778, \"#fb9f3a\"], [0.8888888888888888, \"#fdca26\"], [1.0, \"#f0f921\"]], \"type\": \"heatmap\"}], \"heatmapgl\": [{\"colorbar\": {\"outlinewidth\": 0, \"ticks\": \"\"}, \"colorscale\": [[0.0, \"#0d0887\"], [0.1111111111111111, \"#46039f\"], [0.2222222222222222, \"#7201a8\"], [0.3333333333333333, \"#9c179e\"], [0.4444444444444444, \"#bd3786\"], [0.5555555555555556, \"#d8576b\"], [0.6666666666666666, \"#ed7953\"], [0.7777777777777778, \"#fb9f3a\"], [0.8888888888888888, \"#fdca26\"], [1.0, \"#f0f921\"]], \"type\": \"heatmapgl\"}], \"histogram\": [{\"marker\": {\"colorbar\": {\"outlinewidth\": 0, \"ticks\": \"\"}}, \"type\": \"histogram\"}], \"histogram2d\": [{\"colorbar\": {\"outlinewidth\": 0, \"ticks\": \"\"}, \"colorscale\": [[0.0, \"#0d0887\"], [0.1111111111111111, \"#46039f\"], [0.2222222222222222, \"#7201a8\"], [0.3333333333333333, \"#9c179e\"], [0.4444444444444444, \"#bd3786\"], [0.5555555555555556, \"#d8576b\"], [0.6666666666666666, \"#ed7953\"], [0.7777777777777778, \"#fb9f3a\"], [0.8888888888888888, \"#fdca26\"], [1.0, \"#f0f921\"]], \"type\": \"histogram2d\"}], \"histogram2dcontour\": [{\"colorbar\": {\"outlinewidth\": 0, \"ticks\": \"\"}, \"colorscale\": [[0.0, \"#0d0887\"], [0.1111111111111111, \"#46039f\"], [0.2222222222222222, \"#7201a8\"], [0.3333333333333333, \"#9c179e\"], [0.4444444444444444, \"#bd3786\"], [0.5555555555555556, \"#d8576b\"], [0.6666666666666666, \"#ed7953\"], [0.7777777777777778, \"#fb9f3a\"], [0.8888888888888888, \"#fdca26\"], [1.0, \"#f0f921\"]], \"type\": \"histogram2dcontour\"}], \"mesh3d\": [{\"colorbar\": {\"outlinewidth\": 0, \"ticks\": \"\"}, \"type\": \"mesh3d\"}], \"parcoords\": [{\"line\": {\"colorbar\": {\"outlinewidth\": 0, \"ticks\": \"\"}}, \"type\": \"parcoords\"}], \"pie\": [{\"automargin\": true, \"type\": \"pie\"}], \"scatter\": [{\"marker\": {\"colorbar\": {\"outlinewidth\": 0, \"ticks\": \"\"}}, \"type\": \"scatter\"}], \"scatter3d\": [{\"line\": {\"colorbar\": {\"outlinewidth\": 0, \"ticks\": \"\"}}, \"marker\": {\"colorbar\": {\"outlinewidth\": 0, \"ticks\": \"\"}}, \"type\": \"scatter3d\"}], \"scattercarpet\": [{\"marker\": {\"colorbar\": {\"outlinewidth\": 0, \"ticks\": \"\"}}, \"type\": \"scattercarpet\"}], \"scattergeo\": [{\"marker\": {\"colorbar\": {\"outlinewidth\": 0, \"ticks\": \"\"}}, \"type\": \"scattergeo\"}], \"scattergl\": [{\"marker\": {\"colorbar\": {\"outlinewidth\": 0, \"ticks\": \"\"}}, \"type\": \"scattergl\"}], \"scattermapbox\": [{\"marker\": {\"colorbar\": {\"outlinewidth\": 0, \"ticks\": \"\"}}, \"type\": \"scattermapbox\"}], \"scatterpolar\": [{\"marker\": {\"colorbar\": {\"outlinewidth\": 0, \"ticks\": \"\"}}, \"type\": \"scatterpolar\"}], \"scatterpolargl\": [{\"marker\": {\"colorbar\": {\"outlinewidth\": 0, \"ticks\": \"\"}}, \"type\": \"scatterpolargl\"}], \"scatterternary\": [{\"marker\": {\"colorbar\": {\"outlinewidth\": 0, \"ticks\": \"\"}}, \"type\": \"scatterternary\"}], \"surface\": [{\"colorbar\": {\"outlinewidth\": 0, \"ticks\": \"\"}, \"colorscale\": [[0.0, \"#0d0887\"], [0.1111111111111111, \"#46039f\"], [0.2222222222222222, \"#7201a8\"], [0.3333333333333333, \"#9c179e\"], [0.4444444444444444, \"#bd3786\"], [0.5555555555555556, \"#d8576b\"], [0.6666666666666666, \"#ed7953\"], [0.7777777777777778, \"#fb9f3a\"], [0.8888888888888888, \"#fdca26\"], [1.0, \"#f0f921\"]], \"type\": \"surface\"}], \"table\": [{\"cells\": {\"fill\": {\"color\": \"#EBF0F8\"}, \"line\": {\"color\": \"white\"}}, \"header\": {\"fill\": {\"color\": \"#C8D4E3\"}, \"line\": {\"color\": \"white\"}}, \"type\": \"table\"}]}, \"layout\": {\"annotationdefaults\": {\"arrowcolor\": \"#2a3f5f\", \"arrowhead\": 0, \"arrowwidth\": 1}, \"autotypenumbers\": \"strict\", \"coloraxis\": {\"colorbar\": {\"outlinewidth\": 0, \"ticks\": \"\"}}, \"colorscale\": {\"diverging\": [[0, \"#8e0152\"], [0.1, \"#c51b7d\"], [0.2, \"#de77ae\"], [0.3, \"#f1b6da\"], [0.4, \"#fde0ef\"], [0.5, \"#f7f7f7\"], [0.6, \"#e6f5d0\"], [0.7, \"#b8e186\"], [0.8, \"#7fbc41\"], [0.9, \"#4d9221\"], [1, \"#276419\"]], \"sequential\": [[0.0, \"#0d0887\"], [0.1111111111111111, \"#46039f\"], [0.2222222222222222, \"#7201a8\"], [0.3333333333333333, \"#9c179e\"], [0.4444444444444444, \"#bd3786\"], [0.5555555555555556, \"#d8576b\"], [0.6666666666666666, \"#ed7953\"], [0.7777777777777778, \"#fb9f3a\"], [0.8888888888888888, \"#fdca26\"], [1.0, \"#f0f921\"]], \"sequentialminus\": [[0.0, \"#0d0887\"], [0.1111111111111111, \"#46039f\"], [0.2222222222222222, \"#7201a8\"], [0.3333333333333333, \"#9c179e\"], [0.4444444444444444, \"#bd3786\"], [0.5555555555555556, \"#d8576b\"], [0.6666666666666666, \"#ed7953\"], [0.7777777777777778, \"#fb9f3a\"], [0.8888888888888888, \"#fdca26\"], [1.0, \"#f0f921\"]]}, \"colorway\": [\"#636efa\", \"#EF553B\", \"#00cc96\", \"#ab63fa\", \"#FFA15A\", \"#19d3f3\", \"#FF6692\", \"#B6E880\", \"#FF97FF\", \"#FECB52\"], \"font\": {\"color\": \"#2a3f5f\"}, \"geo\": {\"bgcolor\": \"white\", \"lakecolor\": \"white\", \"landcolor\": \"#E5ECF6\", \"showlakes\": true, \"showland\": true, \"subunitcolor\": \"white\"}, \"hoverlabel\": {\"align\": \"left\"}, \"hovermode\": \"closest\", \"mapbox\": {\"style\": \"light\"}, \"paper_bgcolor\": \"white\", \"plot_bgcolor\": \"#E5ECF6\", \"polar\": {\"angularaxis\": {\"gridcolor\": \"white\", \"linecolor\": \"white\", \"ticks\": \"\"}, \"bgcolor\": \"#E5ECF6\", \"radialaxis\": {\"gridcolor\": \"white\", \"linecolor\": \"white\", \"ticks\": \"\"}}, \"scene\": {\"xaxis\": {\"backgroundcolor\": \"#E5ECF6\", \"gridcolor\": \"white\", \"gridwidth\": 2, \"linecolor\": \"white\", \"showbackground\": true, \"ticks\": \"\", \"zerolinecolor\": \"white\"}, \"yaxis\": {\"backgroundcolor\": \"#E5ECF6\", \"gridcolor\": \"white\", \"gridwidth\": 2, \"linecolor\": \"white\", \"showbackground\": true, \"ticks\": \"\", \"zerolinecolor\": \"white\"}, \"zaxis\": {\"backgroundcolor\": \"#E5ECF6\", \"gridcolor\": \"white\", \"gridwidth\": 2, \"linecolor\": \"white\", \"showbackground\": true, \"ticks\": \"\", \"zerolinecolor\": \"white\"}}, \"shapedefaults\": {\"line\": {\"color\": \"#2a3f5f\"}}, \"ternary\": {\"aaxis\": {\"gridcolor\": \"white\", \"linecolor\": \"white\", \"ticks\": \"\"}, \"baxis\": {\"gridcolor\": \"white\", \"linecolor\": \"white\", \"ticks\": \"\"}, \"bgcolor\": \"#E5ECF6\", \"caxis\": {\"gridcolor\": \"white\", \"linecolor\": \"white\", \"ticks\": \"\"}}, \"title\": {\"x\": 0.05}, \"xaxis\": {\"automargin\": true, \"gridcolor\": \"white\", \"linecolor\": \"white\", \"ticks\": \"\", \"title\": {\"standoff\": 15}, \"zerolinecolor\": \"white\", \"zerolinewidth\": 2}, \"yaxis\": {\"automargin\": true, \"gridcolor\": \"white\", \"linecolor\": \"white\", \"ticks\": \"\", \"title\": {\"standoff\": 15}, \"zerolinecolor\": \"white\", \"zerolinewidth\": 2}}}},                        {\"responsive\": true}                    ).then(function(){\n                            \nvar gd = document.getElementById('fe159794-0512-4dd2-ae77-da6ad364418e');\nvar x = new MutationObserver(function (mutations, observer) {{\n        var display = window.getComputedStyle(gd).display;\n        if (!display || display === 'none') {{\n            console.log([gd, 'removed!']);\n            Plotly.purge(gd);\n            observer.disconnect();\n        }}\n}});\n\n// Listen for the removal of the full notebook cells\nvar notebookContainer = gd.closest('#notebook-container');\nif (notebookContainer) {{\n    x.observe(notebookContainer, {childList: true});\n}}\n\n// Listen for the clearing of the current output cell\nvar outputEl = gd.closest('.output');\nif (outputEl) {{\n    x.observe(outputEl, {childList: true});\n}}\n\n                        })                };                });            </script>        </div>"
     },
     "metadata": {}
    }
   ],
   "source": [
    "dublinTrace = go.Scatter(x=df[\"year\"],\n",
    "                     y=df[\"mycount\"],\n",
    "                     name='Dublin Airport',\n",
    "                     mode='lines',  # 'line' is default\n",
    "                     line=dict(\n",
    "                            color=TIMESERIES_COLOR_PRIMARY,\n",
    "                            width=2),\n",
    "                     hovertemplate='%{x}<br>' +\n",
    "                            '<b>Dublin Airport</b><br>' +\n",
    "                            'Days: %{y}<extra></extra>'\n",
    "                            )\n",
    "shannonTrace = go.Scatter(x=df[\"year\"],\n",
    "                     y=df[\"mycount.1\"],\n",
    "                     name='Shannon Airport',\n",
    "                     mode='lines',  # 'line' is default\n",
    "                     line=dict(\n",
    "                            color=TIMESERIES_COLOR_SECONDARY,\n",
    "                            width=2),\n",
    "                     hovertemplate='%{x}<br>' +\n",
    "                            '<b>Shannon Airport</b><br>' +\n",
    "                            'Days: %{y}<extra></extra>'\n",
    "                            )\n",
    "figure_4_22=go.Figure(data=[dublinTrace, shannonTrace])\n",
    "\n",
    "figure_4_22\n"
   ]
  },
  {
   "cell_type": "code",
   "execution_count": null,
   "metadata": {},
   "outputs": [],
   "source": []
  }
 ],
 "metadata": {
  "kernelspec": {
   "display_name": "Python 3",
   "language": "python",
   "name": "python3"
  },
  "language_info": {
   "codemirror_mode": {
    "name": "ipython",
    "version": 3
   },
   "file_extension": ".py",
   "mimetype": "text/x-python",
   "name": "python",
   "nbconvert_exporter": "python",
   "pygments_lexer": "ipython3",
   "version": "3.7.3-final"
  }
 },
 "nbformat": 4,
 "nbformat_minor": 2
}