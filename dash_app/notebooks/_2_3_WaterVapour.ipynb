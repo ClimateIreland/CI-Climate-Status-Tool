{
 "cells": [
  {
   "cell_type": "code",
   "execution_count": null,
   "metadata": {},
   "outputs": [],
   "source": [
    "# to access root modules\n",
    "if __name__ == \"__main__\" and __package__ is None:\n",
    "    from sys import path\n",
    "    from os.path import dirname as dir\n",
    "\n",
    "    path.append(dir(path[0]))\n",
    "    __package__ = \"dash_app\""
   ]
  },
  {
   "cell_type": "code",
   "execution_count": null,
   "metadata": {},
   "outputs": [],
   "source": [
    "import pandas as pd\n",
    "import numpy as np\n",
    "import datetime\n",
    "import dateutil\n",
    "import plotly.graph_objects as go\n",
    "from plotly.subplots import make_subplots\n",
    "from charts import stations_map, map_columns\n",
    "from settings import *\n"
   ]
  },
  {
   "cell_type": "code",
   "execution_count": null,
   "metadata": {},
   "outputs": [],
   "source": [
    "data_path = DATA_PATH+'Atmospheric_Domain/2.3WaterVapour/Figure2.6/'\n",
    "data_csv = data_path + 'Figure2.6_data.csv'"
   ]
  },
  {
   "cell_type": "code",
   "execution_count": null,
   "metadata": {},
   "outputs": [],
   "source": [
    "\"\"\"\n",
    "Tidy data for charts\n",
    "\"\"\"\n",
    "#!!!! takes long time\n",
    "xls = pd.ExcelFile(\n",
    "    data_path+'MonthlyAndAnnualAverageWaterVapourPressure_ValentiaObservatory2019.xlsx')\n",
    "original_df = pd.read_excel(xls, 'Valentia')\n",
    "filtered_df = original_df.drop(original_df[original_df.year < 1940].index)\n",
    "# filtered_df = filtered_df.drop(filtered_df[filtered_df.year > 2018].index)\n",
    "filtered_df['datetime']=filtered_df['year'].astype(str)+'-'+filtered_df['month'].astype(str)+'-'+filtered_df['day'].astype(str)+'T'+filtered_df['hour'].astype(str)+':00:00'\n",
    "filtered_df['datetime'] = pd.to_datetime(filtered_df['datetime'])\n",
    "# Create series with datetime as index\n",
    "vp_series =pd.Series(filtered_df['vp'].values,index=filtered_df['datetime'])\n",
    "# Calc mean annual \n",
    "vp_mean_annual = vp_series.resample('Y').mean()\n",
    "# Calc mean monthly \n",
    "vp_mean_monthly = vp_series.resample('M').mean()\n",
    "\n",
    "# Create DF\n",
    "annual_df = pd.DataFrame()\n",
    "annual_df['mean__annual__water_vapour_pressure'] = vp_mean_annual\n",
    "monthly_df = pd.DataFrame()\n",
    "monthly_df['mean__monthly__water_vapour_pressure'] = vp_mean_monthly\n",
    "df = pd.concat([monthly_df,annual_df])\n",
    "df['datetime'] = df.index\n",
    "df.reset_index(drop=True, inplace=True)\n",
    "# rearrange collumns\n",
    "df = df[['datetime','mean__monthly__water_vapour_pressure','mean__annual__water_vapour_pressure']]\n",
    "df['location']='Valentia'\n",
    "# df.to_csv(data_csv) #commented out as the file should be kept as is\n"
   ]
  },
  {
   "cell_type": "code",
   "execution_count": null,
   "metadata": {},
   "outputs": [],
   "source": [
    "data_path = DATA_PATH+'Atmospheric_Domain/2.3WaterVapour/Figure2.6/'\n",
    "data_csv = data_path + 'Figure2.6_data.csv'\n",
    "df = pd.read_csv(data_csv, index_col=0)\n",
    "df['datetime'] = pd.to_datetime(df['datetime'])\n",
    "df"
   ]
  },
  {
   "cell_type": "code",
   "execution_count": null,
   "metadata": {},
   "outputs": [],
   "source": [
    "mean_annual_trace = go.Scatter(x=df['datetime'],\n",
    "                            y=df['mean__annual__water_vapour_pressure'],\n",
    "                         name='Mean Annual',\n",
    "                         mode='markers+lines',\n",
    "                         marker=dict(color=TIMESERIES_COLOR_2,\n",
    "                                     size=5,\n",
    "                                     opacity=0.5),\n",
    "                         line=dict(color=TIMESERIES_COLOR_2,\n",
    "                                      width=1),\n",
    "                         hovertemplate='%{x|%Y}<br>' +\n",
    "                         '<b>Mean Annual</b><br>' +\n",
    "                         'Vapour Pressure: %{y:.2f} hPa<br>' +\n",
    "                         '<extra></extra>'\n",
    "                         )\n",
    "figure_2_6_b = go.Figure(data=[mean_annual_trace], layout=TIMESERIES_LAYOUT)\n",
    "figure_2_6_b.update_layout(\n",
    "    yaxis=dict(title='Vapour Presure (hPa)'),\n",
    "    xaxis=dict(title=\"Year\"))\n",
    "figure_2_6_b"
   ]
  },
  {
   "cell_type": "code",
   "execution_count": null,
   "metadata": {},
   "outputs": [],
   "source": [
    "months=[1,2,3,4,5,6,7,8,9,10,11,12]\n",
    "months=['Jan','Feb','Mar','Apr','May','Jun','Jul','Aug','Sep','Oct','Nov','Dec']\n",
    "month_mean = []\n",
    "df_months = df.groupby(df['datetime'].dt.month).mean()\n",
    "df_months"
   ]
  },
  {
   "cell_type": "code",
   "execution_count": null,
   "metadata": {},
   "outputs": [],
   "source": [
    "month_trace = go.Scatter(x=months,\n",
    "                            y=df_months['mean__monthly__water_vapour_pressure'],\n",
    "                         name='Monthly Average (1940-2019)',\n",
    "                         mode='markers+lines',\n",
    "                         marker=dict(color=TIMESERIES_COLOR_1,\n",
    "                                     size=5,\n",
    "                                     opacity=0.5),\n",
    "                         line=dict(color=TIMESERIES_COLOR_1,\n",
    "                                      width=1),\n",
    "                         hovertemplate='%{x}<br>' +\n",
    "                         '<b>Monthly Average (1940-2019)</b><br>' +\n",
    "                         'Vapour Pressure: %{y:.2f} hPa<br>' +\n",
    "                         '<extra></extra>'\n",
    "                         )\n",
    "figure_2_6_a = go.Figure(data=[month_trace], layout=TIMESERIES_LAYOUT)\n",
    "figure_2_6_a.update_layout(\n",
    "    yaxis=dict(title='Vapour Presure (hPa)'),\n",
    "    xaxis=dict(title=\"Month\"))\n",
    "figure_2_6_a"
   ]
  },
  {
   "cell_type": "code",
   "execution_count": null,
   "metadata": {},
   "outputs": [],
   "source": []
  }
 ],
 "metadata": {
  "kernelspec": {
   "display_name": "Python 3",
   "language": "python",
   "name": "python3"
  },
  "language_info": {
   "codemirror_mode": {
    "name": "ipython",
    "version": 3
   },
   "file_extension": ".py",
   "mimetype": "text/x-python",
   "name": "python",
   "nbconvert_exporter": "python",
   "pygments_lexer": "ipython3",
   "version": "3.8.2"
  }
 },
 "nbformat": 4,
 "nbformat_minor": 4
}
