{
 "cells": [
  {
   "cell_type": "code",
   "execution_count": 1,
   "id": "expensive-desert",
   "metadata": {},
   "outputs": [],
   "source": [
    "# to access root modules\n",
    "if __name__ == \"__main__\" and __package__ is None:\n",
    "    from sys import path\n",
    "    from os.path import dirname as dir\n",
    "\n",
    "    path.append(dir(path[0]))\n",
    "    __package__ = \"dash_app\""
   ]
  },
  {
   "cell_type": "code",
   "execution_count": 45,
   "id": "unknown-internship",
   "metadata": {},
   "outputs": [],
   "source": [
    "import pandas as pd\n",
    "import numpy as np\n",
    "import datetime\n",
    "import dateutil\n",
    "import plotly.graph_objects as go\n",
    "from plotly.subplots import make_subplots\n",
    "from charts import stations_map, map_columns, stations_map_hovertemplate\n",
    "from settings import *\n"
   ]
  },
  {
   "cell_type": "code",
   "execution_count": 6,
   "id": "harmful-chemistry",
   "metadata": {},
   "outputs": [],
   "source": [
    "data_path = DATA_PATH+'Atmospheric_Domain/2.6SurfaceEarth_RadiationBudget/Figure2.11/'\n",
    "data_csv = data_path + 'Figure2.11_data.csv'"
   ]
  },
  {
   "cell_type": "code",
   "execution_count": 34,
   "id": "conditional-clinton",
   "metadata": {},
   "outputs": [],
   "source": [
    "\"\"\"\n",
    "Tidy data for charts\n",
    "\"\"\"\n",
    "columns_dict = {'datetime':'year.1',\n",
    "               'sum__annual__solar_radiation':'Annual Radiation',\n",
    "               'moving_average_of_sum__5year__solar_radiation':'5 year moving average',\n",
    "                  }\n",
    "xls = pd.ExcelFile(\n",
    "    data_path+'AnnualSolarRadiationatValentiaObservatory_1955_2019.xlsx')\n",
    "original_df = pd.read_excel(xls, 'NewDataset', usecols=[7,10,11], skiprows=[0])\n",
    "df = map_columns(columns_dict, original_df)\n",
    "df = df[df['datetime'].notna()]\n",
    "df = df[(df['sum__annual__solar_radiation'].notna()) | (df['moving_average_of_sum__5year__solar_radiation'].notna())]\n",
    "df['datetime'] = pd.to_datetime(df['datetime'],format='%Y')\n",
    "df['location'] = 'Valentia'\n",
    "# df.to_csv(data_csv) #commented out as the file should be kept as is"
   ]
  },
  {
   "cell_type": "code",
   "execution_count": 35,
   "id": "ideal-creativity",
   "metadata": {},
   "outputs": [
    {
     "data": {
      "text/html": [
       "<div>\n",
       "<style scoped>\n",
       "    .dataframe tbody tr th:only-of-type {\n",
       "        vertical-align: middle;\n",
       "    }\n",
       "\n",
       "    .dataframe tbody tr th {\n",
       "        vertical-align: top;\n",
       "    }\n",
       "\n",
       "    .dataframe thead th {\n",
       "        text-align: right;\n",
       "    }\n",
       "</style>\n",
       "<table border=\"1\" class=\"dataframe\">\n",
       "  <thead>\n",
       "    <tr style=\"text-align: right;\">\n",
       "      <th></th>\n",
       "      <th>datetime</th>\n",
       "      <th>sum__annual__solar_radiation</th>\n",
       "      <th>moving_average_of_sum__5year__solar_radiation</th>\n",
       "      <th>location</th>\n",
       "    </tr>\n",
       "  </thead>\n",
       "  <tbody>\n",
       "    <tr>\n",
       "      <th>9</th>\n",
       "      <td>1964-01-01</td>\n",
       "      <td>3.71011</td>\n",
       "      <td>NaN</td>\n",
       "      <td>Valentia</td>\n",
       "    </tr>\n",
       "    <tr>\n",
       "      <th>10</th>\n",
       "      <td>1965-01-01</td>\n",
       "      <td>3.71740</td>\n",
       "      <td>NaN</td>\n",
       "      <td>Valentia</td>\n",
       "    </tr>\n",
       "    <tr>\n",
       "      <th>11</th>\n",
       "      <td>1966-01-01</td>\n",
       "      <td>3.76954</td>\n",
       "      <td>3.798174</td>\n",
       "      <td>Valentia</td>\n",
       "    </tr>\n",
       "    <tr>\n",
       "      <th>12</th>\n",
       "      <td>1967-01-01</td>\n",
       "      <td>3.62653</td>\n",
       "      <td>3.832606</td>\n",
       "      <td>Valentia</td>\n",
       "    </tr>\n",
       "    <tr>\n",
       "      <th>13</th>\n",
       "      <td>1968-01-01</td>\n",
       "      <td>4.16729</td>\n",
       "      <td>3.835170</td>\n",
       "      <td>Valentia</td>\n",
       "    </tr>\n",
       "    <tr>\n",
       "      <th>14</th>\n",
       "      <td>1969-01-01</td>\n",
       "      <td>3.88227</td>\n",
       "      <td>3.805264</td>\n",
       "      <td>Valentia</td>\n",
       "    </tr>\n",
       "    <tr>\n",
       "      <th>15</th>\n",
       "      <td>1970-01-01</td>\n",
       "      <td>3.73022</td>\n",
       "      <td>3.805774</td>\n",
       "      <td>Valentia</td>\n",
       "    </tr>\n",
       "    <tr>\n",
       "      <th>16</th>\n",
       "      <td>1971-01-01</td>\n",
       "      <td>3.62001</td>\n",
       "      <td>3.682990</td>\n",
       "      <td>Valentia</td>\n",
       "    </tr>\n",
       "    <tr>\n",
       "      <th>17</th>\n",
       "      <td>1972-01-01</td>\n",
       "      <td>3.62908</td>\n",
       "      <td>3.613058</td>\n",
       "      <td>Valentia</td>\n",
       "    </tr>\n",
       "    <tr>\n",
       "      <th>18</th>\n",
       "      <td>1973-01-01</td>\n",
       "      <td>3.55337</td>\n",
       "      <td>3.648910</td>\n",
       "      <td>Valentia</td>\n",
       "    </tr>\n",
       "    <tr>\n",
       "      <th>19</th>\n",
       "      <td>1974-01-01</td>\n",
       "      <td>3.53261</td>\n",
       "      <td>3.636532</td>\n",
       "      <td>Valentia</td>\n",
       "    </tr>\n",
       "    <tr>\n",
       "      <th>20</th>\n",
       "      <td>1975-01-01</td>\n",
       "      <td>3.90948</td>\n",
       "      <td>3.617696</td>\n",
       "      <td>Valentia</td>\n",
       "    </tr>\n",
       "    <tr>\n",
       "      <th>21</th>\n",
       "      <td>1976-01-01</td>\n",
       "      <td>3.55812</td>\n",
       "      <td>3.604606</td>\n",
       "      <td>Valentia</td>\n",
       "    </tr>\n",
       "    <tr>\n",
       "      <th>22</th>\n",
       "      <td>1977-01-01</td>\n",
       "      <td>3.53490</td>\n",
       "      <td>3.563160</td>\n",
       "      <td>Valentia</td>\n",
       "    </tr>\n",
       "    <tr>\n",
       "      <th>23</th>\n",
       "      <td>1978-01-01</td>\n",
       "      <td>3.48792</td>\n",
       "      <td>3.484902</td>\n",
       "      <td>Valentia</td>\n",
       "    </tr>\n",
       "    <tr>\n",
       "      <th>24</th>\n",
       "      <td>1979-01-01</td>\n",
       "      <td>3.32538</td>\n",
       "      <td>3.458628</td>\n",
       "      <td>Valentia</td>\n",
       "    </tr>\n",
       "    <tr>\n",
       "      <th>25</th>\n",
       "      <td>1980-01-01</td>\n",
       "      <td>3.51819</td>\n",
       "      <td>3.448740</td>\n",
       "      <td>Valentia</td>\n",
       "    </tr>\n",
       "    <tr>\n",
       "      <th>26</th>\n",
       "      <td>1981-01-01</td>\n",
       "      <td>3.42675</td>\n",
       "      <td>3.432390</td>\n",
       "      <td>Valentia</td>\n",
       "    </tr>\n",
       "    <tr>\n",
       "      <th>27</th>\n",
       "      <td>1982-01-01</td>\n",
       "      <td>3.48546</td>\n",
       "      <td>3.496964</td>\n",
       "      <td>Valentia</td>\n",
       "    </tr>\n",
       "    <tr>\n",
       "      <th>28</th>\n",
       "      <td>1983-01-01</td>\n",
       "      <td>3.40617</td>\n",
       "      <td>3.469280</td>\n",
       "      <td>Valentia</td>\n",
       "    </tr>\n",
       "    <tr>\n",
       "      <th>29</th>\n",
       "      <td>1984-01-01</td>\n",
       "      <td>3.64825</td>\n",
       "      <td>3.463152</td>\n",
       "      <td>Valentia</td>\n",
       "    </tr>\n",
       "    <tr>\n",
       "      <th>30</th>\n",
       "      <td>1985-01-01</td>\n",
       "      <td>3.37977</td>\n",
       "      <td>3.478792</td>\n",
       "      <td>Valentia</td>\n",
       "    </tr>\n",
       "    <tr>\n",
       "      <th>31</th>\n",
       "      <td>1986-01-01</td>\n",
       "      <td>3.39611</td>\n",
       "      <td>3.498440</td>\n",
       "      <td>Valentia</td>\n",
       "    </tr>\n",
       "    <tr>\n",
       "      <th>32</th>\n",
       "      <td>1987-01-01</td>\n",
       "      <td>3.56366</td>\n",
       "      <td>3.515206</td>\n",
       "      <td>Valentia</td>\n",
       "    </tr>\n",
       "    <tr>\n",
       "      <th>33</th>\n",
       "      <td>1988-01-01</td>\n",
       "      <td>3.50441</td>\n",
       "      <td>3.538026</td>\n",
       "      <td>Valentia</td>\n",
       "    </tr>\n",
       "    <tr>\n",
       "      <th>34</th>\n",
       "      <td>1989-01-01</td>\n",
       "      <td>3.73208</td>\n",
       "      <td>3.564664</td>\n",
       "      <td>Valentia</td>\n",
       "    </tr>\n",
       "    <tr>\n",
       "      <th>35</th>\n",
       "      <td>1990-01-01</td>\n",
       "      <td>3.49387</td>\n",
       "      <td>3.529268</td>\n",
       "      <td>Valentia</td>\n",
       "    </tr>\n",
       "    <tr>\n",
       "      <th>36</th>\n",
       "      <td>1991-01-01</td>\n",
       "      <td>3.52930</td>\n",
       "      <td>3.497072</td>\n",
       "      <td>Valentia</td>\n",
       "    </tr>\n",
       "    <tr>\n",
       "      <th>37</th>\n",
       "      <td>1992-01-01</td>\n",
       "      <td>3.38668</td>\n",
       "      <td>3.406326</td>\n",
       "      <td>Valentia</td>\n",
       "    </tr>\n",
       "    <tr>\n",
       "      <th>38</th>\n",
       "      <td>1993-01-01</td>\n",
       "      <td>3.34343</td>\n",
       "      <td>3.411662</td>\n",
       "      <td>Valentia</td>\n",
       "    </tr>\n",
       "    <tr>\n",
       "      <th>39</th>\n",
       "      <td>1994-01-01</td>\n",
       "      <td>3.27835</td>\n",
       "      <td>3.416306</td>\n",
       "      <td>Valentia</td>\n",
       "    </tr>\n",
       "    <tr>\n",
       "      <th>40</th>\n",
       "      <td>1995-01-01</td>\n",
       "      <td>3.52055</td>\n",
       "      <td>3.416466</td>\n",
       "      <td>Valentia</td>\n",
       "    </tr>\n",
       "    <tr>\n",
       "      <th>41</th>\n",
       "      <td>1996-01-01</td>\n",
       "      <td>3.55252</td>\n",
       "      <td>3.408304</td>\n",
       "      <td>Valentia</td>\n",
       "    </tr>\n",
       "    <tr>\n",
       "      <th>42</th>\n",
       "      <td>1997-01-01</td>\n",
       "      <td>3.38748</td>\n",
       "      <td>3.421882</td>\n",
       "      <td>Valentia</td>\n",
       "    </tr>\n",
       "    <tr>\n",
       "      <th>43</th>\n",
       "      <td>1998-01-01</td>\n",
       "      <td>3.30262</td>\n",
       "      <td>3.427096</td>\n",
       "      <td>Valentia</td>\n",
       "    </tr>\n",
       "    <tr>\n",
       "      <th>44</th>\n",
       "      <td>1999-01-01</td>\n",
       "      <td>3.34624</td>\n",
       "      <td>3.456068</td>\n",
       "      <td>Valentia</td>\n",
       "    </tr>\n",
       "    <tr>\n",
       "      <th>45</th>\n",
       "      <td>2000-01-01</td>\n",
       "      <td>3.54662</td>\n",
       "      <td>3.451154</td>\n",
       "      <td>Valentia</td>\n",
       "    </tr>\n",
       "    <tr>\n",
       "      <th>46</th>\n",
       "      <td>2001-01-01</td>\n",
       "      <td>3.69738</td>\n",
       "      <td>3.517166</td>\n",
       "      <td>Valentia</td>\n",
       "    </tr>\n",
       "    <tr>\n",
       "      <th>47</th>\n",
       "      <td>2002-01-01</td>\n",
       "      <td>3.36291</td>\n",
       "      <td>3.576560</td>\n",
       "      <td>Valentia</td>\n",
       "    </tr>\n",
       "    <tr>\n",
       "      <th>48</th>\n",
       "      <td>2003-01-01</td>\n",
       "      <td>3.63268</td>\n",
       "      <td>3.559224</td>\n",
       "      <td>Valentia</td>\n",
       "    </tr>\n",
       "    <tr>\n",
       "      <th>49</th>\n",
       "      <td>2004-01-01</td>\n",
       "      <td>3.64321</td>\n",
       "      <td>3.548852</td>\n",
       "      <td>Valentia</td>\n",
       "    </tr>\n",
       "    <tr>\n",
       "      <th>50</th>\n",
       "      <td>2005-01-01</td>\n",
       "      <td>3.45994</td>\n",
       "      <td>3.633202</td>\n",
       "      <td>Valentia</td>\n",
       "    </tr>\n",
       "    <tr>\n",
       "      <th>51</th>\n",
       "      <td>2006-01-01</td>\n",
       "      <td>3.64552</td>\n",
       "      <td>3.616950</td>\n",
       "      <td>Valentia</td>\n",
       "    </tr>\n",
       "    <tr>\n",
       "      <th>52</th>\n",
       "      <td>2007-01-01</td>\n",
       "      <td>3.78466</td>\n",
       "      <td>3.615832</td>\n",
       "      <td>Valentia</td>\n",
       "    </tr>\n",
       "    <tr>\n",
       "      <th>53</th>\n",
       "      <td>2008-01-01</td>\n",
       "      <td>3.55142</td>\n",
       "      <td>3.717884</td>\n",
       "      <td>Valentia</td>\n",
       "    </tr>\n",
       "    <tr>\n",
       "      <th>54</th>\n",
       "      <td>2009-01-01</td>\n",
       "      <td>3.63762</td>\n",
       "      <td>3.693104</td>\n",
       "      <td>Valentia</td>\n",
       "    </tr>\n",
       "    <tr>\n",
       "      <th>55</th>\n",
       "      <td>2010-01-01</td>\n",
       "      <td>3.97020</td>\n",
       "      <td>3.609572</td>\n",
       "      <td>Valentia</td>\n",
       "    </tr>\n",
       "    <tr>\n",
       "      <th>56</th>\n",
       "      <td>2011-01-01</td>\n",
       "      <td>3.52162</td>\n",
       "      <td>3.628448</td>\n",
       "      <td>Valentia</td>\n",
       "    </tr>\n",
       "    <tr>\n",
       "      <th>57</th>\n",
       "      <td>2012-01-01</td>\n",
       "      <td>3.36700</td>\n",
       "      <td>3.655302</td>\n",
       "      <td>Valentia</td>\n",
       "    </tr>\n",
       "    <tr>\n",
       "      <th>58</th>\n",
       "      <td>2013-01-01</td>\n",
       "      <td>3.64580</td>\n",
       "      <td>3.577966</td>\n",
       "      <td>Valentia</td>\n",
       "    </tr>\n",
       "    <tr>\n",
       "      <th>59</th>\n",
       "      <td>2014-01-01</td>\n",
       "      <td>3.77189</td>\n",
       "      <td>3.553134</td>\n",
       "      <td>Valentia</td>\n",
       "    </tr>\n",
       "    <tr>\n",
       "      <th>60</th>\n",
       "      <td>2015-01-01</td>\n",
       "      <td>3.58352</td>\n",
       "      <td>3.551368</td>\n",
       "      <td>Valentia</td>\n",
       "    </tr>\n",
       "    <tr>\n",
       "      <th>61</th>\n",
       "      <td>2016-01-01</td>\n",
       "      <td>3.39746</td>\n",
       "      <td>3.550774</td>\n",
       "      <td>Valentia</td>\n",
       "    </tr>\n",
       "    <tr>\n",
       "      <th>62</th>\n",
       "      <td>2017-01-01</td>\n",
       "      <td>3.35817</td>\n",
       "      <td>3.501108</td>\n",
       "      <td>Valentia</td>\n",
       "    </tr>\n",
       "    <tr>\n",
       "      <th>63</th>\n",
       "      <td>2018-01-01</td>\n",
       "      <td>3.64283</td>\n",
       "      <td>NaN</td>\n",
       "      <td>Valentia</td>\n",
       "    </tr>\n",
       "    <tr>\n",
       "      <th>64</th>\n",
       "      <td>2019-01-01</td>\n",
       "      <td>3.52356</td>\n",
       "      <td>NaN</td>\n",
       "      <td>Valentia</td>\n",
       "    </tr>\n",
       "  </tbody>\n",
       "</table>\n",
       "</div>"
      ],
      "text/plain": [
       "      datetime  sum__annual__solar_radiation  \\\n",
       "9   1964-01-01                       3.71011   \n",
       "10  1965-01-01                       3.71740   \n",
       "11  1966-01-01                       3.76954   \n",
       "12  1967-01-01                       3.62653   \n",
       "13  1968-01-01                       4.16729   \n",
       "14  1969-01-01                       3.88227   \n",
       "15  1970-01-01                       3.73022   \n",
       "16  1971-01-01                       3.62001   \n",
       "17  1972-01-01                       3.62908   \n",
       "18  1973-01-01                       3.55337   \n",
       "19  1974-01-01                       3.53261   \n",
       "20  1975-01-01                       3.90948   \n",
       "21  1976-01-01                       3.55812   \n",
       "22  1977-01-01                       3.53490   \n",
       "23  1978-01-01                       3.48792   \n",
       "24  1979-01-01                       3.32538   \n",
       "25  1980-01-01                       3.51819   \n",
       "26  1981-01-01                       3.42675   \n",
       "27  1982-01-01                       3.48546   \n",
       "28  1983-01-01                       3.40617   \n",
       "29  1984-01-01                       3.64825   \n",
       "30  1985-01-01                       3.37977   \n",
       "31  1986-01-01                       3.39611   \n",
       "32  1987-01-01                       3.56366   \n",
       "33  1988-01-01                       3.50441   \n",
       "34  1989-01-01                       3.73208   \n",
       "35  1990-01-01                       3.49387   \n",
       "36  1991-01-01                       3.52930   \n",
       "37  1992-01-01                       3.38668   \n",
       "38  1993-01-01                       3.34343   \n",
       "39  1994-01-01                       3.27835   \n",
       "40  1995-01-01                       3.52055   \n",
       "41  1996-01-01                       3.55252   \n",
       "42  1997-01-01                       3.38748   \n",
       "43  1998-01-01                       3.30262   \n",
       "44  1999-01-01                       3.34624   \n",
       "45  2000-01-01                       3.54662   \n",
       "46  2001-01-01                       3.69738   \n",
       "47  2002-01-01                       3.36291   \n",
       "48  2003-01-01                       3.63268   \n",
       "49  2004-01-01                       3.64321   \n",
       "50  2005-01-01                       3.45994   \n",
       "51  2006-01-01                       3.64552   \n",
       "52  2007-01-01                       3.78466   \n",
       "53  2008-01-01                       3.55142   \n",
       "54  2009-01-01                       3.63762   \n",
       "55  2010-01-01                       3.97020   \n",
       "56  2011-01-01                       3.52162   \n",
       "57  2012-01-01                       3.36700   \n",
       "58  2013-01-01                       3.64580   \n",
       "59  2014-01-01                       3.77189   \n",
       "60  2015-01-01                       3.58352   \n",
       "61  2016-01-01                       3.39746   \n",
       "62  2017-01-01                       3.35817   \n",
       "63  2018-01-01                       3.64283   \n",
       "64  2019-01-01                       3.52356   \n",
       "\n",
       "    moving_average_of_sum__5year__solar_radiation  location  \n",
       "9                                             NaN  Valentia  \n",
       "10                                            NaN  Valentia  \n",
       "11                                       3.798174  Valentia  \n",
       "12                                       3.832606  Valentia  \n",
       "13                                       3.835170  Valentia  \n",
       "14                                       3.805264  Valentia  \n",
       "15                                       3.805774  Valentia  \n",
       "16                                       3.682990  Valentia  \n",
       "17                                       3.613058  Valentia  \n",
       "18                                       3.648910  Valentia  \n",
       "19                                       3.636532  Valentia  \n",
       "20                                       3.617696  Valentia  \n",
       "21                                       3.604606  Valentia  \n",
       "22                                       3.563160  Valentia  \n",
       "23                                       3.484902  Valentia  \n",
       "24                                       3.458628  Valentia  \n",
       "25                                       3.448740  Valentia  \n",
       "26                                       3.432390  Valentia  \n",
       "27                                       3.496964  Valentia  \n",
       "28                                       3.469280  Valentia  \n",
       "29                                       3.463152  Valentia  \n",
       "30                                       3.478792  Valentia  \n",
       "31                                       3.498440  Valentia  \n",
       "32                                       3.515206  Valentia  \n",
       "33                                       3.538026  Valentia  \n",
       "34                                       3.564664  Valentia  \n",
       "35                                       3.529268  Valentia  \n",
       "36                                       3.497072  Valentia  \n",
       "37                                       3.406326  Valentia  \n",
       "38                                       3.411662  Valentia  \n",
       "39                                       3.416306  Valentia  \n",
       "40                                       3.416466  Valentia  \n",
       "41                                       3.408304  Valentia  \n",
       "42                                       3.421882  Valentia  \n",
       "43                                       3.427096  Valentia  \n",
       "44                                       3.456068  Valentia  \n",
       "45                                       3.451154  Valentia  \n",
       "46                                       3.517166  Valentia  \n",
       "47                                       3.576560  Valentia  \n",
       "48                                       3.559224  Valentia  \n",
       "49                                       3.548852  Valentia  \n",
       "50                                       3.633202  Valentia  \n",
       "51                                       3.616950  Valentia  \n",
       "52                                       3.615832  Valentia  \n",
       "53                                       3.717884  Valentia  \n",
       "54                                       3.693104  Valentia  \n",
       "55                                       3.609572  Valentia  \n",
       "56                                       3.628448  Valentia  \n",
       "57                                       3.655302  Valentia  \n",
       "58                                       3.577966  Valentia  \n",
       "59                                       3.553134  Valentia  \n",
       "60                                       3.551368  Valentia  \n",
       "61                                       3.550774  Valentia  \n",
       "62                                       3.501108  Valentia  \n",
       "63                                            NaN  Valentia  \n",
       "64                                            NaN  Valentia  "
      ]
     },
     "execution_count": 35,
     "metadata": {},
     "output_type": "execute_result"
    }
   ],
   "source": [
    "df = pd.read_csv(data_csv, index_col=0)\n",
    "df"
   ]
  },
  {
   "cell_type": "code",
   "execution_count": 36,
   "id": "global-lobby",
   "metadata": {},
   "outputs": [],
   "source": [
    "data_path = DATA_PATH+'Atmospheric_Domain/2.6SurfaceEarth_RadiationBudget/Figure2.11/'\n",
    "data_csv = data_path + 'Figure2.11_data.csv'\n",
    "df = pd.read_csv(data_csv, index_col=0)\n",
    "sum_annual_trace = go.Scatter(x=df['datetime'],\n",
    "                            y=df['sum__annual__solar_radiation'],\n",
    "                         name='Annual Radiation',\n",
    "                         mode='markers+lines',\n",
    "                         marker=dict(color=TIMESERIES_COLOR_2,\n",
    "                                     size=5,\n",
    "                                     opacity=0.5),\n",
    "                         line=dict(color=TIMESERIES_COLOR_2,\n",
    "                                      width=1),\n",
    "                         hovertemplate='%{x|%Y}<br>' +\n",
    "                         '<b>Annual Radiation</b><br>' +\n",
    "                         'R<sub>s</sub>: %{y:.2f} GJ/m<sup>2</sup><br>' +\n",
    "                         '<extra></extra>'\n",
    "                         )\n",
    "moving_avg_trace = go.Scatter(x=df['datetime'],\n",
    "                            y=df['moving_average_of_sum__5year__solar_radiation'],\n",
    "                            name='5 Year Moving Average',\n",
    "                            mode='lines',  # 'line' is default\n",
    "                            line_shape='spline',\n",
    "                            line=dict(color=TIMESERIES_COLOR_1,\n",
    "                                      width=2),\n",
    "                            hovertemplate='%{x|%Y}<br>' +\n",
    "                            '<b>5yr Moving Average</b><br>' +\n",
    "                            'R<sub>s</sub>: %{y:.2f} GJ/m<sup>2</sup><extra></extra>'\n",
    "                            )\n"
   ]
  },
  {
   "cell_type": "code",
   "execution_count": 37,
   "id": "micro-petite",
   "metadata": {},
   "outputs": [
    {
     "data": {
      "application/vnd.plotly.v1+json": {
       "config": {
        "plotlyServerURL": "https://plot.ly"
       },
       "data": [
        {
         "hovertemplate": "%{x|%Y}<br><b>Annual Radiation</b><br>R<sub>s</sub>: %{y:.2f} GJ/m<sup>2</sup><br><extra></extra>",
         "line": {
          "color": "#E1AF00",
          "width": 1
         },
         "marker": {
          "color": "#E1AF00",
          "opacity": 0.5,
          "size": 5
         },
         "mode": "markers+lines",
         "name": "Annual Radiation",
         "type": "scatter",
         "x": [
          "1964-01-01",
          "1965-01-01",
          "1966-01-01",
          "1967-01-01",
          "1968-01-01",
          "1969-01-01",
          "1970-01-01",
          "1971-01-01",
          "1972-01-01",
          "1973-01-01",
          "1974-01-01",
          "1975-01-01",
          "1976-01-01",
          "1977-01-01",
          "1978-01-01",
          "1979-01-01",
          "1980-01-01",
          "1981-01-01",
          "1982-01-01",
          "1983-01-01",
          "1984-01-01",
          "1985-01-01",
          "1986-01-01",
          "1987-01-01",
          "1988-01-01",
          "1989-01-01",
          "1990-01-01",
          "1991-01-01",
          "1992-01-01",
          "1993-01-01",
          "1994-01-01",
          "1995-01-01",
          "1996-01-01",
          "1997-01-01",
          "1998-01-01",
          "1999-01-01",
          "2000-01-01",
          "2001-01-01",
          "2002-01-01",
          "2003-01-01",
          "2004-01-01",
          "2005-01-01",
          "2006-01-01",
          "2007-01-01",
          "2008-01-01",
          "2009-01-01",
          "2010-01-01",
          "2011-01-01",
          "2012-01-01",
          "2013-01-01",
          "2014-01-01",
          "2015-01-01",
          "2016-01-01",
          "2017-01-01",
          "2018-01-01",
          "2019-01-01"
         ],
         "y": [
          3.71011,
          3.7174,
          3.76954,
          3.62653,
          4.16729,
          3.88227,
          3.73022,
          3.62001,
          3.62908,
          3.55337,
          3.53261,
          3.90948,
          3.55812,
          3.5349,
          3.48792,
          3.32538,
          3.51819,
          3.42675,
          3.48546,
          3.40617,
          3.64825,
          3.37977,
          3.39611,
          3.56366,
          3.50441,
          3.73208,
          3.49387,
          3.5293,
          3.38668,
          3.34343,
          3.27835,
          3.52055,
          3.5525200000000003,
          3.38748,
          3.30262,
          3.34624,
          3.54662,
          3.69738,
          3.3629100000000003,
          3.63268,
          3.64321,
          3.45994,
          3.64552,
          3.78466,
          3.55142,
          3.63762,
          3.9702,
          3.52162,
          3.367,
          3.6458,
          3.77189,
          3.58352,
          3.39746,
          3.35817,
          3.64283,
          3.52356
         ]
        },
        {
         "hovertemplate": "%{x|%Y}<br><b>5yr Moving Average</b><br>R<sub>s</sub>: %{y:.2f} GJ/m<sup>2</sup><extra></extra>",
         "line": {
          "color": "#00a4ae",
          "shape": "spline",
          "width": 2
         },
         "mode": "lines",
         "name": "5 Year Moving Average",
         "type": "scatter",
         "x": [
          "1964-01-01",
          "1965-01-01",
          "1966-01-01",
          "1967-01-01",
          "1968-01-01",
          "1969-01-01",
          "1970-01-01",
          "1971-01-01",
          "1972-01-01",
          "1973-01-01",
          "1974-01-01",
          "1975-01-01",
          "1976-01-01",
          "1977-01-01",
          "1978-01-01",
          "1979-01-01",
          "1980-01-01",
          "1981-01-01",
          "1982-01-01",
          "1983-01-01",
          "1984-01-01",
          "1985-01-01",
          "1986-01-01",
          "1987-01-01",
          "1988-01-01",
          "1989-01-01",
          "1990-01-01",
          "1991-01-01",
          "1992-01-01",
          "1993-01-01",
          "1994-01-01",
          "1995-01-01",
          "1996-01-01",
          "1997-01-01",
          "1998-01-01",
          "1999-01-01",
          "2000-01-01",
          "2001-01-01",
          "2002-01-01",
          "2003-01-01",
          "2004-01-01",
          "2005-01-01",
          "2006-01-01",
          "2007-01-01",
          "2008-01-01",
          "2009-01-01",
          "2010-01-01",
          "2011-01-01",
          "2012-01-01",
          "2013-01-01",
          "2014-01-01",
          "2015-01-01",
          "2016-01-01",
          "2017-01-01",
          "2018-01-01",
          "2019-01-01"
         ],
         "y": [
          null,
          null,
          3.798174,
          3.832606,
          3.83517,
          3.805264,
          3.805774,
          3.6829899999999993,
          3.613058,
          3.64891,
          3.636532,
          3.617696,
          3.604606,
          3.56316,
          3.4849020000000004,
          3.458628,
          3.44874,
          3.4323900000000003,
          3.496964,
          3.46928,
          3.463152,
          3.478792,
          3.49844,
          3.515206,
          3.538026,
          3.564664,
          3.529268,
          3.497072,
          3.406326,
          3.411662,
          3.416306,
          3.4164660000000007,
          3.408304,
          3.421882000000001,
          3.427096,
          3.456068,
          3.451154,
          3.5171660000000005,
          3.57656,
          3.5592239999999995,
          3.548852,
          3.633202,
          3.61695,
          3.615832,
          3.717884,
          3.693104,
          3.609572,
          3.628448,
          3.655302,
          3.577966,
          3.553134,
          3.551368,
          3.550774,
          3.501108,
          null,
          null
         ]
        }
       ],
       "layout": {
        "font": {
         "color": "#7f7f7f"
        },
        "height": 450,
        "hovermode": "closest",
        "legend": {
         "bgcolor": "rgba(0,0,0,0)",
         "itemclick": false,
         "itemdoubleclick": false,
         "orientation": "h"
        },
        "margin": {
         "b": 0,
         "l": 0,
         "r": 0,
         "t": 0
        },
        "paper_bgcolor": "rgba(0,0,0,0)",
        "plot_bgcolor": "#f7fbfd",
        "template": {
         "data": {
          "bar": [
           {
            "error_x": {
             "color": "#2a3f5f"
            },
            "error_y": {
             "color": "#2a3f5f"
            },
            "marker": {
             "line": {
              "color": "#E5ECF6",
              "width": 0.5
             }
            },
            "type": "bar"
           }
          ],
          "barpolar": [
           {
            "marker": {
             "line": {
              "color": "#E5ECF6",
              "width": 0.5
             }
            },
            "type": "barpolar"
           }
          ],
          "carpet": [
           {
            "aaxis": {
             "endlinecolor": "#2a3f5f",
             "gridcolor": "white",
             "linecolor": "white",
             "minorgridcolor": "white",
             "startlinecolor": "#2a3f5f"
            },
            "baxis": {
             "endlinecolor": "#2a3f5f",
             "gridcolor": "white",
             "linecolor": "white",
             "minorgridcolor": "white",
             "startlinecolor": "#2a3f5f"
            },
            "type": "carpet"
           }
          ],
          "choropleth": [
           {
            "colorbar": {
             "outlinewidth": 0,
             "ticks": ""
            },
            "type": "choropleth"
           }
          ],
          "contour": [
           {
            "colorbar": {
             "outlinewidth": 0,
             "ticks": ""
            },
            "colorscale": [
             [
              0,
              "#0d0887"
             ],
             [
              0.1111111111111111,
              "#46039f"
             ],
             [
              0.2222222222222222,
              "#7201a8"
             ],
             [
              0.3333333333333333,
              "#9c179e"
             ],
             [
              0.4444444444444444,
              "#bd3786"
             ],
             [
              0.5555555555555556,
              "#d8576b"
             ],
             [
              0.6666666666666666,
              "#ed7953"
             ],
             [
              0.7777777777777778,
              "#fb9f3a"
             ],
             [
              0.8888888888888888,
              "#fdca26"
             ],
             [
              1,
              "#f0f921"
             ]
            ],
            "type": "contour"
           }
          ],
          "contourcarpet": [
           {
            "colorbar": {
             "outlinewidth": 0,
             "ticks": ""
            },
            "type": "contourcarpet"
           }
          ],
          "heatmap": [
           {
            "colorbar": {
             "outlinewidth": 0,
             "ticks": ""
            },
            "colorscale": [
             [
              0,
              "#0d0887"
             ],
             [
              0.1111111111111111,
              "#46039f"
             ],
             [
              0.2222222222222222,
              "#7201a8"
             ],
             [
              0.3333333333333333,
              "#9c179e"
             ],
             [
              0.4444444444444444,
              "#bd3786"
             ],
             [
              0.5555555555555556,
              "#d8576b"
             ],
             [
              0.6666666666666666,
              "#ed7953"
             ],
             [
              0.7777777777777778,
              "#fb9f3a"
             ],
             [
              0.8888888888888888,
              "#fdca26"
             ],
             [
              1,
              "#f0f921"
             ]
            ],
            "type": "heatmap"
           }
          ],
          "heatmapgl": [
           {
            "colorbar": {
             "outlinewidth": 0,
             "ticks": ""
            },
            "colorscale": [
             [
              0,
              "#0d0887"
             ],
             [
              0.1111111111111111,
              "#46039f"
             ],
             [
              0.2222222222222222,
              "#7201a8"
             ],
             [
              0.3333333333333333,
              "#9c179e"
             ],
             [
              0.4444444444444444,
              "#bd3786"
             ],
             [
              0.5555555555555556,
              "#d8576b"
             ],
             [
              0.6666666666666666,
              "#ed7953"
             ],
             [
              0.7777777777777778,
              "#fb9f3a"
             ],
             [
              0.8888888888888888,
              "#fdca26"
             ],
             [
              1,
              "#f0f921"
             ]
            ],
            "type": "heatmapgl"
           }
          ],
          "histogram": [
           {
            "marker": {
             "colorbar": {
              "outlinewidth": 0,
              "ticks": ""
             }
            },
            "type": "histogram"
           }
          ],
          "histogram2d": [
           {
            "colorbar": {
             "outlinewidth": 0,
             "ticks": ""
            },
            "colorscale": [
             [
              0,
              "#0d0887"
             ],
             [
              0.1111111111111111,
              "#46039f"
             ],
             [
              0.2222222222222222,
              "#7201a8"
             ],
             [
              0.3333333333333333,
              "#9c179e"
             ],
             [
              0.4444444444444444,
              "#bd3786"
             ],
             [
              0.5555555555555556,
              "#d8576b"
             ],
             [
              0.6666666666666666,
              "#ed7953"
             ],
             [
              0.7777777777777778,
              "#fb9f3a"
             ],
             [
              0.8888888888888888,
              "#fdca26"
             ],
             [
              1,
              "#f0f921"
             ]
            ],
            "type": "histogram2d"
           }
          ],
          "histogram2dcontour": [
           {
            "colorbar": {
             "outlinewidth": 0,
             "ticks": ""
            },
            "colorscale": [
             [
              0,
              "#0d0887"
             ],
             [
              0.1111111111111111,
              "#46039f"
             ],
             [
              0.2222222222222222,
              "#7201a8"
             ],
             [
              0.3333333333333333,
              "#9c179e"
             ],
             [
              0.4444444444444444,
              "#bd3786"
             ],
             [
              0.5555555555555556,
              "#d8576b"
             ],
             [
              0.6666666666666666,
              "#ed7953"
             ],
             [
              0.7777777777777778,
              "#fb9f3a"
             ],
             [
              0.8888888888888888,
              "#fdca26"
             ],
             [
              1,
              "#f0f921"
             ]
            ],
            "type": "histogram2dcontour"
           }
          ],
          "mesh3d": [
           {
            "colorbar": {
             "outlinewidth": 0,
             "ticks": ""
            },
            "type": "mesh3d"
           }
          ],
          "parcoords": [
           {
            "line": {
             "colorbar": {
              "outlinewidth": 0,
              "ticks": ""
             }
            },
            "type": "parcoords"
           }
          ],
          "pie": [
           {
            "automargin": true,
            "type": "pie"
           }
          ],
          "scatter": [
           {
            "marker": {
             "colorbar": {
              "outlinewidth": 0,
              "ticks": ""
             }
            },
            "type": "scatter"
           }
          ],
          "scatter3d": [
           {
            "line": {
             "colorbar": {
              "outlinewidth": 0,
              "ticks": ""
             }
            },
            "marker": {
             "colorbar": {
              "outlinewidth": 0,
              "ticks": ""
             }
            },
            "type": "scatter3d"
           }
          ],
          "scattercarpet": [
           {
            "marker": {
             "colorbar": {
              "outlinewidth": 0,
              "ticks": ""
             }
            },
            "type": "scattercarpet"
           }
          ],
          "scattergeo": [
           {
            "marker": {
             "colorbar": {
              "outlinewidth": 0,
              "ticks": ""
             }
            },
            "type": "scattergeo"
           }
          ],
          "scattergl": [
           {
            "marker": {
             "colorbar": {
              "outlinewidth": 0,
              "ticks": ""
             }
            },
            "type": "scattergl"
           }
          ],
          "scattermapbox": [
           {
            "marker": {
             "colorbar": {
              "outlinewidth": 0,
              "ticks": ""
             }
            },
            "type": "scattermapbox"
           }
          ],
          "scatterpolar": [
           {
            "marker": {
             "colorbar": {
              "outlinewidth": 0,
              "ticks": ""
             }
            },
            "type": "scatterpolar"
           }
          ],
          "scatterpolargl": [
           {
            "marker": {
             "colorbar": {
              "outlinewidth": 0,
              "ticks": ""
             }
            },
            "type": "scatterpolargl"
           }
          ],
          "scatterternary": [
           {
            "marker": {
             "colorbar": {
              "outlinewidth": 0,
              "ticks": ""
             }
            },
            "type": "scatterternary"
           }
          ],
          "surface": [
           {
            "colorbar": {
             "outlinewidth": 0,
             "ticks": ""
            },
            "colorscale": [
             [
              0,
              "#0d0887"
             ],
             [
              0.1111111111111111,
              "#46039f"
             ],
             [
              0.2222222222222222,
              "#7201a8"
             ],
             [
              0.3333333333333333,
              "#9c179e"
             ],
             [
              0.4444444444444444,
              "#bd3786"
             ],
             [
              0.5555555555555556,
              "#d8576b"
             ],
             [
              0.6666666666666666,
              "#ed7953"
             ],
             [
              0.7777777777777778,
              "#fb9f3a"
             ],
             [
              0.8888888888888888,
              "#fdca26"
             ],
             [
              1,
              "#f0f921"
             ]
            ],
            "type": "surface"
           }
          ],
          "table": [
           {
            "cells": {
             "fill": {
              "color": "#EBF0F8"
             },
             "line": {
              "color": "white"
             }
            },
            "header": {
             "fill": {
              "color": "#C8D4E3"
             },
             "line": {
              "color": "white"
             }
            },
            "type": "table"
           }
          ]
         },
         "layout": {
          "annotationdefaults": {
           "arrowcolor": "#2a3f5f",
           "arrowhead": 0,
           "arrowwidth": 1
          },
          "autotypenumbers": "strict",
          "coloraxis": {
           "colorbar": {
            "outlinewidth": 0,
            "ticks": ""
           }
          },
          "colorscale": {
           "diverging": [
            [
             0,
             "#8e0152"
            ],
            [
             0.1,
             "#c51b7d"
            ],
            [
             0.2,
             "#de77ae"
            ],
            [
             0.3,
             "#f1b6da"
            ],
            [
             0.4,
             "#fde0ef"
            ],
            [
             0.5,
             "#f7f7f7"
            ],
            [
             0.6,
             "#e6f5d0"
            ],
            [
             0.7,
             "#b8e186"
            ],
            [
             0.8,
             "#7fbc41"
            ],
            [
             0.9,
             "#4d9221"
            ],
            [
             1,
             "#276419"
            ]
           ],
           "sequential": [
            [
             0,
             "#0d0887"
            ],
            [
             0.1111111111111111,
             "#46039f"
            ],
            [
             0.2222222222222222,
             "#7201a8"
            ],
            [
             0.3333333333333333,
             "#9c179e"
            ],
            [
             0.4444444444444444,
             "#bd3786"
            ],
            [
             0.5555555555555556,
             "#d8576b"
            ],
            [
             0.6666666666666666,
             "#ed7953"
            ],
            [
             0.7777777777777778,
             "#fb9f3a"
            ],
            [
             0.8888888888888888,
             "#fdca26"
            ],
            [
             1,
             "#f0f921"
            ]
           ],
           "sequentialminus": [
            [
             0,
             "#0d0887"
            ],
            [
             0.1111111111111111,
             "#46039f"
            ],
            [
             0.2222222222222222,
             "#7201a8"
            ],
            [
             0.3333333333333333,
             "#9c179e"
            ],
            [
             0.4444444444444444,
             "#bd3786"
            ],
            [
             0.5555555555555556,
             "#d8576b"
            ],
            [
             0.6666666666666666,
             "#ed7953"
            ],
            [
             0.7777777777777778,
             "#fb9f3a"
            ],
            [
             0.8888888888888888,
             "#fdca26"
            ],
            [
             1,
             "#f0f921"
            ]
           ]
          },
          "colorway": [
           "#636efa",
           "#EF553B",
           "#00cc96",
           "#ab63fa",
           "#FFA15A",
           "#19d3f3",
           "#FF6692",
           "#B6E880",
           "#FF97FF",
           "#FECB52"
          ],
          "font": {
           "color": "#2a3f5f"
          },
          "geo": {
           "bgcolor": "white",
           "lakecolor": "white",
           "landcolor": "#E5ECF6",
           "showlakes": true,
           "showland": true,
           "subunitcolor": "white"
          },
          "hoverlabel": {
           "align": "left"
          },
          "hovermode": "closest",
          "mapbox": {
           "style": "light"
          },
          "paper_bgcolor": "white",
          "plot_bgcolor": "#E5ECF6",
          "polar": {
           "angularaxis": {
            "gridcolor": "white",
            "linecolor": "white",
            "ticks": ""
           },
           "bgcolor": "#E5ECF6",
           "radialaxis": {
            "gridcolor": "white",
            "linecolor": "white",
            "ticks": ""
           }
          },
          "scene": {
           "xaxis": {
            "backgroundcolor": "#E5ECF6",
            "gridcolor": "white",
            "gridwidth": 2,
            "linecolor": "white",
            "showbackground": true,
            "ticks": "",
            "zerolinecolor": "white"
           },
           "yaxis": {
            "backgroundcolor": "#E5ECF6",
            "gridcolor": "white",
            "gridwidth": 2,
            "linecolor": "white",
            "showbackground": true,
            "ticks": "",
            "zerolinecolor": "white"
           },
           "zaxis": {
            "backgroundcolor": "#E5ECF6",
            "gridcolor": "white",
            "gridwidth": 2,
            "linecolor": "white",
            "showbackground": true,
            "ticks": "",
            "zerolinecolor": "white"
           }
          },
          "shapedefaults": {
           "line": {
            "color": "#2a3f5f"
           }
          },
          "ternary": {
           "aaxis": {
            "gridcolor": "white",
            "linecolor": "white",
            "ticks": ""
           },
           "baxis": {
            "gridcolor": "white",
            "linecolor": "white",
            "ticks": ""
           },
           "bgcolor": "#E5ECF6",
           "caxis": {
            "gridcolor": "white",
            "linecolor": "white",
            "ticks": ""
           }
          },
          "title": {
           "x": 0.05
          },
          "xaxis": {
           "automargin": true,
           "gridcolor": "white",
           "linecolor": "white",
           "ticks": "",
           "title": {
            "standoff": 15
           },
           "zerolinecolor": "white",
           "zerolinewidth": 2
          },
          "yaxis": {
           "automargin": true,
           "gridcolor": "white",
           "linecolor": "white",
           "ticks": "",
           "title": {
            "standoff": 15
           },
           "zerolinecolor": "white",
           "zerolinewidth": 2
          }
         }
        },
        "xaxis": {
         "fixedrange": true,
         "showgrid": false,
         "title": {
          "text": "Year"
         }
        },
        "yaxis": {
         "fixedrange": true,
         "title": {
          "text": "Solar Radiation, R<sub>s</sub> (GJ/m<sup>2</sup>)"
         }
        }
       }
      },
      "text/html": [
       "<div>                            <div id=\"b30cf40e-de38-4e97-9833-87c10e5290e3\" class=\"plotly-graph-div\" style=\"height:450px; width:100%;\"></div>            <script type=\"text/javascript\">                require([\"plotly\"], function(Plotly) {                    window.PLOTLYENV=window.PLOTLYENV || {};                                    if (document.getElementById(\"b30cf40e-de38-4e97-9833-87c10e5290e3\")) {                    Plotly.newPlot(                        \"b30cf40e-de38-4e97-9833-87c10e5290e3\",                        [{\"hovertemplate\": \"%{x|%Y}<br><b>Annual Radiation</b><br>R<sub>s</sub>: %{y:.2f} GJ/m<sup>2</sup><br><extra></extra>\", \"line\": {\"color\": \"#E1AF00\", \"width\": 1}, \"marker\": {\"color\": \"#E1AF00\", \"opacity\": 0.5, \"size\": 5}, \"mode\": \"markers+lines\", \"name\": \"Annual Radiation\", \"type\": \"scatter\", \"x\": [\"1964-01-01\", \"1965-01-01\", \"1966-01-01\", \"1967-01-01\", \"1968-01-01\", \"1969-01-01\", \"1970-01-01\", \"1971-01-01\", \"1972-01-01\", \"1973-01-01\", \"1974-01-01\", \"1975-01-01\", \"1976-01-01\", \"1977-01-01\", \"1978-01-01\", \"1979-01-01\", \"1980-01-01\", \"1981-01-01\", \"1982-01-01\", \"1983-01-01\", \"1984-01-01\", \"1985-01-01\", \"1986-01-01\", \"1987-01-01\", \"1988-01-01\", \"1989-01-01\", \"1990-01-01\", \"1991-01-01\", \"1992-01-01\", \"1993-01-01\", \"1994-01-01\", \"1995-01-01\", \"1996-01-01\", \"1997-01-01\", \"1998-01-01\", \"1999-01-01\", \"2000-01-01\", \"2001-01-01\", \"2002-01-01\", \"2003-01-01\", \"2004-01-01\", \"2005-01-01\", \"2006-01-01\", \"2007-01-01\", \"2008-01-01\", \"2009-01-01\", \"2010-01-01\", \"2011-01-01\", \"2012-01-01\", \"2013-01-01\", \"2014-01-01\", \"2015-01-01\", \"2016-01-01\", \"2017-01-01\", \"2018-01-01\", \"2019-01-01\"], \"y\": [3.71011, 3.7174, 3.76954, 3.62653, 4.16729, 3.88227, 3.73022, 3.62001, 3.62908, 3.55337, 3.53261, 3.90948, 3.55812, 3.5349, 3.48792, 3.32538, 3.51819, 3.42675, 3.48546, 3.40617, 3.64825, 3.37977, 3.39611, 3.56366, 3.50441, 3.73208, 3.49387, 3.5293, 3.38668, 3.34343, 3.27835, 3.52055, 3.5525200000000003, 3.38748, 3.30262, 3.34624, 3.54662, 3.69738, 3.3629100000000003, 3.63268, 3.64321, 3.45994, 3.64552, 3.78466, 3.55142, 3.63762, 3.9702, 3.52162, 3.367, 3.6458, 3.77189, 3.58352, 3.39746, 3.35817, 3.64283, 3.52356]}, {\"hovertemplate\": \"%{x|%Y}<br><b>5yr Moving Average</b><br>R<sub>s</sub>: %{y:.2f} GJ/m<sup>2</sup><extra></extra>\", \"line\": {\"color\": \"#00a4ae\", \"shape\": \"spline\", \"width\": 2}, \"mode\": \"lines\", \"name\": \"5 Year Moving Average\", \"type\": \"scatter\", \"x\": [\"1964-01-01\", \"1965-01-01\", \"1966-01-01\", \"1967-01-01\", \"1968-01-01\", \"1969-01-01\", \"1970-01-01\", \"1971-01-01\", \"1972-01-01\", \"1973-01-01\", \"1974-01-01\", \"1975-01-01\", \"1976-01-01\", \"1977-01-01\", \"1978-01-01\", \"1979-01-01\", \"1980-01-01\", \"1981-01-01\", \"1982-01-01\", \"1983-01-01\", \"1984-01-01\", \"1985-01-01\", \"1986-01-01\", \"1987-01-01\", \"1988-01-01\", \"1989-01-01\", \"1990-01-01\", \"1991-01-01\", \"1992-01-01\", \"1993-01-01\", \"1994-01-01\", \"1995-01-01\", \"1996-01-01\", \"1997-01-01\", \"1998-01-01\", \"1999-01-01\", \"2000-01-01\", \"2001-01-01\", \"2002-01-01\", \"2003-01-01\", \"2004-01-01\", \"2005-01-01\", \"2006-01-01\", \"2007-01-01\", \"2008-01-01\", \"2009-01-01\", \"2010-01-01\", \"2011-01-01\", \"2012-01-01\", \"2013-01-01\", \"2014-01-01\", \"2015-01-01\", \"2016-01-01\", \"2017-01-01\", \"2018-01-01\", \"2019-01-01\"], \"y\": [null, null, 3.798174, 3.832606, 3.83517, 3.805264, 3.805774, 3.6829899999999993, 3.613058, 3.64891, 3.636532, 3.617696, 3.604606, 3.56316, 3.4849020000000004, 3.458628, 3.44874, 3.4323900000000003, 3.496964, 3.46928, 3.463152, 3.478792, 3.49844, 3.515206, 3.538026, 3.564664, 3.529268, 3.497072, 3.406326, 3.411662, 3.416306, 3.4164660000000007, 3.408304, 3.421882000000001, 3.427096, 3.456068, 3.451154, 3.5171660000000005, 3.57656, 3.5592239999999995, 3.548852, 3.633202, 3.61695, 3.615832, 3.717884, 3.693104, 3.609572, 3.628448, 3.655302, 3.577966, 3.553134, 3.551368, 3.550774, 3.501108, null, null]}],                        {\"font\": {\"color\": \"#7f7f7f\"}, \"height\": 450, \"hovermode\": \"closest\", \"legend\": {\"bgcolor\": \"rgba(0,0,0,0)\", \"itemclick\": false, \"itemdoubleclick\": false, \"orientation\": \"h\"}, \"margin\": {\"b\": 0, \"l\": 0, \"r\": 0, \"t\": 0}, \"paper_bgcolor\": \"rgba(0,0,0,0)\", \"plot_bgcolor\": \"#f7fbfd\", \"template\": {\"data\": {\"bar\": [{\"error_x\": {\"color\": \"#2a3f5f\"}, \"error_y\": {\"color\": \"#2a3f5f\"}, \"marker\": {\"line\": {\"color\": \"#E5ECF6\", \"width\": 0.5}}, \"type\": \"bar\"}], \"barpolar\": [{\"marker\": {\"line\": {\"color\": \"#E5ECF6\", \"width\": 0.5}}, \"type\": \"barpolar\"}], \"carpet\": [{\"aaxis\": {\"endlinecolor\": \"#2a3f5f\", \"gridcolor\": \"white\", \"linecolor\": \"white\", \"minorgridcolor\": \"white\", \"startlinecolor\": \"#2a3f5f\"}, \"baxis\": {\"endlinecolor\": \"#2a3f5f\", \"gridcolor\": \"white\", \"linecolor\": \"white\", \"minorgridcolor\": \"white\", \"startlinecolor\": \"#2a3f5f\"}, \"type\": \"carpet\"}], \"choropleth\": [{\"colorbar\": {\"outlinewidth\": 0, \"ticks\": \"\"}, \"type\": \"choropleth\"}], \"contour\": [{\"colorbar\": {\"outlinewidth\": 0, \"ticks\": \"\"}, \"colorscale\": [[0.0, \"#0d0887\"], [0.1111111111111111, \"#46039f\"], [0.2222222222222222, \"#7201a8\"], [0.3333333333333333, \"#9c179e\"], [0.4444444444444444, \"#bd3786\"], [0.5555555555555556, \"#d8576b\"], [0.6666666666666666, \"#ed7953\"], [0.7777777777777778, \"#fb9f3a\"], [0.8888888888888888, \"#fdca26\"], [1.0, \"#f0f921\"]], \"type\": \"contour\"}], \"contourcarpet\": [{\"colorbar\": {\"outlinewidth\": 0, \"ticks\": \"\"}, \"type\": \"contourcarpet\"}], \"heatmap\": [{\"colorbar\": {\"outlinewidth\": 0, \"ticks\": \"\"}, \"colorscale\": [[0.0, \"#0d0887\"], [0.1111111111111111, \"#46039f\"], [0.2222222222222222, \"#7201a8\"], [0.3333333333333333, \"#9c179e\"], [0.4444444444444444, \"#bd3786\"], [0.5555555555555556, \"#d8576b\"], [0.6666666666666666, \"#ed7953\"], [0.7777777777777778, \"#fb9f3a\"], [0.8888888888888888, \"#fdca26\"], [1.0, \"#f0f921\"]], \"type\": \"heatmap\"}], \"heatmapgl\": [{\"colorbar\": {\"outlinewidth\": 0, \"ticks\": \"\"}, \"colorscale\": [[0.0, \"#0d0887\"], [0.1111111111111111, \"#46039f\"], [0.2222222222222222, \"#7201a8\"], [0.3333333333333333, \"#9c179e\"], [0.4444444444444444, \"#bd3786\"], [0.5555555555555556, \"#d8576b\"], [0.6666666666666666, \"#ed7953\"], [0.7777777777777778, \"#fb9f3a\"], [0.8888888888888888, \"#fdca26\"], [1.0, \"#f0f921\"]], \"type\": \"heatmapgl\"}], \"histogram\": [{\"marker\": {\"colorbar\": {\"outlinewidth\": 0, \"ticks\": \"\"}}, \"type\": \"histogram\"}], \"histogram2d\": [{\"colorbar\": {\"outlinewidth\": 0, \"ticks\": \"\"}, \"colorscale\": [[0.0, \"#0d0887\"], [0.1111111111111111, \"#46039f\"], [0.2222222222222222, \"#7201a8\"], [0.3333333333333333, \"#9c179e\"], [0.4444444444444444, \"#bd3786\"], [0.5555555555555556, \"#d8576b\"], [0.6666666666666666, \"#ed7953\"], [0.7777777777777778, \"#fb9f3a\"], [0.8888888888888888, \"#fdca26\"], [1.0, \"#f0f921\"]], \"type\": \"histogram2d\"}], \"histogram2dcontour\": [{\"colorbar\": {\"outlinewidth\": 0, \"ticks\": \"\"}, \"colorscale\": [[0.0, \"#0d0887\"], [0.1111111111111111, \"#46039f\"], [0.2222222222222222, \"#7201a8\"], [0.3333333333333333, \"#9c179e\"], [0.4444444444444444, \"#bd3786\"], [0.5555555555555556, \"#d8576b\"], [0.6666666666666666, \"#ed7953\"], [0.7777777777777778, \"#fb9f3a\"], [0.8888888888888888, \"#fdca26\"], [1.0, \"#f0f921\"]], \"type\": \"histogram2dcontour\"}], \"mesh3d\": [{\"colorbar\": {\"outlinewidth\": 0, \"ticks\": \"\"}, \"type\": \"mesh3d\"}], \"parcoords\": [{\"line\": {\"colorbar\": {\"outlinewidth\": 0, \"ticks\": \"\"}}, \"type\": \"parcoords\"}], \"pie\": [{\"automargin\": true, \"type\": \"pie\"}], \"scatter\": [{\"marker\": {\"colorbar\": {\"outlinewidth\": 0, \"ticks\": \"\"}}, \"type\": \"scatter\"}], \"scatter3d\": [{\"line\": {\"colorbar\": {\"outlinewidth\": 0, \"ticks\": \"\"}}, \"marker\": {\"colorbar\": {\"outlinewidth\": 0, \"ticks\": \"\"}}, \"type\": \"scatter3d\"}], \"scattercarpet\": [{\"marker\": {\"colorbar\": {\"outlinewidth\": 0, \"ticks\": \"\"}}, \"type\": \"scattercarpet\"}], \"scattergeo\": [{\"marker\": {\"colorbar\": {\"outlinewidth\": 0, \"ticks\": \"\"}}, \"type\": \"scattergeo\"}], \"scattergl\": [{\"marker\": {\"colorbar\": {\"outlinewidth\": 0, \"ticks\": \"\"}}, \"type\": \"scattergl\"}], \"scattermapbox\": [{\"marker\": {\"colorbar\": {\"outlinewidth\": 0, \"ticks\": \"\"}}, \"type\": \"scattermapbox\"}], \"scatterpolar\": [{\"marker\": {\"colorbar\": {\"outlinewidth\": 0, \"ticks\": \"\"}}, \"type\": \"scatterpolar\"}], \"scatterpolargl\": [{\"marker\": {\"colorbar\": {\"outlinewidth\": 0, \"ticks\": \"\"}}, \"type\": \"scatterpolargl\"}], \"scatterternary\": [{\"marker\": {\"colorbar\": {\"outlinewidth\": 0, \"ticks\": \"\"}}, \"type\": \"scatterternary\"}], \"surface\": [{\"colorbar\": {\"outlinewidth\": 0, \"ticks\": \"\"}, \"colorscale\": [[0.0, \"#0d0887\"], [0.1111111111111111, \"#46039f\"], [0.2222222222222222, \"#7201a8\"], [0.3333333333333333, \"#9c179e\"], [0.4444444444444444, \"#bd3786\"], [0.5555555555555556, \"#d8576b\"], [0.6666666666666666, \"#ed7953\"], [0.7777777777777778, \"#fb9f3a\"], [0.8888888888888888, \"#fdca26\"], [1.0, \"#f0f921\"]], \"type\": \"surface\"}], \"table\": [{\"cells\": {\"fill\": {\"color\": \"#EBF0F8\"}, \"line\": {\"color\": \"white\"}}, \"header\": {\"fill\": {\"color\": \"#C8D4E3\"}, \"line\": {\"color\": \"white\"}}, \"type\": \"table\"}]}, \"layout\": {\"annotationdefaults\": {\"arrowcolor\": \"#2a3f5f\", \"arrowhead\": 0, \"arrowwidth\": 1}, \"autotypenumbers\": \"strict\", \"coloraxis\": {\"colorbar\": {\"outlinewidth\": 0, \"ticks\": \"\"}}, \"colorscale\": {\"diverging\": [[0, \"#8e0152\"], [0.1, \"#c51b7d\"], [0.2, \"#de77ae\"], [0.3, \"#f1b6da\"], [0.4, \"#fde0ef\"], [0.5, \"#f7f7f7\"], [0.6, \"#e6f5d0\"], [0.7, \"#b8e186\"], [0.8, \"#7fbc41\"], [0.9, \"#4d9221\"], [1, \"#276419\"]], \"sequential\": [[0.0, \"#0d0887\"], [0.1111111111111111, \"#46039f\"], [0.2222222222222222, \"#7201a8\"], [0.3333333333333333, \"#9c179e\"], [0.4444444444444444, \"#bd3786\"], [0.5555555555555556, \"#d8576b\"], [0.6666666666666666, \"#ed7953\"], [0.7777777777777778, \"#fb9f3a\"], [0.8888888888888888, \"#fdca26\"], [1.0, \"#f0f921\"]], \"sequentialminus\": [[0.0, \"#0d0887\"], [0.1111111111111111, \"#46039f\"], [0.2222222222222222, \"#7201a8\"], [0.3333333333333333, \"#9c179e\"], [0.4444444444444444, \"#bd3786\"], [0.5555555555555556, \"#d8576b\"], [0.6666666666666666, \"#ed7953\"], [0.7777777777777778, \"#fb9f3a\"], [0.8888888888888888, \"#fdca26\"], [1.0, \"#f0f921\"]]}, \"colorway\": [\"#636efa\", \"#EF553B\", \"#00cc96\", \"#ab63fa\", \"#FFA15A\", \"#19d3f3\", \"#FF6692\", \"#B6E880\", \"#FF97FF\", \"#FECB52\"], \"font\": {\"color\": \"#2a3f5f\"}, \"geo\": {\"bgcolor\": \"white\", \"lakecolor\": \"white\", \"landcolor\": \"#E5ECF6\", \"showlakes\": true, \"showland\": true, \"subunitcolor\": \"white\"}, \"hoverlabel\": {\"align\": \"left\"}, \"hovermode\": \"closest\", \"mapbox\": {\"style\": \"light\"}, \"paper_bgcolor\": \"white\", \"plot_bgcolor\": \"#E5ECF6\", \"polar\": {\"angularaxis\": {\"gridcolor\": \"white\", \"linecolor\": \"white\", \"ticks\": \"\"}, \"bgcolor\": \"#E5ECF6\", \"radialaxis\": {\"gridcolor\": \"white\", \"linecolor\": \"white\", \"ticks\": \"\"}}, \"scene\": {\"xaxis\": {\"backgroundcolor\": \"#E5ECF6\", \"gridcolor\": \"white\", \"gridwidth\": 2, \"linecolor\": \"white\", \"showbackground\": true, \"ticks\": \"\", \"zerolinecolor\": \"white\"}, \"yaxis\": {\"backgroundcolor\": \"#E5ECF6\", \"gridcolor\": \"white\", \"gridwidth\": 2, \"linecolor\": \"white\", \"showbackground\": true, \"ticks\": \"\", \"zerolinecolor\": \"white\"}, \"zaxis\": {\"backgroundcolor\": \"#E5ECF6\", \"gridcolor\": \"white\", \"gridwidth\": 2, \"linecolor\": \"white\", \"showbackground\": true, \"ticks\": \"\", \"zerolinecolor\": \"white\"}}, \"shapedefaults\": {\"line\": {\"color\": \"#2a3f5f\"}}, \"ternary\": {\"aaxis\": {\"gridcolor\": \"white\", \"linecolor\": \"white\", \"ticks\": \"\"}, \"baxis\": {\"gridcolor\": \"white\", \"linecolor\": \"white\", \"ticks\": \"\"}, \"bgcolor\": \"#E5ECF6\", \"caxis\": {\"gridcolor\": \"white\", \"linecolor\": \"white\", \"ticks\": \"\"}}, \"title\": {\"x\": 0.05}, \"xaxis\": {\"automargin\": true, \"gridcolor\": \"white\", \"linecolor\": \"white\", \"ticks\": \"\", \"title\": {\"standoff\": 15}, \"zerolinecolor\": \"white\", \"zerolinewidth\": 2}, \"yaxis\": {\"automargin\": true, \"gridcolor\": \"white\", \"linecolor\": \"white\", \"ticks\": \"\", \"title\": {\"standoff\": 15}, \"zerolinecolor\": \"white\", \"zerolinewidth\": 2}}}, \"xaxis\": {\"fixedrange\": true, \"showgrid\": false, \"title\": {\"text\": \"Year\"}}, \"yaxis\": {\"fixedrange\": true, \"title\": {\"text\": \"Solar Radiation, R<sub>s</sub> (GJ/m<sup>2</sup>)\"}}},                        {\"responsive\": true}                    ).then(function(){\n",
       "                            \n",
       "var gd = document.getElementById('b30cf40e-de38-4e97-9833-87c10e5290e3');\n",
       "var x = new MutationObserver(function (mutations, observer) {{\n",
       "        var display = window.getComputedStyle(gd).display;\n",
       "        if (!display || display === 'none') {{\n",
       "            console.log([gd, 'removed!']);\n",
       "            Plotly.purge(gd);\n",
       "            observer.disconnect();\n",
       "        }}\n",
       "}});\n",
       "\n",
       "// Listen for the removal of the full notebook cells\n",
       "var notebookContainer = gd.closest('#notebook-container');\n",
       "if (notebookContainer) {{\n",
       "    x.observe(notebookContainer, {childList: true});\n",
       "}}\n",
       "\n",
       "// Listen for the clearing of the current output cell\n",
       "var outputEl = gd.closest('.output');\n",
       "if (outputEl) {{\n",
       "    x.observe(outputEl, {childList: true});\n",
       "}}\n",
       "\n",
       "                        })                };                });            </script>        </div>"
      ]
     },
     "metadata": {},
     "output_type": "display_data"
    }
   ],
   "source": [
    "figure_2_11 = go.Figure(data=[sum_annual_trace, moving_avg_trace], layout=TIMESERIES_LAYOUT)\n",
    "figure_2_11.update_layout(\n",
    "    yaxis=dict(title='Solar Radiation, R<sub>s</sub> (GJ/m<sup>2</sup>)'),\n",
    "    xaxis=dict(title=\"Year\"))\n",
    "figure_2_11"
   ]
  },
  {
   "cell_type": "code",
   "execution_count": 46,
   "id": "advanced-diploma",
   "metadata": {},
   "outputs": [
    {
     "data": {
      "application/vnd.plotly.v1+json": {
       "config": {
        "plotlyServerURL": "https://plot.ly"
       },
       "data": [
        {
         "hovertemplate": [
          "Name: Oak_Park<br>County: Carlow<br>Type: Synoptic<br>Station No.: 375<br>Open Year: 2003<br>Height: 62.00 m<br>Lat: 52.86 °<br>Lon: -6.91 °<br><extra></extra>",
          "Name: Ballyhaise<br>County: Cavan<br>Type: Synoptic<br>Station No.: 675<br>Open Year: 2003<br>Height: 78.00 m<br>Lat: 54.05 °<br>Lon: -7.31 °<br><extra></extra>",
          "Name: Shannon_Airport<br>County: Clare<br>Type: Synoptic<br>Station No.: 518<br>Open Year: 1937<br>Height: 15.00 m<br>Lat: 52.69 °<br>Lon: -8.92 °<br><extra></extra>",
          "Name: Moore_Park<br>County: Cork<br>Type: Synoptic<br>Station No.: 575<br>Open Year: 2003<br>Height: 46.00 m<br>Lat: 52.16 °<br>Lon: -8.26 °<br><extra></extra>",
          "Name: SherkinIsland<br>County: Cork<br>Type: Synoptic<br>Station No.: 775<br>Open Year: 2004<br>Height: 21.00 m<br>Lat: 51.47 °<br>Lon: -9.42 °<br><extra></extra>",
          "Name: Roches_Point<br>County: Cork<br>Type: Synoptic<br>Station No.: 1075<br>Open Year: 2004<br>Height: 40.00 m<br>Lat: 51.79 °<br>Lon: -8.24 °<br><extra></extra>",
          "Name: Cork_Airport<br>County: Cork<br>Type: Synoptic<br>Station No.: 3904<br>Open Year: 1961<br>Height: 155.00 m<br>Lat: 51.84 °<br>Lon: -8.48 °<br><extra></extra>",
          "Name: Finner<br>County: Donegal<br>Type: Synoptic<br>Station No.: 2075<br>Open Year: 2010<br>Height: 33.00 m<br>Lat: 54.49 °<br>Lon: -8.24 °<br><extra></extra>",
          "Name: PhoenixPark<br>County: Dublin<br>Type: Synoptic<br>Station No.: 175<br>Open Year: 2003<br>Height: 48.00 m<br>Lat: 53.36 °<br>Lon: -6.34 °<br><extra></extra>",
          "Name: Casement<br>County: Dublin<br>Type: Synoptic<br>Station No.: 3723<br>Open Year: 1944<br>Height: 91.00 m<br>Lat: 53.30 °<br>Lon: -6.44 °<br><extra></extra>",
          "Name: Mace_Head<br>County: Galway<br>Type: Synoptic<br>Station No.: 275<br>Open Year: 2003<br>Height: 21.00 m<br>Lat: 53.32 °<br>Lon: -9.90 °<br><extra></extra>",
          "Name: Athenry<br>County: Galway<br>Type: Synoptic<br>Station No.: 1875<br>Open Year: 2010<br>Height: 40.00 m<br>Lat: 53.29 °<br>Lon: -8.79 °<br><extra></extra>",
          "Name: Newport<br>County: Mayo<br>Type: Synoptic<br>Station No.: 1175<br>Open Year: 2005<br>Height: 22.00 m<br>Lat: 53.92 °<br>Lon: -9.57 °<br><extra></extra>",
          "Name: Claremorris<br>County: Mayo<br>Type: Synoptic<br>Station No.: 2175<br>Open Year: 2010<br>Height: 68.00 m<br>Lat: 53.71 °<br>Lon: -8.99 °<br><extra></extra>",
          "Name: Knock_Airport<br>County: Mayo<br>Type: Synoptic<br>Station No.: 4935<br>Open Year: 1986<br>Height: 201.00 m<br>Lat: 53.90 °<br>Lon: -8.82 °<br><extra></extra>",
          "Name: Dunsany<br>County: Meath<br>Type: Synoptic<br>Station No.: 1375<br>Open Year: 2006<br>Height: 83.00 m<br>Lat: 53.51 °<br>Lon: -6.66 °<br><extra></extra>",
          "Name: Mt_Dillon<br>County: Roscommon<br>Type: Synoptic<br>Station No.: 1975<br>Open Year: 2003<br>Height: 39.00 m<br>Lat: 53.72 °<br>Lon: -7.97 °<br><extra></extra>",
          "Name: Markree<br>County: Sligo<br>Type: Synoptic<br>Station No.: 1275<br>Open Year: 2005<br>Height: 34.00 m<br>Lat: 54.17 °<br>Lon: -8.45 °<br><extra></extra>",
          "Name: Mullingar<br>County: Westmeath<br>Type: Synoptic<br>Station No.: 875<br>Open Year: 2002<br>Height: 101.00 m<br>Lat: 53.54 °<br>Lon: -7.36 °<br><extra></extra>"
         ],
         "lat": [
          52.857,
          54.051,
          52.687,
          52.158,
          51.472,
          51.789,
          51.842,
          54.49,
          53.358,
          53.303,
          53.322,
          53.287,
          53.92,
          53.707,
          53.904,
          53.51,
          53.723,
          54.172,
          53.536
         ],
         "lon": [
          -6.909,
          -7.306,
          -8.917,
          -8.258,
          -9.423,
          -8.24,
          -8.485,
          -8.239,
          -6.342,
          -6.437,
          -9.901,
          -8.785,
          -9.57,
          -8.989,
          -8.817,
          -6.656,
          -7.975,
          -8.453,
          -7.357
         ],
         "marker": {
          "color": "#ff0000",
          "size": 7
         },
         "name": "Standard Synoptic",
         "type": "scattermapbox"
        },
        {
         "hovertemplate": [
          "Name: Malin_head<br>County: Donegal<br>Type: Synoptic<br>Station No.: 1575<br>Open Year: 2009<br>Height: 20.00 m<br>Lat: 55.37 °<br>Lon: -7.34 °<br><extra></extra>",
          "Name: Dublin_Airport<br>County: Dublin<br>Type: Synoptic<br>Station No.: 532<br>Open Year: 1939<br>Height: 71.00 m<br>Lat: 53.42 °<br>Lon: -6.24 °<br><extra></extra>",
          "Name: Valentia_Observatory<br>County: Kerry<br>Type: Synoptic<br>Station No.: 2275<br>Open Year: 2010<br>Height: 24.00 m<br>Lat: 51.94 °<br>Lon: -10.24 °<br><extra></extra>",
          "Name: Belmullet<br>County: Mayo<br>Type: Synoptic<br>Station No.: 2375<br>Open Year: 2012<br>Height: 9.00 m<br>Lat: 54.22 °<br>Lon: -10.00 °<br><extra></extra>",
          "Name: Gurteen<br>County: Tipperary<br>Type: Synoptic<br>Station No.: 1475<br>Open Year: 2008<br>Height: 75.00 m<br>Lat: 53.05 °<br>Lon: -8.01 °<br><extra></extra>",
          "Name: JohnstownII<br>County: Wexford<br>Type: Synoptic<br>Station No.: 1775<br>Open Year: 2009<br>Height: 62.00 m<br>Lat: 52.29 °<br>Lon: -6.49 °<br><extra></extra>"
         ],
         "lat": [
          55.372,
          53.423,
          51.936,
          54.223,
          53.052,
          52.292
         ],
         "lon": [
          -7.339,
          -6.238,
          -10.238,
          -10.004,
          -8.005,
          -6.491
         ],
         "marker": {
          "color": "blue",
          "size": 7
         },
         "name": "AUTOSOL Synoptic",
         "type": "scattermapbox"
        }
       ],
       "layout": {
        "height": 400,
        "legend": {
         "title": {
          "text": "<b>Station Type</b>"
         },
         "x": 0.01
        },
        "mapbox": {
         "bearing": 0,
         "center": {
          "lat": 54,
          "lon": 349
         },
         "pitch": 0,
         "style": "open-street-map",
         "zoom": 4.2
        },
        "margin": {
         "b": 0,
         "l": 0,
         "r": 0,
         "t": 0
        },
        "paper_bgcolor": "rgba(0,0,0,0)",
        "plot_bgcolor": "rgba(0,0,0,0)",
        "template": {
         "data": {
          "bar": [
           {
            "error_x": {
             "color": "#2a3f5f"
            },
            "error_y": {
             "color": "#2a3f5f"
            },
            "marker": {
             "line": {
              "color": "#E5ECF6",
              "width": 0.5
             }
            },
            "type": "bar"
           }
          ],
          "barpolar": [
           {
            "marker": {
             "line": {
              "color": "#E5ECF6",
              "width": 0.5
             }
            },
            "type": "barpolar"
           }
          ],
          "carpet": [
           {
            "aaxis": {
             "endlinecolor": "#2a3f5f",
             "gridcolor": "white",
             "linecolor": "white",
             "minorgridcolor": "white",
             "startlinecolor": "#2a3f5f"
            },
            "baxis": {
             "endlinecolor": "#2a3f5f",
             "gridcolor": "white",
             "linecolor": "white",
             "minorgridcolor": "white",
             "startlinecolor": "#2a3f5f"
            },
            "type": "carpet"
           }
          ],
          "choropleth": [
           {
            "colorbar": {
             "outlinewidth": 0,
             "ticks": ""
            },
            "type": "choropleth"
           }
          ],
          "contour": [
           {
            "colorbar": {
             "outlinewidth": 0,
             "ticks": ""
            },
            "colorscale": [
             [
              0,
              "#0d0887"
             ],
             [
              0.1111111111111111,
              "#46039f"
             ],
             [
              0.2222222222222222,
              "#7201a8"
             ],
             [
              0.3333333333333333,
              "#9c179e"
             ],
             [
              0.4444444444444444,
              "#bd3786"
             ],
             [
              0.5555555555555556,
              "#d8576b"
             ],
             [
              0.6666666666666666,
              "#ed7953"
             ],
             [
              0.7777777777777778,
              "#fb9f3a"
             ],
             [
              0.8888888888888888,
              "#fdca26"
             ],
             [
              1,
              "#f0f921"
             ]
            ],
            "type": "contour"
           }
          ],
          "contourcarpet": [
           {
            "colorbar": {
             "outlinewidth": 0,
             "ticks": ""
            },
            "type": "contourcarpet"
           }
          ],
          "heatmap": [
           {
            "colorbar": {
             "outlinewidth": 0,
             "ticks": ""
            },
            "colorscale": [
             [
              0,
              "#0d0887"
             ],
             [
              0.1111111111111111,
              "#46039f"
             ],
             [
              0.2222222222222222,
              "#7201a8"
             ],
             [
              0.3333333333333333,
              "#9c179e"
             ],
             [
              0.4444444444444444,
              "#bd3786"
             ],
             [
              0.5555555555555556,
              "#d8576b"
             ],
             [
              0.6666666666666666,
              "#ed7953"
             ],
             [
              0.7777777777777778,
              "#fb9f3a"
             ],
             [
              0.8888888888888888,
              "#fdca26"
             ],
             [
              1,
              "#f0f921"
             ]
            ],
            "type": "heatmap"
           }
          ],
          "heatmapgl": [
           {
            "colorbar": {
             "outlinewidth": 0,
             "ticks": ""
            },
            "colorscale": [
             [
              0,
              "#0d0887"
             ],
             [
              0.1111111111111111,
              "#46039f"
             ],
             [
              0.2222222222222222,
              "#7201a8"
             ],
             [
              0.3333333333333333,
              "#9c179e"
             ],
             [
              0.4444444444444444,
              "#bd3786"
             ],
             [
              0.5555555555555556,
              "#d8576b"
             ],
             [
              0.6666666666666666,
              "#ed7953"
             ],
             [
              0.7777777777777778,
              "#fb9f3a"
             ],
             [
              0.8888888888888888,
              "#fdca26"
             ],
             [
              1,
              "#f0f921"
             ]
            ],
            "type": "heatmapgl"
           }
          ],
          "histogram": [
           {
            "marker": {
             "colorbar": {
              "outlinewidth": 0,
              "ticks": ""
             }
            },
            "type": "histogram"
           }
          ],
          "histogram2d": [
           {
            "colorbar": {
             "outlinewidth": 0,
             "ticks": ""
            },
            "colorscale": [
             [
              0,
              "#0d0887"
             ],
             [
              0.1111111111111111,
              "#46039f"
             ],
             [
              0.2222222222222222,
              "#7201a8"
             ],
             [
              0.3333333333333333,
              "#9c179e"
             ],
             [
              0.4444444444444444,
              "#bd3786"
             ],
             [
              0.5555555555555556,
              "#d8576b"
             ],
             [
              0.6666666666666666,
              "#ed7953"
             ],
             [
              0.7777777777777778,
              "#fb9f3a"
             ],
             [
              0.8888888888888888,
              "#fdca26"
             ],
             [
              1,
              "#f0f921"
             ]
            ],
            "type": "histogram2d"
           }
          ],
          "histogram2dcontour": [
           {
            "colorbar": {
             "outlinewidth": 0,
             "ticks": ""
            },
            "colorscale": [
             [
              0,
              "#0d0887"
             ],
             [
              0.1111111111111111,
              "#46039f"
             ],
             [
              0.2222222222222222,
              "#7201a8"
             ],
             [
              0.3333333333333333,
              "#9c179e"
             ],
             [
              0.4444444444444444,
              "#bd3786"
             ],
             [
              0.5555555555555556,
              "#d8576b"
             ],
             [
              0.6666666666666666,
              "#ed7953"
             ],
             [
              0.7777777777777778,
              "#fb9f3a"
             ],
             [
              0.8888888888888888,
              "#fdca26"
             ],
             [
              1,
              "#f0f921"
             ]
            ],
            "type": "histogram2dcontour"
           }
          ],
          "mesh3d": [
           {
            "colorbar": {
             "outlinewidth": 0,
             "ticks": ""
            },
            "type": "mesh3d"
           }
          ],
          "parcoords": [
           {
            "line": {
             "colorbar": {
              "outlinewidth": 0,
              "ticks": ""
             }
            },
            "type": "parcoords"
           }
          ],
          "pie": [
           {
            "automargin": true,
            "type": "pie"
           }
          ],
          "scatter": [
           {
            "marker": {
             "colorbar": {
              "outlinewidth": 0,
              "ticks": ""
             }
            },
            "type": "scatter"
           }
          ],
          "scatter3d": [
           {
            "line": {
             "colorbar": {
              "outlinewidth": 0,
              "ticks": ""
             }
            },
            "marker": {
             "colorbar": {
              "outlinewidth": 0,
              "ticks": ""
             }
            },
            "type": "scatter3d"
           }
          ],
          "scattercarpet": [
           {
            "marker": {
             "colorbar": {
              "outlinewidth": 0,
              "ticks": ""
             }
            },
            "type": "scattercarpet"
           }
          ],
          "scattergeo": [
           {
            "marker": {
             "colorbar": {
              "outlinewidth": 0,
              "ticks": ""
             }
            },
            "type": "scattergeo"
           }
          ],
          "scattergl": [
           {
            "marker": {
             "colorbar": {
              "outlinewidth": 0,
              "ticks": ""
             }
            },
            "type": "scattergl"
           }
          ],
          "scattermapbox": [
           {
            "marker": {
             "colorbar": {
              "outlinewidth": 0,
              "ticks": ""
             }
            },
            "type": "scattermapbox"
           }
          ],
          "scatterpolar": [
           {
            "marker": {
             "colorbar": {
              "outlinewidth": 0,
              "ticks": ""
             }
            },
            "type": "scatterpolar"
           }
          ],
          "scatterpolargl": [
           {
            "marker": {
             "colorbar": {
              "outlinewidth": 0,
              "ticks": ""
             }
            },
            "type": "scatterpolargl"
           }
          ],
          "scatterternary": [
           {
            "marker": {
             "colorbar": {
              "outlinewidth": 0,
              "ticks": ""
             }
            },
            "type": "scatterternary"
           }
          ],
          "surface": [
           {
            "colorbar": {
             "outlinewidth": 0,
             "ticks": ""
            },
            "colorscale": [
             [
              0,
              "#0d0887"
             ],
             [
              0.1111111111111111,
              "#46039f"
             ],
             [
              0.2222222222222222,
              "#7201a8"
             ],
             [
              0.3333333333333333,
              "#9c179e"
             ],
             [
              0.4444444444444444,
              "#bd3786"
             ],
             [
              0.5555555555555556,
              "#d8576b"
             ],
             [
              0.6666666666666666,
              "#ed7953"
             ],
             [
              0.7777777777777778,
              "#fb9f3a"
             ],
             [
              0.8888888888888888,
              "#fdca26"
             ],
             [
              1,
              "#f0f921"
             ]
            ],
            "type": "surface"
           }
          ],
          "table": [
           {
            "cells": {
             "fill": {
              "color": "#EBF0F8"
             },
             "line": {
              "color": "white"
             }
            },
            "header": {
             "fill": {
              "color": "#C8D4E3"
             },
             "line": {
              "color": "white"
             }
            },
            "type": "table"
           }
          ]
         },
         "layout": {
          "annotationdefaults": {
           "arrowcolor": "#2a3f5f",
           "arrowhead": 0,
           "arrowwidth": 1
          },
          "autotypenumbers": "strict",
          "coloraxis": {
           "colorbar": {
            "outlinewidth": 0,
            "ticks": ""
           }
          },
          "colorscale": {
           "diverging": [
            [
             0,
             "#8e0152"
            ],
            [
             0.1,
             "#c51b7d"
            ],
            [
             0.2,
             "#de77ae"
            ],
            [
             0.3,
             "#f1b6da"
            ],
            [
             0.4,
             "#fde0ef"
            ],
            [
             0.5,
             "#f7f7f7"
            ],
            [
             0.6,
             "#e6f5d0"
            ],
            [
             0.7,
             "#b8e186"
            ],
            [
             0.8,
             "#7fbc41"
            ],
            [
             0.9,
             "#4d9221"
            ],
            [
             1,
             "#276419"
            ]
           ],
           "sequential": [
            [
             0,
             "#0d0887"
            ],
            [
             0.1111111111111111,
             "#46039f"
            ],
            [
             0.2222222222222222,
             "#7201a8"
            ],
            [
             0.3333333333333333,
             "#9c179e"
            ],
            [
             0.4444444444444444,
             "#bd3786"
            ],
            [
             0.5555555555555556,
             "#d8576b"
            ],
            [
             0.6666666666666666,
             "#ed7953"
            ],
            [
             0.7777777777777778,
             "#fb9f3a"
            ],
            [
             0.8888888888888888,
             "#fdca26"
            ],
            [
             1,
             "#f0f921"
            ]
           ],
           "sequentialminus": [
            [
             0,
             "#0d0887"
            ],
            [
             0.1111111111111111,
             "#46039f"
            ],
            [
             0.2222222222222222,
             "#7201a8"
            ],
            [
             0.3333333333333333,
             "#9c179e"
            ],
            [
             0.4444444444444444,
             "#bd3786"
            ],
            [
             0.5555555555555556,
             "#d8576b"
            ],
            [
             0.6666666666666666,
             "#ed7953"
            ],
            [
             0.7777777777777778,
             "#fb9f3a"
            ],
            [
             0.8888888888888888,
             "#fdca26"
            ],
            [
             1,
             "#f0f921"
            ]
           ]
          },
          "colorway": [
           "#636efa",
           "#EF553B",
           "#00cc96",
           "#ab63fa",
           "#FFA15A",
           "#19d3f3",
           "#FF6692",
           "#B6E880",
           "#FF97FF",
           "#FECB52"
          ],
          "font": {
           "color": "#2a3f5f"
          },
          "geo": {
           "bgcolor": "white",
           "lakecolor": "white",
           "landcolor": "#E5ECF6",
           "showlakes": true,
           "showland": true,
           "subunitcolor": "white"
          },
          "hoverlabel": {
           "align": "left"
          },
          "hovermode": "closest",
          "mapbox": {
           "style": "light"
          },
          "paper_bgcolor": "white",
          "plot_bgcolor": "#E5ECF6",
          "polar": {
           "angularaxis": {
            "gridcolor": "white",
            "linecolor": "white",
            "ticks": ""
           },
           "bgcolor": "#E5ECF6",
           "radialaxis": {
            "gridcolor": "white",
            "linecolor": "white",
            "ticks": ""
           }
          },
          "scene": {
           "xaxis": {
            "backgroundcolor": "#E5ECF6",
            "gridcolor": "white",
            "gridwidth": 2,
            "linecolor": "white",
            "showbackground": true,
            "ticks": "",
            "zerolinecolor": "white"
           },
           "yaxis": {
            "backgroundcolor": "#E5ECF6",
            "gridcolor": "white",
            "gridwidth": 2,
            "linecolor": "white",
            "showbackground": true,
            "ticks": "",
            "zerolinecolor": "white"
           },
           "zaxis": {
            "backgroundcolor": "#E5ECF6",
            "gridcolor": "white",
            "gridwidth": 2,
            "linecolor": "white",
            "showbackground": true,
            "ticks": "",
            "zerolinecolor": "white"
           }
          },
          "shapedefaults": {
           "line": {
            "color": "#2a3f5f"
           }
          },
          "ternary": {
           "aaxis": {
            "gridcolor": "white",
            "linecolor": "white",
            "ticks": ""
           },
           "baxis": {
            "gridcolor": "white",
            "linecolor": "white",
            "ticks": ""
           },
           "bgcolor": "#E5ECF6",
           "caxis": {
            "gridcolor": "white",
            "linecolor": "white",
            "ticks": ""
           }
          },
          "title": {
           "x": 0.05
          },
          "xaxis": {
           "automargin": true,
           "gridcolor": "white",
           "linecolor": "white",
           "ticks": "",
           "title": {
            "standoff": 15
           },
           "zerolinecolor": "white",
           "zerolinewidth": 2
          },
          "yaxis": {
           "automargin": true,
           "gridcolor": "white",
           "linecolor": "white",
           "ticks": "",
           "title": {
            "standoff": 15
           },
           "zerolinecolor": "white",
           "zerolinewidth": 2
          }
         }
        }
       }
      },
      "text/html": [
       "<div>                            <div id=\"2596a35f-efef-48bf-81b2-830c177a73fe\" class=\"plotly-graph-div\" style=\"height:400px; width:100%;\"></div>            <script type=\"text/javascript\">                require([\"plotly\"], function(Plotly) {                    window.PLOTLYENV=window.PLOTLYENV || {};                                    if (document.getElementById(\"2596a35f-efef-48bf-81b2-830c177a73fe\")) {                    Plotly.newPlot(                        \"2596a35f-efef-48bf-81b2-830c177a73fe\",                        [{\"hovertemplate\": [\"Name: Oak_Park<br>County: Carlow<br>Type: Synoptic<br>Station No.: 375<br>Open Year: 2003<br>Height: 62.00 m<br>Lat: 52.86 \\u00b0<br>Lon: -6.91 \\u00b0<br><extra></extra>\", \"Name: Ballyhaise<br>County: Cavan<br>Type: Synoptic<br>Station No.: 675<br>Open Year: 2003<br>Height: 78.00 m<br>Lat: 54.05 \\u00b0<br>Lon: -7.31 \\u00b0<br><extra></extra>\", \"Name: Shannon_Airport<br>County: Clare<br>Type: Synoptic<br>Station No.: 518<br>Open Year: 1937<br>Height: 15.00 m<br>Lat: 52.69 \\u00b0<br>Lon: -8.92 \\u00b0<br><extra></extra>\", \"Name: Moore_Park<br>County: Cork<br>Type: Synoptic<br>Station No.: 575<br>Open Year: 2003<br>Height: 46.00 m<br>Lat: 52.16 \\u00b0<br>Lon: -8.26 \\u00b0<br><extra></extra>\", \"Name: SherkinIsland<br>County: Cork<br>Type: Synoptic<br>Station No.: 775<br>Open Year: 2004<br>Height: 21.00 m<br>Lat: 51.47 \\u00b0<br>Lon: -9.42 \\u00b0<br><extra></extra>\", \"Name: Roches_Point<br>County: Cork<br>Type: Synoptic<br>Station No.: 1075<br>Open Year: 2004<br>Height: 40.00 m<br>Lat: 51.79 \\u00b0<br>Lon: -8.24 \\u00b0<br><extra></extra>\", \"Name: Cork_Airport<br>County: Cork<br>Type: Synoptic<br>Station No.: 3904<br>Open Year: 1961<br>Height: 155.00 m<br>Lat: 51.84 \\u00b0<br>Lon: -8.48 \\u00b0<br><extra></extra>\", \"Name: Finner<br>County: Donegal<br>Type: Synoptic<br>Station No.: 2075<br>Open Year: 2010<br>Height: 33.00 m<br>Lat: 54.49 \\u00b0<br>Lon: -8.24 \\u00b0<br><extra></extra>\", \"Name: PhoenixPark<br>County: Dublin<br>Type: Synoptic<br>Station No.: 175<br>Open Year: 2003<br>Height: 48.00 m<br>Lat: 53.36 \\u00b0<br>Lon: -6.34 \\u00b0<br><extra></extra>\", \"Name: Casement<br>County: Dublin<br>Type: Synoptic<br>Station No.: 3723<br>Open Year: 1944<br>Height: 91.00 m<br>Lat: 53.30 \\u00b0<br>Lon: -6.44 \\u00b0<br><extra></extra>\", \"Name: Mace_Head<br>County: Galway<br>Type: Synoptic<br>Station No.: 275<br>Open Year: 2003<br>Height: 21.00 m<br>Lat: 53.32 \\u00b0<br>Lon: -9.90 \\u00b0<br><extra></extra>\", \"Name: Athenry<br>County: Galway<br>Type: Synoptic<br>Station No.: 1875<br>Open Year: 2010<br>Height: 40.00 m<br>Lat: 53.29 \\u00b0<br>Lon: -8.79 \\u00b0<br><extra></extra>\", \"Name: Newport<br>County: Mayo<br>Type: Synoptic<br>Station No.: 1175<br>Open Year: 2005<br>Height: 22.00 m<br>Lat: 53.92 \\u00b0<br>Lon: -9.57 \\u00b0<br><extra></extra>\", \"Name: Claremorris<br>County: Mayo<br>Type: Synoptic<br>Station No.: 2175<br>Open Year: 2010<br>Height: 68.00 m<br>Lat: 53.71 \\u00b0<br>Lon: -8.99 \\u00b0<br><extra></extra>\", \"Name: Knock_Airport<br>County: Mayo<br>Type: Synoptic<br>Station No.: 4935<br>Open Year: 1986<br>Height: 201.00 m<br>Lat: 53.90 \\u00b0<br>Lon: -8.82 \\u00b0<br><extra></extra>\", \"Name: Dunsany<br>County: Meath<br>Type: Synoptic<br>Station No.: 1375<br>Open Year: 2006<br>Height: 83.00 m<br>Lat: 53.51 \\u00b0<br>Lon: -6.66 \\u00b0<br><extra></extra>\", \"Name: Mt_Dillon<br>County: Roscommon<br>Type: Synoptic<br>Station No.: 1975<br>Open Year: 2003<br>Height: 39.00 m<br>Lat: 53.72 \\u00b0<br>Lon: -7.97 \\u00b0<br><extra></extra>\", \"Name: Markree<br>County: Sligo<br>Type: Synoptic<br>Station No.: 1275<br>Open Year: 2005<br>Height: 34.00 m<br>Lat: 54.17 \\u00b0<br>Lon: -8.45 \\u00b0<br><extra></extra>\", \"Name: Mullingar<br>County: Westmeath<br>Type: Synoptic<br>Station No.: 875<br>Open Year: 2002<br>Height: 101.00 m<br>Lat: 53.54 \\u00b0<br>Lon: -7.36 \\u00b0<br><extra></extra>\"], \"lat\": [52.857, 54.051, 52.687, 52.158, 51.472, 51.789, 51.842, 54.49, 53.358, 53.303, 53.322, 53.287, 53.92, 53.707, 53.904, 53.51, 53.723, 54.172, 53.536], \"lon\": [-6.909, -7.306, -8.917, -8.258, -9.423, -8.24, -8.485, -8.239, -6.342, -6.437, -9.901, -8.785, -9.57, -8.989, -8.817, -6.656, -7.975, -8.453, -7.357], \"marker\": {\"color\": \"#ff0000\", \"size\": 7}, \"name\": \"Standard Synoptic\", \"type\": \"scattermapbox\"}, {\"hovertemplate\": [\"Name: Malin_head<br>County: Donegal<br>Type: Synoptic<br>Station No.: 1575<br>Open Year: 2009<br>Height: 20.00 m<br>Lat: 55.37 \\u00b0<br>Lon: -7.34 \\u00b0<br><extra></extra>\", \"Name: Dublin_Airport<br>County: Dublin<br>Type: Synoptic<br>Station No.: 532<br>Open Year: 1939<br>Height: 71.00 m<br>Lat: 53.42 \\u00b0<br>Lon: -6.24 \\u00b0<br><extra></extra>\", \"Name: Valentia_Observatory<br>County: Kerry<br>Type: Synoptic<br>Station No.: 2275<br>Open Year: 2010<br>Height: 24.00 m<br>Lat: 51.94 \\u00b0<br>Lon: -10.24 \\u00b0<br><extra></extra>\", \"Name: Belmullet<br>County: Mayo<br>Type: Synoptic<br>Station No.: 2375<br>Open Year: 2012<br>Height: 9.00 m<br>Lat: 54.22 \\u00b0<br>Lon: -10.00 \\u00b0<br><extra></extra>\", \"Name: Gurteen<br>County: Tipperary<br>Type: Synoptic<br>Station No.: 1475<br>Open Year: 2008<br>Height: 75.00 m<br>Lat: 53.05 \\u00b0<br>Lon: -8.01 \\u00b0<br><extra></extra>\", \"Name: JohnstownII<br>County: Wexford<br>Type: Synoptic<br>Station No.: 1775<br>Open Year: 2009<br>Height: 62.00 m<br>Lat: 52.29 \\u00b0<br>Lon: -6.49 \\u00b0<br><extra></extra>\"], \"lat\": [55.372, 53.423, 51.936, 54.223, 53.052, 52.292], \"lon\": [-7.339, -6.238, -10.238, -10.004, -8.005, -6.491], \"marker\": {\"color\": \"blue\", \"size\": 7}, \"name\": \"AUTOSOL Synoptic\", \"type\": \"scattermapbox\"}],                        {\"height\": 400, \"legend\": {\"title\": {\"text\": \"<b>Station Type</b>\"}, \"x\": 0.01}, \"mapbox\": {\"bearing\": 0, \"center\": {\"lat\": 54, \"lon\": 349}, \"pitch\": 0, \"style\": \"open-street-map\", \"zoom\": 4.2}, \"margin\": {\"b\": 0, \"l\": 0, \"r\": 0, \"t\": 0}, \"paper_bgcolor\": \"rgba(0,0,0,0)\", \"plot_bgcolor\": \"rgba(0,0,0,0)\", \"template\": {\"data\": {\"bar\": [{\"error_x\": {\"color\": \"#2a3f5f\"}, \"error_y\": {\"color\": \"#2a3f5f\"}, \"marker\": {\"line\": {\"color\": \"#E5ECF6\", \"width\": 0.5}}, \"type\": \"bar\"}], \"barpolar\": [{\"marker\": {\"line\": {\"color\": \"#E5ECF6\", \"width\": 0.5}}, \"type\": \"barpolar\"}], \"carpet\": [{\"aaxis\": {\"endlinecolor\": \"#2a3f5f\", \"gridcolor\": \"white\", \"linecolor\": \"white\", \"minorgridcolor\": \"white\", \"startlinecolor\": \"#2a3f5f\"}, \"baxis\": {\"endlinecolor\": \"#2a3f5f\", \"gridcolor\": \"white\", \"linecolor\": \"white\", \"minorgridcolor\": \"white\", \"startlinecolor\": \"#2a3f5f\"}, \"type\": \"carpet\"}], \"choropleth\": [{\"colorbar\": {\"outlinewidth\": 0, \"ticks\": \"\"}, \"type\": \"choropleth\"}], \"contour\": [{\"colorbar\": {\"outlinewidth\": 0, \"ticks\": \"\"}, \"colorscale\": [[0.0, \"#0d0887\"], [0.1111111111111111, \"#46039f\"], [0.2222222222222222, \"#7201a8\"], [0.3333333333333333, \"#9c179e\"], [0.4444444444444444, \"#bd3786\"], [0.5555555555555556, \"#d8576b\"], [0.6666666666666666, \"#ed7953\"], [0.7777777777777778, \"#fb9f3a\"], [0.8888888888888888, \"#fdca26\"], [1.0, \"#f0f921\"]], \"type\": \"contour\"}], \"contourcarpet\": [{\"colorbar\": {\"outlinewidth\": 0, \"ticks\": \"\"}, \"type\": \"contourcarpet\"}], \"heatmap\": [{\"colorbar\": {\"outlinewidth\": 0, \"ticks\": \"\"}, \"colorscale\": [[0.0, \"#0d0887\"], [0.1111111111111111, \"#46039f\"], [0.2222222222222222, \"#7201a8\"], [0.3333333333333333, \"#9c179e\"], [0.4444444444444444, \"#bd3786\"], [0.5555555555555556, \"#d8576b\"], [0.6666666666666666, \"#ed7953\"], [0.7777777777777778, \"#fb9f3a\"], [0.8888888888888888, \"#fdca26\"], [1.0, \"#f0f921\"]], \"type\": \"heatmap\"}], \"heatmapgl\": [{\"colorbar\": {\"outlinewidth\": 0, \"ticks\": \"\"}, \"colorscale\": [[0.0, \"#0d0887\"], [0.1111111111111111, \"#46039f\"], [0.2222222222222222, \"#7201a8\"], [0.3333333333333333, \"#9c179e\"], [0.4444444444444444, \"#bd3786\"], [0.5555555555555556, \"#d8576b\"], [0.6666666666666666, \"#ed7953\"], [0.7777777777777778, \"#fb9f3a\"], [0.8888888888888888, \"#fdca26\"], [1.0, \"#f0f921\"]], \"type\": \"heatmapgl\"}], \"histogram\": [{\"marker\": {\"colorbar\": {\"outlinewidth\": 0, \"ticks\": \"\"}}, \"type\": \"histogram\"}], \"histogram2d\": [{\"colorbar\": {\"outlinewidth\": 0, \"ticks\": \"\"}, \"colorscale\": [[0.0, \"#0d0887\"], [0.1111111111111111, \"#46039f\"], [0.2222222222222222, \"#7201a8\"], [0.3333333333333333, \"#9c179e\"], [0.4444444444444444, \"#bd3786\"], [0.5555555555555556, \"#d8576b\"], [0.6666666666666666, \"#ed7953\"], [0.7777777777777778, \"#fb9f3a\"], [0.8888888888888888, \"#fdca26\"], [1.0, \"#f0f921\"]], \"type\": \"histogram2d\"}], \"histogram2dcontour\": [{\"colorbar\": {\"outlinewidth\": 0, \"ticks\": \"\"}, \"colorscale\": [[0.0, \"#0d0887\"], [0.1111111111111111, \"#46039f\"], [0.2222222222222222, \"#7201a8\"], [0.3333333333333333, \"#9c179e\"], [0.4444444444444444, \"#bd3786\"], [0.5555555555555556, \"#d8576b\"], [0.6666666666666666, \"#ed7953\"], [0.7777777777777778, \"#fb9f3a\"], [0.8888888888888888, \"#fdca26\"], [1.0, \"#f0f921\"]], \"type\": \"histogram2dcontour\"}], \"mesh3d\": [{\"colorbar\": {\"outlinewidth\": 0, \"ticks\": \"\"}, \"type\": \"mesh3d\"}], \"parcoords\": [{\"line\": {\"colorbar\": {\"outlinewidth\": 0, \"ticks\": \"\"}}, \"type\": \"parcoords\"}], \"pie\": [{\"automargin\": true, \"type\": \"pie\"}], \"scatter\": [{\"marker\": {\"colorbar\": {\"outlinewidth\": 0, \"ticks\": \"\"}}, \"type\": \"scatter\"}], \"scatter3d\": [{\"line\": {\"colorbar\": {\"outlinewidth\": 0, \"ticks\": \"\"}}, \"marker\": {\"colorbar\": {\"outlinewidth\": 0, \"ticks\": \"\"}}, \"type\": \"scatter3d\"}], \"scattercarpet\": [{\"marker\": {\"colorbar\": {\"outlinewidth\": 0, \"ticks\": \"\"}}, \"type\": \"scattercarpet\"}], \"scattergeo\": [{\"marker\": {\"colorbar\": {\"outlinewidth\": 0, \"ticks\": \"\"}}, \"type\": \"scattergeo\"}], \"scattergl\": [{\"marker\": {\"colorbar\": {\"outlinewidth\": 0, \"ticks\": \"\"}}, \"type\": \"scattergl\"}], \"scattermapbox\": [{\"marker\": {\"colorbar\": {\"outlinewidth\": 0, \"ticks\": \"\"}}, \"type\": \"scattermapbox\"}], \"scatterpolar\": [{\"marker\": {\"colorbar\": {\"outlinewidth\": 0, \"ticks\": \"\"}}, \"type\": \"scatterpolar\"}], \"scatterpolargl\": [{\"marker\": {\"colorbar\": {\"outlinewidth\": 0, \"ticks\": \"\"}}, \"type\": \"scatterpolargl\"}], \"scatterternary\": [{\"marker\": {\"colorbar\": {\"outlinewidth\": 0, \"ticks\": \"\"}}, \"type\": \"scatterternary\"}], \"surface\": [{\"colorbar\": {\"outlinewidth\": 0, \"ticks\": \"\"}, \"colorscale\": [[0.0, \"#0d0887\"], [0.1111111111111111, \"#46039f\"], [0.2222222222222222, \"#7201a8\"], [0.3333333333333333, \"#9c179e\"], [0.4444444444444444, \"#bd3786\"], [0.5555555555555556, \"#d8576b\"], [0.6666666666666666, \"#ed7953\"], [0.7777777777777778, \"#fb9f3a\"], [0.8888888888888888, \"#fdca26\"], [1.0, \"#f0f921\"]], \"type\": \"surface\"}], \"table\": [{\"cells\": {\"fill\": {\"color\": \"#EBF0F8\"}, \"line\": {\"color\": \"white\"}}, \"header\": {\"fill\": {\"color\": \"#C8D4E3\"}, \"line\": {\"color\": \"white\"}}, \"type\": \"table\"}]}, \"layout\": {\"annotationdefaults\": {\"arrowcolor\": \"#2a3f5f\", \"arrowhead\": 0, \"arrowwidth\": 1}, \"autotypenumbers\": \"strict\", \"coloraxis\": {\"colorbar\": {\"outlinewidth\": 0, \"ticks\": \"\"}}, \"colorscale\": {\"diverging\": [[0, \"#8e0152\"], [0.1, \"#c51b7d\"], [0.2, \"#de77ae\"], [0.3, \"#f1b6da\"], [0.4, \"#fde0ef\"], [0.5, \"#f7f7f7\"], [0.6, \"#e6f5d0\"], [0.7, \"#b8e186\"], [0.8, \"#7fbc41\"], [0.9, \"#4d9221\"], [1, \"#276419\"]], \"sequential\": [[0.0, \"#0d0887\"], [0.1111111111111111, \"#46039f\"], [0.2222222222222222, \"#7201a8\"], [0.3333333333333333, \"#9c179e\"], [0.4444444444444444, \"#bd3786\"], [0.5555555555555556, \"#d8576b\"], [0.6666666666666666, \"#ed7953\"], [0.7777777777777778, \"#fb9f3a\"], [0.8888888888888888, \"#fdca26\"], [1.0, \"#f0f921\"]], \"sequentialminus\": [[0.0, \"#0d0887\"], [0.1111111111111111, \"#46039f\"], [0.2222222222222222, \"#7201a8\"], [0.3333333333333333, \"#9c179e\"], [0.4444444444444444, \"#bd3786\"], [0.5555555555555556, \"#d8576b\"], [0.6666666666666666, \"#ed7953\"], [0.7777777777777778, \"#fb9f3a\"], [0.8888888888888888, \"#fdca26\"], [1.0, \"#f0f921\"]]}, \"colorway\": [\"#636efa\", \"#EF553B\", \"#00cc96\", \"#ab63fa\", \"#FFA15A\", \"#19d3f3\", \"#FF6692\", \"#B6E880\", \"#FF97FF\", \"#FECB52\"], \"font\": {\"color\": \"#2a3f5f\"}, \"geo\": {\"bgcolor\": \"white\", \"lakecolor\": \"white\", \"landcolor\": \"#E5ECF6\", \"showlakes\": true, \"showland\": true, \"subunitcolor\": \"white\"}, \"hoverlabel\": {\"align\": \"left\"}, \"hovermode\": \"closest\", \"mapbox\": {\"style\": \"light\"}, \"paper_bgcolor\": \"white\", \"plot_bgcolor\": \"#E5ECF6\", \"polar\": {\"angularaxis\": {\"gridcolor\": \"white\", \"linecolor\": \"white\", \"ticks\": \"\"}, \"bgcolor\": \"#E5ECF6\", \"radialaxis\": {\"gridcolor\": \"white\", \"linecolor\": \"white\", \"ticks\": \"\"}}, \"scene\": {\"xaxis\": {\"backgroundcolor\": \"#E5ECF6\", \"gridcolor\": \"white\", \"gridwidth\": 2, \"linecolor\": \"white\", \"showbackground\": true, \"ticks\": \"\", \"zerolinecolor\": \"white\"}, \"yaxis\": {\"backgroundcolor\": \"#E5ECF6\", \"gridcolor\": \"white\", \"gridwidth\": 2, \"linecolor\": \"white\", \"showbackground\": true, \"ticks\": \"\", \"zerolinecolor\": \"white\"}, \"zaxis\": {\"backgroundcolor\": \"#E5ECF6\", \"gridcolor\": \"white\", \"gridwidth\": 2, \"linecolor\": \"white\", \"showbackground\": true, \"ticks\": \"\", \"zerolinecolor\": \"white\"}}, \"shapedefaults\": {\"line\": {\"color\": \"#2a3f5f\"}}, \"ternary\": {\"aaxis\": {\"gridcolor\": \"white\", \"linecolor\": \"white\", \"ticks\": \"\"}, \"baxis\": {\"gridcolor\": \"white\", \"linecolor\": \"white\", \"ticks\": \"\"}, \"bgcolor\": \"#E5ECF6\", \"caxis\": {\"gridcolor\": \"white\", \"linecolor\": \"white\", \"ticks\": \"\"}}, \"title\": {\"x\": 0.05}, \"xaxis\": {\"automargin\": true, \"gridcolor\": \"white\", \"linecolor\": \"white\", \"ticks\": \"\", \"title\": {\"standoff\": 15}, \"zerolinecolor\": \"white\", \"zerolinewidth\": 2}, \"yaxis\": {\"automargin\": true, \"gridcolor\": \"white\", \"linecolor\": \"white\", \"ticks\": \"\", \"title\": {\"standoff\": 15}, \"zerolinecolor\": \"white\", \"zerolinewidth\": 2}}}},                        {\"responsive\": true}                    ).then(function(){\n",
       "                            \n",
       "var gd = document.getElementById('2596a35f-efef-48bf-81b2-830c177a73fe');\n",
       "var x = new MutationObserver(function (mutations, observer) {{\n",
       "        var display = window.getComputedStyle(gd).display;\n",
       "        if (!display || display === 'none') {{\n",
       "            console.log([gd, 'removed!']);\n",
       "            Plotly.purge(gd);\n",
       "            observer.disconnect();\n",
       "        }}\n",
       "}});\n",
       "\n",
       "// Listen for the removal of the full notebook cells\n",
       "var notebookContainer = gd.closest('#notebook-container');\n",
       "if (notebookContainer) {{\n",
       "    x.observe(notebookContainer, {childList: true});\n",
       "}}\n",
       "\n",
       "// Listen for the clearing of the current output cell\n",
       "var outputEl = gd.closest('.output');\n",
       "if (outputEl) {{\n",
       "    x.observe(outputEl, {childList: true});\n",
       "}}\n",
       "\n",
       "                        })                };                });            </script>        </div>"
      ]
     },
     "metadata": {},
     "output_type": "display_data"
    }
   ],
   "source": [
    "\"\"\"\n",
    "Map \n",
    "\"\"\"\n",
    "data_path = DATA_PATH+'Atmospheric_Domain/2.6SurfaceEarth_RadiationBudget/Map2.6/'\n",
    "df = pd.read_csv(data_path+'Map2.6_StationTable.txt')\n",
    "\n",
    "autosol_stations = [\n",
    "    'Malin_head',\n",
    "    'Belmullet',\n",
    "    'Gurteen',\n",
    "    'Valentia_Observatory',\n",
    "    'JohnstownII',\n",
    "    'Dublin_Airport']\n",
    "autosol_df = df[df['name'].isin(autosol_stations)]\n",
    "synoptic_df = df[~df['name'].isin(autosol_stations)]\n",
    "synoptic_trend = go.Scattermapbox(\n",
    "    name='Standard Synoptic',\n",
    "    lon=standard_df.Longitude,\n",
    "    lat=standard_df.Latitude,\n",
    "    marker=dict(color=STATION_COLORS['Synoptic'],\n",
    "                size=7),\n",
    "    hovertemplate=stations_map_hovertemplate(standard_df),\n",
    ")\n",
    "\n",
    "autosol_trend = go.Scattermapbox(\n",
    "    name='AUTOSOL Synoptic',\n",
    "    lon=autosol_df.Longitude,\n",
    "    lat=autosol_df.Latitude,\n",
    "    marker=dict(color='blue',\n",
    "                size=7),\n",
    "    hovertemplate=stations_map_hovertemplate(autosol_df),\n",
    ")\n",
    "\n",
    "stations_map = go.Figure(\n",
    "    data=[\n",
    "        synoptic_trend,\n",
    "        autosol_trend\n",
    "    ],\n",
    "    layout=MAP_LAYOUT)\n",
    "stations_map.update_layout(\n",
    "    mapbox=dict(bearing=0,\n",
    "            center=dict(\n",
    "                lat=54,\n",
    "                lon=349\n",
    "            ),\n",
    "            pitch=0,\n",
    "            zoom=4.2)\n",
    ")\n",
    "    \n",
    "stations_map"
   ]
  },
  {
   "cell_type": "code",
   "execution_count": null,
   "id": "younger-problem",
   "metadata": {},
   "outputs": [],
   "source": []
  }
 ],
 "metadata": {
  "kernelspec": {
   "display_name": "Python 3",
   "language": "python",
   "name": "python3"
  },
  "language_info": {
   "codemirror_mode": {
    "name": "ipython",
    "version": 3
   },
   "file_extension": ".py",
   "mimetype": "text/x-python",
   "name": "python",
   "nbconvert_exporter": "python",
   "pygments_lexer": "ipython3",
   "version": "3.8.2"
  }
 },
 "nbformat": 4,
 "nbformat_minor": 5
}
