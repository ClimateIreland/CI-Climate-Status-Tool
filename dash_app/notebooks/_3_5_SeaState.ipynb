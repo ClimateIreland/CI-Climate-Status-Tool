{
 "cells": [
  {
   "cell_type": "code",
   "execution_count": 1,
   "id": "expensive-desert",
   "metadata": {},
   "outputs": [],
   "source": [
    "# to access root modules\n",
    "if __name__ == \"__main__\" and __package__ is None:\n",
    "    from sys import path\n",
    "    from os.path import dirname as dir\n",
    "\n",
    "    path.append(dir(path[0]))\n",
    "    __package__ = \"dash_app\""
   ]
  },
  {
   "cell_type": "code",
   "execution_count": 2,
   "id": "unknown-internship",
   "metadata": {},
   "outputs": [
    {
     "name": "stdout",
     "output_type": "stream",
     "text": [
      "DATA_PATH: /Users/dan/ClimateIreland/CI-Status-Report/CI-Status-Report-Dash/data/\n"
     ]
    }
   ],
   "source": [
    "import pandas as pd\n",
    "import numpy as np\n",
    "import datetime\n",
    "import dateutil\n",
    "import plotly.graph_objects as go\n",
    "from plotly.subplots import make_subplots\n",
    "from charts import stations_map, map_columns, date_to_day_number\n",
    "from settings import *\n"
   ]
  },
  {
   "cell_type": "code",
   "execution_count": 3,
   "id": "generic-thermal",
   "metadata": {},
   "outputs": [],
   "source": [
    "def percentile_series(df,col):\n",
    "    \"\"\"\n",
    "    Returns series with percentile catagory based on column name submitted\n",
    "    \"\"\"\n",
    "    def assign_percentile(df,row,col):\n",
    "        val = row[col]\n",
    "        if val >= np.percentile(df[col], 95):\n",
    "            return 95\n",
    "        elif val >= np.percentile(df[col], 75):\n",
    "            return 75\n",
    "        elif val >= np.percentile(df[col], 50):\n",
    "            return 50\n",
    "        elif val >= np.percentile(df[col], 25):\n",
    "            return 25\n",
    "        elif val >= np.percentile(df[col], 5):\n",
    "            return 5\n",
    "        else:\n",
    "            return 0\n",
    "    print('95 ' + str(np.percentile(df[col], 95)))\n",
    "    print('75 ' + str(np.percentile(df[col], 75)))\n",
    "    print('50 ' + str(np.percentile(df[col], 50)))\n",
    "    print('25 ' + str(np.percentile(df[col], 25)))\n",
    "    print('5 ' + str(np.percentile(df[col], 5)))\n",
    "    return df.apply (lambda row: assign_percentile(df,row,col), axis=1)"
   ]
  },
  {
   "cell_type": "code",
   "execution_count": null,
   "id": "harmful-chemistry",
   "metadata": {},
   "outputs": [],
   "source": [
    "\"\"\"\n",
    "Figure 3.10\n",
    "\"\"\"\n",
    "data_path = DATA_PATH+'Oceanic_Domain/3.5SeaState/Figure3.10/'\n",
    "data_csv = data_path + 'Figure3.10_data.csv'"
   ]
  },
  {
   "cell_type": "code",
   "execution_count": null,
   "id": "scientific-installation",
   "metadata": {},
   "outputs": [],
   "source": [
    "\"\"\"\n",
    "Tidy data for charts\n",
    "\"\"\"\n",
    "\n",
    "\n",
    "xls = pd.ExcelFile(\n",
    "    data_path+'SeaState_M3.xlsx')\n",
    "original_df = pd.read_excel(xls, 'M3',skiprows=1)\n",
    "original_df\n"
   ]
  },
  {
   "cell_type": "code",
   "execution_count": null,
   "id": "liquid-mailing",
   "metadata": {},
   "outputs": [],
   "source": [
    "columns_dict = {'datetime':'Dates',\n",
    "               'mean__daily__sea_surface_wave_significant_height':'WaveHeight.1',\n",
    "                  }\n",
    "df_16 = map_columns(columns_dict, original_df)\n",
    "df_16 = df_16[df_16['datetime'].notna()]\n",
    "columns_dict = {'datetime':'Dates.1',\n",
    "               'mean__daily__sea_surface_wave_significant_height':'WaveHeight.2',\n",
    "                  }\n",
    "df_17 = map_columns(columns_dict, original_df)\n",
    "df_17 = df_17[df_17['datetime'].notna()]\n",
    "columns_dict = {'datetime':'Dates.2',\n",
    "               'mean__daily__sea_surface_wave_significant_height':'WaveHeight.3',\n",
    "                  }\n",
    "df_18 = map_columns(columns_dict, original_df)\n",
    "df_18 = df_18[df_18['datetime'].notna()]\n",
    "df = pd.concat([df_16,df_17,df_18])\n",
    "df['location']='Buoy_M3'\n",
    "# df.to_csv(data_csv) #commented out as the file should be kept as is"
   ]
  },
  {
   "cell_type": "code",
   "execution_count": null,
   "id": "exclusive-desktop",
   "metadata": {},
   "outputs": [],
   "source": [
    "data_path = DATA_PATH+'Oceanic_Domain/3.5SeaState/Figure3.10/'\n",
    "data_csv = data_path + 'Figure3.10_data.csv'\n",
    "df = pd.read_csv(data_csv, index_col=0)\n",
    "df['datetime'] = pd.to_datetime(df['datetime'])\n",
    "df['xAxis'] = df.apply (lambda row: date_to_day_number(row), axis=1)\n",
    "df_16 = df.loc[(df['datetime'].dt.year == 2016)]\n",
    "df_17 = df.loc[(df['datetime'].dt.year == 2017)]\n",
    "df_18 = df.loc[(df['datetime'].dt.year == 2018)]\n",
    "trace_16 = go.Scatter(x=df['xAxis'],\n",
    "                      y=df_16['mean__daily__sea_surface_wave_significant_height'],\n",
    "                         name='2016',\n",
    "                         mode='markers+lines',\n",
    "                         text=df['datetime'],\n",
    "                         marker=dict(color=TIMESERIES_COLOR_1,\n",
    "                                     size=5,\n",
    "                                     opacity=0.5),\n",
    "                         line=dict(color=TIMESERIES_COLOR_1,\n",
    "                                      width=1),\n",
    "                         hovertemplate='%{text|%d-%b}-2016<br>' +\n",
    "                         '<b>2016 Daily Average</b><br>' +\n",
    "                         'Wave Height: %{y:.2f} m<br>' +\n",
    "                         '<extra></extra>'\n",
    "                         )\n",
    "trace_17 = go.Scatter(x=df['xAxis'],\n",
    "                      y=df_17['mean__daily__sea_surface_wave_significant_height'],\n",
    "                         name='2017',\n",
    "                         mode='markers+lines',\n",
    "                         text=df['datetime'],\n",
    "                         marker=dict(color=TIMESERIES_COLOR_2,\n",
    "                                     size=5,\n",
    "                                     opacity=0.5),\n",
    "                         line=dict(color=TIMESERIES_COLOR_2,\n",
    "                                      width=1),\n",
    "                         hovertemplate='%{text|%d-%b}-2017<br>' +\n",
    "                         '<b>2017 Daily Average</b><br>' +\n",
    "                         'Wave Height: %{y:.2f} m<br>' +\n",
    "                         '<extra></extra>'\n",
    "                         )\n",
    "trace_18 = go.Scatter(x=df['xAxis'],\n",
    "                      y=df_18['mean__daily__sea_surface_wave_significant_height'],\n",
    "                         name='2018',\n",
    "                         mode='markers+lines',\n",
    "                         text=df['datetime'],\n",
    "                         marker=dict(color=TIMESERIES_COLOR_3,\n",
    "                                     size=5,\n",
    "                                     opacity=0.5),\n",
    "                         line=dict(color=TIMESERIES_COLOR_3,\n",
    "                                      width=1),\n",
    "                         hovertemplate='%{text|%d-%b}-2018<br>' +\n",
    "                         '<b>2018 Daily Average</b><br>' +\n",
    "                         'Wave Height: %{y:.2f} m<br>' +\n",
    "                         '<extra></extra>'\n",
    "                         )\n",
    "figure_3_10 = go.Figure(data=[trace_16,trace_17,trace_18], layout=TIMESERIES_LAYOUT)\n",
    "figure_3_10.update_layout(\n",
    "    yaxis=dict(title='Mean Significant Wave Height, H<sub>s</sub> (m)'),\n",
    "    xaxis=dict(\n",
    "        title=\"Month\",\n",
    "        ticktext=['Jan','Feb','Mar','Apr','May','June','July','Aug','Sep','Oct','Nov','Dec'],\n",
    "        showgrid=False,\n",
    "        tickvals=[50,80, 110, 140, 170, 200, 230, 260, 290, 320, 350, 380],\n",
    "    )\n",
    ")\n",
    "figure_3_10"
   ]
  },
  {
   "cell_type": "code",
   "execution_count": 4,
   "id": "laden-argument",
   "metadata": {},
   "outputs": [],
   "source": [
    "\"\"\"\n",
    "Figure 3.11\n",
    "\"\"\"\n",
    "data_path = DATA_PATH+'Oceanic_Domain/3.5SeaState/Figure3.11/'\n",
    "data_csv = data_path + 'Figure3.11_data.csv'"
   ]
  },
  {
   "cell_type": "code",
   "execution_count": 34,
   "id": "pending-mistress",
   "metadata": {},
   "outputs": [],
   "source": [
    "def discrete_colorscale(bvals, colors):\n",
    "    \"\"\"\n",
    "    bvals - list of values bounding intervals/ranges of interest\n",
    "    colors - list of rgb or hex colorcodes for values in [bvals[k], bvals[k+1]],0<=k < len(bvals)-1\n",
    "    returns the plotly  discrete colorscale\n",
    "    \"\"\"\n",
    "    if len(bvals) != len(colors)+1:\n",
    "        raise ValueError('len(boundary values) should be equal to  len(colors)+1')\n",
    "    bvals = sorted(bvals)     \n",
    "    nvals = [(v-bvals[0])/(bvals[-1]-bvals[0]) for v in bvals]  #normalized values\n",
    "    \n",
    "    dcolorscale = [] #discrete colorscale\n",
    "    for k in range(len(colors)):\n",
    "        dcolorscale.extend([[nvals[k], colors[k]], [nvals[k+1], colors[k]]])\n",
    "    return dcolorscale  \n",
    "\n"
   ]
  },
  {
   "cell_type": "code",
   "execution_count": 5,
   "id": "technical-ethernet",
   "metadata": {},
   "outputs": [
    {
     "data": {
      "text/html": [
       "<div>\n",
       "<style scoped>\n",
       "    .dataframe tbody tr th:only-of-type {\n",
       "        vertical-align: middle;\n",
       "    }\n",
       "\n",
       "    .dataframe tbody tr th {\n",
       "        vertical-align: top;\n",
       "    }\n",
       "\n",
       "    .dataframe thead th {\n",
       "        text-align: right;\n",
       "    }\n",
       "</style>\n",
       "<table border=\"1\" class=\"dataframe\">\n",
       "  <thead>\n",
       "    <tr style=\"text-align: right;\">\n",
       "      <th></th>\n",
       "      <th>Unnamed: 0</th>\n",
       "      <th>UTC</th>\n",
       "      <th>Unnamed: 2</th>\n",
       "      <th>m</th>\n",
       "      <th>s</th>\n",
       "      <th>degrees_true</th>\n",
       "      <th>m.1</th>\n",
       "      <th>Unnamed: 7</th>\n",
       "      <th>Jan</th>\n",
       "      <th>2002-01-01 00:00:00</th>\n",
       "      <th>...</th>\n",
       "      <th>Unnamed: 93</th>\n",
       "      <th>Unnamed: 94</th>\n",
       "      <th>Unnamed: 95</th>\n",
       "      <th>Unnamed: 96</th>\n",
       "      <th>Unnamed: 97</th>\n",
       "      <th>Unnamed: 98</th>\n",
       "      <th>Unnamed: 99</th>\n",
       "      <th>Unnamed: 100</th>\n",
       "      <th>Unnamed: 101</th>\n",
       "      <th>Unnamed: 102</th>\n",
       "    </tr>\n",
       "  </thead>\n",
       "  <tbody>\n",
       "    <tr>\n",
       "      <th>0</th>\n",
       "      <td>M2</td>\n",
       "      <td>2001-05-03T14:00:00Z</td>\n",
       "      <td>2001-05-03</td>\n",
       "      <td>1.1</td>\n",
       "      <td>4.0</td>\n",
       "      <td>NaN</td>\n",
       "      <td>NaN</td>\n",
       "      <td>NaN</td>\n",
       "      <td>Jan</td>\n",
       "      <td>2002-01-02</td>\n",
       "      <td>...</td>\n",
       "      <td>NaN</td>\n",
       "      <td>NaN</td>\n",
       "      <td>NaN</td>\n",
       "      <td>NaN</td>\n",
       "      <td>NaN</td>\n",
       "      <td>NaN</td>\n",
       "      <td>NaN</td>\n",
       "      <td>NaN</td>\n",
       "      <td>NaN</td>\n",
       "      <td>NaN</td>\n",
       "    </tr>\n",
       "    <tr>\n",
       "      <th>1</th>\n",
       "      <td>M2</td>\n",
       "      <td>2001-05-03T15:00:00Z</td>\n",
       "      <td>2001-05-03</td>\n",
       "      <td>1.0</td>\n",
       "      <td>4.0</td>\n",
       "      <td>NaN</td>\n",
       "      <td>NaN</td>\n",
       "      <td>NaN</td>\n",
       "      <td>Jan</td>\n",
       "      <td>2002-01-03</td>\n",
       "      <td>...</td>\n",
       "      <td>NaN</td>\n",
       "      <td>NaN</td>\n",
       "      <td>NaN</td>\n",
       "      <td>NaN</td>\n",
       "      <td>NaN</td>\n",
       "      <td>NaN</td>\n",
       "      <td>NaN</td>\n",
       "      <td>NaN</td>\n",
       "      <td>NaN</td>\n",
       "      <td>NaN</td>\n",
       "    </tr>\n",
       "    <tr>\n",
       "      <th>2</th>\n",
       "      <td>M2</td>\n",
       "      <td>2001-05-03T16:00:00Z</td>\n",
       "      <td>2001-05-03</td>\n",
       "      <td>1.0</td>\n",
       "      <td>5.0</td>\n",
       "      <td>NaN</td>\n",
       "      <td>NaN</td>\n",
       "      <td>NaN</td>\n",
       "      <td>Jan</td>\n",
       "      <td>2002-01-04</td>\n",
       "      <td>...</td>\n",
       "      <td>NaN</td>\n",
       "      <td>NaN</td>\n",
       "      <td>NaN</td>\n",
       "      <td>NaN</td>\n",
       "      <td>NaN</td>\n",
       "      <td>NaN</td>\n",
       "      <td>NaN</td>\n",
       "      <td>NaN</td>\n",
       "      <td>NaN</td>\n",
       "      <td>NaN</td>\n",
       "    </tr>\n",
       "    <tr>\n",
       "      <th>3</th>\n",
       "      <td>M2</td>\n",
       "      <td>2001-05-03T17:00:00Z</td>\n",
       "      <td>2001-05-03</td>\n",
       "      <td>0.8</td>\n",
       "      <td>5.0</td>\n",
       "      <td>NaN</td>\n",
       "      <td>NaN</td>\n",
       "      <td>NaN</td>\n",
       "      <td>Jan</td>\n",
       "      <td>2002-01-05</td>\n",
       "      <td>...</td>\n",
       "      <td>NaN</td>\n",
       "      <td>0.731608</td>\n",
       "      <td>1.128327</td>\n",
       "      <td>NaN</td>\n",
       "      <td>NaN</td>\n",
       "      <td>NaN</td>\n",
       "      <td>NaN</td>\n",
       "      <td>NaN</td>\n",
       "      <td>NaN</td>\n",
       "      <td>NaN</td>\n",
       "    </tr>\n",
       "    <tr>\n",
       "      <th>4</th>\n",
       "      <td>M2</td>\n",
       "      <td>2001-05-03T18:00:00Z</td>\n",
       "      <td>2001-05-03</td>\n",
       "      <td>0.8</td>\n",
       "      <td>5.0</td>\n",
       "      <td>NaN</td>\n",
       "      <td>NaN</td>\n",
       "      <td>NaN</td>\n",
       "      <td>Jan</td>\n",
       "      <td>2002-01-06</td>\n",
       "      <td>...</td>\n",
       "      <td>0.835445</td>\n",
       "      <td>1.162483</td>\n",
       "      <td>1.669365</td>\n",
       "      <td>1.846567</td>\n",
       "      <td>1.389709</td>\n",
       "      <td>NaN</td>\n",
       "      <td>NaN</td>\n",
       "      <td>NaN</td>\n",
       "      <td>NaN</td>\n",
       "      <td>NaN</td>\n",
       "    </tr>\n",
       "    <tr>\n",
       "      <th>...</th>\n",
       "      <td>...</td>\n",
       "      <td>...</td>\n",
       "      <td>...</td>\n",
       "      <td>...</td>\n",
       "      <td>...</td>\n",
       "      <td>...</td>\n",
       "      <td>...</td>\n",
       "      <td>...</td>\n",
       "      <td>...</td>\n",
       "      <td>...</td>\n",
       "      <td>...</td>\n",
       "      <td>...</td>\n",
       "      <td>...</td>\n",
       "      <td>...</td>\n",
       "      <td>...</td>\n",
       "      <td>...</td>\n",
       "      <td>...</td>\n",
       "      <td>...</td>\n",
       "      <td>...</td>\n",
       "      <td>...</td>\n",
       "      <td>...</td>\n",
       "    </tr>\n",
       "    <tr>\n",
       "      <th>131839</th>\n",
       "      <td>NaN</td>\n",
       "      <td>2018-12-31T20:00:00Z</td>\n",
       "      <td>2018-12-31</td>\n",
       "      <td>NaN</td>\n",
       "      <td>NaN</td>\n",
       "      <td>NaN</td>\n",
       "      <td>NaN</td>\n",
       "      <td>NaN</td>\n",
       "      <td>NaN</td>\n",
       "      <td>NaT</td>\n",
       "      <td>...</td>\n",
       "      <td>NaN</td>\n",
       "      <td>NaN</td>\n",
       "      <td>NaN</td>\n",
       "      <td>NaN</td>\n",
       "      <td>NaN</td>\n",
       "      <td>NaN</td>\n",
       "      <td>NaN</td>\n",
       "      <td>NaN</td>\n",
       "      <td>NaN</td>\n",
       "      <td>NaN</td>\n",
       "    </tr>\n",
       "    <tr>\n",
       "      <th>131840</th>\n",
       "      <td>NaN</td>\n",
       "      <td>2018-12-31T21:00:00Z</td>\n",
       "      <td>2018-12-31</td>\n",
       "      <td>NaN</td>\n",
       "      <td>NaN</td>\n",
       "      <td>NaN</td>\n",
       "      <td>NaN</td>\n",
       "      <td>NaN</td>\n",
       "      <td>NaN</td>\n",
       "      <td>NaT</td>\n",
       "      <td>...</td>\n",
       "      <td>NaN</td>\n",
       "      <td>NaN</td>\n",
       "      <td>NaN</td>\n",
       "      <td>NaN</td>\n",
       "      <td>NaN</td>\n",
       "      <td>NaN</td>\n",
       "      <td>NaN</td>\n",
       "      <td>NaN</td>\n",
       "      <td>NaN</td>\n",
       "      <td>NaN</td>\n",
       "    </tr>\n",
       "    <tr>\n",
       "      <th>131841</th>\n",
       "      <td>NaN</td>\n",
       "      <td>2018-12-31T22:00:00Z</td>\n",
       "      <td>2018-12-31</td>\n",
       "      <td>NaN</td>\n",
       "      <td>NaN</td>\n",
       "      <td>NaN</td>\n",
       "      <td>NaN</td>\n",
       "      <td>NaN</td>\n",
       "      <td>NaN</td>\n",
       "      <td>NaT</td>\n",
       "      <td>...</td>\n",
       "      <td>NaN</td>\n",
       "      <td>NaN</td>\n",
       "      <td>NaN</td>\n",
       "      <td>NaN</td>\n",
       "      <td>NaN</td>\n",
       "      <td>NaN</td>\n",
       "      <td>NaN</td>\n",
       "      <td>NaN</td>\n",
       "      <td>NaN</td>\n",
       "      <td>NaN</td>\n",
       "    </tr>\n",
       "    <tr>\n",
       "      <th>131842</th>\n",
       "      <td>NaN</td>\n",
       "      <td>2018-12-31T23:00:00Z</td>\n",
       "      <td>2018-12-31</td>\n",
       "      <td>NaN</td>\n",
       "      <td>NaN</td>\n",
       "      <td>NaN</td>\n",
       "      <td>NaN</td>\n",
       "      <td>NaN</td>\n",
       "      <td>NaN</td>\n",
       "      <td>NaT</td>\n",
       "      <td>...</td>\n",
       "      <td>NaN</td>\n",
       "      <td>NaN</td>\n",
       "      <td>NaN</td>\n",
       "      <td>NaN</td>\n",
       "      <td>NaN</td>\n",
       "      <td>NaN</td>\n",
       "      <td>NaN</td>\n",
       "      <td>NaN</td>\n",
       "      <td>NaN</td>\n",
       "      <td>NaN</td>\n",
       "    </tr>\n",
       "    <tr>\n",
       "      <th>131843</th>\n",
       "      <td>NaN</td>\n",
       "      <td>2019-01-01T00:00:00Z</td>\n",
       "      <td>2019-01-01</td>\n",
       "      <td>NaN</td>\n",
       "      <td>NaN</td>\n",
       "      <td>NaN</td>\n",
       "      <td>NaN</td>\n",
       "      <td>NaN</td>\n",
       "      <td>NaN</td>\n",
       "      <td>NaT</td>\n",
       "      <td>...</td>\n",
       "      <td>NaN</td>\n",
       "      <td>NaN</td>\n",
       "      <td>NaN</td>\n",
       "      <td>NaN</td>\n",
       "      <td>NaN</td>\n",
       "      <td>NaN</td>\n",
       "      <td>NaN</td>\n",
       "      <td>NaN</td>\n",
       "      <td>NaN</td>\n",
       "      <td>NaN</td>\n",
       "    </tr>\n",
       "  </tbody>\n",
       "</table>\n",
       "<p>131844 rows × 103 columns</p>\n",
       "</div>"
      ],
      "text/plain": [
       "       Unnamed: 0                   UTC Unnamed: 2    m    s  degrees_true  \\\n",
       "0              M2  2001-05-03T14:00:00Z 2001-05-03  1.1  4.0           NaN   \n",
       "1              M2  2001-05-03T15:00:00Z 2001-05-03  1.0  4.0           NaN   \n",
       "2              M2  2001-05-03T16:00:00Z 2001-05-03  1.0  5.0           NaN   \n",
       "3              M2  2001-05-03T17:00:00Z 2001-05-03  0.8  5.0           NaN   \n",
       "4              M2  2001-05-03T18:00:00Z 2001-05-03  0.8  5.0           NaN   \n",
       "...           ...                   ...        ...  ...  ...           ...   \n",
       "131839        NaN  2018-12-31T20:00:00Z 2018-12-31  NaN  NaN           NaN   \n",
       "131840        NaN  2018-12-31T21:00:00Z 2018-12-31  NaN  NaN           NaN   \n",
       "131841        NaN  2018-12-31T22:00:00Z 2018-12-31  NaN  NaN           NaN   \n",
       "131842        NaN  2018-12-31T23:00:00Z 2018-12-31  NaN  NaN           NaN   \n",
       "131843        NaN  2019-01-01T00:00:00Z 2019-01-01  NaN  NaN           NaN   \n",
       "\n",
       "        m.1  Unnamed: 7  Jan 2002-01-01 00:00:00  ...  Unnamed: 93  \\\n",
       "0       NaN         NaN  Jan          2002-01-02  ...          NaN   \n",
       "1       NaN         NaN  Jan          2002-01-03  ...          NaN   \n",
       "2       NaN         NaN  Jan          2002-01-04  ...          NaN   \n",
       "3       NaN         NaN  Jan          2002-01-05  ...          NaN   \n",
       "4       NaN         NaN  Jan          2002-01-06  ...     0.835445   \n",
       "...     ...         ...  ...                 ...  ...          ...   \n",
       "131839  NaN         NaN  NaN                 NaT  ...          NaN   \n",
       "131840  NaN         NaN  NaN                 NaT  ...          NaN   \n",
       "131841  NaN         NaN  NaN                 NaT  ...          NaN   \n",
       "131842  NaN         NaN  NaN                 NaT  ...          NaN   \n",
       "131843  NaN         NaN  NaN                 NaT  ...          NaN   \n",
       "\n",
       "        Unnamed: 94 Unnamed: 95 Unnamed: 96  Unnamed: 97  Unnamed: 98  \\\n",
       "0               NaN         NaN         NaN          NaN          NaN   \n",
       "1               NaN         NaN         NaN          NaN          NaN   \n",
       "2               NaN         NaN         NaN          NaN          NaN   \n",
       "3          0.731608    1.128327         NaN          NaN          NaN   \n",
       "4          1.162483    1.669365    1.846567     1.389709          NaN   \n",
       "...             ...         ...         ...          ...          ...   \n",
       "131839          NaN         NaN         NaN          NaN          NaN   \n",
       "131840          NaN         NaN         NaN          NaN          NaN   \n",
       "131841          NaN         NaN         NaN          NaN          NaN   \n",
       "131842          NaN         NaN         NaN          NaN          NaN   \n",
       "131843          NaN         NaN         NaN          NaN          NaN   \n",
       "\n",
       "       Unnamed: 99 Unnamed: 100  Unnamed: 101  Unnamed: 102  \n",
       "0              NaN          NaN           NaN           NaN  \n",
       "1              NaN          NaN           NaN           NaN  \n",
       "2              NaN          NaN           NaN           NaN  \n",
       "3              NaN          NaN           NaN           NaN  \n",
       "4              NaN          NaN           NaN           NaN  \n",
       "...            ...          ...           ...           ...  \n",
       "131839         NaN          NaN           NaN           NaN  \n",
       "131840         NaN          NaN           NaN           NaN  \n",
       "131841         NaN          NaN           NaN           NaN  \n",
       "131842         NaN          NaN           NaN           NaN  \n",
       "131843         NaN          NaN           NaN           NaN  \n",
       "\n",
       "[131844 rows x 103 columns]"
      ]
     },
     "execution_count": 5,
     "metadata": {},
     "output_type": "execute_result"
    }
   ],
   "source": [
    "\"\"\"\n",
    "Tidy data for charts \n",
    "\"\"\"\n",
    "\n",
    "\n",
    "xls = pd.ExcelFile(\n",
    "    data_path+'Figure3.11_HeatMaps_SignificantWaveHeight.xlsx')\n",
    "original_df_m2 = pd.read_excel(xls, 'M2',skiprows=2)\n",
    "original_df_m2"
   ]
  },
  {
   "cell_type": "code",
   "execution_count": 7,
   "id": "experimental-teach",
   "metadata": {},
   "outputs": [
    {
     "data": {
      "text/html": [
       "<div>\n",
       "<style scoped>\n",
       "    .dataframe tbody tr th:only-of-type {\n",
       "        vertical-align: middle;\n",
       "    }\n",
       "\n",
       "    .dataframe tbody tr th {\n",
       "        vertical-align: top;\n",
       "    }\n",
       "\n",
       "    .dataframe thead th {\n",
       "        text-align: right;\n",
       "    }\n",
       "</style>\n",
       "<table border=\"1\" class=\"dataframe\">\n",
       "  <thead>\n",
       "    <tr style=\"text-align: right;\">\n",
       "      <th></th>\n",
       "      <th>Unnamed: 0</th>\n",
       "      <th>UTC</th>\n",
       "      <th>Unnamed: 2</th>\n",
       "      <th>m</th>\n",
       "      <th>s</th>\n",
       "      <th>degrees_true</th>\n",
       "      <th>m.1</th>\n",
       "      <th>Unnamed: 7</th>\n",
       "      <th>Jan</th>\n",
       "      <th>2002-01-01 00:00:00</th>\n",
       "      <th>...</th>\n",
       "      <th>Unnamed: 93</th>\n",
       "      <th>Unnamed: 94</th>\n",
       "      <th>Unnamed: 95</th>\n",
       "      <th>Unnamed: 96</th>\n",
       "      <th>Unnamed: 97</th>\n",
       "      <th>Unnamed: 98</th>\n",
       "      <th>Unnamed: 99</th>\n",
       "      <th>Unnamed: 100</th>\n",
       "      <th>Unnamed: 101</th>\n",
       "      <th>Unnamed: 102</th>\n",
       "    </tr>\n",
       "  </thead>\n",
       "  <tbody>\n",
       "    <tr>\n",
       "      <th>0</th>\n",
       "      <td>M3</td>\n",
       "      <td>2002-07-22T14:00:00Z</td>\n",
       "      <td>2002-07-22</td>\n",
       "      <td>NaN</td>\n",
       "      <td>NaN</td>\n",
       "      <td>NaN</td>\n",
       "      <td>NaN</td>\n",
       "      <td>NaN</td>\n",
       "      <td>Jan</td>\n",
       "      <td>2002-01-02</td>\n",
       "      <td>...</td>\n",
       "      <td>NaN</td>\n",
       "      <td>NaN</td>\n",
       "      <td>NaN</td>\n",
       "      <td>NaN</td>\n",
       "      <td>NaN</td>\n",
       "      <td>NaN</td>\n",
       "      <td>NaN</td>\n",
       "      <td>NaN</td>\n",
       "      <td>NaN</td>\n",
       "      <td>NaN</td>\n",
       "    </tr>\n",
       "    <tr>\n",
       "      <th>1</th>\n",
       "      <td>M3</td>\n",
       "      <td>2002-07-22T15:00:00Z</td>\n",
       "      <td>2002-07-22</td>\n",
       "      <td>NaN</td>\n",
       "      <td>NaN</td>\n",
       "      <td>NaN</td>\n",
       "      <td>NaN</td>\n",
       "      <td>NaN</td>\n",
       "      <td>Jan</td>\n",
       "      <td>2002-01-03</td>\n",
       "      <td>...</td>\n",
       "      <td>NaN</td>\n",
       "      <td>NaN</td>\n",
       "      <td>NaN</td>\n",
       "      <td>NaN</td>\n",
       "      <td>NaN</td>\n",
       "      <td>NaN</td>\n",
       "      <td>NaN</td>\n",
       "      <td>NaN</td>\n",
       "      <td>NaN</td>\n",
       "      <td>NaN</td>\n",
       "    </tr>\n",
       "    <tr>\n",
       "      <th>2</th>\n",
       "      <td>M3</td>\n",
       "      <td>2002-07-22T16:00:00Z</td>\n",
       "      <td>2002-07-22</td>\n",
       "      <td>NaN</td>\n",
       "      <td>NaN</td>\n",
       "      <td>NaN</td>\n",
       "      <td>NaN</td>\n",
       "      <td>NaN</td>\n",
       "      <td>Jan</td>\n",
       "      <td>2002-01-04</td>\n",
       "      <td>...</td>\n",
       "      <td>NaN</td>\n",
       "      <td>NaN</td>\n",
       "      <td>NaN</td>\n",
       "      <td>NaN</td>\n",
       "      <td>NaN</td>\n",
       "      <td>NaN</td>\n",
       "      <td>NaN</td>\n",
       "      <td>NaN</td>\n",
       "      <td>NaN</td>\n",
       "      <td>NaN</td>\n",
       "    </tr>\n",
       "    <tr>\n",
       "      <th>3</th>\n",
       "      <td>M3</td>\n",
       "      <td>2002-07-22T17:00:00Z</td>\n",
       "      <td>2002-07-22</td>\n",
       "      <td>NaN</td>\n",
       "      <td>NaN</td>\n",
       "      <td>NaN</td>\n",
       "      <td>NaN</td>\n",
       "      <td>NaN</td>\n",
       "      <td>Jan</td>\n",
       "      <td>2002-01-05</td>\n",
       "      <td>...</td>\n",
       "      <td>2.287617</td>\n",
       "      <td>2.806179</td>\n",
       "      <td>3.638651</td>\n",
       "      <td>4.463836</td>\n",
       "      <td>3.659728</td>\n",
       "      <td>NaN</td>\n",
       "      <td>NaN</td>\n",
       "      <td>NaN</td>\n",
       "      <td>NaN</td>\n",
       "      <td>NaN</td>\n",
       "    </tr>\n",
       "    <tr>\n",
       "      <th>4</th>\n",
       "      <td>M3</td>\n",
       "      <td>2002-07-22T18:00:00Z</td>\n",
       "      <td>2002-07-22</td>\n",
       "      <td>NaN</td>\n",
       "      <td>NaN</td>\n",
       "      <td>NaN</td>\n",
       "      <td>NaN</td>\n",
       "      <td>NaN</td>\n",
       "      <td>Jan</td>\n",
       "      <td>2002-01-06</td>\n",
       "      <td>...</td>\n",
       "      <td>NaN</td>\n",
       "      <td>NaN</td>\n",
       "      <td>3.606742</td>\n",
       "      <td>2.899549</td>\n",
       "      <td>4.513961</td>\n",
       "      <td>NaN</td>\n",
       "      <td>NaN</td>\n",
       "      <td>NaN</td>\n",
       "      <td>NaN</td>\n",
       "      <td>NaN</td>\n",
       "    </tr>\n",
       "    <tr>\n",
       "      <th>...</th>\n",
       "      <td>...</td>\n",
       "      <td>...</td>\n",
       "      <td>...</td>\n",
       "      <td>...</td>\n",
       "      <td>...</td>\n",
       "      <td>...</td>\n",
       "      <td>...</td>\n",
       "      <td>...</td>\n",
       "      <td>...</td>\n",
       "      <td>...</td>\n",
       "      <td>...</td>\n",
       "      <td>...</td>\n",
       "      <td>...</td>\n",
       "      <td>...</td>\n",
       "      <td>...</td>\n",
       "      <td>...</td>\n",
       "      <td>...</td>\n",
       "      <td>...</td>\n",
       "      <td>...</td>\n",
       "      <td>...</td>\n",
       "      <td>...</td>\n",
       "    </tr>\n",
       "    <tr>\n",
       "      <th>115125</th>\n",
       "      <td>M3</td>\n",
       "      <td>2018-12-31T20:00:00Z</td>\n",
       "      <td>2018-12-31</td>\n",
       "      <td>2.656</td>\n",
       "      <td>7.969</td>\n",
       "      <td>253.0</td>\n",
       "      <td>3.984</td>\n",
       "      <td>NaN</td>\n",
       "      <td>NaN</td>\n",
       "      <td>NaT</td>\n",
       "      <td>...</td>\n",
       "      <td>NaN</td>\n",
       "      <td>NaN</td>\n",
       "      <td>NaN</td>\n",
       "      <td>NaN</td>\n",
       "      <td>NaN</td>\n",
       "      <td>NaN</td>\n",
       "      <td>NaN</td>\n",
       "      <td>NaN</td>\n",
       "      <td>NaN</td>\n",
       "      <td>NaN</td>\n",
       "    </tr>\n",
       "    <tr>\n",
       "      <th>115126</th>\n",
       "      <td>M3</td>\n",
       "      <td>2018-12-31T21:00:00Z</td>\n",
       "      <td>2018-12-31</td>\n",
       "      <td>2.813</td>\n",
       "      <td>8.203</td>\n",
       "      <td>252.0</td>\n",
       "      <td>4.219</td>\n",
       "      <td>NaN</td>\n",
       "      <td>NaN</td>\n",
       "      <td>NaT</td>\n",
       "      <td>...</td>\n",
       "      <td>NaN</td>\n",
       "      <td>NaN</td>\n",
       "      <td>NaN</td>\n",
       "      <td>NaN</td>\n",
       "      <td>NaN</td>\n",
       "      <td>NaN</td>\n",
       "      <td>NaN</td>\n",
       "      <td>NaN</td>\n",
       "      <td>NaN</td>\n",
       "      <td>NaN</td>\n",
       "    </tr>\n",
       "    <tr>\n",
       "      <th>115127</th>\n",
       "      <td>M3</td>\n",
       "      <td>2018-12-31T22:00:00Z</td>\n",
       "      <td>2018-12-31</td>\n",
       "      <td>2.656</td>\n",
       "      <td>7.734</td>\n",
       "      <td>252.0</td>\n",
       "      <td>3.984</td>\n",
       "      <td>NaN</td>\n",
       "      <td>NaN</td>\n",
       "      <td>NaT</td>\n",
       "      <td>...</td>\n",
       "      <td>NaN</td>\n",
       "      <td>NaN</td>\n",
       "      <td>NaN</td>\n",
       "      <td>NaN</td>\n",
       "      <td>NaN</td>\n",
       "      <td>NaN</td>\n",
       "      <td>NaN</td>\n",
       "      <td>NaN</td>\n",
       "      <td>NaN</td>\n",
       "      <td>NaN</td>\n",
       "    </tr>\n",
       "    <tr>\n",
       "      <th>115128</th>\n",
       "      <td>M3</td>\n",
       "      <td>2018-12-31T23:00:00Z</td>\n",
       "      <td>2018-12-31</td>\n",
       "      <td>2.500</td>\n",
       "      <td>7.383</td>\n",
       "      <td>250.0</td>\n",
       "      <td>3.281</td>\n",
       "      <td>NaN</td>\n",
       "      <td>NaN</td>\n",
       "      <td>NaT</td>\n",
       "      <td>...</td>\n",
       "      <td>NaN</td>\n",
       "      <td>NaN</td>\n",
       "      <td>NaN</td>\n",
       "      <td>NaN</td>\n",
       "      <td>NaN</td>\n",
       "      <td>NaN</td>\n",
       "      <td>NaN</td>\n",
       "      <td>NaN</td>\n",
       "      <td>NaN</td>\n",
       "      <td>NaN</td>\n",
       "    </tr>\n",
       "    <tr>\n",
       "      <th>115129</th>\n",
       "      <td>M3</td>\n",
       "      <td>2019-01-01T00:00:00Z</td>\n",
       "      <td>2019-01-01</td>\n",
       "      <td>2.500</td>\n",
       "      <td>7.969</td>\n",
       "      <td>255.0</td>\n",
       "      <td>4.219</td>\n",
       "      <td>NaN</td>\n",
       "      <td>NaN</td>\n",
       "      <td>NaT</td>\n",
       "      <td>...</td>\n",
       "      <td>NaN</td>\n",
       "      <td>NaN</td>\n",
       "      <td>NaN</td>\n",
       "      <td>NaN</td>\n",
       "      <td>NaN</td>\n",
       "      <td>NaN</td>\n",
       "      <td>NaN</td>\n",
       "      <td>NaN</td>\n",
       "      <td>NaN</td>\n",
       "      <td>NaN</td>\n",
       "    </tr>\n",
       "  </tbody>\n",
       "</table>\n",
       "<p>115130 rows × 103 columns</p>\n",
       "</div>"
      ],
      "text/plain": [
       "       Unnamed: 0                   UTC Unnamed: 2      m      s  \\\n",
       "0              M3  2002-07-22T14:00:00Z 2002-07-22    NaN    NaN   \n",
       "1              M3  2002-07-22T15:00:00Z 2002-07-22    NaN    NaN   \n",
       "2              M3  2002-07-22T16:00:00Z 2002-07-22    NaN    NaN   \n",
       "3              M3  2002-07-22T17:00:00Z 2002-07-22    NaN    NaN   \n",
       "4              M3  2002-07-22T18:00:00Z 2002-07-22    NaN    NaN   \n",
       "...           ...                   ...        ...    ...    ...   \n",
       "115125         M3  2018-12-31T20:00:00Z 2018-12-31  2.656  7.969   \n",
       "115126         M3  2018-12-31T21:00:00Z 2018-12-31  2.813  8.203   \n",
       "115127         M3  2018-12-31T22:00:00Z 2018-12-31  2.656  7.734   \n",
       "115128         M3  2018-12-31T23:00:00Z 2018-12-31  2.500  7.383   \n",
       "115129         M3  2019-01-01T00:00:00Z 2019-01-01  2.500  7.969   \n",
       "\n",
       "        degrees_true    m.1  Unnamed: 7  Jan 2002-01-01 00:00:00  ...  \\\n",
       "0                NaN    NaN         NaN  Jan          2002-01-02  ...   \n",
       "1                NaN    NaN         NaN  Jan          2002-01-03  ...   \n",
       "2                NaN    NaN         NaN  Jan          2002-01-04  ...   \n",
       "3                NaN    NaN         NaN  Jan          2002-01-05  ...   \n",
       "4                NaN    NaN         NaN  Jan          2002-01-06  ...   \n",
       "...              ...    ...         ...  ...                 ...  ...   \n",
       "115125         253.0  3.984         NaN  NaN                 NaT  ...   \n",
       "115126         252.0  4.219         NaN  NaN                 NaT  ...   \n",
       "115127         252.0  3.984         NaN  NaN                 NaT  ...   \n",
       "115128         250.0  3.281         NaN  NaN                 NaT  ...   \n",
       "115129         255.0  4.219         NaN  NaN                 NaT  ...   \n",
       "\n",
       "        Unnamed: 93  Unnamed: 94 Unnamed: 95 Unnamed: 96  Unnamed: 97  \\\n",
       "0               NaN          NaN         NaN         NaN          NaN   \n",
       "1               NaN          NaN         NaN         NaN          NaN   \n",
       "2               NaN          NaN         NaN         NaN          NaN   \n",
       "3          2.287617     2.806179    3.638651    4.463836     3.659728   \n",
       "4               NaN          NaN    3.606742    2.899549     4.513961   \n",
       "...             ...          ...         ...         ...          ...   \n",
       "115125          NaN          NaN         NaN         NaN          NaN   \n",
       "115126          NaN          NaN         NaN         NaN          NaN   \n",
       "115127          NaN          NaN         NaN         NaN          NaN   \n",
       "115128          NaN          NaN         NaN         NaN          NaN   \n",
       "115129          NaN          NaN         NaN         NaN          NaN   \n",
       "\n",
       "        Unnamed: 98 Unnamed: 99 Unnamed: 100  Unnamed: 101  Unnamed: 102  \n",
       "0               NaN         NaN          NaN           NaN           NaN  \n",
       "1               NaN         NaN          NaN           NaN           NaN  \n",
       "2               NaN         NaN          NaN           NaN           NaN  \n",
       "3               NaN         NaN          NaN           NaN           NaN  \n",
       "4               NaN         NaN          NaN           NaN           NaN  \n",
       "...             ...         ...          ...           ...           ...  \n",
       "115125          NaN         NaN          NaN           NaN           NaN  \n",
       "115126          NaN         NaN          NaN           NaN           NaN  \n",
       "115127          NaN         NaN          NaN           NaN           NaN  \n",
       "115128          NaN         NaN          NaN           NaN           NaN  \n",
       "115129          NaN         NaN          NaN           NaN           NaN  \n",
       "\n",
       "[115130 rows x 103 columns]"
      ]
     },
     "execution_count": 7,
     "metadata": {},
     "output_type": "execute_result"
    }
   ],
   "source": [
    "original_df_m3 = pd.read_excel(xls, 'M3',skiprows=2)\n",
    "original_df_m3"
   ]
  },
  {
   "cell_type": "code",
   "execution_count": 71,
   "id": "different-theology",
   "metadata": {},
   "outputs": [],
   "source": [
    "columns_dict = {'datetime':'UTC',\n",
    "               'sea_surface_wave_significant_height':'m',\n",
    "                  }\n",
    "filtered_df_m2 = map_columns(columns_dict, original_df_m2)\n",
    "\n",
    "filtered_df_m2['datetime'] = pd.to_datetime(filtered_df_m2['datetime'])\n",
    "filtered_df_m2 = filtered_df_m2.drop(filtered_df_m2[filtered_df_m2.datetime.dt.year < 2002].index)\n",
    "filtered_df_m2 = filtered_df_m2.drop(filtered_df_m2[filtered_df_m2.datetime.dt.year > 2018].index)\n",
    "# Create series with datetime as index\n",
    "series =pd.Series(filtered_df_m2['sea_surface_wave_significant_height'].values,index=filtered_df_m2['datetime'])\n",
    "# Calc mean monthly \n",
    "series_mean_monthly = series.resample('M').mean()\n",
    "df_m2 = pd.DataFrame()\n",
    "df_m2['mean__monthly__sea_surface_wave_significant_height'] = series_mean_monthly\n",
    "df_m2['datetime'] = df_m2.index\n",
    "df_m2.reset_index(drop=True, inplace=True)\n",
    "df_m2 = df_m2[['datetime','mean__monthly__sea_surface_wave_significant_height']]\n",
    "df_m2['location']='Buoy_M2'\n",
    "df_m2\n",
    "\n",
    "\n",
    "filtered_df_m3 = map_columns(columns_dict, original_df_m3)\n",
    "\n",
    "filtered_df_m3['datetime'] = pd.to_datetime(filtered_df_m3['datetime'])\n",
    "filtered_df_m3 = filtered_df_m3.drop(filtered_df_m3[filtered_df_m3.datetime.dt.year < 2002].index)\n",
    "filtered_df_m3 = filtered_df_m3.drop(filtered_df_m3[filtered_df_m3.datetime.dt.year > 2018].index)\n",
    "# Create series with datetime as index\n",
    "series =pd.Series(filtered_df_m3['sea_surface_wave_significant_height'].values,index=filtered_df_m3['datetime'])\n",
    "# Calc mean monthly \n",
    "series_mean_monthly = series.resample('M').mean()\n",
    "df_m3 = pd.DataFrame()\n",
    "df_m3['mean__monthly__sea_surface_wave_significant_height'] = series_mean_monthly\n",
    "df_m3['datetime'] = df_m3.index\n",
    "df_m3.reset_index(drop=True, inplace=True)\n",
    "df_m3 = df_m3[['datetime','mean__monthly__sea_surface_wave_significant_height']]\n",
    "df_m3['location']='Buoy_M3'\n",
    "df = pd.concat([df_m2,df_m3])\n",
    "# df.to_csv(data_csv) #commented out as the file should be kept as is"
   ]
  },
  {
   "cell_type": "code",
   "execution_count": 72,
   "id": "hazardous-dependence",
   "metadata": {},
   "outputs": [
    {
     "data": {
      "text/html": [
       "<div>\n",
       "<style scoped>\n",
       "    .dataframe tbody tr th:only-of-type {\n",
       "        vertical-align: middle;\n",
       "    }\n",
       "\n",
       "    .dataframe tbody tr th {\n",
       "        vertical-align: top;\n",
       "    }\n",
       "\n",
       "    .dataframe thead th {\n",
       "        text-align: right;\n",
       "    }\n",
       "</style>\n",
       "<table border=\"1\" class=\"dataframe\">\n",
       "  <thead>\n",
       "    <tr style=\"text-align: right;\">\n",
       "      <th></th>\n",
       "      <th>datetime</th>\n",
       "      <th>mean__monthly__sea_surface_wave_significant_height</th>\n",
       "      <th>location</th>\n",
       "    </tr>\n",
       "  </thead>\n",
       "  <tbody>\n",
       "    <tr>\n",
       "      <th>0</th>\n",
       "      <td>2002-01-31 00:00:00+00:00</td>\n",
       "      <td>1.841497</td>\n",
       "      <td>Buoy_M2</td>\n",
       "    </tr>\n",
       "    <tr>\n",
       "      <th>1</th>\n",
       "      <td>2002-02-28 00:00:00+00:00</td>\n",
       "      <td>1.981915</td>\n",
       "      <td>Buoy_M2</td>\n",
       "    </tr>\n",
       "    <tr>\n",
       "      <th>2</th>\n",
       "      <td>2002-03-31 00:00:00+00:00</td>\n",
       "      <td>1.339107</td>\n",
       "      <td>Buoy_M2</td>\n",
       "    </tr>\n",
       "    <tr>\n",
       "      <th>3</th>\n",
       "      <td>2002-04-30 00:00:00+00:00</td>\n",
       "      <td>1.245480</td>\n",
       "      <td>Buoy_M2</td>\n",
       "    </tr>\n",
       "    <tr>\n",
       "      <th>4</th>\n",
       "      <td>2002-05-31 00:00:00+00:00</td>\n",
       "      <td>1.209447</td>\n",
       "      <td>Buoy_M2</td>\n",
       "    </tr>\n",
       "    <tr>\n",
       "      <th>...</th>\n",
       "      <td>...</td>\n",
       "      <td>...</td>\n",
       "      <td>...</td>\n",
       "    </tr>\n",
       "    <tr>\n",
       "      <th>193</th>\n",
       "      <td>2018-08-31 00:00:00+00:00</td>\n",
       "      <td>2.125110</td>\n",
       "      <td>Buoy_M3</td>\n",
       "    </tr>\n",
       "    <tr>\n",
       "      <th>194</th>\n",
       "      <td>2018-09-30 00:00:00+00:00</td>\n",
       "      <td>2.541330</td>\n",
       "      <td>Buoy_M3</td>\n",
       "    </tr>\n",
       "    <tr>\n",
       "      <th>195</th>\n",
       "      <td>2018-10-31 00:00:00+00:00</td>\n",
       "      <td>3.115716</td>\n",
       "      <td>Buoy_M3</td>\n",
       "    </tr>\n",
       "    <tr>\n",
       "      <th>196</th>\n",
       "      <td>2018-11-30 00:00:00+00:00</td>\n",
       "      <td>4.216892</td>\n",
       "      <td>Buoy_M3</td>\n",
       "    </tr>\n",
       "    <tr>\n",
       "      <th>197</th>\n",
       "      <td>2018-12-31 00:00:00+00:00</td>\n",
       "      <td>4.244409</td>\n",
       "      <td>Buoy_M3</td>\n",
       "    </tr>\n",
       "  </tbody>\n",
       "</table>\n",
       "<p>402 rows × 3 columns</p>\n",
       "</div>"
      ],
      "text/plain": [
       "                     datetime  \\\n",
       "0   2002-01-31 00:00:00+00:00   \n",
       "1   2002-02-28 00:00:00+00:00   \n",
       "2   2002-03-31 00:00:00+00:00   \n",
       "3   2002-04-30 00:00:00+00:00   \n",
       "4   2002-05-31 00:00:00+00:00   \n",
       "..                        ...   \n",
       "193 2018-08-31 00:00:00+00:00   \n",
       "194 2018-09-30 00:00:00+00:00   \n",
       "195 2018-10-31 00:00:00+00:00   \n",
       "196 2018-11-30 00:00:00+00:00   \n",
       "197 2018-12-31 00:00:00+00:00   \n",
       "\n",
       "     mean__monthly__sea_surface_wave_significant_height location  \n",
       "0                                             1.841497   Buoy_M2  \n",
       "1                                             1.981915   Buoy_M2  \n",
       "2                                             1.339107   Buoy_M2  \n",
       "3                                             1.245480   Buoy_M2  \n",
       "4                                             1.209447   Buoy_M2  \n",
       "..                                                 ...       ...  \n",
       "193                                           2.125110   Buoy_M3  \n",
       "194                                           2.541330   Buoy_M3  \n",
       "195                                           3.115716   Buoy_M3  \n",
       "196                                           4.216892   Buoy_M3  \n",
       "197                                           4.244409   Buoy_M3  \n",
       "\n",
       "[402 rows x 3 columns]"
      ]
     },
     "execution_count": 72,
     "metadata": {},
     "output_type": "execute_result"
    }
   ],
   "source": [
    "df\n"
   ]
  },
  {
   "cell_type": "code",
   "execution_count": 75,
   "id": "sacred-magic",
   "metadata": {},
   "outputs": [
    {
     "name": "stdout",
     "output_type": "stream",
     "text": [
      "95 4.330077403414208\n",
      "75 2.6295735900962884\n",
      "50 1.742650231124807\n",
      "25 1.148873239436618\n",
      "5 0.7447525524992615\n",
      "95 1.848626547340247\n",
      "75 1.4679972013743565\n",
      "50 1.1580443180635323\n",
      "25 0.8539891789943962\n",
      "5 0.6697207661290318\n"
     ]
    }
   ],
   "source": [
    "data_path = DATA_PATH+'Oceanic_Domain/3.5SeaState/Figure3.11/'\n",
    "data_csv = data_path + 'Figure3.11_data.csv'\n",
    "df = pd.read_csv(data_csv, index_col=0)\n",
    "df['datetime'] = pd.to_datetime(df['datetime'])\n",
    "df = df[df['mean__monthly__sea_surface_wave_significant_height'].notna()]\n",
    "df_min = df['mean__monthly__sea_surface_wave_significant_height'].min()\n",
    "df_max = df['mean__monthly__sea_surface_wave_significant_height'].max()\n",
    "df['percentile'] = percentile_series(df,'mean__monthly__sea_surface_wave_significant_height')\n",
    "m2_df = df.loc[(df['location'] == 'Buoy_M2')]\n",
    "percentile_series(m2_df,'mean__monthly__sea_surface_wave_significant_height')\n",
    "m3_df = df.loc[(df['location'] == 'Buoy_M3')]\n",
    "# df.to_csv(data_csv)"
   ]
  },
  {
   "cell_type": "code",
   "execution_count": 76,
   "id": "clear-pastor",
   "metadata": {},
   "outputs": [
    {
     "data": {
      "text/plain": [
       "6.016856459330146"
      ]
     },
     "execution_count": 76,
     "metadata": {},
     "output_type": "execute_result"
    }
   ],
   "source": [
    "df_max"
   ]
  },
  {
   "cell_type": "code",
   "execution_count": 77,
   "id": "final-venture",
   "metadata": {},
   "outputs": [
    {
     "data": {
      "application/vnd.plotly.v1+json": {
       "config": {
        "plotlyServerURL": "https://plot.ly"
       },
       "data": [
        {
         "colorbar": {
          "len": 0.9,
          "thickness": 10,
          "tickmode": "array",
          "ticktext": [
           "<b>Min.</b> (0.5)",
           "<b> 5%</b> (0.7)",
           "<b>25%</b> (1.1)",
           "<b>50%</b> (1.8)",
           "<b>75%</b> (2.7)",
           "<b>95%</b> (4.3)"
          ],
          "tickvals": [
           0,
           5,
           24,
           47,
           71,
           90
          ],
          "title": {
           "text": "<b>Percentile</b> (m)"
          }
         },
         "colorscale": [
          [
           0,
           "rgb(98, 55, 155)"
          ],
          [
           0.03493402387307466,
           "rgb(98, 55, 155)"
          ],
          [
           0.03493402387307466,
           "rgb(184, 197, 229)"
          ],
          [
           0.107538276668608,
           "rgb(184, 197, 229)"
          ],
          [
           0.107538276668608,
           "rgb(166, 206, 93)"
          ],
          [
           0.2345957190607913,
           "rgb(166, 206, 93)"
          ],
          [
           0.2345957190607913,
           "rgb(255, 254, 66)"
          ],
          [
           0.379804224651858,
           "rgb(255, 254, 66)"
          ],
          [
           0.379804224651858,
           "rgb(239, 191, 49)"
          ],
          [
           0.6883722990328744,
           "rgb(239, 191, 49)"
          ],
          [
           0.6883722990328744,
           "rgb(219, 32, 1)"
          ],
          [
           1,
           "rgb(219, 32, 1)"
          ]
         ],
         "hovertemplate": "%{x} %{y}<br>Wave Height: %{text:.2f} m<extra></extra>",
         "text": [
          1.841496598639455,
          1.9819148936170228,
          1.3391069012178631,
          1.245479833101529,
          1.2094466936572192,
          1.0786450662739333,
          0.8155586987270157,
          0.7591397849462365,
          0.7573426573426564,
          1.4571819425444594,
          1.7236764705882346,
          1.7142659279778376,
          1.7674581005586592,
          1.472933549432739,
          1.1221538461538456,
          1.0633193863319386,
          1.1703804347826086,
          0.91054852320675,
          0.9331071913161484,
          0.7093575418994419,
          0.8775886524822694,
          1.426132930513596,
          1.6703976435935215,
          1.551057827926654,
          1.6992076069730568,
          1.4077881619937684,
          1.446230440967283,
          1.3638257575757569,
          0.7263843648208473,
          0.9841368584758938,
          0.8353319057815841,
          1.3912305516265917,
          1.6363636363636374,
          1.2392000000000007,
          1.5193600000000016,
          1.9666666666666688,
          1.4369863013698638,
          1.222734254992322,
          1.2416666666666678,
          1.148873239436618,
          0.8142020497803797,
          0.8453030303030307,
          0.7419485791610279,
          1.141258741258743,
          1.4763736263736278,
          1.5378303198887309,
          1.3451962110960778,
          1.388709677419356,
          1.376853252647504,
          1.6465829846582958,
          1.0014842300556577,
          1.07916083916084,
          0.6186111111111103,
          0.6504065040650403,
          0.8793010752688166,
          1.1439944134078226,
          1.4545454545454544,
          1.692378048780484,
          1.9001344086021488,
          1.3584454409566509,
          1.4237449118046157,
          0.7421787709497203,
          0.9449728260869568,
          0.9078571428571438,
          0.8888423988842389,
          0.925584594222832,
          0.983309957924265,
          0.9031593406593412,
          1.3192957746478864,
          1.794109589041098,
          1.8313286713286727,
          1.4198224852071033,
          1.5551440329218122,
          1.1236363636363644,
          0.7874095513748213,
          0.8415451895043727,
          0.8568845618915181,
          1.0053061224489812,
          1.059747545582045,
          1.6452091767881285,
          1.413744740532962,
          1.2041666666666675,
          1.657517241379315,
          1.4467889447236164,
          2.0065114068441074,
          1.529892473118282,
          1.4365253077975375,
          1.0169642857142889,
          0.979611650485438,
          0.7909859154929609,
          0.7433423913043494,
          0.6190760059612535,
          0.8677914110429447,
          0.8134146341463424,
          0.955972696245735,
          1.3565911047345791,
          1.5771865793780626,
          1.1179999999999994,
          0.6785907230559326,
          0.7977957446808477,
          1.2365047748976803,
          0.8033374999999986,
          0.6563749999999987,
          0.7503931972789099,
          1.3011792318634396,
          1.44275,
          1.742650231124807,
          1.7993580080753735,
          1.4663517520215623,
          0.7811818181818182,
          0.9128684210526316,
          1.204876230661041,
          0.780983739837398,
          0.9618122392211372,
          0.8002178619756406,
          1.0125907859078564,
          1.1548125874125852,
          1.1900685483870972,
          1.4650417246175234,
          1.436232142857139,
          0.6233095238095239,
          0.9084693295292416,
          1.3968692722371938,
          1.169150280898876,
          2.065547908232125,
          1.7327989203778715,
          2.5,
          0.507537313432836,
          1.0218770491803268,
          0.5332651515151513,
          1.5109004037685057,
          1.364923076923076,
          1.5127618403247634,
          1.8382523744911816,
          1.2559354354354362,
          1.3323748290013682,
          0.7931904090267977,
          1.039227027027026,
          0.8199331476323118,
          0.8620283783783775,
          0.7755363881401601,
          0.8056039051603899,
          0.9497647849462364,
          1.6509554317548736,
          2.371693548387098,
          1.7606625172890762,
          1.5387171717171717,
          1.125982432432428,
          1.1134055555555524,
          0.8099607577807826,
          0.6075702364394981,
          0.7265793871866268,
          0.7684272108843518,
          1.1338282122905006,
          1.0490994236311189,
          1.5286917562724007,
          1.2811388140161728,
          1.6342820895522383,
          1.1612760487144795,
          0.7613189415041774,
          0.772751344086021,
          0.9854291666666656,
          0.6741693548387094,
          0.835444892473118,
          1.1627273991655054,
          1.4960805194805191,
          1.8407320574162656,
          1.3927207334273644,
          2.0598181818181818,
          1.8700163934426235,
          1.5684358620689678,
          1.0816977715877412,
          0.785029972752042,
          0.5158000000000003,
          0.7319047619047618,
          1.1060888888888882
         ],
         "type": "heatmap",
         "x": [
          1,
          2,
          3,
          4,
          5,
          6,
          7,
          8,
          9,
          10,
          11,
          12,
          1,
          2,
          3,
          4,
          5,
          6,
          7,
          8,
          9,
          10,
          11,
          12,
          1,
          2,
          3,
          4,
          5,
          6,
          7,
          9,
          10,
          11,
          12,
          1,
          2,
          3,
          4,
          5,
          6,
          7,
          8,
          9,
          10,
          11,
          12,
          1,
          2,
          3,
          4,
          5,
          6,
          7,
          8,
          9,
          10,
          12,
          1,
          2,
          3,
          4,
          5,
          6,
          7,
          8,
          9,
          10,
          11,
          12,
          1,
          2,
          3,
          4,
          5,
          6,
          7,
          8,
          9,
          10,
          11,
          12,
          1,
          10,
          11,
          12,
          1,
          2,
          3,
          4,
          5,
          6,
          7,
          8,
          9,
          10,
          11,
          2,
          3,
          4,
          5,
          6,
          7,
          8,
          9,
          10,
          11,
          12,
          1,
          2,
          3,
          4,
          5,
          6,
          7,
          8,
          9,
          10,
          11,
          12,
          8,
          9,
          10,
          11,
          12,
          1,
          2,
          7,
          8,
          9,
          10,
          11,
          12,
          1,
          2,
          3,
          4,
          5,
          6,
          7,
          8,
          9,
          10,
          11,
          12,
          1,
          2,
          3,
          4,
          5,
          6,
          7,
          8,
          9,
          10,
          12,
          1,
          2,
          3,
          4,
          5,
          6,
          7,
          8,
          9,
          10,
          11,
          12,
          1,
          2,
          3,
          4,
          5,
          6,
          9,
          10
         ],
         "y": [
          2002,
          2002,
          2002,
          2002,
          2002,
          2002,
          2002,
          2002,
          2002,
          2002,
          2002,
          2002,
          2003,
          2003,
          2003,
          2003,
          2003,
          2003,
          2003,
          2003,
          2003,
          2003,
          2003,
          2003,
          2004,
          2004,
          2004,
          2004,
          2004,
          2004,
          2004,
          2004,
          2004,
          2004,
          2004,
          2005,
          2005,
          2005,
          2005,
          2005,
          2005,
          2005,
          2005,
          2005,
          2005,
          2005,
          2005,
          2006,
          2006,
          2006,
          2006,
          2006,
          2006,
          2006,
          2006,
          2006,
          2006,
          2006,
          2007,
          2007,
          2007,
          2007,
          2007,
          2007,
          2007,
          2007,
          2007,
          2007,
          2007,
          2007,
          2008,
          2008,
          2008,
          2008,
          2008,
          2008,
          2008,
          2008,
          2008,
          2008,
          2008,
          2008,
          2009,
          2009,
          2009,
          2009,
          2010,
          2010,
          2010,
          2010,
          2010,
          2010,
          2010,
          2010,
          2010,
          2010,
          2010,
          2011,
          2011,
          2011,
          2011,
          2011,
          2011,
          2011,
          2011,
          2011,
          2011,
          2011,
          2012,
          2012,
          2012,
          2012,
          2012,
          2012,
          2012,
          2012,
          2012,
          2012,
          2012,
          2012,
          2013,
          2013,
          2013,
          2013,
          2013,
          2014,
          2014,
          2014,
          2014,
          2014,
          2014,
          2014,
          2014,
          2015,
          2015,
          2015,
          2015,
          2015,
          2015,
          2015,
          2015,
          2015,
          2015,
          2015,
          2015,
          2016,
          2016,
          2016,
          2016,
          2016,
          2016,
          2016,
          2016,
          2016,
          2016,
          2016,
          2017,
          2017,
          2017,
          2017,
          2017,
          2017,
          2017,
          2017,
          2017,
          2017,
          2017,
          2017,
          2018,
          2018,
          2018,
          2018,
          2018,
          2018,
          2018,
          2018
         ],
         "z": [
          1.841496598639455,
          1.9819148936170228,
          1.3391069012178631,
          1.245479833101529,
          1.2094466936572192,
          1.0786450662739333,
          0.8155586987270157,
          0.7591397849462365,
          0.7573426573426564,
          1.4571819425444594,
          1.7236764705882346,
          1.7142659279778376,
          1.7674581005586592,
          1.472933549432739,
          1.1221538461538456,
          1.0633193863319386,
          1.1703804347826086,
          0.91054852320675,
          0.9331071913161484,
          0.7093575418994419,
          0.8775886524822694,
          1.426132930513596,
          1.6703976435935215,
          1.551057827926654,
          1.6992076069730568,
          1.4077881619937684,
          1.446230440967283,
          1.3638257575757569,
          0.7263843648208473,
          0.9841368584758938,
          0.8353319057815841,
          1.3912305516265917,
          1.6363636363636374,
          1.2392000000000007,
          1.5193600000000016,
          1.9666666666666688,
          1.4369863013698638,
          1.222734254992322,
          1.2416666666666678,
          1.148873239436618,
          0.8142020497803797,
          0.8453030303030307,
          0.7419485791610279,
          1.141258741258743,
          1.4763736263736278,
          1.5378303198887309,
          1.3451962110960778,
          1.388709677419356,
          1.376853252647504,
          1.6465829846582958,
          1.0014842300556577,
          1.07916083916084,
          0.6186111111111103,
          0.6504065040650403,
          0.8793010752688166,
          1.1439944134078226,
          1.4545454545454544,
          1.692378048780484,
          1.9001344086021488,
          1.3584454409566509,
          1.4237449118046157,
          0.7421787709497203,
          0.9449728260869568,
          0.9078571428571438,
          0.8888423988842389,
          0.925584594222832,
          0.983309957924265,
          0.9031593406593412,
          1.3192957746478864,
          1.794109589041098,
          1.8313286713286727,
          1.4198224852071033,
          1.5551440329218122,
          1.1236363636363644,
          0.7874095513748213,
          0.8415451895043727,
          0.8568845618915181,
          1.0053061224489812,
          1.059747545582045,
          1.6452091767881285,
          1.413744740532962,
          1.2041666666666675,
          1.657517241379315,
          1.4467889447236164,
          2.0065114068441074,
          1.529892473118282,
          1.4365253077975375,
          1.0169642857142889,
          0.979611650485438,
          0.7909859154929609,
          0.7433423913043494,
          0.6190760059612535,
          0.8677914110429447,
          0.8134146341463424,
          0.955972696245735,
          1.3565911047345791,
          1.5771865793780626,
          1.1179999999999994,
          0.6785907230559326,
          0.7977957446808477,
          1.2365047748976803,
          0.8033374999999986,
          0.6563749999999987,
          0.7503931972789099,
          1.3011792318634396,
          1.44275,
          1.742650231124807,
          1.7993580080753735,
          1.4663517520215623,
          0.7811818181818182,
          0.9128684210526316,
          1.204876230661041,
          0.780983739837398,
          0.9618122392211372,
          0.8002178619756406,
          1.0125907859078564,
          1.1548125874125852,
          1.1900685483870972,
          1.4650417246175234,
          1.436232142857139,
          0.6233095238095239,
          0.9084693295292416,
          1.3968692722371938,
          1.169150280898876,
          2.065547908232125,
          1.7327989203778715,
          2.5,
          0.507537313432836,
          1.0218770491803268,
          0.5332651515151513,
          1.5109004037685057,
          1.364923076923076,
          1.5127618403247634,
          1.8382523744911816,
          1.2559354354354362,
          1.3323748290013682,
          0.7931904090267977,
          1.039227027027026,
          0.8199331476323118,
          0.8620283783783775,
          0.7755363881401601,
          0.8056039051603899,
          0.9497647849462364,
          1.6509554317548736,
          2.371693548387098,
          1.7606625172890762,
          1.5387171717171717,
          1.125982432432428,
          1.1134055555555524,
          0.8099607577807826,
          0.6075702364394981,
          0.7265793871866268,
          0.7684272108843518,
          1.1338282122905006,
          1.0490994236311189,
          1.5286917562724007,
          1.2811388140161728,
          1.6342820895522383,
          1.1612760487144795,
          0.7613189415041774,
          0.772751344086021,
          0.9854291666666656,
          0.6741693548387094,
          0.835444892473118,
          1.1627273991655054,
          1.4960805194805191,
          1.8407320574162656,
          1.3927207334273644,
          2.0598181818181818,
          1.8700163934426235,
          1.5684358620689678,
          1.0816977715877412,
          0.785029972752042,
          0.5158000000000003,
          0.7319047619047618,
          1.1060888888888882
         ],
         "zmax": 6.016856459330146,
         "zmin": 0.507537313432836
        }
       ],
       "layout": {
        "font": {
         "color": "#7f7f7f"
        },
        "height": 450,
        "hovermode": "closest",
        "legend": {
         "bgcolor": "rgba(0,0,0,0)",
         "itemclick": false,
         "itemdoubleclick": false,
         "orientation": "h"
        },
        "margin": {
         "b": 0,
         "l": 0,
         "r": 0,
         "t": 0
        },
        "paper_bgcolor": "rgba(0,0,0,0)",
        "plot_bgcolor": "#f7fbfd",
        "shapes": [
         {
          "line": {
           "color": "White",
           "width": 3
          },
          "type": "line",
          "x0": 1.5,
          "x1": 1.5,
          "y0": 2001.5,
          "y1": 2019
         },
         {
          "line": {
           "color": "White",
           "width": 3
          },
          "type": "line",
          "x0": 2.5,
          "x1": 2.5,
          "y0": 2001.5,
          "y1": 2019
         },
         {
          "line": {
           "color": "White",
           "width": 3
          },
          "type": "line",
          "x0": 3.5,
          "x1": 3.5,
          "y0": 2001.5,
          "y1": 2019
         },
         {
          "line": {
           "color": "White",
           "width": 3
          },
          "type": "line",
          "x0": 4.5,
          "x1": 4.5,
          "y0": 2001.5,
          "y1": 2019
         },
         {
          "line": {
           "color": "White",
           "width": 3
          },
          "type": "line",
          "x0": 5.5,
          "x1": 5.5,
          "y0": 2001.5,
          "y1": 2019
         },
         {
          "line": {
           "color": "White",
           "width": 3
          },
          "type": "line",
          "x0": 6.5,
          "x1": 6.5,
          "y0": 2001.5,
          "y1": 2019
         },
         {
          "line": {
           "color": "White",
           "width": 3
          },
          "type": "line",
          "x0": 7.5,
          "x1": 7.5,
          "y0": 2001.5,
          "y1": 2019
         },
         {
          "line": {
           "color": "White",
           "width": 3
          },
          "type": "line",
          "x0": 8.5,
          "x1": 8.5,
          "y0": 2001.5,
          "y1": 2019
         },
         {
          "line": {
           "color": "White",
           "width": 3
          },
          "type": "line",
          "x0": 9.5,
          "x1": 9.5,
          "y0": 2001.5,
          "y1": 2019
         },
         {
          "line": {
           "color": "White",
           "width": 3
          },
          "type": "line",
          "x0": 10.5,
          "x1": 10.5,
          "y0": 2001.5,
          "y1": 2019
         },
         {
          "line": {
           "color": "White",
           "width": 3
          },
          "type": "line",
          "x0": 11.5,
          "x1": 11.5,
          "y0": 2001.5,
          "y1": 2019
         }
        ],
        "template": {
         "data": {
          "bar": [
           {
            "error_x": {
             "color": "#2a3f5f"
            },
            "error_y": {
             "color": "#2a3f5f"
            },
            "marker": {
             "line": {
              "color": "#E5ECF6",
              "width": 0.5
             }
            },
            "type": "bar"
           }
          ],
          "barpolar": [
           {
            "marker": {
             "line": {
              "color": "#E5ECF6",
              "width": 0.5
             }
            },
            "type": "barpolar"
           }
          ],
          "carpet": [
           {
            "aaxis": {
             "endlinecolor": "#2a3f5f",
             "gridcolor": "white",
             "linecolor": "white",
             "minorgridcolor": "white",
             "startlinecolor": "#2a3f5f"
            },
            "baxis": {
             "endlinecolor": "#2a3f5f",
             "gridcolor": "white",
             "linecolor": "white",
             "minorgridcolor": "white",
             "startlinecolor": "#2a3f5f"
            },
            "type": "carpet"
           }
          ],
          "choropleth": [
           {
            "colorbar": {
             "outlinewidth": 0,
             "ticks": ""
            },
            "type": "choropleth"
           }
          ],
          "contour": [
           {
            "colorbar": {
             "outlinewidth": 0,
             "ticks": ""
            },
            "colorscale": [
             [
              0,
              "#0d0887"
             ],
             [
              0.1111111111111111,
              "#46039f"
             ],
             [
              0.2222222222222222,
              "#7201a8"
             ],
             [
              0.3333333333333333,
              "#9c179e"
             ],
             [
              0.4444444444444444,
              "#bd3786"
             ],
             [
              0.5555555555555556,
              "#d8576b"
             ],
             [
              0.6666666666666666,
              "#ed7953"
             ],
             [
              0.7777777777777778,
              "#fb9f3a"
             ],
             [
              0.8888888888888888,
              "#fdca26"
             ],
             [
              1,
              "#f0f921"
             ]
            ],
            "type": "contour"
           }
          ],
          "contourcarpet": [
           {
            "colorbar": {
             "outlinewidth": 0,
             "ticks": ""
            },
            "type": "contourcarpet"
           }
          ],
          "heatmap": [
           {
            "colorbar": {
             "outlinewidth": 0,
             "ticks": ""
            },
            "colorscale": [
             [
              0,
              "#0d0887"
             ],
             [
              0.1111111111111111,
              "#46039f"
             ],
             [
              0.2222222222222222,
              "#7201a8"
             ],
             [
              0.3333333333333333,
              "#9c179e"
             ],
             [
              0.4444444444444444,
              "#bd3786"
             ],
             [
              0.5555555555555556,
              "#d8576b"
             ],
             [
              0.6666666666666666,
              "#ed7953"
             ],
             [
              0.7777777777777778,
              "#fb9f3a"
             ],
             [
              0.8888888888888888,
              "#fdca26"
             ],
             [
              1,
              "#f0f921"
             ]
            ],
            "type": "heatmap"
           }
          ],
          "heatmapgl": [
           {
            "colorbar": {
             "outlinewidth": 0,
             "ticks": ""
            },
            "colorscale": [
             [
              0,
              "#0d0887"
             ],
             [
              0.1111111111111111,
              "#46039f"
             ],
             [
              0.2222222222222222,
              "#7201a8"
             ],
             [
              0.3333333333333333,
              "#9c179e"
             ],
             [
              0.4444444444444444,
              "#bd3786"
             ],
             [
              0.5555555555555556,
              "#d8576b"
             ],
             [
              0.6666666666666666,
              "#ed7953"
             ],
             [
              0.7777777777777778,
              "#fb9f3a"
             ],
             [
              0.8888888888888888,
              "#fdca26"
             ],
             [
              1,
              "#f0f921"
             ]
            ],
            "type": "heatmapgl"
           }
          ],
          "histogram": [
           {
            "marker": {
             "colorbar": {
              "outlinewidth": 0,
              "ticks": ""
             }
            },
            "type": "histogram"
           }
          ],
          "histogram2d": [
           {
            "colorbar": {
             "outlinewidth": 0,
             "ticks": ""
            },
            "colorscale": [
             [
              0,
              "#0d0887"
             ],
             [
              0.1111111111111111,
              "#46039f"
             ],
             [
              0.2222222222222222,
              "#7201a8"
             ],
             [
              0.3333333333333333,
              "#9c179e"
             ],
             [
              0.4444444444444444,
              "#bd3786"
             ],
             [
              0.5555555555555556,
              "#d8576b"
             ],
             [
              0.6666666666666666,
              "#ed7953"
             ],
             [
              0.7777777777777778,
              "#fb9f3a"
             ],
             [
              0.8888888888888888,
              "#fdca26"
             ],
             [
              1,
              "#f0f921"
             ]
            ],
            "type": "histogram2d"
           }
          ],
          "histogram2dcontour": [
           {
            "colorbar": {
             "outlinewidth": 0,
             "ticks": ""
            },
            "colorscale": [
             [
              0,
              "#0d0887"
             ],
             [
              0.1111111111111111,
              "#46039f"
             ],
             [
              0.2222222222222222,
              "#7201a8"
             ],
             [
              0.3333333333333333,
              "#9c179e"
             ],
             [
              0.4444444444444444,
              "#bd3786"
             ],
             [
              0.5555555555555556,
              "#d8576b"
             ],
             [
              0.6666666666666666,
              "#ed7953"
             ],
             [
              0.7777777777777778,
              "#fb9f3a"
             ],
             [
              0.8888888888888888,
              "#fdca26"
             ],
             [
              1,
              "#f0f921"
             ]
            ],
            "type": "histogram2dcontour"
           }
          ],
          "mesh3d": [
           {
            "colorbar": {
             "outlinewidth": 0,
             "ticks": ""
            },
            "type": "mesh3d"
           }
          ],
          "parcoords": [
           {
            "line": {
             "colorbar": {
              "outlinewidth": 0,
              "ticks": ""
             }
            },
            "type": "parcoords"
           }
          ],
          "pie": [
           {
            "automargin": true,
            "type": "pie"
           }
          ],
          "scatter": [
           {
            "marker": {
             "colorbar": {
              "outlinewidth": 0,
              "ticks": ""
             }
            },
            "type": "scatter"
           }
          ],
          "scatter3d": [
           {
            "line": {
             "colorbar": {
              "outlinewidth": 0,
              "ticks": ""
             }
            },
            "marker": {
             "colorbar": {
              "outlinewidth": 0,
              "ticks": ""
             }
            },
            "type": "scatter3d"
           }
          ],
          "scattercarpet": [
           {
            "marker": {
             "colorbar": {
              "outlinewidth": 0,
              "ticks": ""
             }
            },
            "type": "scattercarpet"
           }
          ],
          "scattergeo": [
           {
            "marker": {
             "colorbar": {
              "outlinewidth": 0,
              "ticks": ""
             }
            },
            "type": "scattergeo"
           }
          ],
          "scattergl": [
           {
            "marker": {
             "colorbar": {
              "outlinewidth": 0,
              "ticks": ""
             }
            },
            "type": "scattergl"
           }
          ],
          "scattermapbox": [
           {
            "marker": {
             "colorbar": {
              "outlinewidth": 0,
              "ticks": ""
             }
            },
            "type": "scattermapbox"
           }
          ],
          "scatterpolar": [
           {
            "marker": {
             "colorbar": {
              "outlinewidth": 0,
              "ticks": ""
             }
            },
            "type": "scatterpolar"
           }
          ],
          "scatterpolargl": [
           {
            "marker": {
             "colorbar": {
              "outlinewidth": 0,
              "ticks": ""
             }
            },
            "type": "scatterpolargl"
           }
          ],
          "scatterternary": [
           {
            "marker": {
             "colorbar": {
              "outlinewidth": 0,
              "ticks": ""
             }
            },
            "type": "scatterternary"
           }
          ],
          "surface": [
           {
            "colorbar": {
             "outlinewidth": 0,
             "ticks": ""
            },
            "colorscale": [
             [
              0,
              "#0d0887"
             ],
             [
              0.1111111111111111,
              "#46039f"
             ],
             [
              0.2222222222222222,
              "#7201a8"
             ],
             [
              0.3333333333333333,
              "#9c179e"
             ],
             [
              0.4444444444444444,
              "#bd3786"
             ],
             [
              0.5555555555555556,
              "#d8576b"
             ],
             [
              0.6666666666666666,
              "#ed7953"
             ],
             [
              0.7777777777777778,
              "#fb9f3a"
             ],
             [
              0.8888888888888888,
              "#fdca26"
             ],
             [
              1,
              "#f0f921"
             ]
            ],
            "type": "surface"
           }
          ],
          "table": [
           {
            "cells": {
             "fill": {
              "color": "#EBF0F8"
             },
             "line": {
              "color": "white"
             }
            },
            "header": {
             "fill": {
              "color": "#C8D4E3"
             },
             "line": {
              "color": "white"
             }
            },
            "type": "table"
           }
          ]
         },
         "layout": {
          "annotationdefaults": {
           "arrowcolor": "#2a3f5f",
           "arrowhead": 0,
           "arrowwidth": 1
          },
          "autotypenumbers": "strict",
          "coloraxis": {
           "colorbar": {
            "outlinewidth": 0,
            "ticks": ""
           }
          },
          "colorscale": {
           "diverging": [
            [
             0,
             "#8e0152"
            ],
            [
             0.1,
             "#c51b7d"
            ],
            [
             0.2,
             "#de77ae"
            ],
            [
             0.3,
             "#f1b6da"
            ],
            [
             0.4,
             "#fde0ef"
            ],
            [
             0.5,
             "#f7f7f7"
            ],
            [
             0.6,
             "#e6f5d0"
            ],
            [
             0.7,
             "#b8e186"
            ],
            [
             0.8,
             "#7fbc41"
            ],
            [
             0.9,
             "#4d9221"
            ],
            [
             1,
             "#276419"
            ]
           ],
           "sequential": [
            [
             0,
             "#0d0887"
            ],
            [
             0.1111111111111111,
             "#46039f"
            ],
            [
             0.2222222222222222,
             "#7201a8"
            ],
            [
             0.3333333333333333,
             "#9c179e"
            ],
            [
             0.4444444444444444,
             "#bd3786"
            ],
            [
             0.5555555555555556,
             "#d8576b"
            ],
            [
             0.6666666666666666,
             "#ed7953"
            ],
            [
             0.7777777777777778,
             "#fb9f3a"
            ],
            [
             0.8888888888888888,
             "#fdca26"
            ],
            [
             1,
             "#f0f921"
            ]
           ],
           "sequentialminus": [
            [
             0,
             "#0d0887"
            ],
            [
             0.1111111111111111,
             "#46039f"
            ],
            [
             0.2222222222222222,
             "#7201a8"
            ],
            [
             0.3333333333333333,
             "#9c179e"
            ],
            [
             0.4444444444444444,
             "#bd3786"
            ],
            [
             0.5555555555555556,
             "#d8576b"
            ],
            [
             0.6666666666666666,
             "#ed7953"
            ],
            [
             0.7777777777777778,
             "#fb9f3a"
            ],
            [
             0.8888888888888888,
             "#fdca26"
            ],
            [
             1,
             "#f0f921"
            ]
           ]
          },
          "colorway": [
           "#636efa",
           "#EF553B",
           "#00cc96",
           "#ab63fa",
           "#FFA15A",
           "#19d3f3",
           "#FF6692",
           "#B6E880",
           "#FF97FF",
           "#FECB52"
          ],
          "font": {
           "color": "#2a3f5f"
          },
          "geo": {
           "bgcolor": "white",
           "lakecolor": "white",
           "landcolor": "#E5ECF6",
           "showlakes": true,
           "showland": true,
           "subunitcolor": "white"
          },
          "hoverlabel": {
           "align": "left"
          },
          "hovermode": "closest",
          "mapbox": {
           "style": "light"
          },
          "paper_bgcolor": "white",
          "plot_bgcolor": "#E5ECF6",
          "polar": {
           "angularaxis": {
            "gridcolor": "white",
            "linecolor": "white",
            "ticks": ""
           },
           "bgcolor": "#E5ECF6",
           "radialaxis": {
            "gridcolor": "white",
            "linecolor": "white",
            "ticks": ""
           }
          },
          "scene": {
           "xaxis": {
            "backgroundcolor": "#E5ECF6",
            "gridcolor": "white",
            "gridwidth": 2,
            "linecolor": "white",
            "showbackground": true,
            "ticks": "",
            "zerolinecolor": "white"
           },
           "yaxis": {
            "backgroundcolor": "#E5ECF6",
            "gridcolor": "white",
            "gridwidth": 2,
            "linecolor": "white",
            "showbackground": true,
            "ticks": "",
            "zerolinecolor": "white"
           },
           "zaxis": {
            "backgroundcolor": "#E5ECF6",
            "gridcolor": "white",
            "gridwidth": 2,
            "linecolor": "white",
            "showbackground": true,
            "ticks": "",
            "zerolinecolor": "white"
           }
          },
          "shapedefaults": {
           "line": {
            "color": "#2a3f5f"
           }
          },
          "ternary": {
           "aaxis": {
            "gridcolor": "white",
            "linecolor": "white",
            "ticks": ""
           },
           "baxis": {
            "gridcolor": "white",
            "linecolor": "white",
            "ticks": ""
           },
           "bgcolor": "#E5ECF6",
           "caxis": {
            "gridcolor": "white",
            "linecolor": "white",
            "ticks": ""
           }
          },
          "title": {
           "x": 0.05
          },
          "xaxis": {
           "automargin": true,
           "gridcolor": "white",
           "linecolor": "white",
           "ticks": "",
           "title": {
            "standoff": 15
           },
           "zerolinecolor": "white",
           "zerolinewidth": 2
          },
          "yaxis": {
           "automargin": true,
           "gridcolor": "white",
           "linecolor": "white",
           "ticks": "",
           "title": {
            "standoff": 15
           },
           "zerolinecolor": "white",
           "zerolinewidth": 2
          }
         }
        },
        "xaxis": {
         "fixedrange": true,
         "showgrid": false,
         "ticktext": [
          "Jan",
          "Feb",
          "Mar",
          "Apr",
          "May",
          "June",
          "July",
          "Aug",
          "Sep",
          "Oct",
          "Nov",
          "Dec"
         ],
         "tickvals": [
          1,
          2,
          3,
          4,
          5,
          6,
          7,
          8,
          9,
          10,
          11,
          12
         ],
         "title": {
          "text": "Month"
         }
        },
        "yaxis": {
         "fixedrange": true,
         "nticks": 12,
         "title": {
          "text": "Year"
         }
        }
       }
      },
      "text/html": [
       "<div>                            <div id=\"3259729c-34b9-4ce9-8779-8952eecd0dae\" class=\"plotly-graph-div\" style=\"height:450px; width:100%;\"></div>            <script type=\"text/javascript\">                require([\"plotly\"], function(Plotly) {                    window.PLOTLYENV=window.PLOTLYENV || {};                                    if (document.getElementById(\"3259729c-34b9-4ce9-8779-8952eecd0dae\")) {                    Plotly.newPlot(                        \"3259729c-34b9-4ce9-8779-8952eecd0dae\",                        [{\"colorbar\": {\"len\": 0.9, \"thickness\": 10, \"tickmode\": \"array\", \"ticktext\": [\"<b>Min.</b> (0.5)\", \"<b> 5%</b> (0.7)\", \"<b>25%</b> (1.1)\", \"<b>50%</b> (1.8)\", \"<b>75%</b> (2.7)\", \"<b>95%</b> (4.3)\"], \"tickvals\": [0, 5, 24, 47, 71, 90], \"title\": {\"text\": \"<b>Percentile</b> (m)\"}}, \"colorscale\": [[0.0, \"rgb(98, 55, 155)\"], [0.03493402387307466, \"rgb(98, 55, 155)\"], [0.03493402387307466, \"rgb(184, 197, 229)\"], [0.107538276668608, \"rgb(184, 197, 229)\"], [0.107538276668608, \"rgb(166, 206, 93)\"], [0.2345957190607913, \"rgb(166, 206, 93)\"], [0.2345957190607913, \"rgb(255, 254, 66)\"], [0.379804224651858, \"rgb(255, 254, 66)\"], [0.379804224651858, \"rgb(239, 191, 49)\"], [0.6883722990328744, \"rgb(239, 191, 49)\"], [0.6883722990328744, \"rgb(219, 32, 1)\"], [1.0, \"rgb(219, 32, 1)\"]], \"hovertemplate\": \"%{x} %{y}<br>Wave Height: %{text:.2f} m<extra></extra>\", \"text\": [1.841496598639455, 1.9819148936170228, 1.3391069012178631, 1.245479833101529, 1.2094466936572192, 1.0786450662739333, 0.8155586987270157, 0.7591397849462365, 0.7573426573426564, 1.4571819425444594, 1.7236764705882346, 1.7142659279778376, 1.7674581005586592, 1.472933549432739, 1.1221538461538456, 1.0633193863319386, 1.1703804347826086, 0.91054852320675, 0.9331071913161484, 0.7093575418994419, 0.8775886524822694, 1.426132930513596, 1.6703976435935215, 1.551057827926654, 1.6992076069730568, 1.4077881619937684, 1.446230440967283, 1.3638257575757569, 0.7263843648208473, 0.9841368584758938, 0.8353319057815841, 1.3912305516265917, 1.6363636363636374, 1.2392000000000007, 1.5193600000000016, 1.9666666666666688, 1.4369863013698638, 1.222734254992322, 1.2416666666666678, 1.148873239436618, 0.8142020497803797, 0.8453030303030307, 0.7419485791610279, 1.141258741258743, 1.4763736263736278, 1.5378303198887309, 1.3451962110960778, 1.388709677419356, 1.376853252647504, 1.6465829846582958, 1.0014842300556577, 1.07916083916084, 0.6186111111111103, 0.6504065040650403, 0.8793010752688166, 1.1439944134078226, 1.4545454545454544, 1.692378048780484, 1.9001344086021488, 1.3584454409566509, 1.4237449118046157, 0.7421787709497203, 0.9449728260869568, 0.9078571428571438, 0.8888423988842389, 0.925584594222832, 0.983309957924265, 0.9031593406593412, 1.3192957746478864, 1.794109589041098, 1.8313286713286727, 1.4198224852071033, 1.5551440329218122, 1.1236363636363644, 0.7874095513748213, 0.8415451895043727, 0.8568845618915181, 1.0053061224489812, 1.059747545582045, 1.6452091767881285, 1.413744740532962, 1.2041666666666675, 1.657517241379315, 1.4467889447236164, 2.0065114068441074, 1.529892473118282, 1.4365253077975375, 1.0169642857142889, 0.979611650485438, 0.7909859154929609, 0.7433423913043494, 0.6190760059612535, 0.8677914110429447, 0.8134146341463424, 0.955972696245735, 1.3565911047345791, 1.5771865793780626, 1.1179999999999994, 0.6785907230559326, 0.7977957446808477, 1.2365047748976803, 0.8033374999999986, 0.6563749999999987, 0.7503931972789099, 1.3011792318634396, 1.44275, 1.742650231124807, 1.7993580080753735, 1.4663517520215623, 0.7811818181818182, 0.9128684210526316, 1.204876230661041, 0.780983739837398, 0.9618122392211372, 0.8002178619756406, 1.0125907859078564, 1.1548125874125852, 1.1900685483870972, 1.4650417246175234, 1.436232142857139, 0.6233095238095239, 0.9084693295292416, 1.3968692722371938, 1.169150280898876, 2.065547908232125, 1.7327989203778715, 2.5, 0.507537313432836, 1.0218770491803268, 0.5332651515151513, 1.5109004037685057, 1.364923076923076, 1.5127618403247634, 1.8382523744911816, 1.2559354354354362, 1.3323748290013682, 0.7931904090267977, 1.039227027027026, 0.8199331476323118, 0.8620283783783775, 0.7755363881401601, 0.8056039051603899, 0.9497647849462364, 1.6509554317548736, 2.371693548387098, 1.7606625172890762, 1.5387171717171717, 1.125982432432428, 1.1134055555555524, 0.8099607577807826, 0.6075702364394981, 0.7265793871866268, 0.7684272108843518, 1.1338282122905006, 1.0490994236311189, 1.5286917562724007, 1.2811388140161728, 1.6342820895522383, 1.1612760487144795, 0.7613189415041774, 0.772751344086021, 0.9854291666666656, 0.6741693548387094, 0.835444892473118, 1.1627273991655054, 1.4960805194805191, 1.8407320574162656, 1.3927207334273644, 2.0598181818181818, 1.8700163934426235, 1.5684358620689678, 1.0816977715877412, 0.785029972752042, 0.5158000000000003, 0.7319047619047618, 1.1060888888888882], \"type\": \"heatmap\", \"x\": [1, 2, 3, 4, 5, 6, 7, 8, 9, 10, 11, 12, 1, 2, 3, 4, 5, 6, 7, 8, 9, 10, 11, 12, 1, 2, 3, 4, 5, 6, 7, 9, 10, 11, 12, 1, 2, 3, 4, 5, 6, 7, 8, 9, 10, 11, 12, 1, 2, 3, 4, 5, 6, 7, 8, 9, 10, 12, 1, 2, 3, 4, 5, 6, 7, 8, 9, 10, 11, 12, 1, 2, 3, 4, 5, 6, 7, 8, 9, 10, 11, 12, 1, 10, 11, 12, 1, 2, 3, 4, 5, 6, 7, 8, 9, 10, 11, 2, 3, 4, 5, 6, 7, 8, 9, 10, 11, 12, 1, 2, 3, 4, 5, 6, 7, 8, 9, 10, 11, 12, 8, 9, 10, 11, 12, 1, 2, 7, 8, 9, 10, 11, 12, 1, 2, 3, 4, 5, 6, 7, 8, 9, 10, 11, 12, 1, 2, 3, 4, 5, 6, 7, 8, 9, 10, 12, 1, 2, 3, 4, 5, 6, 7, 8, 9, 10, 11, 12, 1, 2, 3, 4, 5, 6, 9, 10], \"y\": [2002, 2002, 2002, 2002, 2002, 2002, 2002, 2002, 2002, 2002, 2002, 2002, 2003, 2003, 2003, 2003, 2003, 2003, 2003, 2003, 2003, 2003, 2003, 2003, 2004, 2004, 2004, 2004, 2004, 2004, 2004, 2004, 2004, 2004, 2004, 2005, 2005, 2005, 2005, 2005, 2005, 2005, 2005, 2005, 2005, 2005, 2005, 2006, 2006, 2006, 2006, 2006, 2006, 2006, 2006, 2006, 2006, 2006, 2007, 2007, 2007, 2007, 2007, 2007, 2007, 2007, 2007, 2007, 2007, 2007, 2008, 2008, 2008, 2008, 2008, 2008, 2008, 2008, 2008, 2008, 2008, 2008, 2009, 2009, 2009, 2009, 2010, 2010, 2010, 2010, 2010, 2010, 2010, 2010, 2010, 2010, 2010, 2011, 2011, 2011, 2011, 2011, 2011, 2011, 2011, 2011, 2011, 2011, 2012, 2012, 2012, 2012, 2012, 2012, 2012, 2012, 2012, 2012, 2012, 2012, 2013, 2013, 2013, 2013, 2013, 2014, 2014, 2014, 2014, 2014, 2014, 2014, 2014, 2015, 2015, 2015, 2015, 2015, 2015, 2015, 2015, 2015, 2015, 2015, 2015, 2016, 2016, 2016, 2016, 2016, 2016, 2016, 2016, 2016, 2016, 2016, 2017, 2017, 2017, 2017, 2017, 2017, 2017, 2017, 2017, 2017, 2017, 2017, 2018, 2018, 2018, 2018, 2018, 2018, 2018, 2018], \"z\": [1.841496598639455, 1.9819148936170228, 1.3391069012178631, 1.245479833101529, 1.2094466936572192, 1.0786450662739333, 0.8155586987270157, 0.7591397849462365, 0.7573426573426564, 1.4571819425444594, 1.7236764705882346, 1.7142659279778376, 1.7674581005586592, 1.472933549432739, 1.1221538461538456, 1.0633193863319386, 1.1703804347826086, 0.91054852320675, 0.9331071913161484, 0.7093575418994419, 0.8775886524822694, 1.426132930513596, 1.6703976435935215, 1.551057827926654, 1.6992076069730568, 1.4077881619937684, 1.446230440967283, 1.3638257575757569, 0.7263843648208473, 0.9841368584758938, 0.8353319057815841, 1.3912305516265917, 1.6363636363636374, 1.2392000000000007, 1.5193600000000016, 1.9666666666666688, 1.4369863013698638, 1.222734254992322, 1.2416666666666678, 1.148873239436618, 0.8142020497803797, 0.8453030303030307, 0.7419485791610279, 1.141258741258743, 1.4763736263736278, 1.5378303198887309, 1.3451962110960778, 1.388709677419356, 1.376853252647504, 1.6465829846582958, 1.0014842300556577, 1.07916083916084, 0.6186111111111103, 0.6504065040650403, 0.8793010752688166, 1.1439944134078226, 1.4545454545454544, 1.692378048780484, 1.9001344086021488, 1.3584454409566509, 1.4237449118046157, 0.7421787709497203, 0.9449728260869568, 0.9078571428571438, 0.8888423988842389, 0.925584594222832, 0.983309957924265, 0.9031593406593412, 1.3192957746478864, 1.794109589041098, 1.8313286713286727, 1.4198224852071033, 1.5551440329218122, 1.1236363636363644, 0.7874095513748213, 0.8415451895043727, 0.8568845618915181, 1.0053061224489812, 1.059747545582045, 1.6452091767881285, 1.413744740532962, 1.2041666666666675, 1.657517241379315, 1.4467889447236164, 2.0065114068441074, 1.529892473118282, 1.4365253077975375, 1.0169642857142889, 0.979611650485438, 0.7909859154929609, 0.7433423913043494, 0.6190760059612535, 0.8677914110429447, 0.8134146341463424, 0.955972696245735, 1.3565911047345791, 1.5771865793780626, 1.1179999999999994, 0.6785907230559326, 0.7977957446808477, 1.2365047748976803, 0.8033374999999986, 0.6563749999999987, 0.7503931972789099, 1.3011792318634396, 1.44275, 1.742650231124807, 1.7993580080753735, 1.4663517520215623, 0.7811818181818182, 0.9128684210526316, 1.204876230661041, 0.780983739837398, 0.9618122392211372, 0.8002178619756406, 1.0125907859078564, 1.1548125874125852, 1.1900685483870972, 1.4650417246175234, 1.436232142857139, 0.6233095238095239, 0.9084693295292416, 1.3968692722371938, 1.169150280898876, 2.065547908232125, 1.7327989203778715, 2.5, 0.507537313432836, 1.0218770491803268, 0.5332651515151513, 1.5109004037685057, 1.364923076923076, 1.5127618403247634, 1.8382523744911816, 1.2559354354354362, 1.3323748290013682, 0.7931904090267977, 1.039227027027026, 0.8199331476323118, 0.8620283783783775, 0.7755363881401601, 0.8056039051603899, 0.9497647849462364, 1.6509554317548736, 2.371693548387098, 1.7606625172890762, 1.5387171717171717, 1.125982432432428, 1.1134055555555524, 0.8099607577807826, 0.6075702364394981, 0.7265793871866268, 0.7684272108843518, 1.1338282122905006, 1.0490994236311189, 1.5286917562724007, 1.2811388140161728, 1.6342820895522383, 1.1612760487144795, 0.7613189415041774, 0.772751344086021, 0.9854291666666656, 0.6741693548387094, 0.835444892473118, 1.1627273991655054, 1.4960805194805191, 1.8407320574162656, 1.3927207334273644, 2.0598181818181818, 1.8700163934426235, 1.5684358620689678, 1.0816977715877412, 0.785029972752042, 0.5158000000000003, 0.7319047619047618, 1.1060888888888882], \"zmax\": 6.016856459330146, \"zmin\": 0.507537313432836}],                        {\"font\": {\"color\": \"#7f7f7f\"}, \"height\": 450, \"hovermode\": \"closest\", \"legend\": {\"bgcolor\": \"rgba(0,0,0,0)\", \"itemclick\": false, \"itemdoubleclick\": false, \"orientation\": \"h\"}, \"margin\": {\"b\": 0, \"l\": 0, \"r\": 0, \"t\": 0}, \"paper_bgcolor\": \"rgba(0,0,0,0)\", \"plot_bgcolor\": \"#f7fbfd\", \"shapes\": [{\"line\": {\"color\": \"White\", \"width\": 3}, \"type\": \"line\", \"x0\": 1.5, \"x1\": 1.5, \"y0\": 2001.5, \"y1\": 2019}, {\"line\": {\"color\": \"White\", \"width\": 3}, \"type\": \"line\", \"x0\": 2.5, \"x1\": 2.5, \"y0\": 2001.5, \"y1\": 2019}, {\"line\": {\"color\": \"White\", \"width\": 3}, \"type\": \"line\", \"x0\": 3.5, \"x1\": 3.5, \"y0\": 2001.5, \"y1\": 2019}, {\"line\": {\"color\": \"White\", \"width\": 3}, \"type\": \"line\", \"x0\": 4.5, \"x1\": 4.5, \"y0\": 2001.5, \"y1\": 2019}, {\"line\": {\"color\": \"White\", \"width\": 3}, \"type\": \"line\", \"x0\": 5.5, \"x1\": 5.5, \"y0\": 2001.5, \"y1\": 2019}, {\"line\": {\"color\": \"White\", \"width\": 3}, \"type\": \"line\", \"x0\": 6.5, \"x1\": 6.5, \"y0\": 2001.5, \"y1\": 2019}, {\"line\": {\"color\": \"White\", \"width\": 3}, \"type\": \"line\", \"x0\": 7.5, \"x1\": 7.5, \"y0\": 2001.5, \"y1\": 2019}, {\"line\": {\"color\": \"White\", \"width\": 3}, \"type\": \"line\", \"x0\": 8.5, \"x1\": 8.5, \"y0\": 2001.5, \"y1\": 2019}, {\"line\": {\"color\": \"White\", \"width\": 3}, \"type\": \"line\", \"x0\": 9.5, \"x1\": 9.5, \"y0\": 2001.5, \"y1\": 2019}, {\"line\": {\"color\": \"White\", \"width\": 3}, \"type\": \"line\", \"x0\": 10.5, \"x1\": 10.5, \"y0\": 2001.5, \"y1\": 2019}, {\"line\": {\"color\": \"White\", \"width\": 3}, \"type\": \"line\", \"x0\": 11.5, \"x1\": 11.5, \"y0\": 2001.5, \"y1\": 2019}], \"template\": {\"data\": {\"bar\": [{\"error_x\": {\"color\": \"#2a3f5f\"}, \"error_y\": {\"color\": \"#2a3f5f\"}, \"marker\": {\"line\": {\"color\": \"#E5ECF6\", \"width\": 0.5}}, \"type\": \"bar\"}], \"barpolar\": [{\"marker\": {\"line\": {\"color\": \"#E5ECF6\", \"width\": 0.5}}, \"type\": \"barpolar\"}], \"carpet\": [{\"aaxis\": {\"endlinecolor\": \"#2a3f5f\", \"gridcolor\": \"white\", \"linecolor\": \"white\", \"minorgridcolor\": \"white\", \"startlinecolor\": \"#2a3f5f\"}, \"baxis\": {\"endlinecolor\": \"#2a3f5f\", \"gridcolor\": \"white\", \"linecolor\": \"white\", \"minorgridcolor\": \"white\", \"startlinecolor\": \"#2a3f5f\"}, \"type\": \"carpet\"}], \"choropleth\": [{\"colorbar\": {\"outlinewidth\": 0, \"ticks\": \"\"}, \"type\": \"choropleth\"}], \"contour\": [{\"colorbar\": {\"outlinewidth\": 0, \"ticks\": \"\"}, \"colorscale\": [[0.0, \"#0d0887\"], [0.1111111111111111, \"#46039f\"], [0.2222222222222222, \"#7201a8\"], [0.3333333333333333, \"#9c179e\"], [0.4444444444444444, \"#bd3786\"], [0.5555555555555556, \"#d8576b\"], [0.6666666666666666, \"#ed7953\"], [0.7777777777777778, \"#fb9f3a\"], [0.8888888888888888, \"#fdca26\"], [1.0, \"#f0f921\"]], \"type\": \"contour\"}], \"contourcarpet\": [{\"colorbar\": {\"outlinewidth\": 0, \"ticks\": \"\"}, \"type\": \"contourcarpet\"}], \"heatmap\": [{\"colorbar\": {\"outlinewidth\": 0, \"ticks\": \"\"}, \"colorscale\": [[0.0, \"#0d0887\"], [0.1111111111111111, \"#46039f\"], [0.2222222222222222, \"#7201a8\"], [0.3333333333333333, \"#9c179e\"], [0.4444444444444444, \"#bd3786\"], [0.5555555555555556, \"#d8576b\"], [0.6666666666666666, \"#ed7953\"], [0.7777777777777778, \"#fb9f3a\"], [0.8888888888888888, \"#fdca26\"], [1.0, \"#f0f921\"]], \"type\": \"heatmap\"}], \"heatmapgl\": [{\"colorbar\": {\"outlinewidth\": 0, \"ticks\": \"\"}, \"colorscale\": [[0.0, \"#0d0887\"], [0.1111111111111111, \"#46039f\"], [0.2222222222222222, \"#7201a8\"], [0.3333333333333333, \"#9c179e\"], [0.4444444444444444, \"#bd3786\"], [0.5555555555555556, \"#d8576b\"], [0.6666666666666666, \"#ed7953\"], [0.7777777777777778, \"#fb9f3a\"], [0.8888888888888888, \"#fdca26\"], [1.0, \"#f0f921\"]], \"type\": \"heatmapgl\"}], \"histogram\": [{\"marker\": {\"colorbar\": {\"outlinewidth\": 0, \"ticks\": \"\"}}, \"type\": \"histogram\"}], \"histogram2d\": [{\"colorbar\": {\"outlinewidth\": 0, \"ticks\": \"\"}, \"colorscale\": [[0.0, \"#0d0887\"], [0.1111111111111111, \"#46039f\"], [0.2222222222222222, \"#7201a8\"], [0.3333333333333333, \"#9c179e\"], [0.4444444444444444, \"#bd3786\"], [0.5555555555555556, \"#d8576b\"], [0.6666666666666666, \"#ed7953\"], [0.7777777777777778, \"#fb9f3a\"], [0.8888888888888888, \"#fdca26\"], [1.0, \"#f0f921\"]], \"type\": \"histogram2d\"}], \"histogram2dcontour\": [{\"colorbar\": {\"outlinewidth\": 0, \"ticks\": \"\"}, \"colorscale\": [[0.0, \"#0d0887\"], [0.1111111111111111, \"#46039f\"], [0.2222222222222222, \"#7201a8\"], [0.3333333333333333, \"#9c179e\"], [0.4444444444444444, \"#bd3786\"], [0.5555555555555556, \"#d8576b\"], [0.6666666666666666, \"#ed7953\"], [0.7777777777777778, \"#fb9f3a\"], [0.8888888888888888, \"#fdca26\"], [1.0, \"#f0f921\"]], \"type\": \"histogram2dcontour\"}], \"mesh3d\": [{\"colorbar\": {\"outlinewidth\": 0, \"ticks\": \"\"}, \"type\": \"mesh3d\"}], \"parcoords\": [{\"line\": {\"colorbar\": {\"outlinewidth\": 0, \"ticks\": \"\"}}, \"type\": \"parcoords\"}], \"pie\": [{\"automargin\": true, \"type\": \"pie\"}], \"scatter\": [{\"marker\": {\"colorbar\": {\"outlinewidth\": 0, \"ticks\": \"\"}}, \"type\": \"scatter\"}], \"scatter3d\": [{\"line\": {\"colorbar\": {\"outlinewidth\": 0, \"ticks\": \"\"}}, \"marker\": {\"colorbar\": {\"outlinewidth\": 0, \"ticks\": \"\"}}, \"type\": \"scatter3d\"}], \"scattercarpet\": [{\"marker\": {\"colorbar\": {\"outlinewidth\": 0, \"ticks\": \"\"}}, \"type\": \"scattercarpet\"}], \"scattergeo\": [{\"marker\": {\"colorbar\": {\"outlinewidth\": 0, \"ticks\": \"\"}}, \"type\": \"scattergeo\"}], \"scattergl\": [{\"marker\": {\"colorbar\": {\"outlinewidth\": 0, \"ticks\": \"\"}}, \"type\": \"scattergl\"}], \"scattermapbox\": [{\"marker\": {\"colorbar\": {\"outlinewidth\": 0, \"ticks\": \"\"}}, \"type\": \"scattermapbox\"}], \"scatterpolar\": [{\"marker\": {\"colorbar\": {\"outlinewidth\": 0, \"ticks\": \"\"}}, \"type\": \"scatterpolar\"}], \"scatterpolargl\": [{\"marker\": {\"colorbar\": {\"outlinewidth\": 0, \"ticks\": \"\"}}, \"type\": \"scatterpolargl\"}], \"scatterternary\": [{\"marker\": {\"colorbar\": {\"outlinewidth\": 0, \"ticks\": \"\"}}, \"type\": \"scatterternary\"}], \"surface\": [{\"colorbar\": {\"outlinewidth\": 0, \"ticks\": \"\"}, \"colorscale\": [[0.0, \"#0d0887\"], [0.1111111111111111, \"#46039f\"], [0.2222222222222222, \"#7201a8\"], [0.3333333333333333, \"#9c179e\"], [0.4444444444444444, \"#bd3786\"], [0.5555555555555556, \"#d8576b\"], [0.6666666666666666, \"#ed7953\"], [0.7777777777777778, \"#fb9f3a\"], [0.8888888888888888, \"#fdca26\"], [1.0, \"#f0f921\"]], \"type\": \"surface\"}], \"table\": [{\"cells\": {\"fill\": {\"color\": \"#EBF0F8\"}, \"line\": {\"color\": \"white\"}}, \"header\": {\"fill\": {\"color\": \"#C8D4E3\"}, \"line\": {\"color\": \"white\"}}, \"type\": \"table\"}]}, \"layout\": {\"annotationdefaults\": {\"arrowcolor\": \"#2a3f5f\", \"arrowhead\": 0, \"arrowwidth\": 1}, \"autotypenumbers\": \"strict\", \"coloraxis\": {\"colorbar\": {\"outlinewidth\": 0, \"ticks\": \"\"}}, \"colorscale\": {\"diverging\": [[0, \"#8e0152\"], [0.1, \"#c51b7d\"], [0.2, \"#de77ae\"], [0.3, \"#f1b6da\"], [0.4, \"#fde0ef\"], [0.5, \"#f7f7f7\"], [0.6, \"#e6f5d0\"], [0.7, \"#b8e186\"], [0.8, \"#7fbc41\"], [0.9, \"#4d9221\"], [1, \"#276419\"]], \"sequential\": [[0.0, \"#0d0887\"], [0.1111111111111111, \"#46039f\"], [0.2222222222222222, \"#7201a8\"], [0.3333333333333333, \"#9c179e\"], [0.4444444444444444, \"#bd3786\"], [0.5555555555555556, \"#d8576b\"], [0.6666666666666666, \"#ed7953\"], [0.7777777777777778, \"#fb9f3a\"], [0.8888888888888888, \"#fdca26\"], [1.0, \"#f0f921\"]], \"sequentialminus\": [[0.0, \"#0d0887\"], [0.1111111111111111, \"#46039f\"], [0.2222222222222222, \"#7201a8\"], [0.3333333333333333, \"#9c179e\"], [0.4444444444444444, \"#bd3786\"], [0.5555555555555556, \"#d8576b\"], [0.6666666666666666, \"#ed7953\"], [0.7777777777777778, \"#fb9f3a\"], [0.8888888888888888, \"#fdca26\"], [1.0, \"#f0f921\"]]}, \"colorway\": [\"#636efa\", \"#EF553B\", \"#00cc96\", \"#ab63fa\", \"#FFA15A\", \"#19d3f3\", \"#FF6692\", \"#B6E880\", \"#FF97FF\", \"#FECB52\"], \"font\": {\"color\": \"#2a3f5f\"}, \"geo\": {\"bgcolor\": \"white\", \"lakecolor\": \"white\", \"landcolor\": \"#E5ECF6\", \"showlakes\": true, \"showland\": true, \"subunitcolor\": \"white\"}, \"hoverlabel\": {\"align\": \"left\"}, \"hovermode\": \"closest\", \"mapbox\": {\"style\": \"light\"}, \"paper_bgcolor\": \"white\", \"plot_bgcolor\": \"#E5ECF6\", \"polar\": {\"angularaxis\": {\"gridcolor\": \"white\", \"linecolor\": \"white\", \"ticks\": \"\"}, \"bgcolor\": \"#E5ECF6\", \"radialaxis\": {\"gridcolor\": \"white\", \"linecolor\": \"white\", \"ticks\": \"\"}}, \"scene\": {\"xaxis\": {\"backgroundcolor\": \"#E5ECF6\", \"gridcolor\": \"white\", \"gridwidth\": 2, \"linecolor\": \"white\", \"showbackground\": true, \"ticks\": \"\", \"zerolinecolor\": \"white\"}, \"yaxis\": {\"backgroundcolor\": \"#E5ECF6\", \"gridcolor\": \"white\", \"gridwidth\": 2, \"linecolor\": \"white\", \"showbackground\": true, \"ticks\": \"\", \"zerolinecolor\": \"white\"}, \"zaxis\": {\"backgroundcolor\": \"#E5ECF6\", \"gridcolor\": \"white\", \"gridwidth\": 2, \"linecolor\": \"white\", \"showbackground\": true, \"ticks\": \"\", \"zerolinecolor\": \"white\"}}, \"shapedefaults\": {\"line\": {\"color\": \"#2a3f5f\"}}, \"ternary\": {\"aaxis\": {\"gridcolor\": \"white\", \"linecolor\": \"white\", \"ticks\": \"\"}, \"baxis\": {\"gridcolor\": \"white\", \"linecolor\": \"white\", \"ticks\": \"\"}, \"bgcolor\": \"#E5ECF6\", \"caxis\": {\"gridcolor\": \"white\", \"linecolor\": \"white\", \"ticks\": \"\"}}, \"title\": {\"x\": 0.05}, \"xaxis\": {\"automargin\": true, \"gridcolor\": \"white\", \"linecolor\": \"white\", \"ticks\": \"\", \"title\": {\"standoff\": 15}, \"zerolinecolor\": \"white\", \"zerolinewidth\": 2}, \"yaxis\": {\"automargin\": true, \"gridcolor\": \"white\", \"linecolor\": \"white\", \"ticks\": \"\", \"title\": {\"standoff\": 15}, \"zerolinecolor\": \"white\", \"zerolinewidth\": 2}}}, \"xaxis\": {\"fixedrange\": true, \"showgrid\": false, \"ticktext\": [\"Jan\", \"Feb\", \"Mar\", \"Apr\", \"May\", \"June\", \"July\", \"Aug\", \"Sep\", \"Oct\", \"Nov\", \"Dec\"], \"tickvals\": [1, 2, 3, 4, 5, 6, 7, 8, 9, 10, 11, 12], \"title\": {\"text\": \"Month\"}}, \"yaxis\": {\"fixedrange\": true, \"nticks\": 12, \"title\": {\"text\": \"Year\"}}},                        {\"responsive\": true}                    ).then(function(){\n",
       "                            \n",
       "var gd = document.getElementById('3259729c-34b9-4ce9-8779-8952eecd0dae');\n",
       "var x = new MutationObserver(function (mutations, observer) {{\n",
       "        var display = window.getComputedStyle(gd).display;\n",
       "        if (!display || display === 'none') {{\n",
       "            console.log([gd, 'removed!']);\n",
       "            Plotly.purge(gd);\n",
       "            observer.disconnect();\n",
       "        }}\n",
       "}});\n",
       "\n",
       "// Listen for the removal of the full notebook cells\n",
       "var notebookContainer = gd.closest('#notebook-container');\n",
       "if (notebookContainer) {{\n",
       "    x.observe(notebookContainer, {childList: true});\n",
       "}}\n",
       "\n",
       "// Listen for the clearing of the current output cell\n",
       "var outputEl = gd.closest('.output');\n",
       "if (outputEl) {{\n",
       "    x.observe(outputEl, {childList: true});\n",
       "}}\n",
       "\n",
       "                        })                };                });            </script>        </div>"
      ]
     },
     "metadata": {},
     "output_type": "display_data"
    }
   ],
   "source": [
    "# bvals = [0.5,0.7, 0.85, 1.15, 1.46, 1.85,2]\n",
    "# bvals = [df_min,0.7, 1.1, 1.8, 2.7, 4.3,df_max]\n",
    "# bvals = [df_min,0.7, 1.1, 1.8, 2.7, 4.3,df_max]\n",
    "bvals = [df_min,0.7, 1.1, 1.8, 2.6, 4.3,df_max]\n",
    "\n",
    "colors = ['rgb(98, 55, 155)', 'rgb(184, 197, 229)', 'rgb(166, 206, 93)' , 'rgb(255, 254, 66)', 'rgb(239, 191, 49)','rgb(219, 32, 1)']\n",
    "\n",
    "dcolorsc = discrete_colorscale(bvals, colors)\n",
    "dcolorsc\n",
    "\n",
    "colorscale=[\n",
    "    [0, \"rgb(255, 255, 255)\"],\n",
    "    [0.1, \"rgb(255, 255, 255)\"],\n",
    "    [0.1, \"rgb(180, 180, 0)\"], #here is where you set your min color\n",
    "    [0.9, \"rgb(0, 0, 180)\"], #here is where you set your max color\n",
    "    [0.9, \"rgb(255, 255, 255)\"],\n",
    "    [1, \"rgb(255, 255, 255)\"],\n",
    "]\n",
    "\n",
    "trace_m2 = go.Heatmap(\n",
    "    z=m2_df['mean__monthly__sea_surface_wave_significant_height'],\n",
    "    x=m2_df['datetime'].dt.month,\n",
    "    y=m2_df['datetime'].dt.year,\n",
    "    text=m2_df['mean__monthly__sea_surface_wave_significant_height'],\n",
    "    colorscale=dcolorsc, \n",
    "    zmin=df_min,\n",
    "    zmax=df_max,\n",
    "    colorbar=dict(\n",
    "                tickmode='array',\n",
    "                thickness=10,\n",
    "                len=0.9,\n",
    "        \n",
    "    title='<b>Percentile</b> (m)',\n",
    "            ticktext=[\n",
    "                '<b>Min.</b> (0.5)', \n",
    "                '<b> 5%</b> (0.7)', \n",
    "                '<b>25%</b> (1.1)', \n",
    "                '<b>50%</b> (1.8)',\n",
    "                '<b>75%</b> (2.7)', \n",
    "                '<b>95%</b> (4.3)'],\n",
    "            tickvals=[0,5,24,47, 71, 90]  \n",
    "    ),\n",
    "    hovertemplate='%{x} %{y}<br>'+\n",
    "    'Wave Height: %{text:.2f} m<extra></extra>'\n",
    ")\n",
    "figure_3_11_a = go.Figure(data=trace_m2, layout=TIMESERIES_LAYOUT)\n",
    "figure_3_11_a.update_layout(\n",
    "yaxis=dict(\n",
    "    title='Year',\n",
    "    nticks=12),\n",
    "xaxis=dict(\n",
    "    title='Month',\n",
    "    ticktext=['Jan','Feb','Mar','Apr','May','June','July','Aug','Sep','Oct','Nov','Dec'],\n",
    "    showgrid=False,\n",
    "   tickvals=[1, 2, 3, 4, 5, 6, 7, 8, 9, 10, 11, 12],\n",
    "))\n",
    "\n",
    "# Include white lines as xaxis gridlines\n",
    "x0=1.5\n",
    "for i in range(0,11):\n",
    "    figure_3_11_a.add_shape(type='line',\n",
    "                        x0=x0, y0=2001.5, x1=x0, y1=2019,\n",
    "                        line=dict(color='White', width=3))\n",
    "    x0+=1\n",
    "\n",
    "figure_3_11_a"
   ]
  },
  {
   "cell_type": "code",
   "execution_count": 78,
   "id": "danish-tablet",
   "metadata": {},
   "outputs": [
    {
     "data": {
      "application/vnd.plotly.v1+json": {
       "config": {
        "plotlyServerURL": "https://plot.ly"
       },
       "data": [
        {
         "colorbar": {
          "len": 0.9,
          "thickness": 10,
          "tickmode": "array",
          "ticktext": [
           "<b>Min.</b> (0.5)",
           "<b> 5%</b> (0.7)",
           "<b>25%</b> (1.1)",
           "<b>50%</b> (1.8)",
           "<b>75%</b> (2.7)",
           "<b>95%</b> (4.3)"
          ],
          "tickvals": [
           0,
           5,
           24,
           47,
           71,
           90
          ],
          "title": {
           "text": "<b>Percentile</b> (m)"
          }
         },
         "colorscale": [
          [
           0,
           "rgb(98, 55, 155)"
          ],
          [
           0.03493402387307466,
           "rgb(98, 55, 155)"
          ],
          [
           0.03493402387307466,
           "rgb(184, 197, 229)"
          ],
          [
           0.107538276668608,
           "rgb(184, 197, 229)"
          ],
          [
           0.107538276668608,
           "rgb(166, 206, 93)"
          ],
          [
           0.2345957190607913,
           "rgb(166, 206, 93)"
          ],
          [
           0.2345957190607913,
           "rgb(255, 254, 66)"
          ],
          [
           0.379804224651858,
           "rgb(255, 254, 66)"
          ],
          [
           0.379804224651858,
           "rgb(239, 191, 49)"
          ],
          [
           0.6883722990328744,
           "rgb(239, 191, 49)"
          ],
          [
           0.6883722990328744,
           "rgb(219, 32, 1)"
          ],
          [
           1,
           "rgb(219, 32, 1)"
          ]
         ],
         "hovertemplate": "%{x} %{y}<br>Wave Height: %{text:.2f} m<extra></extra>",
         "text": [
          1.5204301075268822,
          2.968970380818055,
          2.5916666666666672,
          3.288068181818184,
          4.473388203017833,
          4.454992076069728,
          3.5613314447592064,
          2.5943502824858764,
          2.6304407713498645,
          2.3192982456140347,
          1.8228882833787452,
          1.6240896358543415,
          2.119714285714284,
          2.7289473684210543,
          3.944888888888893,
          3.093342579750349,
          4.143259259259261,
          3.2210116731517537,
          3.8605584642233897,
          3.289958158995816,
          2.263486842105264,
          2.0413547237076624,
          1.92706766917293,
          2.128848821081833,
          3.108732394366192,
          3.328356164383567,
          2.5958689458689426,
          4.275416666666664,
          4.821835883171072,
          2.947175572519084,
          2.6295735900962884,
          2.775813295615272,
          2.2529902642559114,
          1.81695652173913,
          1.810773480662984,
          1.987956698240864,
          2.674891146589262,
          3.494146341463414,
          3.778830083565455,
          3.0455284552845514,
          3.7776881720430127,
          3.334743202416912,
          3.463826815642455,
          2.622471910112358,
          2.556473829201101,
          1.8255586592178776,
          1.9720867208672088,
          1.4757946210268944,
          2.125401459854014,
          2.087096774193548,
          2.949652294853963,
          3.5369063772048843,
          3.3957994579945785,
          3.4012012012012023,
          2.9533875338753397,
          1.3625174825174806,
          1.962059620596208,
          1.479937304075237,
          1.984210526315789,
          1.998521505376344,
          2.0940027894002813,
          2.501615074024223,
          2.4913769123783007,
          4.932614555256066,
          4.894729729729726,
          3.724122807017554,
          4.377223719676546,
          2.720833333333343,
          1.7091655266757897,
          2.121090387374472,
          1.9535762483130903,
          2.502578018995937,
          2.5237359550561838,
          3.648448043184888,
          3.311961057023653,
          3.90318118948823,
          4.969512195121954,
          2.698952095808397,
          3.601081081081082,
          2.7722801788375646,
          2.959810554803789,
          1.651182197496527,
          2.2587280108254517,
          2.571469740634021,
          2.2557262569832486,
          2.523283983849271,
          4.968105849582181,
          3.569324324324328,
          3.236941813261167,
          2.725112781954899,
          2.4970954356846584,
          2.22720694645442,
          1.8305185185185264,
          1.850505050505057,
          2.272796352583589,
          1.6745376955903302,
          2.429166666666678,
          2.923118279569894,
          3.625312934631423,
          2.390148448043192,
          2.8403532608695694,
          5.003278688524588,
          2.610810810810817,
          2.791139240506342,
          3.2563037249283684,
          2.333997155049793,
          1.8995614035087725,
          1.8533333333333373,
          3.5811158798283333,
          3.2017316017316086,
          4.053084648493555,
          5.020361990950226,
          1.9062701555869892,
          1.7986937669376708,
          2.2999782903663584,
          2.465744710860377,
          2.7431129032258204,
          3.749245125348202,
          4.193188679245297,
          4.343742587601093,
          4.42742942942943,
          3.501682403433486,
          2.5181841004184173,
          2.2689193548387223,
          1.437284122562673,
          1.580550607287453,
          2.0010700808625392,
          1.8372729805013963,
          3.595794078061929,
          2.875,
          4.615741046831971,
          5.421498633879801,
          4.067093514328818,
          4.158539310344848,
          2.5036955903271845,
          2.712714285714296,
          2.173183216783224,
          2.1551202702702787,
          2.250745945945953,
          2.023094707520892,
          2.7212795698924817,
          4.499663421418653,
          6.016856459330146,
          1.557712802768165,
          1.8598816155988929,
          1.954671328671337,
          2.2847107438016647,
          3.0499691444600403,
          2.6599702702702817,
          2.85308217270196,
          2.149802197802197,
          2.9471324503311243,
          2.146050139275772,
          2.0339231805930007,
          2.5035529225908446,
          3.112844771241833,
          1.1883421052631584,
          4.048628224582714,
          5.341717391304367,
          5.237610666666673,
          3.1861690476190585,
          2.482372972972984,
          1.6308116975748908,
          1.6572537517053183,
          2.1251102040816376,
          2.5413295932678936,
          3.1157164383561797,
          4.21689154929579,
          4.244409459459475
         ],
         "type": "heatmap",
         "x": [
          9,
          10,
          11,
          12,
          1,
          2,
          3,
          4,
          5,
          6,
          7,
          8,
          9,
          10,
          11,
          12,
          1,
          2,
          3,
          4,
          5,
          6,
          7,
          8,
          9,
          10,
          11,
          12,
          1,
          2,
          3,
          4,
          5,
          6,
          7,
          8,
          9,
          10,
          11,
          12,
          1,
          2,
          3,
          4,
          5,
          6,
          7,
          8,
          9,
          10,
          11,
          12,
          1,
          2,
          3,
          4,
          5,
          6,
          7,
          8,
          9,
          10,
          11,
          12,
          1,
          2,
          3,
          4,
          5,
          6,
          7,
          8,
          9,
          10,
          11,
          12,
          1,
          2,
          3,
          4,
          5,
          6,
          7,
          8,
          9,
          10,
          11,
          12,
          1,
          2,
          3,
          4,
          5,
          6,
          7,
          8,
          9,
          10,
          11,
          12,
          1,
          2,
          3,
          4,
          5,
          6,
          7,
          8,
          9,
          10,
          11,
          12,
          6,
          7,
          8,
          9,
          10,
          11,
          12,
          1,
          2,
          3,
          4,
          5,
          6,
          7,
          8,
          9,
          10,
          11,
          12,
          1,
          2,
          3,
          4,
          5,
          6,
          7,
          8,
          9,
          10,
          11,
          12,
          5,
          6,
          7,
          8,
          9,
          10,
          11,
          12,
          3,
          4,
          5,
          6,
          10,
          11,
          12,
          1,
          2,
          4,
          5,
          6,
          7,
          8,
          9,
          10,
          11,
          12
         ],
         "y": [
          2002,
          2002,
          2002,
          2002,
          2003,
          2003,
          2003,
          2003,
          2003,
          2003,
          2003,
          2003,
          2003,
          2003,
          2003,
          2003,
          2004,
          2004,
          2004,
          2004,
          2004,
          2004,
          2004,
          2004,
          2004,
          2004,
          2004,
          2004,
          2005,
          2005,
          2005,
          2005,
          2005,
          2005,
          2005,
          2005,
          2005,
          2005,
          2005,
          2005,
          2006,
          2006,
          2006,
          2006,
          2006,
          2006,
          2006,
          2006,
          2006,
          2006,
          2006,
          2006,
          2007,
          2007,
          2007,
          2007,
          2007,
          2007,
          2007,
          2007,
          2007,
          2007,
          2007,
          2007,
          2008,
          2008,
          2008,
          2008,
          2008,
          2008,
          2008,
          2008,
          2008,
          2008,
          2008,
          2008,
          2009,
          2009,
          2009,
          2009,
          2009,
          2009,
          2009,
          2009,
          2009,
          2009,
          2009,
          2009,
          2010,
          2010,
          2010,
          2010,
          2010,
          2010,
          2010,
          2010,
          2010,
          2010,
          2010,
          2010,
          2011,
          2011,
          2011,
          2011,
          2011,
          2011,
          2011,
          2011,
          2011,
          2011,
          2011,
          2011,
          2012,
          2012,
          2012,
          2012,
          2012,
          2012,
          2012,
          2013,
          2013,
          2014,
          2014,
          2014,
          2014,
          2014,
          2014,
          2014,
          2014,
          2014,
          2014,
          2015,
          2015,
          2015,
          2015,
          2015,
          2015,
          2015,
          2015,
          2015,
          2015,
          2015,
          2015,
          2016,
          2016,
          2016,
          2016,
          2016,
          2016,
          2016,
          2016,
          2017,
          2017,
          2017,
          2017,
          2017,
          2017,
          2017,
          2018,
          2018,
          2018,
          2018,
          2018,
          2018,
          2018,
          2018,
          2018,
          2018,
          2018
         ],
         "z": [
          1.5204301075268822,
          2.968970380818055,
          2.5916666666666672,
          3.288068181818184,
          4.473388203017833,
          4.454992076069728,
          3.5613314447592064,
          2.5943502824858764,
          2.6304407713498645,
          2.3192982456140347,
          1.8228882833787452,
          1.6240896358543415,
          2.119714285714284,
          2.7289473684210543,
          3.944888888888893,
          3.093342579750349,
          4.143259259259261,
          3.2210116731517537,
          3.8605584642233897,
          3.289958158995816,
          2.263486842105264,
          2.0413547237076624,
          1.92706766917293,
          2.128848821081833,
          3.108732394366192,
          3.328356164383567,
          2.5958689458689426,
          4.275416666666664,
          4.821835883171072,
          2.947175572519084,
          2.6295735900962884,
          2.775813295615272,
          2.2529902642559114,
          1.81695652173913,
          1.810773480662984,
          1.987956698240864,
          2.674891146589262,
          3.494146341463414,
          3.778830083565455,
          3.0455284552845514,
          3.7776881720430127,
          3.334743202416912,
          3.463826815642455,
          2.622471910112358,
          2.556473829201101,
          1.8255586592178776,
          1.9720867208672088,
          1.4757946210268944,
          2.125401459854014,
          2.087096774193548,
          2.949652294853963,
          3.5369063772048843,
          3.3957994579945785,
          3.4012012012012023,
          2.9533875338753397,
          1.3625174825174806,
          1.962059620596208,
          1.479937304075237,
          1.984210526315789,
          1.998521505376344,
          2.0940027894002813,
          2.501615074024223,
          2.4913769123783007,
          4.932614555256066,
          4.894729729729726,
          3.724122807017554,
          4.377223719676546,
          2.720833333333343,
          1.7091655266757897,
          2.121090387374472,
          1.9535762483130903,
          2.502578018995937,
          2.5237359550561838,
          3.648448043184888,
          3.311961057023653,
          3.90318118948823,
          4.969512195121954,
          2.698952095808397,
          3.601081081081082,
          2.7722801788375646,
          2.959810554803789,
          1.651182197496527,
          2.2587280108254517,
          2.571469740634021,
          2.2557262569832486,
          2.523283983849271,
          4.968105849582181,
          3.569324324324328,
          3.236941813261167,
          2.725112781954899,
          2.4970954356846584,
          2.22720694645442,
          1.8305185185185264,
          1.850505050505057,
          2.272796352583589,
          1.6745376955903302,
          2.429166666666678,
          2.923118279569894,
          3.625312934631423,
          2.390148448043192,
          2.8403532608695694,
          5.003278688524588,
          2.610810810810817,
          2.791139240506342,
          3.2563037249283684,
          2.333997155049793,
          1.8995614035087725,
          1.8533333333333373,
          3.5811158798283333,
          3.2017316017316086,
          4.053084648493555,
          5.020361990950226,
          1.9062701555869892,
          1.7986937669376708,
          2.2999782903663584,
          2.465744710860377,
          2.7431129032258204,
          3.749245125348202,
          4.193188679245297,
          4.343742587601093,
          4.42742942942943,
          3.501682403433486,
          2.5181841004184173,
          2.2689193548387223,
          1.437284122562673,
          1.580550607287453,
          2.0010700808625392,
          1.8372729805013963,
          3.595794078061929,
          2.875,
          4.615741046831971,
          5.421498633879801,
          4.067093514328818,
          4.158539310344848,
          2.5036955903271845,
          2.712714285714296,
          2.173183216783224,
          2.1551202702702787,
          2.250745945945953,
          2.023094707520892,
          2.7212795698924817,
          4.499663421418653,
          6.016856459330146,
          1.557712802768165,
          1.8598816155988929,
          1.954671328671337,
          2.2847107438016647,
          3.0499691444600403,
          2.6599702702702817,
          2.85308217270196,
          2.149802197802197,
          2.9471324503311243,
          2.146050139275772,
          2.0339231805930007,
          2.5035529225908446,
          3.112844771241833,
          1.1883421052631584,
          4.048628224582714,
          5.341717391304367,
          5.237610666666673,
          3.1861690476190585,
          2.482372972972984,
          1.6308116975748908,
          1.6572537517053183,
          2.1251102040816376,
          2.5413295932678936,
          3.1157164383561797,
          4.21689154929579,
          4.244409459459475
         ],
         "zmax": 6.016856459330146,
         "zmin": 0.507537313432836
        }
       ],
       "layout": {
        "font": {
         "color": "#7f7f7f"
        },
        "height": 450,
        "hovermode": "closest",
        "legend": {
         "bgcolor": "rgba(0,0,0,0)",
         "itemclick": false,
         "itemdoubleclick": false,
         "orientation": "h"
        },
        "margin": {
         "b": 0,
         "l": 0,
         "r": 0,
         "t": 0
        },
        "paper_bgcolor": "rgba(0,0,0,0)",
        "plot_bgcolor": "#f7fbfd",
        "template": {
         "data": {
          "bar": [
           {
            "error_x": {
             "color": "#2a3f5f"
            },
            "error_y": {
             "color": "#2a3f5f"
            },
            "marker": {
             "line": {
              "color": "#E5ECF6",
              "width": 0.5
             }
            },
            "type": "bar"
           }
          ],
          "barpolar": [
           {
            "marker": {
             "line": {
              "color": "#E5ECF6",
              "width": 0.5
             }
            },
            "type": "barpolar"
           }
          ],
          "carpet": [
           {
            "aaxis": {
             "endlinecolor": "#2a3f5f",
             "gridcolor": "white",
             "linecolor": "white",
             "minorgridcolor": "white",
             "startlinecolor": "#2a3f5f"
            },
            "baxis": {
             "endlinecolor": "#2a3f5f",
             "gridcolor": "white",
             "linecolor": "white",
             "minorgridcolor": "white",
             "startlinecolor": "#2a3f5f"
            },
            "type": "carpet"
           }
          ],
          "choropleth": [
           {
            "colorbar": {
             "outlinewidth": 0,
             "ticks": ""
            },
            "type": "choropleth"
           }
          ],
          "contour": [
           {
            "colorbar": {
             "outlinewidth": 0,
             "ticks": ""
            },
            "colorscale": [
             [
              0,
              "#0d0887"
             ],
             [
              0.1111111111111111,
              "#46039f"
             ],
             [
              0.2222222222222222,
              "#7201a8"
             ],
             [
              0.3333333333333333,
              "#9c179e"
             ],
             [
              0.4444444444444444,
              "#bd3786"
             ],
             [
              0.5555555555555556,
              "#d8576b"
             ],
             [
              0.6666666666666666,
              "#ed7953"
             ],
             [
              0.7777777777777778,
              "#fb9f3a"
             ],
             [
              0.8888888888888888,
              "#fdca26"
             ],
             [
              1,
              "#f0f921"
             ]
            ],
            "type": "contour"
           }
          ],
          "contourcarpet": [
           {
            "colorbar": {
             "outlinewidth": 0,
             "ticks": ""
            },
            "type": "contourcarpet"
           }
          ],
          "heatmap": [
           {
            "colorbar": {
             "outlinewidth": 0,
             "ticks": ""
            },
            "colorscale": [
             [
              0,
              "#0d0887"
             ],
             [
              0.1111111111111111,
              "#46039f"
             ],
             [
              0.2222222222222222,
              "#7201a8"
             ],
             [
              0.3333333333333333,
              "#9c179e"
             ],
             [
              0.4444444444444444,
              "#bd3786"
             ],
             [
              0.5555555555555556,
              "#d8576b"
             ],
             [
              0.6666666666666666,
              "#ed7953"
             ],
             [
              0.7777777777777778,
              "#fb9f3a"
             ],
             [
              0.8888888888888888,
              "#fdca26"
             ],
             [
              1,
              "#f0f921"
             ]
            ],
            "type": "heatmap"
           }
          ],
          "heatmapgl": [
           {
            "colorbar": {
             "outlinewidth": 0,
             "ticks": ""
            },
            "colorscale": [
             [
              0,
              "#0d0887"
             ],
             [
              0.1111111111111111,
              "#46039f"
             ],
             [
              0.2222222222222222,
              "#7201a8"
             ],
             [
              0.3333333333333333,
              "#9c179e"
             ],
             [
              0.4444444444444444,
              "#bd3786"
             ],
             [
              0.5555555555555556,
              "#d8576b"
             ],
             [
              0.6666666666666666,
              "#ed7953"
             ],
             [
              0.7777777777777778,
              "#fb9f3a"
             ],
             [
              0.8888888888888888,
              "#fdca26"
             ],
             [
              1,
              "#f0f921"
             ]
            ],
            "type": "heatmapgl"
           }
          ],
          "histogram": [
           {
            "marker": {
             "colorbar": {
              "outlinewidth": 0,
              "ticks": ""
             }
            },
            "type": "histogram"
           }
          ],
          "histogram2d": [
           {
            "colorbar": {
             "outlinewidth": 0,
             "ticks": ""
            },
            "colorscale": [
             [
              0,
              "#0d0887"
             ],
             [
              0.1111111111111111,
              "#46039f"
             ],
             [
              0.2222222222222222,
              "#7201a8"
             ],
             [
              0.3333333333333333,
              "#9c179e"
             ],
             [
              0.4444444444444444,
              "#bd3786"
             ],
             [
              0.5555555555555556,
              "#d8576b"
             ],
             [
              0.6666666666666666,
              "#ed7953"
             ],
             [
              0.7777777777777778,
              "#fb9f3a"
             ],
             [
              0.8888888888888888,
              "#fdca26"
             ],
             [
              1,
              "#f0f921"
             ]
            ],
            "type": "histogram2d"
           }
          ],
          "histogram2dcontour": [
           {
            "colorbar": {
             "outlinewidth": 0,
             "ticks": ""
            },
            "colorscale": [
             [
              0,
              "#0d0887"
             ],
             [
              0.1111111111111111,
              "#46039f"
             ],
             [
              0.2222222222222222,
              "#7201a8"
             ],
             [
              0.3333333333333333,
              "#9c179e"
             ],
             [
              0.4444444444444444,
              "#bd3786"
             ],
             [
              0.5555555555555556,
              "#d8576b"
             ],
             [
              0.6666666666666666,
              "#ed7953"
             ],
             [
              0.7777777777777778,
              "#fb9f3a"
             ],
             [
              0.8888888888888888,
              "#fdca26"
             ],
             [
              1,
              "#f0f921"
             ]
            ],
            "type": "histogram2dcontour"
           }
          ],
          "mesh3d": [
           {
            "colorbar": {
             "outlinewidth": 0,
             "ticks": ""
            },
            "type": "mesh3d"
           }
          ],
          "parcoords": [
           {
            "line": {
             "colorbar": {
              "outlinewidth": 0,
              "ticks": ""
             }
            },
            "type": "parcoords"
           }
          ],
          "pie": [
           {
            "automargin": true,
            "type": "pie"
           }
          ],
          "scatter": [
           {
            "marker": {
             "colorbar": {
              "outlinewidth": 0,
              "ticks": ""
             }
            },
            "type": "scatter"
           }
          ],
          "scatter3d": [
           {
            "line": {
             "colorbar": {
              "outlinewidth": 0,
              "ticks": ""
             }
            },
            "marker": {
             "colorbar": {
              "outlinewidth": 0,
              "ticks": ""
             }
            },
            "type": "scatter3d"
           }
          ],
          "scattercarpet": [
           {
            "marker": {
             "colorbar": {
              "outlinewidth": 0,
              "ticks": ""
             }
            },
            "type": "scattercarpet"
           }
          ],
          "scattergeo": [
           {
            "marker": {
             "colorbar": {
              "outlinewidth": 0,
              "ticks": ""
             }
            },
            "type": "scattergeo"
           }
          ],
          "scattergl": [
           {
            "marker": {
             "colorbar": {
              "outlinewidth": 0,
              "ticks": ""
             }
            },
            "type": "scattergl"
           }
          ],
          "scattermapbox": [
           {
            "marker": {
             "colorbar": {
              "outlinewidth": 0,
              "ticks": ""
             }
            },
            "type": "scattermapbox"
           }
          ],
          "scatterpolar": [
           {
            "marker": {
             "colorbar": {
              "outlinewidth": 0,
              "ticks": ""
             }
            },
            "type": "scatterpolar"
           }
          ],
          "scatterpolargl": [
           {
            "marker": {
             "colorbar": {
              "outlinewidth": 0,
              "ticks": ""
             }
            },
            "type": "scatterpolargl"
           }
          ],
          "scatterternary": [
           {
            "marker": {
             "colorbar": {
              "outlinewidth": 0,
              "ticks": ""
             }
            },
            "type": "scatterternary"
           }
          ],
          "surface": [
           {
            "colorbar": {
             "outlinewidth": 0,
             "ticks": ""
            },
            "colorscale": [
             [
              0,
              "#0d0887"
             ],
             [
              0.1111111111111111,
              "#46039f"
             ],
             [
              0.2222222222222222,
              "#7201a8"
             ],
             [
              0.3333333333333333,
              "#9c179e"
             ],
             [
              0.4444444444444444,
              "#bd3786"
             ],
             [
              0.5555555555555556,
              "#d8576b"
             ],
             [
              0.6666666666666666,
              "#ed7953"
             ],
             [
              0.7777777777777778,
              "#fb9f3a"
             ],
             [
              0.8888888888888888,
              "#fdca26"
             ],
             [
              1,
              "#f0f921"
             ]
            ],
            "type": "surface"
           }
          ],
          "table": [
           {
            "cells": {
             "fill": {
              "color": "#EBF0F8"
             },
             "line": {
              "color": "white"
             }
            },
            "header": {
             "fill": {
              "color": "#C8D4E3"
             },
             "line": {
              "color": "white"
             }
            },
            "type": "table"
           }
          ]
         },
         "layout": {
          "annotationdefaults": {
           "arrowcolor": "#2a3f5f",
           "arrowhead": 0,
           "arrowwidth": 1
          },
          "autotypenumbers": "strict",
          "coloraxis": {
           "colorbar": {
            "outlinewidth": 0,
            "ticks": ""
           }
          },
          "colorscale": {
           "diverging": [
            [
             0,
             "#8e0152"
            ],
            [
             0.1,
             "#c51b7d"
            ],
            [
             0.2,
             "#de77ae"
            ],
            [
             0.3,
             "#f1b6da"
            ],
            [
             0.4,
             "#fde0ef"
            ],
            [
             0.5,
             "#f7f7f7"
            ],
            [
             0.6,
             "#e6f5d0"
            ],
            [
             0.7,
             "#b8e186"
            ],
            [
             0.8,
             "#7fbc41"
            ],
            [
             0.9,
             "#4d9221"
            ],
            [
             1,
             "#276419"
            ]
           ],
           "sequential": [
            [
             0,
             "#0d0887"
            ],
            [
             0.1111111111111111,
             "#46039f"
            ],
            [
             0.2222222222222222,
             "#7201a8"
            ],
            [
             0.3333333333333333,
             "#9c179e"
            ],
            [
             0.4444444444444444,
             "#bd3786"
            ],
            [
             0.5555555555555556,
             "#d8576b"
            ],
            [
             0.6666666666666666,
             "#ed7953"
            ],
            [
             0.7777777777777778,
             "#fb9f3a"
            ],
            [
             0.8888888888888888,
             "#fdca26"
            ],
            [
             1,
             "#f0f921"
            ]
           ],
           "sequentialminus": [
            [
             0,
             "#0d0887"
            ],
            [
             0.1111111111111111,
             "#46039f"
            ],
            [
             0.2222222222222222,
             "#7201a8"
            ],
            [
             0.3333333333333333,
             "#9c179e"
            ],
            [
             0.4444444444444444,
             "#bd3786"
            ],
            [
             0.5555555555555556,
             "#d8576b"
            ],
            [
             0.6666666666666666,
             "#ed7953"
            ],
            [
             0.7777777777777778,
             "#fb9f3a"
            ],
            [
             0.8888888888888888,
             "#fdca26"
            ],
            [
             1,
             "#f0f921"
            ]
           ]
          },
          "colorway": [
           "#636efa",
           "#EF553B",
           "#00cc96",
           "#ab63fa",
           "#FFA15A",
           "#19d3f3",
           "#FF6692",
           "#B6E880",
           "#FF97FF",
           "#FECB52"
          ],
          "font": {
           "color": "#2a3f5f"
          },
          "geo": {
           "bgcolor": "white",
           "lakecolor": "white",
           "landcolor": "#E5ECF6",
           "showlakes": true,
           "showland": true,
           "subunitcolor": "white"
          },
          "hoverlabel": {
           "align": "left"
          },
          "hovermode": "closest",
          "mapbox": {
           "style": "light"
          },
          "paper_bgcolor": "white",
          "plot_bgcolor": "#E5ECF6",
          "polar": {
           "angularaxis": {
            "gridcolor": "white",
            "linecolor": "white",
            "ticks": ""
           },
           "bgcolor": "#E5ECF6",
           "radialaxis": {
            "gridcolor": "white",
            "linecolor": "white",
            "ticks": ""
           }
          },
          "scene": {
           "xaxis": {
            "backgroundcolor": "#E5ECF6",
            "gridcolor": "white",
            "gridwidth": 2,
            "linecolor": "white",
            "showbackground": true,
            "ticks": "",
            "zerolinecolor": "white"
           },
           "yaxis": {
            "backgroundcolor": "#E5ECF6",
            "gridcolor": "white",
            "gridwidth": 2,
            "linecolor": "white",
            "showbackground": true,
            "ticks": "",
            "zerolinecolor": "white"
           },
           "zaxis": {
            "backgroundcolor": "#E5ECF6",
            "gridcolor": "white",
            "gridwidth": 2,
            "linecolor": "white",
            "showbackground": true,
            "ticks": "",
            "zerolinecolor": "white"
           }
          },
          "shapedefaults": {
           "line": {
            "color": "#2a3f5f"
           }
          },
          "ternary": {
           "aaxis": {
            "gridcolor": "white",
            "linecolor": "white",
            "ticks": ""
           },
           "baxis": {
            "gridcolor": "white",
            "linecolor": "white",
            "ticks": ""
           },
           "bgcolor": "#E5ECF6",
           "caxis": {
            "gridcolor": "white",
            "linecolor": "white",
            "ticks": ""
           }
          },
          "title": {
           "x": 0.05
          },
          "xaxis": {
           "automargin": true,
           "gridcolor": "white",
           "linecolor": "white",
           "ticks": "",
           "title": {
            "standoff": 15
           },
           "zerolinecolor": "white",
           "zerolinewidth": 2
          },
          "yaxis": {
           "automargin": true,
           "gridcolor": "white",
           "linecolor": "white",
           "ticks": "",
           "title": {
            "standoff": 15
           },
           "zerolinecolor": "white",
           "zerolinewidth": 2
          }
         }
        },
        "xaxis": {
         "fixedrange": true,
         "showgrid": false,
         "ticktext": [
          "Jan",
          "Feb",
          "Mar",
          "Apr",
          "May",
          "June",
          "July",
          "Aug",
          "Sep",
          "Oct",
          "Nov",
          "Dec"
         ],
         "tickvals": [
          1,
          2,
          3,
          4,
          5,
          6,
          7,
          8,
          9,
          10,
          11,
          12
         ],
         "title": {
          "text": "Month"
         }
        },
        "yaxis": {
         "fixedrange": true,
         "nticks": 12,
         "title": {
          "text": "Year"
         }
        }
       }
      },
      "text/html": [
       "<div>                            <div id=\"5c7ecfd8-8c8c-42b5-be5e-7e58d34cf360\" class=\"plotly-graph-div\" style=\"height:450px; width:100%;\"></div>            <script type=\"text/javascript\">                require([\"plotly\"], function(Plotly) {                    window.PLOTLYENV=window.PLOTLYENV || {};                                    if (document.getElementById(\"5c7ecfd8-8c8c-42b5-be5e-7e58d34cf360\")) {                    Plotly.newPlot(                        \"5c7ecfd8-8c8c-42b5-be5e-7e58d34cf360\",                        [{\"colorbar\": {\"len\": 0.9, \"thickness\": 10, \"tickmode\": \"array\", \"ticktext\": [\"<b>Min.</b> (0.5)\", \"<b> 5%</b> (0.7)\", \"<b>25%</b> (1.1)\", \"<b>50%</b> (1.8)\", \"<b>75%</b> (2.7)\", \"<b>95%</b> (4.3)\"], \"tickvals\": [0, 5, 24, 47, 71, 90], \"title\": {\"text\": \"<b>Percentile</b> (m)\"}}, \"colorscale\": [[0.0, \"rgb(98, 55, 155)\"], [0.03493402387307466, \"rgb(98, 55, 155)\"], [0.03493402387307466, \"rgb(184, 197, 229)\"], [0.107538276668608, \"rgb(184, 197, 229)\"], [0.107538276668608, \"rgb(166, 206, 93)\"], [0.2345957190607913, \"rgb(166, 206, 93)\"], [0.2345957190607913, \"rgb(255, 254, 66)\"], [0.379804224651858, \"rgb(255, 254, 66)\"], [0.379804224651858, \"rgb(239, 191, 49)\"], [0.6883722990328744, \"rgb(239, 191, 49)\"], [0.6883722990328744, \"rgb(219, 32, 1)\"], [1.0, \"rgb(219, 32, 1)\"]], \"hovertemplate\": \"%{x} %{y}<br>Wave Height: %{text:.2f} m<extra></extra>\", \"text\": [1.5204301075268822, 2.968970380818055, 2.5916666666666672, 3.288068181818184, 4.473388203017833, 4.454992076069728, 3.5613314447592064, 2.5943502824858764, 2.6304407713498645, 2.3192982456140347, 1.8228882833787452, 1.6240896358543415, 2.119714285714284, 2.7289473684210543, 3.944888888888893, 3.093342579750349, 4.143259259259261, 3.2210116731517537, 3.8605584642233897, 3.289958158995816, 2.263486842105264, 2.0413547237076624, 1.92706766917293, 2.128848821081833, 3.108732394366192, 3.328356164383567, 2.5958689458689426, 4.275416666666664, 4.821835883171072, 2.947175572519084, 2.6295735900962884, 2.775813295615272, 2.2529902642559114, 1.81695652173913, 1.810773480662984, 1.987956698240864, 2.674891146589262, 3.494146341463414, 3.778830083565455, 3.0455284552845514, 3.7776881720430127, 3.334743202416912, 3.463826815642455, 2.622471910112358, 2.556473829201101, 1.8255586592178776, 1.9720867208672088, 1.4757946210268944, 2.125401459854014, 2.087096774193548, 2.949652294853963, 3.5369063772048843, 3.3957994579945785, 3.4012012012012023, 2.9533875338753397, 1.3625174825174806, 1.962059620596208, 1.479937304075237, 1.984210526315789, 1.998521505376344, 2.0940027894002813, 2.501615074024223, 2.4913769123783007, 4.932614555256066, 4.894729729729726, 3.724122807017554, 4.377223719676546, 2.720833333333343, 1.7091655266757897, 2.121090387374472, 1.9535762483130903, 2.502578018995937, 2.5237359550561838, 3.648448043184888, 3.311961057023653, 3.90318118948823, 4.969512195121954, 2.698952095808397, 3.601081081081082, 2.7722801788375646, 2.959810554803789, 1.651182197496527, 2.2587280108254517, 2.571469740634021, 2.2557262569832486, 2.523283983849271, 4.968105849582181, 3.569324324324328, 3.236941813261167, 2.725112781954899, 2.4970954356846584, 2.22720694645442, 1.8305185185185264, 1.850505050505057, 2.272796352583589, 1.6745376955903302, 2.429166666666678, 2.923118279569894, 3.625312934631423, 2.390148448043192, 2.8403532608695694, 5.003278688524588, 2.610810810810817, 2.791139240506342, 3.2563037249283684, 2.333997155049793, 1.8995614035087725, 1.8533333333333373, 3.5811158798283333, 3.2017316017316086, 4.053084648493555, 5.020361990950226, 1.9062701555869892, 1.7986937669376708, 2.2999782903663584, 2.465744710860377, 2.7431129032258204, 3.749245125348202, 4.193188679245297, 4.343742587601093, 4.42742942942943, 3.501682403433486, 2.5181841004184173, 2.2689193548387223, 1.437284122562673, 1.580550607287453, 2.0010700808625392, 1.8372729805013963, 3.595794078061929, 2.875, 4.615741046831971, 5.421498633879801, 4.067093514328818, 4.158539310344848, 2.5036955903271845, 2.712714285714296, 2.173183216783224, 2.1551202702702787, 2.250745945945953, 2.023094707520892, 2.7212795698924817, 4.499663421418653, 6.016856459330146, 1.557712802768165, 1.8598816155988929, 1.954671328671337, 2.2847107438016647, 3.0499691444600403, 2.6599702702702817, 2.85308217270196, 2.149802197802197, 2.9471324503311243, 2.146050139275772, 2.0339231805930007, 2.5035529225908446, 3.112844771241833, 1.1883421052631584, 4.048628224582714, 5.341717391304367, 5.237610666666673, 3.1861690476190585, 2.482372972972984, 1.6308116975748908, 1.6572537517053183, 2.1251102040816376, 2.5413295932678936, 3.1157164383561797, 4.21689154929579, 4.244409459459475], \"type\": \"heatmap\", \"x\": [9, 10, 11, 12, 1, 2, 3, 4, 5, 6, 7, 8, 9, 10, 11, 12, 1, 2, 3, 4, 5, 6, 7, 8, 9, 10, 11, 12, 1, 2, 3, 4, 5, 6, 7, 8, 9, 10, 11, 12, 1, 2, 3, 4, 5, 6, 7, 8, 9, 10, 11, 12, 1, 2, 3, 4, 5, 6, 7, 8, 9, 10, 11, 12, 1, 2, 3, 4, 5, 6, 7, 8, 9, 10, 11, 12, 1, 2, 3, 4, 5, 6, 7, 8, 9, 10, 11, 12, 1, 2, 3, 4, 5, 6, 7, 8, 9, 10, 11, 12, 1, 2, 3, 4, 5, 6, 7, 8, 9, 10, 11, 12, 6, 7, 8, 9, 10, 11, 12, 1, 2, 3, 4, 5, 6, 7, 8, 9, 10, 11, 12, 1, 2, 3, 4, 5, 6, 7, 8, 9, 10, 11, 12, 5, 6, 7, 8, 9, 10, 11, 12, 3, 4, 5, 6, 10, 11, 12, 1, 2, 4, 5, 6, 7, 8, 9, 10, 11, 12], \"y\": [2002, 2002, 2002, 2002, 2003, 2003, 2003, 2003, 2003, 2003, 2003, 2003, 2003, 2003, 2003, 2003, 2004, 2004, 2004, 2004, 2004, 2004, 2004, 2004, 2004, 2004, 2004, 2004, 2005, 2005, 2005, 2005, 2005, 2005, 2005, 2005, 2005, 2005, 2005, 2005, 2006, 2006, 2006, 2006, 2006, 2006, 2006, 2006, 2006, 2006, 2006, 2006, 2007, 2007, 2007, 2007, 2007, 2007, 2007, 2007, 2007, 2007, 2007, 2007, 2008, 2008, 2008, 2008, 2008, 2008, 2008, 2008, 2008, 2008, 2008, 2008, 2009, 2009, 2009, 2009, 2009, 2009, 2009, 2009, 2009, 2009, 2009, 2009, 2010, 2010, 2010, 2010, 2010, 2010, 2010, 2010, 2010, 2010, 2010, 2010, 2011, 2011, 2011, 2011, 2011, 2011, 2011, 2011, 2011, 2011, 2011, 2011, 2012, 2012, 2012, 2012, 2012, 2012, 2012, 2013, 2013, 2014, 2014, 2014, 2014, 2014, 2014, 2014, 2014, 2014, 2014, 2015, 2015, 2015, 2015, 2015, 2015, 2015, 2015, 2015, 2015, 2015, 2015, 2016, 2016, 2016, 2016, 2016, 2016, 2016, 2016, 2017, 2017, 2017, 2017, 2017, 2017, 2017, 2018, 2018, 2018, 2018, 2018, 2018, 2018, 2018, 2018, 2018, 2018], \"z\": [1.5204301075268822, 2.968970380818055, 2.5916666666666672, 3.288068181818184, 4.473388203017833, 4.454992076069728, 3.5613314447592064, 2.5943502824858764, 2.6304407713498645, 2.3192982456140347, 1.8228882833787452, 1.6240896358543415, 2.119714285714284, 2.7289473684210543, 3.944888888888893, 3.093342579750349, 4.143259259259261, 3.2210116731517537, 3.8605584642233897, 3.289958158995816, 2.263486842105264, 2.0413547237076624, 1.92706766917293, 2.128848821081833, 3.108732394366192, 3.328356164383567, 2.5958689458689426, 4.275416666666664, 4.821835883171072, 2.947175572519084, 2.6295735900962884, 2.775813295615272, 2.2529902642559114, 1.81695652173913, 1.810773480662984, 1.987956698240864, 2.674891146589262, 3.494146341463414, 3.778830083565455, 3.0455284552845514, 3.7776881720430127, 3.334743202416912, 3.463826815642455, 2.622471910112358, 2.556473829201101, 1.8255586592178776, 1.9720867208672088, 1.4757946210268944, 2.125401459854014, 2.087096774193548, 2.949652294853963, 3.5369063772048843, 3.3957994579945785, 3.4012012012012023, 2.9533875338753397, 1.3625174825174806, 1.962059620596208, 1.479937304075237, 1.984210526315789, 1.998521505376344, 2.0940027894002813, 2.501615074024223, 2.4913769123783007, 4.932614555256066, 4.894729729729726, 3.724122807017554, 4.377223719676546, 2.720833333333343, 1.7091655266757897, 2.121090387374472, 1.9535762483130903, 2.502578018995937, 2.5237359550561838, 3.648448043184888, 3.311961057023653, 3.90318118948823, 4.969512195121954, 2.698952095808397, 3.601081081081082, 2.7722801788375646, 2.959810554803789, 1.651182197496527, 2.2587280108254517, 2.571469740634021, 2.2557262569832486, 2.523283983849271, 4.968105849582181, 3.569324324324328, 3.236941813261167, 2.725112781954899, 2.4970954356846584, 2.22720694645442, 1.8305185185185264, 1.850505050505057, 2.272796352583589, 1.6745376955903302, 2.429166666666678, 2.923118279569894, 3.625312934631423, 2.390148448043192, 2.8403532608695694, 5.003278688524588, 2.610810810810817, 2.791139240506342, 3.2563037249283684, 2.333997155049793, 1.8995614035087725, 1.8533333333333373, 3.5811158798283333, 3.2017316017316086, 4.053084648493555, 5.020361990950226, 1.9062701555869892, 1.7986937669376708, 2.2999782903663584, 2.465744710860377, 2.7431129032258204, 3.749245125348202, 4.193188679245297, 4.343742587601093, 4.42742942942943, 3.501682403433486, 2.5181841004184173, 2.2689193548387223, 1.437284122562673, 1.580550607287453, 2.0010700808625392, 1.8372729805013963, 3.595794078061929, 2.875, 4.615741046831971, 5.421498633879801, 4.067093514328818, 4.158539310344848, 2.5036955903271845, 2.712714285714296, 2.173183216783224, 2.1551202702702787, 2.250745945945953, 2.023094707520892, 2.7212795698924817, 4.499663421418653, 6.016856459330146, 1.557712802768165, 1.8598816155988929, 1.954671328671337, 2.2847107438016647, 3.0499691444600403, 2.6599702702702817, 2.85308217270196, 2.149802197802197, 2.9471324503311243, 2.146050139275772, 2.0339231805930007, 2.5035529225908446, 3.112844771241833, 1.1883421052631584, 4.048628224582714, 5.341717391304367, 5.237610666666673, 3.1861690476190585, 2.482372972972984, 1.6308116975748908, 1.6572537517053183, 2.1251102040816376, 2.5413295932678936, 3.1157164383561797, 4.21689154929579, 4.244409459459475], \"zmax\": 6.016856459330146, \"zmin\": 0.507537313432836}],                        {\"font\": {\"color\": \"#7f7f7f\"}, \"height\": 450, \"hovermode\": \"closest\", \"legend\": {\"bgcolor\": \"rgba(0,0,0,0)\", \"itemclick\": false, \"itemdoubleclick\": false, \"orientation\": \"h\"}, \"margin\": {\"b\": 0, \"l\": 0, \"r\": 0, \"t\": 0}, \"paper_bgcolor\": \"rgba(0,0,0,0)\", \"plot_bgcolor\": \"#f7fbfd\", \"template\": {\"data\": {\"bar\": [{\"error_x\": {\"color\": \"#2a3f5f\"}, \"error_y\": {\"color\": \"#2a3f5f\"}, \"marker\": {\"line\": {\"color\": \"#E5ECF6\", \"width\": 0.5}}, \"type\": \"bar\"}], \"barpolar\": [{\"marker\": {\"line\": {\"color\": \"#E5ECF6\", \"width\": 0.5}}, \"type\": \"barpolar\"}], \"carpet\": [{\"aaxis\": {\"endlinecolor\": \"#2a3f5f\", \"gridcolor\": \"white\", \"linecolor\": \"white\", \"minorgridcolor\": \"white\", \"startlinecolor\": \"#2a3f5f\"}, \"baxis\": {\"endlinecolor\": \"#2a3f5f\", \"gridcolor\": \"white\", \"linecolor\": \"white\", \"minorgridcolor\": \"white\", \"startlinecolor\": \"#2a3f5f\"}, \"type\": \"carpet\"}], \"choropleth\": [{\"colorbar\": {\"outlinewidth\": 0, \"ticks\": \"\"}, \"type\": \"choropleth\"}], \"contour\": [{\"colorbar\": {\"outlinewidth\": 0, \"ticks\": \"\"}, \"colorscale\": [[0.0, \"#0d0887\"], [0.1111111111111111, \"#46039f\"], [0.2222222222222222, \"#7201a8\"], [0.3333333333333333, \"#9c179e\"], [0.4444444444444444, \"#bd3786\"], [0.5555555555555556, \"#d8576b\"], [0.6666666666666666, \"#ed7953\"], [0.7777777777777778, \"#fb9f3a\"], [0.8888888888888888, \"#fdca26\"], [1.0, \"#f0f921\"]], \"type\": \"contour\"}], \"contourcarpet\": [{\"colorbar\": {\"outlinewidth\": 0, \"ticks\": \"\"}, \"type\": \"contourcarpet\"}], \"heatmap\": [{\"colorbar\": {\"outlinewidth\": 0, \"ticks\": \"\"}, \"colorscale\": [[0.0, \"#0d0887\"], [0.1111111111111111, \"#46039f\"], [0.2222222222222222, \"#7201a8\"], [0.3333333333333333, \"#9c179e\"], [0.4444444444444444, \"#bd3786\"], [0.5555555555555556, \"#d8576b\"], [0.6666666666666666, \"#ed7953\"], [0.7777777777777778, \"#fb9f3a\"], [0.8888888888888888, \"#fdca26\"], [1.0, \"#f0f921\"]], \"type\": \"heatmap\"}], \"heatmapgl\": [{\"colorbar\": {\"outlinewidth\": 0, \"ticks\": \"\"}, \"colorscale\": [[0.0, \"#0d0887\"], [0.1111111111111111, \"#46039f\"], [0.2222222222222222, \"#7201a8\"], [0.3333333333333333, \"#9c179e\"], [0.4444444444444444, \"#bd3786\"], [0.5555555555555556, \"#d8576b\"], [0.6666666666666666, \"#ed7953\"], [0.7777777777777778, \"#fb9f3a\"], [0.8888888888888888, \"#fdca26\"], [1.0, \"#f0f921\"]], \"type\": \"heatmapgl\"}], \"histogram\": [{\"marker\": {\"colorbar\": {\"outlinewidth\": 0, \"ticks\": \"\"}}, \"type\": \"histogram\"}], \"histogram2d\": [{\"colorbar\": {\"outlinewidth\": 0, \"ticks\": \"\"}, \"colorscale\": [[0.0, \"#0d0887\"], [0.1111111111111111, \"#46039f\"], [0.2222222222222222, \"#7201a8\"], [0.3333333333333333, \"#9c179e\"], [0.4444444444444444, \"#bd3786\"], [0.5555555555555556, \"#d8576b\"], [0.6666666666666666, \"#ed7953\"], [0.7777777777777778, \"#fb9f3a\"], [0.8888888888888888, \"#fdca26\"], [1.0, \"#f0f921\"]], \"type\": \"histogram2d\"}], \"histogram2dcontour\": [{\"colorbar\": {\"outlinewidth\": 0, \"ticks\": \"\"}, \"colorscale\": [[0.0, \"#0d0887\"], [0.1111111111111111, \"#46039f\"], [0.2222222222222222, \"#7201a8\"], [0.3333333333333333, \"#9c179e\"], [0.4444444444444444, \"#bd3786\"], [0.5555555555555556, \"#d8576b\"], [0.6666666666666666, \"#ed7953\"], [0.7777777777777778, \"#fb9f3a\"], [0.8888888888888888, \"#fdca26\"], [1.0, \"#f0f921\"]], \"type\": \"histogram2dcontour\"}], \"mesh3d\": [{\"colorbar\": {\"outlinewidth\": 0, \"ticks\": \"\"}, \"type\": \"mesh3d\"}], \"parcoords\": [{\"line\": {\"colorbar\": {\"outlinewidth\": 0, \"ticks\": \"\"}}, \"type\": \"parcoords\"}], \"pie\": [{\"automargin\": true, \"type\": \"pie\"}], \"scatter\": [{\"marker\": {\"colorbar\": {\"outlinewidth\": 0, \"ticks\": \"\"}}, \"type\": \"scatter\"}], \"scatter3d\": [{\"line\": {\"colorbar\": {\"outlinewidth\": 0, \"ticks\": \"\"}}, \"marker\": {\"colorbar\": {\"outlinewidth\": 0, \"ticks\": \"\"}}, \"type\": \"scatter3d\"}], \"scattercarpet\": [{\"marker\": {\"colorbar\": {\"outlinewidth\": 0, \"ticks\": \"\"}}, \"type\": \"scattercarpet\"}], \"scattergeo\": [{\"marker\": {\"colorbar\": {\"outlinewidth\": 0, \"ticks\": \"\"}}, \"type\": \"scattergeo\"}], \"scattergl\": [{\"marker\": {\"colorbar\": {\"outlinewidth\": 0, \"ticks\": \"\"}}, \"type\": \"scattergl\"}], \"scattermapbox\": [{\"marker\": {\"colorbar\": {\"outlinewidth\": 0, \"ticks\": \"\"}}, \"type\": \"scattermapbox\"}], \"scatterpolar\": [{\"marker\": {\"colorbar\": {\"outlinewidth\": 0, \"ticks\": \"\"}}, \"type\": \"scatterpolar\"}], \"scatterpolargl\": [{\"marker\": {\"colorbar\": {\"outlinewidth\": 0, \"ticks\": \"\"}}, \"type\": \"scatterpolargl\"}], \"scatterternary\": [{\"marker\": {\"colorbar\": {\"outlinewidth\": 0, \"ticks\": \"\"}}, \"type\": \"scatterternary\"}], \"surface\": [{\"colorbar\": {\"outlinewidth\": 0, \"ticks\": \"\"}, \"colorscale\": [[0.0, \"#0d0887\"], [0.1111111111111111, \"#46039f\"], [0.2222222222222222, \"#7201a8\"], [0.3333333333333333, \"#9c179e\"], [0.4444444444444444, \"#bd3786\"], [0.5555555555555556, \"#d8576b\"], [0.6666666666666666, \"#ed7953\"], [0.7777777777777778, \"#fb9f3a\"], [0.8888888888888888, \"#fdca26\"], [1.0, \"#f0f921\"]], \"type\": \"surface\"}], \"table\": [{\"cells\": {\"fill\": {\"color\": \"#EBF0F8\"}, \"line\": {\"color\": \"white\"}}, \"header\": {\"fill\": {\"color\": \"#C8D4E3\"}, \"line\": {\"color\": \"white\"}}, \"type\": \"table\"}]}, \"layout\": {\"annotationdefaults\": {\"arrowcolor\": \"#2a3f5f\", \"arrowhead\": 0, \"arrowwidth\": 1}, \"autotypenumbers\": \"strict\", \"coloraxis\": {\"colorbar\": {\"outlinewidth\": 0, \"ticks\": \"\"}}, \"colorscale\": {\"diverging\": [[0, \"#8e0152\"], [0.1, \"#c51b7d\"], [0.2, \"#de77ae\"], [0.3, \"#f1b6da\"], [0.4, \"#fde0ef\"], [0.5, \"#f7f7f7\"], [0.6, \"#e6f5d0\"], [0.7, \"#b8e186\"], [0.8, \"#7fbc41\"], [0.9, \"#4d9221\"], [1, \"#276419\"]], \"sequential\": [[0.0, \"#0d0887\"], [0.1111111111111111, \"#46039f\"], [0.2222222222222222, \"#7201a8\"], [0.3333333333333333, \"#9c179e\"], [0.4444444444444444, \"#bd3786\"], [0.5555555555555556, \"#d8576b\"], [0.6666666666666666, \"#ed7953\"], [0.7777777777777778, \"#fb9f3a\"], [0.8888888888888888, \"#fdca26\"], [1.0, \"#f0f921\"]], \"sequentialminus\": [[0.0, \"#0d0887\"], [0.1111111111111111, \"#46039f\"], [0.2222222222222222, \"#7201a8\"], [0.3333333333333333, \"#9c179e\"], [0.4444444444444444, \"#bd3786\"], [0.5555555555555556, \"#d8576b\"], [0.6666666666666666, \"#ed7953\"], [0.7777777777777778, \"#fb9f3a\"], [0.8888888888888888, \"#fdca26\"], [1.0, \"#f0f921\"]]}, \"colorway\": [\"#636efa\", \"#EF553B\", \"#00cc96\", \"#ab63fa\", \"#FFA15A\", \"#19d3f3\", \"#FF6692\", \"#B6E880\", \"#FF97FF\", \"#FECB52\"], \"font\": {\"color\": \"#2a3f5f\"}, \"geo\": {\"bgcolor\": \"white\", \"lakecolor\": \"white\", \"landcolor\": \"#E5ECF6\", \"showlakes\": true, \"showland\": true, \"subunitcolor\": \"white\"}, \"hoverlabel\": {\"align\": \"left\"}, \"hovermode\": \"closest\", \"mapbox\": {\"style\": \"light\"}, \"paper_bgcolor\": \"white\", \"plot_bgcolor\": \"#E5ECF6\", \"polar\": {\"angularaxis\": {\"gridcolor\": \"white\", \"linecolor\": \"white\", \"ticks\": \"\"}, \"bgcolor\": \"#E5ECF6\", \"radialaxis\": {\"gridcolor\": \"white\", \"linecolor\": \"white\", \"ticks\": \"\"}}, \"scene\": {\"xaxis\": {\"backgroundcolor\": \"#E5ECF6\", \"gridcolor\": \"white\", \"gridwidth\": 2, \"linecolor\": \"white\", \"showbackground\": true, \"ticks\": \"\", \"zerolinecolor\": \"white\"}, \"yaxis\": {\"backgroundcolor\": \"#E5ECF6\", \"gridcolor\": \"white\", \"gridwidth\": 2, \"linecolor\": \"white\", \"showbackground\": true, \"ticks\": \"\", \"zerolinecolor\": \"white\"}, \"zaxis\": {\"backgroundcolor\": \"#E5ECF6\", \"gridcolor\": \"white\", \"gridwidth\": 2, \"linecolor\": \"white\", \"showbackground\": true, \"ticks\": \"\", \"zerolinecolor\": \"white\"}}, \"shapedefaults\": {\"line\": {\"color\": \"#2a3f5f\"}}, \"ternary\": {\"aaxis\": {\"gridcolor\": \"white\", \"linecolor\": \"white\", \"ticks\": \"\"}, \"baxis\": {\"gridcolor\": \"white\", \"linecolor\": \"white\", \"ticks\": \"\"}, \"bgcolor\": \"#E5ECF6\", \"caxis\": {\"gridcolor\": \"white\", \"linecolor\": \"white\", \"ticks\": \"\"}}, \"title\": {\"x\": 0.05}, \"xaxis\": {\"automargin\": true, \"gridcolor\": \"white\", \"linecolor\": \"white\", \"ticks\": \"\", \"title\": {\"standoff\": 15}, \"zerolinecolor\": \"white\", \"zerolinewidth\": 2}, \"yaxis\": {\"automargin\": true, \"gridcolor\": \"white\", \"linecolor\": \"white\", \"ticks\": \"\", \"title\": {\"standoff\": 15}, \"zerolinecolor\": \"white\", \"zerolinewidth\": 2}}}, \"xaxis\": {\"fixedrange\": true, \"showgrid\": false, \"ticktext\": [\"Jan\", \"Feb\", \"Mar\", \"Apr\", \"May\", \"June\", \"July\", \"Aug\", \"Sep\", \"Oct\", \"Nov\", \"Dec\"], \"tickvals\": [1, 2, 3, 4, 5, 6, 7, 8, 9, 10, 11, 12], \"title\": {\"text\": \"Month\"}}, \"yaxis\": {\"fixedrange\": true, \"nticks\": 12, \"title\": {\"text\": \"Year\"}}},                        {\"responsive\": true}                    ).then(function(){\n",
       "                            \n",
       "var gd = document.getElementById('5c7ecfd8-8c8c-42b5-be5e-7e58d34cf360');\n",
       "var x = new MutationObserver(function (mutations, observer) {{\n",
       "        var display = window.getComputedStyle(gd).display;\n",
       "        if (!display || display === 'none') {{\n",
       "            console.log([gd, 'removed!']);\n",
       "            Plotly.purge(gd);\n",
       "            observer.disconnect();\n",
       "        }}\n",
       "}});\n",
       "\n",
       "// Listen for the removal of the full notebook cells\n",
       "var notebookContainer = gd.closest('#notebook-container');\n",
       "if (notebookContainer) {{\n",
       "    x.observe(notebookContainer, {childList: true});\n",
       "}}\n",
       "\n",
       "// Listen for the clearing of the current output cell\n",
       "var outputEl = gd.closest('.output');\n",
       "if (outputEl) {{\n",
       "    x.observe(outputEl, {childList: true});\n",
       "}}\n",
       "\n",
       "                        })                };                });            </script>        </div>"
      ]
     },
     "metadata": {},
     "output_type": "display_data"
    }
   ],
   "source": [
    "trace_m3 = go.Heatmap(\n",
    "    z=m3_df['mean__monthly__sea_surface_wave_significant_height'],\n",
    "    x=m3_df['datetime'].dt.month,\n",
    "    y=m3_df['datetime'].dt.year,\n",
    "    text=m3_df['mean__monthly__sea_surface_wave_significant_height'],\n",
    "    colorscale=dcolorsc, \n",
    "    zmin=df_min,\n",
    "    zmax=df_max,\n",
    "    colorbar=dict(\n",
    "                tickmode='array',\n",
    "                thickness=10,\n",
    "                len=0.9,\n",
    "        \n",
    "    title='<b>Percentile</b> (m)',\n",
    "            ticktext=[\n",
    "                '<b>Min.</b> (0.5)', \n",
    "                '<b> 5%</b> (0.7)', \n",
    "                '<b>25%</b> (1.1)', \n",
    "                '<b>50%</b> (1.8)',\n",
    "                '<b>75%</b> (2.7)', \n",
    "                '<b>95%</b> (4.3)'],\n",
    "            tickvals=[0,5,24,47, 71, 90]  \n",
    "    ),\n",
    "    hovertemplate='%{x} %{y}<br>'+\n",
    "    'Wave Height: %{text:.2f} m<extra></extra>'\n",
    ")\n",
    "figure_3_11_b = go.Figure(data=trace_m3, layout=TIMESERIES_LAYOUT)\n",
    "figure_3_11_b.update_layout(\n",
    "yaxis=dict(\n",
    "    title='Year',\n",
    "    nticks=12),\n",
    "xaxis=dict(\n",
    "    title='Month',\n",
    "    ticktext=['Jan','Feb','Mar','Apr','May','June','July','Aug','Sep','Oct','Nov','Dec'],\n",
    "    showgrid=False,\n",
    "   tickvals=[1, 2, 3, 4, 5, 6, 7, 8, 9, 10, 11, 12],\n",
    "))\n",
    "\n",
    "# Include white lines as xaxis gridlines\n",
    "x0=1.5\n",
    "for i in range(0,11):\n",
    "    figure_3_11_a.add_shape(type='line',\n",
    "                        x0=x0, y0=2001.5, x1=x0, y1=2019,\n",
    "                        line=dict(color='White', width=3))\n",
    "    x0+=1\n",
    "\n",
    "figure_3_11_b"
   ]
  },
  {
   "cell_type": "code",
   "execution_count": null,
   "id": "revised-former",
   "metadata": {},
   "outputs": [],
   "source": []
  }
 ],
 "metadata": {
  "kernelspec": {
   "display_name": "Python 3",
   "language": "python",
   "name": "python3"
  },
  "language_info": {
   "codemirror_mode": {
    "name": "ipython",
    "version": 3
   },
   "file_extension": ".py",
   "mimetype": "text/x-python",
   "name": "python",
   "nbconvert_exporter": "python",
   "pygments_lexer": "ipython3",
   "version": "3.8.2"
  }
 },
 "nbformat": 4,
 "nbformat_minor": 5
}
