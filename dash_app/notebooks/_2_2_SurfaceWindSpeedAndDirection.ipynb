{
 "cells": [
  {
   "cell_type": "code",
   "execution_count": 1,
   "id": "horizontal-gabriel",
   "metadata": {},
   "outputs": [],
   "source": [
    "# to access root modules\n",
    "if __name__ == \"__main__\" and __package__ is None:\n",
    "    from sys import path\n",
    "    from os.path import dirname as dir\n",
    "\n",
    "    path.append(dir(path[0]))\n",
    "    __package__ = \"dash_app\""
   ]
  },
  {
   "cell_type": "code",
   "execution_count": 2,
   "id": "fitted-stomach",
   "metadata": {},
   "outputs": [],
   "source": [
    "import pandas as pd\n",
    "import numpy as np\n",
    "import datetime\n",
    "import dateutil\n",
    "import plotly.graph_objects as go\n",
    "from plotly.subplots import make_subplots\n",
    "from charts import stations_map\n",
    "from settings import *\n"
   ]
  },
  {
   "cell_type": "code",
   "execution_count": 3,
   "id": "willing-truck",
   "metadata": {},
   "outputs": [],
   "source": [
    "data_path = DATA_PATH+'Atmospheric_Domain/2.2SurfaceWindSpeedDirection/Figure2.4/'\n",
    "data_csv = data_path + 'Figure2.4_data.csv'"
   ]
  },
  {
   "cell_type": "code",
   "execution_count": 22,
   "id": "imposed-replica",
   "metadata": {},
   "outputs": [],
   "source": [
    "# convert_columns = {'year':'datetime',\n",
    "#                       'annual':'mean__annual__wind_speed',\n",
    "#                        'gusts':'sum__annual__gale_gust_days',\n",
    "#                        'annual_11':'moving_average__11yr__wind_speed',\n",
    "#                        'gusts_11':'moving_average_of_sum__11yr__gale_gust_days'\n",
    "#                   }\n",
    "columns_dict = {'datetime':'year',\n",
    "               'mean__annual__wind_speed':'annual',\n",
    "               'sum__annual__gale_gust_days':'gusts',\n",
    "               'moving_average__11yr__wind_speed':'annual_11',\n",
    "               'moving_average_of_sum__11yr__gale_gust_days':'gusts_11'\n",
    "                  }"
   ]
  },
  {
   "cell_type": "code",
   "execution_count": 23,
   "id": "retired-practitioner",
   "metadata": {},
   "outputs": [],
   "source": [
    "def map_columns(columns_dict, original_df):\n",
    "    df = pd.DataFrame()\n",
    "    for key in columns_dict:\n",
    "        df[key] = original_df[columns_dict[key]]\n",
    "    return df\n",
    "    "
   ]
  },
  {
   "cell_type": "code",
   "execution_count": 24,
   "id": "listed-discrimination",
   "metadata": {},
   "outputs": [
    {
     "data": {
      "text/html": [
       "<div>\n",
       "<style scoped>\n",
       "    .dataframe tbody tr th:only-of-type {\n",
       "        vertical-align: middle;\n",
       "    }\n",
       "\n",
       "    .dataframe tbody tr th {\n",
       "        vertical-align: top;\n",
       "    }\n",
       "\n",
       "    .dataframe thead th {\n",
       "        text-align: right;\n",
       "    }\n",
       "</style>\n",
       "<table border=\"1\" class=\"dataframe\">\n",
       "  <thead>\n",
       "    <tr style=\"text-align: right;\">\n",
       "      <th></th>\n",
       "      <th>datetime</th>\n",
       "      <th>mean__annual__wind_speed</th>\n",
       "      <th>sum__annual__gale_gust_days</th>\n",
       "      <th>moving_average__11yr__wind_speed</th>\n",
       "      <th>moving_average_of_sum__11yr__gale_gust_days</th>\n",
       "      <th>location</th>\n",
       "    </tr>\n",
       "  </thead>\n",
       "  <tbody>\n",
       "    <tr>\n",
       "      <th>0</th>\n",
       "      <td>1940</td>\n",
       "      <td>5.453111</td>\n",
       "      <td>118.0</td>\n",
       "      <td>NaN</td>\n",
       "      <td>NaN</td>\n",
       "      <td>Valentia</td>\n",
       "    </tr>\n",
       "    <tr>\n",
       "      <th>1</th>\n",
       "      <td>1941</td>\n",
       "      <td>5.247333</td>\n",
       "      <td>104.0</td>\n",
       "      <td>NaN</td>\n",
       "      <td>NaN</td>\n",
       "      <td>Valentia</td>\n",
       "    </tr>\n",
       "    <tr>\n",
       "      <th>2</th>\n",
       "      <td>1942</td>\n",
       "      <td>5.813222</td>\n",
       "      <td>127.0</td>\n",
       "      <td>NaN</td>\n",
       "      <td>NaN</td>\n",
       "      <td>Valentia</td>\n",
       "    </tr>\n",
       "    <tr>\n",
       "      <th>3</th>\n",
       "      <td>1943</td>\n",
       "      <td>6.327667</td>\n",
       "      <td>149.0</td>\n",
       "      <td>NaN</td>\n",
       "      <td>NaN</td>\n",
       "      <td>Valentia</td>\n",
       "    </tr>\n",
       "    <tr>\n",
       "      <th>4</th>\n",
       "      <td>1944</td>\n",
       "      <td>5.658889</td>\n",
       "      <td>119.0</td>\n",
       "      <td>NaN</td>\n",
       "      <td>NaN</td>\n",
       "      <td>Valentia</td>\n",
       "    </tr>\n",
       "    <tr>\n",
       "      <th>...</th>\n",
       "      <td>...</td>\n",
       "      <td>...</td>\n",
       "      <td>...</td>\n",
       "      <td>...</td>\n",
       "      <td>...</td>\n",
       "      <td>...</td>\n",
       "    </tr>\n",
       "    <tr>\n",
       "      <th>76</th>\n",
       "      <td>2016</td>\n",
       "      <td>4.732889</td>\n",
       "      <td>73.0</td>\n",
       "      <td>NaN</td>\n",
       "      <td>NaN</td>\n",
       "      <td>Valentia</td>\n",
       "    </tr>\n",
       "    <tr>\n",
       "      <th>77</th>\n",
       "      <td>2017</td>\n",
       "      <td>4.784333</td>\n",
       "      <td>71.0</td>\n",
       "      <td>NaN</td>\n",
       "      <td>NaN</td>\n",
       "      <td>Valentia</td>\n",
       "    </tr>\n",
       "    <tr>\n",
       "      <th>78</th>\n",
       "      <td>2018</td>\n",
       "      <td>4.835778</td>\n",
       "      <td>78.0</td>\n",
       "      <td>NaN</td>\n",
       "      <td>NaN</td>\n",
       "      <td>Valentia</td>\n",
       "    </tr>\n",
       "    <tr>\n",
       "      <th>79</th>\n",
       "      <td>2019</td>\n",
       "      <td>5.093000</td>\n",
       "      <td>91.0</td>\n",
       "      <td>NaN</td>\n",
       "      <td>NaN</td>\n",
       "      <td>Valentia</td>\n",
       "    </tr>\n",
       "    <tr>\n",
       "      <th>80</th>\n",
       "      <td>2020</td>\n",
       "      <td>NaN</td>\n",
       "      <td>NaN</td>\n",
       "      <td>NaN</td>\n",
       "      <td>NaN</td>\n",
       "      <td>Valentia</td>\n",
       "    </tr>\n",
       "  </tbody>\n",
       "</table>\n",
       "<p>81 rows × 6 columns</p>\n",
       "</div>"
      ],
      "text/plain": [
       "    datetime  mean__annual__wind_speed  sum__annual__gale_gust_days  \\\n",
       "0       1940                  5.453111                        118.0   \n",
       "1       1941                  5.247333                        104.0   \n",
       "2       1942                  5.813222                        127.0   \n",
       "3       1943                  6.327667                        149.0   \n",
       "4       1944                  5.658889                        119.0   \n",
       "..       ...                       ...                          ...   \n",
       "76      2016                  4.732889                         73.0   \n",
       "77      2017                  4.784333                         71.0   \n",
       "78      2018                  4.835778                         78.0   \n",
       "79      2019                  5.093000                         91.0   \n",
       "80      2020                       NaN                          NaN   \n",
       "\n",
       "    moving_average__11yr__wind_speed  \\\n",
       "0                                NaN   \n",
       "1                                NaN   \n",
       "2                                NaN   \n",
       "3                                NaN   \n",
       "4                                NaN   \n",
       "..                               ...   \n",
       "76                               NaN   \n",
       "77                               NaN   \n",
       "78                               NaN   \n",
       "79                               NaN   \n",
       "80                               NaN   \n",
       "\n",
       "    moving_average_of_sum__11yr__gale_gust_days  location  \n",
       "0                                           NaN  Valentia  \n",
       "1                                           NaN  Valentia  \n",
       "2                                           NaN  Valentia  \n",
       "3                                           NaN  Valentia  \n",
       "4                                           NaN  Valentia  \n",
       "..                                          ...       ...  \n",
       "76                                          NaN  Valentia  \n",
       "77                                          NaN  Valentia  \n",
       "78                                          NaN  Valentia  \n",
       "79                                          NaN  Valentia  \n",
       "80                                          NaN  Valentia  \n",
       "\n",
       "[81 rows x 6 columns]"
      ]
     },
     "execution_count": 24,
     "metadata": {},
     "output_type": "execute_result"
    }
   ],
   "source": [
    "xls = pd.ExcelFile(\n",
    "    data_path+'AnnualMeanwindSpeeds_NumberofDaysWithGuts_SurfaceWind_Valentia2019.xlsx')\n",
    "original_df = pd.read_excel(xls, 'Valentia')\n",
    "valentia_df = map_columns(columns_dict, original_df)\n",
    "valentia_df['location'] = 'Valentia'\n",
    "valentia_df"
   ]
  },
  {
   "cell_type": "code",
   "execution_count": 26,
   "id": "complete-shareware",
   "metadata": {},
   "outputs": [],
   "source": [
    "xls = pd.ExcelFile(\n",
    "    data_path+'AnnualMeanwindSpeeds_NumberofDaysWithGuts_SurfaceWind_Dublin2019.xlsx')\n",
    "original_df = pd.read_excel(xls, 'Dublin')\n",
    "dublin_df = map_columns(columns_dict, original_df)\n",
    "dublin_df['location'] = 'Dublin_Airport'"
   ]
  },
  {
   "cell_type": "code",
   "execution_count": 27,
   "id": "checked-mention",
   "metadata": {},
   "outputs": [],
   "source": [
    "df = pd.concat([valentia_df,dublin_df],ignore_index=True)\n",
    "df['datetime'] = pd.to_datetime(df['datetime'],format='%Y')\n",
    "df.to_csv(data_csv)"
   ]
  },
  {
   "cell_type": "code",
   "execution_count": 28,
   "id": "molecular-pocket",
   "metadata": {},
   "outputs": [
    {
     "data": {
      "text/html": [
       "<div>\n",
       "<style scoped>\n",
       "    .dataframe tbody tr th:only-of-type {\n",
       "        vertical-align: middle;\n",
       "    }\n",
       "\n",
       "    .dataframe tbody tr th {\n",
       "        vertical-align: top;\n",
       "    }\n",
       "\n",
       "    .dataframe thead th {\n",
       "        text-align: right;\n",
       "    }\n",
       "</style>\n",
       "<table border=\"1\" class=\"dataframe\">\n",
       "  <thead>\n",
       "    <tr style=\"text-align: right;\">\n",
       "      <th></th>\n",
       "      <th>datetime</th>\n",
       "      <th>mean__annual__wind_speed</th>\n",
       "      <th>sum__annual__gale_gust_days</th>\n",
       "      <th>moving_average__11yr__wind_speed</th>\n",
       "      <th>moving_average_of_sum__11yr__gale_gust_days</th>\n",
       "      <th>location</th>\n",
       "    </tr>\n",
       "  </thead>\n",
       "  <tbody>\n",
       "    <tr>\n",
       "      <th>0</th>\n",
       "      <td>1940-01-01</td>\n",
       "      <td>5.453111</td>\n",
       "      <td>118.0</td>\n",
       "      <td>NaN</td>\n",
       "      <td>NaN</td>\n",
       "      <td>Valentia</td>\n",
       "    </tr>\n",
       "    <tr>\n",
       "      <th>1</th>\n",
       "      <td>1941-01-01</td>\n",
       "      <td>5.247333</td>\n",
       "      <td>104.0</td>\n",
       "      <td>NaN</td>\n",
       "      <td>NaN</td>\n",
       "      <td>Valentia</td>\n",
       "    </tr>\n",
       "    <tr>\n",
       "      <th>2</th>\n",
       "      <td>1942-01-01</td>\n",
       "      <td>5.813222</td>\n",
       "      <td>127.0</td>\n",
       "      <td>NaN</td>\n",
       "      <td>NaN</td>\n",
       "      <td>Valentia</td>\n",
       "    </tr>\n",
       "    <tr>\n",
       "      <th>3</th>\n",
       "      <td>1943-01-01</td>\n",
       "      <td>6.327667</td>\n",
       "      <td>149.0</td>\n",
       "      <td>NaN</td>\n",
       "      <td>NaN</td>\n",
       "      <td>Valentia</td>\n",
       "    </tr>\n",
       "    <tr>\n",
       "      <th>4</th>\n",
       "      <td>1944-01-01</td>\n",
       "      <td>5.658889</td>\n",
       "      <td>119.0</td>\n",
       "      <td>NaN</td>\n",
       "      <td>NaN</td>\n",
       "      <td>Valentia</td>\n",
       "    </tr>\n",
       "    <tr>\n",
       "      <th>...</th>\n",
       "      <td>...</td>\n",
       "      <td>...</td>\n",
       "      <td>...</td>\n",
       "      <td>...</td>\n",
       "      <td>...</td>\n",
       "      <td>...</td>\n",
       "    </tr>\n",
       "    <tr>\n",
       "      <th>157</th>\n",
       "      <td>2016-01-01</td>\n",
       "      <td>5.401667</td>\n",
       "      <td>66.0</td>\n",
       "      <td>NaN</td>\n",
       "      <td>NaN</td>\n",
       "      <td>Dublin_Airport</td>\n",
       "    </tr>\n",
       "    <tr>\n",
       "      <th>158</th>\n",
       "      <td>2017-01-01</td>\n",
       "      <td>5.658889</td>\n",
       "      <td>58.0</td>\n",
       "      <td>NaN</td>\n",
       "      <td>NaN</td>\n",
       "      <td>Dublin_Airport</td>\n",
       "    </tr>\n",
       "    <tr>\n",
       "      <th>159</th>\n",
       "      <td>2018-01-01</td>\n",
       "      <td>5.144444</td>\n",
       "      <td>64.0</td>\n",
       "      <td>NaN</td>\n",
       "      <td>NaN</td>\n",
       "      <td>Dublin_Airport</td>\n",
       "    </tr>\n",
       "    <tr>\n",
       "      <th>160</th>\n",
       "      <td>2019-01-01</td>\n",
       "      <td>4.681444</td>\n",
       "      <td>41.0</td>\n",
       "      <td>NaN</td>\n",
       "      <td>NaN</td>\n",
       "      <td>Dublin_Airport</td>\n",
       "    </tr>\n",
       "    <tr>\n",
       "      <th>161</th>\n",
       "      <td>2020-01-01</td>\n",
       "      <td>NaN</td>\n",
       "      <td>NaN</td>\n",
       "      <td>NaN</td>\n",
       "      <td>NaN</td>\n",
       "      <td>Dublin_Airport</td>\n",
       "    </tr>\n",
       "  </tbody>\n",
       "</table>\n",
       "<p>162 rows × 6 columns</p>\n",
       "</div>"
      ],
      "text/plain": [
       "       datetime  mean__annual__wind_speed  sum__annual__gale_gust_days  \\\n",
       "0    1940-01-01                  5.453111                        118.0   \n",
       "1    1941-01-01                  5.247333                        104.0   \n",
       "2    1942-01-01                  5.813222                        127.0   \n",
       "3    1943-01-01                  6.327667                        149.0   \n",
       "4    1944-01-01                  5.658889                        119.0   \n",
       "..          ...                       ...                          ...   \n",
       "157  2016-01-01                  5.401667                         66.0   \n",
       "158  2017-01-01                  5.658889                         58.0   \n",
       "159  2018-01-01                  5.144444                         64.0   \n",
       "160  2019-01-01                  4.681444                         41.0   \n",
       "161  2020-01-01                       NaN                          NaN   \n",
       "\n",
       "     moving_average__11yr__wind_speed  \\\n",
       "0                                 NaN   \n",
       "1                                 NaN   \n",
       "2                                 NaN   \n",
       "3                                 NaN   \n",
       "4                                 NaN   \n",
       "..                                ...   \n",
       "157                               NaN   \n",
       "158                               NaN   \n",
       "159                               NaN   \n",
       "160                               NaN   \n",
       "161                               NaN   \n",
       "\n",
       "     moving_average_of_sum__11yr__gale_gust_days        location  \n",
       "0                                            NaN        Valentia  \n",
       "1                                            NaN        Valentia  \n",
       "2                                            NaN        Valentia  \n",
       "3                                            NaN        Valentia  \n",
       "4                                            NaN        Valentia  \n",
       "..                                           ...             ...  \n",
       "157                                          NaN  Dublin_Airport  \n",
       "158                                          NaN  Dublin_Airport  \n",
       "159                                          NaN  Dublin_Airport  \n",
       "160                                          NaN  Dublin_Airport  \n",
       "161                                          NaN  Dublin_Airport  \n",
       "\n",
       "[162 rows x 6 columns]"
      ]
     },
     "execution_count": 28,
     "metadata": {},
     "output_type": "execute_result"
    }
   ],
   "source": [
    "df = pd.read_csv(data_csv, index_col=0)\n",
    "df"
   ]
  },
  {
   "cell_type": "code",
   "execution_count": 33,
   "id": "numerical-poverty",
   "metadata": {},
   "outputs": [],
   "source": [
    "# valentia speed\n",
    "valentia_df = df[df['location']=='Valentia']\n",
    "df = valentia_df\n",
    "annual_speed_trace = go.Scatter(x=df['datetime'],\n",
    "                            y=df['mean__annual__wind_speed'],\n",
    "                         name='Annual Mean',\n",
    "                         mode='markers',\n",
    "                         marker=dict(color=TIMESERIES_COLOR_2,\n",
    "                                     size=5,\n",
    "                                     opacity=0.5),\n",
    "                         hovertemplate='%{x}<br>' +\n",
    "                         '<b>Annual Mean</b><br>' +\n",
    "                         'Wind Speed: %{y:.2f} m/s<br>' +\n",
    "                         '<extra></extra>'\n",
    "                         )\n",
    "moving_avg_speed_trace = go.Scatter(x=df['datetime'],\n",
    "                            y=df['moving_average__11yr__wind_speed'],\n",
    "                            name='11 Year Moving Average',\n",
    "                            mode='lines',  # 'line' is default\n",
    "                            line_shape='spline',\n",
    "                            line=dict(color=TIMESERIES_COLOR_1,\n",
    "                                      width=2),\n",
    "                            hovertemplate='%{x}<br>' +\n",
    "                            '<b>11yr Moving Average</b><br>' +\n",
    "                            'Wind Speed: %{y:.2f} m/s<extra></extra>'\n",
    "                            )\n",
    "\n"
   ]
  },
  {
   "cell_type": "code",
   "execution_count": 77,
   "id": "seasonal-forge",
   "metadata": {},
   "outputs": [],
   "source": [
    "# valentia \n",
    "valentia_df = df[df['location']=='Valentia']\n",
    "df = valentia_df\n",
    "annual_speed_trace = go.Scatter(x=df['datetime'],\n",
    "                            y=df['mean__annual__wind_speed'],\n",
    "                         name='Mean Annual Wind Speed',\n",
    "                         mode='markers',\n",
    "                         marker=dict(color=TIMESERIES_COLOR_2,\n",
    "                                     size=5,\n",
    "                                     opacity=0.5),\n",
    "                         hovertemplate='%{x|%Y}<br>' +\n",
    "                         '<b>Mean Annual</b><br>' +\n",
    "                         'Wind Speed: %{y:.2f} m/s<br>' +\n",
    "                         '<extra></extra>'\n",
    "                         )\n",
    "moving_avg_speed_trace = go.Scatter(x=df['datetime'],\n",
    "                            y=df['moving_average__11yr__wind_speed'],\n",
    "                            name='11 Year Moving Average Wind Speed',\n",
    "                            mode='lines',  # 'line' is default\n",
    "                            line_shape='spline',\n",
    "                            line=dict(color=TIMESERIES_COLOR_1,\n",
    "                                      width=2),\n",
    "                            hovertemplate='%{x|%Y}<br>' +\n",
    "                            '<b>11yr Moving Average</b><br>' +\n",
    "                            'Wind Speed: %{y:.2f} m/s<extra></extra>'\n",
    "                            )\n",
    "\n",
    "gust_days_trace = go.Scatter(x=df['datetime'],\n",
    "                            y=df['sum__annual__gale_gust_days'],\n",
    "                         name='Gust Days',\n",
    "                         mode='markers',\n",
    "                         marker=dict(color=TIMESERIES_COLOR_4,\n",
    "                                     size=5,\n",
    "                                     opacity=0.5),\n",
    "                         hovertemplate='%{x|%Y}<br>' +\n",
    "                         '<b>Annual</b><br>' +\n",
    "                         'Gale Gust Days: %{y}<br>' +\n",
    "                         '<extra></extra>'\n",
    "                         )\n",
    "moving_avg_gust_days_trace = go.Scatter(x=df['datetime'],\n",
    "                            y=df['moving_average_of_sum__11yr__gale_gust_days'],\n",
    "                            name='11 Year Moving Average Gale Gust Days',\n",
    "                            mode='lines',  # 'line' is default\n",
    "                            line_shape='spline',\n",
    "                            line=dict(color=TIMESERIES_COLOR_3,\n",
    "                                      width=2),\n",
    "                            hovertemplate='%{x|%Y}<br>' +\n",
    "                            '<b>11yr Moving Average</b><br>' +\n",
    "                            'Gale Gust Days: %{y}<extra></extra>'\n",
    "                            )\n"
   ]
  },
  {
   "cell_type": "code",
   "execution_count": 78,
   "id": "sufficient-specialist",
   "metadata": {},
   "outputs": [
    {
     "data": {
      "application/vnd.plotly.v1+json": {
       "config": {
        "plotlyServerURL": "https://plot.ly"
       },
       "data": [
        {
         "hovertemplate": "%{x|%Y}<br><b>Mean Annual</b><br>Wind Speed: %{y:.2f} m/s<br><extra></extra>",
         "marker": {
          "color": "#E1AF00",
          "opacity": 0.5,
          "size": 5
         },
         "mode": "markers",
         "name": "Mean Annual Wind Speed",
         "type": "scatter",
         "x": [
          "1940-01-01",
          "1941-01-01",
          "1942-01-01",
          "1943-01-01",
          "1944-01-01",
          "1945-01-01",
          "1946-01-01",
          "1947-01-01",
          "1948-01-01",
          "1949-01-01",
          "1950-01-01",
          "1951-01-01",
          "1952-01-01",
          "1953-01-01",
          "1954-01-01",
          "1955-01-01",
          "1956-01-01",
          "1957-01-01",
          "1958-01-01",
          "1959-01-01",
          "1960-01-01",
          "1961-01-01",
          "1962-01-01",
          "1963-01-01",
          "1964-01-01",
          "1965-01-01",
          "1966-01-01",
          "1967-01-01",
          "1968-01-01",
          "1969-01-01",
          "1970-01-01",
          "1971-01-01",
          "1972-01-01",
          "1973-01-01",
          "1974-01-01",
          "1975-01-01",
          "1976-01-01",
          "1977-01-01",
          "1978-01-01",
          "1979-01-01",
          "1980-01-01",
          "1981-01-01",
          "1982-01-01",
          "1983-01-01",
          "1984-01-01",
          "1985-01-01",
          "1986-01-01",
          "1987-01-01",
          "1988-01-01",
          "1989-01-01",
          "1990-01-01",
          "1991-01-01",
          "1992-01-01",
          "1993-01-01",
          "1994-01-01",
          "1995-01-01",
          "1996-01-01",
          "1997-01-01",
          "1998-01-01",
          "1999-01-01",
          "2000-01-01",
          "2001-01-01",
          "2002-01-01",
          "2003-01-01",
          "2004-01-01",
          "2005-01-01",
          "2006-01-01",
          "2007-01-01",
          "2008-01-01",
          "2009-01-01",
          "2010-01-01",
          "2011-01-01",
          "2012-01-01",
          "2013-01-01",
          "2014-01-01",
          "2015-01-01",
          "2016-01-01",
          "2017-01-01",
          "2018-01-01",
          "2019-01-01",
          "2020-01-01"
         ],
         "y": [
          5.453111111111111,
          5.247333333333334,
          5.813222222222223,
          6.327666666666667,
          5.658888888888889,
          5.710333333333334,
          5.813222222222223,
          5.813222222222223,
          6.019,
          5.504555555555555,
          5.556000000000001,
          4.938666666666667,
          4.990111111111111,
          4.630000000000001,
          5.607444444444445,
          4.990111111111111,
          5.041555555555556,
          4.938666666666667,
          5.041555555555556,
          5.401666666666667,
          4.938666666666667,
          5.2987777777777785,
          5.093000000000001,
          5.504555555555555,
          5.607444444444445,
          5.813222222222223,
          6.070444444444445,
          5.864666666666667,
          5.556000000000001,
          5.144444444444445,
          5.658888888888889,
          5.144444444444445,
          5.504555555555555,
          5.247333333333334,
          5.916111111111111,
          5.2987777777777785,
          5.401666666666667,
          5.761777777777778,
          5.710333333333334,
          5.864666666666667,
          5.761777777777778,
          5.813222222222223,
          6.019,
          5.710333333333334,
          5.350222222222222,
          5.607444444444445,
          6.12188888888889,
          5.401666666666667,
          5.401666666666667,
          5.453111111111111,
          5.710333333333334,
          5.195888888888889,
          5.247333333333334,
          4.938666666666667,
          5.041555555555556,
          4.630000000000001,
          4.527111111111112,
          4.3213333333333335,
          4.578555555555556,
          5.041555555555556,
          4.938666666666667,
          4.218444444444445,
          5.093000000000001,
          4.732888888888889,
          4.784333333333334,
          4.784333333333334,
          4.732888888888889,
          4.3213333333333335,
          5.041555555555556,
          4.732888888888889,
          3.961222222222223,
          4.990111111111111,
          4.784333333333334,
          4.835777777777778,
          4.887222222222222,
          5.350222222222222,
          4.732888888888889,
          4.784333333333334,
          4.835777777777778,
          5.093000000000001,
          null
         ]
        },
        {
         "hovertemplate": "%{x|%Y}<br><b>11yr Moving Average</b><br>Wind Speed: %{y:.2f} m/s<extra></extra>",
         "line": {
          "color": "#00a4ae",
          "shape": "spline",
          "width": 2
         },
         "mode": "lines",
         "name": "11 Year Moving Average Wind Speed",
         "type": "scatter",
         "x": [
          "1940-01-01",
          "1941-01-01",
          "1942-01-01",
          "1943-01-01",
          "1944-01-01",
          "1945-01-01",
          "1946-01-01",
          "1947-01-01",
          "1948-01-01",
          "1949-01-01",
          "1950-01-01",
          "1951-01-01",
          "1952-01-01",
          "1953-01-01",
          "1954-01-01",
          "1955-01-01",
          "1956-01-01",
          "1957-01-01",
          "1958-01-01",
          "1959-01-01",
          "1960-01-01",
          "1961-01-01",
          "1962-01-01",
          "1963-01-01",
          "1964-01-01",
          "1965-01-01",
          "1966-01-01",
          "1967-01-01",
          "1968-01-01",
          "1969-01-01",
          "1970-01-01",
          "1971-01-01",
          "1972-01-01",
          "1973-01-01",
          "1974-01-01",
          "1975-01-01",
          "1976-01-01",
          "1977-01-01",
          "1978-01-01",
          "1979-01-01",
          "1980-01-01",
          "1981-01-01",
          "1982-01-01",
          "1983-01-01",
          "1984-01-01",
          "1985-01-01",
          "1986-01-01",
          "1987-01-01",
          "1988-01-01",
          "1989-01-01",
          "1990-01-01",
          "1991-01-01",
          "1992-01-01",
          "1993-01-01",
          "1994-01-01",
          "1995-01-01",
          "1996-01-01",
          "1997-01-01",
          "1998-01-01",
          "1999-01-01",
          "2000-01-01",
          "2001-01-01",
          "2002-01-01",
          "2003-01-01",
          "2004-01-01",
          "2005-01-01",
          "2006-01-01",
          "2007-01-01",
          "2008-01-01",
          "2009-01-01",
          "2010-01-01",
          "2011-01-01",
          "2012-01-01",
          "2013-01-01",
          "2014-01-01",
          "2015-01-01",
          "2016-01-01",
          "2017-01-01",
          "2018-01-01",
          "2019-01-01",
          "2020-01-01"
         ],
         "y": [
          null,
          null,
          null,
          null,
          null,
          5.719686868686869,
          5.672919191919193,
          5.649535353535355,
          5.541969696969698,
          5.47649494949495,
          5.415696969696971,
          5.354898989898991,
          5.27539393939394,
          5.205242424242424,
          5.149121212121213,
          5.097676767676769,
          5.0742929292929295,
          5.0883232323232335,
          5.135090909090911,
          5.223949494949496,
          5.242656565656566,
          5.340868686868688,
          5.41569696969697,
          5.471818181818183,
          5.481171717171718,
          5.504555555555556,
          5.523262626262627,
          5.541969696969697,
          5.556000000000001,
          5.593414141414142,
          5.565353535353537,
          5.527939393939395,
          5.499878787878789,
          5.485848484848486,
          5.513909090909091,
          5.570030303030303,
          5.584060606060607,
          5.663565656565656,
          5.682272727272727,
          5.691626262626262,
          5.663565656565657,
          5.73839393939394,
          5.738393939393939,
          5.705656565656567,
          5.6822727272727285,
          5.668242424242425,
          5.616797979797981,
          5.565353535353537,
          5.467141414141415,
          5.406343434343435,
          5.340868686868687,
          5.242656565656567,
          5.078969696969698,
          5.004141414141414,
          4.97140404040404,
          4.924636363636364,
          4.789010101010101,
          4.779656565656566,
          4.7328888888888905,
          4.718858585858587,
          4.695474747474749,
          4.704828282828284,
          4.686121212121213,
          4.75159595959596,
          4.765626262626263,
          4.667414141414143,
          4.67209090909091,
          4.723535353535355,
          4.700151515151516,
          4.714181818181819,
          4.765626262626262,
          4.760949494949495,
          4.765626262626263,
          4.81239393939394,
          4.817070707070707,
          null,
          null,
          null,
          null,
          null,
          null
         ]
        }
       ],
       "layout": {
        "font": {
         "color": "#7f7f7f"
        },
        "height": 300,
        "hovermode": "closest",
        "legend": {
         "bgcolor": "rgba(0,0,0,0)",
         "itemclick": false,
         "itemdoubleclick": false,
         "orientation": "h"
        },
        "margin": {
         "b": 0,
         "l": 0,
         "r": 0,
         "t": 0
        },
        "paper_bgcolor": "rgba(0,0,0,0)",
        "plot_bgcolor": "#f7fbfd",
        "template": {
         "data": {
          "bar": [
           {
            "error_x": {
             "color": "#2a3f5f"
            },
            "error_y": {
             "color": "#2a3f5f"
            },
            "marker": {
             "line": {
              "color": "#E5ECF6",
              "width": 0.5
             }
            },
            "type": "bar"
           }
          ],
          "barpolar": [
           {
            "marker": {
             "line": {
              "color": "#E5ECF6",
              "width": 0.5
             }
            },
            "type": "barpolar"
           }
          ],
          "carpet": [
           {
            "aaxis": {
             "endlinecolor": "#2a3f5f",
             "gridcolor": "white",
             "linecolor": "white",
             "minorgridcolor": "white",
             "startlinecolor": "#2a3f5f"
            },
            "baxis": {
             "endlinecolor": "#2a3f5f",
             "gridcolor": "white",
             "linecolor": "white",
             "minorgridcolor": "white",
             "startlinecolor": "#2a3f5f"
            },
            "type": "carpet"
           }
          ],
          "choropleth": [
           {
            "colorbar": {
             "outlinewidth": 0,
             "ticks": ""
            },
            "type": "choropleth"
           }
          ],
          "contour": [
           {
            "colorbar": {
             "outlinewidth": 0,
             "ticks": ""
            },
            "colorscale": [
             [
              0,
              "#0d0887"
             ],
             [
              0.1111111111111111,
              "#46039f"
             ],
             [
              0.2222222222222222,
              "#7201a8"
             ],
             [
              0.3333333333333333,
              "#9c179e"
             ],
             [
              0.4444444444444444,
              "#bd3786"
             ],
             [
              0.5555555555555556,
              "#d8576b"
             ],
             [
              0.6666666666666666,
              "#ed7953"
             ],
             [
              0.7777777777777778,
              "#fb9f3a"
             ],
             [
              0.8888888888888888,
              "#fdca26"
             ],
             [
              1,
              "#f0f921"
             ]
            ],
            "type": "contour"
           }
          ],
          "contourcarpet": [
           {
            "colorbar": {
             "outlinewidth": 0,
             "ticks": ""
            },
            "type": "contourcarpet"
           }
          ],
          "heatmap": [
           {
            "colorbar": {
             "outlinewidth": 0,
             "ticks": ""
            },
            "colorscale": [
             [
              0,
              "#0d0887"
             ],
             [
              0.1111111111111111,
              "#46039f"
             ],
             [
              0.2222222222222222,
              "#7201a8"
             ],
             [
              0.3333333333333333,
              "#9c179e"
             ],
             [
              0.4444444444444444,
              "#bd3786"
             ],
             [
              0.5555555555555556,
              "#d8576b"
             ],
             [
              0.6666666666666666,
              "#ed7953"
             ],
             [
              0.7777777777777778,
              "#fb9f3a"
             ],
             [
              0.8888888888888888,
              "#fdca26"
             ],
             [
              1,
              "#f0f921"
             ]
            ],
            "type": "heatmap"
           }
          ],
          "heatmapgl": [
           {
            "colorbar": {
             "outlinewidth": 0,
             "ticks": ""
            },
            "colorscale": [
             [
              0,
              "#0d0887"
             ],
             [
              0.1111111111111111,
              "#46039f"
             ],
             [
              0.2222222222222222,
              "#7201a8"
             ],
             [
              0.3333333333333333,
              "#9c179e"
             ],
             [
              0.4444444444444444,
              "#bd3786"
             ],
             [
              0.5555555555555556,
              "#d8576b"
             ],
             [
              0.6666666666666666,
              "#ed7953"
             ],
             [
              0.7777777777777778,
              "#fb9f3a"
             ],
             [
              0.8888888888888888,
              "#fdca26"
             ],
             [
              1,
              "#f0f921"
             ]
            ],
            "type": "heatmapgl"
           }
          ],
          "histogram": [
           {
            "marker": {
             "colorbar": {
              "outlinewidth": 0,
              "ticks": ""
             }
            },
            "type": "histogram"
           }
          ],
          "histogram2d": [
           {
            "colorbar": {
             "outlinewidth": 0,
             "ticks": ""
            },
            "colorscale": [
             [
              0,
              "#0d0887"
             ],
             [
              0.1111111111111111,
              "#46039f"
             ],
             [
              0.2222222222222222,
              "#7201a8"
             ],
             [
              0.3333333333333333,
              "#9c179e"
             ],
             [
              0.4444444444444444,
              "#bd3786"
             ],
             [
              0.5555555555555556,
              "#d8576b"
             ],
             [
              0.6666666666666666,
              "#ed7953"
             ],
             [
              0.7777777777777778,
              "#fb9f3a"
             ],
             [
              0.8888888888888888,
              "#fdca26"
             ],
             [
              1,
              "#f0f921"
             ]
            ],
            "type": "histogram2d"
           }
          ],
          "histogram2dcontour": [
           {
            "colorbar": {
             "outlinewidth": 0,
             "ticks": ""
            },
            "colorscale": [
             [
              0,
              "#0d0887"
             ],
             [
              0.1111111111111111,
              "#46039f"
             ],
             [
              0.2222222222222222,
              "#7201a8"
             ],
             [
              0.3333333333333333,
              "#9c179e"
             ],
             [
              0.4444444444444444,
              "#bd3786"
             ],
             [
              0.5555555555555556,
              "#d8576b"
             ],
             [
              0.6666666666666666,
              "#ed7953"
             ],
             [
              0.7777777777777778,
              "#fb9f3a"
             ],
             [
              0.8888888888888888,
              "#fdca26"
             ],
             [
              1,
              "#f0f921"
             ]
            ],
            "type": "histogram2dcontour"
           }
          ],
          "mesh3d": [
           {
            "colorbar": {
             "outlinewidth": 0,
             "ticks": ""
            },
            "type": "mesh3d"
           }
          ],
          "parcoords": [
           {
            "line": {
             "colorbar": {
              "outlinewidth": 0,
              "ticks": ""
             }
            },
            "type": "parcoords"
           }
          ],
          "pie": [
           {
            "automargin": true,
            "type": "pie"
           }
          ],
          "scatter": [
           {
            "marker": {
             "colorbar": {
              "outlinewidth": 0,
              "ticks": ""
             }
            },
            "type": "scatter"
           }
          ],
          "scatter3d": [
           {
            "line": {
             "colorbar": {
              "outlinewidth": 0,
              "ticks": ""
             }
            },
            "marker": {
             "colorbar": {
              "outlinewidth": 0,
              "ticks": ""
             }
            },
            "type": "scatter3d"
           }
          ],
          "scattercarpet": [
           {
            "marker": {
             "colorbar": {
              "outlinewidth": 0,
              "ticks": ""
             }
            },
            "type": "scattercarpet"
           }
          ],
          "scattergeo": [
           {
            "marker": {
             "colorbar": {
              "outlinewidth": 0,
              "ticks": ""
             }
            },
            "type": "scattergeo"
           }
          ],
          "scattergl": [
           {
            "marker": {
             "colorbar": {
              "outlinewidth": 0,
              "ticks": ""
             }
            },
            "type": "scattergl"
           }
          ],
          "scattermapbox": [
           {
            "marker": {
             "colorbar": {
              "outlinewidth": 0,
              "ticks": ""
             }
            },
            "type": "scattermapbox"
           }
          ],
          "scatterpolar": [
           {
            "marker": {
             "colorbar": {
              "outlinewidth": 0,
              "ticks": ""
             }
            },
            "type": "scatterpolar"
           }
          ],
          "scatterpolargl": [
           {
            "marker": {
             "colorbar": {
              "outlinewidth": 0,
              "ticks": ""
             }
            },
            "type": "scatterpolargl"
           }
          ],
          "scatterternary": [
           {
            "marker": {
             "colorbar": {
              "outlinewidth": 0,
              "ticks": ""
             }
            },
            "type": "scatterternary"
           }
          ],
          "surface": [
           {
            "colorbar": {
             "outlinewidth": 0,
             "ticks": ""
            },
            "colorscale": [
             [
              0,
              "#0d0887"
             ],
             [
              0.1111111111111111,
              "#46039f"
             ],
             [
              0.2222222222222222,
              "#7201a8"
             ],
             [
              0.3333333333333333,
              "#9c179e"
             ],
             [
              0.4444444444444444,
              "#bd3786"
             ],
             [
              0.5555555555555556,
              "#d8576b"
             ],
             [
              0.6666666666666666,
              "#ed7953"
             ],
             [
              0.7777777777777778,
              "#fb9f3a"
             ],
             [
              0.8888888888888888,
              "#fdca26"
             ],
             [
              1,
              "#f0f921"
             ]
            ],
            "type": "surface"
           }
          ],
          "table": [
           {
            "cells": {
             "fill": {
              "color": "#EBF0F8"
             },
             "line": {
              "color": "white"
             }
            },
            "header": {
             "fill": {
              "color": "#C8D4E3"
             },
             "line": {
              "color": "white"
             }
            },
            "type": "table"
           }
          ]
         },
         "layout": {
          "annotationdefaults": {
           "arrowcolor": "#2a3f5f",
           "arrowhead": 0,
           "arrowwidth": 1
          },
          "autotypenumbers": "strict",
          "coloraxis": {
           "colorbar": {
            "outlinewidth": 0,
            "ticks": ""
           }
          },
          "colorscale": {
           "diverging": [
            [
             0,
             "#8e0152"
            ],
            [
             0.1,
             "#c51b7d"
            ],
            [
             0.2,
             "#de77ae"
            ],
            [
             0.3,
             "#f1b6da"
            ],
            [
             0.4,
             "#fde0ef"
            ],
            [
             0.5,
             "#f7f7f7"
            ],
            [
             0.6,
             "#e6f5d0"
            ],
            [
             0.7,
             "#b8e186"
            ],
            [
             0.8,
             "#7fbc41"
            ],
            [
             0.9,
             "#4d9221"
            ],
            [
             1,
             "#276419"
            ]
           ],
           "sequential": [
            [
             0,
             "#0d0887"
            ],
            [
             0.1111111111111111,
             "#46039f"
            ],
            [
             0.2222222222222222,
             "#7201a8"
            ],
            [
             0.3333333333333333,
             "#9c179e"
            ],
            [
             0.4444444444444444,
             "#bd3786"
            ],
            [
             0.5555555555555556,
             "#d8576b"
            ],
            [
             0.6666666666666666,
             "#ed7953"
            ],
            [
             0.7777777777777778,
             "#fb9f3a"
            ],
            [
             0.8888888888888888,
             "#fdca26"
            ],
            [
             1,
             "#f0f921"
            ]
           ],
           "sequentialminus": [
            [
             0,
             "#0d0887"
            ],
            [
             0.1111111111111111,
             "#46039f"
            ],
            [
             0.2222222222222222,
             "#7201a8"
            ],
            [
             0.3333333333333333,
             "#9c179e"
            ],
            [
             0.4444444444444444,
             "#bd3786"
            ],
            [
             0.5555555555555556,
             "#d8576b"
            ],
            [
             0.6666666666666666,
             "#ed7953"
            ],
            [
             0.7777777777777778,
             "#fb9f3a"
            ],
            [
             0.8888888888888888,
             "#fdca26"
            ],
            [
             1,
             "#f0f921"
            ]
           ]
          },
          "colorway": [
           "#636efa",
           "#EF553B",
           "#00cc96",
           "#ab63fa",
           "#FFA15A",
           "#19d3f3",
           "#FF6692",
           "#B6E880",
           "#FF97FF",
           "#FECB52"
          ],
          "font": {
           "color": "#2a3f5f"
          },
          "geo": {
           "bgcolor": "white",
           "lakecolor": "white",
           "landcolor": "#E5ECF6",
           "showlakes": true,
           "showland": true,
           "subunitcolor": "white"
          },
          "hoverlabel": {
           "align": "left"
          },
          "hovermode": "closest",
          "mapbox": {
           "style": "light"
          },
          "paper_bgcolor": "white",
          "plot_bgcolor": "#E5ECF6",
          "polar": {
           "angularaxis": {
            "gridcolor": "white",
            "linecolor": "white",
            "ticks": ""
           },
           "bgcolor": "#E5ECF6",
           "radialaxis": {
            "gridcolor": "white",
            "linecolor": "white",
            "ticks": ""
           }
          },
          "scene": {
           "xaxis": {
            "backgroundcolor": "#E5ECF6",
            "gridcolor": "white",
            "gridwidth": 2,
            "linecolor": "white",
            "showbackground": true,
            "ticks": "",
            "zerolinecolor": "white"
           },
           "yaxis": {
            "backgroundcolor": "#E5ECF6",
            "gridcolor": "white",
            "gridwidth": 2,
            "linecolor": "white",
            "showbackground": true,
            "ticks": "",
            "zerolinecolor": "white"
           },
           "zaxis": {
            "backgroundcolor": "#E5ECF6",
            "gridcolor": "white",
            "gridwidth": 2,
            "linecolor": "white",
            "showbackground": true,
            "ticks": "",
            "zerolinecolor": "white"
           }
          },
          "shapedefaults": {
           "line": {
            "color": "#2a3f5f"
           }
          },
          "ternary": {
           "aaxis": {
            "gridcolor": "white",
            "linecolor": "white",
            "ticks": ""
           },
           "baxis": {
            "gridcolor": "white",
            "linecolor": "white",
            "ticks": ""
           },
           "bgcolor": "#E5ECF6",
           "caxis": {
            "gridcolor": "white",
            "linecolor": "white",
            "ticks": ""
           }
          },
          "title": {
           "x": 0.05
          },
          "xaxis": {
           "automargin": true,
           "gridcolor": "white",
           "linecolor": "white",
           "ticks": "",
           "title": {
            "standoff": 15
           },
           "zerolinecolor": "white",
           "zerolinewidth": 2
          },
          "yaxis": {
           "automargin": true,
           "gridcolor": "white",
           "linecolor": "white",
           "ticks": "",
           "title": {
            "standoff": 15
           },
           "zerolinecolor": "white",
           "zerolinewidth": 2
          }
         }
        },
        "xaxis": {
         "fixedrange": true,
         "showgrid": false,
         "title": {
          "text": "Year"
         }
        },
        "yaxis": {
         "fixedrange": true,
         "title": {
          "text": "Mean Annual Wind Speed (m/s)"
         }
        }
       }
      },
      "text/html": [
       "<div>                            <div id=\"9098c6ec-73f0-466c-adab-fefd76330c1d\" class=\"plotly-graph-div\" style=\"height:300px; width:100%;\"></div>            <script type=\"text/javascript\">                require([\"plotly\"], function(Plotly) {                    window.PLOTLYENV=window.PLOTLYENV || {};                                    if (document.getElementById(\"9098c6ec-73f0-466c-adab-fefd76330c1d\")) {                    Plotly.newPlot(                        \"9098c6ec-73f0-466c-adab-fefd76330c1d\",                        [{\"hovertemplate\": \"%{x|%Y}<br><b>Mean Annual</b><br>Wind Speed: %{y:.2f} m/s<br><extra></extra>\", \"marker\": {\"color\": \"#E1AF00\", \"opacity\": 0.5, \"size\": 5}, \"mode\": \"markers\", \"name\": \"Mean Annual Wind Speed\", \"type\": \"scatter\", \"x\": [\"1940-01-01\", \"1941-01-01\", \"1942-01-01\", \"1943-01-01\", \"1944-01-01\", \"1945-01-01\", \"1946-01-01\", \"1947-01-01\", \"1948-01-01\", \"1949-01-01\", \"1950-01-01\", \"1951-01-01\", \"1952-01-01\", \"1953-01-01\", \"1954-01-01\", \"1955-01-01\", \"1956-01-01\", \"1957-01-01\", \"1958-01-01\", \"1959-01-01\", \"1960-01-01\", \"1961-01-01\", \"1962-01-01\", \"1963-01-01\", \"1964-01-01\", \"1965-01-01\", \"1966-01-01\", \"1967-01-01\", \"1968-01-01\", \"1969-01-01\", \"1970-01-01\", \"1971-01-01\", \"1972-01-01\", \"1973-01-01\", \"1974-01-01\", \"1975-01-01\", \"1976-01-01\", \"1977-01-01\", \"1978-01-01\", \"1979-01-01\", \"1980-01-01\", \"1981-01-01\", \"1982-01-01\", \"1983-01-01\", \"1984-01-01\", \"1985-01-01\", \"1986-01-01\", \"1987-01-01\", \"1988-01-01\", \"1989-01-01\", \"1990-01-01\", \"1991-01-01\", \"1992-01-01\", \"1993-01-01\", \"1994-01-01\", \"1995-01-01\", \"1996-01-01\", \"1997-01-01\", \"1998-01-01\", \"1999-01-01\", \"2000-01-01\", \"2001-01-01\", \"2002-01-01\", \"2003-01-01\", \"2004-01-01\", \"2005-01-01\", \"2006-01-01\", \"2007-01-01\", \"2008-01-01\", \"2009-01-01\", \"2010-01-01\", \"2011-01-01\", \"2012-01-01\", \"2013-01-01\", \"2014-01-01\", \"2015-01-01\", \"2016-01-01\", \"2017-01-01\", \"2018-01-01\", \"2019-01-01\", \"2020-01-01\"], \"y\": [5.453111111111111, 5.247333333333334, 5.813222222222223, 6.327666666666667, 5.658888888888889, 5.710333333333334, 5.813222222222223, 5.813222222222223, 6.019, 5.504555555555555, 5.556000000000001, 4.938666666666667, 4.990111111111111, 4.630000000000001, 5.607444444444445, 4.990111111111111, 5.041555555555556, 4.938666666666667, 5.041555555555556, 5.401666666666667, 4.938666666666667, 5.2987777777777785, 5.093000000000001, 5.504555555555555, 5.607444444444445, 5.813222222222223, 6.070444444444445, 5.864666666666667, 5.556000000000001, 5.144444444444445, 5.658888888888889, 5.144444444444445, 5.504555555555555, 5.247333333333334, 5.916111111111111, 5.2987777777777785, 5.401666666666667, 5.761777777777778, 5.710333333333334, 5.864666666666667, 5.761777777777778, 5.813222222222223, 6.019, 5.710333333333334, 5.350222222222222, 5.607444444444445, 6.12188888888889, 5.401666666666667, 5.401666666666667, 5.453111111111111, 5.710333333333334, 5.195888888888889, 5.247333333333334, 4.938666666666667, 5.041555555555556, 4.630000000000001, 4.527111111111112, 4.3213333333333335, 4.578555555555556, 5.041555555555556, 4.938666666666667, 4.218444444444445, 5.093000000000001, 4.732888888888889, 4.784333333333334, 4.784333333333334, 4.732888888888889, 4.3213333333333335, 5.041555555555556, 4.732888888888889, 3.961222222222223, 4.990111111111111, 4.784333333333334, 4.835777777777778, 4.887222222222222, 5.350222222222222, 4.732888888888889, 4.784333333333334, 4.835777777777778, 5.093000000000001, null]}, {\"hovertemplate\": \"%{x|%Y}<br><b>11yr Moving Average</b><br>Wind Speed: %{y:.2f} m/s<extra></extra>\", \"line\": {\"color\": \"#00a4ae\", \"shape\": \"spline\", \"width\": 2}, \"mode\": \"lines\", \"name\": \"11 Year Moving Average Wind Speed\", \"type\": \"scatter\", \"x\": [\"1940-01-01\", \"1941-01-01\", \"1942-01-01\", \"1943-01-01\", \"1944-01-01\", \"1945-01-01\", \"1946-01-01\", \"1947-01-01\", \"1948-01-01\", \"1949-01-01\", \"1950-01-01\", \"1951-01-01\", \"1952-01-01\", \"1953-01-01\", \"1954-01-01\", \"1955-01-01\", \"1956-01-01\", \"1957-01-01\", \"1958-01-01\", \"1959-01-01\", \"1960-01-01\", \"1961-01-01\", \"1962-01-01\", \"1963-01-01\", \"1964-01-01\", \"1965-01-01\", \"1966-01-01\", \"1967-01-01\", \"1968-01-01\", \"1969-01-01\", \"1970-01-01\", \"1971-01-01\", \"1972-01-01\", \"1973-01-01\", \"1974-01-01\", \"1975-01-01\", \"1976-01-01\", \"1977-01-01\", \"1978-01-01\", \"1979-01-01\", \"1980-01-01\", \"1981-01-01\", \"1982-01-01\", \"1983-01-01\", \"1984-01-01\", \"1985-01-01\", \"1986-01-01\", \"1987-01-01\", \"1988-01-01\", \"1989-01-01\", \"1990-01-01\", \"1991-01-01\", \"1992-01-01\", \"1993-01-01\", \"1994-01-01\", \"1995-01-01\", \"1996-01-01\", \"1997-01-01\", \"1998-01-01\", \"1999-01-01\", \"2000-01-01\", \"2001-01-01\", \"2002-01-01\", \"2003-01-01\", \"2004-01-01\", \"2005-01-01\", \"2006-01-01\", \"2007-01-01\", \"2008-01-01\", \"2009-01-01\", \"2010-01-01\", \"2011-01-01\", \"2012-01-01\", \"2013-01-01\", \"2014-01-01\", \"2015-01-01\", \"2016-01-01\", \"2017-01-01\", \"2018-01-01\", \"2019-01-01\", \"2020-01-01\"], \"y\": [null, null, null, null, null, 5.719686868686869, 5.672919191919193, 5.649535353535355, 5.541969696969698, 5.47649494949495, 5.415696969696971, 5.354898989898991, 5.27539393939394, 5.205242424242424, 5.149121212121213, 5.097676767676769, 5.0742929292929295, 5.0883232323232335, 5.135090909090911, 5.223949494949496, 5.242656565656566, 5.340868686868688, 5.41569696969697, 5.471818181818183, 5.481171717171718, 5.504555555555556, 5.523262626262627, 5.541969696969697, 5.556000000000001, 5.593414141414142, 5.565353535353537, 5.527939393939395, 5.499878787878789, 5.485848484848486, 5.513909090909091, 5.570030303030303, 5.584060606060607, 5.663565656565656, 5.682272727272727, 5.691626262626262, 5.663565656565657, 5.73839393939394, 5.738393939393939, 5.705656565656567, 5.6822727272727285, 5.668242424242425, 5.616797979797981, 5.565353535353537, 5.467141414141415, 5.406343434343435, 5.340868686868687, 5.242656565656567, 5.078969696969698, 5.004141414141414, 4.97140404040404, 4.924636363636364, 4.789010101010101, 4.779656565656566, 4.7328888888888905, 4.718858585858587, 4.695474747474749, 4.704828282828284, 4.686121212121213, 4.75159595959596, 4.765626262626263, 4.667414141414143, 4.67209090909091, 4.723535353535355, 4.700151515151516, 4.714181818181819, 4.765626262626262, 4.760949494949495, 4.765626262626263, 4.81239393939394, 4.817070707070707, null, null, null, null, null, null]}],                        {\"font\": {\"color\": \"#7f7f7f\"}, \"height\": 300, \"hovermode\": \"closest\", \"legend\": {\"bgcolor\": \"rgba(0,0,0,0)\", \"itemclick\": false, \"itemdoubleclick\": false, \"orientation\": \"h\"}, \"margin\": {\"b\": 0, \"l\": 0, \"r\": 0, \"t\": 0}, \"paper_bgcolor\": \"rgba(0,0,0,0)\", \"plot_bgcolor\": \"#f7fbfd\", \"template\": {\"data\": {\"bar\": [{\"error_x\": {\"color\": \"#2a3f5f\"}, \"error_y\": {\"color\": \"#2a3f5f\"}, \"marker\": {\"line\": {\"color\": \"#E5ECF6\", \"width\": 0.5}}, \"type\": \"bar\"}], \"barpolar\": [{\"marker\": {\"line\": {\"color\": \"#E5ECF6\", \"width\": 0.5}}, \"type\": \"barpolar\"}], \"carpet\": [{\"aaxis\": {\"endlinecolor\": \"#2a3f5f\", \"gridcolor\": \"white\", \"linecolor\": \"white\", \"minorgridcolor\": \"white\", \"startlinecolor\": \"#2a3f5f\"}, \"baxis\": {\"endlinecolor\": \"#2a3f5f\", \"gridcolor\": \"white\", \"linecolor\": \"white\", \"minorgridcolor\": \"white\", \"startlinecolor\": \"#2a3f5f\"}, \"type\": \"carpet\"}], \"choropleth\": [{\"colorbar\": {\"outlinewidth\": 0, \"ticks\": \"\"}, \"type\": \"choropleth\"}], \"contour\": [{\"colorbar\": {\"outlinewidth\": 0, \"ticks\": \"\"}, \"colorscale\": [[0.0, \"#0d0887\"], [0.1111111111111111, \"#46039f\"], [0.2222222222222222, \"#7201a8\"], [0.3333333333333333, \"#9c179e\"], [0.4444444444444444, \"#bd3786\"], [0.5555555555555556, \"#d8576b\"], [0.6666666666666666, \"#ed7953\"], [0.7777777777777778, \"#fb9f3a\"], [0.8888888888888888, \"#fdca26\"], [1.0, \"#f0f921\"]], \"type\": \"contour\"}], \"contourcarpet\": [{\"colorbar\": {\"outlinewidth\": 0, \"ticks\": \"\"}, \"type\": \"contourcarpet\"}], \"heatmap\": [{\"colorbar\": {\"outlinewidth\": 0, \"ticks\": \"\"}, \"colorscale\": [[0.0, \"#0d0887\"], [0.1111111111111111, \"#46039f\"], [0.2222222222222222, \"#7201a8\"], [0.3333333333333333, \"#9c179e\"], [0.4444444444444444, \"#bd3786\"], [0.5555555555555556, \"#d8576b\"], [0.6666666666666666, \"#ed7953\"], [0.7777777777777778, \"#fb9f3a\"], [0.8888888888888888, \"#fdca26\"], [1.0, \"#f0f921\"]], \"type\": \"heatmap\"}], \"heatmapgl\": [{\"colorbar\": {\"outlinewidth\": 0, \"ticks\": \"\"}, \"colorscale\": [[0.0, \"#0d0887\"], [0.1111111111111111, \"#46039f\"], [0.2222222222222222, \"#7201a8\"], [0.3333333333333333, \"#9c179e\"], [0.4444444444444444, \"#bd3786\"], [0.5555555555555556, \"#d8576b\"], [0.6666666666666666, \"#ed7953\"], [0.7777777777777778, \"#fb9f3a\"], [0.8888888888888888, \"#fdca26\"], [1.0, \"#f0f921\"]], \"type\": \"heatmapgl\"}], \"histogram\": [{\"marker\": {\"colorbar\": {\"outlinewidth\": 0, \"ticks\": \"\"}}, \"type\": \"histogram\"}], \"histogram2d\": [{\"colorbar\": {\"outlinewidth\": 0, \"ticks\": \"\"}, \"colorscale\": [[0.0, \"#0d0887\"], [0.1111111111111111, \"#46039f\"], [0.2222222222222222, \"#7201a8\"], [0.3333333333333333, \"#9c179e\"], [0.4444444444444444, \"#bd3786\"], [0.5555555555555556, \"#d8576b\"], [0.6666666666666666, \"#ed7953\"], [0.7777777777777778, \"#fb9f3a\"], [0.8888888888888888, \"#fdca26\"], [1.0, \"#f0f921\"]], \"type\": \"histogram2d\"}], \"histogram2dcontour\": [{\"colorbar\": {\"outlinewidth\": 0, \"ticks\": \"\"}, \"colorscale\": [[0.0, \"#0d0887\"], [0.1111111111111111, \"#46039f\"], [0.2222222222222222, \"#7201a8\"], [0.3333333333333333, \"#9c179e\"], [0.4444444444444444, \"#bd3786\"], [0.5555555555555556, \"#d8576b\"], [0.6666666666666666, \"#ed7953\"], [0.7777777777777778, \"#fb9f3a\"], [0.8888888888888888, \"#fdca26\"], [1.0, \"#f0f921\"]], \"type\": \"histogram2dcontour\"}], \"mesh3d\": [{\"colorbar\": {\"outlinewidth\": 0, \"ticks\": \"\"}, \"type\": \"mesh3d\"}], \"parcoords\": [{\"line\": {\"colorbar\": {\"outlinewidth\": 0, \"ticks\": \"\"}}, \"type\": \"parcoords\"}], \"pie\": [{\"automargin\": true, \"type\": \"pie\"}], \"scatter\": [{\"marker\": {\"colorbar\": {\"outlinewidth\": 0, \"ticks\": \"\"}}, \"type\": \"scatter\"}], \"scatter3d\": [{\"line\": {\"colorbar\": {\"outlinewidth\": 0, \"ticks\": \"\"}}, \"marker\": {\"colorbar\": {\"outlinewidth\": 0, \"ticks\": \"\"}}, \"type\": \"scatter3d\"}], \"scattercarpet\": [{\"marker\": {\"colorbar\": {\"outlinewidth\": 0, \"ticks\": \"\"}}, \"type\": \"scattercarpet\"}], \"scattergeo\": [{\"marker\": {\"colorbar\": {\"outlinewidth\": 0, \"ticks\": \"\"}}, \"type\": \"scattergeo\"}], \"scattergl\": [{\"marker\": {\"colorbar\": {\"outlinewidth\": 0, \"ticks\": \"\"}}, \"type\": \"scattergl\"}], \"scattermapbox\": [{\"marker\": {\"colorbar\": {\"outlinewidth\": 0, \"ticks\": \"\"}}, \"type\": \"scattermapbox\"}], \"scatterpolar\": [{\"marker\": {\"colorbar\": {\"outlinewidth\": 0, \"ticks\": \"\"}}, \"type\": \"scatterpolar\"}], \"scatterpolargl\": [{\"marker\": {\"colorbar\": {\"outlinewidth\": 0, \"ticks\": \"\"}}, \"type\": \"scatterpolargl\"}], \"scatterternary\": [{\"marker\": {\"colorbar\": {\"outlinewidth\": 0, \"ticks\": \"\"}}, \"type\": \"scatterternary\"}], \"surface\": [{\"colorbar\": {\"outlinewidth\": 0, \"ticks\": \"\"}, \"colorscale\": [[0.0, \"#0d0887\"], [0.1111111111111111, \"#46039f\"], [0.2222222222222222, \"#7201a8\"], [0.3333333333333333, \"#9c179e\"], [0.4444444444444444, \"#bd3786\"], [0.5555555555555556, \"#d8576b\"], [0.6666666666666666, \"#ed7953\"], [0.7777777777777778, \"#fb9f3a\"], [0.8888888888888888, \"#fdca26\"], [1.0, \"#f0f921\"]], \"type\": \"surface\"}], \"table\": [{\"cells\": {\"fill\": {\"color\": \"#EBF0F8\"}, \"line\": {\"color\": \"white\"}}, \"header\": {\"fill\": {\"color\": \"#C8D4E3\"}, \"line\": {\"color\": \"white\"}}, \"type\": \"table\"}]}, \"layout\": {\"annotationdefaults\": {\"arrowcolor\": \"#2a3f5f\", \"arrowhead\": 0, \"arrowwidth\": 1}, \"autotypenumbers\": \"strict\", \"coloraxis\": {\"colorbar\": {\"outlinewidth\": 0, \"ticks\": \"\"}}, \"colorscale\": {\"diverging\": [[0, \"#8e0152\"], [0.1, \"#c51b7d\"], [0.2, \"#de77ae\"], [0.3, \"#f1b6da\"], [0.4, \"#fde0ef\"], [0.5, \"#f7f7f7\"], [0.6, \"#e6f5d0\"], [0.7, \"#b8e186\"], [0.8, \"#7fbc41\"], [0.9, \"#4d9221\"], [1, \"#276419\"]], \"sequential\": [[0.0, \"#0d0887\"], [0.1111111111111111, \"#46039f\"], [0.2222222222222222, \"#7201a8\"], [0.3333333333333333, \"#9c179e\"], [0.4444444444444444, \"#bd3786\"], [0.5555555555555556, \"#d8576b\"], [0.6666666666666666, \"#ed7953\"], [0.7777777777777778, \"#fb9f3a\"], [0.8888888888888888, \"#fdca26\"], [1.0, \"#f0f921\"]], \"sequentialminus\": [[0.0, \"#0d0887\"], [0.1111111111111111, \"#46039f\"], [0.2222222222222222, \"#7201a8\"], [0.3333333333333333, \"#9c179e\"], [0.4444444444444444, \"#bd3786\"], [0.5555555555555556, \"#d8576b\"], [0.6666666666666666, \"#ed7953\"], [0.7777777777777778, \"#fb9f3a\"], [0.8888888888888888, \"#fdca26\"], [1.0, \"#f0f921\"]]}, \"colorway\": [\"#636efa\", \"#EF553B\", \"#00cc96\", \"#ab63fa\", \"#FFA15A\", \"#19d3f3\", \"#FF6692\", \"#B6E880\", \"#FF97FF\", \"#FECB52\"], \"font\": {\"color\": \"#2a3f5f\"}, \"geo\": {\"bgcolor\": \"white\", \"lakecolor\": \"white\", \"landcolor\": \"#E5ECF6\", \"showlakes\": true, \"showland\": true, \"subunitcolor\": \"white\"}, \"hoverlabel\": {\"align\": \"left\"}, \"hovermode\": \"closest\", \"mapbox\": {\"style\": \"light\"}, \"paper_bgcolor\": \"white\", \"plot_bgcolor\": \"#E5ECF6\", \"polar\": {\"angularaxis\": {\"gridcolor\": \"white\", \"linecolor\": \"white\", \"ticks\": \"\"}, \"bgcolor\": \"#E5ECF6\", \"radialaxis\": {\"gridcolor\": \"white\", \"linecolor\": \"white\", \"ticks\": \"\"}}, \"scene\": {\"xaxis\": {\"backgroundcolor\": \"#E5ECF6\", \"gridcolor\": \"white\", \"gridwidth\": 2, \"linecolor\": \"white\", \"showbackground\": true, \"ticks\": \"\", \"zerolinecolor\": \"white\"}, \"yaxis\": {\"backgroundcolor\": \"#E5ECF6\", \"gridcolor\": \"white\", \"gridwidth\": 2, \"linecolor\": \"white\", \"showbackground\": true, \"ticks\": \"\", \"zerolinecolor\": \"white\"}, \"zaxis\": {\"backgroundcolor\": \"#E5ECF6\", \"gridcolor\": \"white\", \"gridwidth\": 2, \"linecolor\": \"white\", \"showbackground\": true, \"ticks\": \"\", \"zerolinecolor\": \"white\"}}, \"shapedefaults\": {\"line\": {\"color\": \"#2a3f5f\"}}, \"ternary\": {\"aaxis\": {\"gridcolor\": \"white\", \"linecolor\": \"white\", \"ticks\": \"\"}, \"baxis\": {\"gridcolor\": \"white\", \"linecolor\": \"white\", \"ticks\": \"\"}, \"bgcolor\": \"#E5ECF6\", \"caxis\": {\"gridcolor\": \"white\", \"linecolor\": \"white\", \"ticks\": \"\"}}, \"title\": {\"x\": 0.05}, \"xaxis\": {\"automargin\": true, \"gridcolor\": \"white\", \"linecolor\": \"white\", \"ticks\": \"\", \"title\": {\"standoff\": 15}, \"zerolinecolor\": \"white\", \"zerolinewidth\": 2}, \"yaxis\": {\"automargin\": true, \"gridcolor\": \"white\", \"linecolor\": \"white\", \"ticks\": \"\", \"title\": {\"standoff\": 15}, \"zerolinecolor\": \"white\", \"zerolinewidth\": 2}}}, \"xaxis\": {\"fixedrange\": true, \"showgrid\": false, \"title\": {\"text\": \"Year\"}}, \"yaxis\": {\"fixedrange\": true, \"title\": {\"text\": \"Mean Annual Wind Speed (m/s)\"}}},                        {\"responsive\": true}                    ).then(function(){\n",
       "                            \n",
       "var gd = document.getElementById('9098c6ec-73f0-466c-adab-fefd76330c1d');\n",
       "var x = new MutationObserver(function (mutations, observer) {{\n",
       "        var display = window.getComputedStyle(gd).display;\n",
       "        if (!display || display === 'none') {{\n",
       "            console.log([gd, 'removed!']);\n",
       "            Plotly.purge(gd);\n",
       "            observer.disconnect();\n",
       "        }}\n",
       "}});\n",
       "\n",
       "// Listen for the removal of the full notebook cells\n",
       "var notebookContainer = gd.closest('#notebook-container');\n",
       "if (notebookContainer) {{\n",
       "    x.observe(notebookContainer, {childList: true});\n",
       "}}\n",
       "\n",
       "// Listen for the clearing of the current output cell\n",
       "var outputEl = gd.closest('.output');\n",
       "if (outputEl) {{\n",
       "    x.observe(outputEl, {childList: true});\n",
       "}}\n",
       "\n",
       "                        })                };                });            </script>        </div>"
      ]
     },
     "metadata": {},
     "output_type": "display_data"
    }
   ],
   "source": [
    "# valentia seperate charts\n",
    "figure_2_4_a_1 = go.Figure(data=[annual_speed_trace, moving_avg_speed_trace], layout=TIMESERIES_LAYOUT)\n",
    "figure_2_4_a_1.update_layout(\n",
    "    yaxis=dict(title='Mean Annual Wind Speed (m/s)'),\n",
    "    xaxis=dict(title=\"Year\"),\n",
    "    height=300)\n",
    "figure_2_4_a_1"
   ]
  },
  {
   "cell_type": "code",
   "execution_count": 79,
   "id": "played-medicine",
   "metadata": {},
   "outputs": [
    {
     "data": {
      "application/vnd.plotly.v1+json": {
       "config": {
        "plotlyServerURL": "https://plot.ly"
       },
       "data": [
        {
         "hovertemplate": "%{x|%Y}<br><b>Annual</b><br>Gale Gust Days: %{y}<br><extra></extra>",
         "marker": {
          "color": "#6e987b",
          "opacity": 0.5,
          "size": 5
         },
         "mode": "markers",
         "name": "Gust Days",
         "type": "scatter",
         "x": [
          "1940-01-01",
          "1941-01-01",
          "1942-01-01",
          "1943-01-01",
          "1944-01-01",
          "1945-01-01",
          "1946-01-01",
          "1947-01-01",
          "1948-01-01",
          "1949-01-01",
          "1950-01-01",
          "1951-01-01",
          "1952-01-01",
          "1953-01-01",
          "1954-01-01",
          "1955-01-01",
          "1956-01-01",
          "1957-01-01",
          "1958-01-01",
          "1959-01-01",
          "1960-01-01",
          "1961-01-01",
          "1962-01-01",
          "1963-01-01",
          "1964-01-01",
          "1965-01-01",
          "1966-01-01",
          "1967-01-01",
          "1968-01-01",
          "1969-01-01",
          "1970-01-01",
          "1971-01-01",
          "1972-01-01",
          "1973-01-01",
          "1974-01-01",
          "1975-01-01",
          "1976-01-01",
          "1977-01-01",
          "1978-01-01",
          "1979-01-01",
          "1980-01-01",
          "1981-01-01",
          "1982-01-01",
          "1983-01-01",
          "1984-01-01",
          "1985-01-01",
          "1986-01-01",
          "1987-01-01",
          "1988-01-01",
          "1989-01-01",
          "1990-01-01",
          "1991-01-01",
          "1992-01-01",
          "1993-01-01",
          "1994-01-01",
          "1995-01-01",
          "1996-01-01",
          "1997-01-01",
          "1998-01-01",
          "1999-01-01",
          "2000-01-01",
          "2001-01-01",
          "2002-01-01",
          "2003-01-01",
          "2004-01-01",
          "2005-01-01",
          "2006-01-01",
          "2007-01-01",
          "2008-01-01",
          "2009-01-01",
          "2010-01-01",
          "2011-01-01",
          "2012-01-01",
          "2013-01-01",
          "2014-01-01",
          "2015-01-01",
          "2016-01-01",
          "2017-01-01",
          "2018-01-01",
          "2019-01-01",
          "2020-01-01"
         ],
         "y": [
          118,
          104,
          127,
          149,
          119,
          130,
          137,
          136,
          157,
          129,
          110,
          115,
          107,
          84,
          139,
          110,
          111,
          103,
          111,
          140,
          102,
          125,
          117,
          124,
          135,
          150,
          148,
          147,
          130,
          110,
          135,
          106,
          127,
          105,
          147,
          119,
          110,
          155,
          139,
          156,
          143,
          147,
          158,
          138,
          116,
          126,
          171,
          124,
          139,
          140,
          165,
          141,
          148,
          115,
          135,
          123,
          118,
          103,
          109,
          97,
          105,
          62,
          92,
          71,
          76,
          91,
          76,
          70,
          111,
          87,
          54,
          95,
          69,
          74,
          86,
          101,
          73,
          71,
          78,
          91,
          null
         ]
        },
        {
         "hovertemplate": "%{x|%Y}<br><b>11yr Moving Average</b><br>Gale Gust Days: %{y}<extra></extra>",
         "line": {
          "color": "#de8bb7",
          "shape": "spline",
          "width": 2
         },
         "mode": "lines",
         "name": "11 Year Moving Average Gale Gust Days",
         "type": "scatter",
         "x": [
          "1940-01-01",
          "1941-01-01",
          "1942-01-01",
          "1943-01-01",
          "1944-01-01",
          "1945-01-01",
          "1946-01-01",
          "1947-01-01",
          "1948-01-01",
          "1949-01-01",
          "1950-01-01",
          "1951-01-01",
          "1952-01-01",
          "1953-01-01",
          "1954-01-01",
          "1955-01-01",
          "1956-01-01",
          "1957-01-01",
          "1958-01-01",
          "1959-01-01",
          "1960-01-01",
          "1961-01-01",
          "1962-01-01",
          "1963-01-01",
          "1964-01-01",
          "1965-01-01",
          "1966-01-01",
          "1967-01-01",
          "1968-01-01",
          "1969-01-01",
          "1970-01-01",
          "1971-01-01",
          "1972-01-01",
          "1973-01-01",
          "1974-01-01",
          "1975-01-01",
          "1976-01-01",
          "1977-01-01",
          "1978-01-01",
          "1979-01-01",
          "1980-01-01",
          "1981-01-01",
          "1982-01-01",
          "1983-01-01",
          "1984-01-01",
          "1985-01-01",
          "1986-01-01",
          "1987-01-01",
          "1988-01-01",
          "1989-01-01",
          "1990-01-01",
          "1991-01-01",
          "1992-01-01",
          "1993-01-01",
          "1994-01-01",
          "1995-01-01",
          "1996-01-01",
          "1997-01-01",
          "1998-01-01",
          "1999-01-01",
          "2000-01-01",
          "2001-01-01",
          "2002-01-01",
          "2003-01-01",
          "2004-01-01",
          "2005-01-01",
          "2006-01-01",
          "2007-01-01",
          "2008-01-01",
          "2009-01-01",
          "2010-01-01",
          "2011-01-01",
          "2012-01-01",
          "2013-01-01",
          "2014-01-01",
          "2015-01-01",
          "2016-01-01",
          "2017-01-01",
          "2018-01-01",
          "2019-01-01",
          "2020-01-01"
         ],
         "y": [
          null,
          null,
          null,
          null,
          null,
          128.72727272727272,
          128.45454545454547,
          128.72727272727272,
          124.8181818181818,
          123.9090909090909,
          123.0909090909091,
          121.36363636363636,
          118.27272727272728,
          116,
          114.45454545454544,
          112,
          113.36363636363636,
          113.54545454545456,
          115.0909090909091,
          119.72727272727272,
          120.72727272727272,
          124.1818181818182,
          127.45454545454544,
          129.9090909090909,
          129.8181818181818,
          129.36363636363637,
          129.72727272727272,
          129.9090909090909,
          128.8181818181818,
          130.9090909090909,
          129.45454545454547,
          125.8181818181818,
          126.45454545454544,
          125.72727272727272,
          128.0909090909091,
          131.0909090909091,
          132.1818181818182,
          136.9090909090909,
          137.9090909090909,
          138.9090909090909,
          137,
          141.72727272727272,
          143,
          141.54545454545453,
          141.63636363636363,
          142.45454545454547,
          142.27272727272728,
          142.36363636363637,
          138.45454545454547,
          138.1818181818182,
          138.8181818181818,
          138.0909090909091,
          131.9090909090909,
          130.54545454545453,
          126.72727272727272,
          123.54545454545456,
          114.1818181818182,
          109.72727272727272,
          102.72727272727272,
          99.1818181818182,
          95.1818181818182,
          90.9090909090909,
          86.54545454545455,
          87.27272727272727,
          85.27272727272727,
          81.36363636363636,
          80.45454545454545,
          81.0909090909091,
          79.45454545454545,
          80.81818181818181,
          83.0909090909091,
          81.45454545454545,
          81,
          81.72727272727273,
          79.9090909090909,
          null,
          null,
          null,
          null,
          null,
          null
         ]
        }
       ],
       "layout": {
        "font": {
         "color": "#7f7f7f"
        },
        "height": 300,
        "hovermode": "closest",
        "legend": {
         "bgcolor": "rgba(0,0,0,0)",
         "itemclick": false,
         "itemdoubleclick": false,
         "orientation": "h"
        },
        "margin": {
         "b": 100,
         "l": 0,
         "r": 0,
         "t": 0
        },
        "paper_bgcolor": "rgba(0,0,0,0)",
        "plot_bgcolor": "#f7fbfd",
        "template": {
         "data": {
          "bar": [
           {
            "error_x": {
             "color": "#2a3f5f"
            },
            "error_y": {
             "color": "#2a3f5f"
            },
            "marker": {
             "line": {
              "color": "#E5ECF6",
              "width": 0.5
             }
            },
            "type": "bar"
           }
          ],
          "barpolar": [
           {
            "marker": {
             "line": {
              "color": "#E5ECF6",
              "width": 0.5
             }
            },
            "type": "barpolar"
           }
          ],
          "carpet": [
           {
            "aaxis": {
             "endlinecolor": "#2a3f5f",
             "gridcolor": "white",
             "linecolor": "white",
             "minorgridcolor": "white",
             "startlinecolor": "#2a3f5f"
            },
            "baxis": {
             "endlinecolor": "#2a3f5f",
             "gridcolor": "white",
             "linecolor": "white",
             "minorgridcolor": "white",
             "startlinecolor": "#2a3f5f"
            },
            "type": "carpet"
           }
          ],
          "choropleth": [
           {
            "colorbar": {
             "outlinewidth": 0,
             "ticks": ""
            },
            "type": "choropleth"
           }
          ],
          "contour": [
           {
            "colorbar": {
             "outlinewidth": 0,
             "ticks": ""
            },
            "colorscale": [
             [
              0,
              "#0d0887"
             ],
             [
              0.1111111111111111,
              "#46039f"
             ],
             [
              0.2222222222222222,
              "#7201a8"
             ],
             [
              0.3333333333333333,
              "#9c179e"
             ],
             [
              0.4444444444444444,
              "#bd3786"
             ],
             [
              0.5555555555555556,
              "#d8576b"
             ],
             [
              0.6666666666666666,
              "#ed7953"
             ],
             [
              0.7777777777777778,
              "#fb9f3a"
             ],
             [
              0.8888888888888888,
              "#fdca26"
             ],
             [
              1,
              "#f0f921"
             ]
            ],
            "type": "contour"
           }
          ],
          "contourcarpet": [
           {
            "colorbar": {
             "outlinewidth": 0,
             "ticks": ""
            },
            "type": "contourcarpet"
           }
          ],
          "heatmap": [
           {
            "colorbar": {
             "outlinewidth": 0,
             "ticks": ""
            },
            "colorscale": [
             [
              0,
              "#0d0887"
             ],
             [
              0.1111111111111111,
              "#46039f"
             ],
             [
              0.2222222222222222,
              "#7201a8"
             ],
             [
              0.3333333333333333,
              "#9c179e"
             ],
             [
              0.4444444444444444,
              "#bd3786"
             ],
             [
              0.5555555555555556,
              "#d8576b"
             ],
             [
              0.6666666666666666,
              "#ed7953"
             ],
             [
              0.7777777777777778,
              "#fb9f3a"
             ],
             [
              0.8888888888888888,
              "#fdca26"
             ],
             [
              1,
              "#f0f921"
             ]
            ],
            "type": "heatmap"
           }
          ],
          "heatmapgl": [
           {
            "colorbar": {
             "outlinewidth": 0,
             "ticks": ""
            },
            "colorscale": [
             [
              0,
              "#0d0887"
             ],
             [
              0.1111111111111111,
              "#46039f"
             ],
             [
              0.2222222222222222,
              "#7201a8"
             ],
             [
              0.3333333333333333,
              "#9c179e"
             ],
             [
              0.4444444444444444,
              "#bd3786"
             ],
             [
              0.5555555555555556,
              "#d8576b"
             ],
             [
              0.6666666666666666,
              "#ed7953"
             ],
             [
              0.7777777777777778,
              "#fb9f3a"
             ],
             [
              0.8888888888888888,
              "#fdca26"
             ],
             [
              1,
              "#f0f921"
             ]
            ],
            "type": "heatmapgl"
           }
          ],
          "histogram": [
           {
            "marker": {
             "colorbar": {
              "outlinewidth": 0,
              "ticks": ""
             }
            },
            "type": "histogram"
           }
          ],
          "histogram2d": [
           {
            "colorbar": {
             "outlinewidth": 0,
             "ticks": ""
            },
            "colorscale": [
             [
              0,
              "#0d0887"
             ],
             [
              0.1111111111111111,
              "#46039f"
             ],
             [
              0.2222222222222222,
              "#7201a8"
             ],
             [
              0.3333333333333333,
              "#9c179e"
             ],
             [
              0.4444444444444444,
              "#bd3786"
             ],
             [
              0.5555555555555556,
              "#d8576b"
             ],
             [
              0.6666666666666666,
              "#ed7953"
             ],
             [
              0.7777777777777778,
              "#fb9f3a"
             ],
             [
              0.8888888888888888,
              "#fdca26"
             ],
             [
              1,
              "#f0f921"
             ]
            ],
            "type": "histogram2d"
           }
          ],
          "histogram2dcontour": [
           {
            "colorbar": {
             "outlinewidth": 0,
             "ticks": ""
            },
            "colorscale": [
             [
              0,
              "#0d0887"
             ],
             [
              0.1111111111111111,
              "#46039f"
             ],
             [
              0.2222222222222222,
              "#7201a8"
             ],
             [
              0.3333333333333333,
              "#9c179e"
             ],
             [
              0.4444444444444444,
              "#bd3786"
             ],
             [
              0.5555555555555556,
              "#d8576b"
             ],
             [
              0.6666666666666666,
              "#ed7953"
             ],
             [
              0.7777777777777778,
              "#fb9f3a"
             ],
             [
              0.8888888888888888,
              "#fdca26"
             ],
             [
              1,
              "#f0f921"
             ]
            ],
            "type": "histogram2dcontour"
           }
          ],
          "mesh3d": [
           {
            "colorbar": {
             "outlinewidth": 0,
             "ticks": ""
            },
            "type": "mesh3d"
           }
          ],
          "parcoords": [
           {
            "line": {
             "colorbar": {
              "outlinewidth": 0,
              "ticks": ""
             }
            },
            "type": "parcoords"
           }
          ],
          "pie": [
           {
            "automargin": true,
            "type": "pie"
           }
          ],
          "scatter": [
           {
            "marker": {
             "colorbar": {
              "outlinewidth": 0,
              "ticks": ""
             }
            },
            "type": "scatter"
           }
          ],
          "scatter3d": [
           {
            "line": {
             "colorbar": {
              "outlinewidth": 0,
              "ticks": ""
             }
            },
            "marker": {
             "colorbar": {
              "outlinewidth": 0,
              "ticks": ""
             }
            },
            "type": "scatter3d"
           }
          ],
          "scattercarpet": [
           {
            "marker": {
             "colorbar": {
              "outlinewidth": 0,
              "ticks": ""
             }
            },
            "type": "scattercarpet"
           }
          ],
          "scattergeo": [
           {
            "marker": {
             "colorbar": {
              "outlinewidth": 0,
              "ticks": ""
             }
            },
            "type": "scattergeo"
           }
          ],
          "scattergl": [
           {
            "marker": {
             "colorbar": {
              "outlinewidth": 0,
              "ticks": ""
             }
            },
            "type": "scattergl"
           }
          ],
          "scattermapbox": [
           {
            "marker": {
             "colorbar": {
              "outlinewidth": 0,
              "ticks": ""
             }
            },
            "type": "scattermapbox"
           }
          ],
          "scatterpolar": [
           {
            "marker": {
             "colorbar": {
              "outlinewidth": 0,
              "ticks": ""
             }
            },
            "type": "scatterpolar"
           }
          ],
          "scatterpolargl": [
           {
            "marker": {
             "colorbar": {
              "outlinewidth": 0,
              "ticks": ""
             }
            },
            "type": "scatterpolargl"
           }
          ],
          "scatterternary": [
           {
            "marker": {
             "colorbar": {
              "outlinewidth": 0,
              "ticks": ""
             }
            },
            "type": "scatterternary"
           }
          ],
          "surface": [
           {
            "colorbar": {
             "outlinewidth": 0,
             "ticks": ""
            },
            "colorscale": [
             [
              0,
              "#0d0887"
             ],
             [
              0.1111111111111111,
              "#46039f"
             ],
             [
              0.2222222222222222,
              "#7201a8"
             ],
             [
              0.3333333333333333,
              "#9c179e"
             ],
             [
              0.4444444444444444,
              "#bd3786"
             ],
             [
              0.5555555555555556,
              "#d8576b"
             ],
             [
              0.6666666666666666,
              "#ed7953"
             ],
             [
              0.7777777777777778,
              "#fb9f3a"
             ],
             [
              0.8888888888888888,
              "#fdca26"
             ],
             [
              1,
              "#f0f921"
             ]
            ],
            "type": "surface"
           }
          ],
          "table": [
           {
            "cells": {
             "fill": {
              "color": "#EBF0F8"
             },
             "line": {
              "color": "white"
             }
            },
            "header": {
             "fill": {
              "color": "#C8D4E3"
             },
             "line": {
              "color": "white"
             }
            },
            "type": "table"
           }
          ]
         },
         "layout": {
          "annotationdefaults": {
           "arrowcolor": "#2a3f5f",
           "arrowhead": 0,
           "arrowwidth": 1
          },
          "autotypenumbers": "strict",
          "coloraxis": {
           "colorbar": {
            "outlinewidth": 0,
            "ticks": ""
           }
          },
          "colorscale": {
           "diverging": [
            [
             0,
             "#8e0152"
            ],
            [
             0.1,
             "#c51b7d"
            ],
            [
             0.2,
             "#de77ae"
            ],
            [
             0.3,
             "#f1b6da"
            ],
            [
             0.4,
             "#fde0ef"
            ],
            [
             0.5,
             "#f7f7f7"
            ],
            [
             0.6,
             "#e6f5d0"
            ],
            [
             0.7,
             "#b8e186"
            ],
            [
             0.8,
             "#7fbc41"
            ],
            [
             0.9,
             "#4d9221"
            ],
            [
             1,
             "#276419"
            ]
           ],
           "sequential": [
            [
             0,
             "#0d0887"
            ],
            [
             0.1111111111111111,
             "#46039f"
            ],
            [
             0.2222222222222222,
             "#7201a8"
            ],
            [
             0.3333333333333333,
             "#9c179e"
            ],
            [
             0.4444444444444444,
             "#bd3786"
            ],
            [
             0.5555555555555556,
             "#d8576b"
            ],
            [
             0.6666666666666666,
             "#ed7953"
            ],
            [
             0.7777777777777778,
             "#fb9f3a"
            ],
            [
             0.8888888888888888,
             "#fdca26"
            ],
            [
             1,
             "#f0f921"
            ]
           ],
           "sequentialminus": [
            [
             0,
             "#0d0887"
            ],
            [
             0.1111111111111111,
             "#46039f"
            ],
            [
             0.2222222222222222,
             "#7201a8"
            ],
            [
             0.3333333333333333,
             "#9c179e"
            ],
            [
             0.4444444444444444,
             "#bd3786"
            ],
            [
             0.5555555555555556,
             "#d8576b"
            ],
            [
             0.6666666666666666,
             "#ed7953"
            ],
            [
             0.7777777777777778,
             "#fb9f3a"
            ],
            [
             0.8888888888888888,
             "#fdca26"
            ],
            [
             1,
             "#f0f921"
            ]
           ]
          },
          "colorway": [
           "#636efa",
           "#EF553B",
           "#00cc96",
           "#ab63fa",
           "#FFA15A",
           "#19d3f3",
           "#FF6692",
           "#B6E880",
           "#FF97FF",
           "#FECB52"
          ],
          "font": {
           "color": "#2a3f5f"
          },
          "geo": {
           "bgcolor": "white",
           "lakecolor": "white",
           "landcolor": "#E5ECF6",
           "showlakes": true,
           "showland": true,
           "subunitcolor": "white"
          },
          "hoverlabel": {
           "align": "left"
          },
          "hovermode": "closest",
          "mapbox": {
           "style": "light"
          },
          "paper_bgcolor": "white",
          "plot_bgcolor": "#E5ECF6",
          "polar": {
           "angularaxis": {
            "gridcolor": "white",
            "linecolor": "white",
            "ticks": ""
           },
           "bgcolor": "#E5ECF6",
           "radialaxis": {
            "gridcolor": "white",
            "linecolor": "white",
            "ticks": ""
           }
          },
          "scene": {
           "xaxis": {
            "backgroundcolor": "#E5ECF6",
            "gridcolor": "white",
            "gridwidth": 2,
            "linecolor": "white",
            "showbackground": true,
            "ticks": "",
            "zerolinecolor": "white"
           },
           "yaxis": {
            "backgroundcolor": "#E5ECF6",
            "gridcolor": "white",
            "gridwidth": 2,
            "linecolor": "white",
            "showbackground": true,
            "ticks": "",
            "zerolinecolor": "white"
           },
           "zaxis": {
            "backgroundcolor": "#E5ECF6",
            "gridcolor": "white",
            "gridwidth": 2,
            "linecolor": "white",
            "showbackground": true,
            "ticks": "",
            "zerolinecolor": "white"
           }
          },
          "shapedefaults": {
           "line": {
            "color": "#2a3f5f"
           }
          },
          "ternary": {
           "aaxis": {
            "gridcolor": "white",
            "linecolor": "white",
            "ticks": ""
           },
           "baxis": {
            "gridcolor": "white",
            "linecolor": "white",
            "ticks": ""
           },
           "bgcolor": "#E5ECF6",
           "caxis": {
            "gridcolor": "white",
            "linecolor": "white",
            "ticks": ""
           }
          },
          "title": {
           "x": 0.05
          },
          "xaxis": {
           "automargin": true,
           "gridcolor": "white",
           "linecolor": "white",
           "ticks": "",
           "title": {
            "standoff": 15
           },
           "zerolinecolor": "white",
           "zerolinewidth": 2
          },
          "yaxis": {
           "automargin": true,
           "gridcolor": "white",
           "linecolor": "white",
           "ticks": "",
           "title": {
            "standoff": 15
           },
           "zerolinecolor": "white",
           "zerolinewidth": 2
          }
         }
        },
        "xaxis": {
         "fixedrange": true,
         "showgrid": false,
         "title": {
          "text": "Year"
         }
        },
        "yaxis": {
         "fixedrange": true,
         "title": {
          "text": "Number of Days with <br> Gusts > 17.5 m/s"
         }
        }
       }
      },
      "text/html": [
       "<div>                            <div id=\"b783ad18-5b0d-458d-92a4-763708068b07\" class=\"plotly-graph-div\" style=\"height:300px; width:100%;\"></div>            <script type=\"text/javascript\">                require([\"plotly\"], function(Plotly) {                    window.PLOTLYENV=window.PLOTLYENV || {};                                    if (document.getElementById(\"b783ad18-5b0d-458d-92a4-763708068b07\")) {                    Plotly.newPlot(                        \"b783ad18-5b0d-458d-92a4-763708068b07\",                        [{\"hovertemplate\": \"%{x|%Y}<br><b>Annual</b><br>Gale Gust Days: %{y}<br><extra></extra>\", \"marker\": {\"color\": \"#6e987b\", \"opacity\": 0.5, \"size\": 5}, \"mode\": \"markers\", \"name\": \"Gust Days\", \"type\": \"scatter\", \"x\": [\"1940-01-01\", \"1941-01-01\", \"1942-01-01\", \"1943-01-01\", \"1944-01-01\", \"1945-01-01\", \"1946-01-01\", \"1947-01-01\", \"1948-01-01\", \"1949-01-01\", \"1950-01-01\", \"1951-01-01\", \"1952-01-01\", \"1953-01-01\", \"1954-01-01\", \"1955-01-01\", \"1956-01-01\", \"1957-01-01\", \"1958-01-01\", \"1959-01-01\", \"1960-01-01\", \"1961-01-01\", \"1962-01-01\", \"1963-01-01\", \"1964-01-01\", \"1965-01-01\", \"1966-01-01\", \"1967-01-01\", \"1968-01-01\", \"1969-01-01\", \"1970-01-01\", \"1971-01-01\", \"1972-01-01\", \"1973-01-01\", \"1974-01-01\", \"1975-01-01\", \"1976-01-01\", \"1977-01-01\", \"1978-01-01\", \"1979-01-01\", \"1980-01-01\", \"1981-01-01\", \"1982-01-01\", \"1983-01-01\", \"1984-01-01\", \"1985-01-01\", \"1986-01-01\", \"1987-01-01\", \"1988-01-01\", \"1989-01-01\", \"1990-01-01\", \"1991-01-01\", \"1992-01-01\", \"1993-01-01\", \"1994-01-01\", \"1995-01-01\", \"1996-01-01\", \"1997-01-01\", \"1998-01-01\", \"1999-01-01\", \"2000-01-01\", \"2001-01-01\", \"2002-01-01\", \"2003-01-01\", \"2004-01-01\", \"2005-01-01\", \"2006-01-01\", \"2007-01-01\", \"2008-01-01\", \"2009-01-01\", \"2010-01-01\", \"2011-01-01\", \"2012-01-01\", \"2013-01-01\", \"2014-01-01\", \"2015-01-01\", \"2016-01-01\", \"2017-01-01\", \"2018-01-01\", \"2019-01-01\", \"2020-01-01\"], \"y\": [118.0, 104.0, 127.0, 149.0, 119.0, 130.0, 137.0, 136.0, 157.0, 129.0, 110.0, 115.0, 107.0, 84.0, 139.0, 110.0, 111.0, 103.0, 111.0, 140.0, 102.0, 125.0, 117.0, 124.0, 135.0, 150.0, 148.0, 147.0, 130.0, 110.0, 135.0, 106.0, 127.0, 105.0, 147.0, 119.0, 110.0, 155.0, 139.0, 156.0, 143.0, 147.0, 158.0, 138.0, 116.0, 126.0, 171.0, 124.0, 139.0, 140.0, 165.0, 141.0, 148.0, 115.0, 135.0, 123.0, 118.0, 103.0, 109.0, 97.0, 105.0, 62.0, 92.0, 71.0, 76.0, 91.0, 76.0, 70.0, 111.0, 87.0, 54.0, 95.0, 69.0, 74.0, 86.0, 101.0, 73.0, 71.0, 78.0, 91.0, null]}, {\"hovertemplate\": \"%{x|%Y}<br><b>11yr Moving Average</b><br>Gale Gust Days: %{y}<extra></extra>\", \"line\": {\"color\": \"#de8bb7\", \"shape\": \"spline\", \"width\": 2}, \"mode\": \"lines\", \"name\": \"11 Year Moving Average Gale Gust Days\", \"type\": \"scatter\", \"x\": [\"1940-01-01\", \"1941-01-01\", \"1942-01-01\", \"1943-01-01\", \"1944-01-01\", \"1945-01-01\", \"1946-01-01\", \"1947-01-01\", \"1948-01-01\", \"1949-01-01\", \"1950-01-01\", \"1951-01-01\", \"1952-01-01\", \"1953-01-01\", \"1954-01-01\", \"1955-01-01\", \"1956-01-01\", \"1957-01-01\", \"1958-01-01\", \"1959-01-01\", \"1960-01-01\", \"1961-01-01\", \"1962-01-01\", \"1963-01-01\", \"1964-01-01\", \"1965-01-01\", \"1966-01-01\", \"1967-01-01\", \"1968-01-01\", \"1969-01-01\", \"1970-01-01\", \"1971-01-01\", \"1972-01-01\", \"1973-01-01\", \"1974-01-01\", \"1975-01-01\", \"1976-01-01\", \"1977-01-01\", \"1978-01-01\", \"1979-01-01\", \"1980-01-01\", \"1981-01-01\", \"1982-01-01\", \"1983-01-01\", \"1984-01-01\", \"1985-01-01\", \"1986-01-01\", \"1987-01-01\", \"1988-01-01\", \"1989-01-01\", \"1990-01-01\", \"1991-01-01\", \"1992-01-01\", \"1993-01-01\", \"1994-01-01\", \"1995-01-01\", \"1996-01-01\", \"1997-01-01\", \"1998-01-01\", \"1999-01-01\", \"2000-01-01\", \"2001-01-01\", \"2002-01-01\", \"2003-01-01\", \"2004-01-01\", \"2005-01-01\", \"2006-01-01\", \"2007-01-01\", \"2008-01-01\", \"2009-01-01\", \"2010-01-01\", \"2011-01-01\", \"2012-01-01\", \"2013-01-01\", \"2014-01-01\", \"2015-01-01\", \"2016-01-01\", \"2017-01-01\", \"2018-01-01\", \"2019-01-01\", \"2020-01-01\"], \"y\": [null, null, null, null, null, 128.72727272727272, 128.45454545454547, 128.72727272727272, 124.8181818181818, 123.9090909090909, 123.0909090909091, 121.36363636363636, 118.27272727272728, 116.0, 114.45454545454544, 112.0, 113.36363636363636, 113.54545454545456, 115.0909090909091, 119.72727272727272, 120.72727272727272, 124.1818181818182, 127.45454545454544, 129.9090909090909, 129.8181818181818, 129.36363636363637, 129.72727272727272, 129.9090909090909, 128.8181818181818, 130.9090909090909, 129.45454545454547, 125.8181818181818, 126.45454545454544, 125.72727272727272, 128.0909090909091, 131.0909090909091, 132.1818181818182, 136.9090909090909, 137.9090909090909, 138.9090909090909, 137.0, 141.72727272727272, 143.0, 141.54545454545453, 141.63636363636363, 142.45454545454547, 142.27272727272728, 142.36363636363637, 138.45454545454547, 138.1818181818182, 138.8181818181818, 138.0909090909091, 131.9090909090909, 130.54545454545453, 126.72727272727272, 123.54545454545456, 114.1818181818182, 109.72727272727272, 102.72727272727272, 99.1818181818182, 95.1818181818182, 90.9090909090909, 86.54545454545455, 87.27272727272727, 85.27272727272727, 81.36363636363636, 80.45454545454545, 81.0909090909091, 79.45454545454545, 80.81818181818181, 83.0909090909091, 81.45454545454545, 81.0, 81.72727272727273, 79.9090909090909, null, null, null, null, null, null]}],                        {\"font\": {\"color\": \"#7f7f7f\"}, \"height\": 300, \"hovermode\": \"closest\", \"legend\": {\"bgcolor\": \"rgba(0,0,0,0)\", \"itemclick\": false, \"itemdoubleclick\": false, \"orientation\": \"h\"}, \"margin\": {\"b\": 100, \"l\": 0, \"r\": 0, \"t\": 0}, \"paper_bgcolor\": \"rgba(0,0,0,0)\", \"plot_bgcolor\": \"#f7fbfd\", \"template\": {\"data\": {\"bar\": [{\"error_x\": {\"color\": \"#2a3f5f\"}, \"error_y\": {\"color\": \"#2a3f5f\"}, \"marker\": {\"line\": {\"color\": \"#E5ECF6\", \"width\": 0.5}}, \"type\": \"bar\"}], \"barpolar\": [{\"marker\": {\"line\": {\"color\": \"#E5ECF6\", \"width\": 0.5}}, \"type\": \"barpolar\"}], \"carpet\": [{\"aaxis\": {\"endlinecolor\": \"#2a3f5f\", \"gridcolor\": \"white\", \"linecolor\": \"white\", \"minorgridcolor\": \"white\", \"startlinecolor\": \"#2a3f5f\"}, \"baxis\": {\"endlinecolor\": \"#2a3f5f\", \"gridcolor\": \"white\", \"linecolor\": \"white\", \"minorgridcolor\": \"white\", \"startlinecolor\": \"#2a3f5f\"}, \"type\": \"carpet\"}], \"choropleth\": [{\"colorbar\": {\"outlinewidth\": 0, \"ticks\": \"\"}, \"type\": \"choropleth\"}], \"contour\": [{\"colorbar\": {\"outlinewidth\": 0, \"ticks\": \"\"}, \"colorscale\": [[0.0, \"#0d0887\"], [0.1111111111111111, \"#46039f\"], [0.2222222222222222, \"#7201a8\"], [0.3333333333333333, \"#9c179e\"], [0.4444444444444444, \"#bd3786\"], [0.5555555555555556, \"#d8576b\"], [0.6666666666666666, \"#ed7953\"], [0.7777777777777778, \"#fb9f3a\"], [0.8888888888888888, \"#fdca26\"], [1.0, \"#f0f921\"]], \"type\": \"contour\"}], \"contourcarpet\": [{\"colorbar\": {\"outlinewidth\": 0, \"ticks\": \"\"}, \"type\": \"contourcarpet\"}], \"heatmap\": [{\"colorbar\": {\"outlinewidth\": 0, \"ticks\": \"\"}, \"colorscale\": [[0.0, \"#0d0887\"], [0.1111111111111111, \"#46039f\"], [0.2222222222222222, \"#7201a8\"], [0.3333333333333333, \"#9c179e\"], [0.4444444444444444, \"#bd3786\"], [0.5555555555555556, \"#d8576b\"], [0.6666666666666666, \"#ed7953\"], [0.7777777777777778, \"#fb9f3a\"], [0.8888888888888888, \"#fdca26\"], [1.0, \"#f0f921\"]], \"type\": \"heatmap\"}], \"heatmapgl\": [{\"colorbar\": {\"outlinewidth\": 0, \"ticks\": \"\"}, \"colorscale\": [[0.0, \"#0d0887\"], [0.1111111111111111, \"#46039f\"], [0.2222222222222222, \"#7201a8\"], [0.3333333333333333, \"#9c179e\"], [0.4444444444444444, \"#bd3786\"], [0.5555555555555556, \"#d8576b\"], [0.6666666666666666, \"#ed7953\"], [0.7777777777777778, \"#fb9f3a\"], [0.8888888888888888, \"#fdca26\"], [1.0, \"#f0f921\"]], \"type\": \"heatmapgl\"}], \"histogram\": [{\"marker\": {\"colorbar\": {\"outlinewidth\": 0, \"ticks\": \"\"}}, \"type\": \"histogram\"}], \"histogram2d\": [{\"colorbar\": {\"outlinewidth\": 0, \"ticks\": \"\"}, \"colorscale\": [[0.0, \"#0d0887\"], [0.1111111111111111, \"#46039f\"], [0.2222222222222222, \"#7201a8\"], [0.3333333333333333, \"#9c179e\"], [0.4444444444444444, \"#bd3786\"], [0.5555555555555556, \"#d8576b\"], [0.6666666666666666, \"#ed7953\"], [0.7777777777777778, \"#fb9f3a\"], [0.8888888888888888, \"#fdca26\"], [1.0, \"#f0f921\"]], \"type\": \"histogram2d\"}], \"histogram2dcontour\": [{\"colorbar\": {\"outlinewidth\": 0, \"ticks\": \"\"}, \"colorscale\": [[0.0, \"#0d0887\"], [0.1111111111111111, \"#46039f\"], [0.2222222222222222, \"#7201a8\"], [0.3333333333333333, \"#9c179e\"], [0.4444444444444444, \"#bd3786\"], [0.5555555555555556, \"#d8576b\"], [0.6666666666666666, \"#ed7953\"], [0.7777777777777778, \"#fb9f3a\"], [0.8888888888888888, \"#fdca26\"], [1.0, \"#f0f921\"]], \"type\": \"histogram2dcontour\"}], \"mesh3d\": [{\"colorbar\": {\"outlinewidth\": 0, \"ticks\": \"\"}, \"type\": \"mesh3d\"}], \"parcoords\": [{\"line\": {\"colorbar\": {\"outlinewidth\": 0, \"ticks\": \"\"}}, \"type\": \"parcoords\"}], \"pie\": [{\"automargin\": true, \"type\": \"pie\"}], \"scatter\": [{\"marker\": {\"colorbar\": {\"outlinewidth\": 0, \"ticks\": \"\"}}, \"type\": \"scatter\"}], \"scatter3d\": [{\"line\": {\"colorbar\": {\"outlinewidth\": 0, \"ticks\": \"\"}}, \"marker\": {\"colorbar\": {\"outlinewidth\": 0, \"ticks\": \"\"}}, \"type\": \"scatter3d\"}], \"scattercarpet\": [{\"marker\": {\"colorbar\": {\"outlinewidth\": 0, \"ticks\": \"\"}}, \"type\": \"scattercarpet\"}], \"scattergeo\": [{\"marker\": {\"colorbar\": {\"outlinewidth\": 0, \"ticks\": \"\"}}, \"type\": \"scattergeo\"}], \"scattergl\": [{\"marker\": {\"colorbar\": {\"outlinewidth\": 0, \"ticks\": \"\"}}, \"type\": \"scattergl\"}], \"scattermapbox\": [{\"marker\": {\"colorbar\": {\"outlinewidth\": 0, \"ticks\": \"\"}}, \"type\": \"scattermapbox\"}], \"scatterpolar\": [{\"marker\": {\"colorbar\": {\"outlinewidth\": 0, \"ticks\": \"\"}}, \"type\": \"scatterpolar\"}], \"scatterpolargl\": [{\"marker\": {\"colorbar\": {\"outlinewidth\": 0, \"ticks\": \"\"}}, \"type\": \"scatterpolargl\"}], \"scatterternary\": [{\"marker\": {\"colorbar\": {\"outlinewidth\": 0, \"ticks\": \"\"}}, \"type\": \"scatterternary\"}], \"surface\": [{\"colorbar\": {\"outlinewidth\": 0, \"ticks\": \"\"}, \"colorscale\": [[0.0, \"#0d0887\"], [0.1111111111111111, \"#46039f\"], [0.2222222222222222, \"#7201a8\"], [0.3333333333333333, \"#9c179e\"], [0.4444444444444444, \"#bd3786\"], [0.5555555555555556, \"#d8576b\"], [0.6666666666666666, \"#ed7953\"], [0.7777777777777778, \"#fb9f3a\"], [0.8888888888888888, \"#fdca26\"], [1.0, \"#f0f921\"]], \"type\": \"surface\"}], \"table\": [{\"cells\": {\"fill\": {\"color\": \"#EBF0F8\"}, \"line\": {\"color\": \"white\"}}, \"header\": {\"fill\": {\"color\": \"#C8D4E3\"}, \"line\": {\"color\": \"white\"}}, \"type\": \"table\"}]}, \"layout\": {\"annotationdefaults\": {\"arrowcolor\": \"#2a3f5f\", \"arrowhead\": 0, \"arrowwidth\": 1}, \"autotypenumbers\": \"strict\", \"coloraxis\": {\"colorbar\": {\"outlinewidth\": 0, \"ticks\": \"\"}}, \"colorscale\": {\"diverging\": [[0, \"#8e0152\"], [0.1, \"#c51b7d\"], [0.2, \"#de77ae\"], [0.3, \"#f1b6da\"], [0.4, \"#fde0ef\"], [0.5, \"#f7f7f7\"], [0.6, \"#e6f5d0\"], [0.7, \"#b8e186\"], [0.8, \"#7fbc41\"], [0.9, \"#4d9221\"], [1, \"#276419\"]], \"sequential\": [[0.0, \"#0d0887\"], [0.1111111111111111, \"#46039f\"], [0.2222222222222222, \"#7201a8\"], [0.3333333333333333, \"#9c179e\"], [0.4444444444444444, \"#bd3786\"], [0.5555555555555556, \"#d8576b\"], [0.6666666666666666, \"#ed7953\"], [0.7777777777777778, \"#fb9f3a\"], [0.8888888888888888, \"#fdca26\"], [1.0, \"#f0f921\"]], \"sequentialminus\": [[0.0, \"#0d0887\"], [0.1111111111111111, \"#46039f\"], [0.2222222222222222, \"#7201a8\"], [0.3333333333333333, \"#9c179e\"], [0.4444444444444444, \"#bd3786\"], [0.5555555555555556, \"#d8576b\"], [0.6666666666666666, \"#ed7953\"], [0.7777777777777778, \"#fb9f3a\"], [0.8888888888888888, \"#fdca26\"], [1.0, \"#f0f921\"]]}, \"colorway\": [\"#636efa\", \"#EF553B\", \"#00cc96\", \"#ab63fa\", \"#FFA15A\", \"#19d3f3\", \"#FF6692\", \"#B6E880\", \"#FF97FF\", \"#FECB52\"], \"font\": {\"color\": \"#2a3f5f\"}, \"geo\": {\"bgcolor\": \"white\", \"lakecolor\": \"white\", \"landcolor\": \"#E5ECF6\", \"showlakes\": true, \"showland\": true, \"subunitcolor\": \"white\"}, \"hoverlabel\": {\"align\": \"left\"}, \"hovermode\": \"closest\", \"mapbox\": {\"style\": \"light\"}, \"paper_bgcolor\": \"white\", \"plot_bgcolor\": \"#E5ECF6\", \"polar\": {\"angularaxis\": {\"gridcolor\": \"white\", \"linecolor\": \"white\", \"ticks\": \"\"}, \"bgcolor\": \"#E5ECF6\", \"radialaxis\": {\"gridcolor\": \"white\", \"linecolor\": \"white\", \"ticks\": \"\"}}, \"scene\": {\"xaxis\": {\"backgroundcolor\": \"#E5ECF6\", \"gridcolor\": \"white\", \"gridwidth\": 2, \"linecolor\": \"white\", \"showbackground\": true, \"ticks\": \"\", \"zerolinecolor\": \"white\"}, \"yaxis\": {\"backgroundcolor\": \"#E5ECF6\", \"gridcolor\": \"white\", \"gridwidth\": 2, \"linecolor\": \"white\", \"showbackground\": true, \"ticks\": \"\", \"zerolinecolor\": \"white\"}, \"zaxis\": {\"backgroundcolor\": \"#E5ECF6\", \"gridcolor\": \"white\", \"gridwidth\": 2, \"linecolor\": \"white\", \"showbackground\": true, \"ticks\": \"\", \"zerolinecolor\": \"white\"}}, \"shapedefaults\": {\"line\": {\"color\": \"#2a3f5f\"}}, \"ternary\": {\"aaxis\": {\"gridcolor\": \"white\", \"linecolor\": \"white\", \"ticks\": \"\"}, \"baxis\": {\"gridcolor\": \"white\", \"linecolor\": \"white\", \"ticks\": \"\"}, \"bgcolor\": \"#E5ECF6\", \"caxis\": {\"gridcolor\": \"white\", \"linecolor\": \"white\", \"ticks\": \"\"}}, \"title\": {\"x\": 0.05}, \"xaxis\": {\"automargin\": true, \"gridcolor\": \"white\", \"linecolor\": \"white\", \"ticks\": \"\", \"title\": {\"standoff\": 15}, \"zerolinecolor\": \"white\", \"zerolinewidth\": 2}, \"yaxis\": {\"automargin\": true, \"gridcolor\": \"white\", \"linecolor\": \"white\", \"ticks\": \"\", \"title\": {\"standoff\": 15}, \"zerolinecolor\": \"white\", \"zerolinewidth\": 2}}}, \"xaxis\": {\"fixedrange\": true, \"showgrid\": false, \"title\": {\"text\": \"Year\"}}, \"yaxis\": {\"fixedrange\": true, \"title\": {\"text\": \"Number of Days with <br> Gusts > 17.5 m/s\"}}},                        {\"responsive\": true}                    ).then(function(){\n",
       "                            \n",
       "var gd = document.getElementById('b783ad18-5b0d-458d-92a4-763708068b07');\n",
       "var x = new MutationObserver(function (mutations, observer) {{\n",
       "        var display = window.getComputedStyle(gd).display;\n",
       "        if (!display || display === 'none') {{\n",
       "            console.log([gd, 'removed!']);\n",
       "            Plotly.purge(gd);\n",
       "            observer.disconnect();\n",
       "        }}\n",
       "}});\n",
       "\n",
       "// Listen for the removal of the full notebook cells\n",
       "var notebookContainer = gd.closest('#notebook-container');\n",
       "if (notebookContainer) {{\n",
       "    x.observe(notebookContainer, {childList: true});\n",
       "}}\n",
       "\n",
       "// Listen for the clearing of the current output cell\n",
       "var outputEl = gd.closest('.output');\n",
       "if (outputEl) {{\n",
       "    x.observe(outputEl, {childList: true});\n",
       "}}\n",
       "\n",
       "                        })                };                });            </script>        </div>"
      ]
     },
     "metadata": {},
     "output_type": "display_data"
    }
   ],
   "source": [
    "# valentia seperate charts\n",
    "figure_2_4_a_2 = go.Figure(data=[gust_days_trace, moving_avg_gust_days_trace], layout=TIMESERIES_LAYOUT)\n",
    "figure_2_4_a_2.update_layout(\n",
    "    yaxis=dict(title='Number of Days with <br> Gusts > 17.5 m/s'),\n",
    "    xaxis=dict(title=\"Year\"),\n",
    "    margin_b=100,\n",
    "    height=300)\n",
    "figure_2_4_a_2"
   ]
  },
  {
   "cell_type": "code",
   "execution_count": 80,
   "id": "acquired-unemployment",
   "metadata": {},
   "outputs": [
    {
     "data": {
      "application/vnd.plotly.v1+json": {
       "config": {
        "plotlyServerURL": "https://plot.ly"
       },
       "data": [
        {
         "hovertemplate": "%{x|%Y}<br><b>Mean Annual</b><br>Wind Speed: %{y:.2f} m/s<br><extra></extra>",
         "marker": {
          "color": "#E1AF00",
          "opacity": 0.5,
          "size": 5
         },
         "mode": "markers",
         "name": "Mean Annual Wind Speed",
         "type": "scatter",
         "x": [
          "1940-01-01",
          "1941-01-01",
          "1942-01-01",
          "1943-01-01",
          "1944-01-01",
          "1945-01-01",
          "1946-01-01",
          "1947-01-01",
          "1948-01-01",
          "1949-01-01",
          "1950-01-01",
          "1951-01-01",
          "1952-01-01",
          "1953-01-01",
          "1954-01-01",
          "1955-01-01",
          "1956-01-01",
          "1957-01-01",
          "1958-01-01",
          "1959-01-01",
          "1960-01-01",
          "1961-01-01",
          "1962-01-01",
          "1963-01-01",
          "1964-01-01",
          "1965-01-01",
          "1966-01-01",
          "1967-01-01",
          "1968-01-01",
          "1969-01-01",
          "1970-01-01",
          "1971-01-01",
          "1972-01-01",
          "1973-01-01",
          "1974-01-01",
          "1975-01-01",
          "1976-01-01",
          "1977-01-01",
          "1978-01-01",
          "1979-01-01",
          "1980-01-01",
          "1981-01-01",
          "1982-01-01",
          "1983-01-01",
          "1984-01-01",
          "1985-01-01",
          "1986-01-01",
          "1987-01-01",
          "1988-01-01",
          "1989-01-01",
          "1990-01-01",
          "1991-01-01",
          "1992-01-01",
          "1993-01-01",
          "1994-01-01",
          "1995-01-01",
          "1996-01-01",
          "1997-01-01",
          "1998-01-01",
          "1999-01-01",
          "2000-01-01",
          "2001-01-01",
          "2002-01-01",
          "2003-01-01",
          "2004-01-01",
          "2005-01-01",
          "2006-01-01",
          "2007-01-01",
          "2008-01-01",
          "2009-01-01",
          "2010-01-01",
          "2011-01-01",
          "2012-01-01",
          "2013-01-01",
          "2014-01-01",
          "2015-01-01",
          "2016-01-01",
          "2017-01-01",
          "2018-01-01",
          "2019-01-01",
          "2020-01-01"
         ],
         "xaxis": "x",
         "y": [
          5.453111111111111,
          5.247333333333334,
          5.813222222222223,
          6.327666666666667,
          5.658888888888889,
          5.710333333333334,
          5.813222222222223,
          5.813222222222223,
          6.019,
          5.504555555555555,
          5.556000000000001,
          4.938666666666667,
          4.990111111111111,
          4.630000000000001,
          5.607444444444445,
          4.990111111111111,
          5.041555555555556,
          4.938666666666667,
          5.041555555555556,
          5.401666666666667,
          4.938666666666667,
          5.2987777777777785,
          5.093000000000001,
          5.504555555555555,
          5.607444444444445,
          5.813222222222223,
          6.070444444444445,
          5.864666666666667,
          5.556000000000001,
          5.144444444444445,
          5.658888888888889,
          5.144444444444445,
          5.504555555555555,
          5.247333333333334,
          5.916111111111111,
          5.2987777777777785,
          5.401666666666667,
          5.761777777777778,
          5.710333333333334,
          5.864666666666667,
          5.761777777777778,
          5.813222222222223,
          6.019,
          5.710333333333334,
          5.350222222222222,
          5.607444444444445,
          6.12188888888889,
          5.401666666666667,
          5.401666666666667,
          5.453111111111111,
          5.710333333333334,
          5.195888888888889,
          5.247333333333334,
          4.938666666666667,
          5.041555555555556,
          4.630000000000001,
          4.527111111111112,
          4.3213333333333335,
          4.578555555555556,
          5.041555555555556,
          4.938666666666667,
          4.218444444444445,
          5.093000000000001,
          4.732888888888889,
          4.784333333333334,
          4.784333333333334,
          4.732888888888889,
          4.3213333333333335,
          5.041555555555556,
          4.732888888888889,
          3.961222222222223,
          4.990111111111111,
          4.784333333333334,
          4.835777777777778,
          4.887222222222222,
          5.350222222222222,
          4.732888888888889,
          4.784333333333334,
          4.835777777777778,
          5.093000000000001,
          null
         ],
         "yaxis": "y"
        },
        {
         "hovertemplate": "%{x|%Y}<br><b>11yr Moving Average</b><br>Wind Speed: %{y:.2f} m/s<extra></extra>",
         "line": {
          "color": "#00a4ae",
          "shape": "spline",
          "width": 2
         },
         "mode": "lines",
         "name": "11 Year Moving Average Wind Speed",
         "type": "scatter",
         "x": [
          "1940-01-01",
          "1941-01-01",
          "1942-01-01",
          "1943-01-01",
          "1944-01-01",
          "1945-01-01",
          "1946-01-01",
          "1947-01-01",
          "1948-01-01",
          "1949-01-01",
          "1950-01-01",
          "1951-01-01",
          "1952-01-01",
          "1953-01-01",
          "1954-01-01",
          "1955-01-01",
          "1956-01-01",
          "1957-01-01",
          "1958-01-01",
          "1959-01-01",
          "1960-01-01",
          "1961-01-01",
          "1962-01-01",
          "1963-01-01",
          "1964-01-01",
          "1965-01-01",
          "1966-01-01",
          "1967-01-01",
          "1968-01-01",
          "1969-01-01",
          "1970-01-01",
          "1971-01-01",
          "1972-01-01",
          "1973-01-01",
          "1974-01-01",
          "1975-01-01",
          "1976-01-01",
          "1977-01-01",
          "1978-01-01",
          "1979-01-01",
          "1980-01-01",
          "1981-01-01",
          "1982-01-01",
          "1983-01-01",
          "1984-01-01",
          "1985-01-01",
          "1986-01-01",
          "1987-01-01",
          "1988-01-01",
          "1989-01-01",
          "1990-01-01",
          "1991-01-01",
          "1992-01-01",
          "1993-01-01",
          "1994-01-01",
          "1995-01-01",
          "1996-01-01",
          "1997-01-01",
          "1998-01-01",
          "1999-01-01",
          "2000-01-01",
          "2001-01-01",
          "2002-01-01",
          "2003-01-01",
          "2004-01-01",
          "2005-01-01",
          "2006-01-01",
          "2007-01-01",
          "2008-01-01",
          "2009-01-01",
          "2010-01-01",
          "2011-01-01",
          "2012-01-01",
          "2013-01-01",
          "2014-01-01",
          "2015-01-01",
          "2016-01-01",
          "2017-01-01",
          "2018-01-01",
          "2019-01-01",
          "2020-01-01"
         ],
         "xaxis": "x",
         "y": [
          null,
          null,
          null,
          null,
          null,
          5.719686868686869,
          5.672919191919193,
          5.649535353535355,
          5.541969696969698,
          5.47649494949495,
          5.415696969696971,
          5.354898989898991,
          5.27539393939394,
          5.205242424242424,
          5.149121212121213,
          5.097676767676769,
          5.0742929292929295,
          5.0883232323232335,
          5.135090909090911,
          5.223949494949496,
          5.242656565656566,
          5.340868686868688,
          5.41569696969697,
          5.471818181818183,
          5.481171717171718,
          5.504555555555556,
          5.523262626262627,
          5.541969696969697,
          5.556000000000001,
          5.593414141414142,
          5.565353535353537,
          5.527939393939395,
          5.499878787878789,
          5.485848484848486,
          5.513909090909091,
          5.570030303030303,
          5.584060606060607,
          5.663565656565656,
          5.682272727272727,
          5.691626262626262,
          5.663565656565657,
          5.73839393939394,
          5.738393939393939,
          5.705656565656567,
          5.6822727272727285,
          5.668242424242425,
          5.616797979797981,
          5.565353535353537,
          5.467141414141415,
          5.406343434343435,
          5.340868686868687,
          5.242656565656567,
          5.078969696969698,
          5.004141414141414,
          4.97140404040404,
          4.924636363636364,
          4.789010101010101,
          4.779656565656566,
          4.7328888888888905,
          4.718858585858587,
          4.695474747474749,
          4.704828282828284,
          4.686121212121213,
          4.75159595959596,
          4.765626262626263,
          4.667414141414143,
          4.67209090909091,
          4.723535353535355,
          4.700151515151516,
          4.714181818181819,
          4.765626262626262,
          4.760949494949495,
          4.765626262626263,
          4.81239393939394,
          4.817070707070707,
          null,
          null,
          null,
          null,
          null,
          null
         ],
         "yaxis": "y"
        },
        {
         "hovertemplate": "%{x|%Y}<br><b>Annual</b><br>Gale Gust Days: %{y}<br><extra></extra>",
         "marker": {
          "color": "#6e987b",
          "opacity": 0.5,
          "size": 5
         },
         "mode": "markers",
         "name": "Gust Days",
         "type": "scatter",
         "x": [
          "1940-01-01",
          "1941-01-01",
          "1942-01-01",
          "1943-01-01",
          "1944-01-01",
          "1945-01-01",
          "1946-01-01",
          "1947-01-01",
          "1948-01-01",
          "1949-01-01",
          "1950-01-01",
          "1951-01-01",
          "1952-01-01",
          "1953-01-01",
          "1954-01-01",
          "1955-01-01",
          "1956-01-01",
          "1957-01-01",
          "1958-01-01",
          "1959-01-01",
          "1960-01-01",
          "1961-01-01",
          "1962-01-01",
          "1963-01-01",
          "1964-01-01",
          "1965-01-01",
          "1966-01-01",
          "1967-01-01",
          "1968-01-01",
          "1969-01-01",
          "1970-01-01",
          "1971-01-01",
          "1972-01-01",
          "1973-01-01",
          "1974-01-01",
          "1975-01-01",
          "1976-01-01",
          "1977-01-01",
          "1978-01-01",
          "1979-01-01",
          "1980-01-01",
          "1981-01-01",
          "1982-01-01",
          "1983-01-01",
          "1984-01-01",
          "1985-01-01",
          "1986-01-01",
          "1987-01-01",
          "1988-01-01",
          "1989-01-01",
          "1990-01-01",
          "1991-01-01",
          "1992-01-01",
          "1993-01-01",
          "1994-01-01",
          "1995-01-01",
          "1996-01-01",
          "1997-01-01",
          "1998-01-01",
          "1999-01-01",
          "2000-01-01",
          "2001-01-01",
          "2002-01-01",
          "2003-01-01",
          "2004-01-01",
          "2005-01-01",
          "2006-01-01",
          "2007-01-01",
          "2008-01-01",
          "2009-01-01",
          "2010-01-01",
          "2011-01-01",
          "2012-01-01",
          "2013-01-01",
          "2014-01-01",
          "2015-01-01",
          "2016-01-01",
          "2017-01-01",
          "2018-01-01",
          "2019-01-01",
          "2020-01-01"
         ],
         "xaxis": "x",
         "y": [
          118,
          104,
          127,
          149,
          119,
          130,
          137,
          136,
          157,
          129,
          110,
          115,
          107,
          84,
          139,
          110,
          111,
          103,
          111,
          140,
          102,
          125,
          117,
          124,
          135,
          150,
          148,
          147,
          130,
          110,
          135,
          106,
          127,
          105,
          147,
          119,
          110,
          155,
          139,
          156,
          143,
          147,
          158,
          138,
          116,
          126,
          171,
          124,
          139,
          140,
          165,
          141,
          148,
          115,
          135,
          123,
          118,
          103,
          109,
          97,
          105,
          62,
          92,
          71,
          76,
          91,
          76,
          70,
          111,
          87,
          54,
          95,
          69,
          74,
          86,
          101,
          73,
          71,
          78,
          91,
          null
         ],
         "yaxis": "y2"
        },
        {
         "hovertemplate": "%{x|%Y}<br><b>11yr Moving Average</b><br>Gale Gust Days: %{y}<extra></extra>",
         "line": {
          "color": "#de8bb7",
          "shape": "spline",
          "width": 2
         },
         "mode": "lines",
         "name": "11 Year Moving Average Gale Gust Days",
         "type": "scatter",
         "x": [
          "1940-01-01",
          "1941-01-01",
          "1942-01-01",
          "1943-01-01",
          "1944-01-01",
          "1945-01-01",
          "1946-01-01",
          "1947-01-01",
          "1948-01-01",
          "1949-01-01",
          "1950-01-01",
          "1951-01-01",
          "1952-01-01",
          "1953-01-01",
          "1954-01-01",
          "1955-01-01",
          "1956-01-01",
          "1957-01-01",
          "1958-01-01",
          "1959-01-01",
          "1960-01-01",
          "1961-01-01",
          "1962-01-01",
          "1963-01-01",
          "1964-01-01",
          "1965-01-01",
          "1966-01-01",
          "1967-01-01",
          "1968-01-01",
          "1969-01-01",
          "1970-01-01",
          "1971-01-01",
          "1972-01-01",
          "1973-01-01",
          "1974-01-01",
          "1975-01-01",
          "1976-01-01",
          "1977-01-01",
          "1978-01-01",
          "1979-01-01",
          "1980-01-01",
          "1981-01-01",
          "1982-01-01",
          "1983-01-01",
          "1984-01-01",
          "1985-01-01",
          "1986-01-01",
          "1987-01-01",
          "1988-01-01",
          "1989-01-01",
          "1990-01-01",
          "1991-01-01",
          "1992-01-01",
          "1993-01-01",
          "1994-01-01",
          "1995-01-01",
          "1996-01-01",
          "1997-01-01",
          "1998-01-01",
          "1999-01-01",
          "2000-01-01",
          "2001-01-01",
          "2002-01-01",
          "2003-01-01",
          "2004-01-01",
          "2005-01-01",
          "2006-01-01",
          "2007-01-01",
          "2008-01-01",
          "2009-01-01",
          "2010-01-01",
          "2011-01-01",
          "2012-01-01",
          "2013-01-01",
          "2014-01-01",
          "2015-01-01",
          "2016-01-01",
          "2017-01-01",
          "2018-01-01",
          "2019-01-01",
          "2020-01-01"
         ],
         "xaxis": "x",
         "y": [
          null,
          null,
          null,
          null,
          null,
          128.72727272727272,
          128.45454545454547,
          128.72727272727272,
          124.8181818181818,
          123.9090909090909,
          123.0909090909091,
          121.36363636363636,
          118.27272727272728,
          116,
          114.45454545454544,
          112,
          113.36363636363636,
          113.54545454545456,
          115.0909090909091,
          119.72727272727272,
          120.72727272727272,
          124.1818181818182,
          127.45454545454544,
          129.9090909090909,
          129.8181818181818,
          129.36363636363637,
          129.72727272727272,
          129.9090909090909,
          128.8181818181818,
          130.9090909090909,
          129.45454545454547,
          125.8181818181818,
          126.45454545454544,
          125.72727272727272,
          128.0909090909091,
          131.0909090909091,
          132.1818181818182,
          136.9090909090909,
          137.9090909090909,
          138.9090909090909,
          137,
          141.72727272727272,
          143,
          141.54545454545453,
          141.63636363636363,
          142.45454545454547,
          142.27272727272728,
          142.36363636363637,
          138.45454545454547,
          138.1818181818182,
          138.8181818181818,
          138.0909090909091,
          131.9090909090909,
          130.54545454545453,
          126.72727272727272,
          123.54545454545456,
          114.1818181818182,
          109.72727272727272,
          102.72727272727272,
          99.1818181818182,
          95.1818181818182,
          90.9090909090909,
          86.54545454545455,
          87.27272727272727,
          85.27272727272727,
          81.36363636363636,
          80.45454545454545,
          81.0909090909091,
          79.45454545454545,
          80.81818181818181,
          83.0909090909091,
          81.45454545454545,
          81,
          81.72727272727273,
          79.9090909090909,
          null,
          null,
          null,
          null,
          null,
          null
         ],
         "yaxis": "y2"
        }
       ],
       "layout": {
        "font": {
         "color": "#7f7f7f"
        },
        "height": 450,
        "hovermode": "closest",
        "legend": {
         "bgcolor": "rgba(0,0,0,0)",
         "itemclick": false,
         "itemdoubleclick": false,
         "orientation": "h"
        },
        "margin": {
         "b": 0,
         "l": 0,
         "r": 0,
         "t": 0
        },
        "paper_bgcolor": "rgba(0,0,0,0)",
        "plot_bgcolor": "#f7fbfd",
        "template": {
         "data": {
          "bar": [
           {
            "error_x": {
             "color": "#2a3f5f"
            },
            "error_y": {
             "color": "#2a3f5f"
            },
            "marker": {
             "line": {
              "color": "#E5ECF6",
              "width": 0.5
             }
            },
            "type": "bar"
           }
          ],
          "barpolar": [
           {
            "marker": {
             "line": {
              "color": "#E5ECF6",
              "width": 0.5
             }
            },
            "type": "barpolar"
           }
          ],
          "carpet": [
           {
            "aaxis": {
             "endlinecolor": "#2a3f5f",
             "gridcolor": "white",
             "linecolor": "white",
             "minorgridcolor": "white",
             "startlinecolor": "#2a3f5f"
            },
            "baxis": {
             "endlinecolor": "#2a3f5f",
             "gridcolor": "white",
             "linecolor": "white",
             "minorgridcolor": "white",
             "startlinecolor": "#2a3f5f"
            },
            "type": "carpet"
           }
          ],
          "choropleth": [
           {
            "colorbar": {
             "outlinewidth": 0,
             "ticks": ""
            },
            "type": "choropleth"
           }
          ],
          "contour": [
           {
            "colorbar": {
             "outlinewidth": 0,
             "ticks": ""
            },
            "colorscale": [
             [
              0,
              "#0d0887"
             ],
             [
              0.1111111111111111,
              "#46039f"
             ],
             [
              0.2222222222222222,
              "#7201a8"
             ],
             [
              0.3333333333333333,
              "#9c179e"
             ],
             [
              0.4444444444444444,
              "#bd3786"
             ],
             [
              0.5555555555555556,
              "#d8576b"
             ],
             [
              0.6666666666666666,
              "#ed7953"
             ],
             [
              0.7777777777777778,
              "#fb9f3a"
             ],
             [
              0.8888888888888888,
              "#fdca26"
             ],
             [
              1,
              "#f0f921"
             ]
            ],
            "type": "contour"
           }
          ],
          "contourcarpet": [
           {
            "colorbar": {
             "outlinewidth": 0,
             "ticks": ""
            },
            "type": "contourcarpet"
           }
          ],
          "heatmap": [
           {
            "colorbar": {
             "outlinewidth": 0,
             "ticks": ""
            },
            "colorscale": [
             [
              0,
              "#0d0887"
             ],
             [
              0.1111111111111111,
              "#46039f"
             ],
             [
              0.2222222222222222,
              "#7201a8"
             ],
             [
              0.3333333333333333,
              "#9c179e"
             ],
             [
              0.4444444444444444,
              "#bd3786"
             ],
             [
              0.5555555555555556,
              "#d8576b"
             ],
             [
              0.6666666666666666,
              "#ed7953"
             ],
             [
              0.7777777777777778,
              "#fb9f3a"
             ],
             [
              0.8888888888888888,
              "#fdca26"
             ],
             [
              1,
              "#f0f921"
             ]
            ],
            "type": "heatmap"
           }
          ],
          "heatmapgl": [
           {
            "colorbar": {
             "outlinewidth": 0,
             "ticks": ""
            },
            "colorscale": [
             [
              0,
              "#0d0887"
             ],
             [
              0.1111111111111111,
              "#46039f"
             ],
             [
              0.2222222222222222,
              "#7201a8"
             ],
             [
              0.3333333333333333,
              "#9c179e"
             ],
             [
              0.4444444444444444,
              "#bd3786"
             ],
             [
              0.5555555555555556,
              "#d8576b"
             ],
             [
              0.6666666666666666,
              "#ed7953"
             ],
             [
              0.7777777777777778,
              "#fb9f3a"
             ],
             [
              0.8888888888888888,
              "#fdca26"
             ],
             [
              1,
              "#f0f921"
             ]
            ],
            "type": "heatmapgl"
           }
          ],
          "histogram": [
           {
            "marker": {
             "colorbar": {
              "outlinewidth": 0,
              "ticks": ""
             }
            },
            "type": "histogram"
           }
          ],
          "histogram2d": [
           {
            "colorbar": {
             "outlinewidth": 0,
             "ticks": ""
            },
            "colorscale": [
             [
              0,
              "#0d0887"
             ],
             [
              0.1111111111111111,
              "#46039f"
             ],
             [
              0.2222222222222222,
              "#7201a8"
             ],
             [
              0.3333333333333333,
              "#9c179e"
             ],
             [
              0.4444444444444444,
              "#bd3786"
             ],
             [
              0.5555555555555556,
              "#d8576b"
             ],
             [
              0.6666666666666666,
              "#ed7953"
             ],
             [
              0.7777777777777778,
              "#fb9f3a"
             ],
             [
              0.8888888888888888,
              "#fdca26"
             ],
             [
              1,
              "#f0f921"
             ]
            ],
            "type": "histogram2d"
           }
          ],
          "histogram2dcontour": [
           {
            "colorbar": {
             "outlinewidth": 0,
             "ticks": ""
            },
            "colorscale": [
             [
              0,
              "#0d0887"
             ],
             [
              0.1111111111111111,
              "#46039f"
             ],
             [
              0.2222222222222222,
              "#7201a8"
             ],
             [
              0.3333333333333333,
              "#9c179e"
             ],
             [
              0.4444444444444444,
              "#bd3786"
             ],
             [
              0.5555555555555556,
              "#d8576b"
             ],
             [
              0.6666666666666666,
              "#ed7953"
             ],
             [
              0.7777777777777778,
              "#fb9f3a"
             ],
             [
              0.8888888888888888,
              "#fdca26"
             ],
             [
              1,
              "#f0f921"
             ]
            ],
            "type": "histogram2dcontour"
           }
          ],
          "mesh3d": [
           {
            "colorbar": {
             "outlinewidth": 0,
             "ticks": ""
            },
            "type": "mesh3d"
           }
          ],
          "parcoords": [
           {
            "line": {
             "colorbar": {
              "outlinewidth": 0,
              "ticks": ""
             }
            },
            "type": "parcoords"
           }
          ],
          "pie": [
           {
            "automargin": true,
            "type": "pie"
           }
          ],
          "scatter": [
           {
            "marker": {
             "colorbar": {
              "outlinewidth": 0,
              "ticks": ""
             }
            },
            "type": "scatter"
           }
          ],
          "scatter3d": [
           {
            "line": {
             "colorbar": {
              "outlinewidth": 0,
              "ticks": ""
             }
            },
            "marker": {
             "colorbar": {
              "outlinewidth": 0,
              "ticks": ""
             }
            },
            "type": "scatter3d"
           }
          ],
          "scattercarpet": [
           {
            "marker": {
             "colorbar": {
              "outlinewidth": 0,
              "ticks": ""
             }
            },
            "type": "scattercarpet"
           }
          ],
          "scattergeo": [
           {
            "marker": {
             "colorbar": {
              "outlinewidth": 0,
              "ticks": ""
             }
            },
            "type": "scattergeo"
           }
          ],
          "scattergl": [
           {
            "marker": {
             "colorbar": {
              "outlinewidth": 0,
              "ticks": ""
             }
            },
            "type": "scattergl"
           }
          ],
          "scattermapbox": [
           {
            "marker": {
             "colorbar": {
              "outlinewidth": 0,
              "ticks": ""
             }
            },
            "type": "scattermapbox"
           }
          ],
          "scatterpolar": [
           {
            "marker": {
             "colorbar": {
              "outlinewidth": 0,
              "ticks": ""
             }
            },
            "type": "scatterpolar"
           }
          ],
          "scatterpolargl": [
           {
            "marker": {
             "colorbar": {
              "outlinewidth": 0,
              "ticks": ""
             }
            },
            "type": "scatterpolargl"
           }
          ],
          "scatterternary": [
           {
            "marker": {
             "colorbar": {
              "outlinewidth": 0,
              "ticks": ""
             }
            },
            "type": "scatterternary"
           }
          ],
          "surface": [
           {
            "colorbar": {
             "outlinewidth": 0,
             "ticks": ""
            },
            "colorscale": [
             [
              0,
              "#0d0887"
             ],
             [
              0.1111111111111111,
              "#46039f"
             ],
             [
              0.2222222222222222,
              "#7201a8"
             ],
             [
              0.3333333333333333,
              "#9c179e"
             ],
             [
              0.4444444444444444,
              "#bd3786"
             ],
             [
              0.5555555555555556,
              "#d8576b"
             ],
             [
              0.6666666666666666,
              "#ed7953"
             ],
             [
              0.7777777777777778,
              "#fb9f3a"
             ],
             [
              0.8888888888888888,
              "#fdca26"
             ],
             [
              1,
              "#f0f921"
             ]
            ],
            "type": "surface"
           }
          ],
          "table": [
           {
            "cells": {
             "fill": {
              "color": "#EBF0F8"
             },
             "line": {
              "color": "white"
             }
            },
            "header": {
             "fill": {
              "color": "#C8D4E3"
             },
             "line": {
              "color": "white"
             }
            },
            "type": "table"
           }
          ]
         },
         "layout": {
          "annotationdefaults": {
           "arrowcolor": "#2a3f5f",
           "arrowhead": 0,
           "arrowwidth": 1
          },
          "autotypenumbers": "strict",
          "coloraxis": {
           "colorbar": {
            "outlinewidth": 0,
            "ticks": ""
           }
          },
          "colorscale": {
           "diverging": [
            [
             0,
             "#8e0152"
            ],
            [
             0.1,
             "#c51b7d"
            ],
            [
             0.2,
             "#de77ae"
            ],
            [
             0.3,
             "#f1b6da"
            ],
            [
             0.4,
             "#fde0ef"
            ],
            [
             0.5,
             "#f7f7f7"
            ],
            [
             0.6,
             "#e6f5d0"
            ],
            [
             0.7,
             "#b8e186"
            ],
            [
             0.8,
             "#7fbc41"
            ],
            [
             0.9,
             "#4d9221"
            ],
            [
             1,
             "#276419"
            ]
           ],
           "sequential": [
            [
             0,
             "#0d0887"
            ],
            [
             0.1111111111111111,
             "#46039f"
            ],
            [
             0.2222222222222222,
             "#7201a8"
            ],
            [
             0.3333333333333333,
             "#9c179e"
            ],
            [
             0.4444444444444444,
             "#bd3786"
            ],
            [
             0.5555555555555556,
             "#d8576b"
            ],
            [
             0.6666666666666666,
             "#ed7953"
            ],
            [
             0.7777777777777778,
             "#fb9f3a"
            ],
            [
             0.8888888888888888,
             "#fdca26"
            ],
            [
             1,
             "#f0f921"
            ]
           ],
           "sequentialminus": [
            [
             0,
             "#0d0887"
            ],
            [
             0.1111111111111111,
             "#46039f"
            ],
            [
             0.2222222222222222,
             "#7201a8"
            ],
            [
             0.3333333333333333,
             "#9c179e"
            ],
            [
             0.4444444444444444,
             "#bd3786"
            ],
            [
             0.5555555555555556,
             "#d8576b"
            ],
            [
             0.6666666666666666,
             "#ed7953"
            ],
            [
             0.7777777777777778,
             "#fb9f3a"
            ],
            [
             0.8888888888888888,
             "#fdca26"
            ],
            [
             1,
             "#f0f921"
            ]
           ]
          },
          "colorway": [
           "#636efa",
           "#EF553B",
           "#00cc96",
           "#ab63fa",
           "#FFA15A",
           "#19d3f3",
           "#FF6692",
           "#B6E880",
           "#FF97FF",
           "#FECB52"
          ],
          "font": {
           "color": "#2a3f5f"
          },
          "geo": {
           "bgcolor": "white",
           "lakecolor": "white",
           "landcolor": "#E5ECF6",
           "showlakes": true,
           "showland": true,
           "subunitcolor": "white"
          },
          "hoverlabel": {
           "align": "left"
          },
          "hovermode": "closest",
          "mapbox": {
           "style": "light"
          },
          "paper_bgcolor": "white",
          "plot_bgcolor": "#E5ECF6",
          "polar": {
           "angularaxis": {
            "gridcolor": "white",
            "linecolor": "white",
            "ticks": ""
           },
           "bgcolor": "#E5ECF6",
           "radialaxis": {
            "gridcolor": "white",
            "linecolor": "white",
            "ticks": ""
           }
          },
          "scene": {
           "xaxis": {
            "backgroundcolor": "#E5ECF6",
            "gridcolor": "white",
            "gridwidth": 2,
            "linecolor": "white",
            "showbackground": true,
            "ticks": "",
            "zerolinecolor": "white"
           },
           "yaxis": {
            "backgroundcolor": "#E5ECF6",
            "gridcolor": "white",
            "gridwidth": 2,
            "linecolor": "white",
            "showbackground": true,
            "ticks": "",
            "zerolinecolor": "white"
           },
           "zaxis": {
            "backgroundcolor": "#E5ECF6",
            "gridcolor": "white",
            "gridwidth": 2,
            "linecolor": "white",
            "showbackground": true,
            "ticks": "",
            "zerolinecolor": "white"
           }
          },
          "shapedefaults": {
           "line": {
            "color": "#2a3f5f"
           }
          },
          "ternary": {
           "aaxis": {
            "gridcolor": "white",
            "linecolor": "white",
            "ticks": ""
           },
           "baxis": {
            "gridcolor": "white",
            "linecolor": "white",
            "ticks": ""
           },
           "bgcolor": "#E5ECF6",
           "caxis": {
            "gridcolor": "white",
            "linecolor": "white",
            "ticks": ""
           }
          },
          "title": {
           "x": 0.05
          },
          "xaxis": {
           "automargin": true,
           "gridcolor": "white",
           "linecolor": "white",
           "ticks": "",
           "title": {
            "standoff": 15
           },
           "zerolinecolor": "white",
           "zerolinewidth": 2
          },
          "yaxis": {
           "automargin": true,
           "gridcolor": "white",
           "linecolor": "white",
           "ticks": "",
           "title": {
            "standoff": 15
           },
           "zerolinecolor": "white",
           "zerolinewidth": 2
          }
         }
        },
        "xaxis": {
         "anchor": "y",
         "domain": [
          0,
          0.94
         ],
         "fixedrange": true,
         "showgrid": false
        },
        "yaxis": {
         "anchor": "x",
         "domain": [
          0,
          1
         ],
         "fixedrange": true,
         "title": {
          "text": "Annual Mean Wind Speed (m/s)"
         }
        },
        "yaxis2": {
         "anchor": "x",
         "overlaying": "y",
         "side": "right",
         "title": {
          "text": "Number of Days with Gusts > 17.5 m/s"
         }
        }
       }
      },
      "text/html": [
       "<div>                            <div id=\"6c82e2a5-1bd4-4726-bd6c-aa2c8f0b3e34\" class=\"plotly-graph-div\" style=\"height:450px; width:100%;\"></div>            <script type=\"text/javascript\">                require([\"plotly\"], function(Plotly) {                    window.PLOTLYENV=window.PLOTLYENV || {};                                    if (document.getElementById(\"6c82e2a5-1bd4-4726-bd6c-aa2c8f0b3e34\")) {                    Plotly.newPlot(                        \"6c82e2a5-1bd4-4726-bd6c-aa2c8f0b3e34\",                        [{\"hovertemplate\": \"%{x|%Y}<br><b>Mean Annual</b><br>Wind Speed: %{y:.2f} m/s<br><extra></extra>\", \"marker\": {\"color\": \"#E1AF00\", \"opacity\": 0.5, \"size\": 5}, \"mode\": \"markers\", \"name\": \"Mean Annual Wind Speed\", \"type\": \"scatter\", \"x\": [\"1940-01-01\", \"1941-01-01\", \"1942-01-01\", \"1943-01-01\", \"1944-01-01\", \"1945-01-01\", \"1946-01-01\", \"1947-01-01\", \"1948-01-01\", \"1949-01-01\", \"1950-01-01\", \"1951-01-01\", \"1952-01-01\", \"1953-01-01\", \"1954-01-01\", \"1955-01-01\", \"1956-01-01\", \"1957-01-01\", \"1958-01-01\", \"1959-01-01\", \"1960-01-01\", \"1961-01-01\", \"1962-01-01\", \"1963-01-01\", \"1964-01-01\", \"1965-01-01\", \"1966-01-01\", \"1967-01-01\", \"1968-01-01\", \"1969-01-01\", \"1970-01-01\", \"1971-01-01\", \"1972-01-01\", \"1973-01-01\", \"1974-01-01\", \"1975-01-01\", \"1976-01-01\", \"1977-01-01\", \"1978-01-01\", \"1979-01-01\", \"1980-01-01\", \"1981-01-01\", \"1982-01-01\", \"1983-01-01\", \"1984-01-01\", \"1985-01-01\", \"1986-01-01\", \"1987-01-01\", \"1988-01-01\", \"1989-01-01\", \"1990-01-01\", \"1991-01-01\", \"1992-01-01\", \"1993-01-01\", \"1994-01-01\", \"1995-01-01\", \"1996-01-01\", \"1997-01-01\", \"1998-01-01\", \"1999-01-01\", \"2000-01-01\", \"2001-01-01\", \"2002-01-01\", \"2003-01-01\", \"2004-01-01\", \"2005-01-01\", \"2006-01-01\", \"2007-01-01\", \"2008-01-01\", \"2009-01-01\", \"2010-01-01\", \"2011-01-01\", \"2012-01-01\", \"2013-01-01\", \"2014-01-01\", \"2015-01-01\", \"2016-01-01\", \"2017-01-01\", \"2018-01-01\", \"2019-01-01\", \"2020-01-01\"], \"xaxis\": \"x\", \"y\": [5.453111111111111, 5.247333333333334, 5.813222222222223, 6.327666666666667, 5.658888888888889, 5.710333333333334, 5.813222222222223, 5.813222222222223, 6.019, 5.504555555555555, 5.556000000000001, 4.938666666666667, 4.990111111111111, 4.630000000000001, 5.607444444444445, 4.990111111111111, 5.041555555555556, 4.938666666666667, 5.041555555555556, 5.401666666666667, 4.938666666666667, 5.2987777777777785, 5.093000000000001, 5.504555555555555, 5.607444444444445, 5.813222222222223, 6.070444444444445, 5.864666666666667, 5.556000000000001, 5.144444444444445, 5.658888888888889, 5.144444444444445, 5.504555555555555, 5.247333333333334, 5.916111111111111, 5.2987777777777785, 5.401666666666667, 5.761777777777778, 5.710333333333334, 5.864666666666667, 5.761777777777778, 5.813222222222223, 6.019, 5.710333333333334, 5.350222222222222, 5.607444444444445, 6.12188888888889, 5.401666666666667, 5.401666666666667, 5.453111111111111, 5.710333333333334, 5.195888888888889, 5.247333333333334, 4.938666666666667, 5.041555555555556, 4.630000000000001, 4.527111111111112, 4.3213333333333335, 4.578555555555556, 5.041555555555556, 4.938666666666667, 4.218444444444445, 5.093000000000001, 4.732888888888889, 4.784333333333334, 4.784333333333334, 4.732888888888889, 4.3213333333333335, 5.041555555555556, 4.732888888888889, 3.961222222222223, 4.990111111111111, 4.784333333333334, 4.835777777777778, 4.887222222222222, 5.350222222222222, 4.732888888888889, 4.784333333333334, 4.835777777777778, 5.093000000000001, null], \"yaxis\": \"y\"}, {\"hovertemplate\": \"%{x|%Y}<br><b>11yr Moving Average</b><br>Wind Speed: %{y:.2f} m/s<extra></extra>\", \"line\": {\"color\": \"#00a4ae\", \"shape\": \"spline\", \"width\": 2}, \"mode\": \"lines\", \"name\": \"11 Year Moving Average Wind Speed\", \"type\": \"scatter\", \"x\": [\"1940-01-01\", \"1941-01-01\", \"1942-01-01\", \"1943-01-01\", \"1944-01-01\", \"1945-01-01\", \"1946-01-01\", \"1947-01-01\", \"1948-01-01\", \"1949-01-01\", \"1950-01-01\", \"1951-01-01\", \"1952-01-01\", \"1953-01-01\", \"1954-01-01\", \"1955-01-01\", \"1956-01-01\", \"1957-01-01\", \"1958-01-01\", \"1959-01-01\", \"1960-01-01\", \"1961-01-01\", \"1962-01-01\", \"1963-01-01\", \"1964-01-01\", \"1965-01-01\", \"1966-01-01\", \"1967-01-01\", \"1968-01-01\", \"1969-01-01\", \"1970-01-01\", \"1971-01-01\", \"1972-01-01\", \"1973-01-01\", \"1974-01-01\", \"1975-01-01\", \"1976-01-01\", \"1977-01-01\", \"1978-01-01\", \"1979-01-01\", \"1980-01-01\", \"1981-01-01\", \"1982-01-01\", \"1983-01-01\", \"1984-01-01\", \"1985-01-01\", \"1986-01-01\", \"1987-01-01\", \"1988-01-01\", \"1989-01-01\", \"1990-01-01\", \"1991-01-01\", \"1992-01-01\", \"1993-01-01\", \"1994-01-01\", \"1995-01-01\", \"1996-01-01\", \"1997-01-01\", \"1998-01-01\", \"1999-01-01\", \"2000-01-01\", \"2001-01-01\", \"2002-01-01\", \"2003-01-01\", \"2004-01-01\", \"2005-01-01\", \"2006-01-01\", \"2007-01-01\", \"2008-01-01\", \"2009-01-01\", \"2010-01-01\", \"2011-01-01\", \"2012-01-01\", \"2013-01-01\", \"2014-01-01\", \"2015-01-01\", \"2016-01-01\", \"2017-01-01\", \"2018-01-01\", \"2019-01-01\", \"2020-01-01\"], \"xaxis\": \"x\", \"y\": [null, null, null, null, null, 5.719686868686869, 5.672919191919193, 5.649535353535355, 5.541969696969698, 5.47649494949495, 5.415696969696971, 5.354898989898991, 5.27539393939394, 5.205242424242424, 5.149121212121213, 5.097676767676769, 5.0742929292929295, 5.0883232323232335, 5.135090909090911, 5.223949494949496, 5.242656565656566, 5.340868686868688, 5.41569696969697, 5.471818181818183, 5.481171717171718, 5.504555555555556, 5.523262626262627, 5.541969696969697, 5.556000000000001, 5.593414141414142, 5.565353535353537, 5.527939393939395, 5.499878787878789, 5.485848484848486, 5.513909090909091, 5.570030303030303, 5.584060606060607, 5.663565656565656, 5.682272727272727, 5.691626262626262, 5.663565656565657, 5.73839393939394, 5.738393939393939, 5.705656565656567, 5.6822727272727285, 5.668242424242425, 5.616797979797981, 5.565353535353537, 5.467141414141415, 5.406343434343435, 5.340868686868687, 5.242656565656567, 5.078969696969698, 5.004141414141414, 4.97140404040404, 4.924636363636364, 4.789010101010101, 4.779656565656566, 4.7328888888888905, 4.718858585858587, 4.695474747474749, 4.704828282828284, 4.686121212121213, 4.75159595959596, 4.765626262626263, 4.667414141414143, 4.67209090909091, 4.723535353535355, 4.700151515151516, 4.714181818181819, 4.765626262626262, 4.760949494949495, 4.765626262626263, 4.81239393939394, 4.817070707070707, null, null, null, null, null, null], \"yaxis\": \"y\"}, {\"hovertemplate\": \"%{x|%Y}<br><b>Annual</b><br>Gale Gust Days: %{y}<br><extra></extra>\", \"marker\": {\"color\": \"#6e987b\", \"opacity\": 0.5, \"size\": 5}, \"mode\": \"markers\", \"name\": \"Gust Days\", \"type\": \"scatter\", \"x\": [\"1940-01-01\", \"1941-01-01\", \"1942-01-01\", \"1943-01-01\", \"1944-01-01\", \"1945-01-01\", \"1946-01-01\", \"1947-01-01\", \"1948-01-01\", \"1949-01-01\", \"1950-01-01\", \"1951-01-01\", \"1952-01-01\", \"1953-01-01\", \"1954-01-01\", \"1955-01-01\", \"1956-01-01\", \"1957-01-01\", \"1958-01-01\", \"1959-01-01\", \"1960-01-01\", \"1961-01-01\", \"1962-01-01\", \"1963-01-01\", \"1964-01-01\", \"1965-01-01\", \"1966-01-01\", \"1967-01-01\", \"1968-01-01\", \"1969-01-01\", \"1970-01-01\", \"1971-01-01\", \"1972-01-01\", \"1973-01-01\", \"1974-01-01\", \"1975-01-01\", \"1976-01-01\", \"1977-01-01\", \"1978-01-01\", \"1979-01-01\", \"1980-01-01\", \"1981-01-01\", \"1982-01-01\", \"1983-01-01\", \"1984-01-01\", \"1985-01-01\", \"1986-01-01\", \"1987-01-01\", \"1988-01-01\", \"1989-01-01\", \"1990-01-01\", \"1991-01-01\", \"1992-01-01\", \"1993-01-01\", \"1994-01-01\", \"1995-01-01\", \"1996-01-01\", \"1997-01-01\", \"1998-01-01\", \"1999-01-01\", \"2000-01-01\", \"2001-01-01\", \"2002-01-01\", \"2003-01-01\", \"2004-01-01\", \"2005-01-01\", \"2006-01-01\", \"2007-01-01\", \"2008-01-01\", \"2009-01-01\", \"2010-01-01\", \"2011-01-01\", \"2012-01-01\", \"2013-01-01\", \"2014-01-01\", \"2015-01-01\", \"2016-01-01\", \"2017-01-01\", \"2018-01-01\", \"2019-01-01\", \"2020-01-01\"], \"xaxis\": \"x\", \"y\": [118.0, 104.0, 127.0, 149.0, 119.0, 130.0, 137.0, 136.0, 157.0, 129.0, 110.0, 115.0, 107.0, 84.0, 139.0, 110.0, 111.0, 103.0, 111.0, 140.0, 102.0, 125.0, 117.0, 124.0, 135.0, 150.0, 148.0, 147.0, 130.0, 110.0, 135.0, 106.0, 127.0, 105.0, 147.0, 119.0, 110.0, 155.0, 139.0, 156.0, 143.0, 147.0, 158.0, 138.0, 116.0, 126.0, 171.0, 124.0, 139.0, 140.0, 165.0, 141.0, 148.0, 115.0, 135.0, 123.0, 118.0, 103.0, 109.0, 97.0, 105.0, 62.0, 92.0, 71.0, 76.0, 91.0, 76.0, 70.0, 111.0, 87.0, 54.0, 95.0, 69.0, 74.0, 86.0, 101.0, 73.0, 71.0, 78.0, 91.0, null], \"yaxis\": \"y2\"}, {\"hovertemplate\": \"%{x|%Y}<br><b>11yr Moving Average</b><br>Gale Gust Days: %{y}<extra></extra>\", \"line\": {\"color\": \"#de8bb7\", \"shape\": \"spline\", \"width\": 2}, \"mode\": \"lines\", \"name\": \"11 Year Moving Average Gale Gust Days\", \"type\": \"scatter\", \"x\": [\"1940-01-01\", \"1941-01-01\", \"1942-01-01\", \"1943-01-01\", \"1944-01-01\", \"1945-01-01\", \"1946-01-01\", \"1947-01-01\", \"1948-01-01\", \"1949-01-01\", \"1950-01-01\", \"1951-01-01\", \"1952-01-01\", \"1953-01-01\", \"1954-01-01\", \"1955-01-01\", \"1956-01-01\", \"1957-01-01\", \"1958-01-01\", \"1959-01-01\", \"1960-01-01\", \"1961-01-01\", \"1962-01-01\", \"1963-01-01\", \"1964-01-01\", \"1965-01-01\", \"1966-01-01\", \"1967-01-01\", \"1968-01-01\", \"1969-01-01\", \"1970-01-01\", \"1971-01-01\", \"1972-01-01\", \"1973-01-01\", \"1974-01-01\", \"1975-01-01\", \"1976-01-01\", \"1977-01-01\", \"1978-01-01\", \"1979-01-01\", \"1980-01-01\", \"1981-01-01\", \"1982-01-01\", \"1983-01-01\", \"1984-01-01\", \"1985-01-01\", \"1986-01-01\", \"1987-01-01\", \"1988-01-01\", \"1989-01-01\", \"1990-01-01\", \"1991-01-01\", \"1992-01-01\", \"1993-01-01\", \"1994-01-01\", \"1995-01-01\", \"1996-01-01\", \"1997-01-01\", \"1998-01-01\", \"1999-01-01\", \"2000-01-01\", \"2001-01-01\", \"2002-01-01\", \"2003-01-01\", \"2004-01-01\", \"2005-01-01\", \"2006-01-01\", \"2007-01-01\", \"2008-01-01\", \"2009-01-01\", \"2010-01-01\", \"2011-01-01\", \"2012-01-01\", \"2013-01-01\", \"2014-01-01\", \"2015-01-01\", \"2016-01-01\", \"2017-01-01\", \"2018-01-01\", \"2019-01-01\", \"2020-01-01\"], \"xaxis\": \"x\", \"y\": [null, null, null, null, null, 128.72727272727272, 128.45454545454547, 128.72727272727272, 124.8181818181818, 123.9090909090909, 123.0909090909091, 121.36363636363636, 118.27272727272728, 116.0, 114.45454545454544, 112.0, 113.36363636363636, 113.54545454545456, 115.0909090909091, 119.72727272727272, 120.72727272727272, 124.1818181818182, 127.45454545454544, 129.9090909090909, 129.8181818181818, 129.36363636363637, 129.72727272727272, 129.9090909090909, 128.8181818181818, 130.9090909090909, 129.45454545454547, 125.8181818181818, 126.45454545454544, 125.72727272727272, 128.0909090909091, 131.0909090909091, 132.1818181818182, 136.9090909090909, 137.9090909090909, 138.9090909090909, 137.0, 141.72727272727272, 143.0, 141.54545454545453, 141.63636363636363, 142.45454545454547, 142.27272727272728, 142.36363636363637, 138.45454545454547, 138.1818181818182, 138.8181818181818, 138.0909090909091, 131.9090909090909, 130.54545454545453, 126.72727272727272, 123.54545454545456, 114.1818181818182, 109.72727272727272, 102.72727272727272, 99.1818181818182, 95.1818181818182, 90.9090909090909, 86.54545454545455, 87.27272727272727, 85.27272727272727, 81.36363636363636, 80.45454545454545, 81.0909090909091, 79.45454545454545, 80.81818181818181, 83.0909090909091, 81.45454545454545, 81.0, 81.72727272727273, 79.9090909090909, null, null, null, null, null, null], \"yaxis\": \"y2\"}],                        {\"font\": {\"color\": \"#7f7f7f\"}, \"height\": 450, \"hovermode\": \"closest\", \"legend\": {\"bgcolor\": \"rgba(0,0,0,0)\", \"itemclick\": false, \"itemdoubleclick\": false, \"orientation\": \"h\"}, \"margin\": {\"b\": 0, \"l\": 0, \"r\": 0, \"t\": 0}, \"paper_bgcolor\": \"rgba(0,0,0,0)\", \"plot_bgcolor\": \"#f7fbfd\", \"template\": {\"data\": {\"bar\": [{\"error_x\": {\"color\": \"#2a3f5f\"}, \"error_y\": {\"color\": \"#2a3f5f\"}, \"marker\": {\"line\": {\"color\": \"#E5ECF6\", \"width\": 0.5}}, \"type\": \"bar\"}], \"barpolar\": [{\"marker\": {\"line\": {\"color\": \"#E5ECF6\", \"width\": 0.5}}, \"type\": \"barpolar\"}], \"carpet\": [{\"aaxis\": {\"endlinecolor\": \"#2a3f5f\", \"gridcolor\": \"white\", \"linecolor\": \"white\", \"minorgridcolor\": \"white\", \"startlinecolor\": \"#2a3f5f\"}, \"baxis\": {\"endlinecolor\": \"#2a3f5f\", \"gridcolor\": \"white\", \"linecolor\": \"white\", \"minorgridcolor\": \"white\", \"startlinecolor\": \"#2a3f5f\"}, \"type\": \"carpet\"}], \"choropleth\": [{\"colorbar\": {\"outlinewidth\": 0, \"ticks\": \"\"}, \"type\": \"choropleth\"}], \"contour\": [{\"colorbar\": {\"outlinewidth\": 0, \"ticks\": \"\"}, \"colorscale\": [[0.0, \"#0d0887\"], [0.1111111111111111, \"#46039f\"], [0.2222222222222222, \"#7201a8\"], [0.3333333333333333, \"#9c179e\"], [0.4444444444444444, \"#bd3786\"], [0.5555555555555556, \"#d8576b\"], [0.6666666666666666, \"#ed7953\"], [0.7777777777777778, \"#fb9f3a\"], [0.8888888888888888, \"#fdca26\"], [1.0, \"#f0f921\"]], \"type\": \"contour\"}], \"contourcarpet\": [{\"colorbar\": {\"outlinewidth\": 0, \"ticks\": \"\"}, \"type\": \"contourcarpet\"}], \"heatmap\": [{\"colorbar\": {\"outlinewidth\": 0, \"ticks\": \"\"}, \"colorscale\": [[0.0, \"#0d0887\"], [0.1111111111111111, \"#46039f\"], [0.2222222222222222, \"#7201a8\"], [0.3333333333333333, \"#9c179e\"], [0.4444444444444444, \"#bd3786\"], [0.5555555555555556, \"#d8576b\"], [0.6666666666666666, \"#ed7953\"], [0.7777777777777778, \"#fb9f3a\"], [0.8888888888888888, \"#fdca26\"], [1.0, \"#f0f921\"]], \"type\": \"heatmap\"}], \"heatmapgl\": [{\"colorbar\": {\"outlinewidth\": 0, \"ticks\": \"\"}, \"colorscale\": [[0.0, \"#0d0887\"], [0.1111111111111111, \"#46039f\"], [0.2222222222222222, \"#7201a8\"], [0.3333333333333333, \"#9c179e\"], [0.4444444444444444, \"#bd3786\"], [0.5555555555555556, \"#d8576b\"], [0.6666666666666666, \"#ed7953\"], [0.7777777777777778, \"#fb9f3a\"], [0.8888888888888888, \"#fdca26\"], [1.0, \"#f0f921\"]], \"type\": \"heatmapgl\"}], \"histogram\": [{\"marker\": {\"colorbar\": {\"outlinewidth\": 0, \"ticks\": \"\"}}, \"type\": \"histogram\"}], \"histogram2d\": [{\"colorbar\": {\"outlinewidth\": 0, \"ticks\": \"\"}, \"colorscale\": [[0.0, \"#0d0887\"], [0.1111111111111111, \"#46039f\"], [0.2222222222222222, \"#7201a8\"], [0.3333333333333333, \"#9c179e\"], [0.4444444444444444, \"#bd3786\"], [0.5555555555555556, \"#d8576b\"], [0.6666666666666666, \"#ed7953\"], [0.7777777777777778, \"#fb9f3a\"], [0.8888888888888888, \"#fdca26\"], [1.0, \"#f0f921\"]], \"type\": \"histogram2d\"}], \"histogram2dcontour\": [{\"colorbar\": {\"outlinewidth\": 0, \"ticks\": \"\"}, \"colorscale\": [[0.0, \"#0d0887\"], [0.1111111111111111, \"#46039f\"], [0.2222222222222222, \"#7201a8\"], [0.3333333333333333, \"#9c179e\"], [0.4444444444444444, \"#bd3786\"], [0.5555555555555556, \"#d8576b\"], [0.6666666666666666, \"#ed7953\"], [0.7777777777777778, \"#fb9f3a\"], [0.8888888888888888, \"#fdca26\"], [1.0, \"#f0f921\"]], \"type\": \"histogram2dcontour\"}], \"mesh3d\": [{\"colorbar\": {\"outlinewidth\": 0, \"ticks\": \"\"}, \"type\": \"mesh3d\"}], \"parcoords\": [{\"line\": {\"colorbar\": {\"outlinewidth\": 0, \"ticks\": \"\"}}, \"type\": \"parcoords\"}], \"pie\": [{\"automargin\": true, \"type\": \"pie\"}], \"scatter\": [{\"marker\": {\"colorbar\": {\"outlinewidth\": 0, \"ticks\": \"\"}}, \"type\": \"scatter\"}], \"scatter3d\": [{\"line\": {\"colorbar\": {\"outlinewidth\": 0, \"ticks\": \"\"}}, \"marker\": {\"colorbar\": {\"outlinewidth\": 0, \"ticks\": \"\"}}, \"type\": \"scatter3d\"}], \"scattercarpet\": [{\"marker\": {\"colorbar\": {\"outlinewidth\": 0, \"ticks\": \"\"}}, \"type\": \"scattercarpet\"}], \"scattergeo\": [{\"marker\": {\"colorbar\": {\"outlinewidth\": 0, \"ticks\": \"\"}}, \"type\": \"scattergeo\"}], \"scattergl\": [{\"marker\": {\"colorbar\": {\"outlinewidth\": 0, \"ticks\": \"\"}}, \"type\": \"scattergl\"}], \"scattermapbox\": [{\"marker\": {\"colorbar\": {\"outlinewidth\": 0, \"ticks\": \"\"}}, \"type\": \"scattermapbox\"}], \"scatterpolar\": [{\"marker\": {\"colorbar\": {\"outlinewidth\": 0, \"ticks\": \"\"}}, \"type\": \"scatterpolar\"}], \"scatterpolargl\": [{\"marker\": {\"colorbar\": {\"outlinewidth\": 0, \"ticks\": \"\"}}, \"type\": \"scatterpolargl\"}], \"scatterternary\": [{\"marker\": {\"colorbar\": {\"outlinewidth\": 0, \"ticks\": \"\"}}, \"type\": \"scatterternary\"}], \"surface\": [{\"colorbar\": {\"outlinewidth\": 0, \"ticks\": \"\"}, \"colorscale\": [[0.0, \"#0d0887\"], [0.1111111111111111, \"#46039f\"], [0.2222222222222222, \"#7201a8\"], [0.3333333333333333, \"#9c179e\"], [0.4444444444444444, \"#bd3786\"], [0.5555555555555556, \"#d8576b\"], [0.6666666666666666, \"#ed7953\"], [0.7777777777777778, \"#fb9f3a\"], [0.8888888888888888, \"#fdca26\"], [1.0, \"#f0f921\"]], \"type\": \"surface\"}], \"table\": [{\"cells\": {\"fill\": {\"color\": \"#EBF0F8\"}, \"line\": {\"color\": \"white\"}}, \"header\": {\"fill\": {\"color\": \"#C8D4E3\"}, \"line\": {\"color\": \"white\"}}, \"type\": \"table\"}]}, \"layout\": {\"annotationdefaults\": {\"arrowcolor\": \"#2a3f5f\", \"arrowhead\": 0, \"arrowwidth\": 1}, \"autotypenumbers\": \"strict\", \"coloraxis\": {\"colorbar\": {\"outlinewidth\": 0, \"ticks\": \"\"}}, \"colorscale\": {\"diverging\": [[0, \"#8e0152\"], [0.1, \"#c51b7d\"], [0.2, \"#de77ae\"], [0.3, \"#f1b6da\"], [0.4, \"#fde0ef\"], [0.5, \"#f7f7f7\"], [0.6, \"#e6f5d0\"], [0.7, \"#b8e186\"], [0.8, \"#7fbc41\"], [0.9, \"#4d9221\"], [1, \"#276419\"]], \"sequential\": [[0.0, \"#0d0887\"], [0.1111111111111111, \"#46039f\"], [0.2222222222222222, \"#7201a8\"], [0.3333333333333333, \"#9c179e\"], [0.4444444444444444, \"#bd3786\"], [0.5555555555555556, \"#d8576b\"], [0.6666666666666666, \"#ed7953\"], [0.7777777777777778, \"#fb9f3a\"], [0.8888888888888888, \"#fdca26\"], [1.0, \"#f0f921\"]], \"sequentialminus\": [[0.0, \"#0d0887\"], [0.1111111111111111, \"#46039f\"], [0.2222222222222222, \"#7201a8\"], [0.3333333333333333, \"#9c179e\"], [0.4444444444444444, \"#bd3786\"], [0.5555555555555556, \"#d8576b\"], [0.6666666666666666, \"#ed7953\"], [0.7777777777777778, \"#fb9f3a\"], [0.8888888888888888, \"#fdca26\"], [1.0, \"#f0f921\"]]}, \"colorway\": [\"#636efa\", \"#EF553B\", \"#00cc96\", \"#ab63fa\", \"#FFA15A\", \"#19d3f3\", \"#FF6692\", \"#B6E880\", \"#FF97FF\", \"#FECB52\"], \"font\": {\"color\": \"#2a3f5f\"}, \"geo\": {\"bgcolor\": \"white\", \"lakecolor\": \"white\", \"landcolor\": \"#E5ECF6\", \"showlakes\": true, \"showland\": true, \"subunitcolor\": \"white\"}, \"hoverlabel\": {\"align\": \"left\"}, \"hovermode\": \"closest\", \"mapbox\": {\"style\": \"light\"}, \"paper_bgcolor\": \"white\", \"plot_bgcolor\": \"#E5ECF6\", \"polar\": {\"angularaxis\": {\"gridcolor\": \"white\", \"linecolor\": \"white\", \"ticks\": \"\"}, \"bgcolor\": \"#E5ECF6\", \"radialaxis\": {\"gridcolor\": \"white\", \"linecolor\": \"white\", \"ticks\": \"\"}}, \"scene\": {\"xaxis\": {\"backgroundcolor\": \"#E5ECF6\", \"gridcolor\": \"white\", \"gridwidth\": 2, \"linecolor\": \"white\", \"showbackground\": true, \"ticks\": \"\", \"zerolinecolor\": \"white\"}, \"yaxis\": {\"backgroundcolor\": \"#E5ECF6\", \"gridcolor\": \"white\", \"gridwidth\": 2, \"linecolor\": \"white\", \"showbackground\": true, \"ticks\": \"\", \"zerolinecolor\": \"white\"}, \"zaxis\": {\"backgroundcolor\": \"#E5ECF6\", \"gridcolor\": \"white\", \"gridwidth\": 2, \"linecolor\": \"white\", \"showbackground\": true, \"ticks\": \"\", \"zerolinecolor\": \"white\"}}, \"shapedefaults\": {\"line\": {\"color\": \"#2a3f5f\"}}, \"ternary\": {\"aaxis\": {\"gridcolor\": \"white\", \"linecolor\": \"white\", \"ticks\": \"\"}, \"baxis\": {\"gridcolor\": \"white\", \"linecolor\": \"white\", \"ticks\": \"\"}, \"bgcolor\": \"#E5ECF6\", \"caxis\": {\"gridcolor\": \"white\", \"linecolor\": \"white\", \"ticks\": \"\"}}, \"title\": {\"x\": 0.05}, \"xaxis\": {\"automargin\": true, \"gridcolor\": \"white\", \"linecolor\": \"white\", \"ticks\": \"\", \"title\": {\"standoff\": 15}, \"zerolinecolor\": \"white\", \"zerolinewidth\": 2}, \"yaxis\": {\"automargin\": true, \"gridcolor\": \"white\", \"linecolor\": \"white\", \"ticks\": \"\", \"title\": {\"standoff\": 15}, \"zerolinecolor\": \"white\", \"zerolinewidth\": 2}}}, \"xaxis\": {\"anchor\": \"y\", \"domain\": [0.0, 0.94], \"fixedrange\": true, \"showgrid\": false}, \"yaxis\": {\"anchor\": \"x\", \"domain\": [0.0, 1.0], \"fixedrange\": true, \"title\": {\"text\": \"Annual Mean Wind Speed (m/s)\"}}, \"yaxis2\": {\"anchor\": \"x\", \"overlaying\": \"y\", \"side\": \"right\", \"title\": {\"text\": \"Number of Days with Gusts > 17.5 m/s\"}}},                        {\"responsive\": true}                    ).then(function(){\n",
       "                            \n",
       "var gd = document.getElementById('6c82e2a5-1bd4-4726-bd6c-aa2c8f0b3e34');\n",
       "var x = new MutationObserver(function (mutations, observer) {{\n",
       "        var display = window.getComputedStyle(gd).display;\n",
       "        if (!display || display === 'none') {{\n",
       "            console.log([gd, 'removed!']);\n",
       "            Plotly.purge(gd);\n",
       "            observer.disconnect();\n",
       "        }}\n",
       "}});\n",
       "\n",
       "// Listen for the removal of the full notebook cells\n",
       "var notebookContainer = gd.closest('#notebook-container');\n",
       "if (notebookContainer) {{\n",
       "    x.observe(notebookContainer, {childList: true});\n",
       "}}\n",
       "\n",
       "// Listen for the clearing of the current output cell\n",
       "var outputEl = gd.closest('.output');\n",
       "if (outputEl) {{\n",
       "    x.observe(outputEl, {childList: true});\n",
       "}}\n",
       "\n",
       "                        })                };                });            </script>        </div>"
      ]
     },
     "metadata": {},
     "output_type": "display_data"
    }
   ],
   "source": [
    "\n",
    "# valentia all on one chart\n",
    "figure_2_4_a = make_subplots(specs=[[{'secondary_y': True}]])\n",
    "figure_2_4_a.add_trace(annual_speed_trace,\n",
    "                        secondary_y=False)\n",
    "figure_2_4_a.add_trace(moving_avg_speed_trace,\n",
    "                        secondary_y=False)\n",
    "figure_2_4_a.add_trace(gust_days_trace,\n",
    "                        secondary_y=True)\n",
    "figure_2_4_a.add_trace(moving_avg_gust_days_trace,\n",
    "                        secondary_y=True)\n",
    "figure_2_4_a.update_layout(TIMESERIES_LAYOUT)\n",
    "figure_2_4_a.update_yaxes(\n",
    "    secondary_y=False,\n",
    "    title_text='Annual Mean Wind Speed (m/s)',)\n",
    "figure_2_4_a.update_yaxes(\n",
    "    secondary_y=True,\n",
    "    title_text='Number of Days with Gusts > 17.5 m/s')\n",
    "figure_2_4_a"
   ]
  },
  {
   "cell_type": "code",
   "execution_count": 81,
   "id": "effective-ivory",
   "metadata": {},
   "outputs": [
    {
     "data": {
      "application/vnd.plotly.v1+json": {
       "config": {
        "plotlyServerURL": "https://plot.ly"
       },
       "data": [
        {
         "hovertemplate": "%{x|%Y}<br><b>Mean Annual</b><br>Wind Speed: %{y:.2f} m/s<br><extra></extra>",
         "marker": {
          "color": "#E1AF00",
          "opacity": 0.5,
          "size": 5
         },
         "mode": "markers",
         "name": "Mean Annual Wind Speed",
         "type": "scatter",
         "x": [
          "1940-01-01",
          "1941-01-01",
          "1942-01-01",
          "1943-01-01",
          "1944-01-01",
          "1945-01-01",
          "1946-01-01",
          "1947-01-01",
          "1948-01-01",
          "1949-01-01",
          "1950-01-01",
          "1951-01-01",
          "1952-01-01",
          "1953-01-01",
          "1954-01-01",
          "1955-01-01",
          "1956-01-01",
          "1957-01-01",
          "1958-01-01",
          "1959-01-01",
          "1960-01-01",
          "1961-01-01",
          "1962-01-01",
          "1963-01-01",
          "1964-01-01",
          "1965-01-01",
          "1966-01-01",
          "1967-01-01",
          "1968-01-01",
          "1969-01-01",
          "1970-01-01",
          "1971-01-01",
          "1972-01-01",
          "1973-01-01",
          "1974-01-01",
          "1975-01-01",
          "1976-01-01",
          "1977-01-01",
          "1978-01-01",
          "1979-01-01",
          "1980-01-01",
          "1981-01-01",
          "1982-01-01",
          "1983-01-01",
          "1984-01-01",
          "1985-01-01",
          "1986-01-01",
          "1987-01-01",
          "1988-01-01",
          "1989-01-01",
          "1990-01-01",
          "1991-01-01",
          "1992-01-01",
          "1993-01-01",
          "1994-01-01",
          "1995-01-01",
          "1996-01-01",
          "1997-01-01",
          "1998-01-01",
          "1999-01-01",
          "2000-01-01",
          "2001-01-01",
          "2002-01-01",
          "2003-01-01",
          "2004-01-01",
          "2005-01-01",
          "2006-01-01",
          "2007-01-01",
          "2008-01-01",
          "2009-01-01",
          "2010-01-01",
          "2011-01-01",
          "2012-01-01",
          "2013-01-01",
          "2014-01-01",
          "2015-01-01",
          "2016-01-01",
          "2017-01-01",
          "2018-01-01",
          "2019-01-01",
          "2020-01-01"
         ],
         "xaxis": "x",
         "y": [
          5.453111111111111,
          5.247333333333334,
          5.813222222222223,
          6.327666666666667,
          5.658888888888889,
          5.710333333333334,
          5.813222222222223,
          5.813222222222223,
          6.019,
          5.504555555555555,
          5.556000000000001,
          4.938666666666667,
          4.990111111111111,
          4.630000000000001,
          5.607444444444445,
          4.990111111111111,
          5.041555555555556,
          4.938666666666667,
          5.041555555555556,
          5.401666666666667,
          4.938666666666667,
          5.2987777777777785,
          5.093000000000001,
          5.504555555555555,
          5.607444444444445,
          5.813222222222223,
          6.070444444444445,
          5.864666666666667,
          5.556000000000001,
          5.144444444444445,
          5.658888888888889,
          5.144444444444445,
          5.504555555555555,
          5.247333333333334,
          5.916111111111111,
          5.2987777777777785,
          5.401666666666667,
          5.761777777777778,
          5.710333333333334,
          5.864666666666667,
          5.761777777777778,
          5.813222222222223,
          6.019,
          5.710333333333334,
          5.350222222222222,
          5.607444444444445,
          6.12188888888889,
          5.401666666666667,
          5.401666666666667,
          5.453111111111111,
          5.710333333333334,
          5.195888888888889,
          5.247333333333334,
          4.938666666666667,
          5.041555555555556,
          4.630000000000001,
          4.527111111111112,
          4.3213333333333335,
          4.578555555555556,
          5.041555555555556,
          4.938666666666667,
          4.218444444444445,
          5.093000000000001,
          4.732888888888889,
          4.784333333333334,
          4.784333333333334,
          4.732888888888889,
          4.3213333333333335,
          5.041555555555556,
          4.732888888888889,
          3.961222222222223,
          4.990111111111111,
          4.784333333333334,
          4.835777777777778,
          4.887222222222222,
          5.350222222222222,
          4.732888888888889,
          4.784333333333334,
          4.835777777777778,
          5.093000000000001,
          null
         ],
         "yaxis": "y"
        },
        {
         "hovertemplate": "%{x|%Y}<br><b>11yr Moving Average</b><br>Wind Speed: %{y:.2f} m/s<extra></extra>",
         "line": {
          "color": "#00a4ae",
          "shape": "spline",
          "width": 2
         },
         "mode": "lines",
         "name": "11 Year Moving Average Wind Speed",
         "type": "scatter",
         "x": [
          "1940-01-01",
          "1941-01-01",
          "1942-01-01",
          "1943-01-01",
          "1944-01-01",
          "1945-01-01",
          "1946-01-01",
          "1947-01-01",
          "1948-01-01",
          "1949-01-01",
          "1950-01-01",
          "1951-01-01",
          "1952-01-01",
          "1953-01-01",
          "1954-01-01",
          "1955-01-01",
          "1956-01-01",
          "1957-01-01",
          "1958-01-01",
          "1959-01-01",
          "1960-01-01",
          "1961-01-01",
          "1962-01-01",
          "1963-01-01",
          "1964-01-01",
          "1965-01-01",
          "1966-01-01",
          "1967-01-01",
          "1968-01-01",
          "1969-01-01",
          "1970-01-01",
          "1971-01-01",
          "1972-01-01",
          "1973-01-01",
          "1974-01-01",
          "1975-01-01",
          "1976-01-01",
          "1977-01-01",
          "1978-01-01",
          "1979-01-01",
          "1980-01-01",
          "1981-01-01",
          "1982-01-01",
          "1983-01-01",
          "1984-01-01",
          "1985-01-01",
          "1986-01-01",
          "1987-01-01",
          "1988-01-01",
          "1989-01-01",
          "1990-01-01",
          "1991-01-01",
          "1992-01-01",
          "1993-01-01",
          "1994-01-01",
          "1995-01-01",
          "1996-01-01",
          "1997-01-01",
          "1998-01-01",
          "1999-01-01",
          "2000-01-01",
          "2001-01-01",
          "2002-01-01",
          "2003-01-01",
          "2004-01-01",
          "2005-01-01",
          "2006-01-01",
          "2007-01-01",
          "2008-01-01",
          "2009-01-01",
          "2010-01-01",
          "2011-01-01",
          "2012-01-01",
          "2013-01-01",
          "2014-01-01",
          "2015-01-01",
          "2016-01-01",
          "2017-01-01",
          "2018-01-01",
          "2019-01-01",
          "2020-01-01"
         ],
         "xaxis": "x",
         "y": [
          null,
          null,
          null,
          null,
          null,
          5.719686868686869,
          5.672919191919193,
          5.649535353535355,
          5.541969696969698,
          5.47649494949495,
          5.415696969696971,
          5.354898989898991,
          5.27539393939394,
          5.205242424242424,
          5.149121212121213,
          5.097676767676769,
          5.0742929292929295,
          5.0883232323232335,
          5.135090909090911,
          5.223949494949496,
          5.242656565656566,
          5.340868686868688,
          5.41569696969697,
          5.471818181818183,
          5.481171717171718,
          5.504555555555556,
          5.523262626262627,
          5.541969696969697,
          5.556000000000001,
          5.593414141414142,
          5.565353535353537,
          5.527939393939395,
          5.499878787878789,
          5.485848484848486,
          5.513909090909091,
          5.570030303030303,
          5.584060606060607,
          5.663565656565656,
          5.682272727272727,
          5.691626262626262,
          5.663565656565657,
          5.73839393939394,
          5.738393939393939,
          5.705656565656567,
          5.6822727272727285,
          5.668242424242425,
          5.616797979797981,
          5.565353535353537,
          5.467141414141415,
          5.406343434343435,
          5.340868686868687,
          5.242656565656567,
          5.078969696969698,
          5.004141414141414,
          4.97140404040404,
          4.924636363636364,
          4.789010101010101,
          4.779656565656566,
          4.7328888888888905,
          4.718858585858587,
          4.695474747474749,
          4.704828282828284,
          4.686121212121213,
          4.75159595959596,
          4.765626262626263,
          4.667414141414143,
          4.67209090909091,
          4.723535353535355,
          4.700151515151516,
          4.714181818181819,
          4.765626262626262,
          4.760949494949495,
          4.765626262626263,
          4.81239393939394,
          4.817070707070707,
          null,
          null,
          null,
          null,
          null,
          null
         ],
         "yaxis": "y"
        },
        {
         "hovertemplate": "%{x|%Y}<br><b>Annual</b><br>Gale Gust Days: %{y}<br><extra></extra>",
         "marker": {
          "color": "#6e987b",
          "opacity": 0.5,
          "size": 5
         },
         "mode": "markers",
         "name": "Gust Days",
         "type": "scatter",
         "x": [
          "1940-01-01",
          "1941-01-01",
          "1942-01-01",
          "1943-01-01",
          "1944-01-01",
          "1945-01-01",
          "1946-01-01",
          "1947-01-01",
          "1948-01-01",
          "1949-01-01",
          "1950-01-01",
          "1951-01-01",
          "1952-01-01",
          "1953-01-01",
          "1954-01-01",
          "1955-01-01",
          "1956-01-01",
          "1957-01-01",
          "1958-01-01",
          "1959-01-01",
          "1960-01-01",
          "1961-01-01",
          "1962-01-01",
          "1963-01-01",
          "1964-01-01",
          "1965-01-01",
          "1966-01-01",
          "1967-01-01",
          "1968-01-01",
          "1969-01-01",
          "1970-01-01",
          "1971-01-01",
          "1972-01-01",
          "1973-01-01",
          "1974-01-01",
          "1975-01-01",
          "1976-01-01",
          "1977-01-01",
          "1978-01-01",
          "1979-01-01",
          "1980-01-01",
          "1981-01-01",
          "1982-01-01",
          "1983-01-01",
          "1984-01-01",
          "1985-01-01",
          "1986-01-01",
          "1987-01-01",
          "1988-01-01",
          "1989-01-01",
          "1990-01-01",
          "1991-01-01",
          "1992-01-01",
          "1993-01-01",
          "1994-01-01",
          "1995-01-01",
          "1996-01-01",
          "1997-01-01",
          "1998-01-01",
          "1999-01-01",
          "2000-01-01",
          "2001-01-01",
          "2002-01-01",
          "2003-01-01",
          "2004-01-01",
          "2005-01-01",
          "2006-01-01",
          "2007-01-01",
          "2008-01-01",
          "2009-01-01",
          "2010-01-01",
          "2011-01-01",
          "2012-01-01",
          "2013-01-01",
          "2014-01-01",
          "2015-01-01",
          "2016-01-01",
          "2017-01-01",
          "2018-01-01",
          "2019-01-01",
          "2020-01-01"
         ],
         "xaxis": "x2",
         "y": [
          118,
          104,
          127,
          149,
          119,
          130,
          137,
          136,
          157,
          129,
          110,
          115,
          107,
          84,
          139,
          110,
          111,
          103,
          111,
          140,
          102,
          125,
          117,
          124,
          135,
          150,
          148,
          147,
          130,
          110,
          135,
          106,
          127,
          105,
          147,
          119,
          110,
          155,
          139,
          156,
          143,
          147,
          158,
          138,
          116,
          126,
          171,
          124,
          139,
          140,
          165,
          141,
          148,
          115,
          135,
          123,
          118,
          103,
          109,
          97,
          105,
          62,
          92,
          71,
          76,
          91,
          76,
          70,
          111,
          87,
          54,
          95,
          69,
          74,
          86,
          101,
          73,
          71,
          78,
          91,
          null
         ],
         "yaxis": "y2"
        },
        {
         "hovertemplate": "%{x|%Y}<br><b>11yr Moving Average</b><br>Gale Gust Days: %{y}<extra></extra>",
         "line": {
          "color": "#de8bb7",
          "shape": "spline",
          "width": 2
         },
         "mode": "lines",
         "name": "11 Year Moving Average Gale Gust Days",
         "type": "scatter",
         "x": [
          "1940-01-01",
          "1941-01-01",
          "1942-01-01",
          "1943-01-01",
          "1944-01-01",
          "1945-01-01",
          "1946-01-01",
          "1947-01-01",
          "1948-01-01",
          "1949-01-01",
          "1950-01-01",
          "1951-01-01",
          "1952-01-01",
          "1953-01-01",
          "1954-01-01",
          "1955-01-01",
          "1956-01-01",
          "1957-01-01",
          "1958-01-01",
          "1959-01-01",
          "1960-01-01",
          "1961-01-01",
          "1962-01-01",
          "1963-01-01",
          "1964-01-01",
          "1965-01-01",
          "1966-01-01",
          "1967-01-01",
          "1968-01-01",
          "1969-01-01",
          "1970-01-01",
          "1971-01-01",
          "1972-01-01",
          "1973-01-01",
          "1974-01-01",
          "1975-01-01",
          "1976-01-01",
          "1977-01-01",
          "1978-01-01",
          "1979-01-01",
          "1980-01-01",
          "1981-01-01",
          "1982-01-01",
          "1983-01-01",
          "1984-01-01",
          "1985-01-01",
          "1986-01-01",
          "1987-01-01",
          "1988-01-01",
          "1989-01-01",
          "1990-01-01",
          "1991-01-01",
          "1992-01-01",
          "1993-01-01",
          "1994-01-01",
          "1995-01-01",
          "1996-01-01",
          "1997-01-01",
          "1998-01-01",
          "1999-01-01",
          "2000-01-01",
          "2001-01-01",
          "2002-01-01",
          "2003-01-01",
          "2004-01-01",
          "2005-01-01",
          "2006-01-01",
          "2007-01-01",
          "2008-01-01",
          "2009-01-01",
          "2010-01-01",
          "2011-01-01",
          "2012-01-01",
          "2013-01-01",
          "2014-01-01",
          "2015-01-01",
          "2016-01-01",
          "2017-01-01",
          "2018-01-01",
          "2019-01-01",
          "2020-01-01"
         ],
         "xaxis": "x2",
         "y": [
          null,
          null,
          null,
          null,
          null,
          128.72727272727272,
          128.45454545454547,
          128.72727272727272,
          124.8181818181818,
          123.9090909090909,
          123.0909090909091,
          121.36363636363636,
          118.27272727272728,
          116,
          114.45454545454544,
          112,
          113.36363636363636,
          113.54545454545456,
          115.0909090909091,
          119.72727272727272,
          120.72727272727272,
          124.1818181818182,
          127.45454545454544,
          129.9090909090909,
          129.8181818181818,
          129.36363636363637,
          129.72727272727272,
          129.9090909090909,
          128.8181818181818,
          130.9090909090909,
          129.45454545454547,
          125.8181818181818,
          126.45454545454544,
          125.72727272727272,
          128.0909090909091,
          131.0909090909091,
          132.1818181818182,
          136.9090909090909,
          137.9090909090909,
          138.9090909090909,
          137,
          141.72727272727272,
          143,
          141.54545454545453,
          141.63636363636363,
          142.45454545454547,
          142.27272727272728,
          142.36363636363637,
          138.45454545454547,
          138.1818181818182,
          138.8181818181818,
          138.0909090909091,
          131.9090909090909,
          130.54545454545453,
          126.72727272727272,
          123.54545454545456,
          114.1818181818182,
          109.72727272727272,
          102.72727272727272,
          99.1818181818182,
          95.1818181818182,
          90.9090909090909,
          86.54545454545455,
          87.27272727272727,
          85.27272727272727,
          81.36363636363636,
          80.45454545454545,
          81.0909090909091,
          79.45454545454545,
          80.81818181818181,
          83.0909090909091,
          81.45454545454545,
          81,
          81.72727272727273,
          79.9090909090909,
          null,
          null,
          null,
          null,
          null,
          null
         ],
         "yaxis": "y2"
        }
       ],
       "layout": {
        "annotations": [
         {
          "font": {
           "size": 16
          },
          "showarrow": false,
          "text": "Wind Speed",
          "x": 0.5,
          "xanchor": "center",
          "xref": "paper",
          "y": 1,
          "yanchor": "bottom",
          "yref": "paper"
         },
         {
          "font": {
           "size": 16
          },
          "showarrow": false,
          "text": "Gale Gust Days",
          "x": 0.5,
          "xanchor": "center",
          "xref": "paper",
          "y": 0.46,
          "yanchor": "bottom",
          "yref": "paper"
         }
        ],
        "font": {
         "color": "#7f7f7f"
        },
        "height": 450,
        "hovermode": "closest",
        "legend": {
         "bgcolor": "rgba(0,0,0,0)",
         "itemclick": false,
         "itemdoubleclick": false,
         "orientation": "h"
        },
        "margin": {
         "b": 0,
         "l": 0,
         "r": 0,
         "t": 30
        },
        "paper_bgcolor": "rgba(0,0,0,0)",
        "plot_bgcolor": "#f7fbfd",
        "template": {
         "data": {
          "bar": [
           {
            "error_x": {
             "color": "#2a3f5f"
            },
            "error_y": {
             "color": "#2a3f5f"
            },
            "marker": {
             "line": {
              "color": "#E5ECF6",
              "width": 0.5
             }
            },
            "type": "bar"
           }
          ],
          "barpolar": [
           {
            "marker": {
             "line": {
              "color": "#E5ECF6",
              "width": 0.5
             }
            },
            "type": "barpolar"
           }
          ],
          "carpet": [
           {
            "aaxis": {
             "endlinecolor": "#2a3f5f",
             "gridcolor": "white",
             "linecolor": "white",
             "minorgridcolor": "white",
             "startlinecolor": "#2a3f5f"
            },
            "baxis": {
             "endlinecolor": "#2a3f5f",
             "gridcolor": "white",
             "linecolor": "white",
             "minorgridcolor": "white",
             "startlinecolor": "#2a3f5f"
            },
            "type": "carpet"
           }
          ],
          "choropleth": [
           {
            "colorbar": {
             "outlinewidth": 0,
             "ticks": ""
            },
            "type": "choropleth"
           }
          ],
          "contour": [
           {
            "colorbar": {
             "outlinewidth": 0,
             "ticks": ""
            },
            "colorscale": [
             [
              0,
              "#0d0887"
             ],
             [
              0.1111111111111111,
              "#46039f"
             ],
             [
              0.2222222222222222,
              "#7201a8"
             ],
             [
              0.3333333333333333,
              "#9c179e"
             ],
             [
              0.4444444444444444,
              "#bd3786"
             ],
             [
              0.5555555555555556,
              "#d8576b"
             ],
             [
              0.6666666666666666,
              "#ed7953"
             ],
             [
              0.7777777777777778,
              "#fb9f3a"
             ],
             [
              0.8888888888888888,
              "#fdca26"
             ],
             [
              1,
              "#f0f921"
             ]
            ],
            "type": "contour"
           }
          ],
          "contourcarpet": [
           {
            "colorbar": {
             "outlinewidth": 0,
             "ticks": ""
            },
            "type": "contourcarpet"
           }
          ],
          "heatmap": [
           {
            "colorbar": {
             "outlinewidth": 0,
             "ticks": ""
            },
            "colorscale": [
             [
              0,
              "#0d0887"
             ],
             [
              0.1111111111111111,
              "#46039f"
             ],
             [
              0.2222222222222222,
              "#7201a8"
             ],
             [
              0.3333333333333333,
              "#9c179e"
             ],
             [
              0.4444444444444444,
              "#bd3786"
             ],
             [
              0.5555555555555556,
              "#d8576b"
             ],
             [
              0.6666666666666666,
              "#ed7953"
             ],
             [
              0.7777777777777778,
              "#fb9f3a"
             ],
             [
              0.8888888888888888,
              "#fdca26"
             ],
             [
              1,
              "#f0f921"
             ]
            ],
            "type": "heatmap"
           }
          ],
          "heatmapgl": [
           {
            "colorbar": {
             "outlinewidth": 0,
             "ticks": ""
            },
            "colorscale": [
             [
              0,
              "#0d0887"
             ],
             [
              0.1111111111111111,
              "#46039f"
             ],
             [
              0.2222222222222222,
              "#7201a8"
             ],
             [
              0.3333333333333333,
              "#9c179e"
             ],
             [
              0.4444444444444444,
              "#bd3786"
             ],
             [
              0.5555555555555556,
              "#d8576b"
             ],
             [
              0.6666666666666666,
              "#ed7953"
             ],
             [
              0.7777777777777778,
              "#fb9f3a"
             ],
             [
              0.8888888888888888,
              "#fdca26"
             ],
             [
              1,
              "#f0f921"
             ]
            ],
            "type": "heatmapgl"
           }
          ],
          "histogram": [
           {
            "marker": {
             "colorbar": {
              "outlinewidth": 0,
              "ticks": ""
             }
            },
            "type": "histogram"
           }
          ],
          "histogram2d": [
           {
            "colorbar": {
             "outlinewidth": 0,
             "ticks": ""
            },
            "colorscale": [
             [
              0,
              "#0d0887"
             ],
             [
              0.1111111111111111,
              "#46039f"
             ],
             [
              0.2222222222222222,
              "#7201a8"
             ],
             [
              0.3333333333333333,
              "#9c179e"
             ],
             [
              0.4444444444444444,
              "#bd3786"
             ],
             [
              0.5555555555555556,
              "#d8576b"
             ],
             [
              0.6666666666666666,
              "#ed7953"
             ],
             [
              0.7777777777777778,
              "#fb9f3a"
             ],
             [
              0.8888888888888888,
              "#fdca26"
             ],
             [
              1,
              "#f0f921"
             ]
            ],
            "type": "histogram2d"
           }
          ],
          "histogram2dcontour": [
           {
            "colorbar": {
             "outlinewidth": 0,
             "ticks": ""
            },
            "colorscale": [
             [
              0,
              "#0d0887"
             ],
             [
              0.1111111111111111,
              "#46039f"
             ],
             [
              0.2222222222222222,
              "#7201a8"
             ],
             [
              0.3333333333333333,
              "#9c179e"
             ],
             [
              0.4444444444444444,
              "#bd3786"
             ],
             [
              0.5555555555555556,
              "#d8576b"
             ],
             [
              0.6666666666666666,
              "#ed7953"
             ],
             [
              0.7777777777777778,
              "#fb9f3a"
             ],
             [
              0.8888888888888888,
              "#fdca26"
             ],
             [
              1,
              "#f0f921"
             ]
            ],
            "type": "histogram2dcontour"
           }
          ],
          "mesh3d": [
           {
            "colorbar": {
             "outlinewidth": 0,
             "ticks": ""
            },
            "type": "mesh3d"
           }
          ],
          "parcoords": [
           {
            "line": {
             "colorbar": {
              "outlinewidth": 0,
              "ticks": ""
             }
            },
            "type": "parcoords"
           }
          ],
          "pie": [
           {
            "automargin": true,
            "type": "pie"
           }
          ],
          "scatter": [
           {
            "marker": {
             "colorbar": {
              "outlinewidth": 0,
              "ticks": ""
             }
            },
            "type": "scatter"
           }
          ],
          "scatter3d": [
           {
            "line": {
             "colorbar": {
              "outlinewidth": 0,
              "ticks": ""
             }
            },
            "marker": {
             "colorbar": {
              "outlinewidth": 0,
              "ticks": ""
             }
            },
            "type": "scatter3d"
           }
          ],
          "scattercarpet": [
           {
            "marker": {
             "colorbar": {
              "outlinewidth": 0,
              "ticks": ""
             }
            },
            "type": "scattercarpet"
           }
          ],
          "scattergeo": [
           {
            "marker": {
             "colorbar": {
              "outlinewidth": 0,
              "ticks": ""
             }
            },
            "type": "scattergeo"
           }
          ],
          "scattergl": [
           {
            "marker": {
             "colorbar": {
              "outlinewidth": 0,
              "ticks": ""
             }
            },
            "type": "scattergl"
           }
          ],
          "scattermapbox": [
           {
            "marker": {
             "colorbar": {
              "outlinewidth": 0,
              "ticks": ""
             }
            },
            "type": "scattermapbox"
           }
          ],
          "scatterpolar": [
           {
            "marker": {
             "colorbar": {
              "outlinewidth": 0,
              "ticks": ""
             }
            },
            "type": "scatterpolar"
           }
          ],
          "scatterpolargl": [
           {
            "marker": {
             "colorbar": {
              "outlinewidth": 0,
              "ticks": ""
             }
            },
            "type": "scatterpolargl"
           }
          ],
          "scatterternary": [
           {
            "marker": {
             "colorbar": {
              "outlinewidth": 0,
              "ticks": ""
             }
            },
            "type": "scatterternary"
           }
          ],
          "surface": [
           {
            "colorbar": {
             "outlinewidth": 0,
             "ticks": ""
            },
            "colorscale": [
             [
              0,
              "#0d0887"
             ],
             [
              0.1111111111111111,
              "#46039f"
             ],
             [
              0.2222222222222222,
              "#7201a8"
             ],
             [
              0.3333333333333333,
              "#9c179e"
             ],
             [
              0.4444444444444444,
              "#bd3786"
             ],
             [
              0.5555555555555556,
              "#d8576b"
             ],
             [
              0.6666666666666666,
              "#ed7953"
             ],
             [
              0.7777777777777778,
              "#fb9f3a"
             ],
             [
              0.8888888888888888,
              "#fdca26"
             ],
             [
              1,
              "#f0f921"
             ]
            ],
            "type": "surface"
           }
          ],
          "table": [
           {
            "cells": {
             "fill": {
              "color": "#EBF0F8"
             },
             "line": {
              "color": "white"
             }
            },
            "header": {
             "fill": {
              "color": "#C8D4E3"
             },
             "line": {
              "color": "white"
             }
            },
            "type": "table"
           }
          ]
         },
         "layout": {
          "annotationdefaults": {
           "arrowcolor": "#2a3f5f",
           "arrowhead": 0,
           "arrowwidth": 1
          },
          "autotypenumbers": "strict",
          "coloraxis": {
           "colorbar": {
            "outlinewidth": 0,
            "ticks": ""
           }
          },
          "colorscale": {
           "diverging": [
            [
             0,
             "#8e0152"
            ],
            [
             0.1,
             "#c51b7d"
            ],
            [
             0.2,
             "#de77ae"
            ],
            [
             0.3,
             "#f1b6da"
            ],
            [
             0.4,
             "#fde0ef"
            ],
            [
             0.5,
             "#f7f7f7"
            ],
            [
             0.6,
             "#e6f5d0"
            ],
            [
             0.7,
             "#b8e186"
            ],
            [
             0.8,
             "#7fbc41"
            ],
            [
             0.9,
             "#4d9221"
            ],
            [
             1,
             "#276419"
            ]
           ],
           "sequential": [
            [
             0,
             "#0d0887"
            ],
            [
             0.1111111111111111,
             "#46039f"
            ],
            [
             0.2222222222222222,
             "#7201a8"
            ],
            [
             0.3333333333333333,
             "#9c179e"
            ],
            [
             0.4444444444444444,
             "#bd3786"
            ],
            [
             0.5555555555555556,
             "#d8576b"
            ],
            [
             0.6666666666666666,
             "#ed7953"
            ],
            [
             0.7777777777777778,
             "#fb9f3a"
            ],
            [
             0.8888888888888888,
             "#fdca26"
            ],
            [
             1,
             "#f0f921"
            ]
           ],
           "sequentialminus": [
            [
             0,
             "#0d0887"
            ],
            [
             0.1111111111111111,
             "#46039f"
            ],
            [
             0.2222222222222222,
             "#7201a8"
            ],
            [
             0.3333333333333333,
             "#9c179e"
            ],
            [
             0.4444444444444444,
             "#bd3786"
            ],
            [
             0.5555555555555556,
             "#d8576b"
            ],
            [
             0.6666666666666666,
             "#ed7953"
            ],
            [
             0.7777777777777778,
             "#fb9f3a"
            ],
            [
             0.8888888888888888,
             "#fdca26"
            ],
            [
             1,
             "#f0f921"
            ]
           ]
          },
          "colorway": [
           "#636efa",
           "#EF553B",
           "#00cc96",
           "#ab63fa",
           "#FFA15A",
           "#19d3f3",
           "#FF6692",
           "#B6E880",
           "#FF97FF",
           "#FECB52"
          ],
          "font": {
           "color": "#2a3f5f"
          },
          "geo": {
           "bgcolor": "white",
           "lakecolor": "white",
           "landcolor": "#E5ECF6",
           "showlakes": true,
           "showland": true,
           "subunitcolor": "white"
          },
          "hoverlabel": {
           "align": "left"
          },
          "hovermode": "closest",
          "mapbox": {
           "style": "light"
          },
          "paper_bgcolor": "white",
          "plot_bgcolor": "#E5ECF6",
          "polar": {
           "angularaxis": {
            "gridcolor": "white",
            "linecolor": "white",
            "ticks": ""
           },
           "bgcolor": "#E5ECF6",
           "radialaxis": {
            "gridcolor": "white",
            "linecolor": "white",
            "ticks": ""
           }
          },
          "scene": {
           "xaxis": {
            "backgroundcolor": "#E5ECF6",
            "gridcolor": "white",
            "gridwidth": 2,
            "linecolor": "white",
            "showbackground": true,
            "ticks": "",
            "zerolinecolor": "white"
           },
           "yaxis": {
            "backgroundcolor": "#E5ECF6",
            "gridcolor": "white",
            "gridwidth": 2,
            "linecolor": "white",
            "showbackground": true,
            "ticks": "",
            "zerolinecolor": "white"
           },
           "zaxis": {
            "backgroundcolor": "#E5ECF6",
            "gridcolor": "white",
            "gridwidth": 2,
            "linecolor": "white",
            "showbackground": true,
            "ticks": "",
            "zerolinecolor": "white"
           }
          },
          "shapedefaults": {
           "line": {
            "color": "#2a3f5f"
           }
          },
          "ternary": {
           "aaxis": {
            "gridcolor": "white",
            "linecolor": "white",
            "ticks": ""
           },
           "baxis": {
            "gridcolor": "white",
            "linecolor": "white",
            "ticks": ""
           },
           "bgcolor": "#E5ECF6",
           "caxis": {
            "gridcolor": "white",
            "linecolor": "white",
            "ticks": ""
           }
          },
          "title": {
           "x": 0.05
          },
          "xaxis": {
           "automargin": true,
           "gridcolor": "white",
           "linecolor": "white",
           "ticks": "",
           "title": {
            "standoff": 15
           },
           "zerolinecolor": "white",
           "zerolinewidth": 2
          },
          "yaxis": {
           "automargin": true,
           "gridcolor": "white",
           "linecolor": "white",
           "ticks": "",
           "title": {
            "standoff": 15
           },
           "zerolinecolor": "white",
           "zerolinewidth": 2
          }
         }
        },
        "xaxis": {
         "anchor": "y",
         "domain": [
          0,
          1
         ],
         "fixedrange": true,
         "matches": "x2",
         "showgrid": false,
         "showticklabels": false
        },
        "xaxis2": {
         "anchor": "y2",
         "domain": [
          0,
          1
         ],
         "title": {
          "text": "Year"
         }
        },
        "yaxis": {
         "anchor": "x",
         "domain": [
          0.54,
          1
         ],
         "fixedrange": true,
         "title": {
          "text": "Annual Mean<br> Wind Speed (m/s)"
         }
        },
        "yaxis2": {
         "anchor": "x2",
         "domain": [
          0,
          0.46
         ],
         "title": {
          "text": "Number of Days with <br> Gusts > 17.5 m/s"
         }
        }
       }
      },
      "text/html": [
       "<div>                            <div id=\"b5745fd1-e5f0-408e-9fa7-1a5ebcfae1c3\" class=\"plotly-graph-div\" style=\"height:450px; width:100%;\"></div>            <script type=\"text/javascript\">                require([\"plotly\"], function(Plotly) {                    window.PLOTLYENV=window.PLOTLYENV || {};                                    if (document.getElementById(\"b5745fd1-e5f0-408e-9fa7-1a5ebcfae1c3\")) {                    Plotly.newPlot(                        \"b5745fd1-e5f0-408e-9fa7-1a5ebcfae1c3\",                        [{\"hovertemplate\": \"%{x|%Y}<br><b>Mean Annual</b><br>Wind Speed: %{y:.2f} m/s<br><extra></extra>\", \"marker\": {\"color\": \"#E1AF00\", \"opacity\": 0.5, \"size\": 5}, \"mode\": \"markers\", \"name\": \"Mean Annual Wind Speed\", \"type\": \"scatter\", \"x\": [\"1940-01-01\", \"1941-01-01\", \"1942-01-01\", \"1943-01-01\", \"1944-01-01\", \"1945-01-01\", \"1946-01-01\", \"1947-01-01\", \"1948-01-01\", \"1949-01-01\", \"1950-01-01\", \"1951-01-01\", \"1952-01-01\", \"1953-01-01\", \"1954-01-01\", \"1955-01-01\", \"1956-01-01\", \"1957-01-01\", \"1958-01-01\", \"1959-01-01\", \"1960-01-01\", \"1961-01-01\", \"1962-01-01\", \"1963-01-01\", \"1964-01-01\", \"1965-01-01\", \"1966-01-01\", \"1967-01-01\", \"1968-01-01\", \"1969-01-01\", \"1970-01-01\", \"1971-01-01\", \"1972-01-01\", \"1973-01-01\", \"1974-01-01\", \"1975-01-01\", \"1976-01-01\", \"1977-01-01\", \"1978-01-01\", \"1979-01-01\", \"1980-01-01\", \"1981-01-01\", \"1982-01-01\", \"1983-01-01\", \"1984-01-01\", \"1985-01-01\", \"1986-01-01\", \"1987-01-01\", \"1988-01-01\", \"1989-01-01\", \"1990-01-01\", \"1991-01-01\", \"1992-01-01\", \"1993-01-01\", \"1994-01-01\", \"1995-01-01\", \"1996-01-01\", \"1997-01-01\", \"1998-01-01\", \"1999-01-01\", \"2000-01-01\", \"2001-01-01\", \"2002-01-01\", \"2003-01-01\", \"2004-01-01\", \"2005-01-01\", \"2006-01-01\", \"2007-01-01\", \"2008-01-01\", \"2009-01-01\", \"2010-01-01\", \"2011-01-01\", \"2012-01-01\", \"2013-01-01\", \"2014-01-01\", \"2015-01-01\", \"2016-01-01\", \"2017-01-01\", \"2018-01-01\", \"2019-01-01\", \"2020-01-01\"], \"xaxis\": \"x\", \"y\": [5.453111111111111, 5.247333333333334, 5.813222222222223, 6.327666666666667, 5.658888888888889, 5.710333333333334, 5.813222222222223, 5.813222222222223, 6.019, 5.504555555555555, 5.556000000000001, 4.938666666666667, 4.990111111111111, 4.630000000000001, 5.607444444444445, 4.990111111111111, 5.041555555555556, 4.938666666666667, 5.041555555555556, 5.401666666666667, 4.938666666666667, 5.2987777777777785, 5.093000000000001, 5.504555555555555, 5.607444444444445, 5.813222222222223, 6.070444444444445, 5.864666666666667, 5.556000000000001, 5.144444444444445, 5.658888888888889, 5.144444444444445, 5.504555555555555, 5.247333333333334, 5.916111111111111, 5.2987777777777785, 5.401666666666667, 5.761777777777778, 5.710333333333334, 5.864666666666667, 5.761777777777778, 5.813222222222223, 6.019, 5.710333333333334, 5.350222222222222, 5.607444444444445, 6.12188888888889, 5.401666666666667, 5.401666666666667, 5.453111111111111, 5.710333333333334, 5.195888888888889, 5.247333333333334, 4.938666666666667, 5.041555555555556, 4.630000000000001, 4.527111111111112, 4.3213333333333335, 4.578555555555556, 5.041555555555556, 4.938666666666667, 4.218444444444445, 5.093000000000001, 4.732888888888889, 4.784333333333334, 4.784333333333334, 4.732888888888889, 4.3213333333333335, 5.041555555555556, 4.732888888888889, 3.961222222222223, 4.990111111111111, 4.784333333333334, 4.835777777777778, 4.887222222222222, 5.350222222222222, 4.732888888888889, 4.784333333333334, 4.835777777777778, 5.093000000000001, null], \"yaxis\": \"y\"}, {\"hovertemplate\": \"%{x|%Y}<br><b>11yr Moving Average</b><br>Wind Speed: %{y:.2f} m/s<extra></extra>\", \"line\": {\"color\": \"#00a4ae\", \"shape\": \"spline\", \"width\": 2}, \"mode\": \"lines\", \"name\": \"11 Year Moving Average Wind Speed\", \"type\": \"scatter\", \"x\": [\"1940-01-01\", \"1941-01-01\", \"1942-01-01\", \"1943-01-01\", \"1944-01-01\", \"1945-01-01\", \"1946-01-01\", \"1947-01-01\", \"1948-01-01\", \"1949-01-01\", \"1950-01-01\", \"1951-01-01\", \"1952-01-01\", \"1953-01-01\", \"1954-01-01\", \"1955-01-01\", \"1956-01-01\", \"1957-01-01\", \"1958-01-01\", \"1959-01-01\", \"1960-01-01\", \"1961-01-01\", \"1962-01-01\", \"1963-01-01\", \"1964-01-01\", \"1965-01-01\", \"1966-01-01\", \"1967-01-01\", \"1968-01-01\", \"1969-01-01\", \"1970-01-01\", \"1971-01-01\", \"1972-01-01\", \"1973-01-01\", \"1974-01-01\", \"1975-01-01\", \"1976-01-01\", \"1977-01-01\", \"1978-01-01\", \"1979-01-01\", \"1980-01-01\", \"1981-01-01\", \"1982-01-01\", \"1983-01-01\", \"1984-01-01\", \"1985-01-01\", \"1986-01-01\", \"1987-01-01\", \"1988-01-01\", \"1989-01-01\", \"1990-01-01\", \"1991-01-01\", \"1992-01-01\", \"1993-01-01\", \"1994-01-01\", \"1995-01-01\", \"1996-01-01\", \"1997-01-01\", \"1998-01-01\", \"1999-01-01\", \"2000-01-01\", \"2001-01-01\", \"2002-01-01\", \"2003-01-01\", \"2004-01-01\", \"2005-01-01\", \"2006-01-01\", \"2007-01-01\", \"2008-01-01\", \"2009-01-01\", \"2010-01-01\", \"2011-01-01\", \"2012-01-01\", \"2013-01-01\", \"2014-01-01\", \"2015-01-01\", \"2016-01-01\", \"2017-01-01\", \"2018-01-01\", \"2019-01-01\", \"2020-01-01\"], \"xaxis\": \"x\", \"y\": [null, null, null, null, null, 5.719686868686869, 5.672919191919193, 5.649535353535355, 5.541969696969698, 5.47649494949495, 5.415696969696971, 5.354898989898991, 5.27539393939394, 5.205242424242424, 5.149121212121213, 5.097676767676769, 5.0742929292929295, 5.0883232323232335, 5.135090909090911, 5.223949494949496, 5.242656565656566, 5.340868686868688, 5.41569696969697, 5.471818181818183, 5.481171717171718, 5.504555555555556, 5.523262626262627, 5.541969696969697, 5.556000000000001, 5.593414141414142, 5.565353535353537, 5.527939393939395, 5.499878787878789, 5.485848484848486, 5.513909090909091, 5.570030303030303, 5.584060606060607, 5.663565656565656, 5.682272727272727, 5.691626262626262, 5.663565656565657, 5.73839393939394, 5.738393939393939, 5.705656565656567, 5.6822727272727285, 5.668242424242425, 5.616797979797981, 5.565353535353537, 5.467141414141415, 5.406343434343435, 5.340868686868687, 5.242656565656567, 5.078969696969698, 5.004141414141414, 4.97140404040404, 4.924636363636364, 4.789010101010101, 4.779656565656566, 4.7328888888888905, 4.718858585858587, 4.695474747474749, 4.704828282828284, 4.686121212121213, 4.75159595959596, 4.765626262626263, 4.667414141414143, 4.67209090909091, 4.723535353535355, 4.700151515151516, 4.714181818181819, 4.765626262626262, 4.760949494949495, 4.765626262626263, 4.81239393939394, 4.817070707070707, null, null, null, null, null, null], \"yaxis\": \"y\"}, {\"hovertemplate\": \"%{x|%Y}<br><b>Annual</b><br>Gale Gust Days: %{y}<br><extra></extra>\", \"marker\": {\"color\": \"#6e987b\", \"opacity\": 0.5, \"size\": 5}, \"mode\": \"markers\", \"name\": \"Gust Days\", \"type\": \"scatter\", \"x\": [\"1940-01-01\", \"1941-01-01\", \"1942-01-01\", \"1943-01-01\", \"1944-01-01\", \"1945-01-01\", \"1946-01-01\", \"1947-01-01\", \"1948-01-01\", \"1949-01-01\", \"1950-01-01\", \"1951-01-01\", \"1952-01-01\", \"1953-01-01\", \"1954-01-01\", \"1955-01-01\", \"1956-01-01\", \"1957-01-01\", \"1958-01-01\", \"1959-01-01\", \"1960-01-01\", \"1961-01-01\", \"1962-01-01\", \"1963-01-01\", \"1964-01-01\", \"1965-01-01\", \"1966-01-01\", \"1967-01-01\", \"1968-01-01\", \"1969-01-01\", \"1970-01-01\", \"1971-01-01\", \"1972-01-01\", \"1973-01-01\", \"1974-01-01\", \"1975-01-01\", \"1976-01-01\", \"1977-01-01\", \"1978-01-01\", \"1979-01-01\", \"1980-01-01\", \"1981-01-01\", \"1982-01-01\", \"1983-01-01\", \"1984-01-01\", \"1985-01-01\", \"1986-01-01\", \"1987-01-01\", \"1988-01-01\", \"1989-01-01\", \"1990-01-01\", \"1991-01-01\", \"1992-01-01\", \"1993-01-01\", \"1994-01-01\", \"1995-01-01\", \"1996-01-01\", \"1997-01-01\", \"1998-01-01\", \"1999-01-01\", \"2000-01-01\", \"2001-01-01\", \"2002-01-01\", \"2003-01-01\", \"2004-01-01\", \"2005-01-01\", \"2006-01-01\", \"2007-01-01\", \"2008-01-01\", \"2009-01-01\", \"2010-01-01\", \"2011-01-01\", \"2012-01-01\", \"2013-01-01\", \"2014-01-01\", \"2015-01-01\", \"2016-01-01\", \"2017-01-01\", \"2018-01-01\", \"2019-01-01\", \"2020-01-01\"], \"xaxis\": \"x2\", \"y\": [118.0, 104.0, 127.0, 149.0, 119.0, 130.0, 137.0, 136.0, 157.0, 129.0, 110.0, 115.0, 107.0, 84.0, 139.0, 110.0, 111.0, 103.0, 111.0, 140.0, 102.0, 125.0, 117.0, 124.0, 135.0, 150.0, 148.0, 147.0, 130.0, 110.0, 135.0, 106.0, 127.0, 105.0, 147.0, 119.0, 110.0, 155.0, 139.0, 156.0, 143.0, 147.0, 158.0, 138.0, 116.0, 126.0, 171.0, 124.0, 139.0, 140.0, 165.0, 141.0, 148.0, 115.0, 135.0, 123.0, 118.0, 103.0, 109.0, 97.0, 105.0, 62.0, 92.0, 71.0, 76.0, 91.0, 76.0, 70.0, 111.0, 87.0, 54.0, 95.0, 69.0, 74.0, 86.0, 101.0, 73.0, 71.0, 78.0, 91.0, null], \"yaxis\": \"y2\"}, {\"hovertemplate\": \"%{x|%Y}<br><b>11yr Moving Average</b><br>Gale Gust Days: %{y}<extra></extra>\", \"line\": {\"color\": \"#de8bb7\", \"shape\": \"spline\", \"width\": 2}, \"mode\": \"lines\", \"name\": \"11 Year Moving Average Gale Gust Days\", \"type\": \"scatter\", \"x\": [\"1940-01-01\", \"1941-01-01\", \"1942-01-01\", \"1943-01-01\", \"1944-01-01\", \"1945-01-01\", \"1946-01-01\", \"1947-01-01\", \"1948-01-01\", \"1949-01-01\", \"1950-01-01\", \"1951-01-01\", \"1952-01-01\", \"1953-01-01\", \"1954-01-01\", \"1955-01-01\", \"1956-01-01\", \"1957-01-01\", \"1958-01-01\", \"1959-01-01\", \"1960-01-01\", \"1961-01-01\", \"1962-01-01\", \"1963-01-01\", \"1964-01-01\", \"1965-01-01\", \"1966-01-01\", \"1967-01-01\", \"1968-01-01\", \"1969-01-01\", \"1970-01-01\", \"1971-01-01\", \"1972-01-01\", \"1973-01-01\", \"1974-01-01\", \"1975-01-01\", \"1976-01-01\", \"1977-01-01\", \"1978-01-01\", \"1979-01-01\", \"1980-01-01\", \"1981-01-01\", \"1982-01-01\", \"1983-01-01\", \"1984-01-01\", \"1985-01-01\", \"1986-01-01\", \"1987-01-01\", \"1988-01-01\", \"1989-01-01\", \"1990-01-01\", \"1991-01-01\", \"1992-01-01\", \"1993-01-01\", \"1994-01-01\", \"1995-01-01\", \"1996-01-01\", \"1997-01-01\", \"1998-01-01\", \"1999-01-01\", \"2000-01-01\", \"2001-01-01\", \"2002-01-01\", \"2003-01-01\", \"2004-01-01\", \"2005-01-01\", \"2006-01-01\", \"2007-01-01\", \"2008-01-01\", \"2009-01-01\", \"2010-01-01\", \"2011-01-01\", \"2012-01-01\", \"2013-01-01\", \"2014-01-01\", \"2015-01-01\", \"2016-01-01\", \"2017-01-01\", \"2018-01-01\", \"2019-01-01\", \"2020-01-01\"], \"xaxis\": \"x2\", \"y\": [null, null, null, null, null, 128.72727272727272, 128.45454545454547, 128.72727272727272, 124.8181818181818, 123.9090909090909, 123.0909090909091, 121.36363636363636, 118.27272727272728, 116.0, 114.45454545454544, 112.0, 113.36363636363636, 113.54545454545456, 115.0909090909091, 119.72727272727272, 120.72727272727272, 124.1818181818182, 127.45454545454544, 129.9090909090909, 129.8181818181818, 129.36363636363637, 129.72727272727272, 129.9090909090909, 128.8181818181818, 130.9090909090909, 129.45454545454547, 125.8181818181818, 126.45454545454544, 125.72727272727272, 128.0909090909091, 131.0909090909091, 132.1818181818182, 136.9090909090909, 137.9090909090909, 138.9090909090909, 137.0, 141.72727272727272, 143.0, 141.54545454545453, 141.63636363636363, 142.45454545454547, 142.27272727272728, 142.36363636363637, 138.45454545454547, 138.1818181818182, 138.8181818181818, 138.0909090909091, 131.9090909090909, 130.54545454545453, 126.72727272727272, 123.54545454545456, 114.1818181818182, 109.72727272727272, 102.72727272727272, 99.1818181818182, 95.1818181818182, 90.9090909090909, 86.54545454545455, 87.27272727272727, 85.27272727272727, 81.36363636363636, 80.45454545454545, 81.0909090909091, 79.45454545454545, 80.81818181818181, 83.0909090909091, 81.45454545454545, 81.0, 81.72727272727273, 79.9090909090909, null, null, null, null, null, null], \"yaxis\": \"y2\"}],                        {\"annotations\": [{\"font\": {\"size\": 16}, \"showarrow\": false, \"text\": \"Wind Speed\", \"x\": 0.5, \"xanchor\": \"center\", \"xref\": \"paper\", \"y\": 1.0, \"yanchor\": \"bottom\", \"yref\": \"paper\"}, {\"font\": {\"size\": 16}, \"showarrow\": false, \"text\": \"Gale Gust Days\", \"x\": 0.5, \"xanchor\": \"center\", \"xref\": \"paper\", \"y\": 0.46, \"yanchor\": \"bottom\", \"yref\": \"paper\"}], \"font\": {\"color\": \"#7f7f7f\"}, \"height\": 450, \"hovermode\": \"closest\", \"legend\": {\"bgcolor\": \"rgba(0,0,0,0)\", \"itemclick\": false, \"itemdoubleclick\": false, \"orientation\": \"h\"}, \"margin\": {\"b\": 0, \"l\": 0, \"r\": 0, \"t\": 30}, \"paper_bgcolor\": \"rgba(0,0,0,0)\", \"plot_bgcolor\": \"#f7fbfd\", \"template\": {\"data\": {\"bar\": [{\"error_x\": {\"color\": \"#2a3f5f\"}, \"error_y\": {\"color\": \"#2a3f5f\"}, \"marker\": {\"line\": {\"color\": \"#E5ECF6\", \"width\": 0.5}}, \"type\": \"bar\"}], \"barpolar\": [{\"marker\": {\"line\": {\"color\": \"#E5ECF6\", \"width\": 0.5}}, \"type\": \"barpolar\"}], \"carpet\": [{\"aaxis\": {\"endlinecolor\": \"#2a3f5f\", \"gridcolor\": \"white\", \"linecolor\": \"white\", \"minorgridcolor\": \"white\", \"startlinecolor\": \"#2a3f5f\"}, \"baxis\": {\"endlinecolor\": \"#2a3f5f\", \"gridcolor\": \"white\", \"linecolor\": \"white\", \"minorgridcolor\": \"white\", \"startlinecolor\": \"#2a3f5f\"}, \"type\": \"carpet\"}], \"choropleth\": [{\"colorbar\": {\"outlinewidth\": 0, \"ticks\": \"\"}, \"type\": \"choropleth\"}], \"contour\": [{\"colorbar\": {\"outlinewidth\": 0, \"ticks\": \"\"}, \"colorscale\": [[0.0, \"#0d0887\"], [0.1111111111111111, \"#46039f\"], [0.2222222222222222, \"#7201a8\"], [0.3333333333333333, \"#9c179e\"], [0.4444444444444444, \"#bd3786\"], [0.5555555555555556, \"#d8576b\"], [0.6666666666666666, \"#ed7953\"], [0.7777777777777778, \"#fb9f3a\"], [0.8888888888888888, \"#fdca26\"], [1.0, \"#f0f921\"]], \"type\": \"contour\"}], \"contourcarpet\": [{\"colorbar\": {\"outlinewidth\": 0, \"ticks\": \"\"}, \"type\": \"contourcarpet\"}], \"heatmap\": [{\"colorbar\": {\"outlinewidth\": 0, \"ticks\": \"\"}, \"colorscale\": [[0.0, \"#0d0887\"], [0.1111111111111111, \"#46039f\"], [0.2222222222222222, \"#7201a8\"], [0.3333333333333333, \"#9c179e\"], [0.4444444444444444, \"#bd3786\"], [0.5555555555555556, \"#d8576b\"], [0.6666666666666666, \"#ed7953\"], [0.7777777777777778, \"#fb9f3a\"], [0.8888888888888888, \"#fdca26\"], [1.0, \"#f0f921\"]], \"type\": \"heatmap\"}], \"heatmapgl\": [{\"colorbar\": {\"outlinewidth\": 0, \"ticks\": \"\"}, \"colorscale\": [[0.0, \"#0d0887\"], [0.1111111111111111, \"#46039f\"], [0.2222222222222222, \"#7201a8\"], [0.3333333333333333, \"#9c179e\"], [0.4444444444444444, \"#bd3786\"], [0.5555555555555556, \"#d8576b\"], [0.6666666666666666, \"#ed7953\"], [0.7777777777777778, \"#fb9f3a\"], [0.8888888888888888, \"#fdca26\"], [1.0, \"#f0f921\"]], \"type\": \"heatmapgl\"}], \"histogram\": [{\"marker\": {\"colorbar\": {\"outlinewidth\": 0, \"ticks\": \"\"}}, \"type\": \"histogram\"}], \"histogram2d\": [{\"colorbar\": {\"outlinewidth\": 0, \"ticks\": \"\"}, \"colorscale\": [[0.0, \"#0d0887\"], [0.1111111111111111, \"#46039f\"], [0.2222222222222222, \"#7201a8\"], [0.3333333333333333, \"#9c179e\"], [0.4444444444444444, \"#bd3786\"], [0.5555555555555556, \"#d8576b\"], [0.6666666666666666, \"#ed7953\"], [0.7777777777777778, \"#fb9f3a\"], [0.8888888888888888, \"#fdca26\"], [1.0, \"#f0f921\"]], \"type\": \"histogram2d\"}], \"histogram2dcontour\": [{\"colorbar\": {\"outlinewidth\": 0, \"ticks\": \"\"}, \"colorscale\": [[0.0, \"#0d0887\"], [0.1111111111111111, \"#46039f\"], [0.2222222222222222, \"#7201a8\"], [0.3333333333333333, \"#9c179e\"], [0.4444444444444444, \"#bd3786\"], [0.5555555555555556, \"#d8576b\"], [0.6666666666666666, \"#ed7953\"], [0.7777777777777778, \"#fb9f3a\"], [0.8888888888888888, \"#fdca26\"], [1.0, \"#f0f921\"]], \"type\": \"histogram2dcontour\"}], \"mesh3d\": [{\"colorbar\": {\"outlinewidth\": 0, \"ticks\": \"\"}, \"type\": \"mesh3d\"}], \"parcoords\": [{\"line\": {\"colorbar\": {\"outlinewidth\": 0, \"ticks\": \"\"}}, \"type\": \"parcoords\"}], \"pie\": [{\"automargin\": true, \"type\": \"pie\"}], \"scatter\": [{\"marker\": {\"colorbar\": {\"outlinewidth\": 0, \"ticks\": \"\"}}, \"type\": \"scatter\"}], \"scatter3d\": [{\"line\": {\"colorbar\": {\"outlinewidth\": 0, \"ticks\": \"\"}}, \"marker\": {\"colorbar\": {\"outlinewidth\": 0, \"ticks\": \"\"}}, \"type\": \"scatter3d\"}], \"scattercarpet\": [{\"marker\": {\"colorbar\": {\"outlinewidth\": 0, \"ticks\": \"\"}}, \"type\": \"scattercarpet\"}], \"scattergeo\": [{\"marker\": {\"colorbar\": {\"outlinewidth\": 0, \"ticks\": \"\"}}, \"type\": \"scattergeo\"}], \"scattergl\": [{\"marker\": {\"colorbar\": {\"outlinewidth\": 0, \"ticks\": \"\"}}, \"type\": \"scattergl\"}], \"scattermapbox\": [{\"marker\": {\"colorbar\": {\"outlinewidth\": 0, \"ticks\": \"\"}}, \"type\": \"scattermapbox\"}], \"scatterpolar\": [{\"marker\": {\"colorbar\": {\"outlinewidth\": 0, \"ticks\": \"\"}}, \"type\": \"scatterpolar\"}], \"scatterpolargl\": [{\"marker\": {\"colorbar\": {\"outlinewidth\": 0, \"ticks\": \"\"}}, \"type\": \"scatterpolargl\"}], \"scatterternary\": [{\"marker\": {\"colorbar\": {\"outlinewidth\": 0, \"ticks\": \"\"}}, \"type\": \"scatterternary\"}], \"surface\": [{\"colorbar\": {\"outlinewidth\": 0, \"ticks\": \"\"}, \"colorscale\": [[0.0, \"#0d0887\"], [0.1111111111111111, \"#46039f\"], [0.2222222222222222, \"#7201a8\"], [0.3333333333333333, \"#9c179e\"], [0.4444444444444444, \"#bd3786\"], [0.5555555555555556, \"#d8576b\"], [0.6666666666666666, \"#ed7953\"], [0.7777777777777778, \"#fb9f3a\"], [0.8888888888888888, \"#fdca26\"], [1.0, \"#f0f921\"]], \"type\": \"surface\"}], \"table\": [{\"cells\": {\"fill\": {\"color\": \"#EBF0F8\"}, \"line\": {\"color\": \"white\"}}, \"header\": {\"fill\": {\"color\": \"#C8D4E3\"}, \"line\": {\"color\": \"white\"}}, \"type\": \"table\"}]}, \"layout\": {\"annotationdefaults\": {\"arrowcolor\": \"#2a3f5f\", \"arrowhead\": 0, \"arrowwidth\": 1}, \"autotypenumbers\": \"strict\", \"coloraxis\": {\"colorbar\": {\"outlinewidth\": 0, \"ticks\": \"\"}}, \"colorscale\": {\"diverging\": [[0, \"#8e0152\"], [0.1, \"#c51b7d\"], [0.2, \"#de77ae\"], [0.3, \"#f1b6da\"], [0.4, \"#fde0ef\"], [0.5, \"#f7f7f7\"], [0.6, \"#e6f5d0\"], [0.7, \"#b8e186\"], [0.8, \"#7fbc41\"], [0.9, \"#4d9221\"], [1, \"#276419\"]], \"sequential\": [[0.0, \"#0d0887\"], [0.1111111111111111, \"#46039f\"], [0.2222222222222222, \"#7201a8\"], [0.3333333333333333, \"#9c179e\"], [0.4444444444444444, \"#bd3786\"], [0.5555555555555556, \"#d8576b\"], [0.6666666666666666, \"#ed7953\"], [0.7777777777777778, \"#fb9f3a\"], [0.8888888888888888, \"#fdca26\"], [1.0, \"#f0f921\"]], \"sequentialminus\": [[0.0, \"#0d0887\"], [0.1111111111111111, \"#46039f\"], [0.2222222222222222, \"#7201a8\"], [0.3333333333333333, \"#9c179e\"], [0.4444444444444444, \"#bd3786\"], [0.5555555555555556, \"#d8576b\"], [0.6666666666666666, \"#ed7953\"], [0.7777777777777778, \"#fb9f3a\"], [0.8888888888888888, \"#fdca26\"], [1.0, \"#f0f921\"]]}, \"colorway\": [\"#636efa\", \"#EF553B\", \"#00cc96\", \"#ab63fa\", \"#FFA15A\", \"#19d3f3\", \"#FF6692\", \"#B6E880\", \"#FF97FF\", \"#FECB52\"], \"font\": {\"color\": \"#2a3f5f\"}, \"geo\": {\"bgcolor\": \"white\", \"lakecolor\": \"white\", \"landcolor\": \"#E5ECF6\", \"showlakes\": true, \"showland\": true, \"subunitcolor\": \"white\"}, \"hoverlabel\": {\"align\": \"left\"}, \"hovermode\": \"closest\", \"mapbox\": {\"style\": \"light\"}, \"paper_bgcolor\": \"white\", \"plot_bgcolor\": \"#E5ECF6\", \"polar\": {\"angularaxis\": {\"gridcolor\": \"white\", \"linecolor\": \"white\", \"ticks\": \"\"}, \"bgcolor\": \"#E5ECF6\", \"radialaxis\": {\"gridcolor\": \"white\", \"linecolor\": \"white\", \"ticks\": \"\"}}, \"scene\": {\"xaxis\": {\"backgroundcolor\": \"#E5ECF6\", \"gridcolor\": \"white\", \"gridwidth\": 2, \"linecolor\": \"white\", \"showbackground\": true, \"ticks\": \"\", \"zerolinecolor\": \"white\"}, \"yaxis\": {\"backgroundcolor\": \"#E5ECF6\", \"gridcolor\": \"white\", \"gridwidth\": 2, \"linecolor\": \"white\", \"showbackground\": true, \"ticks\": \"\", \"zerolinecolor\": \"white\"}, \"zaxis\": {\"backgroundcolor\": \"#E5ECF6\", \"gridcolor\": \"white\", \"gridwidth\": 2, \"linecolor\": \"white\", \"showbackground\": true, \"ticks\": \"\", \"zerolinecolor\": \"white\"}}, \"shapedefaults\": {\"line\": {\"color\": \"#2a3f5f\"}}, \"ternary\": {\"aaxis\": {\"gridcolor\": \"white\", \"linecolor\": \"white\", \"ticks\": \"\"}, \"baxis\": {\"gridcolor\": \"white\", \"linecolor\": \"white\", \"ticks\": \"\"}, \"bgcolor\": \"#E5ECF6\", \"caxis\": {\"gridcolor\": \"white\", \"linecolor\": \"white\", \"ticks\": \"\"}}, \"title\": {\"x\": 0.05}, \"xaxis\": {\"automargin\": true, \"gridcolor\": \"white\", \"linecolor\": \"white\", \"ticks\": \"\", \"title\": {\"standoff\": 15}, \"zerolinecolor\": \"white\", \"zerolinewidth\": 2}, \"yaxis\": {\"automargin\": true, \"gridcolor\": \"white\", \"linecolor\": \"white\", \"ticks\": \"\", \"title\": {\"standoff\": 15}, \"zerolinecolor\": \"white\", \"zerolinewidth\": 2}}}, \"xaxis\": {\"anchor\": \"y\", \"domain\": [0.0, 1.0], \"fixedrange\": true, \"matches\": \"x2\", \"showgrid\": false, \"showticklabels\": false}, \"xaxis2\": {\"anchor\": \"y2\", \"domain\": [0.0, 1.0], \"title\": {\"text\": \"Year\"}}, \"yaxis\": {\"anchor\": \"x\", \"domain\": [0.54, 1.0], \"fixedrange\": true, \"title\": {\"text\": \"Annual Mean<br> Wind Speed (m/s)\"}}, \"yaxis2\": {\"anchor\": \"x2\", \"domain\": [0.0, 0.46], \"title\": {\"text\": \"Number of Days with <br> Gusts > 17.5 m/s\"}}},                        {\"responsive\": true}                    ).then(function(){\n",
       "                            \n",
       "var gd = document.getElementById('b5745fd1-e5f0-408e-9fa7-1a5ebcfae1c3');\n",
       "var x = new MutationObserver(function (mutations, observer) {{\n",
       "        var display = window.getComputedStyle(gd).display;\n",
       "        if (!display || display === 'none') {{\n",
       "            console.log([gd, 'removed!']);\n",
       "            Plotly.purge(gd);\n",
       "            observer.disconnect();\n",
       "        }}\n",
       "}});\n",
       "\n",
       "// Listen for the removal of the full notebook cells\n",
       "var notebookContainer = gd.closest('#notebook-container');\n",
       "if (notebookContainer) {{\n",
       "    x.observe(notebookContainer, {childList: true});\n",
       "}}\n",
       "\n",
       "// Listen for the clearing of the current output cell\n",
       "var outputEl = gd.closest('.output');\n",
       "if (outputEl) {{\n",
       "    x.observe(outputEl, {childList: true});\n",
       "}}\n",
       "\n",
       "                        })                };                });            </script>        </div>"
      ]
     },
     "metadata": {},
     "output_type": "display_data"
    }
   ],
   "source": [
    "figure_2_4_a = make_subplots(rows=2, cols=1,\n",
    "                             subplot_titles=(\"Wind Speed\", \"Gale Gust Days\"),\n",
    "                             shared_xaxes=True,\n",
    "                    vertical_spacing=0.08)\n",
    "figure_2_4_a.update_xaxes(title_text=\"Year\", row=2, col=1)\n",
    "figure_2_4_a.update_yaxes(title_text=\"Annual Mean<br> Wind Speed (m/s)\", row=1, col=1)\n",
    "figure_2_4_a.update_yaxes(title_text=\"Number of Days with <br> Gusts > 17.5 m/s\", row=2, col=1)\n",
    "figure_2_4_a.append_trace(annual_speed_trace,\n",
    "                        row=1, col=1)\n",
    "figure_2_4_a.append_trace(moving_avg_speed_trace,\n",
    "                        row=1, col=1)\n",
    "figure_2_4_a.append_trace(gust_days_trace,\n",
    "                        row=2, col=1)\n",
    "figure_2_4_a.append_trace(moving_avg_gust_days_trace,\n",
    "                        row=2, col=1)\n",
    "figure_2_4_a.update_layout(TIMESERIES_LAYOUT)\n",
    "figure_2_4_a.update_layout(margin_t=30)\n",
    "figure_2_4_a"
   ]
  },
  {
   "cell_type": "code",
   "execution_count": null,
   "id": "deluxe-anatomy",
   "metadata": {},
   "outputs": [],
   "source": []
  },
  {
   "cell_type": "code",
   "execution_count": null,
   "id": "split-rebound",
   "metadata": {},
   "outputs": [],
   "source": []
  }
 ],
 "metadata": {
  "kernelspec": {
   "display_name": "Python 3",
   "language": "python",
   "name": "python3"
  },
  "language_info": {
   "codemirror_mode": {
    "name": "ipython",
    "version": 3
   },
   "file_extension": ".py",
   "mimetype": "text/x-python",
   "name": "python",
   "nbconvert_exporter": "python",
   "pygments_lexer": "ipython3",
   "version": "3.8.2"
  }
 },
 "nbformat": 4,
 "nbformat_minor": 5
}
