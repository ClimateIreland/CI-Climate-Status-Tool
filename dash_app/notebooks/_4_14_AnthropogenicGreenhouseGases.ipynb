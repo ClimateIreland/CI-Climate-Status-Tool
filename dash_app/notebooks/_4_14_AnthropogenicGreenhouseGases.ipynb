{
 "cells": [
  {
   "cell_type": "code",
   "execution_count": 1,
   "metadata": {},
   "outputs": [],
   "source": [
    "# to access root modules\n",
    "if __name__ == \"__main__\" and __package__ is None:\n",
    "    from sys import path\n",
    "    from os.path import dirname as dir\n",
    "\n",
    "    path.append(dir(path[0]))\n",
    "    __package__ = \"dash_app\""
   ]
  },
  {
   "cell_type": "code",
   "execution_count": 2,
   "metadata": {},
   "outputs": [],
   "source": [
    "import pandas as pd\n",
    "import numpy as np\n",
    "import datetime\n",
    "import dateutil\n",
    "import plotly.graph_objects as go\n",
    "from plotly.subplots import make_subplots\n",
    "from charts import stations_map\n",
    "from settings import *"
   ]
  },
  {
   "cell_type": "code",
   "execution_count": 12,
   "metadata": {},
   "outputs": [
    {
     "data": {
      "text/html": [
       "<div>\n",
       "<style scoped>\n",
       "    .dataframe tbody tr th:only-of-type {\n",
       "        vertical-align: middle;\n",
       "    }\n",
       "\n",
       "    .dataframe tbody tr th {\n",
       "        vertical-align: top;\n",
       "    }\n",
       "\n",
       "    .dataframe thead th {\n",
       "        text-align: right;\n",
       "    }\n",
       "</style>\n",
       "<table border=\"1\" class=\"dataframe\">\n",
       "  <thead>\n",
       "    <tr style=\"text-align: right;\">\n",
       "      <th></th>\n",
       "      <th>Total GHG emissions by sector (kt CO₂e)</th>\n",
       "      <th>Unnamed: 2</th>\n",
       "      <th>Unnamed: 3</th>\n",
       "      <th>Unnamed: 4</th>\n",
       "      <th>Unnamed: 5</th>\n",
       "      <th>Unnamed: 6</th>\n",
       "      <th>Unnamed: 7</th>\n",
       "      <th>Unnamed: 8</th>\n",
       "      <th>Unnamed: 9</th>\n",
       "      <th>Unnamed: 10</th>\n",
       "      <th>...</th>\n",
       "      <th>Unnamed: 21</th>\n",
       "      <th>Unnamed: 22</th>\n",
       "      <th>Unnamed: 23</th>\n",
       "      <th>Unnamed: 24</th>\n",
       "      <th>Unnamed: 25</th>\n",
       "      <th>Unnamed: 26</th>\n",
       "      <th>Unnamed: 27</th>\n",
       "      <th>Unnamed: 28</th>\n",
       "      <th>Unnamed: 29</th>\n",
       "      <th>Unnamed: 30</th>\n",
       "    </tr>\n",
       "  </thead>\n",
       "  <tbody>\n",
       "    <tr>\n",
       "      <th>0</th>\n",
       "      <td>NaN</td>\n",
       "      <td>NaN</td>\n",
       "      <td>NaN</td>\n",
       "      <td>NaN</td>\n",
       "      <td>NaN</td>\n",
       "      <td>NaN</td>\n",
       "      <td>NaN</td>\n",
       "      <td>NaN</td>\n",
       "      <td>NaN</td>\n",
       "      <td>NaN</td>\n",
       "      <td>...</td>\n",
       "      <td>NaN</td>\n",
       "      <td>NaN</td>\n",
       "      <td>NaN</td>\n",
       "      <td>NaN</td>\n",
       "      <td>NaN</td>\n",
       "      <td>NaN</td>\n",
       "      <td>NaN</td>\n",
       "      <td>NaN</td>\n",
       "      <td>NaN</td>\n",
       "      <td>NaN</td>\n",
       "    </tr>\n",
       "    <tr>\n",
       "      <th>1</th>\n",
       "      <td>Year</td>\n",
       "      <td>1990.000000</td>\n",
       "      <td>1991.000000</td>\n",
       "      <td>1992.000000</td>\n",
       "      <td>1993.000000</td>\n",
       "      <td>1994.000000</td>\n",
       "      <td>1995.000000</td>\n",
       "      <td>1996.000000</td>\n",
       "      <td>1997.000000</td>\n",
       "      <td>1998.000000</td>\n",
       "      <td>...</td>\n",
       "      <td>2009.000000</td>\n",
       "      <td>2010.000000</td>\n",
       "      <td>2011.000000</td>\n",
       "      <td>2012.000000</td>\n",
       "      <td>2013.000000</td>\n",
       "      <td>2014.000000</td>\n",
       "      <td>2015.000000</td>\n",
       "      <td>2016.000000</td>\n",
       "      <td>2017.000000</td>\n",
       "      <td>2018.000000</td>\n",
       "    </tr>\n",
       "    <tr>\n",
       "      <th>2</th>\n",
       "      <td>Energy</td>\n",
       "      <td>31022.103405</td>\n",
       "      <td>31873.070431</td>\n",
       "      <td>31764.600119</td>\n",
       "      <td>31943.191349</td>\n",
       "      <td>32912.372004</td>\n",
       "      <td>33824.925125</td>\n",
       "      <td>35439.434636</td>\n",
       "      <td>36550.493360</td>\n",
       "      <td>38763.594006</td>\n",
       "      <td>...</td>\n",
       "      <td>40798.360429</td>\n",
       "      <td>40427.936167</td>\n",
       "      <td>36925.880575</td>\n",
       "      <td>36998.841349</td>\n",
       "      <td>35816.789951</td>\n",
       "      <td>35114.718605</td>\n",
       "      <td>36665.906398</td>\n",
       "      <td>37998.083460</td>\n",
       "      <td>36840.010663</td>\n",
       "      <td>36582.867520</td>\n",
       "    </tr>\n",
       "    <tr>\n",
       "      <th>3</th>\n",
       "      <td>Industrial Processes and Product Use (IPPU)</td>\n",
       "      <td>3309.161302</td>\n",
       "      <td>3011.414161</td>\n",
       "      <td>2937.943756</td>\n",
       "      <td>2945.425939</td>\n",
       "      <td>3226.892046</td>\n",
       "      <td>3217.335968</td>\n",
       "      <td>3399.407500</td>\n",
       "      <td>3862.633033</td>\n",
       "      <td>3666.300231</td>\n",
       "      <td>...</td>\n",
       "      <td>2799.275471</td>\n",
       "      <td>2577.800938</td>\n",
       "      <td>2462.207152</td>\n",
       "      <td>2668.526906</td>\n",
       "      <td>2623.165321</td>\n",
       "      <td>3037.163857</td>\n",
       "      <td>3232.715838</td>\n",
       "      <td>3467.065406</td>\n",
       "      <td>3623.784248</td>\n",
       "      <td>3508.499499</td>\n",
       "    </tr>\n",
       "    <tr>\n",
       "      <th>4</th>\n",
       "      <td>Land-Use Change and Forestry (LULUCF)</td>\n",
       "      <td>4920.644448</td>\n",
       "      <td>4702.585461</td>\n",
       "      <td>4407.251979</td>\n",
       "      <td>4311.775854</td>\n",
       "      <td>4382.183512</td>\n",
       "      <td>5246.541813</td>\n",
       "      <td>4831.427330</td>\n",
       "      <td>4165.951539</td>\n",
       "      <td>3986.022881</td>\n",
       "      <td>...</td>\n",
       "      <td>4105.335953</td>\n",
       "      <td>5532.521482</td>\n",
       "      <td>4655.991246</td>\n",
       "      <td>4055.055770</td>\n",
       "      <td>4471.235038</td>\n",
       "      <td>3946.707931</td>\n",
       "      <td>4520.627842</td>\n",
       "      <td>3382.917102</td>\n",
       "      <td>5338.174670</td>\n",
       "      <td>4297.687550</td>\n",
       "    </tr>\n",
       "    <tr>\n",
       "      <th>5</th>\n",
       "      <td>Agriculture</td>\n",
       "      <td>19584.977871</td>\n",
       "      <td>19629.624607</td>\n",
       "      <td>19612.590146</td>\n",
       "      <td>19779.408462</td>\n",
       "      <td>19828.709414</td>\n",
       "      <td>20292.814047</td>\n",
       "      <td>20686.827962</td>\n",
       "      <td>20719.402510</td>\n",
       "      <td>21126.014045</td>\n",
       "      <td>...</td>\n",
       "      <td>17617.147595</td>\n",
       "      <td>17765.617520</td>\n",
       "      <td>17176.340133</td>\n",
       "      <td>17568.039313</td>\n",
       "      <td>18477.157855</td>\n",
       "      <td>18318.422902</td>\n",
       "      <td>18581.002320</td>\n",
       "      <td>19084.677117</td>\n",
       "      <td>19621.920730</td>\n",
       "      <td>19953.069960</td>\n",
       "    </tr>\n",
       "    <tr>\n",
       "      <th>6</th>\n",
       "      <td>Waste</td>\n",
       "      <td>1552.053618</td>\n",
       "      <td>1632.811365</td>\n",
       "      <td>1698.229923</td>\n",
       "      <td>1748.281657</td>\n",
       "      <td>1792.849334</td>\n",
       "      <td>1829.178095</td>\n",
       "      <td>1708.483032</td>\n",
       "      <td>1432.626251</td>\n",
       "      <td>1475.576544</td>\n",
       "      <td>...</td>\n",
       "      <td>521.647074</td>\n",
       "      <td>506.188875</td>\n",
       "      <td>592.431502</td>\n",
       "      <td>517.294090</td>\n",
       "      <td>672.621462</td>\n",
       "      <td>855.012744</td>\n",
       "      <td>936.300716</td>\n",
       "      <td>941.613965</td>\n",
       "      <td>919.160383</td>\n",
       "      <td>890.104042</td>\n",
       "    </tr>\n",
       "    <tr>\n",
       "      <th>7</th>\n",
       "      <td>Total</td>\n",
       "      <td>60388.940644</td>\n",
       "      <td>60849.506025</td>\n",
       "      <td>60420.615923</td>\n",
       "      <td>60728.083261</td>\n",
       "      <td>62143.006310</td>\n",
       "      <td>64410.795048</td>\n",
       "      <td>66065.580460</td>\n",
       "      <td>66731.106691</td>\n",
       "      <td>69017.507706</td>\n",
       "      <td>...</td>\n",
       "      <td>65841.766523</td>\n",
       "      <td>66810.064982</td>\n",
       "      <td>61812.850609</td>\n",
       "      <td>61807.757427</td>\n",
       "      <td>62060.969627</td>\n",
       "      <td>61272.026039</td>\n",
       "      <td>63936.553113</td>\n",
       "      <td>64874.357050</td>\n",
       "      <td>66343.050694</td>\n",
       "      <td>65232.228571</td>\n",
       "    </tr>\n",
       "  </tbody>\n",
       "</table>\n",
       "<p>8 rows × 30 columns</p>\n",
       "</div>"
      ],
      "text/plain": [
       "       Total GHG emissions by sector (kt CO₂e)    Unnamed: 2    Unnamed: 3  \\\n",
       "0                                          NaN           NaN           NaN   \n",
       "1                                         Year   1990.000000   1991.000000   \n",
       "2                                       Energy  31022.103405  31873.070431   \n",
       "3  Industrial Processes and Product Use (IPPU)   3309.161302   3011.414161   \n",
       "4        Land-Use Change and Forestry (LULUCF)   4920.644448   4702.585461   \n",
       "5                                 Agriculture   19584.977871  19629.624607   \n",
       "6                                       Waste    1552.053618   1632.811365   \n",
       "7                                       Total   60388.940644  60849.506025   \n",
       "\n",
       "     Unnamed: 4    Unnamed: 5    Unnamed: 6    Unnamed: 7    Unnamed: 8  \\\n",
       "0           NaN           NaN           NaN           NaN           NaN   \n",
       "1   1992.000000   1993.000000   1994.000000   1995.000000   1996.000000   \n",
       "2  31764.600119  31943.191349  32912.372004  33824.925125  35439.434636   \n",
       "3   2937.943756   2945.425939   3226.892046   3217.335968   3399.407500   \n",
       "4   4407.251979   4311.775854   4382.183512   5246.541813   4831.427330   \n",
       "5  19612.590146  19779.408462  19828.709414  20292.814047  20686.827962   \n",
       "6   1698.229923   1748.281657   1792.849334   1829.178095   1708.483032   \n",
       "7  60420.615923  60728.083261  62143.006310  64410.795048  66065.580460   \n",
       "\n",
       "     Unnamed: 9   Unnamed: 10  ...   Unnamed: 21   Unnamed: 22   Unnamed: 23  \\\n",
       "0           NaN           NaN  ...           NaN           NaN           NaN   \n",
       "1   1997.000000   1998.000000  ...   2009.000000   2010.000000   2011.000000   \n",
       "2  36550.493360  38763.594006  ...  40798.360429  40427.936167  36925.880575   \n",
       "3   3862.633033   3666.300231  ...   2799.275471   2577.800938   2462.207152   \n",
       "4   4165.951539   3986.022881  ...   4105.335953   5532.521482   4655.991246   \n",
       "5  20719.402510  21126.014045  ...  17617.147595  17765.617520  17176.340133   \n",
       "6   1432.626251   1475.576544  ...    521.647074    506.188875    592.431502   \n",
       "7  66731.106691  69017.507706  ...  65841.766523  66810.064982  61812.850609   \n",
       "\n",
       "    Unnamed: 24   Unnamed: 25   Unnamed: 26   Unnamed: 27   Unnamed: 28  \\\n",
       "0           NaN           NaN           NaN           NaN           NaN   \n",
       "1   2012.000000   2013.000000   2014.000000   2015.000000   2016.000000   \n",
       "2  36998.841349  35816.789951  35114.718605  36665.906398  37998.083460   \n",
       "3   2668.526906   2623.165321   3037.163857   3232.715838   3467.065406   \n",
       "4   4055.055770   4471.235038   3946.707931   4520.627842   3382.917102   \n",
       "5  17568.039313  18477.157855  18318.422902  18581.002320  19084.677117   \n",
       "6    517.294090    672.621462    855.012744    936.300716    941.613965   \n",
       "7  61807.757427  62060.969627  61272.026039  63936.553113  64874.357050   \n",
       "\n",
       "    Unnamed: 29   Unnamed: 30  \n",
       "0           NaN           NaN  \n",
       "1   2017.000000   2018.000000  \n",
       "2  36840.010663  36582.867520  \n",
       "3   3623.784248   3508.499499  \n",
       "4   5338.174670   4297.687550  \n",
       "5  19621.920730  19953.069960  \n",
       "6    919.160383    890.104042  \n",
       "7  66343.050694  65232.228571  \n",
       "\n",
       "[8 rows x 30 columns]"
      ]
     },
     "execution_count": 12,
     "metadata": {},
     "output_type": "execute_result"
    }
   ],
   "source": [
    "data_path = DATA_PATH+'Terrestrial_Domain/4.14AnthropogenicGreenhouseGasEmissions/Figure4.27/'\n",
    "xls = pd.ExcelFile(\n",
    "    data_path+'NIR_GHG_Emissions_CSRI2020.xlsx')\n",
    "df = pd.read_excel(xls, 'Figure 2.1')\n",
    "df = df.drop(columns=[\n",
    "    'Unnamed: 0', \n",
    "    'Unnamed: 31',\n",
    "    'Unnamed: 32',\n",
    "    'Unnamed: 33',\n",
    "    ])\n",
    "df.loc[1,'Total GHG emissions by sector (kt CO₂e)']='Year'\n",
    "df"
   ]
  },
  {
   "cell_type": "code",
   "execution_count": 13,
   "metadata": {},
   "outputs": [
    {
     "data": {
      "text/html": [
       "<div>\n",
       "<style scoped>\n",
       "    .dataframe tbody tr th:only-of-type {\n",
       "        vertical-align: middle;\n",
       "    }\n",
       "\n",
       "    .dataframe tbody tr th {\n",
       "        vertical-align: top;\n",
       "    }\n",
       "\n",
       "    .dataframe thead th {\n",
       "        text-align: right;\n",
       "    }\n",
       "</style>\n",
       "<table border=\"1\" class=\"dataframe\">\n",
       "  <thead>\n",
       "    <tr style=\"text-align: right;\">\n",
       "      <th>Total GHG emissions by sector (kt CO₂e)</th>\n",
       "      <th>NaN</th>\n",
       "      <th>Year</th>\n",
       "      <th>Energy</th>\n",
       "      <th>Industrial Processes and Product Use (IPPU)</th>\n",
       "      <th>Land-Use Change and Forestry (LULUCF)</th>\n",
       "      <th>Agriculture</th>\n",
       "      <th>Waste</th>\n",
       "      <th>Total</th>\n",
       "    </tr>\n",
       "  </thead>\n",
       "  <tbody>\n",
       "    <tr>\n",
       "      <th>Unnamed: 2</th>\n",
       "      <td>NaN</td>\n",
       "      <td>1990.0</td>\n",
       "      <td>31022.103405</td>\n",
       "      <td>3309.161302</td>\n",
       "      <td>4920.644448</td>\n",
       "      <td>19584.977871</td>\n",
       "      <td>1552.053618</td>\n",
       "      <td>60388.940644</td>\n",
       "    </tr>\n",
       "    <tr>\n",
       "      <th>Unnamed: 3</th>\n",
       "      <td>NaN</td>\n",
       "      <td>1991.0</td>\n",
       "      <td>31873.070431</td>\n",
       "      <td>3011.414161</td>\n",
       "      <td>4702.585461</td>\n",
       "      <td>19629.624607</td>\n",
       "      <td>1632.811365</td>\n",
       "      <td>60849.506025</td>\n",
       "    </tr>\n",
       "    <tr>\n",
       "      <th>Unnamed: 4</th>\n",
       "      <td>NaN</td>\n",
       "      <td>1992.0</td>\n",
       "      <td>31764.600119</td>\n",
       "      <td>2937.943756</td>\n",
       "      <td>4407.251979</td>\n",
       "      <td>19612.590146</td>\n",
       "      <td>1698.229923</td>\n",
       "      <td>60420.615923</td>\n",
       "    </tr>\n",
       "    <tr>\n",
       "      <th>Unnamed: 5</th>\n",
       "      <td>NaN</td>\n",
       "      <td>1993.0</td>\n",
       "      <td>31943.191349</td>\n",
       "      <td>2945.425939</td>\n",
       "      <td>4311.775854</td>\n",
       "      <td>19779.408462</td>\n",
       "      <td>1748.281657</td>\n",
       "      <td>60728.083261</td>\n",
       "    </tr>\n",
       "    <tr>\n",
       "      <th>Unnamed: 6</th>\n",
       "      <td>NaN</td>\n",
       "      <td>1994.0</td>\n",
       "      <td>32912.372004</td>\n",
       "      <td>3226.892046</td>\n",
       "      <td>4382.183512</td>\n",
       "      <td>19828.709414</td>\n",
       "      <td>1792.849334</td>\n",
       "      <td>62143.00631</td>\n",
       "    </tr>\n",
       "    <tr>\n",
       "      <th>Unnamed: 7</th>\n",
       "      <td>NaN</td>\n",
       "      <td>1995.0</td>\n",
       "      <td>33824.925125</td>\n",
       "      <td>3217.335968</td>\n",
       "      <td>5246.541813</td>\n",
       "      <td>20292.814047</td>\n",
       "      <td>1829.178095</td>\n",
       "      <td>64410.795048</td>\n",
       "    </tr>\n",
       "    <tr>\n",
       "      <th>Unnamed: 8</th>\n",
       "      <td>NaN</td>\n",
       "      <td>1996.0</td>\n",
       "      <td>35439.434636</td>\n",
       "      <td>3399.4075</td>\n",
       "      <td>4831.42733</td>\n",
       "      <td>20686.827962</td>\n",
       "      <td>1708.483032</td>\n",
       "      <td>66065.58046</td>\n",
       "    </tr>\n",
       "    <tr>\n",
       "      <th>Unnamed: 9</th>\n",
       "      <td>NaN</td>\n",
       "      <td>1997.0</td>\n",
       "      <td>36550.49336</td>\n",
       "      <td>3862.633033</td>\n",
       "      <td>4165.951539</td>\n",
       "      <td>20719.40251</td>\n",
       "      <td>1432.626251</td>\n",
       "      <td>66731.106691</td>\n",
       "    </tr>\n",
       "    <tr>\n",
       "      <th>Unnamed: 10</th>\n",
       "      <td>NaN</td>\n",
       "      <td>1998.0</td>\n",
       "      <td>38763.594006</td>\n",
       "      <td>3666.300231</td>\n",
       "      <td>3986.022881</td>\n",
       "      <td>21126.014045</td>\n",
       "      <td>1475.576544</td>\n",
       "      <td>69017.507706</td>\n",
       "    </tr>\n",
       "    <tr>\n",
       "      <th>Unnamed: 11</th>\n",
       "      <td>NaN</td>\n",
       "      <td>1999.0</td>\n",
       "      <td>40177.368956</td>\n",
       "      <td>3774.582381</td>\n",
       "      <td>4057.96701</td>\n",
       "      <td>20741.885429</td>\n",
       "      <td>1480.704695</td>\n",
       "      <td>70232.50847</td>\n",
       "    </tr>\n",
       "    <tr>\n",
       "      <th>Unnamed: 12</th>\n",
       "      <td>NaN</td>\n",
       "      <td>2000.0</td>\n",
       "      <td>42485.772395</td>\n",
       "      <td>4558.524762</td>\n",
       "      <td>5464.675008</td>\n",
       "      <td>19777.208775</td>\n",
       "      <td>1492.770365</td>\n",
       "      <td>73778.951304</td>\n",
       "    </tr>\n",
       "    <tr>\n",
       "      <th>Unnamed: 13</th>\n",
       "      <td>NaN</td>\n",
       "      <td>2001.0</td>\n",
       "      <td>44593.694258</td>\n",
       "      <td>4603.748619</td>\n",
       "      <td>5958.302675</td>\n",
       "      <td>19418.422797</td>\n",
       "      <td>1605.34892</td>\n",
       "      <td>76179.517269</td>\n",
       "    </tr>\n",
       "    <tr>\n",
       "      <th>Unnamed: 14</th>\n",
       "      <td>NaN</td>\n",
       "      <td>2002.0</td>\n",
       "      <td>43375.183258</td>\n",
       "      <td>4076.835785</td>\n",
       "      <td>6175.168014</td>\n",
       "      <td>19081.965543</td>\n",
       "      <td>1710.232557</td>\n",
       "      <td>74419.385157</td>\n",
       "    </tr>\n",
       "    <tr>\n",
       "      <th>Unnamed: 15</th>\n",
       "      <td>NaN</td>\n",
       "      <td>2003.0</td>\n",
       "      <td>44008.830609</td>\n",
       "      <td>3484.99055</td>\n",
       "      <td>6447.064109</td>\n",
       "      <td>19290.727949</td>\n",
       "      <td>1765.468198</td>\n",
       "      <td>74997.081416</td>\n",
       "    </tr>\n",
       "    <tr>\n",
       "      <th>Unnamed: 16</th>\n",
       "      <td>NaN</td>\n",
       "      <td>2004.0</td>\n",
       "      <td>43807.996909</td>\n",
       "      <td>3671.136067</td>\n",
       "      <td>5275.575782</td>\n",
       "      <td>19025.970466</td>\n",
       "      <td>1485.103588</td>\n",
       "      <td>73265.782811</td>\n",
       "    </tr>\n",
       "    <tr>\n",
       "      <th>Unnamed: 17</th>\n",
       "      <td>NaN</td>\n",
       "      <td>2005.0</td>\n",
       "      <td>45711.73495</td>\n",
       "      <td>3967.374752</td>\n",
       "      <td>5787.746926</td>\n",
       "      <td>18731.028999</td>\n",
       "      <td>1291.968388</td>\n",
       "      <td>75489.854015</td>\n",
       "    </tr>\n",
       "    <tr>\n",
       "      <th>Unnamed: 18</th>\n",
       "      <td>NaN</td>\n",
       "      <td>2006.0</td>\n",
       "      <td>45227.679835</td>\n",
       "      <td>3890.462585</td>\n",
       "      <td>5831.894438</td>\n",
       "      <td>18379.267404</td>\n",
       "      <td>1328.175752</td>\n",
       "      <td>74657.480014</td>\n",
       "    </tr>\n",
       "    <tr>\n",
       "      <th>Unnamed: 19</th>\n",
       "      <td>NaN</td>\n",
       "      <td>2007.0</td>\n",
       "      <td>45162.457241</td>\n",
       "      <td>3941.849468</td>\n",
       "      <td>5076.578699</td>\n",
       "      <td>18088.89097</td>\n",
       "      <td>848.835526</td>\n",
       "      <td>73118.611904</td>\n",
       "    </tr>\n",
       "    <tr>\n",
       "      <th>Unnamed: 20</th>\n",
       "      <td>NaN</td>\n",
       "      <td>2008.0</td>\n",
       "      <td>45270.620391</td>\n",
       "      <td>3654.498501</td>\n",
       "      <td>4585.311392</td>\n",
       "      <td>17871.713115</td>\n",
       "      <td>693.803543</td>\n",
       "      <td>72075.946941</td>\n",
       "    </tr>\n",
       "    <tr>\n",
       "      <th>Unnamed: 21</th>\n",
       "      <td>NaN</td>\n",
       "      <td>2009.0</td>\n",
       "      <td>40798.360429</td>\n",
       "      <td>2799.275471</td>\n",
       "      <td>4105.335953</td>\n",
       "      <td>17617.147595</td>\n",
       "      <td>521.647074</td>\n",
       "      <td>65841.766523</td>\n",
       "    </tr>\n",
       "    <tr>\n",
       "      <th>Unnamed: 22</th>\n",
       "      <td>NaN</td>\n",
       "      <td>2010.0</td>\n",
       "      <td>40427.936167</td>\n",
       "      <td>2577.800938</td>\n",
       "      <td>5532.521482</td>\n",
       "      <td>17765.61752</td>\n",
       "      <td>506.188875</td>\n",
       "      <td>66810.064982</td>\n",
       "    </tr>\n",
       "    <tr>\n",
       "      <th>Unnamed: 23</th>\n",
       "      <td>NaN</td>\n",
       "      <td>2011.0</td>\n",
       "      <td>36925.880575</td>\n",
       "      <td>2462.207152</td>\n",
       "      <td>4655.991246</td>\n",
       "      <td>17176.340133</td>\n",
       "      <td>592.431502</td>\n",
       "      <td>61812.850609</td>\n",
       "    </tr>\n",
       "    <tr>\n",
       "      <th>Unnamed: 24</th>\n",
       "      <td>NaN</td>\n",
       "      <td>2012.0</td>\n",
       "      <td>36998.841349</td>\n",
       "      <td>2668.526906</td>\n",
       "      <td>4055.05577</td>\n",
       "      <td>17568.039313</td>\n",
       "      <td>517.29409</td>\n",
       "      <td>61807.757427</td>\n",
       "    </tr>\n",
       "    <tr>\n",
       "      <th>Unnamed: 25</th>\n",
       "      <td>NaN</td>\n",
       "      <td>2013.0</td>\n",
       "      <td>35816.789951</td>\n",
       "      <td>2623.165321</td>\n",
       "      <td>4471.235038</td>\n",
       "      <td>18477.157855</td>\n",
       "      <td>672.621462</td>\n",
       "      <td>62060.969627</td>\n",
       "    </tr>\n",
       "    <tr>\n",
       "      <th>Unnamed: 26</th>\n",
       "      <td>NaN</td>\n",
       "      <td>2014.0</td>\n",
       "      <td>35114.718605</td>\n",
       "      <td>3037.163857</td>\n",
       "      <td>3946.707931</td>\n",
       "      <td>18318.422902</td>\n",
       "      <td>855.012744</td>\n",
       "      <td>61272.026039</td>\n",
       "    </tr>\n",
       "    <tr>\n",
       "      <th>Unnamed: 27</th>\n",
       "      <td>NaN</td>\n",
       "      <td>2015.0</td>\n",
       "      <td>36665.906398</td>\n",
       "      <td>3232.715838</td>\n",
       "      <td>4520.627842</td>\n",
       "      <td>18581.00232</td>\n",
       "      <td>936.300716</td>\n",
       "      <td>63936.553113</td>\n",
       "    </tr>\n",
       "    <tr>\n",
       "      <th>Unnamed: 28</th>\n",
       "      <td>NaN</td>\n",
       "      <td>2016.0</td>\n",
       "      <td>37998.08346</td>\n",
       "      <td>3467.065406</td>\n",
       "      <td>3382.917102</td>\n",
       "      <td>19084.677117</td>\n",
       "      <td>941.613965</td>\n",
       "      <td>64874.35705</td>\n",
       "    </tr>\n",
       "    <tr>\n",
       "      <th>Unnamed: 29</th>\n",
       "      <td>NaN</td>\n",
       "      <td>2017.0</td>\n",
       "      <td>36840.010663</td>\n",
       "      <td>3623.784248</td>\n",
       "      <td>5338.17467</td>\n",
       "      <td>19621.92073</td>\n",
       "      <td>919.160383</td>\n",
       "      <td>66343.050694</td>\n",
       "    </tr>\n",
       "    <tr>\n",
       "      <th>Unnamed: 30</th>\n",
       "      <td>NaN</td>\n",
       "      <td>2018.0</td>\n",
       "      <td>36582.86752</td>\n",
       "      <td>3508.499499</td>\n",
       "      <td>4297.68755</td>\n",
       "      <td>19953.06996</td>\n",
       "      <td>890.104042</td>\n",
       "      <td>65232.228571</td>\n",
       "    </tr>\n",
       "  </tbody>\n",
       "</table>\n",
       "</div>"
      ],
      "text/plain": [
       "Total GHG emissions by sector (kt CO₂e)  NaN    Year        Energy  \\\n",
       "Unnamed: 2                               NaN  1990.0  31022.103405   \n",
       "Unnamed: 3                               NaN  1991.0  31873.070431   \n",
       "Unnamed: 4                               NaN  1992.0  31764.600119   \n",
       "Unnamed: 5                               NaN  1993.0  31943.191349   \n",
       "Unnamed: 6                               NaN  1994.0  32912.372004   \n",
       "Unnamed: 7                               NaN  1995.0  33824.925125   \n",
       "Unnamed: 8                               NaN  1996.0  35439.434636   \n",
       "Unnamed: 9                               NaN  1997.0   36550.49336   \n",
       "Unnamed: 10                              NaN  1998.0  38763.594006   \n",
       "Unnamed: 11                              NaN  1999.0  40177.368956   \n",
       "Unnamed: 12                              NaN  2000.0  42485.772395   \n",
       "Unnamed: 13                              NaN  2001.0  44593.694258   \n",
       "Unnamed: 14                              NaN  2002.0  43375.183258   \n",
       "Unnamed: 15                              NaN  2003.0  44008.830609   \n",
       "Unnamed: 16                              NaN  2004.0  43807.996909   \n",
       "Unnamed: 17                              NaN  2005.0   45711.73495   \n",
       "Unnamed: 18                              NaN  2006.0  45227.679835   \n",
       "Unnamed: 19                              NaN  2007.0  45162.457241   \n",
       "Unnamed: 20                              NaN  2008.0  45270.620391   \n",
       "Unnamed: 21                              NaN  2009.0  40798.360429   \n",
       "Unnamed: 22                              NaN  2010.0  40427.936167   \n",
       "Unnamed: 23                              NaN  2011.0  36925.880575   \n",
       "Unnamed: 24                              NaN  2012.0  36998.841349   \n",
       "Unnamed: 25                              NaN  2013.0  35816.789951   \n",
       "Unnamed: 26                              NaN  2014.0  35114.718605   \n",
       "Unnamed: 27                              NaN  2015.0  36665.906398   \n",
       "Unnamed: 28                              NaN  2016.0   37998.08346   \n",
       "Unnamed: 29                              NaN  2017.0  36840.010663   \n",
       "Unnamed: 30                              NaN  2018.0   36582.86752   \n",
       "\n",
       "Total GHG emissions by sector (kt CO₂e) Industrial Processes and Product Use (IPPU)  \\\n",
       "Unnamed: 2                                                              3309.161302   \n",
       "Unnamed: 3                                                              3011.414161   \n",
       "Unnamed: 4                                                              2937.943756   \n",
       "Unnamed: 5                                                              2945.425939   \n",
       "Unnamed: 6                                                              3226.892046   \n",
       "Unnamed: 7                                                              3217.335968   \n",
       "Unnamed: 8                                                                3399.4075   \n",
       "Unnamed: 9                                                              3862.633033   \n",
       "Unnamed: 10                                                             3666.300231   \n",
       "Unnamed: 11                                                             3774.582381   \n",
       "Unnamed: 12                                                             4558.524762   \n",
       "Unnamed: 13                                                             4603.748619   \n",
       "Unnamed: 14                                                             4076.835785   \n",
       "Unnamed: 15                                                              3484.99055   \n",
       "Unnamed: 16                                                             3671.136067   \n",
       "Unnamed: 17                                                             3967.374752   \n",
       "Unnamed: 18                                                             3890.462585   \n",
       "Unnamed: 19                                                             3941.849468   \n",
       "Unnamed: 20                                                             3654.498501   \n",
       "Unnamed: 21                                                             2799.275471   \n",
       "Unnamed: 22                                                             2577.800938   \n",
       "Unnamed: 23                                                             2462.207152   \n",
       "Unnamed: 24                                                             2668.526906   \n",
       "Unnamed: 25                                                             2623.165321   \n",
       "Unnamed: 26                                                             3037.163857   \n",
       "Unnamed: 27                                                             3232.715838   \n",
       "Unnamed: 28                                                             3467.065406   \n",
       "Unnamed: 29                                                             3623.784248   \n",
       "Unnamed: 30                                                             3508.499499   \n",
       "\n",
       "Total GHG emissions by sector (kt CO₂e) Land-Use Change and Forestry (LULUCF)  \\\n",
       "Unnamed: 2                                                        4920.644448   \n",
       "Unnamed: 3                                                        4702.585461   \n",
       "Unnamed: 4                                                        4407.251979   \n",
       "Unnamed: 5                                                        4311.775854   \n",
       "Unnamed: 6                                                        4382.183512   \n",
       "Unnamed: 7                                                        5246.541813   \n",
       "Unnamed: 8                                                         4831.42733   \n",
       "Unnamed: 9                                                        4165.951539   \n",
       "Unnamed: 10                                                       3986.022881   \n",
       "Unnamed: 11                                                        4057.96701   \n",
       "Unnamed: 12                                                       5464.675008   \n",
       "Unnamed: 13                                                       5958.302675   \n",
       "Unnamed: 14                                                       6175.168014   \n",
       "Unnamed: 15                                                       6447.064109   \n",
       "Unnamed: 16                                                       5275.575782   \n",
       "Unnamed: 17                                                       5787.746926   \n",
       "Unnamed: 18                                                       5831.894438   \n",
       "Unnamed: 19                                                       5076.578699   \n",
       "Unnamed: 20                                                       4585.311392   \n",
       "Unnamed: 21                                                       4105.335953   \n",
       "Unnamed: 22                                                       5532.521482   \n",
       "Unnamed: 23                                                       4655.991246   \n",
       "Unnamed: 24                                                        4055.05577   \n",
       "Unnamed: 25                                                       4471.235038   \n",
       "Unnamed: 26                                                       3946.707931   \n",
       "Unnamed: 27                                                       4520.627842   \n",
       "Unnamed: 28                                                       3382.917102   \n",
       "Unnamed: 29                                                        5338.17467   \n",
       "Unnamed: 30                                                        4297.68755   \n",
       "\n",
       "Total GHG emissions by sector (kt CO₂e)  Agriculture        Waste   \\\n",
       "Unnamed: 2                               19584.977871  1552.053618   \n",
       "Unnamed: 3                               19629.624607  1632.811365   \n",
       "Unnamed: 4                               19612.590146  1698.229923   \n",
       "Unnamed: 5                               19779.408462  1748.281657   \n",
       "Unnamed: 6                               19828.709414  1792.849334   \n",
       "Unnamed: 7                               20292.814047  1829.178095   \n",
       "Unnamed: 8                               20686.827962  1708.483032   \n",
       "Unnamed: 9                                20719.40251  1432.626251   \n",
       "Unnamed: 10                              21126.014045  1475.576544   \n",
       "Unnamed: 11                              20741.885429  1480.704695   \n",
       "Unnamed: 12                              19777.208775  1492.770365   \n",
       "Unnamed: 13                              19418.422797   1605.34892   \n",
       "Unnamed: 14                              19081.965543  1710.232557   \n",
       "Unnamed: 15                              19290.727949  1765.468198   \n",
       "Unnamed: 16                              19025.970466  1485.103588   \n",
       "Unnamed: 17                              18731.028999  1291.968388   \n",
       "Unnamed: 18                              18379.267404  1328.175752   \n",
       "Unnamed: 19                               18088.89097   848.835526   \n",
       "Unnamed: 20                              17871.713115   693.803543   \n",
       "Unnamed: 21                              17617.147595   521.647074   \n",
       "Unnamed: 22                               17765.61752   506.188875   \n",
       "Unnamed: 23                              17176.340133   592.431502   \n",
       "Unnamed: 24                              17568.039313    517.29409   \n",
       "Unnamed: 25                              18477.157855   672.621462   \n",
       "Unnamed: 26                              18318.422902   855.012744   \n",
       "Unnamed: 27                               18581.00232   936.300716   \n",
       "Unnamed: 28                              19084.677117   941.613965   \n",
       "Unnamed: 29                               19621.92073   919.160383   \n",
       "Unnamed: 30                               19953.06996   890.104042   \n",
       "\n",
       "Total GHG emissions by sector (kt CO₂e)        Total   \n",
       "Unnamed: 2                               60388.940644  \n",
       "Unnamed: 3                               60849.506025  \n",
       "Unnamed: 4                               60420.615923  \n",
       "Unnamed: 5                               60728.083261  \n",
       "Unnamed: 6                                62143.00631  \n",
       "Unnamed: 7                               64410.795048  \n",
       "Unnamed: 8                                66065.58046  \n",
       "Unnamed: 9                               66731.106691  \n",
       "Unnamed: 10                              69017.507706  \n",
       "Unnamed: 11                               70232.50847  \n",
       "Unnamed: 12                              73778.951304  \n",
       "Unnamed: 13                              76179.517269  \n",
       "Unnamed: 14                              74419.385157  \n",
       "Unnamed: 15                              74997.081416  \n",
       "Unnamed: 16                              73265.782811  \n",
       "Unnamed: 17                              75489.854015  \n",
       "Unnamed: 18                              74657.480014  \n",
       "Unnamed: 19                              73118.611904  \n",
       "Unnamed: 20                              72075.946941  \n",
       "Unnamed: 21                              65841.766523  \n",
       "Unnamed: 22                              66810.064982  \n",
       "Unnamed: 23                              61812.850609  \n",
       "Unnamed: 24                              61807.757427  \n",
       "Unnamed: 25                              62060.969627  \n",
       "Unnamed: 26                              61272.026039  \n",
       "Unnamed: 27                              63936.553113  \n",
       "Unnamed: 28                               64874.35705  \n",
       "Unnamed: 29                              66343.050694  \n",
       "Unnamed: 30                              65232.228571  "
      ]
     },
     "execution_count": 13,
     "metadata": {},
     "output_type": "execute_result"
    }
   ],
   "source": [
    "df1=df.T\n",
    "new_header = df1.iloc[0]#grab the first row for the header\n",
    "df1 = df1[1:] #take the data less the header row\n",
    "df1.columns = new_header #set the header row as the df header\n",
    "df1"
   ]
  },
  {
   "cell_type": "code",
   "execution_count": 12,
   "metadata": {},
   "outputs": [],
   "source": [
    "data_path = DATA_PATH+'Terrestrial_Domain/4.14AnthropogenicGreenhouseGasEmissions/Figure4.27/'\n",
    "df = pd.read_csv(data_path + 'NIR_GHG_Emissions_CSRI2020_forOnline.csv')"
   ]
  },
  {
   "cell_type": "code",
   "execution_count": 13,
   "metadata": {},
   "outputs": [],
   "source": [
    "energyTrace=go.Bar(\n",
    "    name=\"Energy\",\n",
    "    x=df.Year,\n",
    "    y=df[\"Energy\"]/1000,\n",
    "        text=df['Energy']*100/df['Total'],\n",
    "    marker_color=\"#5182bb\",\n",
    "    hovertemplate='<b>Energy</b><br>' +\n",
    "    '%{x}<br>' +\n",
    "    '%{y}kTCO₂eq<br>' +\n",
    "    '%{text:.2f} %</sub><extra></extra>'\n",
    "                            )\n",
    "\n",
    "agricultureTrace=go.Bar(\n",
    "    name=\"Agriculture\",\n",
    "    x=df.Year,\n",
    "    y=df[\"Agriculture\"]/1000,\n",
    "        text=df['Agriculture']*100/df['Total'],\n",
    "    marker_color=\"#fdbf2d\",\n",
    "    hovertemplate='<b>Agriculture</b><br>' +\n",
    "    '%{x}<br>' +\n",
    "    '%{y}kTCO₂eq<br>' +\n",
    "    '%{text:.2f} %</sub><extra></extra>'\n",
    "                            )\n",
    "\n",
    "landuseTrace=go.Bar(\n",
    "    name=\"Land-Use Change and Forestry (LULUCF)\",\n",
    "    x=df.Year,\n",
    "    y=df[\"Land-Use Change and Forestry (LULUCF)\"]/1000,\n",
    "        text=df[\"Land-Use Change and Forestry (LULUCF)\"]*100/df['Total'],\n",
    "    marker_color=\"#3dca3f\",\n",
    "    hovertemplate='<b>Land-Use Change and Forestry)</b><br>' +\n",
    "    '%{x}<br>' +\n",
    "    '%{y}kTCO₂eq<br>' +\n",
    "    '%{text:.2f} %</sub><extra></extra>'\n",
    "                            )\n",
    "industryTrace=go.Bar(\n",
    "    name=\"Industrial Processes and Product Use (IPPU)\",\n",
    "    x=df.Year,\n",
    "    y=df[\"Industrial Processes and Product Use (IPPU)\"]/1000,\n",
    "    text=df[\"Industrial Processes and Product Use (IPPU)\"]*100/df['Total'],\n",
    "    marker_color=\"#fc0d1b\",\n",
    "    hovertemplate='<b>Industrial Processes and Product Use (IPPU)</b><br>' +\n",
    "    '%{x}<br>' +\n",
    "    '%{y}kTCO₂eq<br>' +\n",
    "    '%{text:.2f} %</sub><extra></extra>'\n",
    "                            )\n",
    "\n",
    "wasteTrace=go.Bar(\n",
    "    name=\"Waste\",\n",
    "    x=df.Year,\n",
    "    y=df['Waste']/1000,\n",
    "    text=df['Waste']*100/df['Total'],\n",
    "    marker_color=\"#262626\",\n",
    "    hovertemplate='<b>Agriculture</b><br>' +\n",
    "    '%{x}<br>' +\n",
    "    '%{y}kTCO₂eq<br>' +\n",
    "    '%{text:.2f} %</sub><extra></extra>'\n",
    "                            )\n"
   ]
  },
  {
   "cell_type": "code",
   "execution_count": 14,
   "metadata": {},
   "outputs": [
    {
     "data": {
      "application/vnd.plotly.v1+json": {
       "config": {
        "plotlyServerURL": "https://plot.ly"
       },
       "data": [
        {
         "hovertemplate": "<b>Energy</b><br>%{x}<br>%{y}kTCO₂eq<br>%{text:.2f} %</sub><extra></extra>",
         "marker": {
          "color": "#5182bb"
         },
         "name": "Energy",
         "text": [
          51.370504402343826,
          52.38016297829263,
          52.572453352772776,
          52.6003615382344,
          52.96231057090615,
          52.514372945936806,
          53.64281126911028,
          54.77279663560155,
          56.164870764209745,
          57.206228049168814,
          57.58522132856611,
          58.537643526866106,
          58.28479120963486,
          58.680724338512526,
          59.793255773445004,
          60.553481714098034,
          60.580239024866586,
          61.766021080605334,
          62.80960890834465,
          61.964255496709896,
          60.511745022403964,
          59.738193944458175,
          59.86116126588611,
          57.712262898139315,
          57.30954381543739,
          57.3473304651221,
          58.571807394891174,
          55.52956982961436,
          56.08097151049089
         ],
         "type": "bar",
         "x": [
          1990,
          1991,
          1992,
          1993,
          1994,
          1995,
          1996,
          1997,
          1998,
          1999,
          2000,
          2001,
          2002,
          2003,
          2004,
          2005,
          2006,
          2007,
          2008,
          2009,
          2010,
          2011,
          2012,
          2013,
          2014,
          2015,
          2016,
          2017,
          2018
         ],
         "y": [
          31.02210341,
          31.87307043,
          31.76460012,
          31.94319135,
          32.912372000000005,
          33.824925130000004,
          35.43943464,
          36.55049336,
          38.76359401,
          40.17736896,
          42.4857724,
          44.59369426,
          43.37518326,
          44.00883061,
          43.80799691,
          45.71173495,
          45.22767984,
          45.16245724,
          45.27062039,
          40.79836043,
          40.42793617,
          36.92588058,
          36.99884135,
          35.81678995,
          35.114718610000004,
          36.6659064,
          37.998083460000004,
          36.84001066,
          36.58286752
         ]
        },
        {
         "hovertemplate": "<b>Agriculture</b><br>%{x}<br>%{y}kTCO₂eq<br>%{text:.2f} %</sub><extra></extra>",
         "marker": {
          "color": "#fdbf2d"
         },
         "name": "Agriculture",
         "text": [
          32.43139830313142,
          32.259299854171715,
          32.4600963617585,
          32.570447473727825,
          31.90819142396267,
          31.505299747111255,
          31.31256520560661,
          31.049091702093573,
          30.609644930628285,
          29.533169015114915,
          26.806031302318065,
          25.490346350156127,
          25.64112226804105,
          25.721971555089883,
          25.96842583302496,
          24.812644352229732,
          24.618119172436824,
          24.739106090716145,
          24.79566884480533,
          26.756796682617317,
          26.591229218708655,
          27.787652503476735,
          28.423680198875648,
          29.772589713242606,
          29.896878043564694,
          29.061626591024087,
          29.41790560681942,
          29.57645228237544,
          30.58774841424983
         ],
         "type": "bar",
         "x": [
          1990,
          1991,
          1992,
          1993,
          1994,
          1995,
          1996,
          1997,
          1998,
          1999,
          2000,
          2001,
          2002,
          2003,
          2004,
          2005,
          2006,
          2007,
          2008,
          2009,
          2010,
          2011,
          2012,
          2013,
          2014,
          2015,
          2016,
          2017,
          2018
         ],
         "y": [
          19.58497787,
          19.62962461,
          19.61259015,
          19.77940846,
          19.82870941,
          20.29281405,
          20.68682796,
          20.71940251,
          21.126014050000002,
          20.74188543,
          19.777208780000002,
          19.418422800000002,
          19.081965540000002,
          19.29072795,
          19.02597047,
          18.731029,
          18.3792674,
          18.08889097,
          17.87171312,
          17.6171476,
          17.76561752,
          17.17634013,
          17.56803931,
          18.47715786,
          18.3184229,
          18.58100232,
          19.084677120000002,
          19.621920730000003,
          19.95306996
         ]
        },
        {
         "hovertemplate": "<b>Land-Use Change and Forestry)</b><br>%{x}<br>%{y}kTCO₂eq<br>%{text:.2f} %</sub><extra></extra>",
         "marker": {
          "color": "#3dca3f"
         },
         "name": "Land-Use Change and Forestry (LULUCF)",
         "text": [
          8.148254292675402,
          7.728222902387298,
          7.294285091094451,
          7.1001349335193895,
          7.051772632530047,
          8.145438678294965,
          7.313077848343786,
          6.242892926012703,
          5.775379339614232,
          5.777904133572805,
          7.406821202675458,
          7.821397258113657,
          8.297794990812578,
          8.59642000319324,
          7.2005997611206025,
          7.66692027840803,
          7.811534004655456,
          6.942936370213013,
          6.361777523113316,
          6.235154629019513,
          8.2809700658968,
          7.5324001401850245,
          6.560755378631119,
          7.204584563626645,
          6.4412884411941675,
          7.070490387904491,
          5.21456744363989,
          8.046320774339417,
          6.588288709756708
         ],
         "type": "bar",
         "x": [
          1990,
          1991,
          1992,
          1993,
          1994,
          1995,
          1996,
          1997,
          1998,
          1999,
          2000,
          2001,
          2002,
          2003,
          2004,
          2005,
          2006,
          2007,
          2008,
          2009,
          2010,
          2011,
          2012,
          2013,
          2014,
          2015,
          2016,
          2017,
          2018
         ],
         "y": [
          4.920644448,
          4.702585461,
          4.407251979,
          4.311775854,
          4.382183511999999,
          5.246541812999999,
          4.83142733,
          4.165951539,
          3.986022881,
          4.05796701,
          5.464675008,
          5.958302675,
          6.175168014,
          6.447064109,
          5.275575782,
          5.787746926,
          5.831894438,
          5.076578699,
          4.5853113919999995,
          4.105335953,
          5.532521482,
          4.655991245999999,
          4.05505577,
          4.471235038,
          3.9467079309999997,
          4.520627842,
          3.382917102,
          5.33817467,
          4.29768755
         ]
        },
        {
         "hovertemplate": "<b>Industrial Processes and Product Use (IPPU)</b><br>%{x}<br>%{y}kTCO₂eq<br>%{text:.2f} %</sub><extra></extra>",
         "marker": {
          "color": "#fc0d1b"
         },
         "name": "Industrial Processes and Product Use (IPPU)",
         "text": [
          5.479747230088188,
          4.948954161625099,
          4.862485612344616,
          4.8501875588424435,
          5.192687379658894,
          4.995026013112378,
          5.145504627872303,
          5.788354523991186,
          5.312130722548225,
          5.374409177784562,
          6.178625043698608,
          6.043289303978022,
          5.478190630351077,
          4.646834895458523,
          5.010710219967688,
          5.255507251277634,
          5.211082110565334,
          5.391034328429312,
          5.0703440692110595,
          4.251519391038355,
          3.8584020817397504,
          3.9833256801809225,
          4.31746275380113,
          4.226755296668735,
          4.956852340768459,
          5.056130930984434,
          5.344277097540807,
          5.462191156889652,
          5.3784756031063194
         ],
         "type": "bar",
         "x": [
          1990,
          1991,
          1992,
          1993,
          1994,
          1995,
          1996,
          1997,
          1998,
          1999,
          2000,
          2001,
          2002,
          2003,
          2004,
          2005,
          2006,
          2007,
          2008,
          2009,
          2010,
          2011,
          2012,
          2013,
          2014,
          2015,
          2016,
          2017,
          2018
         ],
         "y": [
          3.309161302,
          3.0114141610000003,
          2.937943756,
          2.945425939,
          3.226892046,
          3.217335968,
          3.3994074999999997,
          3.8626330330000003,
          3.666300231,
          3.774582381,
          4.558524762,
          4.603748619,
          4.076835785,
          3.48499055,
          3.671136067,
          3.967374752,
          3.8904625850000003,
          3.941849468,
          3.654498501,
          2.799275471,
          2.5778009379999998,
          2.462207152,
          2.668526906,
          2.623165321,
          3.037163857,
          3.2327158380000003,
          3.467065406,
          3.6237842479999998,
          3.508499499
         ]
        },
        {
         "hovertemplate": "<b>Agriculture</b><br>%{x}<br>%{y}kTCO₂eq<br>%{text:.2f} %</sub><extra></extra>",
         "marker": {
          "color": "#262626"
         },
         "name": "Waste",
         "text": [
          2.5700957850086237,
          2.6833600985930635,
          2.8106795952701704,
          2.8788684956759494,
          2.8850379800687183,
          2.8398626248598062,
          2.5860410520943153,
          2.146864216796642,
          2.1379742516929547,
          2.1082896329019585,
          2.023301143072767,
          2.107323566136848,
          2.298100895785471,
          2.3540492037456673,
          2.027008421996003,
          1.7114463986878432,
          1.779025694173039,
          1.160902134139119,
          0.9626006628502023,
          0.7922738127652532,
          0.7576536187347381,
          0.9584277316991384,
          0.8369403963343247,
          1.0838075299340113,
          1.3954373622994367,
          1.46442163434919,
          1.451442461733037,
          1.385465958288449,
          1.364515763929235
         ],
         "type": "bar",
         "x": [
          1990,
          1991,
          1992,
          1993,
          1994,
          1995,
          1996,
          1997,
          1998,
          1999,
          2000,
          2001,
          2002,
          2003,
          2004,
          2005,
          2006,
          2007,
          2008,
          2009,
          2010,
          2011,
          2012,
          2013,
          2014,
          2015,
          2016,
          2017,
          2018
         ],
         "y": [
          1.552053618,
          1.632811365,
          1.6982299230000002,
          1.748281657,
          1.792849334,
          1.829178095,
          1.7084830320000002,
          1.4326262509999999,
          1.475576544,
          1.4807046949999998,
          1.4927703650000002,
          1.60534892,
          1.710232557,
          1.765468198,
          1.4851035879999999,
          1.291968388,
          1.3281757520000002,
          0.848835526,
          0.693803543,
          0.521647074,
          0.506188875,
          0.592431502,
          0.5172940899999999,
          0.672621462,
          0.855012744,
          0.936300716,
          0.941613965,
          0.919160383,
          0.890104042
         ]
        }
       ],
       "layout": {
        "barmode": "stack",
        "font": {
         "color": "#7f7f7f"
        },
        "height": 450,
        "hovermode": "closest",
        "legend": {
         "bgcolor": "rgba(0,0,0,0)",
         "itemclick": false,
         "itemdoubleclick": false,
         "orientation": "h"
        },
        "margin": {
         "b": 0,
         "l": 0,
         "r": 0,
         "t": 0
        },
        "paper_bgcolor": "rgba(0,0,0,0)",
        "plot_bgcolor": "#f7fbfd",
        "template": {
         "data": {
          "bar": [
           {
            "error_x": {
             "color": "#2a3f5f"
            },
            "error_y": {
             "color": "#2a3f5f"
            },
            "marker": {
             "line": {
              "color": "#E5ECF6",
              "width": 0.5
             }
            },
            "type": "bar"
           }
          ],
          "barpolar": [
           {
            "marker": {
             "line": {
              "color": "#E5ECF6",
              "width": 0.5
             }
            },
            "type": "barpolar"
           }
          ],
          "carpet": [
           {
            "aaxis": {
             "endlinecolor": "#2a3f5f",
             "gridcolor": "white",
             "linecolor": "white",
             "minorgridcolor": "white",
             "startlinecolor": "#2a3f5f"
            },
            "baxis": {
             "endlinecolor": "#2a3f5f",
             "gridcolor": "white",
             "linecolor": "white",
             "minorgridcolor": "white",
             "startlinecolor": "#2a3f5f"
            },
            "type": "carpet"
           }
          ],
          "choropleth": [
           {
            "colorbar": {
             "outlinewidth": 0,
             "ticks": ""
            },
            "type": "choropleth"
           }
          ],
          "contour": [
           {
            "colorbar": {
             "outlinewidth": 0,
             "ticks": ""
            },
            "colorscale": [
             [
              0,
              "#0d0887"
             ],
             [
              0.1111111111111111,
              "#46039f"
             ],
             [
              0.2222222222222222,
              "#7201a8"
             ],
             [
              0.3333333333333333,
              "#9c179e"
             ],
             [
              0.4444444444444444,
              "#bd3786"
             ],
             [
              0.5555555555555556,
              "#d8576b"
             ],
             [
              0.6666666666666666,
              "#ed7953"
             ],
             [
              0.7777777777777778,
              "#fb9f3a"
             ],
             [
              0.8888888888888888,
              "#fdca26"
             ],
             [
              1,
              "#f0f921"
             ]
            ],
            "type": "contour"
           }
          ],
          "contourcarpet": [
           {
            "colorbar": {
             "outlinewidth": 0,
             "ticks": ""
            },
            "type": "contourcarpet"
           }
          ],
          "heatmap": [
           {
            "colorbar": {
             "outlinewidth": 0,
             "ticks": ""
            },
            "colorscale": [
             [
              0,
              "#0d0887"
             ],
             [
              0.1111111111111111,
              "#46039f"
             ],
             [
              0.2222222222222222,
              "#7201a8"
             ],
             [
              0.3333333333333333,
              "#9c179e"
             ],
             [
              0.4444444444444444,
              "#bd3786"
             ],
             [
              0.5555555555555556,
              "#d8576b"
             ],
             [
              0.6666666666666666,
              "#ed7953"
             ],
             [
              0.7777777777777778,
              "#fb9f3a"
             ],
             [
              0.8888888888888888,
              "#fdca26"
             ],
             [
              1,
              "#f0f921"
             ]
            ],
            "type": "heatmap"
           }
          ],
          "heatmapgl": [
           {
            "colorbar": {
             "outlinewidth": 0,
             "ticks": ""
            },
            "colorscale": [
             [
              0,
              "#0d0887"
             ],
             [
              0.1111111111111111,
              "#46039f"
             ],
             [
              0.2222222222222222,
              "#7201a8"
             ],
             [
              0.3333333333333333,
              "#9c179e"
             ],
             [
              0.4444444444444444,
              "#bd3786"
             ],
             [
              0.5555555555555556,
              "#d8576b"
             ],
             [
              0.6666666666666666,
              "#ed7953"
             ],
             [
              0.7777777777777778,
              "#fb9f3a"
             ],
             [
              0.8888888888888888,
              "#fdca26"
             ],
             [
              1,
              "#f0f921"
             ]
            ],
            "type": "heatmapgl"
           }
          ],
          "histogram": [
           {
            "marker": {
             "colorbar": {
              "outlinewidth": 0,
              "ticks": ""
             }
            },
            "type": "histogram"
           }
          ],
          "histogram2d": [
           {
            "colorbar": {
             "outlinewidth": 0,
             "ticks": ""
            },
            "colorscale": [
             [
              0,
              "#0d0887"
             ],
             [
              0.1111111111111111,
              "#46039f"
             ],
             [
              0.2222222222222222,
              "#7201a8"
             ],
             [
              0.3333333333333333,
              "#9c179e"
             ],
             [
              0.4444444444444444,
              "#bd3786"
             ],
             [
              0.5555555555555556,
              "#d8576b"
             ],
             [
              0.6666666666666666,
              "#ed7953"
             ],
             [
              0.7777777777777778,
              "#fb9f3a"
             ],
             [
              0.8888888888888888,
              "#fdca26"
             ],
             [
              1,
              "#f0f921"
             ]
            ],
            "type": "histogram2d"
           }
          ],
          "histogram2dcontour": [
           {
            "colorbar": {
             "outlinewidth": 0,
             "ticks": ""
            },
            "colorscale": [
             [
              0,
              "#0d0887"
             ],
             [
              0.1111111111111111,
              "#46039f"
             ],
             [
              0.2222222222222222,
              "#7201a8"
             ],
             [
              0.3333333333333333,
              "#9c179e"
             ],
             [
              0.4444444444444444,
              "#bd3786"
             ],
             [
              0.5555555555555556,
              "#d8576b"
             ],
             [
              0.6666666666666666,
              "#ed7953"
             ],
             [
              0.7777777777777778,
              "#fb9f3a"
             ],
             [
              0.8888888888888888,
              "#fdca26"
             ],
             [
              1,
              "#f0f921"
             ]
            ],
            "type": "histogram2dcontour"
           }
          ],
          "mesh3d": [
           {
            "colorbar": {
             "outlinewidth": 0,
             "ticks": ""
            },
            "type": "mesh3d"
           }
          ],
          "parcoords": [
           {
            "line": {
             "colorbar": {
              "outlinewidth": 0,
              "ticks": ""
             }
            },
            "type": "parcoords"
           }
          ],
          "pie": [
           {
            "automargin": true,
            "type": "pie"
           }
          ],
          "scatter": [
           {
            "marker": {
             "colorbar": {
              "outlinewidth": 0,
              "ticks": ""
             }
            },
            "type": "scatter"
           }
          ],
          "scatter3d": [
           {
            "line": {
             "colorbar": {
              "outlinewidth": 0,
              "ticks": ""
             }
            },
            "marker": {
             "colorbar": {
              "outlinewidth": 0,
              "ticks": ""
             }
            },
            "type": "scatter3d"
           }
          ],
          "scattercarpet": [
           {
            "marker": {
             "colorbar": {
              "outlinewidth": 0,
              "ticks": ""
             }
            },
            "type": "scattercarpet"
           }
          ],
          "scattergeo": [
           {
            "marker": {
             "colorbar": {
              "outlinewidth": 0,
              "ticks": ""
             }
            },
            "type": "scattergeo"
           }
          ],
          "scattergl": [
           {
            "marker": {
             "colorbar": {
              "outlinewidth": 0,
              "ticks": ""
             }
            },
            "type": "scattergl"
           }
          ],
          "scattermapbox": [
           {
            "marker": {
             "colorbar": {
              "outlinewidth": 0,
              "ticks": ""
             }
            },
            "type": "scattermapbox"
           }
          ],
          "scatterpolar": [
           {
            "marker": {
             "colorbar": {
              "outlinewidth": 0,
              "ticks": ""
             }
            },
            "type": "scatterpolar"
           }
          ],
          "scatterpolargl": [
           {
            "marker": {
             "colorbar": {
              "outlinewidth": 0,
              "ticks": ""
             }
            },
            "type": "scatterpolargl"
           }
          ],
          "scatterternary": [
           {
            "marker": {
             "colorbar": {
              "outlinewidth": 0,
              "ticks": ""
             }
            },
            "type": "scatterternary"
           }
          ],
          "surface": [
           {
            "colorbar": {
             "outlinewidth": 0,
             "ticks": ""
            },
            "colorscale": [
             [
              0,
              "#0d0887"
             ],
             [
              0.1111111111111111,
              "#46039f"
             ],
             [
              0.2222222222222222,
              "#7201a8"
             ],
             [
              0.3333333333333333,
              "#9c179e"
             ],
             [
              0.4444444444444444,
              "#bd3786"
             ],
             [
              0.5555555555555556,
              "#d8576b"
             ],
             [
              0.6666666666666666,
              "#ed7953"
             ],
             [
              0.7777777777777778,
              "#fb9f3a"
             ],
             [
              0.8888888888888888,
              "#fdca26"
             ],
             [
              1,
              "#f0f921"
             ]
            ],
            "type": "surface"
           }
          ],
          "table": [
           {
            "cells": {
             "fill": {
              "color": "#EBF0F8"
             },
             "line": {
              "color": "white"
             }
            },
            "header": {
             "fill": {
              "color": "#C8D4E3"
             },
             "line": {
              "color": "white"
             }
            },
            "type": "table"
           }
          ]
         },
         "layout": {
          "annotationdefaults": {
           "arrowcolor": "#2a3f5f",
           "arrowhead": 0,
           "arrowwidth": 1
          },
          "autotypenumbers": "strict",
          "coloraxis": {
           "colorbar": {
            "outlinewidth": 0,
            "ticks": ""
           }
          },
          "colorscale": {
           "diverging": [
            [
             0,
             "#8e0152"
            ],
            [
             0.1,
             "#c51b7d"
            ],
            [
             0.2,
             "#de77ae"
            ],
            [
             0.3,
             "#f1b6da"
            ],
            [
             0.4,
             "#fde0ef"
            ],
            [
             0.5,
             "#f7f7f7"
            ],
            [
             0.6,
             "#e6f5d0"
            ],
            [
             0.7,
             "#b8e186"
            ],
            [
             0.8,
             "#7fbc41"
            ],
            [
             0.9,
             "#4d9221"
            ],
            [
             1,
             "#276419"
            ]
           ],
           "sequential": [
            [
             0,
             "#0d0887"
            ],
            [
             0.1111111111111111,
             "#46039f"
            ],
            [
             0.2222222222222222,
             "#7201a8"
            ],
            [
             0.3333333333333333,
             "#9c179e"
            ],
            [
             0.4444444444444444,
             "#bd3786"
            ],
            [
             0.5555555555555556,
             "#d8576b"
            ],
            [
             0.6666666666666666,
             "#ed7953"
            ],
            [
             0.7777777777777778,
             "#fb9f3a"
            ],
            [
             0.8888888888888888,
             "#fdca26"
            ],
            [
             1,
             "#f0f921"
            ]
           ],
           "sequentialminus": [
            [
             0,
             "#0d0887"
            ],
            [
             0.1111111111111111,
             "#46039f"
            ],
            [
             0.2222222222222222,
             "#7201a8"
            ],
            [
             0.3333333333333333,
             "#9c179e"
            ],
            [
             0.4444444444444444,
             "#bd3786"
            ],
            [
             0.5555555555555556,
             "#d8576b"
            ],
            [
             0.6666666666666666,
             "#ed7953"
            ],
            [
             0.7777777777777778,
             "#fb9f3a"
            ],
            [
             0.8888888888888888,
             "#fdca26"
            ],
            [
             1,
             "#f0f921"
            ]
           ]
          },
          "colorway": [
           "#636efa",
           "#EF553B",
           "#00cc96",
           "#ab63fa",
           "#FFA15A",
           "#19d3f3",
           "#FF6692",
           "#B6E880",
           "#FF97FF",
           "#FECB52"
          ],
          "font": {
           "color": "#2a3f5f"
          },
          "geo": {
           "bgcolor": "white",
           "lakecolor": "white",
           "landcolor": "#E5ECF6",
           "showlakes": true,
           "showland": true,
           "subunitcolor": "white"
          },
          "hoverlabel": {
           "align": "left"
          },
          "hovermode": "closest",
          "mapbox": {
           "style": "light"
          },
          "paper_bgcolor": "white",
          "plot_bgcolor": "#E5ECF6",
          "polar": {
           "angularaxis": {
            "gridcolor": "white",
            "linecolor": "white",
            "ticks": ""
           },
           "bgcolor": "#E5ECF6",
           "radialaxis": {
            "gridcolor": "white",
            "linecolor": "white",
            "ticks": ""
           }
          },
          "scene": {
           "xaxis": {
            "backgroundcolor": "#E5ECF6",
            "gridcolor": "white",
            "gridwidth": 2,
            "linecolor": "white",
            "showbackground": true,
            "ticks": "",
            "zerolinecolor": "white"
           },
           "yaxis": {
            "backgroundcolor": "#E5ECF6",
            "gridcolor": "white",
            "gridwidth": 2,
            "linecolor": "white",
            "showbackground": true,
            "ticks": "",
            "zerolinecolor": "white"
           },
           "zaxis": {
            "backgroundcolor": "#E5ECF6",
            "gridcolor": "white",
            "gridwidth": 2,
            "linecolor": "white",
            "showbackground": true,
            "ticks": "",
            "zerolinecolor": "white"
           }
          },
          "shapedefaults": {
           "line": {
            "color": "#2a3f5f"
           }
          },
          "ternary": {
           "aaxis": {
            "gridcolor": "white",
            "linecolor": "white",
            "ticks": ""
           },
           "baxis": {
            "gridcolor": "white",
            "linecolor": "white",
            "ticks": ""
           },
           "bgcolor": "#E5ECF6",
           "caxis": {
            "gridcolor": "white",
            "linecolor": "white",
            "ticks": ""
           }
          },
          "title": {
           "x": 0.05
          },
          "xaxis": {
           "automargin": true,
           "gridcolor": "white",
           "linecolor": "white",
           "ticks": "",
           "title": {
            "standoff": 15
           },
           "zerolinecolor": "white",
           "zerolinewidth": 2
          },
          "yaxis": {
           "automargin": true,
           "gridcolor": "white",
           "linecolor": "white",
           "ticks": "",
           "title": {
            "standoff": 15
           },
           "zerolinecolor": "white",
           "zerolinewidth": 2
          }
         }
        },
        "xaxis": {
         "fixedrange": true,
         "showgrid": false
        },
        "yaxis": {
         "fixedrange": true
        }
       }
      },
      "text/html": [
       "<div>                            <div id=\"72362ca2-8a19-4b2a-9aea-2e9b96b9d286\" class=\"plotly-graph-div\" style=\"height:450px; width:100%;\"></div>            <script type=\"text/javascript\">                require([\"plotly\"], function(Plotly) {                    window.PLOTLYENV=window.PLOTLYENV || {};                                    if (document.getElementById(\"72362ca2-8a19-4b2a-9aea-2e9b96b9d286\")) {                    Plotly.newPlot(                        \"72362ca2-8a19-4b2a-9aea-2e9b96b9d286\",                        [{\"hovertemplate\": \"<b>Energy</b><br>%{x}<br>%{y}kTCO\\u2082eq<br>%{text:.2f} %</sub><extra></extra>\", \"marker\": {\"color\": \"#5182bb\"}, \"name\": \"Energy\", \"text\": [51.370504402343826, 52.38016297829263, 52.572453352772776, 52.6003615382344, 52.96231057090615, 52.514372945936806, 53.64281126911028, 54.77279663560155, 56.164870764209745, 57.206228049168814, 57.58522132856611, 58.537643526866106, 58.28479120963486, 58.680724338512526, 59.793255773445004, 60.553481714098034, 60.580239024866586, 61.766021080605334, 62.80960890834465, 61.964255496709896, 60.511745022403964, 59.738193944458175, 59.86116126588611, 57.712262898139315, 57.30954381543739, 57.3473304651221, 58.571807394891174, 55.52956982961436, 56.08097151049089], \"type\": \"bar\", \"x\": [1990, 1991, 1992, 1993, 1994, 1995, 1996, 1997, 1998, 1999, 2000, 2001, 2002, 2003, 2004, 2005, 2006, 2007, 2008, 2009, 2010, 2011, 2012, 2013, 2014, 2015, 2016, 2017, 2018], \"y\": [31.02210341, 31.87307043, 31.76460012, 31.94319135, 32.912372000000005, 33.824925130000004, 35.43943464, 36.55049336, 38.76359401, 40.17736896, 42.4857724, 44.59369426, 43.37518326, 44.00883061, 43.80799691, 45.71173495, 45.22767984, 45.16245724, 45.27062039, 40.79836043, 40.42793617, 36.92588058, 36.99884135, 35.81678995, 35.114718610000004, 36.6659064, 37.998083460000004, 36.84001066, 36.58286752]}, {\"hovertemplate\": \"<b>Agriculture</b><br>%{x}<br>%{y}kTCO\\u2082eq<br>%{text:.2f} %</sub><extra></extra>\", \"marker\": {\"color\": \"#fdbf2d\"}, \"name\": \"Agriculture\", \"text\": [32.43139830313142, 32.259299854171715, 32.4600963617585, 32.570447473727825, 31.90819142396267, 31.505299747111255, 31.31256520560661, 31.049091702093573, 30.609644930628285, 29.533169015114915, 26.806031302318065, 25.490346350156127, 25.64112226804105, 25.721971555089883, 25.96842583302496, 24.812644352229732, 24.618119172436824, 24.739106090716145, 24.79566884480533, 26.756796682617317, 26.591229218708655, 27.787652503476735, 28.423680198875648, 29.772589713242606, 29.896878043564694, 29.061626591024087, 29.41790560681942, 29.57645228237544, 30.58774841424983], \"type\": \"bar\", \"x\": [1990, 1991, 1992, 1993, 1994, 1995, 1996, 1997, 1998, 1999, 2000, 2001, 2002, 2003, 2004, 2005, 2006, 2007, 2008, 2009, 2010, 2011, 2012, 2013, 2014, 2015, 2016, 2017, 2018], \"y\": [19.58497787, 19.62962461, 19.61259015, 19.77940846, 19.82870941, 20.29281405, 20.68682796, 20.71940251, 21.126014050000002, 20.74188543, 19.777208780000002, 19.418422800000002, 19.081965540000002, 19.29072795, 19.02597047, 18.731029, 18.3792674, 18.08889097, 17.87171312, 17.6171476, 17.76561752, 17.17634013, 17.56803931, 18.47715786, 18.3184229, 18.58100232, 19.084677120000002, 19.621920730000003, 19.95306996]}, {\"hovertemplate\": \"<b>Land-Use Change and Forestry)</b><br>%{x}<br>%{y}kTCO\\u2082eq<br>%{text:.2f} %</sub><extra></extra>\", \"marker\": {\"color\": \"#3dca3f\"}, \"name\": \"Land-Use Change and Forestry (LULUCF)\", \"text\": [8.148254292675402, 7.728222902387298, 7.294285091094451, 7.1001349335193895, 7.051772632530047, 8.145438678294965, 7.313077848343786, 6.242892926012703, 5.775379339614232, 5.777904133572805, 7.406821202675458, 7.821397258113657, 8.297794990812578, 8.59642000319324, 7.2005997611206025, 7.66692027840803, 7.811534004655456, 6.942936370213013, 6.361777523113316, 6.235154629019513, 8.2809700658968, 7.5324001401850245, 6.560755378631119, 7.204584563626645, 6.4412884411941675, 7.070490387904491, 5.21456744363989, 8.046320774339417, 6.588288709756708], \"type\": \"bar\", \"x\": [1990, 1991, 1992, 1993, 1994, 1995, 1996, 1997, 1998, 1999, 2000, 2001, 2002, 2003, 2004, 2005, 2006, 2007, 2008, 2009, 2010, 2011, 2012, 2013, 2014, 2015, 2016, 2017, 2018], \"y\": [4.920644448, 4.702585461, 4.407251979, 4.311775854, 4.382183511999999, 5.246541812999999, 4.83142733, 4.165951539, 3.986022881, 4.05796701, 5.464675008, 5.958302675, 6.175168014, 6.447064109, 5.275575782, 5.787746926, 5.831894438, 5.076578699, 4.5853113919999995, 4.105335953, 5.532521482, 4.655991245999999, 4.05505577, 4.471235038, 3.9467079309999997, 4.520627842, 3.382917102, 5.33817467, 4.29768755]}, {\"hovertemplate\": \"<b>Industrial Processes and Product Use (IPPU)</b><br>%{x}<br>%{y}kTCO\\u2082eq<br>%{text:.2f} %</sub><extra></extra>\", \"marker\": {\"color\": \"#fc0d1b\"}, \"name\": \"Industrial Processes and Product Use (IPPU)\", \"text\": [5.479747230088188, 4.948954161625099, 4.862485612344616, 4.8501875588424435, 5.192687379658894, 4.995026013112378, 5.145504627872303, 5.788354523991186, 5.312130722548225, 5.374409177784562, 6.178625043698608, 6.043289303978022, 5.478190630351077, 4.646834895458523, 5.010710219967688, 5.255507251277634, 5.211082110565334, 5.391034328429312, 5.0703440692110595, 4.251519391038355, 3.8584020817397504, 3.9833256801809225, 4.31746275380113, 4.226755296668735, 4.956852340768459, 5.056130930984434, 5.344277097540807, 5.462191156889652, 5.3784756031063194], \"type\": \"bar\", \"x\": [1990, 1991, 1992, 1993, 1994, 1995, 1996, 1997, 1998, 1999, 2000, 2001, 2002, 2003, 2004, 2005, 2006, 2007, 2008, 2009, 2010, 2011, 2012, 2013, 2014, 2015, 2016, 2017, 2018], \"y\": [3.309161302, 3.0114141610000003, 2.937943756, 2.945425939, 3.226892046, 3.217335968, 3.3994074999999997, 3.8626330330000003, 3.666300231, 3.774582381, 4.558524762, 4.603748619, 4.076835785, 3.48499055, 3.671136067, 3.967374752, 3.8904625850000003, 3.941849468, 3.654498501, 2.799275471, 2.5778009379999998, 2.462207152, 2.668526906, 2.623165321, 3.037163857, 3.2327158380000003, 3.467065406, 3.6237842479999998, 3.508499499]}, {\"hovertemplate\": \"<b>Agriculture</b><br>%{x}<br>%{y}kTCO\\u2082eq<br>%{text:.2f} %</sub><extra></extra>\", \"marker\": {\"color\": \"#262626\"}, \"name\": \"Waste\", \"text\": [2.5700957850086237, 2.6833600985930635, 2.8106795952701704, 2.8788684956759494, 2.8850379800687183, 2.8398626248598062, 2.5860410520943153, 2.146864216796642, 2.1379742516929547, 2.1082896329019585, 2.023301143072767, 2.107323566136848, 2.298100895785471, 2.3540492037456673, 2.027008421996003, 1.7114463986878432, 1.779025694173039, 1.160902134139119, 0.9626006628502023, 0.7922738127652532, 0.7576536187347381, 0.9584277316991384, 0.8369403963343247, 1.0838075299340113, 1.3954373622994367, 1.46442163434919, 1.451442461733037, 1.385465958288449, 1.364515763929235], \"type\": \"bar\", \"x\": [1990, 1991, 1992, 1993, 1994, 1995, 1996, 1997, 1998, 1999, 2000, 2001, 2002, 2003, 2004, 2005, 2006, 2007, 2008, 2009, 2010, 2011, 2012, 2013, 2014, 2015, 2016, 2017, 2018], \"y\": [1.552053618, 1.632811365, 1.6982299230000002, 1.748281657, 1.792849334, 1.829178095, 1.7084830320000002, 1.4326262509999999, 1.475576544, 1.4807046949999998, 1.4927703650000002, 1.60534892, 1.710232557, 1.765468198, 1.4851035879999999, 1.291968388, 1.3281757520000002, 0.848835526, 0.693803543, 0.521647074, 0.506188875, 0.592431502, 0.5172940899999999, 0.672621462, 0.855012744, 0.936300716, 0.941613965, 0.919160383, 0.890104042]}],                        {\"barmode\": \"stack\", \"font\": {\"color\": \"#7f7f7f\"}, \"height\": 450, \"hovermode\": \"closest\", \"legend\": {\"bgcolor\": \"rgba(0,0,0,0)\", \"itemclick\": false, \"itemdoubleclick\": false, \"orientation\": \"h\"}, \"margin\": {\"b\": 0, \"l\": 0, \"r\": 0, \"t\": 0}, \"paper_bgcolor\": \"rgba(0,0,0,0)\", \"plot_bgcolor\": \"#f7fbfd\", \"template\": {\"data\": {\"bar\": [{\"error_x\": {\"color\": \"#2a3f5f\"}, \"error_y\": {\"color\": \"#2a3f5f\"}, \"marker\": {\"line\": {\"color\": \"#E5ECF6\", \"width\": 0.5}}, \"type\": \"bar\"}], \"barpolar\": [{\"marker\": {\"line\": {\"color\": \"#E5ECF6\", \"width\": 0.5}}, \"type\": \"barpolar\"}], \"carpet\": [{\"aaxis\": {\"endlinecolor\": \"#2a3f5f\", \"gridcolor\": \"white\", \"linecolor\": \"white\", \"minorgridcolor\": \"white\", \"startlinecolor\": \"#2a3f5f\"}, \"baxis\": {\"endlinecolor\": \"#2a3f5f\", \"gridcolor\": \"white\", \"linecolor\": \"white\", \"minorgridcolor\": \"white\", \"startlinecolor\": \"#2a3f5f\"}, \"type\": \"carpet\"}], \"choropleth\": [{\"colorbar\": {\"outlinewidth\": 0, \"ticks\": \"\"}, \"type\": \"choropleth\"}], \"contour\": [{\"colorbar\": {\"outlinewidth\": 0, \"ticks\": \"\"}, \"colorscale\": [[0.0, \"#0d0887\"], [0.1111111111111111, \"#46039f\"], [0.2222222222222222, \"#7201a8\"], [0.3333333333333333, \"#9c179e\"], [0.4444444444444444, \"#bd3786\"], [0.5555555555555556, \"#d8576b\"], [0.6666666666666666, \"#ed7953\"], [0.7777777777777778, \"#fb9f3a\"], [0.8888888888888888, \"#fdca26\"], [1.0, \"#f0f921\"]], \"type\": \"contour\"}], \"contourcarpet\": [{\"colorbar\": {\"outlinewidth\": 0, \"ticks\": \"\"}, \"type\": \"contourcarpet\"}], \"heatmap\": [{\"colorbar\": {\"outlinewidth\": 0, \"ticks\": \"\"}, \"colorscale\": [[0.0, \"#0d0887\"], [0.1111111111111111, \"#46039f\"], [0.2222222222222222, \"#7201a8\"], [0.3333333333333333, \"#9c179e\"], [0.4444444444444444, \"#bd3786\"], [0.5555555555555556, \"#d8576b\"], [0.6666666666666666, \"#ed7953\"], [0.7777777777777778, \"#fb9f3a\"], [0.8888888888888888, \"#fdca26\"], [1.0, \"#f0f921\"]], \"type\": \"heatmap\"}], \"heatmapgl\": [{\"colorbar\": {\"outlinewidth\": 0, \"ticks\": \"\"}, \"colorscale\": [[0.0, \"#0d0887\"], [0.1111111111111111, \"#46039f\"], [0.2222222222222222, \"#7201a8\"], [0.3333333333333333, \"#9c179e\"], [0.4444444444444444, \"#bd3786\"], [0.5555555555555556, \"#d8576b\"], [0.6666666666666666, \"#ed7953\"], [0.7777777777777778, \"#fb9f3a\"], [0.8888888888888888, \"#fdca26\"], [1.0, \"#f0f921\"]], \"type\": \"heatmapgl\"}], \"histogram\": [{\"marker\": {\"colorbar\": {\"outlinewidth\": 0, \"ticks\": \"\"}}, \"type\": \"histogram\"}], \"histogram2d\": [{\"colorbar\": {\"outlinewidth\": 0, \"ticks\": \"\"}, \"colorscale\": [[0.0, \"#0d0887\"], [0.1111111111111111, \"#46039f\"], [0.2222222222222222, \"#7201a8\"], [0.3333333333333333, \"#9c179e\"], [0.4444444444444444, \"#bd3786\"], [0.5555555555555556, \"#d8576b\"], [0.6666666666666666, \"#ed7953\"], [0.7777777777777778, \"#fb9f3a\"], [0.8888888888888888, \"#fdca26\"], [1.0, \"#f0f921\"]], \"type\": \"histogram2d\"}], \"histogram2dcontour\": [{\"colorbar\": {\"outlinewidth\": 0, \"ticks\": \"\"}, \"colorscale\": [[0.0, \"#0d0887\"], [0.1111111111111111, \"#46039f\"], [0.2222222222222222, \"#7201a8\"], [0.3333333333333333, \"#9c179e\"], [0.4444444444444444, \"#bd3786\"], [0.5555555555555556, \"#d8576b\"], [0.6666666666666666, \"#ed7953\"], [0.7777777777777778, \"#fb9f3a\"], [0.8888888888888888, \"#fdca26\"], [1.0, \"#f0f921\"]], \"type\": \"histogram2dcontour\"}], \"mesh3d\": [{\"colorbar\": {\"outlinewidth\": 0, \"ticks\": \"\"}, \"type\": \"mesh3d\"}], \"parcoords\": [{\"line\": {\"colorbar\": {\"outlinewidth\": 0, \"ticks\": \"\"}}, \"type\": \"parcoords\"}], \"pie\": [{\"automargin\": true, \"type\": \"pie\"}], \"scatter\": [{\"marker\": {\"colorbar\": {\"outlinewidth\": 0, \"ticks\": \"\"}}, \"type\": \"scatter\"}], \"scatter3d\": [{\"line\": {\"colorbar\": {\"outlinewidth\": 0, \"ticks\": \"\"}}, \"marker\": {\"colorbar\": {\"outlinewidth\": 0, \"ticks\": \"\"}}, \"type\": \"scatter3d\"}], \"scattercarpet\": [{\"marker\": {\"colorbar\": {\"outlinewidth\": 0, \"ticks\": \"\"}}, \"type\": \"scattercarpet\"}], \"scattergeo\": [{\"marker\": {\"colorbar\": {\"outlinewidth\": 0, \"ticks\": \"\"}}, \"type\": \"scattergeo\"}], \"scattergl\": [{\"marker\": {\"colorbar\": {\"outlinewidth\": 0, \"ticks\": \"\"}}, \"type\": \"scattergl\"}], \"scattermapbox\": [{\"marker\": {\"colorbar\": {\"outlinewidth\": 0, \"ticks\": \"\"}}, \"type\": \"scattermapbox\"}], \"scatterpolar\": [{\"marker\": {\"colorbar\": {\"outlinewidth\": 0, \"ticks\": \"\"}}, \"type\": \"scatterpolar\"}], \"scatterpolargl\": [{\"marker\": {\"colorbar\": {\"outlinewidth\": 0, \"ticks\": \"\"}}, \"type\": \"scatterpolargl\"}], \"scatterternary\": [{\"marker\": {\"colorbar\": {\"outlinewidth\": 0, \"ticks\": \"\"}}, \"type\": \"scatterternary\"}], \"surface\": [{\"colorbar\": {\"outlinewidth\": 0, \"ticks\": \"\"}, \"colorscale\": [[0.0, \"#0d0887\"], [0.1111111111111111, \"#46039f\"], [0.2222222222222222, \"#7201a8\"], [0.3333333333333333, \"#9c179e\"], [0.4444444444444444, \"#bd3786\"], [0.5555555555555556, \"#d8576b\"], [0.6666666666666666, \"#ed7953\"], [0.7777777777777778, \"#fb9f3a\"], [0.8888888888888888, \"#fdca26\"], [1.0, \"#f0f921\"]], \"type\": \"surface\"}], \"table\": [{\"cells\": {\"fill\": {\"color\": \"#EBF0F8\"}, \"line\": {\"color\": \"white\"}}, \"header\": {\"fill\": {\"color\": \"#C8D4E3\"}, \"line\": {\"color\": \"white\"}}, \"type\": \"table\"}]}, \"layout\": {\"annotationdefaults\": {\"arrowcolor\": \"#2a3f5f\", \"arrowhead\": 0, \"arrowwidth\": 1}, \"autotypenumbers\": \"strict\", \"coloraxis\": {\"colorbar\": {\"outlinewidth\": 0, \"ticks\": \"\"}}, \"colorscale\": {\"diverging\": [[0, \"#8e0152\"], [0.1, \"#c51b7d\"], [0.2, \"#de77ae\"], [0.3, \"#f1b6da\"], [0.4, \"#fde0ef\"], [0.5, \"#f7f7f7\"], [0.6, \"#e6f5d0\"], [0.7, \"#b8e186\"], [0.8, \"#7fbc41\"], [0.9, \"#4d9221\"], [1, \"#276419\"]], \"sequential\": [[0.0, \"#0d0887\"], [0.1111111111111111, \"#46039f\"], [0.2222222222222222, \"#7201a8\"], [0.3333333333333333, \"#9c179e\"], [0.4444444444444444, \"#bd3786\"], [0.5555555555555556, \"#d8576b\"], [0.6666666666666666, \"#ed7953\"], [0.7777777777777778, \"#fb9f3a\"], [0.8888888888888888, \"#fdca26\"], [1.0, \"#f0f921\"]], \"sequentialminus\": [[0.0, \"#0d0887\"], [0.1111111111111111, \"#46039f\"], [0.2222222222222222, \"#7201a8\"], [0.3333333333333333, \"#9c179e\"], [0.4444444444444444, \"#bd3786\"], [0.5555555555555556, \"#d8576b\"], [0.6666666666666666, \"#ed7953\"], [0.7777777777777778, \"#fb9f3a\"], [0.8888888888888888, \"#fdca26\"], [1.0, \"#f0f921\"]]}, \"colorway\": [\"#636efa\", \"#EF553B\", \"#00cc96\", \"#ab63fa\", \"#FFA15A\", \"#19d3f3\", \"#FF6692\", \"#B6E880\", \"#FF97FF\", \"#FECB52\"], \"font\": {\"color\": \"#2a3f5f\"}, \"geo\": {\"bgcolor\": \"white\", \"lakecolor\": \"white\", \"landcolor\": \"#E5ECF6\", \"showlakes\": true, \"showland\": true, \"subunitcolor\": \"white\"}, \"hoverlabel\": {\"align\": \"left\"}, \"hovermode\": \"closest\", \"mapbox\": {\"style\": \"light\"}, \"paper_bgcolor\": \"white\", \"plot_bgcolor\": \"#E5ECF6\", \"polar\": {\"angularaxis\": {\"gridcolor\": \"white\", \"linecolor\": \"white\", \"ticks\": \"\"}, \"bgcolor\": \"#E5ECF6\", \"radialaxis\": {\"gridcolor\": \"white\", \"linecolor\": \"white\", \"ticks\": \"\"}}, \"scene\": {\"xaxis\": {\"backgroundcolor\": \"#E5ECF6\", \"gridcolor\": \"white\", \"gridwidth\": 2, \"linecolor\": \"white\", \"showbackground\": true, \"ticks\": \"\", \"zerolinecolor\": \"white\"}, \"yaxis\": {\"backgroundcolor\": \"#E5ECF6\", \"gridcolor\": \"white\", \"gridwidth\": 2, \"linecolor\": \"white\", \"showbackground\": true, \"ticks\": \"\", \"zerolinecolor\": \"white\"}, \"zaxis\": {\"backgroundcolor\": \"#E5ECF6\", \"gridcolor\": \"white\", \"gridwidth\": 2, \"linecolor\": \"white\", \"showbackground\": true, \"ticks\": \"\", \"zerolinecolor\": \"white\"}}, \"shapedefaults\": {\"line\": {\"color\": \"#2a3f5f\"}}, \"ternary\": {\"aaxis\": {\"gridcolor\": \"white\", \"linecolor\": \"white\", \"ticks\": \"\"}, \"baxis\": {\"gridcolor\": \"white\", \"linecolor\": \"white\", \"ticks\": \"\"}, \"bgcolor\": \"#E5ECF6\", \"caxis\": {\"gridcolor\": \"white\", \"linecolor\": \"white\", \"ticks\": \"\"}}, \"title\": {\"x\": 0.05}, \"xaxis\": {\"automargin\": true, \"gridcolor\": \"white\", \"linecolor\": \"white\", \"ticks\": \"\", \"title\": {\"standoff\": 15}, \"zerolinecolor\": \"white\", \"zerolinewidth\": 2}, \"yaxis\": {\"automargin\": true, \"gridcolor\": \"white\", \"linecolor\": \"white\", \"ticks\": \"\", \"title\": {\"standoff\": 15}, \"zerolinecolor\": \"white\", \"zerolinewidth\": 2}}}, \"xaxis\": {\"fixedrange\": true, \"showgrid\": false}, \"yaxis\": {\"fixedrange\": true}},                        {\"responsive\": true}                    ).then(function(){\n",
       "                            \n",
       "var gd = document.getElementById('72362ca2-8a19-4b2a-9aea-2e9b96b9d286');\n",
       "var x = new MutationObserver(function (mutations, observer) {{\n",
       "        var display = window.getComputedStyle(gd).display;\n",
       "        if (!display || display === 'none') {{\n",
       "            console.log([gd, 'removed!']);\n",
       "            Plotly.purge(gd);\n",
       "            observer.disconnect();\n",
       "        }}\n",
       "}});\n",
       "\n",
       "// Listen for the removal of the full notebook cells\n",
       "var notebookContainer = gd.closest('#notebook-container');\n",
       "if (notebookContainer) {{\n",
       "    x.observe(notebookContainer, {childList: true});\n",
       "}}\n",
       "\n",
       "// Listen for the clearing of the current output cell\n",
       "var outputEl = gd.closest('.output');\n",
       "if (outputEl) {{\n",
       "    x.observe(outputEl, {childList: true});\n",
       "}}\n",
       "\n",
       "                        })                };                });            </script>        </div>"
      ]
     },
     "metadata": {},
     "output_type": "display_data"
    }
   ],
   "source": [
    "figure_4_27=go.Figure(data=[\n",
    "    energyTrace,\n",
    "    agricultureTrace,\n",
    "    landuseTrace,\n",
    "    industryTrace,\n",
    "    wasteTrace,\n",
    "],\n",
    "layout=TIMESERIES_LAYOUT\n",
    "    )\n",
    "figure_4_27.update_layout(\n",
    "    barmode='stack')\n",
    "figure_4_27"
   ]
  },
  {
   "cell_type": "code",
   "execution_count": 3,
   "metadata": {},
   "outputs": [
    {
     "data": {
      "text/html": [
       "<div>\n",
       "<style scoped>\n",
       "    .dataframe tbody tr th:only-of-type {\n",
       "        vertical-align: middle;\n",
       "    }\n",
       "\n",
       "    .dataframe tbody tr th {\n",
       "        vertical-align: top;\n",
       "    }\n",
       "\n",
       "    .dataframe thead th {\n",
       "        text-align: right;\n",
       "    }\n",
       "</style>\n",
       "<table border=\"1\" class=\"dataframe\">\n",
       "  <thead>\n",
       "    <tr style=\"text-align: right;\">\n",
       "      <th></th>\n",
       "      <th>FID</th>\n",
       "      <th>County</th>\n",
       "      <th>Station_Nu</th>\n",
       "      <th>name</th>\n",
       "      <th>Height_m_</th>\n",
       "      <th>Easting</th>\n",
       "      <th>Northing</th>\n",
       "      <th>Latitude</th>\n",
       "      <th>Longitude</th>\n",
       "      <th>Open_Year</th>\n",
       "      <th>Close_Year</th>\n",
       "      <th>Type</th>\n",
       "    </tr>\n",
       "  </thead>\n",
       "  <tbody>\n",
       "    <tr>\n",
       "      <th>0</th>\n",
       "      <td>0</td>\n",
       "      <td>Cork</td>\n",
       "      <td></td>\n",
       "      <td>Dripsey Grassland</td>\n",
       "      <td>0</td>\n",
       "      <td>0</td>\n",
       "      <td>0</td>\n",
       "      <td>51.986721</td>\n",
       "      <td>-8.751765</td>\n",
       "      <td>2002</td>\n",
       "      <td></td>\n",
       "      <td>GHG_FLUX_TOWER</td>\n",
       "    </tr>\n",
       "    <tr>\n",
       "      <th>1</th>\n",
       "      <td>1</td>\n",
       "      <td>Cork</td>\n",
       "      <td></td>\n",
       "      <td>Dripsey Afforested</td>\n",
       "      <td>0</td>\n",
       "      <td>0</td>\n",
       "      <td>0</td>\n",
       "      <td>51.986102</td>\n",
       "      <td>-8.754115</td>\n",
       "      <td>2006</td>\n",
       "      <td></td>\n",
       "      <td>GHG_FLUX_TOWER</td>\n",
       "    </tr>\n",
       "    <tr>\n",
       "      <th>2</th>\n",
       "      <td>2</td>\n",
       "      <td>Kerry</td>\n",
       "      <td></td>\n",
       "      <td>Glencar blanked peatland</td>\n",
       "      <td>0</td>\n",
       "      <td>0</td>\n",
       "      <td>0</td>\n",
       "      <td>51.916666</td>\n",
       "      <td>-9.916666</td>\n",
       "      <td>2002</td>\n",
       "      <td></td>\n",
       "      <td>GHG_FLUX_TOWER</td>\n",
       "    </tr>\n",
       "    <tr>\n",
       "      <th>3</th>\n",
       "      <td>3</td>\n",
       "      <td>Wexford</td>\n",
       "      <td></td>\n",
       "      <td>Wexford Grassland</td>\n",
       "      <td>0</td>\n",
       "      <td>0</td>\n",
       "      <td>0</td>\n",
       "      <td>52.298190</td>\n",
       "      <td>-6.499777</td>\n",
       "      <td>2002</td>\n",
       "      <td></td>\n",
       "      <td>GHG_FLUX_TOWER</td>\n",
       "    </tr>\n",
       "  </tbody>\n",
       "</table>\n",
       "</div>"
      ],
      "text/plain": [
       "   FID   County Station_Nu                      name  Height_m_  Easting  \\\n",
       "0    0     Cork                    Dripsey Grassland          0        0   \n",
       "1    1     Cork                   Dripsey Afforested          0        0   \n",
       "2    2    Kerry             Glencar blanked peatland          0        0   \n",
       "3    3  Wexford                    Wexford Grassland          0        0   \n",
       "\n",
       "   Northing   Latitude  Longitude  Open_Year Close_Year            Type  \n",
       "0         0  51.986721  -8.751765       2002             GHG_FLUX_TOWER  \n",
       "1         0  51.986102  -8.754115       2006             GHG_FLUX_TOWER  \n",
       "2         0  51.916666  -9.916666       2002             GHG_FLUX_TOWER  \n",
       "3         0  52.298190  -6.499777       2002             GHG_FLUX_TOWER  "
      ]
     },
     "execution_count": 3,
     "metadata": {},
     "output_type": "execute_result"
    }
   ],
   "source": [
    "data_path = DATA_PATH+'Terrestrial_Domain/4.14AnthropogenicGreenhouseGasEmissions/Map4.5/'\n",
    "dataDF = pd.read_csv(data_path+'Map4.5_StationTable_GHG.txt', delimiter = \",\")\n",
    "# dataDF[\"size\"]=0\n",
    "dataDF"
   ]
  },
  {
   "cell_type": "code",
   "execution_count": null,
   "metadata": {},
   "outputs": [],
   "source": []
  }
 ],
 "metadata": {
  "kernelspec": {
   "display_name": "Python 3",
   "language": "python",
   "name": "python3"
  },
  "language_info": {
   "codemirror_mode": {
    "name": "ipython",
    "version": 3
   },
   "file_extension": ".py",
   "mimetype": "text/x-python",
   "name": "python",
   "nbconvert_exporter": "python",
   "pygments_lexer": "ipython3",
   "version": "3.8.2"
  }
 },
 "nbformat": 4,
 "nbformat_minor": 2
}
