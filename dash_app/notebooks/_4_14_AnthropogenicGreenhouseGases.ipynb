{
 "cells": [
  {
   "cell_type": "code",
   "execution_count": null,
   "metadata": {},
   "outputs": [],
   "source": [
    "# to access root modules\n",
    "if __name__ == \"__main__\" and __package__ is None:\n",
    "    from sys import path\n",
    "    from os.path import dirname as dir\n",
    "\n",
    "    path.append(dir(path[0]))\n",
    "    __package__ = \"dash_app\""
   ]
  },
  {
   "cell_type": "code",
   "execution_count": 1,
   "metadata": {},
   "outputs": [],
   "source": [
    "import pandas as pd\n",
    "import numpy as np\n",
    "import datetime\n",
    "import dateutil\n",
    "import plotly.graph_objects as go\n",
    "from plotly.subplots import make_subplots\n",
    "from charts import stations_map\n",
    "from settings import *"
   ]
  },
  {
   "cell_type": "code",
   "execution_count": 12,
   "metadata": {},
   "outputs": [
    {
     "data": {
      "text/html": [
       "<div>\n",
       "<style scoped>\n",
       "    .dataframe tbody tr th:only-of-type {\n",
       "        vertical-align: middle;\n",
       "    }\n",
       "\n",
       "    .dataframe tbody tr th {\n",
       "        vertical-align: top;\n",
       "    }\n",
       "\n",
       "    .dataframe thead th {\n",
       "        text-align: right;\n",
       "    }\n",
       "</style>\n",
       "<table border=\"1\" class=\"dataframe\">\n",
       "  <thead>\n",
       "    <tr style=\"text-align: right;\">\n",
       "      <th></th>\n",
       "      <th>Total GHG emissions by sector (kt CO₂e)</th>\n",
       "      <th>Unnamed: 2</th>\n",
       "      <th>Unnamed: 3</th>\n",
       "      <th>Unnamed: 4</th>\n",
       "      <th>Unnamed: 5</th>\n",
       "      <th>Unnamed: 6</th>\n",
       "      <th>Unnamed: 7</th>\n",
       "      <th>Unnamed: 8</th>\n",
       "      <th>Unnamed: 9</th>\n",
       "      <th>Unnamed: 10</th>\n",
       "      <th>...</th>\n",
       "      <th>Unnamed: 21</th>\n",
       "      <th>Unnamed: 22</th>\n",
       "      <th>Unnamed: 23</th>\n",
       "      <th>Unnamed: 24</th>\n",
       "      <th>Unnamed: 25</th>\n",
       "      <th>Unnamed: 26</th>\n",
       "      <th>Unnamed: 27</th>\n",
       "      <th>Unnamed: 28</th>\n",
       "      <th>Unnamed: 29</th>\n",
       "      <th>Unnamed: 30</th>\n",
       "    </tr>\n",
       "  </thead>\n",
       "  <tbody>\n",
       "    <tr>\n",
       "      <th>0</th>\n",
       "      <td>NaN</td>\n",
       "      <td>NaN</td>\n",
       "      <td>NaN</td>\n",
       "      <td>NaN</td>\n",
       "      <td>NaN</td>\n",
       "      <td>NaN</td>\n",
       "      <td>NaN</td>\n",
       "      <td>NaN</td>\n",
       "      <td>NaN</td>\n",
       "      <td>NaN</td>\n",
       "      <td>...</td>\n",
       "      <td>NaN</td>\n",
       "      <td>NaN</td>\n",
       "      <td>NaN</td>\n",
       "      <td>NaN</td>\n",
       "      <td>NaN</td>\n",
       "      <td>NaN</td>\n",
       "      <td>NaN</td>\n",
       "      <td>NaN</td>\n",
       "      <td>NaN</td>\n",
       "      <td>NaN</td>\n",
       "    </tr>\n",
       "    <tr>\n",
       "      <th>1</th>\n",
       "      <td>Year</td>\n",
       "      <td>1990.000000</td>\n",
       "      <td>1991.000000</td>\n",
       "      <td>1992.000000</td>\n",
       "      <td>1993.000000</td>\n",
       "      <td>1994.000000</td>\n",
       "      <td>1995.000000</td>\n",
       "      <td>1996.000000</td>\n",
       "      <td>1997.000000</td>\n",
       "      <td>1998.000000</td>\n",
       "      <td>...</td>\n",
       "      <td>2009.000000</td>\n",
       "      <td>2010.000000</td>\n",
       "      <td>2011.000000</td>\n",
       "      <td>2012.000000</td>\n",
       "      <td>2013.000000</td>\n",
       "      <td>2014.000000</td>\n",
       "      <td>2015.000000</td>\n",
       "      <td>2016.000000</td>\n",
       "      <td>2017.000000</td>\n",
       "      <td>2018.000000</td>\n",
       "    </tr>\n",
       "    <tr>\n",
       "      <th>2</th>\n",
       "      <td>Energy</td>\n",
       "      <td>31022.103405</td>\n",
       "      <td>31873.070431</td>\n",
       "      <td>31764.600119</td>\n",
       "      <td>31943.191349</td>\n",
       "      <td>32912.372004</td>\n",
       "      <td>33824.925125</td>\n",
       "      <td>35439.434636</td>\n",
       "      <td>36550.493360</td>\n",
       "      <td>38763.594006</td>\n",
       "      <td>...</td>\n",
       "      <td>40798.360429</td>\n",
       "      <td>40427.936167</td>\n",
       "      <td>36925.880575</td>\n",
       "      <td>36998.841349</td>\n",
       "      <td>35816.789951</td>\n",
       "      <td>35114.718605</td>\n",
       "      <td>36665.906398</td>\n",
       "      <td>37998.083460</td>\n",
       "      <td>36840.010663</td>\n",
       "      <td>36582.867520</td>\n",
       "    </tr>\n",
       "    <tr>\n",
       "      <th>3</th>\n",
       "      <td>Industrial Processes and Product Use (IPPU)</td>\n",
       "      <td>3309.161302</td>\n",
       "      <td>3011.414161</td>\n",
       "      <td>2937.943756</td>\n",
       "      <td>2945.425939</td>\n",
       "      <td>3226.892046</td>\n",
       "      <td>3217.335968</td>\n",
       "      <td>3399.407500</td>\n",
       "      <td>3862.633033</td>\n",
       "      <td>3666.300231</td>\n",
       "      <td>...</td>\n",
       "      <td>2799.275471</td>\n",
       "      <td>2577.800938</td>\n",
       "      <td>2462.207152</td>\n",
       "      <td>2668.526906</td>\n",
       "      <td>2623.165321</td>\n",
       "      <td>3037.163857</td>\n",
       "      <td>3232.715838</td>\n",
       "      <td>3467.065406</td>\n",
       "      <td>3623.784248</td>\n",
       "      <td>3508.499499</td>\n",
       "    </tr>\n",
       "    <tr>\n",
       "      <th>4</th>\n",
       "      <td>Land-Use Change and Forestry (LULUCF)</td>\n",
       "      <td>4920.644448</td>\n",
       "      <td>4702.585461</td>\n",
       "      <td>4407.251979</td>\n",
       "      <td>4311.775854</td>\n",
       "      <td>4382.183512</td>\n",
       "      <td>5246.541813</td>\n",
       "      <td>4831.427330</td>\n",
       "      <td>4165.951539</td>\n",
       "      <td>3986.022881</td>\n",
       "      <td>...</td>\n",
       "      <td>4105.335953</td>\n",
       "      <td>5532.521482</td>\n",
       "      <td>4655.991246</td>\n",
       "      <td>4055.055770</td>\n",
       "      <td>4471.235038</td>\n",
       "      <td>3946.707931</td>\n",
       "      <td>4520.627842</td>\n",
       "      <td>3382.917102</td>\n",
       "      <td>5338.174670</td>\n",
       "      <td>4297.687550</td>\n",
       "    </tr>\n",
       "    <tr>\n",
       "      <th>5</th>\n",
       "      <td>Agriculture</td>\n",
       "      <td>19584.977871</td>\n",
       "      <td>19629.624607</td>\n",
       "      <td>19612.590146</td>\n",
       "      <td>19779.408462</td>\n",
       "      <td>19828.709414</td>\n",
       "      <td>20292.814047</td>\n",
       "      <td>20686.827962</td>\n",
       "      <td>20719.402510</td>\n",
       "      <td>21126.014045</td>\n",
       "      <td>...</td>\n",
       "      <td>17617.147595</td>\n",
       "      <td>17765.617520</td>\n",
       "      <td>17176.340133</td>\n",
       "      <td>17568.039313</td>\n",
       "      <td>18477.157855</td>\n",
       "      <td>18318.422902</td>\n",
       "      <td>18581.002320</td>\n",
       "      <td>19084.677117</td>\n",
       "      <td>19621.920730</td>\n",
       "      <td>19953.069960</td>\n",
       "    </tr>\n",
       "    <tr>\n",
       "      <th>6</th>\n",
       "      <td>Waste</td>\n",
       "      <td>1552.053618</td>\n",
       "      <td>1632.811365</td>\n",
       "      <td>1698.229923</td>\n",
       "      <td>1748.281657</td>\n",
       "      <td>1792.849334</td>\n",
       "      <td>1829.178095</td>\n",
       "      <td>1708.483032</td>\n",
       "      <td>1432.626251</td>\n",
       "      <td>1475.576544</td>\n",
       "      <td>...</td>\n",
       "      <td>521.647074</td>\n",
       "      <td>506.188875</td>\n",
       "      <td>592.431502</td>\n",
       "      <td>517.294090</td>\n",
       "      <td>672.621462</td>\n",
       "      <td>855.012744</td>\n",
       "      <td>936.300716</td>\n",
       "      <td>941.613965</td>\n",
       "      <td>919.160383</td>\n",
       "      <td>890.104042</td>\n",
       "    </tr>\n",
       "    <tr>\n",
       "      <th>7</th>\n",
       "      <td>Total</td>\n",
       "      <td>60388.940644</td>\n",
       "      <td>60849.506025</td>\n",
       "      <td>60420.615923</td>\n",
       "      <td>60728.083261</td>\n",
       "      <td>62143.006310</td>\n",
       "      <td>64410.795048</td>\n",
       "      <td>66065.580460</td>\n",
       "      <td>66731.106691</td>\n",
       "      <td>69017.507706</td>\n",
       "      <td>...</td>\n",
       "      <td>65841.766523</td>\n",
       "      <td>66810.064982</td>\n",
       "      <td>61812.850609</td>\n",
       "      <td>61807.757427</td>\n",
       "      <td>62060.969627</td>\n",
       "      <td>61272.026039</td>\n",
       "      <td>63936.553113</td>\n",
       "      <td>64874.357050</td>\n",
       "      <td>66343.050694</td>\n",
       "      <td>65232.228571</td>\n",
       "    </tr>\n",
       "  </tbody>\n",
       "</table>\n",
       "<p>8 rows × 30 columns</p>\n",
       "</div>"
      ],
      "text/plain": [
       "       Total GHG emissions by sector (kt CO₂e)    Unnamed: 2    Unnamed: 3  \\\n",
       "0                                          NaN           NaN           NaN   \n",
       "1                                         Year   1990.000000   1991.000000   \n",
       "2                                       Energy  31022.103405  31873.070431   \n",
       "3  Industrial Processes and Product Use (IPPU)   3309.161302   3011.414161   \n",
       "4        Land-Use Change and Forestry (LULUCF)   4920.644448   4702.585461   \n",
       "5                                 Agriculture   19584.977871  19629.624607   \n",
       "6                                       Waste    1552.053618   1632.811365   \n",
       "7                                       Total   60388.940644  60849.506025   \n",
       "\n",
       "     Unnamed: 4    Unnamed: 5    Unnamed: 6    Unnamed: 7    Unnamed: 8  \\\n",
       "0           NaN           NaN           NaN           NaN           NaN   \n",
       "1   1992.000000   1993.000000   1994.000000   1995.000000   1996.000000   \n",
       "2  31764.600119  31943.191349  32912.372004  33824.925125  35439.434636   \n",
       "3   2937.943756   2945.425939   3226.892046   3217.335968   3399.407500   \n",
       "4   4407.251979   4311.775854   4382.183512   5246.541813   4831.427330   \n",
       "5  19612.590146  19779.408462  19828.709414  20292.814047  20686.827962   \n",
       "6   1698.229923   1748.281657   1792.849334   1829.178095   1708.483032   \n",
       "7  60420.615923  60728.083261  62143.006310  64410.795048  66065.580460   \n",
       "\n",
       "     Unnamed: 9   Unnamed: 10  ...   Unnamed: 21   Unnamed: 22   Unnamed: 23  \\\n",
       "0           NaN           NaN  ...           NaN           NaN           NaN   \n",
       "1   1997.000000   1998.000000  ...   2009.000000   2010.000000   2011.000000   \n",
       "2  36550.493360  38763.594006  ...  40798.360429  40427.936167  36925.880575   \n",
       "3   3862.633033   3666.300231  ...   2799.275471   2577.800938   2462.207152   \n",
       "4   4165.951539   3986.022881  ...   4105.335953   5532.521482   4655.991246   \n",
       "5  20719.402510  21126.014045  ...  17617.147595  17765.617520  17176.340133   \n",
       "6   1432.626251   1475.576544  ...    521.647074    506.188875    592.431502   \n",
       "7  66731.106691  69017.507706  ...  65841.766523  66810.064982  61812.850609   \n",
       "\n",
       "    Unnamed: 24   Unnamed: 25   Unnamed: 26   Unnamed: 27   Unnamed: 28  \\\n",
       "0           NaN           NaN           NaN           NaN           NaN   \n",
       "1   2012.000000   2013.000000   2014.000000   2015.000000   2016.000000   \n",
       "2  36998.841349  35816.789951  35114.718605  36665.906398  37998.083460   \n",
       "3   2668.526906   2623.165321   3037.163857   3232.715838   3467.065406   \n",
       "4   4055.055770   4471.235038   3946.707931   4520.627842   3382.917102   \n",
       "5  17568.039313  18477.157855  18318.422902  18581.002320  19084.677117   \n",
       "6    517.294090    672.621462    855.012744    936.300716    941.613965   \n",
       "7  61807.757427  62060.969627  61272.026039  63936.553113  64874.357050   \n",
       "\n",
       "    Unnamed: 29   Unnamed: 30  \n",
       "0           NaN           NaN  \n",
       "1   2017.000000   2018.000000  \n",
       "2  36840.010663  36582.867520  \n",
       "3   3623.784248   3508.499499  \n",
       "4   5338.174670   4297.687550  \n",
       "5  19621.920730  19953.069960  \n",
       "6    919.160383    890.104042  \n",
       "7  66343.050694  65232.228571  \n",
       "\n",
       "[8 rows x 30 columns]"
      ]
     },
     "execution_count": 12,
     "metadata": {},
     "output_type": "execute_result"
    }
   ],
   "source": [
    "data_path = DATA_PATH+'Terrestrial_Domain/4.14AnthropogenicGreenhouseGasEmissions/Figure4.27/'\n",
    "xls = pd.ExcelFile(\n",
    "    data_path+'NIR_GHG_Emissions_CSRI2020.xlsx')\n",
    "df = pd.read_excel(xls, 'Figure 2.1')\n",
    "df = df.drop(columns=[\n",
    "    'Unnamed: 0', \n",
    "    'Unnamed: 31',\n",
    "    'Unnamed: 32',\n",
    "    'Unnamed: 33',\n",
    "    ])\n",
    "df.loc[1,'Total GHG emissions by sector (kt CO₂e)']='Year'\n",
    "df"
   ]
  },
  {
   "cell_type": "code",
   "execution_count": 13,
   "metadata": {},
   "outputs": [
    {
     "data": {
      "text/html": [
       "<div>\n",
       "<style scoped>\n",
       "    .dataframe tbody tr th:only-of-type {\n",
       "        vertical-align: middle;\n",
       "    }\n",
       "\n",
       "    .dataframe tbody tr th {\n",
       "        vertical-align: top;\n",
       "    }\n",
       "\n",
       "    .dataframe thead th {\n",
       "        text-align: right;\n",
       "    }\n",
       "</style>\n",
       "<table border=\"1\" class=\"dataframe\">\n",
       "  <thead>\n",
       "    <tr style=\"text-align: right;\">\n",
       "      <th>Total GHG emissions by sector (kt CO₂e)</th>\n",
       "      <th>NaN</th>\n",
       "      <th>Year</th>\n",
       "      <th>Energy</th>\n",
       "      <th>Industrial Processes and Product Use (IPPU)</th>\n",
       "      <th>Land-Use Change and Forestry (LULUCF)</th>\n",
       "      <th>Agriculture</th>\n",
       "      <th>Waste</th>\n",
       "      <th>Total</th>\n",
       "    </tr>\n",
       "  </thead>\n",
       "  <tbody>\n",
       "    <tr>\n",
       "      <th>Unnamed: 2</th>\n",
       "      <td>NaN</td>\n",
       "      <td>1990.0</td>\n",
       "      <td>31022.103405</td>\n",
       "      <td>3309.161302</td>\n",
       "      <td>4920.644448</td>\n",
       "      <td>19584.977871</td>\n",
       "      <td>1552.053618</td>\n",
       "      <td>60388.940644</td>\n",
       "    </tr>\n",
       "    <tr>\n",
       "      <th>Unnamed: 3</th>\n",
       "      <td>NaN</td>\n",
       "      <td>1991.0</td>\n",
       "      <td>31873.070431</td>\n",
       "      <td>3011.414161</td>\n",
       "      <td>4702.585461</td>\n",
       "      <td>19629.624607</td>\n",
       "      <td>1632.811365</td>\n",
       "      <td>60849.506025</td>\n",
       "    </tr>\n",
       "    <tr>\n",
       "      <th>Unnamed: 4</th>\n",
       "      <td>NaN</td>\n",
       "      <td>1992.0</td>\n",
       "      <td>31764.600119</td>\n",
       "      <td>2937.943756</td>\n",
       "      <td>4407.251979</td>\n",
       "      <td>19612.590146</td>\n",
       "      <td>1698.229923</td>\n",
       "      <td>60420.615923</td>\n",
       "    </tr>\n",
       "    <tr>\n",
       "      <th>Unnamed: 5</th>\n",
       "      <td>NaN</td>\n",
       "      <td>1993.0</td>\n",
       "      <td>31943.191349</td>\n",
       "      <td>2945.425939</td>\n",
       "      <td>4311.775854</td>\n",
       "      <td>19779.408462</td>\n",
       "      <td>1748.281657</td>\n",
       "      <td>60728.083261</td>\n",
       "    </tr>\n",
       "    <tr>\n",
       "      <th>Unnamed: 6</th>\n",
       "      <td>NaN</td>\n",
       "      <td>1994.0</td>\n",
       "      <td>32912.372004</td>\n",
       "      <td>3226.892046</td>\n",
       "      <td>4382.183512</td>\n",
       "      <td>19828.709414</td>\n",
       "      <td>1792.849334</td>\n",
       "      <td>62143.00631</td>\n",
       "    </tr>\n",
       "    <tr>\n",
       "      <th>Unnamed: 7</th>\n",
       "      <td>NaN</td>\n",
       "      <td>1995.0</td>\n",
       "      <td>33824.925125</td>\n",
       "      <td>3217.335968</td>\n",
       "      <td>5246.541813</td>\n",
       "      <td>20292.814047</td>\n",
       "      <td>1829.178095</td>\n",
       "      <td>64410.795048</td>\n",
       "    </tr>\n",
       "    <tr>\n",
       "      <th>Unnamed: 8</th>\n",
       "      <td>NaN</td>\n",
       "      <td>1996.0</td>\n",
       "      <td>35439.434636</td>\n",
       "      <td>3399.4075</td>\n",
       "      <td>4831.42733</td>\n",
       "      <td>20686.827962</td>\n",
       "      <td>1708.483032</td>\n",
       "      <td>66065.58046</td>\n",
       "    </tr>\n",
       "    <tr>\n",
       "      <th>Unnamed: 9</th>\n",
       "      <td>NaN</td>\n",
       "      <td>1997.0</td>\n",
       "      <td>36550.49336</td>\n",
       "      <td>3862.633033</td>\n",
       "      <td>4165.951539</td>\n",
       "      <td>20719.40251</td>\n",
       "      <td>1432.626251</td>\n",
       "      <td>66731.106691</td>\n",
       "    </tr>\n",
       "    <tr>\n",
       "      <th>Unnamed: 10</th>\n",
       "      <td>NaN</td>\n",
       "      <td>1998.0</td>\n",
       "      <td>38763.594006</td>\n",
       "      <td>3666.300231</td>\n",
       "      <td>3986.022881</td>\n",
       "      <td>21126.014045</td>\n",
       "      <td>1475.576544</td>\n",
       "      <td>69017.507706</td>\n",
       "    </tr>\n",
       "    <tr>\n",
       "      <th>Unnamed: 11</th>\n",
       "      <td>NaN</td>\n",
       "      <td>1999.0</td>\n",
       "      <td>40177.368956</td>\n",
       "      <td>3774.582381</td>\n",
       "      <td>4057.96701</td>\n",
       "      <td>20741.885429</td>\n",
       "      <td>1480.704695</td>\n",
       "      <td>70232.50847</td>\n",
       "    </tr>\n",
       "    <tr>\n",
       "      <th>Unnamed: 12</th>\n",
       "      <td>NaN</td>\n",
       "      <td>2000.0</td>\n",
       "      <td>42485.772395</td>\n",
       "      <td>4558.524762</td>\n",
       "      <td>5464.675008</td>\n",
       "      <td>19777.208775</td>\n",
       "      <td>1492.770365</td>\n",
       "      <td>73778.951304</td>\n",
       "    </tr>\n",
       "    <tr>\n",
       "      <th>Unnamed: 13</th>\n",
       "      <td>NaN</td>\n",
       "      <td>2001.0</td>\n",
       "      <td>44593.694258</td>\n",
       "      <td>4603.748619</td>\n",
       "      <td>5958.302675</td>\n",
       "      <td>19418.422797</td>\n",
       "      <td>1605.34892</td>\n",
       "      <td>76179.517269</td>\n",
       "    </tr>\n",
       "    <tr>\n",
       "      <th>Unnamed: 14</th>\n",
       "      <td>NaN</td>\n",
       "      <td>2002.0</td>\n",
       "      <td>43375.183258</td>\n",
       "      <td>4076.835785</td>\n",
       "      <td>6175.168014</td>\n",
       "      <td>19081.965543</td>\n",
       "      <td>1710.232557</td>\n",
       "      <td>74419.385157</td>\n",
       "    </tr>\n",
       "    <tr>\n",
       "      <th>Unnamed: 15</th>\n",
       "      <td>NaN</td>\n",
       "      <td>2003.0</td>\n",
       "      <td>44008.830609</td>\n",
       "      <td>3484.99055</td>\n",
       "      <td>6447.064109</td>\n",
       "      <td>19290.727949</td>\n",
       "      <td>1765.468198</td>\n",
       "      <td>74997.081416</td>\n",
       "    </tr>\n",
       "    <tr>\n",
       "      <th>Unnamed: 16</th>\n",
       "      <td>NaN</td>\n",
       "      <td>2004.0</td>\n",
       "      <td>43807.996909</td>\n",
       "      <td>3671.136067</td>\n",
       "      <td>5275.575782</td>\n",
       "      <td>19025.970466</td>\n",
       "      <td>1485.103588</td>\n",
       "      <td>73265.782811</td>\n",
       "    </tr>\n",
       "    <tr>\n",
       "      <th>Unnamed: 17</th>\n",
       "      <td>NaN</td>\n",
       "      <td>2005.0</td>\n",
       "      <td>45711.73495</td>\n",
       "      <td>3967.374752</td>\n",
       "      <td>5787.746926</td>\n",
       "      <td>18731.028999</td>\n",
       "      <td>1291.968388</td>\n",
       "      <td>75489.854015</td>\n",
       "    </tr>\n",
       "    <tr>\n",
       "      <th>Unnamed: 18</th>\n",
       "      <td>NaN</td>\n",
       "      <td>2006.0</td>\n",
       "      <td>45227.679835</td>\n",
       "      <td>3890.462585</td>\n",
       "      <td>5831.894438</td>\n",
       "      <td>18379.267404</td>\n",
       "      <td>1328.175752</td>\n",
       "      <td>74657.480014</td>\n",
       "    </tr>\n",
       "    <tr>\n",
       "      <th>Unnamed: 19</th>\n",
       "      <td>NaN</td>\n",
       "      <td>2007.0</td>\n",
       "      <td>45162.457241</td>\n",
       "      <td>3941.849468</td>\n",
       "      <td>5076.578699</td>\n",
       "      <td>18088.89097</td>\n",
       "      <td>848.835526</td>\n",
       "      <td>73118.611904</td>\n",
       "    </tr>\n",
       "    <tr>\n",
       "      <th>Unnamed: 20</th>\n",
       "      <td>NaN</td>\n",
       "      <td>2008.0</td>\n",
       "      <td>45270.620391</td>\n",
       "      <td>3654.498501</td>\n",
       "      <td>4585.311392</td>\n",
       "      <td>17871.713115</td>\n",
       "      <td>693.803543</td>\n",
       "      <td>72075.946941</td>\n",
       "    </tr>\n",
       "    <tr>\n",
       "      <th>Unnamed: 21</th>\n",
       "      <td>NaN</td>\n",
       "      <td>2009.0</td>\n",
       "      <td>40798.360429</td>\n",
       "      <td>2799.275471</td>\n",
       "      <td>4105.335953</td>\n",
       "      <td>17617.147595</td>\n",
       "      <td>521.647074</td>\n",
       "      <td>65841.766523</td>\n",
       "    </tr>\n",
       "    <tr>\n",
       "      <th>Unnamed: 22</th>\n",
       "      <td>NaN</td>\n",
       "      <td>2010.0</td>\n",
       "      <td>40427.936167</td>\n",
       "      <td>2577.800938</td>\n",
       "      <td>5532.521482</td>\n",
       "      <td>17765.61752</td>\n",
       "      <td>506.188875</td>\n",
       "      <td>66810.064982</td>\n",
       "    </tr>\n",
       "    <tr>\n",
       "      <th>Unnamed: 23</th>\n",
       "      <td>NaN</td>\n",
       "      <td>2011.0</td>\n",
       "      <td>36925.880575</td>\n",
       "      <td>2462.207152</td>\n",
       "      <td>4655.991246</td>\n",
       "      <td>17176.340133</td>\n",
       "      <td>592.431502</td>\n",
       "      <td>61812.850609</td>\n",
       "    </tr>\n",
       "    <tr>\n",
       "      <th>Unnamed: 24</th>\n",
       "      <td>NaN</td>\n",
       "      <td>2012.0</td>\n",
       "      <td>36998.841349</td>\n",
       "      <td>2668.526906</td>\n",
       "      <td>4055.05577</td>\n",
       "      <td>17568.039313</td>\n",
       "      <td>517.29409</td>\n",
       "      <td>61807.757427</td>\n",
       "    </tr>\n",
       "    <tr>\n",
       "      <th>Unnamed: 25</th>\n",
       "      <td>NaN</td>\n",
       "      <td>2013.0</td>\n",
       "      <td>35816.789951</td>\n",
       "      <td>2623.165321</td>\n",
       "      <td>4471.235038</td>\n",
       "      <td>18477.157855</td>\n",
       "      <td>672.621462</td>\n",
       "      <td>62060.969627</td>\n",
       "    </tr>\n",
       "    <tr>\n",
       "      <th>Unnamed: 26</th>\n",
       "      <td>NaN</td>\n",
       "      <td>2014.0</td>\n",
       "      <td>35114.718605</td>\n",
       "      <td>3037.163857</td>\n",
       "      <td>3946.707931</td>\n",
       "      <td>18318.422902</td>\n",
       "      <td>855.012744</td>\n",
       "      <td>61272.026039</td>\n",
       "    </tr>\n",
       "    <tr>\n",
       "      <th>Unnamed: 27</th>\n",
       "      <td>NaN</td>\n",
       "      <td>2015.0</td>\n",
       "      <td>36665.906398</td>\n",
       "      <td>3232.715838</td>\n",
       "      <td>4520.627842</td>\n",
       "      <td>18581.00232</td>\n",
       "      <td>936.300716</td>\n",
       "      <td>63936.553113</td>\n",
       "    </tr>\n",
       "    <tr>\n",
       "      <th>Unnamed: 28</th>\n",
       "      <td>NaN</td>\n",
       "      <td>2016.0</td>\n",
       "      <td>37998.08346</td>\n",
       "      <td>3467.065406</td>\n",
       "      <td>3382.917102</td>\n",
       "      <td>19084.677117</td>\n",
       "      <td>941.613965</td>\n",
       "      <td>64874.35705</td>\n",
       "    </tr>\n",
       "    <tr>\n",
       "      <th>Unnamed: 29</th>\n",
       "      <td>NaN</td>\n",
       "      <td>2017.0</td>\n",
       "      <td>36840.010663</td>\n",
       "      <td>3623.784248</td>\n",
       "      <td>5338.17467</td>\n",
       "      <td>19621.92073</td>\n",
       "      <td>919.160383</td>\n",
       "      <td>66343.050694</td>\n",
       "    </tr>\n",
       "    <tr>\n",
       "      <th>Unnamed: 30</th>\n",
       "      <td>NaN</td>\n",
       "      <td>2018.0</td>\n",
       "      <td>36582.86752</td>\n",
       "      <td>3508.499499</td>\n",
       "      <td>4297.68755</td>\n",
       "      <td>19953.06996</td>\n",
       "      <td>890.104042</td>\n",
       "      <td>65232.228571</td>\n",
       "    </tr>\n",
       "  </tbody>\n",
       "</table>\n",
       "</div>"
      ],
      "text/plain": [
       "Total GHG emissions by sector (kt CO₂e)  NaN    Year        Energy  \\\n",
       "Unnamed: 2                               NaN  1990.0  31022.103405   \n",
       "Unnamed: 3                               NaN  1991.0  31873.070431   \n",
       "Unnamed: 4                               NaN  1992.0  31764.600119   \n",
       "Unnamed: 5                               NaN  1993.0  31943.191349   \n",
       "Unnamed: 6                               NaN  1994.0  32912.372004   \n",
       "Unnamed: 7                               NaN  1995.0  33824.925125   \n",
       "Unnamed: 8                               NaN  1996.0  35439.434636   \n",
       "Unnamed: 9                               NaN  1997.0   36550.49336   \n",
       "Unnamed: 10                              NaN  1998.0  38763.594006   \n",
       "Unnamed: 11                              NaN  1999.0  40177.368956   \n",
       "Unnamed: 12                              NaN  2000.0  42485.772395   \n",
       "Unnamed: 13                              NaN  2001.0  44593.694258   \n",
       "Unnamed: 14                              NaN  2002.0  43375.183258   \n",
       "Unnamed: 15                              NaN  2003.0  44008.830609   \n",
       "Unnamed: 16                              NaN  2004.0  43807.996909   \n",
       "Unnamed: 17                              NaN  2005.0   45711.73495   \n",
       "Unnamed: 18                              NaN  2006.0  45227.679835   \n",
       "Unnamed: 19                              NaN  2007.0  45162.457241   \n",
       "Unnamed: 20                              NaN  2008.0  45270.620391   \n",
       "Unnamed: 21                              NaN  2009.0  40798.360429   \n",
       "Unnamed: 22                              NaN  2010.0  40427.936167   \n",
       "Unnamed: 23                              NaN  2011.0  36925.880575   \n",
       "Unnamed: 24                              NaN  2012.0  36998.841349   \n",
       "Unnamed: 25                              NaN  2013.0  35816.789951   \n",
       "Unnamed: 26                              NaN  2014.0  35114.718605   \n",
       "Unnamed: 27                              NaN  2015.0  36665.906398   \n",
       "Unnamed: 28                              NaN  2016.0   37998.08346   \n",
       "Unnamed: 29                              NaN  2017.0  36840.010663   \n",
       "Unnamed: 30                              NaN  2018.0   36582.86752   \n",
       "\n",
       "Total GHG emissions by sector (kt CO₂e) Industrial Processes and Product Use (IPPU)  \\\n",
       "Unnamed: 2                                                              3309.161302   \n",
       "Unnamed: 3                                                              3011.414161   \n",
       "Unnamed: 4                                                              2937.943756   \n",
       "Unnamed: 5                                                              2945.425939   \n",
       "Unnamed: 6                                                              3226.892046   \n",
       "Unnamed: 7                                                              3217.335968   \n",
       "Unnamed: 8                                                                3399.4075   \n",
       "Unnamed: 9                                                              3862.633033   \n",
       "Unnamed: 10                                                             3666.300231   \n",
       "Unnamed: 11                                                             3774.582381   \n",
       "Unnamed: 12                                                             4558.524762   \n",
       "Unnamed: 13                                                             4603.748619   \n",
       "Unnamed: 14                                                             4076.835785   \n",
       "Unnamed: 15                                                              3484.99055   \n",
       "Unnamed: 16                                                             3671.136067   \n",
       "Unnamed: 17                                                             3967.374752   \n",
       "Unnamed: 18                                                             3890.462585   \n",
       "Unnamed: 19                                                             3941.849468   \n",
       "Unnamed: 20                                                             3654.498501   \n",
       "Unnamed: 21                                                             2799.275471   \n",
       "Unnamed: 22                                                             2577.800938   \n",
       "Unnamed: 23                                                             2462.207152   \n",
       "Unnamed: 24                                                             2668.526906   \n",
       "Unnamed: 25                                                             2623.165321   \n",
       "Unnamed: 26                                                             3037.163857   \n",
       "Unnamed: 27                                                             3232.715838   \n",
       "Unnamed: 28                                                             3467.065406   \n",
       "Unnamed: 29                                                             3623.784248   \n",
       "Unnamed: 30                                                             3508.499499   \n",
       "\n",
       "Total GHG emissions by sector (kt CO₂e) Land-Use Change and Forestry (LULUCF)  \\\n",
       "Unnamed: 2                                                        4920.644448   \n",
       "Unnamed: 3                                                        4702.585461   \n",
       "Unnamed: 4                                                        4407.251979   \n",
       "Unnamed: 5                                                        4311.775854   \n",
       "Unnamed: 6                                                        4382.183512   \n",
       "Unnamed: 7                                                        5246.541813   \n",
       "Unnamed: 8                                                         4831.42733   \n",
       "Unnamed: 9                                                        4165.951539   \n",
       "Unnamed: 10                                                       3986.022881   \n",
       "Unnamed: 11                                                        4057.96701   \n",
       "Unnamed: 12                                                       5464.675008   \n",
       "Unnamed: 13                                                       5958.302675   \n",
       "Unnamed: 14                                                       6175.168014   \n",
       "Unnamed: 15                                                       6447.064109   \n",
       "Unnamed: 16                                                       5275.575782   \n",
       "Unnamed: 17                                                       5787.746926   \n",
       "Unnamed: 18                                                       5831.894438   \n",
       "Unnamed: 19                                                       5076.578699   \n",
       "Unnamed: 20                                                       4585.311392   \n",
       "Unnamed: 21                                                       4105.335953   \n",
       "Unnamed: 22                                                       5532.521482   \n",
       "Unnamed: 23                                                       4655.991246   \n",
       "Unnamed: 24                                                        4055.05577   \n",
       "Unnamed: 25                                                       4471.235038   \n",
       "Unnamed: 26                                                       3946.707931   \n",
       "Unnamed: 27                                                       4520.627842   \n",
       "Unnamed: 28                                                       3382.917102   \n",
       "Unnamed: 29                                                        5338.17467   \n",
       "Unnamed: 30                                                        4297.68755   \n",
       "\n",
       "Total GHG emissions by sector (kt CO₂e)  Agriculture        Waste   \\\n",
       "Unnamed: 2                               19584.977871  1552.053618   \n",
       "Unnamed: 3                               19629.624607  1632.811365   \n",
       "Unnamed: 4                               19612.590146  1698.229923   \n",
       "Unnamed: 5                               19779.408462  1748.281657   \n",
       "Unnamed: 6                               19828.709414  1792.849334   \n",
       "Unnamed: 7                               20292.814047  1829.178095   \n",
       "Unnamed: 8                               20686.827962  1708.483032   \n",
       "Unnamed: 9                                20719.40251  1432.626251   \n",
       "Unnamed: 10                              21126.014045  1475.576544   \n",
       "Unnamed: 11                              20741.885429  1480.704695   \n",
       "Unnamed: 12                              19777.208775  1492.770365   \n",
       "Unnamed: 13                              19418.422797   1605.34892   \n",
       "Unnamed: 14                              19081.965543  1710.232557   \n",
       "Unnamed: 15                              19290.727949  1765.468198   \n",
       "Unnamed: 16                              19025.970466  1485.103588   \n",
       "Unnamed: 17                              18731.028999  1291.968388   \n",
       "Unnamed: 18                              18379.267404  1328.175752   \n",
       "Unnamed: 19                               18088.89097   848.835526   \n",
       "Unnamed: 20                              17871.713115   693.803543   \n",
       "Unnamed: 21                              17617.147595   521.647074   \n",
       "Unnamed: 22                               17765.61752   506.188875   \n",
       "Unnamed: 23                              17176.340133   592.431502   \n",
       "Unnamed: 24                              17568.039313    517.29409   \n",
       "Unnamed: 25                              18477.157855   672.621462   \n",
       "Unnamed: 26                              18318.422902   855.012744   \n",
       "Unnamed: 27                               18581.00232   936.300716   \n",
       "Unnamed: 28                              19084.677117   941.613965   \n",
       "Unnamed: 29                               19621.92073   919.160383   \n",
       "Unnamed: 30                               19953.06996   890.104042   \n",
       "\n",
       "Total GHG emissions by sector (kt CO₂e)        Total   \n",
       "Unnamed: 2                               60388.940644  \n",
       "Unnamed: 3                               60849.506025  \n",
       "Unnamed: 4                               60420.615923  \n",
       "Unnamed: 5                               60728.083261  \n",
       "Unnamed: 6                                62143.00631  \n",
       "Unnamed: 7                               64410.795048  \n",
       "Unnamed: 8                                66065.58046  \n",
       "Unnamed: 9                               66731.106691  \n",
       "Unnamed: 10                              69017.507706  \n",
       "Unnamed: 11                               70232.50847  \n",
       "Unnamed: 12                              73778.951304  \n",
       "Unnamed: 13                              76179.517269  \n",
       "Unnamed: 14                              74419.385157  \n",
       "Unnamed: 15                              74997.081416  \n",
       "Unnamed: 16                              73265.782811  \n",
       "Unnamed: 17                              75489.854015  \n",
       "Unnamed: 18                              74657.480014  \n",
       "Unnamed: 19                              73118.611904  \n",
       "Unnamed: 20                              72075.946941  \n",
       "Unnamed: 21                              65841.766523  \n",
       "Unnamed: 22                              66810.064982  \n",
       "Unnamed: 23                              61812.850609  \n",
       "Unnamed: 24                              61807.757427  \n",
       "Unnamed: 25                              62060.969627  \n",
       "Unnamed: 26                              61272.026039  \n",
       "Unnamed: 27                              63936.553113  \n",
       "Unnamed: 28                               64874.35705  \n",
       "Unnamed: 29                              66343.050694  \n",
       "Unnamed: 30                              65232.228571  "
      ]
     },
     "execution_count": 13,
     "metadata": {},
     "output_type": "execute_result"
    }
   ],
   "source": [
    "df1=df.T\n",
    "new_header = df1.iloc[0]#grab the first row for the header\n",
    "df1 = df1[1:] #take the data less the header row\n",
    "df1.columns = new_header #set the header row as the df header\n",
    "df1"
   ]
  },
  {
   "cell_type": "code",
   "execution_count": 42,
   "metadata": {},
   "outputs": [],
   "source": [
    "energyTrace=go.Bar(\n",
    "    name=\"Energy\",\n",
    "    x=df1.Year,\n",
    "    y=df1[\"Energy\"]/1000,\n",
    "        text=df1['Energy']*100/df1['Total '],\n",
    "    marker_color=\"#5182bb\",\n",
    "    hovertemplate='<b>Energy</b><br>' +\n",
    "    '%{x}<br>' +\n",
    "    '%{y}kTCO₂eq<br>' +\n",
    "    '%{text:.2f} %</sub><extra></extra>'\n",
    "                            )\n",
    "\n",
    "agricultureTrace=go.Bar(\n",
    "    name=\"Agriculture\",\n",
    "    x=df1.Year,\n",
    "    y=df1[\"Agriculture \"]/1000,\n",
    "        text=df1['Agriculture ']*100/df1['Total '],\n",
    "    marker_color=\"#fdbf2d\",\n",
    "    hovertemplate='<b>Agriculture</b><br>' +\n",
    "    '%{x}<br>' +\n",
    "    '%{y}kTCO₂eq<br>' +\n",
    "    '%{text:.2f} %</sub><extra></extra>'\n",
    "                            )\n",
    "\n",
    "landuseTrace=go.Bar(\n",
    "    name=\"Land-Use Change and Forestry (LULUCF)\",\n",
    "    x=df1.Year,\n",
    "    y=df1[\"Land-Use Change and Forestry (LULUCF)\"]/1000,\n",
    "        text=df1[\"Land-Use Change and Forestry (LULUCF)\"]*100/df1['Total '],\n",
    "    marker_color=\"#3dca3f\",\n",
    "    hovertemplate='<b>Land-Use Change and Forestry)</b><br>' +\n",
    "    '%{x}<br>' +\n",
    "    '%{y}kTCO₂eq<br>' +\n",
    "    '%{text:.2f} %</sub><extra></extra>'\n",
    "                            )\n",
    "industryTrace=go.Bar(\n",
    "    name=\"Industrial Processes and Product Use (IPPU)\",\n",
    "    x=df1.Year,\n",
    "    y=df1[\"Industrial Processes and Product Use (IPPU)\"]/1000,\n",
    "    text=df1[\"Industrial Processes and Product Use (IPPU)\"]*100/df1['Total '],\n",
    "    marker_color=\"#fc0d1b\",\n",
    "    hovertemplate='<b>Industrial Processes and Product Use (IPPU)</b><br>' +\n",
    "    '%{x}<br>' +\n",
    "    '%{y}kTCO₂eq<br>' +\n",
    "    '%{text:.2f} %</sub><extra></extra>'\n",
    "                            )\n",
    "\n",
    "wasteTrace=go.Bar(\n",
    "    name=\"Waste\",\n",
    "    x=df1.Year,\n",
    "    y=df1['Waste ']/1000,\n",
    "    text=df1['Waste ']*100/df1['Total '],\n",
    "    marker_color=\"#262626\",\n",
    "    hovertemplate='<b>Agriculture</b><br>' +\n",
    "    '%{x}<br>' +\n",
    "    '%{y}kTCO₂eq<br>' +\n",
    "    '%{text:.2f} %</sub><extra></extra>'\n",
    "                            )\n"
   ]
  },
  {
   "cell_type": "code",
   "execution_count": 43,
   "metadata": {},
   "outputs": [
    {
     "data": {
      "application/vnd.plotly.v1+json": {
       "config": {
        "plotlyServerURL": "https://plot.ly"
       },
       "data": [
        {
         "hovertemplate": "<b>Energy</b><br>%{x}<br>%{y}kTCO₂eq<br>%{text:.2f} %</sub><extra></extra>",
         "marker": {
          "color": "#5182bb"
         },
         "name": "Energy",
         "text": [
          51.37050439129383,
          52.38016298469054,
          52.57245334881118,
          52.60036153653744,
          52.96231057666498,
          52.514372939717624,
          53.64281126247276,
          54.77279663387837,
          56.16487076147365,
          57.20622804375078,
          57.58522131872089,
          58.53764352495789,
          58.2847912090706,
          58.680724340542824,
          59.79325577071628,
          60.553481718327355,
          60.58023901476623,
          61.766021079225524,
          62.809608908833084,
          61.96425549254421,
          60.51174501611533,
          59.738193937502295,
          59.861161266297685,
          57.71226290292499,
          57.309543808016514,
          57.34733045920433,
          58.57180739587507,
          55.52956983053792,
          56.08097150900696
         ],
         "type": "bar",
         "x": [
          1990,
          1991,
          1992,
          1993,
          1994,
          1995,
          1996,
          1997,
          1998,
          1999,
          2000,
          2001,
          2002,
          2003,
          2004,
          2005,
          2006,
          2007,
          2008,
          2009,
          2010,
          2011,
          2012,
          2013,
          2014,
          2015,
          2016,
          2017,
          2018
         ],
         "y": [
          31.022103405485076,
          31.87307043109271,
          31.76460011930174,
          31.94319134940751,
          32.91237200355073,
          33.824925125121624,
          35.4394346358497,
          36.55049335953148,
          38.763594006055634,
          40.17736895608938,
          42.48577239510089,
          44.59369425786494,
          43.375183257668944,
          44.00883060904666,
          43.80799690886148,
          45.711734949910195,
          45.227679834764274,
          45.162457241267674,
          45.270620391229514,
          40.7983604290129,
          40.4279361670846,
          36.92588057506217,
          36.9988413485195,
          35.816789951067825,
          35.11471860500884,
          36.6659063981513,
          37.99808346044828,
          36.84001066285684,
          36.582867519792764
         ]
        },
        {
         "hovertemplate": "<b>Agriculture</b><br>%{x}<br>%{y}kTCO₂eq<br>%{text:.2f} %</sub><extra></extra>",
         "marker": {
          "color": "#fdbf2d"
         },
         "name": "Agriculture",
         "text": [
          32.431398301983045,
          32.25929985134814,
          32.4600963539429,
          32.570447476661336,
          31.908191430410824,
          31.505299743030236,
          31.312565209012984,
          31.04909170102133,
          30.60964492465215,
          29.533169013143365,
          26.806031293807965,
          25.490346346939425,
          25.641122273050403,
          25.721971554959826,
          25.968425826808698,
          24.81264435212733,
          24.618119176160807,
          24.739106089030464,
          24.79566883688187,
          26.756796674548998,
          26.591229217677036,
          27.7876525093552,
          28.42368020513975,
          29.7725897074588,
          29.89687804785852,
          29.06162658906774,
          29.417905602332734,
          29.576452280231216,
          30.587748414044125
         ],
         "type": "bar",
         "x": [
          1990,
          1991,
          1992,
          1993,
          1994,
          1995,
          1996,
          1997,
          1998,
          1999,
          2000,
          2001,
          2002,
          2003,
          2004,
          2005,
          2006,
          2007,
          2008,
          2009,
          2010,
          2011,
          2012,
          2013,
          2014,
          2015,
          2016,
          2017,
          2018
         ],
         "y": [
          19.58497787066894,
          19.629624606557197,
          19.61259014632454,
          19.7794084620527,
          19.828709413990218,
          20.2928140468479,
          20.686827962387508,
          20.71940250967073,
          21.12601404475492,
          20.741885428560916,
          19.77720877482206,
          19.41842279725282,
          19.081965542887165,
          19.29072794881714,
          19.025970465819412,
          18.73102899857764,
          18.379267403716902,
          18.088890969679287,
          17.871713114635494,
          17.61714759544579,
          17.76561751987591,
          17.176340133336783,
          17.568039313047933,
          18.4771578554292,
          18.318422902399167,
          18.581002319729727,
          19.084677116993852,
          19.62192072977273,
          19.953069960280754
         ]
        },
        {
         "hovertemplate": "<b>Land-Use Change and Forestry)</b><br>%{x}<br>%{y}kTCO₂eq<br>%{text:.2f} %</sub><extra></extra>",
         "marker": {
          "color": "#3dca3f"
         },
         "name": "Land-Use Change and Forestry (LULUCF)",
         "text": [
          8.148254292506001,
          7.728222902980307,
          7.294285091048234,
          7.1001349328642,
          7.051772632422048,
          8.145438679217845,
          7.313077848032291,
          6.242892925904009,
          5.7753793402219165,
          5.777904133219088,
          7.406821201903906,
          7.821397257900759,
          8.297794991753793,
          8.596420004106257,
          7.200599760641401,
          7.666920279271754,
          7.811534004075327,
          6.942936370208613,
          6.361777522503765,
          6.2351546290347235,
          8.280970066280915,
          7.532400141085017,
          6.5607553785876345,
          7.204584563459113,
          6.441288441524528,
          7.070490387886934,
          5.214567443110251,
          8.046320774229931,
          6.588288709431236
         ],
         "type": "bar",
         "x": [
          1990,
          1991,
          1992,
          1993,
          1994,
          1995,
          1996,
          1997,
          1998,
          1999,
          2000,
          2001,
          2002,
          2003,
          2004,
          2005,
          2006,
          2007,
          2008,
          2009,
          2010,
          2011,
          2012,
          2013,
          2014,
          2015,
          2016,
          2017,
          2018
         ],
         "y": [
          4.920644448240005,
          4.702585460947671,
          4.407251979207302,
          4.311775853661244,
          4.38218351192916,
          5.246541813459093,
          4.831427329826221,
          4.165951539005128,
          3.986022881207994,
          4.05796700974093,
          5.464675007734899,
          5.958302674746772,
          6.175168014428365,
          6.4470641093220165,
          5.2755757817525595,
          5.787746926236411,
          5.831894437864102,
          5.076578699252686,
          4.585311391649536,
          4.105335953186679,
          5.532521482432622,
          4.655991246475841,
          4.05505576978298,
          4.4712350376585634,
          3.9467079311524884,
          4.520627842227335,
          3.382917101639483,
          5.338174670252541,
          4.29768754987706
         ]
        },
        {
         "hovertemplate": "<b>Industrial Processes and Product Use (IPPU)</b><br>%{x}<br>%{y}kTCO₂eq<br>%{text:.2f} %</sub><extra></extra>",
         "marker": {
          "color": "#fc0d1b"
         },
         "name": "Industrial Processes and Product Use (IPPU)",
         "text": [
          5.479747229899027,
          4.948954161770117,
          4.862485611810039,
          4.850187558038302,
          5.192687380386616,
          4.995026012693095,
          5.1455046280412,
          5.788354523187129,
          5.312130722299207,
          5.374409177642527,
          6.178625043162104,
          6.043289304081913,
          5.478190630806749,
          4.646834895900469,
          5.01071022009792,
          5.255507251411921,
          5.211082110793166,
          5.391034327603346,
          5.070344069094976,
          4.251519390481728,
          3.8584020818605556,
          3.9833256802156107,
          4.3174627540560175,
          4.226755296767317,
          4.956852340176753,
          5.0561309302838495,
          5.3442770974643095,
          5.462191156501586,
          5.378475603628659
         ],
         "type": "bar",
         "x": [
          1990,
          1991,
          1992,
          1993,
          1994,
          1995,
          1996,
          1997,
          1998,
          1999,
          2000,
          2001,
          2002,
          2003,
          2004,
          2005,
          2006,
          2007,
          2008,
          2009,
          2010,
          2011,
          2012,
          2013,
          2014,
          2015,
          2016,
          2017,
          2018
         ],
         "y": [
          3.3091613021159696,
          3.011414160823658,
          2.9379437558338117,
          2.945425938552051,
          3.226892046449485,
          3.2173359676469415,
          3.3994075001341066,
          3.862633032535451,
          3.666300230633677,
          3.7745823808903434,
          4.558524761857883,
          4.603748619008798,
          4.076835785159481,
          3.484990550135377,
          3.671136067167543,
          3.9673747518164806,
          3.8904625853683656,
          3.9418494675947677,
          3.654498500987167,
          2.799275470753967,
          2.577800938162712,
          2.462207151978887,
          2.6685269060324126,
          2.623165320921867,
          3.037163856599026,
          3.232715837722666,
          3.4670654059330346,
          3.6237842479632882,
          3.5084994994136958
         ]
        },
        {
         "hovertemplate": "<b>Agriculture</b><br>%{x}<br>%{y}kTCO₂eq<br>%{text:.2f} %</sub><extra></extra>",
         "marker": {
          "color": "#262626"
         },
         "name": "Waste",
         "text": [
          2.5700957843180974,
          2.683360099210884,
          2.810679594387659,
          2.87886849589872,
          2.885037980115529,
          2.8398626253411967,
          2.586041052440773,
          2.146864216009157,
          2.1379742513530715,
          2.1082896322442415,
          2.023301142405138,
          2.1073235661200065,
          2.2981008953184467,
          2.3540492044906283,
          2.0270084217357085,
          1.711446398861645,
          1.7790256942044544,
          1.1609021339320578,
          0.962600662686325,
          0.7922738133903393,
          0.7576536180661617,
          0.9584277318418762,
          0.8369403959189071,
          1.0838075293897727,
          1.3954373624236827,
          1.4644216335571447,
          1.4514424612176415,
          1.3854659584993372,
          1.364515763889033
         ],
         "type": "bar",
         "x": [
          1990,
          1991,
          1992,
          1993,
          1994,
          1995,
          1996,
          1997,
          1998,
          1999,
          2000,
          2001,
          2002,
          2003,
          2004,
          2005,
          2006,
          2007,
          2008,
          2009,
          2010,
          2011,
          2012,
          2013,
          2014,
          2015,
          2016,
          2017,
          2018
         ],
         "y": [
          1.552053617690967,
          1.632811365232481,
          1.6982299225574204,
          1.7482816571592588,
          1.7928493340275653,
          1.8291780952628818,
          1.7084830322402094,
          1.4326262505012095,
          1.475576543687158,
          1.4807046945341844,
          1.4927703645905122,
          1.6053489199626403,
          1.7102325565770897,
          1.7654681984593714,
          1.4851035878384709,
          1.2919683880384278,
          1.3281757520911426,
          0.8488355258913881,
          0.693803542895332,
          0.5216470744340156,
          0.5061888745694259,
          0.5924315020779913,
          0.5172940897189836,
          0.6726214616265177,
          0.8550127440653111,
          0.9363007155430036,
          0.9416139646609318,
          0.9191603831959005,
          0.8901040419922861
         ]
        }
       ],
       "layout": {
        "barmode": "stack",
        "font": {
         "color": "#7f7f7f"
        },
        "height": 450,
        "hovermode": "closest",
        "legend": {
         "bgcolor": "rgba(0,0,0,0)",
         "itemclick": false,
         "itemdoubleclick": false,
         "orientation": "h"
        },
        "margin": {
         "b": 0,
         "l": 0,
         "r": 0,
         "t": 0
        },
        "paper_bgcolor": "rgba(0,0,0,0)",
        "plot_bgcolor": "#f7fbfd",
        "template": {
         "data": {
          "bar": [
           {
            "error_x": {
             "color": "#2a3f5f"
            },
            "error_y": {
             "color": "#2a3f5f"
            },
            "marker": {
             "line": {
              "color": "#E5ECF6",
              "width": 0.5
             }
            },
            "type": "bar"
           }
          ],
          "barpolar": [
           {
            "marker": {
             "line": {
              "color": "#E5ECF6",
              "width": 0.5
             }
            },
            "type": "barpolar"
           }
          ],
          "carpet": [
           {
            "aaxis": {
             "endlinecolor": "#2a3f5f",
             "gridcolor": "white",
             "linecolor": "white",
             "minorgridcolor": "white",
             "startlinecolor": "#2a3f5f"
            },
            "baxis": {
             "endlinecolor": "#2a3f5f",
             "gridcolor": "white",
             "linecolor": "white",
             "minorgridcolor": "white",
             "startlinecolor": "#2a3f5f"
            },
            "type": "carpet"
           }
          ],
          "choropleth": [
           {
            "colorbar": {
             "outlinewidth": 0,
             "ticks": ""
            },
            "type": "choropleth"
           }
          ],
          "contour": [
           {
            "colorbar": {
             "outlinewidth": 0,
             "ticks": ""
            },
            "colorscale": [
             [
              0,
              "#0d0887"
             ],
             [
              0.1111111111111111,
              "#46039f"
             ],
             [
              0.2222222222222222,
              "#7201a8"
             ],
             [
              0.3333333333333333,
              "#9c179e"
             ],
             [
              0.4444444444444444,
              "#bd3786"
             ],
             [
              0.5555555555555556,
              "#d8576b"
             ],
             [
              0.6666666666666666,
              "#ed7953"
             ],
             [
              0.7777777777777778,
              "#fb9f3a"
             ],
             [
              0.8888888888888888,
              "#fdca26"
             ],
             [
              1,
              "#f0f921"
             ]
            ],
            "type": "contour"
           }
          ],
          "contourcarpet": [
           {
            "colorbar": {
             "outlinewidth": 0,
             "ticks": ""
            },
            "type": "contourcarpet"
           }
          ],
          "heatmap": [
           {
            "colorbar": {
             "outlinewidth": 0,
             "ticks": ""
            },
            "colorscale": [
             [
              0,
              "#0d0887"
             ],
             [
              0.1111111111111111,
              "#46039f"
             ],
             [
              0.2222222222222222,
              "#7201a8"
             ],
             [
              0.3333333333333333,
              "#9c179e"
             ],
             [
              0.4444444444444444,
              "#bd3786"
             ],
             [
              0.5555555555555556,
              "#d8576b"
             ],
             [
              0.6666666666666666,
              "#ed7953"
             ],
             [
              0.7777777777777778,
              "#fb9f3a"
             ],
             [
              0.8888888888888888,
              "#fdca26"
             ],
             [
              1,
              "#f0f921"
             ]
            ],
            "type": "heatmap"
           }
          ],
          "heatmapgl": [
           {
            "colorbar": {
             "outlinewidth": 0,
             "ticks": ""
            },
            "colorscale": [
             [
              0,
              "#0d0887"
             ],
             [
              0.1111111111111111,
              "#46039f"
             ],
             [
              0.2222222222222222,
              "#7201a8"
             ],
             [
              0.3333333333333333,
              "#9c179e"
             ],
             [
              0.4444444444444444,
              "#bd3786"
             ],
             [
              0.5555555555555556,
              "#d8576b"
             ],
             [
              0.6666666666666666,
              "#ed7953"
             ],
             [
              0.7777777777777778,
              "#fb9f3a"
             ],
             [
              0.8888888888888888,
              "#fdca26"
             ],
             [
              1,
              "#f0f921"
             ]
            ],
            "type": "heatmapgl"
           }
          ],
          "histogram": [
           {
            "marker": {
             "colorbar": {
              "outlinewidth": 0,
              "ticks": ""
             }
            },
            "type": "histogram"
           }
          ],
          "histogram2d": [
           {
            "colorbar": {
             "outlinewidth": 0,
             "ticks": ""
            },
            "colorscale": [
             [
              0,
              "#0d0887"
             ],
             [
              0.1111111111111111,
              "#46039f"
             ],
             [
              0.2222222222222222,
              "#7201a8"
             ],
             [
              0.3333333333333333,
              "#9c179e"
             ],
             [
              0.4444444444444444,
              "#bd3786"
             ],
             [
              0.5555555555555556,
              "#d8576b"
             ],
             [
              0.6666666666666666,
              "#ed7953"
             ],
             [
              0.7777777777777778,
              "#fb9f3a"
             ],
             [
              0.8888888888888888,
              "#fdca26"
             ],
             [
              1,
              "#f0f921"
             ]
            ],
            "type": "histogram2d"
           }
          ],
          "histogram2dcontour": [
           {
            "colorbar": {
             "outlinewidth": 0,
             "ticks": ""
            },
            "colorscale": [
             [
              0,
              "#0d0887"
             ],
             [
              0.1111111111111111,
              "#46039f"
             ],
             [
              0.2222222222222222,
              "#7201a8"
             ],
             [
              0.3333333333333333,
              "#9c179e"
             ],
             [
              0.4444444444444444,
              "#bd3786"
             ],
             [
              0.5555555555555556,
              "#d8576b"
             ],
             [
              0.6666666666666666,
              "#ed7953"
             ],
             [
              0.7777777777777778,
              "#fb9f3a"
             ],
             [
              0.8888888888888888,
              "#fdca26"
             ],
             [
              1,
              "#f0f921"
             ]
            ],
            "type": "histogram2dcontour"
           }
          ],
          "mesh3d": [
           {
            "colorbar": {
             "outlinewidth": 0,
             "ticks": ""
            },
            "type": "mesh3d"
           }
          ],
          "parcoords": [
           {
            "line": {
             "colorbar": {
              "outlinewidth": 0,
              "ticks": ""
             }
            },
            "type": "parcoords"
           }
          ],
          "pie": [
           {
            "automargin": true,
            "type": "pie"
           }
          ],
          "scatter": [
           {
            "marker": {
             "colorbar": {
              "outlinewidth": 0,
              "ticks": ""
             }
            },
            "type": "scatter"
           }
          ],
          "scatter3d": [
           {
            "line": {
             "colorbar": {
              "outlinewidth": 0,
              "ticks": ""
             }
            },
            "marker": {
             "colorbar": {
              "outlinewidth": 0,
              "ticks": ""
             }
            },
            "type": "scatter3d"
           }
          ],
          "scattercarpet": [
           {
            "marker": {
             "colorbar": {
              "outlinewidth": 0,
              "ticks": ""
             }
            },
            "type": "scattercarpet"
           }
          ],
          "scattergeo": [
           {
            "marker": {
             "colorbar": {
              "outlinewidth": 0,
              "ticks": ""
             }
            },
            "type": "scattergeo"
           }
          ],
          "scattergl": [
           {
            "marker": {
             "colorbar": {
              "outlinewidth": 0,
              "ticks": ""
             }
            },
            "type": "scattergl"
           }
          ],
          "scattermapbox": [
           {
            "marker": {
             "colorbar": {
              "outlinewidth": 0,
              "ticks": ""
             }
            },
            "type": "scattermapbox"
           }
          ],
          "scatterpolar": [
           {
            "marker": {
             "colorbar": {
              "outlinewidth": 0,
              "ticks": ""
             }
            },
            "type": "scatterpolar"
           }
          ],
          "scatterpolargl": [
           {
            "marker": {
             "colorbar": {
              "outlinewidth": 0,
              "ticks": ""
             }
            },
            "type": "scatterpolargl"
           }
          ],
          "scatterternary": [
           {
            "marker": {
             "colorbar": {
              "outlinewidth": 0,
              "ticks": ""
             }
            },
            "type": "scatterternary"
           }
          ],
          "surface": [
           {
            "colorbar": {
             "outlinewidth": 0,
             "ticks": ""
            },
            "colorscale": [
             [
              0,
              "#0d0887"
             ],
             [
              0.1111111111111111,
              "#46039f"
             ],
             [
              0.2222222222222222,
              "#7201a8"
             ],
             [
              0.3333333333333333,
              "#9c179e"
             ],
             [
              0.4444444444444444,
              "#bd3786"
             ],
             [
              0.5555555555555556,
              "#d8576b"
             ],
             [
              0.6666666666666666,
              "#ed7953"
             ],
             [
              0.7777777777777778,
              "#fb9f3a"
             ],
             [
              0.8888888888888888,
              "#fdca26"
             ],
             [
              1,
              "#f0f921"
             ]
            ],
            "type": "surface"
           }
          ],
          "table": [
           {
            "cells": {
             "fill": {
              "color": "#EBF0F8"
             },
             "line": {
              "color": "white"
             }
            },
            "header": {
             "fill": {
              "color": "#C8D4E3"
             },
             "line": {
              "color": "white"
             }
            },
            "type": "table"
           }
          ]
         },
         "layout": {
          "annotationdefaults": {
           "arrowcolor": "#2a3f5f",
           "arrowhead": 0,
           "arrowwidth": 1
          },
          "autotypenumbers": "strict",
          "coloraxis": {
           "colorbar": {
            "outlinewidth": 0,
            "ticks": ""
           }
          },
          "colorscale": {
           "diverging": [
            [
             0,
             "#8e0152"
            ],
            [
             0.1,
             "#c51b7d"
            ],
            [
             0.2,
             "#de77ae"
            ],
            [
             0.3,
             "#f1b6da"
            ],
            [
             0.4,
             "#fde0ef"
            ],
            [
             0.5,
             "#f7f7f7"
            ],
            [
             0.6,
             "#e6f5d0"
            ],
            [
             0.7,
             "#b8e186"
            ],
            [
             0.8,
             "#7fbc41"
            ],
            [
             0.9,
             "#4d9221"
            ],
            [
             1,
             "#276419"
            ]
           ],
           "sequential": [
            [
             0,
             "#0d0887"
            ],
            [
             0.1111111111111111,
             "#46039f"
            ],
            [
             0.2222222222222222,
             "#7201a8"
            ],
            [
             0.3333333333333333,
             "#9c179e"
            ],
            [
             0.4444444444444444,
             "#bd3786"
            ],
            [
             0.5555555555555556,
             "#d8576b"
            ],
            [
             0.6666666666666666,
             "#ed7953"
            ],
            [
             0.7777777777777778,
             "#fb9f3a"
            ],
            [
             0.8888888888888888,
             "#fdca26"
            ],
            [
             1,
             "#f0f921"
            ]
           ],
           "sequentialminus": [
            [
             0,
             "#0d0887"
            ],
            [
             0.1111111111111111,
             "#46039f"
            ],
            [
             0.2222222222222222,
             "#7201a8"
            ],
            [
             0.3333333333333333,
             "#9c179e"
            ],
            [
             0.4444444444444444,
             "#bd3786"
            ],
            [
             0.5555555555555556,
             "#d8576b"
            ],
            [
             0.6666666666666666,
             "#ed7953"
            ],
            [
             0.7777777777777778,
             "#fb9f3a"
            ],
            [
             0.8888888888888888,
             "#fdca26"
            ],
            [
             1,
             "#f0f921"
            ]
           ]
          },
          "colorway": [
           "#636efa",
           "#EF553B",
           "#00cc96",
           "#ab63fa",
           "#FFA15A",
           "#19d3f3",
           "#FF6692",
           "#B6E880",
           "#FF97FF",
           "#FECB52"
          ],
          "font": {
           "color": "#2a3f5f"
          },
          "geo": {
           "bgcolor": "white",
           "lakecolor": "white",
           "landcolor": "#E5ECF6",
           "showlakes": true,
           "showland": true,
           "subunitcolor": "white"
          },
          "hoverlabel": {
           "align": "left"
          },
          "hovermode": "closest",
          "mapbox": {
           "style": "light"
          },
          "paper_bgcolor": "white",
          "plot_bgcolor": "#E5ECF6",
          "polar": {
           "angularaxis": {
            "gridcolor": "white",
            "linecolor": "white",
            "ticks": ""
           },
           "bgcolor": "#E5ECF6",
           "radialaxis": {
            "gridcolor": "white",
            "linecolor": "white",
            "ticks": ""
           }
          },
          "scene": {
           "xaxis": {
            "backgroundcolor": "#E5ECF6",
            "gridcolor": "white",
            "gridwidth": 2,
            "linecolor": "white",
            "showbackground": true,
            "ticks": "",
            "zerolinecolor": "white"
           },
           "yaxis": {
            "backgroundcolor": "#E5ECF6",
            "gridcolor": "white",
            "gridwidth": 2,
            "linecolor": "white",
            "showbackground": true,
            "ticks": "",
            "zerolinecolor": "white"
           },
           "zaxis": {
            "backgroundcolor": "#E5ECF6",
            "gridcolor": "white",
            "gridwidth": 2,
            "linecolor": "white",
            "showbackground": true,
            "ticks": "",
            "zerolinecolor": "white"
           }
          },
          "shapedefaults": {
           "line": {
            "color": "#2a3f5f"
           }
          },
          "ternary": {
           "aaxis": {
            "gridcolor": "white",
            "linecolor": "white",
            "ticks": ""
           },
           "baxis": {
            "gridcolor": "white",
            "linecolor": "white",
            "ticks": ""
           },
           "bgcolor": "#E5ECF6",
           "caxis": {
            "gridcolor": "white",
            "linecolor": "white",
            "ticks": ""
           }
          },
          "title": {
           "x": 0.05
          },
          "xaxis": {
           "automargin": true,
           "gridcolor": "white",
           "linecolor": "white",
           "ticks": "",
           "title": {
            "standoff": 15
           },
           "zerolinecolor": "white",
           "zerolinewidth": 2
          },
          "yaxis": {
           "automargin": true,
           "gridcolor": "white",
           "linecolor": "white",
           "ticks": "",
           "title": {
            "standoff": 15
           },
           "zerolinecolor": "white",
           "zerolinewidth": 2
          }
         }
        },
        "xaxis": {
         "showgrid": false
        }
       }
      },
      "text/html": [
       "<div>                            <div id=\"9d06ad77-4fbc-4cf6-b040-5084736f79d4\" class=\"plotly-graph-div\" style=\"height:450px; width:100%;\"></div>            <script type=\"text/javascript\">                require([\"plotly\"], function(Plotly) {                    window.PLOTLYENV=window.PLOTLYENV || {};                                    if (document.getElementById(\"9d06ad77-4fbc-4cf6-b040-5084736f79d4\")) {                    Plotly.newPlot(                       \"9d06ad77-4fbc-4cf6-b040-5084736f79d4\",                        [{\"hovertemplate\": \"<b>Energy</b><br>%{x}<br>%{y}kTCO₂eq<br>%{text:.2f} %</sub><extra></extra>\", \"marker\": {\"color\": \"#5182bb\"}, \"name\": \"Energy\", \"text\": [51.37050439129383, 52.38016298469054, 52.57245334881118, 52.60036153653744, 52.96231057666498, 52.514372939717624, 53.64281126247276, 54.77279663387837, 56.16487076147365, 57.20622804375078, 57.58522131872089, 58.53764352495789, 58.2847912090706, 58.680724340542824, 59.79325577071628, 60.553481718327355, 60.58023901476623, 61.766021079225524, 62.809608908833084, 61.96425549254421, 60.51174501611533, 59.738193937502295, 59.861161266297685, 57.71226290292499, 57.309543808016514, 57.34733045920433, 58.57180739587507, 55.52956983053792, 56.08097150900696], \"type\": \"bar\", \"x\": [1990.0, 1991.0, 1992.0, 1993.0, 1994.0, 1995.0, 1996.0, 1997.0, 1998.0, 1999.0, 2000.0, 2001.0, 2002.0, 2003.0, 2004.0, 2005.0, 2006.0, 2007.0, 2008.0, 2009.0, 2010.0, 2011.0, 2012.0, 2013.0, 2014.0, 2015.0, 2016.0, 2017.0, 2018.0], \"y\": [31.022103405485076, 31.87307043109271, 31.76460011930174, 31.94319134940751, 32.91237200355073, 33.824925125121624, 35.4394346358497, 36.55049335953148, 38.763594006055634, 40.17736895608938, 42.48577239510089, 44.59369425786494, 43.375183257668944, 44.00883060904666, 43.80799690886148, 45.711734949910195, 45.227679834764274, 45.162457241267674, 45.270620391229514, 40.7983604290129, 40.4279361670846, 36.92588057506217, 36.9988413485195, 35.816789951067825, 35.11471860500884, 36.6659063981513, 37.99808346044828, 36.84001066285684, 36.582867519792764]}, {\"hovertemplate\": \"<b>Agriculture</b><br>%{x}<br>%{y}kTCO₂eq<br>%{text:.2f} %</sub><extra></extra>\", \"marker\": {\"color\": \"#fdbf2d\"}, \"name\": \"Agriculture\", \"text\": [32.431398301983045, 32.25929985134814, 32.4600963539429, 32.570447476661336, 31.908191430410824, 31.505299743030236, 31.312565209012984, 31.04909170102133, 30.60964492465215, 29.533169013143365, 26.806031293807965, 25.490346346939425, 25.641122273050403, 25.721971554959826, 25.968425826808698, 24.81264435212733, 24.618119176160807, 24.739106089030464, 24.79566883688187, 26.756796674548998, 26.591229217677036, 27.7876525093552, 28.42368020513975, 29.7725897074588, 29.89687804785852, 29.06162658906774, 29.417905602332734, 29.576452280231216, 30.587748414044125], \"type\": \"bar\", \"x\": [1990.0, 1991.0, 1992.0, 1993.0, 1994.0, 1995.0, 1996.0, 1997.0, 1998.0, 1999.0, 2000.0, 2001.0, 2002.0, 2003.0, 2004.0, 2005.0, 2006.0, 2007.0, 2008.0, 2009.0, 2010.0, 2011.0, 2012.0, 2013.0, 2014.0, 2015.0, 2016.0, 2017.0, 2018.0], \"y\": [19.58497787066894, 19.629624606557197, 19.61259014632454, 19.7794084620527, 19.828709413990218, 20.2928140468479, 20.686827962387508, 20.71940250967073, 21.12601404475492, 20.741885428560916, 19.77720877482206, 19.41842279725282, 19.081965542887165, 19.29072794881714, 19.025970465819412, 18.73102899857764, 18.379267403716902, 18.088890969679287, 17.871713114635494, 17.61714759544579, 17.76561751987591, 17.176340133336783, 17.568039313047933, 18.4771578554292, 18.318422902399167, 18.581002319729727, 19.084677116993852, 19.62192072977273, 19.953069960280754]}, {\"hovertemplate\": \"<b>Land-Use Change and Forestry)</b><br>%{x}<br>%{y}kTCO₂eq<br>%{text:.2f} %</sub><extra></extra>\", \"marker\": {\"color\": \"#3dca3f\"}, \"name\": \"Land-Use Change and Forestry (LULUCF)\", \"text\": [8.148254292506001, 7.728222902980307, 7.294285091048234, 7.1001349328642, 7.051772632422048, 8.145438679217845, 7.313077848032291, 6.242892925904009, 5.7753793402219165, 5.777904133219088, 7.406821201903906, 7.821397257900759, 8.297794991753793, 8.596420004106257, 7.200599760641401, 7.666920279271754, 7.811534004075327, 6.942936370208613, 6.361777522503765, 6.2351546290347235, 8.280970066280915, 7.532400141085017, 6.5607553785876345, 7.204584563459113, 6.441288441524528, 7.070490387886934, 5.214567443110251, 8.046320774229931, 6.588288709431236], \"type\": \"bar\", \"x\": [1990.0, 1991.0, 1992.0, 1993.0, 1994.0, 1995.0, 1996.0, 1997.0, 1998.0, 1999.0, 2000.0, 2001.0, 2002.0, 2003.0, 2004.0, 2005.0, 2006.0, 2007.0, 2008.0, 2009.0, 2010.0, 2011.0, 2012.0, 2013.0, 2014.0, 2015.0, 2016.0, 2017.0, 2018.0], \"y\": [4.920644448240005, 4.702585460947671, 4.407251979207302, 4.311775853661244, 4.38218351192916, 5.246541813459093, 4.831427329826221, 4.165951539005128, 3.986022881207994, 4.05796700974093, 5.464675007734899, 5.958302674746772, 6.175168014428365, 6.4470641093220165, 5.2755757817525595, 5.787746926236411, 5.831894437864102, 5.076578699252686, 4.585311391649536, 4.105335953186679, 5.532521482432622, 4.655991246475841, 4.05505576978298, 4.4712350376585634, 3.9467079311524884, 4.520627842227335, 3.382917101639483, 5.338174670252541, 4.29768754987706]}, {\"hovertemplate\": \"<b>Industrial Processes and Product Use (IPPU)</b><br>%{x}<br>%{y}kTCO₂eq<br>%{text:.2f} %</sub><extra></extra>\", \"marker\": {\"color\": \"#fc0d1b\"}, \"name\": \"Industrial Processes and Product Use (IPPU)\", \"text\": [5.479747229899027, 4.948954161770117, 4.862485611810039, 4.850187558038302, 5.192687380386616, 4.995026012693095, 5.1455046280412, 5.788354523187129, 5.312130722299207, 5.374409177642527, 6.178625043162104, 6.043289304081913, 5.478190630806749, 4.646834895900469, 5.01071022009792, 5.255507251411921, 5.211082110793166, 5.391034327603346, 5.070344069094976, 4.251519390481728, 3.8584020818605556, 3.9833256802156107, 4.3174627540560175, 4.226755296767317, 4.956852340176753, 5.0561309302838495, 5.3442770974643095, 5.462191156501586, 5.378475603628659], \"type\": \"bar\", \"x\": [1990.0, 1991.0, 1992.0, 1993.0, 1994.0, 1995.0, 1996.0, 1997.0, 1998.0, 1999.0, 2000.0, 2001.0, 2002.0, 2003.0, 2004.0, 2005.0, 2006.0, 2007.0, 2008.0, 2009.0, 2010.0, 2011.0, 2012.0, 2013.0, 2014.0, 2015.0, 2016.0, 2017.0, 2018.0], \"y\": [3.3091613021159696, 3.011414160823658, 2.9379437558338117, 2.945425938552051, 3.226892046449485, 3.2173359676469415, 3.3994075001341066, 3.862633032535451, 3.666300230633677, 3.7745823808903434, 4.558524761857883, 4.603748619008798, 4.076835785159481, 3.484990550135377, 3.671136067167543, 3.9673747518164806, 3.8904625853683656, 3.9418494675947677, 3.654498500987167, 2.799275470753967, 2.577800938162712, 2.462207151978887, 2.6685269060324126, 2.623165320921867, 3.037163856599026, 3.232715837722666, 3.4670654059330346, 3.6237842479632882, 3.5084994994136958]}, {\"hovertemplate\": \"<b>Agriculture</b><br>%{x}<br>%{y}kTCO₂eq<br>%{text:.2f} %</sub><extra></extra>\", \"marker\": {\"color\": \"#262626\"}, \"name\": \"Waste\", \"text\": [2.5700957843180974, 2.683360099210884, 2.810679594387659, 2.87886849589872, 2.885037980115529, 2.8398626253411967, 2.586041052440773, 2.146864216009157, 2.1379742513530715, 2.1082896322442415, 2.023301142405138, 2.1073235661200065, 2.2981008953184467, 2.3540492044906283, 2.0270084217357085, 1.711446398861645, 1.7790256942044544, 1.1609021339320578, 0.962600662686325, 0.7922738133903393, 0.7576536180661617, 0.9584277318418762, 0.8369403959189071, 1.0838075293897727, 1.3954373624236827, 1.4644216335571447, 1.4514424612176415, 1.3854659584993372, 1.364515763889033], \"type\": \"bar\", \"x\": [1990.0, 1991.0, 1992.0, 1993.0, 1994.0, 1995.0, 1996.0, 1997.0, 1998.0, 1999.0, 2000.0, 2001.0, 2002.0, 2003.0, 2004.0, 2005.0, 2006.0, 2007.0, 2008.0, 2009.0, 2010.0, 2011.0, 2012.0, 2013.0, 2014.0, 2015.0, 2016.0, 2017.0, 2018.0], \"y\": [1.552053617690967, 1.632811365232481, 1.6982299225574204, 1.7482816571592588, 1.7928493340275653, 1.8291780952628818, 1.7084830322402094, 1.4326262505012095, 1.475576543687158, 1.4807046945341844, 1.4927703645905122, 1.6053489199626403, 1.7102325565770897, 1.7654681984593714, 1.4851035878384709, 1.2919683880384278, 1.3281757520911426, 0.8488355258913881, 0.693803542895332, 0.5216470744340156, 0.5061888745694259, 0.5924315020779913, 0.5172940897189836, 0.6726214616265177, 0.8550127440653111, 0.9363007155430036, 0.9416139646609318, 0.9191603831959005, 0.8901040419922861]}],                        {\"barmode\": \"stack\", \"font\": {\"color\": \"#7f7f7f\"}, \"height\": 450, \"hovermode\": \"closest\", \"legend\": {\"bgcolor\": \"rgba(0,0,0,0)\", \"itemclick\": false, \"itemdoubleclick\": false, \"orientation\": \"h\"}, \"margin\": {\"b\": 0, \"l\": 0, \"r\": 0, \"t\": 0}, \"paper_bgcolor\": \"rgba(0,0,0,0)\", \"plot_bgcolor\": \"#f7fbfd\", \"template\": {\"data\": {\"bar\": [{\"error_x\": {\"color\": \"#2a3f5f\"}, \"error_y\": {\"color\": \"#2a3f5f\"}, \"marker\": {\"line\": {\"color\": \"#E5ECF6\", \"width\": 0.5}}, \"type\": \"bar\"}], \"barpolar\": [{\"marker\": {\"line\": {\"color\": \"#E5ECF6\", \"width\": 0.5}}, \"type\": \"barpolar\"}], \"carpet\": [{\"aaxis\": {\"endlinecolor\": \"#2a3f5f\", \"gridcolor\": \"white\", \"linecolor\": \"white\", \"minorgridcolor\": \"white\", \"startlinecolor\": \"#2a3f5f\"}, \"baxis\": {\"endlinecolor\": \"#2a3f5f\", \"gridcolor\": \"white\", \"linecolor\": \"white\", \"minorgridcolor\": \"white\", \"startlinecolor\": \"#2a3f5f\"}, \"type\": \"carpet\"}], \"choropleth\": [{\"colorbar\": {\"outlinewidth\": 0, \"ticks\": \"\"}, \"type\": \"choropleth\"}], \"contour\": [{\"colorbar\": {\"outlinewidth\": 0, \"ticks\": \"\"}, \"colorscale\": [[0.0, \"#0d0887\"], [0.1111111111111111, \"#46039f\"], [0.2222222222222222, \"#7201a8\"], [0.3333333333333333, \"#9c179e\"], [0.4444444444444444, \"#bd3786\"], [0.5555555555555556, \"#d8576b\"], [0.6666666666666666, \"#ed7953\"], [0.7777777777777778, \"#fb9f3a\"], [0.8888888888888888, \"#fdca26\"], [1.0, \"#f0f921\"]], \"type\": \"contour\"}], \"contourcarpet\": [{\"colorbar\": {\"outlinewidth\": 0, \"ticks\": \"\"}, \"type\": \"contourcarpet\"}], \"heatmap\": [{\"colorbar\": {\"outlinewidth\": 0, \"ticks\": \"\"}, \"colorscale\": [[0.0, \"#0d0887\"], [0.1111111111111111, \"#46039f\"], [0.2222222222222222, \"#7201a8\"], [0.3333333333333333, \"#9c179e\"], [0.4444444444444444, \"#bd3786\"], [0.5555555555555556, \"#d8576b\"], [0.6666666666666666, \"#ed7953\"], [0.7777777777777778, \"#fb9f3a\"], [0.8888888888888888, \"#fdca26\"], [1.0, \"#f0f921\"]], \"type\": \"heatmap\"}], \"heatmapgl\": [{\"colorbar\": {\"outlinewidth\": 0, \"ticks\": \"\"}, \"colorscale\": [[0.0, \"#0d0887\"], [0.1111111111111111, \"#46039f\"], [0.2222222222222222, \"#7201a8\"], [0.3333333333333333, \"#9c179e\"], [0.4444444444444444, \"#bd3786\"], [0.5555555555555556, \"#d8576b\"], [0.6666666666666666, \"#ed7953\"], [0.7777777777777778, \"#fb9f3a\"], [0.8888888888888888, \"#fdca26\"], [1.0, \"#f0f921\"]], \"type\": \"heatmapgl\"}], \"histogram\": [{\"marker\": {\"colorbar\": {\"outlinewidth\": 0, \"ticks\": \"\"}}, \"type\": \"histogram\"}], \"histogram2d\": [{\"colorbar\": {\"outlinewidth\": 0, \"ticks\": \"\"}, \"colorscale\": [[0.0, \"#0d0887\"], [0.1111111111111111, \"#46039f\"], [0.2222222222222222, \"#7201a8\"], [0.3333333333333333, \"#9c179e\"], [0.4444444444444444, \"#bd3786\"], [0.5555555555555556, \"#d8576b\"], [0.6666666666666666, \"#ed7953\"], [0.7777777777777778, \"#fb9f3a\"], [0.8888888888888888, \"#fdca26\"], [1.0, \"#f0f921\"]], \"type\": \"histogram2d\"}], \"histogram2dcontour\": [{\"colorbar\": {\"outlinewidth\": 0, \"ticks\": \"\"}, \"colorscale\": [[0.0, \"#0d0887\"], [0.1111111111111111, \"#46039f\"], [0.2222222222222222, \"#7201a8\"], [0.3333333333333333, \"#9c179e\"], [0.4444444444444444, \"#bd3786\"], [0.5555555555555556, \"#d8576b\"], [0.6666666666666666, \"#ed7953\"], [0.7777777777777778, \"#fb9f3a\"], [0.8888888888888888, \"#fdca26\"], [1.0, \"#f0f921\"]], \"type\": \"histogram2dcontour\"}], \"mesh3d\": [{\"colorbar\": {\"outlinewidth\": 0, \"ticks\": \"\"}, \"type\": \"mesh3d\"}], \"parcoords\": [{\"line\": {\"colorbar\": {\"outlinewidth\": 0, \"ticks\": \"\"}}, \"type\": \"parcoords\"}], \"pie\": [{\"automargin\": true, \"type\": \"pie\"}], \"scatter\": [{\"marker\": {\"colorbar\": {\"outlinewidth\": 0, \"ticks\": \"\"}}, \"type\": \"scatter\"}], \"scatter3d\": [{\"line\": {\"colorbar\": {\"outlinewidth\": 0, \"ticks\": \"\"}}, \"marker\": {\"colorbar\": {\"outlinewidth\": 0, \"ticks\": \"\"}}, \"type\": \"scatter3d\"}], \"scattercarpet\": [{\"marker\": {\"colorbar\": {\"outlinewidth\": 0, \"ticks\": \"\"}}, \"type\": \"scattercarpet\"}], \"scattergeo\": [{\"marker\": {\"colorbar\": {\"outlinewidth\": 0, \"ticks\": \"\"}}, \"type\": \"scattergeo\"}], \"scattergl\": [{\"marker\": {\"colorbar\": {\"outlinewidth\": 0, \"ticks\": \"\"}}, \"type\": \"scattergl\"}], \"scattermapbox\": [{\"marker\": {\"colorbar\": {\"outlinewidth\": 0, \"ticks\": \"\"}}, \"type\": \"scattermapbox\"}], \"scatterpolar\": [{\"marker\": {\"colorbar\": {\"outlinewidth\": 0, \"ticks\": \"\"}}, \"type\": \"scatterpolar\"}], \"scatterpolargl\": [{\"marker\": {\"colorbar\": {\"outlinewidth\": 0, \"ticks\": \"\"}}, \"type\": \"scatterpolargl\"}], \"scatterternary\": [{\"marker\": {\"colorbar\": {\"outlinewidth\": 0, \"ticks\": \"\"}}, \"type\": \"scatterternary\"}], \"surface\": [{\"colorbar\": {\"outlinewidth\": 0, \"ticks\": \"\"}, \"colorscale\": [[0.0, \"#0d0887\"], [0.1111111111111111, \"#46039f\"], [0.2222222222222222, \"#7201a8\"], [0.3333333333333333, \"#9c179e\"], [0.4444444444444444, \"#bd3786\"], [0.5555555555555556, \"#d8576b\"], [0.6666666666666666, \"#ed7953\"], [0.7777777777777778, \"#fb9f3a\"], [0.8888888888888888, \"#fdca26\"], [1.0, \"#f0f921\"]], \"type\": \"surface\"}], \"table\": [{\"cells\": {\"fill\": {\"color\": \"#EBF0F8\"}, \"line\": {\"color\": \"white\"}}, \"header\": {\"fill\": {\"color\": \"#C8D4E3\"}, \"line\": {\"color\": \"white\"}}, \"type\": \"table\"}]}, \"layout\": {\"annotationdefaults\": {\"arrowcolor\": \"#2a3f5f\", \"arrowhead\": 0, \"arrowwidth\": 1}, \"autotypenumbers\": \"strict\", \"coloraxis\": {\"colorbar\": {\"outlinewidth\": 0, \"ticks\": \"\"}}, \"colorscale\": {\"diverging\": [[0, \"#8e0152\"], [0.1, \"#c51b7d\"], [0.2, \"#de77ae\"], [0.3, \"#f1b6da\"], [0.4, \"#fde0ef\"], [0.5, \"#f7f7f7\"], [0.6, \"#e6f5d0\"], [0.7, \"#b8e186\"], [0.8, \"#7fbc41\"], [0.9, \"#4d9221\"], [1, \"#276419\"]], \"sequential\": [[0.0, \"#0d0887\"], [0.1111111111111111, \"#46039f\"], [0.2222222222222222, \"#7201a8\"], [0.3333333333333333, \"#9c179e\"], [0.4444444444444444, \"#bd3786\"], [0.5555555555555556, \"#d8576b\"], [0.6666666666666666, \"#ed7953\"], [0.7777777777777778, \"#fb9f3a\"], [0.8888888888888888, \"#fdca26\"], [1.0, \"#f0f921\"]], \"sequentialminus\": [[0.0, \"#0d0887\"], [0.1111111111111111, \"#46039f\"], [0.2222222222222222, \"#7201a8\"], [0.3333333333333333, \"#9c179e\"], [0.4444444444444444, \"#bd3786\"], [0.5555555555555556, \"#d8576b\"], [0.6666666666666666, \"#ed7953\"], [0.7777777777777778, \"#fb9f3a\"], [0.8888888888888888, \"#fdca26\"], [1.0, \"#f0f921\"]]}, \"colorway\": [\"#636efa\", \"#EF553B\", \"#00cc96\", \"#ab63fa\", \"#FFA15A\", \"#19d3f3\", \"#FF6692\", \"#B6E880\", \"#FF97FF\", \"#FECB52\"], \"font\": {\"color\": \"#2a3f5f\"}, \"geo\": {\"bgcolor\": \"white\", \"lakecolor\": \"white\", \"landcolor\": \"#E5ECF6\", \"showlakes\": true, \"showland\": true, \"subunitcolor\": \"white\"}, \"hoverlabel\": {\"align\": \"left\"}, \"hovermode\": \"closest\", \"mapbox\": {\"style\": \"light\"}, \"paper_bgcolor\": \"white\", \"plot_bgcolor\": \"#E5ECF6\", \"polar\": {\"angularaxis\": {\"gridcolor\": \"white\", \"linecolor\": \"white\", \"ticks\": \"\"}, \"bgcolor\": \"#E5ECF6\", \"radialaxis\": {\"gridcolor\": \"white\", \"linecolor\": \"white\", \"ticks\": \"\"}}, \"scene\": {\"xaxis\": {\"backgroundcolor\": \"#E5ECF6\", \"gridcolor\": \"white\", \"gridwidth\": 2, \"linecolor\": \"white\", \"showbackground\": true, \"ticks\": \"\", \"zerolinecolor\": \"white\"}, \"yaxis\": {\"backgroundcolor\": \"#E5ECF6\", \"gridcolor\": \"white\", \"gridwidth\": 2, \"linecolor\": \"white\", \"showbackground\": true, \"ticks\": \"\", \"zerolinecolor\": \"white\"}, \"zaxis\": {\"backgroundcolor\": \"#E5ECF6\", \"gridcolor\": \"white\", \"gridwidth\": 2, \"linecolor\": \"white\", \"showbackground\": true, \"ticks\": \"\", \"zerolinecolor\": \"white\"}}, \"shapedefaults\": {\"line\": {\"color\": \"#2a3f5f\"}}, \"ternary\": {\"aaxis\": {\"gridcolor\": \"white\", \"linecolor\": \"white\", \"ticks\": \"\"}, \"baxis\": {\"gridcolor\": \"white\", \"linecolor\": \"white\", \"ticks\": \"\"}, \"bgcolor\": \"#E5ECF6\", \"caxis\": {\"gridcolor\": \"white\", \"linecolor\": \"white\", \"ticks\": \"\"}}, \"title\": {\"x\": 0.05}, \"xaxis\": {\"automargin\": true, \"gridcolor\": \"white\", \"linecolor\": \"white\", \"ticks\": \"\", \"title\": {\"standoff\": 15}, \"zerolinecolor\": \"white\", \"zerolinewidth\": 2}, \"yaxis\": {\"automargin\": true, \"gridcolor\": \"white\", \"linecolor\": \"white\", \"ticks\": \"\", \"title\": {\"standoff\": 15}, \"zerolinecolor\": \"white\", \"zerolinewidth\": 2}}}, \"xaxis\": {\"showgrid\": false}},                        {\"responsive\": true}                    ).then(function(){\n",
       "                            \n",
       "var gd = document.getElementById('9d06ad77-4fbc-4cf6-b040-5084736f79d4');\n",
       "var x = new MutationObserver(function (mutations, observer) {{\n",
       "        var display = window.getComputedStyle(gd).display;\n",
       "        if (!display || display === 'none') {{\n",
       "            console.log([gd, 'removed!']);\n",
       "            Plotly.purge(gd);\n",
       "            observer.disconnect();\n",
       "        }}\n",
       "}});\n",
       "\n",
       "// Listen for the removal of the full notebook cells\n",
       "var notebookContainer = gd.closest('#notebook-container');\n",
       "if (notebookContainer) {{\n",
       "    x.observe(notebookContainer, {childList: true});\n",
       "}}\n",
       "\n",
       "// Listen for the clearing of the current output cell\n",
       "var outputEl = gd.closest('.output');\n",
       "if (outputEl) {{\n",
       "    x.observe(outputEl, {childList: true});\n",
       "}}\n",
       "\n",
       "                        })                };                });            </script>        </div>"
      ]
     },
     "metadata": {},
     "output_type": "display_data"
    }
   ],
   "source": [
    "figure_4_27=go.Figure(data=[\n",
    "    energyTrace,\n",
    "    agricultureTrace,\n",
    "    landuseTrace,\n",
    "    industryTrace,\n",
    "    wasteTrace,\n",
    "],\n",
    "layout=TIMESERIES_LAYOUT\n",
    "    )\n",
    "figure_4_27.update_layout(\n",
    "    barmode='stack')\n",
    "figure_4_27"
   ]
  },
  {
   "cell_type": "code",
   "execution_count": null,
   "metadata": {},
   "outputs": [],
   "source": []
  }
 ],
 "metadata": {
  "kernelspec": {
   "display_name": "Python 3",
   "language": "python",
   "name": "python3"
  },
  "language_info": {
   "codemirror_mode": {
    "name": "ipython",
    "version": 3
   },
   "file_extension": ".py",
   "mimetype": "text/x-python",
   "name": "python",
   "nbconvert_exporter": "python",
   "pygments_lexer": "ipython3",
   "version": "3.7.3"
  }
 },
 "nbformat": 4,
 "nbformat_minor": 2
}
